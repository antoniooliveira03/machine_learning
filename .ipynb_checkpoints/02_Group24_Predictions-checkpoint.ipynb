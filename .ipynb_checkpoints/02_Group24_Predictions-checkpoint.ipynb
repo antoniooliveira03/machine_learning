{
 "cells": [
  {
   "cell_type": "code",
   "execution_count": null,
   "id": "f7759daa",
   "metadata": {},
   "outputs": [],
   "source": []
  },
  {
   "cell_type": "markdown",
   "id": "d8fe9c0c",
   "metadata": {},
   "source": [
    "# 1. Importing Libraries & Data"
   ]
  },
  {
   "cell_type": "code",
   "execution_count": 3,
   "id": "8e5ced50",
   "metadata": {
    "ExecuteTime": {
     "end_time": "2024-11-07T10:07:07.742966Z",
     "start_time": "2024-11-07T10:07:07.187535Z"
    }
   },
   "outputs": [],
   "source": [
    "import pandas as pd\n",
    "\n",
    "import warnings\n",
    "warnings.filterwarnings(\"ignore\")"
   ]
  },
  {
   "cell_type": "markdown",
   "id": "a33bfd6a",
   "metadata": {},
   "source": [
    "**Import Data**"
   ]
  },
  {
   "cell_type": "code",
   "execution_count": 4,
   "id": "39e0a788",
   "metadata": {
    "ExecuteTime": {
     "end_time": "2024-11-07T10:07:11.313366Z",
     "start_time": "2024-11-07T10:07:07.746305Z"
    }
   },
   "outputs": [],
   "source": [
    "X_train = pd.read_csv('./project_data/x_train.csv', index_col = 'Claim Identifier')\n",
    "X_val = pd.read_csv('./project_data/x_val.csv', index_col = 'Claim Identifier')\n",
    "y_train = pd.read_csv('./project_data/y_train.csv', index_col = 'Claim Identifier')\n",
    "y_val = pd.read_csv('./project_data/y_val.csv', index_col = 'Claim Identifier')\n",
    "\n",
    "test = pd.read_csv('./project_data/test_treated.csv', index_col = 'Claim Identifier')"
   ]
  },
  {
   "cell_type": "markdown",
   "id": "21d55a70",
   "metadata": {},
   "source": [
    "# 2. Modelling\n",
    "\n",
    "<a href=\"#top\">Top &#129033;</a>"
   ]
  },
  {
   "cell_type": "markdown",
   "id": "19be33b9",
   "metadata": {},
   "source": [
    "**Baseline Model**"
   ]
  },
  {
   "cell_type": "code",
   "execution_count": null,
   "id": "5ad2b999",
   "metadata": {},
   "outputs": [],
   "source": [
    "model = \n",
    "model.fit(X_train, y_train)"
   ]
  },
  {
   "cell_type": "code",
   "execution_count": null,
   "id": "d299aa41",
   "metadata": {},
   "outputs": [],
   "source": [
    "train_pred = model.predict(X_train)\n",
    "val_pred = model.predict(X_val)"
   ]
  },
  {
   "cell_type": "code",
   "execution_count": null,
   "id": "10dc949a",
   "metadata": {},
   "outputs": [],
   "source": [
    "print(classification_report(y_train, train_pred))\n",
    "print(classification_report(y_val, val_pred))\n"
   ]
  },
  {
   "cell_type": "markdown",
   "id": "fc0ff139",
   "metadata": {},
   "source": [
    "## 2.1 Hyperparameter Tuning\n",
    "\n",
    "<a href=\"#top\">Top &#129033;</a>"
   ]
  },
  {
   "cell_type": "code",
   "execution_count": null,
   "id": "a2b5ddc1",
   "metadata": {},
   "outputs": [],
   "source": []
  },
  {
   "cell_type": "markdown",
   "id": "67eeb05f",
   "metadata": {},
   "source": [
    "## 2.2 Voting Ensemble\n",
    "\n",
    "<a href=\"#top\">Top &#129033;</a>"
   ]
  },
  {
   "cell_type": "code",
   "execution_count": 1,
   "id": "b220b6ca",
   "metadata": {
    "ExecuteTime": {
     "end_time": "2024-11-07T10:06:36.976271Z",
     "start_time": "2024-11-07T10:06:32.591543Z"
    }
   },
   "outputs": [],
   "source": [
    "from sklearn.ensemble import VotingClassifier"
   ]
  },
  {
   "cell_type": "markdown",
   "id": "f641f1e5",
   "metadata": {},
   "source": [
    "# 3. Final Predictions\n",
    "\n",
    "<a href=\"#top\">Top &#129033;</a>"
   ]
  },
  {
   "cell_type": "code",
   "execution_count": null,
   "id": "c8c67e0d",
   "metadata": {},
   "outputs": [],
   "source": [
    "test['Claim Injury Type'] = model.predict(test)"
   ]
  },
  {
   "cell_type": "markdown",
   "id": "930d669a",
   "metadata": {},
   "source": [
    "Map Predictions to Original Values"
   ]
  },
  {
   "cell_type": "code",
   "execution_count": null,
   "id": "29442bbe",
   "metadata": {},
   "outputs": [],
   "source": [
    "label_mapping = {\n",
    "    1: \"1. CANCELLED\",\n",
    "    2: \"2. NON-COMP\",\n",
    "    3: \"3. MED ONLY\",\n",
    "    4: \"4. TEMPORARY\",\n",
    "    5: \"5. PPD SCH LOSS\",\n",
    "    6: \"6. PPD NSL\",\n",
    "    7: \"7. PTD\",Check each category inside target\n",
    "\n",
    "test['Claim Injury Type'].value_counts() \n",
    "    8: \"8. DEATH\"\n",
    "}\n",
    "\n",
    "test['Claim Injury Type'] = test['Claim Injury Type'].replace(label_mapping)"
   ]
  },
  {
   "cell_type": "markdown",
   "id": "d91011d4",
   "metadata": {},
   "source": [
    "Check each category inside the target"
   ]
  },
  {
   "cell_type": "code",
   "execution_count": null,
   "id": "8b314cbe",
   "metadata": {
    "ExecuteTime": {
     "end_time": "2024-11-02T17:47:41.525069Z",
     "start_time": "2024-11-02T17:47:41.470822Z"
    }
   },
   "outputs": [],
   "source": [
    "test['Claim Injury Type'].value_counts() "
   ]
  },
  {
   "cell_type": "markdown",
   "id": "ea057cf1",
   "metadata": {},
   "source": [
    "# 5. Export\n",
    "\n",
    "<a href=\"#top\">Top &#129033;</a>"
   ]
  },
  {
   "cell_type": "markdown",
   "id": "4c2b7c03",
   "metadata": {},
   "source": [
    "**Select Columns for predictions**"
   ]
  },
  {
   "cell_type": "code",
   "execution_count": null,
   "id": "4e8fce8c",
   "metadata": {},
   "outputs": [],
   "source": [
    "predictions = test['Claim Injury Type']"
   ]
  },
  {
   "cell_type": "markdown",
   "id": "97abf927",
   "metadata": {},
   "source": [
    "**Export**"
   ]
  },
  {
   "cell_type": "code",
   "execution_count": null,
   "id": "dd972819",
   "metadata": {},
   "outputs": [],
   "source": [
    "name = None"
   ]
  },
  {
   "cell_type": "code",
   "execution_count": null,
   "id": "98117a56",
   "metadata": {
    "ExecuteTime": {
     "end_time": "2024-11-03T15:41:12.148623Z",
     "start_time": "2024-11-03T15:40:58.875576Z"
    }
   },
   "outputs": [],
   "source": [
    "predictions.to_csv(f'./predictions/{name}.csv')"
   ]
  }
 ],
 "metadata": {
  "kernelspec": {
   "display_name": "Python 3 (ipykernel)",
   "language": "python",
   "name": "python3"
  },
  "language_info": {
   "codemirror_mode": {
    "name": "ipython",
    "version": 3
   },
   "file_extension": ".py",
   "mimetype": "text/x-python",
   "name": "python",
   "nbconvert_exporter": "python",
   "pygments_lexer": "ipython3",
   "version": "3.10.13"
  }
 },
 "nbformat": 4,
 "nbformat_minor": 5
}
