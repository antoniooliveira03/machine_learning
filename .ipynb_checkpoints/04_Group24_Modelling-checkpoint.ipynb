{
 "cells": [
  {
   "cell_type": "code",
   "execution_count": 17,
   "id": "c80c7c88",
   "metadata": {
    "ExecuteTime": {
     "end_time": "2024-10-28T13:39:25.528359Z",
     "start_time": "2024-10-28T13:39:25.524279Z"
    }
   },
   "outputs": [],
   "source": [
    "import pandas as pd\n",
    "import numpy as np\n",
    "\n",
    "from sklearn.model_selection import KFold\n",
    "from sklearn.pipeline import Pipeline\n",
    "from sklearn.linear_model import LogisticRegression\n",
    "from sklearn.preprocessing import FunctionTransformer\n",
    "from sklearn.ensemble import RandomForestClassifier\n",
    "from sklearn.metrics import classification_report\n",
    "import sklearn.metrics\n",
    "\n",
    "pd.set_option('display.max_columns', None)\n",
    "\n",
    "import warnings\n",
    "warnings.filterwarnings(\"ignore\")"
   ]
  },
  {
   "cell_type": "code",
   "execution_count": 18,
   "id": "b272237a",
   "metadata": {
    "ExecuteTime": {
     "end_time": "2024-10-28T13:39:27.468643Z",
     "start_time": "2024-10-28T13:39:25.813464Z"
    }
   },
   "outputs": [],
   "source": [
    "df = pd.read_csv('./project_data/out_eda1.csv', \n",
    "                 index_col = 'Claim Identifier')"
   ]
  },
  {
   "cell_type": "code",
   "execution_count": 107,
   "id": "071ad9a6",
   "metadata": {
    "ExecuteTime": {
     "end_time": "2024-10-26T15:19:52.471353Z",
     "start_time": "2024-10-26T15:19:50.882625Z"
    }
   },
   "outputs": [],
   "source": [
    "test = pd.read_csv('./project_data/test_treated', index_col = 'Claim Identifier')"
   ]
  },
  {
   "cell_type": "markdown",
   "id": "5b75cf02",
   "metadata": {},
   "source": [
    "## 1. K Fold\n",
    "\n",
    "<a href=\"#top\">Top &#129033;</a>"
   ]
  },
  {
   "cell_type": "code",
   "execution_count": 113,
   "id": "3de09af4",
   "metadata": {
    "ExecuteTime": {
     "end_time": "2024-10-26T15:20:02.950800Z",
     "start_time": "2024-10-26T15:20:02.810949Z"
    }
   },
   "outputs": [],
   "source": [
    "X = df.drop('Claim Injury Type', axis = 1)\n",
    "y = df['Claim Injury Type']"
   ]
  },
  {
   "cell_type": "code",
   "execution_count": 115,
   "id": "ccfe3f14",
   "metadata": {
    "ExecuteTime": {
     "end_time": "2024-10-26T15:20:04.376090Z",
     "start_time": "2024-10-26T15:20:04.372413Z"
    }
   },
   "outputs": [],
   "source": [
    "kf = KFold(n_splits=5, shuffle=True, random_state=1)"
   ]
  },
  {
   "cell_type": "code",
   "execution_count": 116,
   "id": "d29e28c9",
   "metadata": {
    "ExecuteTime": {
     "end_time": "2024-10-26T15:23:37.921215Z",
     "start_time": "2024-10-26T15:20:05.073116Z"
    },
    "scrolled": true
   },
   "outputs": [
    {
     "name": "stdout",
     "output_type": "stream",
     "text": [
      "                 precision    recall  f1-score   support\n",
      "\n",
      "   1. CANCELLED       0.00      0.00      0.00      9906\n",
      "    2. NON-COMP       0.60      0.98      0.74    232910\n",
      "    3. MED ONLY       0.00      0.00      0.00     55214\n",
      "   4. TEMPORARY       0.56      0.32      0.41    118608\n",
      "5. PPD SCH LOSS       0.16      0.05      0.07     38661\n",
      "     6. PPD NSL       0.00      0.00      0.00      3336\n",
      "         7. PTD       0.00      0.00      0.00        69\n",
      "       8. DEATH       0.02      0.00      0.00       375\n",
      "\n",
      "       accuracy                           0.58    459079\n",
      "      macro avg       0.17      0.17      0.15    459079\n",
      "   weighted avg       0.46      0.58      0.49    459079\n",
      "\n",
      "                 precision    recall  f1-score   support\n",
      "\n",
      "   1. CANCELLED       0.00      0.00      0.00      2512\n",
      "    2. NON-COMP       0.60      0.98      0.74     58063\n",
      "    3. MED ONLY       0.00      0.00      0.00     13687\n",
      "   4. TEMPORARY       0.56      0.32      0.41     29891\n",
      "5. PPD SCH LOSS       0.15      0.04      0.07      9619\n",
      "     6. PPD NSL       0.00      0.00      0.00       875\n",
      "         7. PTD       0.00      0.00      0.00        28\n",
      "       8. DEATH       0.07      0.01      0.02        95\n",
      "\n",
      "       accuracy                           0.58    114770\n",
      "      macro avg       0.17      0.17      0.15    114770\n",
      "   weighted avg       0.46      0.58      0.49    114770\n",
      "\n",
      "                 precision    recall  f1-score   support\n",
      "\n",
      "   1. CANCELLED       0.00      0.00      0.00      9939\n",
      "    2. NON-COMP       0.58      0.98      0.73    232790\n",
      "    3. MED ONLY       0.00      0.00      0.00     54925\n",
      "   4. TEMPORARY       0.56      0.24      0.34    118811\n",
      "5. PPD SCH LOSS       0.19      0.06      0.09     38805\n",
      "     6. PPD NSL       0.00      0.00      0.00      3369\n",
      "         7. PTD       0.00      0.00      0.00        75\n",
      "       8. DEATH       0.00      0.00      0.00       365\n",
      "\n",
      "       accuracy                           0.57    459079\n",
      "      macro avg       0.17      0.16      0.14    459079\n",
      "   weighted avg       0.45      0.57      0.46    459079\n",
      "\n",
      "                 precision    recall  f1-score   support\n",
      "\n",
      "   1. CANCELLED       0.00      0.00      0.00      2479\n",
      "    2. NON-COMP       0.58      0.98      0.73     58183\n",
      "    3. MED ONLY       0.00      0.00      0.00     13976\n",
      "   4. TEMPORARY       0.56      0.24      0.34     29688\n",
      "5. PPD SCH LOSS       0.19      0.06      0.09      9475\n",
      "     6. PPD NSL       0.00      0.00      0.00       842\n",
      "         7. PTD       0.00      0.00      0.00        22\n",
      "       8. DEATH       0.00      0.00      0.00       105\n",
      "\n",
      "       accuracy                           0.57    114770\n",
      "      macro avg       0.17      0.16      0.14    114770\n",
      "   weighted avg       0.45      0.57      0.46    114770\n",
      "\n",
      "                 precision    recall  f1-score   support\n",
      "\n",
      "   1. CANCELLED       0.00      0.00      0.00      9903\n",
      "    2. NON-COMP       0.63      0.97      0.76    232806\n",
      "    3. MED ONLY       0.11      0.00      0.00     55192\n",
      "   4. TEMPORARY       0.57      0.40      0.47    118741\n",
      "5. PPD SCH LOSS       0.18      0.08      0.11     38609\n",
      "     6. PPD NSL       0.00      0.00      0.00      3386\n",
      "         7. PTD       0.00      0.00      0.00        78\n",
      "       8. DEATH       0.00      0.00      0.00       364\n",
      "\n",
      "       accuracy                           0.60    459079\n",
      "      macro avg       0.19      0.18      0.17    459079\n",
      "   weighted avg       0.50      0.60      0.52    459079\n",
      "\n",
      "                 precision    recall  f1-score   support\n",
      "\n",
      "   1. CANCELLED       0.00      0.00      0.00      2515\n",
      "    2. NON-COMP       0.63      0.97      0.76     58167\n",
      "    3. MED ONLY       0.17      0.00      0.00     13709\n",
      "   4. TEMPORARY       0.58      0.40      0.47     29758\n",
      "5. PPD SCH LOSS       0.19      0.08      0.11      9671\n",
      "     6. PPD NSL       0.00      0.00      0.00       825\n",
      "         7. PTD       0.00      0.00      0.00        19\n",
      "       8. DEATH       0.00      0.00      0.00       106\n",
      "\n",
      "       accuracy                           0.60    114770\n",
      "      macro avg       0.19      0.18      0.17    114770\n",
      "   weighted avg       0.50      0.60      0.52    114770\n",
      "\n",
      "                 precision    recall  f1-score   support\n",
      "\n",
      "   1. CANCELLED       0.00      0.00      0.00      9957\n",
      "    2. NON-COMP       0.65      0.97      0.78    232686\n",
      "    3. MED ONLY       0.22      0.00      0.01     55142\n",
      "   4. TEMPORARY       0.55      0.48      0.51    118873\n",
      "5. PPD SCH LOSS       0.21      0.06      0.09     38568\n",
      "     6. PPD NSL       0.00      0.00      0.00      3379\n",
      "         7. PTD       0.01      0.01      0.01        83\n",
      "       8. DEATH       0.00      0.00      0.00       391\n",
      "\n",
      "       accuracy                           0.62    459079\n",
      "      macro avg       0.20      0.19      0.17    459079\n",
      "   weighted avg       0.52      0.62      0.54    459079\n",
      "\n",
      "                 precision    recall  f1-score   support\n",
      "\n",
      "   1. CANCELLED       0.00      0.00      0.00      2461\n",
      "    2. NON-COMP       0.65      0.96      0.78     58287\n",
      "    3. MED ONLY       0.18      0.00      0.01     13759\n",
      "   4. TEMPORARY       0.55      0.48      0.51     29626\n",
      "5. PPD SCH LOSS       0.20      0.06      0.09      9712\n",
      "     6. PPD NSL       0.00      0.00      0.00       832\n",
      "         7. PTD       0.00      0.00      0.00        14\n",
      "       8. DEATH       0.00      0.00      0.00        79\n",
      "\n",
      "       accuracy                           0.62    114770\n",
      "      macro avg       0.20      0.19      0.17    114770\n",
      "   weighted avg       0.51      0.62      0.54    114770\n",
      "\n",
      "                 precision    recall  f1-score   support\n",
      "\n",
      "   1. CANCELLED       0.00      0.00      0.00      9967\n",
      "    2. NON-COMP       0.61      0.97      0.75    232700\n",
      "    3. MED ONLY       0.00      0.00      0.00     55131\n",
      "   4. TEMPORARY       0.58      0.34      0.42    118963\n",
      "5. PPD SCH LOSS       0.18      0.08      0.11     38477\n",
      "     6. PPD NSL       0.00      0.00      0.00      3374\n",
      "         7. PTD       0.00      0.00      0.00        83\n",
      "       8. DEATH       0.00      0.00      0.00       385\n",
      "\n",
      "       accuracy                           0.59    459080\n",
      "      macro avg       0.17      0.17      0.16    459080\n",
      "   weighted avg       0.47      0.59      0.50    459080\n",
      "\n",
      "                 precision    recall  f1-score   support\n",
      "\n",
      "   1. CANCELLED       0.02      0.00      0.00      2451\n",
      "    2. NON-COMP       0.61      0.97      0.75     58273\n",
      "    3. MED ONLY       0.00      0.00      0.00     13770\n",
      "   4. TEMPORARY       0.57      0.33      0.42     29536\n",
      "5. PPD SCH LOSS       0.19      0.08      0.12      9803\n",
      "     6. PPD NSL       0.00      0.00      0.00       837\n",
      "         7. PTD       0.00      0.00      0.00        14\n",
      "       8. DEATH       0.00      0.00      0.00        85\n",
      "\n",
      "       accuracy                           0.59    114769\n",
      "      macro avg       0.17      0.17      0.16    114769\n",
      "   weighted avg       0.47      0.59      0.50    114769\n",
      "\n"
     ]
    }
   ],
   "source": [
    "features = ['C-2 Day', 'Accident Year', 'Birth Year', 'Assembly Month', \n",
    "            'C-2 Month', 'Average Weekly Wage', 'Age at Injury', 'C-2 Year', \n",
    "            'Number of Dependents', 'Accident Day', 'Assembly Year', \n",
    "            'First Hearing Year', 'IME-4 Count', 'Assembly Day', \n",
    "            'Accident Month', 'WCIO Cause of Injury Code', 'Gender', \n",
    "            'COVID-19 Indicator', 'WCIO Part Of Body Code', 'County of Injury', 'Attorney/Representative', 'Carrier Type', 'District Name', 'Medical Fee Region', 'Zip Code', 'Carrier Name', 'C-3 Date Binary', 'Alternative Dispute Resolution', 'WCIO Nature of Injury Code', 'Industry Code']\n",
    "predictions = []\n",
    "\n",
    "\n",
    "def k_fold(df, features):\n",
    "    for train_index, val_index in kf.split(X):\n",
    "\n",
    "        # Split data into training and validation folds\n",
    "        X_train = X.iloc[train_index]\n",
    "        X_val = X.iloc[val_index]\n",
    "        y_train = y.iloc[train_index]\n",
    "        y_val = y.iloc[val_index]\n",
    "\n",
    "        # fit model\n",
    "        model = LogisticRegression()\n",
    "        model.fit(X_train, y_train)\n",
    "\n",
    "        # make predictions\n",
    "        train_pred = model.predict(X_train)\n",
    "        val_pred = model.predict(X_val)\n",
    "\n",
    "        # compute metrics\n",
    "        print(classification_report(y_train, train_pred))\n",
    "        print(classification_report(y_val, val_pred))\n",
    "\n",
    "        # save predictions and best model's parameters\n",
    "\n",
    "        predictions.append({'Train Predictions': train_pred, 'Validation Predictions': val_pred})\n",
    "        \n",
    "    return predictions\n"
   ]
  },
  {
   "cell_type": "markdown",
   "id": "f3ec155c",
   "metadata": {},
   "source": [
    "## test"
   ]
  },
  {
   "cell_type": "code",
   "execution_count": 117,
   "id": "8bfcd709",
   "metadata": {
    "ExecuteTime": {
     "end_time": "2024-10-26T15:23:38.994183Z",
     "start_time": "2024-10-26T15:23:37.924142Z"
    }
   },
   "outputs": [],
   "source": [
    "for col in test.columns:\n",
    "    test = custom_impute(test, col)"
   ]
  },
  {
   "cell_type": "code",
   "execution_count": 118,
   "id": "0177013b",
   "metadata": {
    "ExecuteTime": {
     "end_time": "2024-10-26T15:23:39.148473Z",
     "start_time": "2024-10-26T15:23:38.996450Z"
    }
   },
   "outputs": [
    {
     "data": {
      "text/plain": [
       "Age at Injury                     0\n",
       "Alternative Dispute Resolution    0\n",
       "Attorney/Representative           0\n",
       "Average Weekly Wage               0\n",
       "Birth Year                        0\n",
       "Carrier Name                      0\n",
       "Carrier Type                      0\n",
       "County of Injury                  0\n",
       "COVID-19 Indicator                0\n",
       "District Name                     0\n",
       "Gender                            0\n",
       "IME-4 Count                       0\n",
       "Industry Code                     0\n",
       "Medical Fee Region                0\n",
       "WCIO Cause of Injury Code         0\n",
       "WCIO Nature of Injury Code        0\n",
       "WCIO Part Of Body Code            0\n",
       "Zip Code                          0\n",
       "Number of Dependents              0\n",
       "Accident Year                     0\n",
       "Accident Month                    0\n",
       "Accident Day                      0\n",
       "Assembly Year                     0\n",
       "Assembly Month                    0\n",
       "Assembly Day                      0\n",
       "C-2 Year                          0\n",
       "C-2 Month                         0\n",
       "C-2 Day                           0\n",
       "C-3 Date Binary                   0\n",
       "First Hearing Year                0\n",
       "dtype: int64"
      ]
     },
     "execution_count": 118,
     "metadata": {},
     "output_type": "execute_result"
    }
   ],
   "source": [
    "test = test.fillna(0)\n",
    "test.isna().sum()"
   ]
  },
  {
   "cell_type": "code",
   "execution_count": 122,
   "id": "f5b8dbb4",
   "metadata": {
    "ExecuteTime": {
     "end_time": "2024-10-26T15:25:24.604561Z",
     "start_time": "2024-10-26T15:25:24.491397Z"
    }
   },
   "outputs": [],
   "source": [
    "test['Claim Injury Type'] = model.predict(test)\n"
   ]
  },
  {
   "cell_type": "code",
   "execution_count": 124,
   "id": "8b314cbe",
   "metadata": {
    "ExecuteTime": {
     "end_time": "2024-10-26T15:25:38.004311Z",
     "start_time": "2024-10-26T15:25:37.975916Z"
    }
   },
   "outputs": [
    {
     "data": {
      "text/plain": [
       "Claim Injury Type\n",
       "2. NON-COMP        345305\n",
       "4. TEMPORARY        33482\n",
       "5. PPD SCH LOSS      9132\n",
       "1. CANCELLED           52\n",
       "6. PPD NSL              4\n",
       "Name: count, dtype: int64"
      ]
     },
     "execution_count": 124,
     "metadata": {},
     "output_type": "execute_result"
    }
   ],
   "source": [
    "test['Claim Injury Type'].value_counts() "
   ]
  },
  {
   "cell_type": "code",
   "execution_count": 125,
   "id": "8b18281e",
   "metadata": {
    "ExecuteTime": {
     "end_time": "2024-10-26T15:26:55.680064Z",
     "start_time": "2024-10-26T15:26:55.673999Z"
    }
   },
   "outputs": [
    {
     "data": {
      "text/plain": [
       "Claim Identifier\n",
       "6165911    2. NON-COMP\n",
       "6166141    2. NON-COMP\n",
       "6165907    2. NON-COMP\n",
       "6166047    2. NON-COMP\n",
       "6166102    2. NON-COMP\n",
       "              ...     \n",
       "6553137    2. NON-COMP\n",
       "6553119    2. NON-COMP\n",
       "6553542    2. NON-COMP\n",
       "6553455    2. NON-COMP\n",
       "6553594    2. NON-COMP\n",
       "Name: Claim Injury Type, Length: 387975, dtype: object"
      ]
     },
     "execution_count": 125,
     "metadata": {},
     "output_type": "execute_result"
    }
   ],
   "source": [
    "predictions = test['Claim Injury Type']\n",
    "predictions"
   ]
  },
  {
   "cell_type": "code",
   "execution_count": 128,
   "id": "c77bb96d",
   "metadata": {
    "ExecuteTime": {
     "end_time": "2024-10-26T15:28:12.782557Z",
     "start_time": "2024-10-26T15:28:12.025383Z"
    }
   },
   "outputs": [],
   "source": [
    "predictions.to_csv('./predictions/pred1.csv')"
   ]
  }
 ],
 "metadata": {
  "kernelspec": {
   "display_name": "Python 3 (ipykernel)",
   "language": "python",
   "name": "python3"
  },
  "language_info": {
   "codemirror_mode": {
    "name": "ipython",
    "version": 3
   },
   "file_extension": ".py",
   "mimetype": "text/x-python",
   "name": "python",
   "nbconvert_exporter": "python",
   "pygments_lexer": "ipython3",
   "version": "3.10.13"
  }
 },
 "nbformat": 4,
 "nbformat_minor": 5
}
