{
 "cells": [
  {
   "cell_type": "markdown",
   "id": "33232e9c",
   "metadata": {},
   "source": [
    "# Intro\n",
    "\n",
    "** **"
   ]
  },
  {
   "cell_type": "markdown",
   "id": "d7a6be81",
   "metadata": {},
   "source": [
    "# Table of Contents\n",
    "\n",
    "<a class=\"anchor\" id=\"top\"></a>\n",
    "\n",
    "** **\n",
    "\n",
    "\n",
    "1. [Importing Libraries & Data](#1.-Importing-Libraries-&-Data) <br><br>\n",
    "    \n",
    "2. [Exploratory Data Analysis](#2.-Exploratory-Data-Analysis)\n",
    "\n",
    "    2.1 [Initial Exploration](#2.1-Initial-Exploration)\n",
    "\n",
    "    2.2 [Incoherencies](#2.2-Incoherencies)\n",
    "    \n",
    "    2.3 [Initial Visualisations](#2.3-Initial-Visualisations) <br><br>\n",
    "    \n",
    "3. [Data Cleaning & Preprocessing](#3.-Data-Cleaning-&-Preprocessing)\n",
    "\n",
    "    3.1 [Duplicates](#3.1-Duplicates)\n",
    "    \n",
    "    3.5 [Feature Engineering](#3.5-Feature-Engineering)\n",
    "   \n",
    "    &emsp; 3.3.1 [Data Type Conversions](#3.3.1-Data-Type-Conversions)\n",
    "    \n",
    "    &emsp; 3.3.3 [Unique Feature-Pair Analysis](#3.3.3-Unique-Feature-Pair-Analysis) \n",
    "    \n",
    "    3.3 [Missing Values part1](#3.3-Missing-Values)\n",
    "    \n",
    "    &emsp; 3.3.2 [Missing Values Identification & Treatment](#3.3.2-Missing-Values-Identification-&-Treatment)\n",
    "\n",
    "    \n",
    "    \n",
    "    3.2 [Train-Test Split](#3.2-Train-Test-Split)\n",
    "    \n",
    "    3.4 [Outliers](#3.4-Outliers)\n",
    "\n",
    "    3.6 [Visualisations](#3.6-Visualisations) <br><br>\n",
    "    \n",
    "4. [Feature Selection](#4.-Feature-Selection)    <br><br>     \n",
    "    \n",
    "5. [Export](#5.-Export)\n"
   ]
  },
  {
   "cell_type": "markdown",
   "id": "a796aaec",
   "metadata": {},
   "source": [
    "# 1. Importing Libraries & Data\n",
    "\n",
    "<a href=\"#top\">Top &#129033;</a>"
   ]
  },
  {
   "cell_type": "code",
   "execution_count": 1,
   "id": "e02b344c",
   "metadata": {
    "ExecuteTime": {
     "end_time": "2024-10-23T08:58:32.298914Z",
     "start_time": "2024-10-23T08:58:28.167099Z"
    }
   },
   "outputs": [
    {
     "name": "stderr",
     "output_type": "stream",
     "text": [
      "/Users/antoniooliveira/anaconda3/envs/Text_Mining/lib/python3.10/site-packages/tqdm/auto.py:21: TqdmWarning: IProgress not found. Please update jupyter and ipywidgets. See https://ipywidgets.readthedocs.io/en/stable/user_install.html\n",
      "  from .autonotebook import tqdm as notebook_tqdm\n"
     ]
    },
    {
     "ename": "KeyboardInterrupt",
     "evalue": "",
     "output_type": "error",
     "traceback": [
      "\u001b[0;31m---------------------------------------------------------------------------\u001b[0m",
      "\u001b[0;31mKeyboardInterrupt\u001b[0m                         Traceback (most recent call last)",
      "Cell \u001b[0;32mIn[1], line 6\u001b[0m\n\u001b[1;32m      2\u001b[0m \u001b[38;5;28;01mimport\u001b[39;00m \u001b[38;5;21;01mnumpy\u001b[39;00m \u001b[38;5;28;01mas\u001b[39;00m \u001b[38;5;21;01mnp\u001b[39;00m\n\u001b[1;32m      5\u001b[0m \u001b[38;5;66;03m# profile report\u001b[39;00m\n\u001b[0;32m----> 6\u001b[0m \u001b[38;5;28;01mfrom\u001b[39;00m \u001b[38;5;21;01mydata_profiling\u001b[39;00m \u001b[38;5;28;01mimport\u001b[39;00m ProfileReport\n\u001b[1;32m      8\u001b[0m \u001b[38;5;66;03m# visualisations\u001b[39;00m\n\u001b[1;32m      9\u001b[0m \u001b[38;5;28;01mimport\u001b[39;00m \u001b[38;5;21;01mseaborn\u001b[39;00m \u001b[38;5;28;01mas\u001b[39;00m \u001b[38;5;21;01msns\u001b[39;00m\n",
      "File \u001b[0;32m~/anaconda3/envs/Text_Mining/lib/python3.10/site-packages/ydata_profiling/__init__.py:14\u001b[0m\n\u001b[1;32m     10\u001b[0m warnings\u001b[38;5;241m.\u001b[39msimplefilter(\u001b[38;5;124m\"\u001b[39m\u001b[38;5;124mignore\u001b[39m\u001b[38;5;124m\"\u001b[39m, category\u001b[38;5;241m=\u001b[39mNumbaDeprecationWarning)\n\u001b[1;32m     12\u001b[0m \u001b[38;5;28;01mimport\u001b[39;00m \u001b[38;5;21;01mimportlib\u001b[39;00m\u001b[38;5;21;01m.\u001b[39;00m\u001b[38;5;21;01mutil\u001b[39;00m  \u001b[38;5;66;03m# isort:skip # noqa\u001b[39;00m\n\u001b[0;32m---> 14\u001b[0m \u001b[38;5;28;01mfrom\u001b[39;00m \u001b[38;5;21;01mydata_profiling\u001b[39;00m\u001b[38;5;21;01m.\u001b[39;00m\u001b[38;5;21;01mcompare_reports\u001b[39;00m \u001b[38;5;28;01mimport\u001b[39;00m compare  \u001b[38;5;66;03m# isort:skip # noqa\u001b[39;00m\n\u001b[1;32m     15\u001b[0m \u001b[38;5;28;01mfrom\u001b[39;00m \u001b[38;5;21;01mydata_profiling\u001b[39;00m\u001b[38;5;21;01m.\u001b[39;00m\u001b[38;5;21;01mcontroller\u001b[39;00m \u001b[38;5;28;01mimport\u001b[39;00m pandas_decorator  \u001b[38;5;66;03m# isort:skip # noqa\u001b[39;00m\n\u001b[1;32m     16\u001b[0m \u001b[38;5;28;01mfrom\u001b[39;00m \u001b[38;5;21;01mydata_profiling\u001b[39;00m\u001b[38;5;21;01m.\u001b[39;00m\u001b[38;5;21;01mprofile_report\u001b[39;00m \u001b[38;5;28;01mimport\u001b[39;00m ProfileReport  \u001b[38;5;66;03m# isort:skip # noqa\u001b[39;00m\n",
      "File \u001b[0;32m~/anaconda3/envs/Text_Mining/lib/python3.10/site-packages/ydata_profiling/compare_reports.py:12\u001b[0m\n\u001b[1;32m     10\u001b[0m \u001b[38;5;28;01mfrom\u001b[39;00m \u001b[38;5;21;01mydata_profiling\u001b[39;00m\u001b[38;5;21;01m.\u001b[39;00m\u001b[38;5;21;01mmodel\u001b[39;00m \u001b[38;5;28;01mimport\u001b[39;00m BaseDescription\n\u001b[1;32m     11\u001b[0m \u001b[38;5;28;01mfrom\u001b[39;00m \u001b[38;5;21;01mydata_profiling\u001b[39;00m\u001b[38;5;21;01m.\u001b[39;00m\u001b[38;5;21;01mmodel\u001b[39;00m\u001b[38;5;21;01m.\u001b[39;00m\u001b[38;5;21;01malerts\u001b[39;00m \u001b[38;5;28;01mimport\u001b[39;00m Alert\n\u001b[0;32m---> 12\u001b[0m \u001b[38;5;28;01mfrom\u001b[39;00m \u001b[38;5;21;01mydata_profiling\u001b[39;00m\u001b[38;5;21;01m.\u001b[39;00m\u001b[38;5;21;01mprofile_report\u001b[39;00m \u001b[38;5;28;01mimport\u001b[39;00m ProfileReport\n\u001b[1;32m     15\u001b[0m \u001b[38;5;28;01mdef\u001b[39;00m \u001b[38;5;21m_should_wrap\u001b[39m(v1: Any, v2: Any) \u001b[38;5;241m-\u001b[39m\u001b[38;5;241m>\u001b[39m \u001b[38;5;28mbool\u001b[39m:\n\u001b[1;32m     16\u001b[0m     \u001b[38;5;28;01mif\u001b[39;00m \u001b[38;5;28misinstance\u001b[39m(v1, (\u001b[38;5;28mlist\u001b[39m, \u001b[38;5;28mdict\u001b[39m)):\n",
      "File \u001b[0;32m~/anaconda3/envs/Text_Mining/lib/python3.10/site-packages/ydata_profiling/profile_report.py:25\u001b[0m\n\u001b[1;32m     23\u001b[0m \u001b[38;5;28;01mfrom\u001b[39;00m \u001b[38;5;21;01mtqdm\u001b[39;00m\u001b[38;5;21;01m.\u001b[39;00m\u001b[38;5;21;01mauto\u001b[39;00m \u001b[38;5;28;01mimport\u001b[39;00m tqdm\n\u001b[1;32m     24\u001b[0m \u001b[38;5;28;01mfrom\u001b[39;00m \u001b[38;5;21;01mtypeguard\u001b[39;00m \u001b[38;5;28;01mimport\u001b[39;00m typechecked\n\u001b[0;32m---> 25\u001b[0m \u001b[38;5;28;01mfrom\u001b[39;00m \u001b[38;5;21;01mvisions\u001b[39;00m \u001b[38;5;28;01mimport\u001b[39;00m VisionsTypeset\n\u001b[1;32m     27\u001b[0m \u001b[38;5;28;01mfrom\u001b[39;00m \u001b[38;5;21;01mydata_profiling\u001b[39;00m\u001b[38;5;21;01m.\u001b[39;00m\u001b[38;5;21;01mconfig\u001b[39;00m \u001b[38;5;28;01mimport\u001b[39;00m Config, Settings, SparkSettings\n\u001b[1;32m     28\u001b[0m \u001b[38;5;28;01mfrom\u001b[39;00m \u001b[38;5;21;01mydata_profiling\u001b[39;00m\u001b[38;5;21;01m.\u001b[39;00m\u001b[38;5;21;01mexpectations_report\u001b[39;00m \u001b[38;5;28;01mimport\u001b[39;00m ExpectationsReport\n",
      "File \u001b[0;32m~/anaconda3/envs/Text_Mining/lib/python3.10/site-packages/visions/__init__.py:3\u001b[0m\n\u001b[1;32m      1\u001b[0m \u001b[38;5;124;03m\"\"\"Core functionality\"\"\"\u001b[39;00m\n\u001b[0;32m----> 3\u001b[0m \u001b[38;5;28;01mfrom\u001b[39;00m \u001b[38;5;21;01mvisions\u001b[39;00m \u001b[38;5;28;01mimport\u001b[39;00m types, typesets, utils\n\u001b[1;32m      4\u001b[0m \u001b[38;5;28;01mfrom\u001b[39;00m \u001b[38;5;21;01mvisions\u001b[39;00m\u001b[38;5;21;01m.\u001b[39;00m\u001b[38;5;21;01mbackends\u001b[39;00m \u001b[38;5;28;01mimport\u001b[39;00m \u001b[38;5;241m*\u001b[39m\n\u001b[1;32m      5\u001b[0m \u001b[38;5;28;01mfrom\u001b[39;00m \u001b[38;5;21;01mvisions\u001b[39;00m\u001b[38;5;21;01m.\u001b[39;00m\u001b[38;5;21;01mdeclarative\u001b[39;00m \u001b[38;5;28;01mimport\u001b[39;00m create_type\n",
      "File \u001b[0;32m~/anaconda3/envs/Text_Mining/lib/python3.10/site-packages/visions/typesets/__init__.py:1\u001b[0m\n\u001b[0;32m----> 1\u001b[0m \u001b[38;5;28;01mfrom\u001b[39;00m \u001b[38;5;21;01mvisions\u001b[39;00m\u001b[38;5;21;01m.\u001b[39;00m\u001b[38;5;21;01mtypesets\u001b[39;00m\u001b[38;5;21;01m.\u001b[39;00m\u001b[38;5;21;01mcomplete_set\u001b[39;00m \u001b[38;5;28;01mimport\u001b[39;00m CompleteSet\n\u001b[1;32m      2\u001b[0m \u001b[38;5;28;01mfrom\u001b[39;00m \u001b[38;5;21;01mvisions\u001b[39;00m\u001b[38;5;21;01m.\u001b[39;00m\u001b[38;5;21;01mtypesets\u001b[39;00m\u001b[38;5;21;01m.\u001b[39;00m\u001b[38;5;21;01mgeometry_set\u001b[39;00m \u001b[38;5;28;01mimport\u001b[39;00m GeometrySet\n\u001b[1;32m      3\u001b[0m \u001b[38;5;28;01mfrom\u001b[39;00m \u001b[38;5;21;01mvisions\u001b[39;00m\u001b[38;5;21;01m.\u001b[39;00m\u001b[38;5;21;01mtypesets\u001b[39;00m\u001b[38;5;21;01m.\u001b[39;00m\u001b[38;5;21;01mstandard_set\u001b[39;00m \u001b[38;5;28;01mimport\u001b[39;00m StandardSet\n",
      "File \u001b[0;32m~/anaconda3/envs/Text_Mining/lib/python3.10/site-packages/visions/typesets/complete_set.py:25\u001b[0m\n\u001b[1;32m      1\u001b[0m \u001b[38;5;28;01mfrom\u001b[39;00m \u001b[38;5;21;01mvisions\u001b[39;00m\u001b[38;5;21;01m.\u001b[39;00m\u001b[38;5;21;01mtypes\u001b[39;00m \u001b[38;5;28;01mimport\u001b[39;00m (\n\u001b[1;32m      2\u001b[0m     URL,\n\u001b[1;32m      3\u001b[0m     UUID,\n\u001b[0;32m   (...)\u001b[0m\n\u001b[1;32m     23\u001b[0m     TimeDelta,\n\u001b[1;32m     24\u001b[0m )\n\u001b[0;32m---> 25\u001b[0m \u001b[38;5;28;01mfrom\u001b[39;00m \u001b[38;5;21;01mvisions\u001b[39;00m\u001b[38;5;21;01m.\u001b[39;00m\u001b[38;5;21;01mtypesets\u001b[39;00m\u001b[38;5;21;01m.\u001b[39;00m\u001b[38;5;21;01mtypeset\u001b[39;00m \u001b[38;5;28;01mimport\u001b[39;00m VisionsTypeset\n\u001b[1;32m     28\u001b[0m \u001b[38;5;28;01mclass\u001b[39;00m \u001b[38;5;21;01mCompleteSet\u001b[39;00m(VisionsTypeset):\n\u001b[1;32m     29\u001b[0m \u001b[38;5;250m    \u001b[39m\u001b[38;5;124;03m\"\"\"Complete visions typeset with all supported types\u001b[39;00m\n\u001b[1;32m     30\u001b[0m \n\u001b[1;32m     31\u001b[0m \u001b[38;5;124;03m    Includes support for the following types:\u001b[39;00m\n\u001b[0;32m   (...)\u001b[0m\n\u001b[1;32m     54\u001b[0m \n\u001b[1;32m     55\u001b[0m \u001b[38;5;124;03m    \"\"\"\u001b[39;00m\n",
      "File \u001b[0;32m~/anaconda3/envs/Text_Mining/lib/python3.10/site-packages/visions/typesets/typeset.py:18\u001b[0m\n\u001b[1;32m      3\u001b[0m \u001b[38;5;28;01mfrom\u001b[39;00m \u001b[38;5;21;01mpathlib\u001b[39;00m \u001b[38;5;28;01mimport\u001b[39;00m Path\n\u001b[1;32m      4\u001b[0m \u001b[38;5;28;01mfrom\u001b[39;00m \u001b[38;5;21;01mtyping\u001b[39;00m \u001b[38;5;28;01mimport\u001b[39;00m (\n\u001b[1;32m      5\u001b[0m     Any,\n\u001b[1;32m      6\u001b[0m     Dict,\n\u001b[0;32m   (...)\u001b[0m\n\u001b[1;32m     15\u001b[0m     Union,\n\u001b[1;32m     16\u001b[0m )\n\u001b[0;32m---> 18\u001b[0m \u001b[38;5;28;01mimport\u001b[39;00m \u001b[38;5;21;01mnetworkx\u001b[39;00m \u001b[38;5;28;01mas\u001b[39;00m \u001b[38;5;21;01mnx\u001b[39;00m\n\u001b[1;32m     19\u001b[0m \u001b[38;5;28;01mimport\u001b[39;00m \u001b[38;5;21;01mpandas\u001b[39;00m \u001b[38;5;28;01mas\u001b[39;00m \u001b[38;5;21;01mpd\u001b[39;00m\n\u001b[1;32m     21\u001b[0m \u001b[38;5;28;01mfrom\u001b[39;00m \u001b[38;5;21;01mvisions\u001b[39;00m\u001b[38;5;21;01m.\u001b[39;00m\u001b[38;5;21;01mtypes\u001b[39;00m\u001b[38;5;21;01m.\u001b[39;00m\u001b[38;5;21;01mgeneric\u001b[39;00m \u001b[38;5;28;01mimport\u001b[39;00m Generic\n",
      "File \u001b[0;32m~/anaconda3/envs/Text_Mining/lib/python3.10/site-packages/networkx/__init__.py:42\u001b[0m\n\u001b[1;32m     39\u001b[0m \u001b[38;5;28;01mfrom\u001b[39;00m \u001b[38;5;21;01mnetworkx\u001b[39;00m\u001b[38;5;21;01m.\u001b[39;00m\u001b[38;5;21;01mreadwrite\u001b[39;00m \u001b[38;5;28;01mimport\u001b[39;00m \u001b[38;5;241m*\u001b[39m\n\u001b[1;32m     41\u001b[0m \u001b[38;5;66;03m# Need to test with SciPy, when available\u001b[39;00m\n\u001b[0;32m---> 42\u001b[0m \u001b[38;5;28;01mfrom\u001b[39;00m \u001b[38;5;21;01mnetworkx\u001b[39;00m \u001b[38;5;28;01mimport\u001b[39;00m algorithms\n\u001b[1;32m     43\u001b[0m \u001b[38;5;28;01mfrom\u001b[39;00m \u001b[38;5;21;01mnetworkx\u001b[39;00m\u001b[38;5;21;01m.\u001b[39;00m\u001b[38;5;21;01malgorithms\u001b[39;00m \u001b[38;5;28;01mimport\u001b[39;00m \u001b[38;5;241m*\u001b[39m\n\u001b[1;32m     45\u001b[0m \u001b[38;5;28;01mfrom\u001b[39;00m \u001b[38;5;21;01mnetworkx\u001b[39;00m \u001b[38;5;28;01mimport\u001b[39;00m linalg\n",
      "File \u001b[0;32m~/anaconda3/envs/Text_Mining/lib/python3.10/site-packages/networkx/algorithms/__init__.py:40\u001b[0m\n\u001b[1;32m     38\u001b[0m \u001b[38;5;28;01mfrom\u001b[39;00m \u001b[38;5;21;01mnetworkx\u001b[39;00m\u001b[38;5;21;01m.\u001b[39;00m\u001b[38;5;21;01malgorithms\u001b[39;00m\u001b[38;5;21;01m.\u001b[39;00m\u001b[38;5;21;01mplanarity\u001b[39;00m \u001b[38;5;28;01mimport\u001b[39;00m \u001b[38;5;241m*\u001b[39m\n\u001b[1;32m     39\u001b[0m \u001b[38;5;28;01mfrom\u001b[39;00m \u001b[38;5;21;01mnetworkx\u001b[39;00m\u001b[38;5;21;01m.\u001b[39;00m\u001b[38;5;21;01malgorithms\u001b[39;00m\u001b[38;5;21;01m.\u001b[39;00m\u001b[38;5;21;01mplanar_drawing\u001b[39;00m \u001b[38;5;28;01mimport\u001b[39;00m \u001b[38;5;241m*\u001b[39m\n\u001b[0;32m---> 40\u001b[0m \u001b[38;5;28;01mfrom\u001b[39;00m \u001b[38;5;21;01mnetworkx\u001b[39;00m\u001b[38;5;21;01m.\u001b[39;00m\u001b[38;5;21;01malgorithms\u001b[39;00m\u001b[38;5;21;01m.\u001b[39;00m\u001b[38;5;21;01mreciprocity\u001b[39;00m \u001b[38;5;28;01mimport\u001b[39;00m \u001b[38;5;241m*\u001b[39m\n\u001b[1;32m     41\u001b[0m \u001b[38;5;28;01mfrom\u001b[39;00m \u001b[38;5;21;01mnetworkx\u001b[39;00m\u001b[38;5;21;01m.\u001b[39;00m\u001b[38;5;21;01malgorithms\u001b[39;00m\u001b[38;5;21;01m.\u001b[39;00m\u001b[38;5;21;01mregular\u001b[39;00m \u001b[38;5;28;01mimport\u001b[39;00m \u001b[38;5;241m*\u001b[39m\n\u001b[1;32m     42\u001b[0m \u001b[38;5;28;01mfrom\u001b[39;00m \u001b[38;5;21;01mnetworkx\u001b[39;00m\u001b[38;5;21;01m.\u001b[39;00m\u001b[38;5;21;01malgorithms\u001b[39;00m\u001b[38;5;21;01m.\u001b[39;00m\u001b[38;5;21;01mrichclub\u001b[39;00m \u001b[38;5;28;01mimport\u001b[39;00m \u001b[38;5;241m*\u001b[39m\n",
      "File \u001b[0;32m<frozen importlib._bootstrap>:1027\u001b[0m, in \u001b[0;36m_find_and_load\u001b[0;34m(name, import_)\u001b[0m\n",
      "File \u001b[0;32m<frozen importlib._bootstrap>:1006\u001b[0m, in \u001b[0;36m_find_and_load_unlocked\u001b[0;34m(name, import_)\u001b[0m\n",
      "File \u001b[0;32m<frozen importlib._bootstrap>:688\u001b[0m, in \u001b[0;36m_load_unlocked\u001b[0;34m(spec)\u001b[0m\n",
      "File \u001b[0;32m<frozen importlib._bootstrap_external>:879\u001b[0m, in \u001b[0;36mexec_module\u001b[0;34m(self, module)\u001b[0m\n",
      "File \u001b[0;32m<frozen importlib._bootstrap_external>:975\u001b[0m, in \u001b[0;36mget_code\u001b[0;34m(self, fullname)\u001b[0m\n",
      "File \u001b[0;32m<frozen importlib._bootstrap_external>:1074\u001b[0m, in \u001b[0;36mget_data\u001b[0;34m(self, path)\u001b[0m\n",
      "\u001b[0;31mKeyboardInterrupt\u001b[0m: "
     ]
    }
   ],
   "source": [
    "import pandas as pd\n",
    "import numpy as np\n",
    "\n",
    "\n",
    "# profile report\n",
    "from ydata_profiling import ProfileReport\n",
    "\n",
    "# visualisations\n",
    "import seaborn as sns\n",
    "import matplotlib.pyplot as plt\n",
    "\n",
    "# train test split\n",
    "from sklearn.model_selection import train_test_split\n",
    "\n",
    "# external functions file\n",
    "import functions as f\n",
    "\n",
    "pd.set_option('display.max_columns', None)"
   ]
  },
  {
   "cell_type": "code",
   "execution_count": null,
   "id": "2528e8f5",
   "metadata": {
    "ExecuteTime": {
     "end_time": "2024-10-23T08:58:32.315641Z",
     "start_time": "2024-10-23T08:58:32.315629Z"
    }
   },
   "outputs": [],
   "source": [
    "df = pd.read_csv('./project_data/train_data.csv', index_col = 'Claim Identifier')\n",
    "df.head(3)"
   ]
  },
  {
   "cell_type": "code",
   "execution_count": null,
   "id": "f9565d24",
   "metadata": {
    "ExecuteTime": {
     "end_time": "2024-10-23T08:58:32.317334Z",
     "start_time": "2024-10-23T08:58:32.317322Z"
    }
   },
   "outputs": [],
   "source": [
    "test = pd.read_csv('./project_data/test_data.csv', index_col = 'Claim Identifier')\n",
    "test.head(3)"
   ]
  },
  {
   "cell_type": "markdown",
   "id": "32c0a4f0",
   "metadata": {},
   "source": [
    "# 2. Exploratory Data Analysis\n",
    "\n",
    "<a href=\"#top\">Top &#129033;</a>"
   ]
  },
  {
   "cell_type": "markdown",
   "id": "33c5e246",
   "metadata": {},
   "source": [
    "## 2.1 Initial Exploration"
   ]
  },
  {
   "cell_type": "code",
   "execution_count": null,
   "id": "82bad21e",
   "metadata": {
    "ExecuteTime": {
     "end_time": "2024-10-23T08:58:32.318428Z",
     "start_time": "2024-10-23T08:58:32.318417Z"
    }
   },
   "outputs": [],
   "source": [
    "# profile = ProfileReport(\n",
    "#     df, \n",
    "#     title='Data',\n",
    "#     correlations={\n",
    "#         \"pearson\": {\"calculate\": True},\n",
    "#         \"spearman\": {\"calculate\": False},\n",
    "#         \"kendall\": {\"calculate\": False},\n",
    "#         \"phi_k\": {\"calculate\": False},\n",
    "#         \"cramers\": {\"calculate\": False},\n",
    "#     },\n",
    "# )\n",
    "\n",
    "# profile"
   ]
  },
  {
   "cell_type": "code",
   "execution_count": null,
   "id": "64c3cf16",
   "metadata": {
    "ExecuteTime": {
     "end_time": "2024-10-23T08:58:32.319539Z",
     "start_time": "2024-10-23T08:58:32.319527Z"
    }
   },
   "outputs": [],
   "source": [
    "df.describe(include='object').T"
   ]
  },
  {
   "cell_type": "code",
   "execution_count": null,
   "id": "79851f43",
   "metadata": {
    "ExecuteTime": {
     "end_time": "2024-10-23T08:58:32.320816Z",
     "start_time": "2024-10-23T08:58:32.320802Z"
    }
   },
   "outputs": [],
   "source": [
    "df.describe().T"
   ]
  },
  {
   "cell_type": "code",
   "execution_count": null,
   "id": "1f2b9559",
   "metadata": {
    "ExecuteTime": {
     "end_time": "2024-10-23T08:58:32.322018Z",
     "start_time": "2024-10-23T08:58:32.322005Z"
    }
   },
   "outputs": [],
   "source": [
    "df.shape"
   ]
  },
  {
   "cell_type": "code",
   "execution_count": null,
   "id": "4f985142",
   "metadata": {
    "ExecuteTime": {
     "end_time": "2024-10-23T08:58:32.323186Z",
     "start_time": "2024-10-23T08:58:32.323174Z"
    }
   },
   "outputs": [],
   "source": [
    "df.info()"
   ]
  },
  {
   "cell_type": "markdown",
   "id": "b6055085",
   "metadata": {},
   "source": [
    "**Correlation matrix**"
   ]
  },
  {
   "cell_type": "code",
   "execution_count": null,
   "id": "fd527f47",
   "metadata": {
    "ExecuteTime": {
     "end_time": "2024-10-23T08:58:32.324446Z",
     "start_time": "2024-10-23T08:58:32.324435Z"
    }
   },
   "outputs": [],
   "source": [
    "# drop column always missing\n",
    "temp = df.drop('OIICS Nature of Injury Description', axis = 1)\n",
    "\n",
    "# drop na\n",
    "temp = temp.dropna()\n",
    "\n",
    "# select numbers\n",
    "corr_data = temp.select_dtypes(include=['number'])\n",
    "\n",
    "correlation_matrix = corr_data.corr(method='spearman') # pearson by default\n",
    "\n",
    "plt.figure(figsize=(10, 8))\n",
    "sns.heatmap(correlation_matrix, annot=True, cmap='Blues', linewidths=0.1)\n",
    "plt.show()"
   ]
  },
  {
   "cell_type": "markdown",
   "id": "ec2c231d",
   "metadata": {},
   "source": [
    "**Unique Values**"
   ]
  },
  {
   "cell_type": "code",
   "execution_count": null,
   "id": "0600bd76",
   "metadata": {
    "ExecuteTime": {
     "end_time": "2024-10-23T08:58:32.325635Z",
     "start_time": "2024-10-23T08:58:32.325623Z"
    },
    "scrolled": true
   },
   "outputs": [],
   "source": [
    "for column in df.columns:\n",
    "    \n",
    "    if df[column].nunique() < 20:\n",
    "        \n",
    "        print(f\"Unique values in '{column}': {df[column].unique()}\")\n",
    "        print(df[column].nunique(), '\\n')"
   ]
  },
  {
   "cell_type": "markdown",
   "id": "bb332470",
   "metadata": {},
   "source": [
    "## 2.2 Incoherencies\n",
    "\n",
    "<a href=\"#top\">Top &#129033;</a>"
   ]
  },
  {
   "cell_type": "markdown",
   "id": "36c503fb",
   "metadata": {},
   "source": [
    "**Age at Injury**\n",
    "\n",
    "very high max values"
   ]
  },
  {
   "cell_type": "code",
   "execution_count": null,
   "id": "a3cd8837",
   "metadata": {
    "ExecuteTime": {
     "end_time": "2024-10-23T08:58:32.326997Z",
     "start_time": "2024-10-23T08:58:32.326983Z"
    }
   },
   "outputs": [],
   "source": [
    "df[df['Age at Injury'] > 100]"
   ]
  },
  {
   "cell_type": "code",
   "execution_count": null,
   "id": "d0f1d5bc",
   "metadata": {
    "ExecuteTime": {
     "end_time": "2024-10-23T08:58:32.328264Z",
     "start_time": "2024-10-23T08:58:32.328250Z"
    }
   },
   "outputs": [],
   "source": [
    "f.plot_histogram(df['Age at Injury'], 'Age', 'Frequency',\n",
    "                'Age Distribution')"
   ]
  },
  {
   "cell_type": "markdown",
   "id": "8308e478",
   "metadata": {},
   "source": [
    "**Birth Year**\n",
    "\n",
    "very Low values for Birth Year, but a LOT of rows with the same issue"
   ]
  },
  {
   "cell_type": "code",
   "execution_count": null,
   "id": "1da310a4",
   "metadata": {
    "ExecuteTime": {
     "end_time": "2024-10-23T08:58:32.329515Z",
     "start_time": "2024-10-23T08:58:32.329500Z"
    },
    "scrolled": true
   },
   "outputs": [],
   "source": [
    "df[df['Birth Year'] < 1800]"
   ]
  },
  {
   "cell_type": "code",
   "execution_count": null,
   "id": "12532b08",
   "metadata": {
    "ExecuteTime": {
     "end_time": "2024-10-23T08:58:32.330936Z",
     "start_time": "2024-10-23T08:58:32.330923Z"
    }
   },
   "outputs": [],
   "source": [
    "f.plot_histogram(df['Birth Year'], 'Birth Year', 'Frequency',\n",
    "                'Birth Year Distribution')"
   ]
  },
  {
   "cell_type": "markdown",
   "id": "a94efd33",
   "metadata": {},
   "source": [
    "**IME-4 Count**\n",
    "\n",
    "Very High "
   ]
  },
  {
   "cell_type": "code",
   "execution_count": null,
   "id": "6098cbad",
   "metadata": {
    "ExecuteTime": {
     "end_time": "2024-10-23T08:58:32.332264Z",
     "start_time": "2024-10-23T08:58:32.332249Z"
    },
    "scrolled": true
   },
   "outputs": [],
   "source": [
    "df[df['IME-4 Count'] > 30]"
   ]
  },
  {
   "cell_type": "code",
   "execution_count": null,
   "id": "5a1d4f87",
   "metadata": {
    "ExecuteTime": {
     "end_time": "2024-10-23T08:58:32.333735Z",
     "start_time": "2024-10-23T08:58:32.333721Z"
    }
   },
   "outputs": [],
   "source": [
    "f.plot_histogram(df['IME-4 Count'], 'IME-4 Count', 'Frequency',\n",
    "                'IME-4 Count Distribution')"
   ]
  },
  {
   "cell_type": "markdown",
   "id": "7fab107b",
   "metadata": {},
   "source": [
    "**OIICS Nature of Injury Description**\n",
    "\n",
    "always missing"
   ]
  },
  {
   "cell_type": "code",
   "execution_count": null,
   "id": "3022d447",
   "metadata": {
    "ExecuteTime": {
     "end_time": "2024-10-23T08:58:32.335096Z",
     "start_time": "2024-10-23T08:58:32.335084Z"
    }
   },
   "outputs": [],
   "source": [
    "print(f\"Number of missing rows in variable OIICS Nature of Injury Description: {len(df[df['OIICS Nature of Injury Description'].isna()])}\")\n",
    "print(f\"Number of Rows in the Dataset: {len(df)}\")"
   ]
  },
  {
   "cell_type": "markdown",
   "id": "36b0b7a5",
   "metadata": {},
   "source": [
    "**Agreement Reached**\n",
    "\n",
    "w/ a lot of zeros"
   ]
  },
  {
   "cell_type": "code",
   "execution_count": null,
   "id": "c9458d4c",
   "metadata": {
    "ExecuteTime": {
     "end_time": "2024-10-23T08:58:32.336396Z",
     "start_time": "2024-10-23T08:58:32.336384Z"
    }
   },
   "outputs": [],
   "source": [
    "df['Agreement Reached'].value_counts()"
   ]
  },
  {
   "cell_type": "code",
   "execution_count": null,
   "id": "008a48d6",
   "metadata": {
    "ExecuteTime": {
     "end_time": "2024-10-23T08:58:32.337495Z",
     "start_time": "2024-10-23T08:58:32.337483Z"
    }
   },
   "outputs": [],
   "source": [
    "f.plot_histogram(df['Agreement Reached'], 'Agreement Reached', 'Frequency',\n",
    "                'Agreement Reached Distribution')"
   ]
  },
  {
   "cell_type": "markdown",
   "id": "2d4b2504",
   "metadata": {},
   "source": [
    "**WCB Decision**\n",
    "\n",
    "always the same"
   ]
  },
  {
   "cell_type": "code",
   "execution_count": null,
   "id": "a7d7c165",
   "metadata": {
    "ExecuteTime": {
     "end_time": "2024-10-23T08:58:32.338987Z",
     "start_time": "2024-10-23T08:58:32.338971Z"
    }
   },
   "outputs": [],
   "source": [
    "df['WCB Decision'].unique()"
   ]
  },
  {
   "cell_type": "markdown",
   "id": "8cbe42a6",
   "metadata": {},
   "source": [
    "**Claim Injury Type**\n",
    "\n",
    "imbalanced target "
   ]
  },
  {
   "cell_type": "code",
   "execution_count": null,
   "id": "81367659",
   "metadata": {
    "ExecuteTime": {
     "end_time": "2024-10-23T08:58:32.340152Z",
     "start_time": "2024-10-23T08:58:32.340140Z"
    }
   },
   "outputs": [],
   "source": [
    "df['Claim Injury Type'].value_counts()"
   ]
  },
  {
   "cell_type": "markdown",
   "id": "d7dd28fa",
   "metadata": {},
   "source": [
    "**Incoherent Columns**\n",
    "\n",
    "Some columns exist in train data but not on test"
   ]
  },
  {
   "cell_type": "code",
   "execution_count": null,
   "id": "e90f1d19",
   "metadata": {
    "ExecuteTime": {
     "end_time": "2024-10-23T08:58:32.341343Z",
     "start_time": "2024-10-23T08:58:32.341328Z"
    }
   },
   "outputs": [],
   "source": [
    "train_columns = set(df.columns)\n",
    "test_columns = set(test.columns)\n",
    "\n",
    "not_in_train = train_columns - test_columns\n",
    "print(f'Columns in train but not in test: {not_in_train}')\n"
   ]
  },
  {
   "cell_type": "markdown",
   "id": "b6f018a2",
   "metadata": {},
   "source": [
    "## 2.3 Initial Visualisations\n",
    "\n",
    "<a href=\"#top\">Top &#129033;</a>"
   ]
  },
  {
   "cell_type": "code",
   "execution_count": null,
   "id": "89f80fd9",
   "metadata": {},
   "outputs": [],
   "source": []
  },
  {
   "cell_type": "markdown",
   "id": "5ca2558a",
   "metadata": {},
   "source": [
    "# 3. Data Cleaning & Preprocessing\n",
    "\n",
    "<a href=\"#top\">Top &#129033;</a>"
   ]
  },
  {
   "cell_type": "markdown",
   "id": "9964da14",
   "metadata": {},
   "source": [
    "## 3.1 Duplicates\n",
    "\n",
    "<a href=\"#top\">Top &#129033;</a>"
   ]
  },
  {
   "cell_type": "code",
   "execution_count": null,
   "id": "f66aa181",
   "metadata": {
    "ExecuteTime": {
     "end_time": "2024-10-23T08:58:32.342799Z",
     "start_time": "2024-10-23T08:58:32.342785Z"
    }
   },
   "outputs": [],
   "source": [
    "df[df.duplicated()]"
   ]
  },
  {
   "cell_type": "code",
   "execution_count": null,
   "id": "64fe62ef",
   "metadata": {
    "ExecuteTime": {
     "end_time": "2024-10-23T08:58:32.344073Z",
     "start_time": "2024-10-23T08:58:32.344060Z"
    }
   },
   "outputs": [],
   "source": [
    "df = df.drop_duplicates()"
   ]
  },
  {
   "cell_type": "markdown",
   "id": "dbb94605",
   "metadata": {},
   "source": [
    "verify the success"
   ]
  },
  {
   "cell_type": "code",
   "execution_count": null,
   "id": "76327e35",
   "metadata": {
    "ExecuteTime": {
     "end_time": "2024-10-23T08:58:32.345104Z",
     "start_time": "2024-10-23T08:58:32.345093Z"
    }
   },
   "outputs": [],
   "source": [
    "df[df.duplicated()]"
   ]
  },
  {
   "cell_type": "markdown",
   "id": "3d51522a",
   "metadata": {},
   "source": []
  },
  {
   "cell_type": "markdown",
   "id": "455c18a6",
   "metadata": {},
   "source": [
    "## 3.5 Feature Engineering\n",
    "\n",
    "<a href=\"#top\">Top &#129033;</a>\n",
    "\n",
    "all transformations must be applied o X_test too"
   ]
  },
  {
   "cell_type": "markdown",
   "id": "7bd7ec93",
   "metadata": {},
   "source": [
    "### 3.3.1 Data Type Conversions\n",
    "\n",
    "even though this is usually feature engineering, it will be useful doing before treating missing values"
   ]
  },
  {
   "cell_type": "code",
   "execution_count": null,
   "id": "92819176",
   "metadata": {
    "ExecuteTime": {
     "end_time": "2024-10-23T08:58:32.346749Z",
     "start_time": "2024-10-23T08:58:32.346736Z"
    },
    "scrolled": true
   },
   "outputs": [],
   "source": [
    "df.info()"
   ]
  },
  {
   "cell_type": "code",
   "execution_count": null,
   "id": "86f67daf",
   "metadata": {
    "ExecuteTime": {
     "end_time": "2024-10-23T08:58:32.347914Z",
     "start_time": "2024-10-23T08:58:32.347902Z"
    }
   },
   "outputs": [],
   "source": [
    "df['Accident Date'] = pd.to_datetime(df['Accident Date'], \n",
    "                                     errors='coerce')\n",
    "\n",
    "df['Assembly Date'] = pd.to_datetime(df['Assembly Date'], \n",
    "                                     errors='coerce')\n",
    "\n",
    "df['C-2 Date'] = pd.to_datetime(df['C-2 Date'], \n",
    "                                errors='coerce')\n",
    "\n",
    "df['C-3 Date'] = pd.to_datetime(df['C-3 Date'], \n",
    "                                errors='coerce')\n",
    "\n",
    "df['First Hearing Date'] = pd.to_datetime(df['First Hearing Date'], \n",
    "                                          errors='coerce')"
   ]
  },
  {
   "cell_type": "code",
   "execution_count": null,
   "id": "1f05276b",
   "metadata": {
    "ExecuteTime": {
     "end_time": "2024-10-23T08:58:32.349398Z",
     "start_time": "2024-10-23T08:58:32.349386Z"
    },
    "scrolled": true
   },
   "outputs": [],
   "source": [
    "df.head(2)"
   ]
  },
  {
   "cell_type": "markdown",
   "id": "27a7177e",
   "metadata": {},
   "source": [
    "**Accident Date**\n",
    "\n",
    "transform into year (maybe month and day too)"
   ]
  },
  {
   "cell_type": "code",
   "execution_count": null,
   "id": "d3f57a60",
   "metadata": {
    "ExecuteTime": {
     "end_time": "2024-10-23T08:58:32.351350Z",
     "start_time": "2024-10-23T08:58:32.351334Z"
    }
   },
   "outputs": [],
   "source": [
    "df['Accident Year'] = df['Accident Date'].dt.year\n",
    "df['Accident Month'] = df['Accident Date'].dt.month\n",
    "df['Accident Day'] = df['Accident Date'].dt.day"
   ]
  },
  {
   "cell_type": "markdown",
   "id": "2830ac54",
   "metadata": {},
   "source": [
    "**Alternative Dispute Resolution**\n",
    "\n",
    "encode ['N' nan 'Y' 'U'] n -> 0, y -> 1, u -> 2"
   ]
  },
  {
   "cell_type": "code",
   "execution_count": null,
   "id": "373fbb0a",
   "metadata": {
    "ExecuteTime": {
     "end_time": "2024-10-23T08:58:32.352780Z",
     "start_time": "2024-10-23T08:58:32.352761Z"
    }
   },
   "outputs": [],
   "source": [
    "freq = df['Alternative Dispute Resolution'].value_counts()\n",
    "freq"
   ]
  },
  {
   "cell_type": "code",
   "execution_count": null,
   "id": "185b8037",
   "metadata": {
    "ExecuteTime": {
     "end_time": "2024-10-23T08:58:32.354586Z",
     "start_time": "2024-10-23T08:58:32.354566Z"
    }
   },
   "outputs": [],
   "source": [
    "df['Alternative Dispute Resolution Enc'] = df['Alternative Dispute Resolution'].map(freq)"
   ]
  },
  {
   "cell_type": "markdown",
   "id": "295f9a46",
   "metadata": {},
   "source": [
    "**Attorney/Representative**\n",
    "\n",
    "['N' 'Y' nan] encode 0/1"
   ]
  },
  {
   "cell_type": "code",
   "execution_count": null,
   "id": "ae82e49d",
   "metadata": {
    "ExecuteTime": {
     "end_time": "2024-10-23T08:58:32.357136Z",
     "start_time": "2024-10-23T08:58:32.357112Z"
    }
   },
   "outputs": [],
   "source": [
    "df['Attorney/Representative'].value_counts()"
   ]
  },
  {
   "cell_type": "code",
   "execution_count": null,
   "id": "bd0eaea9",
   "metadata": {
    "ExecuteTime": {
     "end_time": "2024-10-23T08:58:32.358870Z",
     "start_time": "2024-10-23T08:58:32.358853Z"
    }
   },
   "outputs": [],
   "source": [
    "df['Attorney/Representative Bin'] = df['Attorney/Representative'].replace({'N': 0, 'Y': 1})"
   ]
  },
  {
   "cell_type": "markdown",
   "id": "49a0ade5",
   "metadata": {},
   "source": [
    "**C-2 Date**\n",
    "\n",
    "transform into year (maybe month and day too)"
   ]
  },
  {
   "cell_type": "code",
   "execution_count": null,
   "id": "0295d577",
   "metadata": {
    "ExecuteTime": {
     "end_time": "2024-10-23T08:58:32.360306Z",
     "start_time": "2024-10-23T08:58:32.360289Z"
    }
   },
   "outputs": [],
   "source": [
    "df['C-2 Year'] = df['C-2 Date'].dt.year\n",
    "df['C-2 Month'] = df['C-2 Date'].dt.month\n",
    "df['C-2 Day'] = df['C-2 Date'].dt.day"
   ]
  },
  {
   "cell_type": "markdown",
   "id": "cb654b3a",
   "metadata": {},
   "source": [
    "**Carrier Name**\n",
    "\n",
    "too many unique values to encode, probably drop"
   ]
  },
  {
   "cell_type": "code",
   "execution_count": null,
   "id": "cf51a3d7",
   "metadata": {
    "ExecuteTime": {
     "end_time": "2024-10-23T08:58:32.362416Z",
     "start_time": "2024-10-23T08:58:32.362399Z"
    }
   },
   "outputs": [],
   "source": [
    "df['Carrier Name'].nunique()"
   ]
  },
  {
   "cell_type": "markdown",
   "id": "844f6cdc",
   "metadata": {},
   "source": [
    "frequency encoder"
   ]
  },
  {
   "cell_type": "code",
   "execution_count": null,
   "id": "64ef4ab4",
   "metadata": {
    "ExecuteTime": {
     "end_time": "2024-10-23T08:58:32.363971Z",
     "start_time": "2024-10-23T08:58:32.363954Z"
    }
   },
   "outputs": [],
   "source": [
    "freq = df['Carrier Name'].value_counts()"
   ]
  },
  {
   "cell_type": "code",
   "execution_count": null,
   "id": "33453430",
   "metadata": {
    "ExecuteTime": {
     "end_time": "2024-10-23T08:58:32.365773Z",
     "start_time": "2024-10-23T08:58:32.365752Z"
    }
   },
   "outputs": [],
   "source": [
    "df['Carrier Name Enc'] = df['Carrier Name'].map(freq)"
   ]
  },
  {
   "cell_type": "markdown",
   "id": "3a29e89b",
   "metadata": {},
   "source": [
    "**Carrier Type**\n",
    "\n",
    "encode (8 unique values)"
   ]
  },
  {
   "cell_type": "code",
   "execution_count": null,
   "id": "04d08ae9",
   "metadata": {
    "ExecuteTime": {
     "end_time": "2024-10-23T08:58:32.368064Z",
     "start_time": "2024-10-23T08:58:32.368049Z"
    }
   },
   "outputs": [],
   "source": [
    "freq = df['Carrier Type'].value_counts()\n",
    "freq"
   ]
  },
  {
   "cell_type": "code",
   "execution_count": null,
   "id": "3eee24cd",
   "metadata": {
    "ExecuteTime": {
     "end_time": "2024-10-23T08:58:32.369862Z",
     "start_time": "2024-10-23T08:58:32.369847Z"
    }
   },
   "outputs": [],
   "source": [
    "df['Carrier Type Enc'] = df['Carrier Type'].map(freq)"
   ]
  },
  {
   "cell_type": "markdown",
   "id": "946e7f5f",
   "metadata": {},
   "source": [
    "**County of Injury**\n",
    "\n",
    "probably too many to encode (?) --> freq encoding"
   ]
  },
  {
   "cell_type": "code",
   "execution_count": null,
   "id": "f372ef26",
   "metadata": {
    "ExecuteTime": {
     "end_time": "2024-10-23T08:58:32.371615Z",
     "start_time": "2024-10-23T08:58:32.371599Z"
    }
   },
   "outputs": [],
   "source": [
    "df['County of Injury'].nunique()"
   ]
  },
  {
   "cell_type": "code",
   "execution_count": null,
   "id": "9d987db2",
   "metadata": {
    "ExecuteTime": {
     "end_time": "2024-10-23T08:58:32.373263Z",
     "start_time": "2024-10-23T08:58:32.373246Z"
    }
   },
   "outputs": [],
   "source": [
    "freq = df['County of Injury'].value_counts()"
   ]
  },
  {
   "cell_type": "code",
   "execution_count": null,
   "id": "fe48ea14",
   "metadata": {
    "ExecuteTime": {
     "end_time": "2024-10-23T08:58:32.375010Z",
     "start_time": "2024-10-23T08:58:32.374992Z"
    }
   },
   "outputs": [],
   "source": [
    "df['County of Injury Enc'] = df['County of Injury'].map(freq)"
   ]
  },
  {
   "cell_type": "markdown",
   "id": "f62e7f0c",
   "metadata": {},
   "source": [
    "**COVID-19 Indicator**\n",
    "\n",
    "binary encoding"
   ]
  },
  {
   "cell_type": "code",
   "execution_count": null,
   "id": "b4840271",
   "metadata": {
    "ExecuteTime": {
     "end_time": "2024-10-23T08:58:32.376856Z",
     "start_time": "2024-10-23T08:58:32.376840Z"
    }
   },
   "outputs": [],
   "source": [
    "df['COVID-19 Indicator'].value_counts()"
   ]
  },
  {
   "cell_type": "code",
   "execution_count": null,
   "id": "5ec0c2b3",
   "metadata": {
    "ExecuteTime": {
     "end_time": "2024-10-23T08:58:32.378605Z",
     "start_time": "2024-10-23T08:58:32.378590Z"
    }
   },
   "outputs": [],
   "source": [
    "df['COVID-19 Indicator Bin'] = df['COVID-19 Indicator'].replace({'N': 0, 'Y': 1})"
   ]
  },
  {
   "cell_type": "markdown",
   "id": "f0f3cb7a",
   "metadata": {},
   "source": [
    "**District Name**\n",
    "\n",
    "encode (8 uniques)"
   ]
  },
  {
   "cell_type": "code",
   "execution_count": null,
   "id": "43049242",
   "metadata": {
    "ExecuteTime": {
     "end_time": "2024-10-23T08:58:32.380010Z",
     "start_time": "2024-10-23T08:58:32.379994Z"
    }
   },
   "outputs": [],
   "source": [
    "freq = df['District Name'].value_counts()\n",
    "freq"
   ]
  },
  {
   "cell_type": "code",
   "execution_count": null,
   "id": "779944c1",
   "metadata": {
    "ExecuteTime": {
     "end_time": "2024-10-23T08:58:32.381525Z",
     "start_time": "2024-10-23T08:58:32.381509Z"
    }
   },
   "outputs": [],
   "source": [
    "df['District Name Enc'] = df['District Name'].map(freq)"
   ]
  },
  {
   "cell_type": "markdown",
   "id": "9e7f1f74",
   "metadata": {},
   "source": [
    "**Gender**\n",
    "\n",
    "encode ['M' 'F' nan 'U' 'X']"
   ]
  },
  {
   "cell_type": "code",
   "execution_count": null,
   "id": "0d703d99",
   "metadata": {
    "ExecuteTime": {
     "end_time": "2024-10-23T08:58:32.382922Z",
     "start_time": "2024-10-23T08:58:32.382908Z"
    }
   },
   "outputs": [],
   "source": [
    "df['Gender'].value_counts()"
   ]
  },
  {
   "cell_type": "code",
   "execution_count": null,
   "id": "8b0ffab9",
   "metadata": {
    "ExecuteTime": {
     "end_time": "2024-10-23T08:58:32.384390Z",
     "start_time": "2024-10-23T08:58:32.384376Z"
    }
   },
   "outputs": [],
   "source": [
    "df['Gender Enc'] = df['Gender'].map({\n",
    "    'M': 0,  # Male\n",
    "    'F': 1,  # Female\n",
    "    'U': 2,  # Unknown \n",
    "    'X': 2   # Other \n",
    "})"
   ]
  },
  {
   "cell_type": "markdown",
   "id": "42a1373b",
   "metadata": {},
   "source": [
    "**Medical Fee Region**\n",
    "\n",
    "encode"
   ]
  },
  {
   "cell_type": "code",
   "execution_count": null,
   "id": "5cb48130",
   "metadata": {
    "ExecuteTime": {
     "end_time": "2024-10-23T08:58:32.385788Z",
     "start_time": "2024-10-23T08:58:32.385774Z"
    },
    "scrolled": false
   },
   "outputs": [],
   "source": [
    "freq = df['Medical Fee Region'].value_counts()\n",
    "freq"
   ]
  },
  {
   "cell_type": "code",
   "execution_count": null,
   "id": "1ef4622c",
   "metadata": {
    "ExecuteTime": {
     "end_time": "2024-10-23T08:58:32.387176Z",
     "start_time": "2024-10-23T08:58:32.387162Z"
    }
   },
   "outputs": [],
   "source": [
    "df['Medical Fee Region Enc'] = df['Medical Fee Region'].map(freq)"
   ]
  },
  {
   "cell_type": "markdown",
   "id": "95bc7eb2",
   "metadata": {},
   "source": [
    "**Claim Injury Type**"
   ]
  },
  {
   "cell_type": "code",
   "execution_count": null,
   "id": "39adabf2",
   "metadata": {
    "ExecuteTime": {
     "end_time": "2024-10-23T08:58:32.388757Z",
     "start_time": "2024-10-23T08:58:32.388743Z"
    }
   },
   "outputs": [],
   "source": [
    "# from sklearn.preprocessing import LabelEncoder\n",
    "\n",
    "# encoder = LabelEncoder()\n",
    "# df['Claim Injury Type'] = encoder.fit_transform(df['Claim Injury Type'])\n",
    "\n",
    "\n",
    "# #encoder.inverse_transform([result])"
   ]
  },
  {
   "cell_type": "markdown",
   "id": "11add925",
   "metadata": {},
   "source": [
    "**Columns not in test data**"
   ]
  },
  {
   "cell_type": "code",
   "execution_count": null,
   "id": "89acd60e",
   "metadata": {
    "ExecuteTime": {
     "end_time": "2024-10-23T08:58:32.390174Z",
     "start_time": "2024-10-23T08:58:32.390158Z"
    }
   },
   "outputs": [],
   "source": [
    "df = df.drop(['Agreement Reached', 'WCB Decision'], axis = 1)"
   ]
  },
  {
   "cell_type": "markdown",
   "id": "6b59d8c1",
   "metadata": {},
   "source": [
    "### 3.3.3 Unique Feature-Pair Analysis \n",
    "\n",
    "<a href=\"#top\">Top &#129033;</a>\n",
    "\n",
    "save codes and descriptions in dataframes, for later consultation (if needed)"
   ]
  },
  {
   "cell_type": "code",
   "execution_count": null,
   "id": "41b80d8d",
   "metadata": {
    "ExecuteTime": {
     "end_time": "2024-10-23T08:58:32.391548Z",
     "start_time": "2024-10-23T08:58:32.391533Z"
    }
   },
   "outputs": [],
   "source": [
    "injury_cause = df[['WCIO Cause of Injury Code', 'WCIO Cause of Injury Description']].drop_duplicates()\n",
    "\n",
    "injury_cause_df = injury_cause.set_index('WCIO Cause of Injury Code')\n",
    "\n",
    "injury_cause_df.head(2)"
   ]
  },
  {
   "cell_type": "code",
   "execution_count": null,
   "id": "2c62f34d",
   "metadata": {
    "ExecuteTime": {
     "end_time": "2024-10-23T08:58:32.393023Z",
     "start_time": "2024-10-23T08:58:32.393010Z"
    }
   },
   "outputs": [],
   "source": [
    "injury_nature = df[['WCIO Nature of Injury Code', 'WCIO Nature of Injury Description']].drop_duplicates()\n",
    "\n",
    "injury_nature_df = injury_nature.set_index('WCIO Nature of Injury Code')\n",
    "\n",
    "injury_nature_df.head(2)"
   ]
  },
  {
   "cell_type": "code",
   "execution_count": null,
   "id": "9850453f",
   "metadata": {
    "ExecuteTime": {
     "end_time": "2024-10-23T08:58:32.394474Z",
     "start_time": "2024-10-23T08:58:32.394458Z"
    }
   },
   "outputs": [],
   "source": [
    "body_code = df[['WCIO Part Of Body Code', 'WCIO Part Of Body Description']].drop_duplicates()\n",
    "\n",
    "body_code_df = body_code.set_index('WCIO Part Of Body Code')\n",
    "\n",
    "\n",
    "body_code_df.head(2)"
   ]
  },
  {
   "cell_type": "code",
   "execution_count": null,
   "id": "b26596db",
   "metadata": {
    "ExecuteTime": {
     "end_time": "2024-10-23T08:58:32.395916Z",
     "start_time": "2024-10-23T08:58:32.395901Z"
    }
   },
   "outputs": [],
   "source": [
    "industry_code = df[['Industry Code', 'Industry Code Description']].drop_duplicates()\n",
    "\n",
    "industry_code_df = industry_code.set_index('Industry Code')\n",
    "\n",
    "\n",
    "industry_code_df.head(2)"
   ]
  },
  {
   "cell_type": "markdown",
   "id": "04aa079b",
   "metadata": {},
   "source": [
    "remove unnecessary columns from df"
   ]
  },
  {
   "cell_type": "code",
   "execution_count": null,
   "id": "7b6e4f08",
   "metadata": {
    "ExecuteTime": {
     "end_time": "2024-10-23T08:58:32.397416Z",
     "start_time": "2024-10-23T08:58:32.397400Z"
    }
   },
   "outputs": [],
   "source": [
    "# df = df.drop(['WCIO Cause of Injury Description', 'WCIO Nature of Injury Description', \n",
    "#               'WCIO Part Of Body Description', 'Industry Code Description'], axis = 1)"
   ]
  },
  {
   "cell_type": "markdown",
   "id": "d826af8f",
   "metadata": {},
   "source": [
    "antes de remover esta descriptions foi confirmado se haviam missing values nos codes mas havia a sua descrição, oq n aconteceu"
   ]
  },
  {
   "cell_type": "markdown",
   "id": "ae0713a9",
   "metadata": {},
   "source": [
    "| VARIABLE NAME | DESCRIPTION | \n",
    "| -------- | ---------- |\n",
    "| C-3 Date Binary | 1 if C-3 happened, 0 otherwise |\n",
    "| First Hearing Year | year of the first hearing (0 if no hearing happened) |\n",
    "| Accident Year / Month / Day | year / month / day of the accident |\n",
    "| Assembly Year / Month / Day | year / month / day of the assembly |\n",
    "| Attorney/Representative Bin | 1 if represented by lawyer, 0 otherwise |\n",
    "| C-2 Year / Month / Day | year / month / day of receipt of C-2 |\n",
    "| Carrier Name Enc | replaced Carrier Name by frequency of each carrier name |\n",
    "| County of Injury Enc | replaced County of Injury by frequency of each county name |\n",
    "| COVID-19 Indicator Bin | 1 if has covid, 0 otherwise |\n",
    "| District Name Enc | replaced District Name by frequency of each district name |\n",
    "| Gender Enc | 0 if male, 1 if female, 2 otherwise |\n",
    "| Medical Fee Region Enc | replaced Medical Fee Region by frequency of each region name |\n",
    "\n"
   ]
  },
  {
   "cell_type": "markdown",
   "id": "ebb2377b",
   "metadata": {},
   "source": [
    "**Look at df**\n",
    "\n",
    "before next step"
   ]
  },
  {
   "cell_type": "code",
   "execution_count": null,
   "id": "bc2de86b",
   "metadata": {
    "ExecuteTime": {
     "end_time": "2024-10-23T08:58:32.399005Z",
     "start_time": "2024-10-23T08:58:32.398967Z"
    },
    "scrolled": true
   },
   "outputs": [],
   "source": [
    "df.head(3)"
   ]
  },
  {
   "cell_type": "markdown",
   "id": "61e7c0dc",
   "metadata": {},
   "source": [
    "## 3.3 Missing Values\n",
    "\n",
    "<a href=\"#top\">Top &#129033;</a>"
   ]
  },
  {
   "cell_type": "code",
   "execution_count": null,
   "id": "a6a88747",
   "metadata": {
    "ExecuteTime": {
     "end_time": "2024-10-23T08:58:32.400519Z",
     "start_time": "2024-10-23T08:58:32.400500Z"
    }
   },
   "outputs": [],
   "source": [
    "df.isna().sum()"
   ]
  },
  {
   "cell_type": "code",
   "execution_count": null,
   "id": "f78f79cb",
   "metadata": {
    "ExecuteTime": {
     "end_time": "2024-10-23T08:58:32.401969Z",
     "start_time": "2024-10-23T08:58:32.401954Z"
    }
   },
   "outputs": [],
   "source": [
    "df[df['Claim Injury Type'].isna()]"
   ]
  },
  {
   "cell_type": "markdown",
   "id": "b8a22d6c",
   "metadata": {
    "ExecuteTime": {
     "end_time": "2024-10-23T08:15:41.670434Z",
     "start_time": "2024-10-23T08:15:40.857878Z"
    }
   },
   "source": [
    "dropping them"
   ]
  },
  {
   "cell_type": "code",
   "execution_count": null,
   "id": "49c24623",
   "metadata": {
    "ExecuteTime": {
     "end_time": "2024-10-23T08:58:32.403901Z",
     "start_time": "2024-10-23T08:58:32.403875Z"
    }
   },
   "outputs": [],
   "source": [
    "df.dropna(subset=['Claim Injury Type'], inplace=True)"
   ]
  },
  {
   "cell_type": "markdown",
   "id": "7c637bf6",
   "metadata": {},
   "source": [
    "verifying the success"
   ]
  },
  {
   "cell_type": "code",
   "execution_count": null,
   "id": "a091f483",
   "metadata": {
    "ExecuteTime": {
     "end_time": "2024-10-23T08:58:32.405879Z",
     "start_time": "2024-10-23T08:58:32.405860Z"
    }
   },
   "outputs": [],
   "source": [
    "df[df['Claim Injury Type'].isna()]"
   ]
  },
  {
   "cell_type": "code",
   "execution_count": null,
   "id": "d6e5f245",
   "metadata": {
    "ExecuteTime": {
     "end_time": "2024-10-23T08:58:32.408176Z",
     "start_time": "2024-10-23T08:58:32.408147Z"
    }
   },
   "outputs": [],
   "source": [
    "df.isna().sum() / len(df) * 100"
   ]
  },
  {
   "cell_type": "markdown",
   "id": "421fd9f3",
   "metadata": {},
   "source": [
    "**C-3 Date**"
   ]
  },
  {
   "cell_type": "code",
   "execution_count": null,
   "id": "83593f82",
   "metadata": {
    "ExecuteTime": {
     "end_time": "2024-10-23T08:58:32.410693Z",
     "start_time": "2024-10-23T08:58:32.410677Z"
    }
   },
   "outputs": [],
   "source": [
    "print(f'There are {len(df[df[\"C-3 Date\"].isna()])} rows with missing values')\n",
    "df[df['C-3 Date'].isna()].head(2)\n",
    "\n",
    "# var description: Date Form C-3 (Employee Claim Form) was received\n",
    "## interpretation --> if missing, was not received --> fill w/ 0 ou deixar estar como está (?) --> pode dar problema nas visualisations"
   ]
  },
  {
   "cell_type": "code",
   "execution_count": null,
   "id": "1aed96d3",
   "metadata": {
    "ExecuteTime": {
     "end_time": "2024-10-23T08:58:32.412753Z",
     "start_time": "2024-10-23T08:58:32.412736Z"
    }
   },
   "outputs": [],
   "source": [
    "# Create a binary variable: 1 if 'C-3 Date' is not missing, 0 if it is missing\n",
    "df['C-3 Date Binary'] = df['C-3 Date'].notna().astype(int)"
   ]
  },
  {
   "cell_type": "markdown",
   "id": "cb22f455",
   "metadata": {},
   "source": [
    "**First Hearing Date**"
   ]
  },
  {
   "cell_type": "code",
   "execution_count": null,
   "id": "c63283c5",
   "metadata": {
    "ExecuteTime": {
     "end_time": "2024-10-23T08:58:32.414027Z",
     "start_time": "2024-10-23T08:58:32.414013Z"
    }
   },
   "outputs": [],
   "source": [
    "print(f'There are {len(df[df[\"First Hearing Date\"].isna()])} rows with missing values')\n",
    "df[df['First Hearing Date'].isna()].head(2)\n",
    "\n",
    "# var meaning --> Date the first hearing was held on a claim at a WCB hearinglocation. A blank date means the claim has not yet had ahearing held\n",
    "## sol --> fill w/ 0s ou deixar estar como está (?) --> pode dar problema nas visualisations"
   ]
  },
  {
   "cell_type": "code",
   "execution_count": null,
   "id": "86ef83a9",
   "metadata": {
    "ExecuteTime": {
     "end_time": "2024-10-23T08:58:32.415697Z",
     "start_time": "2024-10-23T08:58:32.415681Z"
    }
   },
   "outputs": [],
   "source": [
    "# Create a new variable: 0 if 'First Hearing Date' is missing, otherwise extract the year\n",
    "\n",
    "df['First Hearing Year'] = df['First Hearing Date'].apply(lambda x: x.year if pd.notna(x) else 0)\n",
    "\n",
    "### other alternative\n",
    "## 1->first hearing aconteceu\n",
    "## o --> not happened"
   ]
  },
  {
   "cell_type": "markdown",
   "id": "6a1e0ced",
   "metadata": {},
   "source": [
    "**IME-4 Count**"
   ]
  },
  {
   "cell_type": "code",
   "execution_count": null,
   "id": "a3f3d530",
   "metadata": {
    "ExecuteTime": {
     "end_time": "2024-10-23T08:58:32.417345Z",
     "start_time": "2024-10-23T08:58:32.417329Z"
    }
   },
   "outputs": [],
   "source": [
    "print(f'There are {len(df[df[\"IME-4 Count\"].isna()])} rows with missing values')\n",
    "df[df['IME-4 Count'].isna()].head(2)\n",
    "\n",
    "# var description -->Number of IME-4 forms received per claim. The IME-4 form isthe “Independent Examiner's Report of Independent MedicalExamination” form\n",
    "## ASSUME that if missing, no forms received --> fill w/ zero"
   ]
  },
  {
   "cell_type": "code",
   "execution_count": null,
   "id": "a50a89b2",
   "metadata": {
    "ExecuteTime": {
     "end_time": "2024-10-23T08:58:32.418983Z",
     "start_time": "2024-10-23T08:58:32.418967Z"
    }
   },
   "outputs": [],
   "source": [
    "df['IME-4 Count'] = df['IME-4 Count'].fillna(0)"
   ]
  },
  {
   "cell_type": "markdown",
   "id": "fee3948a",
   "metadata": {},
   "source": [
    "**OIICS Nature of Injury Description**"
   ]
  },
  {
   "cell_type": "code",
   "execution_count": null,
   "id": "6b5395a1",
   "metadata": {
    "ExecuteTime": {
     "end_time": "2024-10-23T08:58:32.420647Z",
     "start_time": "2024-10-23T08:58:32.420630Z"
    }
   },
   "outputs": [],
   "source": [
    "print(f'There are {len(df[df[\"OIICS Nature of Injury Description\"].isna()])} rows with missing values')\n",
    "df[df['OIICS Nature of Injury Description'].isna()].head(2)"
   ]
  },
  {
   "cell_type": "code",
   "execution_count": null,
   "id": "458c913c",
   "metadata": {
    "ExecuteTime": {
     "end_time": "2024-10-23T08:58:32.422106Z",
     "start_time": "2024-10-23T08:58:32.422091Z"
    }
   },
   "outputs": [],
   "source": [
    "# size of missing / size of dataset\n",
    "len(df[df['OIICS Nature of Injury Description'].isna()]) / len(df)"
   ]
  },
  {
   "cell_type": "markdown",
   "id": "ba4668dc",
   "metadata": {},
   "source": [
    "drop useless variables "
   ]
  },
  {
   "cell_type": "code",
   "execution_count": null,
   "id": "aebf0c7c",
   "metadata": {
    "ExecuteTime": {
     "end_time": "2024-10-23T08:58:32.423654Z",
     "start_time": "2024-10-23T08:58:32.423639Z"
    }
   },
   "outputs": [],
   "source": [
    "df = df.drop(['C-3 Date', 'First Hearing Date', \n",
    "             'OIICS Nature of Injury Description'], axis = 1)"
   ]
  },
  {
   "cell_type": "code",
   "execution_count": null,
   "id": "7dbf6b2d",
   "metadata": {},
   "outputs": [],
   "source": []
  },
  {
   "cell_type": "code",
   "execution_count": null,
   "id": "131a0e26",
   "metadata": {
    "ExecuteTime": {
     "end_time": "2024-10-23T08:58:32.425096Z",
     "start_time": "2024-10-23T08:58:32.425082Z"
    }
   },
   "outputs": [],
   "source": [
    "df.isna().sum() / len(df) * 100"
   ]
  },
  {
   "cell_type": "markdown",
   "id": "ef07473f",
   "metadata": {},
   "source": [
    "**Accident Date**"
   ]
  },
  {
   "cell_type": "code",
   "execution_count": null,
   "id": "eb6c526b",
   "metadata": {
    "ExecuteTime": {
     "end_time": "2024-10-23T08:58:32.426385Z",
     "start_time": "2024-10-23T08:58:32.426372Z"
    },
    "scrolled": true
   },
   "outputs": [],
   "source": [
    "# always has age at injury 0\n",
    "df[df['Accident Date'].isna()]"
   ]
  },
  {
   "cell_type": "code",
   "execution_count": null,
   "id": "ffd74961",
   "metadata": {
    "ExecuteTime": {
     "end_time": "2024-10-23T08:58:32.427854Z",
     "start_time": "2024-10-23T08:58:32.427840Z"
    }
   },
   "outputs": [],
   "source": [
    "years = df['Accident Date'].dt.year.dropna() \n",
    "\n",
    "f.plot_histogram(data=years, \n",
    "               xlabel='Year', \n",
    "               ylabel='Frequency', \n",
    "               title='Distribution of Accident Dates by Year')"
   ]
  },
  {
   "cell_type": "markdown",
   "id": "ea6393fc",
   "metadata": {},
   "source": [
    "Use the Median Difference Between the Two Dates"
   ]
  },
  {
   "cell_type": "code",
   "execution_count": null,
   "id": "dc77bf60",
   "metadata": {
    "ExecuteTime": {
     "end_time": "2024-10-23T08:58:32.429938Z",
     "start_time": "2024-10-23T08:58:32.429921Z"
    }
   },
   "outputs": [],
   "source": [
    "# Calculate the median difference between 'Assembly Date' and 'Accident Date'\n",
    "time_diff = (df['Assembly Date'] - df['Accident Date']).median()\n"
   ]
  },
  {
   "cell_type": "code",
   "execution_count": null,
   "id": "5cfd29b6",
   "metadata": {
    "ExecuteTime": {
     "end_time": "2024-10-23T08:58:32.431139Z",
     "start_time": "2024-10-23T08:58:32.431127Z"
    }
   },
   "outputs": [],
   "source": [
    "df['Accident Date'] = df['Accident Date'].fillna(df['Assembly Date'] - time_diff)"
   ]
  },
  {
   "cell_type": "markdown",
   "id": "0baa77ea",
   "metadata": {},
   "source": [
    "**Birth Year**\n",
    "\n",
    "can be computed from Age at Injury & accident date"
   ]
  },
  {
   "cell_type": "code",
   "execution_count": null,
   "id": "68b3a1d5",
   "metadata": {
    "ExecuteTime": {
     "end_time": "2024-10-23T08:58:32.432629Z",
     "start_time": "2024-10-23T08:58:32.432615Z"
    }
   },
   "outputs": [],
   "source": [
    "df[df['Birth Year'].isna()]"
   ]
  },
  {
   "cell_type": "code",
   "execution_count": null,
   "id": "7efc5ed6",
   "metadata": {
    "ExecuteTime": {
     "end_time": "2024-10-23T08:58:32.433918Z",
     "start_time": "2024-10-23T08:58:32.433905Z"
    }
   },
   "outputs": [],
   "source": [
    "df[df['Birth Year'] == 0]"
   ]
  },
  {
   "cell_type": "code",
   "execution_count": null,
   "id": "649c879c",
   "metadata": {
    "ExecuteTime": {
     "end_time": "2024-10-23T08:58:32.435080Z",
     "start_time": "2024-10-23T08:58:32.435068Z"
    }
   },
   "outputs": [],
   "source": [
    "df.loc[df['Birth Year'].isna() | (df['Birth Year'] == 0), \n",
    "            'Birth Year'] = df['Accident Date'].dt.year - df['Age at Injury']"
   ]
  },
  {
   "cell_type": "markdown",
   "id": "89b03fa3",
   "metadata": {},
   "source": [
    "**C-2 Date**"
   ]
  },
  {
   "cell_type": "code",
   "execution_count": null,
   "id": "ccfb1521",
   "metadata": {
    "ExecuteTime": {
     "end_time": "2024-10-23T08:58:32.436296Z",
     "start_time": "2024-10-23T08:58:32.436285Z"
    },
    "scrolled": true
   },
   "outputs": [],
   "source": [
    "df[df['C-2 Date'].isna()]"
   ]
  },
  {
   "cell_type": "code",
   "execution_count": null,
   "id": "b4959657",
   "metadata": {
    "ExecuteTime": {
     "end_time": "2024-10-23T08:58:32.437544Z",
     "start_time": "2024-10-23T08:58:32.437529Z"
    }
   },
   "outputs": [],
   "source": [
    "# #fill with median\n",
    "# median_c2_date = df['C-2 Date'].median()\n",
    "\n",
    "# df['C-2 Date'] = df['C-2 Date'].fillna(median_c2_date)"
   ]
  },
  {
   "cell_type": "markdown",
   "id": "b335dcc2",
   "metadata": {
    "ExecuteTime": {
     "end_time": "2024-10-14T09:36:17.417125Z",
     "start_time": "2024-10-14T09:36:17.413033Z"
    }
   },
   "source": [
    "**Industry Code**"
   ]
  },
  {
   "cell_type": "code",
   "execution_count": null,
   "id": "0edd63e8",
   "metadata": {
    "ExecuteTime": {
     "end_time": "2024-10-23T08:58:32.438954Z",
     "start_time": "2024-10-23T08:58:32.438941Z"
    }
   },
   "outputs": [],
   "source": [
    "df[(df['Industry Code'].isna()) & (df['Industry Code Description'].isna())]"
   ]
  },
  {
   "cell_type": "code",
   "execution_count": null,
   "id": "c54c6f52",
   "metadata": {
    "ExecuteTime": {
     "end_time": "2024-10-23T08:58:32.440031Z",
     "start_time": "2024-10-23T08:58:32.440019Z"
    }
   },
   "outputs": [],
   "source": [
    "df['Industry Code'].unique()"
   ]
  },
  {
   "cell_type": "code",
   "execution_count": null,
   "id": "d8257aa1",
   "metadata": {
    "ExecuteTime": {
     "end_time": "2024-10-23T08:58:32.441371Z",
     "start_time": "2024-10-23T08:58:32.441358Z"
    }
   },
   "outputs": [],
   "source": [
    "# fill with new code for unknown - 0\n",
    "\n",
    "df['Industry Code'] = df['Industry Code'].fillna(0)\n",
    "df['Industry Code Description'] = df['Industry Code Description'].fillna('Unknown')"
   ]
  },
  {
   "cell_type": "markdown",
   "id": "5254dff0",
   "metadata": {},
   "source": [
    "**WCIO Cause of Injury Code**"
   ]
  },
  {
   "cell_type": "code",
   "execution_count": null,
   "id": "4d89cb31",
   "metadata": {
    "ExecuteTime": {
     "end_time": "2024-10-23T08:58:32.443119Z",
     "start_time": "2024-10-23T08:58:32.443102Z"
    }
   },
   "outputs": [],
   "source": [
    "df[(df['WCIO Cause of Injury Code'].isna()) & (df['WCIO Cause of Injury Description'].isna())]"
   ]
  },
  {
   "cell_type": "code",
   "execution_count": null,
   "id": "812a19ee",
   "metadata": {
    "ExecuteTime": {
     "end_time": "2024-10-23T08:58:32.444618Z",
     "start_time": "2024-10-23T08:58:32.444605Z"
    }
   },
   "outputs": [],
   "source": [
    "# fill with new code for unknown - 0\n",
    "\n",
    "df['WCIO Cause of Injury Code'] = df['WCIO Cause of Injury Code'].fillna(0)\n",
    "df['WCIO Cause of Injury Description'] = df['WCIO Cause of Injury Description'].fillna('Unknown')"
   ]
  },
  {
   "cell_type": "markdown",
   "id": "f1a6df73",
   "metadata": {},
   "source": [
    "**WCIO Nature of Injury Code**"
   ]
  },
  {
   "cell_type": "code",
   "execution_count": null,
   "id": "474eb5a7",
   "metadata": {
    "ExecuteTime": {
     "end_time": "2024-10-23T08:58:32.446196Z",
     "start_time": "2024-10-23T08:58:32.446181Z"
    }
   },
   "outputs": [],
   "source": [
    "df[(df['WCIO Nature of Injury Code'].isna()) & (df['WCIO Nature of Injury Description'].isna())]"
   ]
  },
  {
   "cell_type": "code",
   "execution_count": null,
   "id": "8f8403e5",
   "metadata": {
    "ExecuteTime": {
     "end_time": "2024-10-23T08:58:32.447591Z",
     "start_time": "2024-10-23T08:58:32.447577Z"
    }
   },
   "outputs": [],
   "source": [
    "# fill with new code for unknown - 0\n",
    "\n",
    "df['WCIO Nature of Injury Code'] = df['WCIO Nature of Injury Code'].fillna(0)\n",
    "df['WCIO Nature of Injury Description'] = df['WCIO Nature of Injury Description'].fillna('Unknown')"
   ]
  },
  {
   "cell_type": "markdown",
   "id": "801364bc",
   "metadata": {
    "ExecuteTime": {
     "end_time": "2024-10-14T09:36:53.700018Z",
     "start_time": "2024-10-14T09:36:53.696748Z"
    }
   },
   "source": [
    "**WCIO Part Of Body Code**"
   ]
  },
  {
   "cell_type": "code",
   "execution_count": null,
   "id": "6026ffab",
   "metadata": {
    "ExecuteTime": {
     "end_time": "2024-10-23T08:58:32.448974Z",
     "start_time": "2024-10-23T08:58:32.448961Z"
    }
   },
   "outputs": [],
   "source": [
    "df[(df['WCIO Part Of Body Code'].isna()) & (df['WCIO Part Of Body Description'].isna())]"
   ]
  },
  {
   "cell_type": "code",
   "execution_count": null,
   "id": "32ae5eb3",
   "metadata": {
    "ExecuteTime": {
     "end_time": "2024-10-23T08:58:32.450443Z",
     "start_time": "2024-10-23T08:58:32.450429Z"
    }
   },
   "outputs": [],
   "source": [
    "# fill with new code for unknown - 0\n",
    "\n",
    "df['WCIO Part Of Body Code'] = df['WCIO Part Of Body Code'].fillna(0)\n",
    "df['WCIO Part Of Body Description'] = df['WCIO Part Of Body Description'].fillna('Unknown')"
   ]
  },
  {
   "cell_type": "markdown",
   "id": "8688f8b6",
   "metadata": {},
   "source": [
    "**Zip Code**"
   ]
  },
  {
   "cell_type": "code",
   "execution_count": null,
   "id": "b9f0f7e6",
   "metadata": {
    "ExecuteTime": {
     "end_time": "2024-10-23T08:58:32.451798Z",
     "start_time": "2024-10-23T08:58:32.451784Z"
    }
   },
   "outputs": [],
   "source": [
    "df[df['Zip Code'].isna()]"
   ]
  },
  {
   "cell_type": "code",
   "execution_count": null,
   "id": "23c904d2",
   "metadata": {
    "ExecuteTime": {
     "end_time": "2024-10-23T08:58:32.453113Z",
     "start_time": "2024-10-23T08:58:32.453098Z"
    }
   },
   "outputs": [],
   "source": [
    "# fill with new code for unknown - 0\n",
    "\n",
    "df['Zip Code'] = df['Zip Code'].fillna(99999)"
   ]
  },
  {
   "cell_type": "code",
   "execution_count": null,
   "id": "c2e71b25",
   "metadata": {
    "ExecuteTime": {
     "end_time": "2024-10-23T08:58:32.454716Z",
     "start_time": "2024-10-23T08:58:32.454700Z"
    }
   },
   "outputs": [],
   "source": [
    "df.isna().sum() / len(df) * 100"
   ]
  },
  {
   "cell_type": "markdown",
   "id": "862225c9",
   "metadata": {},
   "source": [
    "TEMP DF TO SEE OUTLIERS AND FEATURE SELECTION"
   ]
  },
  {
   "cell_type": "code",
   "execution_count": null,
   "id": "bad497b0",
   "metadata": {
    "ExecuteTime": {
     "end_time": "2024-10-23T08:58:32.456098Z",
     "start_time": "2024-10-23T08:58:32.456084Z"
    }
   },
   "outputs": [],
   "source": [
    "df2 = df.copy()"
   ]
  },
  {
   "cell_type": "code",
   "execution_count": null,
   "id": "4b116d4f",
   "metadata": {
    "ExecuteTime": {
     "end_time": "2024-10-23T08:58:32.457442Z",
     "start_time": "2024-10-23T08:58:32.457426Z"
    }
   },
   "outputs": [],
   "source": [
    "X = df2.drop('Claim Injury Type', axis = 1)\n",
    "\n",
    "y = df2['Claim Injury Type']"
   ]
  },
  {
   "cell_type": "code",
   "execution_count": null,
   "id": "5a7db044",
   "metadata": {
    "ExecuteTime": {
     "end_time": "2024-10-23T08:58:32.459189Z",
     "start_time": "2024-10-23T08:58:32.459173Z"
    }
   },
   "outputs": [],
   "source": [
    "X_train, X_test, y_train, y_test = train_test_split(X, y, \n",
    "                                                    test_size=0.2, \n",
    "                                                    stratify = y, \n",
    "                                                    random_state = 1)"
   ]
  },
  {
   "cell_type": "markdown",
   "id": "3e7ce3bf",
   "metadata": {},
   "source": [
    "## Outliers"
   ]
  },
  {
   "cell_type": "markdown",
   "id": "f18d4602",
   "metadata": {},
   "source": [
    "# Feature Selection"
   ]
  },
  {
   "cell_type": "code",
   "execution_count": null,
   "id": "78d24ea5",
   "metadata": {},
   "outputs": [],
   "source": []
  },
  {
   "cell_type": "markdown",
   "id": "5b75cf02",
   "metadata": {},
   "source": [
    "## 3.2 Train-Test Split\n",
    "\n",
    "<a href=\"#top\">Top &#129033;</a>"
   ]
  },
  {
   "cell_type": "code",
   "execution_count": null,
   "id": "9563f0d4",
   "metadata": {
    "ExecuteTime": {
     "end_time": "2024-10-23T08:58:32.460588Z",
     "start_time": "2024-10-23T08:58:32.460573Z"
    }
   },
   "outputs": [],
   "source": [
    "from sklearn.model_selection import KFold\n",
    "from sklearn.pipeline import Pipeline\n",
    "from sklearn.impute import KNNImputer\n",
    "from sklearn.preprocessing import RobustScaler\n",
    "from sklearn.linear_model import LogisticRegression\n"
   ]
  },
  {
   "cell_type": "code",
   "execution_count": null,
   "id": "87155ca7",
   "metadata": {
    "ExecuteTime": {
     "end_time": "2024-10-23T08:58:32.462293Z",
     "start_time": "2024-10-23T08:58:32.462277Z"
    }
   },
   "outputs": [],
   "source": [
    "kf = KFold(n_splits=5, shuffle=True, random_state=42)"
   ]
  },
  {
   "cell_type": "code",
   "execution_count": null,
   "id": "b9f01230",
   "metadata": {
    "ExecuteTime": {
     "end_time": "2024-10-23T08:58:32.463885Z",
     "start_time": "2024-10-23T08:58:32.463869Z"
    }
   },
   "outputs": [],
   "source": [
    "pipeline = Pipeline([\n",
    "    #('imputer', KNNImputer(n_neighbors=5)),\n",
    "    ('scaler', RobustScaler()),\n",
    "    #('custom_selector', FunctionTransformer(custom_feature_selection)),\n",
    "    ('model', LogisticRegression())\n",
    "])"
   ]
  },
  {
   "cell_type": "code",
   "execution_count": null,
   "id": "9e7e0b7a",
   "metadata": {
    "ExecuteTime": {
     "end_time": "2024-10-23T08:58:32.465399Z",
     "start_time": "2024-10-23T08:58:32.465384Z"
    }
   },
   "outputs": [],
   "source": [
    "for train_index, test_index in kf.split(X):\n",
    "    \n",
    "    # Split data into training and validation folds\n",
    "    X_train, X_val = X.iloc[train_index], X.iloc[test_index]\n",
    "    y_train, y_val = y.iloc[train_index], y.iloc[test_index]\n",
    "    \n",
    "     # Train your model on the training fold (with outliers handled)\n",
    "    pipeline.fit(X_train, y_train)\n",
    "    \n",
    "    # Predict on the validation fold (without outlier detection here)\n",
    "    pred_train = pipeline.predict(X_train)\n",
    "    pred_val = pipeline.predict(X_val)\n",
    "    \n",
    "    metrics(y_train, pred_train , y_val, pred_val)\n",
    "    \n",
    "    "
   ]
  },
  {
   "cell_type": "code",
   "execution_count": null,
   "id": "4547adc0",
   "metadata": {
    "ExecuteTime": {
     "end_time": "2024-10-23T08:58:32.466957Z",
     "start_time": "2024-10-23T08:58:32.466942Z"
    }
   },
   "outputs": [],
   "source": [
    "def metrics(y_train, pred_train , y_val, pred_val):\n",
    "    print('___________________________________________________________________________________________________________')\n",
    "    print('                                                     TRAIN                                                 ')\n",
    "    print('-----------------------------------------------------------------------------------------------------------')\n",
    "    print(classification_report(y_train, pred_train))\n",
    "    print(confusion_matrix(y_train, pred_train))\n",
    "\n",
    "\n",
    "    print('___________________________________________________________________________________________________________')\n",
    "    print('                                                VALIDATION                                                 ')\n",
    "    print('-----------------------------------------------------------------------------------------------------------')\n",
    "    print(classification_report(y_val, pred_val))\n",
    "    print(confusion_matrix(y_val, pred_val))"
   ]
  },
  {
   "cell_type": "code",
   "execution_count": null,
   "id": "0c2284f0",
   "metadata": {
    "ExecuteTime": {
     "end_time": "2024-10-23T08:31:03.932055Z",
     "start_time": "2024-10-23T08:31:03.929482Z"
    }
   },
   "outputs": [],
   "source": []
  },
  {
   "cell_type": "markdown",
   "id": "ed1a486e",
   "metadata": {},
   "source": [
    "**Average Weekly Wage**"
   ]
  },
  {
   "cell_type": "code",
   "execution_count": null,
   "id": "c77bada5",
   "metadata": {
    "ExecuteTime": {
     "end_time": "2024-10-23T08:58:32.468400Z",
     "start_time": "2024-10-23T08:58:32.468385Z"
    }
   },
   "outputs": [],
   "source": [
    "X_train[X_train['Average Weekly Wage'].isna()]"
   ]
  },
  {
   "cell_type": "markdown",
   "id": "7fe0c848",
   "metadata": {},
   "source": [
    "KNN - Imputation"
   ]
  },
  {
   "cell_type": "code",
   "execution_count": null,
   "id": "eabaa77a",
   "metadata": {
    "ExecuteTime": {
     "end_time": "2024-10-23T08:58:32.469681Z",
     "start_time": "2024-10-23T08:58:32.469666Z"
    }
   },
   "outputs": [],
   "source": [
    "from sklearn.impute import KNNImputer\n",
    "\n",
    "num = X_train.select_dtypes(include=[float, int]).columns\n",
    "\n",
    "imputer = KNNImputer(n_neighbors=5)\n",
    "\n",
    "X_train[num] = imputer.fit_transform(X_train[num])"
   ]
  },
  {
   "cell_type": "code",
   "execution_count": null,
   "id": "f45371c3",
   "metadata": {
    "ExecuteTime": {
     "end_time": "2024-10-23T08:58:32.471217Z",
     "start_time": "2024-10-23T08:58:32.471201Z"
    }
   },
   "outputs": [],
   "source": [
    "X_train[X_train['Average Weekly Wage'].isna()]"
   ]
  },
  {
   "cell_type": "markdown",
   "id": "6d2f08e7",
   "metadata": {},
   "source": [
    "verify success of operations"
   ]
  },
  {
   "cell_type": "code",
   "execution_count": null,
   "id": "e5802e76",
   "metadata": {
    "ExecuteTime": {
     "end_time": "2024-10-23T08:58:32.472811Z",
     "start_time": "2024-10-23T08:58:32.472796Z"
    }
   },
   "outputs": [],
   "source": [
    "X_train.isna().sum()"
   ]
  },
  {
   "cell_type": "code",
   "execution_count": null,
   "id": "437debe3",
   "metadata": {},
   "outputs": [],
   "source": []
  },
  {
   "cell_type": "markdown",
   "id": "c471037c",
   "metadata": {},
   "source": [
    "## 3.4 Outliers\n",
    "\n",
    "<a href=\"#top\">Top &#129033;</a>"
   ]
  },
  {
   "cell_type": "code",
   "execution_count": null,
   "id": "816781b1",
   "metadata": {
    "ExecuteTime": {
     "end_time": "2024-10-23T08:58:32.474096Z",
     "start_time": "2024-10-23T08:58:32.474082Z"
    },
    "scrolled": true
   },
   "outputs": [],
   "source": [
    "f.boxplots(X_train.loc[:, X_train.columns])"
   ]
  },
  {
   "cell_type": "code",
   "execution_count": null,
   "id": "89bf7d96",
   "metadata": {
    "ExecuteTime": {
     "end_time": "2024-10-23T08:58:32.475458Z",
     "start_time": "2024-10-23T08:58:32.475444Z"
    },
    "scrolled": true
   },
   "outputs": [],
   "source": [
    "for column in X_train.columns:\n",
    "        if pd.api.types.is_numeric_dtype(X_train[column]):\n",
    "            f.plot_histogram(X_train[column], \n",
    "                           xlabel=column, \n",
    "                           ylabel='Frequency', \n",
    "                           title=f'Histogram of {column}', \n",
    "                           color='lightblue')"
   ]
  },
  {
   "cell_type": "markdown",
   "id": "07c89a47",
   "metadata": {},
   "source": [
    "| Method                 | Distribution Assumption | Sensitivity to Outliers | Complexity | Best Used For                 |\n",
    "|-----------------------|------------------------|-------------------------|------------|-------------------------------|\n",
    "| IQR                   | None                    | Low                     | Low        | Skewed distributions          |\n",
    "| Modified Z-Score      | None                    | Moderate                | Moderate   | Small datasets with outliers  |\n",
    "| Isolation Forest      | None                    | Low                     | High       | High-dimensional data         |\n"
   ]
  },
  {
   "cell_type": "markdown",
   "id": "2a8c9425",
   "metadata": {},
   "source": [
    "**Interquartile Range**"
   ]
  },
  {
   "cell_type": "code",
   "execution_count": null,
   "id": "8b8b13a3",
   "metadata": {
    "ExecuteTime": {
     "end_time": "2024-10-23T08:58:32.476932Z",
     "start_time": "2024-10-23T08:58:32.476894Z"
    }
   },
   "outputs": [],
   "source": [
    "def detect_outliers_iqr(df):\n",
    "    outliers_indices = set()\n",
    "    for column in df.select_dtypes(include=[np.number]).columns:\n",
    "        Q1 = df[column].quantile(0.25)\n",
    "        Q3 = df[column].quantile(0.75)\n",
    "        IQR = Q3 - Q1\n",
    "        lower_bound = Q1 - 1.5 * IQR\n",
    "        upper_bound = Q3 + 1.5 * IQR\n",
    "        \n",
    "        # Identify outliers\n",
    "        outlier_data = df[(df[column] < lower_bound) | (df[column] > upper_bound)]\n",
    "        \n",
    "        outliers_indices.update(outlier_data.index)\n",
    "        \n",
    "        \n",
    "        # Print the number of outliers\n",
    "        print(f'Column: {column} - Number of Outliers: {len(outlier_data)}')\n",
    "        print(f'Column: {column} - % of Outliers: {len(outlier_data) / len(df) * 100}% \\n')\n",
    "        \n",
    "    return outliers_indices"
   ]
  },
  {
   "cell_type": "code",
   "execution_count": null,
   "id": "20a92e39",
   "metadata": {
    "ExecuteTime": {
     "end_time": "2024-10-23T08:58:32.478569Z",
     "start_time": "2024-10-23T08:58:32.478552Z"
    }
   },
   "outputs": [],
   "source": [
    "iqr = detect_outliers_iqr(X_train)\n",
    "iqr"
   ]
  },
  {
   "cell_type": "markdown",
   "id": "d18ccd70",
   "metadata": {},
   "source": [
    "**Isolation Forest**"
   ]
  },
  {
   "cell_type": "code",
   "execution_count": null,
   "id": "388bb292",
   "metadata": {
    "ExecuteTime": {
     "end_time": "2024-10-23T08:58:32.480200Z",
     "start_time": "2024-10-23T08:58:32.480184Z"
    }
   },
   "outputs": [],
   "source": [
    "from sklearn.ensemble import IsolationForest\n",
    "\n",
    "def detect_outliers_isolation_forest(df):\n",
    "    outliers_indices = set()\n",
    "    \n",
    "    for column in df.select_dtypes(include=[np.number]).columns:\n",
    "        # Reshape the data for the model\n",
    "        data = df[column].values.reshape(-1, 1)\n",
    "        \n",
    "        # Fit the Isolation Forest model\n",
    "        iso_forest = IsolationForest(contamination = 0.01, \n",
    "                                     random_state=1)\n",
    "        outlier_predictions = iso_forest.fit_predict(data)\n",
    "        \n",
    "        # Identify outliers (predicted as -1)\n",
    "        outlier_data = df[outlier_predictions == -1]\n",
    "        \n",
    "        outliers_indices.update(outlier_data.index)\n",
    "        \n",
    "        # Print the number of outliers\n",
    "        print(f'Column: {column} - Number of Outliers: {len(outlier_data)}')\n",
    "        print(f'Column: {column} - % of Outliers: {len(outlier_data) / len(df) * 100:.2f}% \\n')\n",
    "\n",
    "    return outliers_indices"
   ]
  },
  {
   "cell_type": "code",
   "execution_count": null,
   "id": "b9f7a0ae",
   "metadata": {
    "ExecuteTime": {
     "end_time": "2024-10-23T08:58:32.481578Z",
     "start_time": "2024-10-23T08:58:32.481562Z"
    }
   },
   "outputs": [],
   "source": [
    "iso = detect_outliers_isolation_forest(X_train)\n",
    "iso "
   ]
  },
  {
   "cell_type": "code",
   "execution_count": null,
   "id": "6d0e70f4",
   "metadata": {
    "ExecuteTime": {
     "end_time": "2024-10-23T08:58:32.482865Z",
     "start_time": "2024-10-23T08:58:32.482848Z"
    }
   },
   "outputs": [],
   "source": [
    "common_outliers = iqr.intersection(iso)\n",
    "print(f'Number of Common Outliers: {len(common_outliers)}')"
   ]
  },
  {
   "cell_type": "code",
   "execution_count": null,
   "id": "1b9d6a45",
   "metadata": {
    "ExecuteTime": {
     "end_time": "2024-10-23T08:58:32.484286Z",
     "start_time": "2024-10-23T08:58:32.484272Z"
    },
    "scrolled": true
   },
   "outputs": [],
   "source": [
    "common = X_train.loc[list(common_outliers)]\n",
    "common"
   ]
  },
  {
   "cell_type": "code",
   "execution_count": null,
   "id": "e288bf84",
   "metadata": {
    "ExecuteTime": {
     "end_time": "2024-10-23T08:58:32.485674Z",
     "start_time": "2024-10-23T08:58:32.485660Z"
    }
   },
   "outputs": [],
   "source": [
    "len(common) / len(X_train) * 100"
   ]
  },
  {
   "cell_type": "markdown",
   "id": "7e7e7839",
   "metadata": {},
   "source": [
    "decision - dont do anything for now"
   ]
  },
  {
   "cell_type": "markdown",
   "id": "202c8ea3",
   "metadata": {},
   "source": [
    "**New Variables**"
   ]
  },
  {
   "cell_type": "markdown",
   "id": "49e691ff",
   "metadata": {},
   "source": [
    "| VARIABLE NAME | DESCRIPTION | \n",
    "| -------- | ---------- |\n",
    "| C-3 Date Binary | 1 if C-3 happened, 0 otherwise |\n",
    "| First Hearing Year | year of the first hearing (0 if no hearing happened) |\n",
    "| Accident Year / Month / Day | year / month / day of the accident |\n",
    "| Assembly Year / Month / Day | year / month / day of the assembly |\n",
    "| Attorney/Representative Bin | 1 if represented by lawyer, 0 otherwise |\n",
    "| C-2 Year / Month / Day | year / month / day of receipt of C-2 |\n",
    "| Carrier Name Enc | replaced Carrier Name by frequency of each carrier name |\n",
    "| County of Injury Enc | replaced County of Injury by frequency of each county name |\n",
    "| COVID-19 Indicator Bin | 1 if has covid, 0 otherwise |\n",
    "| District Name Enc | replaced District Name by frequency of each district name |\n",
    "| Gender Enc | 0 if male, 1 if female, 2 otherwise |\n",
    "| Medical Fee Region Enc | replaced Medical Fee Region by frequency of each region name |\n",
    "\n"
   ]
  },
  {
   "cell_type": "markdown",
   "id": "4db29972",
   "metadata": {},
   "source": [
    "## 3.6 Visualisations\n",
    "\n",
    "<a href=\"#top\">Top &#129033;</a>"
   ]
  },
  {
   "cell_type": "code",
   "execution_count": null,
   "id": "44249dda",
   "metadata": {
    "ExecuteTime": {
     "end_time": "2024-10-23T08:58:32.486816Z",
     "start_time": "2024-10-23T08:58:32.486804Z"
    }
   },
   "outputs": [],
   "source": [
    "all_train = pd.concat([X_train, y_train], axis=1)\n",
    "all_train.head(2)"
   ]
  },
  {
   "cell_type": "code",
   "execution_count": null,
   "id": "e2d5c0bd",
   "metadata": {
    "ExecuteTime": {
     "end_time": "2024-10-23T08:58:32.488336Z",
     "start_time": "2024-10-23T08:58:32.488323Z"
    }
   },
   "outputs": [],
   "source": [
    "accident_counts = all_train['Accident Year'].value_counts().sort_index()\n",
    "\n",
    "plt.figure(figsize=(10, 6))\n",
    "plt.plot(accident_counts.index, accident_counts.values)\n",
    "plt.title('Number of Accidents Over Time')\n",
    "plt.xlabel('Date')\n",
    "plt.ylabel('Number of Accidents')\n",
    "plt.xticks()\n",
    "plt.grid(True)\n",
    "plt.show()"
   ]
  },
  {
   "cell_type": "code",
   "execution_count": null,
   "id": "c0f10bec",
   "metadata": {
    "ExecuteTime": {
     "end_time": "2024-10-23T08:58:32.489582Z",
     "start_time": "2024-10-23T08:58:32.489570Z"
    }
   },
   "outputs": [],
   "source": [
    "# Set up the figure with subplots\n",
    "fig, axes = plt.subplots(1, 3, figsize=(18, 6))\n",
    "\n",
    "# First subplot: Accident Month\n",
    "sns.countplot(data=all_train, x='Accident Month', ax=axes[0])\n",
    "axes[0].set_title('Accident Count by Month')\n",
    "axes[0].set_xlabel('Accident Month')\n",
    "axes[0].set_ylabel('Count')\n",
    "\n",
    "# Second subplot: Assembly Month\n",
    "sns.countplot(data=all_train, x='Assembly Month', ax=axes[1])\n",
    "axes[1].set_title('Assembly Count by Month')\n",
    "axes[1].set_xlabel('Assembly Month')\n",
    "axes[1].set_ylabel('Count')\n",
    "\n",
    "# Third subplot: C-2 Month\n",
    "sns.countplot(data=all_train, x='C-2 Month', ax=axes[2])\n",
    "axes[2].set_title('C-2 Count by Month')\n",
    "axes[2].set_xlabel('C-2 Month')\n",
    "axes[2].set_ylabel('Count')\n",
    "\n",
    "# Adjust layout\n",
    "plt.tight_layout()\n",
    "plt.show()"
   ]
  },
  {
   "cell_type": "code",
   "execution_count": null,
   "id": "b2146b76",
   "metadata": {
    "ExecuteTime": {
     "end_time": "2024-10-23T08:58:32.490858Z",
     "start_time": "2024-10-23T08:58:32.490845Z"
    }
   },
   "outputs": [],
   "source": [
    "plt.figure(figsize=(10, 6))\n",
    "sns.regplot(x='Age at Injury', y='Average Weekly Wage', data=all_train, scatter_kws={'alpha':0.5})\n",
    "\n",
    "# Set the labels and title\n",
    "plt.title('Age at Injury vs Average Weekly Wage')\n",
    "plt.xlabel('Age at Injury')\n",
    "plt.ylabel('Average Weekly Wage')\n",
    "\n",
    "# Show the plot\n",
    "plt.grid(True)\n",
    "plt.show()"
   ]
  },
  {
   "cell_type": "code",
   "execution_count": null,
   "id": "6372dde1",
   "metadata": {
    "ExecuteTime": {
     "end_time": "2024-10-23T08:58:32.491953Z",
     "start_time": "2024-10-23T08:58:32.491941Z"
    }
   },
   "outputs": [],
   "source": [
    "plt.figure(figsize=(10, 6))\n",
    "sns.boxplot(data=X_train, x='Gender', y='Average Weekly Wage')\n",
    "plt.title('Gender vs. Average Weekly Wage')\n",
    "plt.xlabel('Gender')\n",
    "plt.ylabel('Average Weekly Wage')\n",
    "plt.grid(True)\n",
    "plt.show()"
   ]
  },
  {
   "cell_type": "code",
   "execution_count": null,
   "id": "2a4f175d",
   "metadata": {
    "ExecuteTime": {
     "end_time": "2024-10-23T08:58:32.493401Z",
     "start_time": "2024-10-23T08:58:32.493388Z"
    }
   },
   "outputs": [],
   "source": [
    "plt.figure(figsize=(10, 6))\n",
    "sns.boxplot(data=X_train, x='Carrier Type', y='Age at Injury')\n",
    "plt.title('Carrier Type vs. Age at Injury')\n",
    "plt.xlabel('Carrier Type')\n",
    "plt.ylabel('Age at Injury')\n",
    "plt.xticks(rotation=30) \n",
    "plt.grid(True)\n",
    "plt.show()"
   ]
  },
  {
   "cell_type": "code",
   "execution_count": null,
   "id": "4acc28d1",
   "metadata": {
    "ExecuteTime": {
     "end_time": "2024-10-23T08:58:32.494800Z",
     "start_time": "2024-10-23T08:58:32.494786Z"
    }
   },
   "outputs": [],
   "source": [
    "num_temp = X_train.select_dtypes(include=[np.number]).columns.tolist()\n",
    "\n",
    "# Pairwise Relationship of Numerical Variables\n",
    "sns.set()\n",
    "\n",
    "# Create pairplot for the selected numerical columns\n",
    "sns.pairplot(X_train[num_temp], diag_kind=\"hist\")\n",
    "\n",
    "# Layout adjustments\n",
    "plt.subplots_adjust(top=0.95)\n",
    "plt.suptitle(\"Pairwise Relationship of Numerical Variables\", fontsize=20)\n",
    "\n",
    "# Display the plot\n",
    "plt.show()"
   ]
  },
  {
   "cell_type": "code",
   "execution_count": null,
   "id": "8ae57d8a",
   "metadata": {
    "ExecuteTime": {
     "end_time": "2024-10-23T08:58:32.496145Z",
     "start_time": "2024-10-23T08:58:32.496132Z"
    }
   },
   "outputs": [],
   "source": [
    "## see distribution of categorical variables\n",
    "## experiment with density plots\n",
    "## three way aNOVA"
   ]
  },
  {
   "cell_type": "markdown",
   "id": "7357ce31",
   "metadata": {},
   "source": [
    "look at X_train and X_test before removing replaced columns"
   ]
  },
  {
   "cell_type": "code",
   "execution_count": null,
   "id": "a4fa2fc1",
   "metadata": {
    "ExecuteTime": {
     "end_time": "2024-10-23T08:58:32.497497Z",
     "start_time": "2024-10-23T08:58:32.497484Z"
    }
   },
   "outputs": [],
   "source": [
    "X_train.head(2)"
   ]
  },
  {
   "cell_type": "markdown",
   "id": "57c69c0b",
   "metadata": {},
   "source": [
    "drop variables that will not be needed for modeling purposes"
   ]
  },
  {
   "cell_type": "code",
   "execution_count": null,
   "id": "9bed992b",
   "metadata": {
    "ExecuteTime": {
     "end_time": "2024-10-23T08:58:32.498884Z",
     "start_time": "2024-10-23T08:58:32.498869Z"
    }
   },
   "outputs": [],
   "source": [
    "drop = ['Accident Date', 'Alternative Dispute Resolution', \n",
    "        'Assembly Date', 'Attorney/Representative', 'C-2 Date',\n",
    "        'Carrier Name', 'Carrier Type', 'County of Injury', \n",
    "        'COVID-19 Indicator', 'District Name', 'Gender',\n",
    "        'Medical Fee Region']\n",
    "\n",
    "X_train = X_train.drop(drop, axis = 1)"
   ]
  },
  {
   "cell_type": "markdown",
   "id": "cb726d2d",
   "metadata": {},
   "source": [
    "# 4. Feature Selection\n",
    "\n",
    "<a href=\"#top\">Top &#129033;</a>"
   ]
  },
  {
   "cell_type": "markdown",
   "id": "dbbd18a4",
   "metadata": {},
   "source": [
    "1. split numeric and categorical \n",
    "2. evaluate different scalers for numerical (standard, robust, minmax)\n",
    "- dont forget we have lots of outliers - see which scaler is better for this\n",
    "3. Filter based methods\n",
    "- var, spearman corr for numeric\n",
    "- chi-square for categ\n",
    "4. Wrapper\n",
    "- RFE with different models (multinomial logistic reg to start, maybe)\n",
    "5. Embedded\n",
    "- lasso\n",
    "6. explore other methods not talked about in class\n",
    "7. produce table with results/insights\n",
    "\n",
    "\n",
    "**EXAMPLE TABLE**\n",
    "\n",
    "NUM DATA\n",
    "\n",
    "| VARIABLE | SPEARMAN | RFE MODEL1 | RFE MODEL2 | LASSO | DECISION |\n",
    "| -------- | -------- | ---------- | ---------- | ----- | -------- |\n",
    "| var_name | discard | discard | keep | discard | discard |\n",
    "\n",
    "CATEG DATA\n",
    "\n",
    "| VARIABLE | CHI-SQUARE | DECISION |\n",
    "| -------- | ---------- | -------- |\n",
    "| var_name | keep | keep |"
   ]
  },
  {
   "cell_type": "code",
   "execution_count": null,
   "id": "878ed26c",
   "metadata": {
    "ExecuteTime": {
     "end_time": "2024-10-23T08:58:32.500486Z",
     "start_time": "2024-10-23T08:58:32.500472Z"
    }
   },
   "outputs": [],
   "source": [
    "X_train.select_dtypes"
   ]
  },
  {
   "cell_type": "markdown",
   "id": "57e8047b",
   "metadata": {},
   "source": [
    "**Split Datatypes**"
   ]
  },
  {
   "cell_type": "code",
   "execution_count": null,
   "id": "e1dbab70",
   "metadata": {
    "ExecuteTime": {
     "end_time": "2024-10-23T08:58:32.501977Z",
     "start_time": "2024-10-23T08:58:32.501962Z"
    }
   },
   "outputs": [],
   "source": [
    "numeric_features = X_train.select_dtypes(include=['float64', 'int64'])\n",
    "categorical_features = X_train.select_dtypes(include=['object'])"
   ]
  },
  {
   "cell_type": "code",
   "execution_count": null,
   "id": "16724786",
   "metadata": {
    "ExecuteTime": {
     "end_time": "2024-10-23T08:58:32.503544Z",
     "start_time": "2024-10-23T08:58:32.503531Z"
    }
   },
   "outputs": [],
   "source": [
    "print(\"\\nNumerical Data:\")\n",
    "print(numeric_features.head())"
   ]
  },
  {
   "cell_type": "code",
   "execution_count": null,
   "id": "1bcc7bb7",
   "metadata": {
    "ExecuteTime": {
     "end_time": "2024-10-23T08:58:32.504855Z",
     "start_time": "2024-10-23T08:58:32.504843Z"
    }
   },
   "outputs": [],
   "source": [
    "print(\"\\nCategorical Data:\")\n",
    "print(categorical_features.head())"
   ]
  },
  {
   "cell_type": "markdown",
   "id": "0c25efea",
   "metadata": {},
   "source": [
    "**Scaling Numeric Data**"
   ]
  },
  {
   "cell_type": "code",
   "execution_count": null,
   "id": "0b31ec7f",
   "metadata": {
    "ExecuteTime": {
     "end_time": "2024-10-23T08:58:32.506206Z",
     "start_time": "2024-10-23T08:58:32.506193Z"
    }
   },
   "outputs": [],
   "source": [
    "from sklearn.preprocessing import StandardScaler\n",
    "\n",
    "scaler_standard = StandardScaler()\n",
    "X_train_standard_scaled = pd.DataFrame(scaler_standard.fit_transform(numeric_features), columns=numeric_features.columns)\n",
    "\n",
    "print(\"Standard Scaled Data Sample:\")\n",
    "print(X_train_standard_scaled.describe())"
   ]
  },
  {
   "cell_type": "code",
   "execution_count": null,
   "id": "285f1c33",
   "metadata": {
    "ExecuteTime": {
     "end_time": "2024-10-23T08:58:32.507905Z",
     "start_time": "2024-10-23T08:58:32.507890Z"
    }
   },
   "outputs": [],
   "source": [
    "from sklearn.preprocessing import RobustScaler\n",
    "\n",
    "scaler_robust = RobustScaler()\n",
    "X_train_robust_scaled = pd.DataFrame(scaler_robust.fit_transform(numeric_features), columns=numeric_features.columns)\n",
    "\n",
    "print(\"Robust Scaled Data Sample:\")\n",
    "print(X_train_robust_scaled.describe())"
   ]
  },
  {
   "cell_type": "code",
   "execution_count": null,
   "id": "2e567968",
   "metadata": {
    "ExecuteTime": {
     "end_time": "2024-10-23T08:58:32.509133Z",
     "start_time": "2024-10-23T08:58:32.509120Z"
    }
   },
   "outputs": [],
   "source": [
    "from sklearn.preprocessing import MinMaxScaler\n",
    "\n",
    "scaler_minmax = MinMaxScaler()\n",
    "X_train_minmax_scaled = pd.DataFrame(scaler_minmax.fit_transform(numeric_features), columns=numeric_features.columns)\n",
    "\n",
    "print(\"MinMax Scaled Data Sample:\")\n",
    "print(X_train_minmax_scaled.describe())"
   ]
  },
  {
   "cell_type": "markdown",
   "id": "b4b2a42f",
   "metadata": {},
   "source": [
    "### Summary of Scaling Methods for Numerical Data\n",
    "\n",
    "#### 1. **RobustScaler**\n",
    "- **Ideal for handling outliers**: The **RobustScaler** is best when working with data that contains outliers, as it scales based on the interquartile range (IQR), making it less sensitive to extreme values.\n",
    "- **Example**: Features like **'IME-4 Count'** have large outliers that could distort the scaling. **RobustScaler** mitigates this issue.\n",
    "\n",
    "#### 2. **StandardScaler**\n",
    "- **Works well for normally distributed data**: The **StandardScaler** standardizes data by centering it with a mean of zero and scaling it by the standard deviation. It is effective when our data is normally distributed.\n",
    "- **Example**: The feature **'Birth Year'** has a normal distribution and is well-centered using this scaler.\n",
    "\n",
    "#### 3. **MinMaxScaler**\n",
    "- **Sensitive to outliers**: The **MinMaxScaler** compresses data into a 0–1 range, but is vulnerable to outliers, which can significantly skew the result. It's most effective when applied to features with moderate ranges or when the model is sensitive to the feature range.\n",
    "- **Example**: The **'Industry Code'** feature, with a moderate range, benefits from this transformation.\n",
    "\n",
    "---\n",
    "\n",
    "### Scaling Results Summary:\n",
    "\n",
    "| Feature | **RobustScaler** | **StandardScaler** | **MinMaxScaler** |\n",
    "|---------|------------------|--------------------|------------------|\n",
    "| **Age at Injury** | Median-based scaling to handle outliers | Scaled to have mean = 0, std = 1 | Values between 0 and 1 |\n",
    "| **Average Weekly Wage** | Robust to large outliers | Scaled but affected by outliers | Most values compressed due to extreme values |\n",
    "| **Birth Year** | Handles skew in birth year data | Centered around mean | No major issues |\n",
    "| **IME-4 Count** | Effective for highly skewed counts | Still influenced by outliers | Compression due to large counts |\n",
    "| **Industry Code** | Efficient scaling due to moderate range | Normalized for centered values | All values mapped to 0–1 range |\n",
    "\n",
    "---\n",
    "\n",
    "### Recommendation:\n",
    "Given that our dataset contains outliers in variables like **'IME-4 Count'** and **'Average Weekly Wage'**, the **RobustScaler** is the best choice for this scenario, in my opinion. It effectively handles skewed data without the influence of outliers. However, if we require data centering for algorithms that depend on normalized features, we can also consider using the **StandardScaler** after addressing outliers.\n"
   ]
  },
  {
   "cell_type": "markdown",
   "id": "16b01b99",
   "metadata": {},
   "source": [
    "**Filter-Based Methods**\n",
    "\n",
    "**Numerical Data: Variance Threshold**"
   ]
  },
  {
   "cell_type": "code",
   "execution_count": null,
   "id": "9466da03",
   "metadata": {
    "ExecuteTime": {
     "end_time": "2024-10-23T08:58:32.510632Z",
     "start_time": "2024-10-23T08:58:32.510616Z"
    }
   },
   "outputs": [],
   "source": [
    "from sklearn.feature_selection import VarianceThreshold\n",
    "\n",
    "# Set a variance threshold (0.01)\n",
    "threshold = 0.01\n",
    "selector = VarianceThreshold(threshold=threshold)\n",
    "\n",
    "X_train_high_variance = selector.fit_transform(X_train_standard_scaled)\n",
    "print(f\"Number of features after variance threshold: {X_train_high_variance.shape[1]}\")\n"
   ]
  },
  {
   "cell_type": "markdown",
   "id": "cf2e4a36",
   "metadata": {},
   "source": [
    "**Numerical Data: Spearman Correlation**"
   ]
  },
  {
   "cell_type": "code",
   "execution_count": null,
   "id": "6cc446da",
   "metadata": {
    "ExecuteTime": {
     "end_time": "2024-10-23T08:58:32.512184Z",
     "start_time": "2024-10-23T08:58:32.512170Z"
    }
   },
   "outputs": [],
   "source": [
    "# Calculate Spearman correlation matrix\n",
    "correlation_matrix = X_train_standard_scaled.corr(method='spearman')\n",
    "\n",
    "# Set a correlation threshold, 0.9\n",
    "correlation_threshold = 0.9\n",
    "\n",
    "# Find pairs of highly correlated features\n",
    "high_correlation_pairs = set()\n",
    "for i in range(len(correlation_matrix.columns)):\n",
    "    for j in range(i):\n",
    "        if abs(correlation_matrix.iloc[i, j]) > correlation_threshold:\n",
    "            colname = correlation_matrix.columns[i]\n",
    "            high_correlation_pairs.add(colname)\n",
    "\n",
    "# Drop highly correlated features\n",
    "X_train_dropped_correlated = X_train_standard_scaled.drop(columns=high_correlation_pairs)\n",
    "print(f\"Features dropped due to high correlation: {high_correlation_pairs}\")"
   ]
  },
  {
   "cell_type": "markdown",
   "id": "8b1f10c3",
   "metadata": {},
   "source": [
    "**This means no highly correlated features were found using the threshold of 0.9. Since the logic works, we don't need to modify this either, though we could adjust the threshold if needed.**"
   ]
  },
  {
   "cell_type": "markdown",
   "id": "260069c2",
   "metadata": {},
   "source": [
    "**Categorical Data: Chi-Square Test**"
   ]
  },
  {
   "cell_type": "code",
   "execution_count": null,
   "id": "e4a8a7f6",
   "metadata": {
    "ExecuteTime": {
     "end_time": "2024-10-23T08:58:32.513512Z",
     "start_time": "2024-10-23T08:58:32.513496Z"
    }
   },
   "outputs": [],
   "source": [
    "from sklearn.feature_selection import chi2\n",
    "from sklearn.preprocessing import LabelEncoder\n",
    "\n",
    "# Ensure all categorical features are strings\n",
    "categorical_features = categorical_features.astype(str)\n",
    "\n",
    "# Apply LabelEncoder to each categorical column\n",
    "categorical_features_encoded = categorical_features.apply(LabelEncoder().fit_transform)\n",
    "\n",
    "# Apply Chi-Square test\n",
    "chi2_values, p_values = chi2(categorical_features_encoded, y_train)\n",
    "chi2_results = pd.DataFrame({'Feature': categorical_features.columns, 'Chi2': chi2_values, 'p-value': p_values})\n",
    "\n",
    "# Filter features with p-values < 0.05 (significant)\n",
    "chi2_significant = chi2_results[chi2_results['p-value'] < 0.05]\n",
    "print(f\"Significant categorical features based on Chi-Square test: {chi2_significant['Feature'].tolist()}\")"
   ]
  },
  {
   "cell_type": "markdown",
   "id": "718f8720",
   "metadata": {},
   "source": [
    "**These are the categorical features that show a significant relationship with the target variable based on the Chi-Square test, with p-values less than 0.05.**"
   ]
  },
  {
   "cell_type": "markdown",
   "id": "2f29e197",
   "metadata": {},
   "source": [
    "**Wrapper Methods - Recursive Feature Elimination (RFE)**"
   ]
  },
  {
   "cell_type": "code",
   "execution_count": null,
   "id": "57c3236a",
   "metadata": {
    "ExecuteTime": {
     "end_time": "2024-10-23T08:58:32.514776Z",
     "start_time": "2024-10-23T08:58:32.514763Z"
    }
   },
   "outputs": [],
   "source": [
    "print(X_train.dtypes)"
   ]
  },
  {
   "cell_type": "code",
   "execution_count": null,
   "id": "35a4ee1b",
   "metadata": {},
   "outputs": [],
   "source": []
  },
  {
   "cell_type": "markdown",
   "id": "ea057cf1",
   "metadata": {},
   "source": [
    "# 3. Export\n",
    "\n",
    "<a href=\"#top\">Top &#129033;</a>"
   ]
  },
  {
   "cell_type": "code",
   "execution_count": null,
   "id": "e9f06e6b",
   "metadata": {
    "ExecuteTime": {
     "end_time": "2024-10-23T08:58:32.516251Z",
     "start_time": "2024-10-23T08:58:32.516236Z"
    }
   },
   "outputs": [],
   "source": [
    "#df.to_csv('./project_data/treated_data')"
   ]
  }
 ],
 "metadata": {
  "kernelspec": {
   "display_name": "Python 3 (ipykernel)",
   "language": "python",
   "name": "python3"
  },
  "language_info": {
   "codemirror_mode": {
    "name": "ipython",
    "version": 3
   },
   "file_extension": ".py",
   "mimetype": "text/x-python",
   "name": "python",
   "nbconvert_exporter": "python",
   "pygments_lexer": "ipython3",
   "version": "3.10.13"
  }
 },
 "nbformat": 4,
 "nbformat_minor": 5
}
