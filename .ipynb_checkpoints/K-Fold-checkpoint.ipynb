{
 "cells": [
  {
   "cell_type": "code",
   "execution_count": 3,
   "id": "d2c733d3",
   "metadata": {
    "ExecuteTime": {
     "end_time": "2024-10-24T18:53:48.986710Z",
     "start_time": "2024-10-24T18:53:48.983584Z"
    }
   },
   "outputs": [],
   "source": [
    "import pandas as pd\n",
    "\n",
    "from sklearn.model_selection import KFold\n",
    "from sklearn.pipeline import Pipeline\n",
    "from sklearn.impute import KNNImputer\n",
    "from sklearn.preprocessing import RobustScaler\n",
    "from sklearn.linear_model import LogisticRegression\n",
    "from sklearn.preprocessing import FunctionTransformer\n",
    "from sklearn.ensemble import RandomForestClassifier\n",
    "\n",
    "\n",
    "import warnings\n",
    "warnings.filterwarnings(\"ignore\")"
   ]
  },
  {
   "cell_type": "code",
   "execution_count": 4,
   "id": "92fb101d",
   "metadata": {
    "ExecuteTime": {
     "end_time": "2024-10-24T18:53:54.367180Z",
     "start_time": "2024-10-24T18:53:49.358653Z"
    }
   },
   "outputs": [],
   "source": [
    "df = pd.read_csv('./project_data/out_eda1.csv')"
   ]
  },
  {
   "cell_type": "markdown",
   "id": "5b75cf02",
   "metadata": {},
   "source": [
    "## 1. K Fold\n",
    "\n",
    "<a href=\"#top\">Top &#129033;</a>"
   ]
  },
  {
   "cell_type": "code",
   "execution_count": 5,
   "id": "e4256b37",
   "metadata": {
    "ExecuteTime": {
     "end_time": "2024-10-24T18:56:03.988418Z",
     "start_time": "2024-10-24T18:56:03.363468Z"
    }
   },
   "outputs": [],
   "source": [
    "X = df.drop('Claim Injury Type', axis = 1)\n",
    "y = df['Claim Injury Type']"
   ]
  },
  {
   "cell_type": "code",
   "execution_count": null,
   "id": "aaf1dcdb",
   "metadata": {},
   "outputs": [],
   "source": [
    "kf = KFold(n_splits=5, shuffle=True, random_state=1)"
   ]
  },
  {
   "cell_type": "code",
   "execution_count": null,
   "id": "f9b38ee0",
   "metadata": {},
   "outputs": [],
   "source": [
    "for train_index, test_index in kf.split(X):\n",
    "    \n",
    "    # Split data into training and validation folds\n",
    "    X_train, X_val = X.iloc[train_index], X.iloc[test_index]\n",
    "    y_train, y_val = y[train_index], y[test_index]\n",
    "    \n",
    "    # missing values\n",
    "    X_train = custom_impute(X_train, 'Birth Year')\n",
    "    X_val = custom_impute(X_val, 'Birth Year')"
   ]
  },
  {
   "cell_type": "code",
   "execution_count": null,
   "id": "412ad01d",
   "metadata": {},
   "outputs": [],
   "source": []
  },
  {
   "cell_type": "code",
   "execution_count": null,
   "id": "75addb5e",
   "metadata": {},
   "outputs": [],
   "source": [
    "def custom_impute(df, var_name):\n",
    "    \n",
    "    if var_name == 'Birth Year':\n",
    "        df.loc[df[var_name].isna() | (df[var_name] == 0), \n",
    "           var_name] = df['Accident Year'] - df['Age at Injury']\n",
    "        \n",
    "        \n",
    "    return df"
   ]
  }
 ],
 "metadata": {
  "kernelspec": {
   "display_name": "Python 3 (ipykernel)",
   "language": "python",
   "name": "python3"
  },
  "language_info": {
   "codemirror_mode": {
    "name": "ipython",
    "version": 3
   },
   "file_extension": ".py",
   "mimetype": "text/x-python",
   "name": "python",
   "nbconvert_exporter": "python",
   "pygments_lexer": "ipython3",
   "version": "3.10.13"
  }
 },
 "nbformat": 4,
 "nbformat_minor": 5
}
