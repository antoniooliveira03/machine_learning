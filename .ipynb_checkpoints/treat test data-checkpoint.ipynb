{
 "cells": [
  {
   "cell_type": "code",
   "execution_count": 79,
   "id": "32ee5486",
   "metadata": {
    "ExecuteTime": {
     "end_time": "2024-10-26T15:04:37.679317Z",
     "start_time": "2024-10-26T15:04:37.676086Z"
    }
   },
   "outputs": [],
   "source": [
    "import pandas as pd\n",
    "\n",
    "pd.set_option('display.max_columns', None)"
   ]
  },
  {
   "cell_type": "code",
   "execution_count": 116,
   "id": "052e2b4f",
   "metadata": {
    "ExecuteTime": {
     "end_time": "2024-10-26T15:05:04.745112Z",
     "start_time": "2024-10-26T15:05:02.925441Z"
    },
    "scrolled": true
   },
   "outputs": [
    {
     "data": {
      "text/html": [
       "<div>\n",
       "<style scoped>\n",
       "    .dataframe tbody tr th:only-of-type {\n",
       "        vertical-align: middle;\n",
       "    }\n",
       "\n",
       "    .dataframe tbody tr th {\n",
       "        vertical-align: top;\n",
       "    }\n",
       "\n",
       "    .dataframe thead th {\n",
       "        text-align: right;\n",
       "    }\n",
       "</style>\n",
       "<table border=\"1\" class=\"dataframe\">\n",
       "  <thead>\n",
       "    <tr style=\"text-align: right;\">\n",
       "      <th></th>\n",
       "      <th>Accident Date</th>\n",
       "      <th>Age at Injury</th>\n",
       "      <th>Alternative Dispute Resolution</th>\n",
       "      <th>Assembly Date</th>\n",
       "      <th>Attorney/Representative</th>\n",
       "      <th>Average Weekly Wage</th>\n",
       "      <th>Birth Year</th>\n",
       "      <th>C-2 Date</th>\n",
       "      <th>C-3 Date</th>\n",
       "      <th>Carrier Name</th>\n",
       "      <th>Carrier Type</th>\n",
       "      <th>County of Injury</th>\n",
       "      <th>COVID-19 Indicator</th>\n",
       "      <th>District Name</th>\n",
       "      <th>First Hearing Date</th>\n",
       "      <th>Gender</th>\n",
       "      <th>IME-4 Count</th>\n",
       "      <th>Industry Code</th>\n",
       "      <th>Industry Code Description</th>\n",
       "      <th>Medical Fee Region</th>\n",
       "      <th>OIICS Nature of Injury Description</th>\n",
       "      <th>WCIO Cause of Injury Code</th>\n",
       "      <th>WCIO Cause of Injury Description</th>\n",
       "      <th>WCIO Nature of Injury Code</th>\n",
       "      <th>WCIO Nature of Injury Description</th>\n",
       "      <th>WCIO Part Of Body Code</th>\n",
       "      <th>WCIO Part Of Body Description</th>\n",
       "      <th>Zip Code</th>\n",
       "      <th>Number of Dependents</th>\n",
       "    </tr>\n",
       "    <tr>\n",
       "      <th>Claim Identifier</th>\n",
       "      <th></th>\n",
       "      <th></th>\n",
       "      <th></th>\n",
       "      <th></th>\n",
       "      <th></th>\n",
       "      <th></th>\n",
       "      <th></th>\n",
       "      <th></th>\n",
       "      <th></th>\n",
       "      <th></th>\n",
       "      <th></th>\n",
       "      <th></th>\n",
       "      <th></th>\n",
       "      <th></th>\n",
       "      <th></th>\n",
       "      <th></th>\n",
       "      <th></th>\n",
       "      <th></th>\n",
       "      <th></th>\n",
       "      <th></th>\n",
       "      <th></th>\n",
       "      <th></th>\n",
       "      <th></th>\n",
       "      <th></th>\n",
       "      <th></th>\n",
       "      <th></th>\n",
       "      <th></th>\n",
       "      <th></th>\n",
       "      <th></th>\n",
       "    </tr>\n",
       "  </thead>\n",
       "  <tbody>\n",
       "    <tr>\n",
       "      <th>6165911</th>\n",
       "      <td>2022-12-24</td>\n",
       "      <td>19</td>\n",
       "      <td>N</td>\n",
       "      <td>2023-01-02</td>\n",
       "      <td>N</td>\n",
       "      <td>NaN</td>\n",
       "      <td>2003.0</td>\n",
       "      <td>2023-01-02</td>\n",
       "      <td>NaN</td>\n",
       "      <td>INDEMNITY INSURANCE CO OF</td>\n",
       "      <td>1A. PRIVATE</td>\n",
       "      <td>BRONX</td>\n",
       "      <td>N</td>\n",
       "      <td>NYC</td>\n",
       "      <td>NaN</td>\n",
       "      <td>M</td>\n",
       "      <td>NaN</td>\n",
       "      <td>48.0</td>\n",
       "      <td>TRANSPORTATION AND WAREHOUSING</td>\n",
       "      <td>IV</td>\n",
       "      <td>NaN</td>\n",
       "      <td>31.0</td>\n",
       "      <td>FALL, SLIP OR TRIP, NOC</td>\n",
       "      <td>10.0</td>\n",
       "      <td>CONTUSION</td>\n",
       "      <td>54.0</td>\n",
       "      <td>LOWER LEG</td>\n",
       "      <td>10466</td>\n",
       "      <td>1</td>\n",
       "    </tr>\n",
       "    <tr>\n",
       "      <th>6166141</th>\n",
       "      <td>2022-11-20</td>\n",
       "      <td>19</td>\n",
       "      <td>N</td>\n",
       "      <td>2023-01-02</td>\n",
       "      <td>N</td>\n",
       "      <td>NaN</td>\n",
       "      <td>2003.0</td>\n",
       "      <td>2023-01-02</td>\n",
       "      <td>NaN</td>\n",
       "      <td>A I U INSURANCE COMPANY</td>\n",
       "      <td>1A. PRIVATE</td>\n",
       "      <td>QUEENS</td>\n",
       "      <td>N</td>\n",
       "      <td>NYC</td>\n",
       "      <td>NaN</td>\n",
       "      <td>F</td>\n",
       "      <td>NaN</td>\n",
       "      <td>45.0</td>\n",
       "      <td>RETAIL TRADE</td>\n",
       "      <td>IV</td>\n",
       "      <td>NaN</td>\n",
       "      <td>75.0</td>\n",
       "      <td>FALLING OR FLYING OBJECT</td>\n",
       "      <td>10.0</td>\n",
       "      <td>CONTUSION</td>\n",
       "      <td>10.0</td>\n",
       "      <td>MULTIPLE HEAD INJURY</td>\n",
       "      <td>11691</td>\n",
       "      <td>1</td>\n",
       "    </tr>\n",
       "  </tbody>\n",
       "</table>\n",
       "</div>"
      ],
      "text/plain": [
       "                 Accident Date  Age at Injury Alternative Dispute Resolution  \\\n",
       "Claim Identifier                                                               \n",
       "6165911             2022-12-24             19                              N   \n",
       "6166141             2022-11-20             19                              N   \n",
       "\n",
       "                 Assembly Date Attorney/Representative  Average Weekly Wage  \\\n",
       "Claim Identifier                                                              \n",
       "6165911             2023-01-02                       N                  NaN   \n",
       "6166141             2023-01-02                       N                  NaN   \n",
       "\n",
       "                  Birth Year    C-2 Date C-3 Date               Carrier Name  \\\n",
       "Claim Identifier                                                               \n",
       "6165911               2003.0  2023-01-02      NaN  INDEMNITY INSURANCE CO OF   \n",
       "6166141               2003.0  2023-01-02      NaN    A I U INSURANCE COMPANY   \n",
       "\n",
       "                 Carrier Type County of Injury COVID-19 Indicator  \\\n",
       "Claim Identifier                                                    \n",
       "6165911           1A. PRIVATE            BRONX                  N   \n",
       "6166141           1A. PRIVATE           QUEENS                  N   \n",
       "\n",
       "                 District Name First Hearing Date Gender  IME-4 Count  \\\n",
       "Claim Identifier                                                        \n",
       "6165911                    NYC                NaN      M          NaN   \n",
       "6166141                    NYC                NaN      F          NaN   \n",
       "\n",
       "                  Industry Code       Industry Code Description  \\\n",
       "Claim Identifier                                                  \n",
       "6165911                    48.0  TRANSPORTATION AND WAREHOUSING   \n",
       "6166141                    45.0                    RETAIL TRADE   \n",
       "\n",
       "                 Medical Fee Region  OIICS Nature of Injury Description  \\\n",
       "Claim Identifier                                                          \n",
       "6165911                          IV                                 NaN   \n",
       "6166141                          IV                                 NaN   \n",
       "\n",
       "                  WCIO Cause of Injury Code WCIO Cause of Injury Description  \\\n",
       "Claim Identifier                                                               \n",
       "6165911                                31.0          FALL, SLIP OR TRIP, NOC   \n",
       "6166141                                75.0         FALLING OR FLYING OBJECT   \n",
       "\n",
       "                  WCIO Nature of Injury Code  \\\n",
       "Claim Identifier                               \n",
       "6165911                                 10.0   \n",
       "6166141                                 10.0   \n",
       "\n",
       "                 WCIO Nature of Injury Description  WCIO Part Of Body Code  \\\n",
       "Claim Identifier                                                             \n",
       "6165911                                  CONTUSION                    54.0   \n",
       "6166141                                  CONTUSION                    10.0   \n",
       "\n",
       "                 WCIO Part Of Body Description Zip Code  Number of Dependents  \n",
       "Claim Identifier                                                               \n",
       "6165911                              LOWER LEG    10466                     1  \n",
       "6166141                   MULTIPLE HEAD INJURY    11691                     1  "
      ]
     },
     "execution_count": 116,
     "metadata": {},
     "output_type": "execute_result"
    }
   ],
   "source": [
    "df = pd.read_csv('./project_data/test_data.csv', index_col = 'Claim Identifier')\n",
    "df.head(2)"
   ]
  },
  {
   "cell_type": "markdown",
   "id": "5b9d5072",
   "metadata": {},
   "source": [
    "## 3.2 Feature Engineering\n",
    "\n",
    "<a href=\"#top\">Top &#129033;</a>\n",
    "\n",
    "all transformations must be applied o X_test too"
   ]
  },
  {
   "cell_type": "markdown",
   "id": "7bd7ec93",
   "metadata": {},
   "source": [
    "### 3.2.1 Data Type Conversions\n",
    "\n",
    "even though this is usually feature engineering, it will be useful doing before treating missing values"
   ]
  },
  {
   "cell_type": "code",
   "execution_count": 117,
   "id": "92819176",
   "metadata": {
    "ExecuteTime": {
     "end_time": "2024-10-26T15:05:06.215488Z",
     "start_time": "2024-10-26T15:05:06.212692Z"
    },
    "scrolled": true
   },
   "outputs": [],
   "source": [
    "#df.info()"
   ]
  },
  {
   "cell_type": "code",
   "execution_count": 118,
   "id": "86f67daf",
   "metadata": {
    "ExecuteTime": {
     "end_time": "2024-10-26T15:05:06.511039Z",
     "start_time": "2024-10-26T15:05:06.298352Z"
    }
   },
   "outputs": [],
   "source": [
    "df['Accident Date'] = pd.to_datetime(df['Accident Date'], \n",
    "                                     errors='coerce')\n",
    "\n",
    "df['Assembly Date'] = pd.to_datetime(df['Assembly Date'], \n",
    "                                     errors='coerce')\n",
    "\n",
    "df['C-2 Date'] = pd.to_datetime(df['C-2 Date'], \n",
    "                                errors='coerce')\n",
    "\n",
    "df['C-3 Date'] = pd.to_datetime(df['C-3 Date'], \n",
    "                                errors='coerce')\n",
    "\n",
    "df['First Hearing Date'] = pd.to_datetime(df['First Hearing Date'], \n",
    "                                          errors='coerce')"
   ]
  },
  {
   "cell_type": "code",
   "execution_count": 119,
   "id": "1f05276b",
   "metadata": {
    "ExecuteTime": {
     "end_time": "2024-10-26T15:05:06.538261Z",
     "start_time": "2024-10-26T15:05:06.514294Z"
    },
    "scrolled": false
   },
   "outputs": [
    {
     "data": {
      "text/html": [
       "<div>\n",
       "<style scoped>\n",
       "    .dataframe tbody tr th:only-of-type {\n",
       "        vertical-align: middle;\n",
       "    }\n",
       "\n",
       "    .dataframe tbody tr th {\n",
       "        vertical-align: top;\n",
       "    }\n",
       "\n",
       "    .dataframe thead th {\n",
       "        text-align: right;\n",
       "    }\n",
       "</style>\n",
       "<table border=\"1\" class=\"dataframe\">\n",
       "  <thead>\n",
       "    <tr style=\"text-align: right;\">\n",
       "      <th></th>\n",
       "      <th>Accident Date</th>\n",
       "      <th>Age at Injury</th>\n",
       "      <th>Alternative Dispute Resolution</th>\n",
       "      <th>Assembly Date</th>\n",
       "      <th>Attorney/Representative</th>\n",
       "      <th>Average Weekly Wage</th>\n",
       "      <th>Birth Year</th>\n",
       "      <th>C-2 Date</th>\n",
       "      <th>C-3 Date</th>\n",
       "      <th>Carrier Name</th>\n",
       "      <th>Carrier Type</th>\n",
       "      <th>County of Injury</th>\n",
       "      <th>COVID-19 Indicator</th>\n",
       "      <th>District Name</th>\n",
       "      <th>First Hearing Date</th>\n",
       "      <th>Gender</th>\n",
       "      <th>IME-4 Count</th>\n",
       "      <th>Industry Code</th>\n",
       "      <th>Industry Code Description</th>\n",
       "      <th>Medical Fee Region</th>\n",
       "      <th>OIICS Nature of Injury Description</th>\n",
       "      <th>WCIO Cause of Injury Code</th>\n",
       "      <th>WCIO Cause of Injury Description</th>\n",
       "      <th>WCIO Nature of Injury Code</th>\n",
       "      <th>WCIO Nature of Injury Description</th>\n",
       "      <th>WCIO Part Of Body Code</th>\n",
       "      <th>WCIO Part Of Body Description</th>\n",
       "      <th>Zip Code</th>\n",
       "      <th>Number of Dependents</th>\n",
       "    </tr>\n",
       "    <tr>\n",
       "      <th>Claim Identifier</th>\n",
       "      <th></th>\n",
       "      <th></th>\n",
       "      <th></th>\n",
       "      <th></th>\n",
       "      <th></th>\n",
       "      <th></th>\n",
       "      <th></th>\n",
       "      <th></th>\n",
       "      <th></th>\n",
       "      <th></th>\n",
       "      <th></th>\n",
       "      <th></th>\n",
       "      <th></th>\n",
       "      <th></th>\n",
       "      <th></th>\n",
       "      <th></th>\n",
       "      <th></th>\n",
       "      <th></th>\n",
       "      <th></th>\n",
       "      <th></th>\n",
       "      <th></th>\n",
       "      <th></th>\n",
       "      <th></th>\n",
       "      <th></th>\n",
       "      <th></th>\n",
       "      <th></th>\n",
       "      <th></th>\n",
       "      <th></th>\n",
       "      <th></th>\n",
       "    </tr>\n",
       "  </thead>\n",
       "  <tbody>\n",
       "    <tr>\n",
       "      <th>6165911</th>\n",
       "      <td>2022-12-24</td>\n",
       "      <td>19</td>\n",
       "      <td>N</td>\n",
       "      <td>2023-01-02</td>\n",
       "      <td>N</td>\n",
       "      <td>NaN</td>\n",
       "      <td>2003.0</td>\n",
       "      <td>2023-01-02</td>\n",
       "      <td>NaT</td>\n",
       "      <td>INDEMNITY INSURANCE CO OF</td>\n",
       "      <td>1A. PRIVATE</td>\n",
       "      <td>BRONX</td>\n",
       "      <td>N</td>\n",
       "      <td>NYC</td>\n",
       "      <td>NaT</td>\n",
       "      <td>M</td>\n",
       "      <td>NaN</td>\n",
       "      <td>48.0</td>\n",
       "      <td>TRANSPORTATION AND WAREHOUSING</td>\n",
       "      <td>IV</td>\n",
       "      <td>NaN</td>\n",
       "      <td>31.0</td>\n",
       "      <td>FALL, SLIP OR TRIP, NOC</td>\n",
       "      <td>10.0</td>\n",
       "      <td>CONTUSION</td>\n",
       "      <td>54.0</td>\n",
       "      <td>LOWER LEG</td>\n",
       "      <td>10466</td>\n",
       "      <td>1</td>\n",
       "    </tr>\n",
       "    <tr>\n",
       "      <th>6166141</th>\n",
       "      <td>2022-11-20</td>\n",
       "      <td>19</td>\n",
       "      <td>N</td>\n",
       "      <td>2023-01-02</td>\n",
       "      <td>N</td>\n",
       "      <td>NaN</td>\n",
       "      <td>2003.0</td>\n",
       "      <td>2023-01-02</td>\n",
       "      <td>NaT</td>\n",
       "      <td>A I U INSURANCE COMPANY</td>\n",
       "      <td>1A. PRIVATE</td>\n",
       "      <td>QUEENS</td>\n",
       "      <td>N</td>\n",
       "      <td>NYC</td>\n",
       "      <td>NaT</td>\n",
       "      <td>F</td>\n",
       "      <td>NaN</td>\n",
       "      <td>45.0</td>\n",
       "      <td>RETAIL TRADE</td>\n",
       "      <td>IV</td>\n",
       "      <td>NaN</td>\n",
       "      <td>75.0</td>\n",
       "      <td>FALLING OR FLYING OBJECT</td>\n",
       "      <td>10.0</td>\n",
       "      <td>CONTUSION</td>\n",
       "      <td>10.0</td>\n",
       "      <td>MULTIPLE HEAD INJURY</td>\n",
       "      <td>11691</td>\n",
       "      <td>1</td>\n",
       "    </tr>\n",
       "  </tbody>\n",
       "</table>\n",
       "</div>"
      ],
      "text/plain": [
       "                 Accident Date  Age at Injury Alternative Dispute Resolution  \\\n",
       "Claim Identifier                                                               \n",
       "6165911             2022-12-24             19                              N   \n",
       "6166141             2022-11-20             19                              N   \n",
       "\n",
       "                 Assembly Date Attorney/Representative  Average Weekly Wage  \\\n",
       "Claim Identifier                                                              \n",
       "6165911             2023-01-02                       N                  NaN   \n",
       "6166141             2023-01-02                       N                  NaN   \n",
       "\n",
       "                  Birth Year   C-2 Date C-3 Date               Carrier Name  \\\n",
       "Claim Identifier                                                              \n",
       "6165911               2003.0 2023-01-02      NaT  INDEMNITY INSURANCE CO OF   \n",
       "6166141               2003.0 2023-01-02      NaT    A I U INSURANCE COMPANY   \n",
       "\n",
       "                 Carrier Type County of Injury COVID-19 Indicator  \\\n",
       "Claim Identifier                                                    \n",
       "6165911           1A. PRIVATE            BRONX                  N   \n",
       "6166141           1A. PRIVATE           QUEENS                  N   \n",
       "\n",
       "                 District Name First Hearing Date Gender  IME-4 Count  \\\n",
       "Claim Identifier                                                        \n",
       "6165911                    NYC                NaT      M          NaN   \n",
       "6166141                    NYC                NaT      F          NaN   \n",
       "\n",
       "                  Industry Code       Industry Code Description  \\\n",
       "Claim Identifier                                                  \n",
       "6165911                    48.0  TRANSPORTATION AND WAREHOUSING   \n",
       "6166141                    45.0                    RETAIL TRADE   \n",
       "\n",
       "                 Medical Fee Region  OIICS Nature of Injury Description  \\\n",
       "Claim Identifier                                                          \n",
       "6165911                          IV                                 NaN   \n",
       "6166141                          IV                                 NaN   \n",
       "\n",
       "                  WCIO Cause of Injury Code WCIO Cause of Injury Description  \\\n",
       "Claim Identifier                                                               \n",
       "6165911                                31.0          FALL, SLIP OR TRIP, NOC   \n",
       "6166141                                75.0         FALLING OR FLYING OBJECT   \n",
       "\n",
       "                  WCIO Nature of Injury Code  \\\n",
       "Claim Identifier                               \n",
       "6165911                                 10.0   \n",
       "6166141                                 10.0   \n",
       "\n",
       "                 WCIO Nature of Injury Description  WCIO Part Of Body Code  \\\n",
       "Claim Identifier                                                             \n",
       "6165911                                  CONTUSION                    54.0   \n",
       "6166141                                  CONTUSION                    10.0   \n",
       "\n",
       "                 WCIO Part Of Body Description Zip Code  Number of Dependents  \n",
       "Claim Identifier                                                               \n",
       "6165911                              LOWER LEG    10466                     1  \n",
       "6166141                   MULTIPLE HEAD INJURY    11691                     1  "
      ]
     },
     "execution_count": 119,
     "metadata": {},
     "output_type": "execute_result"
    }
   ],
   "source": [
    "df.head(2)"
   ]
  },
  {
   "cell_type": "markdown",
   "id": "698388f8",
   "metadata": {},
   "source": [
    "### 3.2.2 Encoding\n",
    "\n",
    "<a href=\"#top\">Top &#129033;</a>"
   ]
  },
  {
   "cell_type": "markdown",
   "id": "2830ac54",
   "metadata": {},
   "source": [
    "**Alternative Dispute Resolution**\n",
    "\n",
    "encode ['N' nan 'Y' 'U'] n -> 0, y -> 1, u -> 2"
   ]
  },
  {
   "cell_type": "code",
   "execution_count": 120,
   "id": "373fbb0a",
   "metadata": {
    "ExecuteTime": {
     "end_time": "2024-10-26T15:05:06.673115Z",
     "start_time": "2024-10-26T15:05:06.644655Z"
    }
   },
   "outputs": [
    {
     "data": {
      "text/plain": [
       "Alternative Dispute Resolution\n",
       "N    386314\n",
       "Y      1660\n",
       "U         1\n",
       "Name: count, dtype: int64"
      ]
     },
     "execution_count": 120,
     "metadata": {},
     "output_type": "execute_result"
    }
   ],
   "source": [
    "freq = df['Alternative Dispute Resolution'].value_counts()\n",
    "freq"
   ]
  },
  {
   "cell_type": "code",
   "execution_count": 121,
   "id": "185b8037",
   "metadata": {
    "ExecuteTime": {
     "end_time": "2024-10-26T15:05:06.743792Z",
     "start_time": "2024-10-26T15:05:06.722378Z"
    }
   },
   "outputs": [],
   "source": [
    "df['Alternative Dispute Resolution'] = df['Alternative Dispute Resolution'].map(freq)"
   ]
  },
  {
   "cell_type": "markdown",
   "id": "295f9a46",
   "metadata": {},
   "source": [
    "**Attorney/Representative**\n",
    "\n",
    "['N' 'Y' nan] encode 0/1"
   ]
  },
  {
   "cell_type": "code",
   "execution_count": 122,
   "id": "ae82e49d",
   "metadata": {
    "ExecuteTime": {
     "end_time": "2024-10-26T15:05:06.908082Z",
     "start_time": "2024-10-26T15:05:06.880867Z"
    }
   },
   "outputs": [
    {
     "data": {
      "text/plain": [
       "Attorney/Representative\n",
       "N    306476\n",
       "Y     81499\n",
       "Name: count, dtype: int64"
      ]
     },
     "execution_count": 122,
     "metadata": {},
     "output_type": "execute_result"
    }
   ],
   "source": [
    "df['Attorney/Representative'].value_counts()"
   ]
  },
  {
   "cell_type": "code",
   "execution_count": 123,
   "id": "bd0eaea9",
   "metadata": {
    "ExecuteTime": {
     "end_time": "2024-10-26T15:05:07.103004Z",
     "start_time": "2024-10-26T15:05:06.964443Z"
    }
   },
   "outputs": [],
   "source": [
    "df['Attorney/Representative'] = df['Attorney/Representative'].replace({'N': 0, 'Y': 1})"
   ]
  },
  {
   "cell_type": "markdown",
   "id": "cb654b3a",
   "metadata": {},
   "source": [
    "**Carrier Name**"
   ]
  },
  {
   "cell_type": "code",
   "execution_count": 124,
   "id": "cf51a3d7",
   "metadata": {
    "ExecuteTime": {
     "end_time": "2024-10-26T15:05:07.170726Z",
     "start_time": "2024-10-26T15:05:07.131692Z"
    }
   },
   "outputs": [
    {
     "data": {
      "text/plain": [
       "1598"
      ]
     },
     "execution_count": 124,
     "metadata": {},
     "output_type": "execute_result"
    }
   ],
   "source": [
    "df['Carrier Name'].nunique()"
   ]
  },
  {
   "cell_type": "markdown",
   "id": "844f6cdc",
   "metadata": {},
   "source": [
    "frequency encoder"
   ]
  },
  {
   "cell_type": "code",
   "execution_count": 125,
   "id": "64ef4ab4",
   "metadata": {
    "ExecuteTime": {
     "end_time": "2024-10-26T15:05:07.343351Z",
     "start_time": "2024-10-26T15:05:07.299275Z"
    }
   },
   "outputs": [],
   "source": [
    "freq = df['Carrier Name'].value_counts()"
   ]
  },
  {
   "cell_type": "code",
   "execution_count": 126,
   "id": "33453430",
   "metadata": {
    "ExecuteTime": {
     "end_time": "2024-10-26T15:05:07.417116Z",
     "start_time": "2024-10-26T15:05:07.382171Z"
    }
   },
   "outputs": [],
   "source": [
    "df['Carrier Name'] = df['Carrier Name'].map(freq)"
   ]
  },
  {
   "cell_type": "markdown",
   "id": "3a29e89b",
   "metadata": {},
   "source": [
    "**Carrier Type**\n",
    "\n",
    "encode (8 unique values)"
   ]
  },
  {
   "cell_type": "code",
   "execution_count": 127,
   "id": "04d08ae9",
   "metadata": {
    "ExecuteTime": {
     "end_time": "2024-10-26T15:05:07.588708Z",
     "start_time": "2024-10-26T15:05:07.548794Z"
    }
   },
   "outputs": [
    {
     "data": {
      "text/plain": [
       "Carrier Type\n",
       "1A. PRIVATE                                    201827\n",
       "3A. SELF PUBLIC                                 78948\n",
       "2A. SIF                                         66189\n",
       "4A. SELF PRIVATE                                38619\n",
       "UNKNOWN                                          1642\n",
       "5D. SPECIAL FUND - UNKNOWN                        748\n",
       "5A. SPECIAL FUND - CONS. COMM. (SECT. 25-A)         2\n",
       "Name: count, dtype: int64"
      ]
     },
     "execution_count": 127,
     "metadata": {},
     "output_type": "execute_result"
    }
   ],
   "source": [
    "freq = df['Carrier Type'].value_counts()\n",
    "freq"
   ]
  },
  {
   "cell_type": "code",
   "execution_count": 128,
   "id": "3eee24cd",
   "metadata": {
    "ExecuteTime": {
     "end_time": "2024-10-26T15:05:07.667080Z",
     "start_time": "2024-10-26T15:05:07.636583Z"
    }
   },
   "outputs": [],
   "source": [
    "df['Carrier Type'] = df['Carrier Type'].map(freq)"
   ]
  },
  {
   "cell_type": "markdown",
   "id": "946e7f5f",
   "metadata": {},
   "source": [
    "**County of Injury**\n",
    "\n",
    "probably too many to encode (?) --> freq encoding"
   ]
  },
  {
   "cell_type": "code",
   "execution_count": 129,
   "id": "f372ef26",
   "metadata": {
    "ExecuteTime": {
     "end_time": "2024-10-26T15:05:07.830860Z",
     "start_time": "2024-10-26T15:05:07.799781Z"
    }
   },
   "outputs": [
    {
     "data": {
      "text/plain": [
       "63"
      ]
     },
     "execution_count": 129,
     "metadata": {},
     "output_type": "execute_result"
    }
   ],
   "source": [
    "df['County of Injury'].nunique()"
   ]
  },
  {
   "cell_type": "code",
   "execution_count": 130,
   "id": "9d987db2",
   "metadata": {
    "ExecuteTime": {
     "end_time": "2024-10-26T15:05:07.925434Z",
     "start_time": "2024-10-26T15:05:07.888835Z"
    }
   },
   "outputs": [],
   "source": [
    "freq = df['County of Injury'].value_counts()"
   ]
  },
  {
   "cell_type": "code",
   "execution_count": 131,
   "id": "fe48ea14",
   "metadata": {
    "ExecuteTime": {
     "end_time": "2024-10-26T15:05:08.000038Z",
     "start_time": "2024-10-26T15:05:07.969090Z"
    }
   },
   "outputs": [],
   "source": [
    "df['County of Injury'] = df['County of Injury'].map(freq)"
   ]
  },
  {
   "cell_type": "markdown",
   "id": "f62e7f0c",
   "metadata": {},
   "source": [
    "**COVID-19 Indicator**\n",
    "\n",
    "binary encoding"
   ]
  },
  {
   "cell_type": "code",
   "execution_count": 132,
   "id": "b4840271",
   "metadata": {
    "ExecuteTime": {
     "end_time": "2024-10-26T15:05:08.162876Z",
     "start_time": "2024-10-26T15:05:08.134795Z"
    }
   },
   "outputs": [
    {
     "data": {
      "text/plain": [
       "COVID-19 Indicator\n",
       "N    385434\n",
       "Y      2541\n",
       "Name: count, dtype: int64"
      ]
     },
     "execution_count": 132,
     "metadata": {},
     "output_type": "execute_result"
    }
   ],
   "source": [
    "df['COVID-19 Indicator'].value_counts()"
   ]
  },
  {
   "cell_type": "code",
   "execution_count": 133,
   "id": "5ec0c2b3",
   "metadata": {
    "ExecuteTime": {
     "end_time": "2024-10-26T15:05:08.356208Z",
     "start_time": "2024-10-26T15:05:08.222491Z"
    }
   },
   "outputs": [],
   "source": [
    "df['COVID-19 Indicator'] = df['COVID-19 Indicator'].replace({'N': 0, 'Y': 1})"
   ]
  },
  {
   "cell_type": "markdown",
   "id": "f0f3cb7a",
   "metadata": {},
   "source": [
    "**District Name**\n",
    "\n",
    "encode (8 uniques)"
   ]
  },
  {
   "cell_type": "code",
   "execution_count": 134,
   "id": "43049242",
   "metadata": {
    "ExecuteTime": {
     "end_time": "2024-10-26T15:05:08.422958Z",
     "start_time": "2024-10-26T15:05:08.384064Z"
    }
   },
   "outputs": [
    {
     "data": {
      "text/plain": [
       "District Name\n",
       "NYC           187972\n",
       "ALBANY         56500\n",
       "HAUPPAUGE      36656\n",
       "BUFFALO        31481\n",
       "SYRACUSE       29537\n",
       "ROCHESTER      28073\n",
       "BINGHAMTON     15382\n",
       "STATEWIDE       2374\n",
       "Name: count, dtype: int64"
      ]
     },
     "execution_count": 134,
     "metadata": {},
     "output_type": "execute_result"
    }
   ],
   "source": [
    "freq = df['District Name'].value_counts()\n",
    "freq"
   ]
  },
  {
   "cell_type": "code",
   "execution_count": 135,
   "id": "779944c1",
   "metadata": {
    "ExecuteTime": {
     "end_time": "2024-10-26T15:05:08.498187Z",
     "start_time": "2024-10-26T15:05:08.467486Z"
    }
   },
   "outputs": [],
   "source": [
    "df['District Name'] = df['District Name'].map(freq)"
   ]
  },
  {
   "cell_type": "markdown",
   "id": "9e7f1f74",
   "metadata": {},
   "source": [
    "**Gender**\n",
    "\n",
    "encode ['M' 'F' nan 'U' 'X']"
   ]
  },
  {
   "cell_type": "code",
   "execution_count": 136,
   "id": "0d703d99",
   "metadata": {
    "ExecuteTime": {
     "end_time": "2024-10-26T15:05:08.661503Z",
     "start_time": "2024-10-26T15:05:08.633660Z"
    }
   },
   "outputs": [
    {
     "data": {
      "text/plain": [
       "Gender\n",
       "M    215343\n",
       "F    167019\n",
       "U      5340\n",
       "X       273\n",
       "Name: count, dtype: int64"
      ]
     },
     "execution_count": 136,
     "metadata": {},
     "output_type": "execute_result"
    }
   ],
   "source": [
    "df['Gender'].value_counts()"
   ]
  },
  {
   "cell_type": "code",
   "execution_count": 137,
   "id": "8b0ffab9",
   "metadata": {
    "ExecuteTime": {
     "end_time": "2024-10-26T15:05:08.737465Z",
     "start_time": "2024-10-26T15:05:08.717452Z"
    }
   },
   "outputs": [],
   "source": [
    "df['Gender'] = df['Gender'].map({\n",
    "    'M': 0,  # Male\n",
    "    'F': 1,  # Female\n",
    "    'U': 2,  # Unknown \n",
    "    'X': 2   # Other \n",
    "})"
   ]
  },
  {
   "cell_type": "markdown",
   "id": "42a1373b",
   "metadata": {},
   "source": [
    "**Medical Fee Region**\n",
    "\n",
    "encode"
   ]
  },
  {
   "cell_type": "code",
   "execution_count": 138,
   "id": "5cb48130",
   "metadata": {
    "ExecuteTime": {
     "end_time": "2024-10-26T15:05:08.920280Z",
     "start_time": "2024-10-26T15:05:08.883140Z"
    },
    "scrolled": false
   },
   "outputs": [
    {
     "data": {
      "text/plain": [
       "Medical Fee Region\n",
       "IV     182276\n",
       "I       91300\n",
       "II      58743\n",
       "III     34679\n",
       "UK      20977\n",
       "Name: count, dtype: int64"
      ]
     },
     "execution_count": 138,
     "metadata": {},
     "output_type": "execute_result"
    }
   ],
   "source": [
    "freq = df['Medical Fee Region'].value_counts()\n",
    "freq"
   ]
  },
  {
   "cell_type": "code",
   "execution_count": 139,
   "id": "1ef4622c",
   "metadata": {
    "ExecuteTime": {
     "end_time": "2024-10-26T15:05:08.995609Z",
     "start_time": "2024-10-26T15:05:08.966696Z"
    }
   },
   "outputs": [],
   "source": [
    "df['Medical Fee Region'] = df['Medical Fee Region'].map(freq)"
   ]
  },
  {
   "cell_type": "markdown",
   "id": "dbed014f",
   "metadata": {},
   "source": [
    "### 3.2.3 Other transformations\n",
    "\n",
    "<a href=\"#top\">Top &#129033;</a>"
   ]
  },
  {
   "cell_type": "markdown",
   "id": "27a7177e",
   "metadata": {},
   "source": [
    "**Accident Date**\n",
    "\n",
    "transform into year (maybe month and day too)"
   ]
  },
  {
   "cell_type": "code",
   "execution_count": 140,
   "id": "d3f57a60",
   "metadata": {
    "ExecuteTime": {
     "end_time": "2024-10-26T15:05:09.276000Z",
     "start_time": "2024-10-26T15:05:09.218558Z"
    }
   },
   "outputs": [],
   "source": [
    "df['Accident Year'] = df['Accident Date'].dt.year\n",
    "df['Accident Month'] = df['Accident Date'].dt.month\n",
    "df['Accident Day'] = df['Accident Date'].dt.day"
   ]
  },
  {
   "cell_type": "markdown",
   "id": "71edbfc0",
   "metadata": {},
   "source": [
    "**Assembly Date**\n",
    "\n",
    "transform into year (maybe month and day too)"
   ]
  },
  {
   "cell_type": "code",
   "execution_count": 141,
   "id": "964f0c70",
   "metadata": {
    "ExecuteTime": {
     "end_time": "2024-10-26T15:05:09.433880Z",
     "start_time": "2024-10-26T15:05:09.389120Z"
    }
   },
   "outputs": [],
   "source": [
    "df['Assembly Year'] = df['Assembly Date'].dt.year\n",
    "df['Assembly Month'] = df['Assembly Date'].dt.month\n",
    "df['Assembly Day'] = df['Assembly Date'].dt.day"
   ]
  },
  {
   "cell_type": "markdown",
   "id": "49a0ade5",
   "metadata": {},
   "source": [
    "**C-2 Date**\n",
    "\n",
    "transform into year (maybe month and day too)"
   ]
  },
  {
   "cell_type": "code",
   "execution_count": 142,
   "id": "0295d577",
   "metadata": {
    "ExecuteTime": {
     "end_time": "2024-10-26T15:05:10.179703Z",
     "start_time": "2024-10-26T15:05:10.128129Z"
    }
   },
   "outputs": [],
   "source": [
    "df['C-2 Year'] = df['C-2 Date'].dt.year\n",
    "df['C-2 Month'] = df['C-2 Date'].dt.month\n",
    "df['C-2 Day'] = df['C-2 Date'].dt.day"
   ]
  },
  {
   "cell_type": "markdown",
   "id": "3ac41e21",
   "metadata": {},
   "source": [
    "**Zip Code**\n",
    "\n",
    "transform non-numeric into missing values"
   ]
  },
  {
   "cell_type": "code",
   "execution_count": 143,
   "id": "c1435f28",
   "metadata": {
    "ExecuteTime": {
     "end_time": "2024-10-26T15:05:10.606893Z",
     "start_time": "2024-10-26T15:05:10.505458Z"
    }
   },
   "outputs": [],
   "source": [
    "import numpy as np\n",
    "df['Zip Code'] = df['Zip Code'].apply(lambda x: np.nan \n",
    "                                      if not str(x).isnumeric() else x)"
   ]
  },
  {
   "cell_type": "markdown",
   "id": "e583ebf2",
   "metadata": {},
   "source": [
    "**Drop Transformed Columns**"
   ]
  },
  {
   "cell_type": "code",
   "execution_count": 144,
   "id": "ec4b13d7",
   "metadata": {
    "ExecuteTime": {
     "end_time": "2024-10-26T15:05:10.986029Z",
     "start_time": "2024-10-26T15:05:10.883355Z"
    }
   },
   "outputs": [],
   "source": [
    "df = df.drop(['Accident Date', 'Assembly Date', 'C-2 Date'], axis = 1)"
   ]
  },
  {
   "cell_type": "markdown",
   "id": "6b59d8c1",
   "metadata": {},
   "source": [
    "### 3.2.4 Unique Feature-Pair Analysis \n",
    "\n",
    "<a href=\"#top\">Top &#129033;</a>\n",
    "\n",
    "save codes and descriptions in dataframes, for later consultation (if needed)"
   ]
  },
  {
   "cell_type": "code",
   "execution_count": 145,
   "id": "41b80d8d",
   "metadata": {
    "ExecuteTime": {
     "end_time": "2024-10-26T15:05:11.365393Z",
     "start_time": "2024-10-26T15:05:11.299744Z"
    }
   },
   "outputs": [
    {
     "data": {
      "text/html": [
       "<div>\n",
       "<style scoped>\n",
       "    .dataframe tbody tr th:only-of-type {\n",
       "        vertical-align: middle;\n",
       "    }\n",
       "\n",
       "    .dataframe tbody tr th {\n",
       "        vertical-align: top;\n",
       "    }\n",
       "\n",
       "    .dataframe thead th {\n",
       "        text-align: right;\n",
       "    }\n",
       "</style>\n",
       "<table border=\"1\" class=\"dataframe\">\n",
       "  <thead>\n",
       "    <tr style=\"text-align: right;\">\n",
       "      <th></th>\n",
       "      <th>WCIO Cause of Injury Description</th>\n",
       "    </tr>\n",
       "    <tr>\n",
       "      <th>WCIO Cause of Injury Code</th>\n",
       "      <th></th>\n",
       "    </tr>\n",
       "  </thead>\n",
       "  <tbody>\n",
       "    <tr>\n",
       "      <th>31.0</th>\n",
       "      <td>FALL, SLIP OR TRIP, NOC</td>\n",
       "    </tr>\n",
       "    <tr>\n",
       "      <th>75.0</th>\n",
       "      <td>FALLING OR FLYING OBJECT</td>\n",
       "    </tr>\n",
       "  </tbody>\n",
       "</table>\n",
       "</div>"
      ],
      "text/plain": [
       "                          WCIO Cause of Injury Description\n",
       "WCIO Cause of Injury Code                                 \n",
       "31.0                               FALL, SLIP OR TRIP, NOC\n",
       "75.0                              FALLING OR FLYING OBJECT"
      ]
     },
     "execution_count": 145,
     "metadata": {},
     "output_type": "execute_result"
    }
   ],
   "source": [
    "injury_cause = df[['WCIO Cause of Injury Code', 'WCIO Cause of Injury Description']].drop_duplicates()\n",
    "\n",
    "injury_cause_df = injury_cause.set_index('WCIO Cause of Injury Code')\n",
    "\n",
    "injury_cause_df.head(2)"
   ]
  },
  {
   "cell_type": "code",
   "execution_count": 146,
   "id": "2c62f34d",
   "metadata": {
    "ExecuteTime": {
     "end_time": "2024-10-26T15:05:11.570499Z",
     "start_time": "2024-10-26T15:05:11.509041Z"
    }
   },
   "outputs": [
    {
     "data": {
      "text/html": [
       "<div>\n",
       "<style scoped>\n",
       "    .dataframe tbody tr th:only-of-type {\n",
       "        vertical-align: middle;\n",
       "    }\n",
       "\n",
       "    .dataframe tbody tr th {\n",
       "        vertical-align: top;\n",
       "    }\n",
       "\n",
       "    .dataframe thead th {\n",
       "        text-align: right;\n",
       "    }\n",
       "</style>\n",
       "<table border=\"1\" class=\"dataframe\">\n",
       "  <thead>\n",
       "    <tr style=\"text-align: right;\">\n",
       "      <th></th>\n",
       "      <th>WCIO Nature of Injury Description</th>\n",
       "    </tr>\n",
       "    <tr>\n",
       "      <th>WCIO Nature of Injury Code</th>\n",
       "      <th></th>\n",
       "    </tr>\n",
       "  </thead>\n",
       "  <tbody>\n",
       "    <tr>\n",
       "      <th>10.0</th>\n",
       "      <td>CONTUSION</td>\n",
       "    </tr>\n",
       "    <tr>\n",
       "      <th>49.0</th>\n",
       "      <td>SPRAIN OR TEAR</td>\n",
       "    </tr>\n",
       "  </tbody>\n",
       "</table>\n",
       "</div>"
      ],
      "text/plain": [
       "                           WCIO Nature of Injury Description\n",
       "WCIO Nature of Injury Code                                  \n",
       "10.0                                               CONTUSION\n",
       "49.0                                          SPRAIN OR TEAR"
      ]
     },
     "execution_count": 146,
     "metadata": {},
     "output_type": "execute_result"
    }
   ],
   "source": [
    "injury_nature = df[['WCIO Nature of Injury Code', 'WCIO Nature of Injury Description']].drop_duplicates()\n",
    "\n",
    "injury_nature_df = injury_nature.set_index('WCIO Nature of Injury Code')\n",
    "\n",
    "injury_nature_df.head(2)"
   ]
  },
  {
   "cell_type": "code",
   "execution_count": 147,
   "id": "9850453f",
   "metadata": {
    "ExecuteTime": {
     "end_time": "2024-10-26T15:05:11.774086Z",
     "start_time": "2024-10-26T15:05:11.712298Z"
    }
   },
   "outputs": [
    {
     "data": {
      "text/html": [
       "<div>\n",
       "<style scoped>\n",
       "    .dataframe tbody tr th:only-of-type {\n",
       "        vertical-align: middle;\n",
       "    }\n",
       "\n",
       "    .dataframe tbody tr th {\n",
       "        vertical-align: top;\n",
       "    }\n",
       "\n",
       "    .dataframe thead th {\n",
       "        text-align: right;\n",
       "    }\n",
       "</style>\n",
       "<table border=\"1\" class=\"dataframe\">\n",
       "  <thead>\n",
       "    <tr style=\"text-align: right;\">\n",
       "      <th></th>\n",
       "      <th>WCIO Part Of Body Description</th>\n",
       "    </tr>\n",
       "    <tr>\n",
       "      <th>WCIO Part Of Body Code</th>\n",
       "      <th></th>\n",
       "    </tr>\n",
       "  </thead>\n",
       "  <tbody>\n",
       "    <tr>\n",
       "      <th>54.0</th>\n",
       "      <td>LOWER LEG</td>\n",
       "    </tr>\n",
       "    <tr>\n",
       "      <th>10.0</th>\n",
       "      <td>MULTIPLE HEAD INJURY</td>\n",
       "    </tr>\n",
       "  </tbody>\n",
       "</table>\n",
       "</div>"
      ],
      "text/plain": [
       "                       WCIO Part Of Body Description\n",
       "WCIO Part Of Body Code                              \n",
       "54.0                                       LOWER LEG\n",
       "10.0                            MULTIPLE HEAD INJURY"
      ]
     },
     "execution_count": 147,
     "metadata": {},
     "output_type": "execute_result"
    }
   ],
   "source": [
    "body_code = df[['WCIO Part Of Body Code', 'WCIO Part Of Body Description']].drop_duplicates()\n",
    "\n",
    "body_code_df = body_code.set_index('WCIO Part Of Body Code')\n",
    "\n",
    "\n",
    "body_code_df.head(2)"
   ]
  },
  {
   "cell_type": "code",
   "execution_count": 148,
   "id": "b26596db",
   "metadata": {
    "ExecuteTime": {
     "end_time": "2024-10-26T15:05:11.973155Z",
     "start_time": "2024-10-26T15:05:11.910056Z"
    }
   },
   "outputs": [
    {
     "data": {
      "text/html": [
       "<div>\n",
       "<style scoped>\n",
       "    .dataframe tbody tr th:only-of-type {\n",
       "        vertical-align: middle;\n",
       "    }\n",
       "\n",
       "    .dataframe tbody tr th {\n",
       "        vertical-align: top;\n",
       "    }\n",
       "\n",
       "    .dataframe thead th {\n",
       "        text-align: right;\n",
       "    }\n",
       "</style>\n",
       "<table border=\"1\" class=\"dataframe\">\n",
       "  <thead>\n",
       "    <tr style=\"text-align: right;\">\n",
       "      <th></th>\n",
       "      <th>Industry Code Description</th>\n",
       "    </tr>\n",
       "    <tr>\n",
       "      <th>Industry Code</th>\n",
       "      <th></th>\n",
       "    </tr>\n",
       "  </thead>\n",
       "  <tbody>\n",
       "    <tr>\n",
       "      <th>48.0</th>\n",
       "      <td>TRANSPORTATION AND WAREHOUSING</td>\n",
       "    </tr>\n",
       "    <tr>\n",
       "      <th>45.0</th>\n",
       "      <td>RETAIL TRADE</td>\n",
       "    </tr>\n",
       "  </tbody>\n",
       "</table>\n",
       "</div>"
      ],
      "text/plain": [
       "                    Industry Code Description\n",
       "Industry Code                                \n",
       "48.0           TRANSPORTATION AND WAREHOUSING\n",
       "45.0                             RETAIL TRADE"
      ]
     },
     "execution_count": 148,
     "metadata": {},
     "output_type": "execute_result"
    }
   ],
   "source": [
    "industry_code = df[['Industry Code', 'Industry Code Description']].drop_duplicates()\n",
    "\n",
    "industry_code_df = industry_code.set_index('Industry Code')\n",
    "\n",
    "\n",
    "industry_code_df.head(2)"
   ]
  },
  {
   "cell_type": "code",
   "execution_count": 149,
   "id": "6a6123c3",
   "metadata": {
    "ExecuteTime": {
     "end_time": "2024-10-26T15:05:12.198432Z",
     "start_time": "2024-10-26T15:05:12.105076Z"
    }
   },
   "outputs": [],
   "source": [
    "df = df.drop(['C-3 Date', 'First Hearing Date', \n",
    "             'OIICS Nature of Injury Description'], axis = 1)"
   ]
  },
  {
   "cell_type": "code",
   "execution_count": 150,
   "id": "d29fd0ed",
   "metadata": {
    "ExecuteTime": {
     "end_time": "2024-10-26T15:05:12.355429Z",
     "start_time": "2024-10-26T15:05:12.292595Z"
    }
   },
   "outputs": [],
   "source": [
    "df = df.drop(['WCIO Cause of Injury Description', 'WCIO Nature of Injury Description', \n",
    "              'WCIO Part Of Body Description', 'Industry Code Description'], axis = 1)"
   ]
  },
  {
   "cell_type": "code",
   "execution_count": 151,
   "id": "7339d906",
   "metadata": {
    "ExecuteTime": {
     "end_time": "2024-10-26T15:05:12.537150Z",
     "start_time": "2024-10-26T15:05:12.502151Z"
    }
   },
   "outputs": [
    {
     "data": {
      "text/html": [
       "<div>\n",
       "<style scoped>\n",
       "    .dataframe tbody tr th:only-of-type {\n",
       "        vertical-align: middle;\n",
       "    }\n",
       "\n",
       "    .dataframe tbody tr th {\n",
       "        vertical-align: top;\n",
       "    }\n",
       "\n",
       "    .dataframe thead th {\n",
       "        text-align: right;\n",
       "    }\n",
       "</style>\n",
       "<table border=\"1\" class=\"dataframe\">\n",
       "  <thead>\n",
       "    <tr style=\"text-align: right;\">\n",
       "      <th></th>\n",
       "      <th>Age at Injury</th>\n",
       "      <th>Alternative Dispute Resolution</th>\n",
       "      <th>Attorney/Representative</th>\n",
       "      <th>Average Weekly Wage</th>\n",
       "      <th>Birth Year</th>\n",
       "      <th>Carrier Name</th>\n",
       "      <th>Carrier Type</th>\n",
       "      <th>County of Injury</th>\n",
       "      <th>COVID-19 Indicator</th>\n",
       "      <th>District Name</th>\n",
       "      <th>Gender</th>\n",
       "      <th>IME-4 Count</th>\n",
       "      <th>Industry Code</th>\n",
       "      <th>Medical Fee Region</th>\n",
       "      <th>WCIO Cause of Injury Code</th>\n",
       "      <th>WCIO Nature of Injury Code</th>\n",
       "      <th>WCIO Part Of Body Code</th>\n",
       "      <th>Zip Code</th>\n",
       "      <th>Number of Dependents</th>\n",
       "      <th>Accident Year</th>\n",
       "      <th>Accident Month</th>\n",
       "      <th>Accident Day</th>\n",
       "      <th>Assembly Year</th>\n",
       "      <th>Assembly Month</th>\n",
       "      <th>Assembly Day</th>\n",
       "      <th>C-2 Year</th>\n",
       "      <th>C-2 Month</th>\n",
       "      <th>C-2 Day</th>\n",
       "    </tr>\n",
       "    <tr>\n",
       "      <th>Claim Identifier</th>\n",
       "      <th></th>\n",
       "      <th></th>\n",
       "      <th></th>\n",
       "      <th></th>\n",
       "      <th></th>\n",
       "      <th></th>\n",
       "      <th></th>\n",
       "      <th></th>\n",
       "      <th></th>\n",
       "      <th></th>\n",
       "      <th></th>\n",
       "      <th></th>\n",
       "      <th></th>\n",
       "      <th></th>\n",
       "      <th></th>\n",
       "      <th></th>\n",
       "      <th></th>\n",
       "      <th></th>\n",
       "      <th></th>\n",
       "      <th></th>\n",
       "      <th></th>\n",
       "      <th></th>\n",
       "      <th></th>\n",
       "      <th></th>\n",
       "      <th></th>\n",
       "      <th></th>\n",
       "      <th></th>\n",
       "      <th></th>\n",
       "    </tr>\n",
       "  </thead>\n",
       "  <tbody>\n",
       "    <tr>\n",
       "      <th>6165911</th>\n",
       "      <td>19</td>\n",
       "      <td>386314</td>\n",
       "      <td>0</td>\n",
       "      <td>NaN</td>\n",
       "      <td>2003.0</td>\n",
       "      <td>7573</td>\n",
       "      <td>201827</td>\n",
       "      <td>28048</td>\n",
       "      <td>0</td>\n",
       "      <td>187972</td>\n",
       "      <td>0</td>\n",
       "      <td>NaN</td>\n",
       "      <td>48.0</td>\n",
       "      <td>182276</td>\n",
       "      <td>31.0</td>\n",
       "      <td>10.0</td>\n",
       "      <td>54.0</td>\n",
       "      <td>10466</td>\n",
       "      <td>1</td>\n",
       "      <td>2022.0</td>\n",
       "      <td>12.0</td>\n",
       "      <td>24.0</td>\n",
       "      <td>2023</td>\n",
       "      <td>1</td>\n",
       "      <td>2</td>\n",
       "      <td>2023.0</td>\n",
       "      <td>1.0</td>\n",
       "      <td>2.0</td>\n",
       "    </tr>\n",
       "    <tr>\n",
       "      <th>6166141</th>\n",
       "      <td>19</td>\n",
       "      <td>386314</td>\n",
       "      <td>0</td>\n",
       "      <td>NaN</td>\n",
       "      <td>2003.0</td>\n",
       "      <td>7096</td>\n",
       "      <td>201827</td>\n",
       "      <td>40358</td>\n",
       "      <td>0</td>\n",
       "      <td>187972</td>\n",
       "      <td>1</td>\n",
       "      <td>NaN</td>\n",
       "      <td>45.0</td>\n",
       "      <td>182276</td>\n",
       "      <td>75.0</td>\n",
       "      <td>10.0</td>\n",
       "      <td>10.0</td>\n",
       "      <td>11691</td>\n",
       "      <td>1</td>\n",
       "      <td>2022.0</td>\n",
       "      <td>11.0</td>\n",
       "      <td>20.0</td>\n",
       "      <td>2023</td>\n",
       "      <td>1</td>\n",
       "      <td>2</td>\n",
       "      <td>2023.0</td>\n",
       "      <td>1.0</td>\n",
       "      <td>2.0</td>\n",
       "    </tr>\n",
       "    <tr>\n",
       "      <th>6165907</th>\n",
       "      <td>59</td>\n",
       "      <td>386314</td>\n",
       "      <td>0</td>\n",
       "      <td>0.0</td>\n",
       "      <td>1963.0</td>\n",
       "      <td>143</td>\n",
       "      <td>201827</td>\n",
       "      <td>17586</td>\n",
       "      <td>0</td>\n",
       "      <td>187972</td>\n",
       "      <td>1</td>\n",
       "      <td>NaN</td>\n",
       "      <td>56.0</td>\n",
       "      <td>34679</td>\n",
       "      <td>68.0</td>\n",
       "      <td>49.0</td>\n",
       "      <td>62.0</td>\n",
       "      <td>10604</td>\n",
       "      <td>0</td>\n",
       "      <td>2022.0</td>\n",
       "      <td>12.0</td>\n",
       "      <td>26.0</td>\n",
       "      <td>2023</td>\n",
       "      <td>1</td>\n",
       "      <td>2</td>\n",
       "      <td>2022.0</td>\n",
       "      <td>12.0</td>\n",
       "      <td>31.0</td>\n",
       "    </tr>\n",
       "    <tr>\n",
       "      <th>6166047</th>\n",
       "      <td>55</td>\n",
       "      <td>386314</td>\n",
       "      <td>0</td>\n",
       "      <td>0.0</td>\n",
       "      <td>0.0</td>\n",
       "      <td>12863</td>\n",
       "      <td>201827</td>\n",
       "      <td>40358</td>\n",
       "      <td>0</td>\n",
       "      <td>187972</td>\n",
       "      <td>1</td>\n",
       "      <td>NaN</td>\n",
       "      <td>48.0</td>\n",
       "      <td>182276</td>\n",
       "      <td>25.0</td>\n",
       "      <td>10.0</td>\n",
       "      <td>53.0</td>\n",
       "      <td>11411</td>\n",
       "      <td>6</td>\n",
       "      <td>2022.0</td>\n",
       "      <td>12.0</td>\n",
       "      <td>28.0</td>\n",
       "      <td>2023</td>\n",
       "      <td>1</td>\n",
       "      <td>2</td>\n",
       "      <td>2023.0</td>\n",
       "      <td>1.0</td>\n",
       "      <td>2.0</td>\n",
       "    </tr>\n",
       "    <tr>\n",
       "      <th>6166102</th>\n",
       "      <td>25</td>\n",
       "      <td>386314</td>\n",
       "      <td>0</td>\n",
       "      <td>0.0</td>\n",
       "      <td>1997.0</td>\n",
       "      <td>2758</td>\n",
       "      <td>201827</td>\n",
       "      <td>35917</td>\n",
       "      <td>0</td>\n",
       "      <td>187972</td>\n",
       "      <td>0</td>\n",
       "      <td>NaN</td>\n",
       "      <td>55.0</td>\n",
       "      <td>182276</td>\n",
       "      <td>79.0</td>\n",
       "      <td>40.0</td>\n",
       "      <td>37.0</td>\n",
       "      <td>11212</td>\n",
       "      <td>5</td>\n",
       "      <td>2022.0</td>\n",
       "      <td>12.0</td>\n",
       "      <td>20.0</td>\n",
       "      <td>2023</td>\n",
       "      <td>1</td>\n",
       "      <td>2</td>\n",
       "      <td>2022.0</td>\n",
       "      <td>12.0</td>\n",
       "      <td>31.0</td>\n",
       "    </tr>\n",
       "    <tr>\n",
       "      <th>...</th>\n",
       "      <td>...</td>\n",
       "      <td>...</td>\n",
       "      <td>...</td>\n",
       "      <td>...</td>\n",
       "      <td>...</td>\n",
       "      <td>...</td>\n",
       "      <td>...</td>\n",
       "      <td>...</td>\n",
       "      <td>...</td>\n",
       "      <td>...</td>\n",
       "      <td>...</td>\n",
       "      <td>...</td>\n",
       "      <td>...</td>\n",
       "      <td>...</td>\n",
       "      <td>...</td>\n",
       "      <td>...</td>\n",
       "      <td>...</td>\n",
       "      <td>...</td>\n",
       "      <td>...</td>\n",
       "      <td>...</td>\n",
       "      <td>...</td>\n",
       "      <td>...</td>\n",
       "      <td>...</td>\n",
       "      <td>...</td>\n",
       "      <td>...</td>\n",
       "      <td>...</td>\n",
       "      <td>...</td>\n",
       "      <td>...</td>\n",
       "    </tr>\n",
       "    <tr>\n",
       "      <th>6553137</th>\n",
       "      <td>52</td>\n",
       "      <td>386314</td>\n",
       "      <td>0</td>\n",
       "      <td>NaN</td>\n",
       "      <td>1960.0</td>\n",
       "      <td>66189</td>\n",
       "      <td>66189</td>\n",
       "      <td>1996</td>\n",
       "      <td>0</td>\n",
       "      <td>29537</td>\n",
       "      <td>0</td>\n",
       "      <td>NaN</td>\n",
       "      <td>NaN</td>\n",
       "      <td>91300</td>\n",
       "      <td>NaN</td>\n",
       "      <td>NaN</td>\n",
       "      <td>NaN</td>\n",
       "      <td>13619</td>\n",
       "      <td>5</td>\n",
       "      <td>2012.0</td>\n",
       "      <td>9.0</td>\n",
       "      <td>12.0</td>\n",
       "      <td>2024</td>\n",
       "      <td>6</td>\n",
       "      <td>5</td>\n",
       "      <td>2012.0</td>\n",
       "      <td>10.0</td>\n",
       "      <td>23.0</td>\n",
       "    </tr>\n",
       "    <tr>\n",
       "      <th>6553119</th>\n",
       "      <td>59</td>\n",
       "      <td>386314</td>\n",
       "      <td>1</td>\n",
       "      <td>0.0</td>\n",
       "      <td>1965.0</td>\n",
       "      <td>4418</td>\n",
       "      <td>78948</td>\n",
       "      <td>36664</td>\n",
       "      <td>0</td>\n",
       "      <td>36656</td>\n",
       "      <td>1</td>\n",
       "      <td>NaN</td>\n",
       "      <td>NaN</td>\n",
       "      <td>182276</td>\n",
       "      <td>NaN</td>\n",
       "      <td>NaN</td>\n",
       "      <td>NaN</td>\n",
       "      <td>11776</td>\n",
       "      <td>1</td>\n",
       "      <td>2024.0</td>\n",
       "      <td>5.0</td>\n",
       "      <td>22.0</td>\n",
       "      <td>2024</td>\n",
       "      <td>6</td>\n",
       "      <td>5</td>\n",
       "      <td>NaN</td>\n",
       "      <td>NaN</td>\n",
       "      <td>NaN</td>\n",
       "    </tr>\n",
       "    <tr>\n",
       "      <th>6553542</th>\n",
       "      <td>45</td>\n",
       "      <td>386314</td>\n",
       "      <td>1</td>\n",
       "      <td>0.0</td>\n",
       "      <td>1979.0</td>\n",
       "      <td>66189</td>\n",
       "      <td>66189</td>\n",
       "      <td>40358</td>\n",
       "      <td>0</td>\n",
       "      <td>187972</td>\n",
       "      <td>0</td>\n",
       "      <td>NaN</td>\n",
       "      <td>NaN</td>\n",
       "      <td>182276</td>\n",
       "      <td>NaN</td>\n",
       "      <td>NaN</td>\n",
       "      <td>NaN</td>\n",
       "      <td>11368</td>\n",
       "      <td>5</td>\n",
       "      <td>2024.0</td>\n",
       "      <td>5.0</td>\n",
       "      <td>6.0</td>\n",
       "      <td>2024</td>\n",
       "      <td>6</td>\n",
       "      <td>5</td>\n",
       "      <td>NaN</td>\n",
       "      <td>NaN</td>\n",
       "      <td>NaN</td>\n",
       "    </tr>\n",
       "    <tr>\n",
       "      <th>6553455</th>\n",
       "      <td>42</td>\n",
       "      <td>386314</td>\n",
       "      <td>1</td>\n",
       "      <td>0.0</td>\n",
       "      <td>1981.0</td>\n",
       "      <td>6105</td>\n",
       "      <td>38619</td>\n",
       "      <td>40358</td>\n",
       "      <td>0</td>\n",
       "      <td>187972</td>\n",
       "      <td>0</td>\n",
       "      <td>NaN</td>\n",
       "      <td>NaN</td>\n",
       "      <td>182276</td>\n",
       "      <td>NaN</td>\n",
       "      <td>NaN</td>\n",
       "      <td>NaN</td>\n",
       "      <td>11432</td>\n",
       "      <td>5</td>\n",
       "      <td>2024.0</td>\n",
       "      <td>2.0</td>\n",
       "      <td>24.0</td>\n",
       "      <td>2024</td>\n",
       "      <td>6</td>\n",
       "      <td>5</td>\n",
       "      <td>NaN</td>\n",
       "      <td>NaN</td>\n",
       "      <td>NaN</td>\n",
       "    </tr>\n",
       "    <tr>\n",
       "      <th>6553594</th>\n",
       "      <td>0</td>\n",
       "      <td>386314</td>\n",
       "      <td>1</td>\n",
       "      <td>0.0</td>\n",
       "      <td>NaN</td>\n",
       "      <td>3992</td>\n",
       "      <td>78948</td>\n",
       "      <td>8799</td>\n",
       "      <td>0</td>\n",
       "      <td>187972</td>\n",
       "      <td>0</td>\n",
       "      <td>NaN</td>\n",
       "      <td>NaN</td>\n",
       "      <td>182276</td>\n",
       "      <td>NaN</td>\n",
       "      <td>NaN</td>\n",
       "      <td>NaN</td>\n",
       "      <td>10302</td>\n",
       "      <td>5</td>\n",
       "      <td>NaN</td>\n",
       "      <td>NaN</td>\n",
       "      <td>NaN</td>\n",
       "      <td>2024</td>\n",
       "      <td>6</td>\n",
       "      <td>5</td>\n",
       "      <td>NaN</td>\n",
       "      <td>NaN</td>\n",
       "      <td>NaN</td>\n",
       "    </tr>\n",
       "  </tbody>\n",
       "</table>\n",
       "<p>387975 rows × 28 columns</p>\n",
       "</div>"
      ],
      "text/plain": [
       "                  Age at Injury  Alternative Dispute Resolution  \\\n",
       "Claim Identifier                                                  \n",
       "6165911                      19                          386314   \n",
       "6166141                      19                          386314   \n",
       "6165907                      59                          386314   \n",
       "6166047                      55                          386314   \n",
       "6166102                      25                          386314   \n",
       "...                         ...                             ...   \n",
       "6553137                      52                          386314   \n",
       "6553119                      59                          386314   \n",
       "6553542                      45                          386314   \n",
       "6553455                      42                          386314   \n",
       "6553594                       0                          386314   \n",
       "\n",
       "                  Attorney/Representative  Average Weekly Wage  Birth Year  \\\n",
       "Claim Identifier                                                             \n",
       "6165911                                 0                  NaN      2003.0   \n",
       "6166141                                 0                  NaN      2003.0   \n",
       "6165907                                 0                  0.0      1963.0   \n",
       "6166047                                 0                  0.0         0.0   \n",
       "6166102                                 0                  0.0      1997.0   \n",
       "...                                   ...                  ...         ...   \n",
       "6553137                                 0                  NaN      1960.0   \n",
       "6553119                                 1                  0.0      1965.0   \n",
       "6553542                                 1                  0.0      1979.0   \n",
       "6553455                                 1                  0.0      1981.0   \n",
       "6553594                                 1                  0.0         NaN   \n",
       "\n",
       "                  Carrier Name  Carrier Type  County of Injury  \\\n",
       "Claim Identifier                                                 \n",
       "6165911                   7573        201827             28048   \n",
       "6166141                   7096        201827             40358   \n",
       "6165907                    143        201827             17586   \n",
       "6166047                  12863        201827             40358   \n",
       "6166102                   2758        201827             35917   \n",
       "...                        ...           ...               ...   \n",
       "6553137                  66189         66189              1996   \n",
       "6553119                   4418         78948             36664   \n",
       "6553542                  66189         66189             40358   \n",
       "6553455                   6105         38619             40358   \n",
       "6553594                   3992         78948              8799   \n",
       "\n",
       "                  COVID-19 Indicator  District Name  Gender  IME-4 Count  \\\n",
       "Claim Identifier                                                           \n",
       "6165911                            0         187972       0          NaN   \n",
       "6166141                            0         187972       1          NaN   \n",
       "6165907                            0         187972       1          NaN   \n",
       "6166047                            0         187972       1          NaN   \n",
       "6166102                            0         187972       0          NaN   \n",
       "...                              ...            ...     ...          ...   \n",
       "6553137                            0          29537       0          NaN   \n",
       "6553119                            0          36656       1          NaN   \n",
       "6553542                            0         187972       0          NaN   \n",
       "6553455                            0         187972       0          NaN   \n",
       "6553594                            0         187972       0          NaN   \n",
       "\n",
       "                  Industry Code  Medical Fee Region  \\\n",
       "Claim Identifier                                      \n",
       "6165911                    48.0              182276   \n",
       "6166141                    45.0              182276   \n",
       "6165907                    56.0               34679   \n",
       "6166047                    48.0              182276   \n",
       "6166102                    55.0              182276   \n",
       "...                         ...                 ...   \n",
       "6553137                     NaN               91300   \n",
       "6553119                     NaN              182276   \n",
       "6553542                     NaN              182276   \n",
       "6553455                     NaN              182276   \n",
       "6553594                     NaN              182276   \n",
       "\n",
       "                  WCIO Cause of Injury Code  WCIO Nature of Injury Code  \\\n",
       "Claim Identifier                                                          \n",
       "6165911                                31.0                        10.0   \n",
       "6166141                                75.0                        10.0   \n",
       "6165907                                68.0                        49.0   \n",
       "6166047                                25.0                        10.0   \n",
       "6166102                                79.0                        40.0   \n",
       "...                                     ...                         ...   \n",
       "6553137                                 NaN                         NaN   \n",
       "6553119                                 NaN                         NaN   \n",
       "6553542                                 NaN                         NaN   \n",
       "6553455                                 NaN                         NaN   \n",
       "6553594                                 NaN                         NaN   \n",
       "\n",
       "                  WCIO Part Of Body Code Zip Code  Number of Dependents  \\\n",
       "Claim Identifier                                                          \n",
       "6165911                             54.0    10466                     1   \n",
       "6166141                             10.0    11691                     1   \n",
       "6165907                             62.0    10604                     0   \n",
       "6166047                             53.0    11411                     6   \n",
       "6166102                             37.0    11212                     5   \n",
       "...                                  ...      ...                   ...   \n",
       "6553137                              NaN    13619                     5   \n",
       "6553119                              NaN    11776                     1   \n",
       "6553542                              NaN    11368                     5   \n",
       "6553455                              NaN    11432                     5   \n",
       "6553594                              NaN    10302                     5   \n",
       "\n",
       "                  Accident Year  Accident Month  Accident Day  Assembly Year  \\\n",
       "Claim Identifier                                                               \n",
       "6165911                  2022.0            12.0          24.0           2023   \n",
       "6166141                  2022.0            11.0          20.0           2023   \n",
       "6165907                  2022.0            12.0          26.0           2023   \n",
       "6166047                  2022.0            12.0          28.0           2023   \n",
       "6166102                  2022.0            12.0          20.0           2023   \n",
       "...                         ...             ...           ...            ...   \n",
       "6553137                  2012.0             9.0          12.0           2024   \n",
       "6553119                  2024.0             5.0          22.0           2024   \n",
       "6553542                  2024.0             5.0           6.0           2024   \n",
       "6553455                  2024.0             2.0          24.0           2024   \n",
       "6553594                     NaN             NaN           NaN           2024   \n",
       "\n",
       "                  Assembly Month  Assembly Day  C-2 Year  C-2 Month  C-2 Day  \n",
       "Claim Identifier                                                              \n",
       "6165911                        1             2    2023.0        1.0      2.0  \n",
       "6166141                        1             2    2023.0        1.0      2.0  \n",
       "6165907                        1             2    2022.0       12.0     31.0  \n",
       "6166047                        1             2    2023.0        1.0      2.0  \n",
       "6166102                        1             2    2022.0       12.0     31.0  \n",
       "...                          ...           ...       ...        ...      ...  \n",
       "6553137                        6             5    2012.0       10.0     23.0  \n",
       "6553119                        6             5       NaN        NaN      NaN  \n",
       "6553542                        6             5       NaN        NaN      NaN  \n",
       "6553455                        6             5       NaN        NaN      NaN  \n",
       "6553594                        6             5       NaN        NaN      NaN  \n",
       "\n",
       "[387975 rows x 28 columns]"
      ]
     },
     "execution_count": 151,
     "metadata": {},
     "output_type": "execute_result"
    }
   ],
   "source": [
    "df"
   ]
  },
  {
   "cell_type": "code",
   "execution_count": 152,
   "id": "14ba4914",
   "metadata": {
    "ExecuteTime": {
     "end_time": "2024-10-26T15:05:23.377214Z",
     "start_time": "2024-10-26T15:05:17.500520Z"
    }
   },
   "outputs": [],
   "source": [
    "df.to_csv('./project_data/test_treated')"
   ]
  }
 ],
 "metadata": {
  "kernelspec": {
   "display_name": "Python 3 (ipykernel)",
   "language": "python",
   "name": "python3"
  },
  "language_info": {
   "codemirror_mode": {
    "name": "ipython",
    "version": 3
   },
   "file_extension": ".py",
   "mimetype": "text/x-python",
   "name": "python",
   "nbconvert_exporter": "python",
   "pygments_lexer": "ipython3",
   "version": "3.10.13"
  }
 },
 "nbformat": 4,
 "nbformat_minor": 5
}
