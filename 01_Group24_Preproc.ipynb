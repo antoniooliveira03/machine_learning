{
 "cells": [
  {
   "cell_type": "markdown",
   "id": "97257b40",
   "metadata": {},
   "source": [
    "# Table of Contents\n",
    "\n",
    "<a class=\"anchor\" id=\"top\"></a>\n",
    "\n",
    "** **\n",
    "\n",
    "1. [Importing Libraries & Data](#1.-Importing-Libraries-&-Data) <br><br>\n",
    "    \n",
    "2. [Exploratory Data Analysis](#2.-Exploratory-Data-Analysis)\n",
    "    \n",
    "   2.1 [Incoherencies](#2.1-Incoherencies) <br><br>\n",
    "    \n",
    "3. [Data Cleaning & Preprocessing](#3.-Data-Cleaning-&-Preprocessing)\n",
    "\n",
    "   3.1 [Duplicates](#3.1-Duplicates) <br>\n",
    "    \n",
    "   3.2 [Feature Engineering](#3.2-Feature-Engineering) <br>\n",
    "   \n",
    "   &emsp; 3.2.1 [Data Type Conversions](#3.2.1-Data-Type-Conversions) <br>\n",
    "   \n",
    "   &emsp; 3.2.2 [Encoding](#3.2.2-Encoding) <br>\n",
    "   \n",
    "   &emsp; 3.2.3 [Other Transformations](#3.2.3-Other-Transformations) <br>\n",
    "    \n",
    "   &emsp; 3.2.4 [Unique Feature-Pair Analysis](#3.2.4-Unique-Feature-Pair-Analysis) <br> \n",
    "\n",
    "   3.3 [Train-Test Split](#3.3-Train-Test-Split) <br>\n",
    "   \n",
    "   3.4 [Missing Values](#3.4-Missing-Values) <br>\n",
    "    \n",
    "   3.5 [Outliers](#3.5-Outliers) <br>\n",
    "\n",
    "   3.6 [Visualisations](#3.6-Visualisations) <br><br>\n",
    "   \n",
    "4. [Feature Selection](#4.-Feature-Selection) \n",
    "\n",
    "    4.1 [Scaling](#4.1-Scaling) <br>\n",
    "    \n",
    "    4.2 [Filter Based Methods](#4.2-Filter-Based-Methods) <br>\n",
    "\n",
    "    4.3 [Wrapper Methods](#4.3-Wrapper-Methods) <br>\n",
    "    \n",
    "    4.4 [Embbeded Methods](#4.4-Embbeded-Methods) <br>\n",
    "    \n",
    "    4.5 [Hybrid Methods](#4.5-Hybrid-Methods) <br><br>\n",
    "    \n",
    "5. [Test](#5.-Test) <br>\n",
    "\n",
    "    5.1 [Feature Engineering](#5.1-Feature-Engineering) <br>\n",
    "    \n",
    "    &emsp; 5.1.1 [Data Type Conversions](#5.1.1-Data-Type-Conversions) <br>\n",
    "   \n",
    "    &emsp; 5.1.2 [Encoding](#5.1.2-Encoding) <br>\n",
    "   \n",
    "    &emsp; 5.1.3 [Other Transformations](#5.1.3-Other-Transformations) <br>\n",
    "     \n",
    "    &emsp; 5.1.4 [Unique Feature-Pair Analysis](#5.1.4-Unique-Feature-Pair-Analysis) <br> \n",
    "    \n",
    "    5.2 [Missing Values](#5.2-Missing-Values) <br>\n",
    "    \n",
    "    5.3 [Log Transformation](#5.3-Log-Transformation) <br><br>\n",
    "\n",
    "    \n",
    "6. [Export](#6.-Export)\n"
   ]
  },
  {
   "cell_type": "markdown",
   "id": "d8fe9c0c",
   "metadata": {},
   "source": [
    "# 1. Importing Libraries & Data"
   ]
  },
  {
   "cell_type": "code",
   "execution_count": 111,
   "id": "236e5516",
   "metadata": {
    "ExecuteTime": {
     "end_time": "2024-11-07T19:16:54.275695Z",
     "start_time": "2024-11-07T19:16:54.270598Z"
    }
   },
   "outputs": [],
   "source": [
    "import pandas as pd\n",
    "import numpy as np\n",
    "\n",
    "# profile report\n",
    "#from ydata_profiling import ProfileReport\n",
    "\n",
    "# visualisations\n",
    "import seaborn as sns\n",
    "import matplotlib.pyplot as plt\n",
    "import visualisations as v\n",
    "\n",
    "# Preprocessing \n",
    "import preproc as p\n",
    "\n",
    "# Train test split\n",
    "from sklearn.model_selection import train_test_split\n",
    "\n",
    "# Scaling\n",
    "from sklearn.preprocessing import StandardScaler, \\\n",
    "        MinMaxScaler, RobustScaler\n",
    "\n",
    "# Feature Selection\n",
    "from sklearn.feature_selection import VarianceThreshold\n",
    "import feature_selection as fs\n",
    "## models for RFE\n",
    "from sklearn.ensemble import RandomForestClassifier\n",
    "from sklearn.linear_model import LogisticRegression\n",
    "\n",
    "# label encoder\n",
    "#from sklearn.preprocessing import LabelEncoder\n",
    "\n",
    "pd.set_option('display.max_columns', None)\n",
    "\n",
    "# import play_song as song\n",
    "\n",
    "import warnings\n",
    "warnings.filterwarnings(\"ignore\")"
   ]
  },
  {
   "cell_type": "markdown",
   "id": "a33bfd6a",
   "metadata": {},
   "source": [
    "**Import Data**"
   ]
  },
  {
   "cell_type": "code",
   "execution_count": 112,
   "id": "98081a64",
   "metadata": {
    "ExecuteTime": {
     "end_time": "2024-11-07T19:16:59.911473Z",
     "start_time": "2024-11-07T19:16:54.869689Z"
    }
   },
   "outputs": [
    {
     "data": {
      "text/html": [
       "<div>\n",
       "<style scoped>\n",
       "    .dataframe tbody tr th:only-of-type {\n",
       "        vertical-align: middle;\n",
       "    }\n",
       "\n",
       "    .dataframe tbody tr th {\n",
       "        vertical-align: top;\n",
       "    }\n",
       "\n",
       "    .dataframe thead th {\n",
       "        text-align: right;\n",
       "    }\n",
       "</style>\n",
       "<table border=\"1\" class=\"dataframe\">\n",
       "  <thead>\n",
       "    <tr style=\"text-align: right;\">\n",
       "      <th></th>\n",
       "      <th>Accident Date</th>\n",
       "      <th>Age at Injury</th>\n",
       "      <th>Alternative Dispute Resolution</th>\n",
       "      <th>Assembly Date</th>\n",
       "      <th>Attorney/Representative</th>\n",
       "      <th>Average Weekly Wage</th>\n",
       "      <th>Birth Year</th>\n",
       "      <th>C-2 Date</th>\n",
       "      <th>C-3 Date</th>\n",
       "      <th>Carrier Name</th>\n",
       "      <th>Carrier Type</th>\n",
       "      <th>Claim Injury Type</th>\n",
       "      <th>County of Injury</th>\n",
       "      <th>COVID-19 Indicator</th>\n",
       "      <th>District Name</th>\n",
       "      <th>First Hearing Date</th>\n",
       "      <th>Gender</th>\n",
       "      <th>IME-4 Count</th>\n",
       "      <th>Industry Code</th>\n",
       "      <th>Industry Code Description</th>\n",
       "      <th>Medical Fee Region</th>\n",
       "      <th>OIICS Nature of Injury Description</th>\n",
       "      <th>WCIO Cause of Injury Code</th>\n",
       "      <th>WCIO Cause of Injury Description</th>\n",
       "      <th>WCIO Nature of Injury Code</th>\n",
       "      <th>WCIO Nature of Injury Description</th>\n",
       "      <th>WCIO Part Of Body Code</th>\n",
       "      <th>WCIO Part Of Body Description</th>\n",
       "      <th>Zip Code</th>\n",
       "      <th>Agreement Reached</th>\n",
       "      <th>WCB Decision</th>\n",
       "      <th>Number of Dependents</th>\n",
       "    </tr>\n",
       "    <tr>\n",
       "      <th>Claim Identifier</th>\n",
       "      <th></th>\n",
       "      <th></th>\n",
       "      <th></th>\n",
       "      <th></th>\n",
       "      <th></th>\n",
       "      <th></th>\n",
       "      <th></th>\n",
       "      <th></th>\n",
       "      <th></th>\n",
       "      <th></th>\n",
       "      <th></th>\n",
       "      <th></th>\n",
       "      <th></th>\n",
       "      <th></th>\n",
       "      <th></th>\n",
       "      <th></th>\n",
       "      <th></th>\n",
       "      <th></th>\n",
       "      <th></th>\n",
       "      <th></th>\n",
       "      <th></th>\n",
       "      <th></th>\n",
       "      <th></th>\n",
       "      <th></th>\n",
       "      <th></th>\n",
       "      <th></th>\n",
       "      <th></th>\n",
       "      <th></th>\n",
       "      <th></th>\n",
       "      <th></th>\n",
       "      <th></th>\n",
       "      <th></th>\n",
       "    </tr>\n",
       "  </thead>\n",
       "  <tbody>\n",
       "    <tr>\n",
       "      <th>5393875</th>\n",
       "      <td>2019-12-30</td>\n",
       "      <td>31.0</td>\n",
       "      <td>N</td>\n",
       "      <td>2020-01-01</td>\n",
       "      <td>N</td>\n",
       "      <td>0.00</td>\n",
       "      <td>1988.0</td>\n",
       "      <td>2019-12-31</td>\n",
       "      <td>NaN</td>\n",
       "      <td>NEW HAMPSHIRE INSURANCE CO</td>\n",
       "      <td>1A. PRIVATE</td>\n",
       "      <td>2. NON-COMP</td>\n",
       "      <td>ST. LAWRENCE</td>\n",
       "      <td>N</td>\n",
       "      <td>SYRACUSE</td>\n",
       "      <td>NaN</td>\n",
       "      <td>M</td>\n",
       "      <td>NaN</td>\n",
       "      <td>44.0</td>\n",
       "      <td>RETAIL TRADE</td>\n",
       "      <td>I</td>\n",
       "      <td>NaN</td>\n",
       "      <td>27.0</td>\n",
       "      <td>FROM LIQUID OR GREASE SPILLS</td>\n",
       "      <td>10.0</td>\n",
       "      <td>CONTUSION</td>\n",
       "      <td>62.0</td>\n",
       "      <td>BUTTOCKS</td>\n",
       "      <td>13662</td>\n",
       "      <td>0.0</td>\n",
       "      <td>Not Work Related</td>\n",
       "      <td>1.0</td>\n",
       "    </tr>\n",
       "    <tr>\n",
       "      <th>5393091</th>\n",
       "      <td>2019-08-30</td>\n",
       "      <td>46.0</td>\n",
       "      <td>N</td>\n",
       "      <td>2020-01-01</td>\n",
       "      <td>Y</td>\n",
       "      <td>1745.93</td>\n",
       "      <td>1973.0</td>\n",
       "      <td>2020-01-01</td>\n",
       "      <td>2020-01-14</td>\n",
       "      <td>ZURICH AMERICAN INSURANCE CO</td>\n",
       "      <td>1A. PRIVATE</td>\n",
       "      <td>4. TEMPORARY</td>\n",
       "      <td>WYOMING</td>\n",
       "      <td>N</td>\n",
       "      <td>ROCHESTER</td>\n",
       "      <td>2020-02-21</td>\n",
       "      <td>F</td>\n",
       "      <td>4.0</td>\n",
       "      <td>23.0</td>\n",
       "      <td>CONSTRUCTION</td>\n",
       "      <td>I</td>\n",
       "      <td>NaN</td>\n",
       "      <td>97.0</td>\n",
       "      <td>REPETITIVE MOTION</td>\n",
       "      <td>49.0</td>\n",
       "      <td>SPRAIN OR TEAR</td>\n",
       "      <td>38.0</td>\n",
       "      <td>SHOULDER(S)</td>\n",
       "      <td>14569</td>\n",
       "      <td>1.0</td>\n",
       "      <td>Not Work Related</td>\n",
       "      <td>4.0</td>\n",
       "    </tr>\n",
       "    <tr>\n",
       "      <th>5393889</th>\n",
       "      <td>2019-12-06</td>\n",
       "      <td>40.0</td>\n",
       "      <td>N</td>\n",
       "      <td>2020-01-01</td>\n",
       "      <td>N</td>\n",
       "      <td>1434.80</td>\n",
       "      <td>1979.0</td>\n",
       "      <td>2020-01-01</td>\n",
       "      <td>NaN</td>\n",
       "      <td>INDEMNITY INSURANCE CO OF</td>\n",
       "      <td>1A. PRIVATE</td>\n",
       "      <td>4. TEMPORARY</td>\n",
       "      <td>ORANGE</td>\n",
       "      <td>N</td>\n",
       "      <td>ALBANY</td>\n",
       "      <td>NaN</td>\n",
       "      <td>M</td>\n",
       "      <td>NaN</td>\n",
       "      <td>56.0</td>\n",
       "      <td>ADMINISTRATIVE AND SUPPORT AND WASTE MANAGEMEN...</td>\n",
       "      <td>II</td>\n",
       "      <td>NaN</td>\n",
       "      <td>79.0</td>\n",
       "      <td>OBJECT BEING LIFTED OR HANDLED</td>\n",
       "      <td>7.0</td>\n",
       "      <td>CONCUSSION</td>\n",
       "      <td>10.0</td>\n",
       "      <td>MULTIPLE HEAD INJURY</td>\n",
       "      <td>12589</td>\n",
       "      <td>0.0</td>\n",
       "      <td>Not Work Related</td>\n",
       "      <td>6.0</td>\n",
       "    </tr>\n",
       "  </tbody>\n",
       "</table>\n",
       "</div>"
      ],
      "text/plain": [
       "                 Accident Date  Age at Injury Alternative Dispute Resolution  \\\n",
       "Claim Identifier                                                               \n",
       "5393875             2019-12-30           31.0                              N   \n",
       "5393091             2019-08-30           46.0                              N   \n",
       "5393889             2019-12-06           40.0                              N   \n",
       "\n",
       "                 Assembly Date Attorney/Representative  Average Weekly Wage  \\\n",
       "Claim Identifier                                                              \n",
       "5393875             2020-01-01                       N                 0.00   \n",
       "5393091             2020-01-01                       Y              1745.93   \n",
       "5393889             2020-01-01                       N              1434.80   \n",
       "\n",
       "                  Birth Year    C-2 Date    C-3 Date  \\\n",
       "Claim Identifier                                       \n",
       "5393875               1988.0  2019-12-31         NaN   \n",
       "5393091               1973.0  2020-01-01  2020-01-14   \n",
       "5393889               1979.0  2020-01-01         NaN   \n",
       "\n",
       "                                  Carrier Name Carrier Type Claim Injury Type  \\\n",
       "Claim Identifier                                                                \n",
       "5393875             NEW HAMPSHIRE INSURANCE CO  1A. PRIVATE       2. NON-COMP   \n",
       "5393091           ZURICH AMERICAN INSURANCE CO  1A. PRIVATE      4. TEMPORARY   \n",
       "5393889              INDEMNITY INSURANCE CO OF  1A. PRIVATE      4. TEMPORARY   \n",
       "\n",
       "                 County of Injury COVID-19 Indicator District Name  \\\n",
       "Claim Identifier                                                     \n",
       "5393875              ST. LAWRENCE                  N      SYRACUSE   \n",
       "5393091                   WYOMING                  N     ROCHESTER   \n",
       "5393889                    ORANGE                  N        ALBANY   \n",
       "\n",
       "                 First Hearing Date Gender  IME-4 Count  Industry Code  \\\n",
       "Claim Identifier                                                         \n",
       "5393875                         NaN      M          NaN           44.0   \n",
       "5393091                  2020-02-21      F          4.0           23.0   \n",
       "5393889                         NaN      M          NaN           56.0   \n",
       "\n",
       "                                          Industry Code Description  \\\n",
       "Claim Identifier                                                      \n",
       "5393875                                                RETAIL TRADE   \n",
       "5393091                                                CONSTRUCTION   \n",
       "5393889           ADMINISTRATIVE AND SUPPORT AND WASTE MANAGEMEN...   \n",
       "\n",
       "                 Medical Fee Region  OIICS Nature of Injury Description  \\\n",
       "Claim Identifier                                                          \n",
       "5393875                           I                                 NaN   \n",
       "5393091                           I                                 NaN   \n",
       "5393889                          II                                 NaN   \n",
       "\n",
       "                  WCIO Cause of Injury Code WCIO Cause of Injury Description  \\\n",
       "Claim Identifier                                                               \n",
       "5393875                                27.0     FROM LIQUID OR GREASE SPILLS   \n",
       "5393091                                97.0                REPETITIVE MOTION   \n",
       "5393889                                79.0   OBJECT BEING LIFTED OR HANDLED   \n",
       "\n",
       "                  WCIO Nature of Injury Code  \\\n",
       "Claim Identifier                               \n",
       "5393875                                 10.0   \n",
       "5393091                                 49.0   \n",
       "5393889                                  7.0   \n",
       "\n",
       "                 WCIO Nature of Injury Description  WCIO Part Of Body Code  \\\n",
       "Claim Identifier                                                             \n",
       "5393875                                  CONTUSION                    62.0   \n",
       "5393091                             SPRAIN OR TEAR                    38.0   \n",
       "5393889                                 CONCUSSION                    10.0   \n",
       "\n",
       "                 WCIO Part Of Body Description Zip Code  Agreement Reached  \\\n",
       "Claim Identifier                                                             \n",
       "5393875                               BUTTOCKS    13662                0.0   \n",
       "5393091                            SHOULDER(S)    14569                1.0   \n",
       "5393889                   MULTIPLE HEAD INJURY    12589                0.0   \n",
       "\n",
       "                      WCB Decision  Number of Dependents  \n",
       "Claim Identifier                                          \n",
       "5393875           Not Work Related                   1.0  \n",
       "5393091           Not Work Related                   4.0  \n",
       "5393889           Not Work Related                   6.0  "
      ]
     },
     "execution_count": 112,
     "metadata": {},
     "output_type": "execute_result"
    }
   ],
   "source": [
    "df = pd.read_csv('./project_data/train_data.csv', index_col = 'Claim Identifier')\n",
    "test = pd.read_csv('./project_data/test_data.csv', index_col = 'Claim Identifier')\n",
    "df.head(3)"
   ]
  },
  {
   "cell_type": "markdown",
   "id": "50563254",
   "metadata": {},
   "source": [
    "# 2. Exploratory Data Analysis\n",
    "\n",
    "<a href=\"#top\">Top &#129033;</a>"
   ]
  },
  {
   "cell_type": "code",
   "execution_count": 113,
   "id": "64c3cf16",
   "metadata": {
    "ExecuteTime": {
     "end_time": "2024-11-07T19:17:01.473157Z",
     "start_time": "2024-11-07T19:16:59.914651Z"
    }
   },
   "outputs": [
    {
     "data": {
      "text/html": [
       "<div>\n",
       "<style scoped>\n",
       "    .dataframe tbody tr th:only-of-type {\n",
       "        vertical-align: middle;\n",
       "    }\n",
       "\n",
       "    .dataframe tbody tr th {\n",
       "        vertical-align: top;\n",
       "    }\n",
       "\n",
       "    .dataframe thead th {\n",
       "        text-align: right;\n",
       "    }\n",
       "</style>\n",
       "<table border=\"1\" class=\"dataframe\">\n",
       "  <thead>\n",
       "    <tr style=\"text-align: right;\">\n",
       "      <th></th>\n",
       "      <th>count</th>\n",
       "      <th>unique</th>\n",
       "      <th>top</th>\n",
       "      <th>freq</th>\n",
       "    </tr>\n",
       "  </thead>\n",
       "  <tbody>\n",
       "    <tr>\n",
       "      <th>Accident Date</th>\n",
       "      <td>570337</td>\n",
       "      <td>5539</td>\n",
       "      <td>2020-03-01</td>\n",
       "      <td>1245</td>\n",
       "    </tr>\n",
       "    <tr>\n",
       "      <th>Alternative Dispute Resolution</th>\n",
       "      <td>574026</td>\n",
       "      <td>3</td>\n",
       "      <td>N</td>\n",
       "      <td>571412</td>\n",
       "    </tr>\n",
       "    <tr>\n",
       "      <th>Assembly Date</th>\n",
       "      <td>593471</td>\n",
       "      <td>1096</td>\n",
       "      <td>2020-03-06</td>\n",
       "      <td>1422</td>\n",
       "    </tr>\n",
       "    <tr>\n",
       "      <th>Attorney/Representative</th>\n",
       "      <td>574026</td>\n",
       "      <td>2</td>\n",
       "      <td>N</td>\n",
       "      <td>392291</td>\n",
       "    </tr>\n",
       "    <tr>\n",
       "      <th>C-2 Date</th>\n",
       "      <td>559466</td>\n",
       "      <td>2475</td>\n",
       "      <td>2021-05-11</td>\n",
       "      <td>1847</td>\n",
       "    </tr>\n",
       "    <tr>\n",
       "      <th>C-3 Date</th>\n",
       "      <td>187245</td>\n",
       "      <td>1648</td>\n",
       "      <td>2021-04-21</td>\n",
       "      <td>350</td>\n",
       "    </tr>\n",
       "    <tr>\n",
       "      <th>Carrier Name</th>\n",
       "      <td>574026</td>\n",
       "      <td>2046</td>\n",
       "      <td>STATE INSURANCE FUND</td>\n",
       "      <td>111144</td>\n",
       "    </tr>\n",
       "    <tr>\n",
       "      <th>Carrier Type</th>\n",
       "      <td>574026</td>\n",
       "      <td>8</td>\n",
       "      <td>1A. PRIVATE</td>\n",
       "      <td>285368</td>\n",
       "    </tr>\n",
       "    <tr>\n",
       "      <th>Claim Injury Type</th>\n",
       "      <td>574026</td>\n",
       "      <td>8</td>\n",
       "      <td>2. NON-COMP</td>\n",
       "      <td>291078</td>\n",
       "    </tr>\n",
       "    <tr>\n",
       "      <th>County of Injury</th>\n",
       "      <td>574026</td>\n",
       "      <td>63</td>\n",
       "      <td>SUFFOLK</td>\n",
       "      <td>60430</td>\n",
       "    </tr>\n",
       "    <tr>\n",
       "      <th>COVID-19 Indicator</th>\n",
       "      <td>574026</td>\n",
       "      <td>2</td>\n",
       "      <td>N</td>\n",
       "      <td>546505</td>\n",
       "    </tr>\n",
       "    <tr>\n",
       "      <th>District Name</th>\n",
       "      <td>574026</td>\n",
       "      <td>8</td>\n",
       "      <td>NYC</td>\n",
       "      <td>270779</td>\n",
       "    </tr>\n",
       "    <tr>\n",
       "      <th>First Hearing Date</th>\n",
       "      <td>150798</td>\n",
       "      <td>1094</td>\n",
       "      <td>2022-04-15</td>\n",
       "      <td>440</td>\n",
       "    </tr>\n",
       "    <tr>\n",
       "      <th>Gender</th>\n",
       "      <td>574026</td>\n",
       "      <td>4</td>\n",
       "      <td>M</td>\n",
       "      <td>335218</td>\n",
       "    </tr>\n",
       "    <tr>\n",
       "      <th>Industry Code Description</th>\n",
       "      <td>564068</td>\n",
       "      <td>20</td>\n",
       "      <td>HEALTH CARE AND SOCIAL ASSISTANCE</td>\n",
       "      <td>114339</td>\n",
       "    </tr>\n",
       "    <tr>\n",
       "      <th>Medical Fee Region</th>\n",
       "      <td>574026</td>\n",
       "      <td>5</td>\n",
       "      <td>IV</td>\n",
       "      <td>265981</td>\n",
       "    </tr>\n",
       "    <tr>\n",
       "      <th>WCIO Cause of Injury Description</th>\n",
       "      <td>558386</td>\n",
       "      <td>74</td>\n",
       "      <td>LIFTING</td>\n",
       "      <td>46610</td>\n",
       "    </tr>\n",
       "    <tr>\n",
       "      <th>WCIO Nature of Injury Description</th>\n",
       "      <td>558369</td>\n",
       "      <td>56</td>\n",
       "      <td>STRAIN OR TEAR</td>\n",
       "      <td>153373</td>\n",
       "    </tr>\n",
       "    <tr>\n",
       "      <th>WCIO Part Of Body Description</th>\n",
       "      <td>556944</td>\n",
       "      <td>54</td>\n",
       "      <td>LOWER BACK AREA</td>\n",
       "      <td>51862</td>\n",
       "    </tr>\n",
       "    <tr>\n",
       "      <th>Zip Code</th>\n",
       "      <td>545389</td>\n",
       "      <td>10060</td>\n",
       "      <td>11236</td>\n",
       "      <td>3302</td>\n",
       "    </tr>\n",
       "    <tr>\n",
       "      <th>WCB Decision</th>\n",
       "      <td>574026</td>\n",
       "      <td>1</td>\n",
       "      <td>Not Work Related</td>\n",
       "      <td>574026</td>\n",
       "    </tr>\n",
       "  </tbody>\n",
       "</table>\n",
       "</div>"
      ],
      "text/plain": [
       "                                    count unique  \\\n",
       "Accident Date                      570337   5539   \n",
       "Alternative Dispute Resolution     574026      3   \n",
       "Assembly Date                      593471   1096   \n",
       "Attorney/Representative            574026      2   \n",
       "C-2 Date                           559466   2475   \n",
       "C-3 Date                           187245   1648   \n",
       "Carrier Name                       574026   2046   \n",
       "Carrier Type                       574026      8   \n",
       "Claim Injury Type                  574026      8   \n",
       "County of Injury                   574026     63   \n",
       "COVID-19 Indicator                 574026      2   \n",
       "District Name                      574026      8   \n",
       "First Hearing Date                 150798   1094   \n",
       "Gender                             574026      4   \n",
       "Industry Code Description          564068     20   \n",
       "Medical Fee Region                 574026      5   \n",
       "WCIO Cause of Injury Description   558386     74   \n",
       "WCIO Nature of Injury Description  558369     56   \n",
       "WCIO Part Of Body Description      556944     54   \n",
       "Zip Code                           545389  10060   \n",
       "WCB Decision                       574026      1   \n",
       "\n",
       "                                                                 top    freq  \n",
       "Accident Date                                             2020-03-01    1245  \n",
       "Alternative Dispute Resolution                                     N  571412  \n",
       "Assembly Date                                             2020-03-06    1422  \n",
       "Attorney/Representative                                            N  392291  \n",
       "C-2 Date                                                  2021-05-11    1847  \n",
       "C-3 Date                                                  2021-04-21     350  \n",
       "Carrier Name                                    STATE INSURANCE FUND  111144  \n",
       "Carrier Type                                             1A. PRIVATE  285368  \n",
       "Claim Injury Type                                        2. NON-COMP  291078  \n",
       "County of Injury                                             SUFFOLK   60430  \n",
       "COVID-19 Indicator                                                 N  546505  \n",
       "District Name                                                    NYC  270779  \n",
       "First Hearing Date                                        2022-04-15     440  \n",
       "Gender                                                             M  335218  \n",
       "Industry Code Description          HEALTH CARE AND SOCIAL ASSISTANCE  114339  \n",
       "Medical Fee Region                                                IV  265981  \n",
       "WCIO Cause of Injury Description                             LIFTING   46610  \n",
       "WCIO Nature of Injury Description                     STRAIN OR TEAR  153373  \n",
       "WCIO Part Of Body Description                        LOWER BACK AREA   51862  \n",
       "Zip Code                                                       11236    3302  \n",
       "WCB Decision                                        Not Work Related  574026  "
      ]
     },
     "execution_count": 113,
     "metadata": {},
     "output_type": "execute_result"
    }
   ],
   "source": [
    "df.describe(include='object').T"
   ]
  },
  {
   "cell_type": "code",
   "execution_count": 114,
   "id": "79851f43",
   "metadata": {
    "ExecuteTime": {
     "end_time": "2024-11-07T19:17:01.810723Z",
     "start_time": "2024-11-07T19:17:01.475660Z"
    }
   },
   "outputs": [
    {
     "data": {
      "text/html": [
       "<div>\n",
       "<style scoped>\n",
       "    .dataframe tbody tr th:only-of-type {\n",
       "        vertical-align: middle;\n",
       "    }\n",
       "\n",
       "    .dataframe tbody tr th {\n",
       "        vertical-align: top;\n",
       "    }\n",
       "\n",
       "    .dataframe thead th {\n",
       "        text-align: right;\n",
       "    }\n",
       "</style>\n",
       "<table border=\"1\" class=\"dataframe\">\n",
       "  <thead>\n",
       "    <tr style=\"text-align: right;\">\n",
       "      <th></th>\n",
       "      <th>count</th>\n",
       "      <th>mean</th>\n",
       "      <th>std</th>\n",
       "      <th>min</th>\n",
       "      <th>25%</th>\n",
       "      <th>50%</th>\n",
       "      <th>75%</th>\n",
       "      <th>max</th>\n",
       "    </tr>\n",
       "  </thead>\n",
       "  <tbody>\n",
       "    <tr>\n",
       "      <th>Age at Injury</th>\n",
       "      <td>574026.0</td>\n",
       "      <td>42.114270</td>\n",
       "      <td>14.256432</td>\n",
       "      <td>0.0</td>\n",
       "      <td>31.0</td>\n",
       "      <td>42.0</td>\n",
       "      <td>54.0</td>\n",
       "      <td>117.0</td>\n",
       "    </tr>\n",
       "    <tr>\n",
       "      <th>Average Weekly Wage</th>\n",
       "      <td>545375.0</td>\n",
       "      <td>491.088321</td>\n",
       "      <td>6092.918120</td>\n",
       "      <td>0.0</td>\n",
       "      <td>0.0</td>\n",
       "      <td>0.0</td>\n",
       "      <td>841.0</td>\n",
       "      <td>2828079.0</td>\n",
       "    </tr>\n",
       "    <tr>\n",
       "      <th>Birth Year</th>\n",
       "      <td>544948.0</td>\n",
       "      <td>1886.767604</td>\n",
       "      <td>414.644423</td>\n",
       "      <td>0.0</td>\n",
       "      <td>1965.0</td>\n",
       "      <td>1977.0</td>\n",
       "      <td>1989.0</td>\n",
       "      <td>2018.0</td>\n",
       "    </tr>\n",
       "    <tr>\n",
       "      <th>IME-4 Count</th>\n",
       "      <td>132803.0</td>\n",
       "      <td>3.207337</td>\n",
       "      <td>2.832303</td>\n",
       "      <td>1.0</td>\n",
       "      <td>1.0</td>\n",
       "      <td>2.0</td>\n",
       "      <td>4.0</td>\n",
       "      <td>73.0</td>\n",
       "    </tr>\n",
       "    <tr>\n",
       "      <th>Industry Code</th>\n",
       "      <td>564068.0</td>\n",
       "      <td>58.645305</td>\n",
       "      <td>19.644175</td>\n",
       "      <td>11.0</td>\n",
       "      <td>45.0</td>\n",
       "      <td>61.0</td>\n",
       "      <td>71.0</td>\n",
       "      <td>92.0</td>\n",
       "    </tr>\n",
       "    <tr>\n",
       "      <th>OIICS Nature of Injury Description</th>\n",
       "      <td>0.0</td>\n",
       "      <td>NaN</td>\n",
       "      <td>NaN</td>\n",
       "      <td>NaN</td>\n",
       "      <td>NaN</td>\n",
       "      <td>NaN</td>\n",
       "      <td>NaN</td>\n",
       "      <td>NaN</td>\n",
       "    </tr>\n",
       "    <tr>\n",
       "      <th>WCIO Cause of Injury Code</th>\n",
       "      <td>558386.0</td>\n",
       "      <td>54.381143</td>\n",
       "      <td>25.874281</td>\n",
       "      <td>1.0</td>\n",
       "      <td>31.0</td>\n",
       "      <td>56.0</td>\n",
       "      <td>75.0</td>\n",
       "      <td>99.0</td>\n",
       "    </tr>\n",
       "    <tr>\n",
       "      <th>WCIO Nature of Injury Code</th>\n",
       "      <td>558369.0</td>\n",
       "      <td>41.013839</td>\n",
       "      <td>22.207521</td>\n",
       "      <td>1.0</td>\n",
       "      <td>16.0</td>\n",
       "      <td>49.0</td>\n",
       "      <td>52.0</td>\n",
       "      <td>91.0</td>\n",
       "    </tr>\n",
       "    <tr>\n",
       "      <th>WCIO Part Of Body Code</th>\n",
       "      <td>556944.0</td>\n",
       "      <td>39.738146</td>\n",
       "      <td>22.365940</td>\n",
       "      <td>-9.0</td>\n",
       "      <td>33.0</td>\n",
       "      <td>38.0</td>\n",
       "      <td>53.0</td>\n",
       "      <td>99.0</td>\n",
       "    </tr>\n",
       "    <tr>\n",
       "      <th>Agreement Reached</th>\n",
       "      <td>574026.0</td>\n",
       "      <td>0.046665</td>\n",
       "      <td>0.210921</td>\n",
       "      <td>0.0</td>\n",
       "      <td>0.0</td>\n",
       "      <td>0.0</td>\n",
       "      <td>0.0</td>\n",
       "      <td>1.0</td>\n",
       "    </tr>\n",
       "    <tr>\n",
       "      <th>Number of Dependents</th>\n",
       "      <td>574026.0</td>\n",
       "      <td>3.006559</td>\n",
       "      <td>2.000801</td>\n",
       "      <td>0.0</td>\n",
       "      <td>1.0</td>\n",
       "      <td>3.0</td>\n",
       "      <td>5.0</td>\n",
       "      <td>6.0</td>\n",
       "    </tr>\n",
       "  </tbody>\n",
       "</table>\n",
       "</div>"
      ],
      "text/plain": [
       "                                       count         mean          std   min  \\\n",
       "Age at Injury                       574026.0    42.114270    14.256432   0.0   \n",
       "Average Weekly Wage                 545375.0   491.088321  6092.918120   0.0   \n",
       "Birth Year                          544948.0  1886.767604   414.644423   0.0   \n",
       "IME-4 Count                         132803.0     3.207337     2.832303   1.0   \n",
       "Industry Code                       564068.0    58.645305    19.644175  11.0   \n",
       "OIICS Nature of Injury Description       0.0          NaN          NaN   NaN   \n",
       "WCIO Cause of Injury Code           558386.0    54.381143    25.874281   1.0   \n",
       "WCIO Nature of Injury Code          558369.0    41.013839    22.207521   1.0   \n",
       "WCIO Part Of Body Code              556944.0    39.738146    22.365940  -9.0   \n",
       "Agreement Reached                   574026.0     0.046665     0.210921   0.0   \n",
       "Number of Dependents                574026.0     3.006559     2.000801   0.0   \n",
       "\n",
       "                                       25%     50%     75%        max  \n",
       "Age at Injury                         31.0    42.0    54.0      117.0  \n",
       "Average Weekly Wage                    0.0     0.0   841.0  2828079.0  \n",
       "Birth Year                          1965.0  1977.0  1989.0     2018.0  \n",
       "IME-4 Count                            1.0     2.0     4.0       73.0  \n",
       "Industry Code                         45.0    61.0    71.0       92.0  \n",
       "OIICS Nature of Injury Description     NaN     NaN     NaN        NaN  \n",
       "WCIO Cause of Injury Code             31.0    56.0    75.0       99.0  \n",
       "WCIO Nature of Injury Code            16.0    49.0    52.0       91.0  \n",
       "WCIO Part Of Body Code                33.0    38.0    53.0       99.0  \n",
       "Agreement Reached                      0.0     0.0     0.0        1.0  \n",
       "Number of Dependents                   1.0     3.0     5.0        6.0  "
      ]
     },
     "execution_count": 114,
     "metadata": {},
     "output_type": "execute_result"
    }
   ],
   "source": [
    "df.describe().T"
   ]
  },
  {
   "cell_type": "code",
   "execution_count": 115,
   "id": "1f2b9559",
   "metadata": {
    "ExecuteTime": {
     "end_time": "2024-11-07T19:17:01.819952Z",
     "start_time": "2024-11-07T19:17:01.815164Z"
    }
   },
   "outputs": [
    {
     "data": {
      "text/plain": [
       "(593471, 32)"
      ]
     },
     "execution_count": 115,
     "metadata": {},
     "output_type": "execute_result"
    }
   ],
   "source": [
    "df.shape"
   ]
  },
  {
   "cell_type": "code",
   "execution_count": 116,
   "id": "4f985142",
   "metadata": {
    "ExecuteTime": {
     "end_time": "2024-11-07T19:17:02.390085Z",
     "start_time": "2024-11-07T19:17:01.822389Z"
    }
   },
   "outputs": [
    {
     "name": "stdout",
     "output_type": "stream",
     "text": [
      "<class 'pandas.core.frame.DataFrame'>\n",
      "Index: 593471 entries, 5393875 to 818961390\n",
      "Data columns (total 32 columns):\n",
      " #   Column                              Non-Null Count   Dtype  \n",
      "---  ------                              --------------   -----  \n",
      " 0   Accident Date                       570337 non-null  object \n",
      " 1   Age at Injury                       574026 non-null  float64\n",
      " 2   Alternative Dispute Resolution      574026 non-null  object \n",
      " 3   Assembly Date                       593471 non-null  object \n",
      " 4   Attorney/Representative             574026 non-null  object \n",
      " 5   Average Weekly Wage                 545375 non-null  float64\n",
      " 6   Birth Year                          544948 non-null  float64\n",
      " 7   C-2 Date                            559466 non-null  object \n",
      " 8   C-3 Date                            187245 non-null  object \n",
      " 9   Carrier Name                        574026 non-null  object \n",
      " 10  Carrier Type                        574026 non-null  object \n",
      " 11  Claim Injury Type                   574026 non-null  object \n",
      " 12  County of Injury                    574026 non-null  object \n",
      " 13  COVID-19 Indicator                  574026 non-null  object \n",
      " 14  District Name                       574026 non-null  object \n",
      " 15  First Hearing Date                  150798 non-null  object \n",
      " 16  Gender                              574026 non-null  object \n",
      " 17  IME-4 Count                         132803 non-null  float64\n",
      " 18  Industry Code                       564068 non-null  float64\n",
      " 19  Industry Code Description           564068 non-null  object \n",
      " 20  Medical Fee Region                  574026 non-null  object \n",
      " 21  OIICS Nature of Injury Description  0 non-null       float64\n",
      " 22  WCIO Cause of Injury Code           558386 non-null  float64\n",
      " 23  WCIO Cause of Injury Description    558386 non-null  object \n",
      " 24  WCIO Nature of Injury Code          558369 non-null  float64\n",
      " 25  WCIO Nature of Injury Description   558369 non-null  object \n",
      " 26  WCIO Part Of Body Code              556944 non-null  float64\n",
      " 27  WCIO Part Of Body Description       556944 non-null  object \n",
      " 28  Zip Code                            545389 non-null  object \n",
      " 29  Agreement Reached                   574026 non-null  float64\n",
      " 30  WCB Decision                        574026 non-null  object \n",
      " 31  Number of Dependents                574026 non-null  float64\n",
      "dtypes: float64(11), object(21)\n",
      "memory usage: 149.4+ MB\n"
     ]
    }
   ],
   "source": [
    "df.info()"
   ]
  },
  {
   "cell_type": "markdown",
   "id": "b6055085",
   "metadata": {},
   "source": [
    "**Correlation matrix**"
   ]
  },
  {
   "cell_type": "code",
   "execution_count": 117,
   "id": "fd527f47",
   "metadata": {
    "ExecuteTime": {
     "end_time": "2024-11-07T19:17:03.821931Z",
     "start_time": "2024-11-07T19:17:02.392636Z"
    }
   },
   "outputs": [
    {
     "data": {
      "image/png": "[encoded data removed]",
      "text/plain": [
       "<Figure size 1000x800 with 2 Axes>"
      ]
     },
     "metadata": {},
     "output_type": "display_data"
    }
   ],
   "source": [
    "# drop column always missing\n",
    "temp = df.drop('OIICS Nature of Injury Description', axis = 1)\n",
    "\n",
    "# drop na\n",
    "temp = temp.dropna()\n",
    "\n",
    "# select numbers\n",
    "corr_data = temp.select_dtypes(include=['number'])\n",
    "\n",
    "correlation_matrix = corr_data.corr(method='spearman') # pearson by default\n",
    "\n",
    "plt.figure(figsize=(10, 8))\n",
    "sns.heatmap(correlation_matrix, annot=True, cmap='Blues', linewidths=0.1)\n",
    "plt.show()"
   ]
  },
  {
   "cell_type": "markdown",
   "id": "ec2c231d",
   "metadata": {},
   "source": [
    "**Unique Values**"
   ]
  },
  {
   "cell_type": "code",
   "execution_count": 118,
   "id": "0600bd76",
   "metadata": {
    "ExecuteTime": {
     "end_time": "2024-11-07T19:17:04.958519Z",
     "start_time": "2024-11-07T19:17:03.824527Z"
    },
    "scrolled": true
   },
   "outputs": [
    {
     "name": "stdout",
     "output_type": "stream",
     "text": [
      "Unique values in 'Alternative Dispute Resolution': ['N' nan 'Y' 'U']\n",
      "3 \n",
      "\n",
      "Unique values in 'Attorney/Representative': ['N' 'Y' nan]\n",
      "2 \n",
      "\n",
      "Unique values in 'Carrier Type': ['1A. PRIVATE' nan '2A. SIF' '4A. SELF PRIVATE' '3A. SELF PUBLIC'\n",
      " 'UNKNOWN' '5D. SPECIAL FUND - UNKNOWN'\n",
      " '5A. SPECIAL FUND - CONS. COMM. (SECT. 25-A)'\n",
      " '5C. SPECIAL FUND - POI CARRIER WCB MENANDS']\n",
      "8 \n",
      "\n",
      "Unique values in 'Claim Injury Type': ['2. NON-COMP' '4. TEMPORARY' nan '3. MED ONLY' '5. PPD SCH LOSS'\n",
      " '6. PPD NSL' '1. CANCELLED' '8. DEATH' '7. PTD']\n",
      "8 \n",
      "\n",
      "Unique values in 'COVID-19 Indicator': ['N' nan 'Y']\n",
      "2 \n",
      "\n",
      "Unique values in 'District Name': ['SYRACUSE' 'ROCHESTER' 'ALBANY' nan 'HAUPPAUGE' 'NYC' 'BUFFALO'\n",
      " 'BINGHAMTON' 'STATEWIDE']\n",
      "8 \n",
      "\n",
      "Unique values in 'Gender': ['M' 'F' nan 'U' 'X']\n",
      "4 \n",
      "\n",
      "Unique values in 'Medical Fee Region': ['I' 'II' nan 'IV' 'UK' 'III']\n",
      "5 \n",
      "\n",
      "Unique values in 'OIICS Nature of Injury Description': [nan]\n",
      "0 \n",
      "\n",
      "Unique values in 'Agreement Reached': [ 0.  1. nan]\n",
      "2 \n",
      "\n",
      "Unique values in 'WCB Decision': ['Not Work Related' nan]\n",
      "1 \n",
      "\n",
      "Unique values in 'Number of Dependents': [ 1.  4.  6. nan  5.  3.  2.  0.]\n",
      "7 \n",
      "\n"
     ]
    }
   ],
   "source": [
    "for column in df.columns:\n",
    "    \n",
    "    if df[column].nunique() < 20:\n",
    "        \n",
    "        print(f\"Unique values in '{column}': {df[column].unique()}\")\n",
    "        print(df[column].nunique(), '\\n')"
   ]
  },
  {
   "cell_type": "markdown",
   "id": "bb332470",
   "metadata": {},
   "source": [
    "## 2.1 Incoherencies\n",
    "\n",
    "<a href=\"#top\">Top &#129033;</a>"
   ]
  },
  {
   "cell_type": "markdown",
   "id": "36c503fb",
   "metadata": {},
   "source": [
    "**Age at Injury**\n",
    "\n",
    "very high max values"
   ]
  },
  {
   "cell_type": "code",
   "execution_count": 119,
   "id": "a3cd8837",
   "metadata": {
    "ExecuteTime": {
     "end_time": "2024-11-07T19:17:05.012463Z",
     "start_time": "2024-11-07T19:17:04.961120Z"
    }
   },
   "outputs": [
    {
     "data": {
      "text/html": [
       "<div>\n",
       "<style scoped>\n",
       "    .dataframe tbody tr th:only-of-type {\n",
       "        vertical-align: middle;\n",
       "    }\n",
       "\n",
       "    .dataframe tbody tr th {\n",
       "        vertical-align: top;\n",
       "    }\n",
       "\n",
       "    .dataframe thead th {\n",
       "        text-align: right;\n",
       "    }\n",
       "</style>\n",
       "<table border=\"1\" class=\"dataframe\">\n",
       "  <thead>\n",
       "    <tr style=\"text-align: right;\">\n",
       "      <th></th>\n",
       "      <th>Accident Date</th>\n",
       "      <th>Age at Injury</th>\n",
       "      <th>Alternative Dispute Resolution</th>\n",
       "      <th>Assembly Date</th>\n",
       "      <th>Attorney/Representative</th>\n",
       "      <th>Average Weekly Wage</th>\n",
       "      <th>Birth Year</th>\n",
       "      <th>C-2 Date</th>\n",
       "      <th>C-3 Date</th>\n",
       "      <th>Carrier Name</th>\n",
       "      <th>Carrier Type</th>\n",
       "      <th>Claim Injury Type</th>\n",
       "      <th>County of Injury</th>\n",
       "      <th>COVID-19 Indicator</th>\n",
       "      <th>District Name</th>\n",
       "      <th>First Hearing Date</th>\n",
       "      <th>Gender</th>\n",
       "      <th>IME-4 Count</th>\n",
       "      <th>Industry Code</th>\n",
       "      <th>Industry Code Description</th>\n",
       "      <th>Medical Fee Region</th>\n",
       "      <th>OIICS Nature of Injury Description</th>\n",
       "      <th>WCIO Cause of Injury Code</th>\n",
       "      <th>WCIO Cause of Injury Description</th>\n",
       "      <th>WCIO Nature of Injury Code</th>\n",
       "      <th>WCIO Nature of Injury Description</th>\n",
       "      <th>WCIO Part Of Body Code</th>\n",
       "      <th>WCIO Part Of Body Description</th>\n",
       "      <th>Zip Code</th>\n",
       "      <th>Agreement Reached</th>\n",
       "      <th>WCB Decision</th>\n",
       "      <th>Number of Dependents</th>\n",
       "    </tr>\n",
       "    <tr>\n",
       "      <th>Claim Identifier</th>\n",
       "      <th></th>\n",
       "      <th></th>\n",
       "      <th></th>\n",
       "      <th></th>\n",
       "      <th></th>\n",
       "      <th></th>\n",
       "      <th></th>\n",
       "      <th></th>\n",
       "      <th></th>\n",
       "      <th></th>\n",
       "      <th></th>\n",
       "      <th></th>\n",
       "      <th></th>\n",
       "      <th></th>\n",
       "      <th></th>\n",
       "      <th></th>\n",
       "      <th></th>\n",
       "      <th></th>\n",
       "      <th></th>\n",
       "      <th></th>\n",
       "      <th></th>\n",
       "      <th></th>\n",
       "      <th></th>\n",
       "      <th></th>\n",
       "      <th></th>\n",
       "      <th></th>\n",
       "      <th></th>\n",
       "      <th></th>\n",
       "      <th></th>\n",
       "      <th></th>\n",
       "      <th></th>\n",
       "      <th></th>\n",
       "    </tr>\n",
       "  </thead>\n",
       "  <tbody>\n",
       "    <tr>\n",
       "      <th>5393971</th>\n",
       "      <td>2019-06-26</td>\n",
       "      <td>0.0</td>\n",
       "      <td>N</td>\n",
       "      <td>2020-01-02</td>\n",
       "      <td>N</td>\n",
       "      <td>0.0</td>\n",
       "      <td>0.0</td>\n",
       "      <td>NaN</td>\n",
       "      <td>NaN</td>\n",
       "      <td>AMERICAN ZURICH INSURANCE CO</td>\n",
       "      <td>1A. PRIVATE</td>\n",
       "      <td>2. NON-COMP</td>\n",
       "      <td>NASSAU</td>\n",
       "      <td>N</td>\n",
       "      <td>NYC</td>\n",
       "      <td>NaN</td>\n",
       "      <td>M</td>\n",
       "      <td>NaN</td>\n",
       "      <td>62.0</td>\n",
       "      <td>HEALTH CARE AND SOCIAL ASSISTANCE</td>\n",
       "      <td>IV</td>\n",
       "      <td>NaN</td>\n",
       "      <td>NaN</td>\n",
       "      <td>NaN</td>\n",
       "      <td>NaN</td>\n",
       "      <td>NaN</td>\n",
       "      <td>NaN</td>\n",
       "      <td>NaN</td>\n",
       "      <td>11801</td>\n",
       "      <td>0.0</td>\n",
       "      <td>Not Work Related</td>\n",
       "      <td>1.0</td>\n",
       "    </tr>\n",
       "    <tr>\n",
       "      <th>5394788</th>\n",
       "      <td>2019-12-23</td>\n",
       "      <td>16.0</td>\n",
       "      <td>N</td>\n",
       "      <td>2020-01-02</td>\n",
       "      <td>N</td>\n",
       "      <td>0.0</td>\n",
       "      <td>2003.0</td>\n",
       "      <td>2020-01-02</td>\n",
       "      <td>NaN</td>\n",
       "      <td>PENNSYLVANIA MANUFACTURERS'</td>\n",
       "      <td>1A. PRIVATE</td>\n",
       "      <td>3. MED ONLY</td>\n",
       "      <td>SUFFOLK</td>\n",
       "      <td>N</td>\n",
       "      <td>HAUPPAUGE</td>\n",
       "      <td>NaN</td>\n",
       "      <td>M</td>\n",
       "      <td>NaN</td>\n",
       "      <td>71.0</td>\n",
       "      <td>ARTS, ENTERTAINMENT, AND RECREATION</td>\n",
       "      <td>IV</td>\n",
       "      <td>NaN</td>\n",
       "      <td>32.0</td>\n",
       "      <td>ON ICE OR SNOW</td>\n",
       "      <td>40.0</td>\n",
       "      <td>LACERATION</td>\n",
       "      <td>14.0</td>\n",
       "      <td>EYE(S)</td>\n",
       "      <td>11776</td>\n",
       "      <td>0.0</td>\n",
       "      <td>Not Work Related</td>\n",
       "      <td>4.0</td>\n",
       "    </tr>\n",
       "    <tr>\n",
       "      <th>5394093</th>\n",
       "      <td>2019-12-28</td>\n",
       "      <td>0.0</td>\n",
       "      <td>N</td>\n",
       "      <td>2020-01-02</td>\n",
       "      <td>N</td>\n",
       "      <td>0.0</td>\n",
       "      <td>0.0</td>\n",
       "      <td>2019-12-30</td>\n",
       "      <td>NaN</td>\n",
       "      <td>TWIN CITY FIRE INS CO.</td>\n",
       "      <td>1A. PRIVATE</td>\n",
       "      <td>2. NON-COMP</td>\n",
       "      <td>NEW YORK</td>\n",
       "      <td>N</td>\n",
       "      <td>NYC</td>\n",
       "      <td>NaN</td>\n",
       "      <td>M</td>\n",
       "      <td>NaN</td>\n",
       "      <td>71.0</td>\n",
       "      <td>ARTS, ENTERTAINMENT, AND RECREATION</td>\n",
       "      <td>IV</td>\n",
       "      <td>NaN</td>\n",
       "      <td>55.0</td>\n",
       "      <td>HOLDING OR CARRYING</td>\n",
       "      <td>52.0</td>\n",
       "      <td>STRAIN OR TEAR</td>\n",
       "      <td>61.0</td>\n",
       "      <td>ABDOMEN INCLUDING GROIN</td>\n",
       "      <td>NaN</td>\n",
       "      <td>0.0</td>\n",
       "      <td>Not Work Related</td>\n",
       "      <td>5.0</td>\n",
       "    </tr>\n",
       "    <tr>\n",
       "      <th>5394068</th>\n",
       "      <td>NaN</td>\n",
       "      <td>0.0</td>\n",
       "      <td>N</td>\n",
       "      <td>2020-01-02</td>\n",
       "      <td>Y</td>\n",
       "      <td>0.0</td>\n",
       "      <td>1959.0</td>\n",
       "      <td>NaN</td>\n",
       "      <td>2019-12-23</td>\n",
       "      <td>STARR INDEMNITY &amp; LIABILITY CO</td>\n",
       "      <td>1A. PRIVATE</td>\n",
       "      <td>2. NON-COMP</td>\n",
       "      <td>BRONX</td>\n",
       "      <td>N</td>\n",
       "      <td>NYC</td>\n",
       "      <td>NaN</td>\n",
       "      <td>M</td>\n",
       "      <td>NaN</td>\n",
       "      <td>23.0</td>\n",
       "      <td>CONSTRUCTION</td>\n",
       "      <td>IV</td>\n",
       "      <td>NaN</td>\n",
       "      <td>NaN</td>\n",
       "      <td>NaN</td>\n",
       "      <td>NaN</td>\n",
       "      <td>NaN</td>\n",
       "      <td>NaN</td>\n",
       "      <td>NaN</td>\n",
       "      <td>NaN</td>\n",
       "      <td>0.0</td>\n",
       "      <td>Not Work Related</td>\n",
       "      <td>6.0</td>\n",
       "    </tr>\n",
       "    <tr>\n",
       "      <th>5393794</th>\n",
       "      <td>NaN</td>\n",
       "      <td>0.0</td>\n",
       "      <td>N</td>\n",
       "      <td>2020-01-02</td>\n",
       "      <td>Y</td>\n",
       "      <td>0.0</td>\n",
       "      <td>1984.0</td>\n",
       "      <td>NaN</td>\n",
       "      <td>2019-12-27</td>\n",
       "      <td>LM INSURANCE CORP</td>\n",
       "      <td>1A. PRIVATE</td>\n",
       "      <td>2. NON-COMP</td>\n",
       "      <td>ONONDAGA</td>\n",
       "      <td>N</td>\n",
       "      <td>SYRACUSE</td>\n",
       "      <td>NaN</td>\n",
       "      <td>F</td>\n",
       "      <td>NaN</td>\n",
       "      <td>NaN</td>\n",
       "      <td>NaN</td>\n",
       "      <td>II</td>\n",
       "      <td>NaN</td>\n",
       "      <td>NaN</td>\n",
       "      <td>NaN</td>\n",
       "      <td>NaN</td>\n",
       "      <td>NaN</td>\n",
       "      <td>NaN</td>\n",
       "      <td>NaN</td>\n",
       "      <td>13212</td>\n",
       "      <td>0.0</td>\n",
       "      <td>Not Work Related</td>\n",
       "      <td>4.0</td>\n",
       "    </tr>\n",
       "    <tr>\n",
       "      <th>...</th>\n",
       "      <td>...</td>\n",
       "      <td>...</td>\n",
       "      <td>...</td>\n",
       "      <td>...</td>\n",
       "      <td>...</td>\n",
       "      <td>...</td>\n",
       "      <td>...</td>\n",
       "      <td>...</td>\n",
       "      <td>...</td>\n",
       "      <td>...</td>\n",
       "      <td>...</td>\n",
       "      <td>...</td>\n",
       "      <td>...</td>\n",
       "      <td>...</td>\n",
       "      <td>...</td>\n",
       "      <td>...</td>\n",
       "      <td>...</td>\n",
       "      <td>...</td>\n",
       "      <td>...</td>\n",
       "      <td>...</td>\n",
       "      <td>...</td>\n",
       "      <td>...</td>\n",
       "      <td>...</td>\n",
       "      <td>...</td>\n",
       "      <td>...</td>\n",
       "      <td>...</td>\n",
       "      <td>...</td>\n",
       "      <td>...</td>\n",
       "      <td>...</td>\n",
       "      <td>...</td>\n",
       "      <td>...</td>\n",
       "      <td>...</td>\n",
       "    </tr>\n",
       "    <tr>\n",
       "      <th>6164933</th>\n",
       "      <td>NaN</td>\n",
       "      <td>0.0</td>\n",
       "      <td>N</td>\n",
       "      <td>2022-12-30</td>\n",
       "      <td>Y</td>\n",
       "      <td>0.0</td>\n",
       "      <td>1972.0</td>\n",
       "      <td>2023-01-20</td>\n",
       "      <td>2022-12-22</td>\n",
       "      <td>LM INSURANCE CORP</td>\n",
       "      <td>1A. PRIVATE</td>\n",
       "      <td>2. NON-COMP</td>\n",
       "      <td>KINGS</td>\n",
       "      <td>N</td>\n",
       "      <td>NYC</td>\n",
       "      <td>NaN</td>\n",
       "      <td>M</td>\n",
       "      <td>NaN</td>\n",
       "      <td>23.0</td>\n",
       "      <td>CONSTRUCTION</td>\n",
       "      <td>IV</td>\n",
       "      <td>NaN</td>\n",
       "      <td>60.0</td>\n",
       "      <td>STRAIN OR INJURY BY, NOC</td>\n",
       "      <td>78.0</td>\n",
       "      <td>CARPAL TUNNEL SYNDROME</td>\n",
       "      <td>39.0</td>\n",
       "      <td>WRIST (S) &amp; HAND(S)</td>\n",
       "      <td>11221</td>\n",
       "      <td>0.0</td>\n",
       "      <td>Not Work Related</td>\n",
       "      <td>6.0</td>\n",
       "    </tr>\n",
       "    <tr>\n",
       "      <th>6164795</th>\n",
       "      <td>2022-08-20</td>\n",
       "      <td>17.0</td>\n",
       "      <td>N</td>\n",
       "      <td>2022-12-30</td>\n",
       "      <td>N</td>\n",
       "      <td>0.0</td>\n",
       "      <td>2005.0</td>\n",
       "      <td>2022-12-30</td>\n",
       "      <td>NaN</td>\n",
       "      <td>SEQUOIA INSURANCE COMPANY</td>\n",
       "      <td>1A. PRIVATE</td>\n",
       "      <td>3. MED ONLY</td>\n",
       "      <td>SCHOHARIE</td>\n",
       "      <td>N</td>\n",
       "      <td>BINGHAMTON</td>\n",
       "      <td>NaN</td>\n",
       "      <td>F</td>\n",
       "      <td>NaN</td>\n",
       "      <td>72.0</td>\n",
       "      <td>ACCOMMODATION AND FOOD SERVICES</td>\n",
       "      <td>I</td>\n",
       "      <td>NaN</td>\n",
       "      <td>60.0</td>\n",
       "      <td>STRAIN OR INJURY BY, NOC</td>\n",
       "      <td>49.0</td>\n",
       "      <td>SPRAIN OR TEAR</td>\n",
       "      <td>55.0</td>\n",
       "      <td>ANKLE</td>\n",
       "      <td>12149</td>\n",
       "      <td>0.0</td>\n",
       "      <td>Not Work Related</td>\n",
       "      <td>5.0</td>\n",
       "    </tr>\n",
       "    <tr>\n",
       "      <th>6164931</th>\n",
       "      <td>NaN</td>\n",
       "      <td>0.0</td>\n",
       "      <td>N</td>\n",
       "      <td>2022-12-30</td>\n",
       "      <td>Y</td>\n",
       "      <td>0.0</td>\n",
       "      <td>1957.0</td>\n",
       "      <td>NaN</td>\n",
       "      <td>2022-12-27</td>\n",
       "      <td>CNY OTHER THAN ED, HED WATER</td>\n",
       "      <td>3A. SELF PUBLIC</td>\n",
       "      <td>1. CANCELLED</td>\n",
       "      <td>KINGS</td>\n",
       "      <td>N</td>\n",
       "      <td>NYC</td>\n",
       "      <td>NaN</td>\n",
       "      <td>M</td>\n",
       "      <td>NaN</td>\n",
       "      <td>NaN</td>\n",
       "      <td>NaN</td>\n",
       "      <td>IV</td>\n",
       "      <td>NaN</td>\n",
       "      <td>NaN</td>\n",
       "      <td>NaN</td>\n",
       "      <td>NaN</td>\n",
       "      <td>NaN</td>\n",
       "      <td>NaN</td>\n",
       "      <td>NaN</td>\n",
       "      <td>11221</td>\n",
       "      <td>0.0</td>\n",
       "      <td>Not Work Related</td>\n",
       "      <td>0.0</td>\n",
       "    </tr>\n",
       "    <tr>\n",
       "      <th>6164433</th>\n",
       "      <td>2022-12-13</td>\n",
       "      <td>0.0</td>\n",
       "      <td>N</td>\n",
       "      <td>2022-12-30</td>\n",
       "      <td>N</td>\n",
       "      <td>0.0</td>\n",
       "      <td>1903.0</td>\n",
       "      <td>2022-12-30</td>\n",
       "      <td>NaN</td>\n",
       "      <td>SECURITY NATIONAL INSURANCE CO</td>\n",
       "      <td>1A. PRIVATE</td>\n",
       "      <td>2. NON-COMP</td>\n",
       "      <td>ALBANY</td>\n",
       "      <td>N</td>\n",
       "      <td>ALBANY</td>\n",
       "      <td>NaN</td>\n",
       "      <td>F</td>\n",
       "      <td>NaN</td>\n",
       "      <td>62.0</td>\n",
       "      <td>HEALTH CARE AND SOCIAL ASSISTANCE</td>\n",
       "      <td>II</td>\n",
       "      <td>NaN</td>\n",
       "      <td>17.0</td>\n",
       "      <td>OBJECT BEING LIFTED OR HANDLED</td>\n",
       "      <td>43.0</td>\n",
       "      <td>PUNCTURE</td>\n",
       "      <td>36.0</td>\n",
       "      <td>FINGER(S)</td>\n",
       "      <td>12309</td>\n",
       "      <td>0.0</td>\n",
       "      <td>Not Work Related</td>\n",
       "      <td>1.0</td>\n",
       "    </tr>\n",
       "    <tr>\n",
       "      <th>6165637</th>\n",
       "      <td>2022-11-19</td>\n",
       "      <td>0.0</td>\n",
       "      <td>N</td>\n",
       "      <td>2022-12-30</td>\n",
       "      <td>N</td>\n",
       "      <td>0.0</td>\n",
       "      <td>0.0</td>\n",
       "      <td>2022-12-30</td>\n",
       "      <td>NaN</td>\n",
       "      <td>NEW YORK BLACK CAR OPERATORS'</td>\n",
       "      <td>4A. SELF PRIVATE</td>\n",
       "      <td>2. NON-COMP</td>\n",
       "      <td>QUEENS</td>\n",
       "      <td>N</td>\n",
       "      <td>NYC</td>\n",
       "      <td>NaN</td>\n",
       "      <td>M</td>\n",
       "      <td>NaN</td>\n",
       "      <td>48.0</td>\n",
       "      <td>TRANSPORTATION AND WAREHOUSING</td>\n",
       "      <td>UK</td>\n",
       "      <td>NaN</td>\n",
       "      <td>45.0</td>\n",
       "      <td>COLLISION OR SIDESWIPE WITH ANOTHER VEHICLE</td>\n",
       "      <td>1.0</td>\n",
       "      <td>NO PHYSICAL INJURY</td>\n",
       "      <td>66.0</td>\n",
       "      <td>NO PHYSICAL INJURY</td>\n",
       "      <td>07666</td>\n",
       "      <td>0.0</td>\n",
       "      <td>Not Work Related</td>\n",
       "      <td>6.0</td>\n",
       "    </tr>\n",
       "  </tbody>\n",
       "</table>\n",
       "<p>7585 rows × 32 columns</p>\n",
       "</div>"
      ],
      "text/plain": [
       "                 Accident Date  Age at Injury Alternative Dispute Resolution  \\\n",
       "Claim Identifier                                                               \n",
       "5393971             2019-06-26            0.0                              N   \n",
       "5394788             2019-12-23           16.0                              N   \n",
       "5394093             2019-12-28            0.0                              N   \n",
       "5394068                    NaN            0.0                              N   \n",
       "5393794                    NaN            0.0                              N   \n",
       "...                        ...            ...                            ...   \n",
       "6164933                    NaN            0.0                              N   \n",
       "6164795             2022-08-20           17.0                              N   \n",
       "6164931                    NaN            0.0                              N   \n",
       "6164433             2022-12-13            0.0                              N   \n",
       "6165637             2022-11-19            0.0                              N   \n",
       "\n",
       "                 Assembly Date Attorney/Representative  Average Weekly Wage  \\\n",
       "Claim Identifier                                                              \n",
       "5393971             2020-01-02                       N                  0.0   \n",
       "5394788             2020-01-02                       N                  0.0   \n",
       "5394093             2020-01-02                       N                  0.0   \n",
       "5394068             2020-01-02                       Y                  0.0   \n",
       "5393794             2020-01-02                       Y                  0.0   \n",
       "...                        ...                     ...                  ...   \n",
       "6164933             2022-12-30                       Y                  0.0   \n",
       "6164795             2022-12-30                       N                  0.0   \n",
       "6164931             2022-12-30                       Y                  0.0   \n",
       "6164433             2022-12-30                       N                  0.0   \n",
       "6165637             2022-12-30                       N                  0.0   \n",
       "\n",
       "                  Birth Year    C-2 Date    C-3 Date  \\\n",
       "Claim Identifier                                       \n",
       "5393971                  0.0         NaN         NaN   \n",
       "5394788               2003.0  2020-01-02         NaN   \n",
       "5394093                  0.0  2019-12-30         NaN   \n",
       "5394068               1959.0         NaN  2019-12-23   \n",
       "5393794               1984.0         NaN  2019-12-27   \n",
       "...                      ...         ...         ...   \n",
       "6164933               1972.0  2023-01-20  2022-12-22   \n",
       "6164795               2005.0  2022-12-30         NaN   \n",
       "6164931               1957.0         NaN  2022-12-27   \n",
       "6164433               1903.0  2022-12-30         NaN   \n",
       "6165637                  0.0  2022-12-30         NaN   \n",
       "\n",
       "                                    Carrier Name      Carrier Type  \\\n",
       "Claim Identifier                                                     \n",
       "5393971             AMERICAN ZURICH INSURANCE CO       1A. PRIVATE   \n",
       "5394788              PENNSYLVANIA MANUFACTURERS'       1A. PRIVATE   \n",
       "5394093                   TWIN CITY FIRE INS CO.       1A. PRIVATE   \n",
       "5394068           STARR INDEMNITY & LIABILITY CO       1A. PRIVATE   \n",
       "5393794                        LM INSURANCE CORP       1A. PRIVATE   \n",
       "...                                          ...               ...   \n",
       "6164933                        LM INSURANCE CORP       1A. PRIVATE   \n",
       "6164795                SEQUOIA INSURANCE COMPANY       1A. PRIVATE   \n",
       "6164931             CNY OTHER THAN ED, HED WATER   3A. SELF PUBLIC   \n",
       "6164433           SECURITY NATIONAL INSURANCE CO       1A. PRIVATE   \n",
       "6165637            NEW YORK BLACK CAR OPERATORS'  4A. SELF PRIVATE   \n",
       "\n",
       "                 Claim Injury Type County of Injury COVID-19 Indicator  \\\n",
       "Claim Identifier                                                         \n",
       "5393971                2. NON-COMP           NASSAU                  N   \n",
       "5394788                3. MED ONLY          SUFFOLK                  N   \n",
       "5394093                2. NON-COMP         NEW YORK                  N   \n",
       "5394068                2. NON-COMP            BRONX                  N   \n",
       "5393794                2. NON-COMP         ONONDAGA                  N   \n",
       "...                            ...              ...                ...   \n",
       "6164933                2. NON-COMP            KINGS                  N   \n",
       "6164795                3. MED ONLY        SCHOHARIE                  N   \n",
       "6164931               1. CANCELLED            KINGS                  N   \n",
       "6164433                2. NON-COMP           ALBANY                  N   \n",
       "6165637                2. NON-COMP           QUEENS                  N   \n",
       "\n",
       "                 District Name First Hearing Date Gender  IME-4 Count  \\\n",
       "Claim Identifier                                                        \n",
       "5393971                    NYC                NaN      M          NaN   \n",
       "5394788              HAUPPAUGE                NaN      M          NaN   \n",
       "5394093                    NYC                NaN      M          NaN   \n",
       "5394068                    NYC                NaN      M          NaN   \n",
       "5393794               SYRACUSE                NaN      F          NaN   \n",
       "...                        ...                ...    ...          ...   \n",
       "6164933                    NYC                NaN      M          NaN   \n",
       "6164795             BINGHAMTON                NaN      F          NaN   \n",
       "6164931                    NYC                NaN      M          NaN   \n",
       "6164433                 ALBANY                NaN      F          NaN   \n",
       "6165637                    NYC                NaN      M          NaN   \n",
       "\n",
       "                  Industry Code            Industry Code Description  \\\n",
       "Claim Identifier                                                       \n",
       "5393971                    62.0    HEALTH CARE AND SOCIAL ASSISTANCE   \n",
       "5394788                    71.0  ARTS, ENTERTAINMENT, AND RECREATION   \n",
       "5394093                    71.0  ARTS, ENTERTAINMENT, AND RECREATION   \n",
       "5394068                    23.0                         CONSTRUCTION   \n",
       "5393794                     NaN                                  NaN   \n",
       "...                         ...                                  ...   \n",
       "6164933                    23.0                         CONSTRUCTION   \n",
       "6164795                    72.0      ACCOMMODATION AND FOOD SERVICES   \n",
       "6164931                     NaN                                  NaN   \n",
       "6164433                    62.0    HEALTH CARE AND SOCIAL ASSISTANCE   \n",
       "6165637                    48.0       TRANSPORTATION AND WAREHOUSING   \n",
       "\n",
       "                 Medical Fee Region  OIICS Nature of Injury Description  \\\n",
       "Claim Identifier                                                          \n",
       "5393971                          IV                                 NaN   \n",
       "5394788                          IV                                 NaN   \n",
       "5394093                          IV                                 NaN   \n",
       "5394068                          IV                                 NaN   \n",
       "5393794                          II                                 NaN   \n",
       "...                             ...                                 ...   \n",
       "6164933                          IV                                 NaN   \n",
       "6164795                           I                                 NaN   \n",
       "6164931                          IV                                 NaN   \n",
       "6164433                          II                                 NaN   \n",
       "6165637                          UK                                 NaN   \n",
       "\n",
       "                  WCIO Cause of Injury Code  \\\n",
       "Claim Identifier                              \n",
       "5393971                                 NaN   \n",
       "5394788                                32.0   \n",
       "5394093                                55.0   \n",
       "5394068                                 NaN   \n",
       "5393794                                 NaN   \n",
       "...                                     ...   \n",
       "6164933                                60.0   \n",
       "6164795                                60.0   \n",
       "6164931                                 NaN   \n",
       "6164433                                17.0   \n",
       "6165637                                45.0   \n",
       "\n",
       "                             WCIO Cause of Injury Description  \\\n",
       "Claim Identifier                                                \n",
       "5393971                                                   NaN   \n",
       "5394788                                        ON ICE OR SNOW   \n",
       "5394093                                   HOLDING OR CARRYING   \n",
       "5394068                                                   NaN   \n",
       "5393794                                                   NaN   \n",
       "...                                                       ...   \n",
       "6164933                              STRAIN OR INJURY BY, NOC   \n",
       "6164795                              STRAIN OR INJURY BY, NOC   \n",
       "6164931                                                   NaN   \n",
       "6164433                        OBJECT BEING LIFTED OR HANDLED   \n",
       "6165637           COLLISION OR SIDESWIPE WITH ANOTHER VEHICLE   \n",
       "\n",
       "                  WCIO Nature of Injury Code  \\\n",
       "Claim Identifier                               \n",
       "5393971                                  NaN   \n",
       "5394788                                 40.0   \n",
       "5394093                                 52.0   \n",
       "5394068                                  NaN   \n",
       "5393794                                  NaN   \n",
       "...                                      ...   \n",
       "6164933                                 78.0   \n",
       "6164795                                 49.0   \n",
       "6164931                                  NaN   \n",
       "6164433                                 43.0   \n",
       "6165637                                  1.0   \n",
       "\n",
       "                 WCIO Nature of Injury Description  WCIO Part Of Body Code  \\\n",
       "Claim Identifier                                                             \n",
       "5393971                                        NaN                     NaN   \n",
       "5394788                                 LACERATION                    14.0   \n",
       "5394093                             STRAIN OR TEAR                    61.0   \n",
       "5394068                                        NaN                     NaN   \n",
       "5393794                                        NaN                     NaN   \n",
       "...                                            ...                     ...   \n",
       "6164933                     CARPAL TUNNEL SYNDROME                    39.0   \n",
       "6164795                             SPRAIN OR TEAR                    55.0   \n",
       "6164931                                        NaN                     NaN   \n",
       "6164433                                   PUNCTURE                    36.0   \n",
       "6165637                         NO PHYSICAL INJURY                    66.0   \n",
       "\n",
       "                 WCIO Part Of Body Description Zip Code  Agreement Reached  \\\n",
       "Claim Identifier                                                             \n",
       "5393971                                    NaN    11801                0.0   \n",
       "5394788                                 EYE(S)    11776                0.0   \n",
       "5394093                ABDOMEN INCLUDING GROIN      NaN                0.0   \n",
       "5394068                                    NaN      NaN                0.0   \n",
       "5393794                                    NaN    13212                0.0   \n",
       "...                                        ...      ...                ...   \n",
       "6164933                    WRIST (S) & HAND(S)    11221                0.0   \n",
       "6164795                                  ANKLE    12149                0.0   \n",
       "6164931                                    NaN    11221                0.0   \n",
       "6164433                              FINGER(S)    12309                0.0   \n",
       "6165637                     NO PHYSICAL INJURY    07666                0.0   \n",
       "\n",
       "                      WCB Decision  Number of Dependents  \n",
       "Claim Identifier                                          \n",
       "5393971           Not Work Related                   1.0  \n",
       "5394788           Not Work Related                   4.0  \n",
       "5394093           Not Work Related                   5.0  \n",
       "5394068           Not Work Related                   6.0  \n",
       "5393794           Not Work Related                   4.0  \n",
       "...                            ...                   ...  \n",
       "6164933           Not Work Related                   6.0  \n",
       "6164795           Not Work Related                   5.0  \n",
       "6164931           Not Work Related                   0.0  \n",
       "6164433           Not Work Related                   1.0  \n",
       "6165637           Not Work Related                   6.0  \n",
       "\n",
       "[7585 rows x 32 columns]"
      ]
     },
     "execution_count": 119,
     "metadata": {},
     "output_type": "execute_result"
    }
   ],
   "source": [
    "df[df['Age at Injury'] < 18]"
   ]
  },
  {
   "cell_type": "code",
   "execution_count": 120,
   "id": "d0f1d5bc",
   "metadata": {
    "ExecuteTime": {
     "end_time": "2024-11-07T19:17:05.267825Z",
     "start_time": "2024-11-07T19:17:05.014968Z"
    },
    "scrolled": true
   },
   "outputs": [
    {
     "data": {
      "image/png": "[encoded data removed]",
      "text/plain": [
       "<Figure size 640x480 with 1 Axes>"
      ]
     },
     "metadata": {},
     "output_type": "display_data"
    }
   ],
   "source": [
    "v.plot_histogram(df['Age at Injury'], 'Age', 'Frequency',\n",
    "                'Age Distribution')"
   ]
  },
  {
   "cell_type": "markdown",
   "id": "a194f790",
   "metadata": {},
   "source": [
    "<div style=\"background-color: #f8d7da; color: #721c24; border: 1px solid #f5c6cb; padding: 10px; border-radius: 5px;\">\n",
    "    <strong>Change Alert: </strong> Delete Ages\n",
    "</div>\n"
   ]
  },
  {
   "cell_type": "code",
   "execution_count": 121,
   "id": "d2886e18",
   "metadata": {
    "ExecuteTime": {
     "end_time": "2024-11-07T19:17:05.443045Z",
     "start_time": "2024-11-07T19:17:05.274530Z"
    }
   },
   "outputs": [],
   "source": [
    "df = df.loc[(df['Age at Injury'] >= 18) & (df['Age at Injury'] <= 80) | (df['Age at Injury'].isna())]\n",
    "\n",
    "# 7k rows < 18 & 700 rows > 80"
   ]
  },
  {
   "cell_type": "markdown",
   "id": "8308e478",
   "metadata": {},
   "source": [
    "**Birth Year**\n",
    "\n",
    "very Low values for Birth Year, but a LOT of rows with the same issue"
   ]
  },
  {
   "cell_type": "code",
   "execution_count": 122,
   "id": "1da310a4",
   "metadata": {
    "ExecuteTime": {
     "end_time": "2024-11-07T19:17:05.503968Z",
     "start_time": "2024-11-07T19:17:05.445752Z"
    }
   },
   "outputs": [
    {
     "data": {
      "text/html": [
       "<div>\n",
       "<style scoped>\n",
       "    .dataframe tbody tr th:only-of-type {\n",
       "        vertical-align: middle;\n",
       "    }\n",
       "\n",
       "    .dataframe tbody tr th {\n",
       "        vertical-align: top;\n",
       "    }\n",
       "\n",
       "    .dataframe thead th {\n",
       "        text-align: right;\n",
       "    }\n",
       "</style>\n",
       "<table border=\"1\" class=\"dataframe\">\n",
       "  <thead>\n",
       "    <tr style=\"text-align: right;\">\n",
       "      <th></th>\n",
       "      <th>Accident Date</th>\n",
       "      <th>Age at Injury</th>\n",
       "      <th>Alternative Dispute Resolution</th>\n",
       "      <th>Assembly Date</th>\n",
       "      <th>Attorney/Representative</th>\n",
       "      <th>Average Weekly Wage</th>\n",
       "      <th>Birth Year</th>\n",
       "      <th>C-2 Date</th>\n",
       "      <th>C-3 Date</th>\n",
       "      <th>Carrier Name</th>\n",
       "      <th>Carrier Type</th>\n",
       "      <th>Claim Injury Type</th>\n",
       "      <th>County of Injury</th>\n",
       "      <th>COVID-19 Indicator</th>\n",
       "      <th>District Name</th>\n",
       "      <th>First Hearing Date</th>\n",
       "      <th>Gender</th>\n",
       "      <th>IME-4 Count</th>\n",
       "      <th>Industry Code</th>\n",
       "      <th>Industry Code Description</th>\n",
       "      <th>Medical Fee Region</th>\n",
       "      <th>OIICS Nature of Injury Description</th>\n",
       "      <th>WCIO Cause of Injury Code</th>\n",
       "      <th>WCIO Cause of Injury Description</th>\n",
       "      <th>WCIO Nature of Injury Code</th>\n",
       "      <th>WCIO Nature of Injury Description</th>\n",
       "      <th>WCIO Part Of Body Code</th>\n",
       "      <th>WCIO Part Of Body Description</th>\n",
       "      <th>Zip Code</th>\n",
       "      <th>Agreement Reached</th>\n",
       "      <th>WCB Decision</th>\n",
       "      <th>Number of Dependents</th>\n",
       "    </tr>\n",
       "    <tr>\n",
       "      <th>Claim Identifier</th>\n",
       "      <th></th>\n",
       "      <th></th>\n",
       "      <th></th>\n",
       "      <th></th>\n",
       "      <th></th>\n",
       "      <th></th>\n",
       "      <th></th>\n",
       "      <th></th>\n",
       "      <th></th>\n",
       "      <th></th>\n",
       "      <th></th>\n",
       "      <th></th>\n",
       "      <th></th>\n",
       "      <th></th>\n",
       "      <th></th>\n",
       "      <th></th>\n",
       "      <th></th>\n",
       "      <th></th>\n",
       "      <th></th>\n",
       "      <th></th>\n",
       "      <th></th>\n",
       "      <th></th>\n",
       "      <th></th>\n",
       "      <th></th>\n",
       "      <th></th>\n",
       "      <th></th>\n",
       "      <th></th>\n",
       "      <th></th>\n",
       "      <th></th>\n",
       "      <th></th>\n",
       "      <th></th>\n",
       "      <th></th>\n",
       "    </tr>\n",
       "  </thead>\n",
       "  <tbody>\n",
       "    <tr>\n",
       "      <th>5394187</th>\n",
       "      <td>2019-12-14</td>\n",
       "      <td>21.0</td>\n",
       "      <td>N</td>\n",
       "      <td>2020-01-01</td>\n",
       "      <td>N</td>\n",
       "      <td>0.0</td>\n",
       "      <td>0.0</td>\n",
       "      <td>2019-12-31</td>\n",
       "      <td>NaN</td>\n",
       "      <td>INDEMNITY INS. OF N AMERICA</td>\n",
       "      <td>1A. PRIVATE</td>\n",
       "      <td>2. NON-COMP</td>\n",
       "      <td>NEW YORK</td>\n",
       "      <td>N</td>\n",
       "      <td>NYC</td>\n",
       "      <td>NaN</td>\n",
       "      <td>M</td>\n",
       "      <td>NaN</td>\n",
       "      <td>51.0</td>\n",
       "      <td>INFORMATION</td>\n",
       "      <td>UK</td>\n",
       "      <td>NaN</td>\n",
       "      <td>75.0</td>\n",
       "      <td>FALLING OR FLYING OBJECT</td>\n",
       "      <td>37.0</td>\n",
       "      <td>INFLAMMATION</td>\n",
       "      <td>53.0</td>\n",
       "      <td>KNEE</td>\n",
       "      <td>07649</td>\n",
       "      <td>0.0</td>\n",
       "      <td>Not Work Related</td>\n",
       "      <td>3.0</td>\n",
       "    </tr>\n",
       "    <tr>\n",
       "      <th>5394053</th>\n",
       "      <td>2019-12-18</td>\n",
       "      <td>53.0</td>\n",
       "      <td>N</td>\n",
       "      <td>2020-01-01</td>\n",
       "      <td>N</td>\n",
       "      <td>0.0</td>\n",
       "      <td>0.0</td>\n",
       "      <td>2020-01-01</td>\n",
       "      <td>NaN</td>\n",
       "      <td>TWIN CITY FIRE INS CO.</td>\n",
       "      <td>1A. PRIVATE</td>\n",
       "      <td>2. NON-COMP</td>\n",
       "      <td>WARREN</td>\n",
       "      <td>N</td>\n",
       "      <td>ALBANY</td>\n",
       "      <td>NaN</td>\n",
       "      <td>F</td>\n",
       "      <td>NaN</td>\n",
       "      <td>72.0</td>\n",
       "      <td>ACCOMMODATION AND FOOD SERVICES</td>\n",
       "      <td>I</td>\n",
       "      <td>NaN</td>\n",
       "      <td>5.0</td>\n",
       "      <td>STEAM OR HOT FLUIDS</td>\n",
       "      <td>4.0</td>\n",
       "      <td>BURN</td>\n",
       "      <td>56.0</td>\n",
       "      <td>FOOT</td>\n",
       "      <td>12810</td>\n",
       "      <td>0.0</td>\n",
       "      <td>Not Work Related</td>\n",
       "      <td>4.0</td>\n",
       "    </tr>\n",
       "    <tr>\n",
       "      <th>5393827</th>\n",
       "      <td>2019-12-26</td>\n",
       "      <td>21.0</td>\n",
       "      <td>N</td>\n",
       "      <td>2020-01-01</td>\n",
       "      <td>N</td>\n",
       "      <td>0.0</td>\n",
       "      <td>0.0</td>\n",
       "      <td>2020-01-01</td>\n",
       "      <td>NaN</td>\n",
       "      <td>HARTFORD ACCIDENT &amp; INDEMNITY</td>\n",
       "      <td>1A. PRIVATE</td>\n",
       "      <td>2. NON-COMP</td>\n",
       "      <td>SUFFOLK</td>\n",
       "      <td>N</td>\n",
       "      <td>HAUPPAUGE</td>\n",
       "      <td>NaN</td>\n",
       "      <td>M</td>\n",
       "      <td>NaN</td>\n",
       "      <td>72.0</td>\n",
       "      <td>ACCOMMODATION AND FOOD SERVICES</td>\n",
       "      <td>III</td>\n",
       "      <td>NaN</td>\n",
       "      <td>16.0</td>\n",
       "      <td>HAND TOOL, UTENSIL; NOT POWERED</td>\n",
       "      <td>40.0</td>\n",
       "      <td>LACERATION</td>\n",
       "      <td>36.0</td>\n",
       "      <td>FINGER(S)</td>\n",
       "      <td>11941</td>\n",
       "      <td>0.0</td>\n",
       "      <td>Not Work Related</td>\n",
       "      <td>3.0</td>\n",
       "    </tr>\n",
       "    <tr>\n",
       "      <th>5393885</th>\n",
       "      <td>2019-12-12</td>\n",
       "      <td>57.0</td>\n",
       "      <td>N</td>\n",
       "      <td>2020-01-01</td>\n",
       "      <td>N</td>\n",
       "      <td>0.0</td>\n",
       "      <td>0.0</td>\n",
       "      <td>2019-12-31</td>\n",
       "      <td>NaN</td>\n",
       "      <td>NATIONAL CASUALTY CO</td>\n",
       "      <td>1A. PRIVATE</td>\n",
       "      <td>2. NON-COMP</td>\n",
       "      <td>ST. LAWRENCE</td>\n",
       "      <td>N</td>\n",
       "      <td>SYRACUSE</td>\n",
       "      <td>NaN</td>\n",
       "      <td>M</td>\n",
       "      <td>NaN</td>\n",
       "      <td>62.0</td>\n",
       "      <td>HEALTH CARE AND SOCIAL ASSISTANCE</td>\n",
       "      <td>I</td>\n",
       "      <td>NaN</td>\n",
       "      <td>32.0</td>\n",
       "      <td>ON ICE OR SNOW</td>\n",
       "      <td>28.0</td>\n",
       "      <td>FRACTURE</td>\n",
       "      <td>44.0</td>\n",
       "      <td>CHEST</td>\n",
       "      <td>13646</td>\n",
       "      <td>0.0</td>\n",
       "      <td>Not Work Related</td>\n",
       "      <td>2.0</td>\n",
       "    </tr>\n",
       "    <tr>\n",
       "      <th>5394008</th>\n",
       "      <td>2019-12-17</td>\n",
       "      <td>42.0</td>\n",
       "      <td>N</td>\n",
       "      <td>2020-01-01</td>\n",
       "      <td>N</td>\n",
       "      <td>0.0</td>\n",
       "      <td>0.0</td>\n",
       "      <td>2019-12-31</td>\n",
       "      <td>2020-04-16</td>\n",
       "      <td>INDEMNITY INS. OF N AMERICA</td>\n",
       "      <td>1A. PRIVATE</td>\n",
       "      <td>2. NON-COMP</td>\n",
       "      <td>NEW YORK</td>\n",
       "      <td>N</td>\n",
       "      <td>NYC</td>\n",
       "      <td>NaN</td>\n",
       "      <td>F</td>\n",
       "      <td>NaN</td>\n",
       "      <td>51.0</td>\n",
       "      <td>INFORMATION</td>\n",
       "      <td>UK</td>\n",
       "      <td>NaN</td>\n",
       "      <td>97.0</td>\n",
       "      <td>REPETITIVE MOTION</td>\n",
       "      <td>52.0</td>\n",
       "      <td>STRAIN OR TEAR</td>\n",
       "      <td>38.0</td>\n",
       "      <td>SHOULDER(S)</td>\n",
       "      <td>NaN</td>\n",
       "      <td>0.0</td>\n",
       "      <td>Not Work Related</td>\n",
       "      <td>2.0</td>\n",
       "    </tr>\n",
       "    <tr>\n",
       "      <th>...</th>\n",
       "      <td>...</td>\n",
       "      <td>...</td>\n",
       "      <td>...</td>\n",
       "      <td>...</td>\n",
       "      <td>...</td>\n",
       "      <td>...</td>\n",
       "      <td>...</td>\n",
       "      <td>...</td>\n",
       "      <td>...</td>\n",
       "      <td>...</td>\n",
       "      <td>...</td>\n",
       "      <td>...</td>\n",
       "      <td>...</td>\n",
       "      <td>...</td>\n",
       "      <td>...</td>\n",
       "      <td>...</td>\n",
       "      <td>...</td>\n",
       "      <td>...</td>\n",
       "      <td>...</td>\n",
       "      <td>...</td>\n",
       "      <td>...</td>\n",
       "      <td>...</td>\n",
       "      <td>...</td>\n",
       "      <td>...</td>\n",
       "      <td>...</td>\n",
       "      <td>...</td>\n",
       "      <td>...</td>\n",
       "      <td>...</td>\n",
       "      <td>...</td>\n",
       "      <td>...</td>\n",
       "      <td>...</td>\n",
       "      <td>...</td>\n",
       "    </tr>\n",
       "    <tr>\n",
       "      <th>6164729</th>\n",
       "      <td>2022-11-30</td>\n",
       "      <td>44.0</td>\n",
       "      <td>N</td>\n",
       "      <td>2022-12-30</td>\n",
       "      <td>Y</td>\n",
       "      <td>0.0</td>\n",
       "      <td>0.0</td>\n",
       "      <td>2023-01-30</td>\n",
       "      <td>2022-12-27</td>\n",
       "      <td>*** CARRIER UNDETERMINED ***</td>\n",
       "      <td>UNKNOWN</td>\n",
       "      <td>2. NON-COMP</td>\n",
       "      <td>BRONX</td>\n",
       "      <td>N</td>\n",
       "      <td>STATEWIDE</td>\n",
       "      <td>2023-05-19</td>\n",
       "      <td>M</td>\n",
       "      <td>NaN</td>\n",
       "      <td>NaN</td>\n",
       "      <td>NaN</td>\n",
       "      <td>UK</td>\n",
       "      <td>NaN</td>\n",
       "      <td>NaN</td>\n",
       "      <td>NaN</td>\n",
       "      <td>NaN</td>\n",
       "      <td>NaN</td>\n",
       "      <td>-9.0</td>\n",
       "      <td>MULTIPLE</td>\n",
       "      <td>44405</td>\n",
       "      <td>0.0</td>\n",
       "      <td>Not Work Related</td>\n",
       "      <td>6.0</td>\n",
       "    </tr>\n",
       "    <tr>\n",
       "      <th>6165113</th>\n",
       "      <td>2022-12-26</td>\n",
       "      <td>22.0</td>\n",
       "      <td>N</td>\n",
       "      <td>2022-12-30</td>\n",
       "      <td>N</td>\n",
       "      <td>0.0</td>\n",
       "      <td>0.0</td>\n",
       "      <td>2022-12-30</td>\n",
       "      <td>NaN</td>\n",
       "      <td>INDEMNITY INS. OF N AMERICA</td>\n",
       "      <td>1A. PRIVATE</td>\n",
       "      <td>2. NON-COMP</td>\n",
       "      <td>NEW YORK</td>\n",
       "      <td>N</td>\n",
       "      <td>NYC</td>\n",
       "      <td>NaN</td>\n",
       "      <td>F</td>\n",
       "      <td>NaN</td>\n",
       "      <td>51.0</td>\n",
       "      <td>INFORMATION</td>\n",
       "      <td>UK</td>\n",
       "      <td>NaN</td>\n",
       "      <td>31.0</td>\n",
       "      <td>FALL, SLIP OR TRIP, NOC</td>\n",
       "      <td>10.0</td>\n",
       "      <td>CONTUSION</td>\n",
       "      <td>53.0</td>\n",
       "      <td>KNEE</td>\n",
       "      <td>94603</td>\n",
       "      <td>0.0</td>\n",
       "      <td>Not Work Related</td>\n",
       "      <td>3.0</td>\n",
       "    </tr>\n",
       "    <tr>\n",
       "      <th>6165672</th>\n",
       "      <td>2022-12-28</td>\n",
       "      <td>31.0</td>\n",
       "      <td>N</td>\n",
       "      <td>2022-12-30</td>\n",
       "      <td>N</td>\n",
       "      <td>0.0</td>\n",
       "      <td>0.0</td>\n",
       "      <td>2022-12-30</td>\n",
       "      <td>NaN</td>\n",
       "      <td>AMERICAN ZURICH INSURANCE CO</td>\n",
       "      <td>1A. PRIVATE</td>\n",
       "      <td>2. NON-COMP</td>\n",
       "      <td>UNKNOWN</td>\n",
       "      <td>N</td>\n",
       "      <td>NYC</td>\n",
       "      <td>NaN</td>\n",
       "      <td>M</td>\n",
       "      <td>NaN</td>\n",
       "      <td>42.0</td>\n",
       "      <td>WHOLESALE TRADE</td>\n",
       "      <td>UK</td>\n",
       "      <td>NaN</td>\n",
       "      <td>25.0</td>\n",
       "      <td>FROM DIFFERENT LEVEL (ELEVATION)</td>\n",
       "      <td>10.0</td>\n",
       "      <td>CONTUSION</td>\n",
       "      <td>41.0</td>\n",
       "      <td>UPPER BACK AREA</td>\n",
       "      <td>05743</td>\n",
       "      <td>0.0</td>\n",
       "      <td>Not Work Related</td>\n",
       "      <td>1.0</td>\n",
       "    </tr>\n",
       "    <tr>\n",
       "      <th>6164286</th>\n",
       "      <td>2022-12-28</td>\n",
       "      <td>70.0</td>\n",
       "      <td>N</td>\n",
       "      <td>2022-12-30</td>\n",
       "      <td>Y</td>\n",
       "      <td>NaN</td>\n",
       "      <td>0.0</td>\n",
       "      <td>2022-12-30</td>\n",
       "      <td>2023-09-15</td>\n",
       "      <td>NYC HOUSING AUTHORITY</td>\n",
       "      <td>3A. SELF PUBLIC</td>\n",
       "      <td>4. TEMPORARY</td>\n",
       "      <td>ORANGE</td>\n",
       "      <td>N</td>\n",
       "      <td>ALBANY</td>\n",
       "      <td>NaN</td>\n",
       "      <td>M</td>\n",
       "      <td>1.0</td>\n",
       "      <td>92.0</td>\n",
       "      <td>PUBLIC ADMINISTRATION</td>\n",
       "      <td>UK</td>\n",
       "      <td>NaN</td>\n",
       "      <td>66.0</td>\n",
       "      <td>OBJECT BEING LIFTED OR HANDLED</td>\n",
       "      <td>10.0</td>\n",
       "      <td>CONTUSION</td>\n",
       "      <td>32.0</td>\n",
       "      <td>ELBOW</td>\n",
       "      <td>32164</td>\n",
       "      <td>0.0</td>\n",
       "      <td>Not Work Related</td>\n",
       "      <td>1.0</td>\n",
       "    </tr>\n",
       "    <tr>\n",
       "      <th>6165627</th>\n",
       "      <td>2022-11-27</td>\n",
       "      <td>19.0</td>\n",
       "      <td>N</td>\n",
       "      <td>2022-12-30</td>\n",
       "      <td>N</td>\n",
       "      <td>0.0</td>\n",
       "      <td>0.0</td>\n",
       "      <td>2022-12-30</td>\n",
       "      <td>NaN</td>\n",
       "      <td>ARCH INDEMNITY INSURANCE CO.</td>\n",
       "      <td>1A. PRIVATE</td>\n",
       "      <td>2. NON-COMP</td>\n",
       "      <td>ORANGE</td>\n",
       "      <td>N</td>\n",
       "      <td>ALBANY</td>\n",
       "      <td>NaN</td>\n",
       "      <td>M</td>\n",
       "      <td>NaN</td>\n",
       "      <td>32.0</td>\n",
       "      <td>MANUFACTURING</td>\n",
       "      <td>UK</td>\n",
       "      <td>NaN</td>\n",
       "      <td>17.0</td>\n",
       "      <td>OBJECT BEING LIFTED OR HANDLED</td>\n",
       "      <td>10.0</td>\n",
       "      <td>CONTUSION</td>\n",
       "      <td>11.0</td>\n",
       "      <td>SKULL</td>\n",
       "      <td>75034</td>\n",
       "      <td>0.0</td>\n",
       "      <td>Not Work Related</td>\n",
       "      <td>1.0</td>\n",
       "    </tr>\n",
       "  </tbody>\n",
       "</table>\n",
       "<p>23038 rows × 32 columns</p>\n",
       "</div>"
      ],
      "text/plain": [
       "                 Accident Date  Age at Injury Alternative Dispute Resolution  \\\n",
       "Claim Identifier                                                               \n",
       "5394187             2019-12-14           21.0                              N   \n",
       "5394053             2019-12-18           53.0                              N   \n",
       "5393827             2019-12-26           21.0                              N   \n",
       "5393885             2019-12-12           57.0                              N   \n",
       "5394008             2019-12-17           42.0                              N   \n",
       "...                        ...            ...                            ...   \n",
       "6164729             2022-11-30           44.0                              N   \n",
       "6165113             2022-12-26           22.0                              N   \n",
       "6165672             2022-12-28           31.0                              N   \n",
       "6164286             2022-12-28           70.0                              N   \n",
       "6165627             2022-11-27           19.0                              N   \n",
       "\n",
       "                 Assembly Date Attorney/Representative  Average Weekly Wage  \\\n",
       "Claim Identifier                                                              \n",
       "5394187             2020-01-01                       N                  0.0   \n",
       "5394053             2020-01-01                       N                  0.0   \n",
       "5393827             2020-01-01                       N                  0.0   \n",
       "5393885             2020-01-01                       N                  0.0   \n",
       "5394008             2020-01-01                       N                  0.0   \n",
       "...                        ...                     ...                  ...   \n",
       "6164729             2022-12-30                       Y                  0.0   \n",
       "6165113             2022-12-30                       N                  0.0   \n",
       "6165672             2022-12-30                       N                  0.0   \n",
       "6164286             2022-12-30                       Y                  NaN   \n",
       "6165627             2022-12-30                       N                  0.0   \n",
       "\n",
       "                  Birth Year    C-2 Date    C-3 Date  \\\n",
       "Claim Identifier                                       \n",
       "5394187                  0.0  2019-12-31         NaN   \n",
       "5394053                  0.0  2020-01-01         NaN   \n",
       "5393827                  0.0  2020-01-01         NaN   \n",
       "5393885                  0.0  2019-12-31         NaN   \n",
       "5394008                  0.0  2019-12-31  2020-04-16   \n",
       "...                      ...         ...         ...   \n",
       "6164729                  0.0  2023-01-30  2022-12-27   \n",
       "6165113                  0.0  2022-12-30         NaN   \n",
       "6165672                  0.0  2022-12-30         NaN   \n",
       "6164286                  0.0  2022-12-30  2023-09-15   \n",
       "6165627                  0.0  2022-12-30         NaN   \n",
       "\n",
       "                                   Carrier Name     Carrier Type  \\\n",
       "Claim Identifier                                                   \n",
       "5394187             INDEMNITY INS. OF N AMERICA      1A. PRIVATE   \n",
       "5394053                  TWIN CITY FIRE INS CO.      1A. PRIVATE   \n",
       "5393827           HARTFORD ACCIDENT & INDEMNITY      1A. PRIVATE   \n",
       "5393885                    NATIONAL CASUALTY CO      1A. PRIVATE   \n",
       "5394008             INDEMNITY INS. OF N AMERICA      1A. PRIVATE   \n",
       "...                                         ...              ...   \n",
       "6164729            *** CARRIER UNDETERMINED ***          UNKNOWN   \n",
       "6165113             INDEMNITY INS. OF N AMERICA      1A. PRIVATE   \n",
       "6165672            AMERICAN ZURICH INSURANCE CO      1A. PRIVATE   \n",
       "6164286                   NYC HOUSING AUTHORITY  3A. SELF PUBLIC   \n",
       "6165627            ARCH INDEMNITY INSURANCE CO.      1A. PRIVATE   \n",
       "\n",
       "                 Claim Injury Type County of Injury COVID-19 Indicator  \\\n",
       "Claim Identifier                                                         \n",
       "5394187                2. NON-COMP         NEW YORK                  N   \n",
       "5394053                2. NON-COMP           WARREN                  N   \n",
       "5393827                2. NON-COMP          SUFFOLK                  N   \n",
       "5393885                2. NON-COMP     ST. LAWRENCE                  N   \n",
       "5394008                2. NON-COMP         NEW YORK                  N   \n",
       "...                            ...              ...                ...   \n",
       "6164729                2. NON-COMP            BRONX                  N   \n",
       "6165113                2. NON-COMP         NEW YORK                  N   \n",
       "6165672                2. NON-COMP          UNKNOWN                  N   \n",
       "6164286               4. TEMPORARY           ORANGE                  N   \n",
       "6165627                2. NON-COMP           ORANGE                  N   \n",
       "\n",
       "                 District Name First Hearing Date Gender  IME-4 Count  \\\n",
       "Claim Identifier                                                        \n",
       "5394187                    NYC                NaN      M          NaN   \n",
       "5394053                 ALBANY                NaN      F          NaN   \n",
       "5393827              HAUPPAUGE                NaN      M          NaN   \n",
       "5393885               SYRACUSE                NaN      M          NaN   \n",
       "5394008                    NYC                NaN      F          NaN   \n",
       "...                        ...                ...    ...          ...   \n",
       "6164729              STATEWIDE         2023-05-19      M          NaN   \n",
       "6165113                    NYC                NaN      F          NaN   \n",
       "6165672                    NYC                NaN      M          NaN   \n",
       "6164286                 ALBANY                NaN      M          1.0   \n",
       "6165627                 ALBANY                NaN      M          NaN   \n",
       "\n",
       "                  Industry Code          Industry Code Description  \\\n",
       "Claim Identifier                                                     \n",
       "5394187                    51.0                        INFORMATION   \n",
       "5394053                    72.0    ACCOMMODATION AND FOOD SERVICES   \n",
       "5393827                    72.0    ACCOMMODATION AND FOOD SERVICES   \n",
       "5393885                    62.0  HEALTH CARE AND SOCIAL ASSISTANCE   \n",
       "5394008                    51.0                        INFORMATION   \n",
       "...                         ...                                ...   \n",
       "6164729                     NaN                                NaN   \n",
       "6165113                    51.0                        INFORMATION   \n",
       "6165672                    42.0                    WHOLESALE TRADE   \n",
       "6164286                    92.0              PUBLIC ADMINISTRATION   \n",
       "6165627                    32.0                      MANUFACTURING   \n",
       "\n",
       "                 Medical Fee Region  OIICS Nature of Injury Description  \\\n",
       "Claim Identifier                                                          \n",
       "5394187                          UK                                 NaN   \n",
       "5394053                           I                                 NaN   \n",
       "5393827                         III                                 NaN   \n",
       "5393885                           I                                 NaN   \n",
       "5394008                          UK                                 NaN   \n",
       "...                             ...                                 ...   \n",
       "6164729                          UK                                 NaN   \n",
       "6165113                          UK                                 NaN   \n",
       "6165672                          UK                                 NaN   \n",
       "6164286                          UK                                 NaN   \n",
       "6165627                          UK                                 NaN   \n",
       "\n",
       "                  WCIO Cause of Injury Code  WCIO Cause of Injury Description  \\\n",
       "Claim Identifier                                                                \n",
       "5394187                                75.0          FALLING OR FLYING OBJECT   \n",
       "5394053                                 5.0               STEAM OR HOT FLUIDS   \n",
       "5393827                                16.0   HAND TOOL, UTENSIL; NOT POWERED   \n",
       "5393885                                32.0                    ON ICE OR SNOW   \n",
       "5394008                                97.0                 REPETITIVE MOTION   \n",
       "...                                     ...                               ...   \n",
       "6164729                                 NaN                               NaN   \n",
       "6165113                                31.0           FALL, SLIP OR TRIP, NOC   \n",
       "6165672                                25.0  FROM DIFFERENT LEVEL (ELEVATION)   \n",
       "6164286                                66.0    OBJECT BEING LIFTED OR HANDLED   \n",
       "6165627                                17.0    OBJECT BEING LIFTED OR HANDLED   \n",
       "\n",
       "                  WCIO Nature of Injury Code  \\\n",
       "Claim Identifier                               \n",
       "5394187                                 37.0   \n",
       "5394053                                  4.0   \n",
       "5393827                                 40.0   \n",
       "5393885                                 28.0   \n",
       "5394008                                 52.0   \n",
       "...                                      ...   \n",
       "6164729                                  NaN   \n",
       "6165113                                 10.0   \n",
       "6165672                                 10.0   \n",
       "6164286                                 10.0   \n",
       "6165627                                 10.0   \n",
       "\n",
       "                 WCIO Nature of Injury Description  WCIO Part Of Body Code  \\\n",
       "Claim Identifier                                                             \n",
       "5394187                               INFLAMMATION                    53.0   \n",
       "5394053                                       BURN                    56.0   \n",
       "5393827                                 LACERATION                    36.0   \n",
       "5393885                                   FRACTURE                    44.0   \n",
       "5394008                             STRAIN OR TEAR                    38.0   \n",
       "...                                            ...                     ...   \n",
       "6164729                                        NaN                    -9.0   \n",
       "6165113                                  CONTUSION                    53.0   \n",
       "6165672                                  CONTUSION                    41.0   \n",
       "6164286                                  CONTUSION                    32.0   \n",
       "6165627                                  CONTUSION                    11.0   \n",
       "\n",
       "                 WCIO Part Of Body Description Zip Code  Agreement Reached  \\\n",
       "Claim Identifier                                                             \n",
       "5394187                                   KNEE    07649                0.0   \n",
       "5394053                                   FOOT    12810                0.0   \n",
       "5393827                              FINGER(S)    11941                0.0   \n",
       "5393885                                  CHEST    13646                0.0   \n",
       "5394008                            SHOULDER(S)      NaN                0.0   \n",
       "...                                        ...      ...                ...   \n",
       "6164729                               MULTIPLE    44405                0.0   \n",
       "6165113                                   KNEE    94603                0.0   \n",
       "6165672                        UPPER BACK AREA    05743                0.0   \n",
       "6164286                                  ELBOW    32164                0.0   \n",
       "6165627                                  SKULL    75034                0.0   \n",
       "\n",
       "                      WCB Decision  Number of Dependents  \n",
       "Claim Identifier                                          \n",
       "5394187           Not Work Related                   3.0  \n",
       "5394053           Not Work Related                   4.0  \n",
       "5393827           Not Work Related                   3.0  \n",
       "5393885           Not Work Related                   2.0  \n",
       "5394008           Not Work Related                   2.0  \n",
       "...                            ...                   ...  \n",
       "6164729           Not Work Related                   6.0  \n",
       "6165113           Not Work Related                   3.0  \n",
       "6165672           Not Work Related                   1.0  \n",
       "6164286           Not Work Related                   1.0  \n",
       "6165627           Not Work Related                   1.0  \n",
       "\n",
       "[23038 rows x 32 columns]"
      ]
     },
     "execution_count": 122,
     "metadata": {},
     "output_type": "execute_result"
    }
   ],
   "source": [
    "df[df['Birth Year'] < 1800]"
   ]
  },
  {
   "cell_type": "code",
   "execution_count": 123,
   "id": "12532b08",
   "metadata": {
    "ExecuteTime": {
     "end_time": "2024-11-07T19:17:05.747349Z",
     "start_time": "2024-11-07T19:17:05.507185Z"
    }
   },
   "outputs": [
    {
     "data": {
      "image/png": "[encoded data removed]",
      "text/plain": [
       "<Figure size 640x480 with 1 Axes>"
      ]
     },
     "metadata": {},
     "output_type": "display_data"
    }
   ],
   "source": [
    "v.plot_histogram(df['Birth Year'], 'Birth Year', 'Frequency',\n",
    "                'Birth Year Distribution')"
   ]
  },
  {
   "cell_type": "markdown",
   "id": "fe9e3cba",
   "metadata": {},
   "source": [
    "<div style=\"background-color: #f8d7da; color: #721c24; border: 1px solid #f5c6cb; padding: 10px; border-radius: 5px;\">\n",
    "    <strong>Change Alert: </strong> Low Birth Year\n",
    "</div>\n"
   ]
  },
  {
   "cell_type": "code",
   "execution_count": 124,
   "id": "c27dc530",
   "metadata": {
    "ExecuteTime": {
     "end_time": "2024-11-07T19:17:05.946683Z",
     "start_time": "2024-11-07T19:17:05.749737Z"
    }
   },
   "outputs": [],
   "source": [
    "df = df.loc[(df['Birth Year'] > 0) | (df['Birth Year'].isna())]"
   ]
  },
  {
   "cell_type": "markdown",
   "id": "a94efd33",
   "metadata": {},
   "source": [
    "**IME-4 Count**\n",
    "\n",
    "Very High "
   ]
  },
  {
   "cell_type": "code",
   "execution_count": 125,
   "id": "6098cbad",
   "metadata": {
    "ExecuteTime": {
     "end_time": "2024-11-07T19:17:05.996109Z",
     "start_time": "2024-11-07T19:17:05.949778Z"
    }
   },
   "outputs": [
    {
     "data": {
      "text/html": [
       "<div>\n",
       "<style scoped>\n",
       "    .dataframe tbody tr th:only-of-type {\n",
       "        vertical-align: middle;\n",
       "    }\n",
       "\n",
       "    .dataframe tbody tr th {\n",
       "        vertical-align: top;\n",
       "    }\n",
       "\n",
       "    .dataframe thead th {\n",
       "        text-align: right;\n",
       "    }\n",
       "</style>\n",
       "<table border=\"1\" class=\"dataframe\">\n",
       "  <thead>\n",
       "    <tr style=\"text-align: right;\">\n",
       "      <th></th>\n",
       "      <th>Accident Date</th>\n",
       "      <th>Age at Injury</th>\n",
       "      <th>Alternative Dispute Resolution</th>\n",
       "      <th>Assembly Date</th>\n",
       "      <th>Attorney/Representative</th>\n",
       "      <th>Average Weekly Wage</th>\n",
       "      <th>Birth Year</th>\n",
       "      <th>C-2 Date</th>\n",
       "      <th>C-3 Date</th>\n",
       "      <th>Carrier Name</th>\n",
       "      <th>Carrier Type</th>\n",
       "      <th>Claim Injury Type</th>\n",
       "      <th>County of Injury</th>\n",
       "      <th>COVID-19 Indicator</th>\n",
       "      <th>District Name</th>\n",
       "      <th>First Hearing Date</th>\n",
       "      <th>Gender</th>\n",
       "      <th>IME-4 Count</th>\n",
       "      <th>Industry Code</th>\n",
       "      <th>Industry Code Description</th>\n",
       "      <th>Medical Fee Region</th>\n",
       "      <th>OIICS Nature of Injury Description</th>\n",
       "      <th>WCIO Cause of Injury Code</th>\n",
       "      <th>WCIO Cause of Injury Description</th>\n",
       "      <th>WCIO Nature of Injury Code</th>\n",
       "      <th>WCIO Nature of Injury Description</th>\n",
       "      <th>WCIO Part Of Body Code</th>\n",
       "      <th>WCIO Part Of Body Description</th>\n",
       "      <th>Zip Code</th>\n",
       "      <th>Agreement Reached</th>\n",
       "      <th>WCB Decision</th>\n",
       "      <th>Number of Dependents</th>\n",
       "    </tr>\n",
       "    <tr>\n",
       "      <th>Claim Identifier</th>\n",
       "      <th></th>\n",
       "      <th></th>\n",
       "      <th></th>\n",
       "      <th></th>\n",
       "      <th></th>\n",
       "      <th></th>\n",
       "      <th></th>\n",
       "      <th></th>\n",
       "      <th></th>\n",
       "      <th></th>\n",
       "      <th></th>\n",
       "      <th></th>\n",
       "      <th></th>\n",
       "      <th></th>\n",
       "      <th></th>\n",
       "      <th></th>\n",
       "      <th></th>\n",
       "      <th></th>\n",
       "      <th></th>\n",
       "      <th></th>\n",
       "      <th></th>\n",
       "      <th></th>\n",
       "      <th></th>\n",
       "      <th></th>\n",
       "      <th></th>\n",
       "      <th></th>\n",
       "      <th></th>\n",
       "      <th></th>\n",
       "      <th></th>\n",
       "      <th></th>\n",
       "      <th></th>\n",
       "      <th></th>\n",
       "    </tr>\n",
       "  </thead>\n",
       "  <tbody>\n",
       "    <tr>\n",
       "      <th>5395531</th>\n",
       "      <td>2019-12-26</td>\n",
       "      <td>51.0</td>\n",
       "      <td>N</td>\n",
       "      <td>2020-01-03</td>\n",
       "      <td>Y</td>\n",
       "      <td>1205.08</td>\n",
       "      <td>1968.0</td>\n",
       "      <td>2020-01-03</td>\n",
       "      <td>2020-01-17</td>\n",
       "      <td>A I U INSURANCE COMPANY</td>\n",
       "      <td>1A. PRIVATE</td>\n",
       "      <td>4. TEMPORARY</td>\n",
       "      <td>QUEENS</td>\n",
       "      <td>N</td>\n",
       "      <td>NYC</td>\n",
       "      <td>2020-09-30</td>\n",
       "      <td>M</td>\n",
       "      <td>36.0</td>\n",
       "      <td>42.0</td>\n",
       "      <td>WHOLESALE TRADE</td>\n",
       "      <td>IV</td>\n",
       "      <td>NaN</td>\n",
       "      <td>75.0</td>\n",
       "      <td>FALLING OR FLYING OBJECT</td>\n",
       "      <td>52.0</td>\n",
       "      <td>STRAIN OR TEAR</td>\n",
       "      <td>21.0</td>\n",
       "      <td>VERTEBRAE</td>\n",
       "      <td>11434</td>\n",
       "      <td>0.0</td>\n",
       "      <td>Not Work Related</td>\n",
       "      <td>4.0</td>\n",
       "    </tr>\n",
       "    <tr>\n",
       "      <th>5395225</th>\n",
       "      <td>2019-12-30</td>\n",
       "      <td>49.0</td>\n",
       "      <td>N</td>\n",
       "      <td>2020-01-03</td>\n",
       "      <td>Y</td>\n",
       "      <td>935.22</td>\n",
       "      <td>1970.0</td>\n",
       "      <td>2020-01-03</td>\n",
       "      <td>NaN</td>\n",
       "      <td>ALLMERICA FINANCIAL BENEFIT</td>\n",
       "      <td>1A. PRIVATE</td>\n",
       "      <td>4. TEMPORARY</td>\n",
       "      <td>BRONX</td>\n",
       "      <td>N</td>\n",
       "      <td>NYC</td>\n",
       "      <td>2021-09-01</td>\n",
       "      <td>M</td>\n",
       "      <td>20.0</td>\n",
       "      <td>72.0</td>\n",
       "      <td>ACCOMMODATION AND FOOD SERVICES</td>\n",
       "      <td>IV</td>\n",
       "      <td>NaN</td>\n",
       "      <td>27.0</td>\n",
       "      <td>FROM LIQUID OR GREASE SPILLS</td>\n",
       "      <td>10.0</td>\n",
       "      <td>CONTUSION</td>\n",
       "      <td>53.0</td>\n",
       "      <td>KNEE</td>\n",
       "      <td>10461</td>\n",
       "      <td>0.0</td>\n",
       "      <td>Not Work Related</td>\n",
       "      <td>2.0</td>\n",
       "    </tr>\n",
       "    <tr>\n",
       "      <th>5395560</th>\n",
       "      <td>2019-12-24</td>\n",
       "      <td>55.0</td>\n",
       "      <td>N</td>\n",
       "      <td>2020-01-03</td>\n",
       "      <td>Y</td>\n",
       "      <td>979.45</td>\n",
       "      <td>NaN</td>\n",
       "      <td>2020-01-03</td>\n",
       "      <td>2020-01-19</td>\n",
       "      <td>STATE INSURANCE FUND</td>\n",
       "      <td>2A. SIF</td>\n",
       "      <td>4. TEMPORARY</td>\n",
       "      <td>QUEENS</td>\n",
       "      <td>N</td>\n",
       "      <td>NYC</td>\n",
       "      <td>2020-03-30</td>\n",
       "      <td>F</td>\n",
       "      <td>19.0</td>\n",
       "      <td>53.0</td>\n",
       "      <td>REAL ESTATE AND RENTAL AND LEASING</td>\n",
       "      <td>IV</td>\n",
       "      <td>NaN</td>\n",
       "      <td>33.0</td>\n",
       "      <td>ON STAIRS</td>\n",
       "      <td>10.0</td>\n",
       "      <td>CONTUSION</td>\n",
       "      <td>19.0</td>\n",
       "      <td>FACIAL BONES</td>\n",
       "      <td>11434</td>\n",
       "      <td>0.0</td>\n",
       "      <td>Not Work Related</td>\n",
       "      <td>3.0</td>\n",
       "    </tr>\n",
       "    <tr>\n",
       "      <th>5396573</th>\n",
       "      <td>2019-12-19</td>\n",
       "      <td>47.0</td>\n",
       "      <td>N</td>\n",
       "      <td>2020-01-06</td>\n",
       "      <td>Y</td>\n",
       "      <td>670.00</td>\n",
       "      <td>1972.0</td>\n",
       "      <td>2020-01-04</td>\n",
       "      <td>2020-01-21</td>\n",
       "      <td>AMERICAN ZURICH INSURANCE CO</td>\n",
       "      <td>1A. PRIVATE</td>\n",
       "      <td>4. TEMPORARY</td>\n",
       "      <td>WESTCHESTER</td>\n",
       "      <td>N</td>\n",
       "      <td>STATEWIDE</td>\n",
       "      <td>2020-05-01</td>\n",
       "      <td>M</td>\n",
       "      <td>27.0</td>\n",
       "      <td>52.0</td>\n",
       "      <td>FINANCE AND INSURANCE</td>\n",
       "      <td>III</td>\n",
       "      <td>NaN</td>\n",
       "      <td>79.0</td>\n",
       "      <td>OBJECT BEING LIFTED OR HANDLED</td>\n",
       "      <td>16.0</td>\n",
       "      <td>DISLOCATION</td>\n",
       "      <td>22.0</td>\n",
       "      <td>DISC</td>\n",
       "      <td>10704</td>\n",
       "      <td>0.0</td>\n",
       "      <td>Not Work Related</td>\n",
       "      <td>3.0</td>\n",
       "    </tr>\n",
       "    <tr>\n",
       "      <th>5397093</th>\n",
       "      <td>2019-12-03</td>\n",
       "      <td>30.0</td>\n",
       "      <td>N</td>\n",
       "      <td>2020-01-07</td>\n",
       "      <td>Y</td>\n",
       "      <td>635.85</td>\n",
       "      <td>NaN</td>\n",
       "      <td>2020-01-07</td>\n",
       "      <td>2020-06-11</td>\n",
       "      <td>CHARTER OAK FIRE INS CO</td>\n",
       "      <td>1A. PRIVATE</td>\n",
       "      <td>4. TEMPORARY</td>\n",
       "      <td>ORANGE</td>\n",
       "      <td>N</td>\n",
       "      <td>ALBANY</td>\n",
       "      <td>2020-08-28</td>\n",
       "      <td>M</td>\n",
       "      <td>20.0</td>\n",
       "      <td>45.0</td>\n",
       "      <td>RETAIL TRADE</td>\n",
       "      <td>III</td>\n",
       "      <td>NaN</td>\n",
       "      <td>26.0</td>\n",
       "      <td>FROM LADDER OR SCAFFOLDING</td>\n",
       "      <td>16.0</td>\n",
       "      <td>DISLOCATION</td>\n",
       "      <td>43.0</td>\n",
       "      <td>DISC</td>\n",
       "      <td>10940</td>\n",
       "      <td>0.0</td>\n",
       "      <td>Not Work Related</td>\n",
       "      <td>6.0</td>\n",
       "    </tr>\n",
       "    <tr>\n",
       "      <th>...</th>\n",
       "      <td>...</td>\n",
       "      <td>...</td>\n",
       "      <td>...</td>\n",
       "      <td>...</td>\n",
       "      <td>...</td>\n",
       "      <td>...</td>\n",
       "      <td>...</td>\n",
       "      <td>...</td>\n",
       "      <td>...</td>\n",
       "      <td>...</td>\n",
       "      <td>...</td>\n",
       "      <td>...</td>\n",
       "      <td>...</td>\n",
       "      <td>...</td>\n",
       "      <td>...</td>\n",
       "      <td>...</td>\n",
       "      <td>...</td>\n",
       "      <td>...</td>\n",
       "      <td>...</td>\n",
       "      <td>...</td>\n",
       "      <td>...</td>\n",
       "      <td>...</td>\n",
       "      <td>...</td>\n",
       "      <td>...</td>\n",
       "      <td>...</td>\n",
       "      <td>...</td>\n",
       "      <td>...</td>\n",
       "      <td>...</td>\n",
       "      <td>...</td>\n",
       "      <td>...</td>\n",
       "      <td>...</td>\n",
       "      <td>...</td>\n",
       "    </tr>\n",
       "    <tr>\n",
       "      <th>6041994</th>\n",
       "      <td>2022-07-11</td>\n",
       "      <td>50.0</td>\n",
       "      <td>N</td>\n",
       "      <td>2022-07-21</td>\n",
       "      <td>Y</td>\n",
       "      <td>2035.50</td>\n",
       "      <td>1971.0</td>\n",
       "      <td>2022-07-21</td>\n",
       "      <td>NaN</td>\n",
       "      <td>A I U INSURANCE COMPANY</td>\n",
       "      <td>1A. PRIVATE</td>\n",
       "      <td>5. PPD SCH LOSS</td>\n",
       "      <td>QUEENS</td>\n",
       "      <td>N</td>\n",
       "      <td>NYC</td>\n",
       "      <td>2023-03-30</td>\n",
       "      <td>F</td>\n",
       "      <td>20.0</td>\n",
       "      <td>48.0</td>\n",
       "      <td>TRANSPORTATION AND WAREHOUSING</td>\n",
       "      <td>IV</td>\n",
       "      <td>NaN</td>\n",
       "      <td>45.0</td>\n",
       "      <td>COLLISION OR SIDESWIPE WITH ANOTHER VEHICLE</td>\n",
       "      <td>52.0</td>\n",
       "      <td>STRAIN OR TEAR</td>\n",
       "      <td>53.0</td>\n",
       "      <td>KNEE</td>\n",
       "      <td>11420</td>\n",
       "      <td>0.0</td>\n",
       "      <td>Not Work Related</td>\n",
       "      <td>2.0</td>\n",
       "    </tr>\n",
       "    <tr>\n",
       "      <th>6052392</th>\n",
       "      <td>2022-07-21</td>\n",
       "      <td>46.0</td>\n",
       "      <td>N</td>\n",
       "      <td>2022-08-03</td>\n",
       "      <td>Y</td>\n",
       "      <td>583.20</td>\n",
       "      <td>1975.0</td>\n",
       "      <td>2022-08-03</td>\n",
       "      <td>2022-07-28</td>\n",
       "      <td>NEW JERSEY MANUFACTURERS</td>\n",
       "      <td>1A. PRIVATE</td>\n",
       "      <td>4. TEMPORARY</td>\n",
       "      <td>KINGS</td>\n",
       "      <td>N</td>\n",
       "      <td>NYC</td>\n",
       "      <td>2023-03-17</td>\n",
       "      <td>F</td>\n",
       "      <td>21.0</td>\n",
       "      <td>48.0</td>\n",
       "      <td>TRANSPORTATION AND WAREHOUSING</td>\n",
       "      <td>IV</td>\n",
       "      <td>NaN</td>\n",
       "      <td>48.0</td>\n",
       "      <td>VEHICLE UPSET</td>\n",
       "      <td>10.0</td>\n",
       "      <td>CONTUSION</td>\n",
       "      <td>65.0</td>\n",
       "      <td>INSUFFICIENT INFO TO PROPERLY IDENTIFY - UNCLA...</td>\n",
       "      <td>11233</td>\n",
       "      <td>0.0</td>\n",
       "      <td>Not Work Related</td>\n",
       "      <td>2.0</td>\n",
       "    </tr>\n",
       "    <tr>\n",
       "      <th>6060261</th>\n",
       "      <td>2022-07-25</td>\n",
       "      <td>59.0</td>\n",
       "      <td>N</td>\n",
       "      <td>2022-08-13</td>\n",
       "      <td>Y</td>\n",
       "      <td>1372.06</td>\n",
       "      <td>1962.0</td>\n",
       "      <td>2022-08-23</td>\n",
       "      <td>2022-08-10</td>\n",
       "      <td>GREAT AMERICAN ALLIANCE INS CO</td>\n",
       "      <td>1A. PRIVATE</td>\n",
       "      <td>4. TEMPORARY</td>\n",
       "      <td>QUEENS</td>\n",
       "      <td>N</td>\n",
       "      <td>NYC</td>\n",
       "      <td>2022-11-21</td>\n",
       "      <td>F</td>\n",
       "      <td>19.0</td>\n",
       "      <td>62.0</td>\n",
       "      <td>HEALTH CARE AND SOCIAL ASSISTANCE</td>\n",
       "      <td>IV</td>\n",
       "      <td>NaN</td>\n",
       "      <td>27.0</td>\n",
       "      <td>FROM LIQUID OR GREASE SPILLS</td>\n",
       "      <td>10.0</td>\n",
       "      <td>CONTUSION</td>\n",
       "      <td>-9.0</td>\n",
       "      <td>MULTIPLE</td>\n",
       "      <td>11412</td>\n",
       "      <td>1.0</td>\n",
       "      <td>Not Work Related</td>\n",
       "      <td>5.0</td>\n",
       "    </tr>\n",
       "    <tr>\n",
       "      <th>6071479</th>\n",
       "      <td>2022-08-13</td>\n",
       "      <td>31.0</td>\n",
       "      <td>N</td>\n",
       "      <td>2022-08-29</td>\n",
       "      <td>Y</td>\n",
       "      <td>NaN</td>\n",
       "      <td>1991.0</td>\n",
       "      <td>2022-09-08</td>\n",
       "      <td>NaN</td>\n",
       "      <td>NEW YORK BLACK CAR OPERATORS'</td>\n",
       "      <td>4A. SELF PRIVATE</td>\n",
       "      <td>4. TEMPORARY</td>\n",
       "      <td>NEW YORK</td>\n",
       "      <td>N</td>\n",
       "      <td>NYC</td>\n",
       "      <td>2023-09-11</td>\n",
       "      <td>M</td>\n",
       "      <td>19.0</td>\n",
       "      <td>48.0</td>\n",
       "      <td>TRANSPORTATION AND WAREHOUSING</td>\n",
       "      <td>IV</td>\n",
       "      <td>NaN</td>\n",
       "      <td>45.0</td>\n",
       "      <td>COLLISION OR SIDESWIPE WITH ANOTHER VEHICLE</td>\n",
       "      <td>49.0</td>\n",
       "      <td>SPRAIN OR TEAR</td>\n",
       "      <td>-9.0</td>\n",
       "      <td>MULTIPLE</td>\n",
       "      <td>10040</td>\n",
       "      <td>0.0</td>\n",
       "      <td>Not Work Related</td>\n",
       "      <td>1.0</td>\n",
       "    </tr>\n",
       "    <tr>\n",
       "      <th>6077280</th>\n",
       "      <td>2022-08-30</td>\n",
       "      <td>55.0</td>\n",
       "      <td>N</td>\n",
       "      <td>2022-09-05</td>\n",
       "      <td>Y</td>\n",
       "      <td>1253.37</td>\n",
       "      <td>1967.0</td>\n",
       "      <td>2022-09-03</td>\n",
       "      <td>2023-04-21</td>\n",
       "      <td>SOMPO AMERICA  FIRE &amp; MARINE</td>\n",
       "      <td>1A. PRIVATE</td>\n",
       "      <td>4. TEMPORARY</td>\n",
       "      <td>QUEENS</td>\n",
       "      <td>N</td>\n",
       "      <td>NYC</td>\n",
       "      <td>2023-05-10</td>\n",
       "      <td>M</td>\n",
       "      <td>24.0</td>\n",
       "      <td>72.0</td>\n",
       "      <td>ACCOMMODATION AND FOOD SERVICES</td>\n",
       "      <td>IV</td>\n",
       "      <td>NaN</td>\n",
       "      <td>32.0</td>\n",
       "      <td>ON ICE OR SNOW</td>\n",
       "      <td>59.0</td>\n",
       "      <td>ALL OTHER SPECIFIC INJURIES, NOC</td>\n",
       "      <td>53.0</td>\n",
       "      <td>KNEE</td>\n",
       "      <td>11377</td>\n",
       "      <td>0.0</td>\n",
       "      <td>Not Work Related</td>\n",
       "      <td>0.0</td>\n",
       "    </tr>\n",
       "  </tbody>\n",
       "</table>\n",
       "<p>312 rows × 32 columns</p>\n",
       "</div>"
      ],
      "text/plain": [
       "                 Accident Date  Age at Injury Alternative Dispute Resolution  \\\n",
       "Claim Identifier                                                               \n",
       "5395531             2019-12-26           51.0                              N   \n",
       "5395225             2019-12-30           49.0                              N   \n",
       "5395560             2019-12-24           55.0                              N   \n",
       "5396573             2019-12-19           47.0                              N   \n",
       "5397093             2019-12-03           30.0                              N   \n",
       "...                        ...            ...                            ...   \n",
       "6041994             2022-07-11           50.0                              N   \n",
       "6052392             2022-07-21           46.0                              N   \n",
       "6060261             2022-07-25           59.0                              N   \n",
       "6071479             2022-08-13           31.0                              N   \n",
       "6077280             2022-08-30           55.0                              N   \n",
       "\n",
       "                 Assembly Date Attorney/Representative  Average Weekly Wage  \\\n",
       "Claim Identifier                                                              \n",
       "5395531             2020-01-03                       Y              1205.08   \n",
       "5395225             2020-01-03                       Y               935.22   \n",
       "5395560             2020-01-03                       Y               979.45   \n",
       "5396573             2020-01-06                       Y               670.00   \n",
       "5397093             2020-01-07                       Y               635.85   \n",
       "...                        ...                     ...                  ...   \n",
       "6041994             2022-07-21                       Y              2035.50   \n",
       "6052392             2022-08-03                       Y               583.20   \n",
       "6060261             2022-08-13                       Y              1372.06   \n",
       "6071479             2022-08-29                       Y                  NaN   \n",
       "6077280             2022-09-05                       Y              1253.37   \n",
       "\n",
       "                  Birth Year    C-2 Date    C-3 Date  \\\n",
       "Claim Identifier                                       \n",
       "5395531               1968.0  2020-01-03  2020-01-17   \n",
       "5395225               1970.0  2020-01-03         NaN   \n",
       "5395560                  NaN  2020-01-03  2020-01-19   \n",
       "5396573               1972.0  2020-01-04  2020-01-21   \n",
       "5397093                  NaN  2020-01-07  2020-06-11   \n",
       "...                      ...         ...         ...   \n",
       "6041994               1971.0  2022-07-21         NaN   \n",
       "6052392               1975.0  2022-08-03  2022-07-28   \n",
       "6060261               1962.0  2022-08-23  2022-08-10   \n",
       "6071479               1991.0  2022-09-08         NaN   \n",
       "6077280               1967.0  2022-09-03  2023-04-21   \n",
       "\n",
       "                                    Carrier Name      Carrier Type  \\\n",
       "Claim Identifier                                                     \n",
       "5395531                  A I U INSURANCE COMPANY       1A. PRIVATE   \n",
       "5395225              ALLMERICA FINANCIAL BENEFIT       1A. PRIVATE   \n",
       "5395560                     STATE INSURANCE FUND           2A. SIF   \n",
       "5396573             AMERICAN ZURICH INSURANCE CO       1A. PRIVATE   \n",
       "5397093                  CHARTER OAK FIRE INS CO       1A. PRIVATE   \n",
       "...                                          ...               ...   \n",
       "6041994                  A I U INSURANCE COMPANY       1A. PRIVATE   \n",
       "6052392                 NEW JERSEY MANUFACTURERS       1A. PRIVATE   \n",
       "6060261           GREAT AMERICAN ALLIANCE INS CO       1A. PRIVATE   \n",
       "6071479            NEW YORK BLACK CAR OPERATORS'  4A. SELF PRIVATE   \n",
       "6077280             SOMPO AMERICA  FIRE & MARINE       1A. PRIVATE   \n",
       "\n",
       "                 Claim Injury Type County of Injury COVID-19 Indicator  \\\n",
       "Claim Identifier                                                         \n",
       "5395531               4. TEMPORARY           QUEENS                  N   \n",
       "5395225               4. TEMPORARY            BRONX                  N   \n",
       "5395560               4. TEMPORARY           QUEENS                  N   \n",
       "5396573               4. TEMPORARY      WESTCHESTER                  N   \n",
       "5397093               4. TEMPORARY           ORANGE                  N   \n",
       "...                            ...              ...                ...   \n",
       "6041994            5. PPD SCH LOSS           QUEENS                  N   \n",
       "6052392               4. TEMPORARY            KINGS                  N   \n",
       "6060261               4. TEMPORARY           QUEENS                  N   \n",
       "6071479               4. TEMPORARY         NEW YORK                  N   \n",
       "6077280               4. TEMPORARY           QUEENS                  N   \n",
       "\n",
       "                 District Name First Hearing Date Gender  IME-4 Count  \\\n",
       "Claim Identifier                                                        \n",
       "5395531                    NYC         2020-09-30      M         36.0   \n",
       "5395225                    NYC         2021-09-01      M         20.0   \n",
       "5395560                    NYC         2020-03-30      F         19.0   \n",
       "5396573              STATEWIDE         2020-05-01      M         27.0   \n",
       "5397093                 ALBANY         2020-08-28      M         20.0   \n",
       "...                        ...                ...    ...          ...   \n",
       "6041994                    NYC         2023-03-30      F         20.0   \n",
       "6052392                    NYC         2023-03-17      F         21.0   \n",
       "6060261                    NYC         2022-11-21      F         19.0   \n",
       "6071479                    NYC         2023-09-11      M         19.0   \n",
       "6077280                    NYC         2023-05-10      M         24.0   \n",
       "\n",
       "                  Industry Code           Industry Code Description  \\\n",
       "Claim Identifier                                                      \n",
       "5395531                    42.0                     WHOLESALE TRADE   \n",
       "5395225                    72.0     ACCOMMODATION AND FOOD SERVICES   \n",
       "5395560                    53.0  REAL ESTATE AND RENTAL AND LEASING   \n",
       "5396573                    52.0               FINANCE AND INSURANCE   \n",
       "5397093                    45.0                        RETAIL TRADE   \n",
       "...                         ...                                 ...   \n",
       "6041994                    48.0      TRANSPORTATION AND WAREHOUSING   \n",
       "6052392                    48.0      TRANSPORTATION AND WAREHOUSING   \n",
       "6060261                    62.0   HEALTH CARE AND SOCIAL ASSISTANCE   \n",
       "6071479                    48.0      TRANSPORTATION AND WAREHOUSING   \n",
       "6077280                    72.0     ACCOMMODATION AND FOOD SERVICES   \n",
       "\n",
       "                 Medical Fee Region  OIICS Nature of Injury Description  \\\n",
       "Claim Identifier                                                          \n",
       "5395531                          IV                                 NaN   \n",
       "5395225                          IV                                 NaN   \n",
       "5395560                          IV                                 NaN   \n",
       "5396573                         III                                 NaN   \n",
       "5397093                         III                                 NaN   \n",
       "...                             ...                                 ...   \n",
       "6041994                          IV                                 NaN   \n",
       "6052392                          IV                                 NaN   \n",
       "6060261                          IV                                 NaN   \n",
       "6071479                          IV                                 NaN   \n",
       "6077280                          IV                                 NaN   \n",
       "\n",
       "                  WCIO Cause of Injury Code  \\\n",
       "Claim Identifier                              \n",
       "5395531                                75.0   \n",
       "5395225                                27.0   \n",
       "5395560                                33.0   \n",
       "5396573                                79.0   \n",
       "5397093                                26.0   \n",
       "...                                     ...   \n",
       "6041994                                45.0   \n",
       "6052392                                48.0   \n",
       "6060261                                27.0   \n",
       "6071479                                45.0   \n",
       "6077280                                32.0   \n",
       "\n",
       "                             WCIO Cause of Injury Description  \\\n",
       "Claim Identifier                                                \n",
       "5395531                              FALLING OR FLYING OBJECT   \n",
       "5395225                          FROM LIQUID OR GREASE SPILLS   \n",
       "5395560                                             ON STAIRS   \n",
       "5396573                        OBJECT BEING LIFTED OR HANDLED   \n",
       "5397093                            FROM LADDER OR SCAFFOLDING   \n",
       "...                                                       ...   \n",
       "6041994           COLLISION OR SIDESWIPE WITH ANOTHER VEHICLE   \n",
       "6052392                                         VEHICLE UPSET   \n",
       "6060261                          FROM LIQUID OR GREASE SPILLS   \n",
       "6071479           COLLISION OR SIDESWIPE WITH ANOTHER VEHICLE   \n",
       "6077280                                        ON ICE OR SNOW   \n",
       "\n",
       "                  WCIO Nature of Injury Code  \\\n",
       "Claim Identifier                               \n",
       "5395531                                 52.0   \n",
       "5395225                                 10.0   \n",
       "5395560                                 10.0   \n",
       "5396573                                 16.0   \n",
       "5397093                                 16.0   \n",
       "...                                      ...   \n",
       "6041994                                 52.0   \n",
       "6052392                                 10.0   \n",
       "6060261                                 10.0   \n",
       "6071479                                 49.0   \n",
       "6077280                                 59.0   \n",
       "\n",
       "                 WCIO Nature of Injury Description  WCIO Part Of Body Code  \\\n",
       "Claim Identifier                                                             \n",
       "5395531                             STRAIN OR TEAR                    21.0   \n",
       "5395225                                  CONTUSION                    53.0   \n",
       "5395560                                  CONTUSION                    19.0   \n",
       "5396573                                DISLOCATION                    22.0   \n",
       "5397093                                DISLOCATION                    43.0   \n",
       "...                                            ...                     ...   \n",
       "6041994                             STRAIN OR TEAR                    53.0   \n",
       "6052392                                  CONTUSION                    65.0   \n",
       "6060261                                  CONTUSION                    -9.0   \n",
       "6071479                             SPRAIN OR TEAR                    -9.0   \n",
       "6077280           ALL OTHER SPECIFIC INJURIES, NOC                    53.0   \n",
       "\n",
       "                                      WCIO Part Of Body Description Zip Code  \\\n",
       "Claim Identifier                                                               \n",
       "5395531                                                   VERTEBRAE    11434   \n",
       "5395225                                                        KNEE    10461   \n",
       "5395560                                                FACIAL BONES    11434   \n",
       "5396573                                                        DISC    10704   \n",
       "5397093                                                        DISC    10940   \n",
       "...                                                             ...      ...   \n",
       "6041994                                                        KNEE    11420   \n",
       "6052392           INSUFFICIENT INFO TO PROPERLY IDENTIFY - UNCLA...    11233   \n",
       "6060261                                                    MULTIPLE    11412   \n",
       "6071479                                                    MULTIPLE    10040   \n",
       "6077280                                                        KNEE    11377   \n",
       "\n",
       "                  Agreement Reached      WCB Decision  Number of Dependents  \n",
       "Claim Identifier                                                             \n",
       "5395531                         0.0  Not Work Related                   4.0  \n",
       "5395225                         0.0  Not Work Related                   2.0  \n",
       "5395560                         0.0  Not Work Related                   3.0  \n",
       "5396573                         0.0  Not Work Related                   3.0  \n",
       "5397093                         0.0  Not Work Related                   6.0  \n",
       "...                             ...               ...                   ...  \n",
       "6041994                         0.0  Not Work Related                   2.0  \n",
       "6052392                         0.0  Not Work Related                   2.0  \n",
       "6060261                         1.0  Not Work Related                   5.0  \n",
       "6071479                         0.0  Not Work Related                   1.0  \n",
       "6077280                         0.0  Not Work Related                   0.0  \n",
       "\n",
       "[312 rows x 32 columns]"
      ]
     },
     "execution_count": 125,
     "metadata": {},
     "output_type": "execute_result"
    }
   ],
   "source": [
    "df[df['IME-4 Count'] > 18]"
   ]
  },
  {
   "cell_type": "code",
   "execution_count": 126,
   "id": "5a1d4f87",
   "metadata": {
    "ExecuteTime": {
     "end_time": "2024-11-07T19:17:06.289480Z",
     "start_time": "2024-11-07T19:17:05.998752Z"
    },
    "scrolled": true
   },
   "outputs": [
    {
     "data": {
      "image/png": "[encoded data removed]",
      "text/plain": [
       "<Figure size 640x480 with 1 Axes>"
      ]
     },
     "metadata": {},
     "output_type": "display_data"
    }
   ],
   "source": [
    "v.plot_histogram(df['IME-4 Count'], 'IME-4 Count', 'Frequency',\n",
    "                'IME-4 Count Distribution')"
   ]
  },
  {
   "cell_type": "markdown",
   "id": "b110f2ca",
   "metadata": {},
   "source": [
    "<div style=\"background-color: #f8d7da; color: #721c24; border: 1px solid #f5c6cb; padding: 10px; border-radius: 5px;\">\n",
    "    <strong>Change Alert: </strong> Delete IME-4 Count > 18\n",
    "</div>\n"
   ]
  },
  {
   "cell_type": "code",
   "execution_count": 127,
   "id": "587a6db2",
   "metadata": {
    "ExecuteTime": {
     "end_time": "2024-11-07T19:17:06.498574Z",
     "start_time": "2024-11-07T19:17:06.292397Z"
    }
   },
   "outputs": [],
   "source": [
    "df = df.loc[(df['IME-4 Count'] <= 18) | (df['IME-4 Count'].isna())]"
   ]
  },
  {
   "cell_type": "markdown",
   "id": "7fab107b",
   "metadata": {},
   "source": [
    "**OIICS Nature of Injury Description**\n",
    "\n",
    "always missing"
   ]
  },
  {
   "cell_type": "code",
   "execution_count": 128,
   "id": "3022d447",
   "metadata": {
    "ExecuteTime": {
     "end_time": "2024-11-07T19:17:06.580981Z",
     "start_time": "2024-11-07T19:17:06.501391Z"
    }
   },
   "outputs": [
    {
     "name": "stdout",
     "output_type": "stream",
     "text": [
      "Number of missing rows in variable OIICS Nature of Injury Description: 561745\n",
      "Number of Rows in the Dataset: 561745\n"
     ]
    }
   ],
   "source": [
    "print(f\"Number of missing rows in variable OIICS Nature of Injury Description: {len(df[df['OIICS Nature of Injury Description'].isna()])}\")\n",
    "print(f\"Number of Rows in the Dataset: {len(df)}\")"
   ]
  },
  {
   "cell_type": "markdown",
   "id": "bb3d8d81",
   "metadata": {},
   "source": [
    "**Zip Code**"
   ]
  },
  {
   "cell_type": "code",
   "execution_count": 129,
   "id": "577babeb",
   "metadata": {
    "ExecuteTime": {
     "end_time": "2024-11-07T19:17:06.808235Z",
     "start_time": "2024-11-07T19:17:06.584231Z"
    }
   },
   "outputs": [
    {
     "data": {
      "text/html": [
       "<div>\n",
       "<style scoped>\n",
       "    .dataframe tbody tr th:only-of-type {\n",
       "        vertical-align: middle;\n",
       "    }\n",
       "\n",
       "    .dataframe tbody tr th {\n",
       "        vertical-align: top;\n",
       "    }\n",
       "\n",
       "    .dataframe thead th {\n",
       "        text-align: right;\n",
       "    }\n",
       "</style>\n",
       "<table border=\"1\" class=\"dataframe\">\n",
       "  <thead>\n",
       "    <tr style=\"text-align: right;\">\n",
       "      <th></th>\n",
       "      <th>Accident Date</th>\n",
       "      <th>Age at Injury</th>\n",
       "      <th>Alternative Dispute Resolution</th>\n",
       "      <th>Assembly Date</th>\n",
       "      <th>Attorney/Representative</th>\n",
       "      <th>Average Weekly Wage</th>\n",
       "      <th>Birth Year</th>\n",
       "      <th>C-2 Date</th>\n",
       "      <th>C-3 Date</th>\n",
       "      <th>Carrier Name</th>\n",
       "      <th>Carrier Type</th>\n",
       "      <th>Claim Injury Type</th>\n",
       "      <th>County of Injury</th>\n",
       "      <th>COVID-19 Indicator</th>\n",
       "      <th>District Name</th>\n",
       "      <th>First Hearing Date</th>\n",
       "      <th>Gender</th>\n",
       "      <th>IME-4 Count</th>\n",
       "      <th>Industry Code</th>\n",
       "      <th>Industry Code Description</th>\n",
       "      <th>Medical Fee Region</th>\n",
       "      <th>OIICS Nature of Injury Description</th>\n",
       "      <th>WCIO Cause of Injury Code</th>\n",
       "      <th>WCIO Cause of Injury Description</th>\n",
       "      <th>WCIO Nature of Injury Code</th>\n",
       "      <th>WCIO Nature of Injury Description</th>\n",
       "      <th>WCIO Part Of Body Code</th>\n",
       "      <th>WCIO Part Of Body Description</th>\n",
       "      <th>Zip Code</th>\n",
       "      <th>Agreement Reached</th>\n",
       "      <th>WCB Decision</th>\n",
       "      <th>Number of Dependents</th>\n",
       "    </tr>\n",
       "    <tr>\n",
       "      <th>Claim Identifier</th>\n",
       "      <th></th>\n",
       "      <th></th>\n",
       "      <th></th>\n",
       "      <th></th>\n",
       "      <th></th>\n",
       "      <th></th>\n",
       "      <th></th>\n",
       "      <th></th>\n",
       "      <th></th>\n",
       "      <th></th>\n",
       "      <th></th>\n",
       "      <th></th>\n",
       "      <th></th>\n",
       "      <th></th>\n",
       "      <th></th>\n",
       "      <th></th>\n",
       "      <th></th>\n",
       "      <th></th>\n",
       "      <th></th>\n",
       "      <th></th>\n",
       "      <th></th>\n",
       "      <th></th>\n",
       "      <th></th>\n",
       "      <th></th>\n",
       "      <th></th>\n",
       "      <th></th>\n",
       "      <th></th>\n",
       "      <th></th>\n",
       "      <th></th>\n",
       "      <th></th>\n",
       "      <th></th>\n",
       "      <th></th>\n",
       "    </tr>\n",
       "  </thead>\n",
       "  <tbody>\n",
       "    <tr>\n",
       "      <th>5488667</th>\n",
       "      <td>2019-07-13</td>\n",
       "      <td>29.0</td>\n",
       "      <td>N</td>\n",
       "      <td>2020-05-27</td>\n",
       "      <td>N</td>\n",
       "      <td>0.0</td>\n",
       "      <td>1990.0</td>\n",
       "      <td>2020-05-27</td>\n",
       "      <td>NaN</td>\n",
       "      <td>TRI-STATE INSURANCE COMPANY</td>\n",
       "      <td>1A. PRIVATE</td>\n",
       "      <td>1. CANCELLED</td>\n",
       "      <td>NEW YORK</td>\n",
       "      <td>N</td>\n",
       "      <td>NYC</td>\n",
       "      <td>NaN</td>\n",
       "      <td>M</td>\n",
       "      <td>NaN</td>\n",
       "      <td>71.0</td>\n",
       "      <td>ARTS, ENTERTAINMENT, AND RECREATION</td>\n",
       "      <td>UK</td>\n",
       "      <td>NaN</td>\n",
       "      <td>60.0</td>\n",
       "      <td>STRAIN OR INJURY BY, NOC</td>\n",
       "      <td>52.0</td>\n",
       "      <td>STRAIN OR TEAR</td>\n",
       "      <td>52.0</td>\n",
       "      <td>UPPER LEG</td>\n",
       "      <td>M3K2B</td>\n",
       "      <td>0.0</td>\n",
       "      <td>Not Work Related</td>\n",
       "      <td>6.0</td>\n",
       "    </tr>\n",
       "    <tr>\n",
       "      <th>5496519</th>\n",
       "      <td>2020-02-12</td>\n",
       "      <td>20.0</td>\n",
       "      <td>N</td>\n",
       "      <td>2020-06-10</td>\n",
       "      <td>N</td>\n",
       "      <td>0.0</td>\n",
       "      <td>NaN</td>\n",
       "      <td>2020-06-10</td>\n",
       "      <td>NaN</td>\n",
       "      <td>TRI-STATE INSURANCE COMPANY</td>\n",
       "      <td>1A. PRIVATE</td>\n",
       "      <td>2. NON-COMP</td>\n",
       "      <td>NEW YORK</td>\n",
       "      <td>N</td>\n",
       "      <td>NYC</td>\n",
       "      <td>NaN</td>\n",
       "      <td>M</td>\n",
       "      <td>NaN</td>\n",
       "      <td>71.0</td>\n",
       "      <td>ARTS, ENTERTAINMENT, AND RECREATION</td>\n",
       "      <td>UK</td>\n",
       "      <td>NaN</td>\n",
       "      <td>60.0</td>\n",
       "      <td>STRAIN OR INJURY BY, NOC</td>\n",
       "      <td>52.0</td>\n",
       "      <td>STRAIN OR TEAR</td>\n",
       "      <td>52.0</td>\n",
       "      <td>UPPER LEG</td>\n",
       "      <td>M3K2B</td>\n",
       "      <td>0.0</td>\n",
       "      <td>Not Work Related</td>\n",
       "      <td>2.0</td>\n",
       "    </tr>\n",
       "    <tr>\n",
       "      <th>5502949</th>\n",
       "      <td>2020-05-28</td>\n",
       "      <td>48.0</td>\n",
       "      <td>N</td>\n",
       "      <td>2020-06-22</td>\n",
       "      <td>N</td>\n",
       "      <td>0.0</td>\n",
       "      <td>NaN</td>\n",
       "      <td>2020-06-22</td>\n",
       "      <td>NaN</td>\n",
       "      <td>STATE INSURANCE FUND</td>\n",
       "      <td>2A. SIF</td>\n",
       "      <td>2. NON-COMP</td>\n",
       "      <td>NASSAU</td>\n",
       "      <td>N</td>\n",
       "      <td>NYC</td>\n",
       "      <td>NaN</td>\n",
       "      <td>F</td>\n",
       "      <td>NaN</td>\n",
       "      <td>42.0</td>\n",
       "      <td>WHOLESALE TRADE</td>\n",
       "      <td>UK</td>\n",
       "      <td>NaN</td>\n",
       "      <td>29.0</td>\n",
       "      <td>ON SAME LEVEL</td>\n",
       "      <td>10.0</td>\n",
       "      <td>CONTUSION</td>\n",
       "      <td>34.0</td>\n",
       "      <td>WRIST</td>\n",
       "      <td>V6Z3G</td>\n",
       "      <td>0.0</td>\n",
       "      <td>Not Work Related</td>\n",
       "      <td>3.0</td>\n",
       "    </tr>\n",
       "    <tr>\n",
       "      <th>5512171</th>\n",
       "      <td>2019-10-06</td>\n",
       "      <td>29.0</td>\n",
       "      <td>N</td>\n",
       "      <td>2020-07-07</td>\n",
       "      <td>N</td>\n",
       "      <td>0.0</td>\n",
       "      <td>1989.0</td>\n",
       "      <td>2020-07-07</td>\n",
       "      <td>NaN</td>\n",
       "      <td>TRI-STATE INSURANCE COMPANY</td>\n",
       "      <td>1A. PRIVATE</td>\n",
       "      <td>2. NON-COMP</td>\n",
       "      <td>NEW YORK</td>\n",
       "      <td>N</td>\n",
       "      <td>NYC</td>\n",
       "      <td>NaN</td>\n",
       "      <td>M</td>\n",
       "      <td>NaN</td>\n",
       "      <td>71.0</td>\n",
       "      <td>ARTS, ENTERTAINMENT, AND RECREATION</td>\n",
       "      <td>UK</td>\n",
       "      <td>NaN</td>\n",
       "      <td>60.0</td>\n",
       "      <td>STRAIN OR INJURY BY, NOC</td>\n",
       "      <td>52.0</td>\n",
       "      <td>STRAIN OR TEAR</td>\n",
       "      <td>52.0</td>\n",
       "      <td>UPPER LEG</td>\n",
       "      <td>M3K2B</td>\n",
       "      <td>0.0</td>\n",
       "      <td>Not Work Related</td>\n",
       "      <td>1.0</td>\n",
       "    </tr>\n",
       "    <tr>\n",
       "      <th>5562682</th>\n",
       "      <td>2020-07-13</td>\n",
       "      <td>31.0</td>\n",
       "      <td>N</td>\n",
       "      <td>2020-09-21</td>\n",
       "      <td>N</td>\n",
       "      <td>0.0</td>\n",
       "      <td>1988.0</td>\n",
       "      <td>2020-09-19</td>\n",
       "      <td>NaN</td>\n",
       "      <td>TRI-STATE INS CO OF MINNESOTA</td>\n",
       "      <td>1A. PRIVATE</td>\n",
       "      <td>2. NON-COMP</td>\n",
       "      <td>NEW YORK</td>\n",
       "      <td>N</td>\n",
       "      <td>NYC</td>\n",
       "      <td>NaN</td>\n",
       "      <td>M</td>\n",
       "      <td>NaN</td>\n",
       "      <td>71.0</td>\n",
       "      <td>ARTS, ENTERTAINMENT, AND RECREATION</td>\n",
       "      <td>UK</td>\n",
       "      <td>NaN</td>\n",
       "      <td>60.0</td>\n",
       "      <td>STRAIN OR INJURY BY, NOC</td>\n",
       "      <td>52.0</td>\n",
       "      <td>STRAIN OR TEAR</td>\n",
       "      <td>54.0</td>\n",
       "      <td>LOWER LEG</td>\n",
       "      <td>M3K2B</td>\n",
       "      <td>0.0</td>\n",
       "      <td>Not Work Related</td>\n",
       "      <td>5.0</td>\n",
       "    </tr>\n",
       "    <tr>\n",
       "      <th>...</th>\n",
       "      <td>...</td>\n",
       "      <td>...</td>\n",
       "      <td>...</td>\n",
       "      <td>...</td>\n",
       "      <td>...</td>\n",
       "      <td>...</td>\n",
       "      <td>...</td>\n",
       "      <td>...</td>\n",
       "      <td>...</td>\n",
       "      <td>...</td>\n",
       "      <td>...</td>\n",
       "      <td>...</td>\n",
       "      <td>...</td>\n",
       "      <td>...</td>\n",
       "      <td>...</td>\n",
       "      <td>...</td>\n",
       "      <td>...</td>\n",
       "      <td>...</td>\n",
       "      <td>...</td>\n",
       "      <td>...</td>\n",
       "      <td>...</td>\n",
       "      <td>...</td>\n",
       "      <td>...</td>\n",
       "      <td>...</td>\n",
       "      <td>...</td>\n",
       "      <td>...</td>\n",
       "      <td>...</td>\n",
       "      <td>...</td>\n",
       "      <td>...</td>\n",
       "      <td>...</td>\n",
       "      <td>...</td>\n",
       "      <td>...</td>\n",
       "    </tr>\n",
       "    <tr>\n",
       "      <th>6119366</th>\n",
       "      <td>2022-09-13</td>\n",
       "      <td>22.0</td>\n",
       "      <td>N</td>\n",
       "      <td>2022-10-27</td>\n",
       "      <td>N</td>\n",
       "      <td>0.0</td>\n",
       "      <td>2000.0</td>\n",
       "      <td>2022-10-27</td>\n",
       "      <td>NaN</td>\n",
       "      <td>TRI-STATE INSURANCE COMPANY</td>\n",
       "      <td>1A. PRIVATE</td>\n",
       "      <td>2. NON-COMP</td>\n",
       "      <td>NEW YORK</td>\n",
       "      <td>N</td>\n",
       "      <td>NYC</td>\n",
       "      <td>NaN</td>\n",
       "      <td>M</td>\n",
       "      <td>NaN</td>\n",
       "      <td>71.0</td>\n",
       "      <td>ARTS, ENTERTAINMENT, AND RECREATION</td>\n",
       "      <td>UK</td>\n",
       "      <td>NaN</td>\n",
       "      <td>97.0</td>\n",
       "      <td>REPETITIVE MOTION</td>\n",
       "      <td>52.0</td>\n",
       "      <td>STRAIN OR TEAR</td>\n",
       "      <td>53.0</td>\n",
       "      <td>KNEE</td>\n",
       "      <td>M3K2C</td>\n",
       "      <td>0.0</td>\n",
       "      <td>Not Work Related</td>\n",
       "      <td>0.0</td>\n",
       "    </tr>\n",
       "    <tr>\n",
       "      <th>6127382</th>\n",
       "      <td>2022-09-30</td>\n",
       "      <td>25.0</td>\n",
       "      <td>N</td>\n",
       "      <td>2022-11-07</td>\n",
       "      <td>N</td>\n",
       "      <td>0.0</td>\n",
       "      <td>NaN</td>\n",
       "      <td>2022-11-05</td>\n",
       "      <td>NaN</td>\n",
       "      <td>TRI-STATE INS CO OF MINNESOTA</td>\n",
       "      <td>1A. PRIVATE</td>\n",
       "      <td>2. NON-COMP</td>\n",
       "      <td>NEW YORK</td>\n",
       "      <td>N</td>\n",
       "      <td>NYC</td>\n",
       "      <td>NaN</td>\n",
       "      <td>M</td>\n",
       "      <td>NaN</td>\n",
       "      <td>71.0</td>\n",
       "      <td>ARTS, ENTERTAINMENT, AND RECREATION</td>\n",
       "      <td>UK</td>\n",
       "      <td>NaN</td>\n",
       "      <td>74.0</td>\n",
       "      <td>FELLOW WORKER, PATIENT OR OTHER PERSON</td>\n",
       "      <td>49.0</td>\n",
       "      <td>SPRAIN OR TEAR</td>\n",
       "      <td>36.0</td>\n",
       "      <td>FINGER(S)</td>\n",
       "      <td>H1V3S</td>\n",
       "      <td>0.0</td>\n",
       "      <td>Not Work Related</td>\n",
       "      <td>1.0</td>\n",
       "    </tr>\n",
       "    <tr>\n",
       "      <th>6127479</th>\n",
       "      <td>2022-10-01</td>\n",
       "      <td>23.0</td>\n",
       "      <td>N</td>\n",
       "      <td>2022-11-07</td>\n",
       "      <td>N</td>\n",
       "      <td>0.0</td>\n",
       "      <td>1999.0</td>\n",
       "      <td>2022-11-05</td>\n",
       "      <td>NaN</td>\n",
       "      <td>TRI-STATE INS CO OF MINNESOTA</td>\n",
       "      <td>1A. PRIVATE</td>\n",
       "      <td>2. NON-COMP</td>\n",
       "      <td>NEW YORK</td>\n",
       "      <td>N</td>\n",
       "      <td>NYC</td>\n",
       "      <td>NaN</td>\n",
       "      <td>M</td>\n",
       "      <td>NaN</td>\n",
       "      <td>71.0</td>\n",
       "      <td>ARTS, ENTERTAINMENT, AND RECREATION</td>\n",
       "      <td>UK</td>\n",
       "      <td>NaN</td>\n",
       "      <td>74.0</td>\n",
       "      <td>FELLOW WORKER, PATIENT OR OTHER PERSON</td>\n",
       "      <td>52.0</td>\n",
       "      <td>STRAIN OR TEAR</td>\n",
       "      <td>53.0</td>\n",
       "      <td>KNEE</td>\n",
       "      <td>H1V3S</td>\n",
       "      <td>0.0</td>\n",
       "      <td>Not Work Related</td>\n",
       "      <td>2.0</td>\n",
       "    </tr>\n",
       "    <tr>\n",
       "      <th>6131442</th>\n",
       "      <td>2022-10-04</td>\n",
       "      <td>31.0</td>\n",
       "      <td>N</td>\n",
       "      <td>2022-11-11</td>\n",
       "      <td>N</td>\n",
       "      <td>0.0</td>\n",
       "      <td>1991.0</td>\n",
       "      <td>2022-11-11</td>\n",
       "      <td>NaN</td>\n",
       "      <td>TRI-STATE INS CO OF MINNESOTA</td>\n",
       "      <td>1A. PRIVATE</td>\n",
       "      <td>2. NON-COMP</td>\n",
       "      <td>NEW YORK</td>\n",
       "      <td>N</td>\n",
       "      <td>NYC</td>\n",
       "      <td>NaN</td>\n",
       "      <td>M</td>\n",
       "      <td>NaN</td>\n",
       "      <td>71.0</td>\n",
       "      <td>ARTS, ENTERTAINMENT, AND RECREATION</td>\n",
       "      <td>UK</td>\n",
       "      <td>NaN</td>\n",
       "      <td>74.0</td>\n",
       "      <td>FELLOW WORKER, PATIENT OR OTHER PERSON</td>\n",
       "      <td>52.0</td>\n",
       "      <td>STRAIN OR TEAR</td>\n",
       "      <td>52.0</td>\n",
       "      <td>UPPER LEG</td>\n",
       "      <td>H1V3S</td>\n",
       "      <td>0.0</td>\n",
       "      <td>Not Work Related</td>\n",
       "      <td>2.0</td>\n",
       "    </tr>\n",
       "    <tr>\n",
       "      <th>6133854</th>\n",
       "      <td>2022-11-01</td>\n",
       "      <td>19.0</td>\n",
       "      <td>N</td>\n",
       "      <td>2022-11-15</td>\n",
       "      <td>N</td>\n",
       "      <td>0.0</td>\n",
       "      <td>2003.0</td>\n",
       "      <td>2022-11-15</td>\n",
       "      <td>NaN</td>\n",
       "      <td>TRI-STATE INS CO OF MINNESOTA</td>\n",
       "      <td>1A. PRIVATE</td>\n",
       "      <td>2. NON-COMP</td>\n",
       "      <td>NEW YORK</td>\n",
       "      <td>N</td>\n",
       "      <td>NYC</td>\n",
       "      <td>NaN</td>\n",
       "      <td>M</td>\n",
       "      <td>NaN</td>\n",
       "      <td>71.0</td>\n",
       "      <td>ARTS, ENTERTAINMENT, AND RECREATION</td>\n",
       "      <td>UK</td>\n",
       "      <td>NaN</td>\n",
       "      <td>60.0</td>\n",
       "      <td>STRAIN OR INJURY BY, NOC</td>\n",
       "      <td>49.0</td>\n",
       "      <td>SPRAIN OR TEAR</td>\n",
       "      <td>53.0</td>\n",
       "      <td>KNEE</td>\n",
       "      <td>H1V2L</td>\n",
       "      <td>0.0</td>\n",
       "      <td>Not Work Related</td>\n",
       "      <td>5.0</td>\n",
       "    </tr>\n",
       "  </tbody>\n",
       "</table>\n",
       "<p>14399 rows × 32 columns</p>\n",
       "</div>"
      ],
      "text/plain": [
       "                 Accident Date  Age at Injury Alternative Dispute Resolution  \\\n",
       "Claim Identifier                                                               \n",
       "5488667             2019-07-13           29.0                              N   \n",
       "5496519             2020-02-12           20.0                              N   \n",
       "5502949             2020-05-28           48.0                              N   \n",
       "5512171             2019-10-06           29.0                              N   \n",
       "5562682             2020-07-13           31.0                              N   \n",
       "...                        ...            ...                            ...   \n",
       "6119366             2022-09-13           22.0                              N   \n",
       "6127382             2022-09-30           25.0                              N   \n",
       "6127479             2022-10-01           23.0                              N   \n",
       "6131442             2022-10-04           31.0                              N   \n",
       "6133854             2022-11-01           19.0                              N   \n",
       "\n",
       "                 Assembly Date Attorney/Representative  Average Weekly Wage  \\\n",
       "Claim Identifier                                                              \n",
       "5488667             2020-05-27                       N                  0.0   \n",
       "5496519             2020-06-10                       N                  0.0   \n",
       "5502949             2020-06-22                       N                  0.0   \n",
       "5512171             2020-07-07                       N                  0.0   \n",
       "5562682             2020-09-21                       N                  0.0   \n",
       "...                        ...                     ...                  ...   \n",
       "6119366             2022-10-27                       N                  0.0   \n",
       "6127382             2022-11-07                       N                  0.0   \n",
       "6127479             2022-11-07                       N                  0.0   \n",
       "6131442             2022-11-11                       N                  0.0   \n",
       "6133854             2022-11-15                       N                  0.0   \n",
       "\n",
       "                  Birth Year    C-2 Date C-3 Date  \\\n",
       "Claim Identifier                                    \n",
       "5488667               1990.0  2020-05-27      NaN   \n",
       "5496519                  NaN  2020-06-10      NaN   \n",
       "5502949                  NaN  2020-06-22      NaN   \n",
       "5512171               1989.0  2020-07-07      NaN   \n",
       "5562682               1988.0  2020-09-19      NaN   \n",
       "...                      ...         ...      ...   \n",
       "6119366               2000.0  2022-10-27      NaN   \n",
       "6127382                  NaN  2022-11-05      NaN   \n",
       "6127479               1999.0  2022-11-05      NaN   \n",
       "6131442               1991.0  2022-11-11      NaN   \n",
       "6133854               2003.0  2022-11-15      NaN   \n",
       "\n",
       "                                   Carrier Name Carrier Type  \\\n",
       "Claim Identifier                                               \n",
       "5488667             TRI-STATE INSURANCE COMPANY  1A. PRIVATE   \n",
       "5496519             TRI-STATE INSURANCE COMPANY  1A. PRIVATE   \n",
       "5502949                    STATE INSURANCE FUND      2A. SIF   \n",
       "5512171             TRI-STATE INSURANCE COMPANY  1A. PRIVATE   \n",
       "5562682           TRI-STATE INS CO OF MINNESOTA  1A. PRIVATE   \n",
       "...                                         ...          ...   \n",
       "6119366             TRI-STATE INSURANCE COMPANY  1A. PRIVATE   \n",
       "6127382           TRI-STATE INS CO OF MINNESOTA  1A. PRIVATE   \n",
       "6127479           TRI-STATE INS CO OF MINNESOTA  1A. PRIVATE   \n",
       "6131442           TRI-STATE INS CO OF MINNESOTA  1A. PRIVATE   \n",
       "6133854           TRI-STATE INS CO OF MINNESOTA  1A. PRIVATE   \n",
       "\n",
       "                 Claim Injury Type County of Injury COVID-19 Indicator  \\\n",
       "Claim Identifier                                                         \n",
       "5488667               1. CANCELLED         NEW YORK                  N   \n",
       "5496519                2. NON-COMP         NEW YORK                  N   \n",
       "5502949                2. NON-COMP           NASSAU                  N   \n",
       "5512171                2. NON-COMP         NEW YORK                  N   \n",
       "5562682                2. NON-COMP         NEW YORK                  N   \n",
       "...                            ...              ...                ...   \n",
       "6119366                2. NON-COMP         NEW YORK                  N   \n",
       "6127382                2. NON-COMP         NEW YORK                  N   \n",
       "6127479                2. NON-COMP         NEW YORK                  N   \n",
       "6131442                2. NON-COMP         NEW YORK                  N   \n",
       "6133854                2. NON-COMP         NEW YORK                  N   \n",
       "\n",
       "                 District Name First Hearing Date Gender  IME-4 Count  \\\n",
       "Claim Identifier                                                        \n",
       "5488667                    NYC                NaN      M          NaN   \n",
       "5496519                    NYC                NaN      M          NaN   \n",
       "5502949                    NYC                NaN      F          NaN   \n",
       "5512171                    NYC                NaN      M          NaN   \n",
       "5562682                    NYC                NaN      M          NaN   \n",
       "...                        ...                ...    ...          ...   \n",
       "6119366                    NYC                NaN      M          NaN   \n",
       "6127382                    NYC                NaN      M          NaN   \n",
       "6127479                    NYC                NaN      M          NaN   \n",
       "6131442                    NYC                NaN      M          NaN   \n",
       "6133854                    NYC                NaN      M          NaN   \n",
       "\n",
       "                  Industry Code            Industry Code Description  \\\n",
       "Claim Identifier                                                       \n",
       "5488667                    71.0  ARTS, ENTERTAINMENT, AND RECREATION   \n",
       "5496519                    71.0  ARTS, ENTERTAINMENT, AND RECREATION   \n",
       "5502949                    42.0                      WHOLESALE TRADE   \n",
       "5512171                    71.0  ARTS, ENTERTAINMENT, AND RECREATION   \n",
       "5562682                    71.0  ARTS, ENTERTAINMENT, AND RECREATION   \n",
       "...                         ...                                  ...   \n",
       "6119366                    71.0  ARTS, ENTERTAINMENT, AND RECREATION   \n",
       "6127382                    71.0  ARTS, ENTERTAINMENT, AND RECREATION   \n",
       "6127479                    71.0  ARTS, ENTERTAINMENT, AND RECREATION   \n",
       "6131442                    71.0  ARTS, ENTERTAINMENT, AND RECREATION   \n",
       "6133854                    71.0  ARTS, ENTERTAINMENT, AND RECREATION   \n",
       "\n",
       "                 Medical Fee Region  OIICS Nature of Injury Description  \\\n",
       "Claim Identifier                                                          \n",
       "5488667                          UK                                 NaN   \n",
       "5496519                          UK                                 NaN   \n",
       "5502949                          UK                                 NaN   \n",
       "5512171                          UK                                 NaN   \n",
       "5562682                          UK                                 NaN   \n",
       "...                             ...                                 ...   \n",
       "6119366                          UK                                 NaN   \n",
       "6127382                          UK                                 NaN   \n",
       "6127479                          UK                                 NaN   \n",
       "6131442                          UK                                 NaN   \n",
       "6133854                          UK                                 NaN   \n",
       "\n",
       "                  WCIO Cause of Injury Code  \\\n",
       "Claim Identifier                              \n",
       "5488667                                60.0   \n",
       "5496519                                60.0   \n",
       "5502949                                29.0   \n",
       "5512171                                60.0   \n",
       "5562682                                60.0   \n",
       "...                                     ...   \n",
       "6119366                                97.0   \n",
       "6127382                                74.0   \n",
       "6127479                                74.0   \n",
       "6131442                                74.0   \n",
       "6133854                                60.0   \n",
       "\n",
       "                        WCIO Cause of Injury Description  \\\n",
       "Claim Identifier                                           \n",
       "5488667                         STRAIN OR INJURY BY, NOC   \n",
       "5496519                         STRAIN OR INJURY BY, NOC   \n",
       "5502949                                    ON SAME LEVEL   \n",
       "5512171                         STRAIN OR INJURY BY, NOC   \n",
       "5562682                         STRAIN OR INJURY BY, NOC   \n",
       "...                                                  ...   \n",
       "6119366                                REPETITIVE MOTION   \n",
       "6127382           FELLOW WORKER, PATIENT OR OTHER PERSON   \n",
       "6127479           FELLOW WORKER, PATIENT OR OTHER PERSON   \n",
       "6131442           FELLOW WORKER, PATIENT OR OTHER PERSON   \n",
       "6133854                         STRAIN OR INJURY BY, NOC   \n",
       "\n",
       "                  WCIO Nature of Injury Code  \\\n",
       "Claim Identifier                               \n",
       "5488667                                 52.0   \n",
       "5496519                                 52.0   \n",
       "5502949                                 10.0   \n",
       "5512171                                 52.0   \n",
       "5562682                                 52.0   \n",
       "...                                      ...   \n",
       "6119366                                 52.0   \n",
       "6127382                                 49.0   \n",
       "6127479                                 52.0   \n",
       "6131442                                 52.0   \n",
       "6133854                                 49.0   \n",
       "\n",
       "                 WCIO Nature of Injury Description  WCIO Part Of Body Code  \\\n",
       "Claim Identifier                                                             \n",
       "5488667                             STRAIN OR TEAR                    52.0   \n",
       "5496519                             STRAIN OR TEAR                    52.0   \n",
       "5502949                                  CONTUSION                    34.0   \n",
       "5512171                             STRAIN OR TEAR                    52.0   \n",
       "5562682                             STRAIN OR TEAR                    54.0   \n",
       "...                                            ...                     ...   \n",
       "6119366                             STRAIN OR TEAR                    53.0   \n",
       "6127382                             SPRAIN OR TEAR                    36.0   \n",
       "6127479                             STRAIN OR TEAR                    53.0   \n",
       "6131442                             STRAIN OR TEAR                    52.0   \n",
       "6133854                             SPRAIN OR TEAR                    53.0   \n",
       "\n",
       "                 WCIO Part Of Body Description Zip Code  Agreement Reached  \\\n",
       "Claim Identifier                                                             \n",
       "5488667                              UPPER LEG    M3K2B                0.0   \n",
       "5496519                              UPPER LEG    M3K2B                0.0   \n",
       "5502949                                  WRIST    V6Z3G                0.0   \n",
       "5512171                              UPPER LEG    M3K2B                0.0   \n",
       "5562682                              LOWER LEG    M3K2B                0.0   \n",
       "...                                        ...      ...                ...   \n",
       "6119366                                   KNEE    M3K2C                0.0   \n",
       "6127382                              FINGER(S)    H1V3S                0.0   \n",
       "6127479                                   KNEE    H1V3S                0.0   \n",
       "6131442                              UPPER LEG    H1V3S                0.0   \n",
       "6133854                                   KNEE    H1V2L                0.0   \n",
       "\n",
       "                      WCB Decision  Number of Dependents  \n",
       "Claim Identifier                                          \n",
       "5488667           Not Work Related                   6.0  \n",
       "5496519           Not Work Related                   2.0  \n",
       "5502949           Not Work Related                   3.0  \n",
       "5512171           Not Work Related                   1.0  \n",
       "5562682           Not Work Related                   5.0  \n",
       "...                            ...                   ...  \n",
       "6119366           Not Work Related                   0.0  \n",
       "6127382           Not Work Related                   1.0  \n",
       "6127479           Not Work Related                   2.0  \n",
       "6131442           Not Work Related                   2.0  \n",
       "6133854           Not Work Related                   5.0  \n",
       "\n",
       "[14399 rows x 32 columns]"
      ]
     },
     "execution_count": 129,
     "metadata": {},
     "output_type": "execute_result"
    }
   ],
   "source": [
    "df[df['Zip Code'].notna() & \n",
    "    df['Zip Code'].apply(lambda x: not str(x).isnumeric())]"
   ]
  },
  {
   "cell_type": "markdown",
   "id": "36b0b7a5",
   "metadata": {},
   "source": [
    "**Agreement Reached**\n",
    "\n",
    "w/ a lot of zeros"
   ]
  },
  {
   "cell_type": "code",
   "execution_count": 130,
   "id": "c9458d4c",
   "metadata": {
    "ExecuteTime": {
     "end_time": "2024-11-07T19:17:06.822460Z",
     "start_time": "2024-11-07T19:17:06.811034Z"
    }
   },
   "outputs": [
    {
     "data": {
      "text/plain": [
       "Agreement Reached\n",
       "0.0    517820\n",
       "1.0     24480\n",
       "Name: count, dtype: int64"
      ]
     },
     "execution_count": 130,
     "metadata": {},
     "output_type": "execute_result"
    }
   ],
   "source": [
    "df['Agreement Reached'].value_counts()"
   ]
  },
  {
   "cell_type": "code",
   "execution_count": 131,
   "id": "008a48d6",
   "metadata": {
    "ExecuteTime": {
     "end_time": "2024-11-07T19:17:07.064559Z",
     "start_time": "2024-11-07T19:17:06.825186Z"
    },
    "scrolled": true
   },
   "outputs": [
    {
     "data": {
      "image/png": "[encoded data removed]",
      "text/plain": [
       "<Figure size 640x480 with 1 Axes>"
      ]
     },
     "metadata": {},
     "output_type": "display_data"
    }
   ],
   "source": [
    "v.plot_histogram(df['Agreement Reached'], 'Agreement Reached', 'Frequency',\n",
    "                'Agreement Reached Distribution')"
   ]
  },
  {
   "cell_type": "markdown",
   "id": "2d4b2504",
   "metadata": {},
   "source": [
    "**WCB Decision**\n",
    "\n",
    "always the same"
   ]
  },
  {
   "cell_type": "code",
   "execution_count": 132,
   "id": "a7d7c165",
   "metadata": {
    "ExecuteTime": {
     "end_time": "2024-11-07T19:17:07.098642Z",
     "start_time": "2024-11-07T19:17:07.067033Z"
    }
   },
   "outputs": [
    {
     "data": {
      "text/plain": [
       "array(['Not Work Related', nan], dtype=object)"
      ]
     },
     "execution_count": 132,
     "metadata": {},
     "output_type": "execute_result"
    }
   ],
   "source": [
    "df['WCB Decision'].unique()"
   ]
  },
  {
   "cell_type": "markdown",
   "id": "8cbe42a6",
   "metadata": {},
   "source": [
    "**Claim Injury Type**\n",
    "\n",
    "imbalanced target "
   ]
  },
  {
   "cell_type": "code",
   "execution_count": 133,
   "id": "81367659",
   "metadata": {
    "ExecuteTime": {
     "end_time": "2024-11-07T19:17:07.153079Z",
     "start_time": "2024-11-07T19:17:07.100909Z"
    },
    "scrolled": true
   },
   "outputs": [
    {
     "data": {
      "text/plain": [
       "Claim Injury Type\n",
       "2. NON-COMP        273731\n",
       "4. TEMPORARY       141663\n",
       "3. MED ONLY         65917\n",
       "5. PPD SCH LOSS     46366\n",
       "1. CANCELLED        10135\n",
       "6. PPD NSL           3999\n",
       "8. DEATH              399\n",
       "7. PTD                 90\n",
       "Name: count, dtype: int64"
      ]
     },
     "execution_count": 133,
     "metadata": {},
     "output_type": "execute_result"
    }
   ],
   "source": [
    "df['Claim Injury Type'].value_counts()"
   ]
  },
  {
   "cell_type": "markdown",
   "id": "8820c53c",
   "metadata": {},
   "source": [
    "**Incoherent Columns**\n",
    "\n",
    "Some columns exist in train data but not on test"
   ]
  },
  {
   "cell_type": "code",
   "execution_count": 134,
   "id": "a2a17ca2",
   "metadata": {
    "ExecuteTime": {
     "end_time": "2024-11-07T19:17:07.159902Z",
     "start_time": "2024-11-07T19:17:07.155583Z"
    }
   },
   "outputs": [
    {
     "name": "stdout",
     "output_type": "stream",
     "text": [
      "Columns in train but not in test: {'WCB Decision', 'Agreement Reached', 'Claim Injury Type'}\n"
     ]
    }
   ],
   "source": [
    "train_columns = set(df.columns)\n",
    "test_columns = set(test.columns)\n",
    "\n",
    "not_in_train = train_columns - test_columns\n",
    "print(f'Columns in train but not in test: {not_in_train}')\n"
   ]
  },
  {
   "cell_type": "markdown",
   "id": "5ca2558a",
   "metadata": {},
   "source": [
    "# 3. Data Cleaning & Preprocessing\n",
    "\n",
    "<a href=\"#top\">Top &#129033;</a>"
   ]
  },
  {
   "cell_type": "code",
   "execution_count": 135,
   "id": "a5951a41",
   "metadata": {
    "ExecuteTime": {
     "end_time": "2024-11-07T19:17:07.206303Z",
     "start_time": "2024-11-07T19:17:07.166739Z"
    }
   },
   "outputs": [
    {
     "data": {
      "text/html": [
       "<div>\n",
       "<style scoped>\n",
       "    .dataframe tbody tr th:only-of-type {\n",
       "        vertical-align: middle;\n",
       "    }\n",
       "\n",
       "    .dataframe tbody tr th {\n",
       "        vertical-align: top;\n",
       "    }\n",
       "\n",
       "    .dataframe thead th {\n",
       "        text-align: right;\n",
       "    }\n",
       "</style>\n",
       "<table border=\"1\" class=\"dataframe\">\n",
       "  <thead>\n",
       "    <tr style=\"text-align: right;\">\n",
       "      <th></th>\n",
       "      <th>Accident Date</th>\n",
       "      <th>Age at Injury</th>\n",
       "      <th>Alternative Dispute Resolution</th>\n",
       "      <th>Assembly Date</th>\n",
       "      <th>Attorney/Representative</th>\n",
       "      <th>Average Weekly Wage</th>\n",
       "      <th>Birth Year</th>\n",
       "      <th>C-2 Date</th>\n",
       "      <th>C-3 Date</th>\n",
       "      <th>Carrier Name</th>\n",
       "      <th>Carrier Type</th>\n",
       "      <th>Claim Injury Type</th>\n",
       "      <th>County of Injury</th>\n",
       "      <th>COVID-19 Indicator</th>\n",
       "      <th>District Name</th>\n",
       "      <th>First Hearing Date</th>\n",
       "      <th>Gender</th>\n",
       "      <th>IME-4 Count</th>\n",
       "      <th>Industry Code</th>\n",
       "      <th>Industry Code Description</th>\n",
       "      <th>Medical Fee Region</th>\n",
       "      <th>OIICS Nature of Injury Description</th>\n",
       "      <th>WCIO Cause of Injury Code</th>\n",
       "      <th>WCIO Cause of Injury Description</th>\n",
       "      <th>WCIO Nature of Injury Code</th>\n",
       "      <th>WCIO Nature of Injury Description</th>\n",
       "      <th>WCIO Part Of Body Code</th>\n",
       "      <th>WCIO Part Of Body Description</th>\n",
       "      <th>Zip Code</th>\n",
       "      <th>Agreement Reached</th>\n",
       "      <th>WCB Decision</th>\n",
       "      <th>Number of Dependents</th>\n",
       "    </tr>\n",
       "    <tr>\n",
       "      <th>Claim Identifier</th>\n",
       "      <th></th>\n",
       "      <th></th>\n",
       "      <th></th>\n",
       "      <th></th>\n",
       "      <th></th>\n",
       "      <th></th>\n",
       "      <th></th>\n",
       "      <th></th>\n",
       "      <th></th>\n",
       "      <th></th>\n",
       "      <th></th>\n",
       "      <th></th>\n",
       "      <th></th>\n",
       "      <th></th>\n",
       "      <th></th>\n",
       "      <th></th>\n",
       "      <th></th>\n",
       "      <th></th>\n",
       "      <th></th>\n",
       "      <th></th>\n",
       "      <th></th>\n",
       "      <th></th>\n",
       "      <th></th>\n",
       "      <th></th>\n",
       "      <th></th>\n",
       "      <th></th>\n",
       "      <th></th>\n",
       "      <th></th>\n",
       "      <th></th>\n",
       "      <th></th>\n",
       "      <th></th>\n",
       "      <th></th>\n",
       "    </tr>\n",
       "  </thead>\n",
       "  <tbody>\n",
       "    <tr>\n",
       "      <th>5393875</th>\n",
       "      <td>2019-12-30</td>\n",
       "      <td>31.0</td>\n",
       "      <td>N</td>\n",
       "      <td>2020-01-01</td>\n",
       "      <td>N</td>\n",
       "      <td>0.00</td>\n",
       "      <td>1988.0</td>\n",
       "      <td>2019-12-31</td>\n",
       "      <td>NaN</td>\n",
       "      <td>NEW HAMPSHIRE INSURANCE CO</td>\n",
       "      <td>1A. PRIVATE</td>\n",
       "      <td>2. NON-COMP</td>\n",
       "      <td>ST. LAWRENCE</td>\n",
       "      <td>N</td>\n",
       "      <td>SYRACUSE</td>\n",
       "      <td>NaN</td>\n",
       "      <td>M</td>\n",
       "      <td>NaN</td>\n",
       "      <td>44.0</td>\n",
       "      <td>RETAIL TRADE</td>\n",
       "      <td>I</td>\n",
       "      <td>NaN</td>\n",
       "      <td>27.0</td>\n",
       "      <td>FROM LIQUID OR GREASE SPILLS</td>\n",
       "      <td>10.0</td>\n",
       "      <td>CONTUSION</td>\n",
       "      <td>62.0</td>\n",
       "      <td>BUTTOCKS</td>\n",
       "      <td>13662</td>\n",
       "      <td>0.0</td>\n",
       "      <td>Not Work Related</td>\n",
       "      <td>1.0</td>\n",
       "    </tr>\n",
       "    <tr>\n",
       "      <th>5393091</th>\n",
       "      <td>2019-08-30</td>\n",
       "      <td>46.0</td>\n",
       "      <td>N</td>\n",
       "      <td>2020-01-01</td>\n",
       "      <td>Y</td>\n",
       "      <td>1745.93</td>\n",
       "      <td>1973.0</td>\n",
       "      <td>2020-01-01</td>\n",
       "      <td>2020-01-14</td>\n",
       "      <td>ZURICH AMERICAN INSURANCE CO</td>\n",
       "      <td>1A. PRIVATE</td>\n",
       "      <td>4. TEMPORARY</td>\n",
       "      <td>WYOMING</td>\n",
       "      <td>N</td>\n",
       "      <td>ROCHESTER</td>\n",
       "      <td>2020-02-21</td>\n",
       "      <td>F</td>\n",
       "      <td>4.0</td>\n",
       "      <td>23.0</td>\n",
       "      <td>CONSTRUCTION</td>\n",
       "      <td>I</td>\n",
       "      <td>NaN</td>\n",
       "      <td>97.0</td>\n",
       "      <td>REPETITIVE MOTION</td>\n",
       "      <td>49.0</td>\n",
       "      <td>SPRAIN OR TEAR</td>\n",
       "      <td>38.0</td>\n",
       "      <td>SHOULDER(S)</td>\n",
       "      <td>14569</td>\n",
       "      <td>1.0</td>\n",
       "      <td>Not Work Related</td>\n",
       "      <td>4.0</td>\n",
       "    </tr>\n",
       "    <tr>\n",
       "      <th>5393889</th>\n",
       "      <td>2019-12-06</td>\n",
       "      <td>40.0</td>\n",
       "      <td>N</td>\n",
       "      <td>2020-01-01</td>\n",
       "      <td>N</td>\n",
       "      <td>1434.80</td>\n",
       "      <td>1979.0</td>\n",
       "      <td>2020-01-01</td>\n",
       "      <td>NaN</td>\n",
       "      <td>INDEMNITY INSURANCE CO OF</td>\n",
       "      <td>1A. PRIVATE</td>\n",
       "      <td>4. TEMPORARY</td>\n",
       "      <td>ORANGE</td>\n",
       "      <td>N</td>\n",
       "      <td>ALBANY</td>\n",
       "      <td>NaN</td>\n",
       "      <td>M</td>\n",
       "      <td>NaN</td>\n",
       "      <td>56.0</td>\n",
       "      <td>ADMINISTRATIVE AND SUPPORT AND WASTE MANAGEMEN...</td>\n",
       "      <td>II</td>\n",
       "      <td>NaN</td>\n",
       "      <td>79.0</td>\n",
       "      <td>OBJECT BEING LIFTED OR HANDLED</td>\n",
       "      <td>7.0</td>\n",
       "      <td>CONCUSSION</td>\n",
       "      <td>10.0</td>\n",
       "      <td>MULTIPLE HEAD INJURY</td>\n",
       "      <td>12589</td>\n",
       "      <td>0.0</td>\n",
       "      <td>Not Work Related</td>\n",
       "      <td>6.0</td>\n",
       "    </tr>\n",
       "    <tr>\n",
       "      <th>957648180</th>\n",
       "      <td>NaN</td>\n",
       "      <td>NaN</td>\n",
       "      <td>NaN</td>\n",
       "      <td>2020-01-01</td>\n",
       "      <td>NaN</td>\n",
       "      <td>NaN</td>\n",
       "      <td>NaN</td>\n",
       "      <td>NaN</td>\n",
       "      <td>NaN</td>\n",
       "      <td>NaN</td>\n",
       "      <td>NaN</td>\n",
       "      <td>NaN</td>\n",
       "      <td>NaN</td>\n",
       "      <td>NaN</td>\n",
       "      <td>NaN</td>\n",
       "      <td>NaN</td>\n",
       "      <td>NaN</td>\n",
       "      <td>NaN</td>\n",
       "      <td>NaN</td>\n",
       "      <td>NaN</td>\n",
       "      <td>NaN</td>\n",
       "      <td>NaN</td>\n",
       "      <td>NaN</td>\n",
       "      <td>NaN</td>\n",
       "      <td>NaN</td>\n",
       "      <td>NaN</td>\n",
       "      <td>NaN</td>\n",
       "      <td>NaN</td>\n",
       "      <td>NaN</td>\n",
       "      <td>NaN</td>\n",
       "      <td>NaN</td>\n",
       "      <td>NaN</td>\n",
       "    </tr>\n",
       "    <tr>\n",
       "      <th>5393887</th>\n",
       "      <td>2019-12-30</td>\n",
       "      <td>61.0</td>\n",
       "      <td>N</td>\n",
       "      <td>2020-01-01</td>\n",
       "      <td>N</td>\n",
       "      <td>NaN</td>\n",
       "      <td>1958.0</td>\n",
       "      <td>2019-12-31</td>\n",
       "      <td>NaN</td>\n",
       "      <td>STATE INSURANCE FUND</td>\n",
       "      <td>2A. SIF</td>\n",
       "      <td>2. NON-COMP</td>\n",
       "      <td>DUTCHESS</td>\n",
       "      <td>N</td>\n",
       "      <td>ALBANY</td>\n",
       "      <td>NaN</td>\n",
       "      <td>M</td>\n",
       "      <td>NaN</td>\n",
       "      <td>62.0</td>\n",
       "      <td>HEALTH CARE AND SOCIAL ASSISTANCE</td>\n",
       "      <td>II</td>\n",
       "      <td>NaN</td>\n",
       "      <td>16.0</td>\n",
       "      <td>HAND TOOL, UTENSIL; NOT POWERED</td>\n",
       "      <td>43.0</td>\n",
       "      <td>PUNCTURE</td>\n",
       "      <td>36.0</td>\n",
       "      <td>FINGER(S)</td>\n",
       "      <td>12603</td>\n",
       "      <td>0.0</td>\n",
       "      <td>Not Work Related</td>\n",
       "      <td>1.0</td>\n",
       "    </tr>\n",
       "    <tr>\n",
       "      <th>...</th>\n",
       "      <td>...</td>\n",
       "      <td>...</td>\n",
       "      <td>...</td>\n",
       "      <td>...</td>\n",
       "      <td>...</td>\n",
       "      <td>...</td>\n",
       "      <td>...</td>\n",
       "      <td>...</td>\n",
       "      <td>...</td>\n",
       "      <td>...</td>\n",
       "      <td>...</td>\n",
       "      <td>...</td>\n",
       "      <td>...</td>\n",
       "      <td>...</td>\n",
       "      <td>...</td>\n",
       "      <td>...</td>\n",
       "      <td>...</td>\n",
       "      <td>...</td>\n",
       "      <td>...</td>\n",
       "      <td>...</td>\n",
       "      <td>...</td>\n",
       "      <td>...</td>\n",
       "      <td>...</td>\n",
       "      <td>...</td>\n",
       "      <td>...</td>\n",
       "      <td>...</td>\n",
       "      <td>...</td>\n",
       "      <td>...</td>\n",
       "      <td>...</td>\n",
       "      <td>...</td>\n",
       "      <td>...</td>\n",
       "      <td>...</td>\n",
       "    </tr>\n",
       "    <tr>\n",
       "      <th>327160035</th>\n",
       "      <td>NaN</td>\n",
       "      <td>NaN</td>\n",
       "      <td>NaN</td>\n",
       "      <td>2022-12-31</td>\n",
       "      <td>NaN</td>\n",
       "      <td>NaN</td>\n",
       "      <td>NaN</td>\n",
       "      <td>NaN</td>\n",
       "      <td>NaN</td>\n",
       "      <td>NaN</td>\n",
       "      <td>NaN</td>\n",
       "      <td>NaN</td>\n",
       "      <td>NaN</td>\n",
       "      <td>NaN</td>\n",
       "      <td>NaN</td>\n",
       "      <td>NaN</td>\n",
       "      <td>NaN</td>\n",
       "      <td>NaN</td>\n",
       "      <td>NaN</td>\n",
       "      <td>NaN</td>\n",
       "      <td>NaN</td>\n",
       "      <td>NaN</td>\n",
       "      <td>NaN</td>\n",
       "      <td>NaN</td>\n",
       "      <td>NaN</td>\n",
       "      <td>NaN</td>\n",
       "      <td>NaN</td>\n",
       "      <td>NaN</td>\n",
       "      <td>NaN</td>\n",
       "      <td>NaN</td>\n",
       "      <td>NaN</td>\n",
       "      <td>NaN</td>\n",
       "    </tr>\n",
       "    <tr>\n",
       "      <th>6165075</th>\n",
       "      <td>2022-12-13</td>\n",
       "      <td>72.0</td>\n",
       "      <td>N</td>\n",
       "      <td>2022-12-31</td>\n",
       "      <td>N</td>\n",
       "      <td>0.00</td>\n",
       "      <td>1950.0</td>\n",
       "      <td>2022-12-31</td>\n",
       "      <td>NaN</td>\n",
       "      <td>TECHNOLOGY INSURANCE CO. INC.</td>\n",
       "      <td>1A. PRIVATE</td>\n",
       "      <td>2. NON-COMP</td>\n",
       "      <td>SULLIVAN</td>\n",
       "      <td>N</td>\n",
       "      <td>BINGHAMTON</td>\n",
       "      <td>NaN</td>\n",
       "      <td>F</td>\n",
       "      <td>NaN</td>\n",
       "      <td>48.0</td>\n",
       "      <td>TRANSPORTATION AND WAREHOUSING</td>\n",
       "      <td>I</td>\n",
       "      <td>NaN</td>\n",
       "      <td>25.0</td>\n",
       "      <td>FROM DIFFERENT LEVEL (ELEVATION)</td>\n",
       "      <td>90.0</td>\n",
       "      <td>MULTIPLE PHYSICAL INJURIES ONLY</td>\n",
       "      <td>-9.0</td>\n",
       "      <td>MULTIPLE</td>\n",
       "      <td>12779</td>\n",
       "      <td>0.0</td>\n",
       "      <td>Not Work Related</td>\n",
       "      <td>3.0</td>\n",
       "    </tr>\n",
       "    <tr>\n",
       "      <th>249875936</th>\n",
       "      <td>NaN</td>\n",
       "      <td>NaN</td>\n",
       "      <td>NaN</td>\n",
       "      <td>2022-12-31</td>\n",
       "      <td>NaN</td>\n",
       "      <td>NaN</td>\n",
       "      <td>NaN</td>\n",
       "      <td>NaN</td>\n",
       "      <td>NaN</td>\n",
       "      <td>NaN</td>\n",
       "      <td>NaN</td>\n",
       "      <td>NaN</td>\n",
       "      <td>NaN</td>\n",
       "      <td>NaN</td>\n",
       "      <td>NaN</td>\n",
       "      <td>NaN</td>\n",
       "      <td>NaN</td>\n",
       "      <td>NaN</td>\n",
       "      <td>NaN</td>\n",
       "      <td>NaN</td>\n",
       "      <td>NaN</td>\n",
       "      <td>NaN</td>\n",
       "      <td>NaN</td>\n",
       "      <td>NaN</td>\n",
       "      <td>NaN</td>\n",
       "      <td>NaN</td>\n",
       "      <td>NaN</td>\n",
       "      <td>NaN</td>\n",
       "      <td>NaN</td>\n",
       "      <td>NaN</td>\n",
       "      <td>NaN</td>\n",
       "      <td>NaN</td>\n",
       "    </tr>\n",
       "    <tr>\n",
       "      <th>120584215</th>\n",
       "      <td>NaN</td>\n",
       "      <td>NaN</td>\n",
       "      <td>NaN</td>\n",
       "      <td>2022-12-31</td>\n",
       "      <td>NaN</td>\n",
       "      <td>NaN</td>\n",
       "      <td>NaN</td>\n",
       "      <td>NaN</td>\n",
       "      <td>NaN</td>\n",
       "      <td>NaN</td>\n",
       "      <td>NaN</td>\n",
       "      <td>NaN</td>\n",
       "      <td>NaN</td>\n",
       "      <td>NaN</td>\n",
       "      <td>NaN</td>\n",
       "      <td>NaN</td>\n",
       "      <td>NaN</td>\n",
       "      <td>NaN</td>\n",
       "      <td>NaN</td>\n",
       "      <td>NaN</td>\n",
       "      <td>NaN</td>\n",
       "      <td>NaN</td>\n",
       "      <td>NaN</td>\n",
       "      <td>NaN</td>\n",
       "      <td>NaN</td>\n",
       "      <td>NaN</td>\n",
       "      <td>NaN</td>\n",
       "      <td>NaN</td>\n",
       "      <td>NaN</td>\n",
       "      <td>NaN</td>\n",
       "      <td>NaN</td>\n",
       "      <td>NaN</td>\n",
       "    </tr>\n",
       "    <tr>\n",
       "      <th>818961390</th>\n",
       "      <td>NaN</td>\n",
       "      <td>NaN</td>\n",
       "      <td>NaN</td>\n",
       "      <td>2022-12-31</td>\n",
       "      <td>NaN</td>\n",
       "      <td>NaN</td>\n",
       "      <td>NaN</td>\n",
       "      <td>NaN</td>\n",
       "      <td>NaN</td>\n",
       "      <td>NaN</td>\n",
       "      <td>NaN</td>\n",
       "      <td>NaN</td>\n",
       "      <td>NaN</td>\n",
       "      <td>NaN</td>\n",
       "      <td>NaN</td>\n",
       "      <td>NaN</td>\n",
       "      <td>NaN</td>\n",
       "      <td>NaN</td>\n",
       "      <td>NaN</td>\n",
       "      <td>NaN</td>\n",
       "      <td>NaN</td>\n",
       "      <td>NaN</td>\n",
       "      <td>NaN</td>\n",
       "      <td>NaN</td>\n",
       "      <td>NaN</td>\n",
       "      <td>NaN</td>\n",
       "      <td>NaN</td>\n",
       "      <td>NaN</td>\n",
       "      <td>NaN</td>\n",
       "      <td>NaN</td>\n",
       "      <td>NaN</td>\n",
       "      <td>NaN</td>\n",
       "    </tr>\n",
       "  </tbody>\n",
       "</table>\n",
       "<p>561745 rows × 32 columns</p>\n",
       "</div>"
      ],
      "text/plain": [
       "                 Accident Date  Age at Injury Alternative Dispute Resolution  \\\n",
       "Claim Identifier                                                               \n",
       "5393875             2019-12-30           31.0                              N   \n",
       "5393091             2019-08-30           46.0                              N   \n",
       "5393889             2019-12-06           40.0                              N   \n",
       "957648180                  NaN            NaN                            NaN   \n",
       "5393887             2019-12-30           61.0                              N   \n",
       "...                        ...            ...                            ...   \n",
       "327160035                  NaN            NaN                            NaN   \n",
       "6165075             2022-12-13           72.0                              N   \n",
       "249875936                  NaN            NaN                            NaN   \n",
       "120584215                  NaN            NaN                            NaN   \n",
       "818961390                  NaN            NaN                            NaN   \n",
       "\n",
       "                 Assembly Date Attorney/Representative  Average Weekly Wage  \\\n",
       "Claim Identifier                                                              \n",
       "5393875             2020-01-01                       N                 0.00   \n",
       "5393091             2020-01-01                       Y              1745.93   \n",
       "5393889             2020-01-01                       N              1434.80   \n",
       "957648180           2020-01-01                     NaN                  NaN   \n",
       "5393887             2020-01-01                       N                  NaN   \n",
       "...                        ...                     ...                  ...   \n",
       "327160035           2022-12-31                     NaN                  NaN   \n",
       "6165075             2022-12-31                       N                 0.00   \n",
       "249875936           2022-12-31                     NaN                  NaN   \n",
       "120584215           2022-12-31                     NaN                  NaN   \n",
       "818961390           2022-12-31                     NaN                  NaN   \n",
       "\n",
       "                  Birth Year    C-2 Date    C-3 Date  \\\n",
       "Claim Identifier                                       \n",
       "5393875               1988.0  2019-12-31         NaN   \n",
       "5393091               1973.0  2020-01-01  2020-01-14   \n",
       "5393889               1979.0  2020-01-01         NaN   \n",
       "957648180                NaN         NaN         NaN   \n",
       "5393887               1958.0  2019-12-31         NaN   \n",
       "...                      ...         ...         ...   \n",
       "327160035                NaN         NaN         NaN   \n",
       "6165075               1950.0  2022-12-31         NaN   \n",
       "249875936                NaN         NaN         NaN   \n",
       "120584215                NaN         NaN         NaN   \n",
       "818961390                NaN         NaN         NaN   \n",
       "\n",
       "                                   Carrier Name Carrier Type  \\\n",
       "Claim Identifier                                               \n",
       "5393875              NEW HAMPSHIRE INSURANCE CO  1A. PRIVATE   \n",
       "5393091            ZURICH AMERICAN INSURANCE CO  1A. PRIVATE   \n",
       "5393889               INDEMNITY INSURANCE CO OF  1A. PRIVATE   \n",
       "957648180                                   NaN          NaN   \n",
       "5393887                    STATE INSURANCE FUND      2A. SIF   \n",
       "...                                         ...          ...   \n",
       "327160035                                   NaN          NaN   \n",
       "6165075           TECHNOLOGY INSURANCE CO. INC.  1A. PRIVATE   \n",
       "249875936                                   NaN          NaN   \n",
       "120584215                                   NaN          NaN   \n",
       "818961390                                   NaN          NaN   \n",
       "\n",
       "                 Claim Injury Type County of Injury COVID-19 Indicator  \\\n",
       "Claim Identifier                                                         \n",
       "5393875                2. NON-COMP     ST. LAWRENCE                  N   \n",
       "5393091               4. TEMPORARY          WYOMING                  N   \n",
       "5393889               4. TEMPORARY           ORANGE                  N   \n",
       "957648180                      NaN              NaN                NaN   \n",
       "5393887                2. NON-COMP         DUTCHESS                  N   \n",
       "...                            ...              ...                ...   \n",
       "327160035                      NaN              NaN                NaN   \n",
       "6165075                2. NON-COMP         SULLIVAN                  N   \n",
       "249875936                      NaN              NaN                NaN   \n",
       "120584215                      NaN              NaN                NaN   \n",
       "818961390                      NaN              NaN                NaN   \n",
       "\n",
       "                 District Name First Hearing Date Gender  IME-4 Count  \\\n",
       "Claim Identifier                                                        \n",
       "5393875               SYRACUSE                NaN      M          NaN   \n",
       "5393091              ROCHESTER         2020-02-21      F          4.0   \n",
       "5393889                 ALBANY                NaN      M          NaN   \n",
       "957648180                  NaN                NaN    NaN          NaN   \n",
       "5393887                 ALBANY                NaN      M          NaN   \n",
       "...                        ...                ...    ...          ...   \n",
       "327160035                  NaN                NaN    NaN          NaN   \n",
       "6165075             BINGHAMTON                NaN      F          NaN   \n",
       "249875936                  NaN                NaN    NaN          NaN   \n",
       "120584215                  NaN                NaN    NaN          NaN   \n",
       "818961390                  NaN                NaN    NaN          NaN   \n",
       "\n",
       "                  Industry Code  \\\n",
       "Claim Identifier                  \n",
       "5393875                    44.0   \n",
       "5393091                    23.0   \n",
       "5393889                    56.0   \n",
       "957648180                   NaN   \n",
       "5393887                    62.0   \n",
       "...                         ...   \n",
       "327160035                   NaN   \n",
       "6165075                    48.0   \n",
       "249875936                   NaN   \n",
       "120584215                   NaN   \n",
       "818961390                   NaN   \n",
       "\n",
       "                                          Industry Code Description  \\\n",
       "Claim Identifier                                                      \n",
       "5393875                                                RETAIL TRADE   \n",
       "5393091                                                CONSTRUCTION   \n",
       "5393889           ADMINISTRATIVE AND SUPPORT AND WASTE MANAGEMEN...   \n",
       "957648180                                                       NaN   \n",
       "5393887                           HEALTH CARE AND SOCIAL ASSISTANCE   \n",
       "...                                                             ...   \n",
       "327160035                                                       NaN   \n",
       "6165075                              TRANSPORTATION AND WAREHOUSING   \n",
       "249875936                                                       NaN   \n",
       "120584215                                                       NaN   \n",
       "818961390                                                       NaN   \n",
       "\n",
       "                 Medical Fee Region  OIICS Nature of Injury Description  \\\n",
       "Claim Identifier                                                          \n",
       "5393875                           I                                 NaN   \n",
       "5393091                           I                                 NaN   \n",
       "5393889                          II                                 NaN   \n",
       "957648180                       NaN                                 NaN   \n",
       "5393887                          II                                 NaN   \n",
       "...                             ...                                 ...   \n",
       "327160035                       NaN                                 NaN   \n",
       "6165075                           I                                 NaN   \n",
       "249875936                       NaN                                 NaN   \n",
       "120584215                       NaN                                 NaN   \n",
       "818961390                       NaN                                 NaN   \n",
       "\n",
       "                  WCIO Cause of Injury Code  WCIO Cause of Injury Description  \\\n",
       "Claim Identifier                                                                \n",
       "5393875                                27.0      FROM LIQUID OR GREASE SPILLS   \n",
       "5393091                                97.0                 REPETITIVE MOTION   \n",
       "5393889                                79.0    OBJECT BEING LIFTED OR HANDLED   \n",
       "957648180                               NaN                               NaN   \n",
       "5393887                                16.0   HAND TOOL, UTENSIL; NOT POWERED   \n",
       "...                                     ...                               ...   \n",
       "327160035                               NaN                               NaN   \n",
       "6165075                                25.0  FROM DIFFERENT LEVEL (ELEVATION)   \n",
       "249875936                               NaN                               NaN   \n",
       "120584215                               NaN                               NaN   \n",
       "818961390                               NaN                               NaN   \n",
       "\n",
       "                  WCIO Nature of Injury Code  \\\n",
       "Claim Identifier                               \n",
       "5393875                                 10.0   \n",
       "5393091                                 49.0   \n",
       "5393889                                  7.0   \n",
       "957648180                                NaN   \n",
       "5393887                                 43.0   \n",
       "...                                      ...   \n",
       "327160035                                NaN   \n",
       "6165075                                 90.0   \n",
       "249875936                                NaN   \n",
       "120584215                                NaN   \n",
       "818961390                                NaN   \n",
       "\n",
       "                 WCIO Nature of Injury Description  WCIO Part Of Body Code  \\\n",
       "Claim Identifier                                                             \n",
       "5393875                                  CONTUSION                    62.0   \n",
       "5393091                             SPRAIN OR TEAR                    38.0   \n",
       "5393889                                 CONCUSSION                    10.0   \n",
       "957648180                                      NaN                     NaN   \n",
       "5393887                                   PUNCTURE                    36.0   \n",
       "...                                            ...                     ...   \n",
       "327160035                                      NaN                     NaN   \n",
       "6165075            MULTIPLE PHYSICAL INJURIES ONLY                    -9.0   \n",
       "249875936                                      NaN                     NaN   \n",
       "120584215                                      NaN                     NaN   \n",
       "818961390                                      NaN                     NaN   \n",
       "\n",
       "                 WCIO Part Of Body Description Zip Code  Agreement Reached  \\\n",
       "Claim Identifier                                                             \n",
       "5393875                               BUTTOCKS    13662                0.0   \n",
       "5393091                            SHOULDER(S)    14569                1.0   \n",
       "5393889                   MULTIPLE HEAD INJURY    12589                0.0   \n",
       "957648180                                  NaN      NaN                NaN   \n",
       "5393887                              FINGER(S)    12603                0.0   \n",
       "...                                        ...      ...                ...   \n",
       "327160035                                  NaN      NaN                NaN   \n",
       "6165075                               MULTIPLE    12779                0.0   \n",
       "249875936                                  NaN      NaN                NaN   \n",
       "120584215                                  NaN      NaN                NaN   \n",
       "818961390                                  NaN      NaN                NaN   \n",
       "\n",
       "                      WCB Decision  Number of Dependents  \n",
       "Claim Identifier                                          \n",
       "5393875           Not Work Related                   1.0  \n",
       "5393091           Not Work Related                   4.0  \n",
       "5393889           Not Work Related                   6.0  \n",
       "957648180                      NaN                   NaN  \n",
       "5393887           Not Work Related                   1.0  \n",
       "...                            ...                   ...  \n",
       "327160035                      NaN                   NaN  \n",
       "6165075           Not Work Related                   3.0  \n",
       "249875936                      NaN                   NaN  \n",
       "120584215                      NaN                   NaN  \n",
       "818961390                      NaN                   NaN  \n",
       "\n",
       "[561745 rows x 32 columns]"
      ]
     },
     "execution_count": 135,
     "metadata": {},
     "output_type": "execute_result"
    }
   ],
   "source": [
    "df"
   ]
  },
  {
   "cell_type": "markdown",
   "id": "9964da14",
   "metadata": {},
   "source": [
    "## 3.1 Duplicates\n",
    "\n",
    "<a href=\"#top\">Top &#129033;</a>"
   ]
  },
  {
   "cell_type": "code",
   "execution_count": 136,
   "id": "f66aa181",
   "metadata": {
    "ExecuteTime": {
     "end_time": "2024-11-07T19:17:10.430543Z",
     "start_time": "2024-11-07T19:17:08.892873Z"
    }
   },
   "outputs": [
    {
     "data": {
      "text/html": [
       "<div>\n",
       "<style scoped>\n",
       "    .dataframe tbody tr th:only-of-type {\n",
       "        vertical-align: middle;\n",
       "    }\n",
       "\n",
       "    .dataframe tbody tr th {\n",
       "        vertical-align: top;\n",
       "    }\n",
       "\n",
       "    .dataframe thead th {\n",
       "        text-align: right;\n",
       "    }\n",
       "</style>\n",
       "<table border=\"1\" class=\"dataframe\">\n",
       "  <thead>\n",
       "    <tr style=\"text-align: right;\">\n",
       "      <th></th>\n",
       "      <th>Accident Date</th>\n",
       "      <th>Age at Injury</th>\n",
       "      <th>Alternative Dispute Resolution</th>\n",
       "      <th>Assembly Date</th>\n",
       "      <th>Attorney/Representative</th>\n",
       "      <th>Average Weekly Wage</th>\n",
       "      <th>Birth Year</th>\n",
       "      <th>C-2 Date</th>\n",
       "      <th>C-3 Date</th>\n",
       "      <th>Carrier Name</th>\n",
       "      <th>Carrier Type</th>\n",
       "      <th>Claim Injury Type</th>\n",
       "      <th>County of Injury</th>\n",
       "      <th>COVID-19 Indicator</th>\n",
       "      <th>District Name</th>\n",
       "      <th>First Hearing Date</th>\n",
       "      <th>Gender</th>\n",
       "      <th>IME-4 Count</th>\n",
       "      <th>Industry Code</th>\n",
       "      <th>Industry Code Description</th>\n",
       "      <th>Medical Fee Region</th>\n",
       "      <th>OIICS Nature of Injury Description</th>\n",
       "      <th>WCIO Cause of Injury Code</th>\n",
       "      <th>WCIO Cause of Injury Description</th>\n",
       "      <th>WCIO Nature of Injury Code</th>\n",
       "      <th>WCIO Nature of Injury Description</th>\n",
       "      <th>WCIO Part Of Body Code</th>\n",
       "      <th>WCIO Part Of Body Description</th>\n",
       "      <th>Zip Code</th>\n",
       "      <th>Agreement Reached</th>\n",
       "      <th>WCB Decision</th>\n",
       "      <th>Number of Dependents</th>\n",
       "    </tr>\n",
       "    <tr>\n",
       "      <th>Claim Identifier</th>\n",
       "      <th></th>\n",
       "      <th></th>\n",
       "      <th></th>\n",
       "      <th></th>\n",
       "      <th></th>\n",
       "      <th></th>\n",
       "      <th></th>\n",
       "      <th></th>\n",
       "      <th></th>\n",
       "      <th></th>\n",
       "      <th></th>\n",
       "      <th></th>\n",
       "      <th></th>\n",
       "      <th></th>\n",
       "      <th></th>\n",
       "      <th></th>\n",
       "      <th></th>\n",
       "      <th></th>\n",
       "      <th></th>\n",
       "      <th></th>\n",
       "      <th></th>\n",
       "      <th></th>\n",
       "      <th></th>\n",
       "      <th></th>\n",
       "      <th></th>\n",
       "      <th></th>\n",
       "      <th></th>\n",
       "      <th></th>\n",
       "      <th></th>\n",
       "      <th></th>\n",
       "      <th></th>\n",
       "      <th></th>\n",
       "    </tr>\n",
       "  </thead>\n",
       "  <tbody>\n",
       "    <tr>\n",
       "      <th>363651794</th>\n",
       "      <td>NaN</td>\n",
       "      <td>NaN</td>\n",
       "      <td>NaN</td>\n",
       "      <td>2020-01-01</td>\n",
       "      <td>NaN</td>\n",
       "      <td>NaN</td>\n",
       "      <td>NaN</td>\n",
       "      <td>NaN</td>\n",
       "      <td>NaN</td>\n",
       "      <td>NaN</td>\n",
       "      <td>NaN</td>\n",
       "      <td>NaN</td>\n",
       "      <td>NaN</td>\n",
       "      <td>NaN</td>\n",
       "      <td>NaN</td>\n",
       "      <td>NaN</td>\n",
       "      <td>NaN</td>\n",
       "      <td>NaN</td>\n",
       "      <td>NaN</td>\n",
       "      <td>NaN</td>\n",
       "      <td>NaN</td>\n",
       "      <td>NaN</td>\n",
       "      <td>NaN</td>\n",
       "      <td>NaN</td>\n",
       "      <td>NaN</td>\n",
       "      <td>NaN</td>\n",
       "      <td>NaN</td>\n",
       "      <td>NaN</td>\n",
       "      <td>NaN</td>\n",
       "      <td>NaN</td>\n",
       "      <td>NaN</td>\n",
       "      <td>NaN</td>\n",
       "    </tr>\n",
       "    <tr>\n",
       "      <th>209507552</th>\n",
       "      <td>NaN</td>\n",
       "      <td>NaN</td>\n",
       "      <td>NaN</td>\n",
       "      <td>2020-01-01</td>\n",
       "      <td>NaN</td>\n",
       "      <td>NaN</td>\n",
       "      <td>NaN</td>\n",
       "      <td>NaN</td>\n",
       "      <td>NaN</td>\n",
       "      <td>NaN</td>\n",
       "      <td>NaN</td>\n",
       "      <td>NaN</td>\n",
       "      <td>NaN</td>\n",
       "      <td>NaN</td>\n",
       "      <td>NaN</td>\n",
       "      <td>NaN</td>\n",
       "      <td>NaN</td>\n",
       "      <td>NaN</td>\n",
       "      <td>NaN</td>\n",
       "      <td>NaN</td>\n",
       "      <td>NaN</td>\n",
       "      <td>NaN</td>\n",
       "      <td>NaN</td>\n",
       "      <td>NaN</td>\n",
       "      <td>NaN</td>\n",
       "      <td>NaN</td>\n",
       "      <td>NaN</td>\n",
       "      <td>NaN</td>\n",
       "      <td>NaN</td>\n",
       "      <td>NaN</td>\n",
       "      <td>NaN</td>\n",
       "      <td>NaN</td>\n",
       "    </tr>\n",
       "    <tr>\n",
       "      <th>970865999</th>\n",
       "      <td>NaN</td>\n",
       "      <td>NaN</td>\n",
       "      <td>NaN</td>\n",
       "      <td>2020-01-01</td>\n",
       "      <td>NaN</td>\n",
       "      <td>NaN</td>\n",
       "      <td>NaN</td>\n",
       "      <td>NaN</td>\n",
       "      <td>NaN</td>\n",
       "      <td>NaN</td>\n",
       "      <td>NaN</td>\n",
       "      <td>NaN</td>\n",
       "      <td>NaN</td>\n",
       "      <td>NaN</td>\n",
       "      <td>NaN</td>\n",
       "      <td>NaN</td>\n",
       "      <td>NaN</td>\n",
       "      <td>NaN</td>\n",
       "      <td>NaN</td>\n",
       "      <td>NaN</td>\n",
       "      <td>NaN</td>\n",
       "      <td>NaN</td>\n",
       "      <td>NaN</td>\n",
       "      <td>NaN</td>\n",
       "      <td>NaN</td>\n",
       "      <td>NaN</td>\n",
       "      <td>NaN</td>\n",
       "      <td>NaN</td>\n",
       "      <td>NaN</td>\n",
       "      <td>NaN</td>\n",
       "      <td>NaN</td>\n",
       "      <td>NaN</td>\n",
       "    </tr>\n",
       "    <tr>\n",
       "      <th>807753247</th>\n",
       "      <td>NaN</td>\n",
       "      <td>NaN</td>\n",
       "      <td>NaN</td>\n",
       "      <td>2020-01-01</td>\n",
       "      <td>NaN</td>\n",
       "      <td>NaN</td>\n",
       "      <td>NaN</td>\n",
       "      <td>NaN</td>\n",
       "      <td>NaN</td>\n",
       "      <td>NaN</td>\n",
       "      <td>NaN</td>\n",
       "      <td>NaN</td>\n",
       "      <td>NaN</td>\n",
       "      <td>NaN</td>\n",
       "      <td>NaN</td>\n",
       "      <td>NaN</td>\n",
       "      <td>NaN</td>\n",
       "      <td>NaN</td>\n",
       "      <td>NaN</td>\n",
       "      <td>NaN</td>\n",
       "      <td>NaN</td>\n",
       "      <td>NaN</td>\n",
       "      <td>NaN</td>\n",
       "      <td>NaN</td>\n",
       "      <td>NaN</td>\n",
       "      <td>NaN</td>\n",
       "      <td>NaN</td>\n",
       "      <td>NaN</td>\n",
       "      <td>NaN</td>\n",
       "      <td>NaN</td>\n",
       "      <td>NaN</td>\n",
       "      <td>NaN</td>\n",
       "    </tr>\n",
       "    <tr>\n",
       "      <th>395971406</th>\n",
       "      <td>NaN</td>\n",
       "      <td>NaN</td>\n",
       "      <td>NaN</td>\n",
       "      <td>2020-01-01</td>\n",
       "      <td>NaN</td>\n",
       "      <td>NaN</td>\n",
       "      <td>NaN</td>\n",
       "      <td>NaN</td>\n",
       "      <td>NaN</td>\n",
       "      <td>NaN</td>\n",
       "      <td>NaN</td>\n",
       "      <td>NaN</td>\n",
       "      <td>NaN</td>\n",
       "      <td>NaN</td>\n",
       "      <td>NaN</td>\n",
       "      <td>NaN</td>\n",
       "      <td>NaN</td>\n",
       "      <td>NaN</td>\n",
       "      <td>NaN</td>\n",
       "      <td>NaN</td>\n",
       "      <td>NaN</td>\n",
       "      <td>NaN</td>\n",
       "      <td>NaN</td>\n",
       "      <td>NaN</td>\n",
       "      <td>NaN</td>\n",
       "      <td>NaN</td>\n",
       "      <td>NaN</td>\n",
       "      <td>NaN</td>\n",
       "      <td>NaN</td>\n",
       "      <td>NaN</td>\n",
       "      <td>NaN</td>\n",
       "      <td>NaN</td>\n",
       "    </tr>\n",
       "    <tr>\n",
       "      <th>...</th>\n",
       "      <td>...</td>\n",
       "      <td>...</td>\n",
       "      <td>...</td>\n",
       "      <td>...</td>\n",
       "      <td>...</td>\n",
       "      <td>...</td>\n",
       "      <td>...</td>\n",
       "      <td>...</td>\n",
       "      <td>...</td>\n",
       "      <td>...</td>\n",
       "      <td>...</td>\n",
       "      <td>...</td>\n",
       "      <td>...</td>\n",
       "      <td>...</td>\n",
       "      <td>...</td>\n",
       "      <td>...</td>\n",
       "      <td>...</td>\n",
       "      <td>...</td>\n",
       "      <td>...</td>\n",
       "      <td>...</td>\n",
       "      <td>...</td>\n",
       "      <td>...</td>\n",
       "      <td>...</td>\n",
       "      <td>...</td>\n",
       "      <td>...</td>\n",
       "      <td>...</td>\n",
       "      <td>...</td>\n",
       "      <td>...</td>\n",
       "      <td>...</td>\n",
       "      <td>...</td>\n",
       "      <td>...</td>\n",
       "      <td>...</td>\n",
       "    </tr>\n",
       "    <tr>\n",
       "      <th>365870975</th>\n",
       "      <td>NaN</td>\n",
       "      <td>NaN</td>\n",
       "      <td>NaN</td>\n",
       "      <td>2022-12-31</td>\n",
       "      <td>NaN</td>\n",
       "      <td>NaN</td>\n",
       "      <td>NaN</td>\n",
       "      <td>NaN</td>\n",
       "      <td>NaN</td>\n",
       "      <td>NaN</td>\n",
       "      <td>NaN</td>\n",
       "      <td>NaN</td>\n",
       "      <td>NaN</td>\n",
       "      <td>NaN</td>\n",
       "      <td>NaN</td>\n",
       "      <td>NaN</td>\n",
       "      <td>NaN</td>\n",
       "      <td>NaN</td>\n",
       "      <td>NaN</td>\n",
       "      <td>NaN</td>\n",
       "      <td>NaN</td>\n",
       "      <td>NaN</td>\n",
       "      <td>NaN</td>\n",
       "      <td>NaN</td>\n",
       "      <td>NaN</td>\n",
       "      <td>NaN</td>\n",
       "      <td>NaN</td>\n",
       "      <td>NaN</td>\n",
       "      <td>NaN</td>\n",
       "      <td>NaN</td>\n",
       "      <td>NaN</td>\n",
       "      <td>NaN</td>\n",
       "    </tr>\n",
       "    <tr>\n",
       "      <th>327160035</th>\n",
       "      <td>NaN</td>\n",
       "      <td>NaN</td>\n",
       "      <td>NaN</td>\n",
       "      <td>2022-12-31</td>\n",
       "      <td>NaN</td>\n",
       "      <td>NaN</td>\n",
       "      <td>NaN</td>\n",
       "      <td>NaN</td>\n",
       "      <td>NaN</td>\n",
       "      <td>NaN</td>\n",
       "      <td>NaN</td>\n",
       "      <td>NaN</td>\n",
       "      <td>NaN</td>\n",
       "      <td>NaN</td>\n",
       "      <td>NaN</td>\n",
       "      <td>NaN</td>\n",
       "      <td>NaN</td>\n",
       "      <td>NaN</td>\n",
       "      <td>NaN</td>\n",
       "      <td>NaN</td>\n",
       "      <td>NaN</td>\n",
       "      <td>NaN</td>\n",
       "      <td>NaN</td>\n",
       "      <td>NaN</td>\n",
       "      <td>NaN</td>\n",
       "      <td>NaN</td>\n",
       "      <td>NaN</td>\n",
       "      <td>NaN</td>\n",
       "      <td>NaN</td>\n",
       "      <td>NaN</td>\n",
       "      <td>NaN</td>\n",
       "      <td>NaN</td>\n",
       "    </tr>\n",
       "    <tr>\n",
       "      <th>249875936</th>\n",
       "      <td>NaN</td>\n",
       "      <td>NaN</td>\n",
       "      <td>NaN</td>\n",
       "      <td>2022-12-31</td>\n",
       "      <td>NaN</td>\n",
       "      <td>NaN</td>\n",
       "      <td>NaN</td>\n",
       "      <td>NaN</td>\n",
       "      <td>NaN</td>\n",
       "      <td>NaN</td>\n",
       "      <td>NaN</td>\n",
       "      <td>NaN</td>\n",
       "      <td>NaN</td>\n",
       "      <td>NaN</td>\n",
       "      <td>NaN</td>\n",
       "      <td>NaN</td>\n",
       "      <td>NaN</td>\n",
       "      <td>NaN</td>\n",
       "      <td>NaN</td>\n",
       "      <td>NaN</td>\n",
       "      <td>NaN</td>\n",
       "      <td>NaN</td>\n",
       "      <td>NaN</td>\n",
       "      <td>NaN</td>\n",
       "      <td>NaN</td>\n",
       "      <td>NaN</td>\n",
       "      <td>NaN</td>\n",
       "      <td>NaN</td>\n",
       "      <td>NaN</td>\n",
       "      <td>NaN</td>\n",
       "      <td>NaN</td>\n",
       "      <td>NaN</td>\n",
       "    </tr>\n",
       "    <tr>\n",
       "      <th>120584215</th>\n",
       "      <td>NaN</td>\n",
       "      <td>NaN</td>\n",
       "      <td>NaN</td>\n",
       "      <td>2022-12-31</td>\n",
       "      <td>NaN</td>\n",
       "      <td>NaN</td>\n",
       "      <td>NaN</td>\n",
       "      <td>NaN</td>\n",
       "      <td>NaN</td>\n",
       "      <td>NaN</td>\n",
       "      <td>NaN</td>\n",
       "      <td>NaN</td>\n",
       "      <td>NaN</td>\n",
       "      <td>NaN</td>\n",
       "      <td>NaN</td>\n",
       "      <td>NaN</td>\n",
       "      <td>NaN</td>\n",
       "      <td>NaN</td>\n",
       "      <td>NaN</td>\n",
       "      <td>NaN</td>\n",
       "      <td>NaN</td>\n",
       "      <td>NaN</td>\n",
       "      <td>NaN</td>\n",
       "      <td>NaN</td>\n",
       "      <td>NaN</td>\n",
       "      <td>NaN</td>\n",
       "      <td>NaN</td>\n",
       "      <td>NaN</td>\n",
       "      <td>NaN</td>\n",
       "      <td>NaN</td>\n",
       "      <td>NaN</td>\n",
       "      <td>NaN</td>\n",
       "    </tr>\n",
       "    <tr>\n",
       "      <th>818961390</th>\n",
       "      <td>NaN</td>\n",
       "      <td>NaN</td>\n",
       "      <td>NaN</td>\n",
       "      <td>2022-12-31</td>\n",
       "      <td>NaN</td>\n",
       "      <td>NaN</td>\n",
       "      <td>NaN</td>\n",
       "      <td>NaN</td>\n",
       "      <td>NaN</td>\n",
       "      <td>NaN</td>\n",
       "      <td>NaN</td>\n",
       "      <td>NaN</td>\n",
       "      <td>NaN</td>\n",
       "      <td>NaN</td>\n",
       "      <td>NaN</td>\n",
       "      <td>NaN</td>\n",
       "      <td>NaN</td>\n",
       "      <td>NaN</td>\n",
       "      <td>NaN</td>\n",
       "      <td>NaN</td>\n",
       "      <td>NaN</td>\n",
       "      <td>NaN</td>\n",
       "      <td>NaN</td>\n",
       "      <td>NaN</td>\n",
       "      <td>NaN</td>\n",
       "      <td>NaN</td>\n",
       "      <td>NaN</td>\n",
       "      <td>NaN</td>\n",
       "      <td>NaN</td>\n",
       "      <td>NaN</td>\n",
       "      <td>NaN</td>\n",
       "      <td>NaN</td>\n",
       "    </tr>\n",
       "  </tbody>\n",
       "</table>\n",
       "<p>18349 rows × 32 columns</p>\n",
       "</div>"
      ],
      "text/plain": [
       "                 Accident Date  Age at Injury Alternative Dispute Resolution  \\\n",
       "Claim Identifier                                                               \n",
       "363651794                  NaN            NaN                            NaN   \n",
       "209507552                  NaN            NaN                            NaN   \n",
       "970865999                  NaN            NaN                            NaN   \n",
       "807753247                  NaN            NaN                            NaN   \n",
       "395971406                  NaN            NaN                            NaN   \n",
       "...                        ...            ...                            ...   \n",
       "365870975                  NaN            NaN                            NaN   \n",
       "327160035                  NaN            NaN                            NaN   \n",
       "249875936                  NaN            NaN                            NaN   \n",
       "120584215                  NaN            NaN                            NaN   \n",
       "818961390                  NaN            NaN                            NaN   \n",
       "\n",
       "                 Assembly Date Attorney/Representative  Average Weekly Wage  \\\n",
       "Claim Identifier                                                              \n",
       "363651794           2020-01-01                     NaN                  NaN   \n",
       "209507552           2020-01-01                     NaN                  NaN   \n",
       "970865999           2020-01-01                     NaN                  NaN   \n",
       "807753247           2020-01-01                     NaN                  NaN   \n",
       "395971406           2020-01-01                     NaN                  NaN   \n",
       "...                        ...                     ...                  ...   \n",
       "365870975           2022-12-31                     NaN                  NaN   \n",
       "327160035           2022-12-31                     NaN                  NaN   \n",
       "249875936           2022-12-31                     NaN                  NaN   \n",
       "120584215           2022-12-31                     NaN                  NaN   \n",
       "818961390           2022-12-31                     NaN                  NaN   \n",
       "\n",
       "                  Birth Year C-2 Date C-3 Date Carrier Name Carrier Type  \\\n",
       "Claim Identifier                                                           \n",
       "363651794                NaN      NaN      NaN          NaN          NaN   \n",
       "209507552                NaN      NaN      NaN          NaN          NaN   \n",
       "970865999                NaN      NaN      NaN          NaN          NaN   \n",
       "807753247                NaN      NaN      NaN          NaN          NaN   \n",
       "395971406                NaN      NaN      NaN          NaN          NaN   \n",
       "...                      ...      ...      ...          ...          ...   \n",
       "365870975                NaN      NaN      NaN          NaN          NaN   \n",
       "327160035                NaN      NaN      NaN          NaN          NaN   \n",
       "249875936                NaN      NaN      NaN          NaN          NaN   \n",
       "120584215                NaN      NaN      NaN          NaN          NaN   \n",
       "818961390                NaN      NaN      NaN          NaN          NaN   \n",
       "\n",
       "                 Claim Injury Type County of Injury COVID-19 Indicator  \\\n",
       "Claim Identifier                                                         \n",
       "363651794                      NaN              NaN                NaN   \n",
       "209507552                      NaN              NaN                NaN   \n",
       "970865999                      NaN              NaN                NaN   \n",
       "807753247                      NaN              NaN                NaN   \n",
       "395971406                      NaN              NaN                NaN   \n",
       "...                            ...              ...                ...   \n",
       "365870975                      NaN              NaN                NaN   \n",
       "327160035                      NaN              NaN                NaN   \n",
       "249875936                      NaN              NaN                NaN   \n",
       "120584215                      NaN              NaN                NaN   \n",
       "818961390                      NaN              NaN                NaN   \n",
       "\n",
       "                 District Name First Hearing Date Gender  IME-4 Count  \\\n",
       "Claim Identifier                                                        \n",
       "363651794                  NaN                NaN    NaN          NaN   \n",
       "209507552                  NaN                NaN    NaN          NaN   \n",
       "970865999                  NaN                NaN    NaN          NaN   \n",
       "807753247                  NaN                NaN    NaN          NaN   \n",
       "395971406                  NaN                NaN    NaN          NaN   \n",
       "...                        ...                ...    ...          ...   \n",
       "365870975                  NaN                NaN    NaN          NaN   \n",
       "327160035                  NaN                NaN    NaN          NaN   \n",
       "249875936                  NaN                NaN    NaN          NaN   \n",
       "120584215                  NaN                NaN    NaN          NaN   \n",
       "818961390                  NaN                NaN    NaN          NaN   \n",
       "\n",
       "                  Industry Code Industry Code Description Medical Fee Region  \\\n",
       "Claim Identifier                                                               \n",
       "363651794                   NaN                       NaN                NaN   \n",
       "209507552                   NaN                       NaN                NaN   \n",
       "970865999                   NaN                       NaN                NaN   \n",
       "807753247                   NaN                       NaN                NaN   \n",
       "395971406                   NaN                       NaN                NaN   \n",
       "...                         ...                       ...                ...   \n",
       "365870975                   NaN                       NaN                NaN   \n",
       "327160035                   NaN                       NaN                NaN   \n",
       "249875936                   NaN                       NaN                NaN   \n",
       "120584215                   NaN                       NaN                NaN   \n",
       "818961390                   NaN                       NaN                NaN   \n",
       "\n",
       "                  OIICS Nature of Injury Description  \\\n",
       "Claim Identifier                                       \n",
       "363651794                                        NaN   \n",
       "209507552                                        NaN   \n",
       "970865999                                        NaN   \n",
       "807753247                                        NaN   \n",
       "395971406                                        NaN   \n",
       "...                                              ...   \n",
       "365870975                                        NaN   \n",
       "327160035                                        NaN   \n",
       "249875936                                        NaN   \n",
       "120584215                                        NaN   \n",
       "818961390                                        NaN   \n",
       "\n",
       "                  WCIO Cause of Injury Code WCIO Cause of Injury Description  \\\n",
       "Claim Identifier                                                               \n",
       "363651794                               NaN                              NaN   \n",
       "209507552                               NaN                              NaN   \n",
       "970865999                               NaN                              NaN   \n",
       "807753247                               NaN                              NaN   \n",
       "395971406                               NaN                              NaN   \n",
       "...                                     ...                              ...   \n",
       "365870975                               NaN                              NaN   \n",
       "327160035                               NaN                              NaN   \n",
       "249875936                               NaN                              NaN   \n",
       "120584215                               NaN                              NaN   \n",
       "818961390                               NaN                              NaN   \n",
       "\n",
       "                  WCIO Nature of Injury Code  \\\n",
       "Claim Identifier                               \n",
       "363651794                                NaN   \n",
       "209507552                                NaN   \n",
       "970865999                                NaN   \n",
       "807753247                                NaN   \n",
       "395971406                                NaN   \n",
       "...                                      ...   \n",
       "365870975                                NaN   \n",
       "327160035                                NaN   \n",
       "249875936                                NaN   \n",
       "120584215                                NaN   \n",
       "818961390                                NaN   \n",
       "\n",
       "                 WCIO Nature of Injury Description  WCIO Part Of Body Code  \\\n",
       "Claim Identifier                                                             \n",
       "363651794                                      NaN                     NaN   \n",
       "209507552                                      NaN                     NaN   \n",
       "970865999                                      NaN                     NaN   \n",
       "807753247                                      NaN                     NaN   \n",
       "395971406                                      NaN                     NaN   \n",
       "...                                            ...                     ...   \n",
       "365870975                                      NaN                     NaN   \n",
       "327160035                                      NaN                     NaN   \n",
       "249875936                                      NaN                     NaN   \n",
       "120584215                                      NaN                     NaN   \n",
       "818961390                                      NaN                     NaN   \n",
       "\n",
       "                 WCIO Part Of Body Description Zip Code  Agreement Reached  \\\n",
       "Claim Identifier                                                             \n",
       "363651794                                  NaN      NaN                NaN   \n",
       "209507552                                  NaN      NaN                NaN   \n",
       "970865999                                  NaN      NaN                NaN   \n",
       "807753247                                  NaN      NaN                NaN   \n",
       "395971406                                  NaN      NaN                NaN   \n",
       "...                                        ...      ...                ...   \n",
       "365870975                                  NaN      NaN                NaN   \n",
       "327160035                                  NaN      NaN                NaN   \n",
       "249875936                                  NaN      NaN                NaN   \n",
       "120584215                                  NaN      NaN                NaN   \n",
       "818961390                                  NaN      NaN                NaN   \n",
       "\n",
       "                 WCB Decision  Number of Dependents  \n",
       "Claim Identifier                                     \n",
       "363651794                 NaN                   NaN  \n",
       "209507552                 NaN                   NaN  \n",
       "970865999                 NaN                   NaN  \n",
       "807753247                 NaN                   NaN  \n",
       "395971406                 NaN                   NaN  \n",
       "...                       ...                   ...  \n",
       "365870975                 NaN                   NaN  \n",
       "327160035                 NaN                   NaN  \n",
       "249875936                 NaN                   NaN  \n",
       "120584215                 NaN                   NaN  \n",
       "818961390                 NaN                   NaN  \n",
       "\n",
       "[18349 rows x 32 columns]"
      ]
     },
     "execution_count": 136,
     "metadata": {},
     "output_type": "execute_result"
    }
   ],
   "source": [
    "df[df.duplicated()]"
   ]
  },
  {
   "cell_type": "code",
   "execution_count": 137,
   "id": "b675f1ae",
   "metadata": {
    "ExecuteTime": {
     "end_time": "2024-11-07T19:17:12.836251Z",
     "start_time": "2024-11-07T19:17:10.728630Z"
    }
   },
   "outputs": [
    {
     "data": {
      "text/html": [
       "<div>\n",
       "<style scoped>\n",
       "    .dataframe tbody tr th:only-of-type {\n",
       "        vertical-align: middle;\n",
       "    }\n",
       "\n",
       "    .dataframe tbody tr th {\n",
       "        vertical-align: top;\n",
       "    }\n",
       "\n",
       "    .dataframe thead th {\n",
       "        text-align: right;\n",
       "    }\n",
       "</style>\n",
       "<table border=\"1\" class=\"dataframe\">\n",
       "  <thead>\n",
       "    <tr style=\"text-align: right;\">\n",
       "      <th></th>\n",
       "      <th>Accident Date</th>\n",
       "      <th>Age at Injury</th>\n",
       "      <th>Alternative Dispute Resolution</th>\n",
       "      <th>Assembly Date</th>\n",
       "      <th>Attorney/Representative</th>\n",
       "      <th>Average Weekly Wage</th>\n",
       "      <th>Birth Year</th>\n",
       "      <th>C-2 Date</th>\n",
       "      <th>C-3 Date</th>\n",
       "      <th>Carrier Name</th>\n",
       "      <th>Carrier Type</th>\n",
       "      <th>Claim Injury Type</th>\n",
       "      <th>County of Injury</th>\n",
       "      <th>COVID-19 Indicator</th>\n",
       "      <th>District Name</th>\n",
       "      <th>First Hearing Date</th>\n",
       "      <th>Gender</th>\n",
       "      <th>IME-4 Count</th>\n",
       "      <th>Industry Code</th>\n",
       "      <th>Industry Code Description</th>\n",
       "      <th>Medical Fee Region</th>\n",
       "      <th>OIICS Nature of Injury Description</th>\n",
       "      <th>WCIO Cause of Injury Code</th>\n",
       "      <th>WCIO Cause of Injury Description</th>\n",
       "      <th>WCIO Nature of Injury Code</th>\n",
       "      <th>WCIO Nature of Injury Description</th>\n",
       "      <th>WCIO Part Of Body Code</th>\n",
       "      <th>WCIO Part Of Body Description</th>\n",
       "      <th>Zip Code</th>\n",
       "      <th>Agreement Reached</th>\n",
       "      <th>WCB Decision</th>\n",
       "      <th>Number of Dependents</th>\n",
       "    </tr>\n",
       "    <tr>\n",
       "      <th>Claim Identifier</th>\n",
       "      <th></th>\n",
       "      <th></th>\n",
       "      <th></th>\n",
       "      <th></th>\n",
       "      <th></th>\n",
       "      <th></th>\n",
       "      <th></th>\n",
       "      <th></th>\n",
       "      <th></th>\n",
       "      <th></th>\n",
       "      <th></th>\n",
       "      <th></th>\n",
       "      <th></th>\n",
       "      <th></th>\n",
       "      <th></th>\n",
       "      <th></th>\n",
       "      <th></th>\n",
       "      <th></th>\n",
       "      <th></th>\n",
       "      <th></th>\n",
       "      <th></th>\n",
       "      <th></th>\n",
       "      <th></th>\n",
       "      <th></th>\n",
       "      <th></th>\n",
       "      <th></th>\n",
       "      <th></th>\n",
       "      <th></th>\n",
       "      <th></th>\n",
       "      <th></th>\n",
       "      <th></th>\n",
       "      <th></th>\n",
       "    </tr>\n",
       "  </thead>\n",
       "  <tbody>\n",
       "  </tbody>\n",
       "</table>\n",
       "</div>"
      ],
      "text/plain": [
       "Empty DataFrame\n",
       "Columns: [Accident Date, Age at Injury, Alternative Dispute Resolution, Assembly Date, Attorney/Representative, Average Weekly Wage, Birth Year, C-2 Date, C-3 Date, Carrier Name, Carrier Type, Claim Injury Type, County of Injury, COVID-19 Indicator, District Name, First Hearing Date, Gender, IME-4 Count, Industry Code, Industry Code Description, Medical Fee Region, OIICS Nature of Injury Description, WCIO Cause of Injury Code, WCIO Cause of Injury Description, WCIO Nature of Injury Code, WCIO Nature of Injury Description, WCIO Part Of Body Code, WCIO Part Of Body Description, Zip Code, Agreement Reached, WCB Decision, Number of Dependents]\n",
       "Index: []"
      ]
     },
     "execution_count": 137,
     "metadata": {},
     "output_type": "execute_result"
    }
   ],
   "source": [
    "duplicates = df.duplicated(keep=False)\n",
    "\n",
    "non_missing_in_other_columns = df.drop(columns=['Assembly Date']).notna().any(axis=1)\n",
    "\n",
    "\n",
    "df[duplicates & non_missing_in_other_columns]"
   ]
  },
  {
   "cell_type": "code",
   "execution_count": 138,
   "id": "64fe62ef",
   "metadata": {
    "ExecuteTime": {
     "end_time": "2024-11-07T19:17:14.483464Z",
     "start_time": "2024-11-07T19:17:12.839412Z"
    }
   },
   "outputs": [],
   "source": [
    "df = df.drop_duplicates()"
   ]
  },
  {
   "cell_type": "markdown",
   "id": "dbb94605",
   "metadata": {},
   "source": [
    "verify the success"
   ]
  },
  {
   "cell_type": "code",
   "execution_count": 139,
   "id": "76327e35",
   "metadata": {
    "ExecuteTime": {
     "end_time": "2024-11-07T19:17:16.245448Z",
     "start_time": "2024-11-07T19:17:14.819448Z"
    }
   },
   "outputs": [
    {
     "data": {
      "text/html": [
       "<div>\n",
       "<style scoped>\n",
       "    .dataframe tbody tr th:only-of-type {\n",
       "        vertical-align: middle;\n",
       "    }\n",
       "\n",
       "    .dataframe tbody tr th {\n",
       "        vertical-align: top;\n",
       "    }\n",
       "\n",
       "    .dataframe thead th {\n",
       "        text-align: right;\n",
       "    }\n",
       "</style>\n",
       "<table border=\"1\" class=\"dataframe\">\n",
       "  <thead>\n",
       "    <tr style=\"text-align: right;\">\n",
       "      <th></th>\n",
       "      <th>Accident Date</th>\n",
       "      <th>Age at Injury</th>\n",
       "      <th>Alternative Dispute Resolution</th>\n",
       "      <th>Assembly Date</th>\n",
       "      <th>Attorney/Representative</th>\n",
       "      <th>Average Weekly Wage</th>\n",
       "      <th>Birth Year</th>\n",
       "      <th>C-2 Date</th>\n",
       "      <th>C-3 Date</th>\n",
       "      <th>Carrier Name</th>\n",
       "      <th>Carrier Type</th>\n",
       "      <th>Claim Injury Type</th>\n",
       "      <th>County of Injury</th>\n",
       "      <th>COVID-19 Indicator</th>\n",
       "      <th>District Name</th>\n",
       "      <th>First Hearing Date</th>\n",
       "      <th>Gender</th>\n",
       "      <th>IME-4 Count</th>\n",
       "      <th>Industry Code</th>\n",
       "      <th>Industry Code Description</th>\n",
       "      <th>Medical Fee Region</th>\n",
       "      <th>OIICS Nature of Injury Description</th>\n",
       "      <th>WCIO Cause of Injury Code</th>\n",
       "      <th>WCIO Cause of Injury Description</th>\n",
       "      <th>WCIO Nature of Injury Code</th>\n",
       "      <th>WCIO Nature of Injury Description</th>\n",
       "      <th>WCIO Part Of Body Code</th>\n",
       "      <th>WCIO Part Of Body Description</th>\n",
       "      <th>Zip Code</th>\n",
       "      <th>Agreement Reached</th>\n",
       "      <th>WCB Decision</th>\n",
       "      <th>Number of Dependents</th>\n",
       "    </tr>\n",
       "    <tr>\n",
       "      <th>Claim Identifier</th>\n",
       "      <th></th>\n",
       "      <th></th>\n",
       "      <th></th>\n",
       "      <th></th>\n",
       "      <th></th>\n",
       "      <th></th>\n",
       "      <th></th>\n",
       "      <th></th>\n",
       "      <th></th>\n",
       "      <th></th>\n",
       "      <th></th>\n",
       "      <th></th>\n",
       "      <th></th>\n",
       "      <th></th>\n",
       "      <th></th>\n",
       "      <th></th>\n",
       "      <th></th>\n",
       "      <th></th>\n",
       "      <th></th>\n",
       "      <th></th>\n",
       "      <th></th>\n",
       "      <th></th>\n",
       "      <th></th>\n",
       "      <th></th>\n",
       "      <th></th>\n",
       "      <th></th>\n",
       "      <th></th>\n",
       "      <th></th>\n",
       "      <th></th>\n",
       "      <th></th>\n",
       "      <th></th>\n",
       "      <th></th>\n",
       "    </tr>\n",
       "  </thead>\n",
       "  <tbody>\n",
       "  </tbody>\n",
       "</table>\n",
       "</div>"
      ],
      "text/plain": [
       "Empty DataFrame\n",
       "Columns: [Accident Date, Age at Injury, Alternative Dispute Resolution, Assembly Date, Attorney/Representative, Average Weekly Wage, Birth Year, C-2 Date, C-3 Date, Carrier Name, Carrier Type, Claim Injury Type, County of Injury, COVID-19 Indicator, District Name, First Hearing Date, Gender, IME-4 Count, Industry Code, Industry Code Description, Medical Fee Region, OIICS Nature of Injury Description, WCIO Cause of Injury Code, WCIO Cause of Injury Description, WCIO Nature of Injury Code, WCIO Nature of Injury Description, WCIO Part Of Body Code, WCIO Part Of Body Description, Zip Code, Agreement Reached, WCB Decision, Number of Dependents]\n",
       "Index: []"
      ]
     },
     "execution_count": 139,
     "metadata": {},
     "output_type": "execute_result"
    }
   ],
   "source": [
    "df[df.duplicated()]"
   ]
  },
  {
   "cell_type": "markdown",
   "id": "5b9d5072",
   "metadata": {},
   "source": [
    "## 3.2 Feature Engineering\n",
    "\n",
    "<a href=\"#top\">Top &#129033;</a>\n",
    "\n",
    "all transformations must be applied o X_test too"
   ]
  },
  {
   "cell_type": "markdown",
   "id": "7bd7ec93",
   "metadata": {},
   "source": [
    "### 3.2.1 Data Type Conversions\n",
    "\n",
    "even though this is usually feature engineering, it will be useful doing before treating missing values"
   ]
  },
  {
   "cell_type": "code",
   "execution_count": 140,
   "id": "92819176",
   "metadata": {
    "ExecuteTime": {
     "end_time": "2024-11-07T19:17:18.933663Z",
     "start_time": "2024-11-07T19:17:18.930931Z"
    },
    "scrolled": true
   },
   "outputs": [],
   "source": [
    "#df.info()"
   ]
  },
  {
   "cell_type": "code",
   "execution_count": 141,
   "id": "86f67daf",
   "metadata": {
    "ExecuteTime": {
     "end_time": "2024-11-07T19:17:19.823008Z",
     "start_time": "2024-11-07T19:17:19.497698Z"
    }
   },
   "outputs": [],
   "source": [
    "df['Accident Date'] = pd.to_datetime(df['Accident Date'], \n",
    "                                     errors='coerce')\n",
    "\n",
    "df['Assembly Date'] = pd.to_datetime(df['Assembly Date'], \n",
    "                                     errors='coerce')\n",
    "\n",
    "df['C-2 Date'] = pd.to_datetime(df['C-2 Date'], \n",
    "                                errors='coerce')\n",
    "\n",
    "df['C-3 Date'] = pd.to_datetime(df['C-3 Date'], \n",
    "                                errors='coerce')\n",
    "\n",
    "df['First Hearing Date'] = pd.to_datetime(df['First Hearing Date'], \n",
    "                                          errors='coerce')"
   ]
  },
  {
   "cell_type": "code",
   "execution_count": 142,
   "id": "1f05276b",
   "metadata": {
    "ExecuteTime": {
     "end_time": "2024-11-07T19:17:20.354983Z",
     "start_time": "2024-11-07T19:17:20.330049Z"
    },
    "scrolled": false
   },
   "outputs": [
    {
     "data": {
      "text/html": [
       "<div>\n",
       "<style scoped>\n",
       "    .dataframe tbody tr th:only-of-type {\n",
       "        vertical-align: middle;\n",
       "    }\n",
       "\n",
       "    .dataframe tbody tr th {\n",
       "        vertical-align: top;\n",
       "    }\n",
       "\n",
       "    .dataframe thead th {\n",
       "        text-align: right;\n",
       "    }\n",
       "</style>\n",
       "<table border=\"1\" class=\"dataframe\">\n",
       "  <thead>\n",
       "    <tr style=\"text-align: right;\">\n",
       "      <th></th>\n",
       "      <th>Accident Date</th>\n",
       "      <th>Age at Injury</th>\n",
       "      <th>Alternative Dispute Resolution</th>\n",
       "      <th>Assembly Date</th>\n",
       "      <th>Attorney/Representative</th>\n",
       "      <th>Average Weekly Wage</th>\n",
       "      <th>Birth Year</th>\n",
       "      <th>C-2 Date</th>\n",
       "      <th>C-3 Date</th>\n",
       "      <th>Carrier Name</th>\n",
       "      <th>Carrier Type</th>\n",
       "      <th>Claim Injury Type</th>\n",
       "      <th>County of Injury</th>\n",
       "      <th>COVID-19 Indicator</th>\n",
       "      <th>District Name</th>\n",
       "      <th>First Hearing Date</th>\n",
       "      <th>Gender</th>\n",
       "      <th>IME-4 Count</th>\n",
       "      <th>Industry Code</th>\n",
       "      <th>Industry Code Description</th>\n",
       "      <th>Medical Fee Region</th>\n",
       "      <th>OIICS Nature of Injury Description</th>\n",
       "      <th>WCIO Cause of Injury Code</th>\n",
       "      <th>WCIO Cause of Injury Description</th>\n",
       "      <th>WCIO Nature of Injury Code</th>\n",
       "      <th>WCIO Nature of Injury Description</th>\n",
       "      <th>WCIO Part Of Body Code</th>\n",
       "      <th>WCIO Part Of Body Description</th>\n",
       "      <th>Zip Code</th>\n",
       "      <th>Agreement Reached</th>\n",
       "      <th>WCB Decision</th>\n",
       "      <th>Number of Dependents</th>\n",
       "    </tr>\n",
       "    <tr>\n",
       "      <th>Claim Identifier</th>\n",
       "      <th></th>\n",
       "      <th></th>\n",
       "      <th></th>\n",
       "      <th></th>\n",
       "      <th></th>\n",
       "      <th></th>\n",
       "      <th></th>\n",
       "      <th></th>\n",
       "      <th></th>\n",
       "      <th></th>\n",
       "      <th></th>\n",
       "      <th></th>\n",
       "      <th></th>\n",
       "      <th></th>\n",
       "      <th></th>\n",
       "      <th></th>\n",
       "      <th></th>\n",
       "      <th></th>\n",
       "      <th></th>\n",
       "      <th></th>\n",
       "      <th></th>\n",
       "      <th></th>\n",
       "      <th></th>\n",
       "      <th></th>\n",
       "      <th></th>\n",
       "      <th></th>\n",
       "      <th></th>\n",
       "      <th></th>\n",
       "      <th></th>\n",
       "      <th></th>\n",
       "      <th></th>\n",
       "      <th></th>\n",
       "    </tr>\n",
       "  </thead>\n",
       "  <tbody>\n",
       "    <tr>\n",
       "      <th>5393875</th>\n",
       "      <td>2019-12-30</td>\n",
       "      <td>31.0</td>\n",
       "      <td>N</td>\n",
       "      <td>2020-01-01</td>\n",
       "      <td>N</td>\n",
       "      <td>0.00</td>\n",
       "      <td>1988.0</td>\n",
       "      <td>2019-12-31</td>\n",
       "      <td>NaT</td>\n",
       "      <td>NEW HAMPSHIRE INSURANCE CO</td>\n",
       "      <td>1A. PRIVATE</td>\n",
       "      <td>2. NON-COMP</td>\n",
       "      <td>ST. LAWRENCE</td>\n",
       "      <td>N</td>\n",
       "      <td>SYRACUSE</td>\n",
       "      <td>NaT</td>\n",
       "      <td>M</td>\n",
       "      <td>NaN</td>\n",
       "      <td>44.0</td>\n",
       "      <td>RETAIL TRADE</td>\n",
       "      <td>I</td>\n",
       "      <td>NaN</td>\n",
       "      <td>27.0</td>\n",
       "      <td>FROM LIQUID OR GREASE SPILLS</td>\n",
       "      <td>10.0</td>\n",
       "      <td>CONTUSION</td>\n",
       "      <td>62.0</td>\n",
       "      <td>BUTTOCKS</td>\n",
       "      <td>13662</td>\n",
       "      <td>0.0</td>\n",
       "      <td>Not Work Related</td>\n",
       "      <td>1.0</td>\n",
       "    </tr>\n",
       "    <tr>\n",
       "      <th>5393091</th>\n",
       "      <td>2019-08-30</td>\n",
       "      <td>46.0</td>\n",
       "      <td>N</td>\n",
       "      <td>2020-01-01</td>\n",
       "      <td>Y</td>\n",
       "      <td>1745.93</td>\n",
       "      <td>1973.0</td>\n",
       "      <td>2020-01-01</td>\n",
       "      <td>2020-01-14</td>\n",
       "      <td>ZURICH AMERICAN INSURANCE CO</td>\n",
       "      <td>1A. PRIVATE</td>\n",
       "      <td>4. TEMPORARY</td>\n",
       "      <td>WYOMING</td>\n",
       "      <td>N</td>\n",
       "      <td>ROCHESTER</td>\n",
       "      <td>2020-02-21</td>\n",
       "      <td>F</td>\n",
       "      <td>4.0</td>\n",
       "      <td>23.0</td>\n",
       "      <td>CONSTRUCTION</td>\n",
       "      <td>I</td>\n",
       "      <td>NaN</td>\n",
       "      <td>97.0</td>\n",
       "      <td>REPETITIVE MOTION</td>\n",
       "      <td>49.0</td>\n",
       "      <td>SPRAIN OR TEAR</td>\n",
       "      <td>38.0</td>\n",
       "      <td>SHOULDER(S)</td>\n",
       "      <td>14569</td>\n",
       "      <td>1.0</td>\n",
       "      <td>Not Work Related</td>\n",
       "      <td>4.0</td>\n",
       "    </tr>\n",
       "  </tbody>\n",
       "</table>\n",
       "</div>"
      ],
      "text/plain": [
       "                 Accident Date  Age at Injury Alternative Dispute Resolution  \\\n",
       "Claim Identifier                                                               \n",
       "5393875             2019-12-30           31.0                              N   \n",
       "5393091             2019-08-30           46.0                              N   \n",
       "\n",
       "                 Assembly Date Attorney/Representative  Average Weekly Wage  \\\n",
       "Claim Identifier                                                              \n",
       "5393875             2020-01-01                       N                 0.00   \n",
       "5393091             2020-01-01                       Y              1745.93   \n",
       "\n",
       "                  Birth Year   C-2 Date   C-3 Date  \\\n",
       "Claim Identifier                                     \n",
       "5393875               1988.0 2019-12-31        NaT   \n",
       "5393091               1973.0 2020-01-01 2020-01-14   \n",
       "\n",
       "                                  Carrier Name Carrier Type Claim Injury Type  \\\n",
       "Claim Identifier                                                                \n",
       "5393875             NEW HAMPSHIRE INSURANCE CO  1A. PRIVATE       2. NON-COMP   \n",
       "5393091           ZURICH AMERICAN INSURANCE CO  1A. PRIVATE      4. TEMPORARY   \n",
       "\n",
       "                 County of Injury COVID-19 Indicator District Name  \\\n",
       "Claim Identifier                                                     \n",
       "5393875              ST. LAWRENCE                  N      SYRACUSE   \n",
       "5393091                   WYOMING                  N     ROCHESTER   \n",
       "\n",
       "                 First Hearing Date Gender  IME-4 Count  Industry Code  \\\n",
       "Claim Identifier                                                         \n",
       "5393875                         NaT      M          NaN           44.0   \n",
       "5393091                  2020-02-21      F          4.0           23.0   \n",
       "\n",
       "                 Industry Code Description Medical Fee Region  \\\n",
       "Claim Identifier                                                \n",
       "5393875                       RETAIL TRADE                  I   \n",
       "5393091                       CONSTRUCTION                  I   \n",
       "\n",
       "                  OIICS Nature of Injury Description  \\\n",
       "Claim Identifier                                       \n",
       "5393875                                          NaN   \n",
       "5393091                                          NaN   \n",
       "\n",
       "                  WCIO Cause of Injury Code WCIO Cause of Injury Description  \\\n",
       "Claim Identifier                                                               \n",
       "5393875                                27.0     FROM LIQUID OR GREASE SPILLS   \n",
       "5393091                                97.0                REPETITIVE MOTION   \n",
       "\n",
       "                  WCIO Nature of Injury Code  \\\n",
       "Claim Identifier                               \n",
       "5393875                                 10.0   \n",
       "5393091                                 49.0   \n",
       "\n",
       "                 WCIO Nature of Injury Description  WCIO Part Of Body Code  \\\n",
       "Claim Identifier                                                             \n",
       "5393875                                  CONTUSION                    62.0   \n",
       "5393091                             SPRAIN OR TEAR                    38.0   \n",
       "\n",
       "                 WCIO Part Of Body Description Zip Code  Agreement Reached  \\\n",
       "Claim Identifier                                                             \n",
       "5393875                               BUTTOCKS    13662                0.0   \n",
       "5393091                            SHOULDER(S)    14569                1.0   \n",
       "\n",
       "                      WCB Decision  Number of Dependents  \n",
       "Claim Identifier                                          \n",
       "5393875           Not Work Related                   1.0  \n",
       "5393091           Not Work Related                   4.0  "
      ]
     },
     "execution_count": 142,
     "metadata": {},
     "output_type": "execute_result"
    }
   ],
   "source": [
    "df.head(2)"
   ]
  },
  {
   "cell_type": "markdown",
   "id": "698388f8",
   "metadata": {},
   "source": [
    "### 3.2.2 Encoding\n",
    "\n",
    "<a href=\"#top\">Top &#129033;</a>"
   ]
  },
  {
   "cell_type": "markdown",
   "id": "2830ac54",
   "metadata": {},
   "source": [
    "**Alternative Dispute Resolution**\n",
    "\n",
    "encode ['N' nan 'Y' 'U'] n -> 0, y -> 1, u -> 2"
   ]
  },
  {
   "cell_type": "code",
   "execution_count": 143,
   "id": "373fbb0a",
   "metadata": {
    "ExecuteTime": {
     "end_time": "2024-11-07T19:17:22.591658Z",
     "start_time": "2024-11-07T19:17:22.588926Z"
    }
   },
   "outputs": [],
   "source": [
    "# freq = df['Alternative Dispute Resolution'].value_counts()\n",
    "# freq"
   ]
  },
  {
   "cell_type": "code",
   "execution_count": 144,
   "id": "185b8037",
   "metadata": {
    "ExecuteTime": {
     "end_time": "2024-11-07T19:17:22.850122Z",
     "start_time": "2024-11-07T19:17:22.847284Z"
    }
   },
   "outputs": [],
   "source": [
    "# df['Alternative Dispute Resolution'] = df['Alternative Dispute Resolution'].map(freq)"
   ]
  },
  {
   "cell_type": "markdown",
   "id": "eac218a3",
   "metadata": {},
   "source": [
    "<div style=\"background-color: #f8d7da; color: #721c24; border: 1px solid #f5c6cb; padding: 10px; border-radius: 5px;\">\n",
    "    <strong>Change Alert: </strong> Different Encoding\n",
    "</div>\n"
   ]
  },
  {
   "cell_type": "code",
   "execution_count": 145,
   "id": "ca91b8f2",
   "metadata": {
    "ExecuteTime": {
     "end_time": "2024-11-07T19:17:23.940099Z",
     "start_time": "2024-11-07T19:17:23.936884Z"
    }
   },
   "outputs": [],
   "source": [
    "from sklearn.preprocessing import OrdinalEncoder\n",
    "encoder = OrdinalEncoder(categories=[['N', 'Y', 'U']])"
   ]
  },
  {
   "cell_type": "code",
   "execution_count": 149,
   "id": "cc4ebb26",
   "metadata": {
    "ExecuteTime": {
     "end_time": "2024-11-07T19:17:46.148556Z",
     "start_time": "2024-11-07T19:17:46.006428Z"
    }
   },
   "outputs": [],
   "source": [
    "df['Alternative Dispute Resolution'] = encoder.fit_transform(df[['Alternative Dispute Resolution']])"
   ]
  },
  {
   "cell_type": "markdown",
   "id": "295f9a46",
   "metadata": {},
   "source": [
    "**Attorney/Representative**\n",
    "\n",
    "['N' 'Y' nan] encode 0/1"
   ]
  },
  {
   "cell_type": "code",
   "execution_count": 150,
   "id": "ae82e49d",
   "metadata": {
    "ExecuteTime": {
     "end_time": "2024-11-07T19:17:47.175599Z",
     "start_time": "2024-11-07T19:17:47.140013Z"
    }
   },
   "outputs": [
    {
     "data": {
      "text/plain": [
       "Attorney/Representative\n",
       "N    371886\n",
       "Y    170414\n",
       "Name: count, dtype: int64"
      ]
     },
     "execution_count": 150,
     "metadata": {},
     "output_type": "execute_result"
    }
   ],
   "source": [
    "df['Attorney/Representative'].value_counts()"
   ]
  },
  {
   "cell_type": "code",
   "execution_count": 151,
   "id": "bd0eaea9",
   "metadata": {
    "ExecuteTime": {
     "end_time": "2024-11-07T19:17:48.261650Z",
     "start_time": "2024-11-07T19:17:48.064332Z"
    }
   },
   "outputs": [],
   "source": [
    "df['Attorney/Representative'] = df['Attorney/Representative'].replace({'N': 0, 'Y': 1})"
   ]
  },
  {
   "cell_type": "markdown",
   "id": "cb654b3a",
   "metadata": {},
   "source": [
    "**Carrier Name**"
   ]
  },
  {
   "cell_type": "code",
   "execution_count": 152,
   "id": "cf51a3d7",
   "metadata": {
    "ExecuteTime": {
     "end_time": "2024-11-07T19:17:49.683332Z",
     "start_time": "2024-11-07T19:17:49.632607Z"
    }
   },
   "outputs": [
    {
     "data": {
      "text/plain": [
       "2012"
      ]
     },
     "execution_count": 152,
     "metadata": {},
     "output_type": "execute_result"
    }
   ],
   "source": [
    "df['Carrier Name'].nunique()"
   ]
  },
  {
   "cell_type": "markdown",
   "id": "844f6cdc",
   "metadata": {},
   "source": [
    "frequency encoder"
   ]
  },
  {
   "cell_type": "code",
   "execution_count": 153,
   "id": "64ef4ab4",
   "metadata": {
    "ExecuteTime": {
     "end_time": "2024-11-07T19:17:51.727964Z",
     "start_time": "2024-11-07T19:17:51.668413Z"
    }
   },
   "outputs": [],
   "source": [
    "freq = df['Carrier Name'].value_counts()"
   ]
  },
  {
   "cell_type": "code",
   "execution_count": 154,
   "id": "33453430",
   "metadata": {
    "ExecuteTime": {
     "end_time": "2024-11-07T19:17:52.047113Z",
     "start_time": "2024-11-07T19:17:51.996868Z"
    }
   },
   "outputs": [],
   "source": [
    "df['Carrier Name'] = df['Carrier Name'].map(freq)"
   ]
  },
  {
   "cell_type": "markdown",
   "id": "3a29e89b",
   "metadata": {},
   "source": [
    "**Carrier Type**\n",
    "\n",
    "encode (8 unique values)"
   ]
  },
  {
   "cell_type": "code",
   "execution_count": 155,
   "id": "04d08ae9",
   "metadata": {
    "ExecuteTime": {
     "end_time": "2024-11-07T19:17:52.693303Z",
     "start_time": "2024-11-07T19:17:52.640341Z"
    }
   },
   "outputs": [
    {
     "data": {
      "text/plain": [
       "Carrier Type\n",
       "1A. PRIVATE                                    267627\n",
       "3A. SELF PUBLIC                                116432\n",
       "2A. SIF                                        105552\n",
       "4A. SELF PRIVATE                                50280\n",
       "UNKNOWN                                          1494\n",
       "5D. SPECIAL FUND - UNKNOWN                        910\n",
       "5A. SPECIAL FUND - CONS. COMM. (SECT. 25-A)         3\n",
       "5C. SPECIAL FUND - POI CARRIER WCB MENANDS          2\n",
       "Name: count, dtype: int64"
      ]
     },
     "execution_count": 155,
     "metadata": {},
     "output_type": "execute_result"
    }
   ],
   "source": [
    "freq = df['Carrier Type'].value_counts()\n",
    "freq"
   ]
  },
  {
   "cell_type": "code",
   "execution_count": 156,
   "id": "3eee24cd",
   "metadata": {
    "ExecuteTime": {
     "end_time": "2024-11-07T19:17:53.290193Z",
     "start_time": "2024-11-07T19:17:53.247694Z"
    }
   },
   "outputs": [],
   "source": [
    "df['Carrier Type'] = df['Carrier Type'].map(freq)"
   ]
  },
  {
   "cell_type": "markdown",
   "id": "946e7f5f",
   "metadata": {},
   "source": [
    "**County of Injury**\n",
    "\n",
    "probably too many to encode (?) --> freq encoding"
   ]
  },
  {
   "cell_type": "code",
   "execution_count": 157,
   "id": "f372ef26",
   "metadata": {
    "ExecuteTime": {
     "end_time": "2024-11-07T19:17:54.378952Z",
     "start_time": "2024-11-07T19:17:54.340472Z"
    }
   },
   "outputs": [
    {
     "data": {
      "text/plain": [
       "63"
      ]
     },
     "execution_count": 157,
     "metadata": {},
     "output_type": "execute_result"
    }
   ],
   "source": [
    "df['County of Injury'].nunique()"
   ]
  },
  {
   "cell_type": "code",
   "execution_count": 158,
   "id": "9d987db2",
   "metadata": {
    "ExecuteTime": {
     "end_time": "2024-11-07T19:17:54.715376Z",
     "start_time": "2024-11-07T19:17:54.665478Z"
    }
   },
   "outputs": [],
   "source": [
    "freq = df['County of Injury'].value_counts()"
   ]
  },
  {
   "cell_type": "code",
   "execution_count": 159,
   "id": "fe48ea14",
   "metadata": {
    "ExecuteTime": {
     "end_time": "2024-11-07T19:17:55.173083Z",
     "start_time": "2024-11-07T19:17:55.129219Z"
    }
   },
   "outputs": [],
   "source": [
    "df['County of Injury'] = df['County of Injury'].map(freq)"
   ]
  },
  {
   "cell_type": "markdown",
   "id": "f62e7f0c",
   "metadata": {},
   "source": [
    "**COVID-19 Indicator**\n",
    "\n",
    "binary encoding"
   ]
  },
  {
   "cell_type": "code",
   "execution_count": 160,
   "id": "b4840271",
   "metadata": {
    "ExecuteTime": {
     "end_time": "2024-11-07T19:17:56.909963Z",
     "start_time": "2024-11-07T19:17:56.874654Z"
    }
   },
   "outputs": [
    {
     "data": {
      "text/plain": [
       "COVID-19 Indicator\n",
       "N    515995\n",
       "Y     26305\n",
       "Name: count, dtype: int64"
      ]
     },
     "execution_count": 160,
     "metadata": {},
     "output_type": "execute_result"
    }
   ],
   "source": [
    "df['COVID-19 Indicator'].value_counts()"
   ]
  },
  {
   "cell_type": "code",
   "execution_count": 161,
   "id": "5ec0c2b3",
   "metadata": {
    "ExecuteTime": {
     "end_time": "2024-11-07T19:17:57.731855Z",
     "start_time": "2024-11-07T19:17:57.541221Z"
    }
   },
   "outputs": [],
   "source": [
    "df['COVID-19 Indicator'] = df['COVID-19 Indicator'].replace({'N': 0, 'Y': 1})"
   ]
  },
  {
   "cell_type": "markdown",
   "id": "f0f3cb7a",
   "metadata": {},
   "source": [
    "**District Name**\n",
    "\n",
    "encode (8 uniques)"
   ]
  },
  {
   "cell_type": "code",
   "execution_count": 162,
   "id": "43049242",
   "metadata": {
    "ExecuteTime": {
     "end_time": "2024-11-07T19:17:59.812700Z",
     "start_time": "2024-11-07T19:17:59.760631Z"
    }
   },
   "outputs": [
    {
     "data": {
      "text/plain": [
       "District Name\n",
       "NYC           256223\n",
       "ALBANY         80774\n",
       "HAUPPAUGE      58185\n",
       "BUFFALO        43130\n",
       "SYRACUSE       42221\n",
       "ROCHESTER      38422\n",
       "BINGHAMTON     19750\n",
       "STATEWIDE       3595\n",
       "Name: count, dtype: int64"
      ]
     },
     "execution_count": 162,
     "metadata": {},
     "output_type": "execute_result"
    }
   ],
   "source": [
    "freq = df['District Name'].value_counts()\n",
    "freq"
   ]
  },
  {
   "cell_type": "code",
   "execution_count": 163,
   "id": "779944c1",
   "metadata": {
    "ExecuteTime": {
     "end_time": "2024-11-07T19:18:00.198035Z",
     "start_time": "2024-11-07T19:18:00.155749Z"
    }
   },
   "outputs": [],
   "source": [
    "df['District Name'] = df['District Name'].map(freq)"
   ]
  },
  {
   "cell_type": "markdown",
   "id": "9e7f1f74",
   "metadata": {},
   "source": [
    "**Gender**\n",
    "\n",
    "encode ['M' 'F' nan 'U' 'X']"
   ]
  },
  {
   "cell_type": "code",
   "execution_count": 165,
   "id": "0d703d99",
   "metadata": {
    "ExecuteTime": {
     "end_time": "2024-11-07T19:18:16.697526Z",
     "start_time": "2024-11-07T19:18:16.661775Z"
    }
   },
   "outputs": [
    {
     "data": {
      "text/plain": [
       "Gender\n",
       "M    315791\n",
       "F    222124\n",
       "U      4343\n",
       "X        42\n",
       "Name: count, dtype: int64"
      ]
     },
     "execution_count": 165,
     "metadata": {},
     "output_type": "execute_result"
    }
   ],
   "source": [
    "df['Gender'].value_counts()"
   ]
  },
  {
   "cell_type": "code",
   "execution_count": 166,
   "id": "8b0ffab9",
   "metadata": {
    "ExecuteTime": {
     "end_time": "2024-11-07T19:18:27.565331Z",
     "start_time": "2024-11-07T19:18:27.539635Z"
    }
   },
   "outputs": [],
   "source": [
    "df['Gender'] = df['Gender'].map({\n",
    "    'M': 0,  # Male\n",
    "    'F': 1,  # Female\n",
    "    'U': 2,  # Unknown \n",
    "    'X': 2   # Other \n",
    "})"
   ]
  },
  {
   "cell_type": "markdown",
   "id": "42a1373b",
   "metadata": {},
   "source": [
    "**Medical Fee Region**\n",
    "\n",
    "encode"
   ]
  },
  {
   "cell_type": "code",
   "execution_count": 167,
   "id": "5cb48130",
   "metadata": {
    "ExecuteTime": {
     "end_time": "2024-11-07T19:18:29.403413Z",
     "start_time": "2024-11-07T19:18:29.357062Z"
    },
    "scrolled": false
   },
   "outputs": [
    {
     "data": {
      "text/plain": [
       "Medical Fee Region\n",
       "IV     261253\n",
       "I      128340\n",
       "II      83179\n",
       "III     51975\n",
       "UK      17553\n",
       "Name: count, dtype: int64"
      ]
     },
     "execution_count": 167,
     "metadata": {},
     "output_type": "execute_result"
    }
   ],
   "source": [
    "freq = df['Medical Fee Region'].value_counts()\n",
    "freq"
   ]
  },
  {
   "cell_type": "code",
   "execution_count": 168,
   "id": "1ef4622c",
   "metadata": {
    "ExecuteTime": {
     "end_time": "2024-11-07T19:18:29.962823Z",
     "start_time": "2024-11-07T19:18:29.922983Z"
    }
   },
   "outputs": [],
   "source": [
    "df['Medical Fee Region'] = df['Medical Fee Region'].map(freq)"
   ]
  },
  {
   "cell_type": "markdown",
   "id": "dbed014f",
   "metadata": {},
   "source": [
    "### 3.2.3 Other Transformations\n",
    "\n",
    "<a href=\"#top\">Top &#129033;</a>"
   ]
  },
  {
   "cell_type": "markdown",
   "id": "27a7177e",
   "metadata": {},
   "source": [
    "**Accident Date**\n",
    "\n",
    "transform into year (maybe month and day too)"
   ]
  },
  {
   "cell_type": "code",
   "execution_count": 169,
   "id": "d3f57a60",
   "metadata": {
    "ExecuteTime": {
     "end_time": "2024-11-07T19:18:30.822608Z",
     "start_time": "2024-11-07T19:18:30.749086Z"
    }
   },
   "outputs": [],
   "source": [
    "df['Accident Year'] = df['Accident Date'].dt.year\n",
    "df['Accident Month'] = df['Accident Date'].dt.month\n",
    "df['Accident Day'] = df['Accident Date'].dt.day"
   ]
  },
  {
   "cell_type": "markdown",
   "id": "71edbfc0",
   "metadata": {},
   "source": [
    "**Assembly Date**\n",
    "\n",
    "transform into year (maybe month and day too)"
   ]
  },
  {
   "cell_type": "code",
   "execution_count": 170,
   "id": "964f0c70",
   "metadata": {
    "ExecuteTime": {
     "end_time": "2024-11-07T19:18:31.319855Z",
     "start_time": "2024-11-07T19:18:31.260016Z"
    }
   },
   "outputs": [],
   "source": [
    "df['Assembly Year'] = df['Assembly Date'].dt.year\n",
    "df['Assembly Month'] = df['Assembly Date'].dt.month\n",
    "df['Assembly Day'] = df['Assembly Date'].dt.day"
   ]
  },
  {
   "cell_type": "markdown",
   "id": "49a0ade5",
   "metadata": {},
   "source": [
    "**C-2 Date**\n",
    "\n",
    "transform into year (maybe month and day too)"
   ]
  },
  {
   "cell_type": "code",
   "execution_count": 171,
   "id": "0295d577",
   "metadata": {
    "ExecuteTime": {
     "end_time": "2024-11-07T19:18:31.845846Z",
     "start_time": "2024-11-07T19:18:31.772451Z"
    }
   },
   "outputs": [],
   "source": [
    "df['C-2 Year'] = df['C-2 Date'].dt.year\n",
    "df['C-2 Month'] = df['C-2 Date'].dt.month\n",
    "df['C-2 Day'] = df['C-2 Date'].dt.day"
   ]
  },
  {
   "cell_type": "markdown",
   "id": "627f4863",
   "metadata": {},
   "source": [
    "**Zip Code**\n",
    "\n",
    "transform non-numeric into missing values"
   ]
  },
  {
   "cell_type": "code",
   "execution_count": 172,
   "id": "692f48ba",
   "metadata": {
    "ExecuteTime": {
     "end_time": "2024-11-07T19:18:32.463093Z",
     "start_time": "2024-11-07T19:18:32.320026Z"
    }
   },
   "outputs": [],
   "source": [
    "df['Zip Code'] = df['Zip Code'].apply(lambda x: np.nan \n",
    "                                      if not str(x).isnumeric() else x)"
   ]
  },
  {
   "cell_type": "markdown",
   "id": "a7e81d58",
   "metadata": {},
   "source": [
    "**Columns not in test data**"
   ]
  },
  {
   "cell_type": "code",
   "execution_count": 173,
   "id": "55a9e8f0",
   "metadata": {
    "ExecuteTime": {
     "end_time": "2024-11-07T19:18:32.998548Z",
     "start_time": "2024-11-07T19:18:32.811836Z"
    }
   },
   "outputs": [],
   "source": [
    "df = df.drop(['Agreement Reached', 'WCB Decision'], axis = 1)"
   ]
  },
  {
   "cell_type": "markdown",
   "id": "e583ebf2",
   "metadata": {},
   "source": [
    "**Drop Transformed Columns**"
   ]
  },
  {
   "cell_type": "code",
   "execution_count": 174,
   "id": "ec4b13d7",
   "metadata": {
    "ExecuteTime": {
     "end_time": "2024-11-07T19:18:33.406326Z",
     "start_time": "2024-11-07T19:18:33.284456Z"
    }
   },
   "outputs": [],
   "source": [
    "df = df.drop(['Accident Date', 'Assembly Date', 'C-2 Date'], axis = 1)"
   ]
  },
  {
   "cell_type": "markdown",
   "id": "6b59d8c1",
   "metadata": {},
   "source": [
    "### 3.2.4 Unique Feature-Pair Analysis \n",
    "\n",
    "<a href=\"#top\">Top &#129033;</a>\n",
    "\n",
    "save codes and descriptions in dataframes, for later consultation (if needed)"
   ]
  },
  {
   "cell_type": "code",
   "execution_count": 175,
   "id": "41b80d8d",
   "metadata": {
    "ExecuteTime": {
     "end_time": "2024-11-07T19:18:33.851865Z",
     "start_time": "2024-11-07T19:18:33.762504Z"
    }
   },
   "outputs": [
    {
     "data": {
      "text/html": [
       "<div>\n",
       "<style scoped>\n",
       "    .dataframe tbody tr th:only-of-type {\n",
       "        vertical-align: middle;\n",
       "    }\n",
       "\n",
       "    .dataframe tbody tr th {\n",
       "        vertical-align: top;\n",
       "    }\n",
       "\n",
       "    .dataframe thead th {\n",
       "        text-align: right;\n",
       "    }\n",
       "</style>\n",
       "<table border=\"1\" class=\"dataframe\">\n",
       "  <thead>\n",
       "    <tr style=\"text-align: right;\">\n",
       "      <th></th>\n",
       "      <th>WCIO Cause of Injury Description</th>\n",
       "    </tr>\n",
       "    <tr>\n",
       "      <th>WCIO Cause of Injury Code</th>\n",
       "      <th></th>\n",
       "    </tr>\n",
       "  </thead>\n",
       "  <tbody>\n",
       "    <tr>\n",
       "      <th>27.0</th>\n",
       "      <td>FROM LIQUID OR GREASE SPILLS</td>\n",
       "    </tr>\n",
       "    <tr>\n",
       "      <th>97.0</th>\n",
       "      <td>REPETITIVE MOTION</td>\n",
       "    </tr>\n",
       "  </tbody>\n",
       "</table>\n",
       "</div>"
      ],
      "text/plain": [
       "                          WCIO Cause of Injury Description\n",
       "WCIO Cause of Injury Code                                 \n",
       "27.0                          FROM LIQUID OR GREASE SPILLS\n",
       "97.0                                     REPETITIVE MOTION"
      ]
     },
     "execution_count": 175,
     "metadata": {},
     "output_type": "execute_result"
    }
   ],
   "source": [
    "injury_cause = df[['WCIO Cause of Injury Code', 'WCIO Cause of Injury Description']].drop_duplicates()\n",
    "\n",
    "injury_cause_df = injury_cause.set_index('WCIO Cause of Injury Code')\n",
    "\n",
    "injury_cause_df.head(2)"
   ]
  },
  {
   "cell_type": "code",
   "execution_count": 176,
   "id": "2c62f34d",
   "metadata": {
    "ExecuteTime": {
     "end_time": "2024-11-07T19:18:34.211078Z",
     "start_time": "2024-11-07T19:18:34.126418Z"
    }
   },
   "outputs": [
    {
     "data": {
      "text/html": [
       "<div>\n",
       "<style scoped>\n",
       "    .dataframe tbody tr th:only-of-type {\n",
       "        vertical-align: middle;\n",
       "    }\n",
       "\n",
       "    .dataframe tbody tr th {\n",
       "        vertical-align: top;\n",
       "    }\n",
       "\n",
       "    .dataframe thead th {\n",
       "        text-align: right;\n",
       "    }\n",
       "</style>\n",
       "<table border=\"1\" class=\"dataframe\">\n",
       "  <thead>\n",
       "    <tr style=\"text-align: right;\">\n",
       "      <th></th>\n",
       "      <th>WCIO Nature of Injury Description</th>\n",
       "    </tr>\n",
       "    <tr>\n",
       "      <th>WCIO Nature of Injury Code</th>\n",
       "      <th></th>\n",
       "    </tr>\n",
       "  </thead>\n",
       "  <tbody>\n",
       "    <tr>\n",
       "      <th>10.0</th>\n",
       "      <td>CONTUSION</td>\n",
       "    </tr>\n",
       "    <tr>\n",
       "      <th>49.0</th>\n",
       "      <td>SPRAIN OR TEAR</td>\n",
       "    </tr>\n",
       "  </tbody>\n",
       "</table>\n",
       "</div>"
      ],
      "text/plain": [
       "                           WCIO Nature of Injury Description\n",
       "WCIO Nature of Injury Code                                  \n",
       "10.0                                               CONTUSION\n",
       "49.0                                          SPRAIN OR TEAR"
      ]
     },
     "execution_count": 176,
     "metadata": {},
     "output_type": "execute_result"
    }
   ],
   "source": [
    "injury_nature = df[['WCIO Nature of Injury Code', 'WCIO Nature of Injury Description']].drop_duplicates()\n",
    "\n",
    "injury_nature_df = injury_nature.set_index('WCIO Nature of Injury Code')\n",
    "\n",
    "injury_nature_df.head(2)"
   ]
  },
  {
   "cell_type": "code",
   "execution_count": 177,
   "id": "9850453f",
   "metadata": {
    "ExecuteTime": {
     "end_time": "2024-11-07T19:18:35.842781Z",
     "start_time": "2024-11-07T19:18:35.759209Z"
    }
   },
   "outputs": [
    {
     "data": {
      "text/html": [
       "<div>\n",
       "<style scoped>\n",
       "    .dataframe tbody tr th:only-of-type {\n",
       "        vertical-align: middle;\n",
       "    }\n",
       "\n",
       "    .dataframe tbody tr th {\n",
       "        vertical-align: top;\n",
       "    }\n",
       "\n",
       "    .dataframe thead th {\n",
       "        text-align: right;\n",
       "    }\n",
       "</style>\n",
       "<table border=\"1\" class=\"dataframe\">\n",
       "  <thead>\n",
       "    <tr style=\"text-align: right;\">\n",
       "      <th></th>\n",
       "      <th>WCIO Part Of Body Description</th>\n",
       "    </tr>\n",
       "    <tr>\n",
       "      <th>WCIO Part Of Body Code</th>\n",
       "      <th></th>\n",
       "    </tr>\n",
       "  </thead>\n",
       "  <tbody>\n",
       "    <tr>\n",
       "      <th>62.0</th>\n",
       "      <td>BUTTOCKS</td>\n",
       "    </tr>\n",
       "    <tr>\n",
       "      <th>38.0</th>\n",
       "      <td>SHOULDER(S)</td>\n",
       "    </tr>\n",
       "  </tbody>\n",
       "</table>\n",
       "</div>"
      ],
      "text/plain": [
       "                       WCIO Part Of Body Description\n",
       "WCIO Part Of Body Code                              \n",
       "62.0                                        BUTTOCKS\n",
       "38.0                                     SHOULDER(S)"
      ]
     },
     "execution_count": 177,
     "metadata": {},
     "output_type": "execute_result"
    }
   ],
   "source": [
    "body_code = df[['WCIO Part Of Body Code', 'WCIO Part Of Body Description']].drop_duplicates()\n",
    "\n",
    "body_code_df = body_code.set_index('WCIO Part Of Body Code')\n",
    "\n",
    "\n",
    "body_code_df.head(2)"
   ]
  },
  {
   "cell_type": "code",
   "execution_count": 178,
   "id": "b26596db",
   "metadata": {
    "ExecuteTime": {
     "end_time": "2024-11-07T19:18:36.526491Z",
     "start_time": "2024-11-07T19:18:36.440137Z"
    }
   },
   "outputs": [
    {
     "data": {
      "text/html": [
       "<div>\n",
       "<style scoped>\n",
       "    .dataframe tbody tr th:only-of-type {\n",
       "        vertical-align: middle;\n",
       "    }\n",
       "\n",
       "    .dataframe tbody tr th {\n",
       "        vertical-align: top;\n",
       "    }\n",
       "\n",
       "    .dataframe thead th {\n",
       "        text-align: right;\n",
       "    }\n",
       "</style>\n",
       "<table border=\"1\" class=\"dataframe\">\n",
       "  <thead>\n",
       "    <tr style=\"text-align: right;\">\n",
       "      <th></th>\n",
       "      <th>Industry Code Description</th>\n",
       "    </tr>\n",
       "    <tr>\n",
       "      <th>Industry Code</th>\n",
       "      <th></th>\n",
       "    </tr>\n",
       "  </thead>\n",
       "  <tbody>\n",
       "    <tr>\n",
       "      <th>44.0</th>\n",
       "      <td>RETAIL TRADE</td>\n",
       "    </tr>\n",
       "    <tr>\n",
       "      <th>23.0</th>\n",
       "      <td>CONSTRUCTION</td>\n",
       "    </tr>\n",
       "  </tbody>\n",
       "</table>\n",
       "</div>"
      ],
      "text/plain": [
       "              Industry Code Description\n",
       "Industry Code                          \n",
       "44.0                       RETAIL TRADE\n",
       "23.0                       CONSTRUCTION"
      ]
     },
     "execution_count": 178,
     "metadata": {},
     "output_type": "execute_result"
    }
   ],
   "source": [
    "industry_code = df[['Industry Code', 'Industry Code Description']].drop_duplicates()\n",
    "\n",
    "industry_code_df = industry_code.set_index('Industry Code')\n",
    "\n",
    "\n",
    "industry_code_df.head(2)"
   ]
  },
  {
   "cell_type": "markdown",
   "id": "4d374e36",
   "metadata": {},
   "source": [
    "Dropping columns from df"
   ]
  },
  {
   "cell_type": "code",
   "execution_count": 179,
   "id": "fcad5aca",
   "metadata": {
    "ExecuteTime": {
     "end_time": "2024-11-07T19:18:39.750754Z",
     "start_time": "2024-11-07T19:18:39.656829Z"
    }
   },
   "outputs": [],
   "source": [
    "df = df.drop(['WCIO Cause of Injury Description', 'WCIO Nature of Injury Description', \n",
    "              'WCIO Part Of Body Description', 'Industry Code Description'], axis = 1)"
   ]
  },
  {
   "cell_type": "markdown",
   "id": "1ebf14de",
   "metadata": {},
   "source": [
    "## 3.3 Train-Test Split\n",
    "\n",
    "<a href=\"#top\">Top &#129033;</a>"
   ]
  },
  {
   "cell_type": "markdown",
   "id": "a28a90a5",
   "metadata": {
    "ExecuteTime": {
     "end_time": "2024-11-03T14:59:38.975317Z",
     "start_time": "2024-11-03T14:59:38.973072Z"
    }
   },
   "source": [
    "**Claim Injury Type**\n",
    "\n",
    "Address missing values in target variable before split"
   ]
  },
  {
   "cell_type": "code",
   "execution_count": 147,
   "id": "006d55cd",
   "metadata": {
    "ExecuteTime": {
     "end_time": "2024-11-07T19:17:36.266824Z",
     "start_time": "2024-11-07T19:17:36.204932Z"
    }
   },
   "outputs": [
    {
     "data": {
      "text/html": [
       "<div>\n",
       "<style scoped>\n",
       "    .dataframe tbody tr th:only-of-type {\n",
       "        vertical-align: middle;\n",
       "    }\n",
       "\n",
       "    .dataframe tbody tr th {\n",
       "        vertical-align: top;\n",
       "    }\n",
       "\n",
       "    .dataframe thead th {\n",
       "        text-align: right;\n",
       "    }\n",
       "</style>\n",
       "<table border=\"1\" class=\"dataframe\">\n",
       "  <thead>\n",
       "    <tr style=\"text-align: right;\">\n",
       "      <th></th>\n",
       "      <th>Accident Date</th>\n",
       "      <th>Age at Injury</th>\n",
       "      <th>Alternative Dispute Resolution</th>\n",
       "      <th>Assembly Date</th>\n",
       "      <th>Attorney/Representative</th>\n",
       "      <th>Average Weekly Wage</th>\n",
       "      <th>Birth Year</th>\n",
       "      <th>C-2 Date</th>\n",
       "      <th>C-3 Date</th>\n",
       "      <th>Carrier Name</th>\n",
       "      <th>Carrier Type</th>\n",
       "      <th>Claim Injury Type</th>\n",
       "      <th>County of Injury</th>\n",
       "      <th>COVID-19 Indicator</th>\n",
       "      <th>District Name</th>\n",
       "      <th>First Hearing Date</th>\n",
       "      <th>Gender</th>\n",
       "      <th>IME-4 Count</th>\n",
       "      <th>Industry Code</th>\n",
       "      <th>Industry Code Description</th>\n",
       "      <th>Medical Fee Region</th>\n",
       "      <th>OIICS Nature of Injury Description</th>\n",
       "      <th>WCIO Cause of Injury Code</th>\n",
       "      <th>WCIO Cause of Injury Description</th>\n",
       "      <th>WCIO Nature of Injury Code</th>\n",
       "      <th>WCIO Nature of Injury Description</th>\n",
       "      <th>WCIO Part Of Body Code</th>\n",
       "      <th>WCIO Part Of Body Description</th>\n",
       "      <th>Zip Code</th>\n",
       "      <th>Agreement Reached</th>\n",
       "      <th>WCB Decision</th>\n",
       "      <th>Number of Dependents</th>\n",
       "    </tr>\n",
       "    <tr>\n",
       "      <th>Claim Identifier</th>\n",
       "      <th></th>\n",
       "      <th></th>\n",
       "      <th></th>\n",
       "      <th></th>\n",
       "      <th></th>\n",
       "      <th></th>\n",
       "      <th></th>\n",
       "      <th></th>\n",
       "      <th></th>\n",
       "      <th></th>\n",
       "      <th></th>\n",
       "      <th></th>\n",
       "      <th></th>\n",
       "      <th></th>\n",
       "      <th></th>\n",
       "      <th></th>\n",
       "      <th></th>\n",
       "      <th></th>\n",
       "      <th></th>\n",
       "      <th></th>\n",
       "      <th></th>\n",
       "      <th></th>\n",
       "      <th></th>\n",
       "      <th></th>\n",
       "      <th></th>\n",
       "      <th></th>\n",
       "      <th></th>\n",
       "      <th></th>\n",
       "      <th></th>\n",
       "      <th></th>\n",
       "      <th></th>\n",
       "      <th></th>\n",
       "    </tr>\n",
       "  </thead>\n",
       "  <tbody>\n",
       "    <tr>\n",
       "      <th>957648180</th>\n",
       "      <td>NaT</td>\n",
       "      <td>NaN</td>\n",
       "      <td>NaN</td>\n",
       "      <td>2020-01-01</td>\n",
       "      <td>NaN</td>\n",
       "      <td>NaN</td>\n",
       "      <td>NaN</td>\n",
       "      <td>NaT</td>\n",
       "      <td>NaT</td>\n",
       "      <td>NaN</td>\n",
       "      <td>NaN</td>\n",
       "      <td>NaN</td>\n",
       "      <td>NaN</td>\n",
       "      <td>NaN</td>\n",
       "      <td>NaN</td>\n",
       "      <td>NaT</td>\n",
       "      <td>NaN</td>\n",
       "      <td>NaN</td>\n",
       "      <td>NaN</td>\n",
       "      <td>NaN</td>\n",
       "      <td>NaN</td>\n",
       "      <td>NaN</td>\n",
       "      <td>NaN</td>\n",
       "      <td>NaN</td>\n",
       "      <td>NaN</td>\n",
       "      <td>NaN</td>\n",
       "      <td>NaN</td>\n",
       "      <td>NaN</td>\n",
       "      <td>NaN</td>\n",
       "      <td>NaN</td>\n",
       "      <td>NaN</td>\n",
       "      <td>NaN</td>\n",
       "    </tr>\n",
       "    <tr>\n",
       "      <th>653337074</th>\n",
       "      <td>NaT</td>\n",
       "      <td>NaN</td>\n",
       "      <td>NaN</td>\n",
       "      <td>2020-01-02</td>\n",
       "      <td>NaN</td>\n",
       "      <td>NaN</td>\n",
       "      <td>NaN</td>\n",
       "      <td>NaT</td>\n",
       "      <td>NaT</td>\n",
       "      <td>NaN</td>\n",
       "      <td>NaN</td>\n",
       "      <td>NaN</td>\n",
       "      <td>NaN</td>\n",
       "      <td>NaN</td>\n",
       "      <td>NaN</td>\n",
       "      <td>NaT</td>\n",
       "      <td>NaN</td>\n",
       "      <td>NaN</td>\n",
       "      <td>NaN</td>\n",
       "      <td>NaN</td>\n",
       "      <td>NaN</td>\n",
       "      <td>NaN</td>\n",
       "      <td>NaN</td>\n",
       "      <td>NaN</td>\n",
       "      <td>NaN</td>\n",
       "      <td>NaN</td>\n",
       "      <td>NaN</td>\n",
       "      <td>NaN</td>\n",
       "      <td>NaN</td>\n",
       "      <td>NaN</td>\n",
       "      <td>NaN</td>\n",
       "      <td>NaN</td>\n",
       "    </tr>\n",
       "    <tr>\n",
       "      <th>489154817</th>\n",
       "      <td>NaT</td>\n",
       "      <td>NaN</td>\n",
       "      <td>NaN</td>\n",
       "      <td>2020-01-03</td>\n",
       "      <td>NaN</td>\n",
       "      <td>NaN</td>\n",
       "      <td>NaN</td>\n",
       "      <td>NaT</td>\n",
       "      <td>NaT</td>\n",
       "      <td>NaN</td>\n",
       "      <td>NaN</td>\n",
       "      <td>NaN</td>\n",
       "      <td>NaN</td>\n",
       "      <td>NaN</td>\n",
       "      <td>NaN</td>\n",
       "      <td>NaT</td>\n",
       "      <td>NaN</td>\n",
       "      <td>NaN</td>\n",
       "      <td>NaN</td>\n",
       "      <td>NaN</td>\n",
       "      <td>NaN</td>\n",
       "      <td>NaN</td>\n",
       "      <td>NaN</td>\n",
       "      <td>NaN</td>\n",
       "      <td>NaN</td>\n",
       "      <td>NaN</td>\n",
       "      <td>NaN</td>\n",
       "      <td>NaN</td>\n",
       "      <td>NaN</td>\n",
       "      <td>NaN</td>\n",
       "      <td>NaN</td>\n",
       "      <td>NaN</td>\n",
       "    </tr>\n",
       "    <tr>\n",
       "      <th>351928125</th>\n",
       "      <td>NaT</td>\n",
       "      <td>NaN</td>\n",
       "      <td>NaN</td>\n",
       "      <td>2020-01-04</td>\n",
       "      <td>NaN</td>\n",
       "      <td>NaN</td>\n",
       "      <td>NaN</td>\n",
       "      <td>NaT</td>\n",
       "      <td>NaT</td>\n",
       "      <td>NaN</td>\n",
       "      <td>NaN</td>\n",
       "      <td>NaN</td>\n",
       "      <td>NaN</td>\n",
       "      <td>NaN</td>\n",
       "      <td>NaN</td>\n",
       "      <td>NaT</td>\n",
       "      <td>NaN</td>\n",
       "      <td>NaN</td>\n",
       "      <td>NaN</td>\n",
       "      <td>NaN</td>\n",
       "      <td>NaN</td>\n",
       "      <td>NaN</td>\n",
       "      <td>NaN</td>\n",
       "      <td>NaN</td>\n",
       "      <td>NaN</td>\n",
       "      <td>NaN</td>\n",
       "      <td>NaN</td>\n",
       "      <td>NaN</td>\n",
       "      <td>NaN</td>\n",
       "      <td>NaN</td>\n",
       "      <td>NaN</td>\n",
       "      <td>NaN</td>\n",
       "    </tr>\n",
       "    <tr>\n",
       "      <th>454184427</th>\n",
       "      <td>NaT</td>\n",
       "      <td>NaN</td>\n",
       "      <td>NaN</td>\n",
       "      <td>2020-01-05</td>\n",
       "      <td>NaN</td>\n",
       "      <td>NaN</td>\n",
       "      <td>NaN</td>\n",
       "      <td>NaT</td>\n",
       "      <td>NaT</td>\n",
       "      <td>NaN</td>\n",
       "      <td>NaN</td>\n",
       "      <td>NaN</td>\n",
       "      <td>NaN</td>\n",
       "      <td>NaN</td>\n",
       "      <td>NaN</td>\n",
       "      <td>NaT</td>\n",
       "      <td>NaN</td>\n",
       "      <td>NaN</td>\n",
       "      <td>NaN</td>\n",
       "      <td>NaN</td>\n",
       "      <td>NaN</td>\n",
       "      <td>NaN</td>\n",
       "      <td>NaN</td>\n",
       "      <td>NaN</td>\n",
       "      <td>NaN</td>\n",
       "      <td>NaN</td>\n",
       "      <td>NaN</td>\n",
       "      <td>NaN</td>\n",
       "      <td>NaN</td>\n",
       "      <td>NaN</td>\n",
       "      <td>NaN</td>\n",
       "      <td>NaN</td>\n",
       "    </tr>\n",
       "    <tr>\n",
       "      <th>...</th>\n",
       "      <td>...</td>\n",
       "      <td>...</td>\n",
       "      <td>...</td>\n",
       "      <td>...</td>\n",
       "      <td>...</td>\n",
       "      <td>...</td>\n",
       "      <td>...</td>\n",
       "      <td>...</td>\n",
       "      <td>...</td>\n",
       "      <td>...</td>\n",
       "      <td>...</td>\n",
       "      <td>...</td>\n",
       "      <td>...</td>\n",
       "      <td>...</td>\n",
       "      <td>...</td>\n",
       "      <td>...</td>\n",
       "      <td>...</td>\n",
       "      <td>...</td>\n",
       "      <td>...</td>\n",
       "      <td>...</td>\n",
       "      <td>...</td>\n",
       "      <td>...</td>\n",
       "      <td>...</td>\n",
       "      <td>...</td>\n",
       "      <td>...</td>\n",
       "      <td>...</td>\n",
       "      <td>...</td>\n",
       "      <td>...</td>\n",
       "      <td>...</td>\n",
       "      <td>...</td>\n",
       "      <td>...</td>\n",
       "      <td>...</td>\n",
       "    </tr>\n",
       "    <tr>\n",
       "      <th>894683610</th>\n",
       "      <td>NaT</td>\n",
       "      <td>NaN</td>\n",
       "      <td>NaN</td>\n",
       "      <td>2022-12-27</td>\n",
       "      <td>NaN</td>\n",
       "      <td>NaN</td>\n",
       "      <td>NaN</td>\n",
       "      <td>NaT</td>\n",
       "      <td>NaT</td>\n",
       "      <td>NaN</td>\n",
       "      <td>NaN</td>\n",
       "      <td>NaN</td>\n",
       "      <td>NaN</td>\n",
       "      <td>NaN</td>\n",
       "      <td>NaN</td>\n",
       "      <td>NaT</td>\n",
       "      <td>NaN</td>\n",
       "      <td>NaN</td>\n",
       "      <td>NaN</td>\n",
       "      <td>NaN</td>\n",
       "      <td>NaN</td>\n",
       "      <td>NaN</td>\n",
       "      <td>NaN</td>\n",
       "      <td>NaN</td>\n",
       "      <td>NaN</td>\n",
       "      <td>NaN</td>\n",
       "      <td>NaN</td>\n",
       "      <td>NaN</td>\n",
       "      <td>NaN</td>\n",
       "      <td>NaN</td>\n",
       "      <td>NaN</td>\n",
       "      <td>NaN</td>\n",
       "    </tr>\n",
       "    <tr>\n",
       "      <th>820269517</th>\n",
       "      <td>NaT</td>\n",
       "      <td>NaN</td>\n",
       "      <td>NaN</td>\n",
       "      <td>2022-12-28</td>\n",
       "      <td>NaN</td>\n",
       "      <td>NaN</td>\n",
       "      <td>NaN</td>\n",
       "      <td>NaT</td>\n",
       "      <td>NaT</td>\n",
       "      <td>NaN</td>\n",
       "      <td>NaN</td>\n",
       "      <td>NaN</td>\n",
       "      <td>NaN</td>\n",
       "      <td>NaN</td>\n",
       "      <td>NaN</td>\n",
       "      <td>NaT</td>\n",
       "      <td>NaN</td>\n",
       "      <td>NaN</td>\n",
       "      <td>NaN</td>\n",
       "      <td>NaN</td>\n",
       "      <td>NaN</td>\n",
       "      <td>NaN</td>\n",
       "      <td>NaN</td>\n",
       "      <td>NaN</td>\n",
       "      <td>NaN</td>\n",
       "      <td>NaN</td>\n",
       "      <td>NaN</td>\n",
       "      <td>NaN</td>\n",
       "      <td>NaN</td>\n",
       "      <td>NaN</td>\n",
       "      <td>NaN</td>\n",
       "      <td>NaN</td>\n",
       "    </tr>\n",
       "    <tr>\n",
       "      <th>815542773</th>\n",
       "      <td>NaT</td>\n",
       "      <td>NaN</td>\n",
       "      <td>NaN</td>\n",
       "      <td>2022-12-29</td>\n",
       "      <td>NaN</td>\n",
       "      <td>NaN</td>\n",
       "      <td>NaN</td>\n",
       "      <td>NaT</td>\n",
       "      <td>NaT</td>\n",
       "      <td>NaN</td>\n",
       "      <td>NaN</td>\n",
       "      <td>NaN</td>\n",
       "      <td>NaN</td>\n",
       "      <td>NaN</td>\n",
       "      <td>NaN</td>\n",
       "      <td>NaT</td>\n",
       "      <td>NaN</td>\n",
       "      <td>NaN</td>\n",
       "      <td>NaN</td>\n",
       "      <td>NaN</td>\n",
       "      <td>NaN</td>\n",
       "      <td>NaN</td>\n",
       "      <td>NaN</td>\n",
       "      <td>NaN</td>\n",
       "      <td>NaN</td>\n",
       "      <td>NaN</td>\n",
       "      <td>NaN</td>\n",
       "      <td>NaN</td>\n",
       "      <td>NaN</td>\n",
       "      <td>NaN</td>\n",
       "      <td>NaN</td>\n",
       "      <td>NaN</td>\n",
       "    </tr>\n",
       "    <tr>\n",
       "      <th>993172724</th>\n",
       "      <td>NaT</td>\n",
       "      <td>NaN</td>\n",
       "      <td>NaN</td>\n",
       "      <td>2022-12-30</td>\n",
       "      <td>NaN</td>\n",
       "      <td>NaN</td>\n",
       "      <td>NaN</td>\n",
       "      <td>NaT</td>\n",
       "      <td>NaT</td>\n",
       "      <td>NaN</td>\n",
       "      <td>NaN</td>\n",
       "      <td>NaN</td>\n",
       "      <td>NaN</td>\n",
       "      <td>NaN</td>\n",
       "      <td>NaN</td>\n",
       "      <td>NaT</td>\n",
       "      <td>NaN</td>\n",
       "      <td>NaN</td>\n",
       "      <td>NaN</td>\n",
       "      <td>NaN</td>\n",
       "      <td>NaN</td>\n",
       "      <td>NaN</td>\n",
       "      <td>NaN</td>\n",
       "      <td>NaN</td>\n",
       "      <td>NaN</td>\n",
       "      <td>NaN</td>\n",
       "      <td>NaN</td>\n",
       "      <td>NaN</td>\n",
       "      <td>NaN</td>\n",
       "      <td>NaN</td>\n",
       "      <td>NaN</td>\n",
       "      <td>NaN</td>\n",
       "    </tr>\n",
       "    <tr>\n",
       "      <th>208342104</th>\n",
       "      <td>NaT</td>\n",
       "      <td>NaN</td>\n",
       "      <td>NaN</td>\n",
       "      <td>2022-12-31</td>\n",
       "      <td>NaN</td>\n",
       "      <td>NaN</td>\n",
       "      <td>NaN</td>\n",
       "      <td>NaT</td>\n",
       "      <td>NaT</td>\n",
       "      <td>NaN</td>\n",
       "      <td>NaN</td>\n",
       "      <td>NaN</td>\n",
       "      <td>NaN</td>\n",
       "      <td>NaN</td>\n",
       "      <td>NaN</td>\n",
       "      <td>NaT</td>\n",
       "      <td>NaN</td>\n",
       "      <td>NaN</td>\n",
       "      <td>NaN</td>\n",
       "      <td>NaN</td>\n",
       "      <td>NaN</td>\n",
       "      <td>NaN</td>\n",
       "      <td>NaN</td>\n",
       "      <td>NaN</td>\n",
       "      <td>NaN</td>\n",
       "      <td>NaN</td>\n",
       "      <td>NaN</td>\n",
       "      <td>NaN</td>\n",
       "      <td>NaN</td>\n",
       "      <td>NaN</td>\n",
       "      <td>NaN</td>\n",
       "      <td>NaN</td>\n",
       "    </tr>\n",
       "  </tbody>\n",
       "</table>\n",
       "<p>1096 rows × 32 columns</p>\n",
       "</div>"
      ],
      "text/plain": [
       "                 Accident Date  Age at Injury Alternative Dispute Resolution  \\\n",
       "Claim Identifier                                                               \n",
       "957648180                  NaT            NaN                            NaN   \n",
       "653337074                  NaT            NaN                            NaN   \n",
       "489154817                  NaT            NaN                            NaN   \n",
       "351928125                  NaT            NaN                            NaN   \n",
       "454184427                  NaT            NaN                            NaN   \n",
       "...                        ...            ...                            ...   \n",
       "894683610                  NaT            NaN                            NaN   \n",
       "820269517                  NaT            NaN                            NaN   \n",
       "815542773                  NaT            NaN                            NaN   \n",
       "993172724                  NaT            NaN                            NaN   \n",
       "208342104                  NaT            NaN                            NaN   \n",
       "\n",
       "                 Assembly Date Attorney/Representative  Average Weekly Wage  \\\n",
       "Claim Identifier                                                              \n",
       "957648180           2020-01-01                     NaN                  NaN   \n",
       "653337074           2020-01-02                     NaN                  NaN   \n",
       "489154817           2020-01-03                     NaN                  NaN   \n",
       "351928125           2020-01-04                     NaN                  NaN   \n",
       "454184427           2020-01-05                     NaN                  NaN   \n",
       "...                        ...                     ...                  ...   \n",
       "894683610           2022-12-27                     NaN                  NaN   \n",
       "820269517           2022-12-28                     NaN                  NaN   \n",
       "815542773           2022-12-29                     NaN                  NaN   \n",
       "993172724           2022-12-30                     NaN                  NaN   \n",
       "208342104           2022-12-31                     NaN                  NaN   \n",
       "\n",
       "                  Birth Year C-2 Date C-3 Date Carrier Name Carrier Type  \\\n",
       "Claim Identifier                                                           \n",
       "957648180                NaN      NaT      NaT          NaN          NaN   \n",
       "653337074                NaN      NaT      NaT          NaN          NaN   \n",
       "489154817                NaN      NaT      NaT          NaN          NaN   \n",
       "351928125                NaN      NaT      NaT          NaN          NaN   \n",
       "454184427                NaN      NaT      NaT          NaN          NaN   \n",
       "...                      ...      ...      ...          ...          ...   \n",
       "894683610                NaN      NaT      NaT          NaN          NaN   \n",
       "820269517                NaN      NaT      NaT          NaN          NaN   \n",
       "815542773                NaN      NaT      NaT          NaN          NaN   \n",
       "993172724                NaN      NaT      NaT          NaN          NaN   \n",
       "208342104                NaN      NaT      NaT          NaN          NaN   \n",
       "\n",
       "                 Claim Injury Type County of Injury COVID-19 Indicator  \\\n",
       "Claim Identifier                                                         \n",
       "957648180                      NaN              NaN                NaN   \n",
       "653337074                      NaN              NaN                NaN   \n",
       "489154817                      NaN              NaN                NaN   \n",
       "351928125                      NaN              NaN                NaN   \n",
       "454184427                      NaN              NaN                NaN   \n",
       "...                            ...              ...                ...   \n",
       "894683610                      NaN              NaN                NaN   \n",
       "820269517                      NaN              NaN                NaN   \n",
       "815542773                      NaN              NaN                NaN   \n",
       "993172724                      NaN              NaN                NaN   \n",
       "208342104                      NaN              NaN                NaN   \n",
       "\n",
       "                 District Name First Hearing Date Gender  IME-4 Count  \\\n",
       "Claim Identifier                                                        \n",
       "957648180                  NaN                NaT    NaN          NaN   \n",
       "653337074                  NaN                NaT    NaN          NaN   \n",
       "489154817                  NaN                NaT    NaN          NaN   \n",
       "351928125                  NaN                NaT    NaN          NaN   \n",
       "454184427                  NaN                NaT    NaN          NaN   \n",
       "...                        ...                ...    ...          ...   \n",
       "894683610                  NaN                NaT    NaN          NaN   \n",
       "820269517                  NaN                NaT    NaN          NaN   \n",
       "815542773                  NaN                NaT    NaN          NaN   \n",
       "993172724                  NaN                NaT    NaN          NaN   \n",
       "208342104                  NaN                NaT    NaN          NaN   \n",
       "\n",
       "                  Industry Code Industry Code Description Medical Fee Region  \\\n",
       "Claim Identifier                                                               \n",
       "957648180                   NaN                       NaN                NaN   \n",
       "653337074                   NaN                       NaN                NaN   \n",
       "489154817                   NaN                       NaN                NaN   \n",
       "351928125                   NaN                       NaN                NaN   \n",
       "454184427                   NaN                       NaN                NaN   \n",
       "...                         ...                       ...                ...   \n",
       "894683610                   NaN                       NaN                NaN   \n",
       "820269517                   NaN                       NaN                NaN   \n",
       "815542773                   NaN                       NaN                NaN   \n",
       "993172724                   NaN                       NaN                NaN   \n",
       "208342104                   NaN                       NaN                NaN   \n",
       "\n",
       "                  OIICS Nature of Injury Description  \\\n",
       "Claim Identifier                                       \n",
       "957648180                                        NaN   \n",
       "653337074                                        NaN   \n",
       "489154817                                        NaN   \n",
       "351928125                                        NaN   \n",
       "454184427                                        NaN   \n",
       "...                                              ...   \n",
       "894683610                                        NaN   \n",
       "820269517                                        NaN   \n",
       "815542773                                        NaN   \n",
       "993172724                                        NaN   \n",
       "208342104                                        NaN   \n",
       "\n",
       "                  WCIO Cause of Injury Code WCIO Cause of Injury Description  \\\n",
       "Claim Identifier                                                               \n",
       "957648180                               NaN                              NaN   \n",
       "653337074                               NaN                              NaN   \n",
       "489154817                               NaN                              NaN   \n",
       "351928125                               NaN                              NaN   \n",
       "454184427                               NaN                              NaN   \n",
       "...                                     ...                              ...   \n",
       "894683610                               NaN                              NaN   \n",
       "820269517                               NaN                              NaN   \n",
       "815542773                               NaN                              NaN   \n",
       "993172724                               NaN                              NaN   \n",
       "208342104                               NaN                              NaN   \n",
       "\n",
       "                  WCIO Nature of Injury Code  \\\n",
       "Claim Identifier                               \n",
       "957648180                                NaN   \n",
       "653337074                                NaN   \n",
       "489154817                                NaN   \n",
       "351928125                                NaN   \n",
       "454184427                                NaN   \n",
       "...                                      ...   \n",
       "894683610                                NaN   \n",
       "820269517                                NaN   \n",
       "815542773                                NaN   \n",
       "993172724                                NaN   \n",
       "208342104                                NaN   \n",
       "\n",
       "                 WCIO Nature of Injury Description  WCIO Part Of Body Code  \\\n",
       "Claim Identifier                                                             \n",
       "957648180                                      NaN                     NaN   \n",
       "653337074                                      NaN                     NaN   \n",
       "489154817                                      NaN                     NaN   \n",
       "351928125                                      NaN                     NaN   \n",
       "454184427                                      NaN                     NaN   \n",
       "...                                            ...                     ...   \n",
       "894683610                                      NaN                     NaN   \n",
       "820269517                                      NaN                     NaN   \n",
       "815542773                                      NaN                     NaN   \n",
       "993172724                                      NaN                     NaN   \n",
       "208342104                                      NaN                     NaN   \n",
       "\n",
       "                 WCIO Part Of Body Description Zip Code  Agreement Reached  \\\n",
       "Claim Identifier                                                             \n",
       "957648180                                  NaN      NaN                NaN   \n",
       "653337074                                  NaN      NaN                NaN   \n",
       "489154817                                  NaN      NaN                NaN   \n",
       "351928125                                  NaN      NaN                NaN   \n",
       "454184427                                  NaN      NaN                NaN   \n",
       "...                                        ...      ...                ...   \n",
       "894683610                                  NaN      NaN                NaN   \n",
       "820269517                                  NaN      NaN                NaN   \n",
       "815542773                                  NaN      NaN                NaN   \n",
       "993172724                                  NaN      NaN                NaN   \n",
       "208342104                                  NaN      NaN                NaN   \n",
       "\n",
       "                 WCB Decision  Number of Dependents  \n",
       "Claim Identifier                                     \n",
       "957648180                 NaN                   NaN  \n",
       "653337074                 NaN                   NaN  \n",
       "489154817                 NaN                   NaN  \n",
       "351928125                 NaN                   NaN  \n",
       "454184427                 NaN                   NaN  \n",
       "...                       ...                   ...  \n",
       "894683610                 NaN                   NaN  \n",
       "820269517                 NaN                   NaN  \n",
       "815542773                 NaN                   NaN  \n",
       "993172724                 NaN                   NaN  \n",
       "208342104                 NaN                   NaN  \n",
       "\n",
       "[1096 rows x 32 columns]"
      ]
     },
     "execution_count": 147,
     "metadata": {},
     "output_type": "execute_result"
    }
   ],
   "source": [
    "df[df['Claim Injury Type'].isna()]"
   ]
  },
  {
   "cell_type": "markdown",
   "id": "f4254d0c",
   "metadata": {
    "ExecuteTime": {
     "end_time": "2024-10-23T08:15:41.670434Z",
     "start_time": "2024-10-23T08:15:40.857878Z"
    }
   },
   "source": [
    "dropping them"
   ]
  },
  {
   "cell_type": "code",
   "execution_count": 148,
   "id": "572895b6",
   "metadata": {
    "ExecuteTime": {
     "end_time": "2024-11-07T19:17:38.957254Z",
     "start_time": "2024-11-07T19:17:38.771582Z"
    }
   },
   "outputs": [],
   "source": [
    "df.dropna(subset=['Claim Injury Type'], inplace=True)"
   ]
  },
  {
   "cell_type": "markdown",
   "id": "95bc7eb2",
   "metadata": {},
   "source": [
    "After dropping the missing values we can encode"
   ]
  },
  {
   "cell_type": "code",
   "execution_count": 180,
   "id": "303ac529",
   "metadata": {
    "ExecuteTime": {
     "end_time": "2024-11-07T19:18:45.912634Z",
     "start_time": "2024-11-07T19:18:45.596359Z"
    }
   },
   "outputs": [],
   "source": [
    "label_mapping = {\n",
    "    \"1. CANCELLED\": 1,\n",
    "    \"2. NON-COMP\": 2,\n",
    "    \"3. MED ONLY\": 3,\n",
    "    \"4. TEMPORARY\": 4,\n",
    "    \"5. PPD SCH LOSS\": 5,\n",
    "    \"6. PPD NSL\": 6,\n",
    "    \"7. PTD\": 7,\n",
    "    \"8. DEATH\": 8\n",
    "}\n",
    "\n",
    "df['Claim Injury Type'] = df['Claim Injury Type'].replace(label_mapping)"
   ]
  },
  {
   "cell_type": "markdown",
   "id": "9f494a4f",
   "metadata": {},
   "source": [
    "**Holdout Method**"
   ]
  },
  {
   "cell_type": "code",
   "execution_count": 181,
   "id": "940241ad",
   "metadata": {
    "ExecuteTime": {
     "end_time": "2024-11-07T19:18:46.940204Z",
     "start_time": "2024-11-07T19:18:46.853835Z"
    }
   },
   "outputs": [],
   "source": [
    "X, y = df.drop('Claim Injury Type', axis=1), df['Claim Injury Type'] "
   ]
  },
  {
   "cell_type": "code",
   "execution_count": 182,
   "id": "6911c19d",
   "metadata": {
    "ExecuteTime": {
     "end_time": "2024-11-07T19:18:48.065478Z",
     "start_time": "2024-11-07T19:18:47.566995Z"
    }
   },
   "outputs": [],
   "source": [
    "X_train, X_val, y_train, y_val = train_test_split(X, y, \n",
    "                                                    test_size=0.2, \n",
    "                                                    random_state=42,\n",
    "                                                    stratify = y)\n"
   ]
  },
  {
   "cell_type": "markdown",
   "id": "61e7c0dc",
   "metadata": {},
   "source": [
    "## 3.4 Missing Values\n",
    "\n",
    "<a href=\"#top\">Top &#129033;</a>"
   ]
  },
  {
   "cell_type": "code",
   "execution_count": 183,
   "id": "a6a88747",
   "metadata": {
    "ExecuteTime": {
     "end_time": "2024-11-07T19:18:48.790971Z",
     "start_time": "2024-11-07T19:18:48.741998Z"
    },
    "scrolled": true
   },
   "outputs": [
    {
     "data": {
      "text/plain": [
       "Age at Injury                              0\n",
       "Alternative Dispute Resolution             0\n",
       "Attorney/Representative                    0\n",
       "Average Weekly Wage                    21537\n",
       "Birth Year                             22923\n",
       "C-3 Date                              293428\n",
       "Carrier Name                               0\n",
       "Carrier Type                               0\n",
       "County of Injury                           0\n",
       "COVID-19 Indicator                         0\n",
       "District Name                              0\n",
       "First Hearing Date                    320174\n",
       "Gender                                     0\n",
       "IME-4 Count                           332421\n",
       "Industry Code                           6340\n",
       "Medical Fee Region                         0\n",
       "OIICS Nature of Injury Description    433840\n",
       "WCIO Cause of Injury Code               9877\n",
       "WCIO Nature of Injury Code              9887\n",
       "WCIO Part Of Body Code                 10731\n",
       "Zip Code                               33170\n",
       "Number of Dependents                       0\n",
       "Accident Year                              0\n",
       "Accident Month                             0\n",
       "Accident Day                               0\n",
       "Assembly Year                              0\n",
       "Assembly Month                             0\n",
       "Assembly Day                               0\n",
       "C-2 Year                                9180\n",
       "C-2 Month                               9180\n",
       "C-2 Day                                 9180\n",
       "dtype: int64"
      ]
     },
     "execution_count": 183,
     "metadata": {},
     "output_type": "execute_result"
    }
   ],
   "source": [
    "X_train.isna().sum()"
   ]
  },
  {
   "cell_type": "markdown",
   "id": "c991229a",
   "metadata": {},
   "source": [
    "**Accident Year, Month, Day**\n",
    "\n",
    "need to fill before birth year otherwise error"
   ]
  },
  {
   "cell_type": "code",
   "execution_count": 184,
   "id": "1a7ddac1",
   "metadata": {
    "ExecuteTime": {
     "end_time": "2024-11-07T19:18:54.146890Z",
     "start_time": "2024-11-07T19:18:54.116640Z"
    }
   },
   "outputs": [],
   "source": [
    "accident_med = {\n",
    "    'Accident Year': X_train['Accident Year'].median(),\n",
    "    'Accident Month': X_train['Accident Month'].median(),\n",
    "    'Accident Day': X_train['Accident Day'].median()\n",
    "}"
   ]
  },
  {
   "cell_type": "code",
   "execution_count": 185,
   "id": "6efe8a70",
   "metadata": {
    "ExecuteTime": {
     "end_time": "2024-11-07T19:18:54.348989Z",
     "start_time": "2024-11-07T19:18:54.342490Z"
    }
   },
   "outputs": [],
   "source": [
    "X_train['Accident Year'].fillna(accident_med['Accident Year'], inplace=True)\n",
    "X_train['Accident Month'].fillna(accident_med['Accident Month'], inplace=True)\n",
    "X_train['Accident Day'].fillna(accident_med['Accident Day'], inplace=True)"
   ]
  },
  {
   "cell_type": "code",
   "execution_count": 186,
   "id": "77c85736",
   "metadata": {
    "ExecuteTime": {
     "end_time": "2024-11-07T19:18:54.602724Z",
     "start_time": "2024-11-07T19:18:54.597635Z"
    }
   },
   "outputs": [],
   "source": [
    "X_val['Accident Year'].fillna(accident_med['Accident Year'], inplace=True)\n",
    "X_val['Accident Month'].fillna(accident_med['Accident Month'], inplace=True)\n",
    "X_val['Accident Day'].fillna(accident_med['Accident Day'], inplace=True)"
   ]
  },
  {
   "cell_type": "markdown",
   "id": "e3dddadd",
   "metadata": {},
   "source": [
    "**Birth Year**"
   ]
  },
  {
   "cell_type": "code",
   "execution_count": 187,
   "id": "a954e785",
   "metadata": {
    "ExecuteTime": {
     "end_time": "2024-11-07T19:18:55.147617Z",
     "start_time": "2024-11-07T19:18:55.105295Z"
    }
   },
   "outputs": [],
   "source": [
    "# Mask for X_train where 'Birth Year' is missing or 0 and other columns are not missing\n",
    "train_mask = X_train['Accident Year'].notna() & X_train['Age at Injury'].notna() & \\\n",
    "           (X_train['Birth Year'].isna() | (X_train['Birth Year'] == 0))\n",
    "\n",
    "# Apply the imputation to X_val based on 'Accident Year' and 'Age at Injury'\n",
    "X_train.loc[train_mask, 'Birth Year'] = X_train['Accident Year'] - X_train['Age at Injury']\n"
   ]
  },
  {
   "cell_type": "code",
   "execution_count": 188,
   "id": "34740c36",
   "metadata": {
    "ExecuteTime": {
     "end_time": "2024-11-07T19:18:55.380180Z",
     "start_time": "2024-11-07T19:18:55.368010Z"
    }
   },
   "outputs": [],
   "source": [
    "val_mask = X_val['Accident Year'].notna() & X_val['Age at Injury'].notna() & \\\n",
    "           (X_val['Birth Year'].isna() | (X_val['Birth Year'] == 0))\n",
    "\n",
    "X_val.loc[val_mask, 'Birth Year'] = X_val['Accident Year'] - X_val['Age at Injury']"
   ]
  },
  {
   "cell_type": "markdown",
   "id": "421fd9f3",
   "metadata": {},
   "source": [
    "**C-3 Date**"
   ]
  },
  {
   "cell_type": "code",
   "execution_count": 189,
   "id": "83593f82",
   "metadata": {
    "ExecuteTime": {
     "end_time": "2024-11-07T19:18:55.954352Z",
     "start_time": "2024-11-07T19:18:55.856346Z"
    }
   },
   "outputs": [
    {
     "name": "stdout",
     "output_type": "stream",
     "text": [
      "There are 293428 rows with missing values\n"
     ]
    }
   ],
   "source": [
    "print(f'There are {len(X_train[X_train[\"C-3 Date\"].isna()])} rows with missing values')\n",
    "#X_train[X_train['C-3 Date'].isna()].head(2)"
   ]
  },
  {
   "cell_type": "code",
   "execution_count": 190,
   "id": "1aed96d3",
   "metadata": {
    "ExecuteTime": {
     "end_time": "2024-11-07T19:18:56.152267Z",
     "start_time": "2024-11-07T19:18:56.142563Z"
    }
   },
   "outputs": [],
   "source": [
    "# Create a binary variable: 1 if 'C-3 Date' is not missing, 0 if it is missing\n",
    "X_train['C-3 Date Binary'] = X_train['C-3 Date'].notna().astype(int)"
   ]
  },
  {
   "cell_type": "code",
   "execution_count": 191,
   "id": "ff247348",
   "metadata": {
    "ExecuteTime": {
     "end_time": "2024-11-07T19:18:56.389970Z",
     "start_time": "2024-11-07T19:18:56.383838Z"
    }
   },
   "outputs": [],
   "source": [
    "X_val['C-3 Date Binary'] = X_val['C-3 Date'].notna().astype(int)"
   ]
  },
  {
   "cell_type": "markdown",
   "id": "cb22f455",
   "metadata": {},
   "source": [
    "**First Hearing Date**"
   ]
  },
  {
   "cell_type": "code",
   "execution_count": 192,
   "id": "c63283c5",
   "metadata": {
    "ExecuteTime": {
     "end_time": "2024-11-07T19:18:57.028220Z",
     "start_time": "2024-11-07T19:18:56.912201Z"
    }
   },
   "outputs": [
    {
     "name": "stdout",
     "output_type": "stream",
     "text": [
      "There are 320174 rows with missing values\n"
     ]
    }
   ],
   "source": [
    "print(f'There are {len(X_train[X_train[\"First Hearing Date\"].isna()])} rows with missing values')\n",
    "#X_train[X_train['First Hearing Date'].isna()].head(2)"
   ]
  },
  {
   "cell_type": "code",
   "execution_count": 193,
   "id": "86ef83a9",
   "metadata": {
    "ExecuteTime": {
     "end_time": "2024-11-07T19:18:57.868872Z",
     "start_time": "2024-11-07T19:18:57.157707Z"
    }
   },
   "outputs": [],
   "source": [
    "# Create a new variable: 0 if 'First Hearing Date' is missing, otherwise extract the year\n",
    "X_train['First Hearing Year'] = X_train['First Hearing Date'].apply(lambda x: x.year if pd.notna(x) else 0)"
   ]
  },
  {
   "cell_type": "code",
   "execution_count": 194,
   "id": "cc9bb5ad",
   "metadata": {
    "ExecuteTime": {
     "end_time": "2024-11-07T19:18:58.002378Z",
     "start_time": "2024-11-07T19:18:57.872098Z"
    }
   },
   "outputs": [],
   "source": [
    "X_val['First Hearing Year'] = X_val['First Hearing Date'].apply(lambda x: x.year if pd.notna(x) else 0)"
   ]
  },
  {
   "cell_type": "markdown",
   "id": "6a1e0ced",
   "metadata": {},
   "source": [
    "**IME-4 Count**"
   ]
  },
  {
   "cell_type": "code",
   "execution_count": 195,
   "id": "a3f3d530",
   "metadata": {
    "ExecuteTime": {
     "end_time": "2024-11-07T19:18:58.123179Z",
     "start_time": "2024-11-07T19:18:58.005510Z"
    }
   },
   "outputs": [
    {
     "name": "stdout",
     "output_type": "stream",
     "text": [
      "There are 332421 rows with missing values\n"
     ]
    }
   ],
   "source": [
    "print(f'There are {len(X_train[X_train[\"IME-4 Count\"].isna()])} rows with missing values')\n",
    "#X_train[X_train['IME-4 Count'].isna()].head(2)"
   ]
  },
  {
   "cell_type": "code",
   "execution_count": 196,
   "id": "a50a89b2",
   "metadata": {
    "ExecuteTime": {
     "end_time": "2024-11-07T19:18:58.254680Z",
     "start_time": "2024-11-07T19:18:58.243038Z"
    }
   },
   "outputs": [],
   "source": [
    "X_train['IME-4 Count'] = X_train['IME-4 Count'].fillna(0)"
   ]
  },
  {
   "cell_type": "code",
   "execution_count": 197,
   "id": "6b0de5e6",
   "metadata": {
    "ExecuteTime": {
     "end_time": "2024-11-07T19:18:58.539745Z",
     "start_time": "2024-11-07T19:18:58.532830Z"
    }
   },
   "outputs": [],
   "source": [
    "X_val['IME-4 Count'] = X_val['IME-4 Count'].fillna(0)"
   ]
  },
  {
   "cell_type": "markdown",
   "id": "fee3948a",
   "metadata": {},
   "source": [
    "**OIICS Nature of Injury Description**"
   ]
  },
  {
   "cell_type": "code",
   "execution_count": 198,
   "id": "6b5395a1",
   "metadata": {
    "ExecuteTime": {
     "end_time": "2024-11-07T19:18:59.297768Z",
     "start_time": "2024-11-07T19:18:59.075823Z"
    }
   },
   "outputs": [
    {
     "name": "stdout",
     "output_type": "stream",
     "text": [
      "There are 433840 rows with missing values\n"
     ]
    }
   ],
   "source": [
    "print(f'There are {len(X_train[X_train[\"OIICS Nature of Injury Description\"].isna()])} rows with missing values')\n",
    "#X_train[X_train['OIICS Nature of Injury Description'].isna()].head(2)"
   ]
  },
  {
   "cell_type": "code",
   "execution_count": 199,
   "id": "458c913c",
   "metadata": {
    "ExecuteTime": {
     "end_time": "2024-11-07T19:18:59.520052Z",
     "start_time": "2024-11-07T19:18:59.346839Z"
    }
   },
   "outputs": [
    {
     "data": {
      "text/plain": [
       "1.0"
      ]
     },
     "execution_count": 199,
     "metadata": {},
     "output_type": "execute_result"
    }
   ],
   "source": [
    "# size of missing / size of dataset\n",
    "len(X_train[X_train['OIICS Nature of Injury Description'].isna()]) / len(X_train)"
   ]
  },
  {
   "cell_type": "markdown",
   "id": "ba4668dc",
   "metadata": {},
   "source": [
    "Drop replaced and not needed variables"
   ]
  },
  {
   "cell_type": "code",
   "execution_count": 200,
   "id": "aebf0c7c",
   "metadata": {
    "ExecuteTime": {
     "end_time": "2024-11-07T19:19:00.004096Z",
     "start_time": "2024-11-07T19:18:59.919635Z"
    }
   },
   "outputs": [],
   "source": [
    "X_train = X_train.drop(['C-3 Date', 'First Hearing Date', \n",
    "             'OIICS Nature of Injury Description'], axis = 1)"
   ]
  },
  {
   "cell_type": "code",
   "execution_count": 201,
   "id": "77ebfdf2",
   "metadata": {
    "ExecuteTime": {
     "end_time": "2024-11-07T19:19:00.602249Z",
     "start_time": "2024-11-07T19:19:00.571019Z"
    }
   },
   "outputs": [],
   "source": [
    "X_val = X_val.drop(['C-3 Date', 'First Hearing Date', \n",
    "             'OIICS Nature of Injury Description'], axis = 1)"
   ]
  },
  {
   "cell_type": "markdown",
   "id": "2ca3cd26",
   "metadata": {},
   "source": [
    "**Code Variables** \n",
    "\n",
    "(Except zip code)"
   ]
  },
  {
   "cell_type": "code",
   "execution_count": 202,
   "id": "fdab6905",
   "metadata": {
    "ExecuteTime": {
     "end_time": "2024-11-07T19:19:01.416517Z",
     "start_time": "2024-11-07T19:19:01.413267Z"
    }
   },
   "outputs": [],
   "source": [
    "columns_to_fill = ['WCIO Cause of Injury Code', \n",
    "                   'WCIO Nature of Injury Code', \n",
    "                   'WCIO Part Of Body Code', \n",
    "                   'Industry Code']"
   ]
  },
  {
   "cell_type": "code",
   "execution_count": 203,
   "id": "ce701396",
   "metadata": {
    "ExecuteTime": {
     "end_time": "2024-11-07T19:19:01.794572Z",
     "start_time": "2024-11-07T19:19:01.752388Z"
    }
   },
   "outputs": [],
   "source": [
    "X_train[columns_to_fill] = X_train[columns_to_fill].fillna(0)"
   ]
  },
  {
   "cell_type": "code",
   "execution_count": 204,
   "id": "cad2a2a3",
   "metadata": {
    "ExecuteTime": {
     "end_time": "2024-11-07T19:19:02.092725Z",
     "start_time": "2024-11-07T19:19:02.079723Z"
    }
   },
   "outputs": [],
   "source": [
    "X_val[columns_to_fill] = X_val[columns_to_fill].fillna(0)"
   ]
  },
  {
   "cell_type": "markdown",
   "id": "bea79e9a",
   "metadata": {},
   "source": [
    "**Zip Code**"
   ]
  },
  {
   "cell_type": "code",
   "execution_count": 205,
   "id": "b13c14d1",
   "metadata": {
    "ExecuteTime": {
     "end_time": "2024-11-07T19:19:02.818479Z",
     "start_time": "2024-11-07T19:19:02.769141Z"
    }
   },
   "outputs": [],
   "source": [
    "X_train['Zip Code'] = X_train['Zip Code'].fillna(99999)"
   ]
  },
  {
   "cell_type": "code",
   "execution_count": 206,
   "id": "b8283fd8",
   "metadata": {
    "ExecuteTime": {
     "end_time": "2024-11-07T19:19:03.198878Z",
     "start_time": "2024-11-07T19:19:03.179327Z"
    }
   },
   "outputs": [],
   "source": [
    "X_val['Zip Code'] = X_val['Zip Code'].fillna(99999)"
   ]
  },
  {
   "cell_type": "markdown",
   "id": "9545075c",
   "metadata": {},
   "source": [
    "**C-2 Year, Month, Day**"
   ]
  },
  {
   "cell_type": "code",
   "execution_count": 207,
   "id": "fefcc4d4",
   "metadata": {
    "ExecuteTime": {
     "end_time": "2024-11-07T19:19:03.937979Z",
     "start_time": "2024-11-07T19:19:03.905190Z"
    }
   },
   "outputs": [],
   "source": [
    "c2_med = {\n",
    "    'C-2 Year': X_train['C-2 Year'].median(),\n",
    "    'C-2 Month': X_train['C-2 Month'].median(),\n",
    "    'C-2 Day': X_train['C-2 Day'].median()\n",
    "}"
   ]
  },
  {
   "cell_type": "code",
   "execution_count": 208,
   "id": "cfaac443",
   "metadata": {
    "ExecuteTime": {
     "end_time": "2024-11-07T19:19:04.306070Z",
     "start_time": "2024-11-07T19:19:04.299018Z"
    }
   },
   "outputs": [],
   "source": [
    "X_train['C-2 Year'].fillna(c2_med['C-2 Year'], inplace=True)\n",
    "X_train['C-2 Month'].fillna(c2_med['C-2 Month'], inplace=True)\n",
    "X_train['C-2 Day'].fillna(c2_med['C-2 Day'], inplace=True)"
   ]
  },
  {
   "cell_type": "code",
   "execution_count": 209,
   "id": "59272331",
   "metadata": {
    "ExecuteTime": {
     "end_time": "2024-11-07T19:19:05.309143Z",
     "start_time": "2024-11-07T19:19:05.303824Z"
    }
   },
   "outputs": [],
   "source": [
    "X_val['C-2 Year'].fillna(c2_med['C-2 Year'], inplace=True)\n",
    "X_val['C-2 Month'].fillna(c2_med['C-2 Month'], inplace=True)\n",
    "X_val['C-2 Day'].fillna(c2_med['C-2 Day'], inplace=True)"
   ]
  },
  {
   "cell_type": "markdown",
   "id": "17944838",
   "metadata": {},
   "source": [
    "**Average Weekly Wage**"
   ]
  },
  {
   "cell_type": "code",
   "execution_count": 210,
   "id": "d94deeef",
   "metadata": {
    "ExecuteTime": {
     "end_time": "2024-11-07T19:20:17.260136Z",
     "start_time": "2024-11-07T19:19:06.102903Z"
    }
   },
   "outputs": [],
   "source": [
    "X_train['Average Weekly Wage'] = p.ball_tree_impute(X_train, 'Average Weekly Wage', n_neighbors=5)"
   ]
  },
  {
   "cell_type": "code",
   "execution_count": 211,
   "id": "8adac91c",
   "metadata": {
    "ExecuteTime": {
     "end_time": "2024-11-07T19:20:26.109280Z",
     "start_time": "2024-11-07T19:20:17.263245Z"
    }
   },
   "outputs": [],
   "source": [
    "X_val['Average Weekly Wage'] = p.ball_tree_impute(X_val, 'Average Weekly Wage', n_neighbors=5)"
   ]
  },
  {
   "cell_type": "markdown",
   "id": "1babdd12",
   "metadata": {},
   "source": [
    "**Verify the success**"
   ]
  },
  {
   "cell_type": "code",
   "execution_count": 212,
   "id": "e99aad68",
   "metadata": {
    "ExecuteTime": {
     "end_time": "2024-11-07T19:20:26.178334Z",
     "start_time": "2024-11-07T19:20:26.112123Z"
    },
    "scrolled": true
   },
   "outputs": [
    {
     "name": "stdout",
     "output_type": "stream",
     "text": [
      "X_train \n",
      "\n",
      "Age at Injury                     0\n",
      "Alternative Dispute Resolution    0\n",
      "Attorney/Representative           0\n",
      "Average Weekly Wage               0\n",
      "Birth Year                        0\n",
      "Carrier Name                      0\n",
      "Carrier Type                      0\n",
      "County of Injury                  0\n",
      "COVID-19 Indicator                0\n",
      "District Name                     0\n",
      "Gender                            0\n",
      "IME-4 Count                       0\n",
      "Industry Code                     0\n",
      "Medical Fee Region                0\n",
      "WCIO Cause of Injury Code         0\n",
      "WCIO Nature of Injury Code        0\n",
      "WCIO Part Of Body Code            0\n",
      "Zip Code                          0\n",
      "Number of Dependents              0\n",
      "Accident Year                     0\n",
      "Accident Month                    0\n",
      "Accident Day                      0\n",
      "Assembly Year                     0\n",
      "Assembly Month                    0\n",
      "Assembly Day                      0\n",
      "C-2 Year                          0\n",
      "C-2 Month                         0\n",
      "C-2 Day                           0\n",
      "C-3 Date Binary                   0\n",
      "First Hearing Year                0\n",
      "dtype: int64\n",
      "\n",
      "X_val \n",
      "\n",
      "Age at Injury                     0\n",
      "Alternative Dispute Resolution    0\n",
      "Attorney/Representative           0\n",
      "Average Weekly Wage               0\n",
      "Birth Year                        0\n",
      "Carrier Name                      0\n",
      "Carrier Type                      0\n",
      "County of Injury                  0\n",
      "COVID-19 Indicator                0\n",
      "District Name                     0\n",
      "Gender                            0\n",
      "IME-4 Count                       0\n",
      "Industry Code                     0\n",
      "Medical Fee Region                0\n",
      "WCIO Cause of Injury Code         0\n",
      "WCIO Nature of Injury Code        0\n",
      "WCIO Part Of Body Code            0\n",
      "Zip Code                          0\n",
      "Number of Dependents              0\n",
      "Accident Year                     0\n",
      "Accident Month                    0\n",
      "Accident Day                      0\n",
      "Assembly Year                     0\n",
      "Assembly Month                    0\n",
      "Assembly Day                      0\n",
      "C-2 Year                          0\n",
      "C-2 Month                         0\n",
      "C-2 Day                           0\n",
      "C-3 Date Binary                   0\n",
      "First Hearing Year                0\n",
      "dtype: int64\n"
     ]
    }
   ],
   "source": [
    "print('X_train \\n')\n",
    "print(X_train.isna().sum())\n",
    "print('\\nX_val \\n')\n",
    "print(X_val.isna().sum())"
   ]
  },
  {
   "cell_type": "markdown",
   "id": "f393df00",
   "metadata": {},
   "source": [
    "## 3.5 Outliers\n",
    "\n",
    "<a href=\"#top\">Top &#129033;</a>"
   ]
  },
  {
   "cell_type": "code",
   "execution_count": null,
   "id": "ddce8cb1",
   "metadata": {
    "ExecuteTime": {
     "end_time": "2024-11-07T18:50:32.026084Z",
     "start_time": "2024-11-07T18:50:28.037166Z"
    }
   },
   "outputs": [],
   "source": [
    "v.boxplots(X_train.loc[:, X_train.columns])"
   ]
  },
  {
   "cell_type": "code",
   "execution_count": null,
   "id": "bfaec602",
   "metadata": {
    "ExecuteTime": {
     "end_time": "2024-11-07T18:50:38.791750Z",
     "start_time": "2024-11-07T18:50:32.029338Z"
    }
   },
   "outputs": [],
   "source": [
    "for column in X_train.columns:\n",
    "        if pd.api.types.is_numeric_dtype(X_train[column]):\n",
    "            v.plot_histogram(X_train[column], \n",
    "                           xlabel=column, \n",
    "                           ylabel='Frequency', \n",
    "                           title=f'Histogram of {column}', \n",
    "                           color='lightblue')"
   ]
  },
  {
   "cell_type": "markdown",
   "id": "2a8c9425",
   "metadata": {},
   "source": [
    "**Interquartile Range**"
   ]
  },
  {
   "cell_type": "code",
   "execution_count": 213,
   "id": "8f8364a0",
   "metadata": {
    "ExecuteTime": {
     "end_time": "2024-11-07T19:22:46.139344Z",
     "start_time": "2024-11-07T19:22:45.241699Z"
    },
    "scrolled": true
   },
   "outputs": [
    {
     "name": "stdout",
     "output_type": "stream",
     "text": [
      "Column: Age at Injury - Number of Outliers: 0\n",
      "Column: Age at Injury - % of Outliers: 0.0% \n",
      "\n",
      "Column: Alternative Dispute Resolution - Number of Outliers: 1922\n",
      "Column: Alternative Dispute Resolution - % of Outliers: 0.44302046837543796% \n",
      "\n",
      "Column: Attorney/Representative - Number of Outliers: 0\n",
      "Column: Attorney/Representative - % of Outliers: 0.0% \n",
      "\n",
      "Column: Average Weekly Wage - Number of Outliers: 16766\n",
      "Column: Average Weekly Wage - % of Outliers: 3.864558362529965% \n",
      "\n",
      "Column: Birth Year - Number of Outliers: 19\n",
      "Column: Birth Year - % of Outliers: 0.004379494744606307% \n",
      "\n",
      "Column: Carrier Name - Number of Outliers: 84239\n",
      "Column: Carrier Name - % of Outliers: 19.417066199520562% \n",
      "\n",
      "Column: Carrier Type - Number of Outliers: 0\n",
      "Column: Carrier Type - % of Outliers: 0.0% \n",
      "\n",
      "Column: County of Injury - Number of Outliers: 0\n",
      "Column: County of Injury - % of Outliers: 0.0% \n",
      "\n",
      "Column: COVID-19 Indicator - Number of Outliers: 21101\n",
      "Column: COVID-19 Indicator - % of Outliers: 4.863774663470403% \n",
      "\n",
      "Column: District Name - Number of Outliers: 0\n",
      "Column: District Name - % of Outliers: 0.0% \n",
      "\n",
      "Column: Gender - Number of Outliers: 0\n",
      "Column: Gender - % of Outliers: 0.0% \n",
      "\n",
      "Column: IME-4 Count - Number of Outliers: 101419\n",
      "Column: IME-4 Count - % of Outliers: 23.377051447538264% \n",
      "\n",
      "Column: Industry Code - Number of Outliers: 79116\n",
      "Column: Industry Code - % of Outliers: 18.23621611654066% \n",
      "\n",
      "Column: Medical Fee Region - Number of Outliers: 0\n",
      "Column: Medical Fee Region - % of Outliers: 0.0% \n",
      "\n",
      "Column: WCIO Cause of Injury Code - Number of Outliers: 0\n",
      "Column: WCIO Cause of Injury Code - % of Outliers: 0.0% \n",
      "\n",
      "Column: WCIO Nature of Injury Code - Number of Outliers: 0\n",
      "Column: WCIO Nature of Injury Code - % of Outliers: 0.0% \n",
      "\n",
      "Column: WCIO Part Of Body Code - Number of Outliers: 69652\n",
      "Column: WCIO Part Of Body Code - % of Outliers: 16.05476673427992% \n",
      "\n",
      "Column: Number of Dependents - Number of Outliers: 0\n",
      "Column: Number of Dependents - % of Outliers: 0.0% \n",
      "\n",
      "Column: Accident Year - Number of Outliers: 3384\n",
      "Column: Accident Year - % of Outliers: 0.7800110639867232% \n",
      "\n",
      "Column: Accident Month - Number of Outliers: 0\n",
      "Column: Accident Month - % of Outliers: 0.0% \n",
      "\n",
      "Column: Accident Day - Number of Outliers: 0\n",
      "Column: Accident Day - % of Outliers: 0.0% \n",
      "\n",
      "Column: Assembly Year - Number of Outliers: 0\n",
      "Column: Assembly Year - % of Outliers: 0.0% \n",
      "\n",
      "Column: Assembly Month - Number of Outliers: 0\n",
      "Column: Assembly Month - % of Outliers: 0.0% \n",
      "\n",
      "Column: Assembly Day - Number of Outliers: 0\n",
      "Column: Assembly Day - % of Outliers: 0.0% \n",
      "\n",
      "Column: C-2 Year - Number of Outliers: 912\n",
      "Column: C-2 Year - % of Outliers: 0.21021574774110272% \n",
      "\n",
      "Column: C-2 Month - Number of Outliers: 0\n",
      "Column: C-2 Month - % of Outliers: 0.0% \n",
      "\n",
      "Column: C-2 Day - Number of Outliers: 0\n",
      "Column: C-2 Day - % of Outliers: 0.0% \n",
      "\n",
      "Column: C-3 Date Binary - Number of Outliers: 0\n",
      "Column: C-3 Date Binary - % of Outliers: 0.0% \n",
      "\n",
      "Column: First Hearing Year - Number of Outliers: 0\n",
      "Column: First Hearing Year - % of Outliers: 0.0% \n",
      "\n",
      "Columns with more than 10% Outliers:\n",
      "['Carrier Name', 'IME-4 Count', 'Industry Code', 'WCIO Part Of Body Code']\n"
     ]
    }
   ],
   "source": [
    "p.detect_outliers_iqr(X_train, missing_threshold = 10)"
   ]
  },
  {
   "cell_type": "code",
   "execution_count": null,
   "id": "fc071c70",
   "metadata": {
    "ExecuteTime": {
     "end_time": "2024-11-07T14:42:12.955066Z",
     "start_time": "2024-11-07T14:42:06.861060Z"
    }
   },
   "outputs": [],
   "source": [
    "columns = ['Carrier Name', 'IME-4 Count', 'Industry Code', 'WCIO Part Of Body Code']\n",
    "\n",
    "v.boxplot_out(X_train, columns = columns, ncols = 2)"
   ]
  },
  {
   "cell_type": "markdown",
   "id": "94fe9b92",
   "metadata": {},
   "source": [
    "Doesnt make sense to apply log to some of the `Code`columns and not to other. Try to apply log on `Carrier Name`and `IME-4 Count`."
   ]
  },
  {
   "cell_type": "code",
   "execution_count": 214,
   "id": "5a3c124a",
   "metadata": {
    "ExecuteTime": {
     "end_time": "2024-11-07T19:23:05.487444Z",
     "start_time": "2024-11-07T19:23:05.474503Z"
    }
   },
   "outputs": [],
   "source": [
    "#X_train['Carrier Name Log'] = np.log(X_train['Carrier Name'] + 1)\n",
    "X_train['IME-4 Count Log'] = np.log(X_train['IME-4 Count'] + 1)"
   ]
  },
  {
   "cell_type": "code",
   "execution_count": 215,
   "id": "33d2f446",
   "metadata": {
    "ExecuteTime": {
     "end_time": "2024-11-07T19:23:07.152585Z",
     "start_time": "2024-11-07T19:23:07.146883Z"
    }
   },
   "outputs": [],
   "source": [
    "#X_val['Carrier Name Log'] = np.log(X_val['Carrier Name'] + 1)\n",
    "X_val['IME-4 Count Log'] = np.log(X_val['IME-4 Count'] + 1)"
   ]
  },
  {
   "cell_type": "code",
   "execution_count": null,
   "id": "ae45c41e",
   "metadata": {
    "ExecuteTime": {
     "end_time": "2024-11-07T14:42:15.142982Z",
     "start_time": "2024-11-07T14:42:12.992546Z"
    }
   },
   "outputs": [],
   "source": [
    "columns = ['Carrier Name Log', 'IME-4 Count Log']\n",
    "\n",
    "v.boxplot_out(X_train, columns = columns, ncols = 2)"
   ]
  },
  {
   "cell_type": "markdown",
   "id": "db753103",
   "metadata": {},
   "source": [
    "still show outliers. keep both and choose in feature selection "
   ]
  },
  {
   "cell_type": "markdown",
   "id": "8c9d1db7",
   "metadata": {},
   "source": [
    "## 3.6 Visualisations\n",
    "\n",
    "<a href=\"#top\">Top &#129033;</a>"
   ]
  },
  {
   "cell_type": "code",
   "execution_count": null,
   "id": "a4ca852f",
   "metadata": {
    "ExecuteTime": {
     "start_time": "2024-11-07T14:38:59.087Z"
    }
   },
   "outputs": [],
   "source": [
    "all_train = pd.concat([X_train, y_train], axis=1)\n",
    "all_train.head(2)"
   ]
  },
  {
   "cell_type": "code",
   "execution_count": null,
   "id": "935c9e96",
   "metadata": {
    "ExecuteTime": {
     "start_time": "2024-11-07T14:38:59.089Z"
    }
   },
   "outputs": [],
   "source": [
    "accident_counts = all_train['Accident Year'].value_counts().sort_index()\n",
    "\n",
    "plt.figure(figsize=(10, 6))\n",
    "plt.plot(accident_counts.index, accident_counts.values)\n",
    "plt.title('Number of Accidents Over Time')\n",
    "plt.xlabel('Date')\n",
    "plt.ylabel('Number of Accidents')\n",
    "plt.xticks()\n",
    "plt.grid(True)\n",
    "plt.show()"
   ]
  },
  {
   "cell_type": "code",
   "execution_count": null,
   "id": "ce0d2588",
   "metadata": {
    "ExecuteTime": {
     "start_time": "2024-11-07T14:38:59.091Z"
    }
   },
   "outputs": [],
   "source": [
    "# Set up the figure with subplots\n",
    "fig, axes = plt.subplots(1, 3, figsize=(18, 6))\n",
    "\n",
    "# First subplot: Accident Month\n",
    "sns.countplot(data=all_train, x='Accident Month', ax=axes[0])\n",
    "axes[0].set_title('Accident Count by Month')\n",
    "axes[0].set_xlabel('Accident Month')\n",
    "axes[0].set_ylabel('Count')\n",
    "\n",
    "# Second subplot: Assembly Month\n",
    "sns.countplot(data=all_train, x='Assembly Month', ax=axes[1])\n",
    "axes[1].set_title('Assembly Count by Month')\n",
    "axes[1].set_xlabel('Assembly Month')\n",
    "axes[1].set_ylabel('Count')\n",
    "\n",
    "# Third subplot: C-2 Month\n",
    "sns.countplot(data=all_train, x='C-2 Month', ax=axes[2])\n",
    "axes[2].set_title('C-2 Count by Month')\n",
    "axes[2].set_xlabel('C-2 Month')\n",
    "axes[2].set_ylabel('Count')\n",
    "\n",
    "# Adjust layout\n",
    "plt.tight_layout()\n",
    "plt.show()"
   ]
  },
  {
   "cell_type": "code",
   "execution_count": null,
   "id": "60a4fa0f",
   "metadata": {
    "ExecuteTime": {
     "start_time": "2024-11-07T14:38:59.093Z"
    }
   },
   "outputs": [],
   "source": [
    "plt.figure(figsize=(10, 6))\n",
    "sns.regplot(x='Age at Injury', y='Average Weekly Wage', data=all_train, scatter_kws={'alpha':0.5})\n",
    "\n",
    "# Set the labels and title\n",
    "plt.title('Age at Injury vs Average Weekly Wage')\n",
    "plt.xlabel('Age at Injury')\n",
    "plt.ylabel('Average Weekly Wage')\n",
    "\n",
    "# Show the plot\n",
    "plt.grid(True)\n",
    "plt.show()"
   ]
  },
  {
   "cell_type": "code",
   "execution_count": null,
   "id": "a8e55df3",
   "metadata": {
    "ExecuteTime": {
     "start_time": "2024-11-07T14:38:59.094Z"
    }
   },
   "outputs": [],
   "source": [
    "plt.figure(figsize=(10, 6))\n",
    "sns.boxplot(data=X_train, x='Gender', y='Average Weekly Wage')\n",
    "plt.title('Gender vs. Average Weekly Wage')\n",
    "plt.xlabel('Gender')\n",
    "plt.ylabel('Average Weekly Wage')\n",
    "plt.grid(True)\n",
    "plt.show()"
   ]
  },
  {
   "cell_type": "code",
   "execution_count": null,
   "id": "919f0a46",
   "metadata": {
    "ExecuteTime": {
     "start_time": "2024-11-07T14:38:59.096Z"
    }
   },
   "outputs": [],
   "source": [
    "plt.figure(figsize=(10, 6))\n",
    "sns.boxplot(data=X_train, x='Carrier Type', y='Age at Injury')\n",
    "plt.title('Carrier Type vs. Age at Injury')\n",
    "plt.xlabel('Carrier Type')\n",
    "plt.ylabel('Age at Injury')\n",
    "plt.xticks(rotation=30) \n",
    "plt.grid(True)\n",
    "plt.show()"
   ]
  },
  {
   "cell_type": "code",
   "execution_count": null,
   "id": "32e08e35",
   "metadata": {
    "ExecuteTime": {
     "start_time": "2024-11-07T14:38:59.097Z"
    }
   },
   "outputs": [],
   "source": [
    "plt.figure(figsize=(12, 6))\n",
    "sns.boxenplot(x=\"Claim Injury Type\", y=\"Average Weekly Wage\", data=df)\n",
    "plt.title(\"Distribution of Weekly Wages by Claim Injury Type\")\n",
    "plt.show()"
   ]
  },
  {
   "cell_type": "code",
   "execution_count": null,
   "id": "46bc74b8",
   "metadata": {
    "ExecuteTime": {
     "start_time": "2024-11-07T14:38:59.099Z"
    }
   },
   "outputs": [],
   "source": [
    "df[\"Claim Injury Type\"].value_counts(normalize=True).plot(kind='bar', color='skyblue')\n",
    "plt.title(\"Proportion of Claim Injury Types\")\n",
    "plt.xlabel(\"Claim Injury Type\")\n",
    "plt.ylabel(\"Proportion\")\n",
    "plt.show()"
   ]
  },
  {
   "cell_type": "markdown",
   "id": "7ee700cb",
   "metadata": {},
   "source": [
    "# 4. Feature Selection\n",
    "\n",
    "<a href=\"#top\">Top &#129033;</a>"
   ]
  },
  {
   "cell_type": "markdown",
   "id": "c7c89225",
   "metadata": {},
   "source": [
    "**Split Numerical and Categorical Variables**"
   ]
  },
  {
   "cell_type": "code",
   "execution_count": 216,
   "id": "f6558bfb",
   "metadata": {
    "ExecuteTime": {
     "end_time": "2024-11-07T19:23:20.945711Z",
     "start_time": "2024-11-07T19:23:20.941923Z"
    }
   },
   "outputs": [],
   "source": [
    "num = ['Age at Injury', 'Average Weekly Wage', 'Birth Year','IME-4 Count', 'Number of Dependents',\n",
    "       'Accident Year', 'Accident Month', 'Accident Day', 'Assembly Year', 'Assembly Month', 'Assembly Day',\n",
    "       'C-2 Year', 'C-2 Month', 'C-2 Day', 'First Hearing Year', 'IME-4 Count Log']\n",
    "\n",
    "# \n",
    "#, 'Carrier Name Log'\n",
    "\n",
    "categ = ['Alternative Dispute Resolution', 'Attorney/Representative', 'Carrier Name',\n",
    "         'Carrier Type', 'County of Injury', 'COVID-19 Indicator', 'District Name', 'Gender',\n",
    "         'Industry Code', 'Medical Fee Region', 'WCIO Cause of Injury Code', 'WCIO Nature of Injury Code',\n",
    "         'WCIO Part Of Body Code', 'Zip Code', 'C-3 Date Binary' ]"
   ]
  },
  {
   "cell_type": "markdown",
   "id": "af022c18",
   "metadata": {},
   "source": [
    "## 4.1 Scaling\n",
    "\n",
    "<a href=\"#top\">Top &#129033;</a>"
   ]
  },
  {
   "cell_type": "markdown",
   "id": "08b1c6ae",
   "metadata": {},
   "source": [
    "**Standard Scaler**"
   ]
  },
  {
   "cell_type": "code",
   "execution_count": null,
   "id": "cd1791ea",
   "metadata": {
    "ExecuteTime": {
     "start_time": "2024-11-07T14:38:59.109Z"
    }
   },
   "outputs": [],
   "source": [
    "standard = StandardScaler()\n",
    "X_train_SS = standard.fit_transform(X_train[num])\n",
    "X_train_SS = pd.DataFrame(X_train_SS, columns=num, index=X_train.index)"
   ]
  },
  {
   "cell_type": "code",
   "execution_count": null,
   "id": "ae76a0b5",
   "metadata": {
    "ExecuteTime": {
     "start_time": "2024-11-07T14:38:59.125Z"
    }
   },
   "outputs": [],
   "source": [
    "X_train_SS.describe()"
   ]
  },
  {
   "cell_type": "markdown",
   "id": "8ecdeab6",
   "metadata": {},
   "source": [
    "**MinMax Scaler**"
   ]
  },
  {
   "cell_type": "code",
   "execution_count": null,
   "id": "631a4860",
   "metadata": {
    "ExecuteTime": {
     "start_time": "2024-11-07T14:38:59.128Z"
    }
   },
   "outputs": [],
   "source": [
    "minmax = MinMaxScaler()\n",
    "X_train_MM = minmax.fit_transform(X_train[num])\n",
    "X_train_MM = pd.DataFrame(X_train_MM, columns=num, index=X_train.index)"
   ]
  },
  {
   "cell_type": "code",
   "execution_count": null,
   "id": "42840c81",
   "metadata": {
    "ExecuteTime": {
     "start_time": "2024-11-07T14:38:59.133Z"
    }
   },
   "outputs": [],
   "source": [
    "X_train_MM.describe()"
   ]
  },
  {
   "cell_type": "markdown",
   "id": "efaeb99b",
   "metadata": {},
   "source": [
    "**Robust Scaler**"
   ]
  },
  {
   "cell_type": "code",
   "execution_count": 217,
   "id": "ca0e2cc5",
   "metadata": {
    "ExecuteTime": {
     "end_time": "2024-11-07T19:23:27.001035Z",
     "start_time": "2024-11-07T19:23:26.606892Z"
    }
   },
   "outputs": [],
   "source": [
    "robust = RobustScaler()\n",
    "X_train_RS = robust.fit_transform(X_train[num])\n",
    "X_train_RS = pd.DataFrame(X_train_RS, columns=num, index=X_train.index)"
   ]
  },
  {
   "cell_type": "code",
   "execution_count": null,
   "id": "b76c667e",
   "metadata": {
    "ExecuteTime": {
     "start_time": "2024-11-07T14:38:59.141Z"
    }
   },
   "outputs": [],
   "source": [
    "X_train_RS.describe()"
   ]
  },
  {
   "cell_type": "markdown",
   "id": "b4b2a42f",
   "metadata": {},
   "source": [
    "### Summary of Scaling Methods for Numerical Data\n",
    "\n",
    "#### 1. **RobustScaler**\n",
    "- **Ideal for handling outliers**: The **RobustScaler** is best when working with data that contains outliers, as it scales based on the interquartile range (IQR), making it less sensitive to extreme values.\n",
    "- **Example**: Features like **'IME-4 Count'** have large outliers that could distort the scaling. **RobustScaler** mitigates this issue.\n",
    "\n",
    "#### 2. **StandardScaler**\n",
    "- **Works well for normally distributed data**: The **StandardScaler** standardizes data by centering it with a mean of zero and scaling it by the standard deviation. It is effective when our data is normally distributed.\n",
    "- **Example**: The feature **'Birth Year'** has a normal distribution and is well-centered using this scaler.\n",
    "\n",
    "#### 3. **MinMaxScaler**\n",
    "- **Sensitive to outliers**: The **MinMaxScaler** compresses data into a 0–1 range, but is vulnerable to outliers, which can significantly skew the result. It's most effective when applied to features with moderate ranges or when the model is sensitive to the feature range.\n",
    "- **Example**: The **'Industry Code'** feature, with a moderate range, benefits from this transformation.\n",
    "\n",
    "---\n",
    "\n",
    "### Scaling Results Summary:\n",
    "\n",
    "| Feature | **RobustScaler** | **StandardScaler** | **MinMaxScaler** |\n",
    "|---------|------------------|--------------------|------------------|\n",
    "| **Age at Injury** | Median-based scaling to handle outliers | Scaled to have mean = 0, std = 1 | Values between 0 and 1 |\n",
    "| **Average Weekly Wage** | Robust to large outliers | Scaled but affected by outliers | Most values compressed due to extreme values |\n",
    "| **Birth Year** | Handles skew in birth year data | Centered around mean | No major issues |\n",
    "| **IME-4 Count** | Effective for highly skewed counts | Still influenced by outliers | Compression due to large counts |\n",
    "| **Industry Code** | Efficient scaling due to moderate range | Normalized for centered values | All values mapped to 0–1 range |\n",
    "\n",
    "---\n",
    "\n",
    "### Recommendation:\n",
    "Given that our dataset contains outliers in variables like **'IME-4 Count'** and **'Average Weekly Wage'**, the **RobustScaler** is the best choice for this scenario, in our opinion. It effectively handles skewed data without the influence of outliers. However, if we require data centering for algorithms that depend on normalized features, we can also consider using the **StandardScaler** after addressing outliers.\n"
   ]
  },
  {
   "cell_type": "markdown",
   "id": "f7df6cb5",
   "metadata": {
    "ExecuteTime": {
     "end_time": "2024-11-03T15:46:33.996204Z",
     "start_time": "2024-11-03T15:46:33.993568Z"
    }
   },
   "source": [
    "## 4.2 Filter-Based Methods\n",
    "\n",
    "<a href=\"#top\">Top &#129033;</a>"
   ]
  },
  {
   "cell_type": "markdown",
   "id": "d099e231",
   "metadata": {},
   "source": [
    "**Variance Threshold**"
   ]
  },
  {
   "cell_type": "code",
   "execution_count": null,
   "id": "848fb1f4",
   "metadata": {
    "ExecuteTime": {
     "end_time": "2024-11-07T18:54:19.280293Z",
     "start_time": "2024-11-07T18:54:19.255446Z"
    },
    "scrolled": true
   },
   "outputs": [],
   "source": [
    "X_train_RS.var()"
   ]
  },
  {
   "cell_type": "code",
   "execution_count": null,
   "id": "223a7b6a",
   "metadata": {
    "ExecuteTime": {
     "end_time": "2024-11-07T18:54:30.731829Z",
     "start_time": "2024-11-07T18:54:30.707656Z"
    }
   },
   "outputs": [],
   "source": [
    "threshold = 0.01\n",
    "selector = VarianceThreshold(threshold=threshold)\n",
    "\n",
    "X_train_high_variance = selector.fit_transform(X_train_RS)\n",
    "print(f\"Number of features before variance threshold: {X_train_RS.shape[1]}\")\n",
    "\n",
    "print(f\"Number of features after variance threshold: {X_train_high_variance.shape[1]}\")\n"
   ]
  },
  {
   "cell_type": "markdown",
   "id": "cf2e4a36",
   "metadata": {},
   "source": [
    "**Spearman Correlation Matrix**"
   ]
  },
  {
   "cell_type": "code",
   "execution_count": null,
   "id": "ee19fd1c",
   "metadata": {
    "ExecuteTime": {
     "end_time": "2024-11-07T18:54:37.288786Z",
     "start_time": "2024-11-07T18:54:36.264950Z"
    }
   },
   "outputs": [],
   "source": [
    "fs.correlation_matrix(X_train_RS, num)"
   ]
  },
  {
   "cell_type": "markdown",
   "id": "fc4911c8",
   "metadata": {},
   "source": [
    "**High Correlations**\n",
    "\n",
    "| Var 1 | Var 2 | Correlation |\n",
    "| ----- | ----- | ----------- |\n",
    "| Birth Year | Age at Injury | 0.95 |\n",
    "| C-2 Month | Assembly Month | 0.93 |\n",
    "| IME-4 Count | IME-4 Count Log | 0.92|\n",
    "| C-2 Day | Assembly Day | 0.82 |\n"
   ]
  },
  {
   "cell_type": "markdown",
   "id": "2a9beb24",
   "metadata": {},
   "source": [
    "**Chi Squared Test**"
   ]
  },
  {
   "cell_type": "code",
   "execution_count": null,
   "id": "98e94198",
   "metadata": {
    "ExecuteTime": {
     "start_time": "2024-11-07T14:38:59.151Z"
    }
   },
   "outputs": [],
   "source": [
    "fs.chi_squared(X_train, y_train, categ)"
   ]
  },
  {
   "cell_type": "markdown",
   "id": "63c30d49",
   "metadata": {},
   "source": [
    "**Not Selected Features**\n",
    "\n",
    "| Var | Chi2 Score | P-value |\n",
    "| ----- | ----- | ----------- |\n",
    "| Alternative Dispute Resolution | 8.856989 | 0.263087 |\n",
    "| Zip Code | 7.118438 | 0.416653 |\n"
   ]
  },
  {
   "cell_type": "markdown",
   "id": "d8cb76b8",
   "metadata": {},
   "source": [
    "## 4.3 Wrapper Methods\n",
    "\n",
    "<a href=\"#top\">Top &#129033;</a>"
   ]
  },
  {
   "cell_type": "code",
   "execution_count": null,
   "id": "e1b0b5e2",
   "metadata": {
    "ExecuteTime": {
     "start_time": "2024-11-07T14:38:59.154Z"
    }
   },
   "outputs": [],
   "source": [
    "#len(X_train[num].columns)"
   ]
  },
  {
   "cell_type": "markdown",
   "id": "70b39ae4",
   "metadata": {},
   "source": [
    "**RFE**"
   ]
  },
  {
   "cell_type": "code",
   "execution_count": null,
   "id": "1fd2b48e",
   "metadata": {
    "ExecuteTime": {
     "start_time": "2024-11-07T14:38:59.157Z"
    },
    "scrolled": true
   },
   "outputs": [],
   "source": [
    "n_features = np.arange(5, 17)\n",
    "model = LogisticRegression()\n",
    "fs.rfe(X_train_RS, y_train, n_features = n_features, model = model)\n",
    "\n",
    "# ~45 min to run"
   ]
  },
  {
   "cell_type": "markdown",
   "id": "31245213",
   "metadata": {},
   "source": [
    "**RFE LR Features**\n",
    "\n",
    "['Age at Injury',\n",
    " 'Average Weekly Wage',\n",
    " 'Birth Year',\n",
    " 'IME-4 Count',\n",
    " 'IME-4 Count Log',\n",
    " 'Accident Year',\n",
    " 'Accident Month',\n",
    " 'Assembly Year',\n",
    " 'Assembly Month',\n",
    " 'Assembly Day',\n",
    " 'C-2 Year',\n",
    " 'C-2 Month',\n",
    " 'C-2 Day',\n",
    " 'First Hearing Year']"
   ]
  },
  {
   "cell_type": "code",
   "execution_count": null,
   "id": "b2d29183",
   "metadata": {
    "ExecuteTime": {
     "start_time": "2024-11-07T14:38:59.159Z"
    },
    "scrolled": true
   },
   "outputs": [],
   "source": [
    "n_features = np.arange(5, 17)\n",
    "model = RandomForestClassifier()\n",
    "fs.rfe(X_train_RS, y_train, n_features = n_features, model = model)\n",
    "\n",
    "# ~4h to run"
   ]
  },
  {
   "cell_type": "markdown",
   "id": "ee3a6e3f",
   "metadata": {},
   "source": [
    "**RFE with Cross Validation**"
   ]
  },
  {
   "cell_type": "code",
   "execution_count": null,
   "id": "aa18eb75",
   "metadata": {
    "ExecuteTime": {
     "start_time": "2024-11-07T14:38:59.161Z"
    }
   },
   "outputs": [],
   "source": [
    "# experiment with RFECV\n",
    "\n",
    "from sklearn.feature_selection import RFECV\n",
    "from sklearn.linear_model import LogisticRegression\n",
    "from sklearn.metrics import classification_report, f1_score\n",
    "from sklearn.model_selection import StratifiedKFold\n",
    "\n",
    "def rfe_cv(X, y, model=None, cv = 5):\n",
    "    \n",
    "    best_score = 0\n",
    "    best_features = []\n",
    "\n",
    "    results = {}\n",
    "    \n",
    "    for feature in n_features:\n",
    "        \n",
    "        # Perform RFE to select features\n",
    "        rfe_cv = RFECV(estimator=model, step=1, cv=StratifiedKFold(cv), scoring='f1_macro')\n",
    "    \n",
    "        rfe_cv.fit(X, y)\n",
    "\n",
    "        # Get selected features\n",
    "        selected_features = X.columns[rfe_cv.support_]\n",
    "        \n",
    "        # Model predictions and classification report on the training set with selected features\n",
    "        y_pred = rfe_cv.predict(X)\n",
    "        print(f\"Classification Report for {feature} features:\\n\")\n",
    "        print(classification_report(y, y_pred))\n",
    "        \n",
    "        # Calculate the macro average F1 score\n",
    "        macro_f1 = f1_score(y, y_pred, average='macro')\n",
    "        print(f\"Macro Avg F1 Score for {feature} features: {macro_f1:.4f}\\n\")\n",
    "        \n",
    "        # Store the results\n",
    "        results[feature] = selected_features\n",
    "        \n",
    "        # Check if this is the best score\n",
    "        if macro_f1 > best_score:\n",
    "            best_score = macro_f1\n",
    "            best_features = selected_features.tolist()  \n",
    "    \n",
    "    return best_features\n"
   ]
  },
  {
   "cell_type": "code",
   "execution_count": null,
   "id": "7920393b",
   "metadata": {
    "ExecuteTime": {
     "start_time": "2024-11-07T14:38:59.168Z"
    }
   },
   "outputs": [],
   "source": [
    "model = LogisticRegression()\n",
    "cv = 5\n",
    "rfe_cv(X_train_RS, y_train,\n",
    "       model = model, cv = cv)"
   ]
  },
  {
   "cell_type": "markdown",
   "id": "d80c3c88",
   "metadata": {},
   "source": [
    "## 4.4 Embedded Methods\n",
    "\n",
    "<a href=\"#top\">Top &#129033;</a>"
   ]
  },
  {
   "cell_type": "markdown",
   "id": "15467fdc",
   "metadata": {},
   "source": [
    "**Lasso**"
   ]
  },
  {
   "cell_type": "code",
   "execution_count": null,
   "id": "e51b9329",
   "metadata": {
    "ExecuteTime": {
     "end_time": "2024-11-07T18:55:06.202588Z",
     "start_time": "2024-11-07T18:55:05.826539Z"
    }
   },
   "outputs": [],
   "source": [
    "fs.lasso(X_train_RS, y_train, alpha = 0.01)"
   ]
  },
  {
   "cell_type": "markdown",
   "id": "e2fd6057",
   "metadata": {},
   "source": [
    "**Extra Trees Classifier**"
   ]
  },
  {
   "cell_type": "code",
   "execution_count": null,
   "id": "afd11058",
   "metadata": {
    "ExecuteTime": {
     "start_time": "2024-11-07T14:38:59.173Z"
    }
   },
   "outputs": [],
   "source": [
    "fs.plot_feature_importance(X_train_RS, X_train[categ], y_train, \n",
    "                        n_estimators = 250)"
   ]
  },
  {
   "cell_type": "markdown",
   "id": "88a951ce",
   "metadata": {},
   "source": [
    "## 4.5 Hybrid Methods\n",
    "\n",
    "<a href=\"#top\">Top &#129033;</a>"
   ]
  },
  {
   "cell_type": "markdown",
   "id": "935861c8",
   "metadata": {},
   "source": [
    "**Boruta**"
   ]
  },
  {
   "cell_type": "code",
   "execution_count": null,
   "id": "3d217d9a",
   "metadata": {
    "ExecuteTime": {
     "start_time": "2024-11-07T14:38:59.176Z"
    }
   },
   "outputs": [],
   "source": [
    "from boruta import BorutaPy"
   ]
  },
  {
   "cell_type": "code",
   "execution_count": null,
   "id": "6d6c575d",
   "metadata": {
    "ExecuteTime": {
     "start_time": "2024-11-07T14:38:59.178Z"
    }
   },
   "outputs": [],
   "source": [
    "def boruta(X_num, X_categ, y, n_estimators=250, \n",
    "                                      random_state=42, threshold=5):\n",
    "    \n",
    "    # Concatenate scaled and categorical features\n",
    "    X_comb = pd.concat([X_num, X_categ], axis=1)\n",
    "\n",
    "    # Define and fit Boruta with RandomForest\n",
    "    rf_model = RandomForestClassifier(n_estimators=n_estimators, random_state=random_state)\n",
    "    boruta_selector = BorutaPy(rf_model, n_estimators='auto', random_state=random_state)\n",
    "    boruta_selector.fit(X_comb.values, y.values)\n",
    "\n",
    "    # Get selected features based on Boruta selection\n",
    "    selected_features = X_comb.columns[boruta_selector.support_].tolist()\n",
    "    print(\"Selected features:\", selected_features)\n",
    "\n",
    "    # Retrieve feature importances from the Boruta results\n",
    "    feature_importance = rf_model.feature_importances_[boruta_selector.support_]\n",
    "    feature_importance = 100.0 * (feature_importance / feature_importance.max())\n",
    "\n",
    "    # Sort indices of features based on importance\n",
    "    sorted_idx = np.argsort(feature_importance)\n",
    "    pos = np.arange(sorted_idx.shape[0]) + 0.5\n",
    "\n",
    "    # Plot feature importances\n",
    "    plt.figure(figsize=(12, 8))\n",
    "    plt.barh(pos, feature_importance[sorted_idx], align='center')\n",
    "    plt.yticks(pos, np.array(selected_features)[sorted_idx])\n",
    "    plt.xlabel('Relative Importance')\n",
    "    plt.title('Feature Importance of Selected Features Using Boruta')\n",
    "    \n",
    "    # Draw a line at the importance threshold\n",
    "    plt.axvline(x=threshold, color='red', linestyle='--', label=f'{threshold}% Importance Threshold')\n",
    "    plt.legend()\n",
    "    plt.show()"
   ]
  },
  {
   "cell_type": "code",
   "execution_count": null,
   "id": "5ee6108d",
   "metadata": {
    "ExecuteTime": {
     "start_time": "2024-11-07T14:38:59.179Z"
    }
   },
   "outputs": [],
   "source": [
    "boruta(X_train_RS, X_train[categ], y_train, \n",
    "                        n_estimators = 10)"
   ]
  },
  {
   "cell_type": "code",
   "execution_count": null,
   "id": "0c10ad35",
   "metadata": {
    "ExecuteTime": {
     "start_time": "2024-11-07T14:38:59.181Z"
    }
   },
   "outputs": [],
   "source": [
    "import play_song as song\n",
    "song.play_('audio.mp3')"
   ]
  },
  {
   "cell_type": "code",
   "execution_count": null,
   "id": "68991aa7",
   "metadata": {
    "ExecuteTime": {
     "start_time": "2024-11-07T14:38:59.183Z"
    }
   },
   "outputs": [],
   "source": [
    "# rfe_LR = ['Age at Injury',\n",
    "#  'Average Weekly Wage',\n",
    "#  'Birth Year',\n",
    "#  'IME-4 Count',\n",
    "#  'IME-4 Count Log',\n",
    "#  'Accident Year',\n",
    "#  'Accident Month',\n",
    "#  'Assembly Year',\n",
    "#  'Assembly Month',\n",
    "#  'Assembly Day',\n",
    "#  'C-2 Year',\n",
    "#  'C-2 Month',\n",
    "#  'C-2 Day',\n",
    "#  'First Hearing Year']\n",
    "\n",
    "\n",
    "# rfe_RF = ['Age at Injury',\n",
    "#  'Average Weekly Wage',\n",
    "#  'Birth Year',\n",
    "#  'IME-4 Count',\n",
    "#  'IME-4 Count Log',\n",
    "#  'Number of Dependents',\n",
    "#  'Accident Year',\n",
    "#  'Accident Month',\n",
    "#  'Accident Day',\n",
    "#  'Assembly Year',\n",
    "#  'Assembly Month',\n",
    "#  'Assembly Day',\n",
    "#  'C-2 Year',\n",
    "#  'C-2 Month',\n",
    "#  'C-2 Day',\n",
    "#  'First Hearing Year']"
   ]
  },
  {
   "cell_type": "markdown",
   "id": "e8d0c959",
   "metadata": {},
   "source": [
    "**Final Decision**\n",
    "\n",
    "`Numeric Variables`\n",
    "\n",
    "| Variable                   | Variance | Correlation | RFE LR | RFE RF | Lasso | Extra Trees | `Decision` |\n",
    "|----------------------------|----------|-------------|--------|--------|-------|-------------|------------|\n",
    "| Accident Day               | keep     | keep | **discard**  | keep         | **discard** | keep       |-----  |\n",
    "| Accident Month             | keep     | keep | keep         | keep         | **discard** | keep       |-----  |\n",
    "| Accident Year              | keep     | keep | keep         | keep         | **discard** | keep       |-----  |\n",
    "| Age at Injury              | keep     | ?    | keep         | keep         | keep        | keep       |-----  |\n",
    "| Average Weekly Wage        | keep     | keep | keep         | keep         | keep        | keep       |-----  |\n",
    "| Assembly Day               | keep     | ?    | keep         | keep         | **discard** | keep       |-----  |\n",
    "| Assembly Month             | keep     | ?    | keep         | keep         | **discard** | keep       |-----  |\n",
    "| Assembly Year              | keep     | keep | keep         | keep         | keep        | keep       |-----  |\n",
    "| Birth Year                 | keep     | ?    | keep         | keep         | **discard** | keep       |-----  |\n",
    "| C-2 Day                    | keep     | ?    | keep         | keep         | **discard** | keep       |-----  |\n",
    "| C-2 Month                  | keep     | ?    | keep         | keep         | keep        | keep       |-----  |\n",
    "| C-2 Year                   | keep     | keep | keep         | keep         | keep        | keep       |-----  |\n",
    "| First Hearing Year         | keep     | keep | keep         | keep         | keep        | keep       |-----  |\n",
    "| IME-4 Count                | keep     | ?    | keep         | keep         | keep        | keep       |-----  |\n",
    "| IME-4 Count Log            | keep     | ?    | keep         | keep         | keep        | keep       |-----  |\n",
    "| Number of Dependents       | keep     | keep | **discard**  | **discard**  | **discard** | keep       |-----  |\n",
    "\n",
    "<br>\n",
    "\n",
    "`Categorical Variables`\n",
    "\n",
    "| Variable | Chi-Squared | Extra Trees | `Decision` |\n",
    "| -------- | ----------- | ------------|------------|\n",
    "| Alternative Dispute Resolution       | **discard** |**discard**|---------|\n",
    "| Attorney/Representative              | keep        |keep       |---------|\n",
    "| Carrier Name                         | keep        |keep       |---------|\n",
    "| Carrier Name Log                     | keep        |keep       |---------|\n",
    "| Carrier Type                         | keep        |keep       |---------|\n",
    "| County of Injury                     | keep        |keep       |---------|\n",
    "| COVID-19 Indicator                   | keep        |**discard**|---------|\n",
    "| C-3 Date Binary                      | keep        |keep       |---------|\n",
    "| District Name                        | keep        |keep       |---------|\n",
    "| Gender                               | keep        |keep       |---------|\n",
    "| Industry Code                        | keep        |keep       |---------|\n",
    "| Medical Fee Region                   | keep        |keep       |---------|\n",
    "| WCIO Cause of Injury Code            | keep        |keep       |---------|\n",
    "| WCIO Nature of Injury Code           | keep        |keep       |---------|\n",
    "| WCIO Part Of Body Code               | keep        |keep       |---------|\n",
    "| Zip Code                             | **discard** |keep       |---------|\n",
    "\n",
    "<br> \n",
    "\n",
    "`Final Features (Numeric & Categorical`\n",
    "\n",
    "| Variable |\n",
    "| -------- | \n",
    "| -------- | \n",
    "| -------- | \n",
    "| -------- | "
   ]
  },
  {
   "cell_type": "markdown",
   "id": "95e37198",
   "metadata": {},
   "source": [
    "**Final Features**"
   ]
  },
  {
   "cell_type": "code",
   "execution_count": 218,
   "id": "3873a229",
   "metadata": {
    "ExecuteTime": {
     "end_time": "2024-11-07T19:23:43.241783Z",
     "start_time": "2024-11-07T19:23:43.238074Z"
    }
   },
   "outputs": [],
   "source": [
    "final_num = ['Age at Injury', 'Average Weekly Wage', 'Assembly Year',\n",
    "        'C-2 Month', 'C-2 Year', 'First Hearing Year', 'IME-4 Count Log']\n",
    "#\n",
    "\n",
    "discard1_num = ['Accident Month', 'Accident Year', 'Assembly Day',\n",
    "                'Assembly Month', 'Birth Year', 'C-2 Day']\n",
    "\n",
    "discard2_num = ['Accident Day']\n",
    "\n",
    "discard3_num = ['Number of Dependents']"
   ]
  },
  {
   "cell_type": "code",
   "execution_count": 219,
   "id": "a042620e",
   "metadata": {
    "ExecuteTime": {
     "end_time": "2024-11-07T19:23:45.286985Z",
     "start_time": "2024-11-07T19:23:45.283456Z"
    }
   },
   "outputs": [],
   "source": [
    "final_categ = ['Attorney/Representative', 'Carrier Name',\n",
    "         'Carrier Type', 'County of Injury', 'District Name', 'Gender',\n",
    "         'Industry Code', 'Medical Fee Region', 'WCIO Cause of Injury Code', 'WCIO Nature of Injury Code',\n",
    "         'WCIO Part Of Body Code','C-3 Date Binary' ]\n",
    "#, 'Carrier Name Log'\n",
    "\n",
    "discard1_categ = ['COVID-19 Indicator', 'Zip Code']\n",
    "\n",
    "discard2_categ = ['Alternative Dispute Resolution']"
   ]
  },
  {
   "cell_type": "code",
   "execution_count": 220,
   "id": "dfe32188",
   "metadata": {
    "ExecuteTime": {
     "end_time": "2024-11-07T19:23:46.369129Z",
     "start_time": "2024-11-07T19:23:46.281814Z"
    }
   },
   "outputs": [],
   "source": [
    "X_train = X_train[final_num + final_categ]\n",
    "X_val = X_val[final_num + final_categ]"
   ]
  },
  {
   "cell_type": "markdown",
   "id": "1a9061ac",
   "metadata": {},
   "source": [
    "# 5. Test\n",
    "\n",
    "<a href=\"#top\">Top &#129033;</a>"
   ]
  },
  {
   "cell_type": "code",
   "execution_count": null,
   "id": "0308ee56",
   "metadata": {
    "ExecuteTime": {
     "end_time": "2024-11-07T14:42:53.461739Z",
     "start_time": "2024-11-07T14:42:53.259090Z"
    }
   },
   "outputs": [],
   "source": [
    "test.describe().T"
   ]
  },
  {
   "cell_type": "code",
   "execution_count": null,
   "id": "d1a3294e",
   "metadata": {
    "ExecuteTime": {
     "end_time": "2024-11-07T14:42:54.506669Z",
     "start_time": "2024-11-07T14:42:53.589174Z"
    }
   },
   "outputs": [],
   "source": [
    "test.describe(include = 'object').T"
   ]
  },
  {
   "cell_type": "markdown",
   "id": "e2ba9148",
   "metadata": {
    "ExecuteTime": {
     "end_time": "2024-11-03T17:45:07.589280Z",
     "start_time": "2024-11-03T17:45:07.578093Z"
    }
   },
   "source": [
    "## 5.1 Feature Engineering\n",
    "\n",
    "<a href=\"#top\">Top &#129033;</a>"
   ]
  },
  {
   "cell_type": "markdown",
   "id": "2dc3d640",
   "metadata": {},
   "source": [
    "### 5.1.1 Data Type Conversions\n",
    "\n",
    "<a href=\"#top\">Top &#129033;</a>"
   ]
  },
  {
   "cell_type": "code",
   "execution_count": 221,
   "id": "a2f53c1c",
   "metadata": {
    "ExecuteTime": {
     "end_time": "2024-11-07T19:23:50.749401Z",
     "start_time": "2024-11-07T19:23:50.507912Z"
    }
   },
   "outputs": [],
   "source": [
    "test['Accident Date'] = pd.to_datetime(test['Accident Date'], \n",
    "                                     errors='coerce')\n",
    "\n",
    "test['Assembly Date'] = pd.to_datetime(test['Assembly Date'], \n",
    "                                     errors='coerce')\n",
    "\n",
    "test['C-2 Date'] = pd.to_datetime(test['C-2 Date'], \n",
    "                                errors='coerce')\n",
    "\n",
    "test['C-3 Date'] = pd.to_datetime(test['C-3 Date'], \n",
    "                                errors='coerce')\n",
    "\n",
    "test['First Hearing Date'] = pd.to_datetime(test['First Hearing Date'], \n",
    "                                          errors='coerce')"
   ]
  },
  {
   "cell_type": "markdown",
   "id": "314c1568",
   "metadata": {},
   "source": [
    "### 5.1.2 Encoding\n",
    "\n",
    "<a href=\"#top\">Top &#129033;</a>"
   ]
  },
  {
   "cell_type": "markdown",
   "id": "4833a9f0",
   "metadata": {},
   "source": [
    "**Alternative Dispute Resolution**\n",
    "\n",
    "encode ['N' nan 'Y' 'U'] n -> 0, y -> 1, u -> 2"
   ]
  },
  {
   "cell_type": "code",
   "execution_count": null,
   "id": "ee20d380",
   "metadata": {
    "ExecuteTime": {
     "end_time": "2024-11-07T14:42:55.812185Z",
     "start_time": "2024-11-07T14:42:55.784665Z"
    }
   },
   "outputs": [],
   "source": [
    "# freq = test['Alternative Dispute Resolution'].value_counts()\n",
    "# freq"
   ]
  },
  {
   "cell_type": "code",
   "execution_count": null,
   "id": "d1b8c7a9",
   "metadata": {
    "ExecuteTime": {
     "end_time": "2024-11-07T14:42:55.903898Z",
     "start_time": "2024-11-07T14:42:55.883542Z"
    }
   },
   "outputs": [],
   "source": [
    "# test['Alternative Dispute Resolution'] = test['Alternative Dispute Resolution'].map(freq)"
   ]
  },
  {
   "cell_type": "markdown",
   "id": "98fd0982",
   "metadata": {},
   "source": [
    "<div style=\"background-color: #f8d7da; color: #721c24; border: 1px solid #f5c6cb; padding: 10px; border-radius: 5px;\">\n",
    "    <strong>Change Alert: </strong> Different Encoding\n",
    "</div>\n"
   ]
  },
  {
   "cell_type": "code",
   "execution_count": 222,
   "id": "fb9e39f4",
   "metadata": {
    "ExecuteTime": {
     "end_time": "2024-11-07T19:23:55.674960Z",
     "start_time": "2024-11-07T19:23:55.671750Z"
    }
   },
   "outputs": [],
   "source": [
    "encoder = OrdinalEncoder(categories=[['N', 'Y', 'U']])"
   ]
  },
  {
   "cell_type": "code",
   "execution_count": 223,
   "id": "2e4f1dec",
   "metadata": {
    "ExecuteTime": {
     "end_time": "2024-11-07T19:23:56.558860Z",
     "start_time": "2024-11-07T19:23:56.463062Z"
    }
   },
   "outputs": [],
   "source": [
    "test['Alternative Dispute Resolution'] = encoder.fit_transform(test[['Alternative Dispute Resolution']])"
   ]
  },
  {
   "cell_type": "markdown",
   "id": "b08bee61",
   "metadata": {},
   "source": [
    "**Attorney/Representative**\n",
    "\n",
    "['N' 'Y' nan] encode 0/1"
   ]
  },
  {
   "cell_type": "code",
   "execution_count": 224,
   "id": "dfb3ceb6",
   "metadata": {
    "ExecuteTime": {
     "end_time": "2024-11-07T19:23:57.431250Z",
     "start_time": "2024-11-07T19:23:57.401395Z"
    }
   },
   "outputs": [
    {
     "data": {
      "text/plain": [
       "Attorney/Representative\n",
       "N    306476\n",
       "Y     81499\n",
       "Name: count, dtype: int64"
      ]
     },
     "execution_count": 224,
     "metadata": {},
     "output_type": "execute_result"
    }
   ],
   "source": [
    "test['Attorney/Representative'].value_counts()"
   ]
  },
  {
   "cell_type": "code",
   "execution_count": 225,
   "id": "0c560901",
   "metadata": {
    "ExecuteTime": {
     "end_time": "2024-11-07T19:23:58.133914Z",
     "start_time": "2024-11-07T19:23:57.992834Z"
    }
   },
   "outputs": [],
   "source": [
    "test['Attorney/Representative'] = test['Attorney/Representative'].replace({'N': 0, 'Y': 1})"
   ]
  },
  {
   "cell_type": "markdown",
   "id": "f7dfc41c",
   "metadata": {},
   "source": [
    "**Carrier Name**"
   ]
  },
  {
   "cell_type": "code",
   "execution_count": 226,
   "id": "8e102434",
   "metadata": {
    "ExecuteTime": {
     "end_time": "2024-11-07T19:23:58.737903Z",
     "start_time": "2024-11-07T19:23:58.692298Z"
    }
   },
   "outputs": [
    {
     "data": {
      "text/plain": [
       "1598"
      ]
     },
     "execution_count": 226,
     "metadata": {},
     "output_type": "execute_result"
    }
   ],
   "source": [
    "test['Carrier Name'].nunique()"
   ]
  },
  {
   "cell_type": "code",
   "execution_count": 227,
   "id": "ddc34e80",
   "metadata": {
    "ExecuteTime": {
     "end_time": "2024-11-07T19:23:58.942721Z",
     "start_time": "2024-11-07T19:23:58.898349Z"
    }
   },
   "outputs": [],
   "source": [
    "freq = test['Carrier Name'].value_counts()"
   ]
  },
  {
   "cell_type": "code",
   "execution_count": 228,
   "id": "5b5e8f8c",
   "metadata": {
    "ExecuteTime": {
     "end_time": "2024-11-07T19:23:59.146392Z",
     "start_time": "2024-11-07T19:23:59.111804Z"
    }
   },
   "outputs": [],
   "source": [
    "test['Carrier Name'] = test['Carrier Name'].map(freq)"
   ]
  },
  {
   "cell_type": "markdown",
   "id": "82557662",
   "metadata": {},
   "source": [
    "**Carrier Type**\n",
    "\n",
    "encode (8 unique values)"
   ]
  },
  {
   "cell_type": "code",
   "execution_count": 229,
   "id": "a797a988",
   "metadata": {
    "ExecuteTime": {
     "end_time": "2024-11-07T19:23:59.621226Z",
     "start_time": "2024-11-07T19:23:59.577277Z"
    }
   },
   "outputs": [
    {
     "data": {
      "text/plain": [
       "Carrier Type\n",
       "1A. PRIVATE                                    201827\n",
       "3A. SELF PUBLIC                                 78948\n",
       "2A. SIF                                         66189\n",
       "4A. SELF PRIVATE                                38619\n",
       "UNKNOWN                                          1642\n",
       "5D. SPECIAL FUND - UNKNOWN                        748\n",
       "5A. SPECIAL FUND - CONS. COMM. (SECT. 25-A)         2\n",
       "Name: count, dtype: int64"
      ]
     },
     "execution_count": 229,
     "metadata": {},
     "output_type": "execute_result"
    }
   ],
   "source": [
    "freq = test['Carrier Type'].value_counts()\n",
    "freq"
   ]
  },
  {
   "cell_type": "code",
   "execution_count": 230,
   "id": "e7d4072a",
   "metadata": {
    "ExecuteTime": {
     "end_time": "2024-11-07T19:24:13.567662Z",
     "start_time": "2024-11-07T19:24:13.537369Z"
    }
   },
   "outputs": [],
   "source": [
    "test['Carrier Type'] = test['Carrier Type'].map(freq)"
   ]
  },
  {
   "cell_type": "markdown",
   "id": "75704118",
   "metadata": {},
   "source": [
    "**County of Injury**\n",
    "\n",
    "probably too many to encode (?) --> freq encoding"
   ]
  },
  {
   "cell_type": "code",
   "execution_count": 231,
   "id": "02c7aa10",
   "metadata": {
    "ExecuteTime": {
     "end_time": "2024-11-07T19:24:14.160858Z",
     "start_time": "2024-11-07T19:24:14.124381Z"
    }
   },
   "outputs": [
    {
     "data": {
      "text/plain": [
       "63"
      ]
     },
     "execution_count": 231,
     "metadata": {},
     "output_type": "execute_result"
    }
   ],
   "source": [
    "test['County of Injury'].nunique()"
   ]
  },
  {
   "cell_type": "code",
   "execution_count": 232,
   "id": "bdd46c82",
   "metadata": {
    "ExecuteTime": {
     "end_time": "2024-11-07T19:24:14.394714Z",
     "start_time": "2024-11-07T19:24:14.358321Z"
    }
   },
   "outputs": [],
   "source": [
    "freq = test['County of Injury'].value_counts()"
   ]
  },
  {
   "cell_type": "code",
   "execution_count": 233,
   "id": "e56b9d15",
   "metadata": {
    "ExecuteTime": {
     "end_time": "2024-11-07T19:24:14.556981Z",
     "start_time": "2024-11-07T19:24:14.525070Z"
    }
   },
   "outputs": [],
   "source": [
    "test['County of Injury'] = test['County of Injury'].map(freq)"
   ]
  },
  {
   "cell_type": "markdown",
   "id": "7102adc1",
   "metadata": {},
   "source": [
    "**COVID-19 Indicator**\n",
    "\n",
    "binary encoding"
   ]
  },
  {
   "cell_type": "code",
   "execution_count": 234,
   "id": "055133c1",
   "metadata": {
    "ExecuteTime": {
     "end_time": "2024-11-07T19:24:14.944904Z",
     "start_time": "2024-11-07T19:24:14.914815Z"
    }
   },
   "outputs": [
    {
     "data": {
      "text/plain": [
       "COVID-19 Indicator\n",
       "N    385434\n",
       "Y      2541\n",
       "Name: count, dtype: int64"
      ]
     },
     "execution_count": 234,
     "metadata": {},
     "output_type": "execute_result"
    }
   ],
   "source": [
    "test['COVID-19 Indicator'].value_counts()"
   ]
  },
  {
   "cell_type": "code",
   "execution_count": 235,
   "id": "af35b59f",
   "metadata": {
    "ExecuteTime": {
     "end_time": "2024-11-07T19:24:15.291234Z",
     "start_time": "2024-11-07T19:24:15.158126Z"
    }
   },
   "outputs": [],
   "source": [
    "test['COVID-19 Indicator'] = test['COVID-19 Indicator'].replace({'N': 0, 'Y': 1})"
   ]
  },
  {
   "cell_type": "markdown",
   "id": "b2c19176",
   "metadata": {},
   "source": [
    "**District Name**\n",
    "\n",
    "encode (8 uniques)"
   ]
  },
  {
   "cell_type": "code",
   "execution_count": 236,
   "id": "a5403af3",
   "metadata": {
    "ExecuteTime": {
     "end_time": "2024-11-07T19:24:15.779725Z",
     "start_time": "2024-11-07T19:24:15.736535Z"
    }
   },
   "outputs": [
    {
     "data": {
      "text/plain": [
       "District Name\n",
       "NYC           187972\n",
       "ALBANY         56500\n",
       "HAUPPAUGE      36656\n",
       "BUFFALO        31481\n",
       "SYRACUSE       29537\n",
       "ROCHESTER      28073\n",
       "BINGHAMTON     15382\n",
       "STATEWIDE       2374\n",
       "Name: count, dtype: int64"
      ]
     },
     "execution_count": 236,
     "metadata": {},
     "output_type": "execute_result"
    }
   ],
   "source": [
    "freq = test['District Name'].value_counts()\n",
    "freq"
   ]
  },
  {
   "cell_type": "code",
   "execution_count": 237,
   "id": "2e8a631b",
   "metadata": {
    "ExecuteTime": {
     "end_time": "2024-11-07T19:24:16.002133Z",
     "start_time": "2024-11-07T19:24:15.971095Z"
    }
   },
   "outputs": [],
   "source": [
    "test['District Name'] = test['District Name'].map(freq)"
   ]
  },
  {
   "cell_type": "markdown",
   "id": "1e77e3bc",
   "metadata": {},
   "source": [
    "**Gender**\n",
    "\n",
    "encode ['M' 'F' nan 'U' 'X']"
   ]
  },
  {
   "cell_type": "code",
   "execution_count": 238,
   "id": "7c498f81",
   "metadata": {
    "ExecuteTime": {
     "end_time": "2024-11-07T19:24:16.458824Z",
     "start_time": "2024-11-07T19:24:16.428142Z"
    }
   },
   "outputs": [
    {
     "data": {
      "text/plain": [
       "Gender\n",
       "M    215343\n",
       "F    167019\n",
       "U      5340\n",
       "X       273\n",
       "Name: count, dtype: int64"
      ]
     },
     "execution_count": 238,
     "metadata": {},
     "output_type": "execute_result"
    }
   ],
   "source": [
    "test['Gender'].value_counts()"
   ]
  },
  {
   "cell_type": "code",
   "execution_count": 239,
   "id": "8fddfe72",
   "metadata": {
    "ExecuteTime": {
     "end_time": "2024-11-07T19:24:16.688999Z",
     "start_time": "2024-11-07T19:24:16.669029Z"
    }
   },
   "outputs": [],
   "source": [
    "test['Gender'] = test['Gender'].map({\n",
    "    'M': 0,  # Male\n",
    "    'F': 1,  # Female\n",
    "    'U': 2,  # Unknown \n",
    "    'X': 2   # Other \n",
    "})"
   ]
  },
  {
   "cell_type": "markdown",
   "id": "a8a39c98",
   "metadata": {},
   "source": [
    "**Medical Fee Region**\n",
    "\n",
    "encode"
   ]
  },
  {
   "cell_type": "code",
   "execution_count": 240,
   "id": "39cc6753",
   "metadata": {
    "ExecuteTime": {
     "end_time": "2024-11-07T19:24:17.192337Z",
     "start_time": "2024-11-07T19:24:17.152765Z"
    },
    "scrolled": false
   },
   "outputs": [
    {
     "data": {
      "text/plain": [
       "Medical Fee Region\n",
       "IV     182276\n",
       "I       91300\n",
       "II      58743\n",
       "III     34679\n",
       "UK      20977\n",
       "Name: count, dtype: int64"
      ]
     },
     "execution_count": 240,
     "metadata": {},
     "output_type": "execute_result"
    }
   ],
   "source": [
    "freq = test['Medical Fee Region'].value_counts()\n",
    "freq"
   ]
  },
  {
   "cell_type": "code",
   "execution_count": 241,
   "id": "48dea1d2",
   "metadata": {
    "ExecuteTime": {
     "end_time": "2024-11-07T19:24:17.526379Z",
     "start_time": "2024-11-07T19:24:17.495790Z"
    }
   },
   "outputs": [],
   "source": [
    "test['Medical Fee Region'] = test['Medical Fee Region'].map(freq)"
   ]
  },
  {
   "cell_type": "markdown",
   "id": "ff4f1cf1",
   "metadata": {},
   "source": [
    "### 5.1.3 Other Transformations\n",
    "\n",
    "<a href=\"#top\">Top &#129033;</a>"
   ]
  },
  {
   "cell_type": "markdown",
   "id": "b7849fa8",
   "metadata": {},
   "source": [
    "**Accident Date**\n",
    "\n",
    "transform into year (maybe month and day too)"
   ]
  },
  {
   "cell_type": "code",
   "execution_count": 242,
   "id": "31e401db",
   "metadata": {
    "ExecuteTime": {
     "end_time": "2024-11-07T19:24:18.562637Z",
     "start_time": "2024-11-07T19:24:18.505012Z"
    }
   },
   "outputs": [],
   "source": [
    "test['Accident Year'] = test['Accident Date'].dt.year\n",
    "test['Accident Month'] = test['Accident Date'].dt.month\n",
    "test['Accident Day'] = test['Accident Date'].dt.day"
   ]
  },
  {
   "cell_type": "markdown",
   "id": "a01e269d",
   "metadata": {},
   "source": [
    "**Assembly Date**\n",
    "\n",
    "transform into year (maybe month and day too)"
   ]
  },
  {
   "cell_type": "code",
   "execution_count": 243,
   "id": "3d246bc4",
   "metadata": {
    "ExecuteTime": {
     "end_time": "2024-11-07T19:24:19.070693Z",
     "start_time": "2024-11-07T19:24:19.026837Z"
    }
   },
   "outputs": [],
   "source": [
    "test['Assembly Year'] = test['Assembly Date'].dt.year\n",
    "test['Assembly Month'] = test['Assembly Date'].dt.month\n",
    "test['Assembly Day'] = test['Assembly Date'].dt.day"
   ]
  },
  {
   "cell_type": "markdown",
   "id": "fdbf86d9",
   "metadata": {},
   "source": [
    "**C-2 Date**\n",
    "\n",
    "transform into year (maybe month and day too)"
   ]
  },
  {
   "cell_type": "code",
   "execution_count": 244,
   "id": "0734cdf2",
   "metadata": {
    "ExecuteTime": {
     "end_time": "2024-11-07T19:24:19.662381Z",
     "start_time": "2024-11-07T19:24:19.612004Z"
    }
   },
   "outputs": [],
   "source": [
    "test['C-2 Year'] = test['C-2 Date'].dt.year\n",
    "test['C-2 Month'] = test['C-2 Date'].dt.month\n",
    "test['C-2 Day'] = test['C-2 Date'].dt.day"
   ]
  },
  {
   "cell_type": "markdown",
   "id": "e85bcd1a",
   "metadata": {},
   "source": [
    "**Zip Code**\n",
    "\n",
    "transform non-numeric into missing values"
   ]
  },
  {
   "cell_type": "code",
   "execution_count": 245,
   "id": "0cd06ff3",
   "metadata": {
    "ExecuteTime": {
     "end_time": "2024-11-07T19:24:20.799656Z",
     "start_time": "2024-11-07T19:24:20.688686Z"
    }
   },
   "outputs": [],
   "source": [
    "test['Zip Code'] = test['Zip Code'].apply(lambda x: np.nan \n",
    "                                      if not str(x).isnumeric() else x)"
   ]
  },
  {
   "cell_type": "markdown",
   "id": "9168215c",
   "metadata": {},
   "source": [
    "**Drop Transformed Columns**"
   ]
  },
  {
   "cell_type": "code",
   "execution_count": 246,
   "id": "93c0b625",
   "metadata": {
    "ExecuteTime": {
     "end_time": "2024-11-07T19:24:21.573738Z",
     "start_time": "2024-11-07T19:24:21.368892Z"
    }
   },
   "outputs": [],
   "source": [
    "test = test.drop(['Accident Date', 'Assembly Date', 'C-2 Date'], axis = 1)"
   ]
  },
  {
   "cell_type": "markdown",
   "id": "9631a4f1",
   "metadata": {},
   "source": [
    "### 5.1.4 Unique Feature-Pair Analysis \n",
    "\n",
    "<a href=\"#top\">Top &#129033;</a>\n",
    "\n",
    "save codes and descriptions in dataframes, for later consultation (if needed)"
   ]
  },
  {
   "cell_type": "code",
   "execution_count": 247,
   "id": "4c36aad6",
   "metadata": {
    "ExecuteTime": {
     "end_time": "2024-11-07T19:24:21.902658Z",
     "start_time": "2024-11-07T19:24:21.834323Z"
    }
   },
   "outputs": [
    {
     "data": {
      "text/html": [
       "<div>\n",
       "<style scoped>\n",
       "    .dataframe tbody tr th:only-of-type {\n",
       "        vertical-align: middle;\n",
       "    }\n",
       "\n",
       "    .dataframe tbody tr th {\n",
       "        vertical-align: top;\n",
       "    }\n",
       "\n",
       "    .dataframe thead th {\n",
       "        text-align: right;\n",
       "    }\n",
       "</style>\n",
       "<table border=\"1\" class=\"dataframe\">\n",
       "  <thead>\n",
       "    <tr style=\"text-align: right;\">\n",
       "      <th></th>\n",
       "      <th>WCIO Cause of Injury Description</th>\n",
       "    </tr>\n",
       "    <tr>\n",
       "      <th>WCIO Cause of Injury Code</th>\n",
       "      <th></th>\n",
       "    </tr>\n",
       "  </thead>\n",
       "  <tbody>\n",
       "    <tr>\n",
       "      <th>31.0</th>\n",
       "      <td>FALL, SLIP OR TRIP, NOC</td>\n",
       "    </tr>\n",
       "    <tr>\n",
       "      <th>75.0</th>\n",
       "      <td>FALLING OR FLYING OBJECT</td>\n",
       "    </tr>\n",
       "  </tbody>\n",
       "</table>\n",
       "</div>"
      ],
      "text/plain": [
       "                          WCIO Cause of Injury Description\n",
       "WCIO Cause of Injury Code                                 \n",
       "31.0                               FALL, SLIP OR TRIP, NOC\n",
       "75.0                              FALLING OR FLYING OBJECT"
      ]
     },
     "execution_count": 247,
     "metadata": {},
     "output_type": "execute_result"
    }
   ],
   "source": [
    "injury_cause = test[['WCIO Cause of Injury Code', 'WCIO Cause of Injury Description']].drop_duplicates()\n",
    "\n",
    "injury_cause_test = injury_cause.set_index('WCIO Cause of Injury Code')\n",
    "\n",
    "injury_cause_test.head(2)"
   ]
  },
  {
   "cell_type": "code",
   "execution_count": 248,
   "id": "e53d4eed",
   "metadata": {
    "ExecuteTime": {
     "end_time": "2024-11-07T19:24:22.244896Z",
     "start_time": "2024-11-07T19:24:22.183910Z"
    }
   },
   "outputs": [
    {
     "data": {
      "text/html": [
       "<div>\n",
       "<style scoped>\n",
       "    .dataframe tbody tr th:only-of-type {\n",
       "        vertical-align: middle;\n",
       "    }\n",
       "\n",
       "    .dataframe tbody tr th {\n",
       "        vertical-align: top;\n",
       "    }\n",
       "\n",
       "    .dataframe thead th {\n",
       "        text-align: right;\n",
       "    }\n",
       "</style>\n",
       "<table border=\"1\" class=\"dataframe\">\n",
       "  <thead>\n",
       "    <tr style=\"text-align: right;\">\n",
       "      <th></th>\n",
       "      <th>WCIO Nature of Injury Description</th>\n",
       "    </tr>\n",
       "    <tr>\n",
       "      <th>WCIO Nature of Injury Code</th>\n",
       "      <th></th>\n",
       "    </tr>\n",
       "  </thead>\n",
       "  <tbody>\n",
       "    <tr>\n",
       "      <th>10.0</th>\n",
       "      <td>CONTUSION</td>\n",
       "    </tr>\n",
       "    <tr>\n",
       "      <th>49.0</th>\n",
       "      <td>SPRAIN OR TEAR</td>\n",
       "    </tr>\n",
       "  </tbody>\n",
       "</table>\n",
       "</div>"
      ],
      "text/plain": [
       "                           WCIO Nature of Injury Description\n",
       "WCIO Nature of Injury Code                                  \n",
       "10.0                                               CONTUSION\n",
       "49.0                                          SPRAIN OR TEAR"
      ]
     },
     "execution_count": 248,
     "metadata": {},
     "output_type": "execute_result"
    }
   ],
   "source": [
    "injury_nature = test[['WCIO Nature of Injury Code', 'WCIO Nature of Injury Description']].drop_duplicates()\n",
    "\n",
    "injury_nature_test = injury_nature.set_index('WCIO Nature of Injury Code')\n",
    "\n",
    "injury_nature_test.head(2)"
   ]
  },
  {
   "cell_type": "code",
   "execution_count": 249,
   "id": "28eb5ecc",
   "metadata": {
    "ExecuteTime": {
     "end_time": "2024-11-07T19:24:22.839045Z",
     "start_time": "2024-11-07T19:24:22.778006Z"
    }
   },
   "outputs": [
    {
     "data": {
      "text/html": [
       "<div>\n",
       "<style scoped>\n",
       "    .dataframe tbody tr th:only-of-type {\n",
       "        vertical-align: middle;\n",
       "    }\n",
       "\n",
       "    .dataframe tbody tr th {\n",
       "        vertical-align: top;\n",
       "    }\n",
       "\n",
       "    .dataframe thead th {\n",
       "        text-align: right;\n",
       "    }\n",
       "</style>\n",
       "<table border=\"1\" class=\"dataframe\">\n",
       "  <thead>\n",
       "    <tr style=\"text-align: right;\">\n",
       "      <th></th>\n",
       "      <th>WCIO Part Of Body Description</th>\n",
       "    </tr>\n",
       "    <tr>\n",
       "      <th>WCIO Part Of Body Code</th>\n",
       "      <th></th>\n",
       "    </tr>\n",
       "  </thead>\n",
       "  <tbody>\n",
       "    <tr>\n",
       "      <th>54.0</th>\n",
       "      <td>LOWER LEG</td>\n",
       "    </tr>\n",
       "    <tr>\n",
       "      <th>10.0</th>\n",
       "      <td>MULTIPLE HEAD INJURY</td>\n",
       "    </tr>\n",
       "  </tbody>\n",
       "</table>\n",
       "</div>"
      ],
      "text/plain": [
       "                       WCIO Part Of Body Description\n",
       "WCIO Part Of Body Code                              \n",
       "54.0                                       LOWER LEG\n",
       "10.0                            MULTIPLE HEAD INJURY"
      ]
     },
     "execution_count": 249,
     "metadata": {},
     "output_type": "execute_result"
    }
   ],
   "source": [
    "body_code = test[['WCIO Part Of Body Code', 'WCIO Part Of Body Description']].drop_duplicates()\n",
    "\n",
    "body_code_test = body_code.set_index('WCIO Part Of Body Code')\n",
    "\n",
    "\n",
    "body_code_test.head(2)"
   ]
  },
  {
   "cell_type": "code",
   "execution_count": 250,
   "id": "15447d51",
   "metadata": {
    "ExecuteTime": {
     "end_time": "2024-11-07T19:24:23.110609Z",
     "start_time": "2024-11-07T19:24:23.045424Z"
    }
   },
   "outputs": [
    {
     "data": {
      "text/html": [
       "<div>\n",
       "<style scoped>\n",
       "    .dataframe tbody tr th:only-of-type {\n",
       "        vertical-align: middle;\n",
       "    }\n",
       "\n",
       "    .dataframe tbody tr th {\n",
       "        vertical-align: top;\n",
       "    }\n",
       "\n",
       "    .dataframe thead th {\n",
       "        text-align: right;\n",
       "    }\n",
       "</style>\n",
       "<table border=\"1\" class=\"dataframe\">\n",
       "  <thead>\n",
       "    <tr style=\"text-align: right;\">\n",
       "      <th></th>\n",
       "      <th>Industry Code Description</th>\n",
       "    </tr>\n",
       "    <tr>\n",
       "      <th>Industry Code</th>\n",
       "      <th></th>\n",
       "    </tr>\n",
       "  </thead>\n",
       "  <tbody>\n",
       "    <tr>\n",
       "      <th>48.0</th>\n",
       "      <td>TRANSPORTATION AND WAREHOUSING</td>\n",
       "    </tr>\n",
       "    <tr>\n",
       "      <th>45.0</th>\n",
       "      <td>RETAIL TRADE</td>\n",
       "    </tr>\n",
       "  </tbody>\n",
       "</table>\n",
       "</div>"
      ],
      "text/plain": [
       "                    Industry Code Description\n",
       "Industry Code                                \n",
       "48.0           TRANSPORTATION AND WAREHOUSING\n",
       "45.0                             RETAIL TRADE"
      ]
     },
     "execution_count": 250,
     "metadata": {},
     "output_type": "execute_result"
    }
   ],
   "source": [
    "industry_code = test[['Industry Code', 'Industry Code Description']].drop_duplicates()\n",
    "\n",
    "industry_code_test = industry_code.set_index('Industry Code')\n",
    "\n",
    "\n",
    "industry_code_test.head(2)"
   ]
  },
  {
   "cell_type": "markdown",
   "id": "2d4eef78",
   "metadata": {},
   "source": [
    "Dropping columns from df"
   ]
  },
  {
   "cell_type": "code",
   "execution_count": 251,
   "id": "9ab248f2",
   "metadata": {
    "ExecuteTime": {
     "end_time": "2024-11-07T19:24:24.298238Z",
     "start_time": "2024-11-07T19:24:24.216948Z"
    }
   },
   "outputs": [],
   "source": [
    "test = test.drop(['WCIO Cause of Injury Description', 'WCIO Nature of Injury Description', \n",
    "              'WCIO Part Of Body Description', 'Industry Code Description'], axis = 1)"
   ]
  },
  {
   "cell_type": "markdown",
   "id": "8f95d987",
   "metadata": {},
   "source": [
    "## 5.2 Missing Values\n",
    "\n",
    "<a href=\"#top\">Top &#129033;</a>"
   ]
  },
  {
   "cell_type": "code",
   "execution_count": 252,
   "id": "c4b0b449",
   "metadata": {
    "ExecuteTime": {
     "end_time": "2024-11-07T19:24:24.759531Z",
     "start_time": "2024-11-07T19:24:24.709704Z"
    },
    "scrolled": true
   },
   "outputs": [
    {
     "data": {
      "text/plain": [
       "Age at Injury                              0\n",
       "Alternative Dispute Resolution             0\n",
       "Attorney/Representative                    0\n",
       "Average Weekly Wage                    19204\n",
       "Birth Year                             19470\n",
       "C-3 Date                              302759\n",
       "Carrier Name                               0\n",
       "Carrier Type                               0\n",
       "County of Injury                           0\n",
       "COVID-19 Indicator                         0\n",
       "District Name                              0\n",
       "First Hearing Date                    344947\n",
       "Gender                                     0\n",
       "IME-4 Count                           352726\n",
       "Industry Code                           7736\n",
       "Medical Fee Region                         0\n",
       "OIICS Nature of Injury Description    387975\n",
       "WCIO Cause of Injury Code              10348\n",
       "WCIO Nature of Injury Code             10560\n",
       "WCIO Part Of Body Code                  9549\n",
       "Zip Code                               19623\n",
       "Number of Dependents                       0\n",
       "Accident Year                           2444\n",
       "Accident Month                          2444\n",
       "Accident Day                            2444\n",
       "Assembly Year                              0\n",
       "Assembly Month                             0\n",
       "Assembly Day                               0\n",
       "C-2 Year                                9134\n",
       "C-2 Month                               9134\n",
       "C-2 Day                                 9134\n",
       "dtype: int64"
      ]
     },
     "execution_count": 252,
     "metadata": {},
     "output_type": "execute_result"
    }
   ],
   "source": [
    "test.isna().sum()"
   ]
  },
  {
   "cell_type": "markdown",
   "id": "606d478d",
   "metadata": {},
   "source": [
    "**Accident Year, Month, Day**\n",
    "\n",
    "need to fill before birth year otherwise error"
   ]
  },
  {
   "cell_type": "code",
   "execution_count": 253,
   "id": "b798f172",
   "metadata": {
    "ExecuteTime": {
     "end_time": "2024-11-07T19:24:25.175993Z",
     "start_time": "2024-11-07T19:24:25.169044Z"
    }
   },
   "outputs": [],
   "source": [
    "test['Accident Year'].fillna(accident_med['Accident Year'], inplace=True)\n",
    "test['Accident Month'].fillna(accident_med['Accident Month'], inplace=True)\n",
    "test['Accident Day'].fillna(accident_med['Accident Day'], inplace=True)"
   ]
  },
  {
   "cell_type": "markdown",
   "id": "bd88ec6d",
   "metadata": {},
   "source": [
    "**Birth Year**"
   ]
  },
  {
   "cell_type": "code",
   "execution_count": 254,
   "id": "d55c91d0",
   "metadata": {
    "ExecuteTime": {
     "end_time": "2024-11-07T19:24:26.101456Z",
     "start_time": "2024-11-07T19:24:26.076075Z"
    }
   },
   "outputs": [],
   "source": [
    "# Mask for X_val where 'Birth Year' is missing or 0 and other columns are not missing\n",
    "test_mask = test['Accident Year'].notna() & test['Age at Injury'].notna() & \\\n",
    "           (test['Birth Year'].isna() | (test['Birth Year'] == 0))\n",
    "\n",
    "# Apply the imputation to X_val based on 'Accident Year' and 'Age at Injury'\n",
    "test.loc[test_mask, 'Birth Year'] = test['Accident Year'] - test['Age at Injury']\n"
   ]
  },
  {
   "cell_type": "markdown",
   "id": "ba048cfa",
   "metadata": {},
   "source": [
    "**C-3 Date**"
   ]
  },
  {
   "cell_type": "code",
   "execution_count": 255,
   "id": "1e77ecb2",
   "metadata": {
    "ExecuteTime": {
     "end_time": "2024-11-07T19:24:27.173220Z",
     "start_time": "2024-11-07T19:24:27.071469Z"
    }
   },
   "outputs": [
    {
     "name": "stdout",
     "output_type": "stream",
     "text": [
      "There are 302759 rows with missing values\n"
     ]
    }
   ],
   "source": [
    "print(f'There are {len(test[test[\"C-3 Date\"].isna()])} rows with missing values')"
   ]
  },
  {
   "cell_type": "code",
   "execution_count": 256,
   "id": "97b06ee0",
   "metadata": {
    "ExecuteTime": {
     "end_time": "2024-11-07T19:24:27.330957Z",
     "start_time": "2024-11-07T19:24:27.323015Z"
    }
   },
   "outputs": [],
   "source": [
    "# Create a binary variable: 1 if 'C-3 Date' is not missing, 0 if it is missing\n",
    "test['C-3 Date Binary'] = test['C-3 Date'].notna().astype(int)"
   ]
  },
  {
   "cell_type": "markdown",
   "id": "49838f99",
   "metadata": {},
   "source": [
    "**First Hearing Date**"
   ]
  },
  {
   "cell_type": "code",
   "execution_count": 257,
   "id": "36d4c4cd",
   "metadata": {
    "ExecuteTime": {
     "end_time": "2024-11-07T19:24:28.153419Z",
     "start_time": "2024-11-07T19:24:28.029254Z"
    }
   },
   "outputs": [
    {
     "name": "stdout",
     "output_type": "stream",
     "text": [
      "There are 344947 rows with missing values\n"
     ]
    }
   ],
   "source": [
    "print(f'There are {len(test[test[\"First Hearing Date\"].isna()])} rows with missing values')"
   ]
  },
  {
   "cell_type": "code",
   "execution_count": 258,
   "id": "f025f067",
   "metadata": {
    "ExecuteTime": {
     "end_time": "2024-11-07T19:24:28.685100Z",
     "start_time": "2024-11-07T19:24:28.272431Z"
    }
   },
   "outputs": [],
   "source": [
    "# Create a new variable: 0 if 'First Hearing Date' is missing, otherwise extract the year\n",
    "test['First Hearing Year'] = test['First Hearing Date'].apply(lambda x: x.year if pd.notna(x) else 0)"
   ]
  },
  {
   "cell_type": "markdown",
   "id": "327adb07",
   "metadata": {},
   "source": [
    "**IME-4 Count**"
   ]
  },
  {
   "cell_type": "code",
   "execution_count": 259,
   "id": "e8d50dfb",
   "metadata": {
    "ExecuteTime": {
     "end_time": "2024-11-07T19:24:29.008098Z",
     "start_time": "2024-11-07T19:24:28.877831Z"
    }
   },
   "outputs": [
    {
     "name": "stdout",
     "output_type": "stream",
     "text": [
      "There are 352726 rows with missing values\n"
     ]
    }
   ],
   "source": [
    "print(f'There are {len(test[test[\"IME-4 Count\"].isna()])} rows with missing values')"
   ]
  },
  {
   "cell_type": "code",
   "execution_count": 260,
   "id": "1626e884",
   "metadata": {
    "ExecuteTime": {
     "end_time": "2024-11-07T19:24:29.121824Z",
     "start_time": "2024-11-07T19:24:29.114044Z"
    }
   },
   "outputs": [],
   "source": [
    "test['IME-4 Count'] = test['IME-4 Count'].fillna(0)"
   ]
  },
  {
   "cell_type": "markdown",
   "id": "c2edab28",
   "metadata": {},
   "source": [
    "**OIICS Nature of Injury Description**"
   ]
  },
  {
   "cell_type": "code",
   "execution_count": 261,
   "id": "011ccda3",
   "metadata": {
    "ExecuteTime": {
     "end_time": "2024-11-07T19:24:30.681053Z",
     "start_time": "2024-11-07T19:24:30.453502Z"
    }
   },
   "outputs": [
    {
     "name": "stdout",
     "output_type": "stream",
     "text": [
      "There are 387975 rows with missing values\n"
     ]
    }
   ],
   "source": [
    "print(f'There are {len(test[test[\"OIICS Nature of Injury Description\"].isna()])} rows with missing values')"
   ]
  },
  {
   "cell_type": "code",
   "execution_count": 262,
   "id": "a7cd3e7d",
   "metadata": {
    "ExecuteTime": {
     "end_time": "2024-11-07T19:24:31.664428Z",
     "start_time": "2024-11-07T19:24:31.514952Z"
    }
   },
   "outputs": [
    {
     "data": {
      "text/plain": [
       "1.0"
      ]
     },
     "execution_count": 262,
     "metadata": {},
     "output_type": "execute_result"
    }
   ],
   "source": [
    "# size of missing / size of dataset\n",
    "len(test[test['OIICS Nature of Injury Description'].isna()]) / len(test)"
   ]
  },
  {
   "cell_type": "markdown",
   "id": "3a995b0e",
   "metadata": {},
   "source": [
    "Drop replaced and not needed variables"
   ]
  },
  {
   "cell_type": "code",
   "execution_count": 263,
   "id": "0ab84b83",
   "metadata": {
    "ExecuteTime": {
     "end_time": "2024-11-07T19:24:32.933717Z",
     "start_time": "2024-11-07T19:24:32.853007Z"
    }
   },
   "outputs": [],
   "source": [
    "test = test.drop(['C-3 Date', 'First Hearing Date', \n",
    "             'OIICS Nature of Injury Description'], axis = 1)"
   ]
  },
  {
   "cell_type": "markdown",
   "id": "bd2baf80",
   "metadata": {},
   "source": [
    "**Code Variables** \n",
    "\n",
    "(Except zip code)"
   ]
  },
  {
   "cell_type": "code",
   "execution_count": 264,
   "id": "efa85e4f",
   "metadata": {
    "ExecuteTime": {
     "end_time": "2024-11-07T19:24:33.448067Z",
     "start_time": "2024-11-07T19:24:33.445036Z"
    }
   },
   "outputs": [],
   "source": [
    "columns_to_fill = ['WCIO Cause of Injury Code', \n",
    "                   'WCIO Nature of Injury Code', \n",
    "                   'WCIO Part Of Body Code', \n",
    "                   'Industry Code']"
   ]
  },
  {
   "cell_type": "code",
   "execution_count": 265,
   "id": "68f7d818",
   "metadata": {
    "ExecuteTime": {
     "end_time": "2024-11-07T19:24:33.886670Z",
     "start_time": "2024-11-07T19:24:33.854427Z"
    }
   },
   "outputs": [],
   "source": [
    "test[columns_to_fill] = test[columns_to_fill].fillna(0)"
   ]
  },
  {
   "cell_type": "markdown",
   "id": "a34d6325",
   "metadata": {},
   "source": [
    "**Zip Code**"
   ]
  },
  {
   "cell_type": "code",
   "execution_count": 266,
   "id": "34197ab7",
   "metadata": {
    "ExecuteTime": {
     "end_time": "2024-11-07T19:24:36.004732Z",
     "start_time": "2024-11-07T19:24:35.977318Z"
    }
   },
   "outputs": [],
   "source": [
    "test['Zip Code'] = test['Zip Code'].fillna(99999)"
   ]
  },
  {
   "cell_type": "markdown",
   "id": "16bb4df6",
   "metadata": {},
   "source": [
    "**C-2 Year, Month, Day**"
   ]
  },
  {
   "cell_type": "code",
   "execution_count": 267,
   "id": "0273138f",
   "metadata": {
    "ExecuteTime": {
     "end_time": "2024-11-07T19:24:36.468997Z",
     "start_time": "2024-11-07T19:24:36.461649Z"
    }
   },
   "outputs": [],
   "source": [
    "test['C-2 Year'].fillna(c2_med['C-2 Year'], inplace=True)\n",
    "test['C-2 Month'].fillna(c2_med['C-2 Month'], inplace=True)\n",
    "test['C-2 Day'].fillna(c2_med['C-2 Day'], inplace=True)"
   ]
  },
  {
   "cell_type": "markdown",
   "id": "1249fa91",
   "metadata": {},
   "source": [
    "**Average Weekly Wage**"
   ]
  },
  {
   "cell_type": "code",
   "execution_count": 268,
   "id": "d3598842",
   "metadata": {
    "ExecuteTime": {
     "end_time": "2024-11-07T19:25:18.292889Z",
     "start_time": "2024-11-07T19:24:37.020221Z"
    }
   },
   "outputs": [],
   "source": [
    "test['Average Weekly Wage'] = p.ball_tree_impute(test, 'Average Weekly Wage', n_neighbors=5)"
   ]
  },
  {
   "cell_type": "markdown",
   "id": "06fcb908",
   "metadata": {},
   "source": [
    "**Verify the success**"
   ]
  },
  {
   "cell_type": "code",
   "execution_count": null,
   "id": "10b72601",
   "metadata": {
    "ExecuteTime": {
     "end_time": "2024-11-07T18:58:58.567707Z",
     "start_time": "2024-11-07T18:58:58.518514Z"
    },
    "scrolled": false
   },
   "outputs": [],
   "source": [
    "test.isna().sum()"
   ]
  },
  {
   "cell_type": "markdown",
   "id": "65e4a0bd",
   "metadata": {},
   "source": [
    "## 5.3 Log Transformation\n",
    "\n",
    "<a href=\"#top\">Top &#129033;</a>"
   ]
  },
  {
   "cell_type": "code",
   "execution_count": 269,
   "id": "3210b39c",
   "metadata": {
    "ExecuteTime": {
     "end_time": "2024-11-07T19:25:21.793851Z",
     "start_time": "2024-11-07T19:25:21.786493Z"
    }
   },
   "outputs": [],
   "source": [
    "#test['Carrier Name Log'] = np.log(test['Carrier Name'] + 1)\n",
    "test['IME-4 Count Log'] = np.log(test['IME-4 Count'] + 1)"
   ]
  },
  {
   "cell_type": "markdown",
   "id": "ea057cf1",
   "metadata": {},
   "source": [
    "# 6. Export\n",
    "\n",
    "<a href=\"#top\">Top &#129033;</a>"
   ]
  },
  {
   "cell_type": "code",
   "execution_count": 270,
   "id": "600fee21",
   "metadata": {
    "ExecuteTime": {
     "end_time": "2024-11-07T19:25:29.131097Z",
     "start_time": "2024-11-07T19:25:22.892321Z"
    }
   },
   "outputs": [],
   "source": [
    "test.to_csv('./project_data/test_treated.csv')"
   ]
  },
  {
   "cell_type": "code",
   "execution_count": 271,
   "id": "e258e303",
   "metadata": {
    "ExecuteTime": {
     "end_time": "2024-11-07T19:25:36.112140Z",
     "start_time": "2024-11-07T19:25:29.134559Z"
    }
   },
   "outputs": [],
   "source": [
    "X_train.to_csv('./project_data/x_train.csv')\n",
    "X_val.to_csv('./project_data/x_val.csv')\n",
    "y_train.to_csv('./project_data/y_train.csv')\n",
    "y_val.to_csv('./project_data/y_val.csv')"
   ]
  }
 ],
 "metadata": {
  "kernelspec": {
   "display_name": "Python 3 (ipykernel)",
   "language": "python",
   "name": "python3"
  },
  "language_info": {
   "codemirror_mode": {
    "name": "ipython",
    "version": 3
   },
   "file_extension": ".py",
   "mimetype": "text/x-python",
   "name": "python",
   "nbconvert_exporter": "python",
   "pygments_lexer": "ipython3",
   "version": "3.10.13"
  }
 },
 "nbformat": 4,
 "nbformat_minor": 5
}
