{
 "cells": [
  {
   "cell_type": "markdown",
   "id": "95ebdb53",
   "metadata": {},
   "source": [
    "# Table of Contents\n",
    "\n",
    "<a class=\"anchor\" id=\"top\"></a>\n",
    "\n",
    "** ** \n",
    "\n",
    "1. [Importing Libraries & Data](#1.-Importing-Libraries-&-Data) <br><br>\n",
    "\n",
    "2. [Modelling](#2.-Modelling)\n",
    "\n",
    "   2.1 [Hyperparameter Tuning](#2.1-Hyperparameter-Tuning) <br>\n",
    "   \n",
    "   2.2 [Combining Models](#2.2-Combining-Models) <br><br>\n",
    "   \n",
    "3. [Final Predictions](#3.-Final-Predictions) <br><br>\n",
    "\n",
    "4. [Export](#4.-Export) <br>\n"
   ]
  },
  {
   "cell_type": "markdown",
   "id": "d8fe9c0c",
   "metadata": {},
   "source": [
    "# 1. Importing Libraries & Data"
   ]
  },
  {
   "cell_type": "code",
   "execution_count": 36,
   "id": "3d4b109b",
   "metadata": {
    "ExecuteTime": {
     "end_time": "2024-11-08T19:36:28.536092Z",
     "start_time": "2024-11-08T19:36:28.530746Z"
    }
   },
   "outputs": [],
   "source": [
    "# Libraries for Data Manipulation\n",
    "import pandas as pd\n",
    "\n",
    "# Importing classification models\n",
    "from sklearn.linear_model import LogisticRegression, SGDClassifier  # Linear models\n",
    "from sklearn.tree import DecisionTreeClassifier  \n",
    "from sklearn.ensemble import RandomForestClassifier, GradientBoostingClassifier, AdaBoostClassifier, StackingClassifier, VotingClassifier  # Ensemble classifiers\n",
    "from sklearn.calibration import CalibratedClassifierCV\n",
    "from sklearn.svm import SVC \n",
    "from sklearn.model_selection import RandomizedSearchCV \n",
    "from sklearn.gaussian_process import GaussianProcessClassifier  \n",
    "from sklearn.discriminant_analysis import LinearDiscriminantAnalysis, QuadraticDiscriminantAnalysis  # Discriminant analysis models\n",
    "from xgboost import XGBClassifier  \n",
    "from lightgbm import LGBMClassifier  \n",
    "# from catboost import CatBoostClassifier\n",
    "\n",
    "# Importing custom metrics module\n",
    "import metrics as m\n",
    "\n",
    "# Display Settings\n",
    "pd.set_option('display.max_columns', None)\n",
    "\n",
    "# Suppress warnings for cleaner output\n",
    "import warnings\n",
    "warnings.filterwarnings(\"ignore\")"
   ]
  },
  {
   "cell_type": "markdown",
   "id": "a33bfd6a",
   "metadata": {},
   "source": [
    "**Import Data**"
   ]
  },
  {
   "cell_type": "code",
   "execution_count": 33,
   "id": "2d3880a1",
   "metadata": {
    "ExecuteTime": {
     "end_time": "2024-11-08T19:34:59.732262Z",
     "start_time": "2024-11-08T19:34:57.253860Z"
    }
   },
   "outputs": [],
   "source": [
    "# Load training and validation datasets for features and target variables\n",
    "\n",
    "# Features for training and validation\n",
    "X_train = pd.read_csv('./project_data/x_train_all_feat.csv', index_col='Claim Identifier')\n",
    "X_val = pd.read_csv('./project_data/x_val_all_feat.csv', index_col='Claim Identifier')\n",
    "\n",
    "# Target variables for training and validation\n",
    "y_train = pd.read_csv('./project_data/y_train.csv', index_col='Claim Identifier')\n",
    "y_val = pd.read_csv('./project_data/y_val.csv', index_col='Claim Identifier')"
   ]
  },
  {
   "cell_type": "code",
   "execution_count": 49,
   "id": "243c9711",
   "metadata": {
    "ExecuteTime": {
     "end_time": "2024-11-08T19:56:09.566207Z",
     "start_time": "2024-11-08T19:56:07.776490Z"
    }
   },
   "outputs": [],
   "source": [
    "# Load the test dataset with the 'Claim Identifier' as the index\n",
    "test = pd.read_csv('./project_data/test_all_feat.csv', index_col='Claim Identifier')"
   ]
  },
  {
   "cell_type": "code",
   "execution_count": 38,
   "id": "569ca030",
   "metadata": {
    "ExecuteTime": {
     "end_time": "2024-11-08T19:37:00.025707Z",
     "start_time": "2024-11-08T19:36:59.905578Z"
    }
   },
   "outputs": [],
   "source": [
    "features = ['Age at Injury', 'Average Weekly Wage', 'Assembly Year', 'C-2 Month', 'C-2 Year', \n",
    "            'First Hearing Year', 'IME-4 Count Log', 'Attorney/Representative', 'Carrier Name', \n",
    "            'Carrier Type freq', 'County of Injury', 'District Name freq', 'Gender Enc', 'Industry Code', \n",
    "            'Medical Fee Region', 'WCIO Cause of Injury Code', 'WCIO Nature of Injury Code', \n",
    "            'WCIO Part Of Body Code', 'C-3 Date Binary']\n",
    "\n",
    "X_train = X_train[features]\n",
    "X_val = X_val[features]"
   ]
  },
  {
   "cell_type": "markdown",
   "id": "21d55a70",
   "metadata": {},
   "source": [
    "# 2. Modelling\n",
    "\n",
    "<a href=\"#top\">Top &#129033;</a>"
   ]
  },
  {
   "cell_type": "code",
   "execution_count": 5,
   "id": "5cf56a3d",
   "metadata": {
    "ExecuteTime": {
     "end_time": "2024-11-08T18:43:57.445097Z",
     "start_time": "2024-11-08T18:43:57.440894Z"
    }
   },
   "outputs": [
    {
     "name": "stdout",
     "output_type": "stream",
     "text": [
      "['Accident Year', 'Average Weekly Wage', 'First Hearing Year', 'C-2 Year', 'C-2 Month', 'Birth Year', 'Assembly Year', 'IME-4 Count', 'Assembly Day', 'Attorney/Representative', 'C-3 Date Binary', 'WCIO Nature of Injury Code', 'Carrier Name', 'County of Injury', 'Industry Code', 'Medical Fee Region', 'WCIO Cause of Injury Code', 'WCIO Part Of Body Code'] \n",
      "\n",
      "18\n"
     ]
    }
   ],
   "source": [
    "# Print the list of column names in the training features dataset\n",
    "print(X_train.columns.to_list(), '\\n')\n",
    "\n",
    "# Print the number of columns in the training features dataset\n",
    "print(len(X_train.columns))"
   ]
  },
  {
   "cell_type": "markdown",
   "id": "19be33b9",
   "metadata": {},
   "source": [
    "**Baseline Model**"
   ]
  },
  {
   "cell_type": "code",
   "execution_count": null,
   "id": "5ad2b999",
   "metadata": {
    "ExecuteTime": {
     "end_time": "2024-11-07T10:26:10.874321Z",
     "start_time": "2024-11-07T10:25:57.631282Z"
    }
   },
   "outputs": [
    {
     "data": {
      "text/html": [
       "<style>#sk-container-id-1 {color: black;background-color: white;}#sk-container-id-1 pre{padding: 0;}#sk-container-id-1 div.sk-toggleable {background-color: white;}#sk-container-id-1 label.sk-toggleable__label {cursor: pointer;display: block;width: 100%;margin-bottom: 0;padding: 0.3em;box-sizing: border-box;text-align: center;}#sk-container-id-1 label.sk-toggleable__label-arrow:before {content: \"▸\";float: left;margin-right: 0.25em;color: #696969;}#sk-container-id-1 label.sk-toggleable__label-arrow:hover:before {color: black;}#sk-container-id-1 div.sk-estimator:hover label.sk-toggleable__label-arrow:before {color: black;}#sk-container-id-1 div.sk-toggleable__content {max-height: 0;max-width: 0;overflow: hidden;text-align: left;background-color: #f0f8ff;}#sk-container-id-1 div.sk-toggleable__content pre {margin: 0.2em;color: black;border-radius: 0.25em;background-color: #f0f8ff;}#sk-container-id-1 input.sk-toggleable__control:checked~div.sk-toggleable__content {max-height: 200px;max-width: 100%;overflow: auto;}#sk-container-id-1 input.sk-toggleable__control:checked~label.sk-toggleable__label-arrow:before {content: \"▾\";}#sk-container-id-1 div.sk-estimator input.sk-toggleable__control:checked~label.sk-toggleable__label {background-color: #d4ebff;}#sk-container-id-1 div.sk-label input.sk-toggleable__control:checked~label.sk-toggleable__label {background-color: #d4ebff;}#sk-container-id-1 input.sk-hidden--visually {border: 0;clip: rect(1px 1px 1px 1px);clip: rect(1px, 1px, 1px, 1px);height: 1px;margin: -1px;overflow: hidden;padding: 0;position: absolute;width: 1px;}#sk-container-id-1 div.sk-estimator {font-family: monospace;background-color: #f0f8ff;border: 1px dotted black;border-radius: 0.25em;box-sizing: border-box;margin-bottom: 0.5em;}#sk-container-id-1 div.sk-estimator:hover {background-color: #d4ebff;}#sk-container-id-1 div.sk-parallel-item::after {content: \"\";width: 100%;border-bottom: 1px solid gray;flex-grow: 1;}#sk-container-id-1 div.sk-label:hover label.sk-toggleable__label {background-color: #d4ebff;}#sk-container-id-1 div.sk-serial::before {content: \"\";position: absolute;border-left: 1px solid gray;box-sizing: border-box;top: 0;bottom: 0;left: 50%;z-index: 0;}#sk-container-id-1 div.sk-serial {display: flex;flex-direction: column;align-items: center;background-color: white;padding-right: 0.2em;padding-left: 0.2em;position: relative;}#sk-container-id-1 div.sk-item {position: relative;z-index: 1;}#sk-container-id-1 div.sk-parallel {display: flex;align-items: stretch;justify-content: center;background-color: white;position: relative;}#sk-container-id-1 div.sk-item::before, #sk-container-id-1 div.sk-parallel-item::before {content: \"\";position: absolute;border-left: 1px solid gray;box-sizing: border-box;top: 0;bottom: 0;left: 50%;z-index: -1;}#sk-container-id-1 div.sk-parallel-item {display: flex;flex-direction: column;z-index: 1;position: relative;background-color: white;}#sk-container-id-1 div.sk-parallel-item:first-child::after {align-self: flex-end;width: 50%;}#sk-container-id-1 div.sk-parallel-item:last-child::after {align-self: flex-start;width: 50%;}#sk-container-id-1 div.sk-parallel-item:only-child::after {width: 0;}#sk-container-id-1 div.sk-dashed-wrapped {border: 1px dashed gray;margin: 0 0.4em 0.5em 0.4em;box-sizing: border-box;padding-bottom: 0.4em;background-color: white;}#sk-container-id-1 div.sk-label label {font-family: monospace;font-weight: bold;display: inline-block;line-height: 1.2em;}#sk-container-id-1 div.sk-label-container {text-align: center;}#sk-container-id-1 div.sk-container {/* jupyter's `normalize.less` sets `[hidden] { display: none; }` but bootstrap.min.css set `[hidden] { display: none !important; }` so we also need the `!important` here to be able to override the default hidden behavior on the sphinx rendered scikit-learn.org. See: https://github.com/scikit-learn/scikit-learn/issues/21755 */display: inline-block !important;position: relative;}#sk-container-id-1 div.sk-text-repr-fallback {display: none;}</style><div id=\"sk-container-id-1\" class=\"sk-top-container\"><div class=\"sk-text-repr-fallback\"><pre>LogisticRegression()</pre><b>In a Jupyter environment, please rerun this cell to show the HTML representation or trust the notebook. <br />On GitHub, the HTML representation is unable to render, please try loading this page with nbviewer.org.</b></div><div class=\"sk-container\" hidden><div class=\"sk-item\"><div class=\"sk-estimator sk-toggleable\"><input class=\"sk-toggleable__control sk-hidden--visually\" id=\"sk-estimator-id-1\" type=\"checkbox\" checked><label for=\"sk-estimator-id-1\" class=\"sk-toggleable__label sk-toggleable__label-arrow\">LogisticRegression</label><div class=\"sk-toggleable__content\"><pre>LogisticRegression()</pre></div></div></div></div></div>"
      ],
      "text/plain": [
       "LogisticRegression()"
      ]
     },
     "execution_count": 4,
     "metadata": {},
     "output_type": "execute_result"
    }
   ],
   "source": [
    "# Initialize the Logistic Regression model and fit it to the training data\n",
    "model = LogisticRegression()\n",
    "model.fit(X_train, y_train)"
   ]
  },
  {
   "cell_type": "code",
   "execution_count": null,
   "id": "6422cd5a",
   "metadata": {
    "ExecuteTime": {
     "end_time": "2024-11-07T10:26:10.981382Z",
     "start_time": "2024-11-07T10:26:10.877772Z"
    }
   },
   "outputs": [],
   "source": [
    "# Predict the target values for the training dataset\n",
    "train_pred = model.predict(X_train)\n",
    "\n",
    "# Predict the target values for the validation dataset\n",
    "val_pred = model.predict(X_val)"
   ]
  },
  {
   "cell_type": "code",
   "execution_count": null,
   "id": "26aa461e",
   "metadata": {
    "ExecuteTime": {
     "end_time": "2024-11-07T10:26:12.296259Z",
     "start_time": "2024-11-07T10:26:10.983839Z"
    },
    "scrolled": true
   },
   "outputs": [
    {
     "name": "stdout",
     "output_type": "stream",
     "text": [
      "              precision    recall  f1-score   support\n",
      "\n",
      "           1       0.00      0.00      0.00      9981\n",
      "           2       0.72      0.95      0.82    232862\n",
      "           3       0.21      0.01      0.02     55125\n",
      "           4       0.53      0.67      0.59    118806\n",
      "           5       0.22      0.00      0.01     38624\n",
      "           6       0.00      0.00      0.00      3369\n",
      "           7       0.00      0.00      0.00        77\n",
      "           8       0.00      0.00      0.00       376\n",
      "\n",
      "    accuracy                           0.66    459220\n",
      "   macro avg       0.21      0.20      0.18    459220\n",
      "weighted avg       0.55      0.66      0.57    459220\n",
      "\n",
      "              precision    recall  f1-score   support\n",
      "\n",
      "           1       0.00      0.00      0.00      2495\n",
      "           2       0.72      0.95      0.82     58216\n",
      "           3       0.21      0.01      0.02     13781\n",
      "           4       0.53      0.66      0.59     29701\n",
      "           5       0.17      0.00      0.01      9656\n",
      "           6       0.00      0.00      0.00       842\n",
      "           7       0.00      0.00      0.00        20\n",
      "           8       0.00      0.00      0.00        94\n",
      "\n",
      "    accuracy                           0.65    114805\n",
      "   macro avg       0.20      0.20      0.18    114805\n",
      "weighted avg       0.54      0.65      0.57    114805\n",
      "\n"
     ]
    }
   ],
   "source": [
    "# Evaluate the model's performance using the custom metrics function on both training and validation predictions\n",
    "metrics(y_train, train_pred, y_val, val_pred)"
   ]
  },
  {
   "cell_type": "markdown",
   "id": "fba75bee",
   "metadata": {},
   "source": [
    "**SGD Classifier**"
   ]
  },
  {
   "cell_type": "code",
   "execution_count": null,
   "id": "47440d82",
   "metadata": {
    "ExecuteTime": {
     "end_time": "2024-11-07T10:33:43.002952Z",
     "start_time": "2024-11-07T10:26:12.299036Z"
    }
   },
   "outputs": [
    {
     "data": {
      "text/html": [
       "<style>#sk-container-id-2 {color: black;background-color: white;}#sk-container-id-2 pre{padding: 0;}#sk-container-id-2 div.sk-toggleable {background-color: white;}#sk-container-id-2 label.sk-toggleable__label {cursor: pointer;display: block;width: 100%;margin-bottom: 0;padding: 0.3em;box-sizing: border-box;text-align: center;}#sk-container-id-2 label.sk-toggleable__label-arrow:before {content: \"▸\";float: left;margin-right: 0.25em;color: #696969;}#sk-container-id-2 label.sk-toggleable__label-arrow:hover:before {color: black;}#sk-container-id-2 div.sk-estimator:hover label.sk-toggleable__label-arrow:before {color: black;}#sk-container-id-2 div.sk-toggleable__content {max-height: 0;max-width: 0;overflow: hidden;text-align: left;background-color: #f0f8ff;}#sk-container-id-2 div.sk-toggleable__content pre {margin: 0.2em;color: black;border-radius: 0.25em;background-color: #f0f8ff;}#sk-container-id-2 input.sk-toggleable__control:checked~div.sk-toggleable__content {max-height: 200px;max-width: 100%;overflow: auto;}#sk-container-id-2 input.sk-toggleable__control:checked~label.sk-toggleable__label-arrow:before {content: \"▾\";}#sk-container-id-2 div.sk-estimator input.sk-toggleable__control:checked~label.sk-toggleable__label {background-color: #d4ebff;}#sk-container-id-2 div.sk-label input.sk-toggleable__control:checked~label.sk-toggleable__label {background-color: #d4ebff;}#sk-container-id-2 input.sk-hidden--visually {border: 0;clip: rect(1px 1px 1px 1px);clip: rect(1px, 1px, 1px, 1px);height: 1px;margin: -1px;overflow: hidden;padding: 0;position: absolute;width: 1px;}#sk-container-id-2 div.sk-estimator {font-family: monospace;background-color: #f0f8ff;border: 1px dotted black;border-radius: 0.25em;box-sizing: border-box;margin-bottom: 0.5em;}#sk-container-id-2 div.sk-estimator:hover {background-color: #d4ebff;}#sk-container-id-2 div.sk-parallel-item::after {content: \"\";width: 100%;border-bottom: 1px solid gray;flex-grow: 1;}#sk-container-id-2 div.sk-label:hover label.sk-toggleable__label {background-color: #d4ebff;}#sk-container-id-2 div.sk-serial::before {content: \"\";position: absolute;border-left: 1px solid gray;box-sizing: border-box;top: 0;bottom: 0;left: 50%;z-index: 0;}#sk-container-id-2 div.sk-serial {display: flex;flex-direction: column;align-items: center;background-color: white;padding-right: 0.2em;padding-left: 0.2em;position: relative;}#sk-container-id-2 div.sk-item {position: relative;z-index: 1;}#sk-container-id-2 div.sk-parallel {display: flex;align-items: stretch;justify-content: center;background-color: white;position: relative;}#sk-container-id-2 div.sk-item::before, #sk-container-id-2 div.sk-parallel-item::before {content: \"\";position: absolute;border-left: 1px solid gray;box-sizing: border-box;top: 0;bottom: 0;left: 50%;z-index: -1;}#sk-container-id-2 div.sk-parallel-item {display: flex;flex-direction: column;z-index: 1;position: relative;background-color: white;}#sk-container-id-2 div.sk-parallel-item:first-child::after {align-self: flex-end;width: 50%;}#sk-container-id-2 div.sk-parallel-item:last-child::after {align-self: flex-start;width: 50%;}#sk-container-id-2 div.sk-parallel-item:only-child::after {width: 0;}#sk-container-id-2 div.sk-dashed-wrapped {border: 1px dashed gray;margin: 0 0.4em 0.5em 0.4em;box-sizing: border-box;padding-bottom: 0.4em;background-color: white;}#sk-container-id-2 div.sk-label label {font-family: monospace;font-weight: bold;display: inline-block;line-height: 1.2em;}#sk-container-id-2 div.sk-label-container {text-align: center;}#sk-container-id-2 div.sk-container {/* jupyter's `normalize.less` sets `[hidden] { display: none; }` but bootstrap.min.css set `[hidden] { display: none !important; }` so we also need the `!important` here to be able to override the default hidden behavior on the sphinx rendered scikit-learn.org. See: https://github.com/scikit-learn/scikit-learn/issues/21755 */display: inline-block !important;position: relative;}#sk-container-id-2 div.sk-text-repr-fallback {display: none;}</style><div id=\"sk-container-id-2\" class=\"sk-top-container\"><div class=\"sk-text-repr-fallback\"><pre>SGDClassifier()</pre><b>In a Jupyter environment, please rerun this cell to show the HTML representation or trust the notebook. <br />On GitHub, the HTML representation is unable to render, please try loading this page with nbviewer.org.</b></div><div class=\"sk-container\" hidden><div class=\"sk-item\"><div class=\"sk-estimator sk-toggleable\"><input class=\"sk-toggleable__control sk-hidden--visually\" id=\"sk-estimator-id-2\" type=\"checkbox\" checked><label for=\"sk-estimator-id-2\" class=\"sk-toggleable__label sk-toggleable__label-arrow\">SGDClassifier</label><div class=\"sk-toggleable__content\"><pre>SGDClassifier()</pre></div></div></div></div></div>"
      ],
      "text/plain": [
       "SGDClassifier()"
      ]
     },
     "execution_count": 7,
     "metadata": {},
     "output_type": "execute_result"
    }
   ],
   "source": [
    "# Initialize the SGDClassifier model and fit it to the training data\n",
    "sgd = SGDClassifier()\n",
    "sgd.fit(X_train, y_train)"
   ]
  },
  {
   "cell_type": "code",
   "execution_count": null,
   "id": "1b37c5b3",
   "metadata": {
    "ExecuteTime": {
     "end_time": "2024-11-07T10:33:43.183140Z",
     "start_time": "2024-11-07T10:33:43.009171Z"
    }
   },
   "outputs": [],
   "source": [
    "# Predict the target values for the training dataset using the SGDClassifier model\n",
    "train_pred_sgd = sgd.predict(X_train)\n",
    "\n",
    "# Predict the target values for the validation dataset using the SGDClassifier model\n",
    "val_pred_sgd = sgd.predict(X_val)"
   ]
  },
  {
   "cell_type": "code",
   "execution_count": null,
   "id": "4408f782",
   "metadata": {
    "ExecuteTime": {
     "end_time": "2024-11-07T10:34:07.494419Z",
     "start_time": "2024-11-07T10:34:06.223463Z"
    },
    "scrolled": false
   },
   "outputs": [
    {
     "name": "stdout",
     "output_type": "stream",
     "text": [
      "______________________________________________________________________\n",
      "                                TRAIN                                 \n",
      "----------------------------------------------------------------------\n",
      "              precision    recall  f1-score   support\n",
      "\n",
      "           1       0.00      0.00      0.00      9981\n",
      "           2       0.73      0.99      0.84    232862\n",
      "           3       0.12      0.00      0.00     55125\n",
      "           4       0.59      0.73      0.65    118806\n",
      "           5       0.22      0.00      0.00     38624\n",
      "           6       0.00      0.00      0.00      3369\n",
      "           7       0.00      0.00      0.00        77\n",
      "           8       0.00      0.00      0.00       376\n",
      "\n",
      "    accuracy                           0.69    459220\n",
      "   macro avg       0.21      0.21      0.19    459220\n",
      "weighted avg       0.56      0.69      0.60    459220\n",
      "\n",
      "______________________________________________________________________\n",
      "                                VALIDATION                                 \n",
      "----------------------------------------------------------------------\n",
      "              precision    recall  f1-score   support\n",
      "\n",
      "           1       0.00      0.00      0.00      2495\n",
      "           2       0.73      0.99      0.84     58216\n",
      "           3       0.19      0.00      0.00     13781\n",
      "           4       0.59      0.72      0.65     29701\n",
      "           5       0.07      0.00      0.00      9656\n",
      "           6       0.00      0.00      0.00       842\n",
      "           7       0.00      0.00      0.00        20\n",
      "           8       0.00      0.00      0.00        94\n",
      "\n",
      "    accuracy                           0.69    114805\n",
      "   macro avg       0.20      0.21      0.19    114805\n",
      "weighted avg       0.55      0.69      0.60    114805\n",
      "\n"
     ]
    }
   ],
   "source": [
    "# Evaluate the performance of the SGDClassifier model using the custom metrics function for both training and validation predictions\n",
    "m.metrics(y_train, train_pred_sgd, y_val, val_pred_sgd)"
   ]
  },
  {
   "cell_type": "markdown",
   "id": "bd596059",
   "metadata": {},
   "source": [
    "**Decision Tree Classifier**"
   ]
  },
  {
   "cell_type": "code",
   "execution_count": 6,
   "id": "bfb76161",
   "metadata": {
    "ExecuteTime": {
     "end_time": "2024-11-08T18:44:13.920516Z",
     "start_time": "2024-11-08T18:44:07.627156Z"
    }
   },
   "outputs": [
    {
     "data": {
      "text/html": [
       "<style>#sk-container-id-1 {color: black;background-color: white;}#sk-container-id-1 pre{padding: 0;}#sk-container-id-1 div.sk-toggleable {background-color: white;}#sk-container-id-1 label.sk-toggleable__label {cursor: pointer;display: block;width: 100%;margin-bottom: 0;padding: 0.3em;box-sizing: border-box;text-align: center;}#sk-container-id-1 label.sk-toggleable__label-arrow:before {content: \"▸\";float: left;margin-right: 0.25em;color: #696969;}#sk-container-id-1 label.sk-toggleable__label-arrow:hover:before {color: black;}#sk-container-id-1 div.sk-estimator:hover label.sk-toggleable__label-arrow:before {color: black;}#sk-container-id-1 div.sk-toggleable__content {max-height: 0;max-width: 0;overflow: hidden;text-align: left;background-color: #f0f8ff;}#sk-container-id-1 div.sk-toggleable__content pre {margin: 0.2em;color: black;border-radius: 0.25em;background-color: #f0f8ff;}#sk-container-id-1 input.sk-toggleable__control:checked~div.sk-toggleable__content {max-height: 200px;max-width: 100%;overflow: auto;}#sk-container-id-1 input.sk-toggleable__control:checked~label.sk-toggleable__label-arrow:before {content: \"▾\";}#sk-container-id-1 div.sk-estimator input.sk-toggleable__control:checked~label.sk-toggleable__label {background-color: #d4ebff;}#sk-container-id-1 div.sk-label input.sk-toggleable__control:checked~label.sk-toggleable__label {background-color: #d4ebff;}#sk-container-id-1 input.sk-hidden--visually {border: 0;clip: rect(1px 1px 1px 1px);clip: rect(1px, 1px, 1px, 1px);height: 1px;margin: -1px;overflow: hidden;padding: 0;position: absolute;width: 1px;}#sk-container-id-1 div.sk-estimator {font-family: monospace;background-color: #f0f8ff;border: 1px dotted black;border-radius: 0.25em;box-sizing: border-box;margin-bottom: 0.5em;}#sk-container-id-1 div.sk-estimator:hover {background-color: #d4ebff;}#sk-container-id-1 div.sk-parallel-item::after {content: \"\";width: 100%;border-bottom: 1px solid gray;flex-grow: 1;}#sk-container-id-1 div.sk-label:hover label.sk-toggleable__label {background-color: #d4ebff;}#sk-container-id-1 div.sk-serial::before {content: \"\";position: absolute;border-left: 1px solid gray;box-sizing: border-box;top: 0;bottom: 0;left: 50%;z-index: 0;}#sk-container-id-1 div.sk-serial {display: flex;flex-direction: column;align-items: center;background-color: white;padding-right: 0.2em;padding-left: 0.2em;position: relative;}#sk-container-id-1 div.sk-item {position: relative;z-index: 1;}#sk-container-id-1 div.sk-parallel {display: flex;align-items: stretch;justify-content: center;background-color: white;position: relative;}#sk-container-id-1 div.sk-item::before, #sk-container-id-1 div.sk-parallel-item::before {content: \"\";position: absolute;border-left: 1px solid gray;box-sizing: border-box;top: 0;bottom: 0;left: 50%;z-index: -1;}#sk-container-id-1 div.sk-parallel-item {display: flex;flex-direction: column;z-index: 1;position: relative;background-color: white;}#sk-container-id-1 div.sk-parallel-item:first-child::after {align-self: flex-end;width: 50%;}#sk-container-id-1 div.sk-parallel-item:last-child::after {align-self: flex-start;width: 50%;}#sk-container-id-1 div.sk-parallel-item:only-child::after {width: 0;}#sk-container-id-1 div.sk-dashed-wrapped {border: 1px dashed gray;margin: 0 0.4em 0.5em 0.4em;box-sizing: border-box;padding-bottom: 0.4em;background-color: white;}#sk-container-id-1 div.sk-label label {font-family: monospace;font-weight: bold;display: inline-block;line-height: 1.2em;}#sk-container-id-1 div.sk-label-container {text-align: center;}#sk-container-id-1 div.sk-container {/* jupyter's `normalize.less` sets `[hidden] { display: none; }` but bootstrap.min.css set `[hidden] { display: none !important; }` so we also need the `!important` here to be able to override the default hidden behavior on the sphinx rendered scikit-learn.org. See: https://github.com/scikit-learn/scikit-learn/issues/21755 */display: inline-block !important;position: relative;}#sk-container-id-1 div.sk-text-repr-fallback {display: none;}</style><div id=\"sk-container-id-1\" class=\"sk-top-container\"><div class=\"sk-text-repr-fallback\"><pre>DecisionTreeClassifier()</pre><b>In a Jupyter environment, please rerun this cell to show the HTML representation or trust the notebook. <br />On GitHub, the HTML representation is unable to render, please try loading this page with nbviewer.org.</b></div><div class=\"sk-container\" hidden><div class=\"sk-item\"><div class=\"sk-estimator sk-toggleable\"><input class=\"sk-toggleable__control sk-hidden--visually\" id=\"sk-estimator-id-1\" type=\"checkbox\" checked><label for=\"sk-estimator-id-1\" class=\"sk-toggleable__label sk-toggleable__label-arrow\">DecisionTreeClassifier</label><div class=\"sk-toggleable__content\"><pre>DecisionTreeClassifier()</pre></div></div></div></div></div>"
      ],
      "text/plain": [
       "DecisionTreeClassifier()"
      ]
     },
     "execution_count": 6,
     "metadata": {},
     "output_type": "execute_result"
    }
   ],
   "source": [
    "# Initialize the DecisionTreeClassifier model and fit it to the training data\n",
    "dt = DecisionTreeClassifier()\n",
    "dt.fit(X_train, y_train)"
   ]
  },
  {
   "cell_type": "code",
   "execution_count": 7,
   "id": "b146c994",
   "metadata": {
    "ExecuteTime": {
     "end_time": "2024-11-08T18:44:14.340150Z",
     "start_time": "2024-11-08T18:44:13.923850Z"
    }
   },
   "outputs": [],
   "source": [
    "# Predict the target values for the training dataset using the DecisionTreeClassifier model\n",
    "train_pred_dt = dt.predict(X_train)\n",
    "\n",
    "# Predict the target values for the validation dataset using the DecisionTreeClassifier model\n",
    "val_pred_dt = dt.predict(X_val)"
   ]
  },
  {
   "cell_type": "code",
   "execution_count": 8,
   "id": "9d4e916b",
   "metadata": {
    "ExecuteTime": {
     "end_time": "2024-11-08T18:44:15.704005Z",
     "start_time": "2024-11-08T18:44:14.342494Z"
    },
    "scrolled": true
   },
   "outputs": [
    {
     "name": "stdout",
     "output_type": "stream",
     "text": [
      "______________________________________________________________________\n",
      "                                TRAIN                                 \n",
      "----------------------------------------------------------------------\n",
      "              precision    recall  f1-score   support\n",
      "\n",
      "           1       1.00      1.00      1.00      8559\n",
      "           2       1.00      1.00      1.00    229184\n",
      "           3       1.00      1.00      1.00     54456\n",
      "           4       1.00      1.00      1.00    117955\n",
      "           5       1.00      1.00      1.00     38551\n",
      "           6       1.00      1.00      1.00      3357\n",
      "           7       1.00      1.00      1.00        78\n",
      "           8       1.00      1.00      1.00       362\n",
      "\n",
      "    accuracy                           1.00    452502\n",
      "   macro avg       1.00      1.00      1.00    452502\n",
      "weighted avg       1.00      1.00      1.00    452502\n",
      "\n",
      "______________________________________________________________________\n",
      "                                VALIDATION                                 \n",
      "----------------------------------------------------------------------\n",
      "              precision    recall  f1-score   support\n",
      "\n",
      "           1       0.39      0.43      0.41      2140\n",
      "           2       0.85      0.83      0.84     57296\n",
      "           3       0.21      0.24      0.22     13614\n",
      "           4       0.67      0.66      0.67     29489\n",
      "           5       0.52      0.53      0.53      9638\n",
      "           6       0.07      0.09      0.08       840\n",
      "           7       0.04      0.05      0.05        19\n",
      "           8       0.24      0.24      0.24        90\n",
      "\n",
      "    accuracy                           0.68    113126\n",
      "   macro avg       0.38      0.38      0.38    113126\n",
      "weighted avg       0.69      0.68      0.68    113126\n",
      "\n"
     ]
    }
   ],
   "source": [
    "# Evaluate the performance of the DecisionTreeClassifier model using the custom metrics function for both training and validation predictions\n",
    "m.metrics(y_train, train_pred_dt, y_val, val_pred_dt)"
   ]
  },
  {
   "cell_type": "markdown",
   "id": "3601280c",
   "metadata": {},
   "source": [
    "**Random Forest Classifier**"
   ]
  },
  {
   "cell_type": "code",
   "execution_count": 39,
   "id": "4c307591",
   "metadata": {
    "ExecuteTime": {
     "end_time": "2024-11-08T19:38:28.091282Z",
     "start_time": "2024-11-08T19:37:09.782850Z"
    }
   },
   "outputs": [
    {
     "data": {
      "text/html": [
       "<style>#sk-container-id-4 {color: black;background-color: white;}#sk-container-id-4 pre{padding: 0;}#sk-container-id-4 div.sk-toggleable {background-color: white;}#sk-container-id-4 label.sk-toggleable__label {cursor: pointer;display: block;width: 100%;margin-bottom: 0;padding: 0.3em;box-sizing: border-box;text-align: center;}#sk-container-id-4 label.sk-toggleable__label-arrow:before {content: \"▸\";float: left;margin-right: 0.25em;color: #696969;}#sk-container-id-4 label.sk-toggleable__label-arrow:hover:before {color: black;}#sk-container-id-4 div.sk-estimator:hover label.sk-toggleable__label-arrow:before {color: black;}#sk-container-id-4 div.sk-toggleable__content {max-height: 0;max-width: 0;overflow: hidden;text-align: left;background-color: #f0f8ff;}#sk-container-id-4 div.sk-toggleable__content pre {margin: 0.2em;color: black;border-radius: 0.25em;background-color: #f0f8ff;}#sk-container-id-4 input.sk-toggleable__control:checked~div.sk-toggleable__content {max-height: 200px;max-width: 100%;overflow: auto;}#sk-container-id-4 input.sk-toggleable__control:checked~label.sk-toggleable__label-arrow:before {content: \"▾\";}#sk-container-id-4 div.sk-estimator input.sk-toggleable__control:checked~label.sk-toggleable__label {background-color: #d4ebff;}#sk-container-id-4 div.sk-label input.sk-toggleable__control:checked~label.sk-toggleable__label {background-color: #d4ebff;}#sk-container-id-4 input.sk-hidden--visually {border: 0;clip: rect(1px 1px 1px 1px);clip: rect(1px, 1px, 1px, 1px);height: 1px;margin: -1px;overflow: hidden;padding: 0;position: absolute;width: 1px;}#sk-container-id-4 div.sk-estimator {font-family: monospace;background-color: #f0f8ff;border: 1px dotted black;border-radius: 0.25em;box-sizing: border-box;margin-bottom: 0.5em;}#sk-container-id-4 div.sk-estimator:hover {background-color: #d4ebff;}#sk-container-id-4 div.sk-parallel-item::after {content: \"\";width: 100%;border-bottom: 1px solid gray;flex-grow: 1;}#sk-container-id-4 div.sk-label:hover label.sk-toggleable__label {background-color: #d4ebff;}#sk-container-id-4 div.sk-serial::before {content: \"\";position: absolute;border-left: 1px solid gray;box-sizing: border-box;top: 0;bottom: 0;left: 50%;z-index: 0;}#sk-container-id-4 div.sk-serial {display: flex;flex-direction: column;align-items: center;background-color: white;padding-right: 0.2em;padding-left: 0.2em;position: relative;}#sk-container-id-4 div.sk-item {position: relative;z-index: 1;}#sk-container-id-4 div.sk-parallel {display: flex;align-items: stretch;justify-content: center;background-color: white;position: relative;}#sk-container-id-4 div.sk-item::before, #sk-container-id-4 div.sk-parallel-item::before {content: \"\";position: absolute;border-left: 1px solid gray;box-sizing: border-box;top: 0;bottom: 0;left: 50%;z-index: -1;}#sk-container-id-4 div.sk-parallel-item {display: flex;flex-direction: column;z-index: 1;position: relative;background-color: white;}#sk-container-id-4 div.sk-parallel-item:first-child::after {align-self: flex-end;width: 50%;}#sk-container-id-4 div.sk-parallel-item:last-child::after {align-self: flex-start;width: 50%;}#sk-container-id-4 div.sk-parallel-item:only-child::after {width: 0;}#sk-container-id-4 div.sk-dashed-wrapped {border: 1px dashed gray;margin: 0 0.4em 0.5em 0.4em;box-sizing: border-box;padding-bottom: 0.4em;background-color: white;}#sk-container-id-4 div.sk-label label {font-family: monospace;font-weight: bold;display: inline-block;line-height: 1.2em;}#sk-container-id-4 div.sk-label-container {text-align: center;}#sk-container-id-4 div.sk-container {/* jupyter's `normalize.less` sets `[hidden] { display: none; }` but bootstrap.min.css set `[hidden] { display: none !important; }` so we also need the `!important` here to be able to override the default hidden behavior on the sphinx rendered scikit-learn.org. See: https://github.com/scikit-learn/scikit-learn/issues/21755 */display: inline-block !important;position: relative;}#sk-container-id-4 div.sk-text-repr-fallback {display: none;}</style><div id=\"sk-container-id-4\" class=\"sk-top-container\"><div class=\"sk-text-repr-fallback\"><pre>RandomForestClassifier()</pre><b>In a Jupyter environment, please rerun this cell to show the HTML representation or trust the notebook. <br />On GitHub, the HTML representation is unable to render, please try loading this page with nbviewer.org.</b></div><div class=\"sk-container\" hidden><div class=\"sk-item\"><div class=\"sk-estimator sk-toggleable\"><input class=\"sk-toggleable__control sk-hidden--visually\" id=\"sk-estimator-id-10\" type=\"checkbox\" checked><label for=\"sk-estimator-id-10\" class=\"sk-toggleable__label sk-toggleable__label-arrow\">RandomForestClassifier</label><div class=\"sk-toggleable__content\"><pre>RandomForestClassifier()</pre></div></div></div></div></div>"
      ],
      "text/plain": [
       "RandomForestClassifier()"
      ]
     },
     "execution_count": 39,
     "metadata": {},
     "output_type": "execute_result"
    }
   ],
   "source": [
    "# Initialize the RandomForestClassifier model and fit it to the training data\n",
    "rf = RandomForestClassifier()\n",
    "rf.fit(X_train, y_train)"
   ]
  },
  {
   "cell_type": "code",
   "execution_count": 40,
   "id": "a9046f80",
   "metadata": {
    "ExecuteTime": {
     "end_time": "2024-11-08T19:38:48.775687Z",
     "start_time": "2024-11-08T19:38:28.093493Z"
    }
   },
   "outputs": [],
   "source": [
    "# Predict the target values for the training dataset using the RandomForestClassifier model\n",
    "train_pred_rf = rf.predict(X_train)\n",
    "\n",
    "# Predict the target values for the validation dataset using the RandomForestClassifier model\n",
    "val_pred_rf = rf.predict(X_val)"
   ]
  },
  {
   "cell_type": "code",
   "execution_count": 41,
   "id": "e03271e5",
   "metadata": {
    "ExecuteTime": {
     "end_time": "2024-11-08T19:38:49.701139Z",
     "start_time": "2024-11-08T19:38:48.779320Z"
    },
    "scrolled": true
   },
   "outputs": [
    {
     "name": "stdout",
     "output_type": "stream",
     "text": [
      "______________________________________________________________________\n",
      "                                TRAIN                                 \n",
      "----------------------------------------------------------------------\n",
      "              precision    recall  f1-score   support\n",
      "\n",
      "           1       1.00      0.99      1.00      8559\n",
      "           2       1.00      1.00      1.00    229184\n",
      "           3       1.00      1.00      1.00     54456\n",
      "           4       1.00      1.00      1.00    117955\n",
      "           5       1.00      1.00      1.00     38551\n",
      "           6       1.00      1.00      1.00      3357\n",
      "           7       1.00      1.00      1.00        78\n",
      "           8       1.00      1.00      1.00       362\n",
      "\n",
      "    accuracy                           1.00    452502\n",
      "   macro avg       1.00      1.00      1.00    452502\n",
      "weighted avg       1.00      1.00      1.00    452502\n",
      "\n",
      "______________________________________________________________________\n",
      "                                VALIDATION                                 \n",
      "----------------------------------------------------------------------\n",
      "              precision    recall  f1-score   support\n",
      "\n",
      "           1       0.73      0.46      0.56      2140\n",
      "           2       0.86      0.96      0.91     57296\n",
      "           3       0.50      0.09      0.16     13614\n",
      "           4       0.70      0.89      0.78     29489\n",
      "           5       0.71      0.56      0.62      9638\n",
      "           6       0.00      0.00      0.00       840\n",
      "           7       0.00      0.00      0.00        19\n",
      "           8       0.67      0.09      0.16        90\n",
      "\n",
      "    accuracy                           0.79    113126\n",
      "   macro avg       0.52      0.38      0.40    113126\n",
      "weighted avg       0.75      0.79      0.75    113126\n",
      "\n"
     ]
    }
   ],
   "source": [
    "# Evaluate the performance of the RandomForestClassifier model using the custom metrics function for both training and validation predictions\n",
    "m.metrics(y_train, train_pred_rf, y_val, val_pred_rf)"
   ]
  },
  {
   "cell_type": "markdown",
   "id": "58a91003",
   "metadata": {},
   "source": [
    "**Gradient Boosting Classifier**"
   ]
  },
  {
   "cell_type": "code",
   "execution_count": null,
   "id": "5934afdf",
   "metadata": {
    "ExecuteTime": {
     "end_time": "2024-11-07T10:52:47.135420Z",
     "start_time": "2024-11-07T10:38:53.920026Z"
    }
   },
   "outputs": [
    {
     "data": {
      "text/html": [
       "<style>#sk-container-id-5 {color: black;background-color: white;}#sk-container-id-5 pre{padding: 0;}#sk-container-id-5 div.sk-toggleable {background-color: white;}#sk-container-id-5 label.sk-toggleable__label {cursor: pointer;display: block;width: 100%;margin-bottom: 0;padding: 0.3em;box-sizing: border-box;text-align: center;}#sk-container-id-5 label.sk-toggleable__label-arrow:before {content: \"▸\";float: left;margin-right: 0.25em;color: #696969;}#sk-container-id-5 label.sk-toggleable__label-arrow:hover:before {color: black;}#sk-container-id-5 div.sk-estimator:hover label.sk-toggleable__label-arrow:before {color: black;}#sk-container-id-5 div.sk-toggleable__content {max-height: 0;max-width: 0;overflow: hidden;text-align: left;background-color: #f0f8ff;}#sk-container-id-5 div.sk-toggleable__content pre {margin: 0.2em;color: black;border-radius: 0.25em;background-color: #f0f8ff;}#sk-container-id-5 input.sk-toggleable__control:checked~div.sk-toggleable__content {max-height: 200px;max-width: 100%;overflow: auto;}#sk-container-id-5 input.sk-toggleable__control:checked~label.sk-toggleable__label-arrow:before {content: \"▾\";}#sk-container-id-5 div.sk-estimator input.sk-toggleable__control:checked~label.sk-toggleable__label {background-color: #d4ebff;}#sk-container-id-5 div.sk-label input.sk-toggleable__control:checked~label.sk-toggleable__label {background-color: #d4ebff;}#sk-container-id-5 input.sk-hidden--visually {border: 0;clip: rect(1px 1px 1px 1px);clip: rect(1px, 1px, 1px, 1px);height: 1px;margin: -1px;overflow: hidden;padding: 0;position: absolute;width: 1px;}#sk-container-id-5 div.sk-estimator {font-family: monospace;background-color: #f0f8ff;border: 1px dotted black;border-radius: 0.25em;box-sizing: border-box;margin-bottom: 0.5em;}#sk-container-id-5 div.sk-estimator:hover {background-color: #d4ebff;}#sk-container-id-5 div.sk-parallel-item::after {content: \"\";width: 100%;border-bottom: 1px solid gray;flex-grow: 1;}#sk-container-id-5 div.sk-label:hover label.sk-toggleable__label {background-color: #d4ebff;}#sk-container-id-5 div.sk-serial::before {content: \"\";position: absolute;border-left: 1px solid gray;box-sizing: border-box;top: 0;bottom: 0;left: 50%;z-index: 0;}#sk-container-id-5 div.sk-serial {display: flex;flex-direction: column;align-items: center;background-color: white;padding-right: 0.2em;padding-left: 0.2em;position: relative;}#sk-container-id-5 div.sk-item {position: relative;z-index: 1;}#sk-container-id-5 div.sk-parallel {display: flex;align-items: stretch;justify-content: center;background-color: white;position: relative;}#sk-container-id-5 div.sk-item::before, #sk-container-id-5 div.sk-parallel-item::before {content: \"\";position: absolute;border-left: 1px solid gray;box-sizing: border-box;top: 0;bottom: 0;left: 50%;z-index: -1;}#sk-container-id-5 div.sk-parallel-item {display: flex;flex-direction: column;z-index: 1;position: relative;background-color: white;}#sk-container-id-5 div.sk-parallel-item:first-child::after {align-self: flex-end;width: 50%;}#sk-container-id-5 div.sk-parallel-item:last-child::after {align-self: flex-start;width: 50%;}#sk-container-id-5 div.sk-parallel-item:only-child::after {width: 0;}#sk-container-id-5 div.sk-dashed-wrapped {border: 1px dashed gray;margin: 0 0.4em 0.5em 0.4em;box-sizing: border-box;padding-bottom: 0.4em;background-color: white;}#sk-container-id-5 div.sk-label label {font-family: monospace;font-weight: bold;display: inline-block;line-height: 1.2em;}#sk-container-id-5 div.sk-label-container {text-align: center;}#sk-container-id-5 div.sk-container {/* jupyter's `normalize.less` sets `[hidden] { display: none; }` but bootstrap.min.css set `[hidden] { display: none !important; }` so we also need the `!important` here to be able to override the default hidden behavior on the sphinx rendered scikit-learn.org. See: https://github.com/scikit-learn/scikit-learn/issues/21755 */display: inline-block !important;position: relative;}#sk-container-id-5 div.sk-text-repr-fallback {display: none;}</style><div id=\"sk-container-id-5\" class=\"sk-top-container\"><div class=\"sk-text-repr-fallback\"><pre>GradientBoostingClassifier()</pre><b>In a Jupyter environment, please rerun this cell to show the HTML representation or trust the notebook. <br />On GitHub, the HTML representation is unable to render, please try loading this page with nbviewer.org.</b></div><div class=\"sk-container\" hidden><div class=\"sk-item\"><div class=\"sk-estimator sk-toggleable\"><input class=\"sk-toggleable__control sk-hidden--visually\" id=\"sk-estimator-id-5\" type=\"checkbox\" checked><label for=\"sk-estimator-id-5\" class=\"sk-toggleable__label sk-toggleable__label-arrow\">GradientBoostingClassifier</label><div class=\"sk-toggleable__content\"><pre>GradientBoostingClassifier()</pre></div></div></div></div></div>"
      ],
      "text/plain": [
       "GradientBoostingClassifier()"
      ]
     },
     "execution_count": 21,
     "metadata": {},
     "output_type": "execute_result"
    }
   ],
   "source": [
    "# Initialize the GradientBoostingClassifier model and fit it to the training data\n",
    "gb = GradientBoostingClassifier()\n",
    "gb.fit(X_train, y_train)"
   ]
  },
  {
   "cell_type": "code",
   "execution_count": null,
   "id": "0228a30b",
   "metadata": {
    "ExecuteTime": {
     "end_time": "2024-11-07T10:52:56.649658Z",
     "start_time": "2024-11-07T10:52:47.139212Z"
    }
   },
   "outputs": [],
   "source": [
    "# Predict the target values for the training dataset using the GradientBoostingClassifier model\n",
    "train_pred_gb = gb.predict(X_train)\n",
    "\n",
    "# Predict the target values for the validation dataset using the GradientBoostingClassifier model\n",
    "val_pred_gb = gb.predict(X_val)"
   ]
  },
  {
   "cell_type": "code",
   "execution_count": null,
   "id": "727abc01",
   "metadata": {
    "ExecuteTime": {
     "end_time": "2024-11-07T10:52:57.967415Z",
     "start_time": "2024-11-07T10:52:56.652432Z"
    }
   },
   "outputs": [
    {
     "name": "stdout",
     "output_type": "stream",
     "text": [
      "______________________________________________________________________\n",
      "                                TRAIN                                 \n",
      "----------------------------------------------------------------------\n",
      "              precision    recall  f1-score   support\n",
      "\n",
      "           1       0.72      0.47      0.57      9981\n",
      "           2       0.85      0.96      0.90    232862\n",
      "           3       0.50      0.06      0.11     55125\n",
      "           4       0.69      0.88      0.77    118806\n",
      "           5       0.70      0.56      0.62     38624\n",
      "           6       0.67      0.00      0.01      3369\n",
      "           7       0.77      0.22      0.34        77\n",
      "           8       0.23      0.09      0.13       376\n",
      "\n",
      "    accuracy                           0.78    459220\n",
      "   macro avg       0.64      0.40      0.43    459220\n",
      "weighted avg       0.75      0.78      0.74    459220\n",
      "\n",
      "______________________________________________________________________\n",
      "                                VALIDATION                                 \n",
      "----------------------------------------------------------------------\n",
      "              precision    recall  f1-score   support\n",
      "\n",
      "           1       0.72      0.48      0.58      2495\n",
      "           2       0.85      0.96      0.90     58216\n",
      "           3       0.50      0.06      0.11     13781\n",
      "           4       0.69      0.88      0.77     29701\n",
      "           5       0.70      0.55      0.62      9656\n",
      "           6       0.33      0.00      0.00       842\n",
      "           7       0.00      0.00      0.00        20\n",
      "           8       0.23      0.06      0.10        94\n",
      "\n",
      "    accuracy                           0.78    114805\n",
      "   macro avg       0.50      0.37      0.39    114805\n",
      "weighted avg       0.74      0.78      0.73    114805\n",
      "\n"
     ]
    }
   ],
   "source": [
    "# Evaluate the performance of the GradientBoostingClassifier model using the custom metrics function for both training and validation predictions\n",
    "m.metrics(y_train, train_pred_gb, y_val, val_pred_gb)"
   ]
  },
  {
   "cell_type": "markdown",
   "id": "cae41d88",
   "metadata": {},
   "source": [
    "**AdaBoost Classifier**"
   ]
  },
  {
   "cell_type": "code",
   "execution_count": null,
   "id": "5a09f977",
   "metadata": {
    "ExecuteTime": {
     "end_time": "2024-11-07T11:03:47.572528Z",
     "start_time": "2024-11-07T11:03:19.953595Z"
    }
   },
   "outputs": [
    {
     "data": {
      "text/html": [
       "<style>#sk-container-id-6 {color: black;background-color: white;}#sk-container-id-6 pre{padding: 0;}#sk-container-id-6 div.sk-toggleable {background-color: white;}#sk-container-id-6 label.sk-toggleable__label {cursor: pointer;display: block;width: 100%;margin-bottom: 0;padding: 0.3em;box-sizing: border-box;text-align: center;}#sk-container-id-6 label.sk-toggleable__label-arrow:before {content: \"▸\";float: left;margin-right: 0.25em;color: #696969;}#sk-container-id-6 label.sk-toggleable__label-arrow:hover:before {color: black;}#sk-container-id-6 div.sk-estimator:hover label.sk-toggleable__label-arrow:before {color: black;}#sk-container-id-6 div.sk-toggleable__content {max-height: 0;max-width: 0;overflow: hidden;text-align: left;background-color: #f0f8ff;}#sk-container-id-6 div.sk-toggleable__content pre {margin: 0.2em;color: black;border-radius: 0.25em;background-color: #f0f8ff;}#sk-container-id-6 input.sk-toggleable__control:checked~div.sk-toggleable__content {max-height: 200px;max-width: 100%;overflow: auto;}#sk-container-id-6 input.sk-toggleable__control:checked~label.sk-toggleable__label-arrow:before {content: \"▾\";}#sk-container-id-6 div.sk-estimator input.sk-toggleable__control:checked~label.sk-toggleable__label {background-color: #d4ebff;}#sk-container-id-6 div.sk-label input.sk-toggleable__control:checked~label.sk-toggleable__label {background-color: #d4ebff;}#sk-container-id-6 input.sk-hidden--visually {border: 0;clip: rect(1px 1px 1px 1px);clip: rect(1px, 1px, 1px, 1px);height: 1px;margin: -1px;overflow: hidden;padding: 0;position: absolute;width: 1px;}#sk-container-id-6 div.sk-estimator {font-family: monospace;background-color: #f0f8ff;border: 1px dotted black;border-radius: 0.25em;box-sizing: border-box;margin-bottom: 0.5em;}#sk-container-id-6 div.sk-estimator:hover {background-color: #d4ebff;}#sk-container-id-6 div.sk-parallel-item::after {content: \"\";width: 100%;border-bottom: 1px solid gray;flex-grow: 1;}#sk-container-id-6 div.sk-label:hover label.sk-toggleable__label {background-color: #d4ebff;}#sk-container-id-6 div.sk-serial::before {content: \"\";position: absolute;border-left: 1px solid gray;box-sizing: border-box;top: 0;bottom: 0;left: 50%;z-index: 0;}#sk-container-id-6 div.sk-serial {display: flex;flex-direction: column;align-items: center;background-color: white;padding-right: 0.2em;padding-left: 0.2em;position: relative;}#sk-container-id-6 div.sk-item {position: relative;z-index: 1;}#sk-container-id-6 div.sk-parallel {display: flex;align-items: stretch;justify-content: center;background-color: white;position: relative;}#sk-container-id-6 div.sk-item::before, #sk-container-id-6 div.sk-parallel-item::before {content: \"\";position: absolute;border-left: 1px solid gray;box-sizing: border-box;top: 0;bottom: 0;left: 50%;z-index: -1;}#sk-container-id-6 div.sk-parallel-item {display: flex;flex-direction: column;z-index: 1;position: relative;background-color: white;}#sk-container-id-6 div.sk-parallel-item:first-child::after {align-self: flex-end;width: 50%;}#sk-container-id-6 div.sk-parallel-item:last-child::after {align-self: flex-start;width: 50%;}#sk-container-id-6 div.sk-parallel-item:only-child::after {width: 0;}#sk-container-id-6 div.sk-dashed-wrapped {border: 1px dashed gray;margin: 0 0.4em 0.5em 0.4em;box-sizing: border-box;padding-bottom: 0.4em;background-color: white;}#sk-container-id-6 div.sk-label label {font-family: monospace;font-weight: bold;display: inline-block;line-height: 1.2em;}#sk-container-id-6 div.sk-label-container {text-align: center;}#sk-container-id-6 div.sk-container {/* jupyter's `normalize.less` sets `[hidden] { display: none; }` but bootstrap.min.css set `[hidden] { display: none !important; }` so we also need the `!important` here to be able to override the default hidden behavior on the sphinx rendered scikit-learn.org. See: https://github.com/scikit-learn/scikit-learn/issues/21755 */display: inline-block !important;position: relative;}#sk-container-id-6 div.sk-text-repr-fallback {display: none;}</style><div id=\"sk-container-id-6\" class=\"sk-top-container\"><div class=\"sk-text-repr-fallback\"><pre>AdaBoostClassifier()</pre><b>In a Jupyter environment, please rerun this cell to show the HTML representation or trust the notebook. <br />On GitHub, the HTML representation is unable to render, please try loading this page with nbviewer.org.</b></div><div class=\"sk-container\" hidden><div class=\"sk-item\"><div class=\"sk-estimator sk-toggleable\"><input class=\"sk-toggleable__control sk-hidden--visually\" id=\"sk-estimator-id-6\" type=\"checkbox\" checked><label for=\"sk-estimator-id-6\" class=\"sk-toggleable__label sk-toggleable__label-arrow\">AdaBoostClassifier</label><div class=\"sk-toggleable__content\"><pre>AdaBoostClassifier()</pre></div></div></div></div></div>"
      ],
      "text/plain": [
       "AdaBoostClassifier()"
      ]
     },
     "execution_count": 25,
     "metadata": {},
     "output_type": "execute_result"
    }
   ],
   "source": [
    "# Initialize the AdaBoostClassifier model and fit it to the training data\n",
    "ab = AdaBoostClassifier()\n",
    "ab.fit(X_train, y_train)"
   ]
  },
  {
   "cell_type": "code",
   "execution_count": null,
   "id": "f35e6577",
   "metadata": {
    "ExecuteTime": {
     "end_time": "2024-11-07T11:03:54.209612Z",
     "start_time": "2024-11-07T11:03:47.575814Z"
    }
   },
   "outputs": [],
   "source": [
    "# Predict the target values for the training dataset using the AdaBoostClassifier model\n",
    "train_pred_ab = ab.predict(X_train)\n",
    "\n",
    "# Predict the target values for the validation dataset using the AdaBoostClassifier model\n",
    "val_pred_ab = ab.predict(X_val)"
   ]
  },
  {
   "cell_type": "code",
   "execution_count": null,
   "id": "9f81b0db",
   "metadata": {
    "ExecuteTime": {
     "end_time": "2024-11-07T11:03:55.547241Z",
     "start_time": "2024-11-07T11:03:54.212400Z"
    }
   },
   "outputs": [
    {
     "name": "stdout",
     "output_type": "stream",
     "text": [
      "______________________________________________________________________\n",
      "                                TRAIN                                 \n",
      "----------------------------------------------------------------------\n",
      "              precision    recall  f1-score   support\n",
      "\n",
      "           1       0.19      0.57      0.29      9981\n",
      "           2       0.84      0.88      0.86    232862\n",
      "           3       0.50      0.02      0.04     55125\n",
      "           4       0.64      0.86      0.74    118806\n",
      "           5       0.56      0.35      0.43     38624\n",
      "           6       0.00      0.00      0.00      3369\n",
      "           7       0.00      0.00      0.00        77\n",
      "           8       0.12      0.63      0.21       376\n",
      "\n",
      "    accuracy                           0.71    459220\n",
      "   macro avg       0.36      0.41      0.32    459220\n",
      "weighted avg       0.71      0.71      0.67    459220\n",
      "\n",
      "______________________________________________________________________\n",
      "                                VALIDATION                                 \n",
      "----------------------------------------------------------------------\n",
      "              precision    recall  f1-score   support\n",
      "\n",
      "           1       0.19      0.58      0.29      2495\n",
      "           2       0.84      0.88      0.86     58216\n",
      "           3       0.47      0.02      0.04     13781\n",
      "           4       0.65      0.86      0.74     29701\n",
      "           5       0.56      0.35      0.43      9656\n",
      "           6       0.00      0.00      0.00       842\n",
      "           7       0.00      0.00      0.00        20\n",
      "           8       0.12      0.61      0.20        94\n",
      "\n",
      "    accuracy                           0.71    114805\n",
      "   macro avg       0.35      0.41      0.32    114805\n",
      "weighted avg       0.70      0.71      0.67    114805\n",
      "\n"
     ]
    }
   ],
   "source": [
    "# Evaluate the performance of the AdaBoostClassifier model using the custom metrics function for both training and validation predictions\n",
    "m.metrics(y_train, train_pred_ab, y_val, val_pred_ab)"
   ]
  },
  {
   "cell_type": "markdown",
   "id": "c995d675",
   "metadata": {},
   "source": [
    "**SVC**"
   ]
  },
  {
   "cell_type": "code",
   "execution_count": null,
   "id": "42d00baf",
   "metadata": {
    "ExecuteTime": {
     "start_time": "2024-11-07T11:03:21.341Z"
    }
   },
   "outputs": [],
   "source": [
    "# Initialize the Support Vector Classifier (SVC) model and fit it to the training data\n",
    "svc = SVC()\n",
    "svc.fit(X_train, y_train)"
   ]
  },
  {
   "cell_type": "code",
   "execution_count": null,
   "id": "318f5cea",
   "metadata": {
    "ExecuteTime": {
     "start_time": "2024-11-07T11:03:21.638Z"
    }
   },
   "outputs": [],
   "source": [
    "# Predict the target values for the training dataset using the Support Vector Classifier (SVC) model\n",
    "train_pred_svc = svc.predict(X_train)\n",
    "\n",
    "# Predict the target values for the validation dataset using the Support Vector Classifier (SVC) model\n",
    "val_pred_svc = svc.predict(X_val)"
   ]
  },
  {
   "cell_type": "code",
   "execution_count": null,
   "id": "d902534e",
   "metadata": {
    "ExecuteTime": {
     "start_time": "2024-11-07T11:03:21.950Z"
    }
   },
   "outputs": [],
   "source": [
    "# Evaluate the performance of the Support Vector Classifier (SVC) model using the custom metrics function for both training and validation predictions\n",
    "m.metrics(y_train, train_pred_svc, y_val, val_pred_svc)"
   ]
  },
  {
   "cell_type": "markdown",
   "id": "9716d56b",
   "metadata": {},
   "source": [
    "**Gaussian Process Classifier**"
   ]
  },
  {
   "cell_type": "code",
   "execution_count": null,
   "id": "ac411eb5",
   "metadata": {},
   "outputs": [],
   "source": [
    "## kills the kernel"
   ]
  },
  {
   "cell_type": "code",
   "execution_count": null,
   "id": "6b250883",
   "metadata": {
    "ExecuteTime": {
     "start_time": "2024-11-07T13:40:57.585Z"
    }
   },
   "outputs": [],
   "source": [
    "# gau_p = GaussianProcessClassifier()\n",
    "# gau_p.fit(X_train, y_train)"
   ]
  },
  {
   "cell_type": "code",
   "execution_count": null,
   "id": "4b531ef3",
   "metadata": {
    "ExecuteTime": {
     "start_time": "2024-11-07T13:40:57.818Z"
    }
   },
   "outputs": [],
   "source": [
    "# train_pred_gau_p = gau_p.predict(X_train)\n",
    "# val_pred_gau_p = gau_p.predict(X_val)"
   ]
  },
  {
   "cell_type": "code",
   "execution_count": null,
   "id": "b9bfa8d6",
   "metadata": {
    "ExecuteTime": {
     "start_time": "2024-11-07T13:40:58.062Z"
    }
   },
   "outputs": [],
   "source": [
    "# metrics(y_train, train_pred_gau_p , y_val, val_pred_gau_p)"
   ]
  },
  {
   "cell_type": "markdown",
   "id": "fba09e98",
   "metadata": {},
   "source": [
    "**Linear Discriminant Analysis**"
   ]
  },
  {
   "cell_type": "code",
   "execution_count": null,
   "id": "6a9ea5bd",
   "metadata": {
    "ExecuteTime": {
     "end_time": "2024-11-07T13:43:15.803862Z",
     "start_time": "2024-11-07T13:43:13.868514Z"
    }
   },
   "outputs": [
    {
     "data": {
      "text/html": [
       "<style>#sk-container-id-1 {color: black;background-color: white;}#sk-container-id-1 pre{padding: 0;}#sk-container-id-1 div.sk-toggleable {background-color: white;}#sk-container-id-1 label.sk-toggleable__label {cursor: pointer;display: block;width: 100%;margin-bottom: 0;padding: 0.3em;box-sizing: border-box;text-align: center;}#sk-container-id-1 label.sk-toggleable__label-arrow:before {content: \"▸\";float: left;margin-right: 0.25em;color: #696969;}#sk-container-id-1 label.sk-toggleable__label-arrow:hover:before {color: black;}#sk-container-id-1 div.sk-estimator:hover label.sk-toggleable__label-arrow:before {color: black;}#sk-container-id-1 div.sk-toggleable__content {max-height: 0;max-width: 0;overflow: hidden;text-align: left;background-color: #f0f8ff;}#sk-container-id-1 div.sk-toggleable__content pre {margin: 0.2em;color: black;border-radius: 0.25em;background-color: #f0f8ff;}#sk-container-id-1 input.sk-toggleable__control:checked~div.sk-toggleable__content {max-height: 200px;max-width: 100%;overflow: auto;}#sk-container-id-1 input.sk-toggleable__control:checked~label.sk-toggleable__label-arrow:before {content: \"▾\";}#sk-container-id-1 div.sk-estimator input.sk-toggleable__control:checked~label.sk-toggleable__label {background-color: #d4ebff;}#sk-container-id-1 div.sk-label input.sk-toggleable__control:checked~label.sk-toggleable__label {background-color: #d4ebff;}#sk-container-id-1 input.sk-hidden--visually {border: 0;clip: rect(1px 1px 1px 1px);clip: rect(1px, 1px, 1px, 1px);height: 1px;margin: -1px;overflow: hidden;padding: 0;position: absolute;width: 1px;}#sk-container-id-1 div.sk-estimator {font-family: monospace;background-color: #f0f8ff;border: 1px dotted black;border-radius: 0.25em;box-sizing: border-box;margin-bottom: 0.5em;}#sk-container-id-1 div.sk-estimator:hover {background-color: #d4ebff;}#sk-container-id-1 div.sk-parallel-item::after {content: \"\";width: 100%;border-bottom: 1px solid gray;flex-grow: 1;}#sk-container-id-1 div.sk-label:hover label.sk-toggleable__label {background-color: #d4ebff;}#sk-container-id-1 div.sk-serial::before {content: \"\";position: absolute;border-left: 1px solid gray;box-sizing: border-box;top: 0;bottom: 0;left: 50%;z-index: 0;}#sk-container-id-1 div.sk-serial {display: flex;flex-direction: column;align-items: center;background-color: white;padding-right: 0.2em;padding-left: 0.2em;position: relative;}#sk-container-id-1 div.sk-item {position: relative;z-index: 1;}#sk-container-id-1 div.sk-parallel {display: flex;align-items: stretch;justify-content: center;background-color: white;position: relative;}#sk-container-id-1 div.sk-item::before, #sk-container-id-1 div.sk-parallel-item::before {content: \"\";position: absolute;border-left: 1px solid gray;box-sizing: border-box;top: 0;bottom: 0;left: 50%;z-index: -1;}#sk-container-id-1 div.sk-parallel-item {display: flex;flex-direction: column;z-index: 1;position: relative;background-color: white;}#sk-container-id-1 div.sk-parallel-item:first-child::after {align-self: flex-end;width: 50%;}#sk-container-id-1 div.sk-parallel-item:last-child::after {align-self: flex-start;width: 50%;}#sk-container-id-1 div.sk-parallel-item:only-child::after {width: 0;}#sk-container-id-1 div.sk-dashed-wrapped {border: 1px dashed gray;margin: 0 0.4em 0.5em 0.4em;box-sizing: border-box;padding-bottom: 0.4em;background-color: white;}#sk-container-id-1 div.sk-label label {font-family: monospace;font-weight: bold;display: inline-block;line-height: 1.2em;}#sk-container-id-1 div.sk-label-container {text-align: center;}#sk-container-id-1 div.sk-container {/* jupyter's `normalize.less` sets `[hidden] { display: none; }` but bootstrap.min.css set `[hidden] { display: none !important; }` so we also need the `!important` here to be able to override the default hidden behavior on the sphinx rendered scikit-learn.org. See: https://github.com/scikit-learn/scikit-learn/issues/21755 */display: inline-block !important;position: relative;}#sk-container-id-1 div.sk-text-repr-fallback {display: none;}</style><div id=\"sk-container-id-1\" class=\"sk-top-container\"><div class=\"sk-text-repr-fallback\"><pre>LinearDiscriminantAnalysis()</pre><b>In a Jupyter environment, please rerun this cell to show the HTML representation or trust the notebook. <br />On GitHub, the HTML representation is unable to render, please try loading this page with nbviewer.org.</b></div><div class=\"sk-container\" hidden><div class=\"sk-item\"><div class=\"sk-estimator sk-toggleable\"><input class=\"sk-toggleable__control sk-hidden--visually\" id=\"sk-estimator-id-1\" type=\"checkbox\" checked><label for=\"sk-estimator-id-1\" class=\"sk-toggleable__label sk-toggleable__label-arrow\">LinearDiscriminantAnalysis</label><div class=\"sk-toggleable__content\"><pre>LinearDiscriminantAnalysis()</pre></div></div></div></div></div>"
      ],
      "text/plain": [
       "LinearDiscriminantAnalysis()"
      ]
     },
     "execution_count": 4,
     "metadata": {},
     "output_type": "execute_result"
    }
   ],
   "source": [
    "# Initialize the Linear Discriminant Analysis (LDA) model and fit it to the training data\n",
    "lda = LinearDiscriminantAnalysis()\n",
    "lda.fit(X_train, y_train)"
   ]
  },
  {
   "cell_type": "code",
   "execution_count": null,
   "id": "32563368",
   "metadata": {
    "ExecuteTime": {
     "end_time": "2024-11-07T13:43:15.905687Z",
     "start_time": "2024-11-07T13:43:15.807886Z"
    }
   },
   "outputs": [],
   "source": [
    "# Predict the target values for the training dataset using the Linear Discriminant Analysis (LDA) model\n",
    "train_pred_lda = lda.predict(X_train)\n",
    "\n",
    "# Predict the target values for the validation dataset using the Linear Discriminant Analysis (LDA) model\n",
    "val_pred_lda = lda.predict(X_val)"
   ]
  },
  {
   "cell_type": "code",
   "execution_count": null,
   "id": "ca30b373",
   "metadata": {
    "ExecuteTime": {
     "end_time": "2024-11-07T13:43:22.493198Z",
     "start_time": "2024-11-07T13:43:21.161925Z"
    }
   },
   "outputs": [
    {
     "name": "stdout",
     "output_type": "stream",
     "text": [
      "______________________________________________________________________\n",
      "                                TRAIN                                 \n",
      "----------------------------------------------------------------------\n",
      "              precision    recall  f1-score   support\n",
      "\n",
      "           1       0.41      0.39      0.40      9981\n",
      "           2       0.69      0.93      0.79    232862\n",
      "           3       0.29      0.02      0.03     55125\n",
      "           4       0.55      0.44      0.49    118806\n",
      "           5       0.48      0.38      0.43     38624\n",
      "           6       0.08      0.15      0.11      3369\n",
      "           7       0.00      0.00      0.00        77\n",
      "           8       0.09      0.59      0.15       376\n",
      "\n",
      "    accuracy                           0.63    459220\n",
      "   macro avg       0.32      0.36      0.30    459220\n",
      "weighted avg       0.58      0.63      0.58    459220\n",
      "\n",
      "______________________________________________________________________\n",
      "                                VALIDATION                                 \n",
      "----------------------------------------------------------------------\n",
      "              precision    recall  f1-score   support\n",
      "\n",
      "           1       0.42      0.41      0.41      2495\n",
      "           2       0.69      0.93      0.79     58216\n",
      "           3       0.28      0.02      0.03     13781\n",
      "           4       0.55      0.45      0.49     29701\n",
      "           5       0.48      0.38      0.42      9656\n",
      "           6       0.08      0.13      0.10       842\n",
      "           7       0.00      0.00      0.00        20\n",
      "           8       0.08      0.50      0.13        94\n",
      "\n",
      "    accuracy                           0.63    114805\n",
      "   macro avg       0.32      0.35      0.30    114805\n",
      "weighted avg       0.58      0.63      0.58    114805\n",
      "\n"
     ]
    }
   ],
   "source": [
    "# Evaluate the performance of the Linear Discriminant Analysis (LDA) model using the custom metrics function for both training and validation predictions\n",
    "m.metrics(y_train, train_pred_lda, y_val, val_pred_lda)"
   ]
  },
  {
   "cell_type": "markdown",
   "id": "25781b51",
   "metadata": {},
   "source": [
    "**Quadratic Discriminant Analysis**"
   ]
  },
  {
   "cell_type": "code",
   "execution_count": null,
   "id": "aabd854a",
   "metadata": {
    "ExecuteTime": {
     "end_time": "2024-11-07T13:43:49.613867Z",
     "start_time": "2024-11-07T13:43:49.082684Z"
    }
   },
   "outputs": [
    {
     "data": {
      "text/html": [
       "<style>#sk-container-id-2 {color: black;background-color: white;}#sk-container-id-2 pre{padding: 0;}#sk-container-id-2 div.sk-toggleable {background-color: white;}#sk-container-id-2 label.sk-toggleable__label {cursor: pointer;display: block;width: 100%;margin-bottom: 0;padding: 0.3em;box-sizing: border-box;text-align: center;}#sk-container-id-2 label.sk-toggleable__label-arrow:before {content: \"▸\";float: left;margin-right: 0.25em;color: #696969;}#sk-container-id-2 label.sk-toggleable__label-arrow:hover:before {color: black;}#sk-container-id-2 div.sk-estimator:hover label.sk-toggleable__label-arrow:before {color: black;}#sk-container-id-2 div.sk-toggleable__content {max-height: 0;max-width: 0;overflow: hidden;text-align: left;background-color: #f0f8ff;}#sk-container-id-2 div.sk-toggleable__content pre {margin: 0.2em;color: black;border-radius: 0.25em;background-color: #f0f8ff;}#sk-container-id-2 input.sk-toggleable__control:checked~div.sk-toggleable__content {max-height: 200px;max-width: 100%;overflow: auto;}#sk-container-id-2 input.sk-toggleable__control:checked~label.sk-toggleable__label-arrow:before {content: \"▾\";}#sk-container-id-2 div.sk-estimator input.sk-toggleable__control:checked~label.sk-toggleable__label {background-color: #d4ebff;}#sk-container-id-2 div.sk-label input.sk-toggleable__control:checked~label.sk-toggleable__label {background-color: #d4ebff;}#sk-container-id-2 input.sk-hidden--visually {border: 0;clip: rect(1px 1px 1px 1px);clip: rect(1px, 1px, 1px, 1px);height: 1px;margin: -1px;overflow: hidden;padding: 0;position: absolute;width: 1px;}#sk-container-id-2 div.sk-estimator {font-family: monospace;background-color: #f0f8ff;border: 1px dotted black;border-radius: 0.25em;box-sizing: border-box;margin-bottom: 0.5em;}#sk-container-id-2 div.sk-estimator:hover {background-color: #d4ebff;}#sk-container-id-2 div.sk-parallel-item::after {content: \"\";width: 100%;border-bottom: 1px solid gray;flex-grow: 1;}#sk-container-id-2 div.sk-label:hover label.sk-toggleable__label {background-color: #d4ebff;}#sk-container-id-2 div.sk-serial::before {content: \"\";position: absolute;border-left: 1px solid gray;box-sizing: border-box;top: 0;bottom: 0;left: 50%;z-index: 0;}#sk-container-id-2 div.sk-serial {display: flex;flex-direction: column;align-items: center;background-color: white;padding-right: 0.2em;padding-left: 0.2em;position: relative;}#sk-container-id-2 div.sk-item {position: relative;z-index: 1;}#sk-container-id-2 div.sk-parallel {display: flex;align-items: stretch;justify-content: center;background-color: white;position: relative;}#sk-container-id-2 div.sk-item::before, #sk-container-id-2 div.sk-parallel-item::before {content: \"\";position: absolute;border-left: 1px solid gray;box-sizing: border-box;top: 0;bottom: 0;left: 50%;z-index: -1;}#sk-container-id-2 div.sk-parallel-item {display: flex;flex-direction: column;z-index: 1;position: relative;background-color: white;}#sk-container-id-2 div.sk-parallel-item:first-child::after {align-self: flex-end;width: 50%;}#sk-container-id-2 div.sk-parallel-item:last-child::after {align-self: flex-start;width: 50%;}#sk-container-id-2 div.sk-parallel-item:only-child::after {width: 0;}#sk-container-id-2 div.sk-dashed-wrapped {border: 1px dashed gray;margin: 0 0.4em 0.5em 0.4em;box-sizing: border-box;padding-bottom: 0.4em;background-color: white;}#sk-container-id-2 div.sk-label label {font-family: monospace;font-weight: bold;display: inline-block;line-height: 1.2em;}#sk-container-id-2 div.sk-label-container {text-align: center;}#sk-container-id-2 div.sk-container {/* jupyter's `normalize.less` sets `[hidden] { display: none; }` but bootstrap.min.css set `[hidden] { display: none !important; }` so we also need the `!important` here to be able to override the default hidden behavior on the sphinx rendered scikit-learn.org. See: https://github.com/scikit-learn/scikit-learn/issues/21755 */display: inline-block !important;position: relative;}#sk-container-id-2 div.sk-text-repr-fallback {display: none;}</style><div id=\"sk-container-id-2\" class=\"sk-top-container\"><div class=\"sk-text-repr-fallback\"><pre>QuadraticDiscriminantAnalysis()</pre><b>In a Jupyter environment, please rerun this cell to show the HTML representation or trust the notebook. <br />On GitHub, the HTML representation is unable to render, please try loading this page with nbviewer.org.</b></div><div class=\"sk-container\" hidden><div class=\"sk-item\"><div class=\"sk-estimator sk-toggleable\"><input class=\"sk-toggleable__control sk-hidden--visually\" id=\"sk-estimator-id-2\" type=\"checkbox\" checked><label for=\"sk-estimator-id-2\" class=\"sk-toggleable__label sk-toggleable__label-arrow\">QuadraticDiscriminantAnalysis</label><div class=\"sk-toggleable__content\"><pre>QuadraticDiscriminantAnalysis()</pre></div></div></div></div></div>"
      ],
      "text/plain": [
       "QuadraticDiscriminantAnalysis()"
      ]
     },
     "execution_count": 8,
     "metadata": {},
     "output_type": "execute_result"
    }
   ],
   "source": [
    "# Initialize the Quadratic Discriminant Analysis (QDA) model and fit it to the training data\n",
    "qda = QuadraticDiscriminantAnalysis()\n",
    "qda.fit(X_train, y_train)"
   ]
  },
  {
   "cell_type": "code",
   "execution_count": null,
   "id": "102143a5",
   "metadata": {
    "ExecuteTime": {
     "end_time": "2024-11-07T13:43:50.608764Z",
     "start_time": "2024-11-07T13:43:49.617705Z"
    }
   },
   "outputs": [],
   "source": [
    "# Predict the target values for the training dataset using the Quadratic Discriminant Analysis (QDA) model\n",
    "train_pred_qda = qda.predict(X_train)\n",
    "\n",
    "# Predict the target values for the validation dataset using the Quadratic Discriminant Analysis (QDA) model\n",
    "val_pred_qda = qda.predict(X_val)"
   ]
  },
  {
   "cell_type": "code",
   "execution_count": null,
   "id": "2c62d4a0",
   "metadata": {
    "ExecuteTime": {
     "end_time": "2024-11-07T13:43:51.994793Z",
     "start_time": "2024-11-07T13:43:50.612307Z"
    }
   },
   "outputs": [
    {
     "name": "stdout",
     "output_type": "stream",
     "text": [
      "______________________________________________________________________\n",
      "                                TRAIN                                 \n",
      "----------------------------------------------------------------------\n",
      "              precision    recall  f1-score   support\n",
      "\n",
      "           1       0.21      0.61      0.31      9981\n",
      "           2       0.73      0.88      0.80    232862\n",
      "           3       0.23      0.08      0.12     55125\n",
      "           4       0.56      0.05      0.10    118806\n",
      "           5       0.53      0.35      0.42     38624\n",
      "           6       0.04      0.40      0.07      3369\n",
      "           7       0.00      0.92      0.00        77\n",
      "           8       0.02      0.94      0.03       376\n",
      "\n",
      "    accuracy                           0.52    459220\n",
      "   macro avg       0.29      0.53      0.23    459220\n",
      "weighted avg       0.59      0.52      0.49    459220\n",
      "\n",
      "______________________________________________________________________\n",
      "                                VALIDATION                                 \n",
      "----------------------------------------------------------------------\n",
      "              precision    recall  f1-score   support\n",
      "\n",
      "           1       0.21      0.63      0.31      2495\n",
      "           2       0.73      0.88      0.80     58216\n",
      "           3       0.23      0.08      0.12     13781\n",
      "           4       0.56      0.06      0.10     29701\n",
      "           5       0.53      0.35      0.42      9656\n",
      "           6       0.04      0.43      0.07       842\n",
      "           7       0.00      0.70      0.00        20\n",
      "           8       0.02      0.94      0.03        94\n",
      "\n",
      "    accuracy                           0.52    114805\n",
      "   macro avg       0.29      0.51      0.23    114805\n",
      "weighted avg       0.59      0.52      0.49    114805\n",
      "\n"
     ]
    }
   ],
   "source": [
    "# Evaluate the performance of the Quadratic Discriminant Analysis (QDA) model using the custom metrics function for both training and validation predictions\n",
    "m.metrics(y_train, train_pred_qda, y_val, val_pred_qda)"
   ]
  },
  {
   "cell_type": "markdown",
   "id": "6e9c7ba9",
   "metadata": {},
   "source": [
    "**XGB Classifier**"
   ]
  },
  {
   "cell_type": "code",
   "execution_count": 13,
   "id": "0ccabe0d",
   "metadata": {
    "ExecuteTime": {
     "end_time": "2024-11-07T13:44:32.359483Z",
     "start_time": "2024-11-07T13:44:32.357110Z"
    }
   },
   "outputs": [],
   "source": [
    "# xgb = XGBClassifier()\n",
    "# xgb.fit(X_train, y_train)"
   ]
  },
  {
   "cell_type": "code",
   "execution_count": null,
   "id": "633d54ef",
   "metadata": {
    "ExecuteTime": {
     "end_time": "2024-11-07T13:44:11.287636Z",
     "start_time": "2024-11-07T13:44:11.287619Z"
    }
   },
   "outputs": [],
   "source": [
    "# train_pred_xgb = xgb.predict(X_train)\n",
    "# val_pred_xgb = xgb.predict(X_val)"
   ]
  },
  {
   "cell_type": "code",
   "execution_count": null,
   "id": "2bc62e36",
   "metadata": {
    "ExecuteTime": {
     "end_time": "2024-11-07T13:44:11.289849Z",
     "start_time": "2024-11-07T13:44:11.289827Z"
    }
   },
   "outputs": [],
   "source": [
    "# m.metrics(y_train, train_pred_xgb , y_val, val_pred_xgb)"
   ]
  },
  {
   "cell_type": "markdown",
   "id": "c312a219",
   "metadata": {},
   "source": [
    "**LGBM Classifier**"
   ]
  },
  {
   "cell_type": "code",
   "execution_count": null,
   "id": "890fe0ce",
   "metadata": {},
   "outputs": [],
   "source": [
    "## kills the kernel"
   ]
  },
  {
   "cell_type": "code",
   "execution_count": null,
   "id": "ab7f35e4",
   "metadata": {
    "ExecuteTime": {
     "start_time": "2024-11-07T13:47:50.641Z"
    }
   },
   "outputs": [],
   "source": [
    "# lgbm = LGBMClassifier()\n",
    "# lgbm.fit(X_train, y_train)"
   ]
  },
  {
   "cell_type": "code",
   "execution_count": null,
   "id": "d6a9c8f5",
   "metadata": {
    "ExecuteTime": {
     "start_time": "2024-11-07T13:47:50.916Z"
    }
   },
   "outputs": [],
   "source": [
    "# train_pred_lgbm = lgbm.predict(X_train)\n",
    "# val_pred_lgbm = lgbm.predict(X_val)"
   ]
  },
  {
   "cell_type": "code",
   "execution_count": null,
   "id": "4627c8ca",
   "metadata": {
    "ExecuteTime": {
     "start_time": "2024-11-07T13:47:51.204Z"
    }
   },
   "outputs": [],
   "source": [
    "# m.metrics(y_train, train_pred_lgbm , y_val, val_pred_lgbm)"
   ]
  },
  {
   "cell_type": "markdown",
   "id": "fc0ff139",
   "metadata": {},
   "source": [
    "## 2.1 Hyperparameter Tuning\n",
    "\n",
    "<a href=\"#top\">Top &#129033;</a>"
   ]
  },
  {
   "cell_type": "code",
   "execution_count": null,
   "id": "b6fa7503",
   "metadata": {},
   "outputs": [],
   "source": [
    "param_dist = {\n",
    "    'n_estimators': np.arange(50, 501, 50),          \n",
    "    'max_depth': [None] + list(np.arange(10, 111, 10)),  \n",
    "    'min_samples_split': [2, 5, 10, 20],             \n",
    "    'min_samples_leaf': [1, 2, 4, 10],              \n",
    "    'max_features': ['sqrt', 'log2', None],        \n",
    "    'bootstrap': [True, False]                      \n",
    "}\n",
    "\n",
    "\n",
    "### estrutura:\n",
    "# {'nome_do_parametro'; valores_para_o_parametro}"
   ]
  },
  {
   "cell_type": "code",
   "execution_count": null,
   "id": "1c7d7918",
   "metadata": {},
   "outputs": [],
   "source": [
    "model = # modelo que querem usar\n",
    "\n",
    "random_search = RandomizedSearchCV(\n",
    "    estimator= model,\n",
    "    param_distributions=param_dist,\n",
    "    n_iter=100,               # (quanto maior mais tempo demora)\n",
    "    scoring='f1_macro',       \n",
    "    cv=5,                     # número de folds\n",
    "    verbose=2,\n",
    "    random_state=42\n",
    ")"
   ]
  },
  {
   "cell_type": "code",
   "execution_count": null,
   "id": "a2b5ddc1",
   "metadata": {},
   "outputs": [],
   "source": [
    "random_search.fit(X_train, y_train)"
   ]
  },
  {
   "cell_type": "code",
   "execution_count": null,
   "id": "22855640",
   "metadata": {},
   "outputs": [],
   "source": [
    "print(\"Best parameters found: \", random_search.best_params_)"
   ]
  },
  {
   "cell_type": "code",
   "execution_count": null,
   "id": "884d00ef",
   "metadata": {},
   "outputs": [],
   "source": [
    "train_pred_randoms = random_search.predict(X_train)\n",
    "val_pred_randoms = random_search.predict(X_val)"
   ]
  },
  {
   "cell_type": "code",
   "execution_count": null,
   "id": "e74760f4",
   "metadata": {},
   "outputs": [],
   "source": [
    "m.metrics(y_train, train_pred_randoms , y_val, val_pred_randoms)"
   ]
  },
  {
   "cell_type": "markdown",
   "id": "67eeb05f",
   "metadata": {},
   "source": [
    "## 2.2 Combining Models\n",
    "\n",
    "<a href=\"#top\">Top &#129033;</a>"
   ]
  },
  {
   "cell_type": "code",
   "execution_count": 20,
   "id": "8926f755",
   "metadata": {
    "ExecuteTime": {
     "end_time": "2024-11-08T18:49:58.673964Z",
     "start_time": "2024-11-08T18:49:58.669365Z"
    }
   },
   "outputs": [],
   "source": [
    "# Initialize a CalibratedClassifierCV with SGDClassifier\n",
    "calibrated_sgd = CalibratedClassifierCV(SGDClassifier())\n",
    "\n",
    "# Define a list of estimators for the ensemble model \n",
    "estimators = [\n",
    "    ('sgd', calibrated_sgd),  # SGDClassifier with probability calibration\n",
    "    ('rf', RandomForestClassifier()),  \n",
    "    ('dt', DecisionTreeClassifier()),  \n",
    "    ('gb', GradientBoostingClassifier()),  \n",
    "    ('ab', AdaBoostClassifier()),  \n",
    "]"
   ]
  },
  {
   "cell_type": "markdown",
   "id": "c510b5ff",
   "metadata": {},
   "source": [
    "**Voting Classifier**"
   ]
  },
  {
   "cell_type": "code",
   "execution_count": 21,
   "id": "a2d6bbc7",
   "metadata": {
    "ExecuteTime": {
     "end_time": "2024-11-08T18:49:59.456320Z",
     "start_time": "2024-11-08T18:49:59.453062Z"
    }
   },
   "outputs": [],
   "source": [
    "# Initialize a VotingClassifier with a list of base estimators and 'soft' voting (weighted average of predicted probabilities)\n",
    "voting_clf = VotingClassifier(estimators=estimators, voting='soft')"
   ]
  },
  {
   "cell_type": "code",
   "execution_count": 22,
   "id": "19c0cf5a",
   "metadata": {
    "ExecuteTime": {
     "end_time": "2024-11-08T19:25:06.874909Z",
     "start_time": "2024-11-08T18:49:59.926418Z"
    }
   },
   "outputs": [
    {
     "data": {
      "text/html": [
       "<style>#sk-container-id-3 {color: black;background-color: white;}#sk-container-id-3 pre{padding: 0;}#sk-container-id-3 div.sk-toggleable {background-color: white;}#sk-container-id-3 label.sk-toggleable__label {cursor: pointer;display: block;width: 100%;margin-bottom: 0;padding: 0.3em;box-sizing: border-box;text-align: center;}#sk-container-id-3 label.sk-toggleable__label-arrow:before {content: \"▸\";float: left;margin-right: 0.25em;color: #696969;}#sk-container-id-3 label.sk-toggleable__label-arrow:hover:before {color: black;}#sk-container-id-3 div.sk-estimator:hover label.sk-toggleable__label-arrow:before {color: black;}#sk-container-id-3 div.sk-toggleable__content {max-height: 0;max-width: 0;overflow: hidden;text-align: left;background-color: #f0f8ff;}#sk-container-id-3 div.sk-toggleable__content pre {margin: 0.2em;color: black;border-radius: 0.25em;background-color: #f0f8ff;}#sk-container-id-3 input.sk-toggleable__control:checked~div.sk-toggleable__content {max-height: 200px;max-width: 100%;overflow: auto;}#sk-container-id-3 input.sk-toggleable__control:checked~label.sk-toggleable__label-arrow:before {content: \"▾\";}#sk-container-id-3 div.sk-estimator input.sk-toggleable__control:checked~label.sk-toggleable__label {background-color: #d4ebff;}#sk-container-id-3 div.sk-label input.sk-toggleable__control:checked~label.sk-toggleable__label {background-color: #d4ebff;}#sk-container-id-3 input.sk-hidden--visually {border: 0;clip: rect(1px 1px 1px 1px);clip: rect(1px, 1px, 1px, 1px);height: 1px;margin: -1px;overflow: hidden;padding: 0;position: absolute;width: 1px;}#sk-container-id-3 div.sk-estimator {font-family: monospace;background-color: #f0f8ff;border: 1px dotted black;border-radius: 0.25em;box-sizing: border-box;margin-bottom: 0.5em;}#sk-container-id-3 div.sk-estimator:hover {background-color: #d4ebff;}#sk-container-id-3 div.sk-parallel-item::after {content: \"\";width: 100%;border-bottom: 1px solid gray;flex-grow: 1;}#sk-container-id-3 div.sk-label:hover label.sk-toggleable__label {background-color: #d4ebff;}#sk-container-id-3 div.sk-serial::before {content: \"\";position: absolute;border-left: 1px solid gray;box-sizing: border-box;top: 0;bottom: 0;left: 50%;z-index: 0;}#sk-container-id-3 div.sk-serial {display: flex;flex-direction: column;align-items: center;background-color: white;padding-right: 0.2em;padding-left: 0.2em;position: relative;}#sk-container-id-3 div.sk-item {position: relative;z-index: 1;}#sk-container-id-3 div.sk-parallel {display: flex;align-items: stretch;justify-content: center;background-color: white;position: relative;}#sk-container-id-3 div.sk-item::before, #sk-container-id-3 div.sk-parallel-item::before {content: \"\";position: absolute;border-left: 1px solid gray;box-sizing: border-box;top: 0;bottom: 0;left: 50%;z-index: -1;}#sk-container-id-3 div.sk-parallel-item {display: flex;flex-direction: column;z-index: 1;position: relative;background-color: white;}#sk-container-id-3 div.sk-parallel-item:first-child::after {align-self: flex-end;width: 50%;}#sk-container-id-3 div.sk-parallel-item:last-child::after {align-self: flex-start;width: 50%;}#sk-container-id-3 div.sk-parallel-item:only-child::after {width: 0;}#sk-container-id-3 div.sk-dashed-wrapped {border: 1px dashed gray;margin: 0 0.4em 0.5em 0.4em;box-sizing: border-box;padding-bottom: 0.4em;background-color: white;}#sk-container-id-3 div.sk-label label {font-family: monospace;font-weight: bold;display: inline-block;line-height: 1.2em;}#sk-container-id-3 div.sk-label-container {text-align: center;}#sk-container-id-3 div.sk-container {/* jupyter's `normalize.less` sets `[hidden] { display: none; }` but bootstrap.min.css set `[hidden] { display: none !important; }` so we also need the `!important` here to be able to override the default hidden behavior on the sphinx rendered scikit-learn.org. See: https://github.com/scikit-learn/scikit-learn/issues/21755 */display: inline-block !important;position: relative;}#sk-container-id-3 div.sk-text-repr-fallback {display: none;}</style><div id=\"sk-container-id-3\" class=\"sk-top-container\"><div class=\"sk-text-repr-fallback\"><pre>VotingClassifier(estimators=[(&#x27;sgd&#x27;,\n",
       "                              CalibratedClassifierCV(estimator=SGDClassifier())),\n",
       "                             (&#x27;rf&#x27;, RandomForestClassifier()),\n",
       "                             (&#x27;dt&#x27;, DecisionTreeClassifier()),\n",
       "                             (&#x27;gb&#x27;, GradientBoostingClassifier()),\n",
       "                             (&#x27;ab&#x27;, AdaBoostClassifier())],\n",
       "                 voting=&#x27;soft&#x27;)</pre><b>In a Jupyter environment, please rerun this cell to show the HTML representation or trust the notebook. <br />On GitHub, the HTML representation is unable to render, please try loading this page with nbviewer.org.</b></div><div class=\"sk-container\" hidden><div class=\"sk-item sk-dashed-wrapped\"><div class=\"sk-label-container\"><div class=\"sk-label sk-toggleable\"><input class=\"sk-toggleable__control sk-hidden--visually\" id=\"sk-estimator-id-3\" type=\"checkbox\" ><label for=\"sk-estimator-id-3\" class=\"sk-toggleable__label sk-toggleable__label-arrow\">VotingClassifier</label><div class=\"sk-toggleable__content\"><pre>VotingClassifier(estimators=[(&#x27;sgd&#x27;,\n",
       "                              CalibratedClassifierCV(estimator=SGDClassifier())),\n",
       "                             (&#x27;rf&#x27;, RandomForestClassifier()),\n",
       "                             (&#x27;dt&#x27;, DecisionTreeClassifier()),\n",
       "                             (&#x27;gb&#x27;, GradientBoostingClassifier()),\n",
       "                             (&#x27;ab&#x27;, AdaBoostClassifier())],\n",
       "                 voting=&#x27;soft&#x27;)</pre></div></div></div><div class=\"sk-parallel\"><div class=\"sk-parallel-item\"><div class=\"sk-item\"><div class=\"sk-label-container\"><div class=\"sk-label sk-toggleable\"><label>sgd</label></div></div><div class=\"sk-serial\"><div class=\"sk-item sk-dashed-wrapped\"><div class=\"sk-parallel\"><div class=\"sk-parallel-item\"><div class=\"sk-item\"><div class=\"sk-label-container\"><div class=\"sk-label sk-toggleable\"><input class=\"sk-toggleable__control sk-hidden--visually\" id=\"sk-estimator-id-4\" type=\"checkbox\" ><label for=\"sk-estimator-id-4\" class=\"sk-toggleable__label sk-toggleable__label-arrow\">estimator: SGDClassifier</label><div class=\"sk-toggleable__content\"><pre>SGDClassifier()</pre></div></div></div><div class=\"sk-serial\"><div class=\"sk-item\"><div class=\"sk-estimator sk-toggleable\"><input class=\"sk-toggleable__control sk-hidden--visually\" id=\"sk-estimator-id-5\" type=\"checkbox\" ><label for=\"sk-estimator-id-5\" class=\"sk-toggleable__label sk-toggleable__label-arrow\">SGDClassifier</label><div class=\"sk-toggleable__content\"><pre>SGDClassifier()</pre></div></div></div></div></div></div></div></div></div></div></div><div class=\"sk-parallel-item\"><div class=\"sk-item\"><div class=\"sk-label-container\"><div class=\"sk-label sk-toggleable\"><label>rf</label></div></div><div class=\"sk-serial\"><div class=\"sk-item\"><div class=\"sk-estimator sk-toggleable\"><input class=\"sk-toggleable__control sk-hidden--visually\" id=\"sk-estimator-id-6\" type=\"checkbox\" ><label for=\"sk-estimator-id-6\" class=\"sk-toggleable__label sk-toggleable__label-arrow\">RandomForestClassifier</label><div class=\"sk-toggleable__content\"><pre>RandomForestClassifier()</pre></div></div></div></div></div></div><div class=\"sk-parallel-item\"><div class=\"sk-item\"><div class=\"sk-label-container\"><div class=\"sk-label sk-toggleable\"><label>dt</label></div></div><div class=\"sk-serial\"><div class=\"sk-item\"><div class=\"sk-estimator sk-toggleable\"><input class=\"sk-toggleable__control sk-hidden--visually\" id=\"sk-estimator-id-7\" type=\"checkbox\" ><label for=\"sk-estimator-id-7\" class=\"sk-toggleable__label sk-toggleable__label-arrow\">DecisionTreeClassifier</label><div class=\"sk-toggleable__content\"><pre>DecisionTreeClassifier()</pre></div></div></div></div></div></div><div class=\"sk-parallel-item\"><div class=\"sk-item\"><div class=\"sk-label-container\"><div class=\"sk-label sk-toggleable\"><label>gb</label></div></div><div class=\"sk-serial\"><div class=\"sk-item\"><div class=\"sk-estimator sk-toggleable\"><input class=\"sk-toggleable__control sk-hidden--visually\" id=\"sk-estimator-id-8\" type=\"checkbox\" ><label for=\"sk-estimator-id-8\" class=\"sk-toggleable__label sk-toggleable__label-arrow\">GradientBoostingClassifier</label><div class=\"sk-toggleable__content\"><pre>GradientBoostingClassifier()</pre></div></div></div></div></div></div><div class=\"sk-parallel-item\"><div class=\"sk-item\"><div class=\"sk-label-container\"><div class=\"sk-label sk-toggleable\"><label>ab</label></div></div><div class=\"sk-serial\"><div class=\"sk-item\"><div class=\"sk-estimator sk-toggleable\"><input class=\"sk-toggleable__control sk-hidden--visually\" id=\"sk-estimator-id-9\" type=\"checkbox\" ><label for=\"sk-estimator-id-9\" class=\"sk-toggleable__label sk-toggleable__label-arrow\">AdaBoostClassifier</label><div class=\"sk-toggleable__content\"><pre>AdaBoostClassifier()</pre></div></div></div></div></div></div></div></div></div></div>"
      ],
      "text/plain": [
       "VotingClassifier(estimators=[('sgd',\n",
       "                              CalibratedClassifierCV(estimator=SGDClassifier())),\n",
       "                             ('rf', RandomForestClassifier()),\n",
       "                             ('dt', DecisionTreeClassifier()),\n",
       "                             ('gb', GradientBoostingClassifier()),\n",
       "                             ('ab', AdaBoostClassifier())],\n",
       "                 voting='soft')"
      ]
     },
     "execution_count": 22,
     "metadata": {},
     "output_type": "execute_result"
    }
   ],
   "source": [
    "# Train the VotingClassifier on the training data (X_train and y_train)\n",
    "voting_clf.fit(X_train, y_train)\n",
    "\n",
    "# ~40 min to run"
   ]
  },
  {
   "cell_type": "code",
   "execution_count": 23,
   "id": "4c61a97e",
   "metadata": {
    "ExecuteTime": {
     "end_time": "2024-11-08T19:25:45.472487Z",
     "start_time": "2024-11-08T19:25:06.881460Z"
    }
   },
   "outputs": [],
   "source": [
    "# Make predictions on the training and validation sets using the trained VotingClassifier\n",
    "train_pred_voting = voting_clf.predict(X_train)  # Predictions for the training set\n",
    "val_pred_voting = voting_clf.predict(X_val)  # Predictions for the validation set"
   ]
  },
  {
   "cell_type": "code",
   "execution_count": 24,
   "id": "f3913e42",
   "metadata": {
    "ExecuteTime": {
     "end_time": "2024-11-08T19:25:46.644822Z",
     "start_time": "2024-11-08T19:25:45.474391Z"
    },
    "scrolled": true
   },
   "outputs": [
    {
     "name": "stdout",
     "output_type": "stream",
     "text": [
      "______________________________________________________________________\n",
      "                                TRAIN                                 \n",
      "----------------------------------------------------------------------\n",
      "              precision    recall  f1-score   support\n",
      "\n",
      "           1       1.00      0.88      0.94      8559\n",
      "           2       0.99      1.00      1.00    229184\n",
      "           3       1.00      0.98      0.99     54456\n",
      "           4       1.00      1.00      1.00    117955\n",
      "           5       1.00      1.00      1.00     38551\n",
      "           6       1.00      1.00      1.00      3357\n",
      "           7       1.00      1.00      1.00        78\n",
      "           8       1.00      0.99      1.00       362\n",
      "\n",
      "    accuracy                           1.00    452502\n",
      "   macro avg       1.00      0.98      0.99    452502\n",
      "weighted avg       1.00      1.00      0.99    452502\n",
      "\n",
      "______________________________________________________________________\n",
      "                                VALIDATION                                 \n",
      "----------------------------------------------------------------------\n",
      "              precision    recall  f1-score   support\n",
      "\n",
      "           1       0.67      0.37      0.48      2140\n",
      "           2       0.85      0.96      0.90     57296\n",
      "           3       0.35      0.12      0.18     13614\n",
      "           4       0.70      0.81      0.75     29489\n",
      "           5       0.62      0.54      0.58      9638\n",
      "           6       0.07      0.01      0.01       840\n",
      "           7       0.00      0.00      0.00        19\n",
      "           8       0.43      0.13      0.20        90\n",
      "\n",
      "    accuracy                           0.76    113126\n",
      "   macro avg       0.46      0.37      0.39    113126\n",
      "weighted avg       0.72      0.76      0.73    113126\n",
      "\n"
     ]
    }
   ],
   "source": [
    "# Evaluate the performance of the VotingClassifier on both the training and validation sets using the custom metrics function\n",
    "m.metrics(y_train, train_pred_voting, y_val, val_pred_voting)"
   ]
  },
  {
   "cell_type": "code",
   "execution_count": 25,
   "id": "bfbabf29",
   "metadata": {
    "ExecuteTime": {
     "end_time": "2024-11-08T19:25:59.428261Z",
     "start_time": "2024-11-08T19:25:46.647258Z"
    }
   },
   "outputs": [
    {
     "name": "stderr",
     "output_type": "stream",
     "text": [
      "Input #0, wav, from '/var/folders/mm/fxsq_1490x9dd2w76tqvt3kr0000gn/T/tmp0q2ytu3n.wav':\n",
      "  Duration: 00:00:10.00, bitrate: 1536 kb/s\n",
      "  Stream #0:0: Audio: pcm_s16le ([1][0][0][0] / 0x0001), 48000 Hz, 2 channels, s16, 1536 kb/s\n",
      "   9.96 M-A:  0.000 fd=   0 aq=    0KB vq=    0KB sq=    0B \r"
     ]
    },
    {
     "name": "stdout",
     "output_type": "stream",
     "text": [
      "\n"
     ]
    }
   ],
   "source": [
    "import play_song as song\n",
    "song.play_('audio.mp3')"
   ]
  },
  {
   "cell_type": "markdown",
   "id": "23559958",
   "metadata": {},
   "source": [
    "**Stacking Classifier**"
   ]
  },
  {
   "cell_type": "code",
   "execution_count": null,
   "id": "586b0d20",
   "metadata": {
    "ExecuteTime": {
     "end_time": "2024-11-07T14:54:30.603968Z",
     "start_time": "2024-11-07T14:54:30.600513Z"
    }
   },
   "outputs": [],
   "source": [
    "# Initialize a StackingClassifier with a list of base estimators and a LogisticRegression as the meta-model (final estimator)\n",
    "stacking_clf = StackingClassifier(\n",
    "    estimators=estimators,  # List of base models\n",
    "    final_estimator=LogisticRegression()  # Logistic Regression as the meta-model to combine base model predictions\n",
    ")"
   ]
  },
  {
   "cell_type": "code",
   "execution_count": null,
   "id": "3c5bd197",
   "metadata": {
    "ExecuteTime": {
     "end_time": "2024-11-07T18:05:49.354448Z",
     "start_time": "2024-11-07T14:54:33.068328Z"
    }
   },
   "outputs": [
    {
     "data": {
      "text/html": [
       "<style>#sk-container-id-2 {color: black;background-color: white;}#sk-container-id-2 pre{padding: 0;}#sk-container-id-2 div.sk-toggleable {background-color: white;}#sk-container-id-2 label.sk-toggleable__label {cursor: pointer;display: block;width: 100%;margin-bottom: 0;padding: 0.3em;box-sizing: border-box;text-align: center;}#sk-container-id-2 label.sk-toggleable__label-arrow:before {content: \"▸\";float: left;margin-right: 0.25em;color: #696969;}#sk-container-id-2 label.sk-toggleable__label-arrow:hover:before {color: black;}#sk-container-id-2 div.sk-estimator:hover label.sk-toggleable__label-arrow:before {color: black;}#sk-container-id-2 div.sk-toggleable__content {max-height: 0;max-width: 0;overflow: hidden;text-align: left;background-color: #f0f8ff;}#sk-container-id-2 div.sk-toggleable__content pre {margin: 0.2em;color: black;border-radius: 0.25em;background-color: #f0f8ff;}#sk-container-id-2 input.sk-toggleable__control:checked~div.sk-toggleable__content {max-height: 200px;max-width: 100%;overflow: auto;}#sk-container-id-2 input.sk-toggleable__control:checked~label.sk-toggleable__label-arrow:before {content: \"▾\";}#sk-container-id-2 div.sk-estimator input.sk-toggleable__control:checked~label.sk-toggleable__label {background-color: #d4ebff;}#sk-container-id-2 div.sk-label input.sk-toggleable__control:checked~label.sk-toggleable__label {background-color: #d4ebff;}#sk-container-id-2 input.sk-hidden--visually {border: 0;clip: rect(1px 1px 1px 1px);clip: rect(1px, 1px, 1px, 1px);height: 1px;margin: -1px;overflow: hidden;padding: 0;position: absolute;width: 1px;}#sk-container-id-2 div.sk-estimator {font-family: monospace;background-color: #f0f8ff;border: 1px dotted black;border-radius: 0.25em;box-sizing: border-box;margin-bottom: 0.5em;}#sk-container-id-2 div.sk-estimator:hover {background-color: #d4ebff;}#sk-container-id-2 div.sk-parallel-item::after {content: \"\";width: 100%;border-bottom: 1px solid gray;flex-grow: 1;}#sk-container-id-2 div.sk-label:hover label.sk-toggleable__label {background-color: #d4ebff;}#sk-container-id-2 div.sk-serial::before {content: \"\";position: absolute;border-left: 1px solid gray;box-sizing: border-box;top: 0;bottom: 0;left: 50%;z-index: 0;}#sk-container-id-2 div.sk-serial {display: flex;flex-direction: column;align-items: center;background-color: white;padding-right: 0.2em;padding-left: 0.2em;position: relative;}#sk-container-id-2 div.sk-item {position: relative;z-index: 1;}#sk-container-id-2 div.sk-parallel {display: flex;align-items: stretch;justify-content: center;background-color: white;position: relative;}#sk-container-id-2 div.sk-item::before, #sk-container-id-2 div.sk-parallel-item::before {content: \"\";position: absolute;border-left: 1px solid gray;box-sizing: border-box;top: 0;bottom: 0;left: 50%;z-index: -1;}#sk-container-id-2 div.sk-parallel-item {display: flex;flex-direction: column;z-index: 1;position: relative;background-color: white;}#sk-container-id-2 div.sk-parallel-item:first-child::after {align-self: flex-end;width: 50%;}#sk-container-id-2 div.sk-parallel-item:last-child::after {align-self: flex-start;width: 50%;}#sk-container-id-2 div.sk-parallel-item:only-child::after {width: 0;}#sk-container-id-2 div.sk-dashed-wrapped {border: 1px dashed gray;margin: 0 0.4em 0.5em 0.4em;box-sizing: border-box;padding-bottom: 0.4em;background-color: white;}#sk-container-id-2 div.sk-label label {font-family: monospace;font-weight: bold;display: inline-block;line-height: 1.2em;}#sk-container-id-2 div.sk-label-container {text-align: center;}#sk-container-id-2 div.sk-container {/* jupyter's `normalize.less` sets `[hidden] { display: none; }` but bootstrap.min.css set `[hidden] { display: none !important; }` so we also need the `!important` here to be able to override the default hidden behavior on the sphinx rendered scikit-learn.org. See: https://github.com/scikit-learn/scikit-learn/issues/21755 */display: inline-block !important;position: relative;}#sk-container-id-2 div.sk-text-repr-fallback {display: none;}</style><div id=\"sk-container-id-2\" class=\"sk-top-container\"><div class=\"sk-text-repr-fallback\"><pre>StackingClassifier(estimators=[(&#x27;sgd&#x27;,\n",
       "                                CalibratedClassifierCV(estimator=SGDClassifier())),\n",
       "                               (&#x27;rf&#x27;, RandomForestClassifier()),\n",
       "                               (&#x27;dt&#x27;, DecisionTreeClassifier()),\n",
       "                               (&#x27;gb&#x27;, GradientBoostingClassifier()),\n",
       "                               (&#x27;ab&#x27;, AdaBoostClassifier())],\n",
       "                   final_estimator=LogisticRegression())</pre><b>In a Jupyter environment, please rerun this cell to show the HTML representation or trust the notebook. <br />On GitHub, the HTML representation is unable to render, please try loading this page with nbviewer.org.</b></div><div class=\"sk-container\" hidden><div class=\"sk-item sk-dashed-wrapped\"><div class=\"sk-label-container\"><div class=\"sk-label sk-toggleable\"><input class=\"sk-toggleable__control sk-hidden--visually\" id=\"sk-estimator-id-8\" type=\"checkbox\" ><label for=\"sk-estimator-id-8\" class=\"sk-toggleable__label sk-toggleable__label-arrow\">StackingClassifier</label><div class=\"sk-toggleable__content\"><pre>StackingClassifier(estimators=[(&#x27;sgd&#x27;,\n",
       "                                CalibratedClassifierCV(estimator=SGDClassifier())),\n",
       "                               (&#x27;rf&#x27;, RandomForestClassifier()),\n",
       "                               (&#x27;dt&#x27;, DecisionTreeClassifier()),\n",
       "                               (&#x27;gb&#x27;, GradientBoostingClassifier()),\n",
       "                               (&#x27;ab&#x27;, AdaBoostClassifier())],\n",
       "                   final_estimator=LogisticRegression())</pre></div></div></div><div class=\"sk-serial\"><div class=\"sk-item\"><div class=\"sk-parallel\"><div class=\"sk-parallel-item\"><div class=\"sk-item\"><div class=\"sk-label-container\"><div class=\"sk-label sk-toggleable\"><label>sgd</label></div></div><div class=\"sk-serial\"><div class=\"sk-item sk-dashed-wrapped\"><div class=\"sk-parallel\"><div class=\"sk-parallel-item\"><div class=\"sk-item\"><div class=\"sk-label-container\"><div class=\"sk-label sk-toggleable\"><input class=\"sk-toggleable__control sk-hidden--visually\" id=\"sk-estimator-id-9\" type=\"checkbox\" ><label for=\"sk-estimator-id-9\" class=\"sk-toggleable__label sk-toggleable__label-arrow\">estimator: SGDClassifier</label><div class=\"sk-toggleable__content\"><pre>SGDClassifier()</pre></div></div></div><div class=\"sk-serial\"><div class=\"sk-item\"><div class=\"sk-estimator sk-toggleable\"><input class=\"sk-toggleable__control sk-hidden--visually\" id=\"sk-estimator-id-10\" type=\"checkbox\" ><label for=\"sk-estimator-id-10\" class=\"sk-toggleable__label sk-toggleable__label-arrow\">SGDClassifier</label><div class=\"sk-toggleable__content\"><pre>SGDClassifier()</pre></div></div></div></div></div></div></div></div></div></div></div><div class=\"sk-parallel-item\"><div class=\"sk-item\"><div class=\"sk-label-container\"><div class=\"sk-label sk-toggleable\"><label>rf</label></div></div><div class=\"sk-serial\"><div class=\"sk-item\"><div class=\"sk-estimator sk-toggleable\"><input class=\"sk-toggleable__control sk-hidden--visually\" id=\"sk-estimator-id-11\" type=\"checkbox\" ><label for=\"sk-estimator-id-11\" class=\"sk-toggleable__label sk-toggleable__label-arrow\">RandomForestClassifier</label><div class=\"sk-toggleable__content\"><pre>RandomForestClassifier()</pre></div></div></div></div></div></div><div class=\"sk-parallel-item\"><div class=\"sk-item\"><div class=\"sk-label-container\"><div class=\"sk-label sk-toggleable\"><label>dt</label></div></div><div class=\"sk-serial\"><div class=\"sk-item\"><div class=\"sk-estimator sk-toggleable\"><input class=\"sk-toggleable__control sk-hidden--visually\" id=\"sk-estimator-id-12\" type=\"checkbox\" ><label for=\"sk-estimator-id-12\" class=\"sk-toggleable__label sk-toggleable__label-arrow\">DecisionTreeClassifier</label><div class=\"sk-toggleable__content\"><pre>DecisionTreeClassifier()</pre></div></div></div></div></div></div><div class=\"sk-parallel-item\"><div class=\"sk-item\"><div class=\"sk-label-container\"><div class=\"sk-label sk-toggleable\"><label>gb</label></div></div><div class=\"sk-serial\"><div class=\"sk-item\"><div class=\"sk-estimator sk-toggleable\"><input class=\"sk-toggleable__control sk-hidden--visually\" id=\"sk-estimator-id-13\" type=\"checkbox\" ><label for=\"sk-estimator-id-13\" class=\"sk-toggleable__label sk-toggleable__label-arrow\">GradientBoostingClassifier</label><div class=\"sk-toggleable__content\"><pre>GradientBoostingClassifier()</pre></div></div></div></div></div></div><div class=\"sk-parallel-item\"><div class=\"sk-item\"><div class=\"sk-label-container\"><div class=\"sk-label sk-toggleable\"><label>ab</label></div></div><div class=\"sk-serial\"><div class=\"sk-item\"><div class=\"sk-estimator sk-toggleable\"><input class=\"sk-toggleable__control sk-hidden--visually\" id=\"sk-estimator-id-14\" type=\"checkbox\" ><label for=\"sk-estimator-id-14\" class=\"sk-toggleable__label sk-toggleable__label-arrow\">AdaBoostClassifier</label><div class=\"sk-toggleable__content\"><pre>AdaBoostClassifier()</pre></div></div></div></div></div></div></div></div><div class=\"sk-item\"><div class=\"sk-parallel\"><div class=\"sk-parallel-item\"><div class=\"sk-item\"><div class=\"sk-label-container\"><div class=\"sk-label sk-toggleable\"><label>final_estimator</label></div></div><div class=\"sk-serial\"><div class=\"sk-item\"><div class=\"sk-estimator sk-toggleable\"><input class=\"sk-toggleable__control sk-hidden--visually\" id=\"sk-estimator-id-15\" type=\"checkbox\" ><label for=\"sk-estimator-id-15\" class=\"sk-toggleable__label sk-toggleable__label-arrow\">LogisticRegression</label><div class=\"sk-toggleable__content\"><pre>LogisticRegression()</pre></div></div></div></div></div></div></div></div></div></div></div></div>"
      ],
      "text/plain": [
       "StackingClassifier(estimators=[('sgd',\n",
       "                                CalibratedClassifierCV(estimator=SGDClassifier())),\n",
       "                               ('rf', RandomForestClassifier()),\n",
       "                               ('dt', DecisionTreeClassifier()),\n",
       "                               ('gb', GradientBoostingClassifier()),\n",
       "                               ('ab', AdaBoostClassifier())],\n",
       "                   final_estimator=LogisticRegression())"
      ]
     },
     "execution_count": 29,
     "metadata": {},
     "output_type": "execute_result"
    }
   ],
   "source": [
    "# Train the StackingClassifier on the training data (X_train and y_train)\n",
    "stacking_clf.fit(X_train, y_train)\n",
    "\n",
    "# ~3h to run"
   ]
  },
  {
   "cell_type": "code",
   "execution_count": null,
   "id": "205bfc22",
   "metadata": {
    "ExecuteTime": {
     "end_time": "2024-11-07T18:06:27.899513Z",
     "start_time": "2024-11-07T18:05:49.363919Z"
    }
   },
   "outputs": [],
   "source": [
    "# Make predictions on the training and validation sets using the trained StackingClassifier\n",
    "train_pred_stack = stacking_clf.predict(X_train)  # Predictions for the training set\n",
    "val_pred_stack = stacking_clf.predict(X_val)  # Predictions for the validation set"
   ]
  },
  {
   "cell_type": "code",
   "execution_count": null,
   "id": "c1b5cf55",
   "metadata": {
    "ExecuteTime": {
     "end_time": "2024-11-07T18:06:28.807565Z",
     "start_time": "2024-11-07T18:06:27.902552Z"
    }
   },
   "outputs": [
    {
     "name": "stdout",
     "output_type": "stream",
     "text": [
      "______________________________________________________________________\n",
      "                                TRAIN                                 \n",
      "----------------------------------------------------------------------\n",
      "              precision    recall  f1-score   support\n",
      "\n",
      "           1       0.99      0.87      0.93      9981\n",
      "           2       0.97      1.00      0.98    232862\n",
      "           3       0.99      0.89      0.93     55125\n",
      "           4       0.99      1.00      0.99    118806\n",
      "           5       0.99      0.98      0.99     38624\n",
      "           6       0.99      0.99      0.99      3369\n",
      "           7       0.00      0.00      0.00        77\n",
      "           8       0.98      0.99      0.98       376\n",
      "\n",
      "    accuracy                           0.98    459220\n",
      "   macro avg       0.86      0.84      0.85    459220\n",
      "weighted avg       0.98      0.98      0.98    459220\n",
      "\n",
      "______________________________________________________________________\n",
      "                                VALIDATION                                 \n",
      "----------------------------------------------------------------------\n",
      "              precision    recall  f1-score   support\n",
      "\n",
      "           1       0.76      0.47      0.58      2495\n",
      "           2       0.86      0.96      0.90     58216\n",
      "           3       0.46      0.12      0.19     13781\n",
      "           4       0.71      0.87      0.78     29701\n",
      "           5       0.72      0.59      0.64      9656\n",
      "           6       0.18      0.01      0.03       842\n",
      "           7       0.00      0.00      0.00        20\n",
      "           8       0.62      0.19      0.29        94\n",
      "\n",
      "    accuracy                           0.79    114805\n",
      "   macro avg       0.54      0.40      0.43    114805\n",
      "weighted avg       0.75      0.79      0.75    114805\n",
      "\n"
     ]
    }
   ],
   "source": [
    "# Evaluate the model's performance on both the training and validation sets using the custom metrics function\n",
    "m.metrics(y_train, train_pred_stack, y_val, val_pred_stack)"
   ]
  },
  {
   "cell_type": "markdown",
   "id": "f641f1e5",
   "metadata": {},
   "source": [
    "# 3. Final Predictions\n",
    "\n",
    "<a href=\"#top\">Top &#129033;</a>"
   ]
  },
  {
   "cell_type": "code",
   "execution_count": 50,
   "id": "36aa702f",
   "metadata": {
    "ExecuteTime": {
     "end_time": "2024-11-08T19:56:14.228689Z",
     "start_time": "2024-11-08T19:56:14.169643Z"
    }
   },
   "outputs": [],
   "source": [
    "# Select only the columns from the test dataset that are present in the training dataset to ensure feature consistency\n",
    "test = test[X_train.columns]"
   ]
  },
  {
   "cell_type": "code",
   "execution_count": 51,
   "id": "c8c67e0d",
   "metadata": {
    "ExecuteTime": {
     "end_time": "2024-11-08T19:56:23.153131Z",
     "start_time": "2024-11-08T19:56:15.279774Z"
    }
   },
   "outputs": [],
   "source": [
    "# Predict the 'Claim Injury Type' for the test dataset using the trained model and assign the predictions to the corresponding column\n",
    "test['Claim Injury Type'] = rf.predict(test)"
   ]
  },
  {
   "cell_type": "markdown",
   "id": "930d669a",
   "metadata": {},
   "source": [
    "Map Predictions to Original Values"
   ]
  },
  {
   "cell_type": "code",
   "execution_count": 52,
   "id": "29442bbe",
   "metadata": {
    "ExecuteTime": {
     "end_time": "2024-11-08T19:56:23.217518Z",
     "start_time": "2024-11-08T19:56:23.156541Z"
    }
   },
   "outputs": [],
   "source": [
    "label_mapping = {\n",
    "    1: \"1. CANCELLED\",\n",
    "    2: \"2. NON-COMP\",\n",
    "    3: \"3. MED ONLY\",\n",
    "    4: \"4. TEMPORARY\",\n",
    "    5: \"5. PPD SCH LOSS\",\n",
    "    6: \"6. PPD NSL\",\n",
    "    7: \"7. PTD\",\n",
    "    8: \"8. DEATH\"\n",
    "}\n",
    "\n",
    "test['Claim Injury Type'] = test['Claim Injury Type'].replace(label_mapping)"
   ]
  },
  {
   "cell_type": "markdown",
   "id": "d91011d4",
   "metadata": {},
   "source": [
    "Check each category inside the target"
   ]
  },
  {
   "cell_type": "code",
   "execution_count": 53,
   "id": "8b314cbe",
   "metadata": {
    "ExecuteTime": {
     "end_time": "2024-11-08T19:56:23.276524Z",
     "start_time": "2024-11-08T19:56:23.220730Z"
    }
   },
   "outputs": [
    {
     "data": {
      "text/plain": [
       "Claim Injury Type\n",
       "2. NON-COMP        300797\n",
       "4. TEMPORARY        82581\n",
       "3. MED ONLY          3163\n",
       "1. CANCELLED         1433\n",
       "5. PPD SCH LOSS         1\n",
       "Name: count, dtype: int64"
      ]
     },
     "execution_count": 53,
     "metadata": {},
     "output_type": "execute_result"
    }
   ],
   "source": [
    "test['Claim Injury Type'].value_counts() "
   ]
  },
  {
   "cell_type": "markdown",
   "id": "ea057cf1",
   "metadata": {},
   "source": [
    "# 4. Export\n",
    "\n",
    "<a href=\"#top\">Top &#129033;</a>"
   ]
  },
  {
   "cell_type": "markdown",
   "id": "4c2b7c03",
   "metadata": {},
   "source": [
    "**Select Columns for predictions**"
   ]
  },
  {
   "cell_type": "code",
   "execution_count": 54,
   "id": "4e8fce8c",
   "metadata": {
    "ExecuteTime": {
     "end_time": "2024-11-08T19:56:23.296679Z",
     "start_time": "2024-11-08T19:56:23.281395Z"
    }
   },
   "outputs": [],
   "source": [
    "# Extract the target variable 'Claim Injury Type' from the test dataset for prediction\n",
    "predictions = test['Claim Injury Type']"
   ]
  },
  {
   "cell_type": "markdown",
   "id": "97abf927",
   "metadata": {},
   "source": [
    "**Export**"
   ]
  },
  {
   "cell_type": "code",
   "execution_count": 31,
   "id": "dd972819",
   "metadata": {
    "ExecuteTime": {
     "end_time": "2024-11-08T19:26:39.132925Z",
     "start_time": "2024-11-08T19:26:39.130401Z"
    }
   },
   "outputs": [],
   "source": [
    "# Assign a descriptive name for easy reference\n",
    "name = 'voting_clf_all_scaled'"
   ]
  },
  {
   "cell_type": "code",
   "execution_count": 32,
   "id": "98117a56",
   "metadata": {
    "ExecuteTime": {
     "end_time": "2024-11-08T19:26:39.713743Z",
     "start_time": "2024-11-08T19:26:39.134634Z"
    }
   },
   "outputs": [],
   "source": [
    "# Save the predictions to a CSV file.\n",
    "predictions.to_csv(f'./predictions/{name}.csv')"
   ]
  },
  {
   "cell_type": "markdown",
   "id": "90b1a567",
   "metadata": {},
   "source": [
    "__*<center>Models*__ \n",
    "    \n",
    "| Model | Feature Selection | Parameters | Kaggle Score |\n",
    "| ----- | ----------------- | ---------- | -------------|\n",
    "| Voting (sgd_rf_dt_gb_ab)  | 2 | - | 0.37300 |\n",
    "| Stacking (sgd_rf_dt_gb_ab) | 2 | - | 0.40255 |\n",
    "| RF (agedrop_ime4drop_birthyear_drop_ime4log)| 3 | - | 0.41072 |\n",
    "| Voting (sgd_rf_dt_gb_ab),  (agedrop_ime4drop_birthyear_drop_ime4log)| 3 | - | 0.34477 |\n",
    "| RF (all_scaled_new_encoding_agedrop_ime4drop_ime4log) | 4 | - | 0.39087 |\n",
    "| RF (all_scaled) | 5 | - | 0.38734 |\n",
    "| Voting (all_scaled) | 5 | - | 0.37536 |\n",
    "| ----- | ----------------- | ---------- | -------------|\n",
    "| ----- | ----------------- | ---------- | -------------|\n",
    "    \n",
    "<br><br>\n",
    "    \n",
    "    \n",
    "__*<center>Models K-Fold*__ \n",
    "\n",
    "| Model | Feature Selection | Log | Parameters | Kaggle Score | Fold |\n",
    "| ----- | ------------------ | --- | ---------- | ------------ | ---- |\n",
    "| LogReg | - | - | -  | 0.21122 | 5 |\n",
    "| RF | 1 | X | - | 0.29078 | 5 |\n",
    "| XGB | 1 | X | - | 0.20642 | 10 |\n",
    "| RF | - | - | - | 0.26616 | 5 |\n",
    "    \n",
    "<br><br>\n",
    "    \n",
    "__*<center>Models w/ Stratified K-Fold*__   \n",
    "    \n",
    "| Model | Feature Selection | Log | Parameters | Kaggle Score | Fold | \n",
    "| ----- | ------------------ | --- | ---------- | ------------ | ---- |\n",
    "| RF | - | - | - | 0.26912 | 10 |\n",
    "| DT | - | - | - | 0.14236 | 10 |\n",
    "| DT | - | X | - | 0.15589 | 10 |\n",
    "\n",
    "<br><br>\n",
    "    \n",
    "**Features for Feature Selection 1**\n",
    "\n",
    "['C-2 Day', 'Accident Year', 'Birth Year', 'Assembly Month',\n",
    "            'C-2 Month', 'Average Weekly Wage', 'Age at Injury', \n",
    "            'C-2 Year', 'Number of Dependents', 'Accident Day', \n",
    "            'Assembly Year', 'First Hearing Year', 'IME-4 Count', \n",
    "            'Assembly Day', 'Accident Month', \n",
    "            'WCIO Cause of Injury Code', 'Gender', \n",
    "            'COVID-19 Indicator', 'WCIO Part Of Body Code', \n",
    "            'County of Injury', 'Attorney/Representative', \n",
    "            'Carrier Type', 'District Name', 'Medical Fee Region', \n",
    "            'Zip Code', 'Carrier Name', 'C-3 Date Binary', \n",
    "            'Alternative Dispute Resolution', \n",
    "            'WCIO Nature of Injury Code', 'Industry Code']\n",
    "    \n",
    "    \n",
    "**Features for Feature Selection 2**    \n",
    "    \n",
    "['Age at Injury',\n",
    " 'Average Weekly Wage',\n",
    " 'Assembly Year',\n",
    " 'C-2 Month',\n",
    " 'C-2 Year',\n",
    " 'First Hearing Year',\n",
    " 'IME-4 Count Log',\n",
    " 'Attorney/Representative',\n",
    " 'Carrier Name',\n",
    " 'Carrier Name Log',\n",
    " 'Carrier Type',\n",
    " 'County of Injury',\n",
    " 'District Name',\n",
    " 'Gender',\n",
    " 'Industry Code',\n",
    " 'Medical Fee Region',\n",
    " 'WCIO Cause of Injury Code',\n",
    " 'WCIO Nature of Injury Code',\n",
    " 'WCIO Part Of Body Code',\n",
    " 'C-3 Date Binary']\n",
    "\n",
    "    \n",
    " **Features for Feature Selection 3**       \n",
    "    \n",
    "['Age at Injury',\n",
    " 'Average Weekly Wage',\n",
    " 'Assembly Year',\n",
    " 'C-2 Month',\n",
    " 'C-2 Year',\n",
    " 'First Hearing Year',\n",
    " 'IME-4 Count Log',\n",
    " 'Attorney/Representative',\n",
    " 'Carrier Name',\n",
    " 'Carrier Type',\n",
    " 'County of Injury',\n",
    " 'District Name',\n",
    " 'Gender',\n",
    " 'Industry Code',\n",
    " 'Medical Fee Region',\n",
    " 'WCIO Cause of Injury Code',\n",
    " 'WCIO Nature of Injury Code',\n",
    " 'WCIO Part Of Body Code',\n",
    " 'C-3 Date Binary']\n",
    "    \n",
    "    \n",
    " **Features for Feature Selection 4**   \n",
    "    \n",
    "['Age at Injury',\n",
    " 'Average Weekly Wage',\n",
    " 'Assembly Year',\n",
    " 'C-2 Month',\n",
    " 'C-2 Year',\n",
    " 'First Hearing Year',\n",
    " 'IME-4 Count Log',\n",
    " 'Attorney/Representative',\n",
    " 'Carrier Name',\n",
    " 'County of Injury',\n",
    " 'District Name',\n",
    " 'Industry Code',\n",
    " 'Medical Fee Region',\n",
    " 'WCIO Cause of Injury Code',\n",
    " 'WCIO Nature of Injury Code',\n",
    " 'WCIO Part Of Body Code',\n",
    " 'C-3 Date Binary',\n",
    " 'Carrier Type_1A. PRIVATE',\n",
    " 'Carrier Type_2A. SIF',\n",
    " 'Carrier Type_3A. SELF PUBLIC',\n",
    " 'Carrier Type_4A. SELF PRIVATE',\n",
    " 'Carrier Type_5. SPECIAL FUND',\n",
    " 'Gender_F',\n",
    " 'Gender_M',\n",
    " 'Gender_U',\n",
    " 'Alternative Dispute Resolution',\n",
    " 'Claim Injury Type']\n",
    "    \n",
    "    \n",
    "**Features for Feature Selection 5**   \n",
    "    \n",
    "['Accident Year',\n",
    " 'Average Weekly Wage',\n",
    " 'First Hearing Year',\n",
    " 'C-2 Year',\n",
    " 'C-2 Month',\n",
    " 'Birth Year',\n",
    " 'Assembly Year',\n",
    " 'IME-4 Count',\n",
    " 'Assembly Day',\n",
    " 'Attorney/Representative',\n",
    " 'C-3 Date Binary',\n",
    " 'WCIO Nature of Injury Code',\n",
    " 'Carrier Name',\n",
    " 'County of Injury',\n",
    " 'Industry Code',\n",
    " 'Medical Fee Region',\n",
    " 'WCIO Cause of Injury Code',\n",
    " 'WCIO Part Of Body Code']"
   ]
  },
  {
   "cell_type": "code",
   "execution_count": null,
   "id": "43dd5279",
   "metadata": {},
   "outputs": [],
   "source": []
  }
 ],
 "metadata": {
  "kernelspec": {
   "display_name": "Python 3 (ipykernel)",
   "language": "python",
   "name": "python3"
  },
  "language_info": {
   "codemirror_mode": {
    "name": "ipython",
    "version": 3
   },
   "file_extension": ".py",
   "mimetype": "text/x-python",
   "name": "python",
   "nbconvert_exporter": "python",
   "pygments_lexer": "ipython3",
   "version": "3.10.13"
  }
 },
 "nbformat": 4,
 "nbformat_minor": 5
}
