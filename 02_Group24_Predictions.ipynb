{
 "cells": [
  {
   "cell_type": "markdown",
   "id": "95ebdb53",
   "metadata": {},
   "source": [
    "# Table of Contents\n",
    "\n",
    "<a class=\"anchor\" id=\"top\"></a>"
   ]
  },
  {
   "cell_type": "markdown",
   "id": "d8fe9c0c",
   "metadata": {},
   "source": [
    "# 1. Importing Libraries & Data"
   ]
  },
  {
   "cell_type": "code",
   "execution_count": 1,
   "id": "3d4b109b",
   "metadata": {
    "ExecuteTime": {
     "end_time": "2024-11-07T13:49:56.561883Z",
     "start_time": "2024-11-07T13:49:52.230834Z"
    }
   },
   "outputs": [],
   "source": [
    "import pandas as pd\n",
    "\n",
    "# Models\n",
    "from sklearn.linear_model import LogisticRegression, SGDClassifier\n",
    "from sklearn.tree import DecisionTreeClassifier\n",
    "from sklearn.ensemble import RandomForestClassifier, GradientBoostingClassifier, \\\n",
    "    AdaBoostClassifier\n",
    "from sklearn.svm import SVC\n",
    "from sklearn.gaussian_process import GaussianProcessClassifier\n",
    "from sklearn.discriminant_analysis import LinearDiscriminantAnalysis, \\\n",
    "    QuadraticDiscriminantAnalysis\n",
    "from xgboost import XGBClassifier  \n",
    "from lightgbm import LGBMClassifier \n",
    "#from catboost import CatBoostClassifier\n",
    "\n",
    "# metrics\n",
    "import metrics as m\n",
    "\n",
    "import warnings\n",
    "warnings.filterwarnings(\"ignore\")"
   ]
  },
  {
   "cell_type": "markdown",
   "id": "a33bfd6a",
   "metadata": {},
   "source": [
    "**Import Data**"
   ]
  },
  {
   "cell_type": "code",
   "execution_count": 2,
   "id": "2d3880a1",
   "metadata": {
    "ExecuteTime": {
     "end_time": "2024-11-07T13:49:59.463385Z",
     "start_time": "2024-11-07T13:49:56.565513Z"
    }
   },
   "outputs": [],
   "source": [
    "X_train = pd.read_csv('./project_data/x_train.csv', index_col = 'Claim Identifier')\n",
    "X_val = pd.read_csv('./project_data/x_val.csv', index_col = 'Claim Identifier')\n",
    "y_train = pd.read_csv('./project_data/y_train.csv', index_col = 'Claim Identifier')\n",
    "y_val = pd.read_csv('./project_data/y_val.csv', index_col = 'Claim Identifier')"
   ]
  },
  {
   "cell_type": "code",
   "execution_count": 18,
   "id": "e1fc2658",
   "metadata": {
    "ExecuteTime": {
     "end_time": "2024-11-07T14:44:40.147641Z",
     "start_time": "2024-11-07T14:44:38.686353Z"
    }
   },
   "outputs": [],
   "source": [
    "test = pd.read_csv('./project_data/test_treated.csv', index_col = 'Claim Identifier')"
   ]
  },
  {
   "cell_type": "markdown",
   "id": "21d55a70",
   "metadata": {},
   "source": [
    "# 2. Modelling\n",
    "\n",
    "<a href=\"#top\">Top &#129033;</a>"
   ]
  },
  {
   "cell_type": "code",
   "execution_count": 3,
   "id": "5cf56a3d",
   "metadata": {
    "ExecuteTime": {
     "end_time": "2024-11-07T13:49:59.469659Z",
     "start_time": "2024-11-07T13:49:59.465757Z"
    }
   },
   "outputs": [
    {
     "name": "stdout",
     "output_type": "stream",
     "text": [
      "['Age at Injury', 'Average Weekly Wage', 'Assembly Year', 'C-2 Month', 'C-2 Year', 'First Hearing Year', 'IME-4 Count Log', 'Attorney/Representative', 'Carrier Name', 'Carrier Name Log', 'Carrier Type', 'County of Injury', 'District Name', 'Gender', 'Industry Code', 'Medical Fee Region', 'WCIO Cause of Injury Code', 'WCIO Nature of Injury Code', 'WCIO Part Of Body Code', 'C-3 Date Binary'] \n",
      "\n",
      "20\n"
     ]
    }
   ],
   "source": [
    "print(X_train.columns.to_list(), '\\n')\n",
    "print(len(X_train.columns))"
   ]
  },
  {
   "cell_type": "markdown",
   "id": "19be33b9",
   "metadata": {},
   "source": [
    "**Baseline Model**"
   ]
  },
  {
   "cell_type": "code",
   "execution_count": 4,
   "id": "5ad2b999",
   "metadata": {
    "ExecuteTime": {
     "end_time": "2024-11-07T10:26:10.874321Z",
     "start_time": "2024-11-07T10:25:57.631282Z"
    }
   },
   "outputs": [
    {
     "data": {
      "text/html": [
       "<style>#sk-container-id-1 {color: black;background-color: white;}#sk-container-id-1 pre{padding: 0;}#sk-container-id-1 div.sk-toggleable {background-color: white;}#sk-container-id-1 label.sk-toggleable__label {cursor: pointer;display: block;width: 100%;margin-bottom: 0;padding: 0.3em;box-sizing: border-box;text-align: center;}#sk-container-id-1 label.sk-toggleable__label-arrow:before {content: \"▸\";float: left;margin-right: 0.25em;color: #696969;}#sk-container-id-1 label.sk-toggleable__label-arrow:hover:before {color: black;}#sk-container-id-1 div.sk-estimator:hover label.sk-toggleable__label-arrow:before {color: black;}#sk-container-id-1 div.sk-toggleable__content {max-height: 0;max-width: 0;overflow: hidden;text-align: left;background-color: #f0f8ff;}#sk-container-id-1 div.sk-toggleable__content pre {margin: 0.2em;color: black;border-radius: 0.25em;background-color: #f0f8ff;}#sk-container-id-1 input.sk-toggleable__control:checked~div.sk-toggleable__content {max-height: 200px;max-width: 100%;overflow: auto;}#sk-container-id-1 input.sk-toggleable__control:checked~label.sk-toggleable__label-arrow:before {content: \"▾\";}#sk-container-id-1 div.sk-estimator input.sk-toggleable__control:checked~label.sk-toggleable__label {background-color: #d4ebff;}#sk-container-id-1 div.sk-label input.sk-toggleable__control:checked~label.sk-toggleable__label {background-color: #d4ebff;}#sk-container-id-1 input.sk-hidden--visually {border: 0;clip: rect(1px 1px 1px 1px);clip: rect(1px, 1px, 1px, 1px);height: 1px;margin: -1px;overflow: hidden;padding: 0;position: absolute;width: 1px;}#sk-container-id-1 div.sk-estimator {font-family: monospace;background-color: #f0f8ff;border: 1px dotted black;border-radius: 0.25em;box-sizing: border-box;margin-bottom: 0.5em;}#sk-container-id-1 div.sk-estimator:hover {background-color: #d4ebff;}#sk-container-id-1 div.sk-parallel-item::after {content: \"\";width: 100%;border-bottom: 1px solid gray;flex-grow: 1;}#sk-container-id-1 div.sk-label:hover label.sk-toggleable__label {background-color: #d4ebff;}#sk-container-id-1 div.sk-serial::before {content: \"\";position: absolute;border-left: 1px solid gray;box-sizing: border-box;top: 0;bottom: 0;left: 50%;z-index: 0;}#sk-container-id-1 div.sk-serial {display: flex;flex-direction: column;align-items: center;background-color: white;padding-right: 0.2em;padding-left: 0.2em;position: relative;}#sk-container-id-1 div.sk-item {position: relative;z-index: 1;}#sk-container-id-1 div.sk-parallel {display: flex;align-items: stretch;justify-content: center;background-color: white;position: relative;}#sk-container-id-1 div.sk-item::before, #sk-container-id-1 div.sk-parallel-item::before {content: \"\";position: absolute;border-left: 1px solid gray;box-sizing: border-box;top: 0;bottom: 0;left: 50%;z-index: -1;}#sk-container-id-1 div.sk-parallel-item {display: flex;flex-direction: column;z-index: 1;position: relative;background-color: white;}#sk-container-id-1 div.sk-parallel-item:first-child::after {align-self: flex-end;width: 50%;}#sk-container-id-1 div.sk-parallel-item:last-child::after {align-self: flex-start;width: 50%;}#sk-container-id-1 div.sk-parallel-item:only-child::after {width: 0;}#sk-container-id-1 div.sk-dashed-wrapped {border: 1px dashed gray;margin: 0 0.4em 0.5em 0.4em;box-sizing: border-box;padding-bottom: 0.4em;background-color: white;}#sk-container-id-1 div.sk-label label {font-family: monospace;font-weight: bold;display: inline-block;line-height: 1.2em;}#sk-container-id-1 div.sk-label-container {text-align: center;}#sk-container-id-1 div.sk-container {/* jupyter's `normalize.less` sets `[hidden] { display: none; }` but bootstrap.min.css set `[hidden] { display: none !important; }` so we also need the `!important` here to be able to override the default hidden behavior on the sphinx rendered scikit-learn.org. See: https://github.com/scikit-learn/scikit-learn/issues/21755 */display: inline-block !important;position: relative;}#sk-container-id-1 div.sk-text-repr-fallback {display: none;}</style><div id=\"sk-container-id-1\" class=\"sk-top-container\"><div class=\"sk-text-repr-fallback\"><pre>LogisticRegression()</pre><b>In a Jupyter environment, please rerun this cell to show the HTML representation or trust the notebook. <br />On GitHub, the HTML representation is unable to render, please try loading this page with nbviewer.org.</b></div><div class=\"sk-container\" hidden><div class=\"sk-item\"><div class=\"sk-estimator sk-toggleable\"><input class=\"sk-toggleable__control sk-hidden--visually\" id=\"sk-estimator-id-1\" type=\"checkbox\" checked><label for=\"sk-estimator-id-1\" class=\"sk-toggleable__label sk-toggleable__label-arrow\">LogisticRegression</label><div class=\"sk-toggleable__content\"><pre>LogisticRegression()</pre></div></div></div></div></div>"
      ],
      "text/plain": [
       "LogisticRegression()"
      ]
     },
     "execution_count": 4,
     "metadata": {},
     "output_type": "execute_result"
    }
   ],
   "source": [
    "model = LogisticRegression()\n",
    "model.fit(X_train, y_train)"
   ]
  },
  {
   "cell_type": "code",
   "execution_count": 5,
   "id": "6422cd5a",
   "metadata": {
    "ExecuteTime": {
     "end_time": "2024-11-07T10:26:10.981382Z",
     "start_time": "2024-11-07T10:26:10.877772Z"
    }
   },
   "outputs": [],
   "source": [
    "train_pred = model.predict(X_train)\n",
    "val_pred = model.predict(X_val)"
   ]
  },
  {
   "cell_type": "code",
   "execution_count": 6,
   "id": "26aa461e",
   "metadata": {
    "ExecuteTime": {
     "end_time": "2024-11-07T10:26:12.296259Z",
     "start_time": "2024-11-07T10:26:10.983839Z"
    },
    "collapsed": true
   },
   "outputs": [
    {
     "name": "stdout",
     "output_type": "stream",
     "text": [
      "              precision    recall  f1-score   support\n",
      "\n",
      "           1       0.00      0.00      0.00      9981\n",
      "           2       0.72      0.95      0.82    232862\n",
      "           3       0.21      0.01      0.02     55125\n",
      "           4       0.53      0.67      0.59    118806\n",
      "           5       0.22      0.00      0.01     38624\n",
      "           6       0.00      0.00      0.00      3369\n",
      "           7       0.00      0.00      0.00        77\n",
      "           8       0.00      0.00      0.00       376\n",
      "\n",
      "    accuracy                           0.66    459220\n",
      "   macro avg       0.21      0.20      0.18    459220\n",
      "weighted avg       0.55      0.66      0.57    459220\n",
      "\n",
      "              precision    recall  f1-score   support\n",
      "\n",
      "           1       0.00      0.00      0.00      2495\n",
      "           2       0.72      0.95      0.82     58216\n",
      "           3       0.21      0.01      0.02     13781\n",
      "           4       0.53      0.66      0.59     29701\n",
      "           5       0.17      0.00      0.01      9656\n",
      "           6       0.00      0.00      0.00       842\n",
      "           7       0.00      0.00      0.00        20\n",
      "           8       0.00      0.00      0.00        94\n",
      "\n",
      "    accuracy                           0.65    114805\n",
      "   macro avg       0.20      0.20      0.18    114805\n",
      "weighted avg       0.54      0.65      0.57    114805\n",
      "\n"
     ]
    }
   ],
   "source": [
    "metrics(y_train, train_pred , y_val, val_pred)"
   ]
  },
  {
   "cell_type": "markdown",
   "id": "fba75bee",
   "metadata": {},
   "source": [
    "**SGD Classifier**"
   ]
  },
  {
   "cell_type": "code",
   "execution_count": 7,
   "id": "47440d82",
   "metadata": {
    "ExecuteTime": {
     "end_time": "2024-11-07T10:33:43.002952Z",
     "start_time": "2024-11-07T10:26:12.299036Z"
    }
   },
   "outputs": [
    {
     "data": {
      "text/html": [
       "<style>#sk-container-id-2 {color: black;background-color: white;}#sk-container-id-2 pre{padding: 0;}#sk-container-id-2 div.sk-toggleable {background-color: white;}#sk-container-id-2 label.sk-toggleable__label {cursor: pointer;display: block;width: 100%;margin-bottom: 0;padding: 0.3em;box-sizing: border-box;text-align: center;}#sk-container-id-2 label.sk-toggleable__label-arrow:before {content: \"▸\";float: left;margin-right: 0.25em;color: #696969;}#sk-container-id-2 label.sk-toggleable__label-arrow:hover:before {color: black;}#sk-container-id-2 div.sk-estimator:hover label.sk-toggleable__label-arrow:before {color: black;}#sk-container-id-2 div.sk-toggleable__content {max-height: 0;max-width: 0;overflow: hidden;text-align: left;background-color: #f0f8ff;}#sk-container-id-2 div.sk-toggleable__content pre {margin: 0.2em;color: black;border-radius: 0.25em;background-color: #f0f8ff;}#sk-container-id-2 input.sk-toggleable__control:checked~div.sk-toggleable__content {max-height: 200px;max-width: 100%;overflow: auto;}#sk-container-id-2 input.sk-toggleable__control:checked~label.sk-toggleable__label-arrow:before {content: \"▾\";}#sk-container-id-2 div.sk-estimator input.sk-toggleable__control:checked~label.sk-toggleable__label {background-color: #d4ebff;}#sk-container-id-2 div.sk-label input.sk-toggleable__control:checked~label.sk-toggleable__label {background-color: #d4ebff;}#sk-container-id-2 input.sk-hidden--visually {border: 0;clip: rect(1px 1px 1px 1px);clip: rect(1px, 1px, 1px, 1px);height: 1px;margin: -1px;overflow: hidden;padding: 0;position: absolute;width: 1px;}#sk-container-id-2 div.sk-estimator {font-family: monospace;background-color: #f0f8ff;border: 1px dotted black;border-radius: 0.25em;box-sizing: border-box;margin-bottom: 0.5em;}#sk-container-id-2 div.sk-estimator:hover {background-color: #d4ebff;}#sk-container-id-2 div.sk-parallel-item::after {content: \"\";width: 100%;border-bottom: 1px solid gray;flex-grow: 1;}#sk-container-id-2 div.sk-label:hover label.sk-toggleable__label {background-color: #d4ebff;}#sk-container-id-2 div.sk-serial::before {content: \"\";position: absolute;border-left: 1px solid gray;box-sizing: border-box;top: 0;bottom: 0;left: 50%;z-index: 0;}#sk-container-id-2 div.sk-serial {display: flex;flex-direction: column;align-items: center;background-color: white;padding-right: 0.2em;padding-left: 0.2em;position: relative;}#sk-container-id-2 div.sk-item {position: relative;z-index: 1;}#sk-container-id-2 div.sk-parallel {display: flex;align-items: stretch;justify-content: center;background-color: white;position: relative;}#sk-container-id-2 div.sk-item::before, #sk-container-id-2 div.sk-parallel-item::before {content: \"\";position: absolute;border-left: 1px solid gray;box-sizing: border-box;top: 0;bottom: 0;left: 50%;z-index: -1;}#sk-container-id-2 div.sk-parallel-item {display: flex;flex-direction: column;z-index: 1;position: relative;background-color: white;}#sk-container-id-2 div.sk-parallel-item:first-child::after {align-self: flex-end;width: 50%;}#sk-container-id-2 div.sk-parallel-item:last-child::after {align-self: flex-start;width: 50%;}#sk-container-id-2 div.sk-parallel-item:only-child::after {width: 0;}#sk-container-id-2 div.sk-dashed-wrapped {border: 1px dashed gray;margin: 0 0.4em 0.5em 0.4em;box-sizing: border-box;padding-bottom: 0.4em;background-color: white;}#sk-container-id-2 div.sk-label label {font-family: monospace;font-weight: bold;display: inline-block;line-height: 1.2em;}#sk-container-id-2 div.sk-label-container {text-align: center;}#sk-container-id-2 div.sk-container {/* jupyter's `normalize.less` sets `[hidden] { display: none; }` but bootstrap.min.css set `[hidden] { display: none !important; }` so we also need the `!important` here to be able to override the default hidden behavior on the sphinx rendered scikit-learn.org. See: https://github.com/scikit-learn/scikit-learn/issues/21755 */display: inline-block !important;position: relative;}#sk-container-id-2 div.sk-text-repr-fallback {display: none;}</style><div id=\"sk-container-id-2\" class=\"sk-top-container\"><div class=\"sk-text-repr-fallback\"><pre>SGDClassifier()</pre><b>In a Jupyter environment, please rerun this cell to show the HTML representation or trust the notebook. <br />On GitHub, the HTML representation is unable to render, please try loading this page with nbviewer.org.</b></div><div class=\"sk-container\" hidden><div class=\"sk-item\"><div class=\"sk-estimator sk-toggleable\"><input class=\"sk-toggleable__control sk-hidden--visually\" id=\"sk-estimator-id-2\" type=\"checkbox\" checked><label for=\"sk-estimator-id-2\" class=\"sk-toggleable__label sk-toggleable__label-arrow\">SGDClassifier</label><div class=\"sk-toggleable__content\"><pre>SGDClassifier()</pre></div></div></div></div></div>"
      ],
      "text/plain": [
       "SGDClassifier()"
      ]
     },
     "execution_count": 7,
     "metadata": {},
     "output_type": "execute_result"
    }
   ],
   "source": [
    "sgd = SGDClassifier()\n",
    "sgd.fit(X_train, y_train)"
   ]
  },
  {
   "cell_type": "code",
   "execution_count": 8,
   "id": "1b37c5b3",
   "metadata": {
    "ExecuteTime": {
     "end_time": "2024-11-07T10:33:43.183140Z",
     "start_time": "2024-11-07T10:33:43.009171Z"
    }
   },
   "outputs": [],
   "source": [
    "train_pred_sgd = sgd.predict(X_train)\n",
    "val_pred_sgd = sgd.predict(X_val)"
   ]
  },
  {
   "cell_type": "code",
   "execution_count": 14,
   "id": "4408f782",
   "metadata": {
    "ExecuteTime": {
     "end_time": "2024-11-07T10:34:07.494419Z",
     "start_time": "2024-11-07T10:34:06.223463Z"
    },
    "scrolled": true
   },
   "outputs": [
    {
     "name": "stdout",
     "output_type": "stream",
     "text": [
      "______________________________________________________________________\n",
      "                                TRAIN                                 \n",
      "----------------------------------------------------------------------\n",
      "              precision    recall  f1-score   support\n",
      "\n",
      "           1       0.00      0.00      0.00      9981\n",
      "           2       0.73      0.99      0.84    232862\n",
      "           3       0.12      0.00      0.00     55125\n",
      "           4       0.59      0.73      0.65    118806\n",
      "           5       0.22      0.00      0.00     38624\n",
      "           6       0.00      0.00      0.00      3369\n",
      "           7       0.00      0.00      0.00        77\n",
      "           8       0.00      0.00      0.00       376\n",
      "\n",
      "    accuracy                           0.69    459220\n",
      "   macro avg       0.21      0.21      0.19    459220\n",
      "weighted avg       0.56      0.69      0.60    459220\n",
      "\n",
      "______________________________________________________________________\n",
      "                                VALIDATION                                 \n",
      "----------------------------------------------------------------------\n",
      "              precision    recall  f1-score   support\n",
      "\n",
      "           1       0.00      0.00      0.00      2495\n",
      "           2       0.73      0.99      0.84     58216\n",
      "           3       0.19      0.00      0.00     13781\n",
      "           4       0.59      0.72      0.65     29701\n",
      "           5       0.07      0.00      0.00      9656\n",
      "           6       0.00      0.00      0.00       842\n",
      "           7       0.00      0.00      0.00        20\n",
      "           8       0.00      0.00      0.00        94\n",
      "\n",
      "    accuracy                           0.69    114805\n",
      "   macro avg       0.20      0.21      0.19    114805\n",
      "weighted avg       0.55      0.69      0.60    114805\n",
      "\n"
     ]
    }
   ],
   "source": [
    "m.metrics(y_train, train_pred_sgd , y_val, val_pred_sgd)"
   ]
  },
  {
   "cell_type": "markdown",
   "id": "bd596059",
   "metadata": {},
   "source": [
    "**Decision Tree Classifier**"
   ]
  },
  {
   "cell_type": "code",
   "execution_count": 15,
   "id": "bfb76161",
   "metadata": {
    "ExecuteTime": {
     "end_time": "2024-11-07T10:35:41.366103Z",
     "start_time": "2024-11-07T10:35:34.805995Z"
    }
   },
   "outputs": [
    {
     "data": {
      "text/html": [
       "<style>#sk-container-id-3 {color: black;background-color: white;}#sk-container-id-3 pre{padding: 0;}#sk-container-id-3 div.sk-toggleable {background-color: white;}#sk-container-id-3 label.sk-toggleable__label {cursor: pointer;display: block;width: 100%;margin-bottom: 0;padding: 0.3em;box-sizing: border-box;text-align: center;}#sk-container-id-3 label.sk-toggleable__label-arrow:before {content: \"▸\";float: left;margin-right: 0.25em;color: #696969;}#sk-container-id-3 label.sk-toggleable__label-arrow:hover:before {color: black;}#sk-container-id-3 div.sk-estimator:hover label.sk-toggleable__label-arrow:before {color: black;}#sk-container-id-3 div.sk-toggleable__content {max-height: 0;max-width: 0;overflow: hidden;text-align: left;background-color: #f0f8ff;}#sk-container-id-3 div.sk-toggleable__content pre {margin: 0.2em;color: black;border-radius: 0.25em;background-color: #f0f8ff;}#sk-container-id-3 input.sk-toggleable__control:checked~div.sk-toggleable__content {max-height: 200px;max-width: 100%;overflow: auto;}#sk-container-id-3 input.sk-toggleable__control:checked~label.sk-toggleable__label-arrow:before {content: \"▾\";}#sk-container-id-3 div.sk-estimator input.sk-toggleable__control:checked~label.sk-toggleable__label {background-color: #d4ebff;}#sk-container-id-3 div.sk-label input.sk-toggleable__control:checked~label.sk-toggleable__label {background-color: #d4ebff;}#sk-container-id-3 input.sk-hidden--visually {border: 0;clip: rect(1px 1px 1px 1px);clip: rect(1px, 1px, 1px, 1px);height: 1px;margin: -1px;overflow: hidden;padding: 0;position: absolute;width: 1px;}#sk-container-id-3 div.sk-estimator {font-family: monospace;background-color: #f0f8ff;border: 1px dotted black;border-radius: 0.25em;box-sizing: border-box;margin-bottom: 0.5em;}#sk-container-id-3 div.sk-estimator:hover {background-color: #d4ebff;}#sk-container-id-3 div.sk-parallel-item::after {content: \"\";width: 100%;border-bottom: 1px solid gray;flex-grow: 1;}#sk-container-id-3 div.sk-label:hover label.sk-toggleable__label {background-color: #d4ebff;}#sk-container-id-3 div.sk-serial::before {content: \"\";position: absolute;border-left: 1px solid gray;box-sizing: border-box;top: 0;bottom: 0;left: 50%;z-index: 0;}#sk-container-id-3 div.sk-serial {display: flex;flex-direction: column;align-items: center;background-color: white;padding-right: 0.2em;padding-left: 0.2em;position: relative;}#sk-container-id-3 div.sk-item {position: relative;z-index: 1;}#sk-container-id-3 div.sk-parallel {display: flex;align-items: stretch;justify-content: center;background-color: white;position: relative;}#sk-container-id-3 div.sk-item::before, #sk-container-id-3 div.sk-parallel-item::before {content: \"\";position: absolute;border-left: 1px solid gray;box-sizing: border-box;top: 0;bottom: 0;left: 50%;z-index: -1;}#sk-container-id-3 div.sk-parallel-item {display: flex;flex-direction: column;z-index: 1;position: relative;background-color: white;}#sk-container-id-3 div.sk-parallel-item:first-child::after {align-self: flex-end;width: 50%;}#sk-container-id-3 div.sk-parallel-item:last-child::after {align-self: flex-start;width: 50%;}#sk-container-id-3 div.sk-parallel-item:only-child::after {width: 0;}#sk-container-id-3 div.sk-dashed-wrapped {border: 1px dashed gray;margin: 0 0.4em 0.5em 0.4em;box-sizing: border-box;padding-bottom: 0.4em;background-color: white;}#sk-container-id-3 div.sk-label label {font-family: monospace;font-weight: bold;display: inline-block;line-height: 1.2em;}#sk-container-id-3 div.sk-label-container {text-align: center;}#sk-container-id-3 div.sk-container {/* jupyter's `normalize.less` sets `[hidden] { display: none; }` but bootstrap.min.css set `[hidden] { display: none !important; }` so we also need the `!important` here to be able to override the default hidden behavior on the sphinx rendered scikit-learn.org. See: https://github.com/scikit-learn/scikit-learn/issues/21755 */display: inline-block !important;position: relative;}#sk-container-id-3 div.sk-text-repr-fallback {display: none;}</style><div id=\"sk-container-id-3\" class=\"sk-top-container\"><div class=\"sk-text-repr-fallback\"><pre>DecisionTreeClassifier()</pre><b>In a Jupyter environment, please rerun this cell to show the HTML representation or trust the notebook. <br />On GitHub, the HTML representation is unable to render, please try loading this page with nbviewer.org.</b></div><div class=\"sk-container\" hidden><div class=\"sk-item\"><div class=\"sk-estimator sk-toggleable\"><input class=\"sk-toggleable__control sk-hidden--visually\" id=\"sk-estimator-id-3\" type=\"checkbox\" checked><label for=\"sk-estimator-id-3\" class=\"sk-toggleable__label sk-toggleable__label-arrow\">DecisionTreeClassifier</label><div class=\"sk-toggleable__content\"><pre>DecisionTreeClassifier()</pre></div></div></div></div></div>"
      ],
      "text/plain": [
       "DecisionTreeClassifier()"
      ]
     },
     "execution_count": 15,
     "metadata": {},
     "output_type": "execute_result"
    }
   ],
   "source": [
    "dt = DecisionTreeClassifier()\n",
    "dt.fit(X_train, y_train)"
   ]
  },
  {
   "cell_type": "code",
   "execution_count": 16,
   "id": "b146c994",
   "metadata": {
    "ExecuteTime": {
     "end_time": "2024-11-07T10:35:41.825756Z",
     "start_time": "2024-11-07T10:35:41.369189Z"
    }
   },
   "outputs": [],
   "source": [
    "train_pred_dt = dt.predict(X_train)\n",
    "val_pred_dt = dt.predict(X_val)"
   ]
  },
  {
   "cell_type": "code",
   "execution_count": 17,
   "id": "9d4e916b",
   "metadata": {
    "ExecuteTime": {
     "end_time": "2024-11-07T10:35:43.196544Z",
     "start_time": "2024-11-07T10:35:41.828184Z"
    },
    "scrolled": true
   },
   "outputs": [
    {
     "name": "stdout",
     "output_type": "stream",
     "text": [
      "______________________________________________________________________\n",
      "                                TRAIN                                 \n",
      "----------------------------------------------------------------------\n",
      "              precision    recall  f1-score   support\n",
      "\n",
      "           1       0.99      1.00      1.00      9981\n",
      "           2       1.00      1.00      1.00    232862\n",
      "           3       1.00      1.00      1.00     55125\n",
      "           4       1.00      1.00      1.00    118806\n",
      "           5       1.00      1.00      1.00     38624\n",
      "           6       1.00      1.00      1.00      3369\n",
      "           7       1.00      1.00      1.00        77\n",
      "           8       1.00      1.00      1.00       376\n",
      "\n",
      "    accuracy                           1.00    459220\n",
      "   macro avg       1.00      1.00      1.00    459220\n",
      "weighted avg       1.00      1.00      1.00    459220\n",
      "\n",
      "______________________________________________________________________\n",
      "                                VALIDATION                                 \n",
      "----------------------------------------------------------------------\n",
      "              precision    recall  f1-score   support\n",
      "\n",
      "           1       0.42      0.45      0.44      2495\n",
      "           2       0.85      0.83      0.84     58216\n",
      "           3       0.21      0.24      0.23     13781\n",
      "           4       0.67      0.66      0.66     29701\n",
      "           5       0.53      0.53      0.53      9656\n",
      "           6       0.08      0.09      0.08       842\n",
      "           7       0.03      0.05      0.04        20\n",
      "           8       0.18      0.20      0.19        94\n",
      "\n",
      "    accuracy                           0.67    114805\n",
      "   macro avg       0.37      0.38      0.38    114805\n",
      "weighted avg       0.68      0.67      0.68    114805\n",
      "\n"
     ]
    }
   ],
   "source": [
    "m.metrics(y_train, train_pred_dt , y_val, val_pred_dt)"
   ]
  },
  {
   "cell_type": "markdown",
   "id": "3601280c",
   "metadata": {},
   "source": [
    "**Random Forest Classifier**"
   ]
  },
  {
   "cell_type": "code",
   "execution_count": 18,
   "id": "4c307591",
   "metadata": {
    "ExecuteTime": {
     "end_time": "2024-11-07T10:37:59.053521Z",
     "start_time": "2024-11-07T10:35:49.569833Z"
    }
   },
   "outputs": [
    {
     "data": {
      "text/html": [
       "<style>#sk-container-id-4 {color: black;background-color: white;}#sk-container-id-4 pre{padding: 0;}#sk-container-id-4 div.sk-toggleable {background-color: white;}#sk-container-id-4 label.sk-toggleable__label {cursor: pointer;display: block;width: 100%;margin-bottom: 0;padding: 0.3em;box-sizing: border-box;text-align: center;}#sk-container-id-4 label.sk-toggleable__label-arrow:before {content: \"▸\";float: left;margin-right: 0.25em;color: #696969;}#sk-container-id-4 label.sk-toggleable__label-arrow:hover:before {color: black;}#sk-container-id-4 div.sk-estimator:hover label.sk-toggleable__label-arrow:before {color: black;}#sk-container-id-4 div.sk-toggleable__content {max-height: 0;max-width: 0;overflow: hidden;text-align: left;background-color: #f0f8ff;}#sk-container-id-4 div.sk-toggleable__content pre {margin: 0.2em;color: black;border-radius: 0.25em;background-color: #f0f8ff;}#sk-container-id-4 input.sk-toggleable__control:checked~div.sk-toggleable__content {max-height: 200px;max-width: 100%;overflow: auto;}#sk-container-id-4 input.sk-toggleable__control:checked~label.sk-toggleable__label-arrow:before {content: \"▾\";}#sk-container-id-4 div.sk-estimator input.sk-toggleable__control:checked~label.sk-toggleable__label {background-color: #d4ebff;}#sk-container-id-4 div.sk-label input.sk-toggleable__control:checked~label.sk-toggleable__label {background-color: #d4ebff;}#sk-container-id-4 input.sk-hidden--visually {border: 0;clip: rect(1px 1px 1px 1px);clip: rect(1px, 1px, 1px, 1px);height: 1px;margin: -1px;overflow: hidden;padding: 0;position: absolute;width: 1px;}#sk-container-id-4 div.sk-estimator {font-family: monospace;background-color: #f0f8ff;border: 1px dotted black;border-radius: 0.25em;box-sizing: border-box;margin-bottom: 0.5em;}#sk-container-id-4 div.sk-estimator:hover {background-color: #d4ebff;}#sk-container-id-4 div.sk-parallel-item::after {content: \"\";width: 100%;border-bottom: 1px solid gray;flex-grow: 1;}#sk-container-id-4 div.sk-label:hover label.sk-toggleable__label {background-color: #d4ebff;}#sk-container-id-4 div.sk-serial::before {content: \"\";position: absolute;border-left: 1px solid gray;box-sizing: border-box;top: 0;bottom: 0;left: 50%;z-index: 0;}#sk-container-id-4 div.sk-serial {display: flex;flex-direction: column;align-items: center;background-color: white;padding-right: 0.2em;padding-left: 0.2em;position: relative;}#sk-container-id-4 div.sk-item {position: relative;z-index: 1;}#sk-container-id-4 div.sk-parallel {display: flex;align-items: stretch;justify-content: center;background-color: white;position: relative;}#sk-container-id-4 div.sk-item::before, #sk-container-id-4 div.sk-parallel-item::before {content: \"\";position: absolute;border-left: 1px solid gray;box-sizing: border-box;top: 0;bottom: 0;left: 50%;z-index: -1;}#sk-container-id-4 div.sk-parallel-item {display: flex;flex-direction: column;z-index: 1;position: relative;background-color: white;}#sk-container-id-4 div.sk-parallel-item:first-child::after {align-self: flex-end;width: 50%;}#sk-container-id-4 div.sk-parallel-item:last-child::after {align-self: flex-start;width: 50%;}#sk-container-id-4 div.sk-parallel-item:only-child::after {width: 0;}#sk-container-id-4 div.sk-dashed-wrapped {border: 1px dashed gray;margin: 0 0.4em 0.5em 0.4em;box-sizing: border-box;padding-bottom: 0.4em;background-color: white;}#sk-container-id-4 div.sk-label label {font-family: monospace;font-weight: bold;display: inline-block;line-height: 1.2em;}#sk-container-id-4 div.sk-label-container {text-align: center;}#sk-container-id-4 div.sk-container {/* jupyter's `normalize.less` sets `[hidden] { display: none; }` but bootstrap.min.css set `[hidden] { display: none !important; }` so we also need the `!important` here to be able to override the default hidden behavior on the sphinx rendered scikit-learn.org. See: https://github.com/scikit-learn/scikit-learn/issues/21755 */display: inline-block !important;position: relative;}#sk-container-id-4 div.sk-text-repr-fallback {display: none;}</style><div id=\"sk-container-id-4\" class=\"sk-top-container\"><div class=\"sk-text-repr-fallback\"><pre>RandomForestClassifier()</pre><b>In a Jupyter environment, please rerun this cell to show the HTML representation or trust the notebook. <br />On GitHub, the HTML representation is unable to render, please try loading this page with nbviewer.org.</b></div><div class=\"sk-container\" hidden><div class=\"sk-item\"><div class=\"sk-estimator sk-toggleable\"><input class=\"sk-toggleable__control sk-hidden--visually\" id=\"sk-estimator-id-4\" type=\"checkbox\" checked><label for=\"sk-estimator-id-4\" class=\"sk-toggleable__label sk-toggleable__label-arrow\">RandomForestClassifier</label><div class=\"sk-toggleable__content\"><pre>RandomForestClassifier()</pre></div></div></div></div></div>"
      ],
      "text/plain": [
       "RandomForestClassifier()"
      ]
     },
     "execution_count": 18,
     "metadata": {},
     "output_type": "execute_result"
    }
   ],
   "source": [
    "rf = RandomForestClassifier()\n",
    "rf.fit(X_train, y_train)"
   ]
  },
  {
   "cell_type": "code",
   "execution_count": 19,
   "id": "a9046f80",
   "metadata": {
    "ExecuteTime": {
     "end_time": "2024-11-07T10:38:31.126915Z",
     "start_time": "2024-11-07T10:37:59.056578Z"
    }
   },
   "outputs": [],
   "source": [
    "train_pred_rf = rf.predict(X_train)\n",
    "val_pred_rf = rf.predict(X_val)"
   ]
  },
  {
   "cell_type": "code",
   "execution_count": 20,
   "id": "e03271e5",
   "metadata": {
    "ExecuteTime": {
     "end_time": "2024-11-07T10:38:32.468116Z",
     "start_time": "2024-11-07T10:38:31.129494Z"
    }
   },
   "outputs": [
    {
     "name": "stdout",
     "output_type": "stream",
     "text": [
      "______________________________________________________________________\n",
      "                                TRAIN                                 \n",
      "----------------------------------------------------------------------\n",
      "              precision    recall  f1-score   support\n",
      "\n",
      "           1       1.00      0.99      1.00      9981\n",
      "           2       1.00      1.00      1.00    232862\n",
      "           3       1.00      1.00      1.00     55125\n",
      "           4       1.00      1.00      1.00    118806\n",
      "           5       1.00      1.00      1.00     38624\n",
      "           6       1.00      1.00      1.00      3369\n",
      "           7       1.00      1.00      1.00        77\n",
      "           8       1.00      1.00      1.00       376\n",
      "\n",
      "    accuracy                           1.00    459220\n",
      "   macro avg       1.00      1.00      1.00    459220\n",
      "weighted avg       1.00      1.00      1.00    459220\n",
      "\n",
      "______________________________________________________________________\n",
      "                                VALIDATION                                 \n",
      "----------------------------------------------------------------------\n",
      "              precision    recall  f1-score   support\n",
      "\n",
      "           1       0.73      0.49      0.59      2495\n",
      "           2       0.85      0.96      0.90     58216\n",
      "           3       0.51      0.09      0.16     13781\n",
      "           4       0.70      0.89      0.78     29701\n",
      "           5       0.74      0.56      0.63      9656\n",
      "           6       0.00      0.00      0.00       842\n",
      "           7       0.00      0.00      0.00        20\n",
      "           8       0.43      0.03      0.06        94\n",
      "\n",
      "    accuracy                           0.79    114805\n",
      "   macro avg       0.49      0.38      0.39    114805\n",
      "weighted avg       0.75      0.79      0.75    114805\n",
      "\n"
     ]
    }
   ],
   "source": [
    "m.metrics(y_train, train_pred_rf , y_val, val_pred_rf)"
   ]
  },
  {
   "cell_type": "markdown",
   "id": "58a91003",
   "metadata": {},
   "source": [
    "**Gradient Boosting Classifier**"
   ]
  },
  {
   "cell_type": "code",
   "execution_count": 21,
   "id": "5934afdf",
   "metadata": {
    "ExecuteTime": {
     "end_time": "2024-11-07T10:52:47.135420Z",
     "start_time": "2024-11-07T10:38:53.920026Z"
    }
   },
   "outputs": [
    {
     "data": {
      "text/html": [
       "<style>#sk-container-id-5 {color: black;background-color: white;}#sk-container-id-5 pre{padding: 0;}#sk-container-id-5 div.sk-toggleable {background-color: white;}#sk-container-id-5 label.sk-toggleable__label {cursor: pointer;display: block;width: 100%;margin-bottom: 0;padding: 0.3em;box-sizing: border-box;text-align: center;}#sk-container-id-5 label.sk-toggleable__label-arrow:before {content: \"▸\";float: left;margin-right: 0.25em;color: #696969;}#sk-container-id-5 label.sk-toggleable__label-arrow:hover:before {color: black;}#sk-container-id-5 div.sk-estimator:hover label.sk-toggleable__label-arrow:before {color: black;}#sk-container-id-5 div.sk-toggleable__content {max-height: 0;max-width: 0;overflow: hidden;text-align: left;background-color: #f0f8ff;}#sk-container-id-5 div.sk-toggleable__content pre {margin: 0.2em;color: black;border-radius: 0.25em;background-color: #f0f8ff;}#sk-container-id-5 input.sk-toggleable__control:checked~div.sk-toggleable__content {max-height: 200px;max-width: 100%;overflow: auto;}#sk-container-id-5 input.sk-toggleable__control:checked~label.sk-toggleable__label-arrow:before {content: \"▾\";}#sk-container-id-5 div.sk-estimator input.sk-toggleable__control:checked~label.sk-toggleable__label {background-color: #d4ebff;}#sk-container-id-5 div.sk-label input.sk-toggleable__control:checked~label.sk-toggleable__label {background-color: #d4ebff;}#sk-container-id-5 input.sk-hidden--visually {border: 0;clip: rect(1px 1px 1px 1px);clip: rect(1px, 1px, 1px, 1px);height: 1px;margin: -1px;overflow: hidden;padding: 0;position: absolute;width: 1px;}#sk-container-id-5 div.sk-estimator {font-family: monospace;background-color: #f0f8ff;border: 1px dotted black;border-radius: 0.25em;box-sizing: border-box;margin-bottom: 0.5em;}#sk-container-id-5 div.sk-estimator:hover {background-color: #d4ebff;}#sk-container-id-5 div.sk-parallel-item::after {content: \"\";width: 100%;border-bottom: 1px solid gray;flex-grow: 1;}#sk-container-id-5 div.sk-label:hover label.sk-toggleable__label {background-color: #d4ebff;}#sk-container-id-5 div.sk-serial::before {content: \"\";position: absolute;border-left: 1px solid gray;box-sizing: border-box;top: 0;bottom: 0;left: 50%;z-index: 0;}#sk-container-id-5 div.sk-serial {display: flex;flex-direction: column;align-items: center;background-color: white;padding-right: 0.2em;padding-left: 0.2em;position: relative;}#sk-container-id-5 div.sk-item {position: relative;z-index: 1;}#sk-container-id-5 div.sk-parallel {display: flex;align-items: stretch;justify-content: center;background-color: white;position: relative;}#sk-container-id-5 div.sk-item::before, #sk-container-id-5 div.sk-parallel-item::before {content: \"\";position: absolute;border-left: 1px solid gray;box-sizing: border-box;top: 0;bottom: 0;left: 50%;z-index: -1;}#sk-container-id-5 div.sk-parallel-item {display: flex;flex-direction: column;z-index: 1;position: relative;background-color: white;}#sk-container-id-5 div.sk-parallel-item:first-child::after {align-self: flex-end;width: 50%;}#sk-container-id-5 div.sk-parallel-item:last-child::after {align-self: flex-start;width: 50%;}#sk-container-id-5 div.sk-parallel-item:only-child::after {width: 0;}#sk-container-id-5 div.sk-dashed-wrapped {border: 1px dashed gray;margin: 0 0.4em 0.5em 0.4em;box-sizing: border-box;padding-bottom: 0.4em;background-color: white;}#sk-container-id-5 div.sk-label label {font-family: monospace;font-weight: bold;display: inline-block;line-height: 1.2em;}#sk-container-id-5 div.sk-label-container {text-align: center;}#sk-container-id-5 div.sk-container {/* jupyter's `normalize.less` sets `[hidden] { display: none; }` but bootstrap.min.css set `[hidden] { display: none !important; }` so we also need the `!important` here to be able to override the default hidden behavior on the sphinx rendered scikit-learn.org. See: https://github.com/scikit-learn/scikit-learn/issues/21755 */display: inline-block !important;position: relative;}#sk-container-id-5 div.sk-text-repr-fallback {display: none;}</style><div id=\"sk-container-id-5\" class=\"sk-top-container\"><div class=\"sk-text-repr-fallback\"><pre>GradientBoostingClassifier()</pre><b>In a Jupyter environment, please rerun this cell to show the HTML representation or trust the notebook. <br />On GitHub, the HTML representation is unable to render, please try loading this page with nbviewer.org.</b></div><div class=\"sk-container\" hidden><div class=\"sk-item\"><div class=\"sk-estimator sk-toggleable\"><input class=\"sk-toggleable__control sk-hidden--visually\" id=\"sk-estimator-id-5\" type=\"checkbox\" checked><label for=\"sk-estimator-id-5\" class=\"sk-toggleable__label sk-toggleable__label-arrow\">GradientBoostingClassifier</label><div class=\"sk-toggleable__content\"><pre>GradientBoostingClassifier()</pre></div></div></div></div></div>"
      ],
      "text/plain": [
       "GradientBoostingClassifier()"
      ]
     },
     "execution_count": 21,
     "metadata": {},
     "output_type": "execute_result"
    }
   ],
   "source": [
    "gb = GradientBoostingClassifier()\n",
    "gb.fit(X_train, y_train)"
   ]
  },
  {
   "cell_type": "code",
   "execution_count": 22,
   "id": "0228a30b",
   "metadata": {
    "ExecuteTime": {
     "end_time": "2024-11-07T10:52:56.649658Z",
     "start_time": "2024-11-07T10:52:47.139212Z"
    }
   },
   "outputs": [],
   "source": [
    "train_pred_gb = gb.predict(X_train)\n",
    "val_pred_gb = gb.predict(X_val)"
   ]
  },
  {
   "cell_type": "code",
   "execution_count": 23,
   "id": "727abc01",
   "metadata": {
    "ExecuteTime": {
     "end_time": "2024-11-07T10:52:57.967415Z",
     "start_time": "2024-11-07T10:52:56.652432Z"
    }
   },
   "outputs": [
    {
     "name": "stdout",
     "output_type": "stream",
     "text": [
      "______________________________________________________________________\n",
      "                                TRAIN                                 \n",
      "----------------------------------------------------------------------\n",
      "              precision    recall  f1-score   support\n",
      "\n",
      "           1       0.72      0.47      0.57      9981\n",
      "           2       0.85      0.96      0.90    232862\n",
      "           3       0.50      0.06      0.11     55125\n",
      "           4       0.69      0.88      0.77    118806\n",
      "           5       0.70      0.56      0.62     38624\n",
      "           6       0.67      0.00      0.01      3369\n",
      "           7       0.77      0.22      0.34        77\n",
      "           8       0.23      0.09      0.13       376\n",
      "\n",
      "    accuracy                           0.78    459220\n",
      "   macro avg       0.64      0.40      0.43    459220\n",
      "weighted avg       0.75      0.78      0.74    459220\n",
      "\n",
      "______________________________________________________________________\n",
      "                                VALIDATION                                 \n",
      "----------------------------------------------------------------------\n",
      "              precision    recall  f1-score   support\n",
      "\n",
      "           1       0.72      0.48      0.58      2495\n",
      "           2       0.85      0.96      0.90     58216\n",
      "           3       0.50      0.06      0.11     13781\n",
      "           4       0.69      0.88      0.77     29701\n",
      "           5       0.70      0.55      0.62      9656\n",
      "           6       0.33      0.00      0.00       842\n",
      "           7       0.00      0.00      0.00        20\n",
      "           8       0.23      0.06      0.10        94\n",
      "\n",
      "    accuracy                           0.78    114805\n",
      "   macro avg       0.50      0.37      0.39    114805\n",
      "weighted avg       0.74      0.78      0.73    114805\n",
      "\n"
     ]
    }
   ],
   "source": [
    "m.metrics(y_train, train_pred_gb , y_val, val_pred_gb)"
   ]
  },
  {
   "cell_type": "markdown",
   "id": "cae41d88",
   "metadata": {},
   "source": [
    "**AdaBoost Classifier**"
   ]
  },
  {
   "cell_type": "code",
   "execution_count": 25,
   "id": "5a09f977",
   "metadata": {
    "ExecuteTime": {
     "end_time": "2024-11-07T11:03:47.572528Z",
     "start_time": "2024-11-07T11:03:19.953595Z"
    }
   },
   "outputs": [
    {
     "data": {
      "text/html": [
       "<style>#sk-container-id-6 {color: black;background-color: white;}#sk-container-id-6 pre{padding: 0;}#sk-container-id-6 div.sk-toggleable {background-color: white;}#sk-container-id-6 label.sk-toggleable__label {cursor: pointer;display: block;width: 100%;margin-bottom: 0;padding: 0.3em;box-sizing: border-box;text-align: center;}#sk-container-id-6 label.sk-toggleable__label-arrow:before {content: \"▸\";float: left;margin-right: 0.25em;color: #696969;}#sk-container-id-6 label.sk-toggleable__label-arrow:hover:before {color: black;}#sk-container-id-6 div.sk-estimator:hover label.sk-toggleable__label-arrow:before {color: black;}#sk-container-id-6 div.sk-toggleable__content {max-height: 0;max-width: 0;overflow: hidden;text-align: left;background-color: #f0f8ff;}#sk-container-id-6 div.sk-toggleable__content pre {margin: 0.2em;color: black;border-radius: 0.25em;background-color: #f0f8ff;}#sk-container-id-6 input.sk-toggleable__control:checked~div.sk-toggleable__content {max-height: 200px;max-width: 100%;overflow: auto;}#sk-container-id-6 input.sk-toggleable__control:checked~label.sk-toggleable__label-arrow:before {content: \"▾\";}#sk-container-id-6 div.sk-estimator input.sk-toggleable__control:checked~label.sk-toggleable__label {background-color: #d4ebff;}#sk-container-id-6 div.sk-label input.sk-toggleable__control:checked~label.sk-toggleable__label {background-color: #d4ebff;}#sk-container-id-6 input.sk-hidden--visually {border: 0;clip: rect(1px 1px 1px 1px);clip: rect(1px, 1px, 1px, 1px);height: 1px;margin: -1px;overflow: hidden;padding: 0;position: absolute;width: 1px;}#sk-container-id-6 div.sk-estimator {font-family: monospace;background-color: #f0f8ff;border: 1px dotted black;border-radius: 0.25em;box-sizing: border-box;margin-bottom: 0.5em;}#sk-container-id-6 div.sk-estimator:hover {background-color: #d4ebff;}#sk-container-id-6 div.sk-parallel-item::after {content: \"\";width: 100%;border-bottom: 1px solid gray;flex-grow: 1;}#sk-container-id-6 div.sk-label:hover label.sk-toggleable__label {background-color: #d4ebff;}#sk-container-id-6 div.sk-serial::before {content: \"\";position: absolute;border-left: 1px solid gray;box-sizing: border-box;top: 0;bottom: 0;left: 50%;z-index: 0;}#sk-container-id-6 div.sk-serial {display: flex;flex-direction: column;align-items: center;background-color: white;padding-right: 0.2em;padding-left: 0.2em;position: relative;}#sk-container-id-6 div.sk-item {position: relative;z-index: 1;}#sk-container-id-6 div.sk-parallel {display: flex;align-items: stretch;justify-content: center;background-color: white;position: relative;}#sk-container-id-6 div.sk-item::before, #sk-container-id-6 div.sk-parallel-item::before {content: \"\";position: absolute;border-left: 1px solid gray;box-sizing: border-box;top: 0;bottom: 0;left: 50%;z-index: -1;}#sk-container-id-6 div.sk-parallel-item {display: flex;flex-direction: column;z-index: 1;position: relative;background-color: white;}#sk-container-id-6 div.sk-parallel-item:first-child::after {align-self: flex-end;width: 50%;}#sk-container-id-6 div.sk-parallel-item:last-child::after {align-self: flex-start;width: 50%;}#sk-container-id-6 div.sk-parallel-item:only-child::after {width: 0;}#sk-container-id-6 div.sk-dashed-wrapped {border: 1px dashed gray;margin: 0 0.4em 0.5em 0.4em;box-sizing: border-box;padding-bottom: 0.4em;background-color: white;}#sk-container-id-6 div.sk-label label {font-family: monospace;font-weight: bold;display: inline-block;line-height: 1.2em;}#sk-container-id-6 div.sk-label-container {text-align: center;}#sk-container-id-6 div.sk-container {/* jupyter's `normalize.less` sets `[hidden] { display: none; }` but bootstrap.min.css set `[hidden] { display: none !important; }` so we also need the `!important` here to be able to override the default hidden behavior on the sphinx rendered scikit-learn.org. See: https://github.com/scikit-learn/scikit-learn/issues/21755 */display: inline-block !important;position: relative;}#sk-container-id-6 div.sk-text-repr-fallback {display: none;}</style><div id=\"sk-container-id-6\" class=\"sk-top-container\"><div class=\"sk-text-repr-fallback\"><pre>AdaBoostClassifier()</pre><b>In a Jupyter environment, please rerun this cell to show the HTML representation or trust the notebook. <br />On GitHub, the HTML representation is unable to render, please try loading this page with nbviewer.org.</b></div><div class=\"sk-container\" hidden><div class=\"sk-item\"><div class=\"sk-estimator sk-toggleable\"><input class=\"sk-toggleable__control sk-hidden--visually\" id=\"sk-estimator-id-6\" type=\"checkbox\" checked><label for=\"sk-estimator-id-6\" class=\"sk-toggleable__label sk-toggleable__label-arrow\">AdaBoostClassifier</label><div class=\"sk-toggleable__content\"><pre>AdaBoostClassifier()</pre></div></div></div></div></div>"
      ],
      "text/plain": [
       "AdaBoostClassifier()"
      ]
     },
     "execution_count": 25,
     "metadata": {},
     "output_type": "execute_result"
    }
   ],
   "source": [
    "ab = AdaBoostClassifier()\n",
    "ab.fit(X_train, y_train)"
   ]
  },
  {
   "cell_type": "code",
   "execution_count": 26,
   "id": "f35e6577",
   "metadata": {
    "ExecuteTime": {
     "end_time": "2024-11-07T11:03:54.209612Z",
     "start_time": "2024-11-07T11:03:47.575814Z"
    }
   },
   "outputs": [],
   "source": [
    "train_pred_ab = ab.predict(X_train)\n",
    "val_pred_ab = ab.predict(X_val)"
   ]
  },
  {
   "cell_type": "code",
   "execution_count": 27,
   "id": "9f81b0db",
   "metadata": {
    "ExecuteTime": {
     "end_time": "2024-11-07T11:03:55.547241Z",
     "start_time": "2024-11-07T11:03:54.212400Z"
    }
   },
   "outputs": [
    {
     "name": "stdout",
     "output_type": "stream",
     "text": [
      "______________________________________________________________________\n",
      "                                TRAIN                                 \n",
      "----------------------------------------------------------------------\n",
      "              precision    recall  f1-score   support\n",
      "\n",
      "           1       0.19      0.57      0.29      9981\n",
      "           2       0.84      0.88      0.86    232862\n",
      "           3       0.50      0.02      0.04     55125\n",
      "           4       0.64      0.86      0.74    118806\n",
      "           5       0.56      0.35      0.43     38624\n",
      "           6       0.00      0.00      0.00      3369\n",
      "           7       0.00      0.00      0.00        77\n",
      "           8       0.12      0.63      0.21       376\n",
      "\n",
      "    accuracy                           0.71    459220\n",
      "   macro avg       0.36      0.41      0.32    459220\n",
      "weighted avg       0.71      0.71      0.67    459220\n",
      "\n",
      "______________________________________________________________________\n",
      "                                VALIDATION                                 \n",
      "----------------------------------------------------------------------\n",
      "              precision    recall  f1-score   support\n",
      "\n",
      "           1       0.19      0.58      0.29      2495\n",
      "           2       0.84      0.88      0.86     58216\n",
      "           3       0.47      0.02      0.04     13781\n",
      "           4       0.65      0.86      0.74     29701\n",
      "           5       0.56      0.35      0.43      9656\n",
      "           6       0.00      0.00      0.00       842\n",
      "           7       0.00      0.00      0.00        20\n",
      "           8       0.12      0.61      0.20        94\n",
      "\n",
      "    accuracy                           0.71    114805\n",
      "   macro avg       0.35      0.41      0.32    114805\n",
      "weighted avg       0.70      0.71      0.67    114805\n",
      "\n"
     ]
    }
   ],
   "source": [
    "m.metrics(y_train, train_pred_ab , y_val, val_pred_ab)"
   ]
  },
  {
   "cell_type": "markdown",
   "id": "c995d675",
   "metadata": {},
   "source": [
    "**SVC**"
   ]
  },
  {
   "cell_type": "code",
   "execution_count": null,
   "id": "42d00baf",
   "metadata": {
    "ExecuteTime": {
     "start_time": "2024-11-07T11:03:21.341Z"
    }
   },
   "outputs": [],
   "source": [
    "svc = SVC()\n",
    "svc.fit(X_train, y_train)"
   ]
  },
  {
   "cell_type": "code",
   "execution_count": null,
   "id": "318f5cea",
   "metadata": {
    "ExecuteTime": {
     "start_time": "2024-11-07T11:03:21.638Z"
    }
   },
   "outputs": [],
   "source": [
    "train_pred_svc = svc.predict(X_train)\n",
    "val_pred_svc = svc.predict(X_val)"
   ]
  },
  {
   "cell_type": "code",
   "execution_count": null,
   "id": "d902534e",
   "metadata": {
    "ExecuteTime": {
     "start_time": "2024-11-07T11:03:21.950Z"
    }
   },
   "outputs": [],
   "source": [
    "m.metrics(y_train, train_pred_svc , y_val, val_pred_svc)"
   ]
  },
  {
   "cell_type": "markdown",
   "id": "9716d56b",
   "metadata": {},
   "source": [
    "**Gaussian Process Classifier**"
   ]
  },
  {
   "cell_type": "code",
   "execution_count": null,
   "id": "ac411eb5",
   "metadata": {},
   "outputs": [],
   "source": [
    "## kills the kernel"
   ]
  },
  {
   "cell_type": "code",
   "execution_count": null,
   "id": "6b250883",
   "metadata": {
    "ExecuteTime": {
     "start_time": "2024-11-07T13:40:57.585Z"
    }
   },
   "outputs": [],
   "source": [
    "# gau_p = GaussianProcessClassifier()\n",
    "# gau_p.fit(X_train, y_train)"
   ]
  },
  {
   "cell_type": "code",
   "execution_count": null,
   "id": "4b531ef3",
   "metadata": {
    "ExecuteTime": {
     "start_time": "2024-11-07T13:40:57.818Z"
    }
   },
   "outputs": [],
   "source": [
    "# train_pred_gau_p = gau_p.predict(X_train)\n",
    "# val_pred_gau_p = gau_p.predict(X_val)"
   ]
  },
  {
   "cell_type": "code",
   "execution_count": null,
   "id": "b9bfa8d6",
   "metadata": {
    "ExecuteTime": {
     "start_time": "2024-11-07T13:40:58.062Z"
    }
   },
   "outputs": [],
   "source": [
    "# metrics(y_train, train_pred_gau_p , y_val, val_pred_gau_p)"
   ]
  },
  {
   "cell_type": "markdown",
   "id": "fba09e98",
   "metadata": {},
   "source": [
    "**Linear Discriminant Analysis**"
   ]
  },
  {
   "cell_type": "code",
   "execution_count": 4,
   "id": "6a9ea5bd",
   "metadata": {
    "ExecuteTime": {
     "end_time": "2024-11-07T13:43:15.803862Z",
     "start_time": "2024-11-07T13:43:13.868514Z"
    }
   },
   "outputs": [
    {
     "data": {
      "text/html": [
       "<style>#sk-container-id-1 {color: black;background-color: white;}#sk-container-id-1 pre{padding: 0;}#sk-container-id-1 div.sk-toggleable {background-color: white;}#sk-container-id-1 label.sk-toggleable__label {cursor: pointer;display: block;width: 100%;margin-bottom: 0;padding: 0.3em;box-sizing: border-box;text-align: center;}#sk-container-id-1 label.sk-toggleable__label-arrow:before {content: \"▸\";float: left;margin-right: 0.25em;color: #696969;}#sk-container-id-1 label.sk-toggleable__label-arrow:hover:before {color: black;}#sk-container-id-1 div.sk-estimator:hover label.sk-toggleable__label-arrow:before {color: black;}#sk-container-id-1 div.sk-toggleable__content {max-height: 0;max-width: 0;overflow: hidden;text-align: left;background-color: #f0f8ff;}#sk-container-id-1 div.sk-toggleable__content pre {margin: 0.2em;color: black;border-radius: 0.25em;background-color: #f0f8ff;}#sk-container-id-1 input.sk-toggleable__control:checked~div.sk-toggleable__content {max-height: 200px;max-width: 100%;overflow: auto;}#sk-container-id-1 input.sk-toggleable__control:checked~label.sk-toggleable__label-arrow:before {content: \"▾\";}#sk-container-id-1 div.sk-estimator input.sk-toggleable__control:checked~label.sk-toggleable__label {background-color: #d4ebff;}#sk-container-id-1 div.sk-label input.sk-toggleable__control:checked~label.sk-toggleable__label {background-color: #d4ebff;}#sk-container-id-1 input.sk-hidden--visually {border: 0;clip: rect(1px 1px 1px 1px);clip: rect(1px, 1px, 1px, 1px);height: 1px;margin: -1px;overflow: hidden;padding: 0;position: absolute;width: 1px;}#sk-container-id-1 div.sk-estimator {font-family: monospace;background-color: #f0f8ff;border: 1px dotted black;border-radius: 0.25em;box-sizing: border-box;margin-bottom: 0.5em;}#sk-container-id-1 div.sk-estimator:hover {background-color: #d4ebff;}#sk-container-id-1 div.sk-parallel-item::after {content: \"\";width: 100%;border-bottom: 1px solid gray;flex-grow: 1;}#sk-container-id-1 div.sk-label:hover label.sk-toggleable__label {background-color: #d4ebff;}#sk-container-id-1 div.sk-serial::before {content: \"\";position: absolute;border-left: 1px solid gray;box-sizing: border-box;top: 0;bottom: 0;left: 50%;z-index: 0;}#sk-container-id-1 div.sk-serial {display: flex;flex-direction: column;align-items: center;background-color: white;padding-right: 0.2em;padding-left: 0.2em;position: relative;}#sk-container-id-1 div.sk-item {position: relative;z-index: 1;}#sk-container-id-1 div.sk-parallel {display: flex;align-items: stretch;justify-content: center;background-color: white;position: relative;}#sk-container-id-1 div.sk-item::before, #sk-container-id-1 div.sk-parallel-item::before {content: \"\";position: absolute;border-left: 1px solid gray;box-sizing: border-box;top: 0;bottom: 0;left: 50%;z-index: -1;}#sk-container-id-1 div.sk-parallel-item {display: flex;flex-direction: column;z-index: 1;position: relative;background-color: white;}#sk-container-id-1 div.sk-parallel-item:first-child::after {align-self: flex-end;width: 50%;}#sk-container-id-1 div.sk-parallel-item:last-child::after {align-self: flex-start;width: 50%;}#sk-container-id-1 div.sk-parallel-item:only-child::after {width: 0;}#sk-container-id-1 div.sk-dashed-wrapped {border: 1px dashed gray;margin: 0 0.4em 0.5em 0.4em;box-sizing: border-box;padding-bottom: 0.4em;background-color: white;}#sk-container-id-1 div.sk-label label {font-family: monospace;font-weight: bold;display: inline-block;line-height: 1.2em;}#sk-container-id-1 div.sk-label-container {text-align: center;}#sk-container-id-1 div.sk-container {/* jupyter's `normalize.less` sets `[hidden] { display: none; }` but bootstrap.min.css set `[hidden] { display: none !important; }` so we also need the `!important` here to be able to override the default hidden behavior on the sphinx rendered scikit-learn.org. See: https://github.com/scikit-learn/scikit-learn/issues/21755 */display: inline-block !important;position: relative;}#sk-container-id-1 div.sk-text-repr-fallback {display: none;}</style><div id=\"sk-container-id-1\" class=\"sk-top-container\"><div class=\"sk-text-repr-fallback\"><pre>LinearDiscriminantAnalysis()</pre><b>In a Jupyter environment, please rerun this cell to show the HTML representation or trust the notebook. <br />On GitHub, the HTML representation is unable to render, please try loading this page with nbviewer.org.</b></div><div class=\"sk-container\" hidden><div class=\"sk-item\"><div class=\"sk-estimator sk-toggleable\"><input class=\"sk-toggleable__control sk-hidden--visually\" id=\"sk-estimator-id-1\" type=\"checkbox\" checked><label for=\"sk-estimator-id-1\" class=\"sk-toggleable__label sk-toggleable__label-arrow\">LinearDiscriminantAnalysis</label><div class=\"sk-toggleable__content\"><pre>LinearDiscriminantAnalysis()</pre></div></div></div></div></div>"
      ],
      "text/plain": [
       "LinearDiscriminantAnalysis()"
      ]
     },
     "execution_count": 4,
     "metadata": {},
     "output_type": "execute_result"
    }
   ],
   "source": [
    "lda = LinearDiscriminantAnalysis()\n",
    "lda.fit(X_train, y_train)"
   ]
  },
  {
   "cell_type": "code",
   "execution_count": 5,
   "id": "32563368",
   "metadata": {
    "ExecuteTime": {
     "end_time": "2024-11-07T13:43:15.905687Z",
     "start_time": "2024-11-07T13:43:15.807886Z"
    }
   },
   "outputs": [],
   "source": [
    "train_pred_lda = lda.predict(X_train)\n",
    "val_pred_lda = lda.predict(X_val)"
   ]
  },
  {
   "cell_type": "code",
   "execution_count": 7,
   "id": "ca30b373",
   "metadata": {
    "ExecuteTime": {
     "end_time": "2024-11-07T13:43:22.493198Z",
     "start_time": "2024-11-07T13:43:21.161925Z"
    }
   },
   "outputs": [
    {
     "name": "stdout",
     "output_type": "stream",
     "text": [
      "______________________________________________________________________\n",
      "                                TRAIN                                 \n",
      "----------------------------------------------------------------------\n",
      "              precision    recall  f1-score   support\n",
      "\n",
      "           1       0.41      0.39      0.40      9981\n",
      "           2       0.69      0.93      0.79    232862\n",
      "           3       0.29      0.02      0.03     55125\n",
      "           4       0.55      0.44      0.49    118806\n",
      "           5       0.48      0.38      0.43     38624\n",
      "           6       0.08      0.15      0.11      3369\n",
      "           7       0.00      0.00      0.00        77\n",
      "           8       0.09      0.59      0.15       376\n",
      "\n",
      "    accuracy                           0.63    459220\n",
      "   macro avg       0.32      0.36      0.30    459220\n",
      "weighted avg       0.58      0.63      0.58    459220\n",
      "\n",
      "______________________________________________________________________\n",
      "                                VALIDATION                                 \n",
      "----------------------------------------------------------------------\n",
      "              precision    recall  f1-score   support\n",
      "\n",
      "           1       0.42      0.41      0.41      2495\n",
      "           2       0.69      0.93      0.79     58216\n",
      "           3       0.28      0.02      0.03     13781\n",
      "           4       0.55      0.45      0.49     29701\n",
      "           5       0.48      0.38      0.42      9656\n",
      "           6       0.08      0.13      0.10       842\n",
      "           7       0.00      0.00      0.00        20\n",
      "           8       0.08      0.50      0.13        94\n",
      "\n",
      "    accuracy                           0.63    114805\n",
      "   macro avg       0.32      0.35      0.30    114805\n",
      "weighted avg       0.58      0.63      0.58    114805\n",
      "\n"
     ]
    }
   ],
   "source": [
    "m.metrics(y_train, train_pred_lda , y_val, val_pred_lda)"
   ]
  },
  {
   "cell_type": "markdown",
   "id": "25781b51",
   "metadata": {},
   "source": [
    "**Quadratic Discriminant Analysis**"
   ]
  },
  {
   "cell_type": "code",
   "execution_count": 8,
   "id": "aabd854a",
   "metadata": {
    "ExecuteTime": {
     "end_time": "2024-11-07T13:43:49.613867Z",
     "start_time": "2024-11-07T13:43:49.082684Z"
    }
   },
   "outputs": [
    {
     "data": {
      "text/html": [
       "<style>#sk-container-id-2 {color: black;background-color: white;}#sk-container-id-2 pre{padding: 0;}#sk-container-id-2 div.sk-toggleable {background-color: white;}#sk-container-id-2 label.sk-toggleable__label {cursor: pointer;display: block;width: 100%;margin-bottom: 0;padding: 0.3em;box-sizing: border-box;text-align: center;}#sk-container-id-2 label.sk-toggleable__label-arrow:before {content: \"▸\";float: left;margin-right: 0.25em;color: #696969;}#sk-container-id-2 label.sk-toggleable__label-arrow:hover:before {color: black;}#sk-container-id-2 div.sk-estimator:hover label.sk-toggleable__label-arrow:before {color: black;}#sk-container-id-2 div.sk-toggleable__content {max-height: 0;max-width: 0;overflow: hidden;text-align: left;background-color: #f0f8ff;}#sk-container-id-2 div.sk-toggleable__content pre {margin: 0.2em;color: black;border-radius: 0.25em;background-color: #f0f8ff;}#sk-container-id-2 input.sk-toggleable__control:checked~div.sk-toggleable__content {max-height: 200px;max-width: 100%;overflow: auto;}#sk-container-id-2 input.sk-toggleable__control:checked~label.sk-toggleable__label-arrow:before {content: \"▾\";}#sk-container-id-2 div.sk-estimator input.sk-toggleable__control:checked~label.sk-toggleable__label {background-color: #d4ebff;}#sk-container-id-2 div.sk-label input.sk-toggleable__control:checked~label.sk-toggleable__label {background-color: #d4ebff;}#sk-container-id-2 input.sk-hidden--visually {border: 0;clip: rect(1px 1px 1px 1px);clip: rect(1px, 1px, 1px, 1px);height: 1px;margin: -1px;overflow: hidden;padding: 0;position: absolute;width: 1px;}#sk-container-id-2 div.sk-estimator {font-family: monospace;background-color: #f0f8ff;border: 1px dotted black;border-radius: 0.25em;box-sizing: border-box;margin-bottom: 0.5em;}#sk-container-id-2 div.sk-estimator:hover {background-color: #d4ebff;}#sk-container-id-2 div.sk-parallel-item::after {content: \"\";width: 100%;border-bottom: 1px solid gray;flex-grow: 1;}#sk-container-id-2 div.sk-label:hover label.sk-toggleable__label {background-color: #d4ebff;}#sk-container-id-2 div.sk-serial::before {content: \"\";position: absolute;border-left: 1px solid gray;box-sizing: border-box;top: 0;bottom: 0;left: 50%;z-index: 0;}#sk-container-id-2 div.sk-serial {display: flex;flex-direction: column;align-items: center;background-color: white;padding-right: 0.2em;padding-left: 0.2em;position: relative;}#sk-container-id-2 div.sk-item {position: relative;z-index: 1;}#sk-container-id-2 div.sk-parallel {display: flex;align-items: stretch;justify-content: center;background-color: white;position: relative;}#sk-container-id-2 div.sk-item::before, #sk-container-id-2 div.sk-parallel-item::before {content: \"\";position: absolute;border-left: 1px solid gray;box-sizing: border-box;top: 0;bottom: 0;left: 50%;z-index: -1;}#sk-container-id-2 div.sk-parallel-item {display: flex;flex-direction: column;z-index: 1;position: relative;background-color: white;}#sk-container-id-2 div.sk-parallel-item:first-child::after {align-self: flex-end;width: 50%;}#sk-container-id-2 div.sk-parallel-item:last-child::after {align-self: flex-start;width: 50%;}#sk-container-id-2 div.sk-parallel-item:only-child::after {width: 0;}#sk-container-id-2 div.sk-dashed-wrapped {border: 1px dashed gray;margin: 0 0.4em 0.5em 0.4em;box-sizing: border-box;padding-bottom: 0.4em;background-color: white;}#sk-container-id-2 div.sk-label label {font-family: monospace;font-weight: bold;display: inline-block;line-height: 1.2em;}#sk-container-id-2 div.sk-label-container {text-align: center;}#sk-container-id-2 div.sk-container {/* jupyter's `normalize.less` sets `[hidden] { display: none; }` but bootstrap.min.css set `[hidden] { display: none !important; }` so we also need the `!important` here to be able to override the default hidden behavior on the sphinx rendered scikit-learn.org. See: https://github.com/scikit-learn/scikit-learn/issues/21755 */display: inline-block !important;position: relative;}#sk-container-id-2 div.sk-text-repr-fallback {display: none;}</style><div id=\"sk-container-id-2\" class=\"sk-top-container\"><div class=\"sk-text-repr-fallback\"><pre>QuadraticDiscriminantAnalysis()</pre><b>In a Jupyter environment, please rerun this cell to show the HTML representation or trust the notebook. <br />On GitHub, the HTML representation is unable to render, please try loading this page with nbviewer.org.</b></div><div class=\"sk-container\" hidden><div class=\"sk-item\"><div class=\"sk-estimator sk-toggleable\"><input class=\"sk-toggleable__control sk-hidden--visually\" id=\"sk-estimator-id-2\" type=\"checkbox\" checked><label for=\"sk-estimator-id-2\" class=\"sk-toggleable__label sk-toggleable__label-arrow\">QuadraticDiscriminantAnalysis</label><div class=\"sk-toggleable__content\"><pre>QuadraticDiscriminantAnalysis()</pre></div></div></div></div></div>"
      ],
      "text/plain": [
       "QuadraticDiscriminantAnalysis()"
      ]
     },
     "execution_count": 8,
     "metadata": {},
     "output_type": "execute_result"
    }
   ],
   "source": [
    "qda = QuadraticDiscriminantAnalysis()\n",
    "qda.fit(X_train, y_train)"
   ]
  },
  {
   "cell_type": "code",
   "execution_count": 9,
   "id": "102143a5",
   "metadata": {
    "ExecuteTime": {
     "end_time": "2024-11-07T13:43:50.608764Z",
     "start_time": "2024-11-07T13:43:49.617705Z"
    }
   },
   "outputs": [],
   "source": [
    "train_pred_qda = qda.predict(X_train)\n",
    "val_pred_qda = qda.predict(X_val)"
   ]
  },
  {
   "cell_type": "code",
   "execution_count": 10,
   "id": "2c62d4a0",
   "metadata": {
    "ExecuteTime": {
     "end_time": "2024-11-07T13:43:51.994793Z",
     "start_time": "2024-11-07T13:43:50.612307Z"
    }
   },
   "outputs": [
    {
     "name": "stdout",
     "output_type": "stream",
     "text": [
      "______________________________________________________________________\n",
      "                                TRAIN                                 \n",
      "----------------------------------------------------------------------\n",
      "              precision    recall  f1-score   support\n",
      "\n",
      "           1       0.21      0.61      0.31      9981\n",
      "           2       0.73      0.88      0.80    232862\n",
      "           3       0.23      0.08      0.12     55125\n",
      "           4       0.56      0.05      0.10    118806\n",
      "           5       0.53      0.35      0.42     38624\n",
      "           6       0.04      0.40      0.07      3369\n",
      "           7       0.00      0.92      0.00        77\n",
      "           8       0.02      0.94      0.03       376\n",
      "\n",
      "    accuracy                           0.52    459220\n",
      "   macro avg       0.29      0.53      0.23    459220\n",
      "weighted avg       0.59      0.52      0.49    459220\n",
      "\n",
      "______________________________________________________________________\n",
      "                                VALIDATION                                 \n",
      "----------------------------------------------------------------------\n",
      "              precision    recall  f1-score   support\n",
      "\n",
      "           1       0.21      0.63      0.31      2495\n",
      "           2       0.73      0.88      0.80     58216\n",
      "           3       0.23      0.08      0.12     13781\n",
      "           4       0.56      0.06      0.10     29701\n",
      "           5       0.53      0.35      0.42      9656\n",
      "           6       0.04      0.43      0.07       842\n",
      "           7       0.00      0.70      0.00        20\n",
      "           8       0.02      0.94      0.03        94\n",
      "\n",
      "    accuracy                           0.52    114805\n",
      "   macro avg       0.29      0.51      0.23    114805\n",
      "weighted avg       0.59      0.52      0.49    114805\n",
      "\n"
     ]
    }
   ],
   "source": [
    "m.metrics(y_train, train_pred_qda , y_val, val_pred_qda)"
   ]
  },
  {
   "cell_type": "markdown",
   "id": "6e9c7ba9",
   "metadata": {},
   "source": [
    "**XGB Classifier**"
   ]
  },
  {
   "cell_type": "code",
   "execution_count": 13,
   "id": "0ccabe0d",
   "metadata": {
    "ExecuteTime": {
     "end_time": "2024-11-07T13:44:32.359483Z",
     "start_time": "2024-11-07T13:44:32.357110Z"
    }
   },
   "outputs": [],
   "source": [
    "# xgb = XGBClassifier()\n",
    "# xgb.fit(X_train, y_train)"
   ]
  },
  {
   "cell_type": "code",
   "execution_count": null,
   "id": "633d54ef",
   "metadata": {
    "ExecuteTime": {
     "end_time": "2024-11-07T13:44:11.287636Z",
     "start_time": "2024-11-07T13:44:11.287619Z"
    }
   },
   "outputs": [],
   "source": [
    "# train_pred_xgb = xgb.predict(X_train)\n",
    "# val_pred_xgb = xgb.predict(X_val)"
   ]
  },
  {
   "cell_type": "code",
   "execution_count": null,
   "id": "2bc62e36",
   "metadata": {
    "ExecuteTime": {
     "end_time": "2024-11-07T13:44:11.289849Z",
     "start_time": "2024-11-07T13:44:11.289827Z"
    }
   },
   "outputs": [],
   "source": [
    "# m.metrics(y_train, train_pred_xgb , y_val, val_pred_xgb)"
   ]
  },
  {
   "cell_type": "markdown",
   "id": "c312a219",
   "metadata": {},
   "source": [
    "**LGBM Classifier**"
   ]
  },
  {
   "cell_type": "code",
   "execution_count": null,
   "id": "bac31e84",
   "metadata": {},
   "outputs": [],
   "source": [
    "## kills the kernel"
   ]
  },
  {
   "cell_type": "code",
   "execution_count": null,
   "id": "ab7f35e4",
   "metadata": {
    "ExecuteTime": {
     "start_time": "2024-11-07T13:47:50.641Z"
    }
   },
   "outputs": [],
   "source": [
    "# lgbm = LGBMClassifier()\n",
    "# lgbm.fit(X_train, y_train)"
   ]
  },
  {
   "cell_type": "code",
   "execution_count": null,
   "id": "d6a9c8f5",
   "metadata": {
    "ExecuteTime": {
     "start_time": "2024-11-07T13:47:50.916Z"
    }
   },
   "outputs": [],
   "source": [
    "# train_pred_lgbm = lgbm.predict(X_train)\n",
    "# val_pred_lgbm = lgbm.predict(X_val)"
   ]
  },
  {
   "cell_type": "code",
   "execution_count": null,
   "id": "4627c8ca",
   "metadata": {
    "ExecuteTime": {
     "start_time": "2024-11-07T13:47:51.204Z"
    }
   },
   "outputs": [],
   "source": [
    "# m.metrics(y_train, train_pred_lgbm , y_val, val_pred_lgbm)"
   ]
  },
  {
   "cell_type": "markdown",
   "id": "fc0ff139",
   "metadata": {},
   "source": [
    "## 2.1 Hyperparameter Tuning\n",
    "\n",
    "<a href=\"#top\">Top &#129033;</a>"
   ]
  },
  {
   "cell_type": "code",
   "execution_count": null,
   "id": "a2b5ddc1",
   "metadata": {},
   "outputs": [],
   "source": []
  },
  {
   "cell_type": "markdown",
   "id": "67eeb05f",
   "metadata": {},
   "source": [
    "## 2.2 Combining Models\n",
    "\n",
    "<a href=\"#top\">Top &#129033;</a>"
   ]
  },
  {
   "cell_type": "code",
   "execution_count": 6,
   "id": "b220b6ca",
   "metadata": {
    "ExecuteTime": {
     "end_time": "2024-11-07T13:52:01.166794Z",
     "start_time": "2024-11-07T13:52:01.163027Z"
    }
   },
   "outputs": [],
   "source": [
    "from sklearn.ensemble import StackingClassifier, VotingClassifier\n",
    "\n",
    "from sklearn.calibration import CalibratedClassifierCV"
   ]
  },
  {
   "cell_type": "code",
   "execution_count": 27,
   "id": "f5fc701a",
   "metadata": {
    "ExecuteTime": {
     "end_time": "2024-11-07T14:54:25.431729Z",
     "start_time": "2024-11-07T14:54:25.426877Z"
    }
   },
   "outputs": [],
   "source": [
    "calibrated_sgd = CalibratedClassifierCV(SGDClassifier())\n",
    "\n",
    "estimators = [\n",
    "    ('sgd',calibrated_sgd),\n",
    "    ('rf', RandomForestClassifier()),\n",
    "    ('dt', DecisionTreeClassifier()),\n",
    "    ('gb', GradientBoostingClassifier()),\n",
    "    ('ab', AdaBoostClassifier()),\n",
    "]\n"
   ]
  },
  {
   "cell_type": "markdown",
   "id": "193a9b66",
   "metadata": {},
   "source": [
    "**Voting Classifier**"
   ]
  },
  {
   "cell_type": "code",
   "execution_count": 10,
   "id": "a2d6bbc7",
   "metadata": {
    "ExecuteTime": {
     "end_time": "2024-11-07T13:53:31.654629Z",
     "start_time": "2024-11-07T13:53:31.650731Z"
    }
   },
   "outputs": [],
   "source": [
    "\n",
    "voting_clf = VotingClassifier(estimators=estimators, voting='soft')"
   ]
  },
  {
   "cell_type": "code",
   "execution_count": 11,
   "id": "19c0cf5a",
   "metadata": {
    "ExecuteTime": {
     "end_time": "2024-11-07T14:34:50.064849Z",
     "start_time": "2024-11-07T13:53:32.260962Z"
    }
   },
   "outputs": [
    {
     "data": {
      "text/html": [
       "<style>#sk-container-id-1 {color: black;background-color: white;}#sk-container-id-1 pre{padding: 0;}#sk-container-id-1 div.sk-toggleable {background-color: white;}#sk-container-id-1 label.sk-toggleable__label {cursor: pointer;display: block;width: 100%;margin-bottom: 0;padding: 0.3em;box-sizing: border-box;text-align: center;}#sk-container-id-1 label.sk-toggleable__label-arrow:before {content: \"▸\";float: left;margin-right: 0.25em;color: #696969;}#sk-container-id-1 label.sk-toggleable__label-arrow:hover:before {color: black;}#sk-container-id-1 div.sk-estimator:hover label.sk-toggleable__label-arrow:before {color: black;}#sk-container-id-1 div.sk-toggleable__content {max-height: 0;max-width: 0;overflow: hidden;text-align: left;background-color: #f0f8ff;}#sk-container-id-1 div.sk-toggleable__content pre {margin: 0.2em;color: black;border-radius: 0.25em;background-color: #f0f8ff;}#sk-container-id-1 input.sk-toggleable__control:checked~div.sk-toggleable__content {max-height: 200px;max-width: 100%;overflow: auto;}#sk-container-id-1 input.sk-toggleable__control:checked~label.sk-toggleable__label-arrow:before {content: \"▾\";}#sk-container-id-1 div.sk-estimator input.sk-toggleable__control:checked~label.sk-toggleable__label {background-color: #d4ebff;}#sk-container-id-1 div.sk-label input.sk-toggleable__control:checked~label.sk-toggleable__label {background-color: #d4ebff;}#sk-container-id-1 input.sk-hidden--visually {border: 0;clip: rect(1px 1px 1px 1px);clip: rect(1px, 1px, 1px, 1px);height: 1px;margin: -1px;overflow: hidden;padding: 0;position: absolute;width: 1px;}#sk-container-id-1 div.sk-estimator {font-family: monospace;background-color: #f0f8ff;border: 1px dotted black;border-radius: 0.25em;box-sizing: border-box;margin-bottom: 0.5em;}#sk-container-id-1 div.sk-estimator:hover {background-color: #d4ebff;}#sk-container-id-1 div.sk-parallel-item::after {content: \"\";width: 100%;border-bottom: 1px solid gray;flex-grow: 1;}#sk-container-id-1 div.sk-label:hover label.sk-toggleable__label {background-color: #d4ebff;}#sk-container-id-1 div.sk-serial::before {content: \"\";position: absolute;border-left: 1px solid gray;box-sizing: border-box;top: 0;bottom: 0;left: 50%;z-index: 0;}#sk-container-id-1 div.sk-serial {display: flex;flex-direction: column;align-items: center;background-color: white;padding-right: 0.2em;padding-left: 0.2em;position: relative;}#sk-container-id-1 div.sk-item {position: relative;z-index: 1;}#sk-container-id-1 div.sk-parallel {display: flex;align-items: stretch;justify-content: center;background-color: white;position: relative;}#sk-container-id-1 div.sk-item::before, #sk-container-id-1 div.sk-parallel-item::before {content: \"\";position: absolute;border-left: 1px solid gray;box-sizing: border-box;top: 0;bottom: 0;left: 50%;z-index: -1;}#sk-container-id-1 div.sk-parallel-item {display: flex;flex-direction: column;z-index: 1;position: relative;background-color: white;}#sk-container-id-1 div.sk-parallel-item:first-child::after {align-self: flex-end;width: 50%;}#sk-container-id-1 div.sk-parallel-item:last-child::after {align-self: flex-start;width: 50%;}#sk-container-id-1 div.sk-parallel-item:only-child::after {width: 0;}#sk-container-id-1 div.sk-dashed-wrapped {border: 1px dashed gray;margin: 0 0.4em 0.5em 0.4em;box-sizing: border-box;padding-bottom: 0.4em;background-color: white;}#sk-container-id-1 div.sk-label label {font-family: monospace;font-weight: bold;display: inline-block;line-height: 1.2em;}#sk-container-id-1 div.sk-label-container {text-align: center;}#sk-container-id-1 div.sk-container {/* jupyter's `normalize.less` sets `[hidden] { display: none; }` but bootstrap.min.css set `[hidden] { display: none !important; }` so we also need the `!important` here to be able to override the default hidden behavior on the sphinx rendered scikit-learn.org. See: https://github.com/scikit-learn/scikit-learn/issues/21755 */display: inline-block !important;position: relative;}#sk-container-id-1 div.sk-text-repr-fallback {display: none;}</style><div id=\"sk-container-id-1\" class=\"sk-top-container\"><div class=\"sk-text-repr-fallback\"><pre>VotingClassifier(estimators=[(&#x27;sgd&#x27;,\n",
       "                              CalibratedClassifierCV(estimator=SGDClassifier())),\n",
       "                             (&#x27;rf&#x27;, RandomForestClassifier()),\n",
       "                             (&#x27;dt&#x27;, DecisionTreeClassifier()),\n",
       "                             (&#x27;gb&#x27;, GradientBoostingClassifier()),\n",
       "                             (&#x27;ab&#x27;, AdaBoostClassifier())],\n",
       "                 voting=&#x27;soft&#x27;)</pre><b>In a Jupyter environment, please rerun this cell to show the HTML representation or trust the notebook. <br />On GitHub, the HTML representation is unable to render, please try loading this page with nbviewer.org.</b></div><div class=\"sk-container\" hidden><div class=\"sk-item sk-dashed-wrapped\"><div class=\"sk-label-container\"><div class=\"sk-label sk-toggleable\"><input class=\"sk-toggleable__control sk-hidden--visually\" id=\"sk-estimator-id-1\" type=\"checkbox\" ><label for=\"sk-estimator-id-1\" class=\"sk-toggleable__label sk-toggleable__label-arrow\">VotingClassifier</label><div class=\"sk-toggleable__content\"><pre>VotingClassifier(estimators=[(&#x27;sgd&#x27;,\n",
       "                              CalibratedClassifierCV(estimator=SGDClassifier())),\n",
       "                             (&#x27;rf&#x27;, RandomForestClassifier()),\n",
       "                             (&#x27;dt&#x27;, DecisionTreeClassifier()),\n",
       "                             (&#x27;gb&#x27;, GradientBoostingClassifier()),\n",
       "                             (&#x27;ab&#x27;, AdaBoostClassifier())],\n",
       "                 voting=&#x27;soft&#x27;)</pre></div></div></div><div class=\"sk-parallel\"><div class=\"sk-parallel-item\"><div class=\"sk-item\"><div class=\"sk-label-container\"><div class=\"sk-label sk-toggleable\"><label>sgd</label></div></div><div class=\"sk-serial\"><div class=\"sk-item sk-dashed-wrapped\"><div class=\"sk-parallel\"><div class=\"sk-parallel-item\"><div class=\"sk-item\"><div class=\"sk-label-container\"><div class=\"sk-label sk-toggleable\"><input class=\"sk-toggleable__control sk-hidden--visually\" id=\"sk-estimator-id-2\" type=\"checkbox\" ><label for=\"sk-estimator-id-2\" class=\"sk-toggleable__label sk-toggleable__label-arrow\">estimator: SGDClassifier</label><div class=\"sk-toggleable__content\"><pre>SGDClassifier()</pre></div></div></div><div class=\"sk-serial\"><div class=\"sk-item\"><div class=\"sk-estimator sk-toggleable\"><input class=\"sk-toggleable__control sk-hidden--visually\" id=\"sk-estimator-id-3\" type=\"checkbox\" ><label for=\"sk-estimator-id-3\" class=\"sk-toggleable__label sk-toggleable__label-arrow\">SGDClassifier</label><div class=\"sk-toggleable__content\"><pre>SGDClassifier()</pre></div></div></div></div></div></div></div></div></div></div></div><div class=\"sk-parallel-item\"><div class=\"sk-item\"><div class=\"sk-label-container\"><div class=\"sk-label sk-toggleable\"><label>rf</label></div></div><div class=\"sk-serial\"><div class=\"sk-item\"><div class=\"sk-estimator sk-toggleable\"><input class=\"sk-toggleable__control sk-hidden--visually\" id=\"sk-estimator-id-4\" type=\"checkbox\" ><label for=\"sk-estimator-id-4\" class=\"sk-toggleable__label sk-toggleable__label-arrow\">RandomForestClassifier</label><div class=\"sk-toggleable__content\"><pre>RandomForestClassifier()</pre></div></div></div></div></div></div><div class=\"sk-parallel-item\"><div class=\"sk-item\"><div class=\"sk-label-container\"><div class=\"sk-label sk-toggleable\"><label>dt</label></div></div><div class=\"sk-serial\"><div class=\"sk-item\"><div class=\"sk-estimator sk-toggleable\"><input class=\"sk-toggleable__control sk-hidden--visually\" id=\"sk-estimator-id-5\" type=\"checkbox\" ><label for=\"sk-estimator-id-5\" class=\"sk-toggleable__label sk-toggleable__label-arrow\">DecisionTreeClassifier</label><div class=\"sk-toggleable__content\"><pre>DecisionTreeClassifier()</pre></div></div></div></div></div></div><div class=\"sk-parallel-item\"><div class=\"sk-item\"><div class=\"sk-label-container\"><div class=\"sk-label sk-toggleable\"><label>gb</label></div></div><div class=\"sk-serial\"><div class=\"sk-item\"><div class=\"sk-estimator sk-toggleable\"><input class=\"sk-toggleable__control sk-hidden--visually\" id=\"sk-estimator-id-6\" type=\"checkbox\" ><label for=\"sk-estimator-id-6\" class=\"sk-toggleable__label sk-toggleable__label-arrow\">GradientBoostingClassifier</label><div class=\"sk-toggleable__content\"><pre>GradientBoostingClassifier()</pre></div></div></div></div></div></div><div class=\"sk-parallel-item\"><div class=\"sk-item\"><div class=\"sk-label-container\"><div class=\"sk-label sk-toggleable\"><label>ab</label></div></div><div class=\"sk-serial\"><div class=\"sk-item\"><div class=\"sk-estimator sk-toggleable\"><input class=\"sk-toggleable__control sk-hidden--visually\" id=\"sk-estimator-id-7\" type=\"checkbox\" ><label for=\"sk-estimator-id-7\" class=\"sk-toggleable__label sk-toggleable__label-arrow\">AdaBoostClassifier</label><div class=\"sk-toggleable__content\"><pre>AdaBoostClassifier()</pre></div></div></div></div></div></div></div></div></div></div>"
      ],
      "text/plain": [
       "VotingClassifier(estimators=[('sgd',\n",
       "                              CalibratedClassifierCV(estimator=SGDClassifier())),\n",
       "                             ('rf', RandomForestClassifier()),\n",
       "                             ('dt', DecisionTreeClassifier()),\n",
       "                             ('gb', GradientBoostingClassifier()),\n",
       "                             ('ab', AdaBoostClassifier())],\n",
       "                 voting='soft')"
      ]
     },
     "execution_count": 11,
     "metadata": {},
     "output_type": "execute_result"
    }
   ],
   "source": [
    "voting_clf.fit(X_train, y_train)"
   ]
  },
  {
   "cell_type": "code",
   "execution_count": 12,
   "id": "4c61a97e",
   "metadata": {
    "ExecuteTime": {
     "end_time": "2024-11-07T14:35:40.122634Z",
     "start_time": "2024-11-07T14:34:50.068008Z"
    }
   },
   "outputs": [],
   "source": [
    "train_pred_voting = voting_clf.predict(X_train)\n",
    "val_pred_voting = voting_clf.predict(X_val)"
   ]
  },
  {
   "cell_type": "code",
   "execution_count": 13,
   "id": "f3913e42",
   "metadata": {
    "ExecuteTime": {
     "end_time": "2024-11-07T14:35:41.477229Z",
     "start_time": "2024-11-07T14:35:40.125162Z"
    }
   },
   "outputs": [
    {
     "name": "stdout",
     "output_type": "stream",
     "text": [
      "______________________________________________________________________\n",
      "                                TRAIN                                 \n",
      "----------------------------------------------------------------------\n",
      "              precision    recall  f1-score   support\n",
      "\n",
      "           1       1.00      0.88      0.93      9981\n",
      "           2       0.99      1.00      0.99    232862\n",
      "           3       1.00      0.98      0.99     55125\n",
      "           4       1.00      1.00      1.00    118806\n",
      "           5       1.00      1.00      1.00     38624\n",
      "           6       1.00      1.00      1.00      3369\n",
      "           7       1.00      1.00      1.00        77\n",
      "           8       1.00      0.99      1.00       376\n",
      "\n",
      "    accuracy                           0.99    459220\n",
      "   macro avg       1.00      0.98      0.99    459220\n",
      "weighted avg       0.99      0.99      0.99    459220\n",
      "\n",
      "______________________________________________________________________\n",
      "                                VALIDATION                                 \n",
      "----------------------------------------------------------------------\n",
      "              precision    recall  f1-score   support\n",
      "\n",
      "           1       0.71      0.41      0.52      2495\n",
      "           2       0.84      0.96      0.90     58216\n",
      "           3       0.34      0.12      0.18     13781\n",
      "           4       0.70      0.81      0.75     29701\n",
      "           5       0.64      0.54      0.58      9656\n",
      "           6       0.08      0.01      0.02       842\n",
      "           7       0.00      0.00      0.00        20\n",
      "           8       0.54      0.14      0.22        94\n",
      "\n",
      "    accuracy                           0.76    114805\n",
      "   macro avg       0.48      0.37      0.40    114805\n",
      "weighted avg       0.72      0.76      0.73    114805\n",
      "\n"
     ]
    }
   ],
   "source": [
    "m.metrics(y_train, train_pred_voting , y_val, val_pred_voting)"
   ]
  },
  {
   "cell_type": "markdown",
   "id": "decafa58",
   "metadata": {},
   "source": [
    "**Stacking Classifier**"
   ]
  },
  {
   "cell_type": "code",
   "execution_count": 28,
   "id": "509dd67e",
   "metadata": {
    "ExecuteTime": {
     "end_time": "2024-11-07T14:54:30.603968Z",
     "start_time": "2024-11-07T14:54:30.600513Z"
    }
   },
   "outputs": [],
   "source": [
    "stacking_clf = StackingClassifier(\n",
    "    estimators=estimators,\n",
    "    final_estimator=LogisticRegression() # Meta-model, often a simpler model\n",
    ")"
   ]
  },
  {
   "cell_type": "code",
   "execution_count": null,
   "id": "38a77643",
   "metadata": {
    "ExecuteTime": {
     "start_time": "2024-11-07T14:54:33.065Z"
    }
   },
   "outputs": [],
   "source": [
    "stacking_clf.fit(X_train, y_train)"
   ]
  },
  {
   "cell_type": "code",
   "execution_count": null,
   "id": "5a5a4687",
   "metadata": {
    "ExecuteTime": {
     "start_time": "2024-11-07T14:54:33.627Z"
    }
   },
   "outputs": [],
   "source": [
    "train_pred_stack = stacking_clf.predict(X_train)\n",
    "val_pred_stack = stacking_clf.predict(X_val)"
   ]
  },
  {
   "cell_type": "code",
   "execution_count": null,
   "id": "37a2fbe6",
   "metadata": {
    "ExecuteTime": {
     "start_time": "2024-11-07T14:54:34.015Z"
    }
   },
   "outputs": [],
   "source": [
    "m.metrics(y_train, train_pred_stack , y_val, val_pred_stack)"
   ]
  },
  {
   "cell_type": "code",
   "execution_count": null,
   "id": "bfbabf29",
   "metadata": {
    "ExecuteTime": {
     "start_time": "2024-11-07T14:54:34.399Z"
    }
   },
   "outputs": [],
   "source": [
    "import play_song as song\n",
    "song.play_('audio.mp3')"
   ]
  },
  {
   "cell_type": "markdown",
   "id": "f641f1e5",
   "metadata": {},
   "source": [
    "# 3. Final Predictions\n",
    "\n",
    "<a href=\"#top\">Top &#129033;</a>"
   ]
  },
  {
   "cell_type": "code",
   "execution_count": 19,
   "id": "03e631c5",
   "metadata": {
    "ExecuteTime": {
     "end_time": "2024-11-07T14:44:45.890940Z",
     "start_time": "2024-11-07T14:44:45.832466Z"
    }
   },
   "outputs": [],
   "source": [
    "test = test[X_train.columns]"
   ]
  },
  {
   "cell_type": "code",
   "execution_count": 20,
   "id": "c8c67e0d",
   "metadata": {
    "ExecuteTime": {
     "end_time": "2024-11-07T14:45:15.516460Z",
     "start_time": "2024-11-07T14:44:49.024451Z"
    }
   },
   "outputs": [],
   "source": [
    "test['Claim Injury Type'] = voting_clf.predict(test)"
   ]
  },
  {
   "cell_type": "markdown",
   "id": "930d669a",
   "metadata": {},
   "source": [
    "Map Predictions to Original Values"
   ]
  },
  {
   "cell_type": "code",
   "execution_count": 21,
   "id": "29442bbe",
   "metadata": {
    "ExecuteTime": {
     "end_time": "2024-11-07T14:45:20.304094Z",
     "start_time": "2024-11-07T14:45:20.242164Z"
    }
   },
   "outputs": [],
   "source": [
    "label_mapping = {\n",
    "    1: \"1. CANCELLED\",\n",
    "    2: \"2. NON-COMP\",\n",
    "    3: \"3. MED ONLY\",\n",
    "    4: \"4. TEMPORARY\",\n",
    "    5: \"5. PPD SCH LOSS\",\n",
    "    6: \"6. PPD NSL\",\n",
    "    7: \"7. PTD\",\n",
    "    8: \"8. DEATH\"\n",
    "}\n",
    "\n",
    "test['Claim Injury Type'] = test['Claim Injury Type'].replace(label_mapping)"
   ]
  },
  {
   "cell_type": "markdown",
   "id": "d91011d4",
   "metadata": {},
   "source": [
    "Check each category inside the target"
   ]
  },
  {
   "cell_type": "code",
   "execution_count": 22,
   "id": "8b314cbe",
   "metadata": {
    "ExecuteTime": {
     "end_time": "2024-11-07T14:45:21.889607Z",
     "start_time": "2024-11-07T14:45:21.857608Z"
    }
   },
   "outputs": [
    {
     "data": {
      "text/plain": [
       "Claim Injury Type\n",
       "2. NON-COMP        316454\n",
       "4. TEMPORARY        44563\n",
       "3. MED ONLY         16405\n",
       "1. CANCELLED         5340\n",
       "5. PPD SCH LOSS      5150\n",
       "6. PPD NSL             52\n",
       "8. DEATH               11\n",
       "Name: count, dtype: int64"
      ]
     },
     "execution_count": 22,
     "metadata": {},
     "output_type": "execute_result"
    }
   ],
   "source": [
    "test['Claim Injury Type'].value_counts() "
   ]
  },
  {
   "cell_type": "markdown",
   "id": "ea057cf1",
   "metadata": {},
   "source": [
    "# 5. Export\n",
    "\n",
    "<a href=\"#top\">Top &#129033;</a>"
   ]
  },
  {
   "cell_type": "markdown",
   "id": "4c2b7c03",
   "metadata": {},
   "source": [
    "**Select Columns for predictions**"
   ]
  },
  {
   "cell_type": "code",
   "execution_count": 23,
   "id": "4e8fce8c",
   "metadata": {
    "ExecuteTime": {
     "end_time": "2024-11-07T14:45:29.318447Z",
     "start_time": "2024-11-07T14:45:29.315849Z"
    }
   },
   "outputs": [],
   "source": [
    "predictions = test['Claim Injury Type']"
   ]
  },
  {
   "cell_type": "markdown",
   "id": "97abf927",
   "metadata": {},
   "source": [
    "**Export**"
   ]
  },
  {
   "cell_type": "code",
   "execution_count": 24,
   "id": "dd972819",
   "metadata": {
    "ExecuteTime": {
     "end_time": "2024-11-07T14:46:12.600355Z",
     "start_time": "2024-11-07T14:46:12.597518Z"
    }
   },
   "outputs": [],
   "source": [
    "name = None"
   ]
  },
  {
   "cell_type": "code",
   "execution_count": 25,
   "id": "98117a56",
   "metadata": {
    "ExecuteTime": {
     "end_time": "2024-11-07T14:46:15.915104Z",
     "start_time": "2024-11-07T14:46:15.143176Z"
    }
   },
   "outputs": [],
   "source": [
    "predictions.to_csv(f'./predictions/{name}.csv')"
   ]
  },
  {
   "cell_type": "markdown",
   "id": "ae2050ba",
   "metadata": {},
   "source": [
    "__*<center>Models*__ \n",
    "    \n",
    "| Model | Feature Selection | Parameters | Kaggle Score |\n",
    "| ----- | ----------------- | ---------- | -------------|\n",
    "| Voting (sgd_rf_dt_gb_ab)  | 2 | - | 0.37300 |\n",
    "| ----- | ----------------- | ---------- | -------------|\n",
    "| ----- | ----------------- | ---------- | -------------|\n",
    "| ----- | ----------------- | ---------- | -------------|\n",
    "| ----- | ----------------- | ---------- | -------------|\n",
    "    \n",
    "<br><br>\n",
    "    \n",
    "    \n",
    "__*<center>Models K-Fold*__ \n",
    "\n",
    "| Model | Feature Selection | Log | Parameters | Kaggle Score | Fold |\n",
    "| ----- | ------------------ | --- | ---------- | ------------ | ---- |\n",
    "| LogReg | - | - | -  | 0.21122 | 5 |\n",
    "| RF | 1 | X | - | 0.29078 | 5 |\n",
    "| XGB | 1 | X | - | 0.20642 | 10 |\n",
    "| RF | - | - | - | 0.26616 | 5 |\n",
    "    \n",
    "<br><br>\n",
    "    \n",
    "__*<center>Models w/ Stratified K-Fold*__   \n",
    "    \n",
    "| Model | Feature Selection | Log | Parameters | Kaggle Score | Fold | \n",
    "| ----- | ------------------ | --- | ---------- | ------------ | ---- |\n",
    "| RF | - | - | - | 0.26912 | 10 |\n",
    "| DT | - | - | - | 0.14236 | 10 |\n",
    "| DT | - | X | - | 0.15589 | 10 |\n",
    "\n",
    "<br><br>\n",
    "    \n",
    "**Features for Feature Selection 1**\n",
    "\n",
    "['C-2 Day', 'Accident Year', 'Birth Year', 'Assembly Month',\n",
    "            'C-2 Month', 'Average Weekly Wage', 'Age at Injury', \n",
    "            'C-2 Year', 'Number of Dependents', 'Accident Day', \n",
    "            'Assembly Year', 'First Hearing Year', 'IME-4 Count', \n",
    "            'Assembly Day', 'Accident Month', \n",
    "            'WCIO Cause of Injury Code', 'Gender', \n",
    "            'COVID-19 Indicator', 'WCIO Part Of Body Code', \n",
    "            'County of Injury', 'Attorney/Representative', \n",
    "            'Carrier Type', 'District Name', 'Medical Fee Region', \n",
    "            'Zip Code', 'Carrier Name', 'C-3 Date Binary', \n",
    "            'Alternative Dispute Resolution', \n",
    "            'WCIO Nature of Injury Code', 'Industry Code']\n",
    "    \n",
    "    \n",
    "**Features for Feature Selection 2**    \n",
    "    \n",
    "['Age at Injury',\n",
    " 'Average Weekly Wage',\n",
    " 'Assembly Year',\n",
    " 'C-2 Month',\n",
    " 'C-2 Year',\n",
    " 'First Hearing Year',\n",
    " 'IME-4 Count Log',\n",
    " 'Attorney/Representative',\n",
    " 'Carrier Name',\n",
    " 'Carrier Name Log',\n",
    " 'Carrier Type',\n",
    " 'County of Injury',\n",
    " 'District Name',\n",
    " 'Gender',\n",
    " 'Industry Code',\n",
    " 'Medical Fee Region',\n",
    " 'WCIO Cause of Injury Code',\n",
    " 'WCIO Nature of Injury Code',\n",
    " 'WCIO Part Of Body Code',\n",
    " 'C-3 Date Binary']\n"
   ]
  }
 ],
 "metadata": {
  "kernelspec": {
   "display_name": "Python 3 (ipykernel)",
   "language": "python",
   "name": "python3"
  },
  "language_info": {
   "codemirror_mode": {
    "name": "ipython",
    "version": 3
   },
   "file_extension": ".py",
   "mimetype": "text/x-python",
   "name": "python",
   "nbconvert_exporter": "python",
   "pygments_lexer": "ipython3",
   "version": "3.10.13"
  }
 },
 "nbformat": 4,
 "nbformat_minor": 5
}
