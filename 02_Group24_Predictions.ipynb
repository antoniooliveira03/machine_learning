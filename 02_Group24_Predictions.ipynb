{
 "cells": [
  {
   "cell_type": "code",
   "execution_count": null,
   "id": "07079e82",
   "metadata": {},
   "outputs": [],
   "source": []
  },
  {
   "cell_type": "markdown",
   "id": "d8fe9c0c",
   "metadata": {},
   "source": [
    "# 1. Importing Libraries & Data"
   ]
  },
  {
   "cell_type": "code",
   "execution_count": 12,
   "id": "b16a7087",
   "metadata": {
    "ExecuteTime": {
     "end_time": "2024-11-07T10:34:03.070919Z",
     "start_time": "2024-11-07T10:34:03.065464Z"
    }
   },
   "outputs": [],
   "source": [
    "import pandas as pd\n",
    "\n",
    "# Models\n",
    "from sklearn.linear_model import LogisticRegression, SGDClassifier\n",
    "from sklearn.tree import DecisionTreeClassifier\n",
    "from sklearn.ensemble import RandomForestClassifier, GradientBoostingClassifier, \\\n",
    "    AdaBoostClassifier\n",
    "from sklearn.svm import SVC\n",
    "from sklearn.gaussian_process import GaussianProcessClassifier\n",
    "from sklearn.discriminant_analysis import LinearDiscriminantAnalysis, \\\n",
    "    QuadraticDiscriminantAnalysis\n",
    "from xgboost import XGBClassifier  \n",
    "from lightgbm import LGBMClassifier \n",
    "#from catboost import CatBoostClassifier\n",
    "\n",
    "\n",
    "import metrics as m\n",
    "\n",
    "import warnings\n",
    "warnings.filterwarnings(\"ignore\")"
   ]
  },
  {
   "cell_type": "markdown",
   "id": "a33bfd6a",
   "metadata": {},
   "source": [
    "**Import Data**"
   ]
  },
  {
   "cell_type": "code",
   "execution_count": 2,
   "id": "06b5f4da",
   "metadata": {
    "ExecuteTime": {
     "end_time": "2024-11-07T10:25:57.620797Z",
     "start_time": "2024-11-07T10:25:54.963711Z"
    }
   },
   "outputs": [],
   "source": [
    "X_train = pd.read_csv('./project_data/x_train.csv', index_col = 'Claim Identifier')\n",
    "X_val = pd.read_csv('./project_data/x_val.csv', index_col = 'Claim Identifier')\n",
    "y_train = pd.read_csv('./project_data/y_train.csv', index_col = 'Claim Identifier')\n",
    "y_val = pd.read_csv('./project_data/y_val.csv', index_col = 'Claim Identifier')\n",
    "\n",
    "test = pd.read_csv('./project_data/test_treated.csv', index_col = 'Claim Identifier')"
   ]
  },
  {
   "cell_type": "markdown",
   "id": "21d55a70",
   "metadata": {},
   "source": [
    "# 2. Modelling\n",
    "\n",
    "<a href=\"#top\">Top &#129033;</a>"
   ]
  },
  {
   "cell_type": "code",
   "execution_count": 3,
   "id": "22a2f650",
   "metadata": {
    "ExecuteTime": {
     "end_time": "2024-11-07T10:25:57.626992Z",
     "start_time": "2024-11-07T10:25:57.623273Z"
    }
   },
   "outputs": [
    {
     "name": "stdout",
     "output_type": "stream",
     "text": [
      "['Age at Injury', 'Average Weekly Wage', 'Assembly Year', 'C-2 Month', 'C-2 Year', 'First Hearing Year', 'IME-4 Count Log', 'Attorney/Representative', 'Carrier Name', 'Carrier Name Log', 'Carrier Type', 'County of Injury', 'District Name', 'Gender', 'Industry Code', 'Medical Fee Region', 'WCIO Cause of Injury Code', 'WCIO Nature of Injury Code', 'WCIO Part Of Body Code', 'C-3 Date Binary']\n",
      "20\n"
     ]
    }
   ],
   "source": [
    "print(X_train.columns.to_list(), '\\n')\n",
    "print(len(X_train.columns))"
   ]
  },
  {
   "cell_type": "markdown",
   "id": "19be33b9",
   "metadata": {},
   "source": [
    "**Baseline Model**"
   ]
  },
  {
   "cell_type": "code",
   "execution_count": 4,
   "id": "5ad2b999",
   "metadata": {
    "ExecuteTime": {
     "end_time": "2024-11-07T10:26:10.874321Z",
     "start_time": "2024-11-07T10:25:57.631282Z"
    }
   },
   "outputs": [
    {
     "data": {
      "text/html": [
       "<style>#sk-container-id-1 {color: black;background-color: white;}#sk-container-id-1 pre{padding: 0;}#sk-container-id-1 div.sk-toggleable {background-color: white;}#sk-container-id-1 label.sk-toggleable__label {cursor: pointer;display: block;width: 100%;margin-bottom: 0;padding: 0.3em;box-sizing: border-box;text-align: center;}#sk-container-id-1 label.sk-toggleable__label-arrow:before {content: \"▸\";float: left;margin-right: 0.25em;color: #696969;}#sk-container-id-1 label.sk-toggleable__label-arrow:hover:before {color: black;}#sk-container-id-1 div.sk-estimator:hover label.sk-toggleable__label-arrow:before {color: black;}#sk-container-id-1 div.sk-toggleable__content {max-height: 0;max-width: 0;overflow: hidden;text-align: left;background-color: #f0f8ff;}#sk-container-id-1 div.sk-toggleable__content pre {margin: 0.2em;color: black;border-radius: 0.25em;background-color: #f0f8ff;}#sk-container-id-1 input.sk-toggleable__control:checked~div.sk-toggleable__content {max-height: 200px;max-width: 100%;overflow: auto;}#sk-container-id-1 input.sk-toggleable__control:checked~label.sk-toggleable__label-arrow:before {content: \"▾\";}#sk-container-id-1 div.sk-estimator input.sk-toggleable__control:checked~label.sk-toggleable__label {background-color: #d4ebff;}#sk-container-id-1 div.sk-label input.sk-toggleable__control:checked~label.sk-toggleable__label {background-color: #d4ebff;}#sk-container-id-1 input.sk-hidden--visually {border: 0;clip: rect(1px 1px 1px 1px);clip: rect(1px, 1px, 1px, 1px);height: 1px;margin: -1px;overflow: hidden;padding: 0;position: absolute;width: 1px;}#sk-container-id-1 div.sk-estimator {font-family: monospace;background-color: #f0f8ff;border: 1px dotted black;border-radius: 0.25em;box-sizing: border-box;margin-bottom: 0.5em;}#sk-container-id-1 div.sk-estimator:hover {background-color: #d4ebff;}#sk-container-id-1 div.sk-parallel-item::after {content: \"\";width: 100%;border-bottom: 1px solid gray;flex-grow: 1;}#sk-container-id-1 div.sk-label:hover label.sk-toggleable__label {background-color: #d4ebff;}#sk-container-id-1 div.sk-serial::before {content: \"\";position: absolute;border-left: 1px solid gray;box-sizing: border-box;top: 0;bottom: 0;left: 50%;z-index: 0;}#sk-container-id-1 div.sk-serial {display: flex;flex-direction: column;align-items: center;background-color: white;padding-right: 0.2em;padding-left: 0.2em;position: relative;}#sk-container-id-1 div.sk-item {position: relative;z-index: 1;}#sk-container-id-1 div.sk-parallel {display: flex;align-items: stretch;justify-content: center;background-color: white;position: relative;}#sk-container-id-1 div.sk-item::before, #sk-container-id-1 div.sk-parallel-item::before {content: \"\";position: absolute;border-left: 1px solid gray;box-sizing: border-box;top: 0;bottom: 0;left: 50%;z-index: -1;}#sk-container-id-1 div.sk-parallel-item {display: flex;flex-direction: column;z-index: 1;position: relative;background-color: white;}#sk-container-id-1 div.sk-parallel-item:first-child::after {align-self: flex-end;width: 50%;}#sk-container-id-1 div.sk-parallel-item:last-child::after {align-self: flex-start;width: 50%;}#sk-container-id-1 div.sk-parallel-item:only-child::after {width: 0;}#sk-container-id-1 div.sk-dashed-wrapped {border: 1px dashed gray;margin: 0 0.4em 0.5em 0.4em;box-sizing: border-box;padding-bottom: 0.4em;background-color: white;}#sk-container-id-1 div.sk-label label {font-family: monospace;font-weight: bold;display: inline-block;line-height: 1.2em;}#sk-container-id-1 div.sk-label-container {text-align: center;}#sk-container-id-1 div.sk-container {/* jupyter's `normalize.less` sets `[hidden] { display: none; }` but bootstrap.min.css set `[hidden] { display: none !important; }` so we also need the `!important` here to be able to override the default hidden behavior on the sphinx rendered scikit-learn.org. See: https://github.com/scikit-learn/scikit-learn/issues/21755 */display: inline-block !important;position: relative;}#sk-container-id-1 div.sk-text-repr-fallback {display: none;}</style><div id=\"sk-container-id-1\" class=\"sk-top-container\"><div class=\"sk-text-repr-fallback\"><pre>LogisticRegression()</pre><b>In a Jupyter environment, please rerun this cell to show the HTML representation or trust the notebook. <br />On GitHub, the HTML representation is unable to render, please try loading this page with nbviewer.org.</b></div><div class=\"sk-container\" hidden><div class=\"sk-item\"><div class=\"sk-estimator sk-toggleable\"><input class=\"sk-toggleable__control sk-hidden--visually\" id=\"sk-estimator-id-1\" type=\"checkbox\" checked><label for=\"sk-estimator-id-1\" class=\"sk-toggleable__label sk-toggleable__label-arrow\">LogisticRegression</label><div class=\"sk-toggleable__content\"><pre>LogisticRegression()</pre></div></div></div></div></div>"
      ],
      "text/plain": [
       "LogisticRegression()"
      ]
     },
     "execution_count": 4,
     "metadata": {},
     "output_type": "execute_result"
    }
   ],
   "source": [
    "model = LogisticRegression()\n",
    "model.fit(X_train, y_train)"
   ]
  },
  {
   "cell_type": "code",
   "execution_count": 5,
   "id": "5f6d5bb6",
   "metadata": {
    "ExecuteTime": {
     "end_time": "2024-11-07T10:26:10.981382Z",
     "start_time": "2024-11-07T10:26:10.877772Z"
    }
   },
   "outputs": [],
   "source": [
    "train_pred = model.predict(X_train)\n",
    "val_pred = model.predict(X_val)"
   ]
  },
  {
   "cell_type": "code",
   "execution_count": 6,
   "id": "9d8cc62d",
   "metadata": {
    "ExecuteTime": {
     "end_time": "2024-11-07T10:26:12.296259Z",
     "start_time": "2024-11-07T10:26:10.983839Z"
    },
    "collapsed": true
   },
   "outputs": [
    {
     "name": "stdout",
     "output_type": "stream",
     "text": [
      "              precision    recall  f1-score   support\n",
      "\n",
      "           1       0.00      0.00      0.00      9981\n",
      "           2       0.72      0.95      0.82    232862\n",
      "           3       0.21      0.01      0.02     55125\n",
      "           4       0.53      0.67      0.59    118806\n",
      "           5       0.22      0.00      0.01     38624\n",
      "           6       0.00      0.00      0.00      3369\n",
      "           7       0.00      0.00      0.00        77\n",
      "           8       0.00      0.00      0.00       376\n",
      "\n",
      "    accuracy                           0.66    459220\n",
      "   macro avg       0.21      0.20      0.18    459220\n",
      "weighted avg       0.55      0.66      0.57    459220\n",
      "\n",
      "              precision    recall  f1-score   support\n",
      "\n",
      "           1       0.00      0.00      0.00      2495\n",
      "           2       0.72      0.95      0.82     58216\n",
      "           3       0.21      0.01      0.02     13781\n",
      "           4       0.53      0.66      0.59     29701\n",
      "           5       0.17      0.00      0.01      9656\n",
      "           6       0.00      0.00      0.00       842\n",
      "           7       0.00      0.00      0.00        20\n",
      "           8       0.00      0.00      0.00        94\n",
      "\n",
      "    accuracy                           0.65    114805\n",
      "   macro avg       0.20      0.20      0.18    114805\n",
      "weighted avg       0.54      0.65      0.57    114805\n",
      "\n"
     ]
    }
   ],
   "source": [
    "metrics(y_train, train_pred , y_val, val_pred)"
   ]
  },
  {
   "cell_type": "markdown",
   "id": "1abe1b0a",
   "metadata": {},
   "source": [
    "**SGD Classifier**"
   ]
  },
  {
   "cell_type": "code",
   "execution_count": 7,
   "id": "c30de8b3",
   "metadata": {
    "ExecuteTime": {
     "end_time": "2024-11-07T10:33:43.002952Z",
     "start_time": "2024-11-07T10:26:12.299036Z"
    }
   },
   "outputs": [
    {
     "data": {
      "text/html": [
       "<style>#sk-container-id-2 {color: black;background-color: white;}#sk-container-id-2 pre{padding: 0;}#sk-container-id-2 div.sk-toggleable {background-color: white;}#sk-container-id-2 label.sk-toggleable__label {cursor: pointer;display: block;width: 100%;margin-bottom: 0;padding: 0.3em;box-sizing: border-box;text-align: center;}#sk-container-id-2 label.sk-toggleable__label-arrow:before {content: \"▸\";float: left;margin-right: 0.25em;color: #696969;}#sk-container-id-2 label.sk-toggleable__label-arrow:hover:before {color: black;}#sk-container-id-2 div.sk-estimator:hover label.sk-toggleable__label-arrow:before {color: black;}#sk-container-id-2 div.sk-toggleable__content {max-height: 0;max-width: 0;overflow: hidden;text-align: left;background-color: #f0f8ff;}#sk-container-id-2 div.sk-toggleable__content pre {margin: 0.2em;color: black;border-radius: 0.25em;background-color: #f0f8ff;}#sk-container-id-2 input.sk-toggleable__control:checked~div.sk-toggleable__content {max-height: 200px;max-width: 100%;overflow: auto;}#sk-container-id-2 input.sk-toggleable__control:checked~label.sk-toggleable__label-arrow:before {content: \"▾\";}#sk-container-id-2 div.sk-estimator input.sk-toggleable__control:checked~label.sk-toggleable__label {background-color: #d4ebff;}#sk-container-id-2 div.sk-label input.sk-toggleable__control:checked~label.sk-toggleable__label {background-color: #d4ebff;}#sk-container-id-2 input.sk-hidden--visually {border: 0;clip: rect(1px 1px 1px 1px);clip: rect(1px, 1px, 1px, 1px);height: 1px;margin: -1px;overflow: hidden;padding: 0;position: absolute;width: 1px;}#sk-container-id-2 div.sk-estimator {font-family: monospace;background-color: #f0f8ff;border: 1px dotted black;border-radius: 0.25em;box-sizing: border-box;margin-bottom: 0.5em;}#sk-container-id-2 div.sk-estimator:hover {background-color: #d4ebff;}#sk-container-id-2 div.sk-parallel-item::after {content: \"\";width: 100%;border-bottom: 1px solid gray;flex-grow: 1;}#sk-container-id-2 div.sk-label:hover label.sk-toggleable__label {background-color: #d4ebff;}#sk-container-id-2 div.sk-serial::before {content: \"\";position: absolute;border-left: 1px solid gray;box-sizing: border-box;top: 0;bottom: 0;left: 50%;z-index: 0;}#sk-container-id-2 div.sk-serial {display: flex;flex-direction: column;align-items: center;background-color: white;padding-right: 0.2em;padding-left: 0.2em;position: relative;}#sk-container-id-2 div.sk-item {position: relative;z-index: 1;}#sk-container-id-2 div.sk-parallel {display: flex;align-items: stretch;justify-content: center;background-color: white;position: relative;}#sk-container-id-2 div.sk-item::before, #sk-container-id-2 div.sk-parallel-item::before {content: \"\";position: absolute;border-left: 1px solid gray;box-sizing: border-box;top: 0;bottom: 0;left: 50%;z-index: -1;}#sk-container-id-2 div.sk-parallel-item {display: flex;flex-direction: column;z-index: 1;position: relative;background-color: white;}#sk-container-id-2 div.sk-parallel-item:first-child::after {align-self: flex-end;width: 50%;}#sk-container-id-2 div.sk-parallel-item:last-child::after {align-self: flex-start;width: 50%;}#sk-container-id-2 div.sk-parallel-item:only-child::after {width: 0;}#sk-container-id-2 div.sk-dashed-wrapped {border: 1px dashed gray;margin: 0 0.4em 0.5em 0.4em;box-sizing: border-box;padding-bottom: 0.4em;background-color: white;}#sk-container-id-2 div.sk-label label {font-family: monospace;font-weight: bold;display: inline-block;line-height: 1.2em;}#sk-container-id-2 div.sk-label-container {text-align: center;}#sk-container-id-2 div.sk-container {/* jupyter's `normalize.less` sets `[hidden] { display: none; }` but bootstrap.min.css set `[hidden] { display: none !important; }` so we also need the `!important` here to be able to override the default hidden behavior on the sphinx rendered scikit-learn.org. See: https://github.com/scikit-learn/scikit-learn/issues/21755 */display: inline-block !important;position: relative;}#sk-container-id-2 div.sk-text-repr-fallback {display: none;}</style><div id=\"sk-container-id-2\" class=\"sk-top-container\"><div class=\"sk-text-repr-fallback\"><pre>SGDClassifier()</pre><b>In a Jupyter environment, please rerun this cell to show the HTML representation or trust the notebook. <br />On GitHub, the HTML representation is unable to render, please try loading this page with nbviewer.org.</b></div><div class=\"sk-container\" hidden><div class=\"sk-item\"><div class=\"sk-estimator sk-toggleable\"><input class=\"sk-toggleable__control sk-hidden--visually\" id=\"sk-estimator-id-2\" type=\"checkbox\" checked><label for=\"sk-estimator-id-2\" class=\"sk-toggleable__label sk-toggleable__label-arrow\">SGDClassifier</label><div class=\"sk-toggleable__content\"><pre>SGDClassifier()</pre></div></div></div></div></div>"
      ],
      "text/plain": [
       "SGDClassifier()"
      ]
     },
     "execution_count": 7,
     "metadata": {},
     "output_type": "execute_result"
    }
   ],
   "source": [
    "sgd = SGDClassifier()\n",
    "sgd.fit(X_train, y_train)"
   ]
  },
  {
   "cell_type": "code",
   "execution_count": 8,
   "id": "b71c5da3",
   "metadata": {
    "ExecuteTime": {
     "end_time": "2024-11-07T10:33:43.183140Z",
     "start_time": "2024-11-07T10:33:43.009171Z"
    }
   },
   "outputs": [],
   "source": [
    "train_pred_sgd = sgd.predict(X_train)\n",
    "val_pred_sgd = sgd.predict(X_val)"
   ]
  },
  {
   "cell_type": "code",
   "execution_count": 14,
   "id": "c0b3c0a5",
   "metadata": {
    "ExecuteTime": {
     "end_time": "2024-11-07T10:34:07.494419Z",
     "start_time": "2024-11-07T10:34:06.223463Z"
    },
    "scrolled": true
   },
   "outputs": [
    {
     "name": "stdout",
     "output_type": "stream",
     "text": [
      "______________________________________________________________________\n",
      "                                TRAIN                                 \n",
      "----------------------------------------------------------------------\n",
      "              precision    recall  f1-score   support\n",
      "\n",
      "           1       0.00      0.00      0.00      9981\n",
      "           2       0.73      0.99      0.84    232862\n",
      "           3       0.12      0.00      0.00     55125\n",
      "           4       0.59      0.73      0.65    118806\n",
      "           5       0.22      0.00      0.00     38624\n",
      "           6       0.00      0.00      0.00      3369\n",
      "           7       0.00      0.00      0.00        77\n",
      "           8       0.00      0.00      0.00       376\n",
      "\n",
      "    accuracy                           0.69    459220\n",
      "   macro avg       0.21      0.21      0.19    459220\n",
      "weighted avg       0.56      0.69      0.60    459220\n",
      "\n",
      "______________________________________________________________________\n",
      "                                VALIDATION                                 \n",
      "----------------------------------------------------------------------\n",
      "              precision    recall  f1-score   support\n",
      "\n",
      "           1       0.00      0.00      0.00      2495\n",
      "           2       0.73      0.99      0.84     58216\n",
      "           3       0.19      0.00      0.00     13781\n",
      "           4       0.59      0.72      0.65     29701\n",
      "           5       0.07      0.00      0.00      9656\n",
      "           6       0.00      0.00      0.00       842\n",
      "           7       0.00      0.00      0.00        20\n",
      "           8       0.00      0.00      0.00        94\n",
      "\n",
      "    accuracy                           0.69    114805\n",
      "   macro avg       0.20      0.21      0.19    114805\n",
      "weighted avg       0.55      0.69      0.60    114805\n",
      "\n"
     ]
    }
   ],
   "source": [
    "m.metrics(y_train, train_pred_sgd , y_val, val_pred_sgd)"
   ]
  },
  {
   "cell_type": "markdown",
   "id": "178cc7f6",
   "metadata": {},
   "source": [
    "**Decision Tree Classifier**"
   ]
  },
  {
   "cell_type": "code",
   "execution_count": 15,
   "id": "3409dd5c",
   "metadata": {
    "ExecuteTime": {
     "end_time": "2024-11-07T10:35:41.366103Z",
     "start_time": "2024-11-07T10:35:34.805995Z"
    }
   },
   "outputs": [
    {
     "data": {
      "text/html": [
       "<style>#sk-container-id-3 {color: black;background-color: white;}#sk-container-id-3 pre{padding: 0;}#sk-container-id-3 div.sk-toggleable {background-color: white;}#sk-container-id-3 label.sk-toggleable__label {cursor: pointer;display: block;width: 100%;margin-bottom: 0;padding: 0.3em;box-sizing: border-box;text-align: center;}#sk-container-id-3 label.sk-toggleable__label-arrow:before {content: \"▸\";float: left;margin-right: 0.25em;color: #696969;}#sk-container-id-3 label.sk-toggleable__label-arrow:hover:before {color: black;}#sk-container-id-3 div.sk-estimator:hover label.sk-toggleable__label-arrow:before {color: black;}#sk-container-id-3 div.sk-toggleable__content {max-height: 0;max-width: 0;overflow: hidden;text-align: left;background-color: #f0f8ff;}#sk-container-id-3 div.sk-toggleable__content pre {margin: 0.2em;color: black;border-radius: 0.25em;background-color: #f0f8ff;}#sk-container-id-3 input.sk-toggleable__control:checked~div.sk-toggleable__content {max-height: 200px;max-width: 100%;overflow: auto;}#sk-container-id-3 input.sk-toggleable__control:checked~label.sk-toggleable__label-arrow:before {content: \"▾\";}#sk-container-id-3 div.sk-estimator input.sk-toggleable__control:checked~label.sk-toggleable__label {background-color: #d4ebff;}#sk-container-id-3 div.sk-label input.sk-toggleable__control:checked~label.sk-toggleable__label {background-color: #d4ebff;}#sk-container-id-3 input.sk-hidden--visually {border: 0;clip: rect(1px 1px 1px 1px);clip: rect(1px, 1px, 1px, 1px);height: 1px;margin: -1px;overflow: hidden;padding: 0;position: absolute;width: 1px;}#sk-container-id-3 div.sk-estimator {font-family: monospace;background-color: #f0f8ff;border: 1px dotted black;border-radius: 0.25em;box-sizing: border-box;margin-bottom: 0.5em;}#sk-container-id-3 div.sk-estimator:hover {background-color: #d4ebff;}#sk-container-id-3 div.sk-parallel-item::after {content: \"\";width: 100%;border-bottom: 1px solid gray;flex-grow: 1;}#sk-container-id-3 div.sk-label:hover label.sk-toggleable__label {background-color: #d4ebff;}#sk-container-id-3 div.sk-serial::before {content: \"\";position: absolute;border-left: 1px solid gray;box-sizing: border-box;top: 0;bottom: 0;left: 50%;z-index: 0;}#sk-container-id-3 div.sk-serial {display: flex;flex-direction: column;align-items: center;background-color: white;padding-right: 0.2em;padding-left: 0.2em;position: relative;}#sk-container-id-3 div.sk-item {position: relative;z-index: 1;}#sk-container-id-3 div.sk-parallel {display: flex;align-items: stretch;justify-content: center;background-color: white;position: relative;}#sk-container-id-3 div.sk-item::before, #sk-container-id-3 div.sk-parallel-item::before {content: \"\";position: absolute;border-left: 1px solid gray;box-sizing: border-box;top: 0;bottom: 0;left: 50%;z-index: -1;}#sk-container-id-3 div.sk-parallel-item {display: flex;flex-direction: column;z-index: 1;position: relative;background-color: white;}#sk-container-id-3 div.sk-parallel-item:first-child::after {align-self: flex-end;width: 50%;}#sk-container-id-3 div.sk-parallel-item:last-child::after {align-self: flex-start;width: 50%;}#sk-container-id-3 div.sk-parallel-item:only-child::after {width: 0;}#sk-container-id-3 div.sk-dashed-wrapped {border: 1px dashed gray;margin: 0 0.4em 0.5em 0.4em;box-sizing: border-box;padding-bottom: 0.4em;background-color: white;}#sk-container-id-3 div.sk-label label {font-family: monospace;font-weight: bold;display: inline-block;line-height: 1.2em;}#sk-container-id-3 div.sk-label-container {text-align: center;}#sk-container-id-3 div.sk-container {/* jupyter's `normalize.less` sets `[hidden] { display: none; }` but bootstrap.min.css set `[hidden] { display: none !important; }` so we also need the `!important` here to be able to override the default hidden behavior on the sphinx rendered scikit-learn.org. See: https://github.com/scikit-learn/scikit-learn/issues/21755 */display: inline-block !important;position: relative;}#sk-container-id-3 div.sk-text-repr-fallback {display: none;}</style><div id=\"sk-container-id-3\" class=\"sk-top-container\"><div class=\"sk-text-repr-fallback\"><pre>DecisionTreeClassifier()</pre><b>In a Jupyter environment, please rerun this cell to show the HTML representation or trust the notebook. <br />On GitHub, the HTML representation is unable to render, please try loading this page with nbviewer.org.</b></div><div class=\"sk-container\" hidden><div class=\"sk-item\"><div class=\"sk-estimator sk-toggleable\"><input class=\"sk-toggleable__control sk-hidden--visually\" id=\"sk-estimator-id-3\" type=\"checkbox\" checked><label for=\"sk-estimator-id-3\" class=\"sk-toggleable__label sk-toggleable__label-arrow\">DecisionTreeClassifier</label><div class=\"sk-toggleable__content\"><pre>DecisionTreeClassifier()</pre></div></div></div></div></div>"
      ],
      "text/plain": [
       "DecisionTreeClassifier()"
      ]
     },
     "execution_count": 15,
     "metadata": {},
     "output_type": "execute_result"
    }
   ],
   "source": [
    "dt = DecisionTreeClassifier()\n",
    "dt.fit(X_train, y_train)"
   ]
  },
  {
   "cell_type": "code",
   "execution_count": 16,
   "id": "620d9342",
   "metadata": {
    "ExecuteTime": {
     "end_time": "2024-11-07T10:35:41.825756Z",
     "start_time": "2024-11-07T10:35:41.369189Z"
    }
   },
   "outputs": [],
   "source": [
    "train_pred_dt = dt.predict(X_train)\n",
    "val_pred_dt = dt.predict(X_val)"
   ]
  },
  {
   "cell_type": "code",
   "execution_count": 17,
   "id": "ba846af2",
   "metadata": {
    "ExecuteTime": {
     "end_time": "2024-11-07T10:35:43.196544Z",
     "start_time": "2024-11-07T10:35:41.828184Z"
    },
    "scrolled": true
   },
   "outputs": [
    {
     "name": "stdout",
     "output_type": "stream",
     "text": [
      "______________________________________________________________________\n",
      "                                TRAIN                                 \n",
      "----------------------------------------------------------------------\n",
      "              precision    recall  f1-score   support\n",
      "\n",
      "           1       0.99      1.00      1.00      9981\n",
      "           2       1.00      1.00      1.00    232862\n",
      "           3       1.00      1.00      1.00     55125\n",
      "           4       1.00      1.00      1.00    118806\n",
      "           5       1.00      1.00      1.00     38624\n",
      "           6       1.00      1.00      1.00      3369\n",
      "           7       1.00      1.00      1.00        77\n",
      "           8       1.00      1.00      1.00       376\n",
      "\n",
      "    accuracy                           1.00    459220\n",
      "   macro avg       1.00      1.00      1.00    459220\n",
      "weighted avg       1.00      1.00      1.00    459220\n",
      "\n",
      "______________________________________________________________________\n",
      "                                VALIDATION                                 \n",
      "----------------------------------------------------------------------\n",
      "              precision    recall  f1-score   support\n",
      "\n",
      "           1       0.42      0.45      0.44      2495\n",
      "           2       0.85      0.83      0.84     58216\n",
      "           3       0.21      0.24      0.23     13781\n",
      "           4       0.67      0.66      0.66     29701\n",
      "           5       0.53      0.53      0.53      9656\n",
      "           6       0.08      0.09      0.08       842\n",
      "           7       0.03      0.05      0.04        20\n",
      "           8       0.18      0.20      0.19        94\n",
      "\n",
      "    accuracy                           0.67    114805\n",
      "   macro avg       0.37      0.38      0.38    114805\n",
      "weighted avg       0.68      0.67      0.68    114805\n",
      "\n"
     ]
    }
   ],
   "source": [
    "m.metrics(y_train, train_pred_dt , y_val, val_pred_dt)"
   ]
  },
  {
   "cell_type": "markdown",
   "id": "5d328683",
   "metadata": {},
   "source": [
    "**Random Forest Classifier**"
   ]
  },
  {
   "cell_type": "code",
   "execution_count": 18,
   "id": "ca5359d9",
   "metadata": {
    "ExecuteTime": {
     "end_time": "2024-11-07T10:37:59.053521Z",
     "start_time": "2024-11-07T10:35:49.569833Z"
    }
   },
   "outputs": [
    {
     "data": {
      "text/html": [
       "<style>#sk-container-id-4 {color: black;background-color: white;}#sk-container-id-4 pre{padding: 0;}#sk-container-id-4 div.sk-toggleable {background-color: white;}#sk-container-id-4 label.sk-toggleable__label {cursor: pointer;display: block;width: 100%;margin-bottom: 0;padding: 0.3em;box-sizing: border-box;text-align: center;}#sk-container-id-4 label.sk-toggleable__label-arrow:before {content: \"▸\";float: left;margin-right: 0.25em;color: #696969;}#sk-container-id-4 label.sk-toggleable__label-arrow:hover:before {color: black;}#sk-container-id-4 div.sk-estimator:hover label.sk-toggleable__label-arrow:before {color: black;}#sk-container-id-4 div.sk-toggleable__content {max-height: 0;max-width: 0;overflow: hidden;text-align: left;background-color: #f0f8ff;}#sk-container-id-4 div.sk-toggleable__content pre {margin: 0.2em;color: black;border-radius: 0.25em;background-color: #f0f8ff;}#sk-container-id-4 input.sk-toggleable__control:checked~div.sk-toggleable__content {max-height: 200px;max-width: 100%;overflow: auto;}#sk-container-id-4 input.sk-toggleable__control:checked~label.sk-toggleable__label-arrow:before {content: \"▾\";}#sk-container-id-4 div.sk-estimator input.sk-toggleable__control:checked~label.sk-toggleable__label {background-color: #d4ebff;}#sk-container-id-4 div.sk-label input.sk-toggleable__control:checked~label.sk-toggleable__label {background-color: #d4ebff;}#sk-container-id-4 input.sk-hidden--visually {border: 0;clip: rect(1px 1px 1px 1px);clip: rect(1px, 1px, 1px, 1px);height: 1px;margin: -1px;overflow: hidden;padding: 0;position: absolute;width: 1px;}#sk-container-id-4 div.sk-estimator {font-family: monospace;background-color: #f0f8ff;border: 1px dotted black;border-radius: 0.25em;box-sizing: border-box;margin-bottom: 0.5em;}#sk-container-id-4 div.sk-estimator:hover {background-color: #d4ebff;}#sk-container-id-4 div.sk-parallel-item::after {content: \"\";width: 100%;border-bottom: 1px solid gray;flex-grow: 1;}#sk-container-id-4 div.sk-label:hover label.sk-toggleable__label {background-color: #d4ebff;}#sk-container-id-4 div.sk-serial::before {content: \"\";position: absolute;border-left: 1px solid gray;box-sizing: border-box;top: 0;bottom: 0;left: 50%;z-index: 0;}#sk-container-id-4 div.sk-serial {display: flex;flex-direction: column;align-items: center;background-color: white;padding-right: 0.2em;padding-left: 0.2em;position: relative;}#sk-container-id-4 div.sk-item {position: relative;z-index: 1;}#sk-container-id-4 div.sk-parallel {display: flex;align-items: stretch;justify-content: center;background-color: white;position: relative;}#sk-container-id-4 div.sk-item::before, #sk-container-id-4 div.sk-parallel-item::before {content: \"\";position: absolute;border-left: 1px solid gray;box-sizing: border-box;top: 0;bottom: 0;left: 50%;z-index: -1;}#sk-container-id-4 div.sk-parallel-item {display: flex;flex-direction: column;z-index: 1;position: relative;background-color: white;}#sk-container-id-4 div.sk-parallel-item:first-child::after {align-self: flex-end;width: 50%;}#sk-container-id-4 div.sk-parallel-item:last-child::after {align-self: flex-start;width: 50%;}#sk-container-id-4 div.sk-parallel-item:only-child::after {width: 0;}#sk-container-id-4 div.sk-dashed-wrapped {border: 1px dashed gray;margin: 0 0.4em 0.5em 0.4em;box-sizing: border-box;padding-bottom: 0.4em;background-color: white;}#sk-container-id-4 div.sk-label label {font-family: monospace;font-weight: bold;display: inline-block;line-height: 1.2em;}#sk-container-id-4 div.sk-label-container {text-align: center;}#sk-container-id-4 div.sk-container {/* jupyter's `normalize.less` sets `[hidden] { display: none; }` but bootstrap.min.css set `[hidden] { display: none !important; }` so we also need the `!important` here to be able to override the default hidden behavior on the sphinx rendered scikit-learn.org. See: https://github.com/scikit-learn/scikit-learn/issues/21755 */display: inline-block !important;position: relative;}#sk-container-id-4 div.sk-text-repr-fallback {display: none;}</style><div id=\"sk-container-id-4\" class=\"sk-top-container\"><div class=\"sk-text-repr-fallback\"><pre>RandomForestClassifier()</pre><b>In a Jupyter environment, please rerun this cell to show the HTML representation or trust the notebook. <br />On GitHub, the HTML representation is unable to render, please try loading this page with nbviewer.org.</b></div><div class=\"sk-container\" hidden><div class=\"sk-item\"><div class=\"sk-estimator sk-toggleable\"><input class=\"sk-toggleable__control sk-hidden--visually\" id=\"sk-estimator-id-4\" type=\"checkbox\" checked><label for=\"sk-estimator-id-4\" class=\"sk-toggleable__label sk-toggleable__label-arrow\">RandomForestClassifier</label><div class=\"sk-toggleable__content\"><pre>RandomForestClassifier()</pre></div></div></div></div></div>"
      ],
      "text/plain": [
       "RandomForestClassifier()"
      ]
     },
     "execution_count": 18,
     "metadata": {},
     "output_type": "execute_result"
    }
   ],
   "source": [
    "rf = RandomForestClassifier()\n",
    "rf.fit(X_train, y_train)"
   ]
  },
  {
   "cell_type": "code",
   "execution_count": 19,
   "id": "f7eedc06",
   "metadata": {
    "ExecuteTime": {
     "end_time": "2024-11-07T10:38:31.126915Z",
     "start_time": "2024-11-07T10:37:59.056578Z"
    }
   },
   "outputs": [],
   "source": [
    "train_pred_rf = rf.predict(X_train)\n",
    "val_pred_rf = rf.predict(X_val)"
   ]
  },
  {
   "cell_type": "code",
   "execution_count": 20,
   "id": "c78ed26c",
   "metadata": {
    "ExecuteTime": {
     "end_time": "2024-11-07T10:38:32.468116Z",
     "start_time": "2024-11-07T10:38:31.129494Z"
    }
   },
   "outputs": [
    {
     "name": "stdout",
     "output_type": "stream",
     "text": [
      "______________________________________________________________________\n",
      "                                TRAIN                                 \n",
      "----------------------------------------------------------------------\n",
      "              precision    recall  f1-score   support\n",
      "\n",
      "           1       1.00      0.99      1.00      9981\n",
      "           2       1.00      1.00      1.00    232862\n",
      "           3       1.00      1.00      1.00     55125\n",
      "           4       1.00      1.00      1.00    118806\n",
      "           5       1.00      1.00      1.00     38624\n",
      "           6       1.00      1.00      1.00      3369\n",
      "           7       1.00      1.00      1.00        77\n",
      "           8       1.00      1.00      1.00       376\n",
      "\n",
      "    accuracy                           1.00    459220\n",
      "   macro avg       1.00      1.00      1.00    459220\n",
      "weighted avg       1.00      1.00      1.00    459220\n",
      "\n",
      "______________________________________________________________________\n",
      "                                VALIDATION                                 \n",
      "----------------------------------------------------------------------\n",
      "              precision    recall  f1-score   support\n",
      "\n",
      "           1       0.73      0.49      0.59      2495\n",
      "           2       0.85      0.96      0.90     58216\n",
      "           3       0.51      0.09      0.16     13781\n",
      "           4       0.70      0.89      0.78     29701\n",
      "           5       0.74      0.56      0.63      9656\n",
      "           6       0.00      0.00      0.00       842\n",
      "           7       0.00      0.00      0.00        20\n",
      "           8       0.43      0.03      0.06        94\n",
      "\n",
      "    accuracy                           0.79    114805\n",
      "   macro avg       0.49      0.38      0.39    114805\n",
      "weighted avg       0.75      0.79      0.75    114805\n",
      "\n"
     ]
    }
   ],
   "source": [
    "m.metrics(y_train, train_pred_rf , y_val, val_pred_rf)"
   ]
  },
  {
   "cell_type": "markdown",
   "id": "5694c4b9",
   "metadata": {},
   "source": [
    "**Gradient Boosting Classifier**"
   ]
  },
  {
   "cell_type": "code",
   "execution_count": null,
   "id": "d06736b1",
   "metadata": {
    "ExecuteTime": {
     "start_time": "2024-11-07T10:38:53.917Z"
    }
   },
   "outputs": [],
   "source": [
    "gb = GradientBoostingClassifier()\n",
    "gb.fit(X_train, y_train)"
   ]
  },
  {
   "cell_type": "code",
   "execution_count": null,
   "id": "fec8acb4",
   "metadata": {
    "ExecuteTime": {
     "start_time": "2024-11-07T10:38:54.386Z"
    }
   },
   "outputs": [],
   "source": [
    "train_pred_gb = gb.predict(X_train)\n",
    "val_pred_gb = gb.predict(X_val)"
   ]
  },
  {
   "cell_type": "code",
   "execution_count": null,
   "id": "9115fed6",
   "metadata": {
    "ExecuteTime": {
     "start_time": "2024-11-07T10:38:55.558Z"
    }
   },
   "outputs": [],
   "source": [
    "metrics(y_train, train_pred_gb , y_val, val_pred_gb)"
   ]
  },
  {
   "cell_type": "markdown",
   "id": "95de2892",
   "metadata": {},
   "source": [
    "**AdaBoost Classifier**"
   ]
  },
  {
   "cell_type": "code",
   "execution_count": null,
   "id": "91fa12f1",
   "metadata": {},
   "outputs": [],
   "source": [
    "ab = AdaBoostClassifier()\n",
    "ab.fit(X_train, y_train)"
   ]
  },
  {
   "cell_type": "code",
   "execution_count": null,
   "id": "f46b49e4",
   "metadata": {},
   "outputs": [],
   "source": [
    "train_pred_ab = ab.predict(X_train)\n",
    "val_pred_ab = ab.predict(X_val)"
   ]
  },
  {
   "cell_type": "code",
   "execution_count": null,
   "id": "1a509b2a",
   "metadata": {},
   "outputs": [],
   "source": [
    "metrics(y_train, train_pred_ab , y_val, val_pred_ab)"
   ]
  },
  {
   "cell_type": "markdown",
   "id": "44614016",
   "metadata": {},
   "source": [
    "**SVC**"
   ]
  },
  {
   "cell_type": "code",
   "execution_count": null,
   "id": "6d2a19f0",
   "metadata": {},
   "outputs": [],
   "source": [
    "svc = SVC()\n",
    "svc.fit(X_train, y_train)"
   ]
  },
  {
   "cell_type": "code",
   "execution_count": null,
   "id": "7af27ff5",
   "metadata": {},
   "outputs": [],
   "source": [
    "train_pred_svc = svc.predict(X_train)\n",
    "val_pred_svc = svc.predict(X_val)"
   ]
  },
  {
   "cell_type": "code",
   "execution_count": null,
   "id": "5ad14647",
   "metadata": {},
   "outputs": [],
   "source": [
    "metrics(y_train, train_pred_svc , y_val, val_pred_svc)"
   ]
  },
  {
   "cell_type": "markdown",
   "id": "55146573",
   "metadata": {},
   "source": [
    "**Gaussian Process Classifier**"
   ]
  },
  {
   "cell_type": "code",
   "execution_count": null,
   "id": "17dd91db",
   "metadata": {},
   "outputs": [],
   "source": [
    "gau_p = GaussianProcessClassifier()\n",
    "gau_p.fit(X_train, y_train)"
   ]
  },
  {
   "cell_type": "code",
   "execution_count": null,
   "id": "a448d707",
   "metadata": {},
   "outputs": [],
   "source": [
    "train_pred_gau_p = gau_p.predict(X_train)\n",
    "val_pred_gau_p = gau_p.predict(X_val)"
   ]
  },
  {
   "cell_type": "code",
   "execution_count": null,
   "id": "40dad171",
   "metadata": {},
   "outputs": [],
   "source": [
    "metrics(y_train, train_pred_gau_p , y_val, val_pred_gau_p)"
   ]
  },
  {
   "cell_type": "markdown",
   "id": "a219690a",
   "metadata": {},
   "source": [
    "**Linear Discriminant Analysis**"
   ]
  },
  {
   "cell_type": "code",
   "execution_count": null,
   "id": "c23dfdf6",
   "metadata": {},
   "outputs": [],
   "source": [
    "lda = LinearDiscriminantAnalysis()\n",
    "lda.fit(X_train, y_train)"
   ]
  },
  {
   "cell_type": "code",
   "execution_count": null,
   "id": "56b6b50e",
   "metadata": {},
   "outputs": [],
   "source": [
    "train_pred_lda = lda.predict(X_train)\n",
    "val_pred_lda = lda.predict(X_val)"
   ]
  },
  {
   "cell_type": "code",
   "execution_count": null,
   "id": "5e434d3a",
   "metadata": {},
   "outputs": [],
   "source": [
    "metrics(y_train, train_pred_lda , y_val, val_pred_lda)"
   ]
  },
  {
   "cell_type": "markdown",
   "id": "ed578739",
   "metadata": {},
   "source": [
    "**Quadratic Discriminant Analysis**"
   ]
  },
  {
   "cell_type": "code",
   "execution_count": null,
   "id": "eb40ce3b",
   "metadata": {},
   "outputs": [],
   "source": [
    "qda = QuadraticDiscriminantAnalysis()\n",
    "qda.fit(X_train, y_train)"
   ]
  },
  {
   "cell_type": "code",
   "execution_count": null,
   "id": "24adf462",
   "metadata": {},
   "outputs": [],
   "source": [
    "train_pred_qda = qda.predict(X_train)\n",
    "val_pred_qda = qda.predict(X_val)"
   ]
  },
  {
   "cell_type": "code",
   "execution_count": null,
   "id": "f8338cf8",
   "metadata": {},
   "outputs": [],
   "source": [
    "metrics(y_train, train_pred_qda , y_val, val_pred_qda)"
   ]
  },
  {
   "cell_type": "markdown",
   "id": "85e5d7d3",
   "metadata": {},
   "source": [
    "**XGB Classifier**"
   ]
  },
  {
   "cell_type": "code",
   "execution_count": null,
   "id": "64e45de0",
   "metadata": {},
   "outputs": [],
   "source": [
    "xgb = XGBClassifier()\n",
    "xgb.fit(X_train, y_train)"
   ]
  },
  {
   "cell_type": "code",
   "execution_count": null,
   "id": "443f99bf",
   "metadata": {},
   "outputs": [],
   "source": [
    "train_pred_xgb = xgb.predict(X_train)\n",
    "val_pred_xgb = xgb.predict(X_val)"
   ]
  },
  {
   "cell_type": "code",
   "execution_count": null,
   "id": "9fea78d3",
   "metadata": {},
   "outputs": [],
   "source": [
    "metrics(y_train, train_pred_xgb , y_val, val_pred_xgb)"
   ]
  },
  {
   "cell_type": "markdown",
   "id": "b0b1cb6f",
   "metadata": {},
   "source": [
    "**LGBM Classifier**"
   ]
  },
  {
   "cell_type": "code",
   "execution_count": null,
   "id": "40336410",
   "metadata": {},
   "outputs": [],
   "source": [
    "lgbm = LGBMClassifier()\n",
    "lgbm.fit(X_train, y_train)"
   ]
  },
  {
   "cell_type": "code",
   "execution_count": null,
   "id": "adf27b14",
   "metadata": {},
   "outputs": [],
   "source": [
    "train_pred_lgbm = lgbm.predict(X_train)\n",
    "val_pred_lgbm = lgbm.predict(X_val)"
   ]
  },
  {
   "cell_type": "code",
   "execution_count": null,
   "id": "9a492942",
   "metadata": {},
   "outputs": [],
   "source": [
    "metrics(y_train, train_pred_lgbm , y_val, val_pred_lgbm)"
   ]
  },
  {
   "cell_type": "markdown",
   "id": "fc0ff139",
   "metadata": {},
   "source": [
    "## 2.1 Hyperparameter Tuning\n",
    "\n",
    "<a href=\"#top\">Top &#129033;</a>"
   ]
  },
  {
   "cell_type": "code",
   "execution_count": null,
   "id": "a2b5ddc1",
   "metadata": {},
   "outputs": [],
   "source": []
  },
  {
   "cell_type": "markdown",
   "id": "67eeb05f",
   "metadata": {},
   "source": [
    "## 2.2 Voting Ensemble\n",
    "\n",
    "<a href=\"#top\">Top &#129033;</a>"
   ]
  },
  {
   "cell_type": "code",
   "execution_count": 1,
   "id": "b220b6ca",
   "metadata": {
    "ExecuteTime": {
     "end_time": "2024-11-07T10:06:36.976271Z",
     "start_time": "2024-11-07T10:06:32.591543Z"
    }
   },
   "outputs": [],
   "source": [
    "from sklearn.ensemble import StackingClassifier, VotingClassifier"
   ]
  },
  {
   "cell_type": "code",
   "execution_count": null,
   "id": "ad1904be",
   "metadata": {},
   "outputs": [],
   "source": [
    "# estimators = [\n",
    "#     ('sgd', SGDClassifier()),\n",
    "#     ('rf', RandomForestClassifier()),\n",
    "#     ('svc', SVC(probability=True)),  # SVC needs `probability=True` for stacking\n",
    "# ]\n",
    "\n",
    "# stacking_clf = StackingClassifier(estimators=estimators, final_estimator=LogisticRegression())"
   ]
  },
  {
   "cell_type": "code",
   "execution_count": null,
   "id": "e23547f2",
   "metadata": {},
   "outputs": [],
   "source": [
    "# stacking_clf.fit(X_train, y_train)"
   ]
  },
  {
   "cell_type": "code",
   "execution_count": null,
   "id": "486291d1",
   "metadata": {},
   "outputs": [],
   "source": [
    "# train_pred_stack = stacking_clf.predict(X_train)\n",
    "# val_pred_stack = stacking_clf.predict(X_val)"
   ]
  },
  {
   "cell_type": "code",
   "execution_count": null,
   "id": "f80ad7c8",
   "metadata": {},
   "outputs": [],
   "source": [
    "# print(classification_report(y_train, train_pred_stack))\n",
    "# print(classification_report(y_val, val_pred_stack))"
   ]
  },
  {
   "cell_type": "markdown",
   "id": "f641f1e5",
   "metadata": {},
   "source": [
    "# 3. Final Predictions\n",
    "\n",
    "<a href=\"#top\">Top &#129033;</a>"
   ]
  },
  {
   "cell_type": "code",
   "execution_count": null,
   "id": "c8c67e0d",
   "metadata": {},
   "outputs": [],
   "source": [
    "test['Claim Injury Type'] = model.predict(test)"
   ]
  },
  {
   "cell_type": "markdown",
   "id": "930d669a",
   "metadata": {},
   "source": [
    "Map Predictions to Original Values"
   ]
  },
  {
   "cell_type": "code",
   "execution_count": null,
   "id": "29442bbe",
   "metadata": {},
   "outputs": [],
   "source": [
    "label_mapping = {\n",
    "    1: \"1. CANCELLED\",\n",
    "    2: \"2. NON-COMP\",\n",
    "    3: \"3. MED ONLY\",\n",
    "    4: \"4. TEMPORARY\",\n",
    "    5: \"5. PPD SCH LOSS\",\n",
    "    6: \"6. PPD NSL\",\n",
    "    7: \"7. PTD\",Check each category inside target\n",
    "\n",
    "test['Claim Injury Type'].value_counts() \n",
    "    8: \"8. DEATH\"\n",
    "}\n",
    "\n",
    "test['Claim Injury Type'] = test['Claim Injury Type'].replace(label_mapping)"
   ]
  },
  {
   "cell_type": "markdown",
   "id": "d91011d4",
   "metadata": {},
   "source": [
    "Check each category inside the target"
   ]
  },
  {
   "cell_type": "code",
   "execution_count": null,
   "id": "8b314cbe",
   "metadata": {
    "ExecuteTime": {
     "end_time": "2024-11-02T17:47:41.525069Z",
     "start_time": "2024-11-02T17:47:41.470822Z"
    }
   },
   "outputs": [],
   "source": [
    "test['Claim Injury Type'].value_counts() "
   ]
  },
  {
   "cell_type": "markdown",
   "id": "ea057cf1",
   "metadata": {},
   "source": [
    "# 5. Export\n",
    "\n",
    "<a href=\"#top\">Top &#129033;</a>"
   ]
  },
  {
   "cell_type": "markdown",
   "id": "4c2b7c03",
   "metadata": {},
   "source": [
    "**Select Columns for predictions**"
   ]
  },
  {
   "cell_type": "code",
   "execution_count": null,
   "id": "4e8fce8c",
   "metadata": {},
   "outputs": [],
   "source": [
    "predictions = test['Claim Injury Type']"
   ]
  },
  {
   "cell_type": "markdown",
   "id": "97abf927",
   "metadata": {},
   "source": [
    "**Export**"
   ]
  },
  {
   "cell_type": "code",
   "execution_count": null,
   "id": "dd972819",
   "metadata": {},
   "outputs": [],
   "source": [
    "name = None"
   ]
  },
  {
   "cell_type": "code",
   "execution_count": null,
   "id": "98117a56",
   "metadata": {
    "ExecuteTime": {
     "end_time": "2024-11-03T15:41:12.148623Z",
     "start_time": "2024-11-03T15:40:58.875576Z"
    }
   },
   "outputs": [],
   "source": [
    "predictions.to_csv(f'./predictions/{name}.csv')"
   ]
  }
 ],
 "metadata": {
  "kernelspec": {
   "display_name": "Python 3 (ipykernel)",
   "language": "python",
   "name": "python3"
  },
  "language_info": {
   "codemirror_mode": {
    "name": "ipython",
    "version": 3
   },
   "file_extension": ".py",
   "mimetype": "text/x-python",
   "name": "python",
   "nbconvert_exporter": "python",
   "pygments_lexer": "ipython3",
   "version": "3.10.13"
  }
 },
 "nbformat": 4,
 "nbformat_minor": 5
}
