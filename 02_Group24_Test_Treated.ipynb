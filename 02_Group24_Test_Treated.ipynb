{
 "cells": [
  {
   "cell_type": "code",
   "execution_count": 7,
   "id": "71c1eb70",
   "metadata": {
    "ExecuteTime": {
     "end_time": "2024-10-31T17:04:14.020784Z",
     "start_time": "2024-10-31T17:04:14.015896Z"
    }
   },
   "outputs": [],
   "source": [
    "import pandas as pd\n",
    "import numpy as np\n",
    "\n",
    "pd.set_option('display.max_columns', None)"
   ]
  },
  {
   "cell_type": "markdown",
   "id": "a4c849a3",
   "metadata": {},
   "source": [
    "**Import Data**"
   ]
  },
  {
   "cell_type": "code",
   "execution_count": 8,
   "id": "65ae9f03",
   "metadata": {
    "ExecuteTime": {
     "end_time": "2024-10-31T17:04:16.099546Z",
     "start_time": "2024-10-31T17:04:14.025365Z"
    },
    "scrolled": true
   },
   "outputs": [
    {
     "data": {
      "text/html": [
       "<div>\n",
       "<style scoped>\n",
       "    .dataframe tbody tr th:only-of-type {\n",
       "        vertical-align: middle;\n",
       "    }\n",
       "\n",
       "    .dataframe tbody tr th {\n",
       "        vertical-align: top;\n",
       "    }\n",
       "\n",
       "    .dataframe thead th {\n",
       "        text-align: right;\n",
       "    }\n",
       "</style>\n",
       "<table border=\"1\" class=\"dataframe\">\n",
       "  <thead>\n",
       "    <tr style=\"text-align: right;\">\n",
       "      <th></th>\n",
       "      <th>Accident Date</th>\n",
       "      <th>Age at Injury</th>\n",
       "      <th>Alternative Dispute Resolution</th>\n",
       "      <th>Assembly Date</th>\n",
       "      <th>Attorney/Representative</th>\n",
       "      <th>Average Weekly Wage</th>\n",
       "      <th>Birth Year</th>\n",
       "      <th>C-2 Date</th>\n",
       "      <th>C-3 Date</th>\n",
       "      <th>Carrier Name</th>\n",
       "      <th>Carrier Type</th>\n",
       "      <th>County of Injury</th>\n",
       "      <th>COVID-19 Indicator</th>\n",
       "      <th>District Name</th>\n",
       "      <th>First Hearing Date</th>\n",
       "      <th>Gender</th>\n",
       "      <th>IME-4 Count</th>\n",
       "      <th>Industry Code</th>\n",
       "      <th>Industry Code Description</th>\n",
       "      <th>Medical Fee Region</th>\n",
       "      <th>OIICS Nature of Injury Description</th>\n",
       "      <th>WCIO Cause of Injury Code</th>\n",
       "      <th>WCIO Cause of Injury Description</th>\n",
       "      <th>WCIO Nature of Injury Code</th>\n",
       "      <th>WCIO Nature of Injury Description</th>\n",
       "      <th>WCIO Part Of Body Code</th>\n",
       "      <th>WCIO Part Of Body Description</th>\n",
       "      <th>Zip Code</th>\n",
       "      <th>Number of Dependents</th>\n",
       "    </tr>\n",
       "    <tr>\n",
       "      <th>Claim Identifier</th>\n",
       "      <th></th>\n",
       "      <th></th>\n",
       "      <th></th>\n",
       "      <th></th>\n",
       "      <th></th>\n",
       "      <th></th>\n",
       "      <th></th>\n",
       "      <th></th>\n",
       "      <th></th>\n",
       "      <th></th>\n",
       "      <th></th>\n",
       "      <th></th>\n",
       "      <th></th>\n",
       "      <th></th>\n",
       "      <th></th>\n",
       "      <th></th>\n",
       "      <th></th>\n",
       "      <th></th>\n",
       "      <th></th>\n",
       "      <th></th>\n",
       "      <th></th>\n",
       "      <th></th>\n",
       "      <th></th>\n",
       "      <th></th>\n",
       "      <th></th>\n",
       "      <th></th>\n",
       "      <th></th>\n",
       "      <th></th>\n",
       "      <th></th>\n",
       "    </tr>\n",
       "  </thead>\n",
       "  <tbody>\n",
       "    <tr>\n",
       "      <th>6165911</th>\n",
       "      <td>2022-12-24</td>\n",
       "      <td>19</td>\n",
       "      <td>N</td>\n",
       "      <td>2023-01-02</td>\n",
       "      <td>N</td>\n",
       "      <td>NaN</td>\n",
       "      <td>2003.0</td>\n",
       "      <td>2023-01-02</td>\n",
       "      <td>NaN</td>\n",
       "      <td>INDEMNITY INSURANCE CO OF</td>\n",
       "      <td>1A. PRIVATE</td>\n",
       "      <td>BRONX</td>\n",
       "      <td>N</td>\n",
       "      <td>NYC</td>\n",
       "      <td>NaN</td>\n",
       "      <td>M</td>\n",
       "      <td>NaN</td>\n",
       "      <td>48.0</td>\n",
       "      <td>TRANSPORTATION AND WAREHOUSING</td>\n",
       "      <td>IV</td>\n",
       "      <td>NaN</td>\n",
       "      <td>31.0</td>\n",
       "      <td>FALL, SLIP OR TRIP, NOC</td>\n",
       "      <td>10.0</td>\n",
       "      <td>CONTUSION</td>\n",
       "      <td>54.0</td>\n",
       "      <td>LOWER LEG</td>\n",
       "      <td>10466</td>\n",
       "      <td>1</td>\n",
       "    </tr>\n",
       "    <tr>\n",
       "      <th>6166141</th>\n",
       "      <td>2022-11-20</td>\n",
       "      <td>19</td>\n",
       "      <td>N</td>\n",
       "      <td>2023-01-02</td>\n",
       "      <td>N</td>\n",
       "      <td>NaN</td>\n",
       "      <td>2003.0</td>\n",
       "      <td>2023-01-02</td>\n",
       "      <td>NaN</td>\n",
       "      <td>A I U INSURANCE COMPANY</td>\n",
       "      <td>1A. PRIVATE</td>\n",
       "      <td>QUEENS</td>\n",
       "      <td>N</td>\n",
       "      <td>NYC</td>\n",
       "      <td>NaN</td>\n",
       "      <td>F</td>\n",
       "      <td>NaN</td>\n",
       "      <td>45.0</td>\n",
       "      <td>RETAIL TRADE</td>\n",
       "      <td>IV</td>\n",
       "      <td>NaN</td>\n",
       "      <td>75.0</td>\n",
       "      <td>FALLING OR FLYING OBJECT</td>\n",
       "      <td>10.0</td>\n",
       "      <td>CONTUSION</td>\n",
       "      <td>10.0</td>\n",
       "      <td>MULTIPLE HEAD INJURY</td>\n",
       "      <td>11691</td>\n",
       "      <td>1</td>\n",
       "    </tr>\n",
       "  </tbody>\n",
       "</table>\n",
       "</div>"
      ],
      "text/plain": [
       "                 Accident Date  Age at Injury Alternative Dispute Resolution  \\\n",
       "Claim Identifier                                                               \n",
       "6165911             2022-12-24             19                              N   \n",
       "6166141             2022-11-20             19                              N   \n",
       "\n",
       "                 Assembly Date Attorney/Representative  Average Weekly Wage  \\\n",
       "Claim Identifier                                                              \n",
       "6165911             2023-01-02                       N                  NaN   \n",
       "6166141             2023-01-02                       N                  NaN   \n",
       "\n",
       "                  Birth Year    C-2 Date C-3 Date               Carrier Name  \\\n",
       "Claim Identifier                                                               \n",
       "6165911               2003.0  2023-01-02      NaN  INDEMNITY INSURANCE CO OF   \n",
       "6166141               2003.0  2023-01-02      NaN    A I U INSURANCE COMPANY   \n",
       "\n",
       "                 Carrier Type County of Injury COVID-19 Indicator  \\\n",
       "Claim Identifier                                                    \n",
       "6165911           1A. PRIVATE            BRONX                  N   \n",
       "6166141           1A. PRIVATE           QUEENS                  N   \n",
       "\n",
       "                 District Name First Hearing Date Gender  IME-4 Count  \\\n",
       "Claim Identifier                                                        \n",
       "6165911                    NYC                NaN      M          NaN   \n",
       "6166141                    NYC                NaN      F          NaN   \n",
       "\n",
       "                  Industry Code       Industry Code Description  \\\n",
       "Claim Identifier                                                  \n",
       "6165911                    48.0  TRANSPORTATION AND WAREHOUSING   \n",
       "6166141                    45.0                    RETAIL TRADE   \n",
       "\n",
       "                 Medical Fee Region  OIICS Nature of Injury Description  \\\n",
       "Claim Identifier                                                          \n",
       "6165911                          IV                                 NaN   \n",
       "6166141                          IV                                 NaN   \n",
       "\n",
       "                  WCIO Cause of Injury Code WCIO Cause of Injury Description  \\\n",
       "Claim Identifier                                                               \n",
       "6165911                                31.0          FALL, SLIP OR TRIP, NOC   \n",
       "6166141                                75.0         FALLING OR FLYING OBJECT   \n",
       "\n",
       "                  WCIO Nature of Injury Code  \\\n",
       "Claim Identifier                               \n",
       "6165911                                 10.0   \n",
       "6166141                                 10.0   \n",
       "\n",
       "                 WCIO Nature of Injury Description  WCIO Part Of Body Code  \\\n",
       "Claim Identifier                                                             \n",
       "6165911                                  CONTUSION                    54.0   \n",
       "6166141                                  CONTUSION                    10.0   \n",
       "\n",
       "                 WCIO Part Of Body Description Zip Code  Number of Dependents  \n",
       "Claim Identifier                                                               \n",
       "6165911                              LOWER LEG    10466                     1  \n",
       "6166141                   MULTIPLE HEAD INJURY    11691                     1  "
      ]
     },
     "execution_count": 8,
     "metadata": {},
     "output_type": "execute_result"
    }
   ],
   "source": [
    "df = pd.read_csv('./project_data/test_data.csv', index_col = 'Claim Identifier')\n",
    "df.head(2)"
   ]
  },
  {
   "cell_type": "markdown",
   "id": "50563254",
   "metadata": {},
   "source": [
    "# 1. Exploratory Data Analysis\n",
    "\n",
    "<a href=\"#top\">Top &#129033;</a>"
   ]
  },
  {
   "cell_type": "code",
   "execution_count": 9,
   "id": "64c3cf16",
   "metadata": {
    "ExecuteTime": {
     "end_time": "2024-10-31T17:04:17.036040Z",
     "start_time": "2024-10-31T17:04:16.102065Z"
    }
   },
   "outputs": [
    {
     "data": {
      "text/html": [
       "<div>\n",
       "<style scoped>\n",
       "    .dataframe tbody tr th:only-of-type {\n",
       "        vertical-align: middle;\n",
       "    }\n",
       "\n",
       "    .dataframe tbody tr th {\n",
       "        vertical-align: top;\n",
       "    }\n",
       "\n",
       "    .dataframe thead th {\n",
       "        text-align: right;\n",
       "    }\n",
       "</style>\n",
       "<table border=\"1\" class=\"dataframe\">\n",
       "  <thead>\n",
       "    <tr style=\"text-align: right;\">\n",
       "      <th></th>\n",
       "      <th>count</th>\n",
       "      <th>unique</th>\n",
       "      <th>top</th>\n",
       "      <th>freq</th>\n",
       "    </tr>\n",
       "  </thead>\n",
       "  <tbody>\n",
       "    <tr>\n",
       "      <th>Accident Date</th>\n",
       "      <td>385531</td>\n",
       "      <td>3438</td>\n",
       "      <td>2024-01-16</td>\n",
       "      <td>1263</td>\n",
       "    </tr>\n",
       "    <tr>\n",
       "      <th>Alternative Dispute Resolution</th>\n",
       "      <td>387975</td>\n",
       "      <td>3</td>\n",
       "      <td>N</td>\n",
       "      <td>386314</td>\n",
       "    </tr>\n",
       "    <tr>\n",
       "      <th>Assembly Date</th>\n",
       "      <td>387975</td>\n",
       "      <td>434</td>\n",
       "      <td>2023-09-21</td>\n",
       "      <td>1789</td>\n",
       "    </tr>\n",
       "    <tr>\n",
       "      <th>Attorney/Representative</th>\n",
       "      <td>387975</td>\n",
       "      <td>2</td>\n",
       "      <td>N</td>\n",
       "      <td>306476</td>\n",
       "    </tr>\n",
       "    <tr>\n",
       "      <th>C-2 Date</th>\n",
       "      <td>378841</td>\n",
       "      <td>1048</td>\n",
       "      <td>2023-10-11</td>\n",
       "      <td>1687</td>\n",
       "    </tr>\n",
       "    <tr>\n",
       "      <th>C-3 Date</th>\n",
       "      <td>85216</td>\n",
       "      <td>626</td>\n",
       "      <td>2023-10-04</td>\n",
       "      <td>341</td>\n",
       "    </tr>\n",
       "    <tr>\n",
       "      <th>Carrier Name</th>\n",
       "      <td>387975</td>\n",
       "      <td>1598</td>\n",
       "      <td>STATE INSURANCE FUND</td>\n",
       "      <td>66189</td>\n",
       "    </tr>\n",
       "    <tr>\n",
       "      <th>Carrier Type</th>\n",
       "      <td>387975</td>\n",
       "      <td>7</td>\n",
       "      <td>1A. PRIVATE</td>\n",
       "      <td>201827</td>\n",
       "    </tr>\n",
       "    <tr>\n",
       "      <th>County of Injury</th>\n",
       "      <td>387975</td>\n",
       "      <td>63</td>\n",
       "      <td>QUEENS</td>\n",
       "      <td>40358</td>\n",
       "    </tr>\n",
       "    <tr>\n",
       "      <th>COVID-19 Indicator</th>\n",
       "      <td>387975</td>\n",
       "      <td>2</td>\n",
       "      <td>N</td>\n",
       "      <td>385434</td>\n",
       "    </tr>\n",
       "    <tr>\n",
       "      <th>District Name</th>\n",
       "      <td>387975</td>\n",
       "      <td>8</td>\n",
       "      <td>NYC</td>\n",
       "      <td>187972</td>\n",
       "    </tr>\n",
       "    <tr>\n",
       "      <th>First Hearing Date</th>\n",
       "      <td>43028</td>\n",
       "      <td>338</td>\n",
       "      <td>2024-02-06</td>\n",
       "      <td>329</td>\n",
       "    </tr>\n",
       "    <tr>\n",
       "      <th>Gender</th>\n",
       "      <td>387975</td>\n",
       "      <td>4</td>\n",
       "      <td>M</td>\n",
       "      <td>215343</td>\n",
       "    </tr>\n",
       "    <tr>\n",
       "      <th>Industry Code Description</th>\n",
       "      <td>380239</td>\n",
       "      <td>20</td>\n",
       "      <td>HEALTH CARE AND SOCIAL ASSISTANCE</td>\n",
       "      <td>72207</td>\n",
       "    </tr>\n",
       "    <tr>\n",
       "      <th>Medical Fee Region</th>\n",
       "      <td>387975</td>\n",
       "      <td>5</td>\n",
       "      <td>IV</td>\n",
       "      <td>182276</td>\n",
       "    </tr>\n",
       "    <tr>\n",
       "      <th>WCIO Cause of Injury Description</th>\n",
       "      <td>377627</td>\n",
       "      <td>74</td>\n",
       "      <td>FELLOW WORKER, PATIENT OR OTHER PERSON</td>\n",
       "      <td>33293</td>\n",
       "    </tr>\n",
       "    <tr>\n",
       "      <th>WCIO Nature of Injury Description</th>\n",
       "      <td>377415</td>\n",
       "      <td>56</td>\n",
       "      <td>STRAIN OR TEAR</td>\n",
       "      <td>108326</td>\n",
       "    </tr>\n",
       "    <tr>\n",
       "      <th>WCIO Part Of Body Description</th>\n",
       "      <td>378426</td>\n",
       "      <td>51</td>\n",
       "      <td>MULTIPLE</td>\n",
       "      <td>67465</td>\n",
       "    </tr>\n",
       "    <tr>\n",
       "      <th>Zip Code</th>\n",
       "      <td>368633</td>\n",
       "      <td>6276</td>\n",
       "      <td>11368</td>\n",
       "      <td>2068</td>\n",
       "    </tr>\n",
       "  </tbody>\n",
       "</table>\n",
       "</div>"
      ],
      "text/plain": [
       "                                    count unique  \\\n",
       "Accident Date                      385531   3438   \n",
       "Alternative Dispute Resolution     387975      3   \n",
       "Assembly Date                      387975    434   \n",
       "Attorney/Representative            387975      2   \n",
       "C-2 Date                           378841   1048   \n",
       "C-3 Date                            85216    626   \n",
       "Carrier Name                       387975   1598   \n",
       "Carrier Type                       387975      7   \n",
       "County of Injury                   387975     63   \n",
       "COVID-19 Indicator                 387975      2   \n",
       "District Name                      387975      8   \n",
       "First Hearing Date                  43028    338   \n",
       "Gender                             387975      4   \n",
       "Industry Code Description          380239     20   \n",
       "Medical Fee Region                 387975      5   \n",
       "WCIO Cause of Injury Description   377627     74   \n",
       "WCIO Nature of Injury Description  377415     56   \n",
       "WCIO Part Of Body Description      378426     51   \n",
       "Zip Code                           368633   6276   \n",
       "\n",
       "                                                                      top  \\\n",
       "Accident Date                                                  2024-01-16   \n",
       "Alternative Dispute Resolution                                          N   \n",
       "Assembly Date                                                  2023-09-21   \n",
       "Attorney/Representative                                                 N   \n",
       "C-2 Date                                                       2023-10-11   \n",
       "C-3 Date                                                       2023-10-04   \n",
       "Carrier Name                                         STATE INSURANCE FUND   \n",
       "Carrier Type                                                  1A. PRIVATE   \n",
       "County of Injury                                                   QUEENS   \n",
       "COVID-19 Indicator                                                      N   \n",
       "District Name                                                         NYC   \n",
       "First Hearing Date                                             2024-02-06   \n",
       "Gender                                                                  M   \n",
       "Industry Code Description               HEALTH CARE AND SOCIAL ASSISTANCE   \n",
       "Medical Fee Region                                                     IV   \n",
       "WCIO Cause of Injury Description   FELLOW WORKER, PATIENT OR OTHER PERSON   \n",
       "WCIO Nature of Injury Description                          STRAIN OR TEAR   \n",
       "WCIO Part Of Body Description                                    MULTIPLE   \n",
       "Zip Code                                                            11368   \n",
       "\n",
       "                                     freq  \n",
       "Accident Date                        1263  \n",
       "Alternative Dispute Resolution     386314  \n",
       "Assembly Date                        1789  \n",
       "Attorney/Representative            306476  \n",
       "C-2 Date                             1687  \n",
       "C-3 Date                              341  \n",
       "Carrier Name                        66189  \n",
       "Carrier Type                       201827  \n",
       "County of Injury                    40358  \n",
       "COVID-19 Indicator                 385434  \n",
       "District Name                      187972  \n",
       "First Hearing Date                    329  \n",
       "Gender                             215343  \n",
       "Industry Code Description           72207  \n",
       "Medical Fee Region                 182276  \n",
       "WCIO Cause of Injury Description    33293  \n",
       "WCIO Nature of Injury Description  108326  \n",
       "WCIO Part Of Body Description       67465  \n",
       "Zip Code                             2068  "
      ]
     },
     "execution_count": 9,
     "metadata": {},
     "output_type": "execute_result"
    }
   ],
   "source": [
    "df.describe(include='object').T"
   ]
  },
  {
   "cell_type": "code",
   "execution_count": 10,
   "id": "79851f43",
   "metadata": {
    "ExecuteTime": {
     "end_time": "2024-10-31T17:04:17.258571Z",
     "start_time": "2024-10-31T17:04:17.040073Z"
    }
   },
   "outputs": [
    {
     "data": {
      "text/html": [
       "<div>\n",
       "<style scoped>\n",
       "    .dataframe tbody tr th:only-of-type {\n",
       "        vertical-align: middle;\n",
       "    }\n",
       "\n",
       "    .dataframe tbody tr th {\n",
       "        vertical-align: top;\n",
       "    }\n",
       "\n",
       "    .dataframe thead th {\n",
       "        text-align: right;\n",
       "    }\n",
       "</style>\n",
       "<table border=\"1\" class=\"dataframe\">\n",
       "  <thead>\n",
       "    <tr style=\"text-align: right;\">\n",
       "      <th></th>\n",
       "      <th>count</th>\n",
       "      <th>mean</th>\n",
       "      <th>std</th>\n",
       "      <th>min</th>\n",
       "      <th>25%</th>\n",
       "      <th>50%</th>\n",
       "      <th>75%</th>\n",
       "      <th>max</th>\n",
       "    </tr>\n",
       "  </thead>\n",
       "  <tbody>\n",
       "    <tr>\n",
       "      <th>Age at Injury</th>\n",
       "      <td>387975.0</td>\n",
       "      <td>41.414944</td>\n",
       "      <td>14.501056</td>\n",
       "      <td>0.0</td>\n",
       "      <td>30.0</td>\n",
       "      <td>40.0</td>\n",
       "      <td>53.0</td>\n",
       "      <td>114.0</td>\n",
       "    </tr>\n",
       "    <tr>\n",
       "      <th>Average Weekly Wage</th>\n",
       "      <td>368771.0</td>\n",
       "      <td>183.343831</td>\n",
       "      <td>3542.310214</td>\n",
       "      <td>0.0</td>\n",
       "      <td>0.0</td>\n",
       "      <td>0.0</td>\n",
       "      <td>0.0</td>\n",
       "      <td>1950317.0</td>\n",
       "    </tr>\n",
       "    <tr>\n",
       "      <th>Birth Year</th>\n",
       "      <td>368505.0</td>\n",
       "      <td>1875.383466</td>\n",
       "      <td>444.659075</td>\n",
       "      <td>0.0</td>\n",
       "      <td>1967.0</td>\n",
       "      <td>1980.0</td>\n",
       "      <td>1992.0</td>\n",
       "      <td>2019.0</td>\n",
       "    </tr>\n",
       "    <tr>\n",
       "      <th>IME-4 Count</th>\n",
       "      <td>35249.0</td>\n",
       "      <td>2.118131</td>\n",
       "      <td>1.465406</td>\n",
       "      <td>1.0</td>\n",
       "      <td>1.0</td>\n",
       "      <td>2.0</td>\n",
       "      <td>2.0</td>\n",
       "      <td>18.0</td>\n",
       "    </tr>\n",
       "    <tr>\n",
       "      <th>Industry Code</th>\n",
       "      <td>380239.0</td>\n",
       "      <td>58.653581</td>\n",
       "      <td>18.710501</td>\n",
       "      <td>11.0</td>\n",
       "      <td>45.0</td>\n",
       "      <td>61.0</td>\n",
       "      <td>71.0</td>\n",
       "      <td>92.0</td>\n",
       "    </tr>\n",
       "    <tr>\n",
       "      <th>OIICS Nature of Injury Description</th>\n",
       "      <td>0.0</td>\n",
       "      <td>NaN</td>\n",
       "      <td>NaN</td>\n",
       "      <td>NaN</td>\n",
       "      <td>NaN</td>\n",
       "      <td>NaN</td>\n",
       "      <td>NaN</td>\n",
       "      <td>NaN</td>\n",
       "    </tr>\n",
       "    <tr>\n",
       "      <th>WCIO Cause of Injury Code</th>\n",
       "      <td>377627.0</td>\n",
       "      <td>53.335678</td>\n",
       "      <td>26.176833</td>\n",
       "      <td>1.0</td>\n",
       "      <td>29.0</td>\n",
       "      <td>56.0</td>\n",
       "      <td>74.0</td>\n",
       "      <td>99.0</td>\n",
       "    </tr>\n",
       "    <tr>\n",
       "      <th>WCIO Nature of Injury Code</th>\n",
       "      <td>377415.0</td>\n",
       "      <td>38.373674</td>\n",
       "      <td>20.966100</td>\n",
       "      <td>1.0</td>\n",
       "      <td>10.0</td>\n",
       "      <td>43.0</td>\n",
       "      <td>52.0</td>\n",
       "      <td>91.0</td>\n",
       "    </tr>\n",
       "    <tr>\n",
       "      <th>WCIO Part Of Body Code</th>\n",
       "      <td>378426.0</td>\n",
       "      <td>31.516109</td>\n",
       "      <td>23.359950</td>\n",
       "      <td>-9.0</td>\n",
       "      <td>15.0</td>\n",
       "      <td>36.0</td>\n",
       "      <td>51.0</td>\n",
       "      <td>99.0</td>\n",
       "    </tr>\n",
       "    <tr>\n",
       "      <th>Number of Dependents</th>\n",
       "      <td>387975.0</td>\n",
       "      <td>3.000284</td>\n",
       "      <td>1.997982</td>\n",
       "      <td>0.0</td>\n",
       "      <td>1.0</td>\n",
       "      <td>3.0</td>\n",
       "      <td>5.0</td>\n",
       "      <td>6.0</td>\n",
       "    </tr>\n",
       "  </tbody>\n",
       "</table>\n",
       "</div>"
      ],
      "text/plain": [
       "                                       count         mean          std   min  \\\n",
       "Age at Injury                       387975.0    41.414944    14.501056   0.0   \n",
       "Average Weekly Wage                 368771.0   183.343831  3542.310214   0.0   \n",
       "Birth Year                          368505.0  1875.383466   444.659075   0.0   \n",
       "IME-4 Count                          35249.0     2.118131     1.465406   1.0   \n",
       "Industry Code                       380239.0    58.653581    18.710501  11.0   \n",
       "OIICS Nature of Injury Description       0.0          NaN          NaN   NaN   \n",
       "WCIO Cause of Injury Code           377627.0    53.335678    26.176833   1.0   \n",
       "WCIO Nature of Injury Code          377415.0    38.373674    20.966100   1.0   \n",
       "WCIO Part Of Body Code              378426.0    31.516109    23.359950  -9.0   \n",
       "Number of Dependents                387975.0     3.000284     1.997982   0.0   \n",
       "\n",
       "                                       25%     50%     75%        max  \n",
       "Age at Injury                         30.0    40.0    53.0      114.0  \n",
       "Average Weekly Wage                    0.0     0.0     0.0  1950317.0  \n",
       "Birth Year                          1967.0  1980.0  1992.0     2019.0  \n",
       "IME-4 Count                            1.0     2.0     2.0       18.0  \n",
       "Industry Code                         45.0    61.0    71.0       92.0  \n",
       "OIICS Nature of Injury Description     NaN     NaN     NaN        NaN  \n",
       "WCIO Cause of Injury Code             29.0    56.0    74.0       99.0  \n",
       "WCIO Nature of Injury Code            10.0    43.0    52.0       91.0  \n",
       "WCIO Part Of Body Code                15.0    36.0    51.0       99.0  \n",
       "Number of Dependents                   1.0     3.0     5.0        6.0  "
      ]
     },
     "execution_count": 10,
     "metadata": {},
     "output_type": "execute_result"
    }
   ],
   "source": [
    "df.describe().T"
   ]
  },
  {
   "cell_type": "code",
   "execution_count": 11,
   "id": "1f2b9559",
   "metadata": {
    "ExecuteTime": {
     "end_time": "2024-10-31T17:04:17.265630Z",
     "start_time": "2024-10-31T17:04:17.261177Z"
    }
   },
   "outputs": [
    {
     "data": {
      "text/plain": [
       "(387975, 29)"
      ]
     },
     "execution_count": 11,
     "metadata": {},
     "output_type": "execute_result"
    }
   ],
   "source": [
    "df.shape"
   ]
  },
  {
   "cell_type": "code",
   "execution_count": 12,
   "id": "4f985142",
   "metadata": {
    "ExecuteTime": {
     "end_time": "2024-10-31T17:04:17.608772Z",
     "start_time": "2024-10-31T17:04:17.268593Z"
    }
   },
   "outputs": [
    {
     "name": "stdout",
     "output_type": "stream",
     "text": [
      "<class 'pandas.core.frame.DataFrame'>\n",
      "Index: 387975 entries, 6165911 to 6553594\n",
      "Data columns (total 29 columns):\n",
      " #   Column                              Non-Null Count   Dtype  \n",
      "---  ------                              --------------   -----  \n",
      " 0   Accident Date                       385531 non-null  object \n",
      " 1   Age at Injury                       387975 non-null  int64  \n",
      " 2   Alternative Dispute Resolution      387975 non-null  object \n",
      " 3   Assembly Date                       387975 non-null  object \n",
      " 4   Attorney/Representative             387975 non-null  object \n",
      " 5   Average Weekly Wage                 368771 non-null  float64\n",
      " 6   Birth Year                          368505 non-null  float64\n",
      " 7   C-2 Date                            378841 non-null  object \n",
      " 8   C-3 Date                            85216 non-null   object \n",
      " 9   Carrier Name                        387975 non-null  object \n",
      " 10  Carrier Type                        387975 non-null  object \n",
      " 11  County of Injury                    387975 non-null  object \n",
      " 12  COVID-19 Indicator                  387975 non-null  object \n",
      " 13  District Name                       387975 non-null  object \n",
      " 14  First Hearing Date                  43028 non-null   object \n",
      " 15  Gender                              387975 non-null  object \n",
      " 16  IME-4 Count                         35249 non-null   float64\n",
      " 17  Industry Code                       380239 non-null  float64\n",
      " 18  Industry Code Description           380239 non-null  object \n",
      " 19  Medical Fee Region                  387975 non-null  object \n",
      " 20  OIICS Nature of Injury Description  0 non-null       float64\n",
      " 21  WCIO Cause of Injury Code           377627 non-null  float64\n",
      " 22  WCIO Cause of Injury Description    377627 non-null  object \n",
      " 23  WCIO Nature of Injury Code          377415 non-null  float64\n",
      " 24  WCIO Nature of Injury Description   377415 non-null  object \n",
      " 25  WCIO Part Of Body Code              378426 non-null  float64\n",
      " 26  WCIO Part Of Body Description       378426 non-null  object \n",
      " 27  Zip Code                            368633 non-null  object \n",
      " 28  Number of Dependents                387975 non-null  int64  \n",
      "dtypes: float64(8), int64(2), object(19)\n",
      "memory usage: 88.8+ MB\n"
     ]
    }
   ],
   "source": [
    "df.info()"
   ]
  },
  {
   "cell_type": "markdown",
   "id": "5ca2558a",
   "metadata": {},
   "source": [
    "# 2. Data Cleaning & Preprocessing\n",
    "\n",
    "<a href=\"#top\">Top &#129033;</a>"
   ]
  },
  {
   "cell_type": "markdown",
   "id": "5b9d5072",
   "metadata": {},
   "source": [
    "## 2.1 Feature Engineering\n",
    "\n",
    "<a href=\"#top\">Top &#129033;</a>\n",
    "\n",
    "all transformations must be applied o X_test too"
   ]
  },
  {
   "cell_type": "markdown",
   "id": "7bd7ec93",
   "metadata": {},
   "source": [
    "### 2.1.1 Data Type Conversions\n",
    "\n",
    "even though this is usually feature engineering, it will be useful doing before treating missing values"
   ]
  },
  {
   "cell_type": "code",
   "execution_count": 13,
   "id": "92819176",
   "metadata": {
    "ExecuteTime": {
     "end_time": "2024-10-31T17:04:17.614337Z",
     "start_time": "2024-10-31T17:04:17.611470Z"
    },
    "scrolled": true
   },
   "outputs": [],
   "source": [
    "#df.info()"
   ]
  },
  {
   "cell_type": "code",
   "execution_count": 14,
   "id": "86f67daf",
   "metadata": {
    "ExecuteTime": {
     "end_time": "2024-10-31T17:04:17.832793Z",
     "start_time": "2024-10-31T17:04:17.616805Z"
    }
   },
   "outputs": [],
   "source": [
    "df['Accident Date'] = pd.to_datetime(df['Accident Date'], \n",
    "                                     errors='coerce')\n",
    "\n",
    "df['Assembly Date'] = pd.to_datetime(df['Assembly Date'], \n",
    "                                     errors='coerce')\n",
    "\n",
    "df['C-2 Date'] = pd.to_datetime(df['C-2 Date'], \n",
    "                                errors='coerce')\n",
    "\n",
    "df['C-3 Date'] = pd.to_datetime(df['C-3 Date'], \n",
    "                                errors='coerce')\n",
    "\n",
    "df['First Hearing Date'] = pd.to_datetime(df['First Hearing Date'], \n",
    "                                          errors='coerce')"
   ]
  },
  {
   "cell_type": "code",
   "execution_count": 15,
   "id": "1f05276b",
   "metadata": {
    "ExecuteTime": {
     "end_time": "2024-10-31T17:04:17.862792Z",
     "start_time": "2024-10-31T17:04:17.839274Z"
    },
    "scrolled": false
   },
   "outputs": [
    {
     "data": {
      "text/html": [
       "<div>\n",
       "<style scoped>\n",
       "    .dataframe tbody tr th:only-of-type {\n",
       "        vertical-align: middle;\n",
       "    }\n",
       "\n",
       "    .dataframe tbody tr th {\n",
       "        vertical-align: top;\n",
       "    }\n",
       "\n",
       "    .dataframe thead th {\n",
       "        text-align: right;\n",
       "    }\n",
       "</style>\n",
       "<table border=\"1\" class=\"dataframe\">\n",
       "  <thead>\n",
       "    <tr style=\"text-align: right;\">\n",
       "      <th></th>\n",
       "      <th>Accident Date</th>\n",
       "      <th>Age at Injury</th>\n",
       "      <th>Alternative Dispute Resolution</th>\n",
       "      <th>Assembly Date</th>\n",
       "      <th>Attorney/Representative</th>\n",
       "      <th>Average Weekly Wage</th>\n",
       "      <th>Birth Year</th>\n",
       "      <th>C-2 Date</th>\n",
       "      <th>C-3 Date</th>\n",
       "      <th>Carrier Name</th>\n",
       "      <th>Carrier Type</th>\n",
       "      <th>County of Injury</th>\n",
       "      <th>COVID-19 Indicator</th>\n",
       "      <th>District Name</th>\n",
       "      <th>First Hearing Date</th>\n",
       "      <th>Gender</th>\n",
       "      <th>IME-4 Count</th>\n",
       "      <th>Industry Code</th>\n",
       "      <th>Industry Code Description</th>\n",
       "      <th>Medical Fee Region</th>\n",
       "      <th>OIICS Nature of Injury Description</th>\n",
       "      <th>WCIO Cause of Injury Code</th>\n",
       "      <th>WCIO Cause of Injury Description</th>\n",
       "      <th>WCIO Nature of Injury Code</th>\n",
       "      <th>WCIO Nature of Injury Description</th>\n",
       "      <th>WCIO Part Of Body Code</th>\n",
       "      <th>WCIO Part Of Body Description</th>\n",
       "      <th>Zip Code</th>\n",
       "      <th>Number of Dependents</th>\n",
       "    </tr>\n",
       "    <tr>\n",
       "      <th>Claim Identifier</th>\n",
       "      <th></th>\n",
       "      <th></th>\n",
       "      <th></th>\n",
       "      <th></th>\n",
       "      <th></th>\n",
       "      <th></th>\n",
       "      <th></th>\n",
       "      <th></th>\n",
       "      <th></th>\n",
       "      <th></th>\n",
       "      <th></th>\n",
       "      <th></th>\n",
       "      <th></th>\n",
       "      <th></th>\n",
       "      <th></th>\n",
       "      <th></th>\n",
       "      <th></th>\n",
       "      <th></th>\n",
       "      <th></th>\n",
       "      <th></th>\n",
       "      <th></th>\n",
       "      <th></th>\n",
       "      <th></th>\n",
       "      <th></th>\n",
       "      <th></th>\n",
       "      <th></th>\n",
       "      <th></th>\n",
       "      <th></th>\n",
       "      <th></th>\n",
       "    </tr>\n",
       "  </thead>\n",
       "  <tbody>\n",
       "    <tr>\n",
       "      <th>6165911</th>\n",
       "      <td>2022-12-24</td>\n",
       "      <td>19</td>\n",
       "      <td>N</td>\n",
       "      <td>2023-01-02</td>\n",
       "      <td>N</td>\n",
       "      <td>NaN</td>\n",
       "      <td>2003.0</td>\n",
       "      <td>2023-01-02</td>\n",
       "      <td>NaT</td>\n",
       "      <td>INDEMNITY INSURANCE CO OF</td>\n",
       "      <td>1A. PRIVATE</td>\n",
       "      <td>BRONX</td>\n",
       "      <td>N</td>\n",
       "      <td>NYC</td>\n",
       "      <td>NaT</td>\n",
       "      <td>M</td>\n",
       "      <td>NaN</td>\n",
       "      <td>48.0</td>\n",
       "      <td>TRANSPORTATION AND WAREHOUSING</td>\n",
       "      <td>IV</td>\n",
       "      <td>NaN</td>\n",
       "      <td>31.0</td>\n",
       "      <td>FALL, SLIP OR TRIP, NOC</td>\n",
       "      <td>10.0</td>\n",
       "      <td>CONTUSION</td>\n",
       "      <td>54.0</td>\n",
       "      <td>LOWER LEG</td>\n",
       "      <td>10466</td>\n",
       "      <td>1</td>\n",
       "    </tr>\n",
       "    <tr>\n",
       "      <th>6166141</th>\n",
       "      <td>2022-11-20</td>\n",
       "      <td>19</td>\n",
       "      <td>N</td>\n",
       "      <td>2023-01-02</td>\n",
       "      <td>N</td>\n",
       "      <td>NaN</td>\n",
       "      <td>2003.0</td>\n",
       "      <td>2023-01-02</td>\n",
       "      <td>NaT</td>\n",
       "      <td>A I U INSURANCE COMPANY</td>\n",
       "      <td>1A. PRIVATE</td>\n",
       "      <td>QUEENS</td>\n",
       "      <td>N</td>\n",
       "      <td>NYC</td>\n",
       "      <td>NaT</td>\n",
       "      <td>F</td>\n",
       "      <td>NaN</td>\n",
       "      <td>45.0</td>\n",
       "      <td>RETAIL TRADE</td>\n",
       "      <td>IV</td>\n",
       "      <td>NaN</td>\n",
       "      <td>75.0</td>\n",
       "      <td>FALLING OR FLYING OBJECT</td>\n",
       "      <td>10.0</td>\n",
       "      <td>CONTUSION</td>\n",
       "      <td>10.0</td>\n",
       "      <td>MULTIPLE HEAD INJURY</td>\n",
       "      <td>11691</td>\n",
       "      <td>1</td>\n",
       "    </tr>\n",
       "  </tbody>\n",
       "</table>\n",
       "</div>"
      ],
      "text/plain": [
       "                 Accident Date  Age at Injury Alternative Dispute Resolution  \\\n",
       "Claim Identifier                                                               \n",
       "6165911             2022-12-24             19                              N   \n",
       "6166141             2022-11-20             19                              N   \n",
       "\n",
       "                 Assembly Date Attorney/Representative  Average Weekly Wage  \\\n",
       "Claim Identifier                                                              \n",
       "6165911             2023-01-02                       N                  NaN   \n",
       "6166141             2023-01-02                       N                  NaN   \n",
       "\n",
       "                  Birth Year   C-2 Date C-3 Date               Carrier Name  \\\n",
       "Claim Identifier                                                              \n",
       "6165911               2003.0 2023-01-02      NaT  INDEMNITY INSURANCE CO OF   \n",
       "6166141               2003.0 2023-01-02      NaT    A I U INSURANCE COMPANY   \n",
       "\n",
       "                 Carrier Type County of Injury COVID-19 Indicator  \\\n",
       "Claim Identifier                                                    \n",
       "6165911           1A. PRIVATE            BRONX                  N   \n",
       "6166141           1A. PRIVATE           QUEENS                  N   \n",
       "\n",
       "                 District Name First Hearing Date Gender  IME-4 Count  \\\n",
       "Claim Identifier                                                        \n",
       "6165911                    NYC                NaT      M          NaN   \n",
       "6166141                    NYC                NaT      F          NaN   \n",
       "\n",
       "                  Industry Code       Industry Code Description  \\\n",
       "Claim Identifier                                                  \n",
       "6165911                    48.0  TRANSPORTATION AND WAREHOUSING   \n",
       "6166141                    45.0                    RETAIL TRADE   \n",
       "\n",
       "                 Medical Fee Region  OIICS Nature of Injury Description  \\\n",
       "Claim Identifier                                                          \n",
       "6165911                          IV                                 NaN   \n",
       "6166141                          IV                                 NaN   \n",
       "\n",
       "                  WCIO Cause of Injury Code WCIO Cause of Injury Description  \\\n",
       "Claim Identifier                                                               \n",
       "6165911                                31.0          FALL, SLIP OR TRIP, NOC   \n",
       "6166141                                75.0         FALLING OR FLYING OBJECT   \n",
       "\n",
       "                  WCIO Nature of Injury Code  \\\n",
       "Claim Identifier                               \n",
       "6165911                                 10.0   \n",
       "6166141                                 10.0   \n",
       "\n",
       "                 WCIO Nature of Injury Description  WCIO Part Of Body Code  \\\n",
       "Claim Identifier                                                             \n",
       "6165911                                  CONTUSION                    54.0   \n",
       "6166141                                  CONTUSION                    10.0   \n",
       "\n",
       "                 WCIO Part Of Body Description Zip Code  Number of Dependents  \n",
       "Claim Identifier                                                               \n",
       "6165911                              LOWER LEG    10466                     1  \n",
       "6166141                   MULTIPLE HEAD INJURY    11691                     1  "
      ]
     },
     "execution_count": 15,
     "metadata": {},
     "output_type": "execute_result"
    }
   ],
   "source": [
    "df.head(2)"
   ]
  },
  {
   "cell_type": "markdown",
   "id": "698388f8",
   "metadata": {},
   "source": [
    "### 2.1.2 Encoding\n",
    "\n",
    "<a href=\"#top\">Top &#129033;</a>"
   ]
  },
  {
   "cell_type": "markdown",
   "id": "2830ac54",
   "metadata": {},
   "source": [
    "**Alternative Dispute Resolution**\n",
    "\n",
    "encode ['N' nan 'Y' 'U'] n -> 0, y -> 1, u -> 2"
   ]
  },
  {
   "cell_type": "code",
   "execution_count": 16,
   "id": "373fbb0a",
   "metadata": {
    "ExecuteTime": {
     "end_time": "2024-10-31T17:04:17.892856Z",
     "start_time": "2024-10-31T17:04:17.865109Z"
    }
   },
   "outputs": [
    {
     "data": {
      "text/plain": [
       "Alternative Dispute Resolution\n",
       "N    386314\n",
       "Y      1660\n",
       "U         1\n",
       "Name: count, dtype: int64"
      ]
     },
     "execution_count": 16,
     "metadata": {},
     "output_type": "execute_result"
    }
   ],
   "source": [
    "freq = df['Alternative Dispute Resolution'].value_counts()\n",
    "freq"
   ]
  },
  {
   "cell_type": "code",
   "execution_count": 17,
   "id": "185b8037",
   "metadata": {
    "ExecuteTime": {
     "end_time": "2024-10-31T17:04:17.916685Z",
     "start_time": "2024-10-31T17:04:17.895509Z"
    }
   },
   "outputs": [],
   "source": [
    "df['Alternative Dispute Resolution'] = df['Alternative Dispute Resolution'].map(freq)"
   ]
  },
  {
   "cell_type": "markdown",
   "id": "295f9a46",
   "metadata": {},
   "source": [
    "**Attorney/Representative**\n",
    "\n",
    "['N' 'Y' nan] encode 0/1"
   ]
  },
  {
   "cell_type": "code",
   "execution_count": 18,
   "id": "ae82e49d",
   "metadata": {
    "ExecuteTime": {
     "end_time": "2024-10-31T17:04:17.947009Z",
     "start_time": "2024-10-31T17:04:17.919452Z"
    }
   },
   "outputs": [
    {
     "data": {
      "text/plain": [
       "Attorney/Representative\n",
       "N    306476\n",
       "Y     81499\n",
       "Name: count, dtype: int64"
      ]
     },
     "execution_count": 18,
     "metadata": {},
     "output_type": "execute_result"
    }
   ],
   "source": [
    "df['Attorney/Representative'].value_counts()"
   ]
  },
  {
   "cell_type": "code",
   "execution_count": 19,
   "id": "bd0eaea9",
   "metadata": {
    "ExecuteTime": {
     "end_time": "2024-10-31T17:04:18.101822Z",
     "start_time": "2024-10-31T17:04:17.949790Z"
    }
   },
   "outputs": [],
   "source": [
    "df['Attorney/Representative'] = df['Attorney/Representative'].replace({'N': 0, 'Y': 1})"
   ]
  },
  {
   "cell_type": "markdown",
   "id": "cb654b3a",
   "metadata": {},
   "source": [
    "**Carrier Name**"
   ]
  },
  {
   "cell_type": "code",
   "execution_count": 20,
   "id": "cf51a3d7",
   "metadata": {
    "ExecuteTime": {
     "end_time": "2024-10-31T17:04:18.143033Z",
     "start_time": "2024-10-31T17:04:18.104536Z"
    }
   },
   "outputs": [
    {
     "data": {
      "text/plain": [
       "1598"
      ]
     },
     "execution_count": 20,
     "metadata": {},
     "output_type": "execute_result"
    }
   ],
   "source": [
    "df['Carrier Name'].nunique()"
   ]
  },
  {
   "cell_type": "markdown",
   "id": "844f6cdc",
   "metadata": {},
   "source": [
    "frequency encoder"
   ]
  },
  {
   "cell_type": "code",
   "execution_count": 21,
   "id": "64ef4ab4",
   "metadata": {
    "ExecuteTime": {
     "end_time": "2024-10-31T17:04:18.190907Z",
     "start_time": "2024-10-31T17:04:18.145611Z"
    }
   },
   "outputs": [],
   "source": [
    "freq = df['Carrier Name'].value_counts()"
   ]
  },
  {
   "cell_type": "code",
   "execution_count": 22,
   "id": "33453430",
   "metadata": {
    "ExecuteTime": {
     "end_time": "2024-10-31T17:04:18.233117Z",
     "start_time": "2024-10-31T17:04:18.193591Z"
    }
   },
   "outputs": [],
   "source": [
    "df['Carrier Name'] = df['Carrier Name'].map(freq)"
   ]
  },
  {
   "cell_type": "markdown",
   "id": "3a29e89b",
   "metadata": {},
   "source": [
    "**Carrier Type**\n",
    "\n",
    "encode (8 unique values)"
   ]
  },
  {
   "cell_type": "code",
   "execution_count": 23,
   "id": "04d08ae9",
   "metadata": {
    "ExecuteTime": {
     "end_time": "2024-10-31T17:04:18.275382Z",
     "start_time": "2024-10-31T17:04:18.235999Z"
    }
   },
   "outputs": [
    {
     "data": {
      "text/plain": [
       "Carrier Type\n",
       "1A. PRIVATE                                    201827\n",
       "3A. SELF PUBLIC                                 78948\n",
       "2A. SIF                                         66189\n",
       "4A. SELF PRIVATE                                38619\n",
       "UNKNOWN                                          1642\n",
       "5D. SPECIAL FUND - UNKNOWN                        748\n",
       "5A. SPECIAL FUND - CONS. COMM. (SECT. 25-A)         2\n",
       "Name: count, dtype: int64"
      ]
     },
     "execution_count": 23,
     "metadata": {},
     "output_type": "execute_result"
    }
   ],
   "source": [
    "freq = df['Carrier Type'].value_counts()\n",
    "freq"
   ]
  },
  {
   "cell_type": "code",
   "execution_count": 24,
   "id": "3eee24cd",
   "metadata": {
    "ExecuteTime": {
     "end_time": "2024-10-31T17:04:18.309886Z",
     "start_time": "2024-10-31T17:04:18.277952Z"
    }
   },
   "outputs": [],
   "source": [
    "df['Carrier Type'] = df['Carrier Type'].map(freq)"
   ]
  },
  {
   "cell_type": "markdown",
   "id": "946e7f5f",
   "metadata": {},
   "source": [
    "**County of Injury**\n",
    "\n",
    "probably too many to encode (?) --> freq encoding"
   ]
  },
  {
   "cell_type": "code",
   "execution_count": 25,
   "id": "f372ef26",
   "metadata": {
    "ExecuteTime": {
     "end_time": "2024-10-31T17:04:18.343398Z",
     "start_time": "2024-10-31T17:04:18.312413Z"
    }
   },
   "outputs": [
    {
     "data": {
      "text/plain": [
       "63"
      ]
     },
     "execution_count": 25,
     "metadata": {},
     "output_type": "execute_result"
    }
   ],
   "source": [
    "df['County of Injury'].nunique()"
   ]
  },
  {
   "cell_type": "code",
   "execution_count": 26,
   "id": "9d987db2",
   "metadata": {
    "ExecuteTime": {
     "end_time": "2024-10-31T17:04:18.383584Z",
     "start_time": "2024-10-31T17:04:18.346286Z"
    }
   },
   "outputs": [],
   "source": [
    "freq = df['County of Injury'].value_counts()"
   ]
  },
  {
   "cell_type": "code",
   "execution_count": 27,
   "id": "fe48ea14",
   "metadata": {
    "ExecuteTime": {
     "end_time": "2024-10-31T17:04:18.422395Z",
     "start_time": "2024-10-31T17:04:18.386645Z"
    }
   },
   "outputs": [],
   "source": [
    "df['County of Injury'] = df['County of Injury'].map(freq)"
   ]
  },
  {
   "cell_type": "markdown",
   "id": "f62e7f0c",
   "metadata": {},
   "source": [
    "**COVID-19 Indicator**\n",
    "\n",
    "binary encoding"
   ]
  },
  {
   "cell_type": "code",
   "execution_count": 28,
   "id": "b4840271",
   "metadata": {
    "ExecuteTime": {
     "end_time": "2024-10-31T17:04:18.452526Z",
     "start_time": "2024-10-31T17:04:18.425030Z"
    }
   },
   "outputs": [
    {
     "data": {
      "text/plain": [
       "COVID-19 Indicator\n",
       "N    385434\n",
       "Y      2541\n",
       "Name: count, dtype: int64"
      ]
     },
     "execution_count": 28,
     "metadata": {},
     "output_type": "execute_result"
    }
   ],
   "source": [
    "df['COVID-19 Indicator'].value_counts()"
   ]
  },
  {
   "cell_type": "code",
   "execution_count": 29,
   "id": "5ec0c2b3",
   "metadata": {
    "ExecuteTime": {
     "end_time": "2024-10-31T17:04:18.594500Z",
     "start_time": "2024-10-31T17:04:18.455379Z"
    }
   },
   "outputs": [],
   "source": [
    "df['COVID-19 Indicator'] = df['COVID-19 Indicator'].replace({'N': 0, 'Y': 1})"
   ]
  },
  {
   "cell_type": "markdown",
   "id": "f0f3cb7a",
   "metadata": {},
   "source": [
    "**District Name**\n",
    "\n",
    "encode (8 uniques)"
   ]
  },
  {
   "cell_type": "code",
   "execution_count": 30,
   "id": "43049242",
   "metadata": {
    "ExecuteTime": {
     "end_time": "2024-10-31T17:04:18.643183Z",
     "start_time": "2024-10-31T17:04:18.604606Z"
    }
   },
   "outputs": [
    {
     "data": {
      "text/plain": [
       "District Name\n",
       "NYC           187972\n",
       "ALBANY         56500\n",
       "HAUPPAUGE      36656\n",
       "BUFFALO        31481\n",
       "SYRACUSE       29537\n",
       "ROCHESTER      28073\n",
       "BINGHAMTON     15382\n",
       "STATEWIDE       2374\n",
       "Name: count, dtype: int64"
      ]
     },
     "execution_count": 30,
     "metadata": {},
     "output_type": "execute_result"
    }
   ],
   "source": [
    "freq = df['District Name'].value_counts()\n",
    "freq"
   ]
  },
  {
   "cell_type": "code",
   "execution_count": 31,
   "id": "779944c1",
   "metadata": {
    "ExecuteTime": {
     "end_time": "2024-10-31T17:04:18.680936Z",
     "start_time": "2024-10-31T17:04:18.645820Z"
    }
   },
   "outputs": [],
   "source": [
    "df['District Name'] = df['District Name'].map(freq)"
   ]
  },
  {
   "cell_type": "markdown",
   "id": "9e7f1f74",
   "metadata": {},
   "source": [
    "**Gender**\n",
    "\n",
    "encode ['M' 'F' nan 'U' 'X']"
   ]
  },
  {
   "cell_type": "code",
   "execution_count": 32,
   "id": "0d703d99",
   "metadata": {
    "ExecuteTime": {
     "end_time": "2024-10-31T17:04:18.712044Z",
     "start_time": "2024-10-31T17:04:18.683676Z"
    }
   },
   "outputs": [
    {
     "data": {
      "text/plain": [
       "Gender\n",
       "M    215343\n",
       "F    167019\n",
       "U      5340\n",
       "X       273\n",
       "Name: count, dtype: int64"
      ]
     },
     "execution_count": 32,
     "metadata": {},
     "output_type": "execute_result"
    }
   ],
   "source": [
    "df['Gender'].value_counts()"
   ]
  },
  {
   "cell_type": "code",
   "execution_count": 33,
   "id": "8b0ffab9",
   "metadata": {
    "ExecuteTime": {
     "end_time": "2024-10-31T17:04:18.737603Z",
     "start_time": "2024-10-31T17:04:18.715225Z"
    }
   },
   "outputs": [],
   "source": [
    "df['Gender'] = df['Gender'].map({\n",
    "    'M': 0,  # Male\n",
    "    'F': 1,  # Female\n",
    "    'U': 2,  # Unknown \n",
    "    'X': 2   # Other \n",
    "})"
   ]
  },
  {
   "cell_type": "markdown",
   "id": "42a1373b",
   "metadata": {},
   "source": [
    "**Medical Fee Region**\n",
    "\n",
    "encode"
   ]
  },
  {
   "cell_type": "code",
   "execution_count": 34,
   "id": "5cb48130",
   "metadata": {
    "ExecuteTime": {
     "end_time": "2024-10-31T17:04:18.775737Z",
     "start_time": "2024-10-31T17:04:18.740099Z"
    },
    "scrolled": false
   },
   "outputs": [
    {
     "data": {
      "text/plain": [
       "Medical Fee Region\n",
       "IV     182276\n",
       "I       91300\n",
       "II      58743\n",
       "III     34679\n",
       "UK      20977\n",
       "Name: count, dtype: int64"
      ]
     },
     "execution_count": 34,
     "metadata": {},
     "output_type": "execute_result"
    }
   ],
   "source": [
    "freq = df['Medical Fee Region'].value_counts()\n",
    "freq"
   ]
  },
  {
   "cell_type": "code",
   "execution_count": 35,
   "id": "1ef4622c",
   "metadata": {
    "ExecuteTime": {
     "end_time": "2024-10-31T17:04:18.811185Z",
     "start_time": "2024-10-31T17:04:18.778953Z"
    }
   },
   "outputs": [],
   "source": [
    "df['Medical Fee Region'] = df['Medical Fee Region'].map(freq)"
   ]
  },
  {
   "cell_type": "markdown",
   "id": "dbed014f",
   "metadata": {},
   "source": [
    "### 2.1.3 Other transformations\n",
    "\n",
    "<a href=\"#top\">Top &#129033;</a>"
   ]
  },
  {
   "cell_type": "markdown",
   "id": "27a7177e",
   "metadata": {},
   "source": [
    "**Accident Date**\n",
    "\n",
    "transform into year (maybe month and day too)"
   ]
  },
  {
   "cell_type": "code",
   "execution_count": 37,
   "id": "d3f57a60",
   "metadata": {
    "ExecuteTime": {
     "end_time": "2024-10-31T17:04:30.297778Z",
     "start_time": "2024-10-31T17:04:30.237271Z"
    }
   },
   "outputs": [],
   "source": [
    "df['Accident Year'] = df['Accident Date'].dt.year\n",
    "df['Accident Month'] = df['Accident Date'].dt.month\n",
    "df['Accident Day'] = df['Accident Date'].dt.day"
   ]
  },
  {
   "cell_type": "markdown",
   "id": "71edbfc0",
   "metadata": {},
   "source": [
    "**Assembly Date**\n",
    "\n",
    "transform into year (maybe month and day too)"
   ]
  },
  {
   "cell_type": "code",
   "execution_count": 38,
   "id": "964f0c70",
   "metadata": {
    "ExecuteTime": {
     "end_time": "2024-10-31T17:04:30.931304Z",
     "start_time": "2024-10-31T17:04:30.886176Z"
    }
   },
   "outputs": [],
   "source": [
    "df['Assembly Year'] = df['Assembly Date'].dt.year\n",
    "df['Assembly Month'] = df['Assembly Date'].dt.month\n",
    "df['Assembly Day'] = df['Assembly Date'].dt.day"
   ]
  },
  {
   "cell_type": "markdown",
   "id": "49a0ade5",
   "metadata": {},
   "source": [
    "**C-2 Date**\n",
    "\n",
    "transform into year (maybe month and day too)"
   ]
  },
  {
   "cell_type": "code",
   "execution_count": 39,
   "id": "0295d577",
   "metadata": {
    "ExecuteTime": {
     "end_time": "2024-10-31T17:04:31.399722Z",
     "start_time": "2024-10-31T17:04:31.348149Z"
    }
   },
   "outputs": [],
   "source": [
    "df['C-2 Year'] = df['C-2 Date'].dt.year\n",
    "df['C-2 Month'] = df['C-2 Date'].dt.month\n",
    "df['C-2 Day'] = df['C-2 Date'].dt.day"
   ]
  },
  {
   "cell_type": "markdown",
   "id": "4b1ca6c1",
   "metadata": {},
   "source": [
    "**Zip Code**\n",
    "\n",
    "transform non-numeric into missing values"
   ]
  },
  {
   "cell_type": "code",
   "execution_count": 40,
   "id": "33257673",
   "metadata": {
    "ExecuteTime": {
     "end_time": "2024-10-31T17:04:31.948303Z",
     "start_time": "2024-10-31T17:04:31.841547Z"
    }
   },
   "outputs": [],
   "source": [
    "df['Zip Code'] = df['Zip Code'].apply(lambda x: np.nan \n",
    "                                      if not str(x).isnumeric() else x)"
   ]
  },
  {
   "cell_type": "markdown",
   "id": "e583ebf2",
   "metadata": {},
   "source": [
    "**Drop Transformed Columns**"
   ]
  },
  {
   "cell_type": "code",
   "execution_count": 41,
   "id": "ec4b13d7",
   "metadata": {
    "ExecuteTime": {
     "end_time": "2024-10-31T17:04:32.552894Z",
     "start_time": "2024-10-31T17:04:32.448397Z"
    }
   },
   "outputs": [],
   "source": [
    "df = df.drop(['Accident Date', 'Assembly Date', 'C-2 Date'], axis = 1)"
   ]
  },
  {
   "cell_type": "markdown",
   "id": "6b59d8c1",
   "metadata": {},
   "source": [
    "### 2.1.4 Unique Feature-Pair Analysis \n",
    "\n",
    "<a href=\"#top\">Top &#129033;</a>\n",
    "\n",
    "save codes and descriptions in dataframes, for later consultation (if needed)"
   ]
  },
  {
   "cell_type": "code",
   "execution_count": 42,
   "id": "41b80d8d",
   "metadata": {
    "ExecuteTime": {
     "end_time": "2024-10-31T17:04:33.234589Z",
     "start_time": "2024-10-31T17:04:33.153159Z"
    }
   },
   "outputs": [
    {
     "data": {
      "text/html": [
       "<div>\n",
       "<style scoped>\n",
       "    .dataframe tbody tr th:only-of-type {\n",
       "        vertical-align: middle;\n",
       "    }\n",
       "\n",
       "    .dataframe tbody tr th {\n",
       "        vertical-align: top;\n",
       "    }\n",
       "\n",
       "    .dataframe thead th {\n",
       "        text-align: right;\n",
       "    }\n",
       "</style>\n",
       "<table border=\"1\" class=\"dataframe\">\n",
       "  <thead>\n",
       "    <tr style=\"text-align: right;\">\n",
       "      <th></th>\n",
       "      <th>WCIO Cause of Injury Description</th>\n",
       "    </tr>\n",
       "    <tr>\n",
       "      <th>WCIO Cause of Injury Code</th>\n",
       "      <th></th>\n",
       "    </tr>\n",
       "  </thead>\n",
       "  <tbody>\n",
       "    <tr>\n",
       "      <th>31.0</th>\n",
       "      <td>FALL, SLIP OR TRIP, NOC</td>\n",
       "    </tr>\n",
       "    <tr>\n",
       "      <th>75.0</th>\n",
       "      <td>FALLING OR FLYING OBJECT</td>\n",
       "    </tr>\n",
       "  </tbody>\n",
       "</table>\n",
       "</div>"
      ],
      "text/plain": [
       "                          WCIO Cause of Injury Description\n",
       "WCIO Cause of Injury Code                                 \n",
       "31.0                               FALL, SLIP OR TRIP, NOC\n",
       "75.0                              FALLING OR FLYING OBJECT"
      ]
     },
     "execution_count": 42,
     "metadata": {},
     "output_type": "execute_result"
    }
   ],
   "source": [
    "injury_cause = df[['WCIO Cause of Injury Code', 'WCIO Cause of Injury Description']].drop_duplicates()\n",
    "\n",
    "injury_cause_df = injury_cause.set_index('WCIO Cause of Injury Code')\n",
    "\n",
    "injury_cause_df.head(2)"
   ]
  },
  {
   "cell_type": "code",
   "execution_count": 43,
   "id": "2c62f34d",
   "metadata": {
    "ExecuteTime": {
     "end_time": "2024-10-31T17:04:33.543520Z",
     "start_time": "2024-10-31T17:04:33.479893Z"
    }
   },
   "outputs": [
    {
     "data": {
      "text/html": [
       "<div>\n",
       "<style scoped>\n",
       "    .dataframe tbody tr th:only-of-type {\n",
       "        vertical-align: middle;\n",
       "    }\n",
       "\n",
       "    .dataframe tbody tr th {\n",
       "        vertical-align: top;\n",
       "    }\n",
       "\n",
       "    .dataframe thead th {\n",
       "        text-align: right;\n",
       "    }\n",
       "</style>\n",
       "<table border=\"1\" class=\"dataframe\">\n",
       "  <thead>\n",
       "    <tr style=\"text-align: right;\">\n",
       "      <th></th>\n",
       "      <th>WCIO Nature of Injury Description</th>\n",
       "    </tr>\n",
       "    <tr>\n",
       "      <th>WCIO Nature of Injury Code</th>\n",
       "      <th></th>\n",
       "    </tr>\n",
       "  </thead>\n",
       "  <tbody>\n",
       "    <tr>\n",
       "      <th>10.0</th>\n",
       "      <td>CONTUSION</td>\n",
       "    </tr>\n",
       "    <tr>\n",
       "      <th>49.0</th>\n",
       "      <td>SPRAIN OR TEAR</td>\n",
       "    </tr>\n",
       "  </tbody>\n",
       "</table>\n",
       "</div>"
      ],
      "text/plain": [
       "                           WCIO Nature of Injury Description\n",
       "WCIO Nature of Injury Code                                  \n",
       "10.0                                               CONTUSION\n",
       "49.0                                          SPRAIN OR TEAR"
      ]
     },
     "execution_count": 43,
     "metadata": {},
     "output_type": "execute_result"
    }
   ],
   "source": [
    "injury_nature = df[['WCIO Nature of Injury Code', 'WCIO Nature of Injury Description']].drop_duplicates()\n",
    "\n",
    "injury_nature_df = injury_nature.set_index('WCIO Nature of Injury Code')\n",
    "\n",
    "injury_nature_df.head(2)"
   ]
  },
  {
   "cell_type": "code",
   "execution_count": 44,
   "id": "9850453f",
   "metadata": {
    "ExecuteTime": {
     "end_time": "2024-10-31T17:04:33.922900Z",
     "start_time": "2024-10-31T17:04:33.857004Z"
    }
   },
   "outputs": [
    {
     "data": {
      "text/html": [
       "<div>\n",
       "<style scoped>\n",
       "    .dataframe tbody tr th:only-of-type {\n",
       "        vertical-align: middle;\n",
       "    }\n",
       "\n",
       "    .dataframe tbody tr th {\n",
       "        vertical-align: top;\n",
       "    }\n",
       "\n",
       "    .dataframe thead th {\n",
       "        text-align: right;\n",
       "    }\n",
       "</style>\n",
       "<table border=\"1\" class=\"dataframe\">\n",
       "  <thead>\n",
       "    <tr style=\"text-align: right;\">\n",
       "      <th></th>\n",
       "      <th>WCIO Part Of Body Description</th>\n",
       "    </tr>\n",
       "    <tr>\n",
       "      <th>WCIO Part Of Body Code</th>\n",
       "      <th></th>\n",
       "    </tr>\n",
       "  </thead>\n",
       "  <tbody>\n",
       "    <tr>\n",
       "      <th>54.0</th>\n",
       "      <td>LOWER LEG</td>\n",
       "    </tr>\n",
       "    <tr>\n",
       "      <th>10.0</th>\n",
       "      <td>MULTIPLE HEAD INJURY</td>\n",
       "    </tr>\n",
       "  </tbody>\n",
       "</table>\n",
       "</div>"
      ],
      "text/plain": [
       "                       WCIO Part Of Body Description\n",
       "WCIO Part Of Body Code                              \n",
       "54.0                                       LOWER LEG\n",
       "10.0                            MULTIPLE HEAD INJURY"
      ]
     },
     "execution_count": 44,
     "metadata": {},
     "output_type": "execute_result"
    }
   ],
   "source": [
    "body_code = df[['WCIO Part Of Body Code', 'WCIO Part Of Body Description']].drop_duplicates()\n",
    "\n",
    "body_code_df = body_code.set_index('WCIO Part Of Body Code')\n",
    "\n",
    "\n",
    "body_code_df.head(2)"
   ]
  },
  {
   "cell_type": "code",
   "execution_count": 45,
   "id": "b26596db",
   "metadata": {
    "ExecuteTime": {
     "end_time": "2024-10-31T17:04:34.231703Z",
     "start_time": "2024-10-31T17:04:34.164848Z"
    }
   },
   "outputs": [
    {
     "data": {
      "text/html": [
       "<div>\n",
       "<style scoped>\n",
       "    .dataframe tbody tr th:only-of-type {\n",
       "        vertical-align: middle;\n",
       "    }\n",
       "\n",
       "    .dataframe tbody tr th {\n",
       "        vertical-align: top;\n",
       "    }\n",
       "\n",
       "    .dataframe thead th {\n",
       "        text-align: right;\n",
       "    }\n",
       "</style>\n",
       "<table border=\"1\" class=\"dataframe\">\n",
       "  <thead>\n",
       "    <tr style=\"text-align: right;\">\n",
       "      <th></th>\n",
       "      <th>Industry Code Description</th>\n",
       "    </tr>\n",
       "    <tr>\n",
       "      <th>Industry Code</th>\n",
       "      <th></th>\n",
       "    </tr>\n",
       "  </thead>\n",
       "  <tbody>\n",
       "    <tr>\n",
       "      <th>48.0</th>\n",
       "      <td>TRANSPORTATION AND WAREHOUSING</td>\n",
       "    </tr>\n",
       "    <tr>\n",
       "      <th>45.0</th>\n",
       "      <td>RETAIL TRADE</td>\n",
       "    </tr>\n",
       "  </tbody>\n",
       "</table>\n",
       "</div>"
      ],
      "text/plain": [
       "                    Industry Code Description\n",
       "Industry Code                                \n",
       "48.0           TRANSPORTATION AND WAREHOUSING\n",
       "45.0                             RETAIL TRADE"
      ]
     },
     "execution_count": 45,
     "metadata": {},
     "output_type": "execute_result"
    }
   ],
   "source": [
    "industry_code = df[['Industry Code', 'Industry Code Description']].drop_duplicates()\n",
    "\n",
    "industry_code_df = industry_code.set_index('Industry Code')\n",
    "\n",
    "\n",
    "industry_code_df.head(2)"
   ]
  },
  {
   "cell_type": "code",
   "execution_count": 46,
   "id": "a0684750",
   "metadata": {
    "ExecuteTime": {
     "end_time": "2024-10-31T17:04:34.790631Z",
     "start_time": "2024-10-31T17:04:34.701041Z"
    }
   },
   "outputs": [],
   "source": [
    "df = df.drop(['WCIO Cause of Injury Description', 'WCIO Nature of Injury Description', \n",
    "              'WCIO Part Of Body Description', 'Industry Code Description'], axis = 1)"
   ]
  },
  {
   "cell_type": "markdown",
   "id": "61e7c0dc",
   "metadata": {},
   "source": [
    "## 2.2 Missing Values\n",
    "\n",
    "<a href=\"#top\">Top &#129033;</a>"
   ]
  },
  {
   "cell_type": "code",
   "execution_count": 47,
   "id": "2a32f03f",
   "metadata": {
    "ExecuteTime": {
     "end_time": "2024-10-31T17:04:41.853805Z",
     "start_time": "2024-10-31T17:04:41.798322Z"
    },
    "scrolled": true
   },
   "outputs": [
    {
     "data": {
      "text/plain": [
       "Age at Injury                              0\n",
       "Alternative Dispute Resolution             0\n",
       "Attorney/Representative                    0\n",
       "Average Weekly Wage                    19204\n",
       "Birth Year                             19470\n",
       "C-3 Date                              302759\n",
       "Carrier Name                               0\n",
       "Carrier Type                               0\n",
       "County of Injury                           0\n",
       "COVID-19 Indicator                         0\n",
       "District Name                              0\n",
       "First Hearing Date                    344947\n",
       "Gender                                     0\n",
       "IME-4 Count                           352726\n",
       "Industry Code                           7736\n",
       "Medical Fee Region                         0\n",
       "OIICS Nature of Injury Description    387975\n",
       "WCIO Cause of Injury Code              10348\n",
       "WCIO Nature of Injury Code             10560\n",
       "WCIO Part Of Body Code                  9549\n",
       "Zip Code                               19623\n",
       "Number of Dependents                       0\n",
       "Accident Year                           2444\n",
       "Accident Month                          2444\n",
       "Accident Day                            2444\n",
       "Assembly Year                              0\n",
       "Assembly Month                             0\n",
       "Assembly Day                               0\n",
       "C-2 Year                                9134\n",
       "C-2 Month                               9134\n",
       "C-2 Day                                 9134\n",
       "dtype: int64"
      ]
     },
     "execution_count": 47,
     "metadata": {},
     "output_type": "execute_result"
    }
   ],
   "source": [
    "df.isna().sum()"
   ]
  },
  {
   "cell_type": "markdown",
   "id": "421fd9f3",
   "metadata": {},
   "source": [
    "**C-3 Date**"
   ]
  },
  {
   "cell_type": "code",
   "execution_count": 48,
   "id": "83593f82",
   "metadata": {
    "ExecuteTime": {
     "end_time": "2024-10-31T17:05:17.977343Z",
     "start_time": "2024-10-31T17:05:17.767905Z"
    }
   },
   "outputs": [
    {
     "name": "stdout",
     "output_type": "stream",
     "text": [
      "There are 302759 rows with missing values\n"
     ]
    },
    {
     "data": {
      "text/html": [
       "<div>\n",
       "<style scoped>\n",
       "    .dataframe tbody tr th:only-of-type {\n",
       "        vertical-align: middle;\n",
       "    }\n",
       "\n",
       "    .dataframe tbody tr th {\n",
       "        vertical-align: top;\n",
       "    }\n",
       "\n",
       "    .dataframe thead th {\n",
       "        text-align: right;\n",
       "    }\n",
       "</style>\n",
       "<table border=\"1\" class=\"dataframe\">\n",
       "  <thead>\n",
       "    <tr style=\"text-align: right;\">\n",
       "      <th></th>\n",
       "      <th>Age at Injury</th>\n",
       "      <th>Alternative Dispute Resolution</th>\n",
       "      <th>Attorney/Representative</th>\n",
       "      <th>Average Weekly Wage</th>\n",
       "      <th>Birth Year</th>\n",
       "      <th>C-3 Date</th>\n",
       "      <th>Carrier Name</th>\n",
       "      <th>Carrier Type</th>\n",
       "      <th>County of Injury</th>\n",
       "      <th>COVID-19 Indicator</th>\n",
       "      <th>District Name</th>\n",
       "      <th>First Hearing Date</th>\n",
       "      <th>Gender</th>\n",
       "      <th>IME-4 Count</th>\n",
       "      <th>Industry Code</th>\n",
       "      <th>Medical Fee Region</th>\n",
       "      <th>OIICS Nature of Injury Description</th>\n",
       "      <th>WCIO Cause of Injury Code</th>\n",
       "      <th>WCIO Nature of Injury Code</th>\n",
       "      <th>WCIO Part Of Body Code</th>\n",
       "      <th>Zip Code</th>\n",
       "      <th>Number of Dependents</th>\n",
       "      <th>Accident Year</th>\n",
       "      <th>Accident Month</th>\n",
       "      <th>Accident Day</th>\n",
       "      <th>Assembly Year</th>\n",
       "      <th>Assembly Month</th>\n",
       "      <th>Assembly Day</th>\n",
       "      <th>C-2 Year</th>\n",
       "      <th>C-2 Month</th>\n",
       "      <th>C-2 Day</th>\n",
       "    </tr>\n",
       "    <tr>\n",
       "      <th>Claim Identifier</th>\n",
       "      <th></th>\n",
       "      <th></th>\n",
       "      <th></th>\n",
       "      <th></th>\n",
       "      <th></th>\n",
       "      <th></th>\n",
       "      <th></th>\n",
       "      <th></th>\n",
       "      <th></th>\n",
       "      <th></th>\n",
       "      <th></th>\n",
       "      <th></th>\n",
       "      <th></th>\n",
       "      <th></th>\n",
       "      <th></th>\n",
       "      <th></th>\n",
       "      <th></th>\n",
       "      <th></th>\n",
       "      <th></th>\n",
       "      <th></th>\n",
       "      <th></th>\n",
       "      <th></th>\n",
       "      <th></th>\n",
       "      <th></th>\n",
       "      <th></th>\n",
       "      <th></th>\n",
       "      <th></th>\n",
       "      <th></th>\n",
       "      <th></th>\n",
       "      <th></th>\n",
       "      <th></th>\n",
       "    </tr>\n",
       "  </thead>\n",
       "  <tbody>\n",
       "    <tr>\n",
       "      <th>6165911</th>\n",
       "      <td>19</td>\n",
       "      <td>386314</td>\n",
       "      <td>0</td>\n",
       "      <td>NaN</td>\n",
       "      <td>2003.0</td>\n",
       "      <td>NaT</td>\n",
       "      <td>7573</td>\n",
       "      <td>201827</td>\n",
       "      <td>28048</td>\n",
       "      <td>0</td>\n",
       "      <td>187972</td>\n",
       "      <td>NaT</td>\n",
       "      <td>0</td>\n",
       "      <td>NaN</td>\n",
       "      <td>48.0</td>\n",
       "      <td>182276</td>\n",
       "      <td>NaN</td>\n",
       "      <td>31.0</td>\n",
       "      <td>10.0</td>\n",
       "      <td>54.0</td>\n",
       "      <td>10466</td>\n",
       "      <td>1</td>\n",
       "      <td>2022.0</td>\n",
       "      <td>12.0</td>\n",
       "      <td>24.0</td>\n",
       "      <td>2023</td>\n",
       "      <td>1</td>\n",
       "      <td>2</td>\n",
       "      <td>2023.0</td>\n",
       "      <td>1.0</td>\n",
       "      <td>2.0</td>\n",
       "    </tr>\n",
       "    <tr>\n",
       "      <th>6166141</th>\n",
       "      <td>19</td>\n",
       "      <td>386314</td>\n",
       "      <td>0</td>\n",
       "      <td>NaN</td>\n",
       "      <td>2003.0</td>\n",
       "      <td>NaT</td>\n",
       "      <td>7096</td>\n",
       "      <td>201827</td>\n",
       "      <td>40358</td>\n",
       "      <td>0</td>\n",
       "      <td>187972</td>\n",
       "      <td>NaT</td>\n",
       "      <td>1</td>\n",
       "      <td>NaN</td>\n",
       "      <td>45.0</td>\n",
       "      <td>182276</td>\n",
       "      <td>NaN</td>\n",
       "      <td>75.0</td>\n",
       "      <td>10.0</td>\n",
       "      <td>10.0</td>\n",
       "      <td>11691</td>\n",
       "      <td>1</td>\n",
       "      <td>2022.0</td>\n",
       "      <td>11.0</td>\n",
       "      <td>20.0</td>\n",
       "      <td>2023</td>\n",
       "      <td>1</td>\n",
       "      <td>2</td>\n",
       "      <td>2023.0</td>\n",
       "      <td>1.0</td>\n",
       "      <td>2.0</td>\n",
       "    </tr>\n",
       "  </tbody>\n",
       "</table>\n",
       "</div>"
      ],
      "text/plain": [
       "                  Age at Injury  Alternative Dispute Resolution  \\\n",
       "Claim Identifier                                                  \n",
       "6165911                      19                          386314   \n",
       "6166141                      19                          386314   \n",
       "\n",
       "                  Attorney/Representative  Average Weekly Wage  Birth Year  \\\n",
       "Claim Identifier                                                             \n",
       "6165911                                 0                  NaN      2003.0   \n",
       "6166141                                 0                  NaN      2003.0   \n",
       "\n",
       "                 C-3 Date  Carrier Name  Carrier Type  County of Injury  \\\n",
       "Claim Identifier                                                          \n",
       "6165911               NaT          7573        201827             28048   \n",
       "6166141               NaT          7096        201827             40358   \n",
       "\n",
       "                  COVID-19 Indicator  District Name First Hearing Date  \\\n",
       "Claim Identifier                                                         \n",
       "6165911                            0         187972                NaT   \n",
       "6166141                            0         187972                NaT   \n",
       "\n",
       "                  Gender  IME-4 Count  Industry Code  Medical Fee Region  \\\n",
       "Claim Identifier                                                           \n",
       "6165911                0          NaN           48.0              182276   \n",
       "6166141                1          NaN           45.0              182276   \n",
       "\n",
       "                  OIICS Nature of Injury Description  \\\n",
       "Claim Identifier                                       \n",
       "6165911                                          NaN   \n",
       "6166141                                          NaN   \n",
       "\n",
       "                  WCIO Cause of Injury Code  WCIO Nature of Injury Code  \\\n",
       "Claim Identifier                                                          \n",
       "6165911                                31.0                        10.0   \n",
       "6166141                                75.0                        10.0   \n",
       "\n",
       "                  WCIO Part Of Body Code Zip Code  Number of Dependents  \\\n",
       "Claim Identifier                                                          \n",
       "6165911                             54.0    10466                     1   \n",
       "6166141                             10.0    11691                     1   \n",
       "\n",
       "                  Accident Year  Accident Month  Accident Day  Assembly Year  \\\n",
       "Claim Identifier                                                               \n",
       "6165911                  2022.0            12.0          24.0           2023   \n",
       "6166141                  2022.0            11.0          20.0           2023   \n",
       "\n",
       "                  Assembly Month  Assembly Day  C-2 Year  C-2 Month  C-2 Day  \n",
       "Claim Identifier                                                              \n",
       "6165911                        1             2    2023.0        1.0      2.0  \n",
       "6166141                        1             2    2023.0        1.0      2.0  "
      ]
     },
     "execution_count": 48,
     "metadata": {},
     "output_type": "execute_result"
    }
   ],
   "source": [
    "print(f'There are {len(df[df[\"C-3 Date\"].isna()])} rows with missing values')\n",
    "df[df['C-3 Date'].isna()].head(2)"
   ]
  },
  {
   "cell_type": "code",
   "execution_count": 49,
   "id": "1aed96d3",
   "metadata": {
    "ExecuteTime": {
     "end_time": "2024-10-31T17:05:18.673716Z",
     "start_time": "2024-10-31T17:05:18.665092Z"
    }
   },
   "outputs": [],
   "source": [
    "# Create a binary variable: 1 if 'C-3 Date' is not missing, 0 if it is missing\n",
    "df['C-3 Date Binary'] = df['C-3 Date'].notna().astype(int)"
   ]
  },
  {
   "cell_type": "markdown",
   "id": "cb22f455",
   "metadata": {},
   "source": [
    "**First Hearing Date**"
   ]
  },
  {
   "cell_type": "code",
   "execution_count": 50,
   "id": "c63283c5",
   "metadata": {
    "ExecuteTime": {
     "end_time": "2024-10-31T17:05:20.028887Z",
     "start_time": "2024-10-31T17:05:19.803713Z"
    }
   },
   "outputs": [
    {
     "name": "stdout",
     "output_type": "stream",
     "text": [
      "There are 344947 rows with missing values\n"
     ]
    },
    {
     "data": {
      "text/html": [
       "<div>\n",
       "<style scoped>\n",
       "    .dataframe tbody tr th:only-of-type {\n",
       "        vertical-align: middle;\n",
       "    }\n",
       "\n",
       "    .dataframe tbody tr th {\n",
       "        vertical-align: top;\n",
       "    }\n",
       "\n",
       "    .dataframe thead th {\n",
       "        text-align: right;\n",
       "    }\n",
       "</style>\n",
       "<table border=\"1\" class=\"dataframe\">\n",
       "  <thead>\n",
       "    <tr style=\"text-align: right;\">\n",
       "      <th></th>\n",
       "      <th>Age at Injury</th>\n",
       "      <th>Alternative Dispute Resolution</th>\n",
       "      <th>Attorney/Representative</th>\n",
       "      <th>Average Weekly Wage</th>\n",
       "      <th>Birth Year</th>\n",
       "      <th>C-3 Date</th>\n",
       "      <th>Carrier Name</th>\n",
       "      <th>Carrier Type</th>\n",
       "      <th>County of Injury</th>\n",
       "      <th>COVID-19 Indicator</th>\n",
       "      <th>District Name</th>\n",
       "      <th>First Hearing Date</th>\n",
       "      <th>Gender</th>\n",
       "      <th>IME-4 Count</th>\n",
       "      <th>Industry Code</th>\n",
       "      <th>Medical Fee Region</th>\n",
       "      <th>OIICS Nature of Injury Description</th>\n",
       "      <th>WCIO Cause of Injury Code</th>\n",
       "      <th>WCIO Nature of Injury Code</th>\n",
       "      <th>WCIO Part Of Body Code</th>\n",
       "      <th>Zip Code</th>\n",
       "      <th>Number of Dependents</th>\n",
       "      <th>Accident Year</th>\n",
       "      <th>Accident Month</th>\n",
       "      <th>Accident Day</th>\n",
       "      <th>Assembly Year</th>\n",
       "      <th>Assembly Month</th>\n",
       "      <th>Assembly Day</th>\n",
       "      <th>C-2 Year</th>\n",
       "      <th>C-2 Month</th>\n",
       "      <th>C-2 Day</th>\n",
       "      <th>C-3 Date Binary</th>\n",
       "    </tr>\n",
       "    <tr>\n",
       "      <th>Claim Identifier</th>\n",
       "      <th></th>\n",
       "      <th></th>\n",
       "      <th></th>\n",
       "      <th></th>\n",
       "      <th></th>\n",
       "      <th></th>\n",
       "      <th></th>\n",
       "      <th></th>\n",
       "      <th></th>\n",
       "      <th></th>\n",
       "      <th></th>\n",
       "      <th></th>\n",
       "      <th></th>\n",
       "      <th></th>\n",
       "      <th></th>\n",
       "      <th></th>\n",
       "      <th></th>\n",
       "      <th></th>\n",
       "      <th></th>\n",
       "      <th></th>\n",
       "      <th></th>\n",
       "      <th></th>\n",
       "      <th></th>\n",
       "      <th></th>\n",
       "      <th></th>\n",
       "      <th></th>\n",
       "      <th></th>\n",
       "      <th></th>\n",
       "      <th></th>\n",
       "      <th></th>\n",
       "      <th></th>\n",
       "      <th></th>\n",
       "    </tr>\n",
       "  </thead>\n",
       "  <tbody>\n",
       "    <tr>\n",
       "      <th>6165911</th>\n",
       "      <td>19</td>\n",
       "      <td>386314</td>\n",
       "      <td>0</td>\n",
       "      <td>NaN</td>\n",
       "      <td>2003.0</td>\n",
       "      <td>NaT</td>\n",
       "      <td>7573</td>\n",
       "      <td>201827</td>\n",
       "      <td>28048</td>\n",
       "      <td>0</td>\n",
       "      <td>187972</td>\n",
       "      <td>NaT</td>\n",
       "      <td>0</td>\n",
       "      <td>NaN</td>\n",
       "      <td>48.0</td>\n",
       "      <td>182276</td>\n",
       "      <td>NaN</td>\n",
       "      <td>31.0</td>\n",
       "      <td>10.0</td>\n",
       "      <td>54.0</td>\n",
       "      <td>10466</td>\n",
       "      <td>1</td>\n",
       "      <td>2022.0</td>\n",
       "      <td>12.0</td>\n",
       "      <td>24.0</td>\n",
       "      <td>2023</td>\n",
       "      <td>1</td>\n",
       "      <td>2</td>\n",
       "      <td>2023.0</td>\n",
       "      <td>1.0</td>\n",
       "      <td>2.0</td>\n",
       "      <td>0</td>\n",
       "    </tr>\n",
       "    <tr>\n",
       "      <th>6166141</th>\n",
       "      <td>19</td>\n",
       "      <td>386314</td>\n",
       "      <td>0</td>\n",
       "      <td>NaN</td>\n",
       "      <td>2003.0</td>\n",
       "      <td>NaT</td>\n",
       "      <td>7096</td>\n",
       "      <td>201827</td>\n",
       "      <td>40358</td>\n",
       "      <td>0</td>\n",
       "      <td>187972</td>\n",
       "      <td>NaT</td>\n",
       "      <td>1</td>\n",
       "      <td>NaN</td>\n",
       "      <td>45.0</td>\n",
       "      <td>182276</td>\n",
       "      <td>NaN</td>\n",
       "      <td>75.0</td>\n",
       "      <td>10.0</td>\n",
       "      <td>10.0</td>\n",
       "      <td>11691</td>\n",
       "      <td>1</td>\n",
       "      <td>2022.0</td>\n",
       "      <td>11.0</td>\n",
       "      <td>20.0</td>\n",
       "      <td>2023</td>\n",
       "      <td>1</td>\n",
       "      <td>2</td>\n",
       "      <td>2023.0</td>\n",
       "      <td>1.0</td>\n",
       "      <td>2.0</td>\n",
       "      <td>0</td>\n",
       "    </tr>\n",
       "  </tbody>\n",
       "</table>\n",
       "</div>"
      ],
      "text/plain": [
       "                  Age at Injury  Alternative Dispute Resolution  \\\n",
       "Claim Identifier                                                  \n",
       "6165911                      19                          386314   \n",
       "6166141                      19                          386314   \n",
       "\n",
       "                  Attorney/Representative  Average Weekly Wage  Birth Year  \\\n",
       "Claim Identifier                                                             \n",
       "6165911                                 0                  NaN      2003.0   \n",
       "6166141                                 0                  NaN      2003.0   \n",
       "\n",
       "                 C-3 Date  Carrier Name  Carrier Type  County of Injury  \\\n",
       "Claim Identifier                                                          \n",
       "6165911               NaT          7573        201827             28048   \n",
       "6166141               NaT          7096        201827             40358   \n",
       "\n",
       "                  COVID-19 Indicator  District Name First Hearing Date  \\\n",
       "Claim Identifier                                                         \n",
       "6165911                            0         187972                NaT   \n",
       "6166141                            0         187972                NaT   \n",
       "\n",
       "                  Gender  IME-4 Count  Industry Code  Medical Fee Region  \\\n",
       "Claim Identifier                                                           \n",
       "6165911                0          NaN           48.0              182276   \n",
       "6166141                1          NaN           45.0              182276   \n",
       "\n",
       "                  OIICS Nature of Injury Description  \\\n",
       "Claim Identifier                                       \n",
       "6165911                                          NaN   \n",
       "6166141                                          NaN   \n",
       "\n",
       "                  WCIO Cause of Injury Code  WCIO Nature of Injury Code  \\\n",
       "Claim Identifier                                                          \n",
       "6165911                                31.0                        10.0   \n",
       "6166141                                75.0                        10.0   \n",
       "\n",
       "                  WCIO Part Of Body Code Zip Code  Number of Dependents  \\\n",
       "Claim Identifier                                                          \n",
       "6165911                             54.0    10466                     1   \n",
       "6166141                             10.0    11691                     1   \n",
       "\n",
       "                  Accident Year  Accident Month  Accident Day  Assembly Year  \\\n",
       "Claim Identifier                                                               \n",
       "6165911                  2022.0            12.0          24.0           2023   \n",
       "6166141                  2022.0            11.0          20.0           2023   \n",
       "\n",
       "                  Assembly Month  Assembly Day  C-2 Year  C-2 Month  C-2 Day  \\\n",
       "Claim Identifier                                                               \n",
       "6165911                        1             2    2023.0        1.0      2.0   \n",
       "6166141                        1             2    2023.0        1.0      2.0   \n",
       "\n",
       "                  C-3 Date Binary  \n",
       "Claim Identifier                   \n",
       "6165911                         0  \n",
       "6166141                         0  "
      ]
     },
     "execution_count": 50,
     "metadata": {},
     "output_type": "execute_result"
    }
   ],
   "source": [
    "print(f'There are {len(df[df[\"First Hearing Date\"].isna()])} rows with missing values')\n",
    "df[df['First Hearing Date'].isna()].head(2)"
   ]
  },
  {
   "cell_type": "code",
   "execution_count": 51,
   "id": "86ef83a9",
   "metadata": {
    "ExecuteTime": {
     "end_time": "2024-10-31T17:05:20.952026Z",
     "start_time": "2024-10-31T17:05:20.518922Z"
    }
   },
   "outputs": [],
   "source": [
    "# Create a new variable: 0 if 'First Hearing Date' is missing, otherwise extract the year\n",
    "\n",
    "df['First Hearing Year'] = df['First Hearing Date'].apply(lambda x: x.year if pd.notna(x) else 0)"
   ]
  },
  {
   "cell_type": "markdown",
   "id": "6a1e0ced",
   "metadata": {},
   "source": [
    "**IME-4 Count**"
   ]
  },
  {
   "cell_type": "code",
   "execution_count": 52,
   "id": "a3f3d530",
   "metadata": {
    "ExecuteTime": {
     "end_time": "2024-10-31T17:05:21.521409Z",
     "start_time": "2024-10-31T17:05:21.292081Z"
    }
   },
   "outputs": [
    {
     "name": "stdout",
     "output_type": "stream",
     "text": [
      "There are 352726 rows with missing values\n"
     ]
    },
    {
     "data": {
      "text/html": [
       "<div>\n",
       "<style scoped>\n",
       "    .dataframe tbody tr th:only-of-type {\n",
       "        vertical-align: middle;\n",
       "    }\n",
       "\n",
       "    .dataframe tbody tr th {\n",
       "        vertical-align: top;\n",
       "    }\n",
       "\n",
       "    .dataframe thead th {\n",
       "        text-align: right;\n",
       "    }\n",
       "</style>\n",
       "<table border=\"1\" class=\"dataframe\">\n",
       "  <thead>\n",
       "    <tr style=\"text-align: right;\">\n",
       "      <th></th>\n",
       "      <th>Age at Injury</th>\n",
       "      <th>Alternative Dispute Resolution</th>\n",
       "      <th>Attorney/Representative</th>\n",
       "      <th>Average Weekly Wage</th>\n",
       "      <th>Birth Year</th>\n",
       "      <th>C-3 Date</th>\n",
       "      <th>Carrier Name</th>\n",
       "      <th>Carrier Type</th>\n",
       "      <th>County of Injury</th>\n",
       "      <th>COVID-19 Indicator</th>\n",
       "      <th>District Name</th>\n",
       "      <th>First Hearing Date</th>\n",
       "      <th>Gender</th>\n",
       "      <th>IME-4 Count</th>\n",
       "      <th>Industry Code</th>\n",
       "      <th>Medical Fee Region</th>\n",
       "      <th>OIICS Nature of Injury Description</th>\n",
       "      <th>WCIO Cause of Injury Code</th>\n",
       "      <th>WCIO Nature of Injury Code</th>\n",
       "      <th>WCIO Part Of Body Code</th>\n",
       "      <th>Zip Code</th>\n",
       "      <th>Number of Dependents</th>\n",
       "      <th>Accident Year</th>\n",
       "      <th>Accident Month</th>\n",
       "      <th>Accident Day</th>\n",
       "      <th>Assembly Year</th>\n",
       "      <th>Assembly Month</th>\n",
       "      <th>Assembly Day</th>\n",
       "      <th>C-2 Year</th>\n",
       "      <th>C-2 Month</th>\n",
       "      <th>C-2 Day</th>\n",
       "      <th>C-3 Date Binary</th>\n",
       "      <th>First Hearing Year</th>\n",
       "    </tr>\n",
       "    <tr>\n",
       "      <th>Claim Identifier</th>\n",
       "      <th></th>\n",
       "      <th></th>\n",
       "      <th></th>\n",
       "      <th></th>\n",
       "      <th></th>\n",
       "      <th></th>\n",
       "      <th></th>\n",
       "      <th></th>\n",
       "      <th></th>\n",
       "      <th></th>\n",
       "      <th></th>\n",
       "      <th></th>\n",
       "      <th></th>\n",
       "      <th></th>\n",
       "      <th></th>\n",
       "      <th></th>\n",
       "      <th></th>\n",
       "      <th></th>\n",
       "      <th></th>\n",
       "      <th></th>\n",
       "      <th></th>\n",
       "      <th></th>\n",
       "      <th></th>\n",
       "      <th></th>\n",
       "      <th></th>\n",
       "      <th></th>\n",
       "      <th></th>\n",
       "      <th></th>\n",
       "      <th></th>\n",
       "      <th></th>\n",
       "      <th></th>\n",
       "      <th></th>\n",
       "      <th></th>\n",
       "    </tr>\n",
       "  </thead>\n",
       "  <tbody>\n",
       "    <tr>\n",
       "      <th>6165911</th>\n",
       "      <td>19</td>\n",
       "      <td>386314</td>\n",
       "      <td>0</td>\n",
       "      <td>NaN</td>\n",
       "      <td>2003.0</td>\n",
       "      <td>NaT</td>\n",
       "      <td>7573</td>\n",
       "      <td>201827</td>\n",
       "      <td>28048</td>\n",
       "      <td>0</td>\n",
       "      <td>187972</td>\n",
       "      <td>NaT</td>\n",
       "      <td>0</td>\n",
       "      <td>NaN</td>\n",
       "      <td>48.0</td>\n",
       "      <td>182276</td>\n",
       "      <td>NaN</td>\n",
       "      <td>31.0</td>\n",
       "      <td>10.0</td>\n",
       "      <td>54.0</td>\n",
       "      <td>10466</td>\n",
       "      <td>1</td>\n",
       "      <td>2022.0</td>\n",
       "      <td>12.0</td>\n",
       "      <td>24.0</td>\n",
       "      <td>2023</td>\n",
       "      <td>1</td>\n",
       "      <td>2</td>\n",
       "      <td>2023.0</td>\n",
       "      <td>1.0</td>\n",
       "      <td>2.0</td>\n",
       "      <td>0</td>\n",
       "      <td>0</td>\n",
       "    </tr>\n",
       "    <tr>\n",
       "      <th>6166141</th>\n",
       "      <td>19</td>\n",
       "      <td>386314</td>\n",
       "      <td>0</td>\n",
       "      <td>NaN</td>\n",
       "      <td>2003.0</td>\n",
       "      <td>NaT</td>\n",
       "      <td>7096</td>\n",
       "      <td>201827</td>\n",
       "      <td>40358</td>\n",
       "      <td>0</td>\n",
       "      <td>187972</td>\n",
       "      <td>NaT</td>\n",
       "      <td>1</td>\n",
       "      <td>NaN</td>\n",
       "      <td>45.0</td>\n",
       "      <td>182276</td>\n",
       "      <td>NaN</td>\n",
       "      <td>75.0</td>\n",
       "      <td>10.0</td>\n",
       "      <td>10.0</td>\n",
       "      <td>11691</td>\n",
       "      <td>1</td>\n",
       "      <td>2022.0</td>\n",
       "      <td>11.0</td>\n",
       "      <td>20.0</td>\n",
       "      <td>2023</td>\n",
       "      <td>1</td>\n",
       "      <td>2</td>\n",
       "      <td>2023.0</td>\n",
       "      <td>1.0</td>\n",
       "      <td>2.0</td>\n",
       "      <td>0</td>\n",
       "      <td>0</td>\n",
       "    </tr>\n",
       "  </tbody>\n",
       "</table>\n",
       "</div>"
      ],
      "text/plain": [
       "                  Age at Injury  Alternative Dispute Resolution  \\\n",
       "Claim Identifier                                                  \n",
       "6165911                      19                          386314   \n",
       "6166141                      19                          386314   \n",
       "\n",
       "                  Attorney/Representative  Average Weekly Wage  Birth Year  \\\n",
       "Claim Identifier                                                             \n",
       "6165911                                 0                  NaN      2003.0   \n",
       "6166141                                 0                  NaN      2003.0   \n",
       "\n",
       "                 C-3 Date  Carrier Name  Carrier Type  County of Injury  \\\n",
       "Claim Identifier                                                          \n",
       "6165911               NaT          7573        201827             28048   \n",
       "6166141               NaT          7096        201827             40358   \n",
       "\n",
       "                  COVID-19 Indicator  District Name First Hearing Date  \\\n",
       "Claim Identifier                                                         \n",
       "6165911                            0         187972                NaT   \n",
       "6166141                            0         187972                NaT   \n",
       "\n",
       "                  Gender  IME-4 Count  Industry Code  Medical Fee Region  \\\n",
       "Claim Identifier                                                           \n",
       "6165911                0          NaN           48.0              182276   \n",
       "6166141                1          NaN           45.0              182276   \n",
       "\n",
       "                  OIICS Nature of Injury Description  \\\n",
       "Claim Identifier                                       \n",
       "6165911                                          NaN   \n",
       "6166141                                          NaN   \n",
       "\n",
       "                  WCIO Cause of Injury Code  WCIO Nature of Injury Code  \\\n",
       "Claim Identifier                                                          \n",
       "6165911                                31.0                        10.0   \n",
       "6166141                                75.0                        10.0   \n",
       "\n",
       "                  WCIO Part Of Body Code Zip Code  Number of Dependents  \\\n",
       "Claim Identifier                                                          \n",
       "6165911                             54.0    10466                     1   \n",
       "6166141                             10.0    11691                     1   \n",
       "\n",
       "                  Accident Year  Accident Month  Accident Day  Assembly Year  \\\n",
       "Claim Identifier                                                               \n",
       "6165911                  2022.0            12.0          24.0           2023   \n",
       "6166141                  2022.0            11.0          20.0           2023   \n",
       "\n",
       "                  Assembly Month  Assembly Day  C-2 Year  C-2 Month  C-2 Day  \\\n",
       "Claim Identifier                                                               \n",
       "6165911                        1             2    2023.0        1.0      2.0   \n",
       "6166141                        1             2    2023.0        1.0      2.0   \n",
       "\n",
       "                  C-3 Date Binary  First Hearing Year  \n",
       "Claim Identifier                                       \n",
       "6165911                         0                   0  \n",
       "6166141                         0                   0  "
      ]
     },
     "execution_count": 52,
     "metadata": {},
     "output_type": "execute_result"
    }
   ],
   "source": [
    "print(f'There are {len(df[df[\"IME-4 Count\"].isna()])} rows with missing values')\n",
    "df[df['IME-4 Count'].isna()].head(2)"
   ]
  },
  {
   "cell_type": "code",
   "execution_count": 53,
   "id": "a50a89b2",
   "metadata": {
    "ExecuteTime": {
     "end_time": "2024-10-31T17:05:21.724180Z",
     "start_time": "2024-10-31T17:05:21.714584Z"
    }
   },
   "outputs": [],
   "source": [
    "df['IME-4 Count'] = df['IME-4 Count'].fillna(0)"
   ]
  },
  {
   "cell_type": "markdown",
   "id": "fee3948a",
   "metadata": {},
   "source": [
    "**OIICS Nature of Injury Description**"
   ]
  },
  {
   "cell_type": "code",
   "execution_count": 54,
   "id": "6b5395a1",
   "metadata": {
    "ExecuteTime": {
     "end_time": "2024-10-31T17:05:23.609569Z",
     "start_time": "2024-10-31T17:05:23.212362Z"
    }
   },
   "outputs": [
    {
     "name": "stdout",
     "output_type": "stream",
     "text": [
      "There are 387975 rows with missing values\n"
     ]
    },
    {
     "data": {
      "text/html": [
       "<div>\n",
       "<style scoped>\n",
       "    .dataframe tbody tr th:only-of-type {\n",
       "        vertical-align: middle;\n",
       "    }\n",
       "\n",
       "    .dataframe tbody tr th {\n",
       "        vertical-align: top;\n",
       "    }\n",
       "\n",
       "    .dataframe thead th {\n",
       "        text-align: right;\n",
       "    }\n",
       "</style>\n",
       "<table border=\"1\" class=\"dataframe\">\n",
       "  <thead>\n",
       "    <tr style=\"text-align: right;\">\n",
       "      <th></th>\n",
       "      <th>Age at Injury</th>\n",
       "      <th>Alternative Dispute Resolution</th>\n",
       "      <th>Attorney/Representative</th>\n",
       "      <th>Average Weekly Wage</th>\n",
       "      <th>Birth Year</th>\n",
       "      <th>C-3 Date</th>\n",
       "      <th>Carrier Name</th>\n",
       "      <th>Carrier Type</th>\n",
       "      <th>County of Injury</th>\n",
       "      <th>COVID-19 Indicator</th>\n",
       "      <th>District Name</th>\n",
       "      <th>First Hearing Date</th>\n",
       "      <th>Gender</th>\n",
       "      <th>IME-4 Count</th>\n",
       "      <th>Industry Code</th>\n",
       "      <th>Medical Fee Region</th>\n",
       "      <th>OIICS Nature of Injury Description</th>\n",
       "      <th>WCIO Cause of Injury Code</th>\n",
       "      <th>WCIO Nature of Injury Code</th>\n",
       "      <th>WCIO Part Of Body Code</th>\n",
       "      <th>Zip Code</th>\n",
       "      <th>Number of Dependents</th>\n",
       "      <th>Accident Year</th>\n",
       "      <th>Accident Month</th>\n",
       "      <th>Accident Day</th>\n",
       "      <th>Assembly Year</th>\n",
       "      <th>Assembly Month</th>\n",
       "      <th>Assembly Day</th>\n",
       "      <th>C-2 Year</th>\n",
       "      <th>C-2 Month</th>\n",
       "      <th>C-2 Day</th>\n",
       "      <th>C-3 Date Binary</th>\n",
       "      <th>First Hearing Year</th>\n",
       "    </tr>\n",
       "    <tr>\n",
       "      <th>Claim Identifier</th>\n",
       "      <th></th>\n",
       "      <th></th>\n",
       "      <th></th>\n",
       "      <th></th>\n",
       "      <th></th>\n",
       "      <th></th>\n",
       "      <th></th>\n",
       "      <th></th>\n",
       "      <th></th>\n",
       "      <th></th>\n",
       "      <th></th>\n",
       "      <th></th>\n",
       "      <th></th>\n",
       "      <th></th>\n",
       "      <th></th>\n",
       "      <th></th>\n",
       "      <th></th>\n",
       "      <th></th>\n",
       "      <th></th>\n",
       "      <th></th>\n",
       "      <th></th>\n",
       "      <th></th>\n",
       "      <th></th>\n",
       "      <th></th>\n",
       "      <th></th>\n",
       "      <th></th>\n",
       "      <th></th>\n",
       "      <th></th>\n",
       "      <th></th>\n",
       "      <th></th>\n",
       "      <th></th>\n",
       "      <th></th>\n",
       "      <th></th>\n",
       "    </tr>\n",
       "  </thead>\n",
       "  <tbody>\n",
       "    <tr>\n",
       "      <th>6165911</th>\n",
       "      <td>19</td>\n",
       "      <td>386314</td>\n",
       "      <td>0</td>\n",
       "      <td>NaN</td>\n",
       "      <td>2003.0</td>\n",
       "      <td>NaT</td>\n",
       "      <td>7573</td>\n",
       "      <td>201827</td>\n",
       "      <td>28048</td>\n",
       "      <td>0</td>\n",
       "      <td>187972</td>\n",
       "      <td>NaT</td>\n",
       "      <td>0</td>\n",
       "      <td>0.0</td>\n",
       "      <td>48.0</td>\n",
       "      <td>182276</td>\n",
       "      <td>NaN</td>\n",
       "      <td>31.0</td>\n",
       "      <td>10.0</td>\n",
       "      <td>54.0</td>\n",
       "      <td>10466</td>\n",
       "      <td>1</td>\n",
       "      <td>2022.0</td>\n",
       "      <td>12.0</td>\n",
       "      <td>24.0</td>\n",
       "      <td>2023</td>\n",
       "      <td>1</td>\n",
       "      <td>2</td>\n",
       "      <td>2023.0</td>\n",
       "      <td>1.0</td>\n",
       "      <td>2.0</td>\n",
       "      <td>0</td>\n",
       "      <td>0</td>\n",
       "    </tr>\n",
       "    <tr>\n",
       "      <th>6166141</th>\n",
       "      <td>19</td>\n",
       "      <td>386314</td>\n",
       "      <td>0</td>\n",
       "      <td>NaN</td>\n",
       "      <td>2003.0</td>\n",
       "      <td>NaT</td>\n",
       "      <td>7096</td>\n",
       "      <td>201827</td>\n",
       "      <td>40358</td>\n",
       "      <td>0</td>\n",
       "      <td>187972</td>\n",
       "      <td>NaT</td>\n",
       "      <td>1</td>\n",
       "      <td>0.0</td>\n",
       "      <td>45.0</td>\n",
       "      <td>182276</td>\n",
       "      <td>NaN</td>\n",
       "      <td>75.0</td>\n",
       "      <td>10.0</td>\n",
       "      <td>10.0</td>\n",
       "      <td>11691</td>\n",
       "      <td>1</td>\n",
       "      <td>2022.0</td>\n",
       "      <td>11.0</td>\n",
       "      <td>20.0</td>\n",
       "      <td>2023</td>\n",
       "      <td>1</td>\n",
       "      <td>2</td>\n",
       "      <td>2023.0</td>\n",
       "      <td>1.0</td>\n",
       "      <td>2.0</td>\n",
       "      <td>0</td>\n",
       "      <td>0</td>\n",
       "    </tr>\n",
       "  </tbody>\n",
       "</table>\n",
       "</div>"
      ],
      "text/plain": [
       "                  Age at Injury  Alternative Dispute Resolution  \\\n",
       "Claim Identifier                                                  \n",
       "6165911                      19                          386314   \n",
       "6166141                      19                          386314   \n",
       "\n",
       "                  Attorney/Representative  Average Weekly Wage  Birth Year  \\\n",
       "Claim Identifier                                                             \n",
       "6165911                                 0                  NaN      2003.0   \n",
       "6166141                                 0                  NaN      2003.0   \n",
       "\n",
       "                 C-3 Date  Carrier Name  Carrier Type  County of Injury  \\\n",
       "Claim Identifier                                                          \n",
       "6165911               NaT          7573        201827             28048   \n",
       "6166141               NaT          7096        201827             40358   \n",
       "\n",
       "                  COVID-19 Indicator  District Name First Hearing Date  \\\n",
       "Claim Identifier                                                         \n",
       "6165911                            0         187972                NaT   \n",
       "6166141                            0         187972                NaT   \n",
       "\n",
       "                  Gender  IME-4 Count  Industry Code  Medical Fee Region  \\\n",
       "Claim Identifier                                                           \n",
       "6165911                0          0.0           48.0              182276   \n",
       "6166141                1          0.0           45.0              182276   \n",
       "\n",
       "                  OIICS Nature of Injury Description  \\\n",
       "Claim Identifier                                       \n",
       "6165911                                          NaN   \n",
       "6166141                                          NaN   \n",
       "\n",
       "                  WCIO Cause of Injury Code  WCIO Nature of Injury Code  \\\n",
       "Claim Identifier                                                          \n",
       "6165911                                31.0                        10.0   \n",
       "6166141                                75.0                        10.0   \n",
       "\n",
       "                  WCIO Part Of Body Code Zip Code  Number of Dependents  \\\n",
       "Claim Identifier                                                          \n",
       "6165911                             54.0    10466                     1   \n",
       "6166141                             10.0    11691                     1   \n",
       "\n",
       "                  Accident Year  Accident Month  Accident Day  Assembly Year  \\\n",
       "Claim Identifier                                                               \n",
       "6165911                  2022.0            12.0          24.0           2023   \n",
       "6166141                  2022.0            11.0          20.0           2023   \n",
       "\n",
       "                  Assembly Month  Assembly Day  C-2 Year  C-2 Month  C-2 Day  \\\n",
       "Claim Identifier                                                               \n",
       "6165911                        1             2    2023.0        1.0      2.0   \n",
       "6166141                        1             2    2023.0        1.0      2.0   \n",
       "\n",
       "                  C-3 Date Binary  First Hearing Year  \n",
       "Claim Identifier                                       \n",
       "6165911                         0                   0  \n",
       "6166141                         0                   0  "
      ]
     },
     "execution_count": 54,
     "metadata": {},
     "output_type": "execute_result"
    }
   ],
   "source": [
    "print(f'There are {len(df[df[\"OIICS Nature of Injury Description\"].isna()])} rows with missing values')\n",
    "df[df['OIICS Nature of Injury Description'].isna()].head(2)"
   ]
  },
  {
   "cell_type": "code",
   "execution_count": 55,
   "id": "458c913c",
   "metadata": {
    "ExecuteTime": {
     "end_time": "2024-10-31T17:05:24.579210Z",
     "start_time": "2024-10-31T17:05:24.334304Z"
    }
   },
   "outputs": [
    {
     "data": {
      "text/plain": [
       "1.0"
      ]
     },
     "execution_count": 55,
     "metadata": {},
     "output_type": "execute_result"
    }
   ],
   "source": [
    "# size of missing / size of dataset\n",
    "len(df[df['OIICS Nature of Injury Description'].isna()]) / len(df)"
   ]
  },
  {
   "cell_type": "markdown",
   "id": "ba4668dc",
   "metadata": {},
   "source": [
    "drop not needed variables "
   ]
  },
  {
   "cell_type": "code",
   "execution_count": 56,
   "id": "aebf0c7c",
   "metadata": {
    "ExecuteTime": {
     "end_time": "2024-10-31T17:05:27.323867Z",
     "start_time": "2024-10-31T17:05:27.239104Z"
    }
   },
   "outputs": [],
   "source": [
    "df = df.drop(['C-3 Date', 'First Hearing Date', \n",
    "             'OIICS Nature of Injury Description'], axis = 1)"
   ]
  },
  {
   "cell_type": "markdown",
   "id": "171d688b",
   "metadata": {},
   "source": [
    "# 3 Export\n",
    "\n",
    "<a href=\"#top\">Top &#129033;</a>"
   ]
  },
  {
   "cell_type": "code",
   "execution_count": 195,
   "id": "23032474",
   "metadata": {
    "ExecuteTime": {
     "end_time": "2024-10-26T15:08:16.404041Z",
     "start_time": "2024-10-26T15:08:10.312932Z"
    }
   },
   "outputs": [],
   "source": [
    "df.to_csv('./project_data/test_treated.csv')"
   ]
  }
 ],
 "metadata": {
  "kernelspec": {
   "display_name": "Python 3 (ipykernel)",
   "language": "python",
   "name": "python3"
  },
  "language_info": {
   "codemirror_mode": {
    "name": "ipython",
    "version": 3
   },
   "file_extension": ".py",
   "mimetype": "text/x-python",
   "name": "python",
   "nbconvert_exporter": "python",
   "pygments_lexer": "ipython3",
   "version": "3.10.13"
  }
 },
 "nbformat": 4,
 "nbformat_minor": 5
}
