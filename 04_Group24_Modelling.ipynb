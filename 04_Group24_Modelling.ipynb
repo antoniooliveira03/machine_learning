{
 "cells": [
  {
   "cell_type": "code",
   "execution_count": 1,
   "id": "c80c7c88",
   "metadata": {
    "ExecuteTime": {
     "end_time": "2024-11-01T17:33:14.265025Z",
     "start_time": "2024-11-01T17:33:10.970560Z"
    }
   },
   "outputs": [],
   "source": [
    "import pandas as pd\n",
    "import numpy as np\n",
    "\n",
    "from sklearn.model_selection import KFold\n",
    "from sklearn.pipeline import Pipeline\n",
    "from sklearn.linear_model import LogisticRegression\n",
    "from sklearn.preprocessing import FunctionTransformer\n",
    "from sklearn.ensemble import RandomForestClassifier\n",
    "from sklearn.metrics import classification_report\n",
    "import sklearn.metrics\n",
    "\n",
    "pd.set_option('display.max_columns', None)\n",
    "\n",
    "import warnings\n",
    "warnings.filterwarnings(\"ignore\")"
   ]
  },
  {
   "cell_type": "code",
   "execution_count": 2,
   "id": "b272237a",
   "metadata": {
    "ExecuteTime": {
     "end_time": "2024-11-01T17:33:15.960833Z",
     "start_time": "2024-11-01T17:33:14.267408Z"
    }
   },
   "outputs": [],
   "source": [
    "df = pd.read_csv('./project_data/out_eda1.csv', \n",
    "                 index_col = 'Claim Identifier')"
   ]
  },
  {
   "cell_type": "code",
   "execution_count": 4,
   "id": "071ad9a6",
   "metadata": {
    "ExecuteTime": {
     "end_time": "2024-11-01T17:33:34.407073Z",
     "start_time": "2024-11-01T17:33:33.519346Z"
    }
   },
   "outputs": [],
   "source": [
    "test = pd.read_csv('./project_data/test_treated.csv', index_col = 'Claim Identifier')"
   ]
  },
  {
   "cell_type": "markdown",
   "id": "5b75cf02",
   "metadata": {},
   "source": [
    "## 1. K Fold\n",
    "\n",
    "<a href=\"#top\">Top &#129033;</a>"
   ]
  },
  {
   "cell_type": "code",
   "execution_count": 5,
   "id": "29b2eff1",
   "metadata": {
    "ExecuteTime": {
     "end_time": "2024-11-01T17:33:35.479720Z",
     "start_time": "2024-11-01T17:33:35.476622Z"
    }
   },
   "outputs": [],
   "source": [
    "from sklearn.metrics import classification_report\n",
    "#from collections import Counter\n",
    "import time\n",
    "from sklearn.preprocessing import FunctionTransformer\n",
    "from sklearn.pipeline import Pipeline\n",
    "#from functools import partial\n",
    "from sklearn.preprocessing import RobustScaler\n"
   ]
  },
  {
   "cell_type": "code",
   "execution_count": 13,
   "id": "d29e28c9",
   "metadata": {
    "ExecuteTime": {
     "end_time": "2024-11-01T17:34:27.177972Z",
     "start_time": "2024-11-01T17:34:27.170292Z"
    },
    "scrolled": true
   },
   "outputs": [],
   "source": [
    "def k_fold(df, features, target, k = 5, model = LogisticRegression()):\n",
    "    \n",
    "    start_time = time.time()\n",
    "    \n",
    "    X = df[features]\n",
    "    y = df[target]\n",
    "    \n",
    "    kf = KFold(n_splits=5, shuffle=True, random_state=1)\n",
    "    predictions = []\n",
    "    \n",
    "    for train_idx, val_idx in kf.split(X):\n",
    "\n",
    "        ### SPLIT\n",
    "        X_train, X_val = X.iloc[train_idx], X.iloc[val_idx]\n",
    "        y_train, y_val = y.iloc[train_idx], y.iloc[val_idx]\n",
    "        \n",
    "        original_columns = X_train.columns\n",
    "        \n",
    "        ### PIPELINE\n",
    "        \n",
    "        pipeline = Pipeline([\n",
    "        ('imputer', FunctionTransformer(custom_impute, validate=False)), \n",
    "        ('log_transform', FunctionTransformer(log_transform, validate=False)),  \n",
    "        ('scaler', RobustScaler()),\n",
    "        ])\n",
    "        \n",
    "        X_train = pipeline.fit_transform(X_train, y_train)\n",
    "        X_val = pipeline.transform(X_val)\n",
    "        X_train = pd.DataFrame(X_train, columns=original_columns)\n",
    "        X_val = pd.DataFrame(X_val, columns=original_columns)\n",
    "\n",
    "        \n",
    "        # fit model\n",
    "        model = model\n",
    "        model.fit(X_train, y_train)\n",
    "\n",
    "        # make predictions\n",
    "        train_pred = model.predict(X_train)\n",
    "        val_pred = model.predict(X_val)\n",
    "\n",
    "        # compute metrics\n",
    "        print(classification_report(y_train, train_pred))\n",
    "        print(classification_report(y_val, val_pred))\n",
    "\n",
    "        # save predictions and best model's parameters\n",
    "\n",
    "        predictions.append({'Train Predictions': train_pred, 'Validation Predictions': val_pred})\n",
    "        \n",
    "    end_time = time.time()\n",
    "    elapsed_time = (end_time - start_time) / 60\n",
    "    print(elapsed_time)\n",
    "        \n",
    "    return predictions\n"
   ]
  },
  {
   "cell_type": "code",
   "execution_count": 14,
   "id": "e31ee446",
   "metadata": {
    "ExecuteTime": {
     "end_time": "2024-11-01T17:34:27.472381Z",
     "start_time": "2024-11-01T17:34:27.468811Z"
    }
   },
   "outputs": [],
   "source": [
    "features = ['C-2 Day', 'Accident Year', 'Birth Year', 'Assembly Month',\n",
    "            'C-2 Month', 'Average Weekly Wage', 'Age at Injury', \n",
    "            'C-2 Year', 'Number of Dependents', 'Accident Day', \n",
    "            'Assembly Year', 'First Hearing Year', 'IME-4 Count', \n",
    "            'Assembly Day', 'Accident Month', \n",
    "            'WCIO Cause of Injury Code', 'Gender', \n",
    "            'COVID-19 Indicator', 'WCIO Part Of Body Code', \n",
    "            'County of Injury', 'Attorney/Representative', \n",
    "            'Carrier Type', 'District Name', 'Medical Fee Region', \n",
    "            'Zip Code', 'Carrier Name', 'C-3 Date Binary', \n",
    "            'Alternative Dispute Resolution', \n",
    "            'WCIO Nature of Injury Code', 'Industry Code']\n",
    "\n"
   ]
  },
  {
   "cell_type": "code",
   "execution_count": 15,
   "id": "69d3af81",
   "metadata": {
    "ExecuteTime": {
     "end_time": "2024-11-01T17:34:28.085214Z",
     "start_time": "2024-11-01T17:34:27.836508Z"
    }
   },
   "outputs": [
    {
     "ename": "NameError",
     "evalue": "name 'custom_impute' is not defined",
     "output_type": "error",
     "traceback": [
      "\u001b[0;31m---------------------------------------------------------------------------\u001b[0m",
      "\u001b[0;31mNameError\u001b[0m                                 Traceback (most recent call last)",
      "Cell \u001b[0;32mIn[15], line 1\u001b[0m\n\u001b[0;32m----> 1\u001b[0m \u001b[43mk_fold\u001b[49m\u001b[43m(\u001b[49m\u001b[43mdf\u001b[49m\u001b[43m,\u001b[49m\u001b[43m \u001b[49m\u001b[43mfeatures\u001b[49m\u001b[43m \u001b[49m\u001b[38;5;241;43m=\u001b[39;49m\u001b[43m \u001b[49m\u001b[43mfeatures\u001b[49m\u001b[43m,\u001b[49m\u001b[43m \u001b[49m\n\u001b[1;32m      2\u001b[0m \u001b[43m       \u001b[49m\u001b[43mtarget\u001b[49m\u001b[43m \u001b[49m\u001b[38;5;241;43m=\u001b[39;49m\u001b[43m \u001b[49m\u001b[38;5;124;43m'\u001b[39;49m\u001b[38;5;124;43mClaim Injury Type\u001b[39;49m\u001b[38;5;124;43m'\u001b[39;49m\u001b[43m,\u001b[49m\u001b[43m \u001b[49m\u001b[43mk\u001b[49m\u001b[43m \u001b[49m\u001b[38;5;241;43m=\u001b[39;49m\u001b[43m \u001b[49m\u001b[38;5;241;43m5\u001b[39;49m\u001b[43m,\u001b[49m\u001b[43m \u001b[49m\n\u001b[1;32m      3\u001b[0m \u001b[43m       \u001b[49m\u001b[43mmodel\u001b[49m\u001b[43m \u001b[49m\u001b[38;5;241;43m=\u001b[39;49m\u001b[43m \u001b[49m\u001b[43mLogisticRegression\u001b[49m\u001b[43m(\u001b[49m\u001b[43m)\u001b[49m\u001b[43m)\u001b[49m\n",
      "Cell \u001b[0;32mIn[13], line 22\u001b[0m, in \u001b[0;36mk_fold\u001b[0;34m(df, features, target, k, model)\u001b[0m\n\u001b[1;32m     17\u001b[0m original_columns \u001b[38;5;241m=\u001b[39m X_train\u001b[38;5;241m.\u001b[39mcolumns\n\u001b[1;32m     19\u001b[0m \u001b[38;5;66;03m### PIPELINE\u001b[39;00m\n\u001b[1;32m     21\u001b[0m pipeline \u001b[38;5;241m=\u001b[39m Pipeline([\n\u001b[0;32m---> 22\u001b[0m (\u001b[38;5;124m'\u001b[39m\u001b[38;5;124mimputer\u001b[39m\u001b[38;5;124m'\u001b[39m, FunctionTransformer(\u001b[43mcustom_impute\u001b[49m, validate\u001b[38;5;241m=\u001b[39m\u001b[38;5;28;01mFalse\u001b[39;00m)), \n\u001b[1;32m     23\u001b[0m (\u001b[38;5;124m'\u001b[39m\u001b[38;5;124mlog_transform\u001b[39m\u001b[38;5;124m'\u001b[39m, FunctionTransformer(log_transform, validate\u001b[38;5;241m=\u001b[39m\u001b[38;5;28;01mFalse\u001b[39;00m)),  \n\u001b[1;32m     24\u001b[0m (\u001b[38;5;124m'\u001b[39m\u001b[38;5;124mscaler\u001b[39m\u001b[38;5;124m'\u001b[39m, RobustScaler()),\n\u001b[1;32m     25\u001b[0m ])\n\u001b[1;32m     27\u001b[0m X_train \u001b[38;5;241m=\u001b[39m pipeline\u001b[38;5;241m.\u001b[39mfit_transform(X_train, y_train)\n\u001b[1;32m     28\u001b[0m X_val \u001b[38;5;241m=\u001b[39m pipeline\u001b[38;5;241m.\u001b[39mtransform(X_val)\n",
      "\u001b[0;31mNameError\u001b[0m: name 'custom_impute' is not defined"
     ]
    }
   ],
   "source": [
    "k_fold(df, features = features, \n",
    "       target = 'Claim Injury Type', k = 5, \n",
    "       model = LogisticRegression())"
   ]
  },
  {
   "cell_type": "markdown",
   "id": "f3ec155c",
   "metadata": {},
   "source": [
    "## test"
   ]
  },
  {
   "cell_type": "code",
   "execution_count": 117,
   "id": "8bfcd709",
   "metadata": {
    "ExecuteTime": {
     "end_time": "2024-10-26T15:23:38.994183Z",
     "start_time": "2024-10-26T15:23:37.924142Z"
    }
   },
   "outputs": [],
   "source": [
    "for col in test.columns:\n",
    "    test = custom_impute(test, col)"
   ]
  },
  {
   "cell_type": "code",
   "execution_count": 118,
   "id": "0177013b",
   "metadata": {
    "ExecuteTime": {
     "end_time": "2024-10-26T15:23:39.148473Z",
     "start_time": "2024-10-26T15:23:38.996450Z"
    }
   },
   "outputs": [
    {
     "data": {
      "text/plain": [
       "Age at Injury                     0\n",
       "Alternative Dispute Resolution    0\n",
       "Attorney/Representative           0\n",
       "Average Weekly Wage               0\n",
       "Birth Year                        0\n",
       "Carrier Name                      0\n",
       "Carrier Type                      0\n",
       "County of Injury                  0\n",
       "COVID-19 Indicator                0\n",
       "District Name                     0\n",
       "Gender                            0\n",
       "IME-4 Count                       0\n",
       "Industry Code                     0\n",
       "Medical Fee Region                0\n",
       "WCIO Cause of Injury Code         0\n",
       "WCIO Nature of Injury Code        0\n",
       "WCIO Part Of Body Code            0\n",
       "Zip Code                          0\n",
       "Number of Dependents              0\n",
       "Accident Year                     0\n",
       "Accident Month                    0\n",
       "Accident Day                      0\n",
       "Assembly Year                     0\n",
       "Assembly Month                    0\n",
       "Assembly Day                      0\n",
       "C-2 Year                          0\n",
       "C-2 Month                         0\n",
       "C-2 Day                           0\n",
       "C-3 Date Binary                   0\n",
       "First Hearing Year                0\n",
       "dtype: int64"
      ]
     },
     "execution_count": 118,
     "metadata": {},
     "output_type": "execute_result"
    }
   ],
   "source": [
    "test = test.fillna(0)\n",
    "test.isna().sum()"
   ]
  },
  {
   "cell_type": "code",
   "execution_count": 122,
   "id": "f5b8dbb4",
   "metadata": {
    "ExecuteTime": {
     "end_time": "2024-10-26T15:25:24.604561Z",
     "start_time": "2024-10-26T15:25:24.491397Z"
    }
   },
   "outputs": [],
   "source": [
    "test['Claim Injury Type'] = model.predict(test)\n"
   ]
  },
  {
   "cell_type": "code",
   "execution_count": 124,
   "id": "8b314cbe",
   "metadata": {
    "ExecuteTime": {
     "end_time": "2024-10-26T15:25:38.004311Z",
     "start_time": "2024-10-26T15:25:37.975916Z"
    }
   },
   "outputs": [
    {
     "data": {
      "text/plain": [
       "Claim Injury Type\n",
       "2. NON-COMP        345305\n",
       "4. TEMPORARY        33482\n",
       "5. PPD SCH LOSS      9132\n",
       "1. CANCELLED           52\n",
       "6. PPD NSL              4\n",
       "Name: count, dtype: int64"
      ]
     },
     "execution_count": 124,
     "metadata": {},
     "output_type": "execute_result"
    }
   ],
   "source": [
    "test['Claim Injury Type'].value_counts() "
   ]
  },
  {
   "cell_type": "code",
   "execution_count": 125,
   "id": "8b18281e",
   "metadata": {
    "ExecuteTime": {
     "end_time": "2024-10-26T15:26:55.680064Z",
     "start_time": "2024-10-26T15:26:55.673999Z"
    }
   },
   "outputs": [
    {
     "data": {
      "text/plain": [
       "Claim Identifier\n",
       "6165911    2. NON-COMP\n",
       "6166141    2. NON-COMP\n",
       "6165907    2. NON-COMP\n",
       "6166047    2. NON-COMP\n",
       "6166102    2. NON-COMP\n",
       "              ...     \n",
       "6553137    2. NON-COMP\n",
       "6553119    2. NON-COMP\n",
       "6553542    2. NON-COMP\n",
       "6553455    2. NON-COMP\n",
       "6553594    2. NON-COMP\n",
       "Name: Claim Injury Type, Length: 387975, dtype: object"
      ]
     },
     "execution_count": 125,
     "metadata": {},
     "output_type": "execute_result"
    }
   ],
   "source": [
    "predictions = test['Claim Injury Type']\n",
    "predictions"
   ]
  },
  {
   "cell_type": "code",
   "execution_count": 128,
   "id": "c77bb96d",
   "metadata": {
    "ExecuteTime": {
     "end_time": "2024-10-26T15:28:12.782557Z",
     "start_time": "2024-10-26T15:28:12.025383Z"
    }
   },
   "outputs": [],
   "source": [
    "predictions.to_csv('./predictions/pred1.csv')"
   ]
  }
 ],
 "metadata": {
  "kernelspec": {
   "display_name": "Python 3 (ipykernel)",
   "language": "python",
   "name": "python3"
  },
  "language_info": {
   "codemirror_mode": {
    "name": "ipython",
    "version": 3
   },
   "file_extension": ".py",
   "mimetype": "text/x-python",
   "name": "python",
   "nbconvert_exporter": "python",
   "pygments_lexer": "ipython3",
   "version": "3.10.13"
  }
 },
 "nbformat": 4,
 "nbformat_minor": 5
}
