{
 "cells": [
  {
   "cell_type": "code",
   "execution_count": 12,
   "id": "c80c7c88",
   "metadata": {
    "ExecuteTime": {
     "end_time": "2024-11-02T10:32:25.913419Z",
     "start_time": "2024-11-02T10:32:25.903993Z"
    }
   },
   "outputs": [],
   "source": [
    "import pandas as pd\n",
    "import numpy as np\n",
    "\n",
    "from sklearn.model_selection import KFold\n",
    "\n",
    "# Models\n",
    "from sklearn.linear_model import LogisticRegression\n",
    "from sklearn.ensemble import RandomForestClassifier, GradientBoostingClassifier, AdaBoostClassifier\n",
    "from sklearn.tree import DecisionTreeClassifier\n",
    "from xgboost import XGBClassifier  \n",
    "#from lightgbm import LGBMClassifier \n",
    "#from catboost import CatBoostClassifier \n",
    "\n",
    "# Metrics\n",
    "from sklearn.metrics import classification_report\n",
    "\n",
    "\n",
    "pd.set_option('display.max_columns', None)\n",
    "\n",
    "# Warnings\n",
    "import warnings\n",
    "warnings.filterwarnings(\"ignore\")\n",
    "\n",
    "import NA_outliers as n\n",
    "import play_song as song"
   ]
  },
  {
   "cell_type": "code",
   "execution_count": 13,
   "id": "b272237a",
   "metadata": {
    "ExecuteTime": {
     "end_time": "2024-11-02T10:32:27.556536Z",
     "start_time": "2024-11-02T10:32:26.122518Z"
    }
   },
   "outputs": [],
   "source": [
    "df = pd.read_csv('./project_data/out_eda1.csv', \n",
    "                 index_col = 'Claim Identifier')"
   ]
  },
  {
   "cell_type": "markdown",
   "id": "5b75cf02",
   "metadata": {},
   "source": [
    "## 1. Train\n",
    "\n",
    "<a href=\"#top\">Top &#129033;</a>"
   ]
  },
  {
   "cell_type": "code",
   "execution_count": 87,
   "id": "29b2eff1",
   "metadata": {
    "ExecuteTime": {
     "end_time": "2024-11-01T18:51:31.304446Z",
     "start_time": "2024-11-01T18:51:31.300915Z"
    }
   },
   "outputs": [],
   "source": [
    "from sklearn.metrics import classification_report\n",
    "#from collections import Counter\n",
    "import time\n",
    "from sklearn.preprocessing import FunctionTransformer\n",
    "from sklearn.pipeline import Pipeline\n",
    "#from functools import partial\n",
    "from sklearn.preprocessing import RobustScaler\n",
    "import joblib\n"
   ]
  },
  {
   "cell_type": "code",
   "execution_count": 16,
   "id": "d29e28c9",
   "metadata": {
    "ExecuteTime": {
     "end_time": "2024-11-02T10:34:13.351440Z",
     "start_time": "2024-11-02T10:34:13.344231Z"
    },
    "scrolled": true
   },
   "outputs": [],
   "source": []
  },
  {
   "cell_type": "code",
   "execution_count": null,
   "id": "d7faca5b",
   "metadata": {},
   "outputs": [],
   "source": [
    "def k_fold(df, features, target, k = 5, model = LogisticRegression()):\n",
    "    \n",
    "    start_time = time.time()\n",
    "    \n",
    "    X = df[features]\n",
    "    y = df[target]\n",
    "    \n",
    "    kf = KFold(n_splits= k, shuffle=True, random_state=1)\n",
    "    predictions = []\n",
    "    \n",
    "    for train_idx, val_idx in kf.split(X):\n",
    "\n",
    "        ### SPLIT\n",
    "        X_train, X_val = X.iloc[train_idx], X.iloc[val_idx]\n",
    "        y_train, y_val = y.iloc[train_idx], y.iloc[val_idx]\n",
    "        \n",
    "        original_columns = X_train.columns\n",
    "        \n",
    "        ### PIPELINE\n",
    "        \n",
    "        pipeline = Pipeline([\n",
    "        ('imputer', FunctionTransformer(n.custom_impute, validate=False)), \n",
    "        #('log_transform', FunctionTransformer(n.log_transform, validate=False)),  \n",
    "        ('scaler', RobustScaler()),\n",
    "        ])\n",
    "        \n",
    "        X_train = pipeline.fit_transform(X_train, y_train)\n",
    "        X_val = pipeline.transform(X_val)\n",
    "        X_train = pd.DataFrame(X_train, columns=original_columns)\n",
    "        X_val = pd.DataFrame(X_val, columns=original_columns)\n",
    "\n",
    "        \n",
    "        # fit model\n",
    "        model = model\n",
    "        model.fit(X_train, y_train)\n",
    "\n",
    "        # make predictions\n",
    "        train_pred = model.predict(X_train)\n",
    "        val_pred = model.predict(X_val)\n",
    "\n",
    "        # compute metrics\n",
    "        print(classification_report(y_train, train_pred))\n",
    "        print(classification_report(y_val, val_pred))\n",
    "\n",
    "        # save predictions and best model's parameters\n",
    "\n",
    "        predictions.append({'Train Predictions': train_pred, 'Validation Predictions': val_pred})\n",
    "    \n",
    "    model_name = type(model).__name__\n",
    "    print(model_name)\n",
    "    joblib.dump(model, f'./models/{model_name}.joblib')  \n",
    "\n",
    "    end_time = time.time()\n",
    "    elapsed_time = (end_time - start_time) / 60\n",
    "    print(elapsed_time)\n",
    "    song.play_('audio.mp3')\n",
    "        \n",
    "    return predictions\n"
   ]
  },
  {
   "cell_type": "code",
   "execution_count": null,
   "id": "1325998d",
   "metadata": {},
   "outputs": [],
   "source": [
    "train_report = classification_report(y_train, train_pred)\n",
    "        val_report = classification_report(y_val, val_pred, \n",
    "                                           output_dict=True)\n",
    "        \n",
    "        print(train_report)\n",
    "        print(val_report)\n"
   ]
  },
  {
   "cell_type": "markdown",
   "id": "1d10ea81",
   "metadata": {},
   "source": [
    "**Selected Features to use for predictions**"
   ]
  },
  {
   "cell_type": "code",
   "execution_count": 17,
   "id": "e31ee446",
   "metadata": {
    "ExecuteTime": {
     "end_time": "2024-11-02T10:34:13.889440Z",
     "start_time": "2024-11-02T10:34:13.886699Z"
    }
   },
   "outputs": [],
   "source": [
    "features = df.columns"
   ]
  },
  {
   "cell_type": "markdown",
   "id": "476be41b",
   "metadata": {},
   "source": [
    "**Model**"
   ]
  },
  {
   "cell_type": "code",
   "execution_count": 90,
   "id": "69d3af81",
   "metadata": {
    "ExecuteTime": {
     "end_time": "2024-11-01T22:33:05.453081Z",
     "start_time": "2024-11-01T18:51:46.513849Z"
    },
    "scrolled": true
   },
   "outputs": [
    {
     "name": "stdout",
     "output_type": "stream",
     "text": [
      "              precision    recall  f1-score   support\n",
      "\n",
      "           1       0.73      0.49      0.58     11164\n",
      "           2       0.85      0.96      0.90    262023\n",
      "           3       0.51      0.06      0.10     61970\n",
      "           4       0.69      0.89      0.78    133587\n",
      "           5       0.70      0.56      0.62     43569\n",
      "           6       0.69      0.00      0.01      3800\n",
      "           7       0.08      0.01      0.02        86\n",
      "           8       0.58      0.15      0.24       423\n",
      "\n",
      "    accuracy                           0.78    516622\n",
      "   macro avg       0.60      0.39      0.41    516622\n",
      "weighted avg       0.75      0.78      0.74    516622\n",
      "\n",
      "              precision    recall  f1-score   support\n",
      "\n",
      "           1       0.79      0.39      0.52      1312\n",
      "           2       0.84      0.96      0.90     29055\n",
      "           3       0.50      0.06      0.10      6936\n",
      "           4       0.70      0.88      0.78     14920\n",
      "           5       0.68      0.56      0.61      4711\n",
      "           6       0.00      0.00      0.00       411\n",
      "           7       0.00      0.00      0.00        11\n",
      "           8       0.42      0.11      0.17        47\n",
      "\n",
      "    accuracy                           0.78     57403\n",
      "   macro avg       0.49      0.37      0.39     57403\n",
      "weighted avg       0.74      0.78      0.73     57403\n",
      "\n",
      "              precision    recall  f1-score   support\n",
      "\n",
      "           1       0.73      0.49      0.59     11274\n",
      "           2       0.85      0.96      0.90    261911\n",
      "           3       0.50      0.06      0.11     61963\n",
      "           4       0.70      0.89      0.78    133694\n",
      "           5       0.70      0.56      0.62     43485\n",
      "           6       0.73      0.00      0.01      3781\n",
      "           7       0.87      0.15      0.25        88\n",
      "           8       0.57      0.12      0.19       426\n",
      "\n",
      "    accuracy                           0.78    516622\n",
      "   macro avg       0.70      0.40      0.43    516622\n",
      "weighted avg       0.75      0.78      0.74    516622\n",
      "\n",
      "              precision    recall  f1-score   support\n",
      "\n",
      "           1       0.75      0.40      0.52      1202\n",
      "           2       0.85      0.96      0.90     29167\n",
      "           3       0.50      0.06      0.10      6943\n",
      "           4       0.69      0.89      0.78     14813\n",
      "           5       0.69      0.56      0.62      4795\n",
      "           6       0.17      0.00      0.00       430\n",
      "           7       0.00      0.00      0.00         9\n",
      "           8       0.64      0.16      0.25        44\n",
      "\n",
      "    accuracy                           0.78     57403\n",
      "   macro avg       0.53      0.38      0.40     57403\n",
      "weighted avg       0.74      0.78      0.73     57403\n",
      "\n",
      "              precision    recall  f1-score   support\n",
      "\n",
      "           1       0.73      0.49      0.59     11231\n",
      "           2       0.85      0.96      0.90    261976\n",
      "           3       0.51      0.06      0.11     62037\n",
      "           4       0.69      0.89      0.78    133649\n",
      "           5       0.70      0.56      0.62     43407\n",
      "           6       0.56      0.00      0.01      3809\n",
      "           7       0.09      0.05      0.06        88\n",
      "           8       0.62      0.13      0.22       425\n",
      "\n",
      "    accuracy                           0.78    516622\n",
      "   macro avg       0.59      0.39      0.41    516622\n",
      "weighted avg       0.75      0.78      0.74    516622\n",
      "\n",
      "              precision    recall  f1-score   support\n",
      "\n",
      "           1       0.76      0.40      0.52      1245\n",
      "           2       0.85      0.96      0.90     29102\n",
      "           3       0.49      0.06      0.10      6869\n",
      "           4       0.70      0.89      0.78     14858\n",
      "           5       0.71      0.57      0.63      4873\n",
      "           6       0.00      0.00      0.00       402\n",
      "           7       0.00      0.00      0.00         9\n",
      "           8       0.18      0.07      0.10        45\n",
      "\n",
      "    accuracy                           0.78     57403\n",
      "   macro avg       0.46      0.37      0.38     57403\n",
      "weighted avg       0.75      0.78      0.74     57403\n",
      "\n",
      "              precision    recall  f1-score   support\n",
      "\n",
      "           1       0.72      0.49      0.59     11187\n",
      "           2       0.85      0.96      0.90    262058\n",
      "           3       0.51      0.06      0.11     62072\n",
      "           4       0.70      0.89      0.78    133587\n",
      "           5       0.70      0.56      0.62     43389\n",
      "           6       0.57      0.00      0.00      3808\n",
      "           7       0.46      0.15      0.23        87\n",
      "           8       0.52      0.18      0.27       434\n",
      "\n",
      "    accuracy                           0.78    516622\n",
      "   macro avg       0.63      0.41      0.44    516622\n",
      "weighted avg       0.75      0.78      0.74    516622\n",
      "\n",
      "              precision    recall  f1-score   support\n",
      "\n",
      "           1       0.71      0.48      0.57      1289\n",
      "           2       0.85      0.96      0.90     29020\n",
      "           3       0.52      0.06      0.11      6834\n",
      "           4       0.69      0.88      0.78     14920\n",
      "           5       0.69      0.56      0.62      4891\n",
      "           6       0.00      0.00      0.00       403\n",
      "           7       0.00      0.00      0.00        10\n",
      "           8       0.25      0.06      0.09        36\n",
      "\n",
      "    accuracy                           0.78     57403\n",
      "   macro avg       0.46      0.37      0.38     57403\n",
      "weighted avg       0.75      0.78      0.74     57403\n",
      "\n",
      "              precision    recall  f1-score   support\n",
      "\n",
      "           1       0.73      0.49      0.59     11260\n",
      "           2       0.85      0.96      0.90    262035\n",
      "           3       0.51      0.06      0.11     61887\n",
      "           4       0.70      0.89      0.78    133728\n",
      "           5       0.70      0.56      0.62     43408\n",
      "           6       0.55      0.01      0.01      3803\n",
      "           7       0.26      0.13      0.18        90\n",
      "           8       0.55      0.14      0.23       411\n",
      "\n",
      "    accuracy                           0.78    516622\n",
      "   macro avg       0.61      0.41      0.43    516622\n",
      "weighted avg       0.75      0.78      0.74    516622\n",
      "\n",
      "              precision    recall  f1-score   support\n",
      "\n",
      "           1       0.69      0.47      0.56      1216\n",
      "           2       0.85      0.96      0.90     29043\n",
      "           3       0.51      0.06      0.11      7019\n",
      "           4       0.69      0.88      0.77     14779\n",
      "           5       0.69      0.56      0.62      4872\n",
      "           6       0.00      0.00      0.00       408\n",
      "           7       0.00      0.00      0.00         7\n",
      "           8       0.25      0.08      0.13        59\n",
      "\n",
      "    accuracy                           0.78     57403\n",
      "   macro avg       0.46      0.38      0.39     57403\n",
      "weighted avg       0.74      0.78      0.73     57403\n",
      "\n",
      "              precision    recall  f1-score   support\n",
      "\n",
      "           1       0.73      0.49      0.58     11262\n",
      "           2       0.85      0.96      0.90    261829\n",
      "           3       0.51      0.06      0.11     62150\n",
      "           4       0.70      0.89      0.78    133648\n",
      "           5       0.70      0.56      0.62     43455\n",
      "           6       0.72      0.00      0.01      3774\n",
      "           7       0.52      0.15      0.23        82\n",
      "           8       0.55      0.13      0.20       423\n",
      "\n",
      "    accuracy                           0.78    516623\n",
      "   macro avg       0.66      0.40      0.43    516623\n",
      "weighted avg       0.75      0.78      0.74    516623\n",
      "\n",
      "              precision    recall  f1-score   support\n",
      "\n",
      "           1       0.71      0.47      0.57      1214\n",
      "           2       0.85      0.96      0.90     29249\n",
      "           3       0.48      0.06      0.11      6756\n",
      "           4       0.69      0.88      0.78     14859\n",
      "           5       0.70      0.56      0.62      4825\n",
      "           6       1.00      0.00      0.00       437\n",
      "           7       0.00      0.00      0.00        15\n",
      "           8       0.29      0.04      0.07        47\n",
      "\n",
      "    accuracy                           0.78     57402\n",
      "   macro avg       0.59      0.37      0.38     57402\n",
      "weighted avg       0.75      0.78      0.74     57402\n",
      "\n",
      "              precision    recall  f1-score   support\n",
      "\n",
      "           1       0.73      0.49      0.59     11213\n",
      "           2       0.85      0.96      0.90    262004\n",
      "           3       0.50      0.06      0.11     62024\n",
      "           4       0.69      0.88      0.78    133656\n",
      "           5       0.70      0.56      0.62     43456\n",
      "           6       0.88      0.00      0.00      3750\n",
      "           7       0.07      0.24      0.11        92\n",
      "           8       0.63      0.19      0.30       428\n",
      "\n",
      "    accuracy                           0.78    516623\n",
      "   macro avg       0.63      0.42      0.43    516623\n",
      "weighted avg       0.75      0.78      0.74    516623\n",
      "\n",
      "              precision    recall  f1-score   support\n",
      "\n",
      "           1       0.71      0.51      0.59      1263\n",
      "           2       0.85      0.96      0.90     29074\n",
      "           3       0.50      0.06      0.11      6882\n",
      "           4       0.69      0.87      0.77     14851\n",
      "           5       0.68      0.56      0.62      4824\n",
      "           6       0.00      0.00      0.00       461\n",
      "           7       0.00      0.00      0.00         5\n",
      "           8       0.20      0.02      0.04        42\n",
      "\n",
      "    accuracy                           0.78     57402\n",
      "   macro avg       0.45      0.37      0.38     57402\n",
      "weighted avg       0.74      0.78      0.73     57402\n",
      "\n"
     ]
    },
    {
     "name": "stdout",
     "output_type": "stream",
     "text": [
      "              precision    recall  f1-score   support\n",
      "\n",
      "           1       0.73      0.49      0.58     11303\n",
      "           2       0.85      0.96      0.90    261954\n",
      "           3       0.50      0.06      0.11     61950\n",
      "           4       0.70      0.89      0.78    133604\n",
      "           5       0.70      0.56      0.62     43505\n",
      "           6       0.64      0.00      0.01      3806\n",
      "           7       0.16      0.03      0.06        89\n",
      "           8       0.61      0.12      0.21       412\n",
      "\n",
      "    accuracy                           0.78    516623\n",
      "   macro avg       0.61      0.39      0.41    516623\n",
      "weighted avg       0.75      0.78      0.74    516623\n",
      "\n",
      "              precision    recall  f1-score   support\n",
      "\n",
      "           1       0.70      0.49      0.58      1173\n",
      "           2       0.85      0.96      0.90     29124\n",
      "           3       0.50      0.06      0.11      6956\n",
      "           4       0.69      0.89      0.78     14903\n",
      "           5       0.71      0.55      0.62      4775\n",
      "           6       0.25      0.00      0.00       405\n",
      "           7       0.00      0.00      0.00         8\n",
      "           8       0.33      0.07      0.11        58\n",
      "\n",
      "    accuracy                           0.78     57402\n",
      "   macro avg       0.51      0.38      0.39     57402\n",
      "weighted avg       0.75      0.78      0.74     57402\n",
      "\n",
      "              precision    recall  f1-score   support\n",
      "\n",
      "           1       0.72      0.49      0.59     11180\n",
      "           2       0.85      0.96      0.90    261980\n",
      "           3       0.51      0.06      0.11     62118\n",
      "           4       0.70      0.88      0.78    133684\n",
      "           5       0.70      0.56      0.62     43391\n",
      "           6       0.57      0.00      0.01      3768\n",
      "           7       0.09      0.05      0.06        82\n",
      "           8       0.41      0.20      0.26       420\n",
      "\n",
      "    accuracy                           0.78    516623\n",
      "   macro avg       0.57      0.40      0.42    516623\n",
      "weighted avg       0.75      0.78      0.74    516623\n",
      "\n",
      "              precision    recall  f1-score   support\n",
      "\n",
      "           1       0.73      0.48      0.58      1296\n",
      "           2       0.85      0.96      0.90     29098\n",
      "           3       0.50      0.06      0.10      6788\n",
      "           4       0.69      0.89      0.78     14823\n",
      "           5       0.71      0.56      0.62      4889\n",
      "           6       0.20      0.00      0.00       443\n",
      "           7       0.00      0.00      0.00        15\n",
      "           8       0.29      0.10      0.15        50\n",
      "\n",
      "    accuracy                           0.78     57402\n",
      "   macro avg       0.50      0.38      0.39     57402\n",
      "weighted avg       0.75      0.78      0.74     57402\n",
      "\n",
      "              precision    recall  f1-score   support\n",
      "\n",
      "           1       0.73      0.49      0.58     11210\n",
      "           2       0.85      0.96      0.90    261932\n",
      "           3       0.52      0.06      0.10     61983\n",
      "           4       0.69      0.89      0.78    133726\n",
      "           5       0.70      0.56      0.62     43455\n",
      "           6       0.48      0.00      0.01      3800\n",
      "           7       0.92      0.25      0.39        89\n",
      "           8       0.62      0.16      0.26       428\n",
      "\n",
      "    accuracy                           0.78    516623\n",
      "   macro avg       0.69      0.42      0.46    516623\n",
      "weighted avg       0.75      0.78      0.74    516623\n",
      "\n",
      "              precision    recall  f1-score   support\n",
      "\n",
      "           1       0.73      0.49      0.59      1266\n",
      "           2       0.85      0.96      0.90     29146\n",
      "           3       0.51      0.06      0.10      6923\n",
      "           4       0.69      0.89      0.78     14781\n",
      "           5       0.70      0.56      0.62      4825\n",
      "           6       1.00      0.00      0.00       411\n",
      "           7       0.00      0.00      0.00         8\n",
      "           8       0.18      0.05      0.08        42\n",
      "\n",
      "    accuracy                           0.78     57402\n",
      "   macro avg       0.58      0.38      0.38     57402\n",
      "weighted avg       0.75      0.78      0.73     57402\n",
      "\n",
      "GradientBoostingClassifier\n",
      "221.31495484908422\n"
     ]
    },
    {
     "data": {
      "text/plain": [
       "[{'Train Predictions': array([2, 5, 4, ..., 2, 4, 2]),\n",
       "  'Validation Predictions': array([2, 4, 5, ..., 2, 4, 2])},\n",
       " {'Train Predictions': array([2, 5, 4, ..., 4, 2, 2]),\n",
       "  'Validation Predictions': array([2, 4, 5, ..., 2, 4, 2])},\n",
       " {'Train Predictions': array([2, 5, 4, ..., 4, 2, 2]),\n",
       "  'Validation Predictions': array([4, 2, 2, ..., 2, 2, 2])},\n",
       " {'Train Predictions': array([2, 4, 2, ..., 2, 4, 2]),\n",
       "  'Validation Predictions': array([5, 4, 2, ..., 4, 2, 2])},\n",
       " {'Train Predictions': array([5, 4, 4, ..., 4, 2, 2]),\n",
       "  'Validation Predictions': array([2, 4, 4, ..., 2, 2, 2])},\n",
       " {'Train Predictions': array([2, 5, 4, ..., 4, 2, 2]),\n",
       "  'Validation Predictions': array([2, 4, 4, ..., 2, 4, 4])},\n",
       " {'Train Predictions': array([2, 5, 4, ..., 4, 2, 2]),\n",
       "  'Validation Predictions': array([2, 5, 2, ..., 2, 2, 4])},\n",
       " {'Train Predictions': array([2, 5, 4, ..., 4, 2, 2]),\n",
       "  'Validation Predictions': array([2, 2, 5, ..., 4, 4, 4])},\n",
       " {'Train Predictions': array([2, 5, 4, ..., 4, 2, 2]),\n",
       "  'Validation Predictions': array([2, 4, 4, ..., 2, 4, 4])},\n",
       " {'Train Predictions': array([2, 5, 4, ..., 2, 2, 2]),\n",
       "  'Validation Predictions': array([2, 5, 2, ..., 2, 2, 4])}]"
      ]
     },
     "execution_count": 90,
     "metadata": {},
     "output_type": "execute_result"
    }
   ],
   "source": [
    "# XGB Only\n",
    "# class_mapping = {1: 0, 2: 1, 3: 2, 4: 3, 5: 4, 6: 5, 7: 6, 8: 7}\n",
    "# df['Claim Injury Type'] = df['Claim Injury Type'].map(class_mapping)\n",
    "\n",
    "\n",
    "k_fold(df, features = features, \n",
    "       target = 'Claim Injury Type', k = 10, \n",
    "       model = RandomForestClassifier())"
   ]
  },
  {
   "cell_type": "markdown",
   "id": "72ae7168",
   "metadata": {},
   "source": [
    "**Load Model**"
   ]
  },
  {
   "cell_type": "code",
   "execution_count": null,
   "id": "31207ad3",
   "metadata": {},
   "outputs": [],
   "source": [
    "# Load the model from the file\n",
    "model = joblib.load('./models/GradientBoostingClassifier.joblib')"
   ]
  },
  {
   "cell_type": "markdown",
   "id": "f3ec155c",
   "metadata": {},
   "source": [
    "# 2. Test"
   ]
  },
  {
   "cell_type": "code",
   "execution_count": 14,
   "id": "e2dda462",
   "metadata": {
    "ExecuteTime": {
     "end_time": "2024-11-02T10:32:41.973942Z",
     "start_time": "2024-11-02T10:32:40.962548Z"
    }
   },
   "outputs": [],
   "source": [
    "test = pd.read_csv('./project_data/test_treated.csv', \n",
    "                   index_col = 'Claim Identifier')\n",
    "\n",
    "test = test[df.drop('Claim Injury Type', axis = 1).columns]"
   ]
  },
  {
   "cell_type": "markdown",
   "id": "20eba9cc",
   "metadata": {},
   "source": [
    "**Predictions**"
   ]
  },
  {
   "cell_type": "code",
   "execution_count": 96,
   "id": "f5b8dbb4",
   "metadata": {
    "ExecuteTime": {
     "end_time": "2024-11-01T22:34:16.048093Z",
     "start_time": "2024-11-01T22:34:10.548473Z"
    },
    "scrolled": true
   },
   "outputs": [],
   "source": [
    "test['Claim Injury Type'] = model.predict(test)"
   ]
  },
  {
   "cell_type": "markdown",
   "id": "8bdcc5e1",
   "metadata": {},
   "source": [
    "**Map to Original**"
   ]
  },
  {
   "cell_type": "code",
   "execution_count": 81,
   "id": "deb12cb2",
   "metadata": {
    "ExecuteTime": {
     "end_time": "2024-11-01T18:50:05.204583Z",
     "start_time": "2024-11-01T18:50:05.140564Z"
    }
   },
   "outputs": [],
   "source": [
    "# ## XGB ONLY\n",
    "# label_mapping = {\n",
    "#     0: \"1. CANCELLED\",\n",
    "#     1: \"2. NON-COMP\",\n",
    "#     2: \"3. MED ONLY\",\n",
    "#     3: \"4. TEMPORARY\",\n",
    "#     4: \"5. PPD SCH LOSS\",\n",
    "#     5: \"6. PPD NSL\",\n",
    "#     6: \"7. PTD\",\n",
    "#     7: \"8. DEATH\"\n",
    "# }\n",
    "\n",
    "# test['Claim Injury Type'] = test['Claim Injury Type'].replace(label_mapping)"
   ]
  },
  {
   "cell_type": "code",
   "execution_count": 97,
   "id": "e85029d5",
   "metadata": {
    "ExecuteTime": {
     "end_time": "2024-11-01T22:34:20.219707Z",
     "start_time": "2024-11-01T22:34:20.175519Z"
    }
   },
   "outputs": [],
   "source": [
    "label_mapping = {\n",
    "    1: \"1. CANCELLED\",\n",
    "    2: \"2. NON-COMP\",\n",
    "    3: \"3. MED ONLY\",\n",
    "    4: \"4. TEMPORARY\",\n",
    "    5: \"5. PPD SCH LOSS\",\n",
    "    6: \"6. PPD NSL\",\n",
    "    7: \"7. PTD\",\n",
    "    8: \"8. DEATH\"\n",
    "}\n",
    "\n",
    "test['Claim Injury Type'] = test['Claim Injury Type'].replace(label_mapping)"
   ]
  },
  {
   "cell_type": "markdown",
   "id": "68f0c9ca",
   "metadata": {},
   "source": [
    "Check each category inside target"
   ]
  },
  {
   "cell_type": "code",
   "execution_count": 98,
   "id": "8b314cbe",
   "metadata": {
    "ExecuteTime": {
     "end_time": "2024-11-01T22:34:21.301078Z",
     "start_time": "2024-11-01T22:34:21.261271Z"
    }
   },
   "outputs": [
    {
     "data": {
      "text/plain": [
       "Claim Injury Type\n",
       "8. DEATH           253631\n",
       "3. MED ONLY         74303\n",
       "2. NON-COMP         51639\n",
       "6. PPD NSL           4500\n",
       "4. TEMPORARY         2969\n",
       "7. PTD                932\n",
       "5. PPD SCH LOSS         1\n",
       "Name: count, dtype: int64"
      ]
     },
     "execution_count": 98,
     "metadata": {},
     "output_type": "execute_result"
    }
   ],
   "source": [
    "test['Claim Injury Type'].value_counts() "
   ]
  },
  {
   "cell_type": "markdown",
   "id": "955d66bb",
   "metadata": {},
   "source": [
    "Select only the predictions column and the index"
   ]
  },
  {
   "cell_type": "code",
   "execution_count": 99,
   "id": "8b18281e",
   "metadata": {
    "ExecuteTime": {
     "end_time": "2024-11-01T22:34:24.636957Z",
     "start_time": "2024-11-01T22:34:24.630320Z"
    }
   },
   "outputs": [
    {
     "data": {
      "text/plain": [
       "Claim Identifier\n",
       "6165911       8. DEATH\n",
       "6166141       8. DEATH\n",
       "6165907       8. DEATH\n",
       "6166047       8. DEATH\n",
       "6166102       8. DEATH\n",
       "              ...     \n",
       "6553137    2. NON-COMP\n",
       "6553119    3. MED ONLY\n",
       "6553542    3. MED ONLY\n",
       "6553455    3. MED ONLY\n",
       "6553594    3. MED ONLY\n",
       "Name: Claim Injury Type, Length: 387975, dtype: object"
      ]
     },
     "execution_count": 99,
     "metadata": {},
     "output_type": "execute_result"
    }
   ],
   "source": [
    "predictions = test['Claim Injury Type']\n",
    "predictions"
   ]
  },
  {
   "cell_type": "markdown",
   "id": "8c7252b0",
   "metadata": {},
   "source": [
    "# 3. Export"
   ]
  },
  {
   "cell_type": "code",
   "execution_count": 101,
   "id": "c77bb96d",
   "metadata": {
    "ExecuteTime": {
     "end_time": "2024-11-01T22:34:40.620286Z",
     "start_time": "2024-11-01T22:34:39.897335Z"
    }
   },
   "outputs": [],
   "source": [
    "predictions.to_csv('./predictions/pred4_GB.csv')"
   ]
  },
  {
   "cell_type": "markdown",
   "id": "da46b2c7",
   "metadata": {},
   "source": [
    "**Results**"
   ]
  },
  {
   "cell_type": "markdown",
   "id": "5e7042ae",
   "metadata": {},
   "source": [
    "__*<center>Models*__ <br>\n",
    "\n",
    "| Model | Feature Selection? | Log | Parameters | Kaggle Score |\n",
    "| ----- | ------------------ | --- | ---------- | ------------ |\n",
    "| LogReg | - | - | -  | 0.21122 |\n",
    "| RF | 1 | X | - | 0.29078 |\n",
    "| XGB | 1 | X | - | 0.20642 |\n",
    "| ----- | ------------------ | --- | ---------- | ------------ |\n",
    "| ----- | ------------------ | --- | ---------- | ------------ |\n",
    "\n",
    "<br><br>\n",
    "    \n",
    "**Features for Feature Selection 1**\n",
    "\n",
    "['C-2 Day', 'Accident Year', 'Birth Year', 'Assembly Month',\n",
    "            'C-2 Month', 'Average Weekly Wage', 'Age at Injury', \n",
    "            'C-2 Year', 'Number of Dependents', 'Accident Day', \n",
    "            'Assembly Year', 'First Hearing Year', 'IME-4 Count', \n",
    "            'Assembly Day', 'Accident Month', \n",
    "            'WCIO Cause of Injury Code', 'Gender', \n",
    "            'COVID-19 Indicator', 'WCIO Part Of Body Code', \n",
    "            'County of Injury', 'Attorney/Representative', \n",
    "            'Carrier Type', 'District Name', 'Medical Fee Region', \n",
    "            'Zip Code', 'Carrier Name', 'C-3 Date Binary', \n",
    "            'Alternative Dispute Resolution', \n",
    "            'WCIO Nature of Injury Code', 'Industry Code']\n"
   ]
  }
 ],
 "metadata": {
  "kernelspec": {
   "display_name": "Python 3 (ipykernel)",
   "language": "python",
   "name": "python3"
  },
  "language_info": {
   "codemirror_mode": {
    "name": "ipython",
    "version": 3
   },
   "file_extension": ".py",
   "mimetype": "text/x-python",
   "name": "python",
   "nbconvert_exporter": "python",
   "pygments_lexer": "ipython3",
   "version": "3.10.13"
  }
 },
 "nbformat": 4,
 "nbformat_minor": 5
}
