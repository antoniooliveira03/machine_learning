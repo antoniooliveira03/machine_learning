{
 "cells": [
  {
   "cell_type": "code",
   "execution_count": 85,
   "id": "c80c7c88",
   "metadata": {
    "ExecuteTime": {
     "end_time": "2024-11-01T18:51:27.130192Z",
     "start_time": "2024-11-01T18:51:27.125372Z"
    }
   },
   "outputs": [],
   "source": [
    "import pandas as pd\n",
    "import numpy as np\n",
    "\n",
    "from sklearn.model_selection import KFold\n",
    "\n",
    "# Models\n",
    "from sklearn.linear_model import LogisticRegression\n",
    "from sklearn.ensemble import RandomForestClassifier, GradientBoostingClassifier, AdaBoostClassifier\n",
    "from sklearn.tree import DecisionTreeClassifier\n",
    "from xgboost import XGBClassifier  \n",
    "#from lightgbm import LGBMClassifier \n",
    "#from catboost import CatBoostClassifier \n",
    "\n",
    "# Metrics\n",
    "from sklearn.metrics import classification_report\n",
    "\n",
    "\n",
    "pd.set_option('display.max_columns', None)\n",
    "\n",
    "# Warnings\n",
    "import warnings\n",
    "warnings.filterwarnings(\"ignore\")\n",
    "\n",
    "import NA_outliers as n\n",
    "import play_song as song"
   ]
  },
  {
   "cell_type": "code",
   "execution_count": 86,
   "id": "b272237a",
   "metadata": {
    "ExecuteTime": {
     "end_time": "2024-11-01T18:51:29.447892Z",
     "start_time": "2024-11-01T18:51:27.396101Z"
    }
   },
   "outputs": [],
   "source": [
    "df = pd.read_csv('./project_data/out_eda1.csv', \n",
    "                 index_col = 'Claim Identifier')"
   ]
  },
  {
   "cell_type": "code",
   "execution_count": 75,
   "id": "071ad9a6",
   "metadata": {
    "ExecuteTime": {
     "end_time": "2024-11-01T18:48:42.671665Z",
     "start_time": "2024-11-01T18:48:41.288442Z"
    }
   },
   "outputs": [],
   "source": [
    "test = pd.read_csv('./project_data/test_treated.csv', index_col = 'Claim Identifier')"
   ]
  },
  {
   "cell_type": "markdown",
   "id": "5b75cf02",
   "metadata": {},
   "source": [
    "## 1. K Fold\n",
    "\n",
    "<a href=\"#top\">Top &#129033;</a>"
   ]
  },
  {
   "cell_type": "code",
   "execution_count": 87,
   "id": "29b2eff1",
   "metadata": {
    "ExecuteTime": {
     "end_time": "2024-11-01T18:51:31.304446Z",
     "start_time": "2024-11-01T18:51:31.300915Z"
    }
   },
   "outputs": [],
   "source": [
    "from sklearn.metrics import classification_report\n",
    "#from collections import Counter\n",
    "import time\n",
    "from sklearn.preprocessing import FunctionTransformer\n",
    "from sklearn.pipeline import Pipeline\n",
    "#from functools import partial\n",
    "from sklearn.preprocessing import RobustScaler\n",
    "import joblib\n"
   ]
  },
  {
   "cell_type": "code",
   "execution_count": 88,
   "id": "d29e28c9",
   "metadata": {
    "ExecuteTime": {
     "end_time": "2024-11-01T18:51:31.546809Z",
     "start_time": "2024-11-01T18:51:31.538122Z"
    },
    "scrolled": true
   },
   "outputs": [],
   "source": [
    "def k_fold(df, features, target, k = 5, model = LogisticRegression()):\n",
    "    \n",
    "    start_time = time.time()\n",
    "    \n",
    "    X = df[features]\n",
    "    y = df[target]\n",
    "    \n",
    "    kf = KFold(n_splits= k, shuffle=True, random_state=1)\n",
    "    predictions = []\n",
    "    \n",
    "    for train_idx, val_idx in kf.split(X):\n",
    "\n",
    "        ### SPLIT\n",
    "        X_train, X_val = X.iloc[train_idx], X.iloc[val_idx]\n",
    "        y_train, y_val = y.iloc[train_idx], y.iloc[val_idx]\n",
    "        \n",
    "        original_columns = X_train.columns\n",
    "        \n",
    "        ### PIPELINE\n",
    "        \n",
    "        pipeline = Pipeline([\n",
    "        ('imputer', FunctionTransformer(n.custom_impute, validate=False)), \n",
    "        ('log_transform', FunctionTransformer(n.log_transform, validate=False)),  \n",
    "        ('scaler', RobustScaler()),\n",
    "        ])\n",
    "        \n",
    "        X_train = pipeline.fit_transform(X_train, y_train)\n",
    "        X_val = pipeline.transform(X_val)\n",
    "        X_train = pd.DataFrame(X_train, columns=original_columns)\n",
    "        X_val = pd.DataFrame(X_val, columns=original_columns)\n",
    "\n",
    "        \n",
    "        # fit model\n",
    "        model = model\n",
    "        model.fit(X_train, y_train)\n",
    "\n",
    "        # make predictions\n",
    "        train_pred = model.predict(X_train)\n",
    "        val_pred = model.predict(X_val)\n",
    "\n",
    "        # compute metrics\n",
    "        print(classification_report(y_train, train_pred))\n",
    "        print(classification_report(y_val, val_pred))\n",
    "\n",
    "        # save predictions and best model's parameters\n",
    "\n",
    "        predictions.append({'Train Predictions': train_pred, 'Validation Predictions': val_pred})\n",
    "    \n",
    "    model_name = type(model).__name__\n",
    "    print(model_name)\n",
    "    joblib.dump(model, f'./models/{model_name}.joblib')  \n",
    "\n",
    "    end_time = time.time()\n",
    "    elapsed_time = (end_time - start_time) / 60\n",
    "    print(elapsed_time)\n",
    "        \n",
    "    return predictions\n"
   ]
  },
  {
   "cell_type": "code",
   "execution_count": 89,
   "id": "e31ee446",
   "metadata": {
    "ExecuteTime": {
     "end_time": "2024-11-01T18:51:32.685794Z",
     "start_time": "2024-11-01T18:51:32.681702Z"
    }
   },
   "outputs": [],
   "source": [
    "features = ['C-2 Day', 'Accident Year', 'Birth Year', 'Assembly Month',\n",
    "            'C-2 Month', 'Average Weekly Wage', 'Age at Injury', \n",
    "            'C-2 Year', 'Number of Dependents', 'Accident Day', \n",
    "            'Assembly Year', 'First Hearing Year', 'IME-4 Count', \n",
    "            'Assembly Day', 'Accident Month', \n",
    "            'WCIO Cause of Injury Code', 'Gender', \n",
    "            'COVID-19 Indicator', 'WCIO Part Of Body Code', \n",
    "            'County of Injury', 'Attorney/Representative', \n",
    "            'Carrier Type', 'District Name', 'Medical Fee Region', \n",
    "            'Zip Code', 'Carrier Name', 'C-3 Date Binary', \n",
    "            'Alternative Dispute Resolution', \n",
    "            'WCIO Nature of Injury Code', 'Industry Code']\n",
    "\n"
   ]
  },
  {
   "cell_type": "code",
   "execution_count": null,
   "id": "69d3af81",
   "metadata": {
    "ExecuteTime": {
     "start_time": "2024-11-01T18:51:46.511Z"
    },
    "scrolled": true
   },
   "outputs": [],
   "source": [
    "# XGB Only\n",
    "# class_mapping = {1: 0, 2: 1, 3: 2, 4: 3, 5: 4, 6: 5, 7: 6, 8: 7}\n",
    "# df['Claim Injury Type'] = df['Claim Injury Type'].map(class_mapping)\n",
    "\n",
    "\n",
    "k_fold(df, features = features, \n",
    "       target = 'Claim Injury Type', k = 10, \n",
    "       model = GradientBoostingClassifier())"
   ]
  },
  {
   "cell_type": "code",
   "execution_count": null,
   "id": "a465a716",
   "metadata": {
    "ExecuteTime": {
     "start_time": "2024-11-01T18:51:48.184Z"
    }
   },
   "outputs": [],
   "source": [
    "song.play_('audio.mp3')"
   ]
  },
  {
   "cell_type": "markdown",
   "id": "f3ec155c",
   "metadata": {},
   "source": [
    "## test"
   ]
  },
  {
   "cell_type": "code",
   "execution_count": 76,
   "id": "5ea3c279",
   "metadata": {
    "ExecuteTime": {
     "end_time": "2024-11-01T18:48:44.326855Z",
     "start_time": "2024-11-01T18:48:44.242789Z"
    }
   },
   "outputs": [],
   "source": [
    "test = test[features]"
   ]
  },
  {
   "cell_type": "code",
   "execution_count": 71,
   "id": "4b65c6a3",
   "metadata": {
    "ExecuteTime": {
     "end_time": "2024-11-01T18:47:44.101403Z",
     "start_time": "2024-11-01T18:47:43.728075Z"
    }
   },
   "outputs": [],
   "source": [
    "# Load the model from the file\n",
    "model = joblib.load('./models/XGBClassifier.joblib')"
   ]
  },
  {
   "cell_type": "code",
   "execution_count": 77,
   "id": "8bfcd709",
   "metadata": {
    "ExecuteTime": {
     "end_time": "2024-11-01T18:49:25.936230Z",
     "start_time": "2024-11-01T18:48:45.940564Z"
    },
    "collapsed": true
   },
   "outputs": [
    {
     "ename": "ValueError",
     "evalue": "Found array with 0 sample(s) (shape=(0, 29)) while a minimum of 1 is required by NearestNeighbors.",
     "output_type": "error",
     "traceback": [
      "\u001b[0;31m---------------------------------------------------------------------------\u001b[0m",
      "\u001b[0;31mValueError\u001b[0m                                Traceback (most recent call last)",
      "Cell \u001b[0;32mIn[77], line 2\u001b[0m\n\u001b[1;32m      1\u001b[0m \u001b[38;5;28;01mfor\u001b[39;00m col \u001b[38;5;129;01min\u001b[39;00m test\u001b[38;5;241m.\u001b[39mcolumns:\n\u001b[0;32m----> 2\u001b[0m     test \u001b[38;5;241m=\u001b[39m \u001b[43mn\u001b[49m\u001b[38;5;241;43m.\u001b[39;49m\u001b[43mcustom_impute\u001b[49m\u001b[43m(\u001b[49m\u001b[43mtest\u001b[49m\u001b[43m)\u001b[49m\n",
      "File \u001b[0;32m~/Documents/GitHub/machine_learning/NA_outliers.py:73\u001b[0m, in \u001b[0;36mcustom_impute\u001b[0;34m(df)\u001b[0m\n\u001b[1;32m     69\u001b[0m         code_columns \u001b[38;5;241m=\u001b[39m df\u001b[38;5;241m.\u001b[39mfilter(regex\u001b[38;5;241m=\u001b[39m\u001b[38;5;124m'\u001b[39m\u001b[38;5;124mCode$\u001b[39m\u001b[38;5;124m'\u001b[39m, axis\u001b[38;5;241m=\u001b[39m\u001b[38;5;241m1\u001b[39m)\u001b[38;5;241m.\u001b[39mcolumns\n\u001b[1;32m     70\u001b[0m         df[code_columns] \u001b[38;5;241m=\u001b[39m df[code_columns]\u001b[38;5;241m.\u001b[39mfillna(\u001b[38;5;241m0\u001b[39m)\n\u001b[0;32m---> 73\u001b[0m df[\u001b[38;5;124m'\u001b[39m\u001b[38;5;124mAverage Weekly Wage\u001b[39m\u001b[38;5;124m'\u001b[39m] \u001b[38;5;241m=\u001b[39m \u001b[43mball_tree_impute\u001b[49m\u001b[43m(\u001b[49m\u001b[43mdf\u001b[49m\u001b[43m,\u001b[49m\u001b[43m \u001b[49m\u001b[38;5;124;43m'\u001b[39;49m\u001b[38;5;124;43mAverage Weekly Wage\u001b[39;49m\u001b[38;5;124;43m'\u001b[39;49m\u001b[43m)\u001b[49m\n\u001b[1;32m     75\u001b[0m \u001b[38;5;28;01mreturn\u001b[39;00m df\n",
      "File \u001b[0;32m~/Documents/GitHub/machine_learning/NA_outliers.py:20\u001b[0m, in \u001b[0;36mball_tree_impute\u001b[0;34m(df, target, n_neighbors)\u001b[0m\n\u001b[1;32m     17\u001b[0m knn\u001b[38;5;241m.\u001b[39mfit(non_missing_data[features])\n\u001b[1;32m     19\u001b[0m \u001b[38;5;66;03m# Find nearest neighbors for rows with missing values\u001b[39;00m\n\u001b[0;32m---> 20\u001b[0m _, indices \u001b[38;5;241m=\u001b[39m \u001b[43mknn\u001b[49m\u001b[38;5;241;43m.\u001b[39;49m\u001b[43mkneighbors\u001b[49m\u001b[43m(\u001b[49m\u001b[43mmissing_data\u001b[49m\u001b[43m[\u001b[49m\u001b[43mfeatures\u001b[49m\u001b[43m]\u001b[49m\u001b[43m)\u001b[49m\n\u001b[1;32m     22\u001b[0m  \u001b[38;5;66;03m# Initialize a Series to store imputed values\u001b[39;00m\n\u001b[1;32m     23\u001b[0m imputed_values \u001b[38;5;241m=\u001b[39m pd\u001b[38;5;241m.\u001b[39mSeries(index\u001b[38;5;241m=\u001b[39mdf\u001b[38;5;241m.\u001b[39mindex)\n",
      "File \u001b[0;32m~/anaconda3/envs/Text_Mining/lib/python3.10/site-packages/sklearn/neighbors/_base.py:806\u001b[0m, in \u001b[0;36mKNeighborsMixin.kneighbors\u001b[0;34m(self, X, n_neighbors, return_distance)\u001b[0m\n\u001b[1;32m    804\u001b[0m         X \u001b[38;5;241m=\u001b[39m _check_precomputed(X)\n\u001b[1;32m    805\u001b[0m     \u001b[38;5;28;01melse\u001b[39;00m:\n\u001b[0;32m--> 806\u001b[0m         X \u001b[38;5;241m=\u001b[39m \u001b[38;5;28;43mself\u001b[39;49m\u001b[38;5;241;43m.\u001b[39;49m\u001b[43m_validate_data\u001b[49m\u001b[43m(\u001b[49m\u001b[43mX\u001b[49m\u001b[43m,\u001b[49m\u001b[43m \u001b[49m\u001b[43maccept_sparse\u001b[49m\u001b[38;5;241;43m=\u001b[39;49m\u001b[38;5;124;43m\"\u001b[39;49m\u001b[38;5;124;43mcsr\u001b[39;49m\u001b[38;5;124;43m\"\u001b[39;49m\u001b[43m,\u001b[49m\u001b[43m \u001b[49m\u001b[43mreset\u001b[49m\u001b[38;5;241;43m=\u001b[39;49m\u001b[38;5;28;43;01mFalse\u001b[39;49;00m\u001b[43m,\u001b[49m\u001b[43m \u001b[49m\u001b[43morder\u001b[49m\u001b[38;5;241;43m=\u001b[39;49m\u001b[38;5;124;43m\"\u001b[39;49m\u001b[38;5;124;43mC\u001b[39;49m\u001b[38;5;124;43m\"\u001b[39;49m\u001b[43m)\u001b[49m\n\u001b[1;32m    808\u001b[0m n_samples_fit \u001b[38;5;241m=\u001b[39m \u001b[38;5;28mself\u001b[39m\u001b[38;5;241m.\u001b[39mn_samples_fit_\n\u001b[1;32m    809\u001b[0m \u001b[38;5;28;01mif\u001b[39;00m n_neighbors \u001b[38;5;241m>\u001b[39m n_samples_fit:\n",
      "File \u001b[0;32m~/anaconda3/envs/Text_Mining/lib/python3.10/site-packages/sklearn/base.py:565\u001b[0m, in \u001b[0;36mBaseEstimator._validate_data\u001b[0;34m(self, X, y, reset, validate_separately, **check_params)\u001b[0m\n\u001b[1;32m    563\u001b[0m     \u001b[38;5;28;01mraise\u001b[39;00m \u001b[38;5;167;01mValueError\u001b[39;00m(\u001b[38;5;124m\"\u001b[39m\u001b[38;5;124mValidation should be done on X, y or both.\u001b[39m\u001b[38;5;124m\"\u001b[39m)\n\u001b[1;32m    564\u001b[0m \u001b[38;5;28;01melif\u001b[39;00m \u001b[38;5;129;01mnot\u001b[39;00m no_val_X \u001b[38;5;129;01mand\u001b[39;00m no_val_y:\n\u001b[0;32m--> 565\u001b[0m     X \u001b[38;5;241m=\u001b[39m \u001b[43mcheck_array\u001b[49m\u001b[43m(\u001b[49m\u001b[43mX\u001b[49m\u001b[43m,\u001b[49m\u001b[43m \u001b[49m\u001b[43minput_name\u001b[49m\u001b[38;5;241;43m=\u001b[39;49m\u001b[38;5;124;43m\"\u001b[39;49m\u001b[38;5;124;43mX\u001b[39;49m\u001b[38;5;124;43m\"\u001b[39;49m\u001b[43m,\u001b[49m\u001b[43m \u001b[49m\u001b[38;5;241;43m*\u001b[39;49m\u001b[38;5;241;43m*\u001b[39;49m\u001b[43mcheck_params\u001b[49m\u001b[43m)\u001b[49m\n\u001b[1;32m    566\u001b[0m     out \u001b[38;5;241m=\u001b[39m X\n\u001b[1;32m    567\u001b[0m \u001b[38;5;28;01melif\u001b[39;00m no_val_X \u001b[38;5;129;01mand\u001b[39;00m \u001b[38;5;129;01mnot\u001b[39;00m no_val_y:\n",
      "File \u001b[0;32m~/anaconda3/envs/Text_Mining/lib/python3.10/site-packages/sklearn/utils/validation.py:931\u001b[0m, in \u001b[0;36mcheck_array\u001b[0;34m(array, accept_sparse, accept_large_sparse, dtype, order, copy, force_all_finite, ensure_2d, allow_nd, ensure_min_samples, ensure_min_features, estimator, input_name)\u001b[0m\n\u001b[1;32m    929\u001b[0m     n_samples \u001b[38;5;241m=\u001b[39m _num_samples(array)\n\u001b[1;32m    930\u001b[0m     \u001b[38;5;28;01mif\u001b[39;00m n_samples \u001b[38;5;241m<\u001b[39m ensure_min_samples:\n\u001b[0;32m--> 931\u001b[0m         \u001b[38;5;28;01mraise\u001b[39;00m \u001b[38;5;167;01mValueError\u001b[39;00m(\n\u001b[1;32m    932\u001b[0m             \u001b[38;5;124m\"\u001b[39m\u001b[38;5;124mFound array with \u001b[39m\u001b[38;5;132;01m%d\u001b[39;00m\u001b[38;5;124m sample(s) (shape=\u001b[39m\u001b[38;5;132;01m%s\u001b[39;00m\u001b[38;5;124m) while a\u001b[39m\u001b[38;5;124m\"\u001b[39m\n\u001b[1;32m    933\u001b[0m             \u001b[38;5;124m\"\u001b[39m\u001b[38;5;124m minimum of \u001b[39m\u001b[38;5;132;01m%d\u001b[39;00m\u001b[38;5;124m is required\u001b[39m\u001b[38;5;132;01m%s\u001b[39;00m\u001b[38;5;124m.\u001b[39m\u001b[38;5;124m\"\u001b[39m\n\u001b[1;32m    934\u001b[0m             \u001b[38;5;241m%\u001b[39m (n_samples, array\u001b[38;5;241m.\u001b[39mshape, ensure_min_samples, context)\n\u001b[1;32m    935\u001b[0m         )\n\u001b[1;32m    937\u001b[0m \u001b[38;5;28;01mif\u001b[39;00m ensure_min_features \u001b[38;5;241m>\u001b[39m \u001b[38;5;241m0\u001b[39m \u001b[38;5;129;01mand\u001b[39;00m array\u001b[38;5;241m.\u001b[39mndim \u001b[38;5;241m==\u001b[39m \u001b[38;5;241m2\u001b[39m:\n\u001b[1;32m    938\u001b[0m     n_features \u001b[38;5;241m=\u001b[39m array\u001b[38;5;241m.\u001b[39mshape[\u001b[38;5;241m1\u001b[39m]\n",
      "\u001b[0;31mValueError\u001b[0m: Found array with 0 sample(s) (shape=(0, 29)) while a minimum of 1 is required by NearestNeighbors."
     ]
    }
   ],
   "source": [
    "for col in test.columns:\n",
    "    test = n.custom_impute(test)"
   ]
  },
  {
   "cell_type": "code",
   "execution_count": 78,
   "id": "0177013b",
   "metadata": {
    "ExecuteTime": {
     "end_time": "2024-11-01T18:49:31.041687Z",
     "start_time": "2024-11-01T18:49:30.997533Z"
    },
    "collapsed": true
   },
   "outputs": [
    {
     "data": {
      "text/plain": [
       "C-2 Day                           0\n",
       "Accident Year                     0\n",
       "Birth Year                        0\n",
       "Assembly Month                    0\n",
       "C-2 Month                         0\n",
       "Average Weekly Wage               0\n",
       "Age at Injury                     0\n",
       "C-2 Year                          0\n",
       "Number of Dependents              0\n",
       "Accident Day                      0\n",
       "Assembly Year                     0\n",
       "First Hearing Year                0\n",
       "IME-4 Count                       0\n",
       "Assembly Day                      0\n",
       "Accident Month                    0\n",
       "WCIO Cause of Injury Code         0\n",
       "Gender                            0\n",
       "COVID-19 Indicator                0\n",
       "WCIO Part Of Body Code            0\n",
       "County of Injury                  0\n",
       "Attorney/Representative           0\n",
       "Carrier Type                      0\n",
       "District Name                     0\n",
       "Medical Fee Region                0\n",
       "Zip Code                          0\n",
       "Carrier Name                      0\n",
       "C-3 Date Binary                   0\n",
       "Alternative Dispute Resolution    0\n",
       "WCIO Nature of Injury Code        0\n",
       "Industry Code                     0\n",
       "dtype: int64"
      ]
     },
     "execution_count": 78,
     "metadata": {},
     "output_type": "execute_result"
    }
   ],
   "source": [
    "test.isna().sum()"
   ]
  },
  {
   "cell_type": "markdown",
   "id": "21612849",
   "metadata": {},
   "source": [
    "**Predictions**"
   ]
  },
  {
   "cell_type": "code",
   "execution_count": 80,
   "id": "f5b8dbb4",
   "metadata": {
    "ExecuteTime": {
     "end_time": "2024-11-01T18:50:02.113704Z",
     "start_time": "2024-11-01T18:50:01.228383Z"
    },
    "scrolled": true
   },
   "outputs": [],
   "source": [
    "test['Claim Injury Type'] = model.predict(test)"
   ]
  },
  {
   "cell_type": "markdown",
   "id": "0c3883f8",
   "metadata": {},
   "source": [
    "**Map to Original**"
   ]
  },
  {
   "cell_type": "code",
   "execution_count": 81,
   "id": "d6940176",
   "metadata": {
    "ExecuteTime": {
     "end_time": "2024-11-01T18:50:05.204583Z",
     "start_time": "2024-11-01T18:50:05.140564Z"
    }
   },
   "outputs": [],
   "source": [
    "# ## XGB ONLY\n",
    "# label_mapping = {\n",
    "#     0: \"1. CANCELLED\",\n",
    "#     1: \"2. NON-COMP\",\n",
    "#     2: \"3. MED ONLY\",\n",
    "#     3: \"4. TEMPORARY\",\n",
    "#     4: \"5. PPD SCH LOSS\",\n",
    "#     5: \"6. PPD NSL\",\n",
    "#     6: \"7. PTD\",\n",
    "#     7: \"8. DEATH\"\n",
    "# }\n",
    "\n",
    "# test['Claim Injury Type'] = test['Claim Injury Type'].replace(label_mapping)"
   ]
  },
  {
   "cell_type": "code",
   "execution_count": 67,
   "id": "fdbe75aa",
   "metadata": {
    "ExecuteTime": {
     "end_time": "2024-11-01T18:44:52.711072Z",
     "start_time": "2024-11-01T18:44:52.658355Z"
    }
   },
   "outputs": [],
   "source": [
    "label_mapping = {\n",
    "    1: \"1. CANCELLED\",\n",
    "    2: \"2. NON-COMP\",\n",
    "    3: \"3. MED ONLY\",\n",
    "    4: \"4. TEMPORARY\",\n",
    "    5: \"5. PPD SCH LOSS\",\n",
    "    6: \"6. PPD NSL\",\n",
    "    7: \"7. PTD\",\n",
    "    8: \"8. DEATH\"\n",
    "}\n",
    "\n",
    "test['Claim Injury Type'] = test['Claim Injury Type'].replace(label_mapping)"
   ]
  },
  {
   "cell_type": "code",
   "execution_count": 82,
   "id": "8b314cbe",
   "metadata": {
    "ExecuteTime": {
     "end_time": "2024-11-01T18:50:07.431559Z",
     "start_time": "2024-11-01T18:50:07.403081Z"
    }
   },
   "outputs": [
    {
     "data": {
      "text/plain": [
       "Claim Injury Type\n",
       "2. NON-COMP        326853\n",
       "3. MED ONLY         53605\n",
       "4. TEMPORARY         5764\n",
       "6. PPD NSL            839\n",
       "5. PPD SCH LOSS       709\n",
       "8. DEATH              119\n",
       "1. CANCELLED           86\n",
       "Name: count, dtype: int64"
      ]
     },
     "execution_count": 82,
     "metadata": {},
     "output_type": "execute_result"
    }
   ],
   "source": [
    "test['Claim Injury Type'].value_counts() "
   ]
  },
  {
   "cell_type": "code",
   "execution_count": 83,
   "id": "8b18281e",
   "metadata": {
    "ExecuteTime": {
     "end_time": "2024-11-01T18:50:11.806866Z",
     "start_time": "2024-11-01T18:50:11.800974Z"
    },
    "collapsed": true
   },
   "outputs": [
    {
     "data": {
      "text/plain": [
       "Claim Identifier\n",
       "6165911    2. NON-COMP\n",
       "6166141    2. NON-COMP\n",
       "6165907    2. NON-COMP\n",
       "6166047    2. NON-COMP\n",
       "6166102    2. NON-COMP\n",
       "              ...     \n",
       "6553137    2. NON-COMP\n",
       "6553119    3. MED ONLY\n",
       "6553542    2. NON-COMP\n",
       "6553455    3. MED ONLY\n",
       "6553594    3. MED ONLY\n",
       "Name: Claim Injury Type, Length: 387975, dtype: object"
      ]
     },
     "execution_count": 83,
     "metadata": {},
     "output_type": "execute_result"
    }
   ],
   "source": [
    "predictions = test['Claim Injury Type']\n",
    "predictions"
   ]
  },
  {
   "cell_type": "code",
   "execution_count": 84,
   "id": "c77bb96d",
   "metadata": {
    "ExecuteTime": {
     "end_time": "2024-11-01T18:50:18.474245Z",
     "start_time": "2024-11-01T18:50:17.712960Z"
    }
   },
   "outputs": [],
   "source": [
    "predictions.to_csv('./predictions/pred3_XGB.csv')"
   ]
  }
 ],
 "metadata": {
  "kernelspec": {
   "display_name": "Python 3 (ipykernel)",
   "language": "python",
   "name": "python3"
  },
  "language_info": {
   "codemirror_mode": {
    "name": "ipython",
    "version": 3
   },
   "file_extension": ".py",
   "mimetype": "text/x-python",
   "name": "python",
   "nbconvert_exporter": "python",
   "pygments_lexer": "ipython3",
   "version": "3.10.13"
  }
 },
 "nbformat": 4,
 "nbformat_minor": 5
}
