{
 "cells": [
  {
   "cell_type": "code",
   "execution_count": 12,
   "id": "c80c7c88",
   "metadata": {
    "ExecuteTime": {
     "end_time": "2024-11-02T10:32:25.913419Z",
     "start_time": "2024-11-02T10:32:25.903993Z"
    }
   },
   "outputs": [],
   "source": [
    "import pandas as pd\n",
    "import numpy as np\n",
    "\n",
    "from sklearn.model_selection import KFold, StratifiedKFold\n",
    "\n",
    "# Models\n",
    "from sklearn.linear_model import LogisticRegression\n",
    "from sklearn.ensemble import RandomForestClassifier, GradientBoostingClassifier, AdaBoostClassifier\n",
    "from sklearn.tree import DecisionTreeClassifier\n",
    "from xgboost import XGBClassifier  \n",
    "from sklearn.tree import DecisionTreeClassifier\n",
    "#from lightgbm import LGBMClassifier \n",
    "#from catboost import CatBoostClassifier \n",
    "\n",
    "# Metrics\n",
    "from sklearn.metrics import classification_report\n",
    "\n",
    "\n",
    "\n",
    "\n",
    "## EXTRA\n",
    "pd.set_option('display.max_columns', None)\n",
    "\n",
    "# Warnings\n",
    "import warnings\n",
    "warnings.filterwarnings(\"ignore\")\n",
    "\n",
    "import NA_outliers as n\n",
    "import play_song as song"
   ]
  },
  {
   "cell_type": "code",
   "execution_count": null,
   "id": "a684525d",
   "metadata": {},
   "outputs": [],
   "source": [
    "# FUNCTION\n",
    "\n",
    "import pandas as pd\n",
    "import numpy as np\n",
    "import time\n",
    "import joblib\n",
    "from sklearn.model_selection import StratifiedKFold\n",
    "from sklearn.linear_model import LogisticRegression\n",
    "from sklearn.pipeline import Pipeline\n",
    "from sklearn.preprocessing import RobustScaler, FunctionTransformer\n",
    "from sklearn.metrics import classification_report\n",
    "\n",
    "import NA_outliers as n\n",
    "import play_song as song\n"
   ]
  },
  {
   "cell_type": "code",
   "execution_count": 13,
   "id": "b272237a",
   "metadata": {
    "ExecuteTime": {
     "end_time": "2024-11-02T10:32:27.556536Z",
     "start_time": "2024-11-02T10:32:26.122518Z"
    }
   },
   "outputs": [],
   "source": [
    "df = pd.read_csv('./project_data/out_eda1.csv', \n",
    "                 index_col = 'Claim Identifier')"
   ]
  },
  {
   "cell_type": "markdown",
   "id": "5b75cf02",
   "metadata": {},
   "source": [
    "## 1. Train\n",
    "\n",
    "<a href=\"#top\">Top &#129033;</a>"
   ]
  },
  {
   "cell_type": "code",
   "execution_count": 31,
   "id": "99618e48",
   "metadata": {
    "ExecuteTime": {
     "end_time": "2024-11-02T10:47:14.680882Z",
     "start_time": "2024-11-02T10:47:14.670320Z"
    }
   },
   "outputs": [],
   "source": [
    "def k_fold(df, features, target, model_name, k = 5, \n",
    "           model = LogisticRegression(), patience=2):\n",
    "    \n",
    "    start_time = time.time()\n",
    "    \n",
    "    X = df[features]\n",
    "    y = df[target]\n",
    "    \n",
    "    kf = StratifiedKFold(n_splits= k, shuffle=True, random_state=1)\n",
    "    predictions = []\n",
    "    \n",
    "    # Initialize variables for early stopping\n",
    "    best_macro_avg = 0  # Track the best macro average score\n",
    "    no_improvement_count = 0  # Counter for early stopping\n",
    "\n",
    "    \n",
    "    for fold, (train_idx, val_idx) in enumerate(kf.split(X), 1):\n",
    "        \n",
    "        print(f'----------FOLD {fold}----------')\n",
    "        ### SPLIT\n",
    "        X_train, X_val = X.iloc[train_idx], X.iloc[val_idx]\n",
    "        y_train, y_val = y.iloc[train_idx], y.iloc[val_idx]\n",
    "        \n",
    "        original_columns = X_train.columns\n",
    "        \n",
    "        ### PIPELINE\n",
    "        \n",
    "        pipeline = Pipeline([\n",
    "        ('imputer', FunctionTransformer(n.custom_impute, validate=False)), \n",
    "        #('log_transform', FunctionTransformer(n.log_transform, validate=False)),  \n",
    "        ('scaler', RobustScaler()),\n",
    "        ])\n",
    "        \n",
    "        X_train = pipeline.fit_transform(X_train, y_train)\n",
    "        X_val = pipeline.transform(X_val)\n",
    "        X_train = pd.DataFrame(X_train, columns=original_columns)\n",
    "        X_val = pd.DataFrame(X_val, columns=original_columns)\n",
    "\n",
    "        \n",
    "        # fit model\n",
    "        model = model\n",
    "        model.fit(X_train, y_train)\n",
    "\n",
    "        # make predictions\n",
    "        train_pred = model.predict(X_train)\n",
    "        val_pred = model.predict(X_val)\n",
    "\n",
    "        # Compute metrics\n",
    "        train_report = classification_report(y_train, train_pred, output_dict=True)\n",
    "        val_report = classification_report(y_val, val_pred, output_dict=True)\n",
    "        \n",
    "        print(f\"Fold {fold} - Training Report:\\n\", classification_report(y_train, train_pred))\n",
    "        print(f\"Fold {fold} - Validation Report:\\n\", classification_report(y_val, val_pred))\n",
    "        \n",
    "        val_macro_avg = val_report['macro avg']['f1-score']\n",
    "        \n",
    "        if val_macro_avg > best_macro_avg:\n",
    "            best_macro_avg = val_macro_avg\n",
    "            no_improvement_count = 0\n",
    "            \n",
    "            # Save the best model \n",
    "            joblib.dump(model, f'./models/{model_name}.joblib')\n",
    "        else:\n",
    "            no_improvement_count += 1\n",
    "            print(f\"No improvement for {no_improvement_count} fold(s)\")\n",
    "\n",
    "        if no_improvement_count >= patience:\n",
    "            print(f\"Early stopping at fold {fold} due to no improvement in macro average for {patience} folds\")\n",
    "            break\n",
    "        \n",
    "        \n",
    "        # save predictions and best model's parameters\n",
    "        predictions.append({'Train Predictions': train_pred, 'Validation Predictions': val_pred})\n",
    "    \n",
    "    \n",
    "    # Time\n",
    "    end_time = time.time()\n",
    "    elapsed_time = round((end_time - start_time) / 60, 2)\n",
    "    print(f'This run took {elapsed_time} minutes')\n",
    "    \n",
    "    # Play Warning Song\n",
    "    song.play_('audio.mp3')\n",
    "        \n",
    "    return predictions\n"
   ]
  },
  {
   "cell_type": "markdown",
   "id": "da787ca0",
   "metadata": {},
   "source": [
    "**Selected Features to use for predictions**"
   ]
  },
  {
   "cell_type": "code",
   "execution_count": 44,
   "id": "e31ee446",
   "metadata": {
    "ExecuteTime": {
     "end_time": "2024-11-02T11:03:07.150498Z",
     "start_time": "2024-11-02T11:03:07.039898Z"
    }
   },
   "outputs": [],
   "source": [
    "features = df.drop('Claim Injury Type', axis = 1).columns"
   ]
  },
  {
   "cell_type": "markdown",
   "id": "b6ccec50",
   "metadata": {},
   "source": [
    "**Model**"
   ]
  },
  {
   "cell_type": "code",
   "execution_count": 45,
   "id": "69d3af81",
   "metadata": {
    "ExecuteTime": {
     "end_time": "2024-11-02T11:18:18.336429Z",
     "start_time": "2024-11-02T11:03:09.623705Z"
    },
    "scrolled": true
   },
   "outputs": [
    {
     "name": "stdout",
     "output_type": "stream",
     "text": [
      "----------FOLD 1----------\n",
      "Fold 1 - Training Report:\n",
      "               precision    recall  f1-score   support\n",
      "\n",
      "           1       1.00      1.00      1.00      9962\n",
      "           2       1.00      1.00      1.00    232856\n",
      "           3       1.00      1.00      1.00     55027\n",
      "           4       1.00      1.00      1.00    118775\n",
      "           5       1.00      1.00      1.00     38774\n",
      "           6       1.00      1.00      1.00      3370\n",
      "           7       1.00      1.00      1.00        77\n",
      "           8       1.00      1.00      1.00       379\n",
      "\n",
      "    accuracy                           1.00    459220\n",
      "   macro avg       1.00      1.00      1.00    459220\n",
      "weighted avg       1.00      1.00      1.00    459220\n",
      "\n",
      "Fold 1 - Validation Report:\n",
      "               precision    recall  f1-score   support\n",
      "\n",
      "           1       0.77      0.48      0.59      2514\n",
      "           2       0.85      0.96      0.90     58222\n",
      "           3       0.55      0.07      0.13     13879\n",
      "           4       0.70      0.90      0.78     29732\n",
      "           5       0.72      0.54      0.62      9506\n",
      "           6       0.00      0.00      0.00       841\n",
      "           7       0.00      0.00      0.00        20\n",
      "           8       0.67      0.07      0.12        91\n",
      "\n",
      "    accuracy                           0.79    114805\n",
      "   macro avg       0.53      0.38      0.39    114805\n",
      "weighted avg       0.76      0.79      0.74    114805\n",
      "\n",
      "----------FOLD 2----------\n",
      "Fold 2 - Training Report:\n",
      "               precision    recall  f1-score   support\n",
      "\n",
      "           1       1.00      1.00      1.00      9942\n",
      "           2       1.00      1.00      1.00    232958\n",
      "           3       1.00      1.00      1.00     55203\n",
      "           4       1.00      1.00      1.00    118728\n",
      "           5       1.00      1.00      1.00     38516\n",
      "           6       1.00      1.00      1.00      3406\n",
      "           7       1.00      1.00      1.00        78\n",
      "           8       1.00      1.00      1.00       389\n",
      "\n",
      "    accuracy                           1.00    459220\n",
      "   macro avg       1.00      1.00      1.00    459220\n",
      "weighted avg       1.00      1.00      1.00    459220\n",
      "\n",
      "Fold 2 - Validation Report:\n",
      "               precision    recall  f1-score   support\n",
      "\n",
      "           1       0.76      0.49      0.59      2534\n",
      "           2       0.85      0.96      0.90     58120\n",
      "           3       0.55      0.08      0.13     13703\n",
      "           4       0.70      0.90      0.79     29779\n",
      "           5       0.73      0.54      0.62      9764\n",
      "           6       0.00      0.00      0.00       805\n",
      "           7       0.00      0.00      0.00        19\n",
      "           8       0.36      0.06      0.11        81\n",
      "\n",
      "    accuracy                           0.79    114805\n",
      "   macro avg       0.49      0.38      0.39    114805\n",
      "weighted avg       0.76      0.79      0.74    114805\n",
      "\n",
      "No improvement for 1 fold(s)\n",
      "----------FOLD 3----------\n",
      "Fold 3 - Training Report:\n",
      "               precision    recall  f1-score   support\n",
      "\n",
      "           1       1.00      1.00      1.00     10046\n",
      "           2       1.00      1.00      1.00    232785\n",
      "           3       1.00      1.00      1.00     55131\n",
      "           4       1.00      1.00      1.00    118870\n",
      "           5       1.00      1.00      1.00     38583\n",
      "           6       1.00      1.00      1.00      3366\n",
      "           7       1.00      1.00      1.00        75\n",
      "           8       1.00      1.00      1.00       364\n",
      "\n",
      "    accuracy                           1.00    459220\n",
      "   macro avg       1.00      1.00      1.00    459220\n",
      "weighted avg       1.00      1.00      1.00    459220\n",
      "\n",
      "Fold 3 - Validation Report:\n",
      "               precision    recall  f1-score   support\n",
      "\n",
      "           1       0.73      0.49      0.58      2430\n",
      "           2       0.85      0.96      0.90     58293\n",
      "           3       0.55      0.08      0.14     13775\n",
      "           4       0.69      0.90      0.78     29637\n",
      "           5       0.73      0.53      0.62      9697\n",
      "           6       0.00      0.00      0.00       845\n",
      "           7       0.00      0.00      0.00        22\n",
      "           8       0.78      0.07      0.12       106\n",
      "\n",
      "    accuracy                           0.78    114805\n",
      "   macro avg       0.54      0.38      0.39    114805\n",
      "weighted avg       0.76      0.78      0.74    114805\n",
      "\n",
      "----------FOLD 4----------\n",
      "Fold 4 - Training Report:\n",
      "               precision    recall  f1-score   support\n",
      "\n",
      "           1       1.00      1.00      1.00     10040\n",
      "           2       1.00      1.00      1.00    232880\n",
      "           3       1.00      1.00      1.00     55068\n",
      "           4       1.00      1.00      1.00    118752\n",
      "           5       1.00      1.00      1.00     38681\n",
      "           6       1.00      1.00      1.00      3345\n",
      "           7       1.00      1.00      1.00        84\n",
      "           8       1.00      1.00      1.00       370\n",
      "\n",
      "    accuracy                           1.00    459220\n",
      "   macro avg       1.00      1.00      1.00    459220\n",
      "weighted avg       1.00      1.00      1.00    459220\n",
      "\n",
      "Fold 4 - Validation Report:\n",
      "               precision    recall  f1-score   support\n",
      "\n",
      "           1       0.75      0.51      0.60      2436\n",
      "           2       0.85      0.96      0.90     58198\n",
      "           3       0.55      0.08      0.14     13838\n",
      "           4       0.70      0.90      0.78     29755\n",
      "           5       0.73      0.53      0.62      9599\n",
      "           6       0.00      0.00      0.00       866\n",
      "           7       0.00      0.00      0.00        13\n",
      "           8       0.40      0.02      0.04       100\n",
      "\n",
      "    accuracy                           0.79    114805\n",
      "   macro avg       0.50      0.37      0.39    114805\n",
      "weighted avg       0.76      0.79      0.74    114805\n",
      "\n",
      "No improvement for 1 fold(s)\n",
      "----------FOLD 5----------\n",
      "Fold 5 - Training Report:\n",
      "               precision    recall  f1-score   support\n",
      "\n",
      "           1       1.00      1.00      1.00      9914\n",
      "           2       1.00      1.00      1.00    232833\n",
      "           3       1.00      1.00      1.00     55195\n",
      "           4       1.00      1.00      1.00    118903\n",
      "           5       1.00      1.00      1.00     38566\n",
      "           6       1.00      1.00      1.00      3357\n",
      "           7       1.00      1.00      1.00        74\n",
      "           8       1.00      1.00      1.00       378\n",
      "\n",
      "    accuracy                           1.00    459220\n",
      "   macro avg       1.00      1.00      1.00    459220\n",
      "weighted avg       1.00      1.00      1.00    459220\n",
      "\n",
      "Fold 5 - Validation Report:\n",
      "               precision    recall  f1-score   support\n",
      "\n",
      "           1       0.75      0.48      0.59      2562\n",
      "           2       0.85      0.96      0.91     58245\n",
      "           3       0.56      0.08      0.14     13711\n",
      "           4       0.69      0.90      0.78     29604\n",
      "           5       0.74      0.53      0.62      9714\n",
      "           6       0.00      0.00      0.00       854\n",
      "           7       0.00      0.00      0.00        23\n",
      "           8       0.67      0.02      0.04        92\n",
      "\n",
      "    accuracy                           0.79    114805\n",
      "   macro avg       0.53      0.37      0.38    114805\n",
      "weighted avg       0.76      0.79      0.74    114805\n",
      "\n",
      "No improvement for 2 fold(s)\n",
      "Early stopping at fold 5 due to no improvement in macro average for 2 folds\n",
      "This run took 14.955502716700236 minutes\n"
     ]
    },
    {
     "name": "stderr",
     "output_type": "stream",
     "text": [
      "Input #0, wav, from '/var/folders/mm/fxsq_1490x9dd2w76tqvt3kr0000gn/T/tmp76kl_0d1.wav':\n",
      "  Duration: 00:00:10.00, bitrate: 1536 kb/s\n",
      "  Stream #0:0: Audio: pcm_s16le ([1][0][0][0] / 0x0001), 48000 Hz, 2 channels, s16, 1536 kb/s\n",
      "   9.95 M-A:  0.000 fd=   0 aq=    0KB vq=    0KB sq=    0B \r"
     ]
    },
    {
     "name": "stdout",
     "output_type": "stream",
     "text": [
      "\n"
     ]
    },
    {
     "data": {
      "text/plain": [
       "[{'Train Predictions': array([2, 4, 4, ..., 2, 4, 2]),\n",
       "  'Validation Predictions': array([4, 2, 4, ..., 4, 2, 2])},\n",
       " {'Train Predictions': array([2, 2, 3, ..., 2, 4, 2]),\n",
       "  'Validation Predictions': array([4, 4, 2, ..., 2, 2, 2])},\n",
       " {'Train Predictions': array([4, 4, 2, ..., 4, 2, 2]),\n",
       "  'Validation Predictions': array([2, 4, 2, ..., 2, 2, 2])},\n",
       " {'Train Predictions': array([2, 4, 4, ..., 4, 2, 2]),\n",
       "  'Validation Predictions': array([2, 2, 4, ..., 4, 2, 4])}]"
      ]
     },
     "execution_count": 45,
     "metadata": {},
     "output_type": "execute_result"
    }
   ],
   "source": [
    "# XGB Only\n",
    "# class_mapping = {1: 0, 2: 1, 3: 2, 4: 3, 5: 4, 6: 5, 7: 6, 8: 7}\n",
    "# df['Claim Injury Type'] = df['Claim Injury Type'].map(class_mapping)\n",
    "\n",
    "model_name = 'RF_noFS_noLOG'\n",
    "model = RandomForestClassifier()\n",
    "\n",
    "k_fold(df, features = features, \n",
    "       target = 'Claim Injury Type', model_name = model_name,\n",
    "       k = 5, model = model)"
   ]
  },
  {
   "cell_type": "markdown",
   "id": "4a3fffc8",
   "metadata": {},
   "source": [
    "**Load Model**"
   ]
  },
  {
   "cell_type": "code",
   "execution_count": 48,
   "id": "cecce06d",
   "metadata": {
    "ExecuteTime": {
     "end_time": "2024-11-02T11:18:32.740519Z",
     "start_time": "2024-11-02T11:18:28.556403Z"
    }
   },
   "outputs": [],
   "source": [
    "# Load the model from the file\n",
    "model = joblib.load('./models/RF_noFS_noLOG.joblib')"
   ]
  },
  {
   "cell_type": "markdown",
   "id": "f3ec155c",
   "metadata": {},
   "source": [
    "# 2. Test"
   ]
  },
  {
   "cell_type": "code",
   "execution_count": 49,
   "id": "e2dda462",
   "metadata": {
    "ExecuteTime": {
     "end_time": "2024-11-02T11:18:34.523194Z",
     "start_time": "2024-11-02T11:18:33.614296Z"
    }
   },
   "outputs": [],
   "source": [
    "test = pd.read_csv('./project_data/test_treated.csv', \n",
    "                   index_col = 'Claim Identifier')\n",
    "\n",
    "test = test[features]"
   ]
  },
  {
   "cell_type": "markdown",
   "id": "20eba9cc",
   "metadata": {},
   "source": [
    "**Predictions**"
   ]
  },
  {
   "cell_type": "code",
   "execution_count": 50,
   "id": "f5b8dbb4",
   "metadata": {
    "ExecuteTime": {
     "end_time": "2024-11-02T11:18:38.497675Z",
     "start_time": "2024-11-02T11:18:34.694798Z"
    },
    "scrolled": true
   },
   "outputs": [],
   "source": [
    "test['Claim Injury Type'] = model.predict(test_features)"
   ]
  },
  {
   "cell_type": "markdown",
   "id": "8bdcc5e1",
   "metadata": {},
   "source": [
    "**Map to Original**"
   ]
  },
  {
   "cell_type": "code",
   "execution_count": 81,
   "id": "deb12cb2",
   "metadata": {
    "ExecuteTime": {
     "end_time": "2024-11-01T18:50:05.204583Z",
     "start_time": "2024-11-01T18:50:05.140564Z"
    }
   },
   "outputs": [],
   "source": [
    "# ## XGB ONLY\n",
    "# label_mapping = {\n",
    "#     0: \"1. CANCELLED\",\n",
    "#     1: \"2. NON-COMP\",\n",
    "#     2: \"3. MED ONLY\",\n",
    "#     3: \"4. TEMPORARY\",\n",
    "#     4: \"5. PPD SCH LOSS\",\n",
    "#     5: \"6. PPD NSL\",\n",
    "#     6: \"7. PTD\",\n",
    "#     7: \"8. DEATH\"\n",
    "# }\n",
    "\n",
    "# test['Claim Injury Type'] = test['Claim Injury Type'].replace(label_mapping)"
   ]
  },
  {
   "cell_type": "code",
   "execution_count": 51,
   "id": "e85029d5",
   "metadata": {
    "ExecuteTime": {
     "end_time": "2024-11-02T11:18:40.745597Z",
     "start_time": "2024-11-02T11:18:40.693892Z"
    }
   },
   "outputs": [],
   "source": [
    "label_mapping = {\n",
    "    1: \"1. CANCELLED\",\n",
    "    2: \"2. NON-COMP\",\n",
    "    3: \"3. MED ONLY\",\n",
    "    4: \"4. TEMPORARY\",\n",
    "    5: \"5. PPD SCH LOSS\",\n",
    "    6: \"6. PPD NSL\",\n",
    "    7: \"7. PTD\",\n",
    "    8: \"8. DEATH\"\n",
    "}\n",
    "\n",
    "test['Claim Injury Type'] = test['Claim Injury Type'].replace(label_mapping)"
   ]
  },
  {
   "cell_type": "markdown",
   "id": "3d60286b",
   "metadata": {},
   "source": [
    "Check each category inside target"
   ]
  },
  {
   "cell_type": "code",
   "execution_count": 52,
   "id": "8b314cbe",
   "metadata": {
    "ExecuteTime": {
     "end_time": "2024-11-02T11:18:41.535321Z",
     "start_time": "2024-11-02T11:18:41.492905Z"
    }
   },
   "outputs": [
    {
     "data": {
      "text/plain": [
       "Claim Injury Type\n",
       "2. NON-COMP        323085\n",
       "4. TEMPORARY        42302\n",
       "5. PPD SCH LOSS     11389\n",
       "3. MED ONLY         11199\n",
       "Name: count, dtype: int64"
      ]
     },
     "execution_count": 52,
     "metadata": {},
     "output_type": "execute_result"
    }
   ],
   "source": [
    "test['Claim Injury Type'].value_counts() "
   ]
  },
  {
   "cell_type": "markdown",
   "id": "e1ee70ff",
   "metadata": {},
   "source": [
    "Select only the predictions column and the index"
   ]
  },
  {
   "cell_type": "code",
   "execution_count": 54,
   "id": "8b18281e",
   "metadata": {
    "ExecuteTime": {
     "end_time": "2024-11-02T11:18:47.884216Z",
     "start_time": "2024-11-02T11:18:47.880874Z"
    }
   },
   "outputs": [],
   "source": [
    "predictions = test['Claim Injury Type']"
   ]
  },
  {
   "cell_type": "markdown",
   "id": "214cf649",
   "metadata": {},
   "source": [
    "# 3. Export"
   ]
  },
  {
   "cell_type": "code",
   "execution_count": 55,
   "id": "c77bb96d",
   "metadata": {
    "ExecuteTime": {
     "end_time": "2024-11-02T11:18:50.358469Z",
     "start_time": "2024-11-02T11:18:49.833136Z"
    }
   },
   "outputs": [],
   "source": [
    "predictions.to_csv(f'./predictions/{model_name}.csv')"
   ]
  },
  {
   "cell_type": "markdown",
   "id": "73c21d20",
   "metadata": {},
   "source": [
    "**Results**"
   ]
  },
  {
   "cell_type": "markdown",
   "id": "1911faed",
   "metadata": {},
   "source": [
    "__*<center>Models K-Fold*__ \n",
    "\n",
    "| Model | Feature Selection? | Log | Parameters | Kaggle Score |\n",
    "| ----- | ------------------ | --- | ---------- | ------------ |\n",
    "| LogReg | - | - | -  | 0.21122 |\n",
    "| RF | 1 | X | - | 0.29078 |\n",
    "| XGB | 1 | X | - | 0.20642 |\n",
    "| RF | - | - | - | ------------ |\n",
    "    \n",
    "<br><br>\n",
    "    \n",
    "__*<center>Models w/ Stratified K-Fold*__   \n",
    "    \n",
    "| Model | Feature Selection? | Log | Parameters | Kaggle Score |    \n",
    "| ----- | ------------------ | --- | ---------- | ------------ |\n",
    "| ----- | ------------------ | --- | ---------- | ------------ |\n",
    "| ----- | ------------------ | --- | ---------- | ------------ |\n",
    "| ----- | ------------------ | --- | ---------- | ------------ |\n",
    "| ----- | ------------------ | --- | ---------- | ------------ |\n",
    "| ----- | ------------------ | --- | ---------- | ------------ |    \n",
    "| ----- | ------------------ | --- | ---------- | ------------ | \n",
    "    \n",
    "<br><br>\n",
    "    \n",
    "**Features for Feature Selection 1**\n",
    "\n",
    "['C-2 Day', 'Accident Year', 'Birth Year', 'Assembly Month',\n",
    "            'C-2 Month', 'Average Weekly Wage', 'Age at Injury', \n",
    "            'C-2 Year', 'Number of Dependents', 'Accident Day', \n",
    "            'Assembly Year', 'First Hearing Year', 'IME-4 Count', \n",
    "            'Assembly Day', 'Accident Month', \n",
    "            'WCIO Cause of Injury Code', 'Gender', \n",
    "            'COVID-19 Indicator', 'WCIO Part Of Body Code', \n",
    "            'County of Injury', 'Attorney/Representative', \n",
    "            'Carrier Type', 'District Name', 'Medical Fee Region', \n",
    "            'Zip Code', 'Carrier Name', 'C-3 Date Binary', \n",
    "            'Alternative Dispute Resolution', \n",
    "            'WCIO Nature of Injury Code', 'Industry Code']\n"
   ]
  },
  {
   "cell_type": "code",
   "execution_count": null,
   "id": "a8bc85b8",
   "metadata": {},
   "outputs": [],
   "source": []
  }
 ],
 "metadata": {
  "kernelspec": {
   "display_name": "Python 3 (ipykernel)",
   "language": "python",
   "name": "python3"
  },
  "language_info": {
   "codemirror_mode": {
    "name": "ipython",
    "version": 3
   },
   "file_extension": ".py",
   "mimetype": "text/x-python",
   "name": "python",
   "nbconvert_exporter": "python",
   "pygments_lexer": "ipython3",
   "version": "3.10.13"
  }
 },
 "nbformat": 4,
 "nbformat_minor": 5
}
