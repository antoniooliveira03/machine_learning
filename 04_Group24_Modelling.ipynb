{
 "cells": [
  {
   "cell_type": "code",
   "execution_count": 3,
   "id": "c80c7c88",
   "metadata": {
    "ExecuteTime": {
     "end_time": "2024-11-01T17:56:57.152385Z",
     "start_time": "2024-11-01T17:56:56.623781Z"
    }
   },
   "outputs": [],
   "source": [
    "import pandas as pd\n",
    "import numpy as np\n",
    "\n",
    "from sklearn.model_selection import KFold\n",
    "\n",
    "# Models\n",
    "from sklearn.linear_model import LogisticRegression\n",
    "from sklearn.ensemble import RandomForestClassifier, GradientBoostingClassifier, AdaBoostClassifier\n",
    "from sklearn.tree import DecisionTreeClassifier\n",
    "from xgboost import XGBClassifier  \n",
    "#from lightgbm import LGBMClassifier \n",
    "#from catboost import CatBoostClassifier \n",
    "\n",
    "# Metrics\n",
    "from sklearn.metrics import classification_report\n",
    "\n",
    "\n",
    "pd.set_option('display.max_columns', None)\n",
    "\n",
    "# Warnings\n",
    "import warnings\n",
    "warnings.filterwarnings(\"ignore\")\n",
    "\n",
    "import NA_outliers as n\n",
    "import play_song as song"
   ]
  },
  {
   "cell_type": "code",
   "execution_count": 4,
   "id": "b272237a",
   "metadata": {
    "ExecuteTime": {
     "end_time": "2024-11-01T17:56:59.663053Z",
     "start_time": "2024-11-01T17:56:57.695307Z"
    }
   },
   "outputs": [],
   "source": [
    "df = pd.read_csv('./project_data/out_eda1.csv', \n",
    "                 index_col = 'Claim Identifier')"
   ]
  },
  {
   "cell_type": "code",
   "execution_count": 5,
   "id": "071ad9a6",
   "metadata": {
    "ExecuteTime": {
     "end_time": "2024-11-01T17:57:00.868401Z",
     "start_time": "2024-11-01T17:56:59.666148Z"
    }
   },
   "outputs": [],
   "source": [
    "test = pd.read_csv('./project_data/test_treated.csv', index_col = 'Claim Identifier')"
   ]
  },
  {
   "cell_type": "markdown",
   "id": "5b75cf02",
   "metadata": {},
   "source": [
    "## 1. K Fold\n",
    "\n",
    "<a href=\"#top\">Top &#129033;</a>"
   ]
  },
  {
   "cell_type": "code",
   "execution_count": 6,
   "id": "29b2eff1",
   "metadata": {
    "ExecuteTime": {
     "end_time": "2024-11-01T17:57:00.876495Z",
     "start_time": "2024-11-01T17:57:00.870845Z"
    }
   },
   "outputs": [],
   "source": [
    "from sklearn.metrics import classification_report\n",
    "#from collections import Counter\n",
    "import time\n",
    "from sklearn.preprocessing import FunctionTransformer\n",
    "from sklearn.pipeline import Pipeline\n",
    "#from functools import partial\n",
    "from sklearn.preprocessing import RobustScaler\n",
    "import joblib\n"
   ]
  },
  {
   "cell_type": "code",
   "execution_count": 21,
   "id": "d29e28c9",
   "metadata": {
    "ExecuteTime": {
     "end_time": "2024-11-01T18:04:24.926563Z",
     "start_time": "2024-11-01T18:04:24.917965Z"
    },
    "scrolled": true
   },
   "outputs": [],
   "source": [
    "def k_fold(df, features, target, k = 5, model = LogisticRegression()):\n",
    "    \n",
    "    start_time = time.time()\n",
    "    \n",
    "    X = df[features]\n",
    "    y = df[target]\n",
    "    \n",
    "    kf = KFold(n_splits= k, shuffle=True, random_state=1)\n",
    "    predictions = []\n",
    "    \n",
    "    for train_idx, val_idx in kf.split(X):\n",
    "\n",
    "        ### SPLIT\n",
    "        X_train, X_val = X.iloc[train_idx], X.iloc[val_idx]\n",
    "        y_train, y_val = y.iloc[train_idx], y.iloc[val_idx]\n",
    "        \n",
    "        original_columns = X_train.columns\n",
    "        \n",
    "        ### PIPELINE\n",
    "        \n",
    "        pipeline = Pipeline([\n",
    "        ('imputer', FunctionTransformer(n.custom_impute, validate=False)), \n",
    "        ('log_transform', FunctionTransformer(n.log_transform, validate=False)),  \n",
    "        ('scaler', RobustScaler()),\n",
    "        ])\n",
    "        \n",
    "        X_train = pipeline.fit_transform(X_train, y_train)\n",
    "        X_val = pipeline.transform(X_val)\n",
    "        X_train = pd.DataFrame(X_train, columns=original_columns)\n",
    "        X_val = pd.DataFrame(X_val, columns=original_columns)\n",
    "\n",
    "        \n",
    "        # fit model\n",
    "        model = model\n",
    "        model.fit(X_train, y_train)\n",
    "\n",
    "        # make predictions\n",
    "        train_pred = model.predict(X_train)\n",
    "        val_pred = model.predict(X_val)\n",
    "\n",
    "        # compute metrics\n",
    "        print(classification_report(y_train, train_pred))\n",
    "        print(classification_report(y_val, val_pred))\n",
    "\n",
    "        # save predictions and best model's parameters\n",
    "\n",
    "        predictions.append({'Train Predictions': train_pred, 'Validation Predictions': val_pred})\n",
    "    \n",
    "    model_name = type(model).__name__\n",
    "    print(model_name)\n",
    "    joblib.dump(model, f'./models/{model_name}.joblib')  \n",
    "\n",
    "    end_time = time.time()\n",
    "    elapsed_time = (end_time - start_time) / 60\n",
    "    print(elapsed_time)\n",
    "        \n",
    "    return predictions\n"
   ]
  },
  {
   "cell_type": "code",
   "execution_count": 22,
   "id": "e31ee446",
   "metadata": {
    "ExecuteTime": {
     "end_time": "2024-11-01T18:04:25.182828Z",
     "start_time": "2024-11-01T18:04:25.178720Z"
    }
   },
   "outputs": [],
   "source": [
    "features = ['C-2 Day', 'Accident Year', 'Birth Year', 'Assembly Month',\n",
    "            'C-2 Month', 'Average Weekly Wage', 'Age at Injury', \n",
    "            'C-2 Year', 'Number of Dependents', 'Accident Day', \n",
    "            'Assembly Year', 'First Hearing Year', 'IME-4 Count', \n",
    "            'Assembly Day', 'Accident Month', \n",
    "            'WCIO Cause of Injury Code', 'Gender', \n",
    "            'COVID-19 Indicator', 'WCIO Part Of Body Code', \n",
    "            'County of Injury', 'Attorney/Representative', \n",
    "            'Carrier Type', 'District Name', 'Medical Fee Region', \n",
    "            'Zip Code', 'Carrier Name', 'C-3 Date Binary', \n",
    "            'Alternative Dispute Resolution', \n",
    "            'WCIO Nature of Injury Code', 'Industry Code']\n",
    "\n"
   ]
  },
  {
   "cell_type": "code",
   "execution_count": null,
   "id": "69d3af81",
   "metadata": {
    "ExecuteTime": {
     "start_time": "2024-11-01T18:04:25.477Z"
    },
    "scrolled": true
   },
   "outputs": [],
   "source": [
    "k_fold(df, features = features, \n",
    "       target = 'Claim Injury Type', k = 2, \n",
    "       model = LogisticRegression())"
   ]
  },
  {
   "cell_type": "code",
   "execution_count": null,
   "id": "a465a716",
   "metadata": {
    "ExecuteTime": {
     "end_time": "2024-11-01T18:03:49.050350Z",
     "start_time": "2024-11-01T18:03:49.050333Z"
    }
   },
   "outputs": [],
   "source": [
    "song.play_('audio.mp3')"
   ]
  },
  {
   "cell_type": "markdown",
   "id": "f3ec155c",
   "metadata": {},
   "source": [
    "## test"
   ]
  },
  {
   "cell_type": "code",
   "execution_count": 20,
   "id": "4b65c6a3",
   "metadata": {
    "ExecuteTime": {
     "end_time": "2024-11-01T18:04:01.621932Z",
     "start_time": "2024-11-01T18:04:01.591498Z"
    }
   },
   "outputs": [
    {
     "ename": "FileNotFoundError",
     "evalue": "[Errno 2] No such file or directory: './trained_model.joblib'",
     "output_type": "error",
     "traceback": [
      "\u001b[0;31m---------------------------------------------------------------------------\u001b[0m",
      "\u001b[0;31mFileNotFoundError\u001b[0m                         Traceback (most recent call last)",
      "Cell \u001b[0;32mIn[20], line 2\u001b[0m\n\u001b[1;32m      1\u001b[0m \u001b[38;5;66;03m# Load the model from the file\u001b[39;00m\n\u001b[0;32m----> 2\u001b[0m model \u001b[38;5;241m=\u001b[39m \u001b[43mjoblib\u001b[49m\u001b[38;5;241;43m.\u001b[39;49m\u001b[43mload\u001b[49m\u001b[43m(\u001b[49m\u001b[38;5;124;43m'\u001b[39;49m\u001b[38;5;124;43m./trained_model.joblib\u001b[39;49m\u001b[38;5;124;43m'\u001b[39;49m\u001b[43m)\u001b[49m\n",
      "File \u001b[0;32m~/anaconda3/envs/Text_Mining/lib/python3.10/site-packages/joblib/numpy_pickle.py:650\u001b[0m, in \u001b[0;36mload\u001b[0;34m(filename, mmap_mode)\u001b[0m\n\u001b[1;32m    648\u001b[0m         obj \u001b[38;5;241m=\u001b[39m _unpickle(fobj)\n\u001b[1;32m    649\u001b[0m \u001b[38;5;28;01melse\u001b[39;00m:\n\u001b[0;32m--> 650\u001b[0m     \u001b[38;5;28;01mwith\u001b[39;00m \u001b[38;5;28;43mopen\u001b[39;49m\u001b[43m(\u001b[49m\u001b[43mfilename\u001b[49m\u001b[43m,\u001b[49m\u001b[43m \u001b[49m\u001b[38;5;124;43m'\u001b[39;49m\u001b[38;5;124;43mrb\u001b[39;49m\u001b[38;5;124;43m'\u001b[39;49m\u001b[43m)\u001b[49m \u001b[38;5;28;01mas\u001b[39;00m f:\n\u001b[1;32m    651\u001b[0m         \u001b[38;5;28;01mwith\u001b[39;00m _read_fileobject(f, filename, mmap_mode) \u001b[38;5;28;01mas\u001b[39;00m fobj:\n\u001b[1;32m    652\u001b[0m             \u001b[38;5;28;01mif\u001b[39;00m \u001b[38;5;28misinstance\u001b[39m(fobj, \u001b[38;5;28mstr\u001b[39m):\n\u001b[1;32m    653\u001b[0m                 \u001b[38;5;66;03m# if the returned file object is a string, this means we\u001b[39;00m\n\u001b[1;32m    654\u001b[0m                 \u001b[38;5;66;03m# try to load a pickle file generated with an version of\u001b[39;00m\n\u001b[1;32m    655\u001b[0m                 \u001b[38;5;66;03m# Joblib so we load it with joblib compatibility function.\u001b[39;00m\n",
      "\u001b[0;31mFileNotFoundError\u001b[0m: [Errno 2] No such file or directory: './trained_model.joblib'"
     ]
    }
   ],
   "source": [
    "# Load the model from the file\n",
    "model = joblib.load('./trained_model.joblib')"
   ]
  },
  {
   "cell_type": "code",
   "execution_count": null,
   "id": "8bfcd709",
   "metadata": {
    "ExecuteTime": {
     "end_time": "2024-11-01T17:52:50.879841Z",
     "start_time": "2024-11-01T17:52:12.046265Z"
    }
   },
   "outputs": [],
   "source": [
    "for col in test.columns:\n",
    "    test = n.custom_impute(test)"
   ]
  },
  {
   "cell_type": "code",
   "execution_count": null,
   "id": "0177013b",
   "metadata": {
    "ExecuteTime": {
     "end_time": "2024-11-01T17:52:54.249507Z",
     "start_time": "2024-11-01T17:52:54.198315Z"
    }
   },
   "outputs": [],
   "source": [
    "test.isna().sum()"
   ]
  },
  {
   "cell_type": "code",
   "execution_count": null,
   "id": "f5b8dbb4",
   "metadata": {
    "ExecuteTime": {
     "end_time": "2024-11-01T17:52:55.043593Z",
     "start_time": "2024-11-01T17:52:55.022106Z"
    }
   },
   "outputs": [],
   "source": [
    "test['Claim Injury Type'] = model.predict(test)"
   ]
  },
  {
   "cell_type": "code",
   "execution_count": null,
   "id": "8b314cbe",
   "metadata": {
    "ExecuteTime": {
     "end_time": "2024-10-26T15:25:38.004311Z",
     "start_time": "2024-10-26T15:25:37.975916Z"
    }
   },
   "outputs": [],
   "source": [
    "test['Claim Injury Type'].value_counts() "
   ]
  },
  {
   "cell_type": "code",
   "execution_count": null,
   "id": "8b18281e",
   "metadata": {
    "ExecuteTime": {
     "end_time": "2024-10-26T15:26:55.680064Z",
     "start_time": "2024-10-26T15:26:55.673999Z"
    }
   },
   "outputs": [],
   "source": [
    "predictions = test['Claim Injury Type']\n",
    "predictions"
   ]
  },
  {
   "cell_type": "code",
   "execution_count": null,
   "id": "c77bb96d",
   "metadata": {
    "ExecuteTime": {
     "end_time": "2024-10-26T15:28:12.782557Z",
     "start_time": "2024-10-26T15:28:12.025383Z"
    }
   },
   "outputs": [],
   "source": [
    "predictions.to_csv('./predictions/pred1.csv')"
   ]
  }
 ],
 "metadata": {
  "kernelspec": {
   "display_name": "Python 3 (ipykernel)",
   "language": "python",
   "name": "python3"
  },
  "language_info": {
   "codemirror_mode": {
    "name": "ipython",
    "version": 3
   },
   "file_extension": ".py",
   "mimetype": "text/x-python",
   "name": "python",
   "nbconvert_exporter": "python",
   "pygments_lexer": "ipython3",
   "version": "3.10.13"
  }
 },
 "nbformat": 4,
 "nbformat_minor": 5
}
