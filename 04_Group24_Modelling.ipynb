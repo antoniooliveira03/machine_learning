{
 "cells": [
  {
   "cell_type": "code",
   "execution_count": 85,
   "id": "c80c7c88",
   "metadata": {
    "ExecuteTime": {
     "end_time": "2024-11-01T18:51:27.130192Z",
     "start_time": "2024-11-01T18:51:27.125372Z"
    }
   },
   "outputs": [],
   "source": [
    "import pandas as pd\n",
    "import numpy as np\n",
    "\n",
    "from sklearn.model_selection import KFold\n",
    "\n",
    "# Models\n",
    "from sklearn.linear_model import LogisticRegression\n",
    "from sklearn.ensemble import RandomForestClassifier, GradientBoostingClassifier, AdaBoostClassifier\n",
    "from sklearn.tree import DecisionTreeClassifier\n",
    "from xgboost import XGBClassifier  \n",
    "#from lightgbm import LGBMClassifier \n",
    "#from catboost import CatBoostClassifier \n",
    "\n",
    "# Metrics\n",
    "from sklearn.metrics import classification_report\n",
    "\n",
    "\n",
    "pd.set_option('display.max_columns', None)\n",
    "\n",
    "# Warnings\n",
    "import warnings\n",
    "warnings.filterwarnings(\"ignore\")\n",
    "\n",
    "import NA_outliers as n\n",
    "import play_song as song"
   ]
  },
  {
   "cell_type": "code",
   "execution_count": 86,
   "id": "b272237a",
   "metadata": {
    "ExecuteTime": {
     "end_time": "2024-11-01T18:51:29.447892Z",
     "start_time": "2024-11-01T18:51:27.396101Z"
    }
   },
   "outputs": [],
   "source": [
    "df = pd.read_csv('./project_data/out_eda1.csv', \n",
    "                 index_col = 'Claim Identifier')"
   ]
  },
  {
   "cell_type": "code",
   "execution_count": 75,
   "id": "071ad9a6",
   "metadata": {
    "ExecuteTime": {
     "end_time": "2024-11-01T18:48:42.671665Z",
     "start_time": "2024-11-01T18:48:41.288442Z"
    }
   },
   "outputs": [],
   "source": [
    "test = pd.read_csv('./project_data/test_treated.csv', index_col = 'Claim Identifier')"
   ]
  },
  {
   "cell_type": "markdown",
   "id": "5b75cf02",
   "metadata": {},
   "source": [
    "## 1. K Fold\n",
    "\n",
    "<a href=\"#top\">Top &#129033;</a>"
   ]
  },
  {
   "cell_type": "code",
   "execution_count": 87,
   "id": "29b2eff1",
   "metadata": {
    "ExecuteTime": {
     "end_time": "2024-11-01T18:51:31.304446Z",
     "start_time": "2024-11-01T18:51:31.300915Z"
    }
   },
   "outputs": [],
   "source": [
    "from sklearn.metrics import classification_report\n",
    "#from collections import Counter\n",
    "import time\n",
    "from sklearn.preprocessing import FunctionTransformer\n",
    "from sklearn.pipeline import Pipeline\n",
    "#from functools import partial\n",
    "from sklearn.preprocessing import RobustScaler\n",
    "import joblib\n"
   ]
  },
  {
   "cell_type": "code",
   "execution_count": 88,
   "id": "d29e28c9",
   "metadata": {
    "ExecuteTime": {
     "end_time": "2024-11-01T18:51:31.546809Z",
     "start_time": "2024-11-01T18:51:31.538122Z"
    },
    "scrolled": true
   },
   "outputs": [],
   "source": [
    "def k_fold(df, features, target, k = 5, model = LogisticRegression()):\n",
    "    \n",
    "    start_time = time.time()\n",
    "    \n",
    "    X = df[features]\n",
    "    y = df[target]\n",
    "    \n",
    "    kf = KFold(n_splits= k, shuffle=True, random_state=1)\n",
    "    predictions = []\n",
    "    \n",
    "    for train_idx, val_idx in kf.split(X):\n",
    "\n",
    "        ### SPLIT\n",
    "        X_train, X_val = X.iloc[train_idx], X.iloc[val_idx]\n",
    "        y_train, y_val = y.iloc[train_idx], y.iloc[val_idx]\n",
    "        \n",
    "        original_columns = X_train.columns\n",
    "        \n",
    "        ### PIPELINE\n",
    "        \n",
    "        pipeline = Pipeline([\n",
    "        ('imputer', FunctionTransformer(n.custom_impute, validate=False)), \n",
    "        ('log_transform', FunctionTransformer(n.log_transform, validate=False)),  \n",
    "        ('scaler', RobustScaler()),\n",
    "        ])\n",
    "        \n",
    "        X_train = pipeline.fit_transform(X_train, y_train)\n",
    "        X_val = pipeline.transform(X_val)\n",
    "        X_train = pd.DataFrame(X_train, columns=original_columns)\n",
    "        X_val = pd.DataFrame(X_val, columns=original_columns)\n",
    "\n",
    "        \n",
    "        # fit model\n",
    "        model = model\n",
    "        model.fit(X_train, y_train)\n",
    "\n",
    "        # make predictions\n",
    "        train_pred = model.predict(X_train)\n",
    "        val_pred = model.predict(X_val)\n",
    "\n",
    "        # compute metrics\n",
    "        print(classification_report(y_train, train_pred))\n",
    "        print(classification_report(y_val, val_pred))\n",
    "\n",
    "        # save predictions and best model's parameters\n",
    "\n",
    "        predictions.append({'Train Predictions': train_pred, 'Validation Predictions': val_pred})\n",
    "    \n",
    "    model_name = type(model).__name__\n",
    "    print(model_name)\n",
    "    joblib.dump(model, f'./models/{model_name}.joblib')  \n",
    "\n",
    "    end_time = time.time()\n",
    "    elapsed_time = (end_time - start_time) / 60\n",
    "    print(elapsed_time)\n",
    "        \n",
    "    return predictions\n"
   ]
  },
  {
   "cell_type": "code",
   "execution_count": 89,
   "id": "e31ee446",
   "metadata": {
    "ExecuteTime": {
     "end_time": "2024-11-01T18:51:32.685794Z",
     "start_time": "2024-11-01T18:51:32.681702Z"
    }
   },
   "outputs": [],
   "source": [
    "features = ['C-2 Day', 'Accident Year', 'Birth Year', 'Assembly Month',\n",
    "            'C-2 Month', 'Average Weekly Wage', 'Age at Injury', \n",
    "            'C-2 Year', 'Number of Dependents', 'Accident Day', \n",
    "            'Assembly Year', 'First Hearing Year', 'IME-4 Count', \n",
    "            'Assembly Day', 'Accident Month', \n",
    "            'WCIO Cause of Injury Code', 'Gender', \n",
    "            'COVID-19 Indicator', 'WCIO Part Of Body Code', \n",
    "            'County of Injury', 'Attorney/Representative', \n",
    "            'Carrier Type', 'District Name', 'Medical Fee Region', \n",
    "            'Zip Code', 'Carrier Name', 'C-3 Date Binary', \n",
    "            'Alternative Dispute Resolution', \n",
    "            'WCIO Nature of Injury Code', 'Industry Code']\n",
    "\n"
   ]
  },
  {
   "cell_type": "code",
   "execution_count": 90,
   "id": "69d3af81",
   "metadata": {
    "ExecuteTime": {
     "end_time": "2024-11-01T22:33:05.453081Z",
     "start_time": "2024-11-01T18:51:46.513849Z"
    },
    "scrolled": true
   },
   "outputs": [
    {
     "name": "stdout",
     "output_type": "stream",
     "text": [
      "              precision    recall  f1-score   support\n",
      "\n",
      "           1       0.73      0.49      0.58     11164\n",
      "           2       0.85      0.96      0.90    262023\n",
      "           3       0.51      0.06      0.10     61970\n",
      "           4       0.69      0.89      0.78    133587\n",
      "           5       0.70      0.56      0.62     43569\n",
      "           6       0.69      0.00      0.01      3800\n",
      "           7       0.08      0.01      0.02        86\n",
      "           8       0.58      0.15      0.24       423\n",
      "\n",
      "    accuracy                           0.78    516622\n",
      "   macro avg       0.60      0.39      0.41    516622\n",
      "weighted avg       0.75      0.78      0.74    516622\n",
      "\n",
      "              precision    recall  f1-score   support\n",
      "\n",
      "           1       0.79      0.39      0.52      1312\n",
      "           2       0.84      0.96      0.90     29055\n",
      "           3       0.50      0.06      0.10      6936\n",
      "           4       0.70      0.88      0.78     14920\n",
      "           5       0.68      0.56      0.61      4711\n",
      "           6       0.00      0.00      0.00       411\n",
      "           7       0.00      0.00      0.00        11\n",
      "           8       0.42      0.11      0.17        47\n",
      "\n",
      "    accuracy                           0.78     57403\n",
      "   macro avg       0.49      0.37      0.39     57403\n",
      "weighted avg       0.74      0.78      0.73     57403\n",
      "\n",
      "              precision    recall  f1-score   support\n",
      "\n",
      "           1       0.73      0.49      0.59     11274\n",
      "           2       0.85      0.96      0.90    261911\n",
      "           3       0.50      0.06      0.11     61963\n",
      "           4       0.70      0.89      0.78    133694\n",
      "           5       0.70      0.56      0.62     43485\n",
      "           6       0.73      0.00      0.01      3781\n",
      "           7       0.87      0.15      0.25        88\n",
      "           8       0.57      0.12      0.19       426\n",
      "\n",
      "    accuracy                           0.78    516622\n",
      "   macro avg       0.70      0.40      0.43    516622\n",
      "weighted avg       0.75      0.78      0.74    516622\n",
      "\n",
      "              precision    recall  f1-score   support\n",
      "\n",
      "           1       0.75      0.40      0.52      1202\n",
      "           2       0.85      0.96      0.90     29167\n",
      "           3       0.50      0.06      0.10      6943\n",
      "           4       0.69      0.89      0.78     14813\n",
      "           5       0.69      0.56      0.62      4795\n",
      "           6       0.17      0.00      0.00       430\n",
      "           7       0.00      0.00      0.00         9\n",
      "           8       0.64      0.16      0.25        44\n",
      "\n",
      "    accuracy                           0.78     57403\n",
      "   macro avg       0.53      0.38      0.40     57403\n",
      "weighted avg       0.74      0.78      0.73     57403\n",
      "\n",
      "              precision    recall  f1-score   support\n",
      "\n",
      "           1       0.73      0.49      0.59     11231\n",
      "           2       0.85      0.96      0.90    261976\n",
      "           3       0.51      0.06      0.11     62037\n",
      "           4       0.69      0.89      0.78    133649\n",
      "           5       0.70      0.56      0.62     43407\n",
      "           6       0.56      0.00      0.01      3809\n",
      "           7       0.09      0.05      0.06        88\n",
      "           8       0.62      0.13      0.22       425\n",
      "\n",
      "    accuracy                           0.78    516622\n",
      "   macro avg       0.59      0.39      0.41    516622\n",
      "weighted avg       0.75      0.78      0.74    516622\n",
      "\n",
      "              precision    recall  f1-score   support\n",
      "\n",
      "           1       0.76      0.40      0.52      1245\n",
      "           2       0.85      0.96      0.90     29102\n",
      "           3       0.49      0.06      0.10      6869\n",
      "           4       0.70      0.89      0.78     14858\n",
      "           5       0.71      0.57      0.63      4873\n",
      "           6       0.00      0.00      0.00       402\n",
      "           7       0.00      0.00      0.00         9\n",
      "           8       0.18      0.07      0.10        45\n",
      "\n",
      "    accuracy                           0.78     57403\n",
      "   macro avg       0.46      0.37      0.38     57403\n",
      "weighted avg       0.75      0.78      0.74     57403\n",
      "\n",
      "              precision    recall  f1-score   support\n",
      "\n",
      "           1       0.72      0.49      0.59     11187\n",
      "           2       0.85      0.96      0.90    262058\n",
      "           3       0.51      0.06      0.11     62072\n",
      "           4       0.70      0.89      0.78    133587\n",
      "           5       0.70      0.56      0.62     43389\n",
      "           6       0.57      0.00      0.00      3808\n",
      "           7       0.46      0.15      0.23        87\n",
      "           8       0.52      0.18      0.27       434\n",
      "\n",
      "    accuracy                           0.78    516622\n",
      "   macro avg       0.63      0.41      0.44    516622\n",
      "weighted avg       0.75      0.78      0.74    516622\n",
      "\n",
      "              precision    recall  f1-score   support\n",
      "\n",
      "           1       0.71      0.48      0.57      1289\n",
      "           2       0.85      0.96      0.90     29020\n",
      "           3       0.52      0.06      0.11      6834\n",
      "           4       0.69      0.88      0.78     14920\n",
      "           5       0.69      0.56      0.62      4891\n",
      "           6       0.00      0.00      0.00       403\n",
      "           7       0.00      0.00      0.00        10\n",
      "           8       0.25      0.06      0.09        36\n",
      "\n",
      "    accuracy                           0.78     57403\n",
      "   macro avg       0.46      0.37      0.38     57403\n",
      "weighted avg       0.75      0.78      0.74     57403\n",
      "\n",
      "              precision    recall  f1-score   support\n",
      "\n",
      "           1       0.73      0.49      0.59     11260\n",
      "           2       0.85      0.96      0.90    262035\n",
      "           3       0.51      0.06      0.11     61887\n",
      "           4       0.70      0.89      0.78    133728\n",
      "           5       0.70      0.56      0.62     43408\n",
      "           6       0.55      0.01      0.01      3803\n",
      "           7       0.26      0.13      0.18        90\n",
      "           8       0.55      0.14      0.23       411\n",
      "\n",
      "    accuracy                           0.78    516622\n",
      "   macro avg       0.61      0.41      0.43    516622\n",
      "weighted avg       0.75      0.78      0.74    516622\n",
      "\n",
      "              precision    recall  f1-score   support\n",
      "\n",
      "           1       0.69      0.47      0.56      1216\n",
      "           2       0.85      0.96      0.90     29043\n",
      "           3       0.51      0.06      0.11      7019\n",
      "           4       0.69      0.88      0.77     14779\n",
      "           5       0.69      0.56      0.62      4872\n",
      "           6       0.00      0.00      0.00       408\n",
      "           7       0.00      0.00      0.00         7\n",
      "           8       0.25      0.08      0.13        59\n",
      "\n",
      "    accuracy                           0.78     57403\n",
      "   macro avg       0.46      0.38      0.39     57403\n",
      "weighted avg       0.74      0.78      0.73     57403\n",
      "\n",
      "              precision    recall  f1-score   support\n",
      "\n",
      "           1       0.73      0.49      0.58     11262\n",
      "           2       0.85      0.96      0.90    261829\n",
      "           3       0.51      0.06      0.11     62150\n",
      "           4       0.70      0.89      0.78    133648\n",
      "           5       0.70      0.56      0.62     43455\n",
      "           6       0.72      0.00      0.01      3774\n",
      "           7       0.52      0.15      0.23        82\n",
      "           8       0.55      0.13      0.20       423\n",
      "\n",
      "    accuracy                           0.78    516623\n",
      "   macro avg       0.66      0.40      0.43    516623\n",
      "weighted avg       0.75      0.78      0.74    516623\n",
      "\n",
      "              precision    recall  f1-score   support\n",
      "\n",
      "           1       0.71      0.47      0.57      1214\n",
      "           2       0.85      0.96      0.90     29249\n",
      "           3       0.48      0.06      0.11      6756\n",
      "           4       0.69      0.88      0.78     14859\n",
      "           5       0.70      0.56      0.62      4825\n",
      "           6       1.00      0.00      0.00       437\n",
      "           7       0.00      0.00      0.00        15\n",
      "           8       0.29      0.04      0.07        47\n",
      "\n",
      "    accuracy                           0.78     57402\n",
      "   macro avg       0.59      0.37      0.38     57402\n",
      "weighted avg       0.75      0.78      0.74     57402\n",
      "\n",
      "              precision    recall  f1-score   support\n",
      "\n",
      "           1       0.73      0.49      0.59     11213\n",
      "           2       0.85      0.96      0.90    262004\n",
      "           3       0.50      0.06      0.11     62024\n",
      "           4       0.69      0.88      0.78    133656\n",
      "           5       0.70      0.56      0.62     43456\n",
      "           6       0.88      0.00      0.00      3750\n",
      "           7       0.07      0.24      0.11        92\n",
      "           8       0.63      0.19      0.30       428\n",
      "\n",
      "    accuracy                           0.78    516623\n",
      "   macro avg       0.63      0.42      0.43    516623\n",
      "weighted avg       0.75      0.78      0.74    516623\n",
      "\n",
      "              precision    recall  f1-score   support\n",
      "\n",
      "           1       0.71      0.51      0.59      1263\n",
      "           2       0.85      0.96      0.90     29074\n",
      "           3       0.50      0.06      0.11      6882\n",
      "           4       0.69      0.87      0.77     14851\n",
      "           5       0.68      0.56      0.62      4824\n",
      "           6       0.00      0.00      0.00       461\n",
      "           7       0.00      0.00      0.00         5\n",
      "           8       0.20      0.02      0.04        42\n",
      "\n",
      "    accuracy                           0.78     57402\n",
      "   macro avg       0.45      0.37      0.38     57402\n",
      "weighted avg       0.74      0.78      0.73     57402\n",
      "\n"
     ]
    },
    {
     "name": "stdout",
     "output_type": "stream",
     "text": [
      "              precision    recall  f1-score   support\n",
      "\n",
      "           1       0.73      0.49      0.58     11303\n",
      "           2       0.85      0.96      0.90    261954\n",
      "           3       0.50      0.06      0.11     61950\n",
      "           4       0.70      0.89      0.78    133604\n",
      "           5       0.70      0.56      0.62     43505\n",
      "           6       0.64      0.00      0.01      3806\n",
      "           7       0.16      0.03      0.06        89\n",
      "           8       0.61      0.12      0.21       412\n",
      "\n",
      "    accuracy                           0.78    516623\n",
      "   macro avg       0.61      0.39      0.41    516623\n",
      "weighted avg       0.75      0.78      0.74    516623\n",
      "\n",
      "              precision    recall  f1-score   support\n",
      "\n",
      "           1       0.70      0.49      0.58      1173\n",
      "           2       0.85      0.96      0.90     29124\n",
      "           3       0.50      0.06      0.11      6956\n",
      "           4       0.69      0.89      0.78     14903\n",
      "           5       0.71      0.55      0.62      4775\n",
      "           6       0.25      0.00      0.00       405\n",
      "           7       0.00      0.00      0.00         8\n",
      "           8       0.33      0.07      0.11        58\n",
      "\n",
      "    accuracy                           0.78     57402\n",
      "   macro avg       0.51      0.38      0.39     57402\n",
      "weighted avg       0.75      0.78      0.74     57402\n",
      "\n",
      "              precision    recall  f1-score   support\n",
      "\n",
      "           1       0.72      0.49      0.59     11180\n",
      "           2       0.85      0.96      0.90    261980\n",
      "           3       0.51      0.06      0.11     62118\n",
      "           4       0.70      0.88      0.78    133684\n",
      "           5       0.70      0.56      0.62     43391\n",
      "           6       0.57      0.00      0.01      3768\n",
      "           7       0.09      0.05      0.06        82\n",
      "           8       0.41      0.20      0.26       420\n",
      "\n",
      "    accuracy                           0.78    516623\n",
      "   macro avg       0.57      0.40      0.42    516623\n",
      "weighted avg       0.75      0.78      0.74    516623\n",
      "\n",
      "              precision    recall  f1-score   support\n",
      "\n",
      "           1       0.73      0.48      0.58      1296\n",
      "           2       0.85      0.96      0.90     29098\n",
      "           3       0.50      0.06      0.10      6788\n",
      "           4       0.69      0.89      0.78     14823\n",
      "           5       0.71      0.56      0.62      4889\n",
      "           6       0.20      0.00      0.00       443\n",
      "           7       0.00      0.00      0.00        15\n",
      "           8       0.29      0.10      0.15        50\n",
      "\n",
      "    accuracy                           0.78     57402\n",
      "   macro avg       0.50      0.38      0.39     57402\n",
      "weighted avg       0.75      0.78      0.74     57402\n",
      "\n",
      "              precision    recall  f1-score   support\n",
      "\n",
      "           1       0.73      0.49      0.58     11210\n",
      "           2       0.85      0.96      0.90    261932\n",
      "           3       0.52      0.06      0.10     61983\n",
      "           4       0.69      0.89      0.78    133726\n",
      "           5       0.70      0.56      0.62     43455\n",
      "           6       0.48      0.00      0.01      3800\n",
      "           7       0.92      0.25      0.39        89\n",
      "           8       0.62      0.16      0.26       428\n",
      "\n",
      "    accuracy                           0.78    516623\n",
      "   macro avg       0.69      0.42      0.46    516623\n",
      "weighted avg       0.75      0.78      0.74    516623\n",
      "\n",
      "              precision    recall  f1-score   support\n",
      "\n",
      "           1       0.73      0.49      0.59      1266\n",
      "           2       0.85      0.96      0.90     29146\n",
      "           3       0.51      0.06      0.10      6923\n",
      "           4       0.69      0.89      0.78     14781\n",
      "           5       0.70      0.56      0.62      4825\n",
      "           6       1.00      0.00      0.00       411\n",
      "           7       0.00      0.00      0.00         8\n",
      "           8       0.18      0.05      0.08        42\n",
      "\n",
      "    accuracy                           0.78     57402\n",
      "   macro avg       0.58      0.38      0.38     57402\n",
      "weighted avg       0.75      0.78      0.73     57402\n",
      "\n",
      "GradientBoostingClassifier\n",
      "221.31495484908422\n"
     ]
    },
    {
     "data": {
      "text/plain": [
       "[{'Train Predictions': array([2, 5, 4, ..., 2, 4, 2]),\n",
       "  'Validation Predictions': array([2, 4, 5, ..., 2, 4, 2])},\n",
       " {'Train Predictions': array([2, 5, 4, ..., 4, 2, 2]),\n",
       "  'Validation Predictions': array([2, 4, 5, ..., 2, 4, 2])},\n",
       " {'Train Predictions': array([2, 5, 4, ..., 4, 2, 2]),\n",
       "  'Validation Predictions': array([4, 2, 2, ..., 2, 2, 2])},\n",
       " {'Train Predictions': array([2, 4, 2, ..., 2, 4, 2]),\n",
       "  'Validation Predictions': array([5, 4, 2, ..., 4, 2, 2])},\n",
       " {'Train Predictions': array([5, 4, 4, ..., 4, 2, 2]),\n",
       "  'Validation Predictions': array([2, 4, 4, ..., 2, 2, 2])},\n",
       " {'Train Predictions': array([2, 5, 4, ..., 4, 2, 2]),\n",
       "  'Validation Predictions': array([2, 4, 4, ..., 2, 4, 4])},\n",
       " {'Train Predictions': array([2, 5, 4, ..., 4, 2, 2]),\n",
       "  'Validation Predictions': array([2, 5, 2, ..., 2, 2, 4])},\n",
       " {'Train Predictions': array([2, 5, 4, ..., 4, 2, 2]),\n",
       "  'Validation Predictions': array([2, 2, 5, ..., 4, 4, 4])},\n",
       " {'Train Predictions': array([2, 5, 4, ..., 4, 2, 2]),\n",
       "  'Validation Predictions': array([2, 4, 4, ..., 2, 4, 4])},\n",
       " {'Train Predictions': array([2, 5, 4, ..., 2, 2, 2]),\n",
       "  'Validation Predictions': array([2, 5, 2, ..., 2, 2, 4])}]"
      ]
     },
     "execution_count": 90,
     "metadata": {},
     "output_type": "execute_result"
    }
   ],
   "source": [
    "# XGB Only\n",
    "# class_mapping = {1: 0, 2: 1, 3: 2, 4: 3, 5: 4, 6: 5, 7: 6, 8: 7}\n",
    "# df['Claim Injury Type'] = df['Claim Injury Type'].map(class_mapping)\n",
    "\n",
    "\n",
    "k_fold(df, features = features, \n",
    "       target = 'Claim Injury Type', k = 10, \n",
    "       model = GradientBoostingClassifier())"
   ]
  },
  {
   "cell_type": "code",
   "execution_count": 91,
   "id": "a465a716",
   "metadata": {
    "ExecuteTime": {
     "end_time": "2024-11-01T22:33:17.312277Z",
     "start_time": "2024-11-01T22:33:05.457161Z"
    }
   },
   "outputs": [
    {
     "name": "stderr",
     "output_type": "stream",
     "text": [
      "Input #0, wav, from '/var/folders/mm/fxsq_1490x9dd2w76tqvt3kr0000gn/T/tmpk2iikfmq.wav':\n",
      "  Duration: 00:00:10.00, bitrate: 1536 kb/s\n",
      "  Stream #0:0: Audio: pcm_s16le ([1][0][0][0] / 0x0001), 48000 Hz, 2 channels, s16, 1536 kb/s\n",
      "   9.92 M-A:  0.000 fd=   0 aq=    0KB vq=    0KB sq=    0B \r"
     ]
    },
    {
     "name": "stdout",
     "output_type": "stream",
     "text": [
      "\n"
     ]
    }
   ],
   "source": [
    "song.play_('audio.mp3')"
   ]
  },
  {
   "cell_type": "markdown",
   "id": "f3ec155c",
   "metadata": {},
   "source": [
    "## test"
   ]
  },
  {
   "cell_type": "code",
   "execution_count": 94,
   "id": "e2dda462",
   "metadata": {
    "ExecuteTime": {
     "end_time": "2024-11-01T22:34:03.971503Z",
     "start_time": "2024-11-01T22:34:03.655665Z"
    }
   },
   "outputs": [],
   "source": [
    "test = test[features]"
   ]
  },
  {
   "cell_type": "code",
   "execution_count": 92,
   "id": "4b65c6a3",
   "metadata": {
    "ExecuteTime": {
     "end_time": "2024-11-01T22:33:49.021866Z",
     "start_time": "2024-11-01T22:33:48.930204Z"
    }
   },
   "outputs": [],
   "source": [
    "# Load the model from the file\n",
    "model = joblib.load('./models/GradientBoostingClassifier.joblib')"
   ]
  },
  {
   "cell_type": "code",
   "execution_count": 77,
   "id": "8bfcd709",
   "metadata": {
    "ExecuteTime": {
     "end_time": "2024-11-01T18:49:25.936230Z",
     "start_time": "2024-11-01T18:48:45.940564Z"
    },
    "collapsed": true
   },
   "outputs": [
    {
     "ename": "ValueError",
     "evalue": "Found array with 0 sample(s) (shape=(0, 29)) while a minimum of 1 is required by NearestNeighbors.",
     "output_type": "error",
     "traceback": [
      "\u001b[0;31m---------------------------------------------------------------------------\u001b[0m",
      "\u001b[0;31mValueError\u001b[0m                                Traceback (most recent call last)",
      "Cell \u001b[0;32mIn[77], line 2\u001b[0m\n\u001b[1;32m      1\u001b[0m \u001b[38;5;28;01mfor\u001b[39;00m col \u001b[38;5;129;01min\u001b[39;00m test\u001b[38;5;241m.\u001b[39mcolumns:\n\u001b[0;32m----> 2\u001b[0m     test \u001b[38;5;241m=\u001b[39m \u001b[43mn\u001b[49m\u001b[38;5;241;43m.\u001b[39;49m\u001b[43mcustom_impute\u001b[49m\u001b[43m(\u001b[49m\u001b[43mtest\u001b[49m\u001b[43m)\u001b[49m\n",
      "File \u001b[0;32m~/Documents/GitHub/machine_learning/NA_outliers.py:73\u001b[0m, in \u001b[0;36mcustom_impute\u001b[0;34m(df)\u001b[0m\n\u001b[1;32m     69\u001b[0m         code_columns \u001b[38;5;241m=\u001b[39m df\u001b[38;5;241m.\u001b[39mfilter(regex\u001b[38;5;241m=\u001b[39m\u001b[38;5;124m'\u001b[39m\u001b[38;5;124mCode$\u001b[39m\u001b[38;5;124m'\u001b[39m, axis\u001b[38;5;241m=\u001b[39m\u001b[38;5;241m1\u001b[39m)\u001b[38;5;241m.\u001b[39mcolumns\n\u001b[1;32m     70\u001b[0m         df[code_columns] \u001b[38;5;241m=\u001b[39m df[code_columns]\u001b[38;5;241m.\u001b[39mfillna(\u001b[38;5;241m0\u001b[39m)\n\u001b[0;32m---> 73\u001b[0m df[\u001b[38;5;124m'\u001b[39m\u001b[38;5;124mAverage Weekly Wage\u001b[39m\u001b[38;5;124m'\u001b[39m] \u001b[38;5;241m=\u001b[39m \u001b[43mball_tree_impute\u001b[49m\u001b[43m(\u001b[49m\u001b[43mdf\u001b[49m\u001b[43m,\u001b[49m\u001b[43m \u001b[49m\u001b[38;5;124;43m'\u001b[39;49m\u001b[38;5;124;43mAverage Weekly Wage\u001b[39;49m\u001b[38;5;124;43m'\u001b[39;49m\u001b[43m)\u001b[49m\n\u001b[1;32m     75\u001b[0m \u001b[38;5;28;01mreturn\u001b[39;00m df\n",
      "File \u001b[0;32m~/Documents/GitHub/machine_learning/NA_outliers.py:20\u001b[0m, in \u001b[0;36mball_tree_impute\u001b[0;34m(df, target, n_neighbors)\u001b[0m\n\u001b[1;32m     17\u001b[0m knn\u001b[38;5;241m.\u001b[39mfit(non_missing_data[features])\n\u001b[1;32m     19\u001b[0m \u001b[38;5;66;03m# Find nearest neighbors for rows with missing values\u001b[39;00m\n\u001b[0;32m---> 20\u001b[0m _, indices \u001b[38;5;241m=\u001b[39m \u001b[43mknn\u001b[49m\u001b[38;5;241;43m.\u001b[39;49m\u001b[43mkneighbors\u001b[49m\u001b[43m(\u001b[49m\u001b[43mmissing_data\u001b[49m\u001b[43m[\u001b[49m\u001b[43mfeatures\u001b[49m\u001b[43m]\u001b[49m\u001b[43m)\u001b[49m\n\u001b[1;32m     22\u001b[0m  \u001b[38;5;66;03m# Initialize a Series to store imputed values\u001b[39;00m\n\u001b[1;32m     23\u001b[0m imputed_values \u001b[38;5;241m=\u001b[39m pd\u001b[38;5;241m.\u001b[39mSeries(index\u001b[38;5;241m=\u001b[39mdf\u001b[38;5;241m.\u001b[39mindex)\n",
      "File \u001b[0;32m~/anaconda3/envs/Text_Mining/lib/python3.10/site-packages/sklearn/neighbors/_base.py:806\u001b[0m, in \u001b[0;36mKNeighborsMixin.kneighbors\u001b[0;34m(self, X, n_neighbors, return_distance)\u001b[0m\n\u001b[1;32m    804\u001b[0m         X \u001b[38;5;241m=\u001b[39m _check_precomputed(X)\n\u001b[1;32m    805\u001b[0m     \u001b[38;5;28;01melse\u001b[39;00m:\n\u001b[0;32m--> 806\u001b[0m         X \u001b[38;5;241m=\u001b[39m \u001b[38;5;28;43mself\u001b[39;49m\u001b[38;5;241;43m.\u001b[39;49m\u001b[43m_validate_data\u001b[49m\u001b[43m(\u001b[49m\u001b[43mX\u001b[49m\u001b[43m,\u001b[49m\u001b[43m \u001b[49m\u001b[43maccept_sparse\u001b[49m\u001b[38;5;241;43m=\u001b[39;49m\u001b[38;5;124;43m\"\u001b[39;49m\u001b[38;5;124;43mcsr\u001b[39;49m\u001b[38;5;124;43m\"\u001b[39;49m\u001b[43m,\u001b[49m\u001b[43m \u001b[49m\u001b[43mreset\u001b[49m\u001b[38;5;241;43m=\u001b[39;49m\u001b[38;5;28;43;01mFalse\u001b[39;49;00m\u001b[43m,\u001b[49m\u001b[43m \u001b[49m\u001b[43morder\u001b[49m\u001b[38;5;241;43m=\u001b[39;49m\u001b[38;5;124;43m\"\u001b[39;49m\u001b[38;5;124;43mC\u001b[39;49m\u001b[38;5;124;43m\"\u001b[39;49m\u001b[43m)\u001b[49m\n\u001b[1;32m    808\u001b[0m n_samples_fit \u001b[38;5;241m=\u001b[39m \u001b[38;5;28mself\u001b[39m\u001b[38;5;241m.\u001b[39mn_samples_fit_\n\u001b[1;32m    809\u001b[0m \u001b[38;5;28;01mif\u001b[39;00m n_neighbors \u001b[38;5;241m>\u001b[39m n_samples_fit:\n",
      "File \u001b[0;32m~/anaconda3/envs/Text_Mining/lib/python3.10/site-packages/sklearn/base.py:565\u001b[0m, in \u001b[0;36mBaseEstimator._validate_data\u001b[0;34m(self, X, y, reset, validate_separately, **check_params)\u001b[0m\n\u001b[1;32m    563\u001b[0m     \u001b[38;5;28;01mraise\u001b[39;00m \u001b[38;5;167;01mValueError\u001b[39;00m(\u001b[38;5;124m\"\u001b[39m\u001b[38;5;124mValidation should be done on X, y or both.\u001b[39m\u001b[38;5;124m\"\u001b[39m)\n\u001b[1;32m    564\u001b[0m \u001b[38;5;28;01melif\u001b[39;00m \u001b[38;5;129;01mnot\u001b[39;00m no_val_X \u001b[38;5;129;01mand\u001b[39;00m no_val_y:\n\u001b[0;32m--> 565\u001b[0m     X \u001b[38;5;241m=\u001b[39m \u001b[43mcheck_array\u001b[49m\u001b[43m(\u001b[49m\u001b[43mX\u001b[49m\u001b[43m,\u001b[49m\u001b[43m \u001b[49m\u001b[43minput_name\u001b[49m\u001b[38;5;241;43m=\u001b[39;49m\u001b[38;5;124;43m\"\u001b[39;49m\u001b[38;5;124;43mX\u001b[39;49m\u001b[38;5;124;43m\"\u001b[39;49m\u001b[43m,\u001b[49m\u001b[43m \u001b[49m\u001b[38;5;241;43m*\u001b[39;49m\u001b[38;5;241;43m*\u001b[39;49m\u001b[43mcheck_params\u001b[49m\u001b[43m)\u001b[49m\n\u001b[1;32m    566\u001b[0m     out \u001b[38;5;241m=\u001b[39m X\n\u001b[1;32m    567\u001b[0m \u001b[38;5;28;01melif\u001b[39;00m no_val_X \u001b[38;5;129;01mand\u001b[39;00m \u001b[38;5;129;01mnot\u001b[39;00m no_val_y:\n",
      "File \u001b[0;32m~/anaconda3/envs/Text_Mining/lib/python3.10/site-packages/sklearn/utils/validation.py:931\u001b[0m, in \u001b[0;36mcheck_array\u001b[0;34m(array, accept_sparse, accept_large_sparse, dtype, order, copy, force_all_finite, ensure_2d, allow_nd, ensure_min_samples, ensure_min_features, estimator, input_name)\u001b[0m\n\u001b[1;32m    929\u001b[0m     n_samples \u001b[38;5;241m=\u001b[39m _num_samples(array)\n\u001b[1;32m    930\u001b[0m     \u001b[38;5;28;01mif\u001b[39;00m n_samples \u001b[38;5;241m<\u001b[39m ensure_min_samples:\n\u001b[0;32m--> 931\u001b[0m         \u001b[38;5;28;01mraise\u001b[39;00m \u001b[38;5;167;01mValueError\u001b[39;00m(\n\u001b[1;32m    932\u001b[0m             \u001b[38;5;124m\"\u001b[39m\u001b[38;5;124mFound array with \u001b[39m\u001b[38;5;132;01m%d\u001b[39;00m\u001b[38;5;124m sample(s) (shape=\u001b[39m\u001b[38;5;132;01m%s\u001b[39;00m\u001b[38;5;124m) while a\u001b[39m\u001b[38;5;124m\"\u001b[39m\n\u001b[1;32m    933\u001b[0m             \u001b[38;5;124m\"\u001b[39m\u001b[38;5;124m minimum of \u001b[39m\u001b[38;5;132;01m%d\u001b[39;00m\u001b[38;5;124m is required\u001b[39m\u001b[38;5;132;01m%s\u001b[39;00m\u001b[38;5;124m.\u001b[39m\u001b[38;5;124m\"\u001b[39m\n\u001b[1;32m    934\u001b[0m             \u001b[38;5;241m%\u001b[39m (n_samples, array\u001b[38;5;241m.\u001b[39mshape, ensure_min_samples, context)\n\u001b[1;32m    935\u001b[0m         )\n\u001b[1;32m    937\u001b[0m \u001b[38;5;28;01mif\u001b[39;00m ensure_min_features \u001b[38;5;241m>\u001b[39m \u001b[38;5;241m0\u001b[39m \u001b[38;5;129;01mand\u001b[39;00m array\u001b[38;5;241m.\u001b[39mndim \u001b[38;5;241m==\u001b[39m \u001b[38;5;241m2\u001b[39m:\n\u001b[1;32m    938\u001b[0m     n_features \u001b[38;5;241m=\u001b[39m array\u001b[38;5;241m.\u001b[39mshape[\u001b[38;5;241m1\u001b[39m]\n",
      "\u001b[0;31mValueError\u001b[0m: Found array with 0 sample(s) (shape=(0, 29)) while a minimum of 1 is required by NearestNeighbors."
     ]
    }
   ],
   "source": [
    "for col in test.columns:\n",
    "    test = n.custom_impute(test)"
   ]
  },
  {
   "cell_type": "code",
   "execution_count": 95,
   "id": "0177013b",
   "metadata": {
    "ExecuteTime": {
     "end_time": "2024-11-01T22:34:06.343231Z",
     "start_time": "2024-11-01T22:34:06.306217Z"
    },
    "collapsed": true
   },
   "outputs": [
    {
     "data": {
      "text/plain": [
       "C-2 Day                           0\n",
       "Accident Year                     0\n",
       "Birth Year                        0\n",
       "Assembly Month                    0\n",
       "C-2 Month                         0\n",
       "Average Weekly Wage               0\n",
       "Age at Injury                     0\n",
       "C-2 Year                          0\n",
       "Number of Dependents              0\n",
       "Accident Day                      0\n",
       "Assembly Year                     0\n",
       "First Hearing Year                0\n",
       "IME-4 Count                       0\n",
       "Assembly Day                      0\n",
       "Accident Month                    0\n",
       "WCIO Cause of Injury Code         0\n",
       "Gender                            0\n",
       "COVID-19 Indicator                0\n",
       "WCIO Part Of Body Code            0\n",
       "County of Injury                  0\n",
       "Attorney/Representative           0\n",
       "Carrier Type                      0\n",
       "District Name                     0\n",
       "Medical Fee Region                0\n",
       "Zip Code                          0\n",
       "Carrier Name                      0\n",
       "C-3 Date Binary                   0\n",
       "Alternative Dispute Resolution    0\n",
       "WCIO Nature of Injury Code        0\n",
       "Industry Code                     0\n",
       "dtype: int64"
      ]
     },
     "execution_count": 95,
     "metadata": {},
     "output_type": "execute_result"
    }
   ],
   "source": [
    "test.isna().sum()"
   ]
  },
  {
   "cell_type": "markdown",
   "id": "20eba9cc",
   "metadata": {},
   "source": [
    "**Predictions**"
   ]
  },
  {
   "cell_type": "code",
   "execution_count": 96,
   "id": "f5b8dbb4",
   "metadata": {
    "ExecuteTime": {
     "end_time": "2024-11-01T22:34:16.048093Z",
     "start_time": "2024-11-01T22:34:10.548473Z"
    },
    "scrolled": true
   },
   "outputs": [],
   "source": [
    "test['Claim Injury Type'] = model.predict(test)"
   ]
  },
  {
   "cell_type": "markdown",
   "id": "8bdcc5e1",
   "metadata": {},
   "source": [
    "**Map to Original**"
   ]
  },
  {
   "cell_type": "code",
   "execution_count": 81,
   "id": "deb12cb2",
   "metadata": {
    "ExecuteTime": {
     "end_time": "2024-11-01T18:50:05.204583Z",
     "start_time": "2024-11-01T18:50:05.140564Z"
    }
   },
   "outputs": [],
   "source": [
    "# ## XGB ONLY\n",
    "# label_mapping = {\n",
    "#     0: \"1. CANCELLED\",\n",
    "#     1: \"2. NON-COMP\",\n",
    "#     2: \"3. MED ONLY\",\n",
    "#     3: \"4. TEMPORARY\",\n",
    "#     4: \"5. PPD SCH LOSS\",\n",
    "#     5: \"6. PPD NSL\",\n",
    "#     6: \"7. PTD\",\n",
    "#     7: \"8. DEATH\"\n",
    "# }\n",
    "\n",
    "# test['Claim Injury Type'] = test['Claim Injury Type'].replace(label_mapping)"
   ]
  },
  {
   "cell_type": "code",
   "execution_count": 97,
   "id": "e85029d5",
   "metadata": {
    "ExecuteTime": {
     "end_time": "2024-11-01T22:34:20.219707Z",
     "start_time": "2024-11-01T22:34:20.175519Z"
    }
   },
   "outputs": [],
   "source": [
    "label_mapping = {\n",
    "    1: \"1. CANCELLED\",\n",
    "    2: \"2. NON-COMP\",\n",
    "    3: \"3. MED ONLY\",\n",
    "    4: \"4. TEMPORARY\",\n",
    "    5: \"5. PPD SCH LOSS\",\n",
    "    6: \"6. PPD NSL\",\n",
    "    7: \"7. PTD\",\n",
    "    8: \"8. DEATH\"\n",
    "}\n",
    "\n",
    "test['Claim Injury Type'] = test['Claim Injury Type'].replace(label_mapping)"
   ]
  },
  {
   "cell_type": "code",
   "execution_count": 98,
   "id": "8b314cbe",
   "metadata": {
    "ExecuteTime": {
     "end_time": "2024-11-01T22:34:21.301078Z",
     "start_time": "2024-11-01T22:34:21.261271Z"
    }
   },
   "outputs": [
    {
     "data": {
      "text/plain": [
       "Claim Injury Type\n",
       "8. DEATH           253631\n",
       "3. MED ONLY         74303\n",
       "2. NON-COMP         51639\n",
       "6. PPD NSL           4500\n",
       "4. TEMPORARY         2969\n",
       "7. PTD                932\n",
       "5. PPD SCH LOSS         1\n",
       "Name: count, dtype: int64"
      ]
     },
     "execution_count": 98,
     "metadata": {},
     "output_type": "execute_result"
    }
   ],
   "source": [
    "test['Claim Injury Type'].value_counts() "
   ]
  },
  {
   "cell_type": "code",
   "execution_count": 99,
   "id": "8b18281e",
   "metadata": {
    "ExecuteTime": {
     "end_time": "2024-11-01T22:34:24.636957Z",
     "start_time": "2024-11-01T22:34:24.630320Z"
    }
   },
   "outputs": [
    {
     "data": {
      "text/plain": [
       "Claim Identifier\n",
       "6165911       8. DEATH\n",
       "6166141       8. DEATH\n",
       "6165907       8. DEATH\n",
       "6166047       8. DEATH\n",
       "6166102       8. DEATH\n",
       "              ...     \n",
       "6553137    2. NON-COMP\n",
       "6553119    3. MED ONLY\n",
       "6553542    3. MED ONLY\n",
       "6553455    3. MED ONLY\n",
       "6553594    3. MED ONLY\n",
       "Name: Claim Injury Type, Length: 387975, dtype: object"
      ]
     },
     "execution_count": 99,
     "metadata": {},
     "output_type": "execute_result"
    }
   ],
   "source": [
    "predictions = test['Claim Injury Type']\n",
    "predictions"
   ]
  },
  {
   "cell_type": "code",
   "execution_count": 101,
   "id": "c77bb96d",
   "metadata": {
    "ExecuteTime": {
     "end_time": "2024-11-01T22:34:40.620286Z",
     "start_time": "2024-11-01T22:34:39.897335Z"
    }
   },
   "outputs": [],
   "source": [
    "predictions.to_csv('./predictions/pred4_GB.csv')"
   ]
  }
 ],
 "metadata": {
  "kernelspec": {
   "display_name": "Python 3 (ipykernel)",
   "language": "python",
   "name": "python3"
  },
  "language_info": {
   "codemirror_mode": {
    "name": "ipython",
    "version": 3
   },
   "file_extension": ".py",
   "mimetype": "text/x-python",
   "name": "python",
   "nbconvert_exporter": "python",
   "pygments_lexer": "ipython3",
   "version": "3.10.13"
  }
 },
 "nbformat": 4,
 "nbformat_minor": 5
}
