{
 "cells": [
  {
   "cell_type": "code",
   "execution_count": null,
   "id": "c80c7c88",
   "metadata": {
    "ExecuteTime": {
     "end_time": "2024-11-02T14:19:43.601721Z",
     "start_time": "2024-11-02T14:19:39.120596Z"
    }
   },
   "outputs": [],
   "source": [
    "import pandas as pd\n",
    "import numpy as np\n",
    "\n",
    "from sklearn.model_selection import KFold, StratifiedKFold\n",
    "\n",
    "# Models\n",
    "from sklearn.linear_model import LogisticRegression\n",
    "from sklearn.ensemble import RandomForestClassifier, GradientBoostingClassifier, AdaBoostClassifier\n",
    "from sklearn.tree import DecisionTreeClassifier\n",
    "from xgboost import XGBClassifier  \n",
    "from sklearn.tree import DecisionTreeClassifier\n",
    "#from lightgbm import LGBMClassifier \n",
    "#from catboost import CatBoostClassifier \n",
    "\n",
    "# Metrics\n",
    "from sklearn.metrics import classification_report\n",
    "\n",
    "\n",
    "\n",
    "\n",
    "## EXTRA\n",
    "pd.set_option('display.max_columns', None)\n",
    "\n",
    "# Warnings\n",
    "import warnings\n",
    "warnings.filterwarnings(\"ignore\")\n",
    "\n",
    "import NA_outliers as n\n",
    "import play_song as song"
   ]
  },
  {
   "cell_type": "code",
   "execution_count": null,
   "id": "5862d1be",
   "metadata": {
    "ExecuteTime": {
     "end_time": "2024-11-02T14:35:32.501049Z",
     "start_time": "2024-11-02T14:35:32.496862Z"
    }
   },
   "outputs": [],
   "source": [
    "# FUNCTION\n",
    "\n",
    "import pandas as pd\n",
    "import numpy as np\n",
    "import time\n",
    "import joblib\n",
    "from sklearn.model_selection import StratifiedKFold, RandomizedSearchCV\n",
    "from sklearn.linear_model import LogisticRegression\n",
    "from sklearn.pipeline import Pipeline\n",
    "from sklearn.preprocessing import RobustScaler, FunctionTransformer\n",
    "from sklearn.metrics import classification_report\n",
    "\n",
    "from imblearn.over_sampling import SMOTE\n",
    "from imblearn.under_sampling import RandomUnderSampler\n",
    "from imblearn.pipeline import pipeline as ImbPipeline\n",
    "\n",
    "import NA_outliers as n\n",
    "import play_song as song\n"
   ]
  },
  {
   "cell_type": "code",
   "execution_count": null,
   "id": "b272237a",
   "metadata": {
    "ExecuteTime": {
     "end_time": "2024-11-02T14:19:45.480468Z",
     "start_time": "2024-11-02T14:19:43.612982Z"
    }
   },
   "outputs": [],
   "source": [
    "df = pd.read_csv('./project_data/out_eda1.csv', \n",
    "                 index_col = 'Claim Identifier')"
   ]
  },
  {
   "cell_type": "markdown",
   "id": "5b75cf02",
   "metadata": {},
   "source": [
    "## 1. Train\n",
    "\n",
    "<a href=\"#top\">Top &#129033;</a>"
   ]
  },
  {
   "cell_type": "code",
   "execution_count": null,
   "id": "3070bc31",
   "metadata": {
    "ExecuteTime": {
     "end_time": "2024-11-02T14:35:02.289935Z",
     "start_time": "2024-11-02T14:35:02.273579Z"
    }
   },
   "outputs": [],
   "source": [
    "def k_fold(df, features, target, model_name, \n",
    "           param_distributions=None, random_search=False, \n",
    "           k=5, model=LogisticRegression(), patience=2,\n",
    "           oversample=False, undersample=False, \n",
    "           smote_strategy=0.5, under_strategy=0.8):\n",
    "    \n",
    "    '''\n",
    "    df: The dataset containing both features and target columns.\n",
    "    \n",
    "    features: List of column names to use as features for model training.\n",
    "    \n",
    "    target: Column name of the target variable to predict.\n",
    "    \n",
    "    model_name: Name under which to save the best-performing model.\n",
    "    \n",
    "    param_distributions: Dictionary of hyperparameters for RandomizedSearchCV; used only if random_search is enabled.\n",
    "    \n",
    "    random_search: Boolean to enable random search hyperparameter tuning. Default is False.\n",
    "    \n",
    "    k: Number of folds for cross-validation. Default is 5.\n",
    "    \n",
    "    model: The model to train. Default is LogisticRegression.\n",
    "    \n",
    "    patience: Number of consecutive folds without improvement needed to trigger early stopping. Default is 2.\n",
    "    \n",
    "    use_smote: Boolean to apply SMOTE to the minority class in the training set. Default is False.\n",
    "    \n",
    "    undersample: Boolean to apply undersampling to the majority class in the training set. Default is False.\n",
    "    \n",
    "    smote_strategy: Ratio of the minority class after SMOTE. Only used if use_smote is True.\n",
    "    \n",
    "    under_strategy: Ratio of the majority class after undersampling. Only used if undersample is True.\n",
    "    \n",
    "    '''\n",
    "    \n",
    "    start_time = time.time()\n",
    "    \n",
    "    X = df[features]\n",
    "    y = df[target]\n",
    "    \n",
    "    kf = StratifiedKFold(n_splits= k, shuffle=True, random_state=1)\n",
    "    predictions = []\n",
    "    \n",
    "    # Initialize variables for early stopping\n",
    "    best_macro_avg = 0  \n",
    "    no_improvement_count = 0\n",
    "\n",
    "    \n",
    "    for fold, (train_idx, val_idx) in enumerate(kf.split(X, y), 1):\n",
    "        \n",
    "        print(f'----------FOLD {fold}----------')\n",
    "        ### SPLIT\n",
    "        X_train, X_val = X.iloc[train_idx], X.iloc[val_idx]\n",
    "        y_train, y_val = y.iloc[train_idx], y.iloc[val_idx]\n",
    "        \n",
    "        original_columns = X_train.columns\n",
    "        \n",
    "        ### PIPELINE\n",
    "        \n",
    "        # Add smote or undersampling as needed\n",
    "        if use_smote:\n",
    "            steps.append(('smote', RandomOverSampler(sampling_strategy=over_strategy, random_state=1)))\n",
    "            \n",
    "        if undersample:\n",
    "            steps.append(('undersampler', RandomUnderSampler(sampling_strategy=under_strategy, random_state=1)))\n",
    "        \n",
    "        ### PIPELINE       \n",
    "        pipeline = ImbPipeline([\n",
    "            ('imputer', FunctionTransformer(n.custom_impute, validate=False)), \n",
    "            ('log_transform', FunctionTransformer(n.log_transform, validate=False)),  \n",
    "            ('scaler', RobustScaler()),\n",
    "            *sampling_steps,\n",
    "            ('classifier', model)\n",
    "        ])\n",
    "        \n",
    "        \n",
    "        ### RANDOM SEARCH\n",
    "        if random_search:\n",
    "            model_to_use = RandomizedSearchCV(\n",
    "                estimator=pipeline,\n",
    "                param_distributions=param_distributions,\n",
    "                n_iter=50, \n",
    "                scoring='f1_macro',\n",
    "                cv=3,\n",
    "                verbose=2,\n",
    "                random_state=1,\n",
    "                n_jobs=-1\n",
    "            )\n",
    "\n",
    "            # Fit the Randomized Search model\n",
    "            model_to_use.fit(X_train, y_train)\n",
    "            best_model = random_search.best_estimator_\n",
    "            \n",
    "        else:\n",
    "            pipeline.fit(X_train, y_train)\n",
    "            best_model = pipeline\n",
    "\n",
    "    \n",
    "\n",
    "        # make predictions\n",
    "        train_pred = model_to_use.predict(X_train)\n",
    "        val_pred = model_to_use.predict(X_val)\n",
    "\n",
    "        # Compute metrics\n",
    "        train_report = classification_report(y_train, train_pred, output_dict=True)\n",
    "        val_report = classification_report(y_val, val_pred, output_dict=True)\n",
    "        \n",
    "        print(f\"Fold {fold} - Training Report:\\n\", classification_report(y_train, train_pred))\n",
    "        print(f\"Fold {fold} - Validation Report:\\n\", classification_report(y_val, val_pred))\n",
    "        \n",
    "        val_macro_avg = val_report['macro avg']['f1-score']\n",
    "        \n",
    "        if val_macro_avg > best_macro_avg:\n",
    "            best_macro_avg = val_macro_avg\n",
    "            no_improvement_count = 0\n",
    "            \n",
    "            # Save the best model \n",
    "            joblib.dump(best_model, f'./models/{model_name}.joblib')\n",
    "        else:\n",
    "            no_improvement_count += 1\n",
    "            print(f\"No improvement for {no_improvement_count} fold(s)\")\n",
    "\n",
    "        if no_improvement_count >= patience:\n",
    "            print(f\"Early stopping at fold {fold} due to no improvement in macro average for {patience} folds\")\n",
    "            break\n",
    "        \n",
    "        \n",
    "        # save predictions and best model's parameters\n",
    "        predictions.append({'Train Predictions': train_pred, 'Validation Predictions': val_pred})\n",
    "    \n",
    "    \n",
    "    # Time\n",
    "    end_time = time.time()\n",
    "    elapsed_time = round((end_time - start_time) / 60, 2)\n",
    "    print(f'This run took {elapsed_time} minutes')\n",
    "    \n",
    "    # Play Warning Song\n",
    "    song.play_('audio.mp3')\n",
    "        \n",
    "    return predictions\n"
   ]
  },
  {
   "cell_type": "markdown",
   "id": "74f1be19",
   "metadata": {},
   "source": [
    "## 1.1Model"
   ]
  },
  {
   "cell_type": "markdown",
   "id": "bf151aa7",
   "metadata": {},
   "source": [
    "**Selected Features to use for predictions**"
   ]
  },
  {
   "cell_type": "code",
   "execution_count": null,
   "id": "e31ee446",
   "metadata": {
    "ExecuteTime": {
     "end_time": "2024-11-02T12:32:33.407821Z",
     "start_time": "2024-11-02T12:32:33.295984Z"
    }
   },
   "outputs": [],
   "source": [
    "features = df.drop('Claim Injury Type', axis = 1).columns"
   ]
  },
  {
   "cell_type": "markdown",
   "id": "28e5db12",
   "metadata": {},
   "source": [
    "**Random Search Parameters**"
   ]
  },
  {
   "cell_type": "code",
   "execution_count": null,
   "id": "59dbfcf1",
   "metadata": {
    "ExecuteTime": {
     "end_time": "2024-11-02T12:32:34.267823Z",
     "start_time": "2024-11-02T12:32:34.263681Z"
    }
   },
   "outputs": [],
   "source": [
    "param_distributions = {\n",
    "    'classifier__n_estimators': [50, 100, 200, 300, 500],\n",
    "    'classifier__max_features': ['auto', 'sqrt', 'log2'],\n",
    "    'classifier__max_depth': [None, 10, 20, 30, 40, 50],\n",
    "    'classifier__min_samples_split': [2, 5, 10],\n",
    "    'classifier__min_samples_leaf': [1, 2, 4, 5, 10],\n",
    "    'classifier__bootstrap': [True, False],\n",
    "    'classifier__class_weight': [None, 'balanced'],\n",
    "    'classifier__criterion': ['gini', 'entropy']\n",
    "}"
   ]
  },
  {
   "cell_type": "markdown",
   "id": "d3d52444",
   "metadata": {},
   "source": [
    "**SMOTE and undersampling**"
   ]
  },
  {
   "cell_type": "code",
   "execution_count": null,
   "id": "8206c2ce",
   "metadata": {
    "ExecuteTime": {
     "end_time": "2024-11-02T14:40:07.492673Z",
     "start_time": "2024-11-02T14:40:07.484234Z"
    }
   },
   "outputs": [],
   "source": [
    "df['Claim Injury Type'].value_counts()"
   ]
  },
  {
   "cell_type": "code",
   "execution_count": null,
   "id": "94f11be9",
   "metadata": {
    "ExecuteTime": {
     "end_time": "2024-11-02T14:42:09.461370Z",
     "start_time": "2024-11-02T14:42:09.458863Z"
    }
   },
   "outputs": [],
   "source": [
    "under_strategy = {\n",
    "    2: 150000,  \n",
    "    4: 100000,  \n",
    "}\n",
    "\n",
    "smote_strategy = {\n",
    "    6: 5000,   \n",
    "    7: 500,    \n",
    "    8: 600      \n",
    "}"
   ]
  },
  {
   "cell_type": "markdown",
   "id": "bc988bed",
   "metadata": {},
   "source": [
    "**Model**"
   ]
  },
  {
   "cell_type": "code",
   "execution_count": null,
   "id": "69d3af81",
   "metadata": {
    "ExecuteTime": {
     "end_time": "2024-11-02T12:45:50.531674Z",
     "start_time": "2024-11-02T12:35:42.748122Z"
    }
   },
   "outputs": [],
   "source": [
    "# XGB Only\n",
    "# class_mapping = {1: 0, 2: 1, 3: 2, 4: 3, 5: 4, 6: 5, 7: 6, 8: 7}\n",
    "# df['Claim Injury Type'] = df['Claim Injury Type'].map(class_mapping)\n",
    "\n",
    "# model_name_featureselection_log_kfoldtype_nfolds_randomsearch\n",
    "model_name = 'RF_noFS_LOG_SKF_10F_RS'\n",
    "model = RandomForestClassifier()\n",
    "\n",
    "\n",
    "k_fold(df, features = features, target = 'Claim Injury Type', \n",
    "       model_name = model_name, param_distributions=None, \n",
    "       random_search = False, k = 5, model = model, \n",
    "       patience = 2, use_smote = True, undersample = True, \n",
    "       smote_strategy = smote_strategy, under_strategy = under_strategy)"
   ]
  },
  {
   "cell_type": "markdown",
   "id": "28e7baf1",
   "metadata": {},
   "source": [
    "**Load Model**"
   ]
  },
  {
   "cell_type": "code",
   "execution_count": null,
   "id": "204e5e5f",
   "metadata": {
    "ExecuteTime": {
     "end_time": "2024-11-02T12:18:03.026038Z",
     "start_time": "2024-11-02T12:18:02.927724Z"
    }
   },
   "outputs": [],
   "source": [
    "# Load the model from the file\n",
    "model = joblib.load(f'./models/{model_name}.joblib')"
   ]
  },
  {
   "cell_type": "markdown",
   "id": "f3ec155c",
   "metadata": {},
   "source": [
    "# 2. Test"
   ]
  },
  {
   "cell_type": "code",
   "execution_count": null,
   "id": "e2dda462",
   "metadata": {
    "ExecuteTime": {
     "end_time": "2024-11-02T12:18:04.897732Z",
     "start_time": "2024-11-02T12:18:03.569441Z"
    }
   },
   "outputs": [],
   "source": [
    "test = pd.read_csv('./project_data/test_treated.csv', \n",
    "                   index_col = 'Claim Identifier')\n",
    "\n",
    "test = test[features]"
   ]
  },
  {
   "cell_type": "markdown",
   "id": "20eba9cc",
   "metadata": {},
   "source": [
    "**Predictions**"
   ]
  },
  {
   "cell_type": "code",
   "execution_count": null,
   "id": "f5b8dbb4",
   "metadata": {
    "ExecuteTime": {
     "end_time": "2024-11-02T12:18:05.108843Z",
     "start_time": "2024-11-02T12:18:04.903195Z"
    },
    "scrolled": true
   },
   "outputs": [],
   "source": [
    "test['Claim Injury Type'] = model.predict(test_features)"
   ]
  },
  {
   "cell_type": "markdown",
   "id": "8bdcc5e1",
   "metadata": {},
   "source": [
    "**Map to Original**"
   ]
  },
  {
   "cell_type": "code",
   "execution_count": null,
   "id": "deb12cb2",
   "metadata": {
    "ExecuteTime": {
     "end_time": "2024-11-02T12:18:05.114596Z",
     "start_time": "2024-11-02T12:18:05.111386Z"
    }
   },
   "outputs": [],
   "source": [
    "# ## XGB ONLY\n",
    "# label_mapping = {\n",
    "#     0: \"1. CANCELLED\",\n",
    "#     1: \"2. NON-COMP\",\n",
    "#     2: \"3. MED ONLY\",\n",
    "#     3: \"4. TEMPORARY\",\n",
    "#     4: \"5. PPD SCH LOSS\",\n",
    "#     5: \"6. PPD NSL\",\n",
    "#     6: \"7. PTD\",\n",
    "#     7: \"8. DEATH\"\n",
    "# }\n",
    "\n",
    "# test['Claim Injury Type'] = test['Claim Injury Type'].replace(label_mapping)"
   ]
  },
  {
   "cell_type": "code",
   "execution_count": null,
   "id": "e85029d5",
   "metadata": {
    "ExecuteTime": {
     "end_time": "2024-11-02T12:18:05.166679Z",
     "start_time": "2024-11-02T12:18:05.118257Z"
    }
   },
   "outputs": [],
   "source": [
    "label_mapping = {\n",
    "    1: \"1. CANCELLED\",\n",
    "    2: \"2. NON-COMP\",\n",
    "    3: \"3. MED ONLY\",\n",
    "    4: \"4. TEMPORARY\",\n",
    "    5: \"5. PPD SCH LOSS\",\n",
    "    6: \"6. PPD NSL\",\n",
    "    7: \"7. PTD\",\n",
    "    8: \"8. DEATH\"\n",
    "}\n",
    "\n",
    "test['Claim Injury Type'] = test['Claim Injury Type'].replace(label_mapping)"
   ]
  },
  {
   "cell_type": "markdown",
   "id": "d91011d4",
   "metadata": {},
   "source": [
    "Check each category inside target"
   ]
  },
  {
   "cell_type": "code",
   "execution_count": null,
   "id": "8b314cbe",
   "metadata": {
    "ExecuteTime": {
     "end_time": "2024-11-02T12:18:06.672189Z",
     "start_time": "2024-11-02T12:18:06.643618Z"
    }
   },
   "outputs": [],
   "source": [
    "test['Claim Injury Type'].value_counts() "
   ]
  },
  {
   "cell_type": "markdown",
   "id": "e33435a2",
   "metadata": {},
   "source": [
    "Select only the predictions column and the index"
   ]
  },
  {
   "cell_type": "code",
   "execution_count": null,
   "id": "8b18281e",
   "metadata": {
    "ExecuteTime": {
     "end_time": "2024-11-02T12:18:08.462287Z",
     "start_time": "2024-11-02T12:18:08.452097Z"
    }
   },
   "outputs": [],
   "source": [
    "predictions = test['Claim Injury Type']"
   ]
  },
  {
   "cell_type": "markdown",
   "id": "def072e3",
   "metadata": {},
   "source": [
    "# 3. Export"
   ]
  },
  {
   "cell_type": "code",
   "execution_count": null,
   "id": "c77bb96d",
   "metadata": {
    "ExecuteTime": {
     "end_time": "2024-11-02T12:18:10.876223Z",
     "start_time": "2024-11-02T12:18:10.012381Z"
    }
   },
   "outputs": [],
   "source": [
    "predictions.to_csv(f'./predictions/{model_name}.csv')"
   ]
  },
  {
   "cell_type": "markdown",
   "id": "b2d2c704",
   "metadata": {},
   "source": [
    "**Results**"
   ]
  },
  {
   "cell_type": "markdown",
   "id": "b2be7ac6",
   "metadata": {},
   "source": [
    "__*<center>Models K-Fold*__ \n",
    "\n",
    "| Model | Feature Selection | Log | Parameters | Kaggle Score | Fold |\n",
    "| ----- | ------------------ | --- | ---------- | ------------ | ---- |\n",
    "| LogReg | - | - | -  | 0.21122 | 5 |\n",
    "| RF | 1 | X | - | 0.29078 | 5 |\n",
    "| XGB | 1 | X | - | 0.20642 | 10 |\n",
    "| RF | - | - | - | 0.26616 | 5 |\n",
    "    \n",
    "<br><br>\n",
    "    \n",
    "__*<center>Models w/ Stratified K-Fold*__   \n",
    "    \n",
    "| Model | Feature Selection | Log | Parameters | Kaggle Score | Fold | \n",
    "| ----- | ------------------ | --- | ---------- | ------------ | ---- |\n",
    "| RF | - | - | - | 0.26912 | 10 |\n",
    "| DT | - | - | - | 0.14236 | 10 |\n",
    "| DT | ------------------ | X | ---------- | 0.15589 | 10 |\n",
    "| ----- | ------------------ | --- | ---------- | ------------ | ---- |\n",
    "| ----- | ------------------ | --- | ---------- | ------------ | ---- |\n",
    "| ----- | ------------------ | --- | ---------- | ------------ | ---- |\n",
    "| ----- | ------------------ | --- | ---------- | ------------ | ---- |\n",
    "    \n",
    "<br><br>\n",
    "    \n",
    "**Features for Feature Selection 1**\n",
    "\n",
    "['C-2 Day', 'Accident Year', 'Birth Year', 'Assembly Month',\n",
    "            'C-2 Month', 'Average Weekly Wage', 'Age at Injury', \n",
    "            'C-2 Year', 'Number of Dependents', 'Accident Day', \n",
    "            'Assembly Year', 'First Hearing Year', 'IME-4 Count', \n",
    "            'Assembly Day', 'Accident Month', \n",
    "            'WCIO Cause of Injury Code', 'Gender', \n",
    "            'COVID-19 Indicator', 'WCIO Part Of Body Code', \n",
    "            'County of Injury', 'Attorney/Representative', \n",
    "            'Carrier Type', 'District Name', 'Medical Fee Region', \n",
    "            'Zip Code', 'Carrier Name', 'C-3 Date Binary', \n",
    "            'Alternative Dispute Resolution', \n",
    "            'WCIO Nature of Injury Code', 'Industry Code']\n"
   ]
  },
  {
   "cell_type": "code",
   "execution_count": null,
   "id": "d3235795",
   "metadata": {},
   "outputs": [],
   "source": []
  }
 ],
 "metadata": {
  "kernelspec": {
   "display_name": "Python 3 (ipykernel)",
   "language": "python",
   "name": "python3"
  },
  "language_info": {
   "codemirror_mode": {
    "name": "ipython",
    "version": 3
   },
   "file_extension": ".py",
   "mimetype": "text/x-python",
   "name": "python",
   "nbconvert_exporter": "python",
   "pygments_lexer": "ipython3",
   "version": "3.10.13"
  }
 },
 "nbformat": 4,
 "nbformat_minor": 5
}
