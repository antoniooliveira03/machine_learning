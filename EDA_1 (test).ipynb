{
 "cells": [
  {
   "cell_type": "code",
   "execution_count": 5,
   "id": "236e5516",
   "metadata": {
    "ExecuteTime": {
     "end_time": "2024-10-26T15:06:18.446088Z",
     "start_time": "2024-10-26T15:06:16.843374Z"
    }
   },
   "outputs": [
    {
     "ename": "KeyError",
     "evalue": "'PolyCollection:kwdoc'",
     "output_type": "error",
     "traceback": [
      "\u001b[0;31m---------------------------------------------------------------------------\u001b[0m",
      "\u001b[0;31mValueError\u001b[0m                                Traceback (most recent call last)",
      "File \u001b[0;32m~/anaconda3/envs/Text_Mining/lib/python3.10/site-packages/matplotlib/_docstring.py:57\u001b[0m, in \u001b[0;36m_ArtistKwdocLoader.__missing__\u001b[0;34m(self, key)\u001b[0m\n\u001b[1;32m     56\u001b[0m \u001b[38;5;28;01mtry\u001b[39;00m:\n\u001b[0;32m---> 57\u001b[0m     \u001b[38;5;28mcls\u001b[39m, \u001b[38;5;241m=\u001b[39m [\u001b[38;5;28mcls\u001b[39m \u001b[38;5;28;01mfor\u001b[39;00m \u001b[38;5;28mcls\u001b[39m \u001b[38;5;129;01min\u001b[39;00m _api\u001b[38;5;241m.\u001b[39mrecursive_subclasses(Artist)\n\u001b[1;32m     58\u001b[0m             \u001b[38;5;28;01mif\u001b[39;00m \u001b[38;5;28mcls\u001b[39m\u001b[38;5;241m.\u001b[39m\u001b[38;5;18m__name__\u001b[39m \u001b[38;5;241m==\u001b[39m name]\n\u001b[1;32m     59\u001b[0m \u001b[38;5;28;01mexcept\u001b[39;00m \u001b[38;5;167;01mValueError\u001b[39;00m \u001b[38;5;28;01mas\u001b[39;00m e:\n",
      "\u001b[0;31mValueError\u001b[0m: too many values to unpack (expected 1)",
      "\nThe above exception was the direct cause of the following exception:\n",
      "\u001b[0;31mKeyError\u001b[0m                                  Traceback (most recent call last)",
      "Cell \u001b[0;32mIn[5], line 9\u001b[0m\n\u001b[1;32m      2\u001b[0m \u001b[38;5;28;01mimport\u001b[39;00m \u001b[38;5;21;01mnumpy\u001b[39;00m \u001b[38;5;28;01mas\u001b[39;00m \u001b[38;5;21;01mnp\u001b[39;00m\n\u001b[1;32m      5\u001b[0m \u001b[38;5;66;03m# profile report\u001b[39;00m\n\u001b[1;32m      6\u001b[0m \u001b[38;5;66;03m#from ydata_profiling import ProfileReport\u001b[39;00m\n\u001b[1;32m      7\u001b[0m \n\u001b[1;32m      8\u001b[0m \u001b[38;5;66;03m# visualisations\u001b[39;00m\n\u001b[0;32m----> 9\u001b[0m \u001b[38;5;28;01mimport\u001b[39;00m \u001b[38;5;21;01mseaborn\u001b[39;00m \u001b[38;5;28;01mas\u001b[39;00m \u001b[38;5;21;01msns\u001b[39;00m\n\u001b[1;32m     10\u001b[0m \u001b[38;5;28;01mimport\u001b[39;00m \u001b[38;5;21;01mmatplotlib\u001b[39;00m\u001b[38;5;21;01m.\u001b[39;00m\u001b[38;5;21;01mpyplot\u001b[39;00m \u001b[38;5;28;01mas\u001b[39;00m \u001b[38;5;21;01mplt\u001b[39;00m\n\u001b[1;32m     12\u001b[0m \u001b[38;5;66;03m# train test split\u001b[39;00m\n",
      "File \u001b[0;32m~/anaconda3/envs/Text_Mining/lib/python3.10/site-packages/seaborn/__init__.py:2\u001b[0m\n\u001b[1;32m      1\u001b[0m \u001b[38;5;66;03m# Import seaborn objects\u001b[39;00m\n\u001b[0;32m----> 2\u001b[0m \u001b[38;5;28;01mfrom\u001b[39;00m \u001b[38;5;21;01m.\u001b[39;00m\u001b[38;5;21;01mrcmod\u001b[39;00m \u001b[38;5;28;01mimport\u001b[39;00m \u001b[38;5;241m*\u001b[39m  \u001b[38;5;66;03m# noqa: F401,F403\u001b[39;00m\n\u001b[1;32m      3\u001b[0m \u001b[38;5;28;01mfrom\u001b[39;00m \u001b[38;5;21;01m.\u001b[39;00m\u001b[38;5;21;01mutils\u001b[39;00m \u001b[38;5;28;01mimport\u001b[39;00m \u001b[38;5;241m*\u001b[39m  \u001b[38;5;66;03m# noqa: F401,F403\u001b[39;00m\n\u001b[1;32m      4\u001b[0m \u001b[38;5;28;01mfrom\u001b[39;00m \u001b[38;5;21;01m.\u001b[39;00m\u001b[38;5;21;01mpalettes\u001b[39;00m \u001b[38;5;28;01mimport\u001b[39;00m \u001b[38;5;241m*\u001b[39m  \u001b[38;5;66;03m# noqa: F401,F403\u001b[39;00m\n",
      "File \u001b[0;32m~/anaconda3/envs/Text_Mining/lib/python3.10/site-packages/seaborn/rcmod.py:5\u001b[0m\n\u001b[1;32m      3\u001b[0m \u001b[38;5;28;01mimport\u001b[39;00m \u001b[38;5;21;01mmatplotlib\u001b[39;00m \u001b[38;5;28;01mas\u001b[39;00m \u001b[38;5;21;01mmpl\u001b[39;00m\n\u001b[1;32m      4\u001b[0m \u001b[38;5;28;01mfrom\u001b[39;00m \u001b[38;5;21;01mcycler\u001b[39;00m \u001b[38;5;28;01mimport\u001b[39;00m cycler\n\u001b[0;32m----> 5\u001b[0m \u001b[38;5;28;01mfrom\u001b[39;00m \u001b[38;5;21;01m.\u001b[39;00m \u001b[38;5;28;01mimport\u001b[39;00m palettes\n\u001b[1;32m      8\u001b[0m __all__ \u001b[38;5;241m=\u001b[39m [\u001b[38;5;124m\"\u001b[39m\u001b[38;5;124mset_theme\u001b[39m\u001b[38;5;124m\"\u001b[39m, \u001b[38;5;124m\"\u001b[39m\u001b[38;5;124mset\u001b[39m\u001b[38;5;124m\"\u001b[39m, \u001b[38;5;124m\"\u001b[39m\u001b[38;5;124mreset_defaults\u001b[39m\u001b[38;5;124m\"\u001b[39m, \u001b[38;5;124m\"\u001b[39m\u001b[38;5;124mreset_orig\u001b[39m\u001b[38;5;124m\"\u001b[39m,\n\u001b[1;32m      9\u001b[0m            \u001b[38;5;124m\"\u001b[39m\u001b[38;5;124maxes_style\u001b[39m\u001b[38;5;124m\"\u001b[39m, \u001b[38;5;124m\"\u001b[39m\u001b[38;5;124mset_style\u001b[39m\u001b[38;5;124m\"\u001b[39m, \u001b[38;5;124m\"\u001b[39m\u001b[38;5;124mplotting_context\u001b[39m\u001b[38;5;124m\"\u001b[39m, \u001b[38;5;124m\"\u001b[39m\u001b[38;5;124mset_context\u001b[39m\u001b[38;5;124m\"\u001b[39m,\n\u001b[1;32m     10\u001b[0m            \u001b[38;5;124m\"\u001b[39m\u001b[38;5;124mset_palette\u001b[39m\u001b[38;5;124m\"\u001b[39m]\n\u001b[1;32m     13\u001b[0m _style_keys \u001b[38;5;241m=\u001b[39m [\n\u001b[1;32m     14\u001b[0m \n\u001b[1;32m     15\u001b[0m     \u001b[38;5;124m\"\u001b[39m\u001b[38;5;124maxes.facecolor\u001b[39m\u001b[38;5;124m\"\u001b[39m,\n\u001b[0;32m   (...)\u001b[0m\n\u001b[1;32m     50\u001b[0m \n\u001b[1;32m     51\u001b[0m ]\n",
      "File \u001b[0;32m~/anaconda3/envs/Text_Mining/lib/python3.10/site-packages/seaborn/palettes.py:9\u001b[0m\n\u001b[1;32m      5\u001b[0m \u001b[38;5;28;01mimport\u001b[39;00m \u001b[38;5;21;01mmatplotlib\u001b[39;00m \u001b[38;5;28;01mas\u001b[39;00m \u001b[38;5;21;01mmpl\u001b[39;00m\n\u001b[1;32m      7\u001b[0m \u001b[38;5;28;01mfrom\u001b[39;00m \u001b[38;5;21;01m.\u001b[39;00m\u001b[38;5;21;01mexternal\u001b[39;00m \u001b[38;5;28;01mimport\u001b[39;00m husl\n\u001b[0;32m----> 9\u001b[0m \u001b[38;5;28;01mfrom\u001b[39;00m \u001b[38;5;21;01m.\u001b[39;00m\u001b[38;5;21;01mutils\u001b[39;00m \u001b[38;5;28;01mimport\u001b[39;00m desaturate, get_color_cycle\n\u001b[1;32m     10\u001b[0m \u001b[38;5;28;01mfrom\u001b[39;00m \u001b[38;5;21;01m.\u001b[39;00m\u001b[38;5;21;01mcolors\u001b[39;00m \u001b[38;5;28;01mimport\u001b[39;00m xkcd_rgb, crayons\n\u001b[1;32m     11\u001b[0m \u001b[38;5;28;01mfrom\u001b[39;00m \u001b[38;5;21;01m.\u001b[39;00m\u001b[38;5;21;01m_compat\u001b[39;00m \u001b[38;5;28;01mimport\u001b[39;00m get_colormap\n",
      "File \u001b[0;32m~/anaconda3/envs/Text_Mining/lib/python3.10/site-packages/seaborn/utils.py:14\u001b[0m\n\u001b[1;32m     12\u001b[0m \u001b[38;5;28;01mimport\u001b[39;00m \u001b[38;5;21;01mmatplotlib\u001b[39;00m \u001b[38;5;28;01mas\u001b[39;00m \u001b[38;5;21;01mmpl\u001b[39;00m\n\u001b[1;32m     13\u001b[0m \u001b[38;5;28;01mfrom\u001b[39;00m \u001b[38;5;21;01mmatplotlib\u001b[39;00m\u001b[38;5;21;01m.\u001b[39;00m\u001b[38;5;21;01mcolors\u001b[39;00m \u001b[38;5;28;01mimport\u001b[39;00m to_rgb\n\u001b[0;32m---> 14\u001b[0m \u001b[38;5;28;01mimport\u001b[39;00m \u001b[38;5;21;01mmatplotlib\u001b[39;00m\u001b[38;5;21;01m.\u001b[39;00m\u001b[38;5;21;01mpyplot\u001b[39;00m \u001b[38;5;28;01mas\u001b[39;00m \u001b[38;5;21;01mplt\u001b[39;00m\n\u001b[1;32m     15\u001b[0m \u001b[38;5;28;01mfrom\u001b[39;00m \u001b[38;5;21;01mmatplotlib\u001b[39;00m\u001b[38;5;21;01m.\u001b[39;00m\u001b[38;5;21;01mcbook\u001b[39;00m \u001b[38;5;28;01mimport\u001b[39;00m normalize_kwargs\n\u001b[1;32m     17\u001b[0m \u001b[38;5;28;01mfrom\u001b[39;00m \u001b[38;5;21;01mseaborn\u001b[39;00m\u001b[38;5;21;01m.\u001b[39;00m\u001b[38;5;21;01m_core\u001b[39;00m\u001b[38;5;21;01m.\u001b[39;00m\u001b[38;5;21;01mtyping\u001b[39;00m \u001b[38;5;28;01mimport\u001b[39;00m deprecated\n",
      "File \u001b[0;32m~/anaconda3/envs/Text_Mining/lib/python3.10/site-packages/matplotlib/pyplot.py:66\u001b[0m\n\u001b[1;32m     63\u001b[0m \u001b[38;5;28;01mfrom\u001b[39;00m \u001b[38;5;21;01mmatplotlib\u001b[39;00m \u001b[38;5;28;01mimport\u001b[39;00m _docstring\n\u001b[1;32m     64\u001b[0m \u001b[38;5;28;01mfrom\u001b[39;00m \u001b[38;5;21;01mmatplotlib\u001b[39;00m\u001b[38;5;21;01m.\u001b[39;00m\u001b[38;5;21;01mbackend_bases\u001b[39;00m \u001b[38;5;28;01mimport\u001b[39;00m (\n\u001b[1;32m     65\u001b[0m     FigureCanvasBase, FigureManagerBase, MouseButton)\n\u001b[0;32m---> 66\u001b[0m \u001b[38;5;28;01mfrom\u001b[39;00m \u001b[38;5;21;01mmatplotlib\u001b[39;00m\u001b[38;5;21;01m.\u001b[39;00m\u001b[38;5;21;01mfigure\u001b[39;00m \u001b[38;5;28;01mimport\u001b[39;00m Figure, FigureBase, figaspect\n\u001b[1;32m     67\u001b[0m \u001b[38;5;28;01mfrom\u001b[39;00m \u001b[38;5;21;01mmatplotlib\u001b[39;00m\u001b[38;5;21;01m.\u001b[39;00m\u001b[38;5;21;01mgridspec\u001b[39;00m \u001b[38;5;28;01mimport\u001b[39;00m GridSpec, SubplotSpec\n\u001b[1;32m     68\u001b[0m \u001b[38;5;28;01mfrom\u001b[39;00m \u001b[38;5;21;01mmatplotlib\u001b[39;00m \u001b[38;5;28;01mimport\u001b[39;00m rcsetup, rcParamsDefault, rcParamsOrig\n",
      "File \u001b[0;32m~/anaconda3/envs/Text_Mining/lib/python3.10/site-packages/matplotlib/figure.py:43\u001b[0m\n\u001b[1;32m     40\u001b[0m \u001b[38;5;28;01mimport\u001b[39;00m \u001b[38;5;21;01mnumpy\u001b[39;00m \u001b[38;5;28;01mas\u001b[39;00m \u001b[38;5;21;01mnp\u001b[39;00m\n\u001b[1;32m     42\u001b[0m \u001b[38;5;28;01mimport\u001b[39;00m \u001b[38;5;21;01mmatplotlib\u001b[39;00m \u001b[38;5;28;01mas\u001b[39;00m \u001b[38;5;21;01mmpl\u001b[39;00m\n\u001b[0;32m---> 43\u001b[0m \u001b[38;5;28;01mfrom\u001b[39;00m \u001b[38;5;21;01mmatplotlib\u001b[39;00m \u001b[38;5;28;01mimport\u001b[39;00m _blocking_input, backend_bases, _docstring, projections\n\u001b[1;32m     44\u001b[0m \u001b[38;5;28;01mfrom\u001b[39;00m \u001b[38;5;21;01mmatplotlib\u001b[39;00m\u001b[38;5;21;01m.\u001b[39;00m\u001b[38;5;21;01martist\u001b[39;00m \u001b[38;5;28;01mimport\u001b[39;00m (\n\u001b[1;32m     45\u001b[0m     Artist, allow_rasterization, _finalize_rasterization)\n\u001b[1;32m     46\u001b[0m \u001b[38;5;28;01mfrom\u001b[39;00m \u001b[38;5;21;01mmatplotlib\u001b[39;00m\u001b[38;5;21;01m.\u001b[39;00m\u001b[38;5;21;01mbackend_bases\u001b[39;00m \u001b[38;5;28;01mimport\u001b[39;00m (\n\u001b[1;32m     47\u001b[0m     DrawEvent, FigureCanvasBase, NonGuiException, MouseButton, _get_renderer)\n",
      "File \u001b[0;32m~/anaconda3/envs/Text_Mining/lib/python3.10/site-packages/matplotlib/projections/__init__.py:55\u001b[0m\n\u001b[1;32m      1\u001b[0m \u001b[38;5;124;03m\"\"\"\u001b[39;00m\n\u001b[1;32m      2\u001b[0m \u001b[38;5;124;03mNon-separable transforms that map from data space to screen space.\u001b[39;00m\n\u001b[1;32m      3\u001b[0m \n\u001b[0;32m   (...)\u001b[0m\n\u001b[1;32m     52\u001b[0m \u001b[38;5;124;03m`matplotlib.projections.polar` may also be of interest.\u001b[39;00m\n\u001b[1;32m     53\u001b[0m \u001b[38;5;124;03m\"\"\"\u001b[39;00m\n\u001b[0;32m---> 55\u001b[0m \u001b[38;5;28;01mfrom\u001b[39;00m \u001b[38;5;21;01m.\u001b[39;00m\u001b[38;5;21;01m.\u001b[39;00m \u001b[38;5;28;01mimport\u001b[39;00m axes, _docstring\n\u001b[1;32m     56\u001b[0m \u001b[38;5;28;01mfrom\u001b[39;00m \u001b[38;5;21;01m.\u001b[39;00m\u001b[38;5;21;01mgeo\u001b[39;00m \u001b[38;5;28;01mimport\u001b[39;00m AitoffAxes, HammerAxes, LambertAxes, MollweideAxes\n\u001b[1;32m     57\u001b[0m \u001b[38;5;28;01mfrom\u001b[39;00m \u001b[38;5;21;01m.\u001b[39;00m\u001b[38;5;21;01mpolar\u001b[39;00m \u001b[38;5;28;01mimport\u001b[39;00m PolarAxes\n",
      "File \u001b[0;32m~/anaconda3/envs/Text_Mining/lib/python3.10/site-packages/matplotlib/axes/__init__.py:2\u001b[0m\n\u001b[1;32m      1\u001b[0m \u001b[38;5;28;01mfrom\u001b[39;00m \u001b[38;5;21;01m.\u001b[39;00m \u001b[38;5;28;01mimport\u001b[39;00m _base\n\u001b[0;32m----> 2\u001b[0m \u001b[38;5;28;01mfrom\u001b[39;00m \u001b[38;5;21;01m.\u001b[39;00m\u001b[38;5;21;01m_axes\u001b[39;00m \u001b[38;5;28;01mimport\u001b[39;00m \u001b[38;5;241m*\u001b[39m\n\u001b[1;32m      4\u001b[0m \u001b[38;5;66;03m# Backcompat.\u001b[39;00m\n\u001b[1;32m      5\u001b[0m \u001b[38;5;28;01mfrom\u001b[39;00m \u001b[38;5;21;01m.\u001b[39;00m\u001b[38;5;21;01m_axes\u001b[39;00m \u001b[38;5;28;01mimport\u001b[39;00m Axes \u001b[38;5;28;01mas\u001b[39;00m Subplot\n",
      "File \u001b[0;32m~/anaconda3/envs/Text_Mining/lib/python3.10/site-packages/matplotlib/axes/_axes.py:24\u001b[0m\n\u001b[1;32m     22\u001b[0m \u001b[38;5;28;01mimport\u001b[39;00m \u001b[38;5;21;01mmatplotlib\u001b[39;00m\u001b[38;5;21;01m.\u001b[39;00m\u001b[38;5;21;01mpatches\u001b[39;00m \u001b[38;5;28;01mas\u001b[39;00m \u001b[38;5;21;01mmpatches\u001b[39;00m\n\u001b[1;32m     23\u001b[0m \u001b[38;5;28;01mimport\u001b[39;00m \u001b[38;5;21;01mmatplotlib\u001b[39;00m\u001b[38;5;21;01m.\u001b[39;00m\u001b[38;5;21;01mpath\u001b[39;00m \u001b[38;5;28;01mas\u001b[39;00m \u001b[38;5;21;01mmpath\u001b[39;00m\n\u001b[0;32m---> 24\u001b[0m \u001b[38;5;28;01mimport\u001b[39;00m \u001b[38;5;21;01mmatplotlib\u001b[39;00m\u001b[38;5;21;01m.\u001b[39;00m\u001b[38;5;21;01mquiver\u001b[39;00m \u001b[38;5;28;01mas\u001b[39;00m \u001b[38;5;21;01mmquiver\u001b[39;00m\n\u001b[1;32m     25\u001b[0m \u001b[38;5;28;01mimport\u001b[39;00m \u001b[38;5;21;01mmatplotlib\u001b[39;00m\u001b[38;5;21;01m.\u001b[39;00m\u001b[38;5;21;01mstackplot\u001b[39;00m \u001b[38;5;28;01mas\u001b[39;00m \u001b[38;5;21;01mmstack\u001b[39;00m\n\u001b[1;32m     26\u001b[0m \u001b[38;5;28;01mimport\u001b[39;00m \u001b[38;5;21;01mmatplotlib\u001b[39;00m\u001b[38;5;21;01m.\u001b[39;00m\u001b[38;5;21;01mstreamplot\u001b[39;00m \u001b[38;5;28;01mas\u001b[39;00m \u001b[38;5;21;01mmstream\u001b[39;00m\n",
      "File \u001b[0;32m~/anaconda3/envs/Text_Mining/lib/python3.10/site-packages/matplotlib/quiver.py:30\u001b[0m\n\u001b[1;32m     26\u001b[0m \u001b[38;5;28;01mimport\u001b[39;00m \u001b[38;5;21;01mmatplotlib\u001b[39;00m\u001b[38;5;21;01m.\u001b[39;00m\u001b[38;5;21;01mtext\u001b[39;00m \u001b[38;5;28;01mas\u001b[39;00m \u001b[38;5;21;01mmtext\u001b[39;00m\n\u001b[1;32m     27\u001b[0m \u001b[38;5;28;01mimport\u001b[39;00m \u001b[38;5;21;01mmatplotlib\u001b[39;00m\u001b[38;5;21;01m.\u001b[39;00m\u001b[38;5;21;01mtransforms\u001b[39;00m \u001b[38;5;28;01mas\u001b[39;00m \u001b[38;5;21;01mtransforms\u001b[39;00m\n\u001b[0;32m---> 30\u001b[0m _quiver_doc \u001b[38;5;241m=\u001b[39m \u001b[38;5;124;43m\"\"\"\u001b[39;49m\n\u001b[1;32m     31\u001b[0m \u001b[38;5;124;43mPlot a 2D field of arrows.\u001b[39;49m\n\u001b[1;32m     32\u001b[0m \n\u001b[1;32m     33\u001b[0m \u001b[38;5;124;43mCall signature::\u001b[39;49m\n\u001b[1;32m     34\u001b[0m \n\u001b[1;32m     35\u001b[0m \u001b[38;5;124;43m  quiver([X, Y], U, V, [C], **kwargs)\u001b[39;49m\n\u001b[1;32m     36\u001b[0m \n\u001b[1;32m     37\u001b[0m \u001b[38;5;124;43m*X*, *Y* define the arrow locations, *U*, *V* define the arrow directions, and\u001b[39;49m\n\u001b[1;32m     38\u001b[0m \u001b[38;5;124;43m*C* optionally sets the color.\u001b[39;49m\n\u001b[1;32m     39\u001b[0m \n\u001b[1;32m     40\u001b[0m \u001b[38;5;124;43m**Arrow length**\u001b[39;49m\n\u001b[1;32m     41\u001b[0m \n\u001b[1;32m     42\u001b[0m \u001b[38;5;124;43mThe default settings auto-scales the length of the arrows to a reasonable size.\u001b[39;49m\n\u001b[1;32m     43\u001b[0m \u001b[38;5;124;43mTo change this behavior see the *scale* and *scale_units* parameters.\u001b[39;49m\n\u001b[1;32m     44\u001b[0m \n\u001b[1;32m     45\u001b[0m \u001b[38;5;124;43m**Arrow shape**\u001b[39;49m\n\u001b[1;32m     46\u001b[0m \n\u001b[1;32m     47\u001b[0m \u001b[38;5;124;43mThe arrow shape is determined by *width*, *headwidth*, *headlength* and\u001b[39;49m\n\u001b[1;32m     48\u001b[0m \u001b[38;5;124;43m*headaxislength*. See the notes below.\u001b[39;49m\n\u001b[1;32m     49\u001b[0m \n\u001b[1;32m     50\u001b[0m \u001b[38;5;124;43m**Arrow styling**\u001b[39;49m\n\u001b[1;32m     51\u001b[0m \n\u001b[1;32m     52\u001b[0m \u001b[38;5;124;43mEach arrow is internally represented by a filled polygon with a default edge\u001b[39;49m\n\u001b[1;32m     53\u001b[0m \u001b[38;5;124;43mlinewidth of 0. As a result, an arrow is rather a filled area, not a line with\u001b[39;49m\n\u001b[1;32m     54\u001b[0m \u001b[38;5;124;43ma head, and `.PolyCollection` properties like *linewidth*, *edgecolor*,\u001b[39;49m\n\u001b[1;32m     55\u001b[0m \u001b[38;5;124;43m*facecolor*, etc. act accordingly.\u001b[39;49m\n\u001b[1;32m     56\u001b[0m \n\u001b[1;32m     57\u001b[0m \n\u001b[1;32m     58\u001b[0m \u001b[38;5;124;43mParameters\u001b[39;49m\n\u001b[1;32m     59\u001b[0m \u001b[38;5;124;43m----------\u001b[39;49m\n\u001b[1;32m     60\u001b[0m \u001b[38;5;124;43mX, Y : 1D or 2D array-like, optional\u001b[39;49m\n\u001b[1;32m     61\u001b[0m \u001b[38;5;124;43m    The x and y coordinates of the arrow locations.\u001b[39;49m\n\u001b[1;32m     62\u001b[0m \n\u001b[1;32m     63\u001b[0m \u001b[38;5;124;43m    If not given, they will be generated as a uniform integer meshgrid based\u001b[39;49m\n\u001b[1;32m     64\u001b[0m \u001b[38;5;124;43m    on the dimensions of *U* and *V*.\u001b[39;49m\n\u001b[1;32m     65\u001b[0m \n\u001b[1;32m     66\u001b[0m \u001b[38;5;124;43m    If *X* and *Y* are 1D but *U*, *V* are 2D, *X*, *Y* are expanded to 2D\u001b[39;49m\n\u001b[1;32m     67\u001b[0m \u001b[38;5;124;43m    using ``X, Y = np.meshgrid(X, Y)``. In this case ``len(X)`` and ``len(Y)``\u001b[39;49m\n\u001b[1;32m     68\u001b[0m \u001b[38;5;124;43m    must match the column and row dimensions of *U* and *V*.\u001b[39;49m\n\u001b[1;32m     69\u001b[0m \n\u001b[1;32m     70\u001b[0m \u001b[38;5;124;43mU, V : 1D or 2D array-like\u001b[39;49m\n\u001b[1;32m     71\u001b[0m \u001b[38;5;124;43m    The x and y direction components of the arrow vectors. The interpretation\u001b[39;49m\n\u001b[1;32m     72\u001b[0m \u001b[38;5;124;43m    of these components (in data or in screen space) depends on *angles*.\u001b[39;49m\n\u001b[1;32m     73\u001b[0m \n\u001b[1;32m     74\u001b[0m \u001b[38;5;124;43m    *U* and *V* must have the same number of elements, matching the number of\u001b[39;49m\n\u001b[1;32m     75\u001b[0m \u001b[38;5;124;43m    arrow locations in  *X*, *Y*. *U* and *V* may be masked. Locations masked\u001b[39;49m\n\u001b[1;32m     76\u001b[0m \u001b[38;5;124;43m    in any of *U*, *V*, and *C* will not be drawn.\u001b[39;49m\n\u001b[1;32m     77\u001b[0m \n\u001b[1;32m     78\u001b[0m \u001b[38;5;124;43mC : 1D or 2D array-like, optional\u001b[39;49m\n\u001b[1;32m     79\u001b[0m \u001b[38;5;124;43m    Numeric data that defines the arrow colors by colormapping via *norm* and\u001b[39;49m\n\u001b[1;32m     80\u001b[0m \u001b[38;5;124;43m    *cmap*.\u001b[39;49m\n\u001b[1;32m     81\u001b[0m \n\u001b[1;32m     82\u001b[0m \u001b[38;5;124;43m    This does not support explicit colors. If you want to set colors directly,\u001b[39;49m\n\u001b[1;32m     83\u001b[0m \u001b[38;5;124;43m    use *color* instead.  The size of *C* must match the number of arrow\u001b[39;49m\n\u001b[1;32m     84\u001b[0m \u001b[38;5;124;43m    locations.\u001b[39;49m\n\u001b[1;32m     85\u001b[0m \n\u001b[1;32m     86\u001b[0m \u001b[38;5;124;43mangles : \u001b[39;49m\u001b[38;5;124;43m{\u001b[39;49m\u001b[38;5;124;43m'\u001b[39;49m\u001b[38;5;124;43muv\u001b[39;49m\u001b[38;5;124;43m'\u001b[39;49m\u001b[38;5;124;43m, \u001b[39;49m\u001b[38;5;124;43m'\u001b[39;49m\u001b[38;5;124;43mxy\u001b[39;49m\u001b[38;5;124;43m'\u001b[39;49m\u001b[38;5;124;43m} or array-like, default: \u001b[39;49m\u001b[38;5;124;43m'\u001b[39;49m\u001b[38;5;124;43muv\u001b[39;49m\u001b[38;5;124;43m'\u001b[39;49m\n\u001b[1;32m     87\u001b[0m \u001b[38;5;124;43m    Method for determining the angle of the arrows.\u001b[39;49m\n\u001b[1;32m     88\u001b[0m \n\u001b[1;32m     89\u001b[0m \u001b[38;5;124;43m    - \u001b[39;49m\u001b[38;5;124;43m'\u001b[39;49m\u001b[38;5;124;43muv\u001b[39;49m\u001b[38;5;124;43m'\u001b[39;49m\u001b[38;5;124;43m: Arrow direction in screen coordinates. Use this if the arrows\u001b[39;49m\n\u001b[1;32m     90\u001b[0m \u001b[38;5;124;43m      symbolize a quantity that is not based on *X*, *Y* data coordinates.\u001b[39;49m\n\u001b[1;32m     91\u001b[0m \n\u001b[1;32m     92\u001b[0m \u001b[38;5;124;43m      If *U* == *V* the orientation of the arrow on the plot is 45 degrees\u001b[39;49m\n\u001b[1;32m     93\u001b[0m \u001b[38;5;124;43m      counter-clockwise from the  horizontal axis (positive to the right).\u001b[39;49m\n\u001b[1;32m     94\u001b[0m \n\u001b[1;32m     95\u001b[0m \u001b[38;5;124;43m    - \u001b[39;49m\u001b[38;5;124;43m'\u001b[39;49m\u001b[38;5;124;43mxy\u001b[39;49m\u001b[38;5;124;43m'\u001b[39;49m\u001b[38;5;124;43m: Arrow direction in data coordinates, i.e. the arrows point from\u001b[39;49m\n\u001b[1;32m     96\u001b[0m \u001b[38;5;124;43m      (x, y) to (x+u, y+v). Use this e.g. for plotting a gradient field.\u001b[39;49m\n\u001b[1;32m     97\u001b[0m \n\u001b[1;32m     98\u001b[0m \u001b[38;5;124;43m    - Arbitrary angles may be specified explicitly as an array of values\u001b[39;49m\n\u001b[1;32m     99\u001b[0m \u001b[38;5;124;43m      in degrees, counter-clockwise from the horizontal axis.\u001b[39;49m\n\u001b[1;32m    100\u001b[0m \n\u001b[1;32m    101\u001b[0m \u001b[38;5;124;43m      In this case *U*, *V* is only used to determine the length of the\u001b[39;49m\n\u001b[1;32m    102\u001b[0m \u001b[38;5;124;43m      arrows.\u001b[39;49m\n\u001b[1;32m    103\u001b[0m \n\u001b[1;32m    104\u001b[0m \u001b[38;5;124;43m    Note: inverting a data axis will correspondingly invert the\u001b[39;49m\n\u001b[1;32m    105\u001b[0m \u001b[38;5;124;43m    arrows only with ``angles=\u001b[39;49m\u001b[38;5;124;43m'\u001b[39;49m\u001b[38;5;124;43mxy\u001b[39;49m\u001b[38;5;124;43m'\u001b[39;49m\u001b[38;5;124;43m``.\u001b[39;49m\n\u001b[1;32m    106\u001b[0m \n\u001b[1;32m    107\u001b[0m \u001b[38;5;124;43mpivot : \u001b[39;49m\u001b[38;5;124;43m{\u001b[39;49m\u001b[38;5;124;43m'\u001b[39;49m\u001b[38;5;124;43mtail\u001b[39;49m\u001b[38;5;124;43m'\u001b[39;49m\u001b[38;5;124;43m, \u001b[39;49m\u001b[38;5;124;43m'\u001b[39;49m\u001b[38;5;124;43mmid\u001b[39;49m\u001b[38;5;124;43m'\u001b[39;49m\u001b[38;5;124;43m, \u001b[39;49m\u001b[38;5;124;43m'\u001b[39;49m\u001b[38;5;124;43mmiddle\u001b[39;49m\u001b[38;5;124;43m'\u001b[39;49m\u001b[38;5;124;43m, \u001b[39;49m\u001b[38;5;124;43m'\u001b[39;49m\u001b[38;5;124;43mtip\u001b[39;49m\u001b[38;5;124;43m'\u001b[39;49m\u001b[38;5;124;43m}, default: \u001b[39;49m\u001b[38;5;124;43m'\u001b[39;49m\u001b[38;5;124;43mtail\u001b[39;49m\u001b[38;5;124;43m'\u001b[39;49m\n\u001b[1;32m    108\u001b[0m \u001b[38;5;124;43m    The part of the arrow that is anchored to the *X*, *Y* grid. The arrow\u001b[39;49m\n\u001b[1;32m    109\u001b[0m \u001b[38;5;124;43m    rotates about this point.\u001b[39;49m\n\u001b[1;32m    110\u001b[0m \n\u001b[1;32m    111\u001b[0m \u001b[38;5;124;43m    \u001b[39;49m\u001b[38;5;124;43m'\u001b[39;49m\u001b[38;5;124;43mmid\u001b[39;49m\u001b[38;5;124;43m'\u001b[39;49m\u001b[38;5;124;43m is a synonym for \u001b[39;49m\u001b[38;5;124;43m'\u001b[39;49m\u001b[38;5;124;43mmiddle\u001b[39;49m\u001b[38;5;124;43m'\u001b[39;49m\u001b[38;5;124;43m.\u001b[39;49m\n\u001b[1;32m    112\u001b[0m \n\u001b[1;32m    113\u001b[0m \u001b[38;5;124;43mscale : float, optional\u001b[39;49m\n\u001b[1;32m    114\u001b[0m \u001b[38;5;124;43m    Scales the length of the arrow inversely.\u001b[39;49m\n\u001b[1;32m    115\u001b[0m \n\u001b[1;32m    116\u001b[0m \u001b[38;5;124;43m    Number of data units per arrow length unit, e.g., m/s per plot width; a\u001b[39;49m\n\u001b[1;32m    117\u001b[0m \u001b[38;5;124;43m    smaller scale parameter makes the arrow longer. Default is *None*.\u001b[39;49m\n\u001b[1;32m    118\u001b[0m \n\u001b[1;32m    119\u001b[0m \u001b[38;5;124;43m    If *None*, a simple autoscaling algorithm is used, based on the average\u001b[39;49m\n\u001b[1;32m    120\u001b[0m \u001b[38;5;124;43m    vector length and the number of vectors. The arrow length unit is given by\u001b[39;49m\n\u001b[1;32m    121\u001b[0m \u001b[38;5;124;43m    the *scale_units* parameter.\u001b[39;49m\n\u001b[1;32m    122\u001b[0m \n\u001b[1;32m    123\u001b[0m \u001b[38;5;124;43mscale_units : \u001b[39;49m\u001b[38;5;124;43m{\u001b[39;49m\u001b[38;5;124;43m'\u001b[39;49m\u001b[38;5;124;43mwidth\u001b[39;49m\u001b[38;5;124;43m'\u001b[39;49m\u001b[38;5;124;43m, \u001b[39;49m\u001b[38;5;124;43m'\u001b[39;49m\u001b[38;5;124;43mheight\u001b[39;49m\u001b[38;5;124;43m'\u001b[39;49m\u001b[38;5;124;43m, \u001b[39;49m\u001b[38;5;124;43m'\u001b[39;49m\u001b[38;5;124;43mdots\u001b[39;49m\u001b[38;5;124;43m'\u001b[39;49m\u001b[38;5;124;43m, \u001b[39;49m\u001b[38;5;124;43m'\u001b[39;49m\u001b[38;5;124;43minches\u001b[39;49m\u001b[38;5;124;43m'\u001b[39;49m\u001b[38;5;124;43m, \u001b[39;49m\u001b[38;5;124;43m'\u001b[39;49m\u001b[38;5;124;43mx\u001b[39;49m\u001b[38;5;124;43m'\u001b[39;49m\u001b[38;5;124;43m, \u001b[39;49m\u001b[38;5;124;43m'\u001b[39;49m\u001b[38;5;124;43my\u001b[39;49m\u001b[38;5;124;43m'\u001b[39;49m\u001b[38;5;124;43m, \u001b[39;49m\u001b[38;5;124;43m'\u001b[39;49m\u001b[38;5;124;43mxy\u001b[39;49m\u001b[38;5;124;43m'\u001b[39;49m\u001b[38;5;124;43m}, optional\u001b[39;49m\n\u001b[1;32m    124\u001b[0m \u001b[38;5;124;43m    If the *scale* kwarg is *None*, the arrow length unit. Default is *None*.\u001b[39;49m\n\u001b[1;32m    125\u001b[0m \n\u001b[1;32m    126\u001b[0m \u001b[38;5;124;43m    e.g. *scale_units* is \u001b[39;49m\u001b[38;5;124;43m'\u001b[39;49m\u001b[38;5;124;43minches\u001b[39;49m\u001b[38;5;124;43m'\u001b[39;49m\u001b[38;5;124;43m, *scale* is 2.0, and ``(u, v) = (1, 0)``,\u001b[39;49m\n\u001b[1;32m    127\u001b[0m \u001b[38;5;124;43m    then the vector will be 0.5 inches long.\u001b[39;49m\n\u001b[1;32m    128\u001b[0m \n\u001b[1;32m    129\u001b[0m \u001b[38;5;124;43m    If *scale_units* is \u001b[39;49m\u001b[38;5;124;43m'\u001b[39;49m\u001b[38;5;124;43mwidth\u001b[39;49m\u001b[38;5;124;43m'\u001b[39;49m\u001b[38;5;124;43m or \u001b[39;49m\u001b[38;5;124;43m'\u001b[39;49m\u001b[38;5;124;43mheight\u001b[39;49m\u001b[38;5;124;43m'\u001b[39;49m\u001b[38;5;124;43m, then the vector will be half the\u001b[39;49m\n\u001b[1;32m    130\u001b[0m \u001b[38;5;124;43m    width/height of the axes.\u001b[39;49m\n\u001b[1;32m    131\u001b[0m \n\u001b[1;32m    132\u001b[0m \u001b[38;5;124;43m    If *scale_units* is \u001b[39;49m\u001b[38;5;124;43m'\u001b[39;49m\u001b[38;5;124;43mx\u001b[39;49m\u001b[38;5;124;43m'\u001b[39;49m\u001b[38;5;124;43m then the vector will be 0.5 x-axis\u001b[39;49m\n\u001b[1;32m    133\u001b[0m \u001b[38;5;124;43m    units. To plot vectors in the x-y plane, with u and v having\u001b[39;49m\n\u001b[1;32m    134\u001b[0m \u001b[38;5;124;43m    the same units as x and y, use\u001b[39;49m\n\u001b[1;32m    135\u001b[0m \u001b[38;5;124;43m    ``angles=\u001b[39;49m\u001b[38;5;124;43m'\u001b[39;49m\u001b[38;5;124;43mxy\u001b[39;49m\u001b[38;5;124;43m'\u001b[39;49m\u001b[38;5;124;43m, scale_units=\u001b[39;49m\u001b[38;5;124;43m'\u001b[39;49m\u001b[38;5;124;43mxy\u001b[39;49m\u001b[38;5;124;43m'\u001b[39;49m\u001b[38;5;124;43m, scale=1``.\u001b[39;49m\n\u001b[1;32m    136\u001b[0m \n\u001b[1;32m    137\u001b[0m \u001b[38;5;124;43munits : \u001b[39;49m\u001b[38;5;124;43m{\u001b[39;49m\u001b[38;5;124;43m'\u001b[39;49m\u001b[38;5;124;43mwidth\u001b[39;49m\u001b[38;5;124;43m'\u001b[39;49m\u001b[38;5;124;43m, \u001b[39;49m\u001b[38;5;124;43m'\u001b[39;49m\u001b[38;5;124;43mheight\u001b[39;49m\u001b[38;5;124;43m'\u001b[39;49m\u001b[38;5;124;43m, \u001b[39;49m\u001b[38;5;124;43m'\u001b[39;49m\u001b[38;5;124;43mdots\u001b[39;49m\u001b[38;5;124;43m'\u001b[39;49m\u001b[38;5;124;43m, \u001b[39;49m\u001b[38;5;124;43m'\u001b[39;49m\u001b[38;5;124;43minches\u001b[39;49m\u001b[38;5;124;43m'\u001b[39;49m\u001b[38;5;124;43m, \u001b[39;49m\u001b[38;5;124;43m'\u001b[39;49m\u001b[38;5;124;43mx\u001b[39;49m\u001b[38;5;124;43m'\u001b[39;49m\u001b[38;5;124;43m, \u001b[39;49m\u001b[38;5;124;43m'\u001b[39;49m\u001b[38;5;124;43my\u001b[39;49m\u001b[38;5;124;43m'\u001b[39;49m\u001b[38;5;124;43m, \u001b[39;49m\u001b[38;5;124;43m'\u001b[39;49m\u001b[38;5;124;43mxy\u001b[39;49m\u001b[38;5;124;43m'\u001b[39;49m\u001b[38;5;124;43m}, default: \u001b[39;49m\u001b[38;5;124;43m'\u001b[39;49m\u001b[38;5;124;43mwidth\u001b[39;49m\u001b[38;5;124;43m'\u001b[39;49m\n\u001b[1;32m    138\u001b[0m \u001b[38;5;124;43m    Affects the arrow size (except for the length). In particular, the shaft\u001b[39;49m\n\u001b[1;32m    139\u001b[0m \u001b[38;5;124;43m    *width* is measured in multiples of this unit.\u001b[39;49m\n\u001b[1;32m    140\u001b[0m \n\u001b[1;32m    141\u001b[0m \u001b[38;5;124;43m    Supported values are:\u001b[39;49m\n\u001b[1;32m    142\u001b[0m \n\u001b[1;32m    143\u001b[0m \u001b[38;5;124;43m    - \u001b[39;49m\u001b[38;5;124;43m'\u001b[39;49m\u001b[38;5;124;43mwidth\u001b[39;49m\u001b[38;5;124;43m'\u001b[39;49m\u001b[38;5;124;43m, \u001b[39;49m\u001b[38;5;124;43m'\u001b[39;49m\u001b[38;5;124;43mheight\u001b[39;49m\u001b[38;5;124;43m'\u001b[39;49m\u001b[38;5;124;43m: The width or height of the Axes.\u001b[39;49m\n\u001b[1;32m    144\u001b[0m \u001b[38;5;124;43m    - \u001b[39;49m\u001b[38;5;124;43m'\u001b[39;49m\u001b[38;5;124;43mdots\u001b[39;49m\u001b[38;5;124;43m'\u001b[39;49m\u001b[38;5;124;43m, \u001b[39;49m\u001b[38;5;124;43m'\u001b[39;49m\u001b[38;5;124;43minches\u001b[39;49m\u001b[38;5;124;43m'\u001b[39;49m\u001b[38;5;124;43m: Pixels or inches based on the figure dpi.\u001b[39;49m\n\u001b[1;32m    145\u001b[0m \u001b[38;5;124;43m    - \u001b[39;49m\u001b[38;5;124;43m'\u001b[39;49m\u001b[38;5;124;43mx\u001b[39;49m\u001b[38;5;124;43m'\u001b[39;49m\u001b[38;5;124;43m, \u001b[39;49m\u001b[38;5;124;43m'\u001b[39;49m\u001b[38;5;124;43my\u001b[39;49m\u001b[38;5;124;43m'\u001b[39;49m\u001b[38;5;124;43m, \u001b[39;49m\u001b[38;5;124;43m'\u001b[39;49m\u001b[38;5;124;43mxy\u001b[39;49m\u001b[38;5;124;43m'\u001b[39;49m\u001b[38;5;124;43m: *X*, *Y* or :math:`\u001b[39;49m\u001b[38;5;130;43;01m\\\\\u001b[39;49;00m\u001b[38;5;124;43msqrt\u001b[39;49m\u001b[38;5;124;43m{\u001b[39;49m\u001b[38;5;124;43mX^2 + Y^2}` in data units.\u001b[39;49m\n\u001b[1;32m    146\u001b[0m \n\u001b[1;32m    147\u001b[0m \u001b[38;5;124;43m    The following table summarizes how these values affect the visible arrow\u001b[39;49m\n\u001b[1;32m    148\u001b[0m \u001b[38;5;124;43m    size under zooming and figure size changes:\u001b[39;49m\n\u001b[1;32m    149\u001b[0m \n\u001b[1;32m    150\u001b[0m \u001b[38;5;124;43m    =================  =================   ==================\u001b[39;49m\n\u001b[1;32m    151\u001b[0m \u001b[38;5;124;43m    units              zoom                figure size change\u001b[39;49m\n\u001b[1;32m    152\u001b[0m \u001b[38;5;124;43m    =================  =================   ==================\u001b[39;49m\n\u001b[1;32m    153\u001b[0m \u001b[38;5;124;43m    \u001b[39;49m\u001b[38;5;124;43m'\u001b[39;49m\u001b[38;5;124;43mx\u001b[39;49m\u001b[38;5;124;43m'\u001b[39;49m\u001b[38;5;124;43m, \u001b[39;49m\u001b[38;5;124;43m'\u001b[39;49m\u001b[38;5;124;43my\u001b[39;49m\u001b[38;5;124;43m'\u001b[39;49m\u001b[38;5;124;43m, \u001b[39;49m\u001b[38;5;124;43m'\u001b[39;49m\u001b[38;5;124;43mxy\u001b[39;49m\u001b[38;5;124;43m'\u001b[39;49m\u001b[38;5;124;43m     arrow size scales   —\u001b[39;49m\n\u001b[1;32m    154\u001b[0m \u001b[38;5;124;43m    \u001b[39;49m\u001b[38;5;124;43m'\u001b[39;49m\u001b[38;5;124;43mwidth\u001b[39;49m\u001b[38;5;124;43m'\u001b[39;49m\u001b[38;5;124;43m, \u001b[39;49m\u001b[38;5;124;43m'\u001b[39;49m\u001b[38;5;124;43mheight\u001b[39;49m\u001b[38;5;124;43m'\u001b[39;49m\u001b[38;5;124;43m  —                   arrow size scales\u001b[39;49m\n\u001b[1;32m    155\u001b[0m \u001b[38;5;124;43m    \u001b[39;49m\u001b[38;5;124;43m'\u001b[39;49m\u001b[38;5;124;43mdots\u001b[39;49m\u001b[38;5;124;43m'\u001b[39;49m\u001b[38;5;124;43m, \u001b[39;49m\u001b[38;5;124;43m'\u001b[39;49m\u001b[38;5;124;43minches\u001b[39;49m\u001b[38;5;124;43m'\u001b[39;49m\u001b[38;5;124;43m   —                   —\u001b[39;49m\n\u001b[1;32m    156\u001b[0m \u001b[38;5;124;43m    =================  =================   ==================\u001b[39;49m\n\u001b[1;32m    157\u001b[0m \n\u001b[1;32m    158\u001b[0m \u001b[38;5;124;43mwidth : float, optional\u001b[39;49m\n\u001b[1;32m    159\u001b[0m \u001b[38;5;124;43m    Shaft width in arrow units. All head parameters are relative to *width*.\u001b[39;49m\n\u001b[1;32m    160\u001b[0m \n\u001b[1;32m    161\u001b[0m \u001b[38;5;124;43m    The default depends on choice of *units* above, and number of vectors;\u001b[39;49m\n\u001b[1;32m    162\u001b[0m \u001b[38;5;124;43m    a typical starting value is about 0.005 times the width of the plot.\u001b[39;49m\n\u001b[1;32m    163\u001b[0m \n\u001b[1;32m    164\u001b[0m \u001b[38;5;124;43mheadwidth : float, default: 3\u001b[39;49m\n\u001b[1;32m    165\u001b[0m \u001b[38;5;124;43m    Head width as multiple of shaft *width*. See the notes below.\u001b[39;49m\n\u001b[1;32m    166\u001b[0m \n\u001b[1;32m    167\u001b[0m \u001b[38;5;124;43mheadlength : float, default: 5\u001b[39;49m\n\u001b[1;32m    168\u001b[0m \u001b[38;5;124;43m    Head length as multiple of shaft *width*. See the notes below.\u001b[39;49m\n\u001b[1;32m    169\u001b[0m \n\u001b[1;32m    170\u001b[0m \u001b[38;5;124;43mheadaxislength : float, default: 4.5\u001b[39;49m\n\u001b[1;32m    171\u001b[0m \u001b[38;5;124;43m    Head length at shaft intersection as multiple of shaft *width*.\u001b[39;49m\n\u001b[1;32m    172\u001b[0m \u001b[38;5;124;43m    See the notes below.\u001b[39;49m\n\u001b[1;32m    173\u001b[0m \n\u001b[1;32m    174\u001b[0m \u001b[38;5;124;43mminshaft : float, default: 1\u001b[39;49m\n\u001b[1;32m    175\u001b[0m \u001b[38;5;124;43m    Length below which arrow scales, in units of head length. Do not\u001b[39;49m\n\u001b[1;32m    176\u001b[0m \u001b[38;5;124;43m    set this to less than 1, or small arrows will look terrible!\u001b[39;49m\n\u001b[1;32m    177\u001b[0m \n\u001b[1;32m    178\u001b[0m \u001b[38;5;124;43mminlength : float, default: 1\u001b[39;49m\n\u001b[1;32m    179\u001b[0m \u001b[38;5;124;43m    Minimum length as a multiple of shaft width; if an arrow length\u001b[39;49m\n\u001b[1;32m    180\u001b[0m \u001b[38;5;124;43m    is less than this, plot a dot (hexagon) of this diameter instead.\u001b[39;49m\n\u001b[1;32m    181\u001b[0m \n\u001b[1;32m    182\u001b[0m \u001b[38;5;124;43mcolor : color or color sequence, optional\u001b[39;49m\n\u001b[1;32m    183\u001b[0m \u001b[38;5;124;43m    Explicit color(s) for the arrows. If *C* has been set, *color* has no\u001b[39;49m\n\u001b[1;32m    184\u001b[0m \u001b[38;5;124;43m    effect.\u001b[39;49m\n\u001b[1;32m    185\u001b[0m \n\u001b[1;32m    186\u001b[0m \u001b[38;5;124;43m    This is a synonym for the `.PolyCollection` *facecolor* parameter.\u001b[39;49m\n\u001b[1;32m    187\u001b[0m \n\u001b[1;32m    188\u001b[0m \u001b[38;5;124;43mOther Parameters\u001b[39;49m\n\u001b[1;32m    189\u001b[0m \u001b[38;5;124;43m----------------\u001b[39;49m\n\u001b[1;32m    190\u001b[0m \u001b[38;5;124;43mdata : indexable object, optional\u001b[39;49m\n\u001b[1;32m    191\u001b[0m \u001b[38;5;124;43m    DATA_PARAMETER_PLACEHOLDER\u001b[39;49m\n\u001b[1;32m    192\u001b[0m \n\u001b[1;32m    193\u001b[0m \u001b[38;5;124;43m**kwargs : `~matplotlib.collections.PolyCollection` properties, optional\u001b[39;49m\n\u001b[1;32m    194\u001b[0m \u001b[38;5;124;43m    All other keyword arguments are passed on to `.PolyCollection`:\u001b[39;49m\n\u001b[1;32m    195\u001b[0m \n\u001b[1;32m    196\u001b[0m \u001b[38;5;124;43m    \u001b[39;49m\u001b[38;5;124;43m%\u001b[39;49m\u001b[38;5;124;43m(PolyCollection:kwdoc)s\u001b[39;49m\n\u001b[1;32m    197\u001b[0m \n\u001b[1;32m    198\u001b[0m \u001b[38;5;124;43mReturns\u001b[39;49m\n\u001b[1;32m    199\u001b[0m \u001b[38;5;124;43m-------\u001b[39;49m\n\u001b[1;32m    200\u001b[0m \u001b[38;5;124;43m`~matplotlib.quiver.Quiver`\u001b[39;49m\n\u001b[1;32m    201\u001b[0m \n\u001b[1;32m    202\u001b[0m \u001b[38;5;124;43mSee Also\u001b[39;49m\n\u001b[1;32m    203\u001b[0m \u001b[38;5;124;43m--------\u001b[39;49m\n\u001b[1;32m    204\u001b[0m \u001b[38;5;124;43m.Axes.quiverkey : Add a key to a quiver plot.\u001b[39;49m\n\u001b[1;32m    205\u001b[0m \n\u001b[1;32m    206\u001b[0m \u001b[38;5;124;43mNotes\u001b[39;49m\n\u001b[1;32m    207\u001b[0m \u001b[38;5;124;43m-----\u001b[39;49m\n\u001b[1;32m    208\u001b[0m \n\u001b[1;32m    209\u001b[0m \u001b[38;5;124;43m**Arrow shape**\u001b[39;49m\n\u001b[1;32m    210\u001b[0m \n\u001b[1;32m    211\u001b[0m \u001b[38;5;124;43mThe arrow is drawn as a polygon using the nodes as shown below. The values\u001b[39;49m\n\u001b[1;32m    212\u001b[0m \u001b[38;5;124;43m*headwidth*, *headlength*, and *headaxislength* are in units of *width*.\u001b[39;49m\n\u001b[1;32m    213\u001b[0m \n\u001b[1;32m    214\u001b[0m \u001b[38;5;124;43m.. image:: /_static/quiver_sizes.svg\u001b[39;49m\n\u001b[1;32m    215\u001b[0m \u001b[38;5;124;43m   :width: 500px\u001b[39;49m\n\u001b[1;32m    216\u001b[0m \n\u001b[1;32m    217\u001b[0m \u001b[38;5;124;43mThe defaults give a slightly swept-back arrow. Here are some guidelines how to\u001b[39;49m\n\u001b[1;32m    218\u001b[0m \u001b[38;5;124;43mget other head shapes:\u001b[39;49m\n\u001b[1;32m    219\u001b[0m \n\u001b[1;32m    220\u001b[0m \u001b[38;5;124;43m- To make the head a triangle, make *headaxislength* the same as *headlength*.\u001b[39;49m\n\u001b[1;32m    221\u001b[0m \u001b[38;5;124;43m- To make the arrow more pointed, reduce *headwidth* or increase *headlength*\u001b[39;49m\n\u001b[1;32m    222\u001b[0m \u001b[38;5;124;43m  and *headaxislength*.\u001b[39;49m\n\u001b[1;32m    223\u001b[0m \u001b[38;5;124;43m- To make the head smaller relative to the shaft, scale down all the head\u001b[39;49m\n\u001b[1;32m    224\u001b[0m \u001b[38;5;124;43m  parameters proportionally.\u001b[39;49m\n\u001b[1;32m    225\u001b[0m \u001b[38;5;124;43m- To remove the head completely, set all *head* parameters to 0.\u001b[39;49m\n\u001b[1;32m    226\u001b[0m \u001b[38;5;124;43m- To get a diamond-shaped head, make *headaxislength* larger than *headlength*.\u001b[39;49m\n\u001b[1;32m    227\u001b[0m \u001b[38;5;124;43m- Warning: For *headaxislength* < (*headlength* / *headwidth*), the \u001b[39;49m\u001b[38;5;124;43m\"\u001b[39;49m\u001b[38;5;124;43mheadaxis\u001b[39;49m\u001b[38;5;124;43m\"\u001b[39;49m\n\u001b[1;32m    228\u001b[0m \u001b[38;5;124;43m  nodes (i.e. the ones connecting the head with the shaft) will protrude out\u001b[39;49m\n\u001b[1;32m    229\u001b[0m \u001b[38;5;124;43m  of the head in forward direction so that the arrow head looks broken.\u001b[39;49m\n\u001b[1;32m    230\u001b[0m \u001b[38;5;124;43m\"\"\"\u001b[39;49m\u001b[43m \u001b[49m\u001b[38;5;241;43m%\u001b[39;49m\u001b[43m \u001b[49m\u001b[43m_docstring\u001b[49m\u001b[38;5;241;43m.\u001b[39;49m\u001b[43minterpd\u001b[49m\u001b[38;5;241;43m.\u001b[39;49m\u001b[43mparams\u001b[49m\n\u001b[1;32m    232\u001b[0m _docstring\u001b[38;5;241m.\u001b[39minterpd\u001b[38;5;241m.\u001b[39mupdate(quiver_doc\u001b[38;5;241m=\u001b[39m_quiver_doc)\n\u001b[1;32m    235\u001b[0m \u001b[38;5;28;01mclass\u001b[39;00m \u001b[38;5;21;01mQuiverKey\u001b[39;00m(martist\u001b[38;5;241m.\u001b[39mArtist):\n",
      "File \u001b[0;32m~/anaconda3/envs/Text_Mining/lib/python3.10/site-packages/matplotlib/_docstring.py:60\u001b[0m, in \u001b[0;36m_ArtistKwdocLoader.__missing__\u001b[0;34m(self, key)\u001b[0m\n\u001b[1;32m     57\u001b[0m     \u001b[38;5;28mcls\u001b[39m, \u001b[38;5;241m=\u001b[39m [\u001b[38;5;28mcls\u001b[39m \u001b[38;5;28;01mfor\u001b[39;00m \u001b[38;5;28mcls\u001b[39m \u001b[38;5;129;01min\u001b[39;00m _api\u001b[38;5;241m.\u001b[39mrecursive_subclasses(Artist)\n\u001b[1;32m     58\u001b[0m             \u001b[38;5;28;01mif\u001b[39;00m \u001b[38;5;28mcls\u001b[39m\u001b[38;5;241m.\u001b[39m\u001b[38;5;18m__name__\u001b[39m \u001b[38;5;241m==\u001b[39m name]\n\u001b[1;32m     59\u001b[0m \u001b[38;5;28;01mexcept\u001b[39;00m \u001b[38;5;167;01mValueError\u001b[39;00m \u001b[38;5;28;01mas\u001b[39;00m e:\n\u001b[0;32m---> 60\u001b[0m     \u001b[38;5;28;01mraise\u001b[39;00m \u001b[38;5;167;01mKeyError\u001b[39;00m(key) \u001b[38;5;28;01mfrom\u001b[39;00m \u001b[38;5;21;01me\u001b[39;00m\n\u001b[1;32m     61\u001b[0m \u001b[38;5;28;01mreturn\u001b[39;00m \u001b[38;5;28mself\u001b[39m\u001b[38;5;241m.\u001b[39msetdefault(key, kwdoc(\u001b[38;5;28mcls\u001b[39m))\n",
      "\u001b[0;31mKeyError\u001b[0m: 'PolyCollection:kwdoc'"
     ]
    }
   ],
   "source": [
    "import pandas as pd\n",
    "import numpy as np\n",
    "\n",
    "\n",
    "# profile report\n",
    "#from ydata_profiling import ProfileReport\n",
    "\n",
    "# visualisations\n",
    "import seaborn as sns\n",
    "import matplotlib.pyplot as plt\n",
    "\n",
    "# train test split\n",
    "from sklearn.model_selection import train_test_split\n",
    "\n",
    "# label encoder\n",
    "from sklearn.preprocessing import LabelEncoder\n",
    "\n",
    "# external functions file\n",
    "import functions as f\n",
    "\n",
    "\n",
    "pd.set_option('display.max_columns', None)\n",
    "\n",
    "import warnings\n",
    "warnings.filterwarnings(\"ignore\")"
   ]
  },
  {
   "cell_type": "code",
   "execution_count": null,
   "id": "98081a64",
   "metadata": {
    "ExecuteTime": {
     "end_time": "2024-10-26T15:02:41.631684Z",
     "start_time": "2024-10-26T15:02:41.631661Z"
    }
   },
   "outputs": [],
   "source": [
    "df = pd.read_csv('./project_data/train_data.csv', index_col = 'Claim Identifier')\n",
    "df.head(3)"
   ]
  },
  {
   "cell_type": "markdown",
   "id": "50563254",
   "metadata": {},
   "source": [
    "# 2. Exploratory Data Analysis\n",
    "\n",
    "<a href=\"#top\">Top &#129033;</a>"
   ]
  },
  {
   "cell_type": "code",
   "execution_count": null,
   "id": "64c3cf16",
   "metadata": {
    "ExecuteTime": {
     "end_time": "2024-10-26T15:02:41.634055Z",
     "start_time": "2024-10-26T15:02:41.634023Z"
    }
   },
   "outputs": [],
   "source": [
    "df.describe(include='object').T"
   ]
  },
  {
   "cell_type": "code",
   "execution_count": null,
   "id": "79851f43",
   "metadata": {
    "ExecuteTime": {
     "end_time": "2024-10-26T15:02:41.636664Z",
     "start_time": "2024-10-26T15:02:41.636641Z"
    }
   },
   "outputs": [],
   "source": [
    "df.describe().T"
   ]
  },
  {
   "cell_type": "code",
   "execution_count": null,
   "id": "1f2b9559",
   "metadata": {
    "ExecuteTime": {
     "end_time": "2024-10-26T15:02:41.638340Z",
     "start_time": "2024-10-26T15:02:41.638321Z"
    }
   },
   "outputs": [],
   "source": [
    "df.shape"
   ]
  },
  {
   "cell_type": "code",
   "execution_count": null,
   "id": "4f985142",
   "metadata": {
    "ExecuteTime": {
     "end_time": "2024-10-26T15:02:41.640486Z",
     "start_time": "2024-10-26T15:02:41.640464Z"
    }
   },
   "outputs": [],
   "source": [
    "df.info()"
   ]
  },
  {
   "cell_type": "markdown",
   "id": "b6055085",
   "metadata": {},
   "source": [
    "**Correlation matrix**"
   ]
  },
  {
   "cell_type": "code",
   "execution_count": null,
   "id": "fd527f47",
   "metadata": {
    "ExecuteTime": {
     "end_time": "2024-10-26T15:02:41.643272Z",
     "start_time": "2024-10-26T15:02:41.643250Z"
    }
   },
   "outputs": [],
   "source": [
    "# drop column always missing\n",
    "temp = df.drop('OIICS Nature of Injury Description', axis = 1)\n",
    "\n",
    "# drop na\n",
    "temp = temp.dropna()\n",
    "\n",
    "# select numbers\n",
    "corr_data = temp.select_dtypes(include=['number'])\n",
    "\n",
    "correlation_matrix = corr_data.corr(method='spearman') # pearson by default\n",
    "\n",
    "plt.figure(figsize=(10, 8))\n",
    "sns.heatmap(correlation_matrix, annot=True, cmap='Blues', linewidths=0.1)\n",
    "plt.show()"
   ]
  },
  {
   "cell_type": "markdown",
   "id": "ec2c231d",
   "metadata": {},
   "source": [
    "**Unique Values**"
   ]
  },
  {
   "cell_type": "code",
   "execution_count": null,
   "id": "0600bd76",
   "metadata": {
    "ExecuteTime": {
     "end_time": "2024-10-26T15:02:41.645946Z",
     "start_time": "2024-10-26T15:02:41.645914Z"
    },
    "scrolled": true
   },
   "outputs": [],
   "source": [
    "for column in df.columns:\n",
    "    \n",
    "    if df[column].nunique() < 20:\n",
    "        \n",
    "        print(f\"Unique values in '{column}': {df[column].unique()}\")\n",
    "        print(df[column].nunique(), '\\n')"
   ]
  },
  {
   "cell_type": "markdown",
   "id": "bb332470",
   "metadata": {},
   "source": [
    "## 2.2 Incoherencies\n",
    "\n",
    "<a href=\"#top\">Top &#129033;</a>"
   ]
  },
  {
   "cell_type": "markdown",
   "id": "36c503fb",
   "metadata": {},
   "source": [
    "**Age at Injury**\n",
    "\n",
    "very high max values"
   ]
  },
  {
   "cell_type": "code",
   "execution_count": null,
   "id": "a3cd8837",
   "metadata": {
    "ExecuteTime": {
     "end_time": "2024-10-26T15:02:41.648291Z",
     "start_time": "2024-10-26T15:02:41.648270Z"
    }
   },
   "outputs": [],
   "source": [
    "df[df['Age at Injury'] > 100]"
   ]
  },
  {
   "cell_type": "code",
   "execution_count": null,
   "id": "d0f1d5bc",
   "metadata": {
    "ExecuteTime": {
     "end_time": "2024-10-26T15:02:41.650370Z",
     "start_time": "2024-10-26T15:02:41.650351Z"
    }
   },
   "outputs": [],
   "source": [
    "f.plot_histogram(df['Age at Injury'], 'Age', 'Frequency',\n",
    "                'Age Distribution')"
   ]
  },
  {
   "cell_type": "markdown",
   "id": "8308e478",
   "metadata": {},
   "source": [
    "**Birth Year**\n",
    "\n",
    "very Low values for Birth Year, but a LOT of rows with the same issue"
   ]
  },
  {
   "cell_type": "code",
   "execution_count": null,
   "id": "1da310a4",
   "metadata": {
    "ExecuteTime": {
     "end_time": "2024-10-26T15:02:41.652836Z",
     "start_time": "2024-10-26T15:02:41.652815Z"
    }
   },
   "outputs": [],
   "source": [
    "df[df['Birth Year'] < 1800]"
   ]
  },
  {
   "cell_type": "code",
   "execution_count": null,
   "id": "12532b08",
   "metadata": {
    "ExecuteTime": {
     "end_time": "2024-10-26T15:02:41.654902Z",
     "start_time": "2024-10-26T15:02:41.654881Z"
    }
   },
   "outputs": [],
   "source": [
    "f.plot_histogram(df['Birth Year'], 'Birth Year', 'Frequency',\n",
    "                'Birth Year Distribution')"
   ]
  },
  {
   "cell_type": "markdown",
   "id": "a94efd33",
   "metadata": {},
   "source": [
    "**IME-4 Count**\n",
    "\n",
    "Very High "
   ]
  },
  {
   "cell_type": "code",
   "execution_count": null,
   "id": "6098cbad",
   "metadata": {
    "ExecuteTime": {
     "end_time": "2024-10-26T15:02:41.657121Z",
     "start_time": "2024-10-26T15:02:41.657103Z"
    }
   },
   "outputs": [],
   "source": [
    "df[df['IME-4 Count'] > 30]"
   ]
  },
  {
   "cell_type": "code",
   "execution_count": null,
   "id": "5a1d4f87",
   "metadata": {
    "ExecuteTime": {
     "end_time": "2024-10-26T15:02:41.659089Z",
     "start_time": "2024-10-26T15:02:41.659068Z"
    }
   },
   "outputs": [],
   "source": [
    "f.plot_histogram(df['IME-4 Count'], 'IME-4 Count', 'Frequency',\n",
    "                'IME-4 Count Distribution')"
   ]
  },
  {
   "cell_type": "markdown",
   "id": "7fab107b",
   "metadata": {},
   "source": [
    "**OIICS Nature of Injury Description**\n",
    "\n",
    "always missing"
   ]
  },
  {
   "cell_type": "code",
   "execution_count": null,
   "id": "3022d447",
   "metadata": {
    "ExecuteTime": {
     "end_time": "2024-10-26T15:02:41.661247Z",
     "start_time": "2024-10-26T15:02:41.661229Z"
    }
   },
   "outputs": [],
   "source": [
    "print(f\"Number of missing rows in variable OIICS Nature of Injury Description: {len(df[df['OIICS Nature of Injury Description'].isna()])}\")\n",
    "print(f\"Number of Rows in the Dataset: {len(df)}\")"
   ]
  },
  {
   "cell_type": "markdown",
   "id": "bb3d8d81",
   "metadata": {},
   "source": [
    "**Zip Code**"
   ]
  },
  {
   "cell_type": "code",
   "execution_count": null,
   "id": "577babeb",
   "metadata": {
    "ExecuteTime": {
     "end_time": "2024-10-26T15:02:41.663468Z",
     "start_time": "2024-10-26T15:02:41.663448Z"
    }
   },
   "outputs": [],
   "source": [
    "df[df['Zip Code'].notna() & \n",
    "    df['Zip Code'].apply(lambda x: not str(x).isnumeric())]\n"
   ]
  },
  {
   "cell_type": "markdown",
   "id": "36b0b7a5",
   "metadata": {},
   "source": [
    "**Agreement Reached**\n",
    "\n",
    "w/ a lot of zeros"
   ]
  },
  {
   "cell_type": "code",
   "execution_count": null,
   "id": "c9458d4c",
   "metadata": {
    "ExecuteTime": {
     "end_time": "2024-10-26T15:02:41.665731Z",
     "start_time": "2024-10-26T15:02:41.665710Z"
    }
   },
   "outputs": [],
   "source": [
    "df['Agreement Reached'].value_counts()"
   ]
  },
  {
   "cell_type": "code",
   "execution_count": null,
   "id": "008a48d6",
   "metadata": {
    "ExecuteTime": {
     "end_time": "2024-10-26T15:02:41.668264Z",
     "start_time": "2024-10-26T15:02:41.668243Z"
    }
   },
   "outputs": [],
   "source": [
    "f.plot_histogram(df['Agreement Reached'], 'Agreement Reached', 'Frequency',\n",
    "                'Agreement Reached Distribution')"
   ]
  },
  {
   "cell_type": "markdown",
   "id": "2d4b2504",
   "metadata": {},
   "source": [
    "**WCB Decision**\n",
    "\n",
    "always the same"
   ]
  },
  {
   "cell_type": "code",
   "execution_count": null,
   "id": "a7d7c165",
   "metadata": {
    "ExecuteTime": {
     "end_time": "2024-10-26T15:02:41.670550Z",
     "start_time": "2024-10-26T15:02:41.670487Z"
    }
   },
   "outputs": [],
   "source": [
    "df['WCB Decision'].unique()"
   ]
  },
  {
   "cell_type": "markdown",
   "id": "8cbe42a6",
   "metadata": {},
   "source": [
    "**Claim Injury Type**\n",
    "\n",
    "imbalanced target "
   ]
  },
  {
   "cell_type": "code",
   "execution_count": null,
   "id": "81367659",
   "metadata": {
    "ExecuteTime": {
     "end_time": "2024-10-26T15:02:41.673201Z",
     "start_time": "2024-10-26T15:02:41.673127Z"
    }
   },
   "outputs": [],
   "source": [
    "df['Claim Injury Type'].value_counts()"
   ]
  },
  {
   "cell_type": "markdown",
   "id": "8820c53c",
   "metadata": {},
   "source": [
    "**Incoherent Columns**\n",
    "\n",
    "Some columns exist in train data but not on test"
   ]
  },
  {
   "cell_type": "code",
   "execution_count": null,
   "id": "a2a17ca2",
   "metadata": {
    "ExecuteTime": {
     "end_time": "2024-10-26T15:02:41.675792Z",
     "start_time": "2024-10-26T15:02:41.675772Z"
    }
   },
   "outputs": [],
   "source": [
    "train_columns = set(df.columns)\n",
    "test_columns = set(test.columns)\n",
    "\n",
    "not_in_train = train_columns - test_columns\n",
    "print(f'Columns in train but not in test: {not_in_train}')\n"
   ]
  },
  {
   "cell_type": "markdown",
   "id": "b6f018a2",
   "metadata": {},
   "source": [
    "## 2.3 Initial Visualisations\n",
    "\n",
    "<a href=\"#top\">Top &#129033;</a>"
   ]
  },
  {
   "cell_type": "code",
   "execution_count": null,
   "id": "fb39a6bd",
   "metadata": {},
   "outputs": [],
   "source": []
  },
  {
   "cell_type": "markdown",
   "id": "5ca2558a",
   "metadata": {},
   "source": [
    "# 3. Data Cleaning & Preprocessing\n",
    "\n",
    "<a href=\"#top\">Top &#129033;</a>"
   ]
  },
  {
   "cell_type": "markdown",
   "id": "9964da14",
   "metadata": {},
   "source": [
    "## 3.1 Duplicates\n",
    "\n",
    "<a href=\"#top\">Top &#129033;</a>"
   ]
  },
  {
   "cell_type": "code",
   "execution_count": null,
   "id": "f66aa181",
   "metadata": {
    "ExecuteTime": {
     "end_time": "2024-10-26T15:02:41.678452Z",
     "start_time": "2024-10-26T15:02:41.678430Z"
    }
   },
   "outputs": [],
   "source": [
    "df[df.duplicated()]"
   ]
  },
  {
   "cell_type": "code",
   "execution_count": null,
   "id": "b5a761b3",
   "metadata": {
    "ExecuteTime": {
     "end_time": "2024-10-26T15:02:41.680812Z",
     "start_time": "2024-10-26T15:02:41.680791Z"
    }
   },
   "outputs": [],
   "source": [
    "duplicates = df.duplicated(keep=False)\n",
    "\n",
    "non_missing_in_other_columns = df.drop(columns=['Assembly Date']).notna().any(axis=1)\n",
    "\n",
    "\n",
    "df[duplicates & non_missing_in_other_columns]"
   ]
  },
  {
   "cell_type": "code",
   "execution_count": null,
   "id": "64fe62ef",
   "metadata": {
    "ExecuteTime": {
     "end_time": "2024-10-26T15:02:41.683230Z",
     "start_time": "2024-10-26T15:02:41.683208Z"
    }
   },
   "outputs": [],
   "source": [
    "df = df.drop_duplicates()"
   ]
  },
  {
   "cell_type": "markdown",
   "id": "dbb94605",
   "metadata": {},
   "source": [
    "verify the success"
   ]
  },
  {
   "cell_type": "code",
   "execution_count": null,
   "id": "76327e35",
   "metadata": {
    "ExecuteTime": {
     "end_time": "2024-10-26T15:02:41.685732Z",
     "start_time": "2024-10-26T15:02:41.685713Z"
    }
   },
   "outputs": [],
   "source": [
    "df[df.duplicated()]"
   ]
  },
  {
   "cell_type": "markdown",
   "id": "5b9d5072",
   "metadata": {},
   "source": [
    "## 3.2 Feature Engineering\n",
    "\n",
    "<a href=\"#top\">Top &#129033;</a>\n",
    "\n",
    "all transformations must be applied o X_test too"
   ]
  },
  {
   "cell_type": "markdown",
   "id": "7bd7ec93",
   "metadata": {},
   "source": [
    "### 3.2.1 Data Type Conversions\n",
    "\n",
    "even though this is usually feature engineering, it will be useful doing before treating missing values"
   ]
  },
  {
   "cell_type": "code",
   "execution_count": null,
   "id": "92819176",
   "metadata": {
    "ExecuteTime": {
     "end_time": "2024-10-26T15:02:41.687717Z",
     "start_time": "2024-10-26T15:02:41.687696Z"
    },
    "scrolled": true
   },
   "outputs": [],
   "source": [
    "#df.info()"
   ]
  },
  {
   "cell_type": "code",
   "execution_count": null,
   "id": "86f67daf",
   "metadata": {
    "ExecuteTime": {
     "end_time": "2024-10-26T15:02:41.690159Z",
     "start_time": "2024-10-26T15:02:41.690140Z"
    }
   },
   "outputs": [],
   "source": [
    "df['Accident Date'] = pd.to_datetime(df['Accident Date'], \n",
    "                                     errors='coerce')\n",
    "\n",
    "df['Assembly Date'] = pd.to_datetime(df['Assembly Date'], \n",
    "                                     errors='coerce')\n",
    "\n",
    "df['C-2 Date'] = pd.to_datetime(df['C-2 Date'], \n",
    "                                errors='coerce')\n",
    "\n",
    "df['C-3 Date'] = pd.to_datetime(df['C-3 Date'], \n",
    "                                errors='coerce')\n",
    "\n",
    "df['First Hearing Date'] = pd.to_datetime(df['First Hearing Date'], \n",
    "                                          errors='coerce')"
   ]
  },
  {
   "cell_type": "code",
   "execution_count": null,
   "id": "1f05276b",
   "metadata": {
    "ExecuteTime": {
     "end_time": "2024-10-26T15:02:41.692193Z",
     "start_time": "2024-10-26T15:02:41.692141Z"
    },
    "scrolled": false
   },
   "outputs": [],
   "source": [
    "df.head(2)"
   ]
  },
  {
   "cell_type": "markdown",
   "id": "698388f8",
   "metadata": {},
   "source": [
    "### 3.2.2 Encoding\n",
    "\n",
    "<a href=\"#top\">Top &#129033;</a>"
   ]
  },
  {
   "cell_type": "markdown",
   "id": "2830ac54",
   "metadata": {},
   "source": [
    "**Alternative Dispute Resolution**\n",
    "\n",
    "encode ['N' nan 'Y' 'U'] n -> 0, y -> 1, u -> 2"
   ]
  },
  {
   "cell_type": "code",
   "execution_count": null,
   "id": "373fbb0a",
   "metadata": {
    "ExecuteTime": {
     "end_time": "2024-10-26T15:02:41.694528Z",
     "start_time": "2024-10-26T15:02:41.694506Z"
    }
   },
   "outputs": [],
   "source": [
    "freq = df['Alternative Dispute Resolution'].value_counts()\n",
    "freq"
   ]
  },
  {
   "cell_type": "code",
   "execution_count": null,
   "id": "185b8037",
   "metadata": {
    "ExecuteTime": {
     "end_time": "2024-10-26T15:02:41.696090Z",
     "start_time": "2024-10-26T15:02:41.696071Z"
    }
   },
   "outputs": [],
   "source": [
    "df['Alternative Dispute Resolution'] = df['Alternative Dispute Resolution'].map(freq)"
   ]
  },
  {
   "cell_type": "markdown",
   "id": "295f9a46",
   "metadata": {},
   "source": [
    "**Attorney/Representative**\n",
    "\n",
    "['N' 'Y' nan] encode 0/1"
   ]
  },
  {
   "cell_type": "code",
   "execution_count": null,
   "id": "ae82e49d",
   "metadata": {
    "ExecuteTime": {
     "end_time": "2024-10-26T15:02:41.698075Z",
     "start_time": "2024-10-26T15:02:41.698054Z"
    }
   },
   "outputs": [],
   "source": [
    "df['Attorney/Representative'].value_counts()"
   ]
  },
  {
   "cell_type": "code",
   "execution_count": null,
   "id": "bd0eaea9",
   "metadata": {
    "ExecuteTime": {
     "end_time": "2024-10-26T15:02:41.699890Z",
     "start_time": "2024-10-26T15:02:41.699871Z"
    }
   },
   "outputs": [],
   "source": [
    "df['Attorney/Representative'] = df['Attorney/Representative'].replace({'N': 0, 'Y': 1})"
   ]
  },
  {
   "cell_type": "markdown",
   "id": "cb654b3a",
   "metadata": {},
   "source": [
    "**Carrier Name**"
   ]
  },
  {
   "cell_type": "code",
   "execution_count": null,
   "id": "cf51a3d7",
   "metadata": {
    "ExecuteTime": {
     "end_time": "2024-10-26T15:02:41.701781Z",
     "start_time": "2024-10-26T15:02:41.701762Z"
    }
   },
   "outputs": [],
   "source": [
    "df['Carrier Name'].nunique()"
   ]
  },
  {
   "cell_type": "markdown",
   "id": "844f6cdc",
   "metadata": {},
   "source": [
    "frequency encoder"
   ]
  },
  {
   "cell_type": "code",
   "execution_count": null,
   "id": "64ef4ab4",
   "metadata": {
    "ExecuteTime": {
     "end_time": "2024-10-26T15:02:41.703807Z",
     "start_time": "2024-10-26T15:02:41.703788Z"
    }
   },
   "outputs": [],
   "source": [
    "freq = df['Carrier Name'].value_counts()"
   ]
  },
  {
   "cell_type": "code",
   "execution_count": null,
   "id": "33453430",
   "metadata": {
    "ExecuteTime": {
     "end_time": "2024-10-26T15:02:41.705798Z",
     "start_time": "2024-10-26T15:02:41.705777Z"
    }
   },
   "outputs": [],
   "source": [
    "df['Carrier Name'] = df['Carrier Name'].map(freq)"
   ]
  },
  {
   "cell_type": "markdown",
   "id": "3a29e89b",
   "metadata": {},
   "source": [
    "**Carrier Type**\n",
    "\n",
    "encode (8 unique values)"
   ]
  },
  {
   "cell_type": "code",
   "execution_count": null,
   "id": "04d08ae9",
   "metadata": {
    "ExecuteTime": {
     "end_time": "2024-10-26T15:02:41.707565Z",
     "start_time": "2024-10-26T15:02:41.707547Z"
    }
   },
   "outputs": [],
   "source": [
    "freq = df['Carrier Type'].value_counts()\n",
    "freq"
   ]
  },
  {
   "cell_type": "code",
   "execution_count": null,
   "id": "3eee24cd",
   "metadata": {
    "ExecuteTime": {
     "end_time": "2024-10-26T15:02:41.709533Z",
     "start_time": "2024-10-26T15:02:41.709514Z"
    }
   },
   "outputs": [],
   "source": [
    "df['Carrier Type'] = df['Carrier Type'].map(freq)"
   ]
  },
  {
   "cell_type": "markdown",
   "id": "946e7f5f",
   "metadata": {},
   "source": [
    "**County of Injury**\n",
    "\n",
    "probably too many to encode (?) --> freq encoding"
   ]
  },
  {
   "cell_type": "code",
   "execution_count": null,
   "id": "f372ef26",
   "metadata": {
    "ExecuteTime": {
     "end_time": "2024-10-26T15:02:41.711538Z",
     "start_time": "2024-10-26T15:02:41.711516Z"
    }
   },
   "outputs": [],
   "source": [
    "df['County of Injury'].nunique()"
   ]
  },
  {
   "cell_type": "code",
   "execution_count": null,
   "id": "9d987db2",
   "metadata": {
    "ExecuteTime": {
     "end_time": "2024-10-26T15:02:41.713299Z",
     "start_time": "2024-10-26T15:02:41.713278Z"
    }
   },
   "outputs": [],
   "source": [
    "freq = df['County of Injury'].value_counts()"
   ]
  },
  {
   "cell_type": "code",
   "execution_count": null,
   "id": "fe48ea14",
   "metadata": {
    "ExecuteTime": {
     "end_time": "2024-10-26T15:02:41.715278Z",
     "start_time": "2024-10-26T15:02:41.715257Z"
    }
   },
   "outputs": [],
   "source": [
    "df['County of Injury'] = df['County of Injury'].map(freq)"
   ]
  },
  {
   "cell_type": "markdown",
   "id": "f62e7f0c",
   "metadata": {},
   "source": [
    "**COVID-19 Indicator**\n",
    "\n",
    "binary encoding"
   ]
  },
  {
   "cell_type": "code",
   "execution_count": null,
   "id": "b4840271",
   "metadata": {
    "ExecuteTime": {
     "end_time": "2024-10-26T15:02:41.717022Z",
     "start_time": "2024-10-26T15:02:41.716998Z"
    }
   },
   "outputs": [],
   "source": [
    "df['COVID-19 Indicator'].value_counts()"
   ]
  },
  {
   "cell_type": "code",
   "execution_count": null,
   "id": "5ec0c2b3",
   "metadata": {
    "ExecuteTime": {
     "end_time": "2024-10-26T15:02:41.719103Z",
     "start_time": "2024-10-26T15:02:41.719083Z"
    }
   },
   "outputs": [],
   "source": [
    "df['COVID-19 Indicator'] = df['COVID-19 Indicator'].replace({'N': 0, 'Y': 1})"
   ]
  },
  {
   "cell_type": "markdown",
   "id": "f0f3cb7a",
   "metadata": {},
   "source": [
    "**District Name**\n",
    "\n",
    "encode (8 uniques)"
   ]
  },
  {
   "cell_type": "code",
   "execution_count": null,
   "id": "43049242",
   "metadata": {
    "ExecuteTime": {
     "end_time": "2024-10-26T15:02:41.720757Z",
     "start_time": "2024-10-26T15:02:41.720736Z"
    }
   },
   "outputs": [],
   "source": [
    "freq = df['District Name'].value_counts()\n",
    "freq"
   ]
  },
  {
   "cell_type": "code",
   "execution_count": null,
   "id": "779944c1",
   "metadata": {
    "ExecuteTime": {
     "end_time": "2024-10-26T15:02:41.722754Z",
     "start_time": "2024-10-26T15:02:41.722703Z"
    }
   },
   "outputs": [],
   "source": [
    "df['District Name'] = df['District Name'].map(freq)"
   ]
  },
  {
   "cell_type": "markdown",
   "id": "9e7f1f74",
   "metadata": {},
   "source": [
    "**Gender**\n",
    "\n",
    "encode ['M' 'F' nan 'U' 'X']"
   ]
  },
  {
   "cell_type": "code",
   "execution_count": null,
   "id": "0d703d99",
   "metadata": {
    "ExecuteTime": {
     "end_time": "2024-10-26T15:02:41.725846Z",
     "start_time": "2024-10-26T15:02:41.725820Z"
    }
   },
   "outputs": [],
   "source": [
    "df['Gender'].value_counts()"
   ]
  },
  {
   "cell_type": "code",
   "execution_count": null,
   "id": "8b0ffab9",
   "metadata": {
    "ExecuteTime": {
     "end_time": "2024-10-26T15:02:41.728100Z",
     "start_time": "2024-10-26T15:02:41.728077Z"
    }
   },
   "outputs": [],
   "source": [
    "df['Gender'] = df['Gender'].map({\n",
    "    'M': 0,  # Male\n",
    "    'F': 1,  # Female\n",
    "    'U': 2,  # Unknown \n",
    "    'X': 2   # Other \n",
    "})"
   ]
  },
  {
   "cell_type": "markdown",
   "id": "42a1373b",
   "metadata": {},
   "source": [
    "**Medical Fee Region**\n",
    "\n",
    "encode"
   ]
  },
  {
   "cell_type": "code",
   "execution_count": null,
   "id": "5cb48130",
   "metadata": {
    "ExecuteTime": {
     "end_time": "2024-10-26T15:02:41.730358Z",
     "start_time": "2024-10-26T15:02:41.730334Z"
    },
    "scrolled": false
   },
   "outputs": [],
   "source": [
    "freq = df['Medical Fee Region'].value_counts()\n",
    "freq"
   ]
  },
  {
   "cell_type": "code",
   "execution_count": null,
   "id": "1ef4622c",
   "metadata": {
    "ExecuteTime": {
     "end_time": "2024-10-26T15:02:41.733425Z",
     "start_time": "2024-10-26T15:02:41.733398Z"
    }
   },
   "outputs": [],
   "source": [
    "df['Medical Fee Region'] = df['Medical Fee Region'].map(freq)"
   ]
  },
  {
   "cell_type": "markdown",
   "id": "dbed014f",
   "metadata": {},
   "source": [
    "### 3.2.3 Other transformations\n",
    "\n",
    "<a href=\"#top\">Top &#129033;</a>"
   ]
  },
  {
   "cell_type": "markdown",
   "id": "27a7177e",
   "metadata": {},
   "source": [
    "**Accident Date**\n",
    "\n",
    "transform into year (maybe month and day too)"
   ]
  },
  {
   "cell_type": "code",
   "execution_count": null,
   "id": "d3f57a60",
   "metadata": {
    "ExecuteTime": {
     "end_time": "2024-10-26T15:02:41.736198Z",
     "start_time": "2024-10-26T15:02:41.736170Z"
    }
   },
   "outputs": [],
   "source": [
    "df['Accident Year'] = df['Accident Date'].dt.year\n",
    "df['Accident Month'] = df['Accident Date'].dt.month\n",
    "df['Accident Day'] = df['Accident Date'].dt.day"
   ]
  },
  {
   "cell_type": "markdown",
   "id": "71edbfc0",
   "metadata": {},
   "source": [
    "**Assembly Date**\n",
    "\n",
    "transform into year (maybe month and day too)"
   ]
  },
  {
   "cell_type": "code",
   "execution_count": null,
   "id": "964f0c70",
   "metadata": {
    "ExecuteTime": {
     "end_time": "2024-10-26T15:02:41.738254Z",
     "start_time": "2024-10-26T15:02:41.738229Z"
    }
   },
   "outputs": [],
   "source": [
    "df['Assembly Year'] = df['Assembly Date'].dt.year\n",
    "df['Assembly Month'] = df['Assembly Date'].dt.month\n",
    "df['Assembly Day'] = df['Assembly Date'].dt.day"
   ]
  },
  {
   "cell_type": "markdown",
   "id": "49a0ade5",
   "metadata": {},
   "source": [
    "**C-2 Date**\n",
    "\n",
    "transform into year (maybe month and day too)"
   ]
  },
  {
   "cell_type": "code",
   "execution_count": null,
   "id": "0295d577",
   "metadata": {
    "ExecuteTime": {
     "end_time": "2024-10-26T15:02:41.741466Z",
     "start_time": "2024-10-26T15:02:41.741446Z"
    }
   },
   "outputs": [],
   "source": [
    "df['C-2 Year'] = df['C-2 Date'].dt.year\n",
    "df['C-2 Month'] = df['C-2 Date'].dt.month\n",
    "df['C-2 Day'] = df['C-2 Date'].dt.day"
   ]
  },
  {
   "cell_type": "markdown",
   "id": "2063aedd",
   "metadata": {},
   "source": [
    "**Zip Code**\n",
    "\n",
    "transform non-numeric into missing values"
   ]
  },
  {
   "cell_type": "code",
   "execution_count": null,
   "id": "099f83a0",
   "metadata": {
    "ExecuteTime": {
     "end_time": "2024-10-26T15:02:41.744185Z",
     "start_time": "2024-10-26T15:02:41.744161Z"
    }
   },
   "outputs": [],
   "source": [
    "df['Zip Code'] = df['Zip Code'].apply(lambda x: np.nan \n",
    "                                      if not str(x).isnumeric() else x)"
   ]
  },
  {
   "cell_type": "markdown",
   "id": "a7e81d58",
   "metadata": {},
   "source": [
    "**Columns not in test data**"
   ]
  },
  {
   "cell_type": "code",
   "execution_count": null,
   "id": "55a9e8f0",
   "metadata": {
    "ExecuteTime": {
     "end_time": "2024-10-26T15:02:41.746820Z",
     "start_time": "2024-10-26T15:02:41.746801Z"
    }
   },
   "outputs": [],
   "source": [
    "df = df.drop(['Agreement Reached', 'WCB Decision'], axis = 1)"
   ]
  },
  {
   "cell_type": "markdown",
   "id": "e583ebf2",
   "metadata": {},
   "source": [
    "**Drop Transformed Columns**"
   ]
  },
  {
   "cell_type": "code",
   "execution_count": null,
   "id": "ec4b13d7",
   "metadata": {
    "ExecuteTime": {
     "end_time": "2024-10-26T15:02:41.748638Z",
     "start_time": "2024-10-26T15:02:41.748619Z"
    }
   },
   "outputs": [],
   "source": [
    "df = df.drop(['Accident Date', 'Assembly Date', 'C-2 Date'], axis = 1)"
   ]
  },
  {
   "cell_type": "markdown",
   "id": "6b59d8c1",
   "metadata": {},
   "source": [
    "### 3.2.4 Unique Feature-Pair Analysis \n",
    "\n",
    "<a href=\"#top\">Top &#129033;</a>\n",
    "\n",
    "save codes and descriptions in dataframes, for later consultation (if needed)"
   ]
  },
  {
   "cell_type": "code",
   "execution_count": null,
   "id": "41b80d8d",
   "metadata": {
    "ExecuteTime": {
     "end_time": "2024-10-26T15:02:41.750337Z",
     "start_time": "2024-10-26T15:02:41.750319Z"
    }
   },
   "outputs": [],
   "source": [
    "injury_cause = df[['WCIO Cause of Injury Code', 'WCIO Cause of Injury Description']].drop_duplicates()\n",
    "\n",
    "injury_cause_df = injury_cause.set_index('WCIO Cause of Injury Code')\n",
    "\n",
    "injury_cause_df.head(2)"
   ]
  },
  {
   "cell_type": "code",
   "execution_count": null,
   "id": "2c62f34d",
   "metadata": {
    "ExecuteTime": {
     "end_time": "2024-10-26T15:02:41.752393Z",
     "start_time": "2024-10-26T15:02:41.752374Z"
    }
   },
   "outputs": [],
   "source": [
    "injury_nature = df[['WCIO Nature of Injury Code', 'WCIO Nature of Injury Description']].drop_duplicates()\n",
    "\n",
    "injury_nature_df = injury_nature.set_index('WCIO Nature of Injury Code')\n",
    "\n",
    "injury_nature_df.head(2)"
   ]
  },
  {
   "cell_type": "code",
   "execution_count": null,
   "id": "9850453f",
   "metadata": {
    "ExecuteTime": {
     "end_time": "2024-10-26T15:02:41.754424Z",
     "start_time": "2024-10-26T15:02:41.754404Z"
    }
   },
   "outputs": [],
   "source": [
    "body_code = df[['WCIO Part Of Body Code', 'WCIO Part Of Body Description']].drop_duplicates()\n",
    "\n",
    "body_code_df = body_code.set_index('WCIO Part Of Body Code')\n",
    "\n",
    "\n",
    "body_code_df.head(2)"
   ]
  },
  {
   "cell_type": "code",
   "execution_count": null,
   "id": "b26596db",
   "metadata": {
    "ExecuteTime": {
     "end_time": "2024-10-26T15:02:41.756503Z",
     "start_time": "2024-10-26T15:02:41.756479Z"
    }
   },
   "outputs": [],
   "source": [
    "industry_code = df[['Industry Code', 'Industry Code Description']].drop_duplicates()\n",
    "\n",
    "industry_code_df = industry_code.set_index('Industry Code')\n",
    "\n",
    "\n",
    "industry_code_df.head(2)"
   ]
  },
  {
   "cell_type": "markdown",
   "id": "61e7c0dc",
   "metadata": {},
   "source": [
    "## 3.3 Missing Values\n",
    "\n",
    "<a href=\"#top\">Top &#129033;</a>"
   ]
  },
  {
   "cell_type": "code",
   "execution_count": null,
   "id": "a6a88747",
   "metadata": {
    "ExecuteTime": {
     "end_time": "2024-10-26T15:02:41.758654Z",
     "start_time": "2024-10-26T15:02:41.758632Z"
    }
   },
   "outputs": [],
   "source": [
    "df.isna().sum()"
   ]
  },
  {
   "cell_type": "code",
   "execution_count": null,
   "id": "f78f79cb",
   "metadata": {
    "ExecuteTime": {
     "end_time": "2024-10-26T15:02:41.760298Z",
     "start_time": "2024-10-26T15:02:41.760280Z"
    }
   },
   "outputs": [],
   "source": [
    "df[df['Claim Injury Type'].isna()]"
   ]
  },
  {
   "cell_type": "markdown",
   "id": "f4254d0c",
   "metadata": {
    "ExecuteTime": {
     "end_time": "2024-10-23T08:15:41.670434Z",
     "start_time": "2024-10-23T08:15:40.857878Z"
    }
   },
   "source": [
    "dropping them"
   ]
  },
  {
   "cell_type": "code",
   "execution_count": null,
   "id": "572895b6",
   "metadata": {
    "ExecuteTime": {
     "end_time": "2024-10-26T15:02:41.762609Z",
     "start_time": "2024-10-26T15:02:41.762589Z"
    }
   },
   "outputs": [],
   "source": [
    "df.dropna(subset=['Claim Injury Type'], inplace=True)"
   ]
  },
  {
   "cell_type": "markdown",
   "id": "95bc7eb2",
   "metadata": {},
   "source": [
    "**Claim Injury Type**\n",
    "\n",
    "After dropping the missing values we can encode"
   ]
  },
  {
   "cell_type": "code",
   "execution_count": null,
   "id": "b1526f0c",
   "metadata": {
    "ExecuteTime": {
     "end_time": "2024-10-26T15:02:41.765186Z",
     "start_time": "2024-10-26T15:02:41.765167Z"
    }
   },
   "outputs": [],
   "source": [
    "encoder = LabelEncoder()\n",
    "df['Claim Injury Type'] = encoder.fit_transform(df['Claim Injury Type'])\n",
    "#encoder.inverse_transform([result])"
   ]
  },
  {
   "cell_type": "markdown",
   "id": "421fd9f3",
   "metadata": {},
   "source": [
    "**C-3 Date**"
   ]
  },
  {
   "cell_type": "code",
   "execution_count": null,
   "id": "83593f82",
   "metadata": {
    "ExecuteTime": {
     "end_time": "2024-10-26T15:02:41.767403Z",
     "start_time": "2024-10-26T15:02:41.767385Z"
    }
   },
   "outputs": [],
   "source": [
    "print(f'There are {len(df[df[\"C-3 Date\"].isna()])} rows with missing values')\n",
    "df[df['C-3 Date'].isna()].head(2)"
   ]
  },
  {
   "cell_type": "code",
   "execution_count": null,
   "id": "1aed96d3",
   "metadata": {
    "ExecuteTime": {
     "end_time": "2024-10-26T15:02:41.769551Z",
     "start_time": "2024-10-26T15:02:41.769532Z"
    }
   },
   "outputs": [],
   "source": [
    "# Create a binary variable: 1 if 'C-3 Date' is not missing, 0 if it is missing\n",
    "df['C-3 Date Binary'] = df['C-3 Date'].notna().astype(int)"
   ]
  },
  {
   "cell_type": "markdown",
   "id": "cb22f455",
   "metadata": {},
   "source": [
    "**First Hearing Date**"
   ]
  },
  {
   "cell_type": "code",
   "execution_count": null,
   "id": "c63283c5",
   "metadata": {
    "ExecuteTime": {
     "end_time": "2024-10-26T15:02:41.771565Z",
     "start_time": "2024-10-26T15:02:41.771547Z"
    }
   },
   "outputs": [],
   "source": [
    "print(f'There are {len(df[df[\"First Hearing Date\"].isna()])} rows with missing values')\n",
    "df[df['First Hearing Date'].isna()].head(2)"
   ]
  },
  {
   "cell_type": "code",
   "execution_count": null,
   "id": "86ef83a9",
   "metadata": {
    "ExecuteTime": {
     "end_time": "2024-10-26T15:02:41.773676Z",
     "start_time": "2024-10-26T15:02:41.773655Z"
    }
   },
   "outputs": [],
   "source": [
    "# Create a new variable: 0 if 'First Hearing Date' is missing, otherwise extract the year\n",
    "\n",
    "df['First Hearing Year'] = df['First Hearing Date'].apply(lambda x: x.year if pd.notna(x) else 0)"
   ]
  },
  {
   "cell_type": "markdown",
   "id": "6a1e0ced",
   "metadata": {},
   "source": [
    "**IME-4 Count**"
   ]
  },
  {
   "cell_type": "code",
   "execution_count": null,
   "id": "a3f3d530",
   "metadata": {
    "ExecuteTime": {
     "end_time": "2024-10-26T15:02:41.776002Z",
     "start_time": "2024-10-26T15:02:41.775980Z"
    }
   },
   "outputs": [],
   "source": [
    "print(f'There are {len(df[df[\"IME-4 Count\"].isna()])} rows with missing values')\n",
    "df[df['IME-4 Count'].isna()].head(2)"
   ]
  },
  {
   "cell_type": "code",
   "execution_count": null,
   "id": "a50a89b2",
   "metadata": {
    "ExecuteTime": {
     "end_time": "2024-10-26T15:02:41.778023Z",
     "start_time": "2024-10-26T15:02:41.778000Z"
    }
   },
   "outputs": [],
   "source": [
    "df['IME-4 Count'] = df['IME-4 Count'].fillna(0)"
   ]
  },
  {
   "cell_type": "markdown",
   "id": "fee3948a",
   "metadata": {},
   "source": [
    "**OIICS Nature of Injury Description**"
   ]
  },
  {
   "cell_type": "code",
   "execution_count": null,
   "id": "6b5395a1",
   "metadata": {
    "ExecuteTime": {
     "end_time": "2024-10-26T15:02:41.779949Z",
     "start_time": "2024-10-26T15:02:41.779928Z"
    }
   },
   "outputs": [],
   "source": [
    "print(f'There are {len(df[df[\"OIICS Nature of Injury Description\"].isna()])} rows with missing values')\n",
    "df[df['OIICS Nature of Injury Description'].isna()].head(2)"
   ]
  },
  {
   "cell_type": "code",
   "execution_count": null,
   "id": "458c913c",
   "metadata": {
    "ExecuteTime": {
     "end_time": "2024-10-26T15:02:41.782149Z",
     "start_time": "2024-10-26T15:02:41.782128Z"
    }
   },
   "outputs": [],
   "source": [
    "# size of missing / size of dataset\n",
    "len(df[df['OIICS Nature of Injury Description'].isna()]) / len(df)"
   ]
  },
  {
   "cell_type": "markdown",
   "id": "ba4668dc",
   "metadata": {},
   "source": [
    "drop not needed variables "
   ]
  },
  {
   "cell_type": "code",
   "execution_count": null,
   "id": "aebf0c7c",
   "metadata": {
    "ExecuteTime": {
     "end_time": "2024-10-26T15:02:41.784255Z",
     "start_time": "2024-10-26T15:02:41.784235Z"
    }
   },
   "outputs": [],
   "source": [
    "df = df.drop(['C-3 Date', 'First Hearing Date', \n",
    "             'OIICS Nature of Injury Description'], axis = 1)"
   ]
  },
  {
   "cell_type": "code",
   "execution_count": null,
   "id": "157d200d",
   "metadata": {},
   "outputs": [],
   "source": []
  },
  {
   "cell_type": "markdown",
   "id": "f393df00",
   "metadata": {},
   "source": [
    "# Visualisations"
   ]
  },
  {
   "cell_type": "code",
   "execution_count": null,
   "id": "5f76b597",
   "metadata": {
    "ExecuteTime": {
     "end_time": "2024-10-26T14:47:16.269688Z",
     "start_time": "2024-10-26T14:47:16.269669Z"
    }
   },
   "outputs": [],
   "source": [
    "df"
   ]
  },
  {
   "cell_type": "code",
   "execution_count": null,
   "id": "215bc7a6",
   "metadata": {},
   "outputs": [],
   "source": []
  },
  {
   "cell_type": "markdown",
   "id": "ea057cf1",
   "metadata": {},
   "source": [
    "# 3. Export\n",
    "\n",
    "<a href=\"#top\">Top &#129033;</a>"
   ]
  },
  {
   "cell_type": "code",
   "execution_count": null,
   "id": "4317675d",
   "metadata": {
    "ExecuteTime": {
     "end_time": "2024-10-26T14:47:16.272078Z",
     "start_time": "2024-10-26T14:47:16.272059Z"
    }
   },
   "outputs": [],
   "source": [
    "df = df.drop(['WCIO Cause of Injury Description', 'WCIO Nature of Injury Description', \n",
    "              'WCIO Part Of Body Description', 'Industry Code Description'], axis = 1)"
   ]
  },
  {
   "cell_type": "code",
   "execution_count": null,
   "id": "98117a56",
   "metadata": {
    "ExecuteTime": {
     "end_time": "2024-10-26T14:47:16.274257Z",
     "start_time": "2024-10-26T14:47:16.274237Z"
    }
   },
   "outputs": [],
   "source": [
    "df.to_csv('./project_data/out_eda1.csv')"
   ]
  }
 ],
 "metadata": {
  "kernelspec": {
   "display_name": "Python 3 (ipykernel)",
   "language": "python",
   "name": "python3"
  },
  "language_info": {
   "codemirror_mode": {
    "name": "ipython",
    "version": 3
   },
   "file_extension": ".py",
   "mimetype": "text/x-python",
   "name": "python",
   "nbconvert_exporter": "python",
   "pygments_lexer": "ipython3",
   "version": "3.10.13"
  }
 },
 "nbformat": 4,
 "nbformat_minor": 5
}
