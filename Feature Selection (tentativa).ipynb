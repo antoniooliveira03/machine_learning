{
 "cells": [
  {
   "cell_type": "code",
   "execution_count": 31,
   "id": "9da89d86",
   "metadata": {
    "ExecuteTime": {
     "end_time": "2024-10-30T22:27:58.586724Z",
     "start_time": "2024-10-30T22:27:58.332573Z"
    }
   },
   "outputs": [],
   "source": [
    "from sklearn.model_selection import KFold\n",
    "from sklearn.linear_model import LogisticRegression\n",
    "from sklearn.ensemble import RandomForestClassifier\n",
    "import numpy as np\n",
    "import pandas as pd\n",
    "\n",
    "import warnings\n",
    "warnings.filterwarnings(\"ignore\")\n",
    "\n",
    "import play_song as song\n",
    "import feature_selection as fs"
   ]
  },
  {
   "cell_type": "code",
   "execution_count": 2,
   "id": "11c90847",
   "metadata": {
    "ExecuteTime": {
     "end_time": "2024-10-30T21:23:38.320158Z",
     "start_time": "2024-10-30T21:23:38.316973Z"
    }
   },
   "outputs": [],
   "source": [
    "## Load and temp PREPROC"
   ]
  },
  {
   "cell_type": "code",
   "execution_count": 3,
   "id": "d466540b",
   "metadata": {
    "ExecuteTime": {
     "end_time": "2024-10-30T21:23:39.847282Z",
     "start_time": "2024-10-30T21:23:38.322741Z"
    }
   },
   "outputs": [],
   "source": [
    "df = pd.read_csv('./project_data/out_eda1.csv', \n",
    "                 index_col = 'Claim Identifier')"
   ]
  },
  {
   "cell_type": "code",
   "execution_count": 4,
   "id": "fb3d79cc",
   "metadata": {
    "ExecuteTime": {
     "end_time": "2024-10-30T21:23:39.997610Z",
     "start_time": "2024-10-30T21:23:39.851035Z"
    }
   },
   "outputs": [],
   "source": [
    "df = df.dropna()"
   ]
  },
  {
   "cell_type": "code",
   "execution_count": 5,
   "id": "5fde7662",
   "metadata": {
    "ExecuteTime": {
     "end_time": "2024-10-30T21:23:40.193808Z",
     "start_time": "2024-10-30T21:23:39.999394Z"
    }
   },
   "outputs": [],
   "source": [
    "label_mapping = {\n",
    "    \"1. CANCELLED\": 1,\n",
    "    \"2. NON-COMP\": 2,\n",
    "    \"3. MED ONLY\": 3,\n",
    "    \"4. TEMPORARY\": 4,\n",
    "    \"5. PPD SCH LOSS\": 5,\n",
    "    \"6. PPD NSL\": 6,\n",
    "    \"7. PTD\": 7,\n",
    "    \"8. DEATH\": 8\n",
    "}\n",
    "\n",
    "df['Claim Injury Type'] = df['Claim Injury Type'].replace(label_mapping)"
   ]
  },
  {
   "cell_type": "code",
   "execution_count": 6,
   "id": "ee71563f",
   "metadata": {
    "ExecuteTime": {
     "end_time": "2024-10-30T21:23:40.220198Z",
     "start_time": "2024-10-30T21:23:40.196038Z"
    }
   },
   "outputs": [],
   "source": [
    "# Example usage in evaluate_features function:\n",
    "X, y = df.drop(columns=['Claim Injury Type']), df['Claim Injury Type']"
   ]
  },
  {
   "cell_type": "code",
   "execution_count": 7,
   "id": "16475712",
   "metadata": {
    "ExecuteTime": {
     "end_time": "2024-10-30T21:23:40.225628Z",
     "start_time": "2024-10-30T21:23:40.222323Z"
    }
   },
   "outputs": [],
   "source": [
    "num = ['Age at Injury', 'Average Weekly Wage', 'Birth Year', 'IME-4 Count', 'Number of Dependents',\n",
    "       'Accident Year', 'Accident Month', 'Accident Day', 'Assembly Year', 'Assembly Month', 'Assembly Day',\n",
    "       'C-2 Year', 'C-2 Month', 'C-2 Day', 'First Hearing Year']\n",
    "\n",
    "categ = ['Alternative Dispute Resolution', 'Attorney/Representative', 'Carrier Name', 'Carrier Type',\n",
    "         'County of Injury', 'COVID-19 Indicator', 'District Name', 'Gender',\n",
    "         'Industry Code', 'Medical Fee Region', 'WCIO Cause of Injury Code', 'WCIO Nature of Injury Code',\n",
    "         'WCIO Part Of Body Code', 'Zip Code', 'C-3 Date Binary' ]"
   ]
  },
  {
   "cell_type": "code",
   "execution_count": 8,
   "id": "8bf3b445",
   "metadata": {
    "ExecuteTime": {
     "end_time": "2024-10-30T16:39:33.647686Z",
     "start_time": "2024-10-30T16:39:33.644740Z"
    }
   },
   "outputs": [],
   "source": [
    "## EVAL function"
   ]
  },
  {
   "cell_type": "code",
   "execution_count": 32,
   "id": "56bf760b",
   "metadata": {
    "ExecuteTime": {
     "end_time": "2024-10-30T22:28:40.430084Z",
     "start_time": "2024-10-30T22:28:40.392217Z"
    }
   },
   "outputs": [],
   "source": [
    "from sklearn.metrics import classification_report\n",
    "from collections import Counter\n",
    "\n",
    "def evaluate_features(df, num, categ, \n",
    "                      rfe_features, rfe_model, k=5):\n",
    "    \n",
    "    \n",
    "    X, y = df.drop(columns=['Claim Injury Type']), df['Claim Injury Type']\n",
    "    kf = KFold(n_splits=k)\n",
    "    selected_features = []\n",
    "\n",
    "    for train_idx, val_idx in kf.split(X):\n",
    "        \n",
    "        print(f'------------ FOLD {train_idx} ------------ \\n')\n",
    "        X_train, X_val = X.iloc[train_idx], X.iloc[val_idx]\n",
    "        y_train, y_val = y.iloc[train_idx], y.iloc[val_idx]\n",
    "\n",
    "        # Numerical\n",
    "        print('----LASSO----')\n",
    "        lasso = fs.lasso(X_train, y_train, num)\n",
    "        print('----RFE----')\n",
    "        # for model in rfe_model: ## FUTURE\n",
    "        rfe = fs.rfe(X_train, y_train, num, rfe_features, rfe_model)\n",
    "        print('----CORR----')\n",
    "        corr = fs.correlation_matrix(X_train, num)\n",
    "        #print('----VAR----')\n",
    "        var = fs.var(X_train, num)\n",
    "        \n",
    "        # Categorical\n",
    "        print('----CHI2----')\n",
    "        chi2 = fs.chi_squared(X_train, y_train, categ)\n",
    "        print('----MI----')\n",
    "        mutual_information = fs.mutual_information(X_train, y_train, categ)\n",
    "        \n",
    "        \n",
    "        # Combine selected features from each method\n",
    "        num_selected = set(lasso).union(rfe, corr, var)\n",
    "        categ_selected = set(chi2).union(mutual_information)\n",
    "\n",
    "        # Filter training and validation sets based on selected features\n",
    "        num_selected = [feature for feature in num_selected if isinstance(feature, str)]\n",
    "        \n",
    "        #num_selected = num_selected.to_list()\n",
    "        categ_selected = list(categ_selected)\n",
    "        \n",
    "        X_train_selected = X_train[num_selected + categ_selected]\n",
    "        X_val_selected = X_val[num_selected + categ_selected]\n",
    "        \n",
    "        \n",
    "        # Train model and record performance\n",
    "        model = LogisticRegression()\n",
    "        model.fit(X_train_selected, y_train)\n",
    "        y_pred = model.predict(X_val_selected)\n",
    "        \n",
    "        # Print classification report for current fold\n",
    "        print('CLASSIFICATION REPORT \\n')\n",
    "        print(classification_report(y_val, y_pred))\n",
    "\n",
    "        # Save selected features for counting occurrences\n",
    "        selected_features.append(num_selected + categ_selected)\n",
    "\n",
    "        \n",
    "    # Count occurrences of each feature across folds\n",
    "    feature_counts = Counter(np.concatenate(selected_features))\n",
    "    \n",
    "    song.play_('audio.mp3')\n",
    "    \n",
    "    # Select only features that appear in all folds\n",
    "    final_features = [feature for feature, count in feature_counts.items() if count == k]\n",
    "    return final_features\n"
   ]
  },
  {
   "cell_type": "code",
   "execution_count": null,
   "id": "c31f14e3",
   "metadata": {
    "ExecuteTime": {
     "start_time": "2024-10-30T22:28:45.767Z"
    },
    "scrolled": true
   },
   "outputs": [
    {
     "name": "stdout",
     "output_type": "stream",
     "text": [
      "------------ FOLD [ 92117  92118  92119 ... 460579 460580 460581] ------------ \n",
      "\n",
      "----LASSO----\n"
     ]
    },
    {
     "data": {
      "image/png": "[encoded data removed]",
      "text/plain": [
       "<Figure size 640x480 with 1 Axes>"
      ]
     },
     "metadata": {},
     "output_type": "display_data"
    },
    {
     "name": "stdout",
     "output_type": "stream",
     "text": [
      "----RFE----\n",
      "Trying with 12 features: 12 selected features.\n",
      "Classification Report for 12 features:\n",
      "              precision    recall  f1-score   support\n",
      "\n",
      "           1       1.00      1.00      1.00      3415\n",
      "           2       1.00      1.00      1.00    187651\n",
      "           3       1.00      0.99      0.99     46778\n",
      "           4       1.00      1.00      1.00     98139\n",
      "           5       1.00      1.00      1.00     29842\n",
      "           6       1.00      1.00      1.00      2344\n",
      "           7       1.00      1.00      1.00        48\n",
      "           8       1.00      1.00      1.00       248\n",
      "\n",
      "    accuracy                           1.00    368465\n",
      "   macro avg       1.00      1.00      1.00    368465\n",
      "weighted avg       1.00      1.00      1.00    368465\n",
      "\n"
     ]
    }
   ],
   "source": [
    "rfe_features = [12, 13, 14, 15]\n",
    "\n",
    "evaluate_features(df, num, categ, \n",
    "                  rfe_features = rfe_features,\n",
    "                  rfe_model = RandomForestClassifier(),\n",
    "                  k = 5)"
   ]
  },
  {
   "cell_type": "markdown",
   "id": "19b515cf",
   "metadata": {},
   "source": [
    "__*5 fold train: LogReg, rfe: LogReg*__\n",
    "\n",
    "['Accident Year',\n",
    " 'Number of Dependents',\n",
    " 'C-2 Day',\n",
    " 'Assembly Day',\n",
    " 'First Hearing Year',\n",
    " 'C-2 Month',\n",
    " 'IME-4 Count',\n",
    " 'Assembly Year',\n",
    " 'Age at Injury',\n",
    " 'Birth Year',\n",
    " 'Accident Month',\n",
    " 'Average Weekly Wage',\n",
    " 'Accident Day',\n",
    " 'Assembly Month',\n",
    " 'C-2 Year',\n",
    " 'County of Injury',\n",
    " 'Carrier Name',\n",
    " 'C-3 Date Binary',\n",
    " 'Carrier Type',\n",
    " 'District Name',\n",
    " 'Zip Code',\n",
    " 'Alternative Dispute Resolution',\n",
    " 'Industry Code',\n",
    " 'Gender',\n",
    " 'Attorney/Representative',\n",
    " 'WCIO Nature of Injury Code',\n",
    " 'WCIO Part Of Body Code',\n",
    " 'WCIO Cause of Injury Code',\n",
    " 'COVID-19 Indicator',\n",
    " 'Medical Fee Region']"
   ]
  },
  {
   "cell_type": "code",
   "execution_count": null,
   "id": "7e04ba18",
   "metadata": {
    "ExecuteTime": {
     "end_time": "2024-10-30T16:23:38.296921Z",
     "start_time": "2024-10-30T16:23:38.296905Z"
    }
   },
   "outputs": [],
   "source": [
    "song.play_('audio.mp3')"
   ]
  },
  {
   "cell_type": "markdown",
   "id": "7b38cb75",
   "metadata": {},
   "source": [
    "Numerical Features: Lasso, RFE, Variance Threshold, Correlation Matrix, Statistical Tests. <br> <BR>\n",
    "Categorical Features: Chi-Squared Test, Information Gain, Tree-based Methods, Mutual Information."
   ]
  },
  {
   "cell_type": "code",
   "execution_count": null,
   "id": "c3f1106e",
   "metadata": {},
   "outputs": [],
   "source": []
  }
 ],
 "metadata": {
  "kernelspec": {
   "display_name": "Python 3 (ipykernel)",
   "language": "python",
   "name": "python3"
  },
  "language_info": {
   "codemirror_mode": {
    "name": "ipython",
    "version": 3
   },
   "file_extension": ".py",
   "mimetype": "text/x-python",
   "name": "python",
   "nbconvert_exporter": "python",
   "pygments_lexer": "ipython3",
   "version": "3.10.13"
  }
 },
 "nbformat": 4,
 "nbformat_minor": 5
}
