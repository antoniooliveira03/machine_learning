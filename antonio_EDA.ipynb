{
 "cells": [
  {
   "cell_type": "markdown",
   "id": "238d4503",
   "metadata": {},
   "source": [
    "<a class=\"anchor\" id=\"top\"></a>"
   ]
  },
  {
   "cell_type": "markdown",
   "id": "c7d4dad5",
   "metadata": {},
   "source": [
    "# 1. Importing Libraries & Data\n",
    "In this section, we set up the foundation for our project by importing the necessary Python libraries and loading the dataset. These libraries provide the tools for data manipulation, visualization, and machine learning modeling throughout the notebook. Additionally, we import the historical claims dataset, which forms the core of our analysis. "
   ]
  },
  {
   "cell_type": "code",
   "execution_count": 73,
   "id": "ad175104",
   "metadata": {
    "ExecuteTime": {
     "end_time": "2024-11-23T15:17:27.297982Z",
     "start_time": "2024-11-23T15:17:27.292776Z"
    }
   },
   "outputs": [],
   "source": [
    "import pandas as pd\n",
    "import numpy as np\n",
    "\n",
    "\n",
    "import utils as u\n",
    "\n",
    "import matplotlib.pyplot as plt\n",
    "import seaborn as sns\n",
    "import viz as v\n",
    "\n",
    "%matplotlib inline\n",
    "\n",
    "pd.set_option('display.max_columns', None)\n",
    "# Suppress Warnings\n",
    "import warnings\n",
    "warnings.filterwarnings(\"ignore\")"
   ]
  },
  {
   "cell_type": "markdown",
   "id": "a33bfd6a",
   "metadata": {},
   "source": [
    "**Import Data**"
   ]
  },
  {
   "cell_type": "code",
   "execution_count": 74,
   "id": "98f89462",
   "metadata": {
    "ExecuteTime": {
     "end_time": "2024-11-23T15:17:33.528097Z",
     "start_time": "2024-11-23T15:17:28.183790Z"
    }
   },
   "outputs": [
    {
     "data": {
      "text/html": [
       "<div>\n",
       "<style scoped>\n",
       "    .dataframe tbody tr th:only-of-type {\n",
       "        vertical-align: middle;\n",
       "    }\n",
       "\n",
       "    .dataframe tbody tr th {\n",
       "        vertical-align: top;\n",
       "    }\n",
       "\n",
       "    .dataframe thead th {\n",
       "        text-align: right;\n",
       "    }\n",
       "</style>\n",
       "<table border=\"1\" class=\"dataframe\">\n",
       "  <thead>\n",
       "    <tr style=\"text-align: right;\">\n",
       "      <th></th>\n",
       "      <th>Accident Date</th>\n",
       "      <th>Age at Injury</th>\n",
       "      <th>Alternative Dispute Resolution</th>\n",
       "      <th>Assembly Date</th>\n",
       "      <th>Attorney/Representative</th>\n",
       "      <th>Average Weekly Wage</th>\n",
       "      <th>Birth Year</th>\n",
       "      <th>C-2 Date</th>\n",
       "      <th>C-3 Date</th>\n",
       "      <th>Carrier Name</th>\n",
       "      <th>Carrier Type</th>\n",
       "      <th>Claim Injury Type</th>\n",
       "      <th>County of Injury</th>\n",
       "      <th>COVID-19 Indicator</th>\n",
       "      <th>District Name</th>\n",
       "      <th>First Hearing Date</th>\n",
       "      <th>Gender</th>\n",
       "      <th>IME-4 Count</th>\n",
       "      <th>Industry Code</th>\n",
       "      <th>Industry Code Description</th>\n",
       "      <th>Medical Fee Region</th>\n",
       "      <th>OIICS Nature of Injury Description</th>\n",
       "      <th>WCIO Cause of Injury Code</th>\n",
       "      <th>WCIO Cause of Injury Description</th>\n",
       "      <th>WCIO Nature of Injury Code</th>\n",
       "      <th>WCIO Nature of Injury Description</th>\n",
       "      <th>WCIO Part Of Body Code</th>\n",
       "      <th>WCIO Part Of Body Description</th>\n",
       "      <th>Zip Code</th>\n",
       "      <th>Agreement Reached</th>\n",
       "      <th>WCB Decision</th>\n",
       "      <th>Number of Dependents</th>\n",
       "    </tr>\n",
       "    <tr>\n",
       "      <th>Claim Identifier</th>\n",
       "      <th></th>\n",
       "      <th></th>\n",
       "      <th></th>\n",
       "      <th></th>\n",
       "      <th></th>\n",
       "      <th></th>\n",
       "      <th></th>\n",
       "      <th></th>\n",
       "      <th></th>\n",
       "      <th></th>\n",
       "      <th></th>\n",
       "      <th></th>\n",
       "      <th></th>\n",
       "      <th></th>\n",
       "      <th></th>\n",
       "      <th></th>\n",
       "      <th></th>\n",
       "      <th></th>\n",
       "      <th></th>\n",
       "      <th></th>\n",
       "      <th></th>\n",
       "      <th></th>\n",
       "      <th></th>\n",
       "      <th></th>\n",
       "      <th></th>\n",
       "      <th></th>\n",
       "      <th></th>\n",
       "      <th></th>\n",
       "      <th></th>\n",
       "      <th></th>\n",
       "      <th></th>\n",
       "      <th></th>\n",
       "    </tr>\n",
       "  </thead>\n",
       "  <tbody>\n",
       "    <tr>\n",
       "      <th>5393875</th>\n",
       "      <td>2019-12-30</td>\n",
       "      <td>31.0</td>\n",
       "      <td>N</td>\n",
       "      <td>2020-01-01</td>\n",
       "      <td>N</td>\n",
       "      <td>0.00</td>\n",
       "      <td>1988.0</td>\n",
       "      <td>2019-12-31</td>\n",
       "      <td>NaN</td>\n",
       "      <td>NEW HAMPSHIRE INSURANCE CO</td>\n",
       "      <td>1A. PRIVATE</td>\n",
       "      <td>2. NON-COMP</td>\n",
       "      <td>ST. LAWRENCE</td>\n",
       "      <td>N</td>\n",
       "      <td>SYRACUSE</td>\n",
       "      <td>NaN</td>\n",
       "      <td>M</td>\n",
       "      <td>NaN</td>\n",
       "      <td>44.0</td>\n",
       "      <td>RETAIL TRADE</td>\n",
       "      <td>I</td>\n",
       "      <td>NaN</td>\n",
       "      <td>27.0</td>\n",
       "      <td>FROM LIQUID OR GREASE SPILLS</td>\n",
       "      <td>10.0</td>\n",
       "      <td>CONTUSION</td>\n",
       "      <td>62.0</td>\n",
       "      <td>BUTTOCKS</td>\n",
       "      <td>13662</td>\n",
       "      <td>0.0</td>\n",
       "      <td>Not Work Related</td>\n",
       "      <td>1.0</td>\n",
       "    </tr>\n",
       "    <tr>\n",
       "      <th>5393091</th>\n",
       "      <td>2019-08-30</td>\n",
       "      <td>46.0</td>\n",
       "      <td>N</td>\n",
       "      <td>2020-01-01</td>\n",
       "      <td>Y</td>\n",
       "      <td>1745.93</td>\n",
       "      <td>1973.0</td>\n",
       "      <td>2020-01-01</td>\n",
       "      <td>2020-01-14</td>\n",
       "      <td>ZURICH AMERICAN INSURANCE CO</td>\n",
       "      <td>1A. PRIVATE</td>\n",
       "      <td>4. TEMPORARY</td>\n",
       "      <td>WYOMING</td>\n",
       "      <td>N</td>\n",
       "      <td>ROCHESTER</td>\n",
       "      <td>2020-02-21</td>\n",
       "      <td>F</td>\n",
       "      <td>4.0</td>\n",
       "      <td>23.0</td>\n",
       "      <td>CONSTRUCTION</td>\n",
       "      <td>I</td>\n",
       "      <td>NaN</td>\n",
       "      <td>97.0</td>\n",
       "      <td>REPETITIVE MOTION</td>\n",
       "      <td>49.0</td>\n",
       "      <td>SPRAIN OR TEAR</td>\n",
       "      <td>38.0</td>\n",
       "      <td>SHOULDER(S)</td>\n",
       "      <td>14569</td>\n",
       "      <td>1.0</td>\n",
       "      <td>Not Work Related</td>\n",
       "      <td>4.0</td>\n",
       "    </tr>\n",
       "    <tr>\n",
       "      <th>5393889</th>\n",
       "      <td>2019-12-06</td>\n",
       "      <td>40.0</td>\n",
       "      <td>N</td>\n",
       "      <td>2020-01-01</td>\n",
       "      <td>N</td>\n",
       "      <td>1434.80</td>\n",
       "      <td>1979.0</td>\n",
       "      <td>2020-01-01</td>\n",
       "      <td>NaN</td>\n",
       "      <td>INDEMNITY INSURANCE CO OF</td>\n",
       "      <td>1A. PRIVATE</td>\n",
       "      <td>4. TEMPORARY</td>\n",
       "      <td>ORANGE</td>\n",
       "      <td>N</td>\n",
       "      <td>ALBANY</td>\n",
       "      <td>NaN</td>\n",
       "      <td>M</td>\n",
       "      <td>NaN</td>\n",
       "      <td>56.0</td>\n",
       "      <td>ADMINISTRATIVE AND SUPPORT AND WASTE MANAGEMEN...</td>\n",
       "      <td>II</td>\n",
       "      <td>NaN</td>\n",
       "      <td>79.0</td>\n",
       "      <td>OBJECT BEING LIFTED OR HANDLED</td>\n",
       "      <td>7.0</td>\n",
       "      <td>CONCUSSION</td>\n",
       "      <td>10.0</td>\n",
       "      <td>MULTIPLE HEAD INJURY</td>\n",
       "      <td>12589</td>\n",
       "      <td>0.0</td>\n",
       "      <td>Not Work Related</td>\n",
       "      <td>6.0</td>\n",
       "    </tr>\n",
       "  </tbody>\n",
       "</table>\n",
       "</div>"
      ],
      "text/plain": [
       "                 Accident Date  Age at Injury Alternative Dispute Resolution  \\\n",
       "Claim Identifier                                                               \n",
       "5393875             2019-12-30           31.0                              N   \n",
       "5393091             2019-08-30           46.0                              N   \n",
       "5393889             2019-12-06           40.0                              N   \n",
       "\n",
       "                 Assembly Date Attorney/Representative  Average Weekly Wage  \\\n",
       "Claim Identifier                                                              \n",
       "5393875             2020-01-01                       N                 0.00   \n",
       "5393091             2020-01-01                       Y              1745.93   \n",
       "5393889             2020-01-01                       N              1434.80   \n",
       "\n",
       "                  Birth Year    C-2 Date    C-3 Date  \\\n",
       "Claim Identifier                                       \n",
       "5393875               1988.0  2019-12-31         NaN   \n",
       "5393091               1973.0  2020-01-01  2020-01-14   \n",
       "5393889               1979.0  2020-01-01         NaN   \n",
       "\n",
       "                                  Carrier Name Carrier Type Claim Injury Type  \\\n",
       "Claim Identifier                                                                \n",
       "5393875             NEW HAMPSHIRE INSURANCE CO  1A. PRIVATE       2. NON-COMP   \n",
       "5393091           ZURICH AMERICAN INSURANCE CO  1A. PRIVATE      4. TEMPORARY   \n",
       "5393889              INDEMNITY INSURANCE CO OF  1A. PRIVATE      4. TEMPORARY   \n",
       "\n",
       "                 County of Injury COVID-19 Indicator District Name  \\\n",
       "Claim Identifier                                                     \n",
       "5393875              ST. LAWRENCE                  N      SYRACUSE   \n",
       "5393091                   WYOMING                  N     ROCHESTER   \n",
       "5393889                    ORANGE                  N        ALBANY   \n",
       "\n",
       "                 First Hearing Date Gender  IME-4 Count  Industry Code  \\\n",
       "Claim Identifier                                                         \n",
       "5393875                         NaN      M          NaN           44.0   \n",
       "5393091                  2020-02-21      F          4.0           23.0   \n",
       "5393889                         NaN      M          NaN           56.0   \n",
       "\n",
       "                                          Industry Code Description  \\\n",
       "Claim Identifier                                                      \n",
       "5393875                                                RETAIL TRADE   \n",
       "5393091                                                CONSTRUCTION   \n",
       "5393889           ADMINISTRATIVE AND SUPPORT AND WASTE MANAGEMEN...   \n",
       "\n",
       "                 Medical Fee Region  OIICS Nature of Injury Description  \\\n",
       "Claim Identifier                                                          \n",
       "5393875                           I                                 NaN   \n",
       "5393091                           I                                 NaN   \n",
       "5393889                          II                                 NaN   \n",
       "\n",
       "                  WCIO Cause of Injury Code WCIO Cause of Injury Description  \\\n",
       "Claim Identifier                                                               \n",
       "5393875                                27.0     FROM LIQUID OR GREASE SPILLS   \n",
       "5393091                                97.0                REPETITIVE MOTION   \n",
       "5393889                                79.0   OBJECT BEING LIFTED OR HANDLED   \n",
       "\n",
       "                  WCIO Nature of Injury Code  \\\n",
       "Claim Identifier                               \n",
       "5393875                                 10.0   \n",
       "5393091                                 49.0   \n",
       "5393889                                  7.0   \n",
       "\n",
       "                 WCIO Nature of Injury Description  WCIO Part Of Body Code  \\\n",
       "Claim Identifier                                                             \n",
       "5393875                                  CONTUSION                    62.0   \n",
       "5393091                             SPRAIN OR TEAR                    38.0   \n",
       "5393889                                 CONCUSSION                    10.0   \n",
       "\n",
       "                 WCIO Part Of Body Description Zip Code  Agreement Reached  \\\n",
       "Claim Identifier                                                             \n",
       "5393875                               BUTTOCKS    13662                0.0   \n",
       "5393091                            SHOULDER(S)    14569                1.0   \n",
       "5393889                   MULTIPLE HEAD INJURY    12589                0.0   \n",
       "\n",
       "                      WCB Decision  Number of Dependents  \n",
       "Claim Identifier                                          \n",
       "5393875           Not Work Related                   1.0  \n",
       "5393091           Not Work Related                   4.0  \n",
       "5393889           Not Work Related                   6.0  "
      ]
     },
     "execution_count": 74,
     "metadata": {},
     "output_type": "execute_result"
    }
   ],
   "source": [
    "# Load training data\n",
    "df = pd.read_csv('./project_data/train_data.csv', index_col = 'Claim Identifier')\n",
    "\n",
    "# Load testing data\n",
    "test = pd.read_csv('./project_data/test_data.csv', index_col = 'Claim Identifier')\n",
    "\n",
    "# Display the first 3 rows of the training data\n",
    "df.head(3)"
   ]
  },
  {
   "cell_type": "markdown",
   "id": "50563254",
   "metadata": {},
   "source": [
    "# 2. Exploratory Data Analysis\n",
    "This section is dedicated to conducting an in-depth Exploratory Data Analysis (EDA) to comprehend the dataset’s structure, statistical properties, and inherent patterns. Through systematic analysis, we aim to identify key relationships among variables, detect potential anomalies, and evaluate the completeness and quality of the data. The findings from this stage serve as a critical foundation for subsequent data preprocessing and model development, ensuring that informed and data-driven decisions guide the overall analytical workflow.\n",
    "\n",
    "<a href=\"#top\">Top &#129033;</a>"
   ]
  },
  {
   "cell_type": "markdown",
   "id": "08a63470",
   "metadata": {},
   "source": [
    "**Profile Report**"
   ]
  },
  {
   "cell_type": "code",
   "execution_count": null,
   "id": "f3f684bc",
   "metadata": {
    "ExecuteTime": {
     "start_time": "2024-11-23T14:32:08.787Z"
    }
   },
   "outputs": [],
   "source": [
    "from ydata_profiling import ProfileReport\n",
    "\n",
    "profile = ProfileReport(\n",
    "    df, \n",
    "    title='Data',\n",
    "    correlations={\n",
    "        \"pearson\": {\"calculate\": True},\n",
    "        \"spearman\": {\"calculate\": False},\n",
    "        \"kendall\": {\"calculate\": False},\n",
    "        \"phi_k\": {\"calculate\": False},\n",
    "        \"cramers\": {\"calculate\": False},\n",
    "    },\n",
    ")\n",
    "\n",
    "profile"
   ]
  },
  {
   "cell_type": "markdown",
   "id": "0092acda",
   "metadata": {},
   "source": [
    "From using a `Profile Report` we were able to identify some possible problems about variables:\n",
    "- WCB Decision has constant value \"Not Work Related\"\n",
    "- Alternative Dispute Resolution is highly imbalanced (97.3%)\n",
    "- C-3 Date has 406226 (68.4%) missing values\n",
    "- First Hearing Date has 442673 (74.6%) missing values\n",
    "- IME-4 Count has 460668 (77.6%) missing values\n",
    "- OIICS Nature of Injury Description has 593471 (100.0%) missing values\n",
    "- Zip Code is an unsupported type, check if it needs cleaning or further analysis\n",
    "- Average Weekly Wage has 335450 (56.5%) zeros\n",
    "- Birth Year has 25081 (4.2%) zeros\n",
    "- Claim Injury Type (Target) has 19445 (3.3%) missing values and is imbalanced\n",
    "\n",
    "And about the dataset itself:\n",
    "- Dataset has 1103 (0.2%) duplicate rows\n",
    "\n",
    "The same method was applied to test data"
   ]
  },
  {
   "cell_type": "code",
   "execution_count": null,
   "id": "3197eb83",
   "metadata": {
    "ExecuteTime": {
     "start_time": "2024-11-23T14:32:08.789Z"
    }
   },
   "outputs": [],
   "source": [
    "profile_test = ProfileReport(\n",
    "    test, \n",
    "    title='Data',\n",
    "    correlations={\n",
    "        \"pearson\": {\"calculate\": True},\n",
    "        \"spearman\": {\"calculate\": False},\n",
    "        \"kendall\": {\"calculate\": False},\n",
    "        \"phi_k\": {\"calculate\": False},\n",
    "        \"cramers\": {\"calculate\": False},\n",
    "    },\n",
    ")\n",
    "\n",
    "profile_test"
   ]
  },
  {
   "cell_type": "markdown",
   "id": "36f6d1ef",
   "metadata": {},
   "source": [
    "From using a `Profile Report` for the test data we were able to identify some possible problems about variables:\n",
    "- Alternative Dispute Resolution is highly imbalanced (97.5%)\n",
    "- COVID-19 Indicator is highly imbalanced (94.3%)\n",
    "- First Hearing Date has 344947 (88.9%) missing values\n",
    "- IME-4 Count has 352726 (90.9%) missing values\n",
    "- OIICS Nature of Injury Description has 387975 (100.0%) missing values\n",
    "\n",
    "And about the test dataset itself: \n",
    "- Dataset has 2 (< 0.1%) duplicate rows\n",
    "\n",
    "There are also columns that are present in the train data but not in the test data (apart from our Target variable):\n",
    "- Agreement Reached\n",
    "- WCB Decision\n",
    "\n",
    "After using `Profile Report`, we will also employ well known methods for basic statistics, such as `describe`, `info` and `shape`, as well as print the unique values for each column."
   ]
  },
  {
   "cell_type": "code",
   "execution_count": null,
   "id": "23a68c71",
   "metadata": {
    "ExecuteTime": {
     "start_time": "2024-11-23T14:32:08.791Z"
    }
   },
   "outputs": [],
   "source": [
    "# The \"include='object'\" argument limits the description to only categorical data types.\n",
    "# Transpose the result (.T) to display statistics in a more readable format with rows as columns.\n",
    "df.describe(include='object').T"
   ]
  },
  {
   "cell_type": "code",
   "execution_count": null,
   "id": "3a0c49cf",
   "metadata": {
    "ExecuteTime": {
     "start_time": "2024-11-23T14:32:08.792Z"
    }
   },
   "outputs": [],
   "source": [
    "# .describe provides statistical summaries for the numerical columns\n",
    "df.describe().T"
   ]
  },
  {
   "cell_type": "code",
   "execution_count": null,
   "id": "31aa9a40",
   "metadata": {
    "ExecuteTime": {
     "start_time": "2024-11-23T14:32:08.794Z"
    }
   },
   "outputs": [],
   "source": [
    "# Display summary information about the DataFrame\n",
    "df.info()"
   ]
  },
  {
   "cell_type": "code",
   "execution_count": null,
   "id": "4cea1ffb",
   "metadata": {
    "ExecuteTime": {
     "start_time": "2024-11-23T14:32:08.796Z"
    }
   },
   "outputs": [],
   "source": [
    "# Check the dimensions of the dataset (number of rows and columns)\n",
    "df.shape"
   ]
  },
  {
   "cell_type": "code",
   "execution_count": null,
   "id": "a59e73c0",
   "metadata": {
    "ExecuteTime": {
     "start_time": "2024-11-23T14:32:08.797Z"
    }
   },
   "outputs": [],
   "source": [
    "# Loop through each column in the DataFrame\n",
    "for column in df.columns:\n",
    "    \n",
    "    # Check if the number of unique values in the column is less than 20\n",
    "    if df[column].nunique() < 20:\n",
    "        \n",
    "        # Print unique values and count for columns with fewer than 20 unique values\n",
    "        print(f\"Unique values in '{column}': {df[column].unique()}\")\n",
    "        print(f\"Number of unique values: {df[column].nunique()}\\n\")"
   ]
  },
  {
   "cell_type": "markdown",
   "id": "310d5c57",
   "metadata": {},
   "source": [
    "From these, we were able to conclude that the dataset had 593471 rows and 32 columns. \n",
    "\n",
    "Additionally, we noticed that:\n",
    "- WCB Decision only had 1 unique value\n",
    "- We have 4 different values for Gender\n",
    "- Age ranges from 0 to 117\n",
    "- Birth Year ranges from 0 to 2018\n",
    "\n",
    "\n",
    "There is also a column which is always null, **OIICS Nature of Injury Description**."
   ]
  },
  {
   "cell_type": "markdown",
   "id": "bb332470",
   "metadata": {},
   "source": [
    "## 2.1 Variable Exploration\n",
    "\n",
    "Incoherencies, can compromise the integrity of the analysis and the performance of machine learning models. By systematically identifying and addressing these issues, we aim to enhance data quality and ensure the dataset is both accurate and reliable for subsequent preprocessing and modeling stages.\n",
    "\n",
    "<a href=\"#top\">Top &#129033;</a>\n",
    "\n",
    "In this section we will start by dropping the features that exist in the train data (df) but not in the test, as well **OIICS Nature of Injury Description**, which is always null.\n",
    "\n",
    "We will also correct the date datatypes in both df and test.\n",
    "\n",
    "Then, we will individually analyze each variable to better understand it."
   ]
  },
  {
   "cell_type": "code",
   "execution_count": 75,
   "id": "7dd3b626",
   "metadata": {
    "ExecuteTime": {
     "end_time": "2024-11-23T15:17:36.217980Z",
     "start_time": "2024-11-23T15:17:36.214706Z"
    }
   },
   "outputs": [],
   "source": [
    "columns = ['Agreement Reached', 'WCB Decision', 'OIICS Nature of Injury Description']"
   ]
  },
  {
   "cell_type": "code",
   "execution_count": 76,
   "id": "36a43e64",
   "metadata": {
    "ExecuteTime": {
     "end_time": "2024-11-23T15:17:36.694405Z",
     "start_time": "2024-11-23T15:17:36.458470Z"
    }
   },
   "outputs": [],
   "source": [
    "df = df.drop(columns = columns, axis = 1)\n",
    "test = test.drop(columns = columns[-1], axis = 1)"
   ]
  },
  {
   "cell_type": "code",
   "execution_count": 77,
   "id": "2dfedf2a",
   "metadata": {
    "ExecuteTime": {
     "end_time": "2024-11-23T15:17:37.321211Z",
     "start_time": "2024-11-23T15:17:36.748325Z"
    }
   },
   "outputs": [],
   "source": [
    "# List of columns to convert to datetime\n",
    "date_columns = ['Accident Date', 'Assembly Date', 'C-2 Date', 'C-3 Date', 'First Hearing Date']\n",
    "\n",
    "# Apply pd.to_datetime() to each column in the list for both df and test\n",
    "for col in date_columns:\n",
    "    df[col] = pd.to_datetime(df[col], errors='coerce')\n",
    "    test[col] = pd.to_datetime(test[col], errors='coerce')\n"
   ]
  },
  {
   "cell_type": "markdown",
   "id": "0f0ef0a6",
   "metadata": {},
   "source": [
    "Having made these initial transformations, we will start the exploration by comparing the minimum, average and maximum values of both df and test datasets, for all numeric variables"
   ]
  },
  {
   "cell_type": "code",
   "execution_count": 82,
   "id": "9c2ed2fb",
   "metadata": {
    "ExecuteTime": {
     "end_time": "2024-11-23T15:08:11.685859Z",
     "start_time": "2024-11-23T15:08:11.678135Z"
    }
   },
   "outputs": [],
   "source": [
    "num_columns = [col for col in df.columns if pd.api.types.is_numeric_dtype(df[col])]\n",
    "\n",
    "obj_columns = [col for col in df.columns if isinstance(df[col].dtype, pd.CategoricalDtype) or df[col].dtype == 'object']"
   ]
  },
  {
   "cell_type": "code",
   "execution_count": 83,
   "id": "d57a17fd",
   "metadata": {
    "ExecuteTime": {
     "end_time": "2024-11-23T15:08:12.660790Z",
     "start_time": "2024-11-23T15:08:11.849675Z"
    }
   },
   "outputs": [
    {
     "data": {
      "text/html": [
       "<div>\n",
       "<style scoped>\n",
       "    .dataframe tbody tr th:only-of-type {\n",
       "        vertical-align: middle;\n",
       "    }\n",
       "\n",
       "    .dataframe tbody tr th {\n",
       "        vertical-align: top;\n",
       "    }\n",
       "\n",
       "    .dataframe thead th {\n",
       "        text-align: right;\n",
       "    }\n",
       "</style>\n",
       "<table border=\"1\" class=\"dataframe\">\n",
       "  <thead>\n",
       "    <tr style=\"text-align: right;\">\n",
       "      <th></th>\n",
       "      <th>DF Mean</th>\n",
       "      <th>Test Mean</th>\n",
       "      <th>DF Std</th>\n",
       "      <th>Test Std</th>\n",
       "      <th>DF Min</th>\n",
       "      <th>Test Min</th>\n",
       "      <th>DF 25%</th>\n",
       "      <th>Test 25%</th>\n",
       "      <th>DF 50%</th>\n",
       "      <th>Test 50%</th>\n",
       "      <th>DF 75%</th>\n",
       "      <th>Test 75%</th>\n",
       "      <th>DF Max</th>\n",
       "      <th>Test Max</th>\n",
       "    </tr>\n",
       "  </thead>\n",
       "  <tbody>\n",
       "    <tr>\n",
       "      <th>Age at Injury</th>\n",
       "      <td>42.114270</td>\n",
       "      <td>41.414944</td>\n",
       "      <td>14.256432</td>\n",
       "      <td>14.501056</td>\n",
       "      <td>0.0</td>\n",
       "      <td>0.0</td>\n",
       "      <td>31.0</td>\n",
       "      <td>30.0</td>\n",
       "      <td>42.0</td>\n",
       "      <td>40.0</td>\n",
       "      <td>54.0</td>\n",
       "      <td>53.0</td>\n",
       "      <td>117.0</td>\n",
       "      <td>114.0</td>\n",
       "    </tr>\n",
       "    <tr>\n",
       "      <th>Average Weekly Wage</th>\n",
       "      <td>491.088321</td>\n",
       "      <td>183.343831</td>\n",
       "      <td>6092.918120</td>\n",
       "      <td>3542.310214</td>\n",
       "      <td>0.0</td>\n",
       "      <td>0.0</td>\n",
       "      <td>0.0</td>\n",
       "      <td>0.0</td>\n",
       "      <td>0.0</td>\n",
       "      <td>0.0</td>\n",
       "      <td>841.0</td>\n",
       "      <td>0.0</td>\n",
       "      <td>2828079.0</td>\n",
       "      <td>1950317.0</td>\n",
       "    </tr>\n",
       "    <tr>\n",
       "      <th>Birth Year</th>\n",
       "      <td>1886.767604</td>\n",
       "      <td>1875.383466</td>\n",
       "      <td>414.644423</td>\n",
       "      <td>444.659075</td>\n",
       "      <td>0.0</td>\n",
       "      <td>0.0</td>\n",
       "      <td>1965.0</td>\n",
       "      <td>1967.0</td>\n",
       "      <td>1977.0</td>\n",
       "      <td>1980.0</td>\n",
       "      <td>1989.0</td>\n",
       "      <td>1992.0</td>\n",
       "      <td>2018.0</td>\n",
       "      <td>2019.0</td>\n",
       "    </tr>\n",
       "    <tr>\n",
       "      <th>IME-4 Count</th>\n",
       "      <td>3.207337</td>\n",
       "      <td>2.118131</td>\n",
       "      <td>2.832303</td>\n",
       "      <td>1.465406</td>\n",
       "      <td>1.0</td>\n",
       "      <td>1.0</td>\n",
       "      <td>1.0</td>\n",
       "      <td>1.0</td>\n",
       "      <td>2.0</td>\n",
       "      <td>2.0</td>\n",
       "      <td>4.0</td>\n",
       "      <td>2.0</td>\n",
       "      <td>73.0</td>\n",
       "      <td>18.0</td>\n",
       "    </tr>\n",
       "    <tr>\n",
       "      <th>Industry Code</th>\n",
       "      <td>58.645305</td>\n",
       "      <td>58.653581</td>\n",
       "      <td>19.644175</td>\n",
       "      <td>18.710501</td>\n",
       "      <td>11.0</td>\n",
       "      <td>11.0</td>\n",
       "      <td>45.0</td>\n",
       "      <td>45.0</td>\n",
       "      <td>61.0</td>\n",
       "      <td>61.0</td>\n",
       "      <td>71.0</td>\n",
       "      <td>71.0</td>\n",
       "      <td>92.0</td>\n",
       "      <td>92.0</td>\n",
       "    </tr>\n",
       "    <tr>\n",
       "      <th>WCIO Cause of Injury Code</th>\n",
       "      <td>54.381143</td>\n",
       "      <td>53.335678</td>\n",
       "      <td>25.874281</td>\n",
       "      <td>26.176833</td>\n",
       "      <td>1.0</td>\n",
       "      <td>1.0</td>\n",
       "      <td>31.0</td>\n",
       "      <td>29.0</td>\n",
       "      <td>56.0</td>\n",
       "      <td>56.0</td>\n",
       "      <td>75.0</td>\n",
       "      <td>74.0</td>\n",
       "      <td>99.0</td>\n",
       "      <td>99.0</td>\n",
       "    </tr>\n",
       "    <tr>\n",
       "      <th>WCIO Nature of Injury Code</th>\n",
       "      <td>41.013839</td>\n",
       "      <td>38.373674</td>\n",
       "      <td>22.207521</td>\n",
       "      <td>20.966100</td>\n",
       "      <td>1.0</td>\n",
       "      <td>1.0</td>\n",
       "      <td>16.0</td>\n",
       "      <td>10.0</td>\n",
       "      <td>49.0</td>\n",
       "      <td>43.0</td>\n",
       "      <td>52.0</td>\n",
       "      <td>52.0</td>\n",
       "      <td>91.0</td>\n",
       "      <td>91.0</td>\n",
       "    </tr>\n",
       "    <tr>\n",
       "      <th>WCIO Part Of Body Code</th>\n",
       "      <td>39.738146</td>\n",
       "      <td>31.516109</td>\n",
       "      <td>22.365940</td>\n",
       "      <td>23.359950</td>\n",
       "      <td>-9.0</td>\n",
       "      <td>-9.0</td>\n",
       "      <td>33.0</td>\n",
       "      <td>15.0</td>\n",
       "      <td>38.0</td>\n",
       "      <td>36.0</td>\n",
       "      <td>53.0</td>\n",
       "      <td>51.0</td>\n",
       "      <td>99.0</td>\n",
       "      <td>99.0</td>\n",
       "    </tr>\n",
       "    <tr>\n",
       "      <th>Number of Dependents</th>\n",
       "      <td>3.006559</td>\n",
       "      <td>3.000284</td>\n",
       "      <td>2.000801</td>\n",
       "      <td>1.997982</td>\n",
       "      <td>0.0</td>\n",
       "      <td>0.0</td>\n",
       "      <td>1.0</td>\n",
       "      <td>1.0</td>\n",
       "      <td>3.0</td>\n",
       "      <td>3.0</td>\n",
       "      <td>5.0</td>\n",
       "      <td>5.0</td>\n",
       "      <td>6.0</td>\n",
       "      <td>6.0</td>\n",
       "    </tr>\n",
       "  </tbody>\n",
       "</table>\n",
       "</div>"
      ],
      "text/plain": [
       "                                DF Mean    Test Mean       DF Std  \\\n",
       "Age at Injury                 42.114270    41.414944    14.256432   \n",
       "Average Weekly Wage          491.088321   183.343831  6092.918120   \n",
       "Birth Year                  1886.767604  1875.383466   414.644423   \n",
       "IME-4 Count                    3.207337     2.118131     2.832303   \n",
       "Industry Code                 58.645305    58.653581    19.644175   \n",
       "WCIO Cause of Injury Code     54.381143    53.335678    25.874281   \n",
       "WCIO Nature of Injury Code    41.013839    38.373674    22.207521   \n",
       "WCIO Part Of Body Code        39.738146    31.516109    22.365940   \n",
       "Number of Dependents           3.006559     3.000284     2.000801   \n",
       "\n",
       "                               Test Std  DF Min  Test Min  DF 25%  Test 25%  \\\n",
       "Age at Injury                 14.501056     0.0       0.0    31.0      30.0   \n",
       "Average Weekly Wage         3542.310214     0.0       0.0     0.0       0.0   \n",
       "Birth Year                   444.659075     0.0       0.0  1965.0    1967.0   \n",
       "IME-4 Count                    1.465406     1.0       1.0     1.0       1.0   \n",
       "Industry Code                 18.710501    11.0      11.0    45.0      45.0   \n",
       "WCIO Cause of Injury Code     26.176833     1.0       1.0    31.0      29.0   \n",
       "WCIO Nature of Injury Code    20.966100     1.0       1.0    16.0      10.0   \n",
       "WCIO Part Of Body Code        23.359950    -9.0      -9.0    33.0      15.0   \n",
       "Number of Dependents           1.997982     0.0       0.0     1.0       1.0   \n",
       "\n",
       "                            DF 50%  Test 50%  DF 75%  Test 75%     DF Max  \\\n",
       "Age at Injury                 42.0      40.0    54.0      53.0      117.0   \n",
       "Average Weekly Wage            0.0       0.0   841.0       0.0  2828079.0   \n",
       "Birth Year                  1977.0    1980.0  1989.0    1992.0     2018.0   \n",
       "IME-4 Count                    2.0       2.0     4.0       2.0       73.0   \n",
       "Industry Code                 61.0      61.0    71.0      71.0       92.0   \n",
       "WCIO Cause of Injury Code     56.0      56.0    75.0      74.0       99.0   \n",
       "WCIO Nature of Injury Code    49.0      43.0    52.0      52.0       91.0   \n",
       "WCIO Part Of Body Code        38.0      36.0    53.0      51.0       99.0   \n",
       "Number of Dependents           3.0       3.0     5.0       5.0        6.0   \n",
       "\n",
       "                             Test Max  \n",
       "Age at Injury                   114.0  \n",
       "Average Weekly Wage         1950317.0  \n",
       "Birth Year                     2019.0  \n",
       "IME-4 Count                      18.0  \n",
       "Industry Code                    92.0  \n",
       "WCIO Cause of Injury Code        99.0  \n",
       "WCIO Nature of Injury Code       91.0  \n",
       "WCIO Part Of Body Code           99.0  \n",
       "Number of Dependents              6.0  "
      ]
     },
     "execution_count": 83,
     "metadata": {},
     "output_type": "execute_result"
    }
   ],
   "source": [
    "num_stats_compare = u.num_stats(df, test, num_columns)\n",
    "num_comparison_df = pd.DataFrame(num_stats_compare).T\n",
    "num_comparison_df"
   ]
  },
  {
   "cell_type": "markdown",
   "id": "c721290c",
   "metadata": {},
   "source": [
    "From this table, the main conclusions are:\n",
    "- **Average Weekly Wage** mean values in DF (491) are much larger than in test (183)\n",
    "- **Average Weekly Wage** values in the 75% percentile are much larger in df (841) than in test (0), which indicates a distribution shift between DF and test sets\n",
    "\n",
    "Apart from these, there are no other significant differences in the numeric columns of both sets."
   ]
  },
  {
   "cell_type": "code",
   "execution_count": null,
   "id": "7f07cda7",
   "metadata": {
    "ExecuteTime": {
     "start_time": "2024-11-23T14:32:08.809Z"
    }
   },
   "outputs": [],
   "source": [
    "obj_stats_compare = u.obj_stats(df, test, obj_columns)\n",
    "obj_comparison_df = pd.DataFrame(obj_stats_compare).T\n",
    "obj_comparison_df"
   ]
  },
  {
   "cell_type": "markdown",
   "id": "51549630",
   "metadata": {},
   "source": [
    "From this table, the main conclusions are:\n",
    "- **Carrier Type** has 8 unique values in DF, but only 7 in test\n",
    "- **WCIO Part Of Body Description** has 54 unique values in DF, but only 51 in test\n",
    "- **County of Injury** Mode is SUFFOLK in DF, but QUEENS in test\n",
    "- **WCIO Cause of Injury Description** and **WCIO Part Of Body Description** have different modes from DF to test"
   ]
  },
  {
   "cell_type": "markdown",
   "id": "ba8633b4",
   "metadata": {},
   "source": [
    "### 2.1.1 Univariate Analysis"
   ]
  },
  {
   "cell_type": "markdown",
   "id": "8bb8d335",
   "metadata": {},
   "source": [
    "### Numerical Variables"
   ]
  },
  {
   "cell_type": "code",
   "execution_count": null,
   "id": "9f692970",
   "metadata": {
    "ExecuteTime": {
     "start_time": "2024-11-23T14:32:08.811Z"
    }
   },
   "outputs": [],
   "source": [
    "v.plot_numeric_histograms(df)"
   ]
  },
  {
   "cell_type": "markdown",
   "id": "c0a61353",
   "metadata": {},
   "source": [
    "### Categorical Variables"
   ]
  },
  {
   "cell_type": "code",
   "execution_count": null,
   "id": "7dd456ee",
   "metadata": {
    "ExecuteTime": {
     "end_time": "2024-11-22T14:51:08.590945Z",
     "start_time": "2024-11-22T14:51:08.585214Z"
    }
   },
   "outputs": [],
   "source": []
  },
  {
   "cell_type": "markdown",
   "id": "b3a2feeb",
   "metadata": {},
   "source": [
    "**Carrier Type**\n",
    "\n",
    "As we previously identified, there are 2 categories present in DF (5A, 5C) that do not exist in test. This can be confirmed by the 2 visualisations bellow"
   ]
  },
  {
   "cell_type": "code",
   "execution_count": null,
   "id": "10e576f4",
   "metadata": {
    "ExecuteTime": {
     "start_time": "2024-11-23T14:32:08.814Z"
    }
   },
   "outputs": [],
   "source": [
    "v.plot_histogram_by_category(df, 'Carrier Type')"
   ]
  },
  {
   "cell_type": "code",
   "execution_count": null,
   "id": "9ad7638e",
   "metadata": {
    "ExecuteTime": {
     "start_time": "2024-11-23T14:32:08.816Z"
    }
   },
   "outputs": [],
   "source": [
    "v.plot_histogram_by_category(test, 'Carrier Type')"
   ]
  },
  {
   "cell_type": "markdown",
   "id": "721efa21",
   "metadata": {},
   "source": [
    "**WCIO Part Of Body Description**\n",
    "\n",
    "In DF, even though teh category 'Multiple' is still common, there are 2 categories that are even more common ('Lower Back Area' and 'Knee'), when comparing to the test data."
   ]
  },
  {
   "cell_type": "code",
   "execution_count": null,
   "id": "2df05c0d",
   "metadata": {
    "ExecuteTime": {
     "start_time": "2024-11-23T14:32:08.818Z"
    }
   },
   "outputs": [],
   "source": [
    "v.plot_histogram_by_category(df, 'WCIO Part Of Body Description', \n",
    "                          rotation = 90)"
   ]
  },
  {
   "cell_type": "code",
   "execution_count": null,
   "id": "35a10791",
   "metadata": {
    "ExecuteTime": {
     "start_time": "2024-11-23T14:32:08.819Z"
    }
   },
   "outputs": [],
   "source": [
    "v.plot_histogram_by_category(test, 'WCIO Part Of Body Description', \n",
    "                          rotation = 90)"
   ]
  },
  {
   "cell_type": "markdown",
   "id": "c94b2870",
   "metadata": {},
   "source": [
    "### 2.1.2 Bivariate Analysis"
   ]
  },
  {
   "cell_type": "markdown",
   "id": "67ad2366",
   "metadata": {},
   "source": [
    "### Numeric vs Numeric"
   ]
  },
  {
   "cell_type": "code",
   "execution_count": null,
   "id": "0d32c1ee",
   "metadata": {
    "ExecuteTime": {
     "start_time": "2024-11-23T14:32:08.822Z"
    }
   },
   "outputs": [],
   "source": [
    "# Remove rows with missing values\n",
    "temp = df.dropna()\n",
    "\n",
    "# Select numerical columns for correlation analysis\n",
    "corr_data = temp.select_dtypes(include=['number'])\n",
    "\n",
    "# Compute the Spearman correlation matrix (Pearson is the default)\n",
    "correlation_matrix = corr_data.corr(method='spearman')\n",
    "\n",
    "# Plot the correlation heatmap\n",
    "plt.figure(figsize=(10, 8))\n",
    "sns.heatmap(correlation_matrix, annot=True, cmap='YlOrBr', linewidths=0.1)\n",
    "plt.show()"
   ]
  },
  {
   "cell_type": "markdown",
   "id": "914c6e79",
   "metadata": {},
   "source": [
    "From plotting a correlation matrix for numeric features, we can conclude that there are no highly positive correlations. Nonetheless, there is a highly negative correlation (-0.91) between **Birth Year** and **Age at Injury**. \n",
    "\n",
    "This negative correlation was to be expected, as the age can be computed from the birth year, and the higher the birth year, the lower the age.\n",
    "\n",
    "This problem will be addressed later in the project."
   ]
  },
  {
   "cell_type": "code",
   "execution_count": null,
   "id": "ef8f311b",
   "metadata": {
    "ExecuteTime": {
     "start_time": "2024-11-23T14:32:08.823Z"
    }
   },
   "outputs": [],
   "source": [
    "def plot_pairwise_relationship(df):\n",
    "    # Select only numerical columns\n",
    "    num_columns = df.select_dtypes(include=['number']).columns\n",
    "\n",
    "    # Create a pairplot with only the lower triangle\n",
    "    g = sns.pairplot(df[num_columns], kind='scatter', \n",
    "                 hue=None, plot_kws={'s': 10, 'color': 'orange'}, \n",
    "                 corner=True) \n",
    "    \n",
    "    # Update the diagonal plots to be orange\n",
    "    for ax in g.diag_axes:\n",
    "        for patch in ax.patches:\n",
    "            patch.set_facecolor('orange')\n",
    "\n",
    "        \n",
    "    plt.show()"
   ]
  },
  {
   "cell_type": "code",
   "execution_count": null,
   "id": "8f61f129",
   "metadata": {
    "ExecuteTime": {
     "start_time": "2024-11-23T14:32:08.825Z"
    }
   },
   "outputs": [],
   "source": [
    "plot_pairwise_relationship(df)"
   ]
  },
  {
   "cell_type": "markdown",
   "id": "fbbd5f34",
   "metadata": {},
   "source": [
    "Above we are plotting scatterplots for all combinations of numeric variables, looking for linear relationships between them. Since this matrix is mirrored on the diagonal, we decided to only display half of it.\n",
    "\n",
    "This allowed us to conclude that there are no linear relationships when combining two numeric variables."
   ]
  },
  {
   "cell_type": "markdown",
   "id": "a70964d7",
   "metadata": {},
   "source": [
    "**Numeric vs Objects**"
   ]
  },
  {
   "cell_type": "code",
   "execution_count": null,
   "id": "21aa47b4",
   "metadata": {
    "ExecuteTime": {
     "start_time": "2024-11-23T14:32:08.827Z"
    }
   },
   "outputs": [],
   "source": [
    "discrete = ['Birth Year', 'IME-4 Count', 'Industry Code',\n",
    "            'WCIO Cause of Injury Code', 'WCIO Nature of Injury Code',\n",
    "            'WCIO Part Of Body Code', 'Number of Dependents']\n",
    "\n",
    "continuous = ['Age at Injury', 'Average Weekly Wage']\n",
    "\n",
    "objects = [col for col in df.select_dtypes(include=['object']).columns\n",
    "               if df[col].nunique() < 9]"
   ]
  },
  {
   "cell_type": "markdown",
   "id": "1f7b5f37",
   "metadata": {},
   "source": [
    "For Categorical vs Numerical Discrete Variables"
   ]
  },
  {
   "cell_type": "code",
   "execution_count": null,
   "id": "f1333b50",
   "metadata": {
    "ExecuteTime": {
     "start_time": "2024-11-23T14:32:08.829Z"
    }
   },
   "outputs": [],
   "source": [
    "# def plot_categorical_vs_discrete_matrix(df, categorical, discrete, n_cols=3):\n",
    "#     # Calculate the number of rows needed based on the number of categories and columns\n",
    "#     n_cats = len(categorical)\n",
    "#     n_discrete = len(discrete)\n",
    "    \n",
    "#     # Calculate number of rows required\n",
    "#     n_rows = int(np.ceil(n_cats * n_discrete / n_cols))\n",
    "    \n",
    "#     # Create a figure with subplots\n",
    "#     fig, axes = plt.subplots(nrows=n_rows, ncols=n_cols, figsize=(n_cols * 6, n_rows * 6))\n",
    "    \n",
    "#     # Flatten axes for easy iteration\n",
    "#     axes = axes.flatten()\n",
    "\n",
    "#     plot_idx = 0\n",
    "#     for i, cat in enumerate(categorical):\n",
    "#         for j, disc in enumerate(discrete):\n",
    "#             if plot_idx < len(axes):\n",
    "#                 # Plot the countplot for each combination of categorical and discrete variables\n",
    "#                 sns.countplot(x=disc, hue=cat, data=df, palette='Oranges', ax=axes[plot_idx])\n",
    "#                 axes[plot_idx].set_title(f'{cat} vs {disc}')\n",
    "#                 axes[plot_idx].tick_params(axis='x', rotation=45)\n",
    "#                 plot_idx += 1\n",
    "                \n",
    "                \n",
    "#                 # Hide x-tick labels if there are more than 8\n",
    "#                 if len(df[column].value_counts()) > 8:\n",
    "#                     axes.set_xticklabels([])\n",
    "#                 else:\n",
    "#                     axes.tick_params(axis='x', rotation=45)\n",
    "\n",
    "#     # Hide any unused subplots\n",
    "#     for idx in range(plot_idx, len(axes)):\n",
    "#         axes[idx].axis('off')\n",
    "\n",
    "#     # Adjust layout for better spacing\n",
    "#     plt.tight_layout()\n",
    "#     plt.show()"
   ]
  },
  {
   "cell_type": "code",
   "execution_count": null,
   "id": "179de860",
   "metadata": {
    "ExecuteTime": {
     "start_time": "2024-11-23T14:32:08.830Z"
    }
   },
   "outputs": [],
   "source": [
    "# plot_categorical_vs_discrete_matrix(df, categorical, discrete, n_cols=3)"
   ]
  },
  {
   "cell_type": "markdown",
   "id": "9d7f7499",
   "metadata": {},
   "source": [
    "For Categorical vs Numerical Continuous Variables"
   ]
  },
  {
   "cell_type": "code",
   "execution_count": null,
   "id": "7f5c8e42",
   "metadata": {
    "ExecuteTime": {
     "start_time": "2024-11-23T14:32:08.832Z"
    }
   },
   "outputs": [],
   "source": [
    "def plot_categ_cont(df, categorical, continuous, n_cols=3):\n",
    "    # Calculate the number of rows needed based on number of categories and columns\n",
    "    n_cats = len(categorical)\n",
    "    n_cont = len(continuous)\n",
    "    \n",
    "    # Calculate number of rows required\n",
    "    n_rows = int(np.ceil(n_cats / n_cols))\n",
    "    \n",
    "    # Create a figure with subplots\n",
    "    fig, axes = plt.subplots(nrows=n_rows, ncols=n_cols, figsize=(n_cols * 6, n_rows * 6))\n",
    "    \n",
    "    # Flatten axes for easy iteration\n",
    "    axes = axes.flatten()\n",
    "\n",
    "    plot_idx = 0\n",
    "    for i, cat in enumerate(categorical):\n",
    "        for j, cont in enumerate(continuous):\n",
    "            if plot_idx < len(axes):\n",
    "                sns.boxplot(x=cat, y=cont, data=df, palette='Oranges', ax=axes[plot_idx])\n",
    "                axes[plot_idx].set_title(f'{cat} vs {cont}')\n",
    "                axes[plot_idx].tick_params(axis='x', rotation=45)\n",
    "                plot_idx += 1\n",
    "\n",
    "    # Hide any unused subplots\n",
    "    for idx in range(plot_idx, len(axes)):\n",
    "        axes[idx].axis('off')\n",
    "\n",
    "    # Adjust layout for better spacing\n",
    "    plt.tight_layout()\n",
    "    plt.show()"
   ]
  },
  {
   "cell_type": "code",
   "execution_count": null,
   "id": "d81362d3",
   "metadata": {
    "ExecuteTime": {
     "start_time": "2024-11-23T14:32:08.833Z"
    }
   },
   "outputs": [],
   "source": [
    "plot_categ_cont(df, categorical, continuous)"
   ]
  },
  {
   "cell_type": "markdown",
   "id": "381b27f7",
   "metadata": {},
   "source": [
    "**Categorical vs Categorical**"
   ]
  },
  {
   "cell_type": "code",
   "execution_count": null,
   "id": "5168621a",
   "metadata": {
    "ExecuteTime": {
     "start_time": "2024-11-23T14:32:08.835Z"
    }
   },
   "outputs": [],
   "source": [
    "# def plot_crosstab_matrix(df, categorical, n_cols=3):\n",
    "#     n = len(categorical)\n",
    "\n",
    "#     # Calculate the number of rows needed based on the number of columns specified\n",
    "#     n_rows = (n * (n - 1)) // n_cols  # Ceiling division to ensure proper number of rows\n",
    "\n",
    "#     # Create a figure with subplots, n_rows x n_cols grid\n",
    "#     fig, axes = plt.subplots(n_rows, n_cols, figsize=(n_cols * 5, n_rows * 5))\n",
    "#     axes = axes.flatten()  # Flatten the axes to easily index them\n",
    "\n",
    "#     # Loop through all pairs of categorical columns (col1, col2)\n",
    "#     ax_idx = 0  # This will help us to assign axes for each plot\n",
    "#     for i, col1 in enumerate(categorical):\n",
    "#         for j, col2 in enumerate(categorical):\n",
    "#             if col1 != col2:\n",
    "#                 # Create crosstab between col1 and col2\n",
    "#                 ct = pd.crosstab(df[col1], df[col2])\n",
    "\n",
    "#                 # Ensure there are enough subplots, if not break\n",
    "#                 if ax_idx >= len(axes):\n",
    "#                     break\n",
    "\n",
    "#                 # Create heatmap for this pair of categorical columns\n",
    "#                 sns.heatmap(ct, annot=True, fmt='d', cmap='Blues', ax=axes[ax_idx], cbar=False)\n",
    "#                 axes[ax_idx].set_title(f'{col1} vs {col2}')\n",
    "#                 axes[ax_idx].tick_params(axis='x', rotation=45)\n",
    "#                 axes[ax_idx].tick_params(axis='y', rotation=0)\n",
    "#                 ax_idx += 1  # Move to the next axis\n",
    "\n",
    "#     # Hide unused subplots if there are any remaining empty axes\n",
    "#     for i in range(ax_idx, len(axes)):\n",
    "#         axes[i].axis('off')\n",
    "\n",
    "#     # Adjust layout to prevent overlap and display the plots\n",
    "#     plt.tight_layout()\n",
    "#     plt.show()"
   ]
  },
  {
   "cell_type": "code",
   "execution_count": null,
   "id": "70cc5fc0",
   "metadata": {
    "ExecuteTime": {
     "start_time": "2024-11-23T14:32:08.836Z"
    },
    "scrolled": false
   },
   "outputs": [],
   "source": [
    "# plot_crosstab_matrix(df, categorical)"
   ]
  },
  {
   "cell_type": "markdown",
   "id": "5ca2558a",
   "metadata": {},
   "source": [
    "# 3. Data Cleaning & Preprocessing\n",
    "The cleaning process involves handling missing values, correcting errors, and addressing inconsistencies identified earlier. Preprocessing includes tasks such as feature engineering, encoding categorical variables, normalizing numerical data, and splitting the data into training and testing sets. These steps are essential to ensure that the dataset is both structured and suitable for developing robust and reliable machine learning models.\n",
    "\n",
    "<a href=\"#top\">Top &#129033;</a>"
   ]
  },
  {
   "cell_type": "markdown",
   "id": "a1b4caeb",
   "metadata": {},
   "source": [
    "**Claim Injury Type**\n",
    "\n",
    "Having noted that in DF there are missing values in this variable, we must address them before continuing. Since this is our target, when missing the entire observation cannot be used for training purposes, therefore must be dropped."
   ]
  },
  {
   "cell_type": "code",
   "execution_count": 78,
   "id": "eff25ceb",
   "metadata": {
    "ExecuteTime": {
     "end_time": "2024-11-23T15:17:43.358784Z",
     "start_time": "2024-11-23T15:17:43.278802Z"
    }
   },
   "outputs": [
    {
     "data": {
      "text/html": [
       "<div>\n",
       "<style scoped>\n",
       "    .dataframe tbody tr th:only-of-type {\n",
       "        vertical-align: middle;\n",
       "    }\n",
       "\n",
       "    .dataframe tbody tr th {\n",
       "        vertical-align: top;\n",
       "    }\n",
       "\n",
       "    .dataframe thead th {\n",
       "        text-align: right;\n",
       "    }\n",
       "</style>\n",
       "<table border=\"1\" class=\"dataframe\">\n",
       "  <thead>\n",
       "    <tr style=\"text-align: right;\">\n",
       "      <th></th>\n",
       "      <th>Accident Date</th>\n",
       "      <th>Age at Injury</th>\n",
       "      <th>Alternative Dispute Resolution</th>\n",
       "      <th>Assembly Date</th>\n",
       "      <th>Attorney/Representative</th>\n",
       "      <th>Average Weekly Wage</th>\n",
       "      <th>Birth Year</th>\n",
       "      <th>C-2 Date</th>\n",
       "      <th>C-3 Date</th>\n",
       "      <th>Carrier Name</th>\n",
       "      <th>Carrier Type</th>\n",
       "      <th>Claim Injury Type</th>\n",
       "      <th>County of Injury</th>\n",
       "      <th>COVID-19 Indicator</th>\n",
       "      <th>District Name</th>\n",
       "      <th>First Hearing Date</th>\n",
       "      <th>Gender</th>\n",
       "      <th>IME-4 Count</th>\n",
       "      <th>Industry Code</th>\n",
       "      <th>Industry Code Description</th>\n",
       "      <th>Medical Fee Region</th>\n",
       "      <th>WCIO Cause of Injury Code</th>\n",
       "      <th>WCIO Cause of Injury Description</th>\n",
       "      <th>WCIO Nature of Injury Code</th>\n",
       "      <th>WCIO Nature of Injury Description</th>\n",
       "      <th>WCIO Part Of Body Code</th>\n",
       "      <th>WCIO Part Of Body Description</th>\n",
       "      <th>Zip Code</th>\n",
       "      <th>Number of Dependents</th>\n",
       "    </tr>\n",
       "    <tr>\n",
       "      <th>Claim Identifier</th>\n",
       "      <th></th>\n",
       "      <th></th>\n",
       "      <th></th>\n",
       "      <th></th>\n",
       "      <th></th>\n",
       "      <th></th>\n",
       "      <th></th>\n",
       "      <th></th>\n",
       "      <th></th>\n",
       "      <th></th>\n",
       "      <th></th>\n",
       "      <th></th>\n",
       "      <th></th>\n",
       "      <th></th>\n",
       "      <th></th>\n",
       "      <th></th>\n",
       "      <th></th>\n",
       "      <th></th>\n",
       "      <th></th>\n",
       "      <th></th>\n",
       "      <th></th>\n",
       "      <th></th>\n",
       "      <th></th>\n",
       "      <th></th>\n",
       "      <th></th>\n",
       "      <th></th>\n",
       "      <th></th>\n",
       "      <th></th>\n",
       "      <th></th>\n",
       "    </tr>\n",
       "  </thead>\n",
       "  <tbody>\n",
       "    <tr>\n",
       "      <th>957648180</th>\n",
       "      <td>NaT</td>\n",
       "      <td>NaN</td>\n",
       "      <td>NaN</td>\n",
       "      <td>2020-01-01</td>\n",
       "      <td>NaN</td>\n",
       "      <td>NaN</td>\n",
       "      <td>NaN</td>\n",
       "      <td>NaT</td>\n",
       "      <td>NaT</td>\n",
       "      <td>NaN</td>\n",
       "      <td>NaN</td>\n",
       "      <td>NaN</td>\n",
       "      <td>NaN</td>\n",
       "      <td>NaN</td>\n",
       "      <td>NaN</td>\n",
       "      <td>NaT</td>\n",
       "      <td>NaN</td>\n",
       "      <td>NaN</td>\n",
       "      <td>NaN</td>\n",
       "      <td>NaN</td>\n",
       "      <td>NaN</td>\n",
       "      <td>NaN</td>\n",
       "      <td>NaN</td>\n",
       "      <td>NaN</td>\n",
       "      <td>NaN</td>\n",
       "      <td>NaN</td>\n",
       "      <td>NaN</td>\n",
       "      <td>NaN</td>\n",
       "      <td>NaN</td>\n",
       "    </tr>\n",
       "    <tr>\n",
       "      <th>363651794</th>\n",
       "      <td>NaT</td>\n",
       "      <td>NaN</td>\n",
       "      <td>NaN</td>\n",
       "      <td>2020-01-01</td>\n",
       "      <td>NaN</td>\n",
       "      <td>NaN</td>\n",
       "      <td>NaN</td>\n",
       "      <td>NaT</td>\n",
       "      <td>NaT</td>\n",
       "      <td>NaN</td>\n",
       "      <td>NaN</td>\n",
       "      <td>NaN</td>\n",
       "      <td>NaN</td>\n",
       "      <td>NaN</td>\n",
       "      <td>NaN</td>\n",
       "      <td>NaT</td>\n",
       "      <td>NaN</td>\n",
       "      <td>NaN</td>\n",
       "      <td>NaN</td>\n",
       "      <td>NaN</td>\n",
       "      <td>NaN</td>\n",
       "      <td>NaN</td>\n",
       "      <td>NaN</td>\n",
       "      <td>NaN</td>\n",
       "      <td>NaN</td>\n",
       "      <td>NaN</td>\n",
       "      <td>NaN</td>\n",
       "      <td>NaN</td>\n",
       "      <td>NaN</td>\n",
       "    </tr>\n",
       "    <tr>\n",
       "      <th>209507552</th>\n",
       "      <td>NaT</td>\n",
       "      <td>NaN</td>\n",
       "      <td>NaN</td>\n",
       "      <td>2020-01-01</td>\n",
       "      <td>NaN</td>\n",
       "      <td>NaN</td>\n",
       "      <td>NaN</td>\n",
       "      <td>NaT</td>\n",
       "      <td>NaT</td>\n",
       "      <td>NaN</td>\n",
       "      <td>NaN</td>\n",
       "      <td>NaN</td>\n",
       "      <td>NaN</td>\n",
       "      <td>NaN</td>\n",
       "      <td>NaN</td>\n",
       "      <td>NaT</td>\n",
       "      <td>NaN</td>\n",
       "      <td>NaN</td>\n",
       "      <td>NaN</td>\n",
       "      <td>NaN</td>\n",
       "      <td>NaN</td>\n",
       "      <td>NaN</td>\n",
       "      <td>NaN</td>\n",
       "      <td>NaN</td>\n",
       "      <td>NaN</td>\n",
       "      <td>NaN</td>\n",
       "      <td>NaN</td>\n",
       "      <td>NaN</td>\n",
       "      <td>NaN</td>\n",
       "    </tr>\n",
       "    <tr>\n",
       "      <th>970865999</th>\n",
       "      <td>NaT</td>\n",
       "      <td>NaN</td>\n",
       "      <td>NaN</td>\n",
       "      <td>2020-01-01</td>\n",
       "      <td>NaN</td>\n",
       "      <td>NaN</td>\n",
       "      <td>NaN</td>\n",
       "      <td>NaT</td>\n",
       "      <td>NaT</td>\n",
       "      <td>NaN</td>\n",
       "      <td>NaN</td>\n",
       "      <td>NaN</td>\n",
       "      <td>NaN</td>\n",
       "      <td>NaN</td>\n",
       "      <td>NaN</td>\n",
       "      <td>NaT</td>\n",
       "      <td>NaN</td>\n",
       "      <td>NaN</td>\n",
       "      <td>NaN</td>\n",
       "      <td>NaN</td>\n",
       "      <td>NaN</td>\n",
       "      <td>NaN</td>\n",
       "      <td>NaN</td>\n",
       "      <td>NaN</td>\n",
       "      <td>NaN</td>\n",
       "      <td>NaN</td>\n",
       "      <td>NaN</td>\n",
       "      <td>NaN</td>\n",
       "      <td>NaN</td>\n",
       "    </tr>\n",
       "    <tr>\n",
       "      <th>807753247</th>\n",
       "      <td>NaT</td>\n",
       "      <td>NaN</td>\n",
       "      <td>NaN</td>\n",
       "      <td>2020-01-01</td>\n",
       "      <td>NaN</td>\n",
       "      <td>NaN</td>\n",
       "      <td>NaN</td>\n",
       "      <td>NaT</td>\n",
       "      <td>NaT</td>\n",
       "      <td>NaN</td>\n",
       "      <td>NaN</td>\n",
       "      <td>NaN</td>\n",
       "      <td>NaN</td>\n",
       "      <td>NaN</td>\n",
       "      <td>NaN</td>\n",
       "      <td>NaT</td>\n",
       "      <td>NaN</td>\n",
       "      <td>NaN</td>\n",
       "      <td>NaN</td>\n",
       "      <td>NaN</td>\n",
       "      <td>NaN</td>\n",
       "      <td>NaN</td>\n",
       "      <td>NaN</td>\n",
       "      <td>NaN</td>\n",
       "      <td>NaN</td>\n",
       "      <td>NaN</td>\n",
       "      <td>NaN</td>\n",
       "      <td>NaN</td>\n",
       "      <td>NaN</td>\n",
       "    </tr>\n",
       "    <tr>\n",
       "      <th>...</th>\n",
       "      <td>...</td>\n",
       "      <td>...</td>\n",
       "      <td>...</td>\n",
       "      <td>...</td>\n",
       "      <td>...</td>\n",
       "      <td>...</td>\n",
       "      <td>...</td>\n",
       "      <td>...</td>\n",
       "      <td>...</td>\n",
       "      <td>...</td>\n",
       "      <td>...</td>\n",
       "      <td>...</td>\n",
       "      <td>...</td>\n",
       "      <td>...</td>\n",
       "      <td>...</td>\n",
       "      <td>...</td>\n",
       "      <td>...</td>\n",
       "      <td>...</td>\n",
       "      <td>...</td>\n",
       "      <td>...</td>\n",
       "      <td>...</td>\n",
       "      <td>...</td>\n",
       "      <td>...</td>\n",
       "      <td>...</td>\n",
       "      <td>...</td>\n",
       "      <td>...</td>\n",
       "      <td>...</td>\n",
       "      <td>...</td>\n",
       "      <td>...</td>\n",
       "    </tr>\n",
       "    <tr>\n",
       "      <th>365870975</th>\n",
       "      <td>NaT</td>\n",
       "      <td>NaN</td>\n",
       "      <td>NaN</td>\n",
       "      <td>2022-12-31</td>\n",
       "      <td>NaN</td>\n",
       "      <td>NaN</td>\n",
       "      <td>NaN</td>\n",
       "      <td>NaT</td>\n",
       "      <td>NaT</td>\n",
       "      <td>NaN</td>\n",
       "      <td>NaN</td>\n",
       "      <td>NaN</td>\n",
       "      <td>NaN</td>\n",
       "      <td>NaN</td>\n",
       "      <td>NaN</td>\n",
       "      <td>NaT</td>\n",
       "      <td>NaN</td>\n",
       "      <td>NaN</td>\n",
       "      <td>NaN</td>\n",
       "      <td>NaN</td>\n",
       "      <td>NaN</td>\n",
       "      <td>NaN</td>\n",
       "      <td>NaN</td>\n",
       "      <td>NaN</td>\n",
       "      <td>NaN</td>\n",
       "      <td>NaN</td>\n",
       "      <td>NaN</td>\n",
       "      <td>NaN</td>\n",
       "      <td>NaN</td>\n",
       "    </tr>\n",
       "    <tr>\n",
       "      <th>327160035</th>\n",
       "      <td>NaT</td>\n",
       "      <td>NaN</td>\n",
       "      <td>NaN</td>\n",
       "      <td>2022-12-31</td>\n",
       "      <td>NaN</td>\n",
       "      <td>NaN</td>\n",
       "      <td>NaN</td>\n",
       "      <td>NaT</td>\n",
       "      <td>NaT</td>\n",
       "      <td>NaN</td>\n",
       "      <td>NaN</td>\n",
       "      <td>NaN</td>\n",
       "      <td>NaN</td>\n",
       "      <td>NaN</td>\n",
       "      <td>NaN</td>\n",
       "      <td>NaT</td>\n",
       "      <td>NaN</td>\n",
       "      <td>NaN</td>\n",
       "      <td>NaN</td>\n",
       "      <td>NaN</td>\n",
       "      <td>NaN</td>\n",
       "      <td>NaN</td>\n",
       "      <td>NaN</td>\n",
       "      <td>NaN</td>\n",
       "      <td>NaN</td>\n",
       "      <td>NaN</td>\n",
       "      <td>NaN</td>\n",
       "      <td>NaN</td>\n",
       "      <td>NaN</td>\n",
       "    </tr>\n",
       "    <tr>\n",
       "      <th>249875936</th>\n",
       "      <td>NaT</td>\n",
       "      <td>NaN</td>\n",
       "      <td>NaN</td>\n",
       "      <td>2022-12-31</td>\n",
       "      <td>NaN</td>\n",
       "      <td>NaN</td>\n",
       "      <td>NaN</td>\n",
       "      <td>NaT</td>\n",
       "      <td>NaT</td>\n",
       "      <td>NaN</td>\n",
       "      <td>NaN</td>\n",
       "      <td>NaN</td>\n",
       "      <td>NaN</td>\n",
       "      <td>NaN</td>\n",
       "      <td>NaN</td>\n",
       "      <td>NaT</td>\n",
       "      <td>NaN</td>\n",
       "      <td>NaN</td>\n",
       "      <td>NaN</td>\n",
       "      <td>NaN</td>\n",
       "      <td>NaN</td>\n",
       "      <td>NaN</td>\n",
       "      <td>NaN</td>\n",
       "      <td>NaN</td>\n",
       "      <td>NaN</td>\n",
       "      <td>NaN</td>\n",
       "      <td>NaN</td>\n",
       "      <td>NaN</td>\n",
       "      <td>NaN</td>\n",
       "    </tr>\n",
       "    <tr>\n",
       "      <th>120584215</th>\n",
       "      <td>NaT</td>\n",
       "      <td>NaN</td>\n",
       "      <td>NaN</td>\n",
       "      <td>2022-12-31</td>\n",
       "      <td>NaN</td>\n",
       "      <td>NaN</td>\n",
       "      <td>NaN</td>\n",
       "      <td>NaT</td>\n",
       "      <td>NaT</td>\n",
       "      <td>NaN</td>\n",
       "      <td>NaN</td>\n",
       "      <td>NaN</td>\n",
       "      <td>NaN</td>\n",
       "      <td>NaN</td>\n",
       "      <td>NaN</td>\n",
       "      <td>NaT</td>\n",
       "      <td>NaN</td>\n",
       "      <td>NaN</td>\n",
       "      <td>NaN</td>\n",
       "      <td>NaN</td>\n",
       "      <td>NaN</td>\n",
       "      <td>NaN</td>\n",
       "      <td>NaN</td>\n",
       "      <td>NaN</td>\n",
       "      <td>NaN</td>\n",
       "      <td>NaN</td>\n",
       "      <td>NaN</td>\n",
       "      <td>NaN</td>\n",
       "      <td>NaN</td>\n",
       "    </tr>\n",
       "    <tr>\n",
       "      <th>818961390</th>\n",
       "      <td>NaT</td>\n",
       "      <td>NaN</td>\n",
       "      <td>NaN</td>\n",
       "      <td>2022-12-31</td>\n",
       "      <td>NaN</td>\n",
       "      <td>NaN</td>\n",
       "      <td>NaN</td>\n",
       "      <td>NaT</td>\n",
       "      <td>NaT</td>\n",
       "      <td>NaN</td>\n",
       "      <td>NaN</td>\n",
       "      <td>NaN</td>\n",
       "      <td>NaN</td>\n",
       "      <td>NaN</td>\n",
       "      <td>NaN</td>\n",
       "      <td>NaT</td>\n",
       "      <td>NaN</td>\n",
       "      <td>NaN</td>\n",
       "      <td>NaN</td>\n",
       "      <td>NaN</td>\n",
       "      <td>NaN</td>\n",
       "      <td>NaN</td>\n",
       "      <td>NaN</td>\n",
       "      <td>NaN</td>\n",
       "      <td>NaN</td>\n",
       "      <td>NaN</td>\n",
       "      <td>NaN</td>\n",
       "      <td>NaN</td>\n",
       "      <td>NaN</td>\n",
       "    </tr>\n",
       "  </tbody>\n",
       "</table>\n",
       "<p>19445 rows × 29 columns</p>\n",
       "</div>"
      ],
      "text/plain": [
       "                 Accident Date  Age at Injury Alternative Dispute Resolution  \\\n",
       "Claim Identifier                                                               \n",
       "957648180                  NaT            NaN                            NaN   \n",
       "363651794                  NaT            NaN                            NaN   \n",
       "209507552                  NaT            NaN                            NaN   \n",
       "970865999                  NaT            NaN                            NaN   \n",
       "807753247                  NaT            NaN                            NaN   \n",
       "...                        ...            ...                            ...   \n",
       "365870975                  NaT            NaN                            NaN   \n",
       "327160035                  NaT            NaN                            NaN   \n",
       "249875936                  NaT            NaN                            NaN   \n",
       "120584215                  NaT            NaN                            NaN   \n",
       "818961390                  NaT            NaN                            NaN   \n",
       "\n",
       "                 Assembly Date Attorney/Representative  Average Weekly Wage  \\\n",
       "Claim Identifier                                                              \n",
       "957648180           2020-01-01                     NaN                  NaN   \n",
       "363651794           2020-01-01                     NaN                  NaN   \n",
       "209507552           2020-01-01                     NaN                  NaN   \n",
       "970865999           2020-01-01                     NaN                  NaN   \n",
       "807753247           2020-01-01                     NaN                  NaN   \n",
       "...                        ...                     ...                  ...   \n",
       "365870975           2022-12-31                     NaN                  NaN   \n",
       "327160035           2022-12-31                     NaN                  NaN   \n",
       "249875936           2022-12-31                     NaN                  NaN   \n",
       "120584215           2022-12-31                     NaN                  NaN   \n",
       "818961390           2022-12-31                     NaN                  NaN   \n",
       "\n",
       "                  Birth Year C-2 Date C-3 Date Carrier Name Carrier Type  \\\n",
       "Claim Identifier                                                           \n",
       "957648180                NaN      NaT      NaT          NaN          NaN   \n",
       "363651794                NaN      NaT      NaT          NaN          NaN   \n",
       "209507552                NaN      NaT      NaT          NaN          NaN   \n",
       "970865999                NaN      NaT      NaT          NaN          NaN   \n",
       "807753247                NaN      NaT      NaT          NaN          NaN   \n",
       "...                      ...      ...      ...          ...          ...   \n",
       "365870975                NaN      NaT      NaT          NaN          NaN   \n",
       "327160035                NaN      NaT      NaT          NaN          NaN   \n",
       "249875936                NaN      NaT      NaT          NaN          NaN   \n",
       "120584215                NaN      NaT      NaT          NaN          NaN   \n",
       "818961390                NaN      NaT      NaT          NaN          NaN   \n",
       "\n",
       "                 Claim Injury Type County of Injury COVID-19 Indicator  \\\n",
       "Claim Identifier                                                         \n",
       "957648180                      NaN              NaN                NaN   \n",
       "363651794                      NaN              NaN                NaN   \n",
       "209507552                      NaN              NaN                NaN   \n",
       "970865999                      NaN              NaN                NaN   \n",
       "807753247                      NaN              NaN                NaN   \n",
       "...                            ...              ...                ...   \n",
       "365870975                      NaN              NaN                NaN   \n",
       "327160035                      NaN              NaN                NaN   \n",
       "249875936                      NaN              NaN                NaN   \n",
       "120584215                      NaN              NaN                NaN   \n",
       "818961390                      NaN              NaN                NaN   \n",
       "\n",
       "                 District Name First Hearing Date Gender  IME-4 Count  \\\n",
       "Claim Identifier                                                        \n",
       "957648180                  NaN                NaT    NaN          NaN   \n",
       "363651794                  NaN                NaT    NaN          NaN   \n",
       "209507552                  NaN                NaT    NaN          NaN   \n",
       "970865999                  NaN                NaT    NaN          NaN   \n",
       "807753247                  NaN                NaT    NaN          NaN   \n",
       "...                        ...                ...    ...          ...   \n",
       "365870975                  NaN                NaT    NaN          NaN   \n",
       "327160035                  NaN                NaT    NaN          NaN   \n",
       "249875936                  NaN                NaT    NaN          NaN   \n",
       "120584215                  NaN                NaT    NaN          NaN   \n",
       "818961390                  NaN                NaT    NaN          NaN   \n",
       "\n",
       "                  Industry Code Industry Code Description Medical Fee Region  \\\n",
       "Claim Identifier                                                               \n",
       "957648180                   NaN                       NaN                NaN   \n",
       "363651794                   NaN                       NaN                NaN   \n",
       "209507552                   NaN                       NaN                NaN   \n",
       "970865999                   NaN                       NaN                NaN   \n",
       "807753247                   NaN                       NaN                NaN   \n",
       "...                         ...                       ...                ...   \n",
       "365870975                   NaN                       NaN                NaN   \n",
       "327160035                   NaN                       NaN                NaN   \n",
       "249875936                   NaN                       NaN                NaN   \n",
       "120584215                   NaN                       NaN                NaN   \n",
       "818961390                   NaN                       NaN                NaN   \n",
       "\n",
       "                  WCIO Cause of Injury Code WCIO Cause of Injury Description  \\\n",
       "Claim Identifier                                                               \n",
       "957648180                               NaN                              NaN   \n",
       "363651794                               NaN                              NaN   \n",
       "209507552                               NaN                              NaN   \n",
       "970865999                               NaN                              NaN   \n",
       "807753247                               NaN                              NaN   \n",
       "...                                     ...                              ...   \n",
       "365870975                               NaN                              NaN   \n",
       "327160035                               NaN                              NaN   \n",
       "249875936                               NaN                              NaN   \n",
       "120584215                               NaN                              NaN   \n",
       "818961390                               NaN                              NaN   \n",
       "\n",
       "                  WCIO Nature of Injury Code  \\\n",
       "Claim Identifier                               \n",
       "957648180                                NaN   \n",
       "363651794                                NaN   \n",
       "209507552                                NaN   \n",
       "970865999                                NaN   \n",
       "807753247                                NaN   \n",
       "...                                      ...   \n",
       "365870975                                NaN   \n",
       "327160035                                NaN   \n",
       "249875936                                NaN   \n",
       "120584215                                NaN   \n",
       "818961390                                NaN   \n",
       "\n",
       "                 WCIO Nature of Injury Description  WCIO Part Of Body Code  \\\n",
       "Claim Identifier                                                             \n",
       "957648180                                      NaN                     NaN   \n",
       "363651794                                      NaN                     NaN   \n",
       "209507552                                      NaN                     NaN   \n",
       "970865999                                      NaN                     NaN   \n",
       "807753247                                      NaN                     NaN   \n",
       "...                                            ...                     ...   \n",
       "365870975                                      NaN                     NaN   \n",
       "327160035                                      NaN                     NaN   \n",
       "249875936                                      NaN                     NaN   \n",
       "120584215                                      NaN                     NaN   \n",
       "818961390                                      NaN                     NaN   \n",
       "\n",
       "                 WCIO Part Of Body Description Zip Code  Number of Dependents  \n",
       "Claim Identifier                                                               \n",
       "957648180                                  NaN      NaN                   NaN  \n",
       "363651794                                  NaN      NaN                   NaN  \n",
       "209507552                                  NaN      NaN                   NaN  \n",
       "970865999                                  NaN      NaN                   NaN  \n",
       "807753247                                  NaN      NaN                   NaN  \n",
       "...                                        ...      ...                   ...  \n",
       "365870975                                  NaN      NaN                   NaN  \n",
       "327160035                                  NaN      NaN                   NaN  \n",
       "249875936                                  NaN      NaN                   NaN  \n",
       "120584215                                  NaN      NaN                   NaN  \n",
       "818961390                                  NaN      NaN                   NaN  \n",
       "\n",
       "[19445 rows x 29 columns]"
      ]
     },
     "execution_count": 78,
     "metadata": {},
     "output_type": "execute_result"
    }
   ],
   "source": [
    "# Filter and display rows where the 'Claim Injury Type' column has missing values\n",
    "df[df['Claim Injury Type'].isna()]"
   ]
  },
  {
   "cell_type": "code",
   "execution_count": 79,
   "id": "5aa7f39e",
   "metadata": {
    "ExecuteTime": {
     "end_time": "2024-11-23T15:17:43.913036Z",
     "start_time": "2024-11-23T15:17:43.672434Z"
    }
   },
   "outputs": [],
   "source": [
    "# Remove rows with missing values in the 'Claim Injury Type' column\n",
    "df.dropna(subset=['Claim Injury Type'], inplace=True)"
   ]
  },
  {
   "cell_type": "markdown",
   "id": "a9892761",
   "metadata": {},
   "source": [
    "Having treated our target, it must also be encoded."
   ]
  },
  {
   "cell_type": "code",
   "execution_count": 80,
   "id": "8616f84a",
   "metadata": {
    "ExecuteTime": {
     "end_time": "2024-11-23T15:17:44.020713Z",
     "start_time": "2024-11-23T15:17:44.017316Z"
    }
   },
   "outputs": [],
   "source": [
    "# Map descriptive labels in 'Claim Injury Type' to numeric codes for consistency and modeling\n",
    "label_mapping = {\n",
    "    \"1. CANCELLED\": 0,\n",
    "    \"2. NON-COMP\": 1,\n",
    "    \"3. MED ONLY\": 2,\n",
    "    \"4. TEMPORARY\": 3,\n",
    "    \"5. PPD SCH LOSS\": 4,\n",
    "    \"6. PPD NSL\": 5,\n",
    "    \"7. PTD\": 6,\n",
    "    \"8. DEATH\": 7\n",
    "}"
   ]
  },
  {
   "cell_type": "code",
   "execution_count": 81,
   "id": "d2740c9b",
   "metadata": {
    "ExecuteTime": {
     "end_time": "2024-11-23T15:17:44.547921Z",
     "start_time": "2024-11-23T15:17:44.216322Z"
    }
   },
   "outputs": [],
   "source": [
    "df['Claim Injury Type'] = df['Claim Injury Type'].replace(label_mapping)"
   ]
  },
  {
   "cell_type": "markdown",
   "id": "9964da14",
   "metadata": {},
   "source": [
    "## 3.1 Duplicates\n",
    "In this section, we will focus on detecting and handling duplicates to ensure data integrity and improve model performance. Addressing duplicates is a crucial preprocessing step that contributes to better data quality and more reliable machine learning outcomes.\n",
    "\n",
    "<a href=\"#top\">Top &#129033;</a>"
   ]
  },
  {
   "cell_type": "code",
   "execution_count": 82,
   "id": "f66aa181",
   "metadata": {
    "ExecuteTime": {
     "end_time": "2024-11-23T15:17:45.813724Z",
     "start_time": "2024-11-23T15:17:44.625793Z"
    }
   },
   "outputs": [
    {
     "data": {
      "text/html": [
       "<div>\n",
       "<style scoped>\n",
       "    .dataframe tbody tr th:only-of-type {\n",
       "        vertical-align: middle;\n",
       "    }\n",
       "\n",
       "    .dataframe tbody tr th {\n",
       "        vertical-align: top;\n",
       "    }\n",
       "\n",
       "    .dataframe thead th {\n",
       "        text-align: right;\n",
       "    }\n",
       "</style>\n",
       "<table border=\"1\" class=\"dataframe\">\n",
       "  <thead>\n",
       "    <tr style=\"text-align: right;\">\n",
       "      <th></th>\n",
       "      <th>Accident Date</th>\n",
       "      <th>Age at Injury</th>\n",
       "      <th>Alternative Dispute Resolution</th>\n",
       "      <th>Assembly Date</th>\n",
       "      <th>Attorney/Representative</th>\n",
       "      <th>Average Weekly Wage</th>\n",
       "      <th>Birth Year</th>\n",
       "      <th>C-2 Date</th>\n",
       "      <th>C-3 Date</th>\n",
       "      <th>Carrier Name</th>\n",
       "      <th>Carrier Type</th>\n",
       "      <th>Claim Injury Type</th>\n",
       "      <th>County of Injury</th>\n",
       "      <th>COVID-19 Indicator</th>\n",
       "      <th>District Name</th>\n",
       "      <th>First Hearing Date</th>\n",
       "      <th>Gender</th>\n",
       "      <th>IME-4 Count</th>\n",
       "      <th>Industry Code</th>\n",
       "      <th>Industry Code Description</th>\n",
       "      <th>Medical Fee Region</th>\n",
       "      <th>WCIO Cause of Injury Code</th>\n",
       "      <th>WCIO Cause of Injury Description</th>\n",
       "      <th>WCIO Nature of Injury Code</th>\n",
       "      <th>WCIO Nature of Injury Description</th>\n",
       "      <th>WCIO Part Of Body Code</th>\n",
       "      <th>WCIO Part Of Body Description</th>\n",
       "      <th>Zip Code</th>\n",
       "      <th>Number of Dependents</th>\n",
       "    </tr>\n",
       "    <tr>\n",
       "      <th>Claim Identifier</th>\n",
       "      <th></th>\n",
       "      <th></th>\n",
       "      <th></th>\n",
       "      <th></th>\n",
       "      <th></th>\n",
       "      <th></th>\n",
       "      <th></th>\n",
       "      <th></th>\n",
       "      <th></th>\n",
       "      <th></th>\n",
       "      <th></th>\n",
       "      <th></th>\n",
       "      <th></th>\n",
       "      <th></th>\n",
       "      <th></th>\n",
       "      <th></th>\n",
       "      <th></th>\n",
       "      <th></th>\n",
       "      <th></th>\n",
       "      <th></th>\n",
       "      <th></th>\n",
       "      <th></th>\n",
       "      <th></th>\n",
       "      <th></th>\n",
       "      <th></th>\n",
       "      <th></th>\n",
       "      <th></th>\n",
       "      <th></th>\n",
       "      <th></th>\n",
       "    </tr>\n",
       "  </thead>\n",
       "  <tbody>\n",
       "    <tr>\n",
       "      <th>5686771</th>\n",
       "      <td>NaT</td>\n",
       "      <td>0.0</td>\n",
       "      <td>N</td>\n",
       "      <td>2021-03-25</td>\n",
       "      <td>Y</td>\n",
       "      <td>0.0</td>\n",
       "      <td>1968.0</td>\n",
       "      <td>NaT</td>\n",
       "      <td>2021-03-16</td>\n",
       "      <td>ACE AMERICAN INSURANCE CO</td>\n",
       "      <td>1A. PRIVATE</td>\n",
       "      <td>0</td>\n",
       "      <td>UNKNOWN</td>\n",
       "      <td>N</td>\n",
       "      <td>NYC</td>\n",
       "      <td>2022-10-24</td>\n",
       "      <td>M</td>\n",
       "      <td>NaN</td>\n",
       "      <td>NaN</td>\n",
       "      <td>NaN</td>\n",
       "      <td>UK</td>\n",
       "      <td>NaN</td>\n",
       "      <td>NaN</td>\n",
       "      <td>NaN</td>\n",
       "      <td>NaN</td>\n",
       "      <td>NaN</td>\n",
       "      <td>NaN</td>\n",
       "      <td>07032</td>\n",
       "      <td>0.0</td>\n",
       "    </tr>\n",
       "  </tbody>\n",
       "</table>\n",
       "</div>"
      ],
      "text/plain": [
       "                 Accident Date  Age at Injury Alternative Dispute Resolution  \\\n",
       "Claim Identifier                                                               \n",
       "5686771                    NaT            0.0                              N   \n",
       "\n",
       "                 Assembly Date Attorney/Representative  Average Weekly Wage  \\\n",
       "Claim Identifier                                                              \n",
       "5686771             2021-03-25                       Y                  0.0   \n",
       "\n",
       "                  Birth Year C-2 Date   C-3 Date               Carrier Name  \\\n",
       "Claim Identifier                                                              \n",
       "5686771               1968.0      NaT 2021-03-16  ACE AMERICAN INSURANCE CO   \n",
       "\n",
       "                 Carrier Type  Claim Injury Type County of Injury  \\\n",
       "Claim Identifier                                                    \n",
       "5686771           1A. PRIVATE                  0          UNKNOWN   \n",
       "\n",
       "                 COVID-19 Indicator District Name First Hearing Date Gender  \\\n",
       "Claim Identifier                                                              \n",
       "5686771                           N           NYC         2022-10-24      M   \n",
       "\n",
       "                  IME-4 Count  Industry Code Industry Code Description  \\\n",
       "Claim Identifier                                                         \n",
       "5686771                   NaN            NaN                       NaN   \n",
       "\n",
       "                 Medical Fee Region  WCIO Cause of Injury Code  \\\n",
       "Claim Identifier                                                 \n",
       "5686771                          UK                        NaN   \n",
       "\n",
       "                 WCIO Cause of Injury Description  WCIO Nature of Injury Code  \\\n",
       "Claim Identifier                                                                \n",
       "5686771                                       NaN                         NaN   \n",
       "\n",
       "                 WCIO Nature of Injury Description  WCIO Part Of Body Code  \\\n",
       "Claim Identifier                                                             \n",
       "5686771                                        NaN                     NaN   \n",
       "\n",
       "                 WCIO Part Of Body Description Zip Code  Number of Dependents  \n",
       "Claim Identifier                                                               \n",
       "5686771                                    NaN    07032                   0.0  "
      ]
     },
     "execution_count": 82,
     "metadata": {},
     "output_type": "execute_result"
    }
   ],
   "source": [
    "# Identify and return rows that are duplicates in the DataFrame\n",
    "df[df.duplicated()]"
   ]
  },
  {
   "cell_type": "code",
   "execution_count": 83,
   "id": "64fe62ef",
   "metadata": {
    "ExecuteTime": {
     "end_time": "2024-11-23T15:17:47.104535Z",
     "start_time": "2024-11-23T15:17:45.817119Z"
    }
   },
   "outputs": [],
   "source": [
    "# Remove duplicate rows from the DataFrame\n",
    "df = df.drop_duplicates()"
   ]
  },
  {
   "cell_type": "markdown",
   "id": "5b9d5072",
   "metadata": {},
   "source": [
    "## 3.2 Feature Engineering\n",
    "Feature engineering is the process of transforming raw data into meaningful features to improve machine learning model performance. Effective feature engineering helps enhance predictive accuracy, reduce overfitting, and optimize model outcomes. In this section, we will explore various techniques and their impact on improving machine learning models.\n",
    "\n",
    "<a href=\"#top\">Top &#129033;</a>"
   ]
  },
  {
   "cell_type": "markdown",
   "id": "698388f8",
   "metadata": {},
   "source": [
    "### 3.2.1 Encoding\n",
    "\n",
    "Encoding transforms categorical data into numerical format for use in machine learning models. For this section, several encoders were considered:\n",
    "- **One Hot Encoding** -  turns a variable that is stored in a column into dummy variables stored over multiple columns and represented as 0s and 1s\n",
    "- **Frequency Encoding** - replaces the categories by with their proportion in the dataset\n",
    "- **Count Encoding** - replaces the categories by the number of times they appear in the dataset \n",
    "- **Manual Mapping Encoding** - manually attribute values to each category\n",
    "\n",
    "<a href=\"#top\">Top &#129033;</a>"
   ]
  },
  {
   "cell_type": "markdown",
   "id": "2830ac54",
   "metadata": {},
   "source": [
    "**Alternative Dispute Resolution**\n",
    "\n",
    "Knowing that 'N' is by far the most common category, and that 'U' only appears 5 times in DF data and 1 time in the test data, we decided to join 'U' and 'Y' into 'Y/U', and encode the variable as:\n",
    "- 0 - N\n",
    "- 1 - Y/U"
   ]
  },
  {
   "cell_type": "code",
   "execution_count": 84,
   "id": "72858c7e",
   "metadata": {
    "ExecuteTime": {
     "end_time": "2024-11-23T15:17:47.166628Z",
     "start_time": "2024-11-23T15:17:47.106831Z"
    }
   },
   "outputs": [
    {
     "name": "stdout",
     "output_type": "stream",
     "text": [
      "Alternative Dispute Resolution\n",
      "N    571411\n",
      "Y      2609\n",
      "U         5\n",
      "Name: count, dtype: int64\n",
      " \n",
      "Alternative Dispute Resolution\n",
      "N    386314\n",
      "Y      1660\n",
      "U         1\n",
      "Name: count, dtype: int64\n"
     ]
    }
   ],
   "source": [
    "print(df['Alternative Dispute Resolution'].value_counts())\n",
    "print(' ')\n",
    "print(test['Alternative Dispute Resolution'].value_counts())"
   ]
  },
  {
   "cell_type": "code",
   "execution_count": 85,
   "id": "8784e5fd",
   "metadata": {
    "ExecuteTime": {
     "end_time": "2024-11-23T15:17:47.599242Z",
     "start_time": "2024-11-23T15:17:47.170604Z"
    }
   },
   "outputs": [],
   "source": [
    "df['Alternative Dispute Resolution Bin'] = df['Alternative Dispute Resolution'].replace({'N': 0, 'Y': 1, 'U': 1})\n",
    "test['Alternative Dispute Resolution Bin'] = test['Alternative Dispute Resolution'].replace({'N': 0, 'Y': 1, 'U': 1})"
   ]
  },
  {
   "cell_type": "markdown",
   "id": "295f9a46",
   "metadata": {},
   "source": [
    "**Attorney/Representative**\n",
    "\n",
    "As this variable only has 2 categories, they will be encoded as follows:\n",
    "- N - 0\n",
    "- Y - 1"
   ]
  },
  {
   "cell_type": "code",
   "execution_count": 86,
   "id": "ca5c9e57",
   "metadata": {
    "ExecuteTime": {
     "end_time": "2024-11-23T15:17:47.660931Z",
     "start_time": "2024-11-23T15:17:47.601894Z"
    }
   },
   "outputs": [
    {
     "name": "stdout",
     "output_type": "stream",
     "text": [
      "Attorney/Representative\n",
      "N    392291\n",
      "Y    181734\n",
      "Name: count, dtype: int64\n",
      " \n",
      "Attorney/Representative\n",
      "N    306476\n",
      "Y     81499\n",
      "Name: count, dtype: int64\n"
     ]
    }
   ],
   "source": [
    "print(df['Attorney/Representative'].value_counts())\n",
    "print(' ')\n",
    "print(test['Attorney/Representative'].value_counts())"
   ]
  },
  {
   "cell_type": "code",
   "execution_count": 87,
   "id": "9f752e26",
   "metadata": {
    "ExecuteTime": {
     "end_time": "2024-11-23T15:17:47.994026Z",
     "start_time": "2024-11-23T15:17:47.664174Z"
    }
   },
   "outputs": [],
   "source": [
    "# Replace 'N' with 0 and 'Y' with 1 in the 'Attorney/Representative' column for binary encoding\n",
    "df['Attorney/Representative Bin'] = df['Attorney/Representative'].replace({'N': 0, 'Y': 1})\n",
    "test['Attorney/Representative Bin'] = test['Attorney/Representative'].replace({'N': 0, 'Y': 1})"
   ]
  },
  {
   "cell_type": "markdown",
   "id": "cb654b3a",
   "metadata": {},
   "source": [
    "**Carrier Name**\n",
    "\n",
    "As Carrier name has a considerable amount of unique values, it will be encoded using Count Encoder."
   ]
  },
  {
   "cell_type": "code",
   "execution_count": 88,
   "id": "9f5f02ca",
   "metadata": {
    "ExecuteTime": {
     "end_time": "2024-11-23T15:17:48.088294Z",
     "start_time": "2024-11-23T15:17:47.996457Z"
    }
   },
   "outputs": [
    {
     "name": "stdout",
     "output_type": "stream",
     "text": [
      "Carrier Names in test but not in train: {'ULLICO CASUALTY COMPANY', 'NEW YORK TRANSPORTATION', 'EDMESTON CSD', 'FIRE & CASUALTY INS CO OF CONN', 'FULTON BOILER WORKS INC', 'ALCOA, INC. NKA ARCONIC, INC', 'FRANKLIN CENTRAL SCHOOL', 'WINDHAM-ASHLAND-JEWETT CSD', 'BERKSHIRE MUTUAL INS. CO.', 'T. MARZETTI COMPANY', 'CLYDE-SAVANNAH CENTRAL', 'ROOT PROPERTY & CASUALTY', 'TOWN OF PARMA', 'TOWER INSURANCE CO OF NY', 'CORINTH CSD', 'VILLAGE OF HOMER', 'EASTPORT UFSD', 'COREPOINTE INSURANCE CO', \"NY MCDONALD'S OPER WC TRUST\", 'TOWN OF ORCHARD PARK', 'ROADWAY EXPRESS INC', 'TRAVELERS PROPERTY CAS. INS.', 'PROJECT P HOLDINGS, LLC', 'CHENANGO CNTY. SELF-INS PLAN', 'EXPLORER INSURANCE COMPANY', 'NEW JERSEY CASUALTY INSURANCE', 'BOLTON CSD', 'MANUFACTURING SELF-INS TRUST', 'GRANVILLE CSD', 'PENNSYLVANIA NATIONAL MUTUAL', 'SHELTER ISLAND UFSD', 'NORTH POINTE INSURANCE CO.', 'FIRSTCOMP INSURANCE COMPANY', 'TOWN OF NEWBURGH', 'MONTAUK UNION FREE', 'BIRDS EYE FOODS INC', 'SHOPWELL INC', 'NATIONWIDE INSURANCE COMPANY', 'DEPUTY DIRECTOR OF HUMAN RESOU', 'HILTON WORLDWIDE, INC.', 'THOUSAND ISLAND CENTRAL', 'RED CREEK CENTRAL SCH DIST', 'FRANK WINSTON CRUM INSURANCE', 'VILLAGE OF HILTON', 'CLINTON CENTRAL SCHOOL', 'NEW JERSEY INDEMNITY INSURANCE', 'ALLSTATE INDEMNITY COMPANY', 'LOWVILLE CENTRAL SCHOOL', 'VILLAGE OF SCOTTSVILLE', 'NEW JERSEY RE-INSURANCE', 'ANDOVER CENTRAL SCHOOL DIST', 'ST. PAUL PROTECTIVE INS CO', 'VILLAGE OF SPENCERPORT', 'VILLAGE OF FAIRPORT', 'TICONDEROGA CSD', 'NEW LEBANON CENTRAL', 'CROWN POINT CSD', 'SAGA, INC', 'SAFETY FIRST INSURANCE CO', 'ROCHESTER GENERAL HOSPITAL', 'MOTORISTS COMMERCIAL MUTUAL', 'HUMAN SERVICES SELF-INS TRUST', 'HOME INSURANCE COMPANY', 'HOLLAND PATENT CENTRAL SCHOOL', 'FIDELITY & GUARANTY INS UND', 'TRAVELERS CASUALTY & SURETY', 'TOWER NATIONAL INSURANCE CO.', 'TRAVELERS COMMERCIAL INS CO', 'COREPOINTE  INSURANCE COMPANY', 'NATIONWIDE GENERAL INSURANCE', 'HINSDALE CSD', 'SJM HOLDING CORP.', 'SCHROON LAKE CSD', 'FRANK WINSTON CRUM INS CO', 'EAST HAMPTON, TOWN OF', 'CEDAR INSURANCE COMPANY', 'MAJESTIC INSURANCE COMPANY'}\n",
      "Size of Carrier Names in test but not in train: 77\n",
      " \n",
      "Carrier Names in train but not in test: {'FEDERATED RURAL ELECTRIC INS.', 'CLIFFSTAR CORPORATION', 'MADRID-WADDINGTON CENTRAL', 'MALONE CENTRAL SCHOOL DIST', 'UPSTATE NIAGA COOPERATIVES INC', 'NY BUS OPERATORS COMP TRUST', 'ALLIANCE NATIONAL INS CO', 'FCA US LLC', 'AMERICAN INSURANCE CO', 'TONAWANDA CITY SCHOOL DISTRICT', 'TUCKAHOE UNION FREE', 'MCWANE INC', 'PITTSFORD CENT SCHOOL DIST', 'CAROLINA FREIGHT CARRIERS', 'ELDRED CSD', 'HERMON-DEKALB CSD', 'FLORAL PARK, INC. VILLAGE OF', 'ALBION CENTRAL SCHOOL DIST', 'STEUBEN COUNTY SELF INS PLAN', 'PUTNAM VALLEY CENTRAL', 'SENTRY INSURANCE A MUTUAL', 'MARKEL AMERICAN INSURANCE COMP', 'HEALTH & HOSPITALS CORP CNY', 'HOOSIC VALLEY CENTRAL SCHOOL', 'CHAZY CENTRAL SCHOOL DISTRICT', 'BROOKDALE HOSPITAL MED CTR', 'GREENWOOD LAKE UNION', 'EDWARDS-KNOX CENTRAL', 'TRANSGUARD INSURANCE COMPANY', 'BRIGGS & STRATTON CORPORATION', 'ARROWOOD INDEMNITY CO', 'BOCES SOLE SUPERVISORY DIST', 'HEALTHCARE UNDERWRITERS MUTUAL', 'WEST IRONDEQUOIT CSD', 'LEPRINO FOODS COMPANY', 'ELMIRA CITY CENTRAL', 'NIAGARA FALLS, CITY OF', 'EMPIRE STATE HOSPITALITY TRUST', \"WALDBAUM'S, INC.\", 'COUNTY OF ORANGE', 'MILLER PLACE UNION FREE', 'GREAT AMERICAN INSURANCE', 'NEW YORK STATE MUNICIPAL', 'HINSDALE CENTRAL SCHOOL', 'LIVINGSTON MANOR CENTRAL', 'PRATTSBURG CENTRAL', 'TOWN OF WESTMORELAND', 'RHINEBECK CSD', 'PUBLIC ENTITY TRUST OF NY', 'TUCKAHOE COMMON SCH DIST', 'NEWFIELD CENTRAL SCHOOL DIST', 'CHEEKTOWAGA-SLOAN U.F.S.D.', 'GREENBURGH CENTRAL', 'GREAT NORTHERN INSURANCE CO.', 'UNIVERSAL UNDERWRITERS', 'SPACKENKILL UNION FREE', 'BEDIVERE INSURANCE COMPANY', 'GUARANTEE INSURANCE COMPANY', 'ATLANTIC MUTUAL INSURANCE CO.', 'GREAT ATLANTIC & PACIFIC', 'NATIONAL FUEL GAS SUPP CORP', 'RC DIOCESE OF SYRACUSE', 'ST LAWRENCE COUNTY', 'CAYUGA MEDICAL CENTER', 'MATTITUCK-CUTCHOGUE UNION', 'NYAHSA SERVICES INC', 'RENSSELAER COUNTY SELF-', 'ROTTERDAM-MOHANASEN', 'AUBURN ENLARGED CITY SCH DIST', 'KINGS PARK CENTRAL SCHL DIST', 'VALLEY CENTRAL SCHOOL DIST', 'COUNTY OF WESTCHESTER', 'GROTON CENTRAL SCHOOL DIST', 'KESHEQUA CENTRAL SCH DIST', 'NORTHERN ADIRONDACK CSD', 'BARKER CSD', 'GREENVILLE CENTRAL SCHOOL', 'WATERVILLE CENTRAL', 'MEDINA CENTRAL SCHOOL DIST', 'L T V STEEL COMPANY,  INC.', 'QUEENS BOROUGH', 'CARMEL CENTRAL SCHOOL DIST', 'NISKAYUNA TOWN OF', 'PULASKI ACADEMY & CENTRAL SCHO', 'MARYLAND CASUALTY COMPANY', 'SALEM CENTRAL SCHOOL DIST', 'SHELTER ISLAND UNION', 'FREEPORT UNION FREE SCH DIST', 'EXCELSIOR INSURANCE CO', 'DRESSER INDUSTRIES, INC.', 'TESSY PLASTICS CORP', 'LOWES HOME CENTERS INC', 'USF RED STAR, INC.', 'ALLIED EASTERN INDEMNITY CO', 'ROCKWOOD CASUALTY INS. CO.', 'HANCOCK CENTRAL SCHOOL DISTRIC', 'REMSEN CENTRAL SCHOOL', 'PENNSYLVANIA  INSURANCE CO', 'CITY OF SCHENECTADY', 'ALLIANZ GLOBAL RISKS US', 'BATH & BODY WORKS, INC.', 'SKF INDUSTRIES INC', 'NEW ERA CAP COMPANY, INC.', 'BROOME-DELAWARE-TIOGA BOCES', 'SARATOGA COUNTY', 'TOWN OF YORKTOWN', 'HARTFORD CSD', 'DANSVILLE CSD', 'AVERILL PARK CENTRAL SCHL DIST', 'OLDCASTLE, INC.', 'CITY OF ALBANY NEW YORK', 'BOARD OF COOPERATIVE EDUC', 'NORTHEASTERN CLINTON CENTRAL', 'REMSENBURG-SPEONK UFSD', 'WHITNEY POINT CENTRAL', 'CHITTENANGO CSD', 'NATIONAL AMERICAN INS CO', 'PROCENTURY INSURANCE COMPANY', 'CAMPBELL-SAVONA CSD', 'SUFFOLK COUNTY OF', 'WATKINS GLEN CSD', 'CBS CORPORATION', 'DUTCHESS COUNTY SELF-INS PLAN', 'NIAGARA WHEATFIELD CSD', 'HEALTHSTAR NETWORK INC', 'YATES COUNTY MUTUAL SELF INS', 'R C DIOCESE OF ALBANY', 'CITY OF WHITE PLAINS', 'CORINTH CENTRAL SCHOOL DIST', 'SOUTHAMPTON UNION FREE SCH', 'BURNT HILLS-BALLSTON LAKE', 'SHOREHAM WADING RIVER', 'WALTON CENTRAL SCHOOL DISTRICT', 'YORK CENTRAL SCHOOL DISTRICT', 'LAKE PLACID CENTRAL SCH DIST', 'METROPOLITAN', 'DOBBS FERRY UFSD', 'TUXEDO UFSD', 'MONTAUK UFSD', 'SAMSUNG FIRE & MARINE', 'WANTAGH UNION FREE SCHL DIST', 'GEORGE JUNIOR REPUBLIC', 'TOWN OF NORTH HEMPSTEAD', 'BOCES #1', 'AU SABLE VALLEY CENTRAL', 'PATRIOT GENERAL INS. CO.', 'MANUFACTURING SELF-INSURANCE', 'CITY OF MIDDLETOWN', 'BOLTON CENTRAL SCHOOL DISTRICT', 'SCHUYLER-STEUBEN-CHEMUNG-', 'E. ROCH. UNION FREE SCH DIST', 'NEW ROCHELLE CITY SCH DIST', 'COUNTY OF ULSTER', 'CITY OF LOCKPORT', 'NEWBURGH ENLARGED CITY', 'BALDSWINVILLE SCHOOL DISTRICT', 'CORNING INCORPORATED', 'BRADFORD CENTRAL SCHOOL DIST', 'NEW YORK LUMBERMENS', 'NYU HOSPITALS CENTER', 'FABIUS-POMPY CENTRAL', 'KEENE CENTRAL SCHOOL DIST', 'EASTCHESTER UNION FREE', 'SULLIVAN WEST CENTRAL SCHOOL', 'CAZENOVIA CSD', 'INDIAN RIVER CENTRAL SCHOOL SY', 'MILFORD CSD', 'SOMPO JAPAN INSURANCE', 'EASTPORT/SOUTH MANOR C. S. D.', 'CANDOR CSD', 'MT MORRIS CENTRAL SCH DIST', 'SARATOGA COUNTY SELF-INS. PLAN', 'GATES-CHILI CSD', 'CNY OTHER THAN E HE WT HHC & H', \"FULMONT WORKERS'\", 'HOMELAND INSURANCE CO OF NY', 'PORT BYRON CENTRAL SCHOOL', 'NORTHERN ADIRONDACK', 'KIRYAS JOEL VILLAGE UNION', 'CINCINNATTI CASUALTY COMPANY', 'BOCES SOUTHERN WESTCHESTER', 'FIREMANS INSURANCE COMPANY OF', 'GREENE COUNTY', 'CHATHAM CENTRAL SCHOOL DISTRIC', 'EAST HAMPTON UNION FREE', 'COLUMBIA COUNTY MUT SELF INS', 'MARATHON CENTRAL SCHOOL', 'DE RUYTER CENTRAL SCHOOL DIST', 'OYSTERPONDS UNION FREE', 'IDEAL MUTUAL INSURANCE CO', 'PROCTOR & GAMBLE MFG CO', 'E I DUPONT DENEMOURS & CO', 'YORKSHIRE-PIONEER CENTRAL', 'TRAVELERS CASUALTY CO OF CONN', 'ELLENVILLE CENTRAL SCHOOL DIST', 'PATHMARK STORES INC.', 'MINERVA CSD', 'BALL CORP', 'BROCKPORT, VILLAGE OF', 'NORTHERN INSURANCE CO OF NY', 'EMPIRE STATE TRANSPORTATION', 'WARWICK VALLEY CENTRAL', 'MAMARONECK UNION FREE', 'TOWN OF IRONDEQUOIT', 'IBM CORPORATION', 'PORTVILLE CENTRAL SCHOOL', 'ARLINGTON CENTRAL', 'DUNDEE CENTRAL SCHOOL DIST', 'FALLSBURG CENTRAL SCHOOL DIST', 'LIMITED BRANDS, INC.', 'WASHINGTONVILLE CENTRAL', 'VILLAGE OF EAST ROCHESTER', 'CHATEAUGAY CSD', 'BOCES DISTRICT OF ORANGE &', 'PORT JERVIS', 'ERIE COUNTY MEDICAL CTR. CORP', 'GREAT AMERICAN INS CO OF NY', 'MEMORIAL SLOAN-KETTERING CANCE', 'CATTARAUGUS COUNTY', 'UNION SPRINGS CSD', 'PARAMOUNT INSURANCE COMPANY', 'PENFIELD CSD', 'PHOENIX CSD', 'ROMAN CATHOLIC DIOCESE ALB', 'YORKTOWN CENTRAL SCHOOL DIST', 'SCHENECTADY CITY SCHOOL DIST', 'INDIAN LAKE CSD', 'CITY OF MOUNT VERNON', 'GARRISON UFSD', 'TULLY CENTRAL SCHOOL DIST', 'MINISINK VALLEY CENTRAL', 'MANHATTAN AND BRONX SURFACE', 'POWER AUTHORITY OF THE STATE', 'GLENS FALLS COMMON SD', 'NEW YORK CITY TRANSIT AUTH', 'ARROWOOD INDEMNITY COMPANY', 'SARATOGA SPRINGS CITY SCHOOLS', 'SEATON INSURANCE COMPANY', 'PEERLESS INSURANCE CO', 'TOWN OF EASTCHESTER', 'JAMESVILLE-DEWITT CENTRAL', 'CROUSE HEALTH HOSPITAL INC DBA', 'LINCOLN GENERAL INSURANCE CO.', 'LE ROY CENTRAL SCHOOL DISTRICT', 'ERIE #2 SCHOOLS SELF-FUNDED', 'MID-HUDSON VALLEY STAFFCO, LL', 'SOUTH KORTRIGHT CENTRAL', 'ORISKANY CENTRAL SCHOOL DIST', 'COLTON-PIERREPONT CSD', \"STEWART'S ICE CREAM CO INC\", 'NORTHEAST HEALTH', 'THE JOHN T MATHER MEMORIAL', 'MT. PLEASANT CSD', 'HIGHLAND FALLS-FORT', 'ROCKLAND COUNTY-BOARD OF', 'WEST GENESEE CENTRAL', 'COUNTY OF PUTNAM', 'DOLGEN NEW YORK LLC', 'CHERRY VALLEY SPRINGFIELD', 'CARILLON NURSING AND', 'GALWAY CENTRAL SCHOOL DIST', 'DUTCHESS COUNTY', 'MARCUS WHITMAN CENTRAL', 'HUNTINGTON UNION FREE', 'LYME CSD', 'SALAMANCA CITY CENTRAL', 'ADDISON CENTRAL SCHOOL DISTRIC', 'WILLIAMSVILLE CENTRAL SCH DIST', 'SOUTH JEFFERSON CENTRAL', 'STANLEY BLACK & DECKER INC', 'SCHENEVUS CENTRAL SCH DIST', 'MOUNT VERNON CITY SCHOOL DISTR', \"NYSARC WORKERS' COMP TRUST\", 'ERIE COUNTY MEDICAL CENTER', \"WENDY'S INTERNATIONAL, INC.\", 'PITTSFORD CENTRAL SCHOOL DISTR', 'CHESTER UNION FREE', 'HASTINGS ON HUDSON UNION', 'RED HOOK CENTRAL SCH DIST', 'TOWN OF ELMA', 'NETFLIX, INC', 'CHAUTAUQUA COUNTY', 'RYDER SYSTEM INC.', 'HOLLEY CSD', 'EAST ROCHESTER UNION FREE', 'CROUSE HEALTH HOSPITAL INC', 'ALLIANCE NATIONAL INSURANCE CO', 'BOCES LIVINGSTON-STEUBEN-', 'LAFAYETTE CENTRAL SCHOOL DIST', 'RYE NECK UFSD', 'BOLIVAR-RICHBURG CENTRAL', 'EDMESTON CENTRAL', 'WYANDANCH UFSD', 'LAURENS CENTRAL SCHOOL', 'RYDER SYSTEM, INC.', 'LAURENS CENTRAL SCHOOL DISTRIC', 'CITY SCHOOL DISTRICT', 'HOMER CSD', 'BYRAM HILLS CENTRAL', 'CINCINNATUS CSD', 'SALMON RIVER CENTRAL', 'GREENWICH INSURANCE CO', 'SECURITY INS CO OF HARTFORD', 'WASHINGTON MILLS ELECTRO', 'CHARLOTTE VALLEY CENTRAL SCH', 'MOUNTAIN VALLEY INDEMNITY CO', 'L BRANDS INC', 'BOCES ST. LAWRENCE-LEWIS', 'HARRISVILLE CENTRAL', 'ALFRED-ALMOND CENTRAL SCHOOL', 'LYONS CENTRAL SCHOOL DISTRICT', 'ASSURANCE COMPANY OF AMERICA', 'SOMERS CENTRAL SCHOOL DIST', 'HAMPTON BAYS U F S D', 'STILLWATER CENTRAL SCH DIST', 'AMHERST C.S.D', 'L & J G STICKLEY, INC.', 'SEAFORD UNION FREE', 'CITY OF PEEKSKILL', 'OCCIDENTAL CHEMICAL CORP', 'BOCES ERIE NO.1, 1ST SUPR DIST', 'ST MARYS HOSPIT AT AMSTERDAM', 'HILTON, VILLAGE OF', 'GOLUB CORP', 'MECHANICVILLE PUBLIC SCHOOLS', 'PARKER HANNIFIN CORP', 'PROVIDENCE WASHINGTON INS CO', 'MINEOLA,  INC. VILLAGE OF', 'OTSEGO-NORTHERN CATSKILLS', 'GENESEE VALLEY CENTRAL', 'MALVERNE UNION FREE SCL DIST', 'IRVINGTON UNION FR SCH DIST', 'SOLVAY UNION FREE', 'POCANTICO HILLS CENTRAL', 'BLIND BROOK-RYE UFSD', 'MARILLA, TOWN OF', 'FLORIDA UFSD', 'LETCHWORTH CENTRAL', 'NORWICH CITY SCHOOL DISTRICT', 'BALL CORPORATION', 'LUMBERMANS MUT. CAS. CO.', 'SOUTH GLENS FALLS CITY', 'FULTON BOILER WORKS, INC.', 'GREIF BROS CORP', 'SOUTHOLD UNION FREE', 'DELHI CSD', 'NEW YORK CITY HOUSING AUTH', 'ROMAN CATHOLIC ARCHDIOCESE', 'NATIONAL FUEL GAS CO', 'BREWSTER CENTRAL SCHOOL DIST', 'GULF INSURANCE COMPANY', 'SOUTH LEWIS CENTRAL SCHOOL DIS', 'HANNIBAL CSD', 'CITY OF YONKERS', 'NEW YORK CENTRAL MUTUAL FIRE', 'HUNTER-TANNERSVILLE CENTRAL', 'WYANDANCH UNION FREE', 'CITY OF BINGHAMTON', 'FAYETTEVILLE-MANLIUS CSD', 'SCHENECTADY COUNTY', 'COUNTY OF ALBANY', 'SIRIUS AMERICA INSURANCE', 'LANSINGBURGH CENTRAL', 'FILLMORE CSD', 'WESTCHESTER COUNTY HEALTH', 'K-MART CORPORATION', 'POLICE FIRE SNTN. & CRCTN CNY', 'GARRISON UNION FREE SCH DIST', 'TOWN OF RAMAPO', 'QUICK CHEK CORPORATION', 'AKRON CENTRAL SCHOOL DISTRICT', 'MONROE-WOODBURY CENTRAL', 'HAMMONDSPORT CENTRAL', 'DUTCHESS COUNTY BOCES', 'BRIARCLIFF MANOR UNION FREE', 'COOPERSTOWN CSD', 'GEORGIA PACIFIC CORPORATION', 'CLARKSTOWN CENTRAL SCHL DIST', 'WINDSOR CSD', 'BRIDGEHAMPTON UFSD', 'EAST IRONDEQUOIT CSD', 'AVOCA CENTRAL SCHOOL DIST', 'CANISTEO CENTRAL SCHOOL DIST', 'SAUQUOIT VALLEY CENTRAL SCH', 'EAST QUOGUE UNION FREE', 'RAMAPO CSD', 'ARDSLEY UNION FREE SCHL DIST', 'SPECIAL TRADES, CONTRACTING &', 'BAINBRIDGE-GUILFORD CSD', 'OWENS-CORNING', 'NISKAYUNA CENTRAL SCHOOL DIST', 'NORTH WARREN CENTRAL SCHOOL', 'BETHLEHEM CENTRAL SCH DIST', 'WESTPORT INSURANCE COMPANY', 'NORTH HEMPSTEAD, TOWN OF', 'PINE BUSH CENTRAL SCH DIST', 'TOWN OF HARRISON', 'INTERNATIONAL HARVESTER CO.', 'WESTHAMPTON BEACH UNION', 'CITY OF COHOES', 'HONEOYE CSD', 'WESTPORT INSURANCE CORP', 'WEBATUCK CENTRAL SCHOOL', 'FORT ANN CENTRAL SCH DIST', 'SCHODACK CSD', 'MONTICELLO CENTRAL', 'HARTFORD CENTRAL SCHOOL', 'PALMYRA-MACEDON CENTRAL', 'BAYPORT-BLUE POINT UNION', 'CORTLAND COUNTY SELF INS', 'COUNTY OF ROCKLAND', 'EAST GREENBUSH CENTRAL SCHS', 'CHEEKTOWAGA CSD', 'FRANKLIN-ESSEX-', 'BALLSTON SPA CENTRAL', 'TOPS MARKETS, INC.', 'ABF FREIGHT SYSTEMS INC DEL', 'CAPITAL DISTRICT TRANS AUTH', 'CALEDONIA MUMFORD CSD', 'NIAGARA COUNTY MUTUAL SELF INS', 'ST. LAWRENCE-LEWIS COUNTIES', 'SWEET HOME CENTRAL SCHOOL', 'PUBLIC EMPLOYERS RISK', 'BOARD OF HIGHER ED CNY', 'GOUVERNEUR CENTRAL', 'CORNING-PAINTED POST AREA', 'BEAVER RIVER CSD', \"ST. MARY'S HEALTHCARE\", 'NEW YORK MILLS UNION FREE', 'ROCKWOOD CASUALTY INS CO', 'PARMA, TOWN OF', 'WHITEHALL CENTRAL SCHOOL DIST', 'HARRISON CENTRAL SCHOOL DIST', 'GREAT WESTERN CASUALTY CO.', 'POUGHKEEPSIE CITY SCH DIST', 'ELLICOTTVILLE CENTRAL SCHOOL', 'GOSHEN CENTRAL SCHOOL DIST', 'NORTH SALEM CNTRL SCH DIST', 'QUEENSBURY SCHOOL DISTRICT', 'HADLEY-LUZERNE CENTRAL SCH', 'WALTON CENTRAL SCHOOL DIST', 'BRUNSWICK CENTRAL', 'NEWCOMB CSD', 'NYS WCB (LIABLE CARRIER IS 06)', 'MIDDLETOWN CITY OF', 'RANDOLPH CENTRAL SCHOOL', 'VILLANOVA INSURANCE COMPANY', 'BALDWIN UNION FREE SCH DIST', 'ELMIRA HEIGHTS CENTRAL', 'VILLAGE OF FLORAL PARK', 'COUNTY OF FULTON WORKERS', 'DOLGENCORP OF NEW YORK, INC.', 'UNIGARD INSURANCE COMPANY', 'NORTH COLONIE CENTRAL', 'OWEGO-APALACHIN CENTRAL', 'ONONDOGA COUNTY SELF INSURANCE', 'NYC TRANSIT BOARD OF TRNSPRTN', 'GREENPORT UNION FREE', 'WINDHAM-ASHLAND-JEWETT', 'TROY CITY OF', 'HEALTHCARE OF NY WC TRUST', 'SAG HARBOR UNION FREE', 'ENTERGY NUCLEAR OPERATIONS INC', 'NEW YORK MUTUAL CASUALTY', 'WESTHILL CSD', 'FAIRPORT CSD', 'SCIO CENTRAL SCHOOL', 'WAUSAU BUSINESS INSURANCE CO', 'STUEBEN ALLEGANY BOCES', 'CASTLEPOINT NATIONAL INS CO', 'FRANKLIN CENTRAL SCHOOL DIST.', 'MAINE-ENDWELL CSD', 'KINDERHOOK / ICHABOD CRANE', 'LIBERTY CENTRAL SCHOOL DIST', 'FIRST CENTRAL INS CO', 'SPECIAL TRADES, CONTRACTING', 'OGDENSBURG CITY', 'HUDSON FALLS CENTRAL', 'ENLARGED CITY SCHOOL', 'GREECE, TOWN OF', 'TIG INSURANCE COMPANY OF NY', 'NORTH ROSE-WOLCOTT', 'HEALTH & HOSPITALS CORP. CNY', 'GENESEE COUNTY SELF-INS PLAN', 'BON SECOURS CHARITY HEALTH', 'FAIRMONT INS. CO. C/O TIG INS.', 'LOCKPORT CITY SCHOOL DISTRICT', 'CATSKILL CSD', 'AMTRUST INSURANCE COMPANY OF', 'GERMANTOWN CEN SCHOOL DIST', 'POUGHKEEPSIE CITY OF', 'SIRIUS AMERICA INSURANCE CO', 'ALLIED PROPERTY & CASUALTY', 'WESTERN REGIONAL OTB CORP', 'GUIDEONE SPECIALTY MUTUAL INSU', 'RELIANCE INSURANCE CO. OF NY', 'BATH & BODY WORKS, INC', 'SHENENDEHOWA CENTRAL SCH DIS', 'PELHAM UNION FREE', 'PARTY-OF-INTEREST CARRIER', 'WORCESTER CENTRAL SCHOOL', 'PAWLING CENTRAL SCHOOL DIST', 'CITY SCHOOL DISTRICT OF THE', 'HILTON CSD', 'CRH AMERICAS, INC', 'WEST BEND MUTUAL INSURANCE', 'CATTARAUGUS-LITTLE VALLEY', 'MARRIOTT CORPORATION', 'LANCER INDEMNITY COMPANY', 'WARRENSBURG CENTRAL SCHOOL', 'HILLSIDE FAMILY OF AGENCIES', 'BROOKFIELD CENTRAL SCHOOL', \"WENDY'S INTERNATIONAL, LLC\", 'RELIANCE NATIONAL INDEMNITY CO', 'ANDES CENTRAL SCHOOL', 'MAINE-ENDWELL CENTRAL', 'CITY OF PORT JERVIS', 'NAPLES CENTRAL SCHOOL DIST', 'GREAT ATLANTIC & PACIFIC TEA', 'R C DIOCESE OF BROOKLYN', 'DEPEW UFSD', 'TRI-VALLEY CENTRAL', 'MORRIS CENTRAL SCHOOL DIST.', 'GREECE CSD', 'PLEASANTVILLE UFSD'}\n",
      "Size of Carrier Names in train but not in test: 525\n"
     ]
    }
   ],
   "source": [
    "# Get unique carrier names in train and test\n",
    "train_carriers = set(df['Carrier Name'].unique())\n",
    "test_carriers = set(test['Carrier Name'].unique())\n",
    "\n",
    "# Find carriers in test that are not in train\n",
    "test_only_carriers = test_carriers - train_carriers\n",
    "train_only_carriers = train_carriers - test_carriers\n",
    "\n",
    "# Display the result\n",
    "print(f\"Carrier Names in test but not in train: {test_only_carriers}\")\n",
    "print(f'Size of Carrier Names in test but not in train: {len(test_only_carriers)}')\n",
    "print(' ')\n",
    "print(f\"Carrier Names in train but not in test: {train_only_carriers}\")\n",
    "print(f'Size of Carrier Names in train but not in test: {len(train_only_carriers)}')"
   ]
  },
  {
   "cell_type": "code",
   "execution_count": 89,
   "id": "f55f408d",
   "metadata": {
    "ExecuteTime": {
     "end_time": "2024-11-23T15:17:48.096823Z",
     "start_time": "2024-11-23T15:17:48.091566Z"
    }
   },
   "outputs": [
    {
     "data": {
      "text/plain": [
       "1521"
      ]
     },
     "execution_count": 89,
     "metadata": {},
     "output_type": "execute_result"
    }
   ],
   "source": [
    "common_categories = train_carriers.intersection(test_carriers)\n",
    "len(common_categories)"
   ]
  },
  {
   "cell_type": "code",
   "execution_count": 90,
   "id": "26f29216",
   "metadata": {
    "ExecuteTime": {
     "end_time": "2024-11-23T15:17:48.105603Z",
     "start_time": "2024-11-23T15:17:48.101602Z"
    }
   },
   "outputs": [],
   "source": [
    "common_category_map = {category: idx + 1 for idx, category in enumerate(common_categories)}\n",
    "\n",
    "def encode_category(carrier, carrier_map):\n",
    "    return carrier_map.get(carrier, 0)"
   ]
  },
  {
   "cell_type": "code",
   "execution_count": 91,
   "id": "b682dacd",
   "metadata": {
    "ExecuteTime": {
     "end_time": "2024-11-23T15:17:48.613594Z",
     "start_time": "2024-11-23T15:17:48.108636Z"
    }
   },
   "outputs": [],
   "source": [
    "df['Carrier Name Enc'] = df['Carrier Name'].apply(lambda x: encode_category(x, common_category_map))\n",
    "test['Carrier Name Enc'] = test['Carrier Name'].apply(lambda x: encode_category(x, common_category_map))\n"
   ]
  },
  {
   "cell_type": "markdown",
   "id": "3a29e89b",
   "metadata": {},
   "source": [
    "**Carrier Type**\n",
    "\n",
    "DF contains 8 unique values, whereas test only contains 7. The difference is in '5C. SPECIAL FUND - POI CARRIER WCB MENANDS'. Knowing this, we decided to group all '5' categories into a single one: \n",
    "- '5. SPECIAL FUND'"
   ]
  },
  {
   "cell_type": "code",
   "execution_count": 92,
   "id": "efda42ac",
   "metadata": {
    "ExecuteTime": {
     "end_time": "2024-11-23T15:17:48.705369Z",
     "start_time": "2024-11-23T15:17:48.616997Z"
    }
   },
   "outputs": [
    {
     "name": "stdout",
     "output_type": "stream",
     "text": [
      "Carrier Type\n",
      "1A. PRIVATE                                    285367\n",
      "3A. SELF PUBLIC                                121920\n",
      "2A. SIF                                        111144\n",
      "4A. SELF PRIVATE                                52788\n",
      "UNKNOWN                                          1774\n",
      "5D. SPECIAL FUND - UNKNOWN                       1023\n",
      "5C. SPECIAL FUND - POI CARRIER WCB MENANDS          5\n",
      "5A. SPECIAL FUND - CONS. COMM. (SECT. 25-A)         4\n",
      "Name: count, dtype: int64\n",
      " \n",
      "Carrier Type\n",
      "1A. PRIVATE                                    201827\n",
      "3A. SELF PUBLIC                                 78948\n",
      "2A. SIF                                         66189\n",
      "4A. SELF PRIVATE                                38619\n",
      "UNKNOWN                                          1642\n",
      "5D. SPECIAL FUND - UNKNOWN                        748\n",
      "5A. SPECIAL FUND - CONS. COMM. (SECT. 25-A)         2\n",
      "Name: count, dtype: int64\n"
     ]
    }
   ],
   "source": [
    "print(df['Carrier Type'].value_counts())\n",
    "print(' ')\n",
    "print(test['Carrier Type'].value_counts())"
   ]
  },
  {
   "cell_type": "code",
   "execution_count": 93,
   "id": "b6e9bad5",
   "metadata": {
    "ExecuteTime": {
     "end_time": "2024-11-23T15:17:48.711954Z",
     "start_time": "2024-11-23T15:17:48.708840Z"
    }
   },
   "outputs": [],
   "source": [
    "mapping = {\n",
    "    '5D. SPECIAL FUND - UNKNOWN': '5. SPECIAL FUND',\n",
    "    '5A. SPECIAL FUND - CONS. COMM. (SECT. 25-A)': '5. SPECIAL FUND',\n",
    "    '5C. SPECIAL FUND - POI CARRIER WCB MENANDS': '5. SPECIAL FUND'\n",
    "}"
   ]
  },
  {
   "cell_type": "code",
   "execution_count": 94,
   "id": "f5e6c056",
   "metadata": {
    "ExecuteTime": {
     "end_time": "2024-11-23T15:17:49.132235Z",
     "start_time": "2024-11-23T15:17:48.982373Z"
    }
   },
   "outputs": [],
   "source": [
    "# Apply the mapping to standardize 'Carrier Type' values\n",
    "df['Carrier Type'] = df['Carrier Type'].replace(mapping)\n",
    "\n",
    "test['Carrier Type'] = test['Carrier Type'].replace(mapping)"
   ]
  },
  {
   "cell_type": "markdown",
   "id": "af5f93fc",
   "metadata": {},
   "source": [
    "After doing so, we decided to encode them in 2 distinct ways, and choose the best option in feature selection.\n",
    "\n",
    "Starting with **Count Encoding**"
   ]
  },
  {
   "cell_type": "code",
   "execution_count": 95,
   "id": "6b269bf7",
   "metadata": {
    "ExecuteTime": {
     "end_time": "2024-11-23T15:17:49.560219Z",
     "start_time": "2024-11-23T15:17:49.430648Z"
    }
   },
   "outputs": [],
   "source": [
    "freq = df['Carrier Type'].value_counts()\n",
    "\n",
    "df['Carrier Type freq'] = df['Carrier Type'].map(freq)\n",
    "test['Carrier Type freq'] = test['Carrier Type'].map(freq)"
   ]
  },
  {
   "cell_type": "markdown",
   "id": "47a0d27b",
   "metadata": {},
   "source": [
    "And **One-Hot-Encoding**"
   ]
  },
  {
   "cell_type": "code",
   "execution_count": 96,
   "id": "24152a3b",
   "metadata": {
    "ExecuteTime": {
     "end_time": "2024-11-23T15:17:51.024566Z",
     "start_time": "2024-11-23T15:17:49.834678Z"
    }
   },
   "outputs": [],
   "source": [
    "# Convert the 'Carrier Type' column into one-hot encoded dummy variables\n",
    "df = pd.get_dummies(df, columns=['Carrier Type'])\n",
    "test = pd.get_dummies(test, columns=['Carrier Type'])\n",
    "\n",
    "# Drop the last dummy variable to prevent multicollinearity (redundancy)\n",
    "df = df.iloc[:, :-1]\n",
    "test = test.iloc[:, :-1]"
   ]
  },
  {
   "cell_type": "code",
   "execution_count": 97,
   "id": "b79d9d91",
   "metadata": {
    "ExecuteTime": {
     "end_time": "2024-11-23T15:17:51.068376Z",
     "start_time": "2024-11-23T15:17:51.027821Z"
    }
   },
   "outputs": [],
   "source": [
    "# Select columns related to 'Carrier Type' based on their column names\n",
    "dummy_columns = df.filter(like='Carrier Type').columns\n",
    "\n",
    "df[dummy_columns] = df[dummy_columns].astype(int)\n",
    "test[dummy_columns] = test[dummy_columns].astype(int)"
   ]
  },
  {
   "cell_type": "markdown",
   "id": "15e24ed4",
   "metadata": {},
   "source": [
    "**County of Injury**\n",
    "\n",
    "As County of Injury has a considerable amount of unique values, it will be encoded using Count Encoder."
   ]
  },
  {
   "cell_type": "code",
   "execution_count": 98,
   "id": "6b0627bb",
   "metadata": {
    "ExecuteTime": {
     "end_time": "2024-11-23T15:17:51.205344Z",
     "start_time": "2024-11-23T15:17:51.070779Z"
    }
   },
   "outputs": [],
   "source": [
    "# Count the frequency of each unique value in the 'County of Injury' column\n",
    "freq = df['County of Injury'].value_counts()\n",
    "\n",
    "# Map the frequency of each 'County of Injury' to replace values with their respective counts\n",
    "df['County of Injury freq'] = df['County of Injury'].map(freq)\n",
    "test['County of Injury freq'] = test['County of Injury'].map(freq)"
   ]
  },
  {
   "cell_type": "markdown",
   "id": "f62e7f0c",
   "metadata": {},
   "source": [
    "**COVID-19 Indicator**\n",
    "\n",
    "As this variable only has 2 categories, they will be encoded as follows:\n",
    "- N - 0\n",
    "- Y - 1"
   ]
  },
  {
   "cell_type": "code",
   "execution_count": 99,
   "id": "d7ccd656",
   "metadata": {
    "ExecuteTime": {
     "end_time": "2024-11-23T15:17:52.554674Z",
     "start_time": "2024-11-23T15:17:52.495443Z"
    }
   },
   "outputs": [
    {
     "name": "stdout",
     "output_type": "stream",
     "text": [
      "COVID-19 Indicator\n",
      "N    546504\n",
      "Y     27521\n",
      "Name: count, dtype: int64\n",
      " \n",
      "COVID-19 Indicator\n",
      "N    385434\n",
      "Y      2541\n",
      "Name: count, dtype: int64\n"
     ]
    }
   ],
   "source": [
    "print(df['COVID-19 Indicator'].value_counts())\n",
    "print(' ')\n",
    "print(test['COVID-19 Indicator'].value_counts())"
   ]
  },
  {
   "cell_type": "code",
   "execution_count": 100,
   "id": "1b92603f",
   "metadata": {
    "ExecuteTime": {
     "end_time": "2024-11-23T15:17:53.053020Z",
     "start_time": "2024-11-23T15:17:52.712503Z"
    }
   },
   "outputs": [],
   "source": [
    "df['COVID-19 Indicator Enc'] = df['COVID-19 Indicator'].replace({'N': 0, 'Y': 1})\n",
    "test['COVID-19 Indicator Enc'] = test['COVID-19 Indicator'].replace({'N': 0, 'Y': 1})"
   ]
  },
  {
   "cell_type": "markdown",
   "id": "3f108c6d",
   "metadata": {},
   "source": [
    "**District Name**\n",
    "\n",
    "As this variable has 8 unique values, Count Encoder will be used."
   ]
  },
  {
   "cell_type": "code",
   "execution_count": 101,
   "id": "c9029172",
   "metadata": {
    "ExecuteTime": {
     "end_time": "2024-11-23T15:17:53.286550Z",
     "start_time": "2024-11-23T15:17:53.198652Z"
    }
   },
   "outputs": [
    {
     "name": "stdout",
     "output_type": "stream",
     "text": [
      "District Name\n",
      "NYC           270778\n",
      "ALBANY         86171\n",
      "HAUPPAUGE      60536\n",
      "BUFFALO        45605\n",
      "SYRACUSE       44646\n",
      "ROCHESTER      40449\n",
      "BINGHAMTON     21864\n",
      "STATEWIDE       3976\n",
      "Name: count, dtype: int64\n",
      " \n",
      "District Name\n",
      "NYC           187972\n",
      "ALBANY         56500\n",
      "HAUPPAUGE      36656\n",
      "BUFFALO        31481\n",
      "SYRACUSE       29537\n",
      "ROCHESTER      28073\n",
      "BINGHAMTON     15382\n",
      "STATEWIDE       2374\n",
      "Name: count, dtype: int64\n"
     ]
    }
   ],
   "source": [
    "print(df['District Name'].value_counts())\n",
    "print(' ')\n",
    "print(test['District Name'].value_counts())"
   ]
  },
  {
   "cell_type": "code",
   "execution_count": 102,
   "id": "c8581e0a",
   "metadata": {
    "ExecuteTime": {
     "end_time": "2024-11-23T15:17:53.492185Z",
     "start_time": "2024-11-23T15:17:53.439763Z"
    }
   },
   "outputs": [],
   "source": [
    "freq = df['District Name'].value_counts()"
   ]
  },
  {
   "cell_type": "code",
   "execution_count": 103,
   "id": "eadf2f53",
   "metadata": {
    "ExecuteTime": {
     "end_time": "2024-11-23T15:17:53.754312Z",
     "start_time": "2024-11-23T15:17:53.677208Z"
    }
   },
   "outputs": [],
   "source": [
    "# Replace each district name in the 'District Name' column with its corresponding frequency count\n",
    "df['District Name freq'] = df['District Name'].map(freq)\n",
    "test['District Name freq'] = test['District Name'].map(freq)"
   ]
  },
  {
   "cell_type": "markdown",
   "id": "6df40a5d",
   "metadata": {},
   "source": [
    "**Gender**\n",
    "\n",
    "As the number of 'X' and 'U' genders is very small compared with the others, they are going to be grouped and encoded as follows.\n",
    "- M - 0\n",
    "- F - 1\n",
    "- U & X - U/X - 2"
   ]
  },
  {
   "cell_type": "code",
   "execution_count": 104,
   "id": "7203d27f",
   "metadata": {
    "ExecuteTime": {
     "end_time": "2024-11-23T15:17:54.196574Z",
     "start_time": "2024-11-23T15:17:54.137703Z"
    }
   },
   "outputs": [
    {
     "name": "stdout",
     "output_type": "stream",
     "text": [
      "Gender\n",
      "M    335217\n",
      "F    234051\n",
      "U      4711\n",
      "X        46\n",
      "Name: count, dtype: int64\n",
      " \n",
      "Gender\n",
      "M    215343\n",
      "F    167019\n",
      "U      5340\n",
      "X       273\n",
      "Name: count, dtype: int64\n"
     ]
    }
   ],
   "source": [
    "print(df['Gender'].value_counts())\n",
    "print(' ')\n",
    "print(test['Gender'].value_counts())"
   ]
  },
  {
   "cell_type": "code",
   "execution_count": 105,
   "id": "2e8f0b9e",
   "metadata": {
    "ExecuteTime": {
     "end_time": "2024-11-23T15:17:54.395328Z",
     "start_time": "2024-11-23T15:17:54.338196Z"
    }
   },
   "outputs": [],
   "source": [
    "mapping = {  \n",
    "    'M': 'M',\n",
    "    'F': 'F',\n",
    "    'U': 'U/X',  \n",
    "    'X': 'U/X'\n",
    "}\n",
    "\n",
    "df['Gender'] = df['Gender'].map(mapping)  \n",
    "test['Gender'] = test['Gender'].map(mapping) "
   ]
  },
  {
   "cell_type": "code",
   "execution_count": 106,
   "id": "81fcd883",
   "metadata": {
    "ExecuteTime": {
     "end_time": "2024-11-23T15:17:54.943507Z",
     "start_time": "2024-11-23T15:17:54.571939Z"
    }
   },
   "outputs": [],
   "source": [
    "df['Gender Enc'] = df['Gender'].replace({'M': 0, 'F': 1, 'U/X': 2})\n",
    "test['Gender Enc'] = test['Gender'].replace({'M': 0, 'F': 1, 'U/X': 2})"
   ]
  },
  {
   "cell_type": "markdown",
   "id": "f5f06bcb",
   "metadata": {},
   "source": [
    "Since after grouping we only have 3 categories, we will also use **One-Hot-Encoding** and decide which is better in feature selection."
   ]
  },
  {
   "cell_type": "code",
   "execution_count": 107,
   "id": "e3f07b7c",
   "metadata": {
    "ExecuteTime": {
     "end_time": "2024-11-23T15:17:56.261132Z",
     "start_time": "2024-11-23T15:17:55.006305Z"
    }
   },
   "outputs": [],
   "source": [
    "# Convert the 'Carrier Type' column into one-hot encoded dummy variables\n",
    "df = pd.get_dummies(df, columns=['Gender'])\n",
    "test = pd.get_dummies(test, columns=['Gender'])\n",
    "\n",
    "# Drop the last dummy variable to prevent multicollinearity (redundancy)\n",
    "df = df.iloc[:, :-1]\n",
    "test = test.iloc[:, :-1]"
   ]
  },
  {
   "cell_type": "code",
   "execution_count": 108,
   "id": "07ab8da6",
   "metadata": {
    "ExecuteTime": {
     "end_time": "2024-11-23T15:17:56.295864Z",
     "start_time": "2024-11-23T15:17:56.264372Z"
    }
   },
   "outputs": [],
   "source": [
    "# Select columns related to 'Carrier Type' based on their column names\n",
    "dummy_columns = df.filter(like='Gender').columns\n",
    "\n",
    "df[dummy_columns] = df[dummy_columns].astype(int)\n",
    "test[dummy_columns] = test[dummy_columns].astype(int)"
   ]
  },
  {
   "cell_type": "markdown",
   "id": "3b2f7186",
   "metadata": {},
   "source": [
    "**Medical Fee Region**\n",
    "\n",
    "Even though this variable only contains 5 unique values, it is not clear whether there is an order between them or not. Therefore we will use **Count Encoding**"
   ]
  },
  {
   "cell_type": "code",
   "execution_count": 109,
   "id": "32d24b0b",
   "metadata": {
    "ExecuteTime": {
     "end_time": "2024-11-23T15:17:56.377334Z",
     "start_time": "2024-11-23T15:17:56.298714Z"
    }
   },
   "outputs": [
    {
     "name": "stdout",
     "output_type": "stream",
     "text": [
      "Medical Fee Region\n",
      "IV     265981\n",
      "I      135885\n",
      "II      85033\n",
      "III     53654\n",
      "UK      33472\n",
      "Name: count, dtype: int64\n",
      " \n",
      "Medical Fee Region\n",
      "IV     182276\n",
      "I       91300\n",
      "II      58743\n",
      "III     34679\n",
      "UK      20977\n",
      "Name: count, dtype: int64\n"
     ]
    }
   ],
   "source": [
    "print(df['Medical Fee Region'].value_counts())\n",
    "print(' ')\n",
    "print(test['Medical Fee Region'].value_counts())"
   ]
  },
  {
   "cell_type": "code",
   "execution_count": 110,
   "id": "f0fcd974",
   "metadata": {
    "ExecuteTime": {
     "end_time": "2024-11-23T15:17:56.493594Z",
     "start_time": "2024-11-23T15:17:56.381275Z"
    }
   },
   "outputs": [],
   "source": [
    "freq = df['Medical Fee Region'].value_counts()\n",
    "\n",
    "# Replace each 'Medical Fee Region' value with its corresponding frequency count\n",
    "df['Medical Fee Region freq'] = df['Medical Fee Region'].map(freq)\n",
    "test['Medical Fee Region freq'] = test['Medical Fee Region'].map(freq)"
   ]
  },
  {
   "cell_type": "markdown",
   "id": "33745348",
   "metadata": {},
   "source": [
    "### 3.2.2 Feature Creation\n",
    "\n",
    "<a href=\"#top\">Top &#129033;</a>"
   ]
  },
  {
   "cell_type": "markdown",
   "id": "37b53eea",
   "metadata": {},
   "source": [
    "**Date Columns**\n",
    "\n",
    "For each date column, the Year, Month, Day and Week Day (0=Monday, 6=Sunday) will be extracted."
   ]
  },
  {
   "cell_type": "code",
   "execution_count": 111,
   "id": "2f20acd5",
   "metadata": {
    "ExecuteTime": {
     "end_time": "2024-11-23T15:17:57.787949Z",
     "start_time": "2024-11-23T15:17:57.291739Z"
    }
   },
   "outputs": [],
   "source": [
    "for column in df.columns:\n",
    "    # Check if the column is a datetime type\n",
    "    if pd.api.types.is_datetime64_any_dtype(df[column]) and column not in ['C-3 Date', 'First Hearing Date']:\n",
    "        # Extract year, month, and day and create new columns\n",
    "        df[f'{column} Year'] = df[column].dt.year\n",
    "        df[f'{column} Month'] = df[column].dt.month\n",
    "        df[f'{column} Day'] = df[column].dt.day\n",
    "        df[f'{column} Day of Week'] = df[column].dt.weekday \n",
    "        \n",
    "        test[f'{column} Year'] = test[column].dt.year\n",
    "        test[f'{column} Month'] = test[column].dt.month\n",
    "        test[f'{column} Day'] = test[column].dt.day\n",
    "        test[f'{column} Day of Week'] = test[column].dt.weekday"
   ]
  },
  {
   "cell_type": "markdown",
   "id": "e6ef1f31",
   "metadata": {
    "ExecuteTime": {
     "end_time": "2024-11-22T16:21:26.884654Z",
     "start_time": "2024-11-22T16:21:26.747852Z"
    }
   },
   "source": [
    "**WCIO Codes**\n",
    "\n",
    "All WCIO codes will be joined in a column. Before joining them, they will be transformed into integers. For this to be possible, missing values will be filled with a specific code, 0, which until now does not exist in any of the mentioned columns. We also needed to transform **WCIO Part Of Body Code** into the absolute value, since there was a negative code (-9). Before doing so, we ensured there was not any code with the same absolute number."
   ]
  },
  {
   "cell_type": "code",
   "execution_count": 112,
   "id": "08c3a255",
   "metadata": {
    "ExecuteTime": {
     "end_time": "2024-11-23T15:17:58.342295Z",
     "start_time": "2024-11-23T15:17:58.331509Z"
    }
   },
   "outputs": [],
   "source": [
    "df['WCIO Part Of Body Code'] = df['WCIO Part Of Body Code'].abs()\n",
    "test['WCIO Part Of Body Code'] = test['WCIO Part Of Body Code'].abs()"
   ]
  },
  {
   "cell_type": "code",
   "execution_count": 113,
   "id": "bbc3f4e9",
   "metadata": {
    "ExecuteTime": {
     "end_time": "2024-11-23T15:18:05.659611Z",
     "start_time": "2024-11-23T15:17:58.575791Z"
    },
    "scrolled": true
   },
   "outputs": [],
   "source": [
    "columns_to_join = [\n",
    "    'WCIO Cause of Injury Code',\n",
    "    'WCIO Nature of Injury Code',\n",
    "    'WCIO Part Of Body Code'\n",
    "]\n",
    "\n",
    "df[columns_to_join] = df[columns_to_join].fillna(0).astype(int)\n",
    "test[columns_to_join] = test[columns_to_join].fillna(0).astype(int)\n",
    "\n",
    "df['WCIO Codes'] = df[columns_to_join].astype(str).agg(''.join, axis=1).astype(int)\n",
    "test['WCIO Codes'] = test[columns_to_join].astype(str).agg(''.join, axis=1).astype(int)"
   ]
  },
  {
   "cell_type": "markdown",
   "id": "decf52c2",
   "metadata": {},
   "source": [
    "**Zip Code**\n",
    "\n",
    "Will be transformed into a Zip Code Valid, which evaluates the validity of the Zip Code:\n",
    "- -1 for missing values\n",
    "- 0 for a valid numeric value\n",
    "- 1 for non-numeric zip codes"
   ]
  },
  {
   "cell_type": "code",
   "execution_count": 114,
   "id": "536aaac3",
   "metadata": {
    "ExecuteTime": {
     "end_time": "2024-11-23T15:18:06.545611Z",
     "start_time": "2024-11-23T15:18:05.663462Z"
    }
   },
   "outputs": [],
   "source": [
    "# Create a new column 'Zip Code Valid' to flag the validity of the 'Zip Code' field\n",
    "df['Zip Code Valid'] = df['Zip Code'].apply(\n",
    "    lambda x: -1 if pd.isna(x)          \n",
    "    else (1 if not str(x).isnumeric()   \n",
    "          else 0)                       \n",
    ")\n",
    "\n",
    "\n",
    "test['Zip Code Valid'] = test['Zip Code'].apply(\n",
    "    lambda x: -1 if pd.isna(x)          \n",
    "    else (1 if not str(x).isnumeric()   \n",
    "          else 0)                       \n",
    ")"
   ]
  },
  {
   "cell_type": "markdown",
   "id": "7cbf4fe5",
   "metadata": {},
   "source": [
    "**Industry Code Description**\n",
    "\n",
    "The descriptions of the Industries will be grouped by sectors, as follows:\n",
    "- Public Services / Government:\n",
    "    - Public Administration \n",
    "    - Health Care and Social Assistance \n",
    "    - Educational Services \n",
    "    - Arts, Entertainment, and Recreation \n",
    "- Business Services:\n",
    "    - Professional, Scientific, and Technical Services \n",
    "    - Administrative and Support and Waste Management and Remediation\n",
    "    - Information \n",
    "    - Management of Companies and Enterprises \n",
    "    - Finance and Insurance \n",
    "- Retail and Wholesale:\n",
    "    - Retail Trade\n",
    "    - Wholesale Trade \n",
    "    - Accommodation and Food Services \n",
    "- Manufacturing and Construction:\n",
    "    - Manufacturing \n",
    "    - Construction \n",
    "- Transportation:\n",
    "    - Transportation and Warehousing \n",
    "- Agriculture and Natural Resources:\n",
    "    - Agriculture, Forestry, Fishing, and Hunting \n",
    "    - Mining\n",
    "- Utilities \n",
    "    - Utilities\n",
    "- Other Services\n",
    "    - Other Services (Except Public Services)\n",
    "\n",
    "    \n",
    "Then, they will be encoded.\n"
   ]
  },
  {
   "cell_type": "code",
   "execution_count": 115,
   "id": "45147834",
   "metadata": {
    "ExecuteTime": {
     "end_time": "2024-11-23T15:18:06.847936Z",
     "start_time": "2024-11-23T15:18:06.548017Z"
    }
   },
   "outputs": [],
   "source": [
    "df['Industry Sector'] = df['Industry Code Description'].apply(u.group_industry)\n",
    "test['Industry Sector'] = test['Industry Code Description'].apply(u.group_industry)"
   ]
  },
  {
   "cell_type": "markdown",
   "id": "63f509bc",
   "metadata": {},
   "source": [
    "Count Encoding"
   ]
  },
  {
   "cell_type": "code",
   "execution_count": 116,
   "id": "1b9a1108",
   "metadata": {
    "ExecuteTime": {
     "end_time": "2024-11-23T15:18:06.889139Z",
     "start_time": "2024-11-23T15:18:06.852141Z"
    }
   },
   "outputs": [],
   "source": [
    "freq = df['Industry Sector'].value_counts()"
   ]
  },
  {
   "cell_type": "code",
   "execution_count": 117,
   "id": "5eb00f80",
   "metadata": {
    "ExecuteTime": {
     "end_time": "2024-11-23T15:18:06.942612Z",
     "start_time": "2024-11-23T15:18:06.891755Z"
    }
   },
   "outputs": [],
   "source": [
    "df['Industry Sector Count Enc'] = df['Industry Sector'].map(freq)\n",
    "test['Industry Sector Count Enc'] = test['Industry Sector'].map(freq)"
   ]
  },
  {
   "cell_type": "markdown",
   "id": "b3bd5f7b",
   "metadata": {},
   "source": [
    "**Age Groups**\n",
    "\n",
    "Creating groups for age as follows:\n",
    "- Minors (0): Ages 0-17\n",
    "- Adults (1): Ages 18-64\n",
    "- Seniors (2): Ages 65+"
   ]
  },
  {
   "cell_type": "code",
   "execution_count": 145,
   "id": "8442f947",
   "metadata": {},
   "outputs": [],
   "source": [
    "bins = [-1, 17, 64, 117]\n",
    "labels = [0, 1, 2]\n",
    "\n",
    "df['Age Group'] = pd.cut(df['Age at Injury'], bins=bins, labels=labels, right=True)\n",
    "\n",
    "test['Age Group'] = pd.cut(test['Age at Injury'], bins=bins, labels=labels, right=True)"
   ]
  },
  {
   "cell_type": "markdown",
   "id": "dbe4dfd7",
   "metadata": {},
   "source": [
    "Drop treated and unnecessary columns before continuing."
   ]
  },
  {
   "cell_type": "code",
   "execution_count": 119,
   "id": "88ed93ae",
   "metadata": {
    "ExecuteTime": {
     "end_time": "2024-11-23T15:18:06.948530Z",
     "start_time": "2024-11-23T15:18:06.945191Z"
    }
   },
   "outputs": [],
   "source": [
    "# Columns to drop:\n",
    "to_drop = ['Accident Date', 'Alternative Dispute Resolution', 'Assembly Date', 'Attorney/Representative',\n",
    "              'C-2 Date', 'Carrier Name','County of Injury', 'COVID-19 Indicator', 'District Name',\n",
    "              'Medical Fee Region', 'Zip Code', 'Industry Sector']\n",
    "\n",
    "to_drop2 = ['WCIO Cause of Injury Description', 'WCIO Nature of Injury Description', \n",
    "              'WCIO Part Of Body Description', 'Industry Code Description']\n",
    "\n",
    "all_drop = to_drop + to_drop2"
   ]
  },
  {
   "cell_type": "code",
   "execution_count": 120,
   "id": "e6c0a614",
   "metadata": {
    "ExecuteTime": {
     "end_time": "2024-11-23T15:18:07.270252Z",
     "start_time": "2024-11-23T15:18:06.951353Z"
    }
   },
   "outputs": [],
   "source": [
    "df.drop(columns = all_drop, axis = 1, inplace = True)\n",
    "test.drop(columns = all_drop, axis = 1, inplace = True)"
   ]
  },
  {
   "cell_type": "markdown",
   "id": "a6f84db6",
   "metadata": {},
   "source": [
    "# 4. Missing Values\n",
    "\n",
    "<a href=\"#top\">Top &#129033;</a>\n",
    "\n",
    "Before spliting df into train and validation sets, we can fill missing values with simple methods (constants, median)"
   ]
  },
  {
   "cell_type": "code",
   "execution_count": 146,
   "id": "d216eea9",
   "metadata": {
    "ExecuteTime": {
     "end_time": "2024-11-23T15:20:20.868231Z",
     "start_time": "2024-11-23T15:20:20.820099Z"
    }
   },
   "outputs": [
    {
     "data": {
      "text/plain": [
       "Age at Injury                             0\n",
       "Average Weekly Wage                   28651\n",
       "Birth Year                            29078\n",
       "Claim Injury Type                         0\n",
       "IME-4 Count                               0\n",
       "Industry Code                             0\n",
       "WCIO Cause of Injury Code                 0\n",
       "WCIO Nature of Injury Code                0\n",
       "WCIO Part Of Body Code                    0\n",
       "Number of Dependents                      0\n",
       "Alternative Dispute Resolution Bin        0\n",
       "Attorney/Representative Bin               0\n",
       "Carrier Name Enc                          0\n",
       "Carrier Type freq                         0\n",
       "Carrier Type_1A. PRIVATE                  0\n",
       "Carrier Type_2A. SIF                      0\n",
       "Carrier Type_3A. SELF PUBLIC              0\n",
       "Carrier Type_4A. SELF PRIVATE             0\n",
       "Carrier Type_5. SPECIAL FUND              0\n",
       "County of Injury freq                     0\n",
       "COVID-19 Indicator Enc                    0\n",
       "District Name freq                        0\n",
       "Gender Enc                                0\n",
       "Gender_F                                  0\n",
       "Gender_M                                  0\n",
       "Medical Fee Region freq                   0\n",
       "Accident Date Year                        0\n",
       "Accident Date Month                       0\n",
       "Accident Date Day                         0\n",
       "Accident Date Day of Week                 0\n",
       "Assembly Date Year                        0\n",
       "Assembly Date Month                       0\n",
       "Assembly Date Day                         0\n",
       "Assembly Date Day of Week                 0\n",
       "C-2 Date Year                             0\n",
       "C-2 Date Month                            0\n",
       "C-2 Date Day                              0\n",
       "C-2 Date Day of Week                      0\n",
       "WCIO Codes                                0\n",
       "Zip Code Valid                            0\n",
       "Industry Sector Count Enc                 0\n",
       "Age Group                                 0\n",
       "C-3 Date Binary                           0\n",
       "First Hearing Date Binary                 0\n",
       "dtype: int64"
      ]
     },
     "execution_count": 146,
     "metadata": {},
     "output_type": "execute_result"
    }
   ],
   "source": [
    "df.isna().sum()"
   ]
  },
  {
   "cell_type": "markdown",
   "id": "8f982674",
   "metadata": {},
   "source": [
    "**Accident Date**\n",
    "\n",
    "Fill Year, Month and Day with median. Then recompute full date and from there fill missing values in Day of Week"
   ]
  },
  {
   "cell_type": "code",
   "execution_count": 122,
   "id": "ca2d760e",
   "metadata": {
    "ExecuteTime": {
     "end_time": "2024-11-23T15:19:30.102882Z",
     "start_time": "2024-11-23T15:19:30.065369Z"
    }
   },
   "outputs": [],
   "source": [
    "# Define median values for Accident-related features from the training dataset\n",
    "accident_med = {\n",
    "    'Accident Date Year': round(df['Accident Date Year'].median()), \n",
    "    'Accident Date Month': round(df['Accident Date Month'].median()),\n",
    "    'Accident Date Day': round(df['Accident Date Day'].median() ) \n",
    "}"
   ]
  },
  {
   "cell_type": "markdown",
   "id": "a6c235eb",
   "metadata": {},
   "source": [
    "Fill with median"
   ]
  },
  {
   "cell_type": "code",
   "execution_count": 123,
   "id": "9a1b5a43",
   "metadata": {
    "ExecuteTime": {
     "end_time": "2024-11-23T15:19:31.581313Z",
     "start_time": "2024-11-23T15:19:31.569095Z"
    }
   },
   "outputs": [],
   "source": [
    "df['Accident Date Year'].fillna(accident_med['Accident Date Year'], inplace=True)  \n",
    "df['Accident Date Month'].fillna(accident_med['Accident Date Month'], inplace=True)\n",
    "df['Accident Date Day'].fillna(accident_med['Accident Date Day'], inplace=True) \n",
    "\n",
    "test['Accident Date Year'].fillna(accident_med['Accident Date Year'], inplace=True)  \n",
    "test['Accident Date Month'].fillna(accident_med['Accident Date Month'], inplace=True)\n",
    "test['Accident Date Day'].fillna(accident_med['Accident Date Day'], inplace=True) "
   ]
  },
  {
   "cell_type": "markdown",
   "id": "826e0c86",
   "metadata": {},
   "source": [
    "Convert to Integers"
   ]
  },
  {
   "cell_type": "code",
   "execution_count": 124,
   "id": "b7194ba9",
   "metadata": {
    "ExecuteTime": {
     "end_time": "2024-11-23T15:19:33.439997Z",
     "start_time": "2024-11-23T15:19:33.144911Z"
    }
   },
   "outputs": [],
   "source": [
    "df['Accident Date Year'] = df['Accident Date Year'].astype('Int64')\n",
    "df['Accident Date Month'] = df['Accident Date Month'].astype('Int64')\n",
    "df['Accident Date Day'] = df['Accident Date Day'].astype('Int64')\n",
    "\n",
    "test['Accident Date Year'] = test['Accident Date Year'].astype('Int64')\n",
    "test['Accident Date Month'] = test['Accident Date Month'].astype('Int64')\n",
    "test['Accident Date Day'] = test['Accident Date Day'].astype('Int64')"
   ]
  },
  {
   "cell_type": "markdown",
   "id": "527385aa",
   "metadata": {},
   "source": [
    "Identify missing values and recompute Accident date to fill Day of the week"
   ]
  },
  {
   "cell_type": "code",
   "execution_count": 125,
   "id": "31c4ac35",
   "metadata": {
    "ExecuteTime": {
     "end_time": "2024-11-23T15:19:37.719739Z",
     "start_time": "2024-11-23T15:19:37.713992Z"
    }
   },
   "outputs": [],
   "source": [
    "# select missing\n",
    "missing_dayofweek_df = df['Accident Date Day of Week'].isnull()\n",
    "\n",
    "missing_dayofweek_test = test['Accident Date Day of Week'].isnull()"
   ]
  },
  {
   "cell_type": "code",
   "execution_count": 126,
   "id": "6e604462",
   "metadata": {
    "ExecuteTime": {
     "end_time": "2024-11-23T15:19:51.813332Z",
     "start_time": "2024-11-23T15:19:51.731036Z"
    }
   },
   "outputs": [],
   "source": [
    "# compute temp accident date for missing values in day of week\n",
    "df.loc[missing_dayofweek_df, 'TEMP Accident Date'] = pd.to_datetime(\n",
    "    df.loc[missing_dayofweek_df, ['Accident Date Year', 'Accident Date Month', 'Accident Date Day']].astype(str).agg('-'.join, axis=1),\n",
    "    errors='coerce'\n",
    ")\n",
    "\n",
    "\n",
    "test.loc[missing_dayofweek_test, 'TEMP Accident Date'] = pd.to_datetime(\n",
    "    test.loc[missing_dayofweek_test, ['Accident Date Year', 'Accident Date Month', 'Accident Date Day']].astype(str).agg('-'.join, axis=1),\n",
    "    errors='coerce'\n",
    ")"
   ]
  },
  {
   "cell_type": "code",
   "execution_count": 127,
   "id": "32be5ec6",
   "metadata": {
    "ExecuteTime": {
     "end_time": "2024-11-23T15:20:16.105598Z",
     "start_time": "2024-11-23T15:20:16.096121Z"
    }
   },
   "outputs": [],
   "source": [
    "df.loc[missing_dayofweek_df, 'Accident Date Day of Week'] = df.loc[missing_dayofweek_df, 'TEMP Accident Date'].dt.dayofweek\n",
    "\n",
    "test.loc[missing_dayofweek_test, 'Accident Date Day of Week'] = test.loc[missing_dayofweek_test, 'TEMP Accident Date'].dt.dayofweek"
   ]
  },
  {
   "cell_type": "markdown",
   "id": "304181e3",
   "metadata": {},
   "source": [
    "**C-2 Date**\n",
    "\n",
    "Fill Year, Month and Day with median. Then recompute full date and from there fill missing values in Day of Week"
   ]
  },
  {
   "cell_type": "code",
   "execution_count": 128,
   "id": "70a0fb12",
   "metadata": {
    "ExecuteTime": {
     "end_time": "2024-11-23T15:24:40.336685Z",
     "start_time": "2024-11-23T15:24:40.296927Z"
    }
   },
   "outputs": [],
   "source": [
    "# Create a dictionary with the median values of 'C-2 Year', 'C-2 Month', and 'C-2 Day' from the training set\n",
    "c2_med = {\n",
    "    'C-2 Date Year': round(df['C-2 Date Year'].median()),\n",
    "    'C-2 Date Month': round(df['C-2 Date Month'].median()),\n",
    "    'C-2 Date Day': round(df['C-2 Date Day'].median())\n",
    "}"
   ]
  },
  {
   "cell_type": "markdown",
   "id": "6fe3dffa",
   "metadata": {},
   "source": [
    "Fill with median"
   ]
  },
  {
   "cell_type": "code",
   "execution_count": 129,
   "id": "d2df9bdb",
   "metadata": {
    "ExecuteTime": {
     "end_time": "2024-11-23T15:25:17.169918Z",
     "start_time": "2024-11-23T15:25:17.118491Z"
    }
   },
   "outputs": [],
   "source": [
    "df['C-2 Date Year'].fillna(c2_med['C-2 Date Year'], inplace=True)  \n",
    "df['C-2 Date Month'].fillna(c2_med['C-2 Date Month'], inplace=True)\n",
    "df['C-2 Date Day'].fillna(c2_med['C-2 Date Day'], inplace=True) \n",
    "\n",
    "test['C-2 Date Year'].fillna(c2_med['C-2 Date Year'], inplace=True)  \n",
    "test['C-2 Date Month'].fillna(c2_med['C-2 Date Month'], inplace=True)\n",
    "test['C-2 Date Day'].fillna(c2_med['C-2 Date Day'], inplace=True) "
   ]
  },
  {
   "cell_type": "markdown",
   "id": "6153563e",
   "metadata": {},
   "source": [
    "Convert to Integers"
   ]
  },
  {
   "cell_type": "code",
   "execution_count": 130,
   "id": "3d0decc7",
   "metadata": {
    "ExecuteTime": {
     "end_time": "2024-11-23T15:25:20.891982Z",
     "start_time": "2024-11-23T15:25:20.876879Z"
    }
   },
   "outputs": [],
   "source": [
    "df['C-2 Date Year'] = df['C-2 Date Year'].astype('Int64')\n",
    "df['C-2 Date Month'] = df['C-2 Date Month'].astype('Int64')\n",
    "df['C-2 Date Day'] = df['C-2 Date Day'].astype('Int64')\n",
    "\n",
    "test['C-2 Date Year'] = test['C-2 Date Year'].astype('Int64')\n",
    "test['C-2 Date Month'] = test['C-2 Date Month'].astype('Int64')\n",
    "test['C-2 Date Day'] = test['C-2 Date Day'].astype('Int64')"
   ]
  },
  {
   "cell_type": "markdown",
   "id": "ed3f482b",
   "metadata": {},
   "source": [
    "Identify missing values and recompute Accident date to fill Day of the week"
   ]
  },
  {
   "cell_type": "code",
   "execution_count": 131,
   "id": "8aea17af",
   "metadata": {
    "ExecuteTime": {
     "end_time": "2024-11-23T15:25:22.287510Z",
     "start_time": "2024-11-23T15:25:22.276283Z"
    }
   },
   "outputs": [],
   "source": [
    "# select missing\n",
    "missing_dayofweek_df = df['C-2 Date Day of Week'].isnull()\n",
    "\n",
    "missing_dayofweek_test = test['C-2 Date Day of Week'].isnull()"
   ]
  },
  {
   "cell_type": "code",
   "execution_count": 132,
   "id": "2d22ea2a",
   "metadata": {
    "ExecuteTime": {
     "end_time": "2024-11-23T15:25:25.874724Z",
     "start_time": "2024-11-23T15:25:25.617807Z"
    }
   },
   "outputs": [],
   "source": [
    "# compute temp accident date for missing values in day of week\n",
    "df.loc[missing_dayofweek_df, 'TEMP C-2 Date'] = pd.to_datetime(\n",
    "    df.loc[missing_dayofweek_df, ['C-2 Date Year', 'C-2 Date Month', 'C-2 Date Day']].astype(str).agg('-'.join, axis=1),\n",
    "    errors='coerce'\n",
    ")\n",
    "\n",
    "\n",
    "test.loc[missing_dayofweek_test, 'TEMP C-2 Date'] = pd.to_datetime(\n",
    "    test.loc[missing_dayofweek_test, ['C-2 Date Year', 'C-2 Date Month', 'C-2 Date Day']].astype(str).agg('-'.join, axis=1),\n",
    "    errors='coerce'\n",
    ")"
   ]
  },
  {
   "cell_type": "code",
   "execution_count": 133,
   "id": "ba163719",
   "metadata": {
    "ExecuteTime": {
     "end_time": "2024-11-23T15:25:31.926955Z",
     "start_time": "2024-11-23T15:25:31.911675Z"
    }
   },
   "outputs": [],
   "source": [
    "df.loc[missing_dayofweek_df, 'C-2 Date Day of Week'] = df.loc[missing_dayofweek_df, 'TEMP C-2 Date'].dt.dayofweek\n",
    "\n",
    "test.loc[missing_dayofweek_test, 'C-2 Date Day of Week'] = test.loc[missing_dayofweek_test, 'TEMP C-2 Date'].dt.dayofweek"
   ]
  },
  {
   "cell_type": "markdown",
   "id": "c053e766",
   "metadata": {},
   "source": [
    "Remove temporary variables"
   ]
  },
  {
   "cell_type": "code",
   "execution_count": 134,
   "id": "47cbefb9",
   "metadata": {
    "ExecuteTime": {
     "end_time": "2024-11-23T15:26:27.131711Z",
     "start_time": "2024-11-23T15:26:26.789011Z"
    }
   },
   "outputs": [],
   "source": [
    "df.drop(['TEMP Accident Date', 'TEMP C-2 Date'], \n",
    "        axis = 1, inplace = True)"
   ]
  },
  {
   "cell_type": "markdown",
   "id": "d10ab849",
   "metadata": {},
   "source": [
    "**C-3 Date**\n",
    "\n",
    "Create a Binary variable:\n",
    "- 0 if C-3 date is missing\n",
    "- 1 if C-3 date exists"
   ]
  },
  {
   "cell_type": "code",
   "execution_count": 135,
   "id": "4351e5d6",
   "metadata": {
    "ExecuteTime": {
     "end_time": "2024-11-23T15:28:24.745422Z",
     "start_time": "2024-11-23T15:28:24.735883Z"
    }
   },
   "outputs": [],
   "source": [
    "df['C-3 Date Binary'] = df['C-3 Date'].notna().astype(int)\n",
    "\n",
    "test['C-3 Date Binary'] = test['C-3 Date'].notna().astype(int)"
   ]
  },
  {
   "cell_type": "markdown",
   "id": "c5123dc0",
   "metadata": {},
   "source": [
    "**First Hearing Date**\n",
    "\n",
    "Create a Binary variable:\n",
    "- 0 if First Hearing Date is missing\n",
    "- 1 if First Hearing Date exists"
   ]
  },
  {
   "cell_type": "code",
   "execution_count": 136,
   "id": "c953f07b",
   "metadata": {
    "ExecuteTime": {
     "end_time": "2024-11-23T15:29:36.701517Z",
     "start_time": "2024-11-23T15:29:36.689229Z"
    }
   },
   "outputs": [],
   "source": [
    "df['First Hearing Date Binary'] = df['First Hearing Date'].notna().astype(int)\n",
    "\n",
    "test['First Hearing Date Binary'] = test['First Hearing Date'].notna().astype(int)"
   ]
  },
  {
   "cell_type": "markdown",
   "id": "6a1e0ced",
   "metadata": {},
   "source": [
    "**IME-4 Count**\n",
    "\n",
    "Since IME-4 Count represents the number of IME-4 forms received per claim, we considered that a missing value represented 0 received forms, hence we will fill them with 0."
   ]
  },
  {
   "cell_type": "code",
   "execution_count": 137,
   "id": "a801e287",
   "metadata": {
    "ExecuteTime": {
     "end_time": "2024-11-23T15:31:45.833645Z",
     "start_time": "2024-11-23T15:31:45.808206Z"
    }
   },
   "outputs": [],
   "source": [
    "df['IME-4 Count'] = df['IME-4 Count'].fillna(0)\n",
    "\n",
    "test['IME-4 Count'] = test['IME-4 Count'].fillna(0)"
   ]
  },
  {
   "cell_type": "markdown",
   "id": "05e9590c",
   "metadata": {},
   "source": [
    "**Industry Code**\n",
    "\n",
    "Assuming that a missing value in Industry Code represents an unknown code, it will be filled with 0."
   ]
  },
  {
   "cell_type": "code",
   "execution_count": 138,
   "id": "cb9a5170",
   "metadata": {
    "ExecuteTime": {
     "end_time": "2024-11-23T15:38:18.305744Z",
     "start_time": "2024-11-23T15:38:18.262126Z"
    }
   },
   "outputs": [],
   "source": [
    "df['Industry Code'] = df['Industry Code'].fillna(0)\n",
    "\n",
    "test['Industry Code'] = test['Industry Code'].fillna(0)"
   ]
  },
  {
   "cell_type": "markdown",
   "id": "21ccb473",
   "metadata": {},
   "source": [
    "**Drop Treated**"
   ]
  },
  {
   "cell_type": "code",
   "execution_count": 139,
   "id": "dcf141f5",
   "metadata": {
    "ExecuteTime": {
     "end_time": "2024-11-23T15:41:19.026384Z",
     "start_time": "2024-11-23T15:41:19.018355Z"
    }
   },
   "outputs": [],
   "source": [
    "treated_drop = ['C-3 Date', 'First Hearing Date']"
   ]
  },
  {
   "cell_type": "code",
   "execution_count": 140,
   "id": "2a37bbf7",
   "metadata": {
    "ExecuteTime": {
     "end_time": "2024-11-23T15:41:20.474216Z",
     "start_time": "2024-11-23T15:41:19.695186Z"
    }
   },
   "outputs": [],
   "source": [
    "df.drop(treated_drop, axis = 1, inplace = True)\n",
    "\n",
    "test.drop(treated_drop, axis = 1, inplace = True)"
   ]
  },
  {
   "cell_type": "markdown",
   "id": "53f94671",
   "metadata": {},
   "source": [
    "# 4. Export\n",
    "\n",
    "<a href=\"#top\">Top &#129033;</a>"
   ]
  },
  {
   "cell_type": "code",
   "execution_count": 147,
   "id": "3a6e373f",
   "metadata": {
    "ExecuteTime": {
     "end_time": "2024-11-23T14:38:02.427161Z",
     "start_time": "2024-11-23T14:37:45.283317Z"
    }
   },
   "outputs": [],
   "source": [
    "df.to_csv('project_data/train_data_EDA.csv')\n",
    "test.to_csv('./project_data/test_data_EDA.csv')"
   ]
  }
 ],
 "metadata": {
  "kernelspec": {
   "display_name": "base",
   "language": "python",
   "name": "python3"
  },
  "language_info": {
   "codemirror_mode": {
    "name": "ipython",
    "version": 3
   },
   "file_extension": ".py",
   "mimetype": "text/x-python",
   "name": "python",
   "nbconvert_exporter": "python",
   "pygments_lexer": "ipython3",
   "version": "3.11.9"
  }
 },
 "nbformat": 4,
 "nbformat_minor": 5
}
