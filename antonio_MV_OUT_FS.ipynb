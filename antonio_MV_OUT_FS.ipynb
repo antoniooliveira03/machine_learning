{
 "cells": [
  {
   "cell_type": "markdown",
   "id": "c7d4dad5",
   "metadata": {},
   "source": [
    "# 1. Importing Libraries & Data\n",
    "In this section, we set up the foundation for our project by importing the necessary Python libraries and loading the dataset. These libraries provide the tools for data manipulation, visualization, and machine learning modeling throughout the notebook. Additionally, we import the historical claims dataset, which forms the core of our analysis. "
   ]
  },
  {
   "cell_type": "code",
   "execution_count": 9,
   "id": "b2ff5482",
   "metadata": {
    "ExecuteTime": {
     "end_time": "2024-11-23T14:41:16.184452Z",
     "start_time": "2024-11-23T14:41:13.794397Z"
    }
   },
   "outputs": [],
   "source": [
    "import pandas as pd\n",
    "\n",
    "# Train-Test Split\n",
    "from sklearn.model_selection import train_test_split\n",
    "\n",
    "import preproc as p\n",
    "\n",
    "pd.set_option('display.max_columns', None)\n",
    "# Suppress Warnings\n",
    "import warnings\n",
    "warnings.filterwarnings(\"ignore\")"
   ]
  },
  {
   "cell_type": "markdown",
   "id": "a33bfd6a",
   "metadata": {},
   "source": [
    "**Import Data**"
   ]
  },
  {
   "cell_type": "code",
   "execution_count": 10,
   "id": "f4e1df1f",
   "metadata": {
    "ExecuteTime": {
     "end_time": "2024-11-23T14:37:53.531106Z",
     "start_time": "2024-11-23T14:37:50.480419Z"
    }
   },
   "outputs": [
    {
     "data": {
      "text/html": [
       "<div>\n",
       "<style scoped>\n",
       "    .dataframe tbody tr th:only-of-type {\n",
       "        vertical-align: middle;\n",
       "    }\n",
       "\n",
       "    .dataframe tbody tr th {\n",
       "        vertical-align: top;\n",
       "    }\n",
       "\n",
       "    .dataframe thead th {\n",
       "        text-align: right;\n",
       "    }\n",
       "</style>\n",
       "<table border=\"1\" class=\"dataframe\">\n",
       "  <thead>\n",
       "    <tr style=\"text-align: right;\">\n",
       "      <th></th>\n",
       "      <th>Age at Injury</th>\n",
       "      <th>Average Weekly Wage</th>\n",
       "      <th>Birth Year</th>\n",
       "      <th>Claim Injury Type</th>\n",
       "      <th>IME-4 Count</th>\n",
       "      <th>Industry Code</th>\n",
       "      <th>WCIO Cause of Injury Code</th>\n",
       "      <th>WCIO Nature of Injury Code</th>\n",
       "      <th>WCIO Part Of Body Code</th>\n",
       "      <th>Number of Dependents</th>\n",
       "      <th>Alternative Dispute Resolution Bin</th>\n",
       "      <th>Attorney/Representative Bin</th>\n",
       "      <th>Carrier Name Enc</th>\n",
       "      <th>Carrier Type freq</th>\n",
       "      <th>Carrier Type_1A. PRIVATE</th>\n",
       "      <th>Carrier Type_2A. SIF</th>\n",
       "      <th>Carrier Type_3A. SELF PUBLIC</th>\n",
       "      <th>Carrier Type_4A. SELF PRIVATE</th>\n",
       "      <th>Carrier Type_5. SPECIAL FUND</th>\n",
       "      <th>County of Injury freq</th>\n",
       "      <th>COVID-19 Indicator Enc</th>\n",
       "      <th>District Name freq</th>\n",
       "      <th>Gender Enc</th>\n",
       "      <th>Gender_F</th>\n",
       "      <th>Gender_M</th>\n",
       "      <th>Medical Fee Region freq</th>\n",
       "      <th>Accident Date Year</th>\n",
       "      <th>Accident Date Month</th>\n",
       "      <th>Accident Date Day</th>\n",
       "      <th>Accident Date Day of Week</th>\n",
       "      <th>Assembly Date Year</th>\n",
       "      <th>Assembly Date Month</th>\n",
       "      <th>Assembly Date Day</th>\n",
       "      <th>Assembly Date Day of Week</th>\n",
       "      <th>C-2 Date Year</th>\n",
       "      <th>C-2 Date Month</th>\n",
       "      <th>C-2 Date Day</th>\n",
       "      <th>C-2 Date Day of Week</th>\n",
       "      <th>WCIO Codes</th>\n",
       "      <th>Zip Code Valid</th>\n",
       "      <th>Industry Sector Count Enc</th>\n",
       "      <th>Age Group</th>\n",
       "      <th>C-3 Date Binary</th>\n",
       "      <th>First Hearing Date Binary</th>\n",
       "    </tr>\n",
       "    <tr>\n",
       "      <th>Claim Identifier</th>\n",
       "      <th></th>\n",
       "      <th></th>\n",
       "      <th></th>\n",
       "      <th></th>\n",
       "      <th></th>\n",
       "      <th></th>\n",
       "      <th></th>\n",
       "      <th></th>\n",
       "      <th></th>\n",
       "      <th></th>\n",
       "      <th></th>\n",
       "      <th></th>\n",
       "      <th></th>\n",
       "      <th></th>\n",
       "      <th></th>\n",
       "      <th></th>\n",
       "      <th></th>\n",
       "      <th></th>\n",
       "      <th></th>\n",
       "      <th></th>\n",
       "      <th></th>\n",
       "      <th></th>\n",
       "      <th></th>\n",
       "      <th></th>\n",
       "      <th></th>\n",
       "      <th></th>\n",
       "      <th></th>\n",
       "      <th></th>\n",
       "      <th></th>\n",
       "      <th></th>\n",
       "      <th></th>\n",
       "      <th></th>\n",
       "      <th></th>\n",
       "      <th></th>\n",
       "      <th></th>\n",
       "      <th></th>\n",
       "      <th></th>\n",
       "      <th></th>\n",
       "      <th></th>\n",
       "      <th></th>\n",
       "      <th></th>\n",
       "      <th></th>\n",
       "      <th></th>\n",
       "      <th></th>\n",
       "    </tr>\n",
       "  </thead>\n",
       "  <tbody>\n",
       "    <tr>\n",
       "      <th>5393875</th>\n",
       "      <td>31.0</td>\n",
       "      <td>0.00</td>\n",
       "      <td>1988.0</td>\n",
       "      <td>1</td>\n",
       "      <td>0.0</td>\n",
       "      <td>44.0</td>\n",
       "      <td>27</td>\n",
       "      <td>10</td>\n",
       "      <td>62</td>\n",
       "      <td>1.0</td>\n",
       "      <td>0</td>\n",
       "      <td>0</td>\n",
       "      <td>1371</td>\n",
       "      <td>285367</td>\n",
       "      <td>1</td>\n",
       "      <td>0</td>\n",
       "      <td>0</td>\n",
       "      <td>0</td>\n",
       "      <td>0</td>\n",
       "      <td>3355</td>\n",
       "      <td>0</td>\n",
       "      <td>44646</td>\n",
       "      <td>0</td>\n",
       "      <td>0</td>\n",
       "      <td>1</td>\n",
       "      <td>135885</td>\n",
       "      <td>2019</td>\n",
       "      <td>12</td>\n",
       "      <td>30</td>\n",
       "      <td>0.0</td>\n",
       "      <td>2020</td>\n",
       "      <td>1</td>\n",
       "      <td>1</td>\n",
       "      <td>2</td>\n",
       "      <td>2019</td>\n",
       "      <td>12</td>\n",
       "      <td>31</td>\n",
       "      <td>1.0</td>\n",
       "      <td>271062</td>\n",
       "      <td>0</td>\n",
       "      <td>103330</td>\n",
       "      <td>1</td>\n",
       "      <td>0</td>\n",
       "      <td>0</td>\n",
       "    </tr>\n",
       "    <tr>\n",
       "      <th>5393091</th>\n",
       "      <td>46.0</td>\n",
       "      <td>1745.93</td>\n",
       "      <td>1973.0</td>\n",
       "      <td>3</td>\n",
       "      <td>4.0</td>\n",
       "      <td>23.0</td>\n",
       "      <td>97</td>\n",
       "      <td>49</td>\n",
       "      <td>38</td>\n",
       "      <td>4.0</td>\n",
       "      <td>0</td>\n",
       "      <td>1</td>\n",
       "      <td>472</td>\n",
       "      <td>285367</td>\n",
       "      <td>1</td>\n",
       "      <td>0</td>\n",
       "      <td>0</td>\n",
       "      <td>0</td>\n",
       "      <td>0</td>\n",
       "      <td>760</td>\n",
       "      <td>0</td>\n",
       "      <td>40449</td>\n",
       "      <td>1</td>\n",
       "      <td>1</td>\n",
       "      <td>0</td>\n",
       "      <td>135885</td>\n",
       "      <td>2019</td>\n",
       "      <td>8</td>\n",
       "      <td>30</td>\n",
       "      <td>4.0</td>\n",
       "      <td>2020</td>\n",
       "      <td>1</td>\n",
       "      <td>1</td>\n",
       "      <td>2</td>\n",
       "      <td>2020</td>\n",
       "      <td>1</td>\n",
       "      <td>1</td>\n",
       "      <td>2.0</td>\n",
       "      <td>974938</td>\n",
       "      <td>0</td>\n",
       "      <td>69053</td>\n",
       "      <td>1</td>\n",
       "      <td>1</td>\n",
       "      <td>1</td>\n",
       "    </tr>\n",
       "    <tr>\n",
       "      <th>5393889</th>\n",
       "      <td>40.0</td>\n",
       "      <td>1434.80</td>\n",
       "      <td>1979.0</td>\n",
       "      <td>3</td>\n",
       "      <td>0.0</td>\n",
       "      <td>56.0</td>\n",
       "      <td>79</td>\n",
       "      <td>7</td>\n",
       "      <td>10</td>\n",
       "      <td>6.0</td>\n",
       "      <td>0</td>\n",
       "      <td>0</td>\n",
       "      <td>825</td>\n",
       "      <td>285367</td>\n",
       "      <td>1</td>\n",
       "      <td>0</td>\n",
       "      <td>0</td>\n",
       "      <td>0</td>\n",
       "      <td>0</td>\n",
       "      <td>17450</td>\n",
       "      <td>0</td>\n",
       "      <td>86171</td>\n",
       "      <td>0</td>\n",
       "      <td>0</td>\n",
       "      <td>1</td>\n",
       "      <td>85033</td>\n",
       "      <td>2019</td>\n",
       "      <td>12</td>\n",
       "      <td>6</td>\n",
       "      <td>4.0</td>\n",
       "      <td>2020</td>\n",
       "      <td>1</td>\n",
       "      <td>1</td>\n",
       "      <td>2</td>\n",
       "      <td>2020</td>\n",
       "      <td>1</td>\n",
       "      <td>1</td>\n",
       "      <td>2.0</td>\n",
       "      <td>79710</td>\n",
       "      <td>0</td>\n",
       "      <td>57495</td>\n",
       "      <td>1</td>\n",
       "      <td>0</td>\n",
       "      <td>0</td>\n",
       "    </tr>\n",
       "  </tbody>\n",
       "</table>\n",
       "</div>"
      ],
      "text/plain": [
       "                  Age at Injury  Average Weekly Wage  Birth Year  \\\n",
       "Claim Identifier                                                   \n",
       "5393875                    31.0                 0.00      1988.0   \n",
       "5393091                    46.0              1745.93      1973.0   \n",
       "5393889                    40.0              1434.80      1979.0   \n",
       "\n",
       "                  Claim Injury Type  IME-4 Count  Industry Code  \\\n",
       "Claim Identifier                                                  \n",
       "5393875                           1          0.0           44.0   \n",
       "5393091                           3          4.0           23.0   \n",
       "5393889                           3          0.0           56.0   \n",
       "\n",
       "                  WCIO Cause of Injury Code  WCIO Nature of Injury Code  \\\n",
       "Claim Identifier                                                          \n",
       "5393875                                  27                          10   \n",
       "5393091                                  97                          49   \n",
       "5393889                                  79                           7   \n",
       "\n",
       "                  WCIO Part Of Body Code  Number of Dependents  \\\n",
       "Claim Identifier                                                 \n",
       "5393875                               62                   1.0   \n",
       "5393091                               38                   4.0   \n",
       "5393889                               10                   6.0   \n",
       "\n",
       "                  Alternative Dispute Resolution Bin  \\\n",
       "Claim Identifier                                       \n",
       "5393875                                            0   \n",
       "5393091                                            0   \n",
       "5393889                                            0   \n",
       "\n",
       "                  Attorney/Representative Bin  Carrier Name Enc  \\\n",
       "Claim Identifier                                                  \n",
       "5393875                                     0              1371   \n",
       "5393091                                     1               472   \n",
       "5393889                                     0               825   \n",
       "\n",
       "                  Carrier Type freq  Carrier Type_1A. PRIVATE  \\\n",
       "Claim Identifier                                                \n",
       "5393875                      285367                         1   \n",
       "5393091                      285367                         1   \n",
       "5393889                      285367                         1   \n",
       "\n",
       "                  Carrier Type_2A. SIF  Carrier Type_3A. SELF PUBLIC  \\\n",
       "Claim Identifier                                                       \n",
       "5393875                              0                             0   \n",
       "5393091                              0                             0   \n",
       "5393889                              0                             0   \n",
       "\n",
       "                  Carrier Type_4A. SELF PRIVATE  Carrier Type_5. SPECIAL FUND  \\\n",
       "Claim Identifier                                                                \n",
       "5393875                                       0                             0   \n",
       "5393091                                       0                             0   \n",
       "5393889                                       0                             0   \n",
       "\n",
       "                  County of Injury freq  COVID-19 Indicator Enc  \\\n",
       "Claim Identifier                                                  \n",
       "5393875                            3355                       0   \n",
       "5393091                             760                       0   \n",
       "5393889                           17450                       0   \n",
       "\n",
       "                  District Name freq  Gender Enc  Gender_F  Gender_M  \\\n",
       "Claim Identifier                                                       \n",
       "5393875                        44646           0         0         1   \n",
       "5393091                        40449           1         1         0   \n",
       "5393889                        86171           0         0         1   \n",
       "\n",
       "                  Medical Fee Region freq  Accident Date Year  \\\n",
       "Claim Identifier                                                \n",
       "5393875                            135885                2019   \n",
       "5393091                            135885                2019   \n",
       "5393889                             85033                2019   \n",
       "\n",
       "                  Accident Date Month  Accident Date Day  \\\n",
       "Claim Identifier                                           \n",
       "5393875                            12                 30   \n",
       "5393091                             8                 30   \n",
       "5393889                            12                  6   \n",
       "\n",
       "                  Accident Date Day of Week  Assembly Date Year  \\\n",
       "Claim Identifier                                                  \n",
       "5393875                                 0.0                2020   \n",
       "5393091                                 4.0                2020   \n",
       "5393889                                 4.0                2020   \n",
       "\n",
       "                  Assembly Date Month  Assembly Date Day  \\\n",
       "Claim Identifier                                           \n",
       "5393875                             1                  1   \n",
       "5393091                             1                  1   \n",
       "5393889                             1                  1   \n",
       "\n",
       "                  Assembly Date Day of Week  C-2 Date Year  C-2 Date Month  \\\n",
       "Claim Identifier                                                             \n",
       "5393875                                   2           2019              12   \n",
       "5393091                                   2           2020               1   \n",
       "5393889                                   2           2020               1   \n",
       "\n",
       "                  C-2 Date Day  C-2 Date Day of Week  WCIO Codes  \\\n",
       "Claim Identifier                                                   \n",
       "5393875                     31                   1.0      271062   \n",
       "5393091                      1                   2.0      974938   \n",
       "5393889                      1                   2.0       79710   \n",
       "\n",
       "                  Zip Code Valid  Industry Sector Count Enc  Age Group  \\\n",
       "Claim Identifier                                                         \n",
       "5393875                        0                     103330          1   \n",
       "5393091                        0                      69053          1   \n",
       "5393889                        0                      57495          1   \n",
       "\n",
       "                  C-3 Date Binary  First Hearing Date Binary  \n",
       "Claim Identifier                                              \n",
       "5393875                         0                          0  \n",
       "5393091                         1                          1  \n",
       "5393889                         0                          0  "
      ]
     },
     "execution_count": 10,
     "metadata": {},
     "output_type": "execute_result"
    }
   ],
   "source": [
    "# Load training data\n",
    "df = pd.read_csv('./project_data/train_data_EDA.csv', index_col = 'Claim Identifier')\n",
    "\n",
    "# Load testing data\n",
    "test = pd.read_csv('./project_data/test_data_EDA.csv', index_col = 'Claim Identifier')\n",
    "\n",
    "# Display the first 3 rows of the training data\n",
    "df.head(3)"
   ]
  },
  {
   "cell_type": "markdown",
   "id": "1ebf14de",
   "metadata": {},
   "source": [
    "# 2. Train-Test Split\n",
    "The train-test split is a crucial technique used to assess model performance by dividing the dataset into training and testing subsets. This ensures that the model is evaluated on unseen data, helping to prevent overfitting and providing an unbiased performance estimate. \n",
    "\n",
    "<a href=\"#top\">Top &#129033;</a>"
   ]
  },
  {
   "cell_type": "markdown",
   "id": "9f494a4f",
   "metadata": {},
   "source": [
    "**Holdout Method**"
   ]
  },
  {
   "cell_type": "code",
   "execution_count": 11,
   "id": "940241ad",
   "metadata": {
    "ExecuteTime": {
     "end_time": "2024-11-23T14:41:00.262764Z",
     "start_time": "2024-11-23T14:41:00.069927Z"
    }
   },
   "outputs": [],
   "source": [
    "# Split the DataFrame into features (X) and target variable (y)\n",
    "X = df.drop('Claim Injury Type', axis=1) \n",
    "y = df['Claim Injury Type']  "
   ]
  },
  {
   "cell_type": "code",
   "execution_count": 12,
   "id": "6911c19d",
   "metadata": {
    "ExecuteTime": {
     "end_time": "2024-11-23T14:41:16.520692Z",
     "start_time": "2024-11-23T14:41:16.187937Z"
    }
   },
   "outputs": [],
   "source": [
    "# Split the dataset into training and validation sets\n",
    "X_train, X_val, y_train, y_val = train_test_split(X, y, \n",
    "                                                    test_size=0.2, \n",
    "                                                    random_state=42,\n",
    "                                                    stratify = y) \n"
   ]
  },
  {
   "cell_type": "markdown",
   "id": "4381807d",
   "metadata": {},
   "source": [
    "# 3. Missing Values"
   ]
  },
  {
   "cell_type": "code",
   "execution_count": 13,
   "id": "40ffb1cf",
   "metadata": {
    "ExecuteTime": {
     "end_time": "2024-11-23T14:41:20.371879Z",
     "start_time": "2024-11-23T14:41:20.328259Z"
    },
    "scrolled": false
   },
   "outputs": [
    {
     "data": {
      "text/plain": [
       "Age at Injury                             0\n",
       "Average Weekly Wage                   22968\n",
       "Birth Year                            23204\n",
       "IME-4 Count                               0\n",
       "Industry Code                             0\n",
       "WCIO Cause of Injury Code                 0\n",
       "WCIO Nature of Injury Code                0\n",
       "WCIO Part Of Body Code                    0\n",
       "Number of Dependents                      0\n",
       "Alternative Dispute Resolution Bin        0\n",
       "Attorney/Representative Bin               0\n",
       "Carrier Name Enc                          0\n",
       "Carrier Type freq                         0\n",
       "Carrier Type_1A. PRIVATE                  0\n",
       "Carrier Type_2A. SIF                      0\n",
       "Carrier Type_3A. SELF PUBLIC              0\n",
       "Carrier Type_4A. SELF PRIVATE             0\n",
       "Carrier Type_5. SPECIAL FUND              0\n",
       "County of Injury freq                     0\n",
       "COVID-19 Indicator Enc                    0\n",
       "District Name freq                        0\n",
       "Gender Enc                                0\n",
       "Gender_F                                  0\n",
       "Gender_M                                  0\n",
       "Medical Fee Region freq                   0\n",
       "Accident Date Year                        0\n",
       "Accident Date Month                       0\n",
       "Accident Date Day                         0\n",
       "Accident Date Day of Week                 0\n",
       "Assembly Date Year                        0\n",
       "Assembly Date Month                       0\n",
       "Assembly Date Day                         0\n",
       "Assembly Date Day of Week                 0\n",
       "C-2 Date Year                             0\n",
       "C-2 Date Month                            0\n",
       "C-2 Date Day                              0\n",
       "C-2 Date Day of Week                      0\n",
       "WCIO Codes                                0\n",
       "Zip Code Valid                            0\n",
       "Industry Sector Count Enc                 0\n",
       "Age Group                                 0\n",
       "C-3 Date Binary                           0\n",
       "First Hearing Date Binary                 0\n",
       "dtype: int64"
      ]
     },
     "execution_count": 13,
     "metadata": {},
     "output_type": "execute_result"
    }
   ],
   "source": [
    "X_train.isna().sum()"
   ]
  },
  {
   "cell_type": "markdown",
   "id": "9b19ee00",
   "metadata": {},
   "source": [
    "**Birth Year**\n",
    "\n",
    "To fill the missing values, we will start by creating a mask, which filters for observations where **Age at Injury** and **Accident Date Year** are not missing, and when **Birth Year** is either missing or zero. Since we are going to use **Age at Injury** and **Accident Date Year** to compute **Birth Year**, ensuring those two variables are no missing is crucial. Then, we also decided to recompute the **Birth Year** where it is 0, since it is impossible to have 0 as a **Birth Year**."
   ]
  },
  {
   "cell_type": "code",
   "execution_count": 14,
   "id": "fcf13d90",
   "metadata": {},
   "outputs": [],
   "source": [
    "train_mask = X_train['Accident Date Year'].notna() & X_train['Age at Injury'].notna() & \\\n",
    "           (X_train['Birth Year'].isna() | (X_train['Birth Year'] == 0))\n",
    "\n",
    "\n",
    "val_mask = (X_val['Accident Date Year'].notna() &  X_val['Age at Injury'].notna() &  \n",
    "    (X_val['Birth Year'].isna() | (X_val['Birth Year'] == 0)))\n",
    "\n",
    "test_mask = test['Accident Date Year'].notna() & test['Age at Injury'].notna() & \\\n",
    "           (test['Birth Year'].isna() | (test['Birth Year'] == 0))"
   ]
  },
  {
   "cell_type": "code",
   "execution_count": 15,
   "id": "6c270e71",
   "metadata": {},
   "outputs": [],
   "source": [
    "X_train.loc[train_mask, 'Birth Year'] = X_train['Accident Date Year'] - X_train['Age at Injury']\n",
    "\n",
    "X_val.loc[val_mask, 'Birth Year'] = X_val['Accident Date Year'] - X_val['Age at Injury']\n",
    "\n",
    "test.loc[test_mask, 'Birth Year'] = test['Accident Date Year'] - test['Age at Injury']"
   ]
  },
  {
   "cell_type": "markdown",
   "id": "79f3d400",
   "metadata": {},
   "source": [
    "**Average Weekly Wage**"
   ]
  },
  {
   "cell_type": "code",
   "execution_count": 17,
   "id": "5f90a647",
   "metadata": {},
   "outputs": [],
   "source": [
    "X_train['Average Weekly Wage'] = p.ball_tree_impute(X_train, 'Average Weekly Wage', n_neighbors=100)\n",
    "\n",
    "X_val['Average Weekly Wage'] = p.ball_tree_impute(X_val, 'Average Weekly Wage', n_neighbors=100)\n",
    "\n",
    "test['Average Weekly Wage'] = p.ball_tree_impute(test, 'Average Weekly Wage', n_neighbors=100)"
   ]
  },
  {
   "cell_type": "markdown",
   "id": "4b86d837",
   "metadata": {},
   "source": [
    "# 3. Outliers"
   ]
  },
  {
   "cell_type": "code",
   "execution_count": 18,
   "id": "c2dcbf08",
   "metadata": {},
   "outputs": [
    {
     "name": "stdout",
     "output_type": "stream",
     "text": [
      "Column: Age at Injury - Number of Outliers: 165\n",
      "Column: Age at Injury - % of Outliers: 0.03593049083228082% \n",
      "\n",
      "Column: Average Weekly Wage - Number of Outliers: 19655\n",
      "Column: Average Weekly Wage - % of Outliers: 4.280083620051391% \n",
      "\n",
      "Column: Birth Year - Number of Outliers: 280\n",
      "Column: Birth Year - % of Outliers: 0.06097295413962806% \n",
      "\n",
      "Column: IME-4 Count - Number of Outliers: 106210\n",
      "Column: IME-4 Count - % of Outliers: 23.128348068463918% \n",
      "\n",
      "Column: Industry Code - Number of Outliers: 83608\n",
      "Column: Industry Code - % of Outliers: 18.20652410609294% \n",
      "\n",
      "Column: WCIO Cause of Injury Code - Number of Outliers: 0\n",
      "Column: WCIO Cause of Injury Code - % of Outliers: 0.0% \n",
      "\n",
      "Column: WCIO Nature of Injury Code - Number of Outliers: 0\n",
      "Column: WCIO Nature of Injury Code - % of Outliers: 0.0% \n",
      "\n",
      "Column: WCIO Part Of Body Code - Number of Outliers: 41536\n",
      "Column: WCIO Part Of Body Code - % of Outliers: 9.044902225512825% \n",
      "\n",
      "Column: Number of Dependents - Number of Outliers: 0\n",
      "Column: Number of Dependents - % of Outliers: 0.0% \n",
      "\n",
      "Column: Alternative Dispute Resolution Bin - Number of Outliers: 2073\n",
      "Column: Alternative Dispute Resolution Bin - % of Outliers: 0.45141762118374634% \n",
      "\n",
      "Column: Attorney/Representative Bin - Number of Outliers: 0\n",
      "Column: Attorney/Representative Bin - % of Outliers: 0.0% \n",
      "\n",
      "Column: Carrier Name Enc - Number of Outliers: 0\n",
      "Column: Carrier Name Enc - % of Outliers: 0.0% \n",
      "\n",
      "Column: Carrier Type freq - Number of Outliers: 0\n",
      "Column: Carrier Type freq - % of Outliers: 0.0% \n",
      "\n",
      "Column: Carrier Type_1A. PRIVATE - Number of Outliers: 0\n",
      "Column: Carrier Type_1A. PRIVATE - % of Outliers: 0.0% \n",
      "\n",
      "Column: Carrier Type_2A. SIF - Number of Outliers: 88880\n",
      "Column: Carrier Type_2A. SIF - % of Outliers: 19.354557728321936% \n",
      "\n",
      "Column: Carrier Type_3A. SELF PUBLIC - Number of Outliers: 97437\n",
      "Column: Carrier Type_3A. SELF PUBLIC - % of Outliers: 21.21793475893907% \n",
      "\n",
      "Column: Carrier Type_4A. SELF PRIVATE - Number of Outliers: 42176\n",
      "Column: Carrier Type_4A. SELF PRIVATE - % of Outliers: 9.184268977831977% \n",
      "\n",
      "Column: Carrier Type_5. SPECIAL FUND - Number of Outliers: 835\n",
      "Column: Carrier Type_5. SPECIAL FUND - % of Outliers: 0.18183005966639082% \n",
      "\n",
      "Column: County of Injury freq - Number of Outliers: 0\n",
      "Column: County of Injury freq - % of Outliers: 0.0% \n",
      "\n",
      "Column: COVID-19 Indicator Enc - Number of Outliers: 22096\n",
      "Column: COVID-19 Indicator Enc - % of Outliers: 4.811637123818649% \n",
      "\n",
      "Column: District Name freq - Number of Outliers: 0\n",
      "Column: District Name freq - % of Outliers: 0.0% \n",
      "\n",
      "Column: Gender Enc - Number of Outliers: 0\n",
      "Column: Gender Enc - % of Outliers: 0.0% \n",
      "\n",
      "Column: Gender_F - Number of Outliers: 0\n",
      "Column: Gender_F - % of Outliers: 0.0% \n",
      "\n",
      "Column: Gender_M - Number of Outliers: 0\n",
      "Column: Gender_M - % of Outliers: 0.0% \n",
      "\n",
      "Column: Medical Fee Region freq - Number of Outliers: 0\n",
      "Column: Medical Fee Region freq - % of Outliers: 0.0% \n",
      "\n",
      "Column: Accident Date Year - Number of Outliers: 3898\n",
      "Column: Accident Date Year - % of Outliers: 0.8488306258438222% \n",
      "\n",
      "Column: Accident Date Month - Number of Outliers: 0\n",
      "Column: Accident Date Month - % of Outliers: 0.0% \n",
      "\n",
      "Column: Accident Date Day - Number of Outliers: 0\n",
      "Column: Accident Date Day - % of Outliers: 0.0% \n",
      "\n",
      "Column: Accident Date Day of Week - Number of Outliers: 0\n",
      "Column: Accident Date Day of Week - % of Outliers: 0.0% \n",
      "\n",
      "Column: Assembly Date Year - Number of Outliers: 0\n",
      "Column: Assembly Date Year - % of Outliers: 0.0% \n",
      "\n",
      "Column: Assembly Date Month - Number of Outliers: 0\n",
      "Column: Assembly Date Month - % of Outliers: 0.0% \n",
      "\n",
      "Column: Assembly Date Day - Number of Outliers: 0\n",
      "Column: Assembly Date Day - % of Outliers: 0.0% \n",
      "\n",
      "Column: Assembly Date Day of Week - Number of Outliers: 0\n",
      "Column: Assembly Date Day of Week - % of Outliers: 0.0% \n",
      "\n",
      "Column: C-2 Date Year - Number of Outliers: 970\n",
      "Column: C-2 Date Year - % of Outliers: 0.2112277339837115% \n",
      "\n",
      "Column: C-2 Date Month - Number of Outliers: 0\n",
      "Column: C-2 Date Month - % of Outliers: 0.0% \n",
      "\n",
      "Column: C-2 Date Day - Number of Outliers: 0\n",
      "Column: C-2 Date Day - % of Outliers: 0.0% \n",
      "\n",
      "Column: C-2 Date Day of Week - Number of Outliers: 0\n",
      "Column: C-2 Date Day of Week - % of Outliers: 0.0% \n",
      "\n",
      "Column: WCIO Codes - Number of Outliers: 0\n",
      "Column: WCIO Codes - % of Outliers: 0.0% \n",
      "\n",
      "Column: Zip Code Valid - Number of Outliers: 35126\n",
      "Column: Zip Code Valid - % of Outliers: 7.649057096816341% \n",
      "\n",
      "Column: Industry Sector Count Enc - Number of Outliers: 0\n",
      "Column: Industry Sector Count Enc - % of Outliers: 0.0% \n",
      "\n",
      "Column: Age Group - Number of Outliers: 26124\n",
      "Column: Age Group - % of Outliers: 5.688776621227298% \n",
      "\n",
      "Column: C-3 Date Binary - Number of Outliers: 0\n",
      "Column: C-3 Date Binary - % of Outliers: 0.0% \n",
      "\n",
      "Column: First Hearing Date Binary - Number of Outliers: 0\n",
      "Column: First Hearing Date Binary - % of Outliers: 0.0% \n",
      "\n",
      "Columns with more than 0.0001% Outliers:\n",
      "['Age at Injury', 'Average Weekly Wage', 'Birth Year', 'IME-4 Count', 'Industry Code', 'WCIO Part Of Body Code', 'Alternative Dispute Resolution Bin', 'Carrier Type_2A. SIF', 'Carrier Type_3A. SELF PUBLIC', 'Carrier Type_4A. SELF PRIVATE', 'Carrier Type_5. SPECIAL FUND', 'COVID-19 Indicator Enc', 'Accident Date Year', 'C-2 Date Year', 'Zip Code Valid', 'Age Group']\n"
     ]
    }
   ],
   "source": [
    "p.detect_outliers_iqr(X_train, 0.0001)"
   ]
  },
  {
   "cell_type": "code",
   "execution_count": 19,
   "id": "820afb13",
   "metadata": {},
   "outputs": [],
   "source": [
    "import numpy as np\n",
    "\n",
    "X_train['IME-4 Count Log'] = np.log1p(X_train['IME-4 Count'])\n",
    "X_train['IME-4 Count Double Log'] = np.log1p(X_train['IME-4 Count Log'])"
   ]
  },
  {
   "cell_type": "code",
   "execution_count": 42,
   "id": "45f64057",
   "metadata": {},
   "outputs": [
    {
     "data": {
      "image/png": "[encoded data removed]",
      "text/plain": [
       "<Figure size 1000x600 with 1 Axes>"
      ]
     },
     "metadata": {},
     "output_type": "display_data"
    }
   ],
   "source": [
    "import viz as v\n",
    "\n",
    "v.plot_histogram(X_train, 'Alternative Dispute Resolution Bin')"
   ]
  },
  {
   "cell_type": "code",
   "execution_count": 43,
   "id": "b9ac9b8b",
   "metadata": {},
   "outputs": [
    {
     "data": {
      "text/plain": [
       "Alternative Dispute Resolution Bin\n",
       "0    457147\n",
       "1      2073\n",
       "Name: count, dtype: int64"
      ]
     },
     "execution_count": 43,
     "metadata": {},
     "output_type": "execute_result"
    }
   ],
   "source": [
    "X_train['Alternative Dispute Resolution Bin'].value_counts()"
   ]
  },
  {
   "cell_type": "code",
   "execution_count": 44,
   "id": "29ffb48c",
   "metadata": {},
   "outputs": [
    {
     "data": {
      "text/plain": [
       "COVID-19 Indicator Enc\n",
       "0    437124\n",
       "1     22096\n",
       "Name: count, dtype: int64"
      ]
     },
     "execution_count": 44,
     "metadata": {},
     "output_type": "execute_result"
    }
   ],
   "source": [
    "X_train['COVID-19 Indicator Enc'].value_counts()"
   ]
  },
  {
   "cell_type": "code",
   "execution_count": 45,
   "id": "b91dae9a",
   "metadata": {},
   "outputs": [
    {
     "data": {
      "text/plain": [
       "Carrier Type freq\n",
       "285367    228484\n",
       "121920     97437\n",
       "111144     88880\n",
       "52788      42176\n",
       "1774        1408\n",
       "1032         835\n",
       "Name: count, dtype: int64"
      ]
     },
     "execution_count": 45,
     "metadata": {},
     "output_type": "execute_result"
    }
   ],
   "source": [
    "X_train['Carrier Type freq'].value_counts()"
   ]
  },
  {
   "cell_type": "markdown",
   "id": "64e1670f",
   "metadata": {},
   "source": [
    "# 4. Feature Selection"
   ]
  },
  {
   "cell_type": "code",
   "execution_count": null,
   "id": "87ac24e3",
   "metadata": {
    "ExecuteTime": {
     "end_time": "2024-11-23T14:09:01.007067Z",
     "start_time": "2024-11-23T14:09:01.007048Z"
    }
   },
   "outputs": [],
   "source": []
  },
  {
   "cell_type": "code",
   "execution_count": null,
   "id": "c47afdb2",
   "metadata": {
    "ExecuteTime": {
     "end_time": "2024-11-23T14:09:01.009538Z",
     "start_time": "2024-11-23T14:09:01.009489Z"
    }
   },
   "outputs": [],
   "source": []
  }
 ],
 "metadata": {
  "kernelspec": {
   "display_name": "base",
   "language": "python",
   "name": "python3"
  },
  "language_info": {
   "codemirror_mode": {
    "name": "ipython",
    "version": 3
   },
   "file_extension": ".py",
   "mimetype": "text/x-python",
   "name": "python",
   "nbconvert_exporter": "python",
   "pygments_lexer": "ipython3",
   "version": "3.11.9"
  }
 },
 "nbformat": 4,
 "nbformat_minor": 5
}
