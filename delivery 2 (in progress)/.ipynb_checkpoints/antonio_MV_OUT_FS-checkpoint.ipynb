{
 "cells": [
  {
   "cell_type": "markdown",
   "id": "c7d4dad5",
   "metadata": {},
   "source": [
    "# <center>Machine Learning Project Code</center>\n",
    "\n",
    "<a class=\"anchor\" id=\"top\"></a>\n",
    "\n",
    "## <center>*02 - Simple Train & Modeling*</center>\n",
    "\n",
    "** **\n",
    "\n",
    "\n",
    "\n",
    "# Table of Contents  <br>\n",
    "\n",
    "\n",
    "1. [Importing Libraries & Data](#1.-Importing-Libraries-&-Data) <br><br>\n",
    "    \n",
    "2. [Train-Test Split](#2.-Train-Test-Split)\n",
    "    \n",
    "   2.1 [Missing Values](#2.1-Missing-Values) <br>\n",
    "    \n",
    "   2.2 [Outliers](#2.2-Outliers) <br><br>\n",
    "   \n",
    "3. [Feature Selection](#3.-Feature-Selection) \n",
    "\n",
    "    3.1 [Scaling](#3.1-Scaling) <br>\n",
    "    \n",
    "    3.2 [Filter Based Methods](#3.2-Filter-Based-Methods) <br>\n",
    "\n",
    "    3.3 [Wrapper Methods](#3.3-Wrapper-Methods) <br>\n",
    "    \n",
    "    3.4 [Embedded Methods](#3.4-Embedded-Methods) <br><br>\n",
    "    \n",
    "4. [Modeling](#4.-Modeling) <br><br>\n",
    "\n",
    "5. [Export](#5.-Export)\n",
    "\n",
    "\n",
    "** **\n",
    "\n",
    "In this notebook we will start by spliting train and validation data using a simple Holdout Method. After doing so, more complex methods to fill missing values will be applied, and outliers will be addresses. Feature Selection will also be performed, followed by a Modeling section.\n",
    "\n",
    "Data Scientist Manager: António Oliveira, **20211595**\n",
    "\n",
    "Data Scientist Senior: Tomás Ribeiro, **20240526**\n",
    "\n",
    "Data Scientist Junior: Gonçalo Pacheco, **20240695**\n",
    "\n",
    "Data Analyst Senior: Gonçalo Custódio, **20211643**\n",
    "\n",
    "Data Analyst Junior: Ana Caleiro, **20240696**\n",
    "\n",
    "\n",
    "** ** \n",
    "\n",
    "# 1. Importing Libraries & Data\n",
    "In this section, we set up the foundation for our project by importing the necessary Python libraries and loading the dataset. These libraries provide the tools for data manipulation, visualization, and machine learning modeling throughout the notebook. Additionally, we import the historical claims dataset, which forms the core of our analysis. "
   ]
  },
  {
   "cell_type": "code",
   "execution_count": 1,
   "id": "b2ff5482",
   "metadata": {
    "ExecuteTime": {
     "end_time": "2024-12-09T16:45:02.494929Z",
     "start_time": "2024-12-09T16:44:59.165914Z"
    }
   },
   "outputs": [],
   "source": [
    "import pandas as pd\n",
    "import numpy as np\n",
    "\n",
    "# Train-Test Split\n",
    "from sklearn.model_selection import train_test_split\n",
    "\n",
    "import preproc as p\n",
    "\n",
    "# fs\n",
    "from sklearn.feature_selection import VarianceThreshold\n",
    "import feature_selection as fs\n",
    "\n",
    "# models \n",
    "from sklearn.linear_model import LogisticRegression\n",
    "from sklearn.ensemble import RandomForestClassifier\n",
    "\n",
    "import metrics as m\n",
    "\n",
    "pd.set_option('display.max_columns', None)\n",
    "# Suppress Warnings\n",
    "import warnings\n",
    "warnings.filterwarnings(\"ignore\")"
   ]
  },
  {
   "cell_type": "markdown",
   "id": "a33bfd6a",
   "metadata": {},
   "source": [
    "**Import Data**"
   ]
  },
  {
   "cell_type": "code",
   "execution_count": 2,
   "id": "f4e1df1f",
   "metadata": {
    "ExecuteTime": {
     "end_time": "2024-12-09T16:45:06.204456Z",
     "start_time": "2024-12-09T16:45:03.464440Z"
    }
   },
   "outputs": [
    {
     "data": {
      "text/html": [
       "<div>\n",
       "<style scoped>\n",
       "    .dataframe tbody tr th:only-of-type {\n",
       "        vertical-align: middle;\n",
       "    }\n",
       "\n",
       "    .dataframe tbody tr th {\n",
       "        vertical-align: top;\n",
       "    }\n",
       "\n",
       "    .dataframe thead th {\n",
       "        text-align: right;\n",
       "    }\n",
       "</style>\n",
       "<table border=\"1\" class=\"dataframe\">\n",
       "  <thead>\n",
       "    <tr style=\"text-align: right;\">\n",
       "      <th></th>\n",
       "      <th>Age at Injury</th>\n",
       "      <th>Average Weekly Wage</th>\n",
       "      <th>Birth Year</th>\n",
       "      <th>Claim Injury Type</th>\n",
       "      <th>IME-4 Count</th>\n",
       "      <th>Industry Code</th>\n",
       "      <th>WCIO Cause of Injury Code</th>\n",
       "      <th>WCIO Nature of Injury Code</th>\n",
       "      <th>WCIO Part Of Body Code</th>\n",
       "      <th>Number of Dependents</th>\n",
       "      <th>Alternative Dispute Resolution Bin</th>\n",
       "      <th>Attorney/Representative Bin</th>\n",
       "      <th>Carrier Name Enc</th>\n",
       "      <th>Carrier Type freq</th>\n",
       "      <th>Carrier Type_1A. PRIVATE</th>\n",
       "      <th>Carrier Type_2A. SIF</th>\n",
       "      <th>Carrier Type_3A. SELF PUBLIC</th>\n",
       "      <th>Carrier Type_4A. SELF PRIVATE</th>\n",
       "      <th>County of Injury freq</th>\n",
       "      <th>COVID-19 Indicator Enc</th>\n",
       "      <th>District Name freq</th>\n",
       "      <th>Gender Enc</th>\n",
       "      <th>Gender_F</th>\n",
       "      <th>Gender_M</th>\n",
       "      <th>Medical Fee Region freq</th>\n",
       "      <th>Accident Date Year</th>\n",
       "      <th>Accident Date Month</th>\n",
       "      <th>Accident Date Day</th>\n",
       "      <th>Accident Date Day of Week</th>\n",
       "      <th>Assembly Date Year</th>\n",
       "      <th>Assembly Date Month</th>\n",
       "      <th>Assembly Date Day</th>\n",
       "      <th>Assembly Date Day of Week</th>\n",
       "      <th>C-2 Date Year</th>\n",
       "      <th>C-2 Date Month</th>\n",
       "      <th>C-2 Date Day</th>\n",
       "      <th>C-2 Date Day of Week</th>\n",
       "      <th>WCIO Codes</th>\n",
       "      <th>Insurance</th>\n",
       "      <th>Zip Code Valid</th>\n",
       "      <th>Industry Sector Count Enc</th>\n",
       "      <th>Age Group</th>\n",
       "      <th>C-3 Date Binary</th>\n",
       "      <th>First Hearing Date Binary</th>\n",
       "    </tr>\n",
       "    <tr>\n",
       "      <th>Claim Identifier</th>\n",
       "      <th></th>\n",
       "      <th></th>\n",
       "      <th></th>\n",
       "      <th></th>\n",
       "      <th></th>\n",
       "      <th></th>\n",
       "      <th></th>\n",
       "      <th></th>\n",
       "      <th></th>\n",
       "      <th></th>\n",
       "      <th></th>\n",
       "      <th></th>\n",
       "      <th></th>\n",
       "      <th></th>\n",
       "      <th></th>\n",
       "      <th></th>\n",
       "      <th></th>\n",
       "      <th></th>\n",
       "      <th></th>\n",
       "      <th></th>\n",
       "      <th></th>\n",
       "      <th></th>\n",
       "      <th></th>\n",
       "      <th></th>\n",
       "      <th></th>\n",
       "      <th></th>\n",
       "      <th></th>\n",
       "      <th></th>\n",
       "      <th></th>\n",
       "      <th></th>\n",
       "      <th></th>\n",
       "      <th></th>\n",
       "      <th></th>\n",
       "      <th></th>\n",
       "      <th></th>\n",
       "      <th></th>\n",
       "      <th></th>\n",
       "      <th></th>\n",
       "      <th></th>\n",
       "      <th></th>\n",
       "      <th></th>\n",
       "      <th></th>\n",
       "      <th></th>\n",
       "      <th></th>\n",
       "    </tr>\n",
       "  </thead>\n",
       "  <tbody>\n",
       "    <tr>\n",
       "      <th>5393875</th>\n",
       "      <td>31.0</td>\n",
       "      <td>0.00</td>\n",
       "      <td>1988.0</td>\n",
       "      <td>1</td>\n",
       "      <td>0.0</td>\n",
       "      <td>44.0</td>\n",
       "      <td>27</td>\n",
       "      <td>10</td>\n",
       "      <td>62</td>\n",
       "      <td>1.0</td>\n",
       "      <td>0</td>\n",
       "      <td>0</td>\n",
       "      <td>399</td>\n",
       "      <td>285367</td>\n",
       "      <td>1</td>\n",
       "      <td>0</td>\n",
       "      <td>0</td>\n",
       "      <td>0</td>\n",
       "      <td>3355</td>\n",
       "      <td>0</td>\n",
       "      <td>44646</td>\n",
       "      <td>0</td>\n",
       "      <td>0</td>\n",
       "      <td>1</td>\n",
       "      <td>135885</td>\n",
       "      <td>2019.0</td>\n",
       "      <td>12.0</td>\n",
       "      <td>30.0</td>\n",
       "      <td>0.0</td>\n",
       "      <td>2020</td>\n",
       "      <td>1</td>\n",
       "      <td>1</td>\n",
       "      <td>2</td>\n",
       "      <td>2019.0</td>\n",
       "      <td>12.0</td>\n",
       "      <td>31.0</td>\n",
       "      <td>1.0</td>\n",
       "      <td>271062</td>\n",
       "      <td>1</td>\n",
       "      <td>0</td>\n",
       "      <td>103330</td>\n",
       "      <td>1</td>\n",
       "      <td>0</td>\n",
       "      <td>0</td>\n",
       "    </tr>\n",
       "    <tr>\n",
       "      <th>5393091</th>\n",
       "      <td>46.0</td>\n",
       "      <td>1745.93</td>\n",
       "      <td>1973.0</td>\n",
       "      <td>3</td>\n",
       "      <td>4.0</td>\n",
       "      <td>23.0</td>\n",
       "      <td>97</td>\n",
       "      <td>49</td>\n",
       "      <td>38</td>\n",
       "      <td>4.0</td>\n",
       "      <td>0</td>\n",
       "      <td>1</td>\n",
       "      <td>1023</td>\n",
       "      <td>285367</td>\n",
       "      <td>1</td>\n",
       "      <td>0</td>\n",
       "      <td>0</td>\n",
       "      <td>0</td>\n",
       "      <td>760</td>\n",
       "      <td>0</td>\n",
       "      <td>40449</td>\n",
       "      <td>1</td>\n",
       "      <td>1</td>\n",
       "      <td>0</td>\n",
       "      <td>135885</td>\n",
       "      <td>2019.0</td>\n",
       "      <td>8.0</td>\n",
       "      <td>30.0</td>\n",
       "      <td>4.0</td>\n",
       "      <td>2020</td>\n",
       "      <td>1</td>\n",
       "      <td>1</td>\n",
       "      <td>2</td>\n",
       "      <td>2020.0</td>\n",
       "      <td>1.0</td>\n",
       "      <td>1.0</td>\n",
       "      <td>2.0</td>\n",
       "      <td>974938</td>\n",
       "      <td>1</td>\n",
       "      <td>0</td>\n",
       "      <td>69053</td>\n",
       "      <td>1</td>\n",
       "      <td>1</td>\n",
       "      <td>1</td>\n",
       "    </tr>\n",
       "    <tr>\n",
       "      <th>5393889</th>\n",
       "      <td>40.0</td>\n",
       "      <td>1434.80</td>\n",
       "      <td>1979.0</td>\n",
       "      <td>3</td>\n",
       "      <td>0.0</td>\n",
       "      <td>56.0</td>\n",
       "      <td>79</td>\n",
       "      <td>7</td>\n",
       "      <td>10</td>\n",
       "      <td>6.0</td>\n",
       "      <td>0</td>\n",
       "      <td>0</td>\n",
       "      <td>689</td>\n",
       "      <td>285367</td>\n",
       "      <td>1</td>\n",
       "      <td>0</td>\n",
       "      <td>0</td>\n",
       "      <td>0</td>\n",
       "      <td>17450</td>\n",
       "      <td>0</td>\n",
       "      <td>86171</td>\n",
       "      <td>0</td>\n",
       "      <td>0</td>\n",
       "      <td>1</td>\n",
       "      <td>85033</td>\n",
       "      <td>2019.0</td>\n",
       "      <td>12.0</td>\n",
       "      <td>6.0</td>\n",
       "      <td>4.0</td>\n",
       "      <td>2020</td>\n",
       "      <td>1</td>\n",
       "      <td>1</td>\n",
       "      <td>2</td>\n",
       "      <td>2020.0</td>\n",
       "      <td>1.0</td>\n",
       "      <td>1.0</td>\n",
       "      <td>2.0</td>\n",
       "      <td>79710</td>\n",
       "      <td>1</td>\n",
       "      <td>0</td>\n",
       "      <td>57495</td>\n",
       "      <td>1</td>\n",
       "      <td>0</td>\n",
       "      <td>0</td>\n",
       "    </tr>\n",
       "  </tbody>\n",
       "</table>\n",
       "</div>"
      ],
      "text/plain": [
       "                  Age at Injury  Average Weekly Wage  Birth Year  \\\n",
       "Claim Identifier                                                   \n",
       "5393875                    31.0                 0.00      1988.0   \n",
       "5393091                    46.0              1745.93      1973.0   \n",
       "5393889                    40.0              1434.80      1979.0   \n",
       "\n",
       "                  Claim Injury Type  IME-4 Count  Industry Code  \\\n",
       "Claim Identifier                                                  \n",
       "5393875                           1          0.0           44.0   \n",
       "5393091                           3          4.0           23.0   \n",
       "5393889                           3          0.0           56.0   \n",
       "\n",
       "                  WCIO Cause of Injury Code  WCIO Nature of Injury Code  \\\n",
       "Claim Identifier                                                          \n",
       "5393875                                  27                          10   \n",
       "5393091                                  97                          49   \n",
       "5393889                                  79                           7   \n",
       "\n",
       "                  WCIO Part Of Body Code  Number of Dependents  \\\n",
       "Claim Identifier                                                 \n",
       "5393875                               62                   1.0   \n",
       "5393091                               38                   4.0   \n",
       "5393889                               10                   6.0   \n",
       "\n",
       "                  Alternative Dispute Resolution Bin  \\\n",
       "Claim Identifier                                       \n",
       "5393875                                            0   \n",
       "5393091                                            0   \n",
       "5393889                                            0   \n",
       "\n",
       "                  Attorney/Representative Bin  Carrier Name Enc  \\\n",
       "Claim Identifier                                                  \n",
       "5393875                                     0               399   \n",
       "5393091                                     1              1023   \n",
       "5393889                                     0               689   \n",
       "\n",
       "                  Carrier Type freq  Carrier Type_1A. PRIVATE  \\\n",
       "Claim Identifier                                                \n",
       "5393875                      285367                         1   \n",
       "5393091                      285367                         1   \n",
       "5393889                      285367                         1   \n",
       "\n",
       "                  Carrier Type_2A. SIF  Carrier Type_3A. SELF PUBLIC  \\\n",
       "Claim Identifier                                                       \n",
       "5393875                              0                             0   \n",
       "5393091                              0                             0   \n",
       "5393889                              0                             0   \n",
       "\n",
       "                  Carrier Type_4A. SELF PRIVATE  County of Injury freq  \\\n",
       "Claim Identifier                                                         \n",
       "5393875                                       0                   3355   \n",
       "5393091                                       0                    760   \n",
       "5393889                                       0                  17450   \n",
       "\n",
       "                  COVID-19 Indicator Enc  District Name freq  Gender Enc  \\\n",
       "Claim Identifier                                                           \n",
       "5393875                                0               44646           0   \n",
       "5393091                                0               40449           1   \n",
       "5393889                                0               86171           0   \n",
       "\n",
       "                  Gender_F  Gender_M  Medical Fee Region freq  \\\n",
       "Claim Identifier                                                \n",
       "5393875                  0         1                   135885   \n",
       "5393091                  1         0                   135885   \n",
       "5393889                  0         1                    85033   \n",
       "\n",
       "                  Accident Date Year  Accident Date Month  Accident Date Day  \\\n",
       "Claim Identifier                                                               \n",
       "5393875                       2019.0                 12.0               30.0   \n",
       "5393091                       2019.0                  8.0               30.0   \n",
       "5393889                       2019.0                 12.0                6.0   \n",
       "\n",
       "                  Accident Date Day of Week  Assembly Date Year  \\\n",
       "Claim Identifier                                                  \n",
       "5393875                                 0.0                2020   \n",
       "5393091                                 4.0                2020   \n",
       "5393889                                 4.0                2020   \n",
       "\n",
       "                  Assembly Date Month  Assembly Date Day  \\\n",
       "Claim Identifier                                           \n",
       "5393875                             1                  1   \n",
       "5393091                             1                  1   \n",
       "5393889                             1                  1   \n",
       "\n",
       "                  Assembly Date Day of Week  C-2 Date Year  C-2 Date Month  \\\n",
       "Claim Identifier                                                             \n",
       "5393875                                   2         2019.0            12.0   \n",
       "5393091                                   2         2020.0             1.0   \n",
       "5393889                                   2         2020.0             1.0   \n",
       "\n",
       "                  C-2 Date Day  C-2 Date Day of Week  WCIO Codes  Insurance  \\\n",
       "Claim Identifier                                                              \n",
       "5393875                   31.0                   1.0      271062          1   \n",
       "5393091                    1.0                   2.0      974938          1   \n",
       "5393889                    1.0                   2.0       79710          1   \n",
       "\n",
       "                  Zip Code Valid  Industry Sector Count Enc  Age Group  \\\n",
       "Claim Identifier                                                         \n",
       "5393875                        0                     103330          1   \n",
       "5393091                        0                      69053          1   \n",
       "5393889                        0                      57495          1   \n",
       "\n",
       "                  C-3 Date Binary  First Hearing Date Binary  \n",
       "Claim Identifier                                              \n",
       "5393875                         0                          0  \n",
       "5393091                         1                          1  \n",
       "5393889                         0                          0  "
      ]
     },
     "execution_count": 2,
     "metadata": {},
     "output_type": "execute_result"
    }
   ],
   "source": [
    "# Load training data\n",
    "df = pd.read_csv('./data/train_data_EDA.csv', index_col = 'Claim Identifier')\n",
    "\n",
    "# Load testing data\n",
    "test = pd.read_csv('./data/test_data_EDA.csv', index_col = 'Claim Identifier')\n",
    "\n",
    "# Display the first 3 rows of the training data\n",
    "df.head(3)"
   ]
  },
  {
   "cell_type": "markdown",
   "id": "1ebf14de",
   "metadata": {},
   "source": [
    "# 2. Train-Test Split\n",
    "The train-test split is a crucial technique used to assess model performance by dividing the dataset into training and testing subsets. This ensures that the model is evaluated on unseen data, helping to prevent overfitting and providing an unbiased performance estimate. \n",
    "\n",
    "<a href=\"#top\">Top &#129033;</a>"
   ]
  },
  {
   "cell_type": "markdown",
   "id": "9f494a4f",
   "metadata": {},
   "source": [
    "**Holdout Method**"
   ]
  },
  {
   "cell_type": "code",
   "execution_count": 3,
   "id": "940241ad",
   "metadata": {
    "ExecuteTime": {
     "end_time": "2024-12-09T16:45:08.312256Z",
     "start_time": "2024-12-09T16:45:08.195514Z"
    }
   },
   "outputs": [],
   "source": [
    "# Split the DataFrame into features (X) and target variable (y)\n",
    "X = df.drop('Claim Injury Type', axis=1) \n",
    "y = df['Claim Injury Type']  "
   ]
  },
  {
   "cell_type": "code",
   "execution_count": 4,
   "id": "6911c19d",
   "metadata": {
    "ExecuteTime": {
     "end_time": "2024-12-09T16:45:09.009549Z",
     "start_time": "2024-12-09T16:45:08.529504Z"
    }
   },
   "outputs": [],
   "source": [
    "# Split the dataset into training and validation sets\n",
    "X_train, X_val, y_train, y_val = train_test_split(X, y, \n",
    "                                                    test_size=0.2, \n",
    "                                                    random_state=42,\n",
    "                                                    stratify = y) \n"
   ]
  },
  {
   "cell_type": "markdown",
   "id": "4381807d",
   "metadata": {},
   "source": [
    "# 2.1 Missing Values\n",
    "\n",
    "<a href=\"#top\">Top &#129033;</a>"
   ]
  },
  {
   "cell_type": "code",
   "execution_count": 5,
   "id": "40ffb1cf",
   "metadata": {
    "ExecuteTime": {
     "end_time": "2024-12-09T16:45:10.716385Z",
     "start_time": "2024-12-09T16:45:10.688108Z"
    },
    "scrolled": false
   },
   "outputs": [
    {
     "data": {
      "text/plain": [
       "Age at Injury                             0\n",
       "Average Weekly Wage                   22968\n",
       "Birth Year                            23204\n",
       "IME-4 Count                               0\n",
       "Industry Code                             0\n",
       "WCIO Cause of Injury Code                 0\n",
       "WCIO Nature of Injury Code                0\n",
       "WCIO Part Of Body Code                    0\n",
       "Number of Dependents                      0\n",
       "Alternative Dispute Resolution Bin        0\n",
       "Attorney/Representative Bin               0\n",
       "Carrier Name Enc                          0\n",
       "Carrier Type freq                         0\n",
       "Carrier Type_1A. PRIVATE                  0\n",
       "Carrier Type_2A. SIF                      0\n",
       "Carrier Type_3A. SELF PUBLIC              0\n",
       "Carrier Type_4A. SELF PRIVATE             0\n",
       "County of Injury freq                     0\n",
       "COVID-19 Indicator Enc                    0\n",
       "District Name freq                        0\n",
       "Gender Enc                                0\n",
       "Gender_F                                  0\n",
       "Gender_M                                  0\n",
       "Medical Fee Region freq                   0\n",
       "Accident Date Year                     2959\n",
       "Accident Date Month                    2959\n",
       "Accident Date Day                      2959\n",
       "Accident Date Day of Week              2959\n",
       "Assembly Date Year                        0\n",
       "Assembly Date Month                       0\n",
       "Assembly Date Day                         0\n",
       "Assembly Date Day of Week                 0\n",
       "C-2 Date Year                         11590\n",
       "C-2 Date Month                        11590\n",
       "C-2 Date Day                          11590\n",
       "C-2 Date Day of Week                  11590\n",
       "WCIO Codes                                0\n",
       "Insurance                                 0\n",
       "Zip Code Valid                            0\n",
       "Industry Sector Count Enc                 0\n",
       "Age Group                                 0\n",
       "C-3 Date Binary                           0\n",
       "First Hearing Date Binary                 0\n",
       "dtype: int64"
      ]
     },
     "execution_count": 5,
     "metadata": {},
     "output_type": "execute_result"
    }
   ],
   "source": [
    "X_train.isna().sum()"
   ]
  },
  {
   "cell_type": "markdown",
   "id": "8f982674",
   "metadata": {},
   "source": [
    "**Accident Date**\n",
    "\n",
    "Fill Year, Month and Day with median. Then recompute full date and from there fill missing values in Day of Week"
   ]
  },
  {
   "cell_type": "code",
   "execution_count": 6,
   "id": "ca2d760e",
   "metadata": {
    "ExecuteTime": {
     "end_time": "2024-12-09T16:45:11.389709Z",
     "start_time": "2024-12-09T16:45:11.359390Z"
    }
   },
   "outputs": [],
   "source": [
    "# Define median values for Accident-related features from the training dataset\n",
    "accident_med = {\n",
    "    'Accident Date Year': round(X_train['Accident Date Year'].median()), \n",
    "    'Accident Date Month': round(X_train['Accident Date Month'].median()),\n",
    "    'Accident Date Day': round(X_train['Accident Date Day'].median() ) \n",
    "}"
   ]
  },
  {
   "cell_type": "markdown",
   "id": "a6c235eb",
   "metadata": {},
   "source": [
    "Fill with median"
   ]
  },
  {
   "cell_type": "code",
   "execution_count": 7,
   "id": "9a1b5a43",
   "metadata": {
    "ExecuteTime": {
     "end_time": "2024-12-09T16:45:12.097348Z",
     "start_time": "2024-12-09T16:45:12.079450Z"
    }
   },
   "outputs": [],
   "source": [
    "X_train['Accident Date Year'].fillna(accident_med['Accident Date Year'], inplace=True)  \n",
    "X_train['Accident Date Month'].fillna(accident_med['Accident Date Month'], inplace=True)\n",
    "X_train['Accident Date Day'].fillna(accident_med['Accident Date Day'], inplace=True) \n",
    "\n",
    "X_val['Accident Date Year'].fillna(accident_med['Accident Date Year'], inplace=True)  \n",
    "X_val['Accident Date Month'].fillna(accident_med['Accident Date Month'], inplace=True)\n",
    "X_val['Accident Date Day'].fillna(accident_med['Accident Date Day'], inplace=True) \n",
    "\n",
    "\n",
    "test['Accident Date Year'].fillna(accident_med['Accident Date Year'], inplace=True)  \n",
    "test['Accident Date Month'].fillna(accident_med['Accident Date Month'], inplace=True)\n",
    "test['Accident Date Day'].fillna(accident_med['Accident Date Day'], inplace=True) "
   ]
  },
  {
   "cell_type": "markdown",
   "id": "826e0c86",
   "metadata": {},
   "source": [
    "Convert to Integers"
   ]
  },
  {
   "cell_type": "code",
   "execution_count": 8,
   "id": "b7194ba9",
   "metadata": {
    "ExecuteTime": {
     "end_time": "2024-12-09T16:45:12.599688Z",
     "start_time": "2024-12-09T16:45:12.250083Z"
    }
   },
   "outputs": [],
   "source": [
    "X_train['Accident Date Year'] = X_train['Accident Date Year'].astype('Int64')\n",
    "X_train['Accident Date Month'] = X_train['Accident Date Month'].astype('Int64')\n",
    "X_train['Accident Date Day'] = X_train['Accident Date Day'].astype('Int64')\n",
    "\n",
    "X_val['Accident Date Year'] = X_val['Accident Date Year'].astype('Int64')\n",
    "X_val['Accident Date Month'] = X_val['Accident Date Month'].astype('Int64')\n",
    "X_val['Accident Date Day'] = X_val['Accident Date Day'].astype('Int64')\n",
    "\n",
    "\n",
    "test['Accident Date Year'] = test['Accident Date Year'].astype('Int64')\n",
    "test['Accident Date Month'] = test['Accident Date Month'].astype('Int64')\n",
    "test['Accident Date Day'] = test['Accident Date Day'].astype('Int64')"
   ]
  },
  {
   "cell_type": "markdown",
   "id": "527385aa",
   "metadata": {},
   "source": [
    "Identify missing values and recompute Accident date to fill Day of the week"
   ]
  },
  {
   "cell_type": "code",
   "execution_count": 9,
   "id": "31c4ac35",
   "metadata": {
    "ExecuteTime": {
     "end_time": "2024-12-09T16:45:13.151671Z",
     "start_time": "2024-12-09T16:45:13.147398Z"
    }
   },
   "outputs": [],
   "source": [
    "# select missing\n",
    "missing_dayofweek_train = X_train['Accident Date Day of Week'].isnull()\n",
    "\n",
    "missing_dayofweek_val = X_val['Accident Date Day of Week'].isnull()\n",
    "\n",
    "missing_dayofweek_test = test['Accident Date Day of Week'].isnull()"
   ]
  },
  {
   "cell_type": "code",
   "execution_count": 10,
   "id": "6e604462",
   "metadata": {
    "ExecuteTime": {
     "end_time": "2024-12-09T16:45:13.504473Z",
     "start_time": "2024-12-09T16:45:13.417921Z"
    }
   },
   "outputs": [],
   "source": [
    "# compute temp accident date for missing values in day of week\n",
    "X_train.loc[missing_dayofweek_train, 'TEMP Accident Date'] = pd.to_datetime(\n",
    "    X_train.loc[missing_dayofweek_train, ['Accident Date Year', 'Accident Date Month', 'Accident Date Day']].astype(str).agg('-'.join, axis=1),\n",
    "    errors='coerce'\n",
    ")\n",
    "\n",
    "X_val.loc[missing_dayofweek_val, 'TEMP Accident Date'] = pd.to_datetime(\n",
    "    X_val.loc[missing_dayofweek_val, ['Accident Date Year', 'Accident Date Month', 'Accident Date Day']].astype(str).agg('-'.join, axis=1),\n",
    "    errors='coerce'\n",
    ")\n",
    "\n",
    "\n",
    "test.loc[missing_dayofweek_test, 'TEMP Accident Date'] = pd.to_datetime(\n",
    "    test.loc[missing_dayofweek_test, ['Accident Date Year', 'Accident Date Month', 'Accident Date Day']].astype(str).agg('-'.join, axis=1),\n",
    "    errors='coerce'\n",
    ")"
   ]
  },
  {
   "cell_type": "code",
   "execution_count": 11,
   "id": "32be5ec6",
   "metadata": {
    "ExecuteTime": {
     "end_time": "2024-12-09T16:45:13.672503Z",
     "start_time": "2024-12-09T16:45:13.658381Z"
    }
   },
   "outputs": [],
   "source": [
    "X_train.loc[missing_dayofweek_train, 'Accident Date Day of Week'] = X_train.loc[missing_dayofweek_train, 'TEMP Accident Date'].dt.dayofweek\n",
    "\n",
    "X_val.loc[missing_dayofweek_val, 'Accident Date Day of Week'] = X_val.loc[missing_dayofweek_val, 'TEMP Accident Date'].dt.dayofweek\n",
    "\n",
    "\n",
    "test.loc[missing_dayofweek_test, 'Accident Date Day of Week'] = test.loc[missing_dayofweek_test, 'TEMP Accident Date'].dt.dayofweek"
   ]
  },
  {
   "cell_type": "markdown",
   "id": "304181e3",
   "metadata": {},
   "source": [
    "**C-2 Date**\n",
    "\n",
    "Fill Year, Month and Day with median. Then recompute full date and from there fill missing values in Day of Week"
   ]
  },
  {
   "cell_type": "code",
   "execution_count": 12,
   "id": "70a0fb12",
   "metadata": {
    "ExecuteTime": {
     "end_time": "2024-12-09T16:45:14.177487Z",
     "start_time": "2024-12-09T16:45:14.147839Z"
    }
   },
   "outputs": [],
   "source": [
    "# Create a dictionary with the median values of 'C-2 Year', 'C-2 Month', and 'C-2 Day' from the training set\n",
    "c2_med = {\n",
    "    'C-2 Date Year': round(X_train['C-2 Date Year'].median()),\n",
    "    'C-2 Date Month': round(X_train['C-2 Date Month'].median()),\n",
    "    'C-2 Date Day': round(X_train['C-2 Date Day'].median())\n",
    "}"
   ]
  },
  {
   "cell_type": "markdown",
   "id": "6fe3dffa",
   "metadata": {},
   "source": [
    "Fill with median"
   ]
  },
  {
   "cell_type": "code",
   "execution_count": 13,
   "id": "d2df9bdb",
   "metadata": {
    "ExecuteTime": {
     "end_time": "2024-12-09T16:45:14.838106Z",
     "start_time": "2024-12-09T16:45:14.819599Z"
    }
   },
   "outputs": [],
   "source": [
    "X_train['C-2 Date Year'].fillna(c2_med['C-2 Date Year'], inplace=True)  \n",
    "X_train['C-2 Date Month'].fillna(c2_med['C-2 Date Month'], inplace=True)\n",
    "X_train['C-2 Date Day'].fillna(c2_med['C-2 Date Day'], inplace=True) \n",
    "\n",
    "X_val['C-2 Date Year'].fillna(c2_med['C-2 Date Year'], inplace=True)  \n",
    "X_val['C-2 Date Month'].fillna(c2_med['C-2 Date Month'], inplace=True)\n",
    "X_val['C-2 Date Day'].fillna(c2_med['C-2 Date Day'], inplace=True) \n",
    "\n",
    "test['C-2 Date Year'].fillna(c2_med['C-2 Date Year'], inplace=True)  \n",
    "test['C-2 Date Month'].fillna(c2_med['C-2 Date Month'], inplace=True)\n",
    "test['C-2 Date Day'].fillna(c2_med['C-2 Date Day'], inplace=True) "
   ]
  },
  {
   "cell_type": "markdown",
   "id": "6153563e",
   "metadata": {},
   "source": [
    "Convert to Integers"
   ]
  },
  {
   "cell_type": "code",
   "execution_count": 14,
   "id": "3d0decc7",
   "metadata": {
    "ExecuteTime": {
     "end_time": "2024-12-09T16:45:15.708721Z",
     "start_time": "2024-12-09T16:45:15.387717Z"
    }
   },
   "outputs": [],
   "source": [
    "X_train['C-2 Date Year'] = X_train['C-2 Date Year'].astype('Int64')\n",
    "X_train['C-2 Date Month'] = X_train['C-2 Date Month'].astype('Int64')\n",
    "X_train['C-2 Date Day'] = X_train['C-2 Date Day'].astype('Int64')\n",
    "\n",
    "X_val['C-2 Date Year'] = X_val['C-2 Date Year'].astype('Int64')\n",
    "X_val['C-2 Date Month'] = X_val['C-2 Date Month'].astype('Int64')\n",
    "X_val['C-2 Date Day'] = X_val['C-2 Date Day'].astype('Int64')\n",
    "\n",
    "test['C-2 Date Year'] = test['C-2 Date Year'].astype('Int64')\n",
    "test['C-2 Date Month'] = test['C-2 Date Month'].astype('Int64')\n",
    "test['C-2 Date Day'] = test['C-2 Date Day'].astype('Int64')"
   ]
  },
  {
   "cell_type": "markdown",
   "id": "ed3f482b",
   "metadata": {},
   "source": [
    "Identify missing values and recompute Accident date to fill Day of the week"
   ]
  },
  {
   "cell_type": "code",
   "execution_count": 15,
   "id": "8aea17af",
   "metadata": {
    "ExecuteTime": {
     "end_time": "2024-12-09T16:45:15.854016Z",
     "start_time": "2024-12-09T16:45:15.849787Z"
    }
   },
   "outputs": [],
   "source": [
    "# select missing\n",
    "missing_dayofweek_train = X_train['C-2 Date Day of Week'].isnull()\n",
    "\n",
    "missing_dayofweek_val = X_val['C-2 Date Day of Week'].isnull()\n",
    "\n",
    "missing_dayofweek_test = test['C-2 Date Day of Week'].isnull()"
   ]
  },
  {
   "cell_type": "code",
   "execution_count": 16,
   "id": "2d22ea2a",
   "metadata": {
    "ExecuteTime": {
     "end_time": "2024-12-09T16:45:16.603049Z",
     "start_time": "2024-12-09T16:45:16.423529Z"
    }
   },
   "outputs": [],
   "source": [
    "# compute temp accident date for missing values in day of week\n",
    "X_train.loc[missing_dayofweek_train, 'TEMP C-2 Date'] = pd.to_datetime(\n",
    "    X_train.loc[missing_dayofweek_train, ['C-2 Date Year', 'C-2 Date Month', 'C-2 Date Day']].astype(str).agg('-'.join, axis=1),\n",
    "    errors='coerce'\n",
    ")\n",
    "\n",
    "X_val.loc[missing_dayofweek_val, 'TEMP C-2 Date'] = pd.to_datetime(\n",
    "    X_val.loc[missing_dayofweek_val, ['C-2 Date Year', 'C-2 Date Month', 'C-2 Date Day']].astype(str).agg('-'.join, axis=1),\n",
    "    errors='coerce'\n",
    ")\n",
    "\n",
    "test.loc[missing_dayofweek_test, 'TEMP C-2 Date'] = pd.to_datetime(\n",
    "    test.loc[missing_dayofweek_test, ['C-2 Date Year', 'C-2 Date Month', 'C-2 Date Day']].astype(str).agg('-'.join, axis=1),\n",
    "    errors='coerce'\n",
    ")"
   ]
  },
  {
   "cell_type": "code",
   "execution_count": 17,
   "id": "ba163719",
   "metadata": {
    "ExecuteTime": {
     "end_time": "2024-12-09T16:45:16.787070Z",
     "start_time": "2024-12-09T16:45:16.774978Z"
    }
   },
   "outputs": [],
   "source": [
    "X_train.loc[missing_dayofweek_train, 'C-2 Date Day of Week'] = X_train.loc[missing_dayofweek_train, 'TEMP C-2 Date'].dt.dayofweek\n",
    "\n",
    "X_val.loc[missing_dayofweek_val, 'C-2 Date Day of Week'] = X_val.loc[missing_dayofweek_val, 'TEMP C-2 Date'].dt.dayofweek\n",
    "\n",
    "test.loc[missing_dayofweek_test, 'C-2 Date Day of Week'] = test.loc[missing_dayofweek_test, 'TEMP C-2 Date'].dt.dayofweek"
   ]
  },
  {
   "cell_type": "markdown",
   "id": "c053e766",
   "metadata": {},
   "source": [
    "Remove temporary variables"
   ]
  },
  {
   "cell_type": "code",
   "execution_count": 18,
   "id": "47cbefb9",
   "metadata": {
    "ExecuteTime": {
     "end_time": "2024-12-09T16:45:17.627924Z",
     "start_time": "2024-12-09T16:45:17.399717Z"
    }
   },
   "outputs": [],
   "source": [
    "X_train.drop(['TEMP Accident Date', 'TEMP C-2 Date'], \n",
    "        axis = 1, inplace = True)\n",
    "\n",
    "X_val.drop(['TEMP Accident Date', 'TEMP C-2 Date'], \n",
    "        axis = 1, inplace = True)\n",
    "\n",
    "test.drop(['TEMP Accident Date', 'TEMP C-2 Date'], \n",
    "        axis = 1, inplace = True)"
   ]
  },
  {
   "cell_type": "markdown",
   "id": "9b19ee00",
   "metadata": {},
   "source": [
    "**Birth Year**\n",
    "\n",
    "To fill the missing values, we will start by creating a mask, which filters for observations where `Age at Injury` and `Accident Date Year` are not missing, and when `Birth Year` is either missing or zero. Since we are going to use `Age at Injury` and `Accident Date Year` to compute `Birth Year`, ensuring those two variables are no missing is crucial. Then, we also decided to recompute the `Birth Year` when it is 0, since it is impossible to have 0 as a `Birth Year`."
   ]
  },
  {
   "cell_type": "code",
   "execution_count": 19,
   "id": "fcf13d90",
   "metadata": {
    "ExecuteTime": {
     "end_time": "2024-12-09T16:45:18.228812Z",
     "start_time": "2024-12-09T16:45:18.207425Z"
    }
   },
   "outputs": [],
   "source": [
    "train_mask = X_train['Accident Date Year'].notna() & X_train['Age at Injury'].notna() & \\\n",
    "           (X_train['Birth Year'].isna() | (X_train['Birth Year'] == 0))\n",
    "\n",
    "\n",
    "val_mask = (X_val['Accident Date Year'].notna() &  X_val['Age at Injury'].notna() &  \n",
    "    (X_val['Birth Year'].isna() | (X_val['Birth Year'] == 0)))\n",
    "\n",
    "test_mask = test['Accident Date Year'].notna() & test['Age at Injury'].notna() & \\\n",
    "           (test['Birth Year'].isna() | (test['Birth Year'] == 0))"
   ]
  },
  {
   "cell_type": "code",
   "execution_count": 20,
   "id": "6c270e71",
   "metadata": {
    "ExecuteTime": {
     "end_time": "2024-12-09T16:45:18.643817Z",
     "start_time": "2024-12-09T16:45:18.582127Z"
    }
   },
   "outputs": [],
   "source": [
    "X_train.loc[train_mask, 'Birth Year'] = X_train['Accident Date Year'] - X_train['Age at Injury']\n",
    "\n",
    "X_val.loc[val_mask, 'Birth Year'] = X_val['Accident Date Year'] - X_val['Age at Injury']\n",
    "\n",
    "test.loc[test_mask, 'Birth Year'] = test['Accident Date Year'] - test['Age at Injury']"
   ]
  },
  {
   "cell_type": "markdown",
   "id": "79f3d400",
   "metadata": {},
   "source": [
    "**Average Weekly Wage**"
   ]
  },
  {
   "cell_type": "code",
   "execution_count": 21,
   "id": "5f90a647",
   "metadata": {
    "ExecuteTime": {
     "end_time": "2024-12-09T16:46:46.725106Z",
     "start_time": "2024-12-09T16:45:19.615821Z"
    }
   },
   "outputs": [],
   "source": [
    "X_train['Average Weekly Wage'] = p.ball_tree_impute(X_train, 'Average Weekly Wage', n_neighbors=100)\n",
    "\n",
    "X_val['Average Weekly Wage'] = p.ball_tree_impute(X_val, 'Average Weekly Wage', n_neighbors=100)\n",
    "\n",
    "test['Average Weekly Wage'] = p.ball_tree_impute(test, 'Average Weekly Wage', n_neighbors=100)"
   ]
  },
  {
   "cell_type": "code",
   "execution_count": 22,
   "id": "dc195eb2",
   "metadata": {
    "ExecuteTime": {
     "end_time": "2024-12-09T16:46:46.729802Z",
     "start_time": "2024-12-09T16:46:46.727550Z"
    }
   },
   "outputs": [],
   "source": [
    "# from imblearn.combine import SMOTEENN\n",
    "# from collections import Counter\n",
    "\n",
    "# # Assume X and y are your features and target variable\n",
    "# smote_enn = SMOTEENN(random_state=42)\n",
    "# X_train_resampled, y_train_resampled = smote_enn.fit_resample(X_train, y_train)\n",
    "\n",
    "# # Check the new class distribution\n",
    "# print(\"Class distribution after SMOTEENN:\", Counter(y_train))\n",
    "\n",
    "# import play_song as s\n",
    "# s.play_('audio.mp3')"
   ]
  },
  {
   "cell_type": "markdown",
   "id": "4b86d837",
   "metadata": {},
   "source": [
    "# 2.2 Outliers\n",
    "\n",
    "<a href=\"#top\">Top &#129033;</a>"
   ]
  },
  {
   "cell_type": "markdown",
   "id": "8ace9e45",
   "metadata": {},
   "source": [
    "### Outlier Detection\n",
    "\n",
    "To detect outliers we will use a function that plots boxplots and identifies outliers based on the Interquartile Range method. This function will also add to a list all columns with a higher percentage of outliers than a previously set threshold."
   ]
  },
  {
   "cell_type": "code",
   "execution_count": null,
   "id": "c2dcbf08",
   "metadata": {
    "ExecuteTime": {
     "end_time": "2024-12-09T11:16:57.176156Z",
     "start_time": "2024-12-09T11:16:57.176145Z"
    },
    "scrolled": true
   },
   "outputs": [],
   "source": [
    "p.detect_outliers_iqr(X_train, 0.0001)"
   ]
  },
  {
   "cell_type": "markdown",
   "id": "c3d0edc3",
   "metadata": {},
   "source": [
    "### Dealing With Outliers\n",
    "\n",
    "Here we will apply some techniques to attempt to deal with outliers, either by applying some transformations or removing them. Our goal is to not remove more than 5% of observations. To keep track of this metrics, we will start by saving the initial length of the dataset."
   ]
  },
  {
   "cell_type": "code",
   "execution_count": 23,
   "id": "ae4a462d",
   "metadata": {
    "ExecuteTime": {
     "end_time": "2024-12-09T16:46:46.812375Z",
     "start_time": "2024-12-09T16:46:46.731505Z"
    }
   },
   "outputs": [],
   "source": [
    "X_train_copy = X_train.copy()\n",
    "X_train_len = len(X_train_copy)"
   ]
  },
  {
   "cell_type": "markdown",
   "id": "3792791d",
   "metadata": {},
   "source": [
    "**Average Weekly Wage**"
   ]
  },
  {
   "cell_type": "markdown",
   "id": "18216004",
   "metadata": {},
   "source": [
    "Set a threshold"
   ]
  },
  {
   "cell_type": "code",
   "execution_count": 24,
   "id": "e13e75b8",
   "metadata": {
    "ExecuteTime": {
     "end_time": "2024-12-09T16:46:46.818482Z",
     "start_time": "2024-12-09T16:46:46.815974Z"
    }
   },
   "outputs": [],
   "source": [
    "# dropped_len_wage = len(X_train[X_train['Average Weekly Wage'] > 7300])\n",
    "\n",
    "# X_train = X_train[X_train['Average Weekly Wage'] <= 7300]"
   ]
  },
  {
   "cell_type": "markdown",
   "id": "cbfaed1e",
   "metadata": {},
   "source": [
    "Winsorization for `Average Weekly Wage`"
   ]
  },
  {
   "cell_type": "code",
   "execution_count": 25,
   "id": "84dec6f8",
   "metadata": {
    "ExecuteTime": {
     "end_time": "2024-12-09T16:46:46.842459Z",
     "start_time": "2024-12-09T16:46:46.820812Z"
    }
   },
   "outputs": [],
   "source": [
    "upper_limit = X_train['Average Weekly Wage'].quantile(0.99)\n",
    "lower_limit = X_train['Average Weekly Wage'].quantile(0.01)\n",
    "X_train['Average Weekly Wage'] = X_train['Average Weekly Wage'].clip(lower=lower_limit, upper=upper_limit)"
   ]
  },
  {
   "cell_type": "markdown",
   "id": "433a20c1",
   "metadata": {},
   "source": [
    "Apply a square root transformation"
   ]
  },
  {
   "cell_type": "code",
   "execution_count": 26,
   "id": "b60e53dc",
   "metadata": {
    "ExecuteTime": {
     "end_time": "2024-12-09T16:46:46.851978Z",
     "start_time": "2024-12-09T16:46:46.844483Z"
    }
   },
   "outputs": [],
   "source": [
    "X_train['Average Weekly Wage Sqrt'] = np.sqrt(X_train['Average Weekly Wage'])\n",
    "\n",
    "X_val['Average Weekly Wage Sqrt'] = np.sqrt(X_val['Average Weekly Wage'])\n",
    "\n",
    "test['Average Weekly Wage Sqrt'] = np.sqrt(test['Average Weekly Wage'])"
   ]
  },
  {
   "cell_type": "markdown",
   "id": "1f57f592",
   "metadata": {},
   "source": [
    "**Birth Year**"
   ]
  },
  {
   "cell_type": "code",
   "execution_count": 27,
   "id": "cd927ea7",
   "metadata": {
    "ExecuteTime": {
     "end_time": "2024-12-09T16:46:46.996073Z",
     "start_time": "2024-12-09T16:46:46.854043Z"
    }
   },
   "outputs": [],
   "source": [
    "dropped_len_birth_year = len(X_train[X_train['Birth Year'] < 1932.5])\n",
    "\n",
    "X_train = X_train[X_train['Birth Year'] > 1932.5]"
   ]
  },
  {
   "cell_type": "markdown",
   "id": "058c6746",
   "metadata": {},
   "source": [
    "**IME-4 Count**"
   ]
  },
  {
   "cell_type": "code",
   "execution_count": 28,
   "id": "6b81b7b1",
   "metadata": {
    "ExecuteTime": {
     "end_time": "2024-12-09T16:46:47.021123Z",
     "start_time": "2024-12-09T16:46:46.998551Z"
    }
   },
   "outputs": [],
   "source": [
    "X_train['IME-4 Count Log'] = np.log1p(X_train['IME-4 Count'])\n",
    "X_train['IME-4 Count Double Log'] = np.log1p(X_train['IME-4 Count Log'])\n",
    "\n",
    "X_val['IME-4 Count Log'] = np.log1p(X_val['IME-4 Count'])\n",
    "X_val['IME-4 Count Double Log'] = np.log1p(X_val['IME-4 Count Log'])\n",
    "\n",
    "test['IME-4 Count Log'] = np.log1p(test['IME-4 Count'])\n",
    "test['IME-4 Count Double Log'] = np.log1p(test['IME-4 Count Log'])"
   ]
  },
  {
   "cell_type": "markdown",
   "id": "f48ff135",
   "metadata": {},
   "source": [
    "**Alternative Dispute Resolution Bin**"
   ]
  },
  {
   "cell_type": "code",
   "execution_count": 29,
   "id": "ff8bb270",
   "metadata": {
    "ExecuteTime": {
     "end_time": "2024-12-09T16:46:47.126182Z",
     "start_time": "2024-12-09T16:46:47.023446Z"
    }
   },
   "outputs": [],
   "source": [
    "dropped_len_alt_disp = len(X_train[X_train['Alternative Dispute Resolution Bin'] == 1])\n",
    "\n",
    "X_train = X_train[X_train['Alternative Dispute Resolution Bin'] == 0]"
   ]
  },
  {
   "cell_type": "markdown",
   "id": "e5e9b3fa",
   "metadata": {},
   "source": [
    "**Covid-19 Indicator Enc**\n",
    "\n",
    "This feature has 21k observations with Covid-19 Indicator equal to 1, therefore they will not be dropped. "
   ]
  },
  {
   "cell_type": "code",
   "execution_count": 30,
   "id": "d142524f",
   "metadata": {
    "ExecuteTime": {
     "end_time": "2024-12-09T16:46:47.179123Z",
     "start_time": "2024-12-09T16:46:47.130802Z"
    }
   },
   "outputs": [
    {
     "data": {
      "text/html": [
       "<div>\n",
       "<style scoped>\n",
       "    .dataframe tbody tr th:only-of-type {\n",
       "        vertical-align: middle;\n",
       "    }\n",
       "\n",
       "    .dataframe tbody tr th {\n",
       "        vertical-align: top;\n",
       "    }\n",
       "\n",
       "    .dataframe thead th {\n",
       "        text-align: right;\n",
       "    }\n",
       "</style>\n",
       "<table border=\"1\" class=\"dataframe\">\n",
       "  <thead>\n",
       "    <tr style=\"text-align: right;\">\n",
       "      <th></th>\n",
       "      <th>Age at Injury</th>\n",
       "      <th>Average Weekly Wage</th>\n",
       "      <th>Birth Year</th>\n",
       "      <th>IME-4 Count</th>\n",
       "      <th>Industry Code</th>\n",
       "      <th>WCIO Cause of Injury Code</th>\n",
       "      <th>WCIO Nature of Injury Code</th>\n",
       "      <th>WCIO Part Of Body Code</th>\n",
       "      <th>Number of Dependents</th>\n",
       "      <th>Alternative Dispute Resolution Bin</th>\n",
       "      <th>Attorney/Representative Bin</th>\n",
       "      <th>Carrier Name Enc</th>\n",
       "      <th>Carrier Type freq</th>\n",
       "      <th>Carrier Type_1A. PRIVATE</th>\n",
       "      <th>Carrier Type_2A. SIF</th>\n",
       "      <th>Carrier Type_3A. SELF PUBLIC</th>\n",
       "      <th>Carrier Type_4A. SELF PRIVATE</th>\n",
       "      <th>County of Injury freq</th>\n",
       "      <th>COVID-19 Indicator Enc</th>\n",
       "      <th>District Name freq</th>\n",
       "      <th>Gender Enc</th>\n",
       "      <th>Gender_F</th>\n",
       "      <th>Gender_M</th>\n",
       "      <th>Medical Fee Region freq</th>\n",
       "      <th>Accident Date Year</th>\n",
       "      <th>Accident Date Month</th>\n",
       "      <th>Accident Date Day</th>\n",
       "      <th>Accident Date Day of Week</th>\n",
       "      <th>Assembly Date Year</th>\n",
       "      <th>Assembly Date Month</th>\n",
       "      <th>Assembly Date Day</th>\n",
       "      <th>Assembly Date Day of Week</th>\n",
       "      <th>C-2 Date Year</th>\n",
       "      <th>C-2 Date Month</th>\n",
       "      <th>C-2 Date Day</th>\n",
       "      <th>C-2 Date Day of Week</th>\n",
       "      <th>WCIO Codes</th>\n",
       "      <th>Insurance</th>\n",
       "      <th>Zip Code Valid</th>\n",
       "      <th>Industry Sector Count Enc</th>\n",
       "      <th>Age Group</th>\n",
       "      <th>C-3 Date Binary</th>\n",
       "      <th>First Hearing Date Binary</th>\n",
       "      <th>Average Weekly Wage Sqrt</th>\n",
       "      <th>IME-4 Count Log</th>\n",
       "      <th>IME-4 Count Double Log</th>\n",
       "    </tr>\n",
       "    <tr>\n",
       "      <th>Claim Identifier</th>\n",
       "      <th></th>\n",
       "      <th></th>\n",
       "      <th></th>\n",
       "      <th></th>\n",
       "      <th></th>\n",
       "      <th></th>\n",
       "      <th></th>\n",
       "      <th></th>\n",
       "      <th></th>\n",
       "      <th></th>\n",
       "      <th></th>\n",
       "      <th></th>\n",
       "      <th></th>\n",
       "      <th></th>\n",
       "      <th></th>\n",
       "      <th></th>\n",
       "      <th></th>\n",
       "      <th></th>\n",
       "      <th></th>\n",
       "      <th></th>\n",
       "      <th></th>\n",
       "      <th></th>\n",
       "      <th></th>\n",
       "      <th></th>\n",
       "      <th></th>\n",
       "      <th></th>\n",
       "      <th></th>\n",
       "      <th></th>\n",
       "      <th></th>\n",
       "      <th></th>\n",
       "      <th></th>\n",
       "      <th></th>\n",
       "      <th></th>\n",
       "      <th></th>\n",
       "      <th></th>\n",
       "      <th></th>\n",
       "      <th></th>\n",
       "      <th></th>\n",
       "      <th></th>\n",
       "      <th></th>\n",
       "      <th></th>\n",
       "      <th></th>\n",
       "      <th></th>\n",
       "      <th></th>\n",
       "      <th></th>\n",
       "      <th></th>\n",
       "    </tr>\n",
       "  </thead>\n",
       "  <tbody>\n",
       "    <tr>\n",
       "      <th>5471127</th>\n",
       "      <td>60.0</td>\n",
       "      <td>0.00</td>\n",
       "      <td>1960.0</td>\n",
       "      <td>0.0</td>\n",
       "      <td>56.0</td>\n",
       "      <td>83</td>\n",
       "      <td>83</td>\n",
       "      <td>99</td>\n",
       "      <td>0.0</td>\n",
       "      <td>0</td>\n",
       "      <td>0</td>\n",
       "      <td>29</td>\n",
       "      <td>285367</td>\n",
       "      <td>1</td>\n",
       "      <td>0</td>\n",
       "      <td>0</td>\n",
       "      <td>0</td>\n",
       "      <td>30014</td>\n",
       "      <td>1</td>\n",
       "      <td>270778</td>\n",
       "      <td>0</td>\n",
       "      <td>0</td>\n",
       "      <td>1</td>\n",
       "      <td>265981</td>\n",
       "      <td>2020</td>\n",
       "      <td>4</td>\n",
       "      <td>9</td>\n",
       "      <td>3.0</td>\n",
       "      <td>2020</td>\n",
       "      <td>4</td>\n",
       "      <td>23</td>\n",
       "      <td>3</td>\n",
       "      <td>2020</td>\n",
       "      <td>4</td>\n",
       "      <td>23</td>\n",
       "      <td>3.0</td>\n",
       "      <td>838399</td>\n",
       "      <td>1</td>\n",
       "      <td>0</td>\n",
       "      <td>57495</td>\n",
       "      <td>1</td>\n",
       "      <td>0</td>\n",
       "      <td>0</td>\n",
       "      <td>0.000000</td>\n",
       "      <td>0.000000</td>\n",
       "      <td>0.000000</td>\n",
       "    </tr>\n",
       "    <tr>\n",
       "      <th>5474976</th>\n",
       "      <td>44.0</td>\n",
       "      <td>0.00</td>\n",
       "      <td>1975.0</td>\n",
       "      <td>0.0</td>\n",
       "      <td>72.0</td>\n",
       "      <td>83</td>\n",
       "      <td>83</td>\n",
       "      <td>60</td>\n",
       "      <td>5.0</td>\n",
       "      <td>0</td>\n",
       "      <td>0</td>\n",
       "      <td>706</td>\n",
       "      <td>285367</td>\n",
       "      <td>1</td>\n",
       "      <td>0</td>\n",
       "      <td>0</td>\n",
       "      <td>0</td>\n",
       "      <td>30014</td>\n",
       "      <td>1</td>\n",
       "      <td>270778</td>\n",
       "      <td>1</td>\n",
       "      <td>1</td>\n",
       "      <td>0</td>\n",
       "      <td>265981</td>\n",
       "      <td>2020</td>\n",
       "      <td>4</td>\n",
       "      <td>5</td>\n",
       "      <td>6.0</td>\n",
       "      <td>2020</td>\n",
       "      <td>4</td>\n",
       "      <td>30</td>\n",
       "      <td>3</td>\n",
       "      <td>2020</td>\n",
       "      <td>4</td>\n",
       "      <td>30</td>\n",
       "      <td>3.0</td>\n",
       "      <td>838360</td>\n",
       "      <td>1</td>\n",
       "      <td>0</td>\n",
       "      <td>103330</td>\n",
       "      <td>1</td>\n",
       "      <td>1</td>\n",
       "      <td>1</td>\n",
       "      <td>0.000000</td>\n",
       "      <td>0.000000</td>\n",
       "      <td>0.000000</td>\n",
       "    </tr>\n",
       "    <tr>\n",
       "      <th>5479360</th>\n",
       "      <td>32.0</td>\n",
       "      <td>598.89</td>\n",
       "      <td>1987.0</td>\n",
       "      <td>0.0</td>\n",
       "      <td>62.0</td>\n",
       "      <td>83</td>\n",
       "      <td>83</td>\n",
       "      <td>65</td>\n",
       "      <td>2.0</td>\n",
       "      <td>0</td>\n",
       "      <td>0</td>\n",
       "      <td>127</td>\n",
       "      <td>285367</td>\n",
       "      <td>1</td>\n",
       "      <td>0</td>\n",
       "      <td>0</td>\n",
       "      <td>0</td>\n",
       "      <td>53207</td>\n",
       "      <td>1</td>\n",
       "      <td>270778</td>\n",
       "      <td>1</td>\n",
       "      <td>1</td>\n",
       "      <td>0</td>\n",
       "      <td>33472</td>\n",
       "      <td>2020</td>\n",
       "      <td>3</td>\n",
       "      <td>1</td>\n",
       "      <td>6.0</td>\n",
       "      <td>2020</td>\n",
       "      <td>5</td>\n",
       "      <td>8</td>\n",
       "      <td>4</td>\n",
       "      <td>2020</td>\n",
       "      <td>5</td>\n",
       "      <td>8</td>\n",
       "      <td>4.0</td>\n",
       "      <td>838365</td>\n",
       "      <td>1</td>\n",
       "      <td>0</td>\n",
       "      <td>260939</td>\n",
       "      <td>1</td>\n",
       "      <td>0</td>\n",
       "      <td>0</td>\n",
       "      <td>24.472229</td>\n",
       "      <td>0.000000</td>\n",
       "      <td>0.000000</td>\n",
       "    </tr>\n",
       "    <tr>\n",
       "      <th>5690440</th>\n",
       "      <td>47.0</td>\n",
       "      <td>0.00</td>\n",
       "      <td>1973.0</td>\n",
       "      <td>0.0</td>\n",
       "      <td>49.0</td>\n",
       "      <td>83</td>\n",
       "      <td>83</td>\n",
       "      <td>91</td>\n",
       "      <td>2.0</td>\n",
       "      <td>0</td>\n",
       "      <td>0</td>\n",
       "      <td>200</td>\n",
       "      <td>285367</td>\n",
       "      <td>1</td>\n",
       "      <td>0</td>\n",
       "      <td>0</td>\n",
       "      <td>0</td>\n",
       "      <td>60430</td>\n",
       "      <td>1</td>\n",
       "      <td>60536</td>\n",
       "      <td>0</td>\n",
       "      <td>0</td>\n",
       "      <td>1</td>\n",
       "      <td>265981</td>\n",
       "      <td>2021</td>\n",
       "      <td>3</td>\n",
       "      <td>15</td>\n",
       "      <td>0.0</td>\n",
       "      <td>2021</td>\n",
       "      <td>3</td>\n",
       "      <td>30</td>\n",
       "      <td>1</td>\n",
       "      <td>2021</td>\n",
       "      <td>3</td>\n",
       "      <td>29</td>\n",
       "      <td>0.0</td>\n",
       "      <td>838391</td>\n",
       "      <td>1</td>\n",
       "      <td>0</td>\n",
       "      <td>54023</td>\n",
       "      <td>1</td>\n",
       "      <td>0</td>\n",
       "      <td>0</td>\n",
       "      <td>0.000000</td>\n",
       "      <td>0.000000</td>\n",
       "      <td>0.000000</td>\n",
       "    </tr>\n",
       "    <tr>\n",
       "      <th>5596285</th>\n",
       "      <td>41.0</td>\n",
       "      <td>0.00</td>\n",
       "      <td>1978.0</td>\n",
       "      <td>0.0</td>\n",
       "      <td>62.0</td>\n",
       "      <td>83</td>\n",
       "      <td>83</td>\n",
       "      <td>60</td>\n",
       "      <td>3.0</td>\n",
       "      <td>0</td>\n",
       "      <td>1</td>\n",
       "      <td>1119</td>\n",
       "      <td>111144</td>\n",
       "      <td>0</td>\n",
       "      <td>1</td>\n",
       "      <td>0</td>\n",
       "      <td>0</td>\n",
       "      <td>39618</td>\n",
       "      <td>1</td>\n",
       "      <td>270778</td>\n",
       "      <td>1</td>\n",
       "      <td>1</td>\n",
       "      <td>0</td>\n",
       "      <td>265981</td>\n",
       "      <td>2020</td>\n",
       "      <td>4</td>\n",
       "      <td>6</td>\n",
       "      <td>0.0</td>\n",
       "      <td>2020</td>\n",
       "      <td>11</td>\n",
       "      <td>10</td>\n",
       "      <td>1</td>\n",
       "      <td>2020</td>\n",
       "      <td>11</td>\n",
       "      <td>16</td>\n",
       "      <td>0.0</td>\n",
       "      <td>838360</td>\n",
       "      <td>1</td>\n",
       "      <td>0</td>\n",
       "      <td>260939</td>\n",
       "      <td>1</td>\n",
       "      <td>1</td>\n",
       "      <td>1</td>\n",
       "      <td>0.000000</td>\n",
       "      <td>0.000000</td>\n",
       "      <td>0.000000</td>\n",
       "    </tr>\n",
       "    <tr>\n",
       "      <th>...</th>\n",
       "      <td>...</td>\n",
       "      <td>...</td>\n",
       "      <td>...</td>\n",
       "      <td>...</td>\n",
       "      <td>...</td>\n",
       "      <td>...</td>\n",
       "      <td>...</td>\n",
       "      <td>...</td>\n",
       "      <td>...</td>\n",
       "      <td>...</td>\n",
       "      <td>...</td>\n",
       "      <td>...</td>\n",
       "      <td>...</td>\n",
       "      <td>...</td>\n",
       "      <td>...</td>\n",
       "      <td>...</td>\n",
       "      <td>...</td>\n",
       "      <td>...</td>\n",
       "      <td>...</td>\n",
       "      <td>...</td>\n",
       "      <td>...</td>\n",
       "      <td>...</td>\n",
       "      <td>...</td>\n",
       "      <td>...</td>\n",
       "      <td>...</td>\n",
       "      <td>...</td>\n",
       "      <td>...</td>\n",
       "      <td>...</td>\n",
       "      <td>...</td>\n",
       "      <td>...</td>\n",
       "      <td>...</td>\n",
       "      <td>...</td>\n",
       "      <td>...</td>\n",
       "      <td>...</td>\n",
       "      <td>...</td>\n",
       "      <td>...</td>\n",
       "      <td>...</td>\n",
       "      <td>...</td>\n",
       "      <td>...</td>\n",
       "      <td>...</td>\n",
       "      <td>...</td>\n",
       "      <td>...</td>\n",
       "      <td>...</td>\n",
       "      <td>...</td>\n",
       "      <td>...</td>\n",
       "      <td>...</td>\n",
       "    </tr>\n",
       "    <tr>\n",
       "      <th>5891602</th>\n",
       "      <td>27.0</td>\n",
       "      <td>0.00</td>\n",
       "      <td>1994.0</td>\n",
       "      <td>0.0</td>\n",
       "      <td>53.0</td>\n",
       "      <td>83</td>\n",
       "      <td>83</td>\n",
       "      <td>60</td>\n",
       "      <td>2.0</td>\n",
       "      <td>0</td>\n",
       "      <td>0</td>\n",
       "      <td>1239</td>\n",
       "      <td>285367</td>\n",
       "      <td>1</td>\n",
       "      <td>0</td>\n",
       "      <td>0</td>\n",
       "      <td>0</td>\n",
       "      <td>60430</td>\n",
       "      <td>1</td>\n",
       "      <td>60536</td>\n",
       "      <td>0</td>\n",
       "      <td>0</td>\n",
       "      <td>1</td>\n",
       "      <td>265981</td>\n",
       "      <td>2021</td>\n",
       "      <td>12</td>\n",
       "      <td>23</td>\n",
       "      <td>3.0</td>\n",
       "      <td>2022</td>\n",
       "      <td>1</td>\n",
       "      <td>5</td>\n",
       "      <td>2</td>\n",
       "      <td>2022</td>\n",
       "      <td>1</td>\n",
       "      <td>5</td>\n",
       "      <td>2.0</td>\n",
       "      <td>838360</td>\n",
       "      <td>1</td>\n",
       "      <td>0</td>\n",
       "      <td>57495</td>\n",
       "      <td>1</td>\n",
       "      <td>0</td>\n",
       "      <td>0</td>\n",
       "      <td>0.000000</td>\n",
       "      <td>0.000000</td>\n",
       "      <td>0.000000</td>\n",
       "    </tr>\n",
       "    <tr>\n",
       "      <th>5474935</th>\n",
       "      <td>45.0</td>\n",
       "      <td>2423.79</td>\n",
       "      <td>1974.0</td>\n",
       "      <td>0.0</td>\n",
       "      <td>62.0</td>\n",
       "      <td>83</td>\n",
       "      <td>83</td>\n",
       "      <td>91</td>\n",
       "      <td>6.0</td>\n",
       "      <td>0</td>\n",
       "      <td>1</td>\n",
       "      <td>200</td>\n",
       "      <td>285367</td>\n",
       "      <td>1</td>\n",
       "      <td>0</td>\n",
       "      <td>0</td>\n",
       "      <td>0</td>\n",
       "      <td>53207</td>\n",
       "      <td>1</td>\n",
       "      <td>270778</td>\n",
       "      <td>1</td>\n",
       "      <td>1</td>\n",
       "      <td>0</td>\n",
       "      <td>33472</td>\n",
       "      <td>2020</td>\n",
       "      <td>3</td>\n",
       "      <td>23</td>\n",
       "      <td>0.0</td>\n",
       "      <td>2020</td>\n",
       "      <td>4</td>\n",
       "      <td>30</td>\n",
       "      <td>3</td>\n",
       "      <td>2020</td>\n",
       "      <td>4</td>\n",
       "      <td>30</td>\n",
       "      <td>3.0</td>\n",
       "      <td>838391</td>\n",
       "      <td>1</td>\n",
       "      <td>0</td>\n",
       "      <td>260939</td>\n",
       "      <td>1</td>\n",
       "      <td>0</td>\n",
       "      <td>1</td>\n",
       "      <td>49.232002</td>\n",
       "      <td>0.000000</td>\n",
       "      <td>0.000000</td>\n",
       "    </tr>\n",
       "    <tr>\n",
       "      <th>5486978</th>\n",
       "      <td>78.0</td>\n",
       "      <td>0.00</td>\n",
       "      <td>1941.0</td>\n",
       "      <td>5.0</td>\n",
       "      <td>62.0</td>\n",
       "      <td>83</td>\n",
       "      <td>83</td>\n",
       "      <td>90</td>\n",
       "      <td>0.0</td>\n",
       "      <td>0</td>\n",
       "      <td>0</td>\n",
       "      <td>127</td>\n",
       "      <td>285367</td>\n",
       "      <td>1</td>\n",
       "      <td>0</td>\n",
       "      <td>0</td>\n",
       "      <td>0</td>\n",
       "      <td>43580</td>\n",
       "      <td>1</td>\n",
       "      <td>270778</td>\n",
       "      <td>1</td>\n",
       "      <td>1</td>\n",
       "      <td>0</td>\n",
       "      <td>265981</td>\n",
       "      <td>2020</td>\n",
       "      <td>4</td>\n",
       "      <td>2</td>\n",
       "      <td>3.0</td>\n",
       "      <td>2020</td>\n",
       "      <td>5</td>\n",
       "      <td>22</td>\n",
       "      <td>4</td>\n",
       "      <td>2020</td>\n",
       "      <td>5</td>\n",
       "      <td>22</td>\n",
       "      <td>4.0</td>\n",
       "      <td>838390</td>\n",
       "      <td>1</td>\n",
       "      <td>0</td>\n",
       "      <td>260939</td>\n",
       "      <td>2</td>\n",
       "      <td>1</td>\n",
       "      <td>0</td>\n",
       "      <td>0.000000</td>\n",
       "      <td>1.791759</td>\n",
       "      <td>1.026672</td>\n",
       "    </tr>\n",
       "    <tr>\n",
       "      <th>6106973</th>\n",
       "      <td>48.0</td>\n",
       "      <td>0.00</td>\n",
       "      <td>1974.0</td>\n",
       "      <td>0.0</td>\n",
       "      <td>62.0</td>\n",
       "      <td>83</td>\n",
       "      <td>83</td>\n",
       "      <td>60</td>\n",
       "      <td>1.0</td>\n",
       "      <td>0</td>\n",
       "      <td>1</td>\n",
       "      <td>1119</td>\n",
       "      <td>111144</td>\n",
       "      <td>0</td>\n",
       "      <td>1</td>\n",
       "      <td>0</td>\n",
       "      <td>0</td>\n",
       "      <td>11530</td>\n",
       "      <td>1</td>\n",
       "      <td>86171</td>\n",
       "      <td>0</td>\n",
       "      <td>0</td>\n",
       "      <td>1</td>\n",
       "      <td>85033</td>\n",
       "      <td>2022</td>\n",
       "      <td>6</td>\n",
       "      <td>14</td>\n",
       "      <td>1.0</td>\n",
       "      <td>2022</td>\n",
       "      <td>10</td>\n",
       "      <td>13</td>\n",
       "      <td>3</td>\n",
       "      <td>2022</td>\n",
       "      <td>10</td>\n",
       "      <td>21</td>\n",
       "      <td>4.0</td>\n",
       "      <td>838360</td>\n",
       "      <td>1</td>\n",
       "      <td>0</td>\n",
       "      <td>260939</td>\n",
       "      <td>1</td>\n",
       "      <td>1</td>\n",
       "      <td>0</td>\n",
       "      <td>0.000000</td>\n",
       "      <td>0.000000</td>\n",
       "      <td>0.000000</td>\n",
       "    </tr>\n",
       "    <tr>\n",
       "      <th>5506959</th>\n",
       "      <td>44.0</td>\n",
       "      <td>0.00</td>\n",
       "      <td>1975.0</td>\n",
       "      <td>0.0</td>\n",
       "      <td>56.0</td>\n",
       "      <td>83</td>\n",
       "      <td>83</td>\n",
       "      <td>91</td>\n",
       "      <td>2.0</td>\n",
       "      <td>0</td>\n",
       "      <td>0</td>\n",
       "      <td>200</td>\n",
       "      <td>285367</td>\n",
       "      <td>1</td>\n",
       "      <td>0</td>\n",
       "      <td>0</td>\n",
       "      <td>0</td>\n",
       "      <td>4413</td>\n",
       "      <td>1</td>\n",
       "      <td>44646</td>\n",
       "      <td>0</td>\n",
       "      <td>0</td>\n",
       "      <td>1</td>\n",
       "      <td>135885</td>\n",
       "      <td>2020</td>\n",
       "      <td>6</td>\n",
       "      <td>23</td>\n",
       "      <td>1.0</td>\n",
       "      <td>2020</td>\n",
       "      <td>6</td>\n",
       "      <td>29</td>\n",
       "      <td>0</td>\n",
       "      <td>2020</td>\n",
       "      <td>6</td>\n",
       "      <td>27</td>\n",
       "      <td>5.0</td>\n",
       "      <td>838391</td>\n",
       "      <td>1</td>\n",
       "      <td>0</td>\n",
       "      <td>57495</td>\n",
       "      <td>1</td>\n",
       "      <td>0</td>\n",
       "      <td>0</td>\n",
       "      <td>0.000000</td>\n",
       "      <td>0.000000</td>\n",
       "      <td>0.000000</td>\n",
       "    </tr>\n",
       "  </tbody>\n",
       "</table>\n",
       "<p>22077 rows × 46 columns</p>\n",
       "</div>"
      ],
      "text/plain": [
       "                  Age at Injury  Average Weekly Wage  Birth Year  IME-4 Count  \\\n",
       "Claim Identifier                                                                \n",
       "5471127                    60.0                 0.00      1960.0          0.0   \n",
       "5474976                    44.0                 0.00      1975.0          0.0   \n",
       "5479360                    32.0               598.89      1987.0          0.0   \n",
       "5690440                    47.0                 0.00      1973.0          0.0   \n",
       "5596285                    41.0                 0.00      1978.0          0.0   \n",
       "...                         ...                  ...         ...          ...   \n",
       "5891602                    27.0                 0.00      1994.0          0.0   \n",
       "5474935                    45.0              2423.79      1974.0          0.0   \n",
       "5486978                    78.0                 0.00      1941.0          5.0   \n",
       "6106973                    48.0                 0.00      1974.0          0.0   \n",
       "5506959                    44.0                 0.00      1975.0          0.0   \n",
       "\n",
       "                  Industry Code  WCIO Cause of Injury Code  \\\n",
       "Claim Identifier                                             \n",
       "5471127                    56.0                         83   \n",
       "5474976                    72.0                         83   \n",
       "5479360                    62.0                         83   \n",
       "5690440                    49.0                         83   \n",
       "5596285                    62.0                         83   \n",
       "...                         ...                        ...   \n",
       "5891602                    53.0                         83   \n",
       "5474935                    62.0                         83   \n",
       "5486978                    62.0                         83   \n",
       "6106973                    62.0                         83   \n",
       "5506959                    56.0                         83   \n",
       "\n",
       "                  WCIO Nature of Injury Code  WCIO Part Of Body Code  \\\n",
       "Claim Identifier                                                       \n",
       "5471127                                   83                      99   \n",
       "5474976                                   83                      60   \n",
       "5479360                                   83                      65   \n",
       "5690440                                   83                      91   \n",
       "5596285                                   83                      60   \n",
       "...                                      ...                     ...   \n",
       "5891602                                   83                      60   \n",
       "5474935                                   83                      91   \n",
       "5486978                                   83                      90   \n",
       "6106973                                   83                      60   \n",
       "5506959                                   83                      91   \n",
       "\n",
       "                  Number of Dependents  Alternative Dispute Resolution Bin  \\\n",
       "Claim Identifier                                                             \n",
       "5471127                            0.0                                   0   \n",
       "5474976                            5.0                                   0   \n",
       "5479360                            2.0                                   0   \n",
       "5690440                            2.0                                   0   \n",
       "5596285                            3.0                                   0   \n",
       "...                                ...                                 ...   \n",
       "5891602                            2.0                                   0   \n",
       "5474935                            6.0                                   0   \n",
       "5486978                            0.0                                   0   \n",
       "6106973                            1.0                                   0   \n",
       "5506959                            2.0                                   0   \n",
       "\n",
       "                  Attorney/Representative Bin  Carrier Name Enc  \\\n",
       "Claim Identifier                                                  \n",
       "5471127                                     0                29   \n",
       "5474976                                     0               706   \n",
       "5479360                                     0               127   \n",
       "5690440                                     0               200   \n",
       "5596285                                     1              1119   \n",
       "...                                       ...               ...   \n",
       "5891602                                     0              1239   \n",
       "5474935                                     1               200   \n",
       "5486978                                     0               127   \n",
       "6106973                                     1              1119   \n",
       "5506959                                     0               200   \n",
       "\n",
       "                  Carrier Type freq  Carrier Type_1A. PRIVATE  \\\n",
       "Claim Identifier                                                \n",
       "5471127                      285367                         1   \n",
       "5474976                      285367                         1   \n",
       "5479360                      285367                         1   \n",
       "5690440                      285367                         1   \n",
       "5596285                      111144                         0   \n",
       "...                             ...                       ...   \n",
       "5891602                      285367                         1   \n",
       "5474935                      285367                         1   \n",
       "5486978                      285367                         1   \n",
       "6106973                      111144                         0   \n",
       "5506959                      285367                         1   \n",
       "\n",
       "                  Carrier Type_2A. SIF  Carrier Type_3A. SELF PUBLIC  \\\n",
       "Claim Identifier                                                       \n",
       "5471127                              0                             0   \n",
       "5474976                              0                             0   \n",
       "5479360                              0                             0   \n",
       "5690440                              0                             0   \n",
       "5596285                              1                             0   \n",
       "...                                ...                           ...   \n",
       "5891602                              0                             0   \n",
       "5474935                              0                             0   \n",
       "5486978                              0                             0   \n",
       "6106973                              1                             0   \n",
       "5506959                              0                             0   \n",
       "\n",
       "                  Carrier Type_4A. SELF PRIVATE  County of Injury freq  \\\n",
       "Claim Identifier                                                         \n",
       "5471127                                       0                  30014   \n",
       "5474976                                       0                  30014   \n",
       "5479360                                       0                  53207   \n",
       "5690440                                       0                  60430   \n",
       "5596285                                       0                  39618   \n",
       "...                                         ...                    ...   \n",
       "5891602                                       0                  60430   \n",
       "5474935                                       0                  53207   \n",
       "5486978                                       0                  43580   \n",
       "6106973                                       0                  11530   \n",
       "5506959                                       0                   4413   \n",
       "\n",
       "                  COVID-19 Indicator Enc  District Name freq  Gender Enc  \\\n",
       "Claim Identifier                                                           \n",
       "5471127                                1              270778           0   \n",
       "5474976                                1              270778           1   \n",
       "5479360                                1              270778           1   \n",
       "5690440                                1               60536           0   \n",
       "5596285                                1              270778           1   \n",
       "...                                  ...                 ...         ...   \n",
       "5891602                                1               60536           0   \n",
       "5474935                                1              270778           1   \n",
       "5486978                                1              270778           1   \n",
       "6106973                                1               86171           0   \n",
       "5506959                                1               44646           0   \n",
       "\n",
       "                  Gender_F  Gender_M  Medical Fee Region freq  \\\n",
       "Claim Identifier                                                \n",
       "5471127                  0         1                   265981   \n",
       "5474976                  1         0                   265981   \n",
       "5479360                  1         0                    33472   \n",
       "5690440                  0         1                   265981   \n",
       "5596285                  1         0                   265981   \n",
       "...                    ...       ...                      ...   \n",
       "5891602                  0         1                   265981   \n",
       "5474935                  1         0                    33472   \n",
       "5486978                  1         0                   265981   \n",
       "6106973                  0         1                    85033   \n",
       "5506959                  0         1                   135885   \n",
       "\n",
       "                  Accident Date Year  Accident Date Month  Accident Date Day  \\\n",
       "Claim Identifier                                                               \n",
       "5471127                         2020                    4                  9   \n",
       "5474976                         2020                    4                  5   \n",
       "5479360                         2020                    3                  1   \n",
       "5690440                         2021                    3                 15   \n",
       "5596285                         2020                    4                  6   \n",
       "...                              ...                  ...                ...   \n",
       "5891602                         2021                   12                 23   \n",
       "5474935                         2020                    3                 23   \n",
       "5486978                         2020                    4                  2   \n",
       "6106973                         2022                    6                 14   \n",
       "5506959                         2020                    6                 23   \n",
       "\n",
       "                  Accident Date Day of Week  Assembly Date Year  \\\n",
       "Claim Identifier                                                  \n",
       "5471127                                 3.0                2020   \n",
       "5474976                                 6.0                2020   \n",
       "5479360                                 6.0                2020   \n",
       "5690440                                 0.0                2021   \n",
       "5596285                                 0.0                2020   \n",
       "...                                     ...                 ...   \n",
       "5891602                                 3.0                2022   \n",
       "5474935                                 0.0                2020   \n",
       "5486978                                 3.0                2020   \n",
       "6106973                                 1.0                2022   \n",
       "5506959                                 1.0                2020   \n",
       "\n",
       "                  Assembly Date Month  Assembly Date Day  \\\n",
       "Claim Identifier                                           \n",
       "5471127                             4                 23   \n",
       "5474976                             4                 30   \n",
       "5479360                             5                  8   \n",
       "5690440                             3                 30   \n",
       "5596285                            11                 10   \n",
       "...                               ...                ...   \n",
       "5891602                             1                  5   \n",
       "5474935                             4                 30   \n",
       "5486978                             5                 22   \n",
       "6106973                            10                 13   \n",
       "5506959                             6                 29   \n",
       "\n",
       "                  Assembly Date Day of Week  C-2 Date Year  C-2 Date Month  \\\n",
       "Claim Identifier                                                             \n",
       "5471127                                   3           2020               4   \n",
       "5474976                                   3           2020               4   \n",
       "5479360                                   4           2020               5   \n",
       "5690440                                   1           2021               3   \n",
       "5596285                                   1           2020              11   \n",
       "...                                     ...            ...             ...   \n",
       "5891602                                   2           2022               1   \n",
       "5474935                                   3           2020               4   \n",
       "5486978                                   4           2020               5   \n",
       "6106973                                   3           2022              10   \n",
       "5506959                                   0           2020               6   \n",
       "\n",
       "                  C-2 Date Day  C-2 Date Day of Week  WCIO Codes  Insurance  \\\n",
       "Claim Identifier                                                              \n",
       "5471127                     23                   3.0      838399          1   \n",
       "5474976                     30                   3.0      838360          1   \n",
       "5479360                      8                   4.0      838365          1   \n",
       "5690440                     29                   0.0      838391          1   \n",
       "5596285                     16                   0.0      838360          1   \n",
       "...                        ...                   ...         ...        ...   \n",
       "5891602                      5                   2.0      838360          1   \n",
       "5474935                     30                   3.0      838391          1   \n",
       "5486978                     22                   4.0      838390          1   \n",
       "6106973                     21                   4.0      838360          1   \n",
       "5506959                     27                   5.0      838391          1   \n",
       "\n",
       "                  Zip Code Valid  Industry Sector Count Enc  Age Group  \\\n",
       "Claim Identifier                                                         \n",
       "5471127                        0                      57495          1   \n",
       "5474976                        0                     103330          1   \n",
       "5479360                        0                     260939          1   \n",
       "5690440                        0                      54023          1   \n",
       "5596285                        0                     260939          1   \n",
       "...                          ...                        ...        ...   \n",
       "5891602                        0                      57495          1   \n",
       "5474935                        0                     260939          1   \n",
       "5486978                        0                     260939          2   \n",
       "6106973                        0                     260939          1   \n",
       "5506959                        0                      57495          1   \n",
       "\n",
       "                  C-3 Date Binary  First Hearing Date Binary  \\\n",
       "Claim Identifier                                               \n",
       "5471127                         0                          0   \n",
       "5474976                         1                          1   \n",
       "5479360                         0                          0   \n",
       "5690440                         0                          0   \n",
       "5596285                         1                          1   \n",
       "...                           ...                        ...   \n",
       "5891602                         0                          0   \n",
       "5474935                         0                          1   \n",
       "5486978                         1                          0   \n",
       "6106973                         1                          0   \n",
       "5506959                         0                          0   \n",
       "\n",
       "                  Average Weekly Wage Sqrt  IME-4 Count Log  \\\n",
       "Claim Identifier                                              \n",
       "5471127                           0.000000         0.000000   \n",
       "5474976                           0.000000         0.000000   \n",
       "5479360                          24.472229         0.000000   \n",
       "5690440                           0.000000         0.000000   \n",
       "5596285                           0.000000         0.000000   \n",
       "...                                    ...              ...   \n",
       "5891602                           0.000000         0.000000   \n",
       "5474935                          49.232002         0.000000   \n",
       "5486978                           0.000000         1.791759   \n",
       "6106973                           0.000000         0.000000   \n",
       "5506959                           0.000000         0.000000   \n",
       "\n",
       "                  IME-4 Count Double Log  \n",
       "Claim Identifier                          \n",
       "5471127                         0.000000  \n",
       "5474976                         0.000000  \n",
       "5479360                         0.000000  \n",
       "5690440                         0.000000  \n",
       "5596285                         0.000000  \n",
       "...                                  ...  \n",
       "5891602                         0.000000  \n",
       "5474935                         0.000000  \n",
       "5486978                         1.026672  \n",
       "6106973                         0.000000  \n",
       "5506959                         0.000000  \n",
       "\n",
       "[22077 rows x 46 columns]"
      ]
     },
     "execution_count": 30,
     "metadata": {},
     "output_type": "execute_result"
    }
   ],
   "source": [
    "X_train[X_train['COVID-19 Indicator Enc'] == 1]"
   ]
  },
  {
   "cell_type": "markdown",
   "id": "738a7563",
   "metadata": {},
   "source": [
    "**Accident Date Year**"
   ]
  },
  {
   "cell_type": "code",
   "execution_count": 31,
   "id": "548d06e2",
   "metadata": {
    "ExecuteTime": {
     "end_time": "2024-12-09T16:46:47.266353Z",
     "start_time": "2024-12-09T16:46:47.181805Z"
    }
   },
   "outputs": [],
   "source": [
    "dropped_len_accident_year =len(X_train[X_train['Accident Date Year'] < 2017])\n",
    "\n",
    "X_train = X_train[X_train['Accident Date Year'] >= 2017]"
   ]
  },
  {
   "cell_type": "markdown",
   "id": "64192a60",
   "metadata": {},
   "source": [
    "**C-2 Date Year**"
   ]
  },
  {
   "cell_type": "code",
   "execution_count": 32,
   "id": "8ce1ffdd",
   "metadata": {
    "ExecuteTime": {
     "end_time": "2024-12-09T16:46:47.373378Z",
     "start_time": "2024-12-09T16:46:47.268273Z"
    }
   },
   "outputs": [],
   "source": [
    "dropped_len_c2_year =len(X_train[X_train['C-2 Date Year'] < 2017])\n",
    "\n",
    "X_train = X_train[X_train['C-2 Date Year'] >= 2017]"
   ]
  },
  {
   "cell_type": "markdown",
   "id": "294d21f1",
   "metadata": {},
   "source": [
    "**Assess Decisions**\n",
    "\n",
    "Since we dropped less than 5% of observations, we can continue to feature selection"
   ]
  },
  {
   "cell_type": "code",
   "execution_count": 35,
   "id": "17e751f3",
   "metadata": {
    "ExecuteTime": {
     "end_time": "2024-12-09T11:18:38.244184Z",
     "start_time": "2024-12-09T11:18:38.225734Z"
    }
   },
   "outputs": [
    {
     "ename": "NameError",
     "evalue": "name 'dropped_len_wage' is not defined",
     "output_type": "error",
     "traceback": [
      "\u001b[0;31m---------------------------------------------------------------------------\u001b[0m",
      "\u001b[0;31mNameError\u001b[0m                                 Traceback (most recent call last)",
      "Cell \u001b[0;32mIn[35], line 1\u001b[0m\n\u001b[0;32m----> 1\u001b[0m len_dropped \u001b[38;5;241m=\u001b[39m dropped_len_wage \u001b[38;5;241m+\u001b[39m dropped_len_birth_year \u001b[38;5;241m+\u001b[39m dropped_len_alt_disp \u001b[38;5;241m+\u001b[39m dropped_len_accident_year \u001b[38;5;241m+\u001b[39m dropped_len_c2_year \n\u001b[1;32m      3\u001b[0m len_dropped \u001b[38;5;241m/\u001b[39m X_train_len\n",
      "\u001b[0;31mNameError\u001b[0m: name 'dropped_len_wage' is not defined"
     ]
    }
   ],
   "source": [
    "len_dropped = dropped_len_wage + dropped_len_birth_year + dropped_len_alt_disp + dropped_len_accident_year + dropped_len_c2_year \n",
    "\n",
    "len_dropped / X_train_len"
   ]
  },
  {
   "cell_type": "markdown",
   "id": "74e42ced",
   "metadata": {},
   "source": [
    "Ensure y_train has the same indices as X_train"
   ]
  },
  {
   "cell_type": "code",
   "execution_count": 33,
   "id": "e9d3cf4a",
   "metadata": {
    "ExecuteTime": {
     "end_time": "2024-12-09T16:46:51.430900Z",
     "start_time": "2024-12-09T16:46:51.378791Z"
    }
   },
   "outputs": [],
   "source": [
    "y_train = y_train[X_train.index]"
   ]
  },
  {
   "cell_type": "markdown",
   "id": "9adca8eb",
   "metadata": {},
   "source": [
    "**Cluster-based Filtering**"
   ]
  },
  {
   "cell_type": "code",
   "execution_count": null,
   "id": "a677e820",
   "metadata": {
    "ExecuteTime": {
     "end_time": "2024-12-09T11:18:38.247355Z",
     "start_time": "2024-12-09T11:18:38.247340Z"
    }
   },
   "outputs": [],
   "source": [
    "# from sklearn.cluster import DBSCAN\n",
    "# from sklearn.preprocessing import RobustScaler"
   ]
  },
  {
   "cell_type": "code",
   "execution_count": null,
   "id": "59415d5e",
   "metadata": {
    "ExecuteTime": {
     "end_time": "2024-12-09T11:18:38.249961Z",
     "start_time": "2024-12-09T11:18:38.249944Z"
    }
   },
   "outputs": [],
   "source": [
    "# scaler = RobustScaler()\n",
    "# scaled_data = scaler.fit_transform(X_train)"
   ]
  },
  {
   "cell_type": "code",
   "execution_count": null,
   "id": "223453d5",
   "metadata": {
    "ExecuteTime": {
     "end_time": "2024-12-09T11:18:38.251685Z",
     "start_time": "2024-12-09T11:18:38.251668Z"
    }
   },
   "outputs": [],
   "source": [
    "# dbscan = DBSCAN()\n",
    "# X_train['dbscan_cluster_1'] = dbscan.fit_predict(scaled_data)"
   ]
  },
  {
   "cell_type": "code",
   "execution_count": null,
   "id": "fe1834fc",
   "metadata": {
    "ExecuteTime": {
     "end_time": "2024-12-09T11:18:38.252996Z",
     "start_time": "2024-12-09T11:18:38.252981Z"
    }
   },
   "outputs": [],
   "source": [
    "# X_train['dbscan_cluster_1'].value_counts()"
   ]
  },
  {
   "cell_type": "code",
   "execution_count": null,
   "id": "eeee60c7",
   "metadata": {
    "ExecuteTime": {
     "end_time": "2024-12-09T11:18:38.254438Z",
     "start_time": "2024-12-09T11:18:38.254424Z"
    }
   },
   "outputs": [],
   "source": [
    "# import matplotlib.pyplot as plt\n",
    "# # Create a bar chart of the number of customers in each cluster\n",
    "# cluster_counts = X_train.groupby(['dbscan_cluster_1']).size()\n",
    "\n",
    "# ax = cluster_counts.plot(kind='bar')\n",
    "\n",
    "# # Add labels to the x and y axes\n",
    "# plt.xlabel('Cluster')\n",
    "# plt.ylabel('Number of Customers')\n",
    "# plt.xticks(rotation=0)\n",
    "\n",
    "# # Show the plot\n",
    "# plt.show()"
   ]
  },
  {
   "cell_type": "markdown",
   "id": "64e1670f",
   "metadata": {},
   "source": [
    "# 3. Feature Selection\n",
    "\n",
    "<a href=\"#top\">Top &#129033;</a>\n",
    "\n",
    "In this section we will perform feature selection. We will start by splitting data into numeric, categorical or max 3 classes. Then, scaling will be applied. However, from the previous delivery we noted that the best performing models are Tree-Based, which are not sensitive to feature's scale, and therefore do not require scaling. Consequently, we will implement the same method for both scaled and unscaled numerical data, and compare the results."
   ]
  },
  {
   "cell_type": "code",
   "execution_count": 37,
   "id": "c1f9fe3a",
   "metadata": {
    "ExecuteTime": {
     "end_time": "2024-12-09T11:19:10.366948Z",
     "start_time": "2024-12-09T11:19:10.335592Z"
    }
   },
   "outputs": [
    {
     "data": {
      "text/html": [
       "<div>\n",
       "<style scoped>\n",
       "    .dataframe tbody tr th:only-of-type {\n",
       "        vertical-align: middle;\n",
       "    }\n",
       "\n",
       "    .dataframe tbody tr th {\n",
       "        vertical-align: top;\n",
       "    }\n",
       "\n",
       "    .dataframe thead th {\n",
       "        text-align: right;\n",
       "    }\n",
       "</style>\n",
       "<table border=\"1\" class=\"dataframe\">\n",
       "  <thead>\n",
       "    <tr style=\"text-align: right;\">\n",
       "      <th></th>\n",
       "      <th>Age at Injury</th>\n",
       "      <th>Average Weekly Wage</th>\n",
       "      <th>Birth Year</th>\n",
       "      <th>IME-4 Count</th>\n",
       "      <th>Industry Code</th>\n",
       "      <th>WCIO Cause of Injury Code</th>\n",
       "      <th>WCIO Nature of Injury Code</th>\n",
       "      <th>WCIO Part Of Body Code</th>\n",
       "      <th>Number of Dependents</th>\n",
       "      <th>Alternative Dispute Resolution Bin</th>\n",
       "      <th>Attorney/Representative Bin</th>\n",
       "      <th>Carrier Name Enc</th>\n",
       "      <th>Carrier Type freq</th>\n",
       "      <th>Carrier Type_1A. PRIVATE</th>\n",
       "      <th>Carrier Type_2A. SIF</th>\n",
       "      <th>Carrier Type_3A. SELF PUBLIC</th>\n",
       "      <th>Carrier Type_4A. SELF PRIVATE</th>\n",
       "      <th>County of Injury freq</th>\n",
       "      <th>COVID-19 Indicator Enc</th>\n",
       "      <th>District Name freq</th>\n",
       "      <th>Gender Enc</th>\n",
       "      <th>Gender_F</th>\n",
       "      <th>Gender_M</th>\n",
       "      <th>Medical Fee Region freq</th>\n",
       "      <th>Accident Date Year</th>\n",
       "      <th>Accident Date Month</th>\n",
       "      <th>Accident Date Day</th>\n",
       "      <th>Accident Date Day of Week</th>\n",
       "      <th>Assembly Date Year</th>\n",
       "      <th>Assembly Date Month</th>\n",
       "      <th>Assembly Date Day</th>\n",
       "      <th>Assembly Date Day of Week</th>\n",
       "      <th>C-2 Date Year</th>\n",
       "      <th>C-2 Date Month</th>\n",
       "      <th>C-2 Date Day</th>\n",
       "      <th>C-2 Date Day of Week</th>\n",
       "      <th>WCIO Codes</th>\n",
       "      <th>Insurance</th>\n",
       "      <th>Zip Code Valid</th>\n",
       "      <th>Industry Sector Count Enc</th>\n",
       "      <th>Age Group</th>\n",
       "      <th>C-3 Date Binary</th>\n",
       "      <th>First Hearing Date Binary</th>\n",
       "      <th>Average Weekly Wage Sqrt</th>\n",
       "      <th>IME-4 Count Log</th>\n",
       "      <th>IME-4 Count Double Log</th>\n",
       "    </tr>\n",
       "    <tr>\n",
       "      <th>Claim Identifier</th>\n",
       "      <th></th>\n",
       "      <th></th>\n",
       "      <th></th>\n",
       "      <th></th>\n",
       "      <th></th>\n",
       "      <th></th>\n",
       "      <th></th>\n",
       "      <th></th>\n",
       "      <th></th>\n",
       "      <th></th>\n",
       "      <th></th>\n",
       "      <th></th>\n",
       "      <th></th>\n",
       "      <th></th>\n",
       "      <th></th>\n",
       "      <th></th>\n",
       "      <th></th>\n",
       "      <th></th>\n",
       "      <th></th>\n",
       "      <th></th>\n",
       "      <th></th>\n",
       "      <th></th>\n",
       "      <th></th>\n",
       "      <th></th>\n",
       "      <th></th>\n",
       "      <th></th>\n",
       "      <th></th>\n",
       "      <th></th>\n",
       "      <th></th>\n",
       "      <th></th>\n",
       "      <th></th>\n",
       "      <th></th>\n",
       "      <th></th>\n",
       "      <th></th>\n",
       "      <th></th>\n",
       "      <th></th>\n",
       "      <th></th>\n",
       "      <th></th>\n",
       "      <th></th>\n",
       "      <th></th>\n",
       "      <th></th>\n",
       "      <th></th>\n",
       "      <th></th>\n",
       "      <th></th>\n",
       "      <th></th>\n",
       "      <th></th>\n",
       "    </tr>\n",
       "  </thead>\n",
       "  <tbody>\n",
       "    <tr>\n",
       "      <th>5785935</th>\n",
       "      <td>49.0</td>\n",
       "      <td>744.06</td>\n",
       "      <td>1971.0</td>\n",
       "      <td>2.0</td>\n",
       "      <td>31.0</td>\n",
       "      <td>29</td>\n",
       "      <td>59</td>\n",
       "      <td>42</td>\n",
       "      <td>6.0</td>\n",
       "      <td>0</td>\n",
       "      <td>1</td>\n",
       "      <td>639</td>\n",
       "      <td>285367</td>\n",
       "      <td>1</td>\n",
       "      <td>0</td>\n",
       "      <td>0</td>\n",
       "      <td>0</td>\n",
       "      <td>58333</td>\n",
       "      <td>0</td>\n",
       "      <td>270778</td>\n",
       "      <td>1</td>\n",
       "      <td>1</td>\n",
       "      <td>0</td>\n",
       "      <td>265981</td>\n",
       "      <td>2021</td>\n",
       "      <td>8</td>\n",
       "      <td>5</td>\n",
       "      <td>3.0</td>\n",
       "      <td>2021</td>\n",
       "      <td>8</td>\n",
       "      <td>10</td>\n",
       "      <td>1</td>\n",
       "      <td>2021</td>\n",
       "      <td>8</td>\n",
       "      <td>10</td>\n",
       "      <td>1.0</td>\n",
       "      <td>295942</td>\n",
       "      <td>0</td>\n",
       "      <td>0</td>\n",
       "      <td>69053</td>\n",
       "      <td>1</td>\n",
       "      <td>1</td>\n",
       "      <td>0</td>\n",
       "      <td>27.277463</td>\n",
       "      <td>1.098612</td>\n",
       "      <td>0.741276</td>\n",
       "    </tr>\n",
       "    <tr>\n",
       "      <th>5980545</th>\n",
       "      <td>31.0</td>\n",
       "      <td>1157.33</td>\n",
       "      <td>1991.0</td>\n",
       "      <td>0.0</td>\n",
       "      <td>62.0</td>\n",
       "      <td>99</td>\n",
       "      <td>1</td>\n",
       "      <td>9</td>\n",
       "      <td>2.0</td>\n",
       "      <td>0</td>\n",
       "      <td>0</td>\n",
       "      <td>409</td>\n",
       "      <td>121920</td>\n",
       "      <td>0</td>\n",
       "      <td>0</td>\n",
       "      <td>1</td>\n",
       "      <td>0</td>\n",
       "      <td>39618</td>\n",
       "      <td>0</td>\n",
       "      <td>270778</td>\n",
       "      <td>1</td>\n",
       "      <td>1</td>\n",
       "      <td>0</td>\n",
       "      <td>265981</td>\n",
       "      <td>2022</td>\n",
       "      <td>4</td>\n",
       "      <td>5</td>\n",
       "      <td>1.0</td>\n",
       "      <td>2022</td>\n",
       "      <td>5</td>\n",
       "      <td>2</td>\n",
       "      <td>0</td>\n",
       "      <td>2022</td>\n",
       "      <td>4</td>\n",
       "      <td>30</td>\n",
       "      <td>5.0</td>\n",
       "      <td>9919</td>\n",
       "      <td>0</td>\n",
       "      <td>0</td>\n",
       "      <td>260939</td>\n",
       "      <td>1</td>\n",
       "      <td>0</td>\n",
       "      <td>1</td>\n",
       "      <td>34.019553</td>\n",
       "      <td>0.000000</td>\n",
       "      <td>0.000000</td>\n",
       "    </tr>\n",
       "    <tr>\n",
       "      <th>5552635</th>\n",
       "      <td>44.0</td>\n",
       "      <td>0.00</td>\n",
       "      <td>1976.0</td>\n",
       "      <td>0.0</td>\n",
       "      <td>49.0</td>\n",
       "      <td>80</td>\n",
       "      <td>52</td>\n",
       "      <td>56</td>\n",
       "      <td>3.0</td>\n",
       "      <td>0</td>\n",
       "      <td>0</td>\n",
       "      <td>906</td>\n",
       "      <td>285367</td>\n",
       "      <td>1</td>\n",
       "      <td>0</td>\n",
       "      <td>0</td>\n",
       "      <td>0</td>\n",
       "      <td>53207</td>\n",
       "      <td>0</td>\n",
       "      <td>270778</td>\n",
       "      <td>0</td>\n",
       "      <td>0</td>\n",
       "      <td>1</td>\n",
       "      <td>265981</td>\n",
       "      <td>2020</td>\n",
       "      <td>9</td>\n",
       "      <td>1</td>\n",
       "      <td>1.0</td>\n",
       "      <td>2020</td>\n",
       "      <td>9</td>\n",
       "      <td>4</td>\n",
       "      <td>4</td>\n",
       "      <td>2020</td>\n",
       "      <td>9</td>\n",
       "      <td>4</td>\n",
       "      <td>4.0</td>\n",
       "      <td>805256</td>\n",
       "      <td>1</td>\n",
       "      <td>0</td>\n",
       "      <td>54023</td>\n",
       "      <td>1</td>\n",
       "      <td>0</td>\n",
       "      <td>0</td>\n",
       "      <td>0.000000</td>\n",
       "      <td>0.000000</td>\n",
       "      <td>0.000000</td>\n",
       "    </tr>\n",
       "    <tr>\n",
       "      <th>5758039</th>\n",
       "      <td>25.0</td>\n",
       "      <td>0.00</td>\n",
       "      <td>1996.0</td>\n",
       "      <td>0.0</td>\n",
       "      <td>44.0</td>\n",
       "      <td>68</td>\n",
       "      <td>10</td>\n",
       "      <td>11</td>\n",
       "      <td>1.0</td>\n",
       "      <td>0</td>\n",
       "      <td>0</td>\n",
       "      <td>80</td>\n",
       "      <td>52788</td>\n",
       "      <td>0</td>\n",
       "      <td>0</td>\n",
       "      <td>0</td>\n",
       "      <td>1</td>\n",
       "      <td>53207</td>\n",
       "      <td>0</td>\n",
       "      <td>270778</td>\n",
       "      <td>0</td>\n",
       "      <td>0</td>\n",
       "      <td>1</td>\n",
       "      <td>265981</td>\n",
       "      <td>2021</td>\n",
       "      <td>6</td>\n",
       "      <td>10</td>\n",
       "      <td>3.0</td>\n",
       "      <td>2021</td>\n",
       "      <td>7</td>\n",
       "      <td>2</td>\n",
       "      <td>4</td>\n",
       "      <td>2021</td>\n",
       "      <td>7</td>\n",
       "      <td>2</td>\n",
       "      <td>4.0</td>\n",
       "      <td>681011</td>\n",
       "      <td>0</td>\n",
       "      <td>0</td>\n",
       "      <td>103330</td>\n",
       "      <td>1</td>\n",
       "      <td>0</td>\n",
       "      <td>0</td>\n",
       "      <td>0.000000</td>\n",
       "      <td>0.000000</td>\n",
       "      <td>0.000000</td>\n",
       "    </tr>\n",
       "    <tr>\n",
       "      <th>5951382</th>\n",
       "      <td>41.0</td>\n",
       "      <td>250.00</td>\n",
       "      <td>1980.0</td>\n",
       "      <td>0.0</td>\n",
       "      <td>48.0</td>\n",
       "      <td>45</td>\n",
       "      <td>49</td>\n",
       "      <td>9</td>\n",
       "      <td>4.0</td>\n",
       "      <td>0</td>\n",
       "      <td>1</td>\n",
       "      <td>48</td>\n",
       "      <td>52788</td>\n",
       "      <td>0</td>\n",
       "      <td>0</td>\n",
       "      <td>0</td>\n",
       "      <td>1</td>\n",
       "      <td>43580</td>\n",
       "      <td>0</td>\n",
       "      <td>270778</td>\n",
       "      <td>0</td>\n",
       "      <td>0</td>\n",
       "      <td>1</td>\n",
       "      <td>265981</td>\n",
       "      <td>2022</td>\n",
       "      <td>1</td>\n",
       "      <td>26</td>\n",
       "      <td>2.0</td>\n",
       "      <td>2022</td>\n",
       "      <td>3</td>\n",
       "      <td>25</td>\n",
       "      <td>4</td>\n",
       "      <td>2022</td>\n",
       "      <td>3</td>\n",
       "      <td>30</td>\n",
       "      <td>2.0</td>\n",
       "      <td>45499</td>\n",
       "      <td>0</td>\n",
       "      <td>0</td>\n",
       "      <td>54023</td>\n",
       "      <td>1</td>\n",
       "      <td>1</td>\n",
       "      <td>1</td>\n",
       "      <td>15.811388</td>\n",
       "      <td>0.000000</td>\n",
       "      <td>0.000000</td>\n",
       "    </tr>\n",
       "    <tr>\n",
       "      <th>...</th>\n",
       "      <td>...</td>\n",
       "      <td>...</td>\n",
       "      <td>...</td>\n",
       "      <td>...</td>\n",
       "      <td>...</td>\n",
       "      <td>...</td>\n",
       "      <td>...</td>\n",
       "      <td>...</td>\n",
       "      <td>...</td>\n",
       "      <td>...</td>\n",
       "      <td>...</td>\n",
       "      <td>...</td>\n",
       "      <td>...</td>\n",
       "      <td>...</td>\n",
       "      <td>...</td>\n",
       "      <td>...</td>\n",
       "      <td>...</td>\n",
       "      <td>...</td>\n",
       "      <td>...</td>\n",
       "      <td>...</td>\n",
       "      <td>...</td>\n",
       "      <td>...</td>\n",
       "      <td>...</td>\n",
       "      <td>...</td>\n",
       "      <td>...</td>\n",
       "      <td>...</td>\n",
       "      <td>...</td>\n",
       "      <td>...</td>\n",
       "      <td>...</td>\n",
       "      <td>...</td>\n",
       "      <td>...</td>\n",
       "      <td>...</td>\n",
       "      <td>...</td>\n",
       "      <td>...</td>\n",
       "      <td>...</td>\n",
       "      <td>...</td>\n",
       "      <td>...</td>\n",
       "      <td>...</td>\n",
       "      <td>...</td>\n",
       "      <td>...</td>\n",
       "      <td>...</td>\n",
       "      <td>...</td>\n",
       "      <td>...</td>\n",
       "      <td>...</td>\n",
       "      <td>...</td>\n",
       "      <td>...</td>\n",
       "    </tr>\n",
       "    <tr>\n",
       "      <th>5837651</th>\n",
       "      <td>26.0</td>\n",
       "      <td>1244.56</td>\n",
       "      <td>1995.0</td>\n",
       "      <td>1.0</td>\n",
       "      <td>62.0</td>\n",
       "      <td>98</td>\n",
       "      <td>80</td>\n",
       "      <td>41</td>\n",
       "      <td>6.0</td>\n",
       "      <td>0</td>\n",
       "      <td>1</td>\n",
       "      <td>689</td>\n",
       "      <td>285367</td>\n",
       "      <td>1</td>\n",
       "      <td>0</td>\n",
       "      <td>0</td>\n",
       "      <td>0</td>\n",
       "      <td>25754</td>\n",
       "      <td>0</td>\n",
       "      <td>270778</td>\n",
       "      <td>0</td>\n",
       "      <td>0</td>\n",
       "      <td>1</td>\n",
       "      <td>53654</td>\n",
       "      <td>2021</td>\n",
       "      <td>10</td>\n",
       "      <td>15</td>\n",
       "      <td>4.0</td>\n",
       "      <td>2021</td>\n",
       "      <td>10</td>\n",
       "      <td>19</td>\n",
       "      <td>1</td>\n",
       "      <td>2021</td>\n",
       "      <td>10</td>\n",
       "      <td>19</td>\n",
       "      <td>1.0</td>\n",
       "      <td>988041</td>\n",
       "      <td>1</td>\n",
       "      <td>0</td>\n",
       "      <td>260939</td>\n",
       "      <td>1</td>\n",
       "      <td>1</td>\n",
       "      <td>1</td>\n",
       "      <td>35.278322</td>\n",
       "      <td>0.693147</td>\n",
       "      <td>0.526589</td>\n",
       "    </tr>\n",
       "    <tr>\n",
       "      <th>5781926</th>\n",
       "      <td>55.0</td>\n",
       "      <td>969.26</td>\n",
       "      <td>1966.0</td>\n",
       "      <td>7.0</td>\n",
       "      <td>62.0</td>\n",
       "      <td>74</td>\n",
       "      <td>10</td>\n",
       "      <td>90</td>\n",
       "      <td>1.0</td>\n",
       "      <td>0</td>\n",
       "      <td>1</td>\n",
       "      <td>251</td>\n",
       "      <td>285367</td>\n",
       "      <td>1</td>\n",
       "      <td>0</td>\n",
       "      <td>0</td>\n",
       "      <td>0</td>\n",
       "      <td>58333</td>\n",
       "      <td>0</td>\n",
       "      <td>270778</td>\n",
       "      <td>0</td>\n",
       "      <td>0</td>\n",
       "      <td>1</td>\n",
       "      <td>265981</td>\n",
       "      <td>2021</td>\n",
       "      <td>7</td>\n",
       "      <td>28</td>\n",
       "      <td>2.0</td>\n",
       "      <td>2021</td>\n",
       "      <td>8</td>\n",
       "      <td>4</td>\n",
       "      <td>2</td>\n",
       "      <td>2021</td>\n",
       "      <td>8</td>\n",
       "      <td>4</td>\n",
       "      <td>2.0</td>\n",
       "      <td>741090</td>\n",
       "      <td>0</td>\n",
       "      <td>0</td>\n",
       "      <td>260939</td>\n",
       "      <td>1</td>\n",
       "      <td>1</td>\n",
       "      <td>1</td>\n",
       "      <td>31.132941</td>\n",
       "      <td>2.079442</td>\n",
       "      <td>1.124748</td>\n",
       "    </tr>\n",
       "    <tr>\n",
       "      <th>5890060</th>\n",
       "      <td>57.0</td>\n",
       "      <td>794.09</td>\n",
       "      <td>1964.0</td>\n",
       "      <td>0.0</td>\n",
       "      <td>81.0</td>\n",
       "      <td>53</td>\n",
       "      <td>52</td>\n",
       "      <td>53</td>\n",
       "      <td>5.0</td>\n",
       "      <td>0</td>\n",
       "      <td>0</td>\n",
       "      <td>764</td>\n",
       "      <td>285367</td>\n",
       "      <td>1</td>\n",
       "      <td>0</td>\n",
       "      <td>0</td>\n",
       "      <td>0</td>\n",
       "      <td>30874</td>\n",
       "      <td>0</td>\n",
       "      <td>45605</td>\n",
       "      <td>1</td>\n",
       "      <td>1</td>\n",
       "      <td>0</td>\n",
       "      <td>135885</td>\n",
       "      <td>2021</td>\n",
       "      <td>11</td>\n",
       "      <td>11</td>\n",
       "      <td>3.0</td>\n",
       "      <td>2022</td>\n",
       "      <td>1</td>\n",
       "      <td>4</td>\n",
       "      <td>1</td>\n",
       "      <td>2022</td>\n",
       "      <td>1</td>\n",
       "      <td>4</td>\n",
       "      <td>1.0</td>\n",
       "      <td>535253</td>\n",
       "      <td>1</td>\n",
       "      <td>0</td>\n",
       "      <td>23106</td>\n",
       "      <td>1</td>\n",
       "      <td>0</td>\n",
       "      <td>0</td>\n",
       "      <td>28.179603</td>\n",
       "      <td>0.000000</td>\n",
       "      <td>0.000000</td>\n",
       "    </tr>\n",
       "    <tr>\n",
       "      <th>5539380</th>\n",
       "      <td>25.0</td>\n",
       "      <td>0.00</td>\n",
       "      <td>1994.0</td>\n",
       "      <td>0.0</td>\n",
       "      <td>23.0</td>\n",
       "      <td>31</td>\n",
       "      <td>52</td>\n",
       "      <td>56</td>\n",
       "      <td>1.0</td>\n",
       "      <td>0</td>\n",
       "      <td>0</td>\n",
       "      <td>399</td>\n",
       "      <td>285367</td>\n",
       "      <td>1</td>\n",
       "      <td>0</td>\n",
       "      <td>0</td>\n",
       "      <td>0</td>\n",
       "      <td>53207</td>\n",
       "      <td>0</td>\n",
       "      <td>270778</td>\n",
       "      <td>0</td>\n",
       "      <td>0</td>\n",
       "      <td>1</td>\n",
       "      <td>265981</td>\n",
       "      <td>2020</td>\n",
       "      <td>7</td>\n",
       "      <td>30</td>\n",
       "      <td>3.0</td>\n",
       "      <td>2020</td>\n",
       "      <td>8</td>\n",
       "      <td>17</td>\n",
       "      <td>0</td>\n",
       "      <td>2020</td>\n",
       "      <td>8</td>\n",
       "      <td>17</td>\n",
       "      <td>0.0</td>\n",
       "      <td>315256</td>\n",
       "      <td>1</td>\n",
       "      <td>0</td>\n",
       "      <td>69053</td>\n",
       "      <td>1</td>\n",
       "      <td>0</td>\n",
       "      <td>0</td>\n",
       "      <td>0.000000</td>\n",
       "      <td>0.000000</td>\n",
       "      <td>0.000000</td>\n",
       "    </tr>\n",
       "    <tr>\n",
       "      <th>6157884</th>\n",
       "      <td>22.0</td>\n",
       "      <td>0.00</td>\n",
       "      <td>2000.0</td>\n",
       "      <td>0.0</td>\n",
       "      <td>44.0</td>\n",
       "      <td>79</td>\n",
       "      <td>10</td>\n",
       "      <td>56</td>\n",
       "      <td>0.0</td>\n",
       "      <td>0</td>\n",
       "      <td>0</td>\n",
       "      <td>1456</td>\n",
       "      <td>285367</td>\n",
       "      <td>1</td>\n",
       "      <td>0</td>\n",
       "      <td>0</td>\n",
       "      <td>0</td>\n",
       "      <td>39618</td>\n",
       "      <td>0</td>\n",
       "      <td>270778</td>\n",
       "      <td>1</td>\n",
       "      <td>1</td>\n",
       "      <td>0</td>\n",
       "      <td>265981</td>\n",
       "      <td>2022</td>\n",
       "      <td>12</td>\n",
       "      <td>15</td>\n",
       "      <td>3.0</td>\n",
       "      <td>2022</td>\n",
       "      <td>12</td>\n",
       "      <td>19</td>\n",
       "      <td>0</td>\n",
       "      <td>2022</td>\n",
       "      <td>12</td>\n",
       "      <td>19</td>\n",
       "      <td>0.0</td>\n",
       "      <td>791056</td>\n",
       "      <td>1</td>\n",
       "      <td>0</td>\n",
       "      <td>103330</td>\n",
       "      <td>1</td>\n",
       "      <td>0</td>\n",
       "      <td>0</td>\n",
       "      <td>0.000000</td>\n",
       "      <td>0.000000</td>\n",
       "      <td>0.000000</td>\n",
       "    </tr>\n",
       "  </tbody>\n",
       "</table>\n",
       "<p>452992 rows × 46 columns</p>\n",
       "</div>"
      ],
      "text/plain": [
       "                  Age at Injury  Average Weekly Wage  Birth Year  IME-4 Count  \\\n",
       "Claim Identifier                                                                \n",
       "5785935                    49.0               744.06      1971.0          2.0   \n",
       "5980545                    31.0              1157.33      1991.0          0.0   \n",
       "5552635                    44.0                 0.00      1976.0          0.0   \n",
       "5758039                    25.0                 0.00      1996.0          0.0   \n",
       "5951382                    41.0               250.00      1980.0          0.0   \n",
       "...                         ...                  ...         ...          ...   \n",
       "5837651                    26.0              1244.56      1995.0          1.0   \n",
       "5781926                    55.0               969.26      1966.0          7.0   \n",
       "5890060                    57.0               794.09      1964.0          0.0   \n",
       "5539380                    25.0                 0.00      1994.0          0.0   \n",
       "6157884                    22.0                 0.00      2000.0          0.0   \n",
       "\n",
       "                  Industry Code  WCIO Cause of Injury Code  \\\n",
       "Claim Identifier                                             \n",
       "5785935                    31.0                         29   \n",
       "5980545                    62.0                         99   \n",
       "5552635                    49.0                         80   \n",
       "5758039                    44.0                         68   \n",
       "5951382                    48.0                         45   \n",
       "...                         ...                        ...   \n",
       "5837651                    62.0                         98   \n",
       "5781926                    62.0                         74   \n",
       "5890060                    81.0                         53   \n",
       "5539380                    23.0                         31   \n",
       "6157884                    44.0                         79   \n",
       "\n",
       "                  WCIO Nature of Injury Code  WCIO Part Of Body Code  \\\n",
       "Claim Identifier                                                       \n",
       "5785935                                   59                      42   \n",
       "5980545                                    1                       9   \n",
       "5552635                                   52                      56   \n",
       "5758039                                   10                      11   \n",
       "5951382                                   49                       9   \n",
       "...                                      ...                     ...   \n",
       "5837651                                   80                      41   \n",
       "5781926                                   10                      90   \n",
       "5890060                                   52                      53   \n",
       "5539380                                   52                      56   \n",
       "6157884                                   10                      56   \n",
       "\n",
       "                  Number of Dependents  Alternative Dispute Resolution Bin  \\\n",
       "Claim Identifier                                                             \n",
       "5785935                            6.0                                   0   \n",
       "5980545                            2.0                                   0   \n",
       "5552635                            3.0                                   0   \n",
       "5758039                            1.0                                   0   \n",
       "5951382                            4.0                                   0   \n",
       "...                                ...                                 ...   \n",
       "5837651                            6.0                                   0   \n",
       "5781926                            1.0                                   0   \n",
       "5890060                            5.0                                   0   \n",
       "5539380                            1.0                                   0   \n",
       "6157884                            0.0                                   0   \n",
       "\n",
       "                  Attorney/Representative Bin  Carrier Name Enc  \\\n",
       "Claim Identifier                                                  \n",
       "5785935                                     1               639   \n",
       "5980545                                     0               409   \n",
       "5552635                                     0               906   \n",
       "5758039                                     0                80   \n",
       "5951382                                     1                48   \n",
       "...                                       ...               ...   \n",
       "5837651                                     1               689   \n",
       "5781926                                     1               251   \n",
       "5890060                                     0               764   \n",
       "5539380                                     0               399   \n",
       "6157884                                     0              1456   \n",
       "\n",
       "                  Carrier Type freq  Carrier Type_1A. PRIVATE  \\\n",
       "Claim Identifier                                                \n",
       "5785935                      285367                         1   \n",
       "5980545                      121920                         0   \n",
       "5552635                      285367                         1   \n",
       "5758039                       52788                         0   \n",
       "5951382                       52788                         0   \n",
       "...                             ...                       ...   \n",
       "5837651                      285367                         1   \n",
       "5781926                      285367                         1   \n",
       "5890060                      285367                         1   \n",
       "5539380                      285367                         1   \n",
       "6157884                      285367                         1   \n",
       "\n",
       "                  Carrier Type_2A. SIF  Carrier Type_3A. SELF PUBLIC  \\\n",
       "Claim Identifier                                                       \n",
       "5785935                              0                             0   \n",
       "5980545                              0                             1   \n",
       "5552635                              0                             0   \n",
       "5758039                              0                             0   \n",
       "5951382                              0                             0   \n",
       "...                                ...                           ...   \n",
       "5837651                              0                             0   \n",
       "5781926                              0                             0   \n",
       "5890060                              0                             0   \n",
       "5539380                              0                             0   \n",
       "6157884                              0                             0   \n",
       "\n",
       "                  Carrier Type_4A. SELF PRIVATE  County of Injury freq  \\\n",
       "Claim Identifier                                                         \n",
       "5785935                                       0                  58333   \n",
       "5980545                                       0                  39618   \n",
       "5552635                                       0                  53207   \n",
       "5758039                                       1                  53207   \n",
       "5951382                                       1                  43580   \n",
       "...                                         ...                    ...   \n",
       "5837651                                       0                  25754   \n",
       "5781926                                       0                  58333   \n",
       "5890060                                       0                  30874   \n",
       "5539380                                       0                  53207   \n",
       "6157884                                       0                  39618   \n",
       "\n",
       "                  COVID-19 Indicator Enc  District Name freq  Gender Enc  \\\n",
       "Claim Identifier                                                           \n",
       "5785935                                0              270778           1   \n",
       "5980545                                0              270778           1   \n",
       "5552635                                0              270778           0   \n",
       "5758039                                0              270778           0   \n",
       "5951382                                0              270778           0   \n",
       "...                                  ...                 ...         ...   \n",
       "5837651                                0              270778           0   \n",
       "5781926                                0              270778           0   \n",
       "5890060                                0               45605           1   \n",
       "5539380                                0              270778           0   \n",
       "6157884                                0              270778           1   \n",
       "\n",
       "                  Gender_F  Gender_M  Medical Fee Region freq  \\\n",
       "Claim Identifier                                                \n",
       "5785935                  1         0                   265981   \n",
       "5980545                  1         0                   265981   \n",
       "5552635                  0         1                   265981   \n",
       "5758039                  0         1                   265981   \n",
       "5951382                  0         1                   265981   \n",
       "...                    ...       ...                      ...   \n",
       "5837651                  0         1                    53654   \n",
       "5781926                  0         1                   265981   \n",
       "5890060                  1         0                   135885   \n",
       "5539380                  0         1                   265981   \n",
       "6157884                  1         0                   265981   \n",
       "\n",
       "                  Accident Date Year  Accident Date Month  Accident Date Day  \\\n",
       "Claim Identifier                                                               \n",
       "5785935                         2021                    8                  5   \n",
       "5980545                         2022                    4                  5   \n",
       "5552635                         2020                    9                  1   \n",
       "5758039                         2021                    6                 10   \n",
       "5951382                         2022                    1                 26   \n",
       "...                              ...                  ...                ...   \n",
       "5837651                         2021                   10                 15   \n",
       "5781926                         2021                    7                 28   \n",
       "5890060                         2021                   11                 11   \n",
       "5539380                         2020                    7                 30   \n",
       "6157884                         2022                   12                 15   \n",
       "\n",
       "                  Accident Date Day of Week  Assembly Date Year  \\\n",
       "Claim Identifier                                                  \n",
       "5785935                                 3.0                2021   \n",
       "5980545                                 1.0                2022   \n",
       "5552635                                 1.0                2020   \n",
       "5758039                                 3.0                2021   \n",
       "5951382                                 2.0                2022   \n",
       "...                                     ...                 ...   \n",
       "5837651                                 4.0                2021   \n",
       "5781926                                 2.0                2021   \n",
       "5890060                                 3.0                2022   \n",
       "5539380                                 3.0                2020   \n",
       "6157884                                 3.0                2022   \n",
       "\n",
       "                  Assembly Date Month  Assembly Date Day  \\\n",
       "Claim Identifier                                           \n",
       "5785935                             8                 10   \n",
       "5980545                             5                  2   \n",
       "5552635                             9                  4   \n",
       "5758039                             7                  2   \n",
       "5951382                             3                 25   \n",
       "...                               ...                ...   \n",
       "5837651                            10                 19   \n",
       "5781926                             8                  4   \n",
       "5890060                             1                  4   \n",
       "5539380                             8                 17   \n",
       "6157884                            12                 19   \n",
       "\n",
       "                  Assembly Date Day of Week  C-2 Date Year  C-2 Date Month  \\\n",
       "Claim Identifier                                                             \n",
       "5785935                                   1           2021               8   \n",
       "5980545                                   0           2022               4   \n",
       "5552635                                   4           2020               9   \n",
       "5758039                                   4           2021               7   \n",
       "5951382                                   4           2022               3   \n",
       "...                                     ...            ...             ...   \n",
       "5837651                                   1           2021              10   \n",
       "5781926                                   2           2021               8   \n",
       "5890060                                   1           2022               1   \n",
       "5539380                                   0           2020               8   \n",
       "6157884                                   0           2022              12   \n",
       "\n",
       "                  C-2 Date Day  C-2 Date Day of Week  WCIO Codes  Insurance  \\\n",
       "Claim Identifier                                                              \n",
       "5785935                     10                   1.0      295942          0   \n",
       "5980545                     30                   5.0        9919          0   \n",
       "5552635                      4                   4.0      805256          1   \n",
       "5758039                      2                   4.0      681011          0   \n",
       "5951382                     30                   2.0       45499          0   \n",
       "...                        ...                   ...         ...        ...   \n",
       "5837651                     19                   1.0      988041          1   \n",
       "5781926                      4                   2.0      741090          0   \n",
       "5890060                      4                   1.0      535253          1   \n",
       "5539380                     17                   0.0      315256          1   \n",
       "6157884                     19                   0.0      791056          1   \n",
       "\n",
       "                  Zip Code Valid  Industry Sector Count Enc  Age Group  \\\n",
       "Claim Identifier                                                         \n",
       "5785935                        0                      69053          1   \n",
       "5980545                        0                     260939          1   \n",
       "5552635                        0                      54023          1   \n",
       "5758039                        0                     103330          1   \n",
       "5951382                        0                      54023          1   \n",
       "...                          ...                        ...        ...   \n",
       "5837651                        0                     260939          1   \n",
       "5781926                        0                     260939          1   \n",
       "5890060                        0                      23106          1   \n",
       "5539380                        0                      69053          1   \n",
       "6157884                        0                     103330          1   \n",
       "\n",
       "                  C-3 Date Binary  First Hearing Date Binary  \\\n",
       "Claim Identifier                                               \n",
       "5785935                         1                          0   \n",
       "5980545                         0                          1   \n",
       "5552635                         0                          0   \n",
       "5758039                         0                          0   \n",
       "5951382                         1                          1   \n",
       "...                           ...                        ...   \n",
       "5837651                         1                          1   \n",
       "5781926                         1                          1   \n",
       "5890060                         0                          0   \n",
       "5539380                         0                          0   \n",
       "6157884                         0                          0   \n",
       "\n",
       "                  Average Weekly Wage Sqrt  IME-4 Count Log  \\\n",
       "Claim Identifier                                              \n",
       "5785935                          27.277463         1.098612   \n",
       "5980545                          34.019553         0.000000   \n",
       "5552635                           0.000000         0.000000   \n",
       "5758039                           0.000000         0.000000   \n",
       "5951382                          15.811388         0.000000   \n",
       "...                                    ...              ...   \n",
       "5837651                          35.278322         0.693147   \n",
       "5781926                          31.132941         2.079442   \n",
       "5890060                          28.179603         0.000000   \n",
       "5539380                           0.000000         0.000000   \n",
       "6157884                           0.000000         0.000000   \n",
       "\n",
       "                  IME-4 Count Double Log  \n",
       "Claim Identifier                          \n",
       "5785935                         0.741276  \n",
       "5980545                         0.000000  \n",
       "5552635                         0.000000  \n",
       "5758039                         0.000000  \n",
       "5951382                         0.000000  \n",
       "...                                  ...  \n",
       "5837651                         0.526589  \n",
       "5781926                         1.124748  \n",
       "5890060                         0.000000  \n",
       "5539380                         0.000000  \n",
       "6157884                         0.000000  \n",
       "\n",
       "[452992 rows x 46 columns]"
      ]
     },
     "execution_count": 37,
     "metadata": {},
     "output_type": "execute_result"
    }
   ],
   "source": [
    "X_train"
   ]
  },
  {
   "cell_type": "markdown",
   "id": "e9265893",
   "metadata": {},
   "source": [
    "**Variable type split**"
   ]
  },
  {
   "cell_type": "code",
   "execution_count": 34,
   "id": "8e1813bd",
   "metadata": {
    "ExecuteTime": {
     "end_time": "2024-12-09T16:46:56.429707Z",
     "start_time": "2024-12-09T16:46:56.425601Z"
    }
   },
   "outputs": [],
   "source": [
    "num = ['Age at Injury', 'Average Weekly Wage', 'Birth Year', 'IME-4 Count', 'Number of Dependents',\n",
    "       'Accident Date Year', 'Accident Date Month', 'Accident Date Day', 'Assembly Date Year', \n",
    "       'Assembly Date Month', 'Assembly Date Day', 'C-2 Date Year', 'C-2 Date Month', 'C-2 Date Day',\n",
    "       'IME-4 Count Log', 'IME-4 Count Double Log', 'Average Weekly Wage Sqrt']\n",
    "\n",
    "max3_class = ['Attorney/Representative Bin', 'Carrier Type_1A. PRIVATE', 'Carrier Type_2A. SIF',\n",
    "              'Carrier Type_3A. SELF PUBLIC', 'Carrier Type_4A. SELF PRIVATE', 'COVID-19 Indicator Enc',\n",
    "              'Gender Enc', 'Gender_F', 'Gender_M', 'Zip Code Valid', 'Age Group', 'C-3 Date Binary',\n",
    "              'First Hearing Date Binary', 'Insurance']\n",
    "\n",
    "categ = ['Industry Code', 'WCIO Cause of Injury Code', 'WCIO Nature of Injury Code',\n",
    "         'WCIO Part Of Body Code', 'Carrier Name Enc', 'Carrier Type freq', 'County of Injury freq',\n",
    "         'District Name freq', 'Medical Fee Region freq', 'Accident Date Day of Week', 'Assembly Date Day of Week',\n",
    "         'C-2 Date Day of Week', 'WCIO Codes', 'Industry Sector Count Enc']"
   ]
  },
  {
   "cell_type": "code",
   "execution_count": 35,
   "id": "5eb27879",
   "metadata": {
    "ExecuteTime": {
     "end_time": "2024-12-09T16:46:57.813113Z",
     "start_time": "2024-12-09T16:46:57.649699Z"
    }
   },
   "outputs": [],
   "source": [
    "X_train_all_categ = pd.concat([X_train[categ], X_train[max3_class]], axis=1)\n",
    "X_val_all_categ = pd.concat([X_val[categ], X_val[max3_class]], axis=1)"
   ]
  },
  {
   "cell_type": "markdown",
   "id": "04375986",
   "metadata": {
    "ExecuteTime": {
     "end_time": "2024-11-23T14:09:01.007067Z",
     "start_time": "2024-11-23T14:09:01.007048Z"
    }
   },
   "source": [
    "## 3.1 Scaling"
   ]
  },
  {
   "cell_type": "code",
   "execution_count": null,
   "id": "a565a9e7",
   "metadata": {
    "ExecuteTime": {
     "end_time": "2024-12-09T11:16:57.205042Z",
     "start_time": "2024-12-09T11:16:57.205031Z"
    }
   },
   "outputs": [],
   "source": [
    "robust = RobustScaler()"
   ]
  },
  {
   "cell_type": "code",
   "execution_count": null,
   "id": "6a3a6754",
   "metadata": {
    "ExecuteTime": {
     "end_time": "2024-12-09T11:16:57.206369Z",
     "start_time": "2024-12-09T11:16:57.206358Z"
    }
   },
   "outputs": [],
   "source": [
    "# Scaling the numerical features in the training set using RobustScaler\n",
    "X_train_num_RS = robust.fit_transform(X_train[num])\n",
    "X_train_num_RS = pd.DataFrame(X_train_num_RS, columns=num, index=X_train.index)"
   ]
  },
  {
   "cell_type": "code",
   "execution_count": null,
   "id": "c47afdb2",
   "metadata": {
    "ExecuteTime": {
     "end_time": "2024-12-09T11:16:57.207655Z",
     "start_time": "2024-12-09T11:16:57.207641Z"
    }
   },
   "outputs": [],
   "source": [
    "# Scaling the numerical features in the validation set using the fitted RobustScaler\n",
    "X_val_num_RS = robust.transform(X_val[num])\n",
    "X_val_num_RS = pd.DataFrame(X_val_num_RS, columns=num, index=X_val.index)\n",
    "\n",
    "# Scaling the numerical features in the test set using the same fitted RobustScaler\n",
    "test_num_RS = robust.transform(test[num])\n",
    "test_num_RS = pd.DataFrame(test_num_RS, columns=num, index=test.index)"
   ]
  },
  {
   "cell_type": "markdown",
   "id": "7fe7fe93",
   "metadata": {},
   "source": [
    "Having performed all data transformations, we will export the data to later use it in the Modelling section of this notebook. This will allow to save time by not always having to run computationally expensive methods such as RFE.\n",
    "\n",
    "To go to the Modelling section click in the button.\n",
    "\n",
    "[Go to Modeling &#129034;](#modeling)\n",
    "\n",
    "<a class=\"anchor\" id=\"feature-selection\"></a>\n",
    "\n"
   ]
  },
  {
   "cell_type": "code",
   "execution_count": 40,
   "id": "866419cc",
   "metadata": {
    "ExecuteTime": {
     "end_time": "2024-12-09T11:19:26.663861Z",
     "start_time": "2024-12-09T11:19:15.591961Z"
    }
   },
   "outputs": [],
   "source": [
    "# X_train.to_csv('./data/X_train_treated.csv')\n",
    "# X_val.to_csv('./data/X_val_treated.csv')\n",
    "# y_train.to_csv('./data/y_train_treated.csv')\n",
    "# y_val.to_csv('./data/y_val_treated.csv')\n",
    "# test.to_csv('./data/test_treated.csv')"
   ]
  },
  {
   "cell_type": "markdown",
   "id": "ff729aff",
   "metadata": {},
   "source": [
    "## 3.2 Filter-Based Methods\n",
    "\n",
    "<a href=\"#top\">Top &#129033;</a>\n",
    "\n",
    "Filter-based methods evaluate the relevance of features independently of the model using statistical measures like correlation, Chi-square tests, and mutual information. This section explores how these methods help reduce dimensionality, improve model performance, and prevent overfitting by selecting the most informative features.\n",
    "\n"
   ]
  },
  {
   "cell_type": "markdown",
   "id": "d099e231",
   "metadata": {},
   "source": [
    "**Variance Threshold**"
   ]
  },
  {
   "cell_type": "code",
   "execution_count": 40,
   "id": "47c05ab2",
   "metadata": {
    "ExecuteTime": {
     "end_time": "2024-12-09T16:58:47.294203Z",
     "start_time": "2024-12-09T16:58:47.185886Z"
    }
   },
   "outputs": [
    {
     "data": {
      "text/plain": [
       "Age at Injury                  202.351445\n",
       "Average Weekly Wage         488705.553909\n",
       "Birth Year                     194.864008\n",
       "IME-4 Count                      3.745038\n",
       "Number of Dependents             4.002072\n",
       "Accident Date Year               0.763259\n",
       "Accident Date Month             11.942937\n",
       "Accident Date Day               76.720828\n",
       "Assembly Date Year               0.656585\n",
       "Assembly Date Month             11.858972\n",
       "Assembly Date Day               76.264266\n",
       "C-2 Date Year                    0.650137\n",
       "C-2 Date Month                  11.646647\n",
       "C-2 Date Day                    74.372067\n",
       "IME-4 Count Log                  0.358826\n",
       "IME-4 Count Double Log           0.125553\n",
       "Average Weekly Wage Sqrt       289.144636\n",
       "dtype: Float64"
      ]
     },
     "execution_count": 40,
     "metadata": {},
     "output_type": "execute_result"
    }
   ],
   "source": [
    "X_train[num].var()"
   ]
  },
  {
   "cell_type": "code",
   "execution_count": 37,
   "id": "c2f126db",
   "metadata": {
    "ExecuteTime": {
     "end_time": "2024-12-09T16:47:10.740128Z",
     "start_time": "2024-12-09T16:47:10.493900Z"
    }
   },
   "outputs": [
    {
     "name": "stdout",
     "output_type": "stream",
     "text": [
      "Number of features before variance threshold: 17\n",
      "Number of features after variance threshold: 17\n"
     ]
    }
   ],
   "source": [
    "threshold = 0.1\n",
    "\n",
    "# Initialize the VarianceThreshold selector with the specified threshold\n",
    "selector = VarianceThreshold(threshold=threshold)\n",
    "\n",
    "# Apply the selector to the scaled training data (X_train_RS) to retain only the high-variance features\n",
    "X_train_high_variance = selector.fit_transform(X_train[num])\n",
    "\n",
    "# Print the number of features before applying the variance threshold\n",
    "print(f\"Number of features before variance threshold: {X_train[num].shape[1]}\")\n",
    "\n",
    "# Print the number of features after applying the variance threshold\n",
    "print(f\"Number of features after variance threshold: {X_train_high_variance.shape[1]}\")"
   ]
  },
  {
   "cell_type": "markdown",
   "id": "cf2e4a36",
   "metadata": {},
   "source": [
    "**Spearman Correlation Matrix**"
   ]
  },
  {
   "cell_type": "code",
   "execution_count": 38,
   "id": "ee19fd1c",
   "metadata": {
    "ExecuteTime": {
     "end_time": "2024-12-09T16:47:12.344799Z",
     "start_time": "2024-12-09T16:47:11.372953Z"
    },
    "scrolled": false
   },
   "outputs": [
    {
     "data": {
      "image/png": "[encoded data removed]",
      "text/plain": [
       "<Figure size 1200x1000 with 2 Axes>"
      ]
     },
     "metadata": {},
     "output_type": "display_data"
    }
   ],
   "source": [
    "# Visualize the correlation matrix to identify relationships between numerical features\n",
    "fs.correlation_matrix(X_train[num])"
   ]
  },
  {
   "cell_type": "markdown",
   "id": "a57aa6da",
   "metadata": {},
   "source": [
    "**Chi Squared Test**"
   ]
  },
  {
   "cell_type": "code",
   "execution_count": 63,
   "id": "b87824c8",
   "metadata": {
    "ExecuteTime": {
     "end_time": "2024-12-09T11:50:44.230325Z",
     "start_time": "2024-12-09T11:50:43.386848Z"
    }
   },
   "outputs": [
    {
     "data": {
      "image/png": "[encoded data removed]",
      "text/plain": [
       "<Figure size 1200x800 with 1 Axes>"
      ]
     },
     "metadata": {},
     "output_type": "display_data"
    },
    {
     "name": "stdout",
     "output_type": "stream",
     "text": [
      "\n",
      "Initial Features: 28\n",
      "\n",
      "['Industry Code', 'WCIO Cause of Injury Code', 'WCIO Nature of Injury Code', 'WCIO Part Of Body Code', 'Carrier Name Enc', 'Carrier Type freq', 'County of Injury freq', 'District Name freq', 'Medical Fee Region freq', 'Accident Date Day of Week', 'Assembly Date Day of Week', 'C-2 Date Day of Week', 'WCIO Codes', 'Industry Sector Count Enc', 'Attorney/Representative Bin', 'Carrier Type_1A. PRIVATE', 'Carrier Type_2A. SIF', 'Carrier Type_3A. SELF PUBLIC', 'Carrier Type_4A. SELF PRIVATE', 'COVID-19 Indicator Enc', 'Gender Enc', 'Gender_F', 'Gender_M', 'Zip Code Valid', 'Age Group', 'C-3 Date Binary', 'First Hearing Date Binary', 'Insurance']\n",
      "\n",
      "Decision for Categorical Features (p-value < threshold): 25\n",
      "\n",
      "['Industry Code', 'WCIO Cause of Injury Code', 'WCIO Nature of Injury Code', 'WCIO Part Of Body Code', 'Carrier Name Enc', 'Carrier Type freq', 'County of Injury freq', 'District Name freq', 'Medical Fee Region freq', 'C-2 Date Day of Week', 'WCIO Codes', 'Industry Sector Count Enc', 'Attorney/Representative Bin', 'Carrier Type_1A. PRIVATE', 'Carrier Type_2A. SIF', 'Carrier Type_3A. SELF PUBLIC', 'Carrier Type_4A. SELF PRIVATE', 'COVID-19 Indicator Enc', 'Gender Enc', 'Gender_F', 'Gender_M', 'Age Group', 'C-3 Date Binary', 'First Hearing Date Binary', 'Insurance']\n",
      "\n",
      "Non-Selected Features (p-value >= threshold):\n",
      "\n",
      "                      Feature  Chi2 Score   p-value\n",
      "9   Accident Date Day of Week   11.036070  0.137053\n",
      "10  Assembly Date Day of Week    3.477422  0.837611\n",
      "23             Zip Code Valid    7.395577  0.388886\n"
     ]
    }
   ],
   "source": [
    "fs.chi_squared(X_train_all_categ, y_train)"
   ]
  },
  {
   "cell_type": "markdown",
   "id": "8795ef5d",
   "metadata": {
    "ExecuteTime": {
     "end_time": "2024-12-01T16:38:05.837521Z",
     "start_time": "2024-12-01T16:38:05.832896Z"
    }
   },
   "source": [
    "**Mutual Information Test**"
   ]
  },
  {
   "cell_type": "code",
   "execution_count": 64,
   "id": "9df463fc",
   "metadata": {
    "ExecuteTime": {
     "end_time": "2024-12-09T11:51:47.436669Z",
     "start_time": "2024-12-09T11:50:47.695276Z"
    }
   },
   "outputs": [
    {
     "data": {
      "image/png": "[encoded data removed]",
      "text/plain": [
       "<Figure size 1000x600 with 1 Axes>"
      ]
     },
     "metadata": {},
     "output_type": "display_data"
    },
    {
     "name": "stdout",
     "output_type": "stream",
     "text": [
      "\n",
      "Initial Features: 28 \n",
      "\n",
      "['Industry Code', 'WCIO Cause of Injury Code', 'WCIO Nature of Injury Code', 'WCIO Part Of Body Code', 'Carrier Name Enc', 'Carrier Type freq', 'County of Injury freq', 'District Name freq', 'Medical Fee Region freq', 'Accident Date Day of Week', 'Assembly Date Day of Week', 'C-2 Date Day of Week', 'WCIO Codes', 'Industry Sector Count Enc', 'Attorney/Representative Bin', 'Carrier Type_1A. PRIVATE', 'Carrier Type_2A. SIF', 'Carrier Type_3A. SELF PUBLIC', 'Carrier Type_4A. SELF PRIVATE', 'COVID-19 Indicator Enc', 'Gender Enc', 'Gender_F', 'Gender_M', 'Zip Code Valid', 'Age Group', 'C-3 Date Binary', 'First Hearing Date Binary', 'Insurance']\n",
      "\n",
      "Decision for Categorical Features (MI Score >= 0.05): 9 \n",
      "\n",
      "['Industry Code', 'WCIO Cause of Injury Code', 'WCIO Nature of Injury Code', 'WCIO Part Of Body Code', 'Carrier Name Enc', 'WCIO Codes', 'Attorney/Representative Bin', 'C-3 Date Binary', 'First Hearing Date Binary']\n"
     ]
    }
   ],
   "source": [
    "fs.mutual_info(X_train_all_categ, y_train, threshold = 0.05)"
   ]
  },
  {
   "cell_type": "markdown",
   "id": "ae9b5c1a",
   "metadata": {},
   "source": [
    "## 3.3 Wrapper Methods\n",
    "\n",
    "<a href=\"#top\">Top &#129033;</a>\n",
    "\n",
    "Unlike filter methods, which assess features independently, wrapper methods evaluate the effectiveness of feature subsets by measuring the model’s performance, making them more computationally expensive but often more accurate in selecting relevant features."
   ]
  },
  {
   "cell_type": "markdown",
   "id": "ee917e8d",
   "metadata": {},
   "source": [
    "**Recursive Feature Elimination (RFE) - Logistic Regression**"
   ]
  },
  {
   "cell_type": "code",
   "execution_count": null,
   "id": "fb79eba0",
   "metadata": {
    "ExecuteTime": {
     "end_time": "2024-12-09T11:16:57.216354Z",
     "start_time": "2024-12-09T11:16:57.216341Z"
    },
    "scrolled": true
   },
   "outputs": [],
   "source": [
    "# Perform Recursive Feature Elimination (RFE) to select the top features based on their importance for a logistic regression model\n",
    "n_features = np.arange(2, len(X_train[num].columns) + 1)\n",
    "model = LogisticRegression()\n",
    "fs.rfe(X_train[num], y_train, n_features = n_features, model = model)\n",
    "\n",
    "# ~20 min"
   ]
  },
  {
   "cell_type": "markdown",
   "id": "bbcb618e",
   "metadata": {
    "ExecuteTime": {
     "end_time": "2024-12-01T21:10:30.180093Z",
     "start_time": "2024-12-01T21:10:30.150458Z"
    }
   },
   "source": [
    "Selected Features:\n",
    "\n",
    "['Age at Injury',\n",
    " 'Average Weekly Wage',\n",
    " 'Birth Year',\n",
    " 'IME-4 Count',\n",
    " 'Accident Date Year',\n",
    " 'Assembly Date Year',\n",
    " 'C-2 Date Year',\n",
    " 'IME-4 Count Log']"
   ]
  },
  {
   "cell_type": "markdown",
   "id": "c029789a",
   "metadata": {},
   "source": [
    "**Recursive Feature Elimination (RFE) - Random Forest Classifier**"
   ]
  },
  {
   "cell_type": "code",
   "execution_count": null,
   "id": "c93d35cf",
   "metadata": {
    "ExecuteTime": {
     "end_time": "2024-12-09T11:16:57.217960Z",
     "start_time": "2024-12-09T11:16:57.217945Z"
    },
    "scrolled": true
   },
   "outputs": [],
   "source": [
    "# Perform Recursive Feature Elimination (RFE) to select the top features based on their importance for a logistic regression model\n",
    "n_features = np.arange(2, len(X_train[num].columns) + 1)\n",
    "model = RandomForestClassifier()\n",
    "fs.rfe(X_train[num], y_train, n_features = n_features, model = model)\n",
    "\n",
    "# "
   ]
  },
  {
   "cell_type": "markdown",
   "id": "64a0f126",
   "metadata": {},
   "source": [
    "Selected Features:\n",
    "\n",
    "['Age at Injury',\n",
    " 'Average Weekly Wage',\n",
    " 'Birth Year',\n",
    " 'IME-4 Count',\n",
    " 'Number of Dependents',\n",
    " 'Accident Date Year',\n",
    " 'Accident Date Month',\n",
    " 'Accident Date Day',\n",
    " 'Assembly Date Year',\n",
    " 'Assembly Date Month',\n",
    " 'Assembly Date Day',\n",
    " 'C-2 Date Year',\n",
    " 'C-2 Date Month',\n",
    " 'C-2 Date Day',\n",
    " 'IME-4 Count Log',\n",
    " 'IME-4 Count Double Log']"
   ]
  },
  {
   "cell_type": "markdown",
   "id": "465e9417",
   "metadata": {},
   "source": [
    "## 3.4 Embedded Methods\n",
    "\n",
    "<a href=\"#top\">Top &#129033;</a>\n",
    "\n",
    "These methods use algorithms that inherently select features as part of the model’s learning process. Embedded methods are computationally efficient and tend to be more accurate than filter methods, as they consider feature interactions and model performance simultaneously.\n"
   ]
  },
  {
   "cell_type": "markdown",
   "id": "03581eda",
   "metadata": {},
   "source": [
    "**Least Absolute Shrinkage and Selection Operator (LASSO)**"
   ]
  },
  {
   "cell_type": "code",
   "execution_count": 65,
   "id": "c708b7a2",
   "metadata": {
    "ExecuteTime": {
     "end_time": "2024-12-09T11:52:26.103913Z",
     "start_time": "2024-12-09T11:52:25.029634Z"
    }
   },
   "outputs": [
    {
     "data": {
      "image/png": "[encoded data removed]",
      "text/plain": [
       "<Figure size 640x480 with 1 Axes>"
      ]
     },
     "metadata": {},
     "output_type": "display_data"
    },
    {
     "name": "stdout",
     "output_type": "stream",
     "text": [
      "\n",
      "Initial Features: 17\n",
      "\n",
      "['Age at Injury', 'Average Weekly Wage', 'Birth Year', 'IME-4 Count', 'Number of Dependents', 'Accident Date Year', 'Accident Date Month', 'Accident Date Day', 'Assembly Date Year', 'Assembly Date Month', 'Assembly Date Day', 'C-2 Date Year', 'C-2 Date Month', 'C-2 Date Day', 'IME-4 Count Log', 'IME-4 Count Double Log', 'Average Weekly Wage Sqrt']\n",
      "\n",
      "Decision for Numerical Features (lasso ≠ 0): 9\n",
      "\n",
      "['Age at Injury', 'Average Weekly Wage', 'Birth Year', 'IME-4 Count', 'Assembly Date Year', 'C-2 Date Month', 'C-2 Date Day', 'IME-4 Count Log', 'Average Weekly Wage Sqrt']\n"
     ]
    }
   ],
   "source": [
    "fs.lasso(X_train[num], y_train, alpha = 0.01)"
   ]
  },
  {
   "cell_type": "markdown",
   "id": "168fb2ac",
   "metadata": {},
   "source": [
    "**Extra Trees Classifier**"
   ]
  },
  {
   "cell_type": "code",
   "execution_count": 66,
   "id": "a28cbfa7",
   "metadata": {
    "ExecuteTime": {
     "end_time": "2024-12-09T11:56:27.974228Z",
     "start_time": "2024-12-09T11:52:26.105831Z"
    }
   },
   "outputs": [
    {
     "data": {
      "image/png": "[encoded data removed]",
      "text/plain": [
       "<Figure size 1200x800 with 1 Axes>"
      ]
     },
     "metadata": {},
     "output_type": "display_data"
    },
    {
     "name": "stdout",
     "output_type": "stream",
     "text": [
      "\n",
      "Initial Features: 45\n",
      "\n",
      "['Age at Injury', 'Average Weekly Wage', 'Birth Year', 'IME-4 Count', 'Number of Dependents', 'Accident Date Year', 'Accident Date Month', 'Accident Date Day', 'Assembly Date Year', 'Assembly Date Month', 'Assembly Date Day', 'C-2 Date Year', 'C-2 Date Month', 'C-2 Date Day', 'IME-4 Count Log', 'IME-4 Count Double Log', 'Average Weekly Wage Sqrt', 'Industry Code', 'WCIO Cause of Injury Code', 'WCIO Nature of Injury Code', 'WCIO Part Of Body Code', 'Carrier Name Enc', 'Carrier Type freq', 'County of Injury freq', 'District Name freq', 'Medical Fee Region freq', 'Accident Date Day of Week', 'Assembly Date Day of Week', 'C-2 Date Day of Week', 'WCIO Codes', 'Industry Sector Count Enc', 'Attorney/Representative Bin', 'Carrier Type_1A. PRIVATE', 'Carrier Type_2A. SIF', 'Carrier Type_3A. SELF PUBLIC', 'Carrier Type_4A. SELF PRIVATE', 'COVID-19 Indicator Enc', 'Gender Enc', 'Gender_F', 'Gender_M', 'Zip Code Valid', 'Age Group', 'C-3 Date Binary', 'First Hearing Date Binary', 'Insurance']\n",
      "\n",
      "Important Numerical Features:\n",
      "['Age at Injury', 'Average Weekly Wage', 'Birth Year', 'IME-4 Count', 'Number of Dependents', 'Accident Date Year', 'Accident Date Month', 'Accident Date Day', 'Assembly Date Year', 'Assembly Date Month', 'Assembly Date Day', 'C-2 Date Year', 'C-2 Date Month', 'C-2 Date Day', 'IME-4 Count Log', 'IME-4 Count Double Log', 'Average Weekly Wage Sqrt']\n",
      "\n",
      "Important Categorical Features:\n",
      "['Industry Code', 'WCIO Cause of Injury Code', 'WCIO Nature of Injury Code', 'WCIO Part Of Body Code', 'Carrier Name Enc', 'County of Injury freq', 'District Name freq', 'Medical Fee Region freq', 'Accident Date Day of Week', 'Assembly Date Day of Week', 'C-2 Date Day of Week', 'WCIO Codes', 'Industry Sector Count Enc', 'Attorney/Representative Bin', 'C-3 Date Binary', 'First Hearing Date Binary']\n"
     ]
    }
   ],
   "source": [
    "fs.plot_feature_importance(X_train[num], X_train_all_categ, y_train, \n",
    "                        n_estimators = 250)"
   ]
  },
  {
   "cell_type": "markdown",
   "id": "4933097d",
   "metadata": {
    "ExecuteTime": {
     "end_time": "2024-12-09T16:51:21.015124Z",
     "start_time": "2024-12-09T16:51:21.011174Z"
    }
   },
   "source": []
  },
  {
   "cell_type": "markdown",
   "id": "74c4ed64",
   "metadata": {},
   "source": [
    "[Go to Modeling &#129034;](#modeling)"
   ]
  },
  {
   "cell_type": "markdown",
   "id": "9fef8a8f",
   "metadata": {},
   "source": [
    "** **\n",
    "\n",
    "**<center>Numeric Variables</center>**\n",
    "\n",
    "\n",
    "\n",
    "\n",
    "\n",
    "| Variable                  | Variance | Correlation | RFE LR | RFE RF | Lasso       | Extra Trees | `Decision` |\n",
    "|---------------------------|----------|-------------|--------|--------|-------------|-------------|------------|\n",
    "| Accident Date Day         |   KEEP   |             |        |        |             |    KEEP     |            |\n",
    "| Accident Date Month       |   KEEP   |             |        |        |             |    KEEP     |            |\n",
    "| Accident Date Year        |   KEEP   |             |        |        |             |    KEEP     |            |\n",
    "| Age at Injury             |   KEEP   |             |        |        |    KEEP     |    KEEP     |            |\n",
    "| Assembly Date Day         |   KEEP   |             |        |        |             |    KEEP     |            |\n",
    "| Assembly Date Month       |   KEEP   |             |        |        |             |    KEEP     |            |\n",
    "| Assembly Date Year        |   KEEP   |             |        |        |    KEEP     |    KEEP     |            |\n",
    "| Average Weekly Wage       |   KEEP   |             |        |        |    KEEP     |    KEEP     |            |\n",
    "| Average Weekly Wage Sqrt  |   KEEP   |             |        |        |    KEEP     |    KEEP     |            |\n",
    "| Birth Year                |   KEEP   |             |        |        |    KEEP     |    KEEP     |            |\n",
    "| C-2 Date Day              |   KEEP   |             |        |        |    KEEP     |    KEEP     |            |\n",
    "| C-2 Date Month            |   KEEP   |             |        |        |    KEEP     |    KEEP     |            |\n",
    "| C-2 Date Year             |   KEEP   |             |        |        |             |    KEEP     |            |\n",
    "| IME-4 Count               |   KEEP   |             |        |        |    KEEP     |    KEEP     |            |\n",
    "| IME-4 Count Double Log    |   KEEP   |             |        |        |             |    KEEP     |            |\n",
    "| IME-4 Count Log           |   KEEP   |             |        |        |    KEEP     |    KEEP     |            |\n",
    "| Number of Dependents      |   KEEP   |             |        |        |             |    KEEP     |            |\n",
    "\n",
    "<br>\n",
    "\n",
    "**<center>Categorical Variables</center>**\n",
    "\n",
    "| Variable                          | Chi-Squared | MIC         | Extra Trees | `Decision`  |\n",
    "|-----------------------------------|-------------|-------------|-------------|-------------|\n",
    "| Accident Date Day of Week         | **DISCARD** |             |    KEEP     |             |\n",
    "| Age Group                         |    KEEP     |             |             |             |\n",
    "| Assembly Date Day of Week         | **DISCARD** |             |    KEEP     |             |\n",
    "| Attorney/Representative Bin       |    KEEP     |    KEEP     |    KEEP     |             |\n",
    "| C-2 Date Day of Week              |    KEEP     |             |    KEEP     |             |\n",
    "| C-3 Date Binary                   |    KEEP     |    KEEP     |    KEEP     |             |\n",
    "| Carrier Name Enc                  |    KEEP     |    KEEP     |    KEEP     |             |\n",
    "| Carrier Type freq                 |    KEEP     |             |             |             |\n",
    "| Carrier Type_1A. PRIVATE          |    KEEP     |             |             |             |\n",
    "| Carrier Type_2A. SIF              |    KEEP     |             |             |             |\n",
    "| Carrier Type_3A. SELF PUBLIC      |    KEEP     |             |             |             |\n",
    "| Carrier Type_4A. SELF PRIVATE     |    KEEP     |             |             |             |\n",
    "| COVID-19 Indicator Enc            |    KEEP     |             |             |             |\n",
    "| County of Injury freq             |    KEEP     |             |    KEEP     |             |\n",
    "| District Name freq                |    KEEP     |             |    KEEP     |             |\n",
    "| First Hearing Date Binary         |    KEEP     |    KEEP     |    KEEP     |             |\n",
    "| Gender Enc                        |    KEEP     |             |             |             |\n",
    "| Gender_F                          |    KEEP     |             |             |             |\n",
    "| Gender_M                          |    KEEP     |             |             |             |\n",
    "| Industry Code                     |    KEEP     |    KEEP     |    KEEP     |             |\n",
    "| Industry Sector Count Enc         |    KEEP     |             |    KEEP     |             |\n",
    "| Insurance                         |    KEEP     |             |             |             |\n",
    "| Medical Fee Region freq           |    KEEP     |             |    KEEP     |             |\n",
    "| WCIO Cause of Injury Code         |    KEEP     |    KEEP     |    KEEP     |             |\n",
    "| WCIO Codes                        |    KEEP     |    KEEP     |    KEEP     |             |\n",
    "| WCIO Nature of Injury Code        |    KEEP     |    KEEP     |    KEEP     |             |\n",
    "| WCIO Part Of Body Code            |    KEEP     |    KEEP     |    KEEP     |             |\n",
    "| Zip Code Valid                    | **DISCARD** |             |             | **DISCARD** |\n"
   ]
  },
  {
   "cell_type": "markdown",
   "id": "558307e6",
   "metadata": {},
   "source": [
    "## 3.4 Final Features\n",
    "\n",
    "<a href=\"#top\">Top &#129033;</a>"
   ]
  },
  {
   "cell_type": "code",
   "execution_count": null,
   "id": "bb19cce8",
   "metadata": {},
   "outputs": [],
   "source": []
  },
  {
   "cell_type": "markdown",
   "id": "89e5dbe8",
   "metadata": {},
   "source": [
    "# 4. Modeling\n",
    "\n",
    "<a class=\"anchor\" id=\"modeling\"></a>\n",
    "\n",
    "[Go to Feature Selection &#129034;](#feature-selection)\n",
    "\n",
    "<a href=\"#top\">Top &#129033;</a>\n",
    "\n",
    "Start by importing the correct datasets.\n"
   ]
  },
  {
   "cell_type": "code",
   "execution_count": 42,
   "id": "86f68251",
   "metadata": {
    "ExecuteTime": {
     "end_time": "2024-12-09T11:19:32.860260Z",
     "start_time": "2024-12-09T11:19:32.797625Z"
    }
   },
   "outputs": [],
   "source": [
    "from sklearn.linear_model import LogisticRegression, SGDClassifier  # Linear models\n",
    "from sklearn.tree import DecisionTreeClassifier  \n",
    "from sklearn.ensemble import RandomForestClassifier, GradientBoostingClassifier, AdaBoostClassifier, StackingClassifier, VotingClassifier\n",
    "from sklearn.discriminant_analysis import LinearDiscriminantAnalysis, QuadraticDiscriminantAnalysis  # Discriminant analysis models\n",
    "from xgboost import XGBClassifier   \n",
    "from sklearn.neural_network import MLPClassifier"
   ]
  },
  {
   "cell_type": "code",
   "execution_count": 41,
   "id": "18c92133",
   "metadata": {
    "ExecuteTime": {
     "end_time": "2024-12-09T11:19:32.795250Z",
     "start_time": "2024-12-09T11:19:29.623897Z"
    }
   },
   "outputs": [],
   "source": [
    "# X_train = pd.read_csv('./data/X_train_treated.csv', index_col = 'Claim Identifier')\n",
    "# X_val = pd.read_csv('./data/X_val_treated.csv', index_col = 'Claim Identifier')\n",
    "# y_train = pd.read_csv('./data/y_train_treated.csv', index_col = 'Claim Identifier')\n",
    "# y_val = pd.read_csv('./data/y_val_treated.csv', index_col = 'Claim Identifier')\n",
    "# test = pd.read_csv('./data/test_treated.csv', index_col = 'Claim Identifier')"
   ]
  },
  {
   "cell_type": "markdown",
   "id": "886c6d0e",
   "metadata": {},
   "source": [
    "And select the columns to use for predictions purposes"
   ]
  },
  {
   "cell_type": "code",
   "execution_count": null,
   "id": "79052707",
   "metadata": {
    "ExecuteTime": {
     "end_time": "2024-12-09T11:16:57.224724Z",
     "start_time": "2024-12-09T11:16:57.224712Z"
    }
   },
   "outputs": [],
   "source": [
    "columns = []\n",
    "\n",
    "X_train_filtered = X_train[columns]\n",
    "X_val_filtered = X_val[columns]\n",
    "test_filtered = test[columns]"
   ]
  },
  {
   "cell_type": "markdown",
   "id": "ea38a3e8",
   "metadata": {},
   "source": [
    "**Baseline Model**"
   ]
  },
  {
   "cell_type": "code",
   "execution_count": null,
   "id": "4bc4d60b",
   "metadata": {
    "ExecuteTime": {
     "end_time": "2024-12-09T11:16:57.226045Z",
     "start_time": "2024-12-09T11:16:57.226033Z"
    },
    "scrolled": true
   },
   "outputs": [],
   "source": [
    "model = LogisticRegression()\n",
    "model.fit(X_train, y_train)"
   ]
  },
  {
   "cell_type": "code",
   "execution_count": null,
   "id": "d5d2220f",
   "metadata": {
    "ExecuteTime": {
     "end_time": "2024-12-09T11:16:57.227254Z",
     "start_time": "2024-12-09T11:16:57.227242Z"
    }
   },
   "outputs": [],
   "source": [
    "train_pred = model.predict(X_train)\n",
    "val_pred = model.predict(X_val)"
   ]
  },
  {
   "cell_type": "code",
   "execution_count": null,
   "id": "315ee1bb",
   "metadata": {
    "ExecuteTime": {
     "end_time": "2024-12-09T11:16:57.228420Z",
     "start_time": "2024-12-09T11:16:57.228408Z"
    },
    "scrolled": true
   },
   "outputs": [],
   "source": [
    "m.metrics(y_train, train_pred, y_val, val_pred)"
   ]
  },
  {
   "cell_type": "markdown",
   "id": "fba75bee",
   "metadata": {},
   "source": [
    "**SGD Classifier**"
   ]
  },
  {
   "cell_type": "code",
   "execution_count": null,
   "id": "47440d82",
   "metadata": {
    "ExecuteTime": {
     "end_time": "2024-12-09T11:16:57.229697Z",
     "start_time": "2024-12-09T11:16:57.229685Z"
    }
   },
   "outputs": [],
   "source": [
    "sgd = SGDClassifier()\n",
    "sgd.fit(X_train, y_train)"
   ]
  },
  {
   "cell_type": "code",
   "execution_count": null,
   "id": "1b37c5b3",
   "metadata": {
    "ExecuteTime": {
     "end_time": "2024-12-09T11:16:57.230975Z",
     "start_time": "2024-12-09T11:16:57.230960Z"
    }
   },
   "outputs": [],
   "source": [
    "# Predict the target values for the training \n",
    "train_pred_sgd = sgd.predict(X_train)\n",
    "\n",
    "# Predict the target values for the validation\n",
    "val_pred_sgd = sgd.predict(X_val)"
   ]
  },
  {
   "cell_type": "code",
   "execution_count": null,
   "id": "4408f782",
   "metadata": {
    "ExecuteTime": {
     "end_time": "2024-12-09T11:16:57.232207Z",
     "start_time": "2024-12-09T11:16:57.232194Z"
    }
   },
   "outputs": [],
   "source": [
    "# Evaluate the performance of the SGDClassifier\n",
    "m.metrics(y_train, train_pred_sgd, y_val, val_pred_sgd)"
   ]
  },
  {
   "cell_type": "markdown",
   "id": "bd596059",
   "metadata": {},
   "source": [
    "**Decision Tree Classifier**"
   ]
  },
  {
   "cell_type": "code",
   "execution_count": 47,
   "id": "bfb76161",
   "metadata": {
    "ExecuteTime": {
     "end_time": "2024-12-09T11:21:28.863116Z",
     "start_time": "2024-12-09T11:21:18.916808Z"
    }
   },
   "outputs": [
    {
     "data": {
      "text/html": [
       "<style>#sk-container-id-2 {color: black;background-color: white;}#sk-container-id-2 pre{padding: 0;}#sk-container-id-2 div.sk-toggleable {background-color: white;}#sk-container-id-2 label.sk-toggleable__label {cursor: pointer;display: block;width: 100%;margin-bottom: 0;padding: 0.3em;box-sizing: border-box;text-align: center;}#sk-container-id-2 label.sk-toggleable__label-arrow:before {content: \"▸\";float: left;margin-right: 0.25em;color: #696969;}#sk-container-id-2 label.sk-toggleable__label-arrow:hover:before {color: black;}#sk-container-id-2 div.sk-estimator:hover label.sk-toggleable__label-arrow:before {color: black;}#sk-container-id-2 div.sk-toggleable__content {max-height: 0;max-width: 0;overflow: hidden;text-align: left;background-color: #f0f8ff;}#sk-container-id-2 div.sk-toggleable__content pre {margin: 0.2em;color: black;border-radius: 0.25em;background-color: #f0f8ff;}#sk-container-id-2 input.sk-toggleable__control:checked~div.sk-toggleable__content {max-height: 200px;max-width: 100%;overflow: auto;}#sk-container-id-2 input.sk-toggleable__control:checked~label.sk-toggleable__label-arrow:before {content: \"▾\";}#sk-container-id-2 div.sk-estimator input.sk-toggleable__control:checked~label.sk-toggleable__label {background-color: #d4ebff;}#sk-container-id-2 div.sk-label input.sk-toggleable__control:checked~label.sk-toggleable__label {background-color: #d4ebff;}#sk-container-id-2 input.sk-hidden--visually {border: 0;clip: rect(1px 1px 1px 1px);clip: rect(1px, 1px, 1px, 1px);height: 1px;margin: -1px;overflow: hidden;padding: 0;position: absolute;width: 1px;}#sk-container-id-2 div.sk-estimator {font-family: monospace;background-color: #f0f8ff;border: 1px dotted black;border-radius: 0.25em;box-sizing: border-box;margin-bottom: 0.5em;}#sk-container-id-2 div.sk-estimator:hover {background-color: #d4ebff;}#sk-container-id-2 div.sk-parallel-item::after {content: \"\";width: 100%;border-bottom: 1px solid gray;flex-grow: 1;}#sk-container-id-2 div.sk-label:hover label.sk-toggleable__label {background-color: #d4ebff;}#sk-container-id-2 div.sk-serial::before {content: \"\";position: absolute;border-left: 1px solid gray;box-sizing: border-box;top: 0;bottom: 0;left: 50%;z-index: 0;}#sk-container-id-2 div.sk-serial {display: flex;flex-direction: column;align-items: center;background-color: white;padding-right: 0.2em;padding-left: 0.2em;position: relative;}#sk-container-id-2 div.sk-item {position: relative;z-index: 1;}#sk-container-id-2 div.sk-parallel {display: flex;align-items: stretch;justify-content: center;background-color: white;position: relative;}#sk-container-id-2 div.sk-item::before, #sk-container-id-2 div.sk-parallel-item::before {content: \"\";position: absolute;border-left: 1px solid gray;box-sizing: border-box;top: 0;bottom: 0;left: 50%;z-index: -1;}#sk-container-id-2 div.sk-parallel-item {display: flex;flex-direction: column;z-index: 1;position: relative;background-color: white;}#sk-container-id-2 div.sk-parallel-item:first-child::after {align-self: flex-end;width: 50%;}#sk-container-id-2 div.sk-parallel-item:last-child::after {align-self: flex-start;width: 50%;}#sk-container-id-2 div.sk-parallel-item:only-child::after {width: 0;}#sk-container-id-2 div.sk-dashed-wrapped {border: 1px dashed gray;margin: 0 0.4em 0.5em 0.4em;box-sizing: border-box;padding-bottom: 0.4em;background-color: white;}#sk-container-id-2 div.sk-label label {font-family: monospace;font-weight: bold;display: inline-block;line-height: 1.2em;}#sk-container-id-2 div.sk-label-container {text-align: center;}#sk-container-id-2 div.sk-container {/* jupyter's `normalize.less` sets `[hidden] { display: none; }` but bootstrap.min.css set `[hidden] { display: none !important; }` so we also need the `!important` here to be able to override the default hidden behavior on the sphinx rendered scikit-learn.org. See: https://github.com/scikit-learn/scikit-learn/issues/21755 */display: inline-block !important;position: relative;}#sk-container-id-2 div.sk-text-repr-fallback {display: none;}</style><div id=\"sk-container-id-2\" class=\"sk-top-container\"><div class=\"sk-text-repr-fallback\"><pre>DecisionTreeClassifier()</pre><b>In a Jupyter environment, please rerun this cell to show the HTML representation or trust the notebook. <br />On GitHub, the HTML representation is unable to render, please try loading this page with nbviewer.org.</b></div><div class=\"sk-container\" hidden><div class=\"sk-item\"><div class=\"sk-estimator sk-toggleable\"><input class=\"sk-toggleable__control sk-hidden--visually\" id=\"sk-estimator-id-2\" type=\"checkbox\" checked><label for=\"sk-estimator-id-2\" class=\"sk-toggleable__label sk-toggleable__label-arrow\">DecisionTreeClassifier</label><div class=\"sk-toggleable__content\"><pre>DecisionTreeClassifier()</pre></div></div></div></div></div>"
      ],
      "text/plain": [
       "DecisionTreeClassifier()"
      ]
     },
     "execution_count": 47,
     "metadata": {},
     "output_type": "execute_result"
    }
   ],
   "source": [
    "dt = DecisionTreeClassifier()\n",
    "dt.fit(X_train, y_train)"
   ]
  },
  {
   "cell_type": "code",
   "execution_count": 48,
   "id": "b146c994",
   "metadata": {
    "ExecuteTime": {
     "end_time": "2024-12-09T11:21:29.303035Z",
     "start_time": "2024-12-09T11:21:28.865124Z"
    }
   },
   "outputs": [],
   "source": [
    "# Predict the target values for the training\n",
    "train_pred_dt = dt.predict(X_train)\n",
    "\n",
    "# Predict the target values for the validation\n",
    "val_pred_dt = dt.predict(X_val)"
   ]
  },
  {
   "cell_type": "code",
   "execution_count": 49,
   "id": "9d4e916b",
   "metadata": {
    "ExecuteTime": {
     "end_time": "2024-12-09T11:21:30.019483Z",
     "start_time": "2024-12-09T11:21:29.305013Z"
    },
    "scrolled": true
   },
   "outputs": [
    {
     "name": "stdout",
     "output_type": "stream",
     "text": [
      "______________________________________________________________________\n",
      "                                TRAIN                                 \n",
      "----------------------------------------------------------------------\n",
      "              precision    recall  f1-score   support\n",
      "\n",
      "           0       1.00      1.00      1.00      9498\n",
      "           1       1.00      1.00      1.00    229235\n",
      "           2       1.00      1.00      1.00     54891\n",
      "           3       1.00      1.00      1.00    117056\n",
      "           4       1.00      1.00      1.00     38502\n",
      "           5       1.00      1.00      1.00      3359\n",
      "           6       1.00      1.00      1.00        77\n",
      "           7       1.00      1.00      1.00       374\n",
      "\n",
      "    accuracy                           1.00    452992\n",
      "   macro avg       1.00      1.00      1.00    452992\n",
      "weighted avg       1.00      1.00      1.00    452992\n",
      "\n",
      "______________________________________________________________________\n",
      "                                VALIDATION                                 \n",
      "----------------------------------------------------------------------\n",
      "              precision    recall  f1-score   support\n",
      "\n",
      "           0       0.41      0.45      0.43      2495\n",
      "           1       0.84      0.83      0.84     58216\n",
      "           2       0.21      0.24      0.22     13781\n",
      "           3       0.67      0.65      0.66     29701\n",
      "           4       0.53      0.53      0.53      9656\n",
      "           5       0.08      0.09      0.08       842\n",
      "           6       0.00      0.00      0.00        20\n",
      "           7       0.19      0.16      0.17        94\n",
      "\n",
      "    accuracy                           0.67    114805\n",
      "   macro avg       0.37      0.37      0.37    114805\n",
      "weighted avg       0.68      0.67      0.68    114805\n",
      "\n"
     ]
    }
   ],
   "source": [
    "# Evaluate the performance of the DecisionTreeClassifier\n",
    "m.metrics(y_train, train_pred_dt, y_val, val_pred_dt)"
   ]
  },
  {
   "cell_type": "markdown",
   "id": "f5d61d54",
   "metadata": {},
   "source": [
    "**Random Forest Classifier**"
   ]
  },
  {
   "cell_type": "code",
   "execution_count": 50,
   "id": "e4bea90d",
   "metadata": {
    "ExecuteTime": {
     "end_time": "2024-12-09T11:23:24.174083Z",
     "start_time": "2024-12-09T11:21:30.022703Z"
    }
   },
   "outputs": [
    {
     "data": {
      "text/html": [
       "<style>#sk-container-id-3 {color: black;background-color: white;}#sk-container-id-3 pre{padding: 0;}#sk-container-id-3 div.sk-toggleable {background-color: white;}#sk-container-id-3 label.sk-toggleable__label {cursor: pointer;display: block;width: 100%;margin-bottom: 0;padding: 0.3em;box-sizing: border-box;text-align: center;}#sk-container-id-3 label.sk-toggleable__label-arrow:before {content: \"▸\";float: left;margin-right: 0.25em;color: #696969;}#sk-container-id-3 label.sk-toggleable__label-arrow:hover:before {color: black;}#sk-container-id-3 div.sk-estimator:hover label.sk-toggleable__label-arrow:before {color: black;}#sk-container-id-3 div.sk-toggleable__content {max-height: 0;max-width: 0;overflow: hidden;text-align: left;background-color: #f0f8ff;}#sk-container-id-3 div.sk-toggleable__content pre {margin: 0.2em;color: black;border-radius: 0.25em;background-color: #f0f8ff;}#sk-container-id-3 input.sk-toggleable__control:checked~div.sk-toggleable__content {max-height: 200px;max-width: 100%;overflow: auto;}#sk-container-id-3 input.sk-toggleable__control:checked~label.sk-toggleable__label-arrow:before {content: \"▾\";}#sk-container-id-3 div.sk-estimator input.sk-toggleable__control:checked~label.sk-toggleable__label {background-color: #d4ebff;}#sk-container-id-3 div.sk-label input.sk-toggleable__control:checked~label.sk-toggleable__label {background-color: #d4ebff;}#sk-container-id-3 input.sk-hidden--visually {border: 0;clip: rect(1px 1px 1px 1px);clip: rect(1px, 1px, 1px, 1px);height: 1px;margin: -1px;overflow: hidden;padding: 0;position: absolute;width: 1px;}#sk-container-id-3 div.sk-estimator {font-family: monospace;background-color: #f0f8ff;border: 1px dotted black;border-radius: 0.25em;box-sizing: border-box;margin-bottom: 0.5em;}#sk-container-id-3 div.sk-estimator:hover {background-color: #d4ebff;}#sk-container-id-3 div.sk-parallel-item::after {content: \"\";width: 100%;border-bottom: 1px solid gray;flex-grow: 1;}#sk-container-id-3 div.sk-label:hover label.sk-toggleable__label {background-color: #d4ebff;}#sk-container-id-3 div.sk-serial::before {content: \"\";position: absolute;border-left: 1px solid gray;box-sizing: border-box;top: 0;bottom: 0;left: 50%;z-index: 0;}#sk-container-id-3 div.sk-serial {display: flex;flex-direction: column;align-items: center;background-color: white;padding-right: 0.2em;padding-left: 0.2em;position: relative;}#sk-container-id-3 div.sk-item {position: relative;z-index: 1;}#sk-container-id-3 div.sk-parallel {display: flex;align-items: stretch;justify-content: center;background-color: white;position: relative;}#sk-container-id-3 div.sk-item::before, #sk-container-id-3 div.sk-parallel-item::before {content: \"\";position: absolute;border-left: 1px solid gray;box-sizing: border-box;top: 0;bottom: 0;left: 50%;z-index: -1;}#sk-container-id-3 div.sk-parallel-item {display: flex;flex-direction: column;z-index: 1;position: relative;background-color: white;}#sk-container-id-3 div.sk-parallel-item:first-child::after {align-self: flex-end;width: 50%;}#sk-container-id-3 div.sk-parallel-item:last-child::after {align-self: flex-start;width: 50%;}#sk-container-id-3 div.sk-parallel-item:only-child::after {width: 0;}#sk-container-id-3 div.sk-dashed-wrapped {border: 1px dashed gray;margin: 0 0.4em 0.5em 0.4em;box-sizing: border-box;padding-bottom: 0.4em;background-color: white;}#sk-container-id-3 div.sk-label label {font-family: monospace;font-weight: bold;display: inline-block;line-height: 1.2em;}#sk-container-id-3 div.sk-label-container {text-align: center;}#sk-container-id-3 div.sk-container {/* jupyter's `normalize.less` sets `[hidden] { display: none; }` but bootstrap.min.css set `[hidden] { display: none !important; }` so we also need the `!important` here to be able to override the default hidden behavior on the sphinx rendered scikit-learn.org. See: https://github.com/scikit-learn/scikit-learn/issues/21755 */display: inline-block !important;position: relative;}#sk-container-id-3 div.sk-text-repr-fallback {display: none;}</style><div id=\"sk-container-id-3\" class=\"sk-top-container\"><div class=\"sk-text-repr-fallback\"><pre>RandomForestClassifier()</pre><b>In a Jupyter environment, please rerun this cell to show the HTML representation or trust the notebook. <br />On GitHub, the HTML representation is unable to render, please try loading this page with nbviewer.org.</b></div><div class=\"sk-container\" hidden><div class=\"sk-item\"><div class=\"sk-estimator sk-toggleable\"><input class=\"sk-toggleable__control sk-hidden--visually\" id=\"sk-estimator-id-3\" type=\"checkbox\" checked><label for=\"sk-estimator-id-3\" class=\"sk-toggleable__label sk-toggleable__label-arrow\">RandomForestClassifier</label><div class=\"sk-toggleable__content\"><pre>RandomForestClassifier()</pre></div></div></div></div></div>"
      ],
      "text/plain": [
       "RandomForestClassifier()"
      ]
     },
     "execution_count": 50,
     "metadata": {},
     "output_type": "execute_result"
    }
   ],
   "source": [
    "# Initialize the RandomForestClassifier\n",
    "rf = RandomForestClassifier()\n",
    "rf.fit(X_train, y_train)"
   ]
  },
  {
   "cell_type": "code",
   "execution_count": 51,
   "id": "468bda38",
   "metadata": {
    "ExecuteTime": {
     "end_time": "2024-12-09T11:23:44.665762Z",
     "start_time": "2024-12-09T11:23:24.175878Z"
    }
   },
   "outputs": [],
   "source": [
    "# Predict the target values for the training\n",
    "train_pred_rf = rf.predict(X_train)\n",
    "\n",
    "# Predict the target values for the validation\n",
    "val_pred_rf = rf.predict(X_val)"
   ]
  },
  {
   "cell_type": "code",
   "execution_count": 52,
   "id": "49c7742c",
   "metadata": {
    "ExecuteTime": {
     "end_time": "2024-12-09T11:23:45.356798Z",
     "start_time": "2024-12-09T11:23:44.667280Z"
    }
   },
   "outputs": [
    {
     "name": "stdout",
     "output_type": "stream",
     "text": [
      "______________________________________________________________________\n",
      "                                TRAIN                                 \n",
      "----------------------------------------------------------------------\n",
      "              precision    recall  f1-score   support\n",
      "\n",
      "           0       1.00      1.00      1.00      9498\n",
      "           1       1.00      1.00      1.00    229235\n",
      "           2       1.00      1.00      1.00     54891\n",
      "           3       1.00      1.00      1.00    117056\n",
      "           4       1.00      1.00      1.00     38502\n",
      "           5       1.00      1.00      1.00      3359\n",
      "           6       1.00      1.00      1.00        77\n",
      "           7       1.00      1.00      1.00       374\n",
      "\n",
      "    accuracy                           1.00    452992\n",
      "   macro avg       1.00      1.00      1.00    452992\n",
      "weighted avg       1.00      1.00      1.00    452992\n",
      "\n",
      "______________________________________________________________________\n",
      "                                VALIDATION                                 \n",
      "----------------------------------------------------------------------\n",
      "              precision    recall  f1-score   support\n",
      "\n",
      "           0       0.72      0.50      0.59      2495\n",
      "           1       0.85      0.96      0.90     58216\n",
      "           2       0.54      0.07      0.13     13781\n",
      "           3       0.69      0.89      0.78     29701\n",
      "           4       0.74      0.52      0.61      9656\n",
      "           5       0.00      0.00      0.00       842\n",
      "           6       0.00      0.00      0.00        20\n",
      "           7       0.00      0.00      0.00        94\n",
      "\n",
      "    accuracy                           0.78    114805\n",
      "   macro avg       0.44      0.37      0.38    114805\n",
      "weighted avg       0.75      0.78      0.74    114805\n",
      "\n"
     ]
    }
   ],
   "source": [
    "m.metrics(y_train, train_pred_rf, y_val, val_pred_rf)"
   ]
  },
  {
   "cell_type": "markdown",
   "id": "58a91003",
   "metadata": {},
   "source": [
    "**Gradient Boosting Classifier**"
   ]
  },
  {
   "cell_type": "code",
   "execution_count": 53,
   "id": "5934afdf",
   "metadata": {
    "ExecuteTime": {
     "end_time": "2024-12-09T11:41:33.950670Z",
     "start_time": "2024-12-09T11:23:45.358720Z"
    }
   },
   "outputs": [
    {
     "data": {
      "text/html": [
       "<style>#sk-container-id-4 {color: black;background-color: white;}#sk-container-id-4 pre{padding: 0;}#sk-container-id-4 div.sk-toggleable {background-color: white;}#sk-container-id-4 label.sk-toggleable__label {cursor: pointer;display: block;width: 100%;margin-bottom: 0;padding: 0.3em;box-sizing: border-box;text-align: center;}#sk-container-id-4 label.sk-toggleable__label-arrow:before {content: \"▸\";float: left;margin-right: 0.25em;color: #696969;}#sk-container-id-4 label.sk-toggleable__label-arrow:hover:before {color: black;}#sk-container-id-4 div.sk-estimator:hover label.sk-toggleable__label-arrow:before {color: black;}#sk-container-id-4 div.sk-toggleable__content {max-height: 0;max-width: 0;overflow: hidden;text-align: left;background-color: #f0f8ff;}#sk-container-id-4 div.sk-toggleable__content pre {margin: 0.2em;color: black;border-radius: 0.25em;background-color: #f0f8ff;}#sk-container-id-4 input.sk-toggleable__control:checked~div.sk-toggleable__content {max-height: 200px;max-width: 100%;overflow: auto;}#sk-container-id-4 input.sk-toggleable__control:checked~label.sk-toggleable__label-arrow:before {content: \"▾\";}#sk-container-id-4 div.sk-estimator input.sk-toggleable__control:checked~label.sk-toggleable__label {background-color: #d4ebff;}#sk-container-id-4 div.sk-label input.sk-toggleable__control:checked~label.sk-toggleable__label {background-color: #d4ebff;}#sk-container-id-4 input.sk-hidden--visually {border: 0;clip: rect(1px 1px 1px 1px);clip: rect(1px, 1px, 1px, 1px);height: 1px;margin: -1px;overflow: hidden;padding: 0;position: absolute;width: 1px;}#sk-container-id-4 div.sk-estimator {font-family: monospace;background-color: #f0f8ff;border: 1px dotted black;border-radius: 0.25em;box-sizing: border-box;margin-bottom: 0.5em;}#sk-container-id-4 div.sk-estimator:hover {background-color: #d4ebff;}#sk-container-id-4 div.sk-parallel-item::after {content: \"\";width: 100%;border-bottom: 1px solid gray;flex-grow: 1;}#sk-container-id-4 div.sk-label:hover label.sk-toggleable__label {background-color: #d4ebff;}#sk-container-id-4 div.sk-serial::before {content: \"\";position: absolute;border-left: 1px solid gray;box-sizing: border-box;top: 0;bottom: 0;left: 50%;z-index: 0;}#sk-container-id-4 div.sk-serial {display: flex;flex-direction: column;align-items: center;background-color: white;padding-right: 0.2em;padding-left: 0.2em;position: relative;}#sk-container-id-4 div.sk-item {position: relative;z-index: 1;}#sk-container-id-4 div.sk-parallel {display: flex;align-items: stretch;justify-content: center;background-color: white;position: relative;}#sk-container-id-4 div.sk-item::before, #sk-container-id-4 div.sk-parallel-item::before {content: \"\";position: absolute;border-left: 1px solid gray;box-sizing: border-box;top: 0;bottom: 0;left: 50%;z-index: -1;}#sk-container-id-4 div.sk-parallel-item {display: flex;flex-direction: column;z-index: 1;position: relative;background-color: white;}#sk-container-id-4 div.sk-parallel-item:first-child::after {align-self: flex-end;width: 50%;}#sk-container-id-4 div.sk-parallel-item:last-child::after {align-self: flex-start;width: 50%;}#sk-container-id-4 div.sk-parallel-item:only-child::after {width: 0;}#sk-container-id-4 div.sk-dashed-wrapped {border: 1px dashed gray;margin: 0 0.4em 0.5em 0.4em;box-sizing: border-box;padding-bottom: 0.4em;background-color: white;}#sk-container-id-4 div.sk-label label {font-family: monospace;font-weight: bold;display: inline-block;line-height: 1.2em;}#sk-container-id-4 div.sk-label-container {text-align: center;}#sk-container-id-4 div.sk-container {/* jupyter's `normalize.less` sets `[hidden] { display: none; }` but bootstrap.min.css set `[hidden] { display: none !important; }` so we also need the `!important` here to be able to override the default hidden behavior on the sphinx rendered scikit-learn.org. See: https://github.com/scikit-learn/scikit-learn/issues/21755 */display: inline-block !important;position: relative;}#sk-container-id-4 div.sk-text-repr-fallback {display: none;}</style><div id=\"sk-container-id-4\" class=\"sk-top-container\"><div class=\"sk-text-repr-fallback\"><pre>GradientBoostingClassifier()</pre><b>In a Jupyter environment, please rerun this cell to show the HTML representation or trust the notebook. <br />On GitHub, the HTML representation is unable to render, please try loading this page with nbviewer.org.</b></div><div class=\"sk-container\" hidden><div class=\"sk-item\"><div class=\"sk-estimator sk-toggleable\"><input class=\"sk-toggleable__control sk-hidden--visually\" id=\"sk-estimator-id-4\" type=\"checkbox\" checked><label for=\"sk-estimator-id-4\" class=\"sk-toggleable__label sk-toggleable__label-arrow\">GradientBoostingClassifier</label><div class=\"sk-toggleable__content\"><pre>GradientBoostingClassifier()</pre></div></div></div></div></div>"
      ],
      "text/plain": [
       "GradientBoostingClassifier()"
      ]
     },
     "execution_count": 53,
     "metadata": {},
     "output_type": "execute_result"
    }
   ],
   "source": [
    "# Initialize the GradientBoostingClassifier \n",
    "gb = GradientBoostingClassifier()\n",
    "gb.fit(X_train, y_train)"
   ]
  },
  {
   "cell_type": "code",
   "execution_count": 54,
   "id": "0228a30b",
   "metadata": {
    "ExecuteTime": {
     "end_time": "2024-12-09T11:41:42.536169Z",
     "start_time": "2024-12-09T11:41:33.955194Z"
    }
   },
   "outputs": [],
   "source": [
    "# Predict the target values for the training \n",
    "train_pred_gb = gb.predict(X_train)\n",
    "\n",
    "# Predict the target values for the validation\n",
    "val_pred_gb = gb.predict(X_val)"
   ]
  },
  {
   "cell_type": "code",
   "execution_count": 55,
   "id": "727abc01",
   "metadata": {
    "ExecuteTime": {
     "end_time": "2024-12-09T11:41:43.270842Z",
     "start_time": "2024-12-09T11:41:42.537936Z"
    }
   },
   "outputs": [
    {
     "name": "stdout",
     "output_type": "stream",
     "text": [
      "______________________________________________________________________\n",
      "                                TRAIN                                 \n",
      "----------------------------------------------------------------------\n",
      "              precision    recall  f1-score   support\n",
      "\n",
      "           0       0.74      0.49      0.59      9498\n",
      "           1       0.85      0.96      0.90    229235\n",
      "           2       0.51      0.06      0.11     54891\n",
      "           3       0.69      0.89      0.77    117056\n",
      "           4       0.70      0.55      0.62     38502\n",
      "           5       0.64      0.01      0.01      3359\n",
      "           6       0.58      0.09      0.16        77\n",
      "           7       0.31      0.21      0.25       374\n",
      "\n",
      "    accuracy                           0.78    452992\n",
      "   macro avg       0.63      0.41      0.43    452992\n",
      "weighted avg       0.75      0.78      0.73    452992\n",
      "\n",
      "______________________________________________________________________\n",
      "                                VALIDATION                                 \n",
      "----------------------------------------------------------------------\n",
      "              precision    recall  f1-score   support\n",
      "\n",
      "           0       0.57      0.51      0.54      2495\n",
      "           1       0.85      0.95      0.89     58216\n",
      "           2       0.50      0.06      0.11     13781\n",
      "           3       0.68      0.87      0.77     29701\n",
      "           4       0.70      0.55      0.62      9656\n",
      "           5       0.00      0.00      0.00       842\n",
      "           6       0.00      0.00      0.00        20\n",
      "           7       0.23      0.12      0.16        94\n",
      "\n",
      "    accuracy                           0.77    114805\n",
      "   macro avg       0.44      0.38      0.38    114805\n",
      "weighted avg       0.74      0.77      0.73    114805\n",
      "\n"
     ]
    }
   ],
   "source": [
    "# Evaluate the performance of the GradientBoostingClassifier\n",
    "m.metrics(y_train, train_pred_gb, y_val, val_pred_gb)"
   ]
  },
  {
   "cell_type": "markdown",
   "id": "cae41d88",
   "metadata": {},
   "source": [
    "[Go to Modeling &#129034;](#modeling)\n",
    "\n",
    "<a href=\"#top\">Top &#129033;</a>\n",
    "<br>\n",
    "\n",
    "**AdaBoost Classifier**"
   ]
  },
  {
   "cell_type": "code",
   "execution_count": 56,
   "id": "5a09f977",
   "metadata": {
    "ExecuteTime": {
     "end_time": "2024-12-09T11:42:15.696692Z",
     "start_time": "2024-12-09T11:41:43.274634Z"
    }
   },
   "outputs": [
    {
     "data": {
      "text/html": [
       "<style>#sk-container-id-5 {color: black;background-color: white;}#sk-container-id-5 pre{padding: 0;}#sk-container-id-5 div.sk-toggleable {background-color: white;}#sk-container-id-5 label.sk-toggleable__label {cursor: pointer;display: block;width: 100%;margin-bottom: 0;padding: 0.3em;box-sizing: border-box;text-align: center;}#sk-container-id-5 label.sk-toggleable__label-arrow:before {content: \"▸\";float: left;margin-right: 0.25em;color: #696969;}#sk-container-id-5 label.sk-toggleable__label-arrow:hover:before {color: black;}#sk-container-id-5 div.sk-estimator:hover label.sk-toggleable__label-arrow:before {color: black;}#sk-container-id-5 div.sk-toggleable__content {max-height: 0;max-width: 0;overflow: hidden;text-align: left;background-color: #f0f8ff;}#sk-container-id-5 div.sk-toggleable__content pre {margin: 0.2em;color: black;border-radius: 0.25em;background-color: #f0f8ff;}#sk-container-id-5 input.sk-toggleable__control:checked~div.sk-toggleable__content {max-height: 200px;max-width: 100%;overflow: auto;}#sk-container-id-5 input.sk-toggleable__control:checked~label.sk-toggleable__label-arrow:before {content: \"▾\";}#sk-container-id-5 div.sk-estimator input.sk-toggleable__control:checked~label.sk-toggleable__label {background-color: #d4ebff;}#sk-container-id-5 div.sk-label input.sk-toggleable__control:checked~label.sk-toggleable__label {background-color: #d4ebff;}#sk-container-id-5 input.sk-hidden--visually {border: 0;clip: rect(1px 1px 1px 1px);clip: rect(1px, 1px, 1px, 1px);height: 1px;margin: -1px;overflow: hidden;padding: 0;position: absolute;width: 1px;}#sk-container-id-5 div.sk-estimator {font-family: monospace;background-color: #f0f8ff;border: 1px dotted black;border-radius: 0.25em;box-sizing: border-box;margin-bottom: 0.5em;}#sk-container-id-5 div.sk-estimator:hover {background-color: #d4ebff;}#sk-container-id-5 div.sk-parallel-item::after {content: \"\";width: 100%;border-bottom: 1px solid gray;flex-grow: 1;}#sk-container-id-5 div.sk-label:hover label.sk-toggleable__label {background-color: #d4ebff;}#sk-container-id-5 div.sk-serial::before {content: \"\";position: absolute;border-left: 1px solid gray;box-sizing: border-box;top: 0;bottom: 0;left: 50%;z-index: 0;}#sk-container-id-5 div.sk-serial {display: flex;flex-direction: column;align-items: center;background-color: white;padding-right: 0.2em;padding-left: 0.2em;position: relative;}#sk-container-id-5 div.sk-item {position: relative;z-index: 1;}#sk-container-id-5 div.sk-parallel {display: flex;align-items: stretch;justify-content: center;background-color: white;position: relative;}#sk-container-id-5 div.sk-item::before, #sk-container-id-5 div.sk-parallel-item::before {content: \"\";position: absolute;border-left: 1px solid gray;box-sizing: border-box;top: 0;bottom: 0;left: 50%;z-index: -1;}#sk-container-id-5 div.sk-parallel-item {display: flex;flex-direction: column;z-index: 1;position: relative;background-color: white;}#sk-container-id-5 div.sk-parallel-item:first-child::after {align-self: flex-end;width: 50%;}#sk-container-id-5 div.sk-parallel-item:last-child::after {align-self: flex-start;width: 50%;}#sk-container-id-5 div.sk-parallel-item:only-child::after {width: 0;}#sk-container-id-5 div.sk-dashed-wrapped {border: 1px dashed gray;margin: 0 0.4em 0.5em 0.4em;box-sizing: border-box;padding-bottom: 0.4em;background-color: white;}#sk-container-id-5 div.sk-label label {font-family: monospace;font-weight: bold;display: inline-block;line-height: 1.2em;}#sk-container-id-5 div.sk-label-container {text-align: center;}#sk-container-id-5 div.sk-container {/* jupyter's `normalize.less` sets `[hidden] { display: none; }` but bootstrap.min.css set `[hidden] { display: none !important; }` so we also need the `!important` here to be able to override the default hidden behavior on the sphinx rendered scikit-learn.org. See: https://github.com/scikit-learn/scikit-learn/issues/21755 */display: inline-block !important;position: relative;}#sk-container-id-5 div.sk-text-repr-fallback {display: none;}</style><div id=\"sk-container-id-5\" class=\"sk-top-container\"><div class=\"sk-text-repr-fallback\"><pre>AdaBoostClassifier()</pre><b>In a Jupyter environment, please rerun this cell to show the HTML representation or trust the notebook. <br />On GitHub, the HTML representation is unable to render, please try loading this page with nbviewer.org.</b></div><div class=\"sk-container\" hidden><div class=\"sk-item\"><div class=\"sk-estimator sk-toggleable\"><input class=\"sk-toggleable__control sk-hidden--visually\" id=\"sk-estimator-id-5\" type=\"checkbox\" checked><label for=\"sk-estimator-id-5\" class=\"sk-toggleable__label sk-toggleable__label-arrow\">AdaBoostClassifier</label><div class=\"sk-toggleable__content\"><pre>AdaBoostClassifier()</pre></div></div></div></div></div>"
      ],
      "text/plain": [
       "AdaBoostClassifier()"
      ]
     },
     "execution_count": 56,
     "metadata": {},
     "output_type": "execute_result"
    }
   ],
   "source": [
    "# Initialize the AdaBoostClassifier\n",
    "ab = AdaBoostClassifier()\n",
    "ab.fit(X_train, y_train)"
   ]
  },
  {
   "cell_type": "code",
   "execution_count": 57,
   "id": "f35e6577",
   "metadata": {
    "ExecuteTime": {
     "end_time": "2024-12-09T11:42:21.835369Z",
     "start_time": "2024-12-09T11:42:15.698145Z"
    }
   },
   "outputs": [],
   "source": [
    "# Predict the target values for the training\n",
    "train_pred_ab = ab.predict(X_train)\n",
    "\n",
    "# Predict the target values for the validation\n",
    "val_pred_ab = ab.predict(X_val)"
   ]
  },
  {
   "cell_type": "code",
   "execution_count": 58,
   "id": "9f81b0db",
   "metadata": {
    "ExecuteTime": {
     "end_time": "2024-12-09T11:42:22.568237Z",
     "start_time": "2024-12-09T11:42:21.836824Z"
    }
   },
   "outputs": [
    {
     "name": "stdout",
     "output_type": "stream",
     "text": [
      "______________________________________________________________________\n",
      "                                TRAIN                                 \n",
      "----------------------------------------------------------------------\n",
      "              precision    recall  f1-score   support\n",
      "\n",
      "           0       0.17      0.63      0.27      9498\n",
      "           1       0.85      0.84      0.85    229235\n",
      "           2       0.42      0.04      0.07     54891\n",
      "           3       0.63      0.89      0.74    117056\n",
      "           4       0.56      0.30      0.39     38502\n",
      "           5       0.00      0.00      0.00      3359\n",
      "           6       0.01      0.04      0.01        77\n",
      "           7       0.20      0.58      0.30       374\n",
      "\n",
      "    accuracy                           0.70    452992\n",
      "   macro avg       0.35      0.41      0.33    452992\n",
      "weighted avg       0.70      0.70      0.67    452992\n",
      "\n",
      "______________________________________________________________________\n",
      "                                VALIDATION                                 \n",
      "----------------------------------------------------------------------\n",
      "              precision    recall  f1-score   support\n",
      "\n",
      "           0       0.17      0.65      0.27      2495\n",
      "           1       0.85      0.83      0.84     58216\n",
      "           2       0.42      0.04      0.07     13781\n",
      "           3       0.63      0.88      0.73     29701\n",
      "           4       0.57      0.30      0.39      9656\n",
      "           5       0.00      0.00      0.00       842\n",
      "           6       0.01      0.05      0.02        20\n",
      "           7       0.15      0.46      0.23        94\n",
      "\n",
      "    accuracy                           0.69    114805\n",
      "   macro avg       0.35      0.40      0.32    114805\n",
      "weighted avg       0.69      0.69      0.66    114805\n",
      "\n"
     ]
    }
   ],
   "source": [
    "# Evaluate the performance of the AdaBoostClassifier \n",
    "m.metrics(y_train, train_pred_ab, y_val, val_pred_ab)"
   ]
  },
  {
   "cell_type": "code",
   "execution_count": 59,
   "id": "91346fef",
   "metadata": {
    "ExecuteTime": {
     "end_time": "2024-12-09T11:42:33.901223Z",
     "start_time": "2024-12-09T11:42:22.569722Z"
    }
   },
   "outputs": [
    {
     "name": "stderr",
     "output_type": "stream",
     "text": [
      "Input #0, wav, from '/var/folders/mm/fxsq_1490x9dd2w76tqvt3kr0000gn/T/tmpto58sqov.wav':\n",
      "  Duration: 00:00:10.00, bitrate: 1536 kb/s\n",
      "  Stream #0:0: Audio: pcm_s16le ([1][0][0][0] / 0x0001), 48000 Hz, 2 channels, s16, 1536 kb/s\n",
      "   9.93 M-A:  0.000 fd=   0 aq=    0KB vq=    0KB sq=    0B \r"
     ]
    },
    {
     "name": "stdout",
     "output_type": "stream",
     "text": [
      "\n"
     ]
    }
   ],
   "source": [
    "import play_song as s\n",
    "s.play_('audio.mp3')"
   ]
  },
  {
   "cell_type": "markdown",
   "id": "fba09e98",
   "metadata": {},
   "source": [
    "**Linear Discriminant Analysis**"
   ]
  },
  {
   "cell_type": "code",
   "execution_count": null,
   "id": "6a9ea5bd",
   "metadata": {
    "ExecuteTime": {
     "end_time": "2024-12-09T11:16:57.252523Z",
     "start_time": "2024-12-09T11:16:57.252511Z"
    }
   },
   "outputs": [],
   "source": [
    "# Initialize the Linear Discriminant Analysis (LDA)\n",
    "lda = LinearDiscriminantAnalysis()\n",
    "lda.fit(X_train_filtered, y_train)"
   ]
  },
  {
   "cell_type": "code",
   "execution_count": null,
   "id": "32563368",
   "metadata": {
    "ExecuteTime": {
     "end_time": "2024-12-09T11:16:57.253540Z",
     "start_time": "2024-12-09T11:16:57.253529Z"
    }
   },
   "outputs": [],
   "source": [
    "# Predict the target values for the training\n",
    "train_pred_lda = lda.predict(X_train_filtered)\n",
    "\n",
    "# Predict the target values for the validation\n",
    "val_pred_lda = lda.predict(X_val_filtered)"
   ]
  },
  {
   "cell_type": "code",
   "execution_count": null,
   "id": "ca30b373",
   "metadata": {
    "ExecuteTime": {
     "end_time": "2024-12-09T11:16:57.254621Z",
     "start_time": "2024-12-09T11:16:57.254610Z"
    }
   },
   "outputs": [],
   "source": [
    "# Evaluate the performance of the Linear Discriminant Analysis (LDA)\n",
    "m.metrics(y_train, train_pred_lda, y_val, val_pred_lda)"
   ]
  },
  {
   "cell_type": "markdown",
   "id": "25781b51",
   "metadata": {},
   "source": [
    "**Quadratic Discriminant Analysis**"
   ]
  },
  {
   "cell_type": "code",
   "execution_count": null,
   "id": "aabd854a",
   "metadata": {
    "ExecuteTime": {
     "end_time": "2024-12-09T11:16:57.256086Z",
     "start_time": "2024-12-09T11:16:57.256074Z"
    }
   },
   "outputs": [],
   "source": [
    "# Initialize the Quadratic Discriminant Analysis (QDA)\n",
    "qda = QuadraticDiscriminantAnalysis()\n",
    "qda.fit(X_train_filtered, y_train)"
   ]
  },
  {
   "cell_type": "code",
   "execution_count": null,
   "id": "102143a5",
   "metadata": {
    "ExecuteTime": {
     "end_time": "2024-12-09T11:16:57.257506Z",
     "start_time": "2024-12-09T11:16:57.257492Z"
    }
   },
   "outputs": [],
   "source": [
    "# Predict the target values for the training dataset \n",
    "train_pred_qda = qda.predict(X_train_filtered)\n",
    "\n",
    "# Predict the target values for the validation \n",
    "val_pred_qda = qda.predict(X_val_filtered)"
   ]
  },
  {
   "cell_type": "code",
   "execution_count": null,
   "id": "2c62d4a0",
   "metadata": {
    "ExecuteTime": {
     "end_time": "2024-12-09T11:16:57.258889Z",
     "start_time": "2024-12-09T11:16:57.258876Z"
    }
   },
   "outputs": [],
   "source": [
    "# Evaluate the performance of the Quadratic Discriminant Analysis (QDA)\n",
    "m.metrics(y_train, train_pred_qda, y_val, val_pred_qda)"
   ]
  },
  {
   "cell_type": "markdown",
   "id": "6e9c7ba9",
   "metadata": {},
   "source": [
    "[Go to Modeling &#129034;](#modeling)\n",
    "\n",
    "<a href=\"#top\">Top &#129033;</a>\n",
    "\n",
    "<br>\n",
    "\n",
    "**XGB Classifier**"
   ]
  },
  {
   "cell_type": "code",
   "execution_count": 43,
   "id": "0ccabe0d",
   "metadata": {
    "ExecuteTime": {
     "end_time": "2024-12-09T11:20:16.416925Z",
     "start_time": "2024-12-09T11:19:59.599390Z"
    }
   },
   "outputs": [
    {
     "data": {
      "text/html": [
       "<style>#sk-container-id-1 {color: black;background-color: white;}#sk-container-id-1 pre{padding: 0;}#sk-container-id-1 div.sk-toggleable {background-color: white;}#sk-container-id-1 label.sk-toggleable__label {cursor: pointer;display: block;width: 100%;margin-bottom: 0;padding: 0.3em;box-sizing: border-box;text-align: center;}#sk-container-id-1 label.sk-toggleable__label-arrow:before {content: \"▸\";float: left;margin-right: 0.25em;color: #696969;}#sk-container-id-1 label.sk-toggleable__label-arrow:hover:before {color: black;}#sk-container-id-1 div.sk-estimator:hover label.sk-toggleable__label-arrow:before {color: black;}#sk-container-id-1 div.sk-toggleable__content {max-height: 0;max-width: 0;overflow: hidden;text-align: left;background-color: #f0f8ff;}#sk-container-id-1 div.sk-toggleable__content pre {margin: 0.2em;color: black;border-radius: 0.25em;background-color: #f0f8ff;}#sk-container-id-1 input.sk-toggleable__control:checked~div.sk-toggleable__content {max-height: 200px;max-width: 100%;overflow: auto;}#sk-container-id-1 input.sk-toggleable__control:checked~label.sk-toggleable__label-arrow:before {content: \"▾\";}#sk-container-id-1 div.sk-estimator input.sk-toggleable__control:checked~label.sk-toggleable__label {background-color: #d4ebff;}#sk-container-id-1 div.sk-label input.sk-toggleable__control:checked~label.sk-toggleable__label {background-color: #d4ebff;}#sk-container-id-1 input.sk-hidden--visually {border: 0;clip: rect(1px 1px 1px 1px);clip: rect(1px, 1px, 1px, 1px);height: 1px;margin: -1px;overflow: hidden;padding: 0;position: absolute;width: 1px;}#sk-container-id-1 div.sk-estimator {font-family: monospace;background-color: #f0f8ff;border: 1px dotted black;border-radius: 0.25em;box-sizing: border-box;margin-bottom: 0.5em;}#sk-container-id-1 div.sk-estimator:hover {background-color: #d4ebff;}#sk-container-id-1 div.sk-parallel-item::after {content: \"\";width: 100%;border-bottom: 1px solid gray;flex-grow: 1;}#sk-container-id-1 div.sk-label:hover label.sk-toggleable__label {background-color: #d4ebff;}#sk-container-id-1 div.sk-serial::before {content: \"\";position: absolute;border-left: 1px solid gray;box-sizing: border-box;top: 0;bottom: 0;left: 50%;z-index: 0;}#sk-container-id-1 div.sk-serial {display: flex;flex-direction: column;align-items: center;background-color: white;padding-right: 0.2em;padding-left: 0.2em;position: relative;}#sk-container-id-1 div.sk-item {position: relative;z-index: 1;}#sk-container-id-1 div.sk-parallel {display: flex;align-items: stretch;justify-content: center;background-color: white;position: relative;}#sk-container-id-1 div.sk-item::before, #sk-container-id-1 div.sk-parallel-item::before {content: \"\";position: absolute;border-left: 1px solid gray;box-sizing: border-box;top: 0;bottom: 0;left: 50%;z-index: -1;}#sk-container-id-1 div.sk-parallel-item {display: flex;flex-direction: column;z-index: 1;position: relative;background-color: white;}#sk-container-id-1 div.sk-parallel-item:first-child::after {align-self: flex-end;width: 50%;}#sk-container-id-1 div.sk-parallel-item:last-child::after {align-self: flex-start;width: 50%;}#sk-container-id-1 div.sk-parallel-item:only-child::after {width: 0;}#sk-container-id-1 div.sk-dashed-wrapped {border: 1px dashed gray;margin: 0 0.4em 0.5em 0.4em;box-sizing: border-box;padding-bottom: 0.4em;background-color: white;}#sk-container-id-1 div.sk-label label {font-family: monospace;font-weight: bold;display: inline-block;line-height: 1.2em;}#sk-container-id-1 div.sk-label-container {text-align: center;}#sk-container-id-1 div.sk-container {/* jupyter's `normalize.less` sets `[hidden] { display: none; }` but bootstrap.min.css set `[hidden] { display: none !important; }` so we also need the `!important` here to be able to override the default hidden behavior on the sphinx rendered scikit-learn.org. See: https://github.com/scikit-learn/scikit-learn/issues/21755 */display: inline-block !important;position: relative;}#sk-container-id-1 div.sk-text-repr-fallback {display: none;}</style><div id=\"sk-container-id-1\" class=\"sk-top-container\"><div class=\"sk-text-repr-fallback\"><pre>XGBClassifier(base_score=None, booster=None, callbacks=None,\n",
       "              colsample_bylevel=None, colsample_bynode=None,\n",
       "              colsample_bytree=None, device=None, early_stopping_rounds=None,\n",
       "              enable_categorical=False, eval_metric=None, feature_types=None,\n",
       "              gamma=None, grow_policy=None, importance_type=None,\n",
       "              interaction_constraints=None, learning_rate=None, max_bin=None,\n",
       "              max_cat_threshold=None, max_cat_to_onehot=None,\n",
       "              max_delta_step=None, max_depth=None, max_leaves=None,\n",
       "              min_child_weight=None, missing=nan, monotone_constraints=None,\n",
       "              multi_strategy=None, n_estimators=None, n_jobs=None,\n",
       "              num_parallel_tree=None, objective=&#x27;multi:softprob&#x27;, ...)</pre><b>In a Jupyter environment, please rerun this cell to show the HTML representation or trust the notebook. <br />On GitHub, the HTML representation is unable to render, please try loading this page with nbviewer.org.</b></div><div class=\"sk-container\" hidden><div class=\"sk-item\"><div class=\"sk-estimator sk-toggleable\"><input class=\"sk-toggleable__control sk-hidden--visually\" id=\"sk-estimator-id-1\" type=\"checkbox\" checked><label for=\"sk-estimator-id-1\" class=\"sk-toggleable__label sk-toggleable__label-arrow\">XGBClassifier</label><div class=\"sk-toggleable__content\"><pre>XGBClassifier(base_score=None, booster=None, callbacks=None,\n",
       "              colsample_bylevel=None, colsample_bynode=None,\n",
       "              colsample_bytree=None, device=None, early_stopping_rounds=None,\n",
       "              enable_categorical=False, eval_metric=None, feature_types=None,\n",
       "              gamma=None, grow_policy=None, importance_type=None,\n",
       "              interaction_constraints=None, learning_rate=None, max_bin=None,\n",
       "              max_cat_threshold=None, max_cat_to_onehot=None,\n",
       "              max_delta_step=None, max_depth=None, max_leaves=None,\n",
       "              min_child_weight=None, missing=nan, monotone_constraints=None,\n",
       "              multi_strategy=None, n_estimators=None, n_jobs=None,\n",
       "              num_parallel_tree=None, objective=&#x27;multi:softprob&#x27;, ...)</pre></div></div></div></div></div>"
      ],
      "text/plain": [
       "XGBClassifier(base_score=None, booster=None, callbacks=None,\n",
       "              colsample_bylevel=None, colsample_bynode=None,\n",
       "              colsample_bytree=None, device=None, early_stopping_rounds=None,\n",
       "              enable_categorical=False, eval_metric=None, feature_types=None,\n",
       "              gamma=None, grow_policy=None, importance_type=None,\n",
       "              interaction_constraints=None, learning_rate=None, max_bin=None,\n",
       "              max_cat_threshold=None, max_cat_to_onehot=None,\n",
       "              max_delta_step=None, max_depth=None, max_leaves=None,\n",
       "              min_child_weight=None, missing=nan, monotone_constraints=None,\n",
       "              multi_strategy=None, n_estimators=None, n_jobs=None,\n",
       "              num_parallel_tree=None, objective='multi:softprob', ...)"
      ]
     },
     "execution_count": 43,
     "metadata": {},
     "output_type": "execute_result"
    }
   ],
   "source": [
    "xgb = XGBClassifier()\n",
    "xgb.fit(X_train, y_train)"
   ]
  },
  {
   "cell_type": "code",
   "execution_count": 44,
   "id": "633d54ef",
   "metadata": {
    "ExecuteTime": {
     "end_time": "2024-12-09T11:20:17.430740Z",
     "start_time": "2024-12-09T11:20:16.419693Z"
    }
   },
   "outputs": [],
   "source": [
    "# Predict the target values for the training dataset\n",
    "train_pred_xgb = xgb.predict(X_train)\n",
    "# Predict the target values for the validation \n",
    "val_pred_xgb = xgb.predict(X_val)"
   ]
  },
  {
   "cell_type": "code",
   "execution_count": 45,
   "id": "2bc62e36",
   "metadata": {
    "ExecuteTime": {
     "end_time": "2024-12-09T11:20:18.157709Z",
     "start_time": "2024-12-09T11:20:17.432837Z"
    }
   },
   "outputs": [
    {
     "name": "stdout",
     "output_type": "stream",
     "text": [
      "______________________________________________________________________\n",
      "                                TRAIN                                 \n",
      "----------------------------------------------------------------------\n",
      "              precision    recall  f1-score   support\n",
      "\n",
      "           0       0.80      0.57      0.66      9498\n",
      "           1       0.86      0.97      0.91    229235\n",
      "           2       0.64      0.10      0.17     54891\n",
      "           3       0.72      0.89      0.80    117056\n",
      "           4       0.72      0.65      0.68     38502\n",
      "           5       0.93      0.06      0.11      3359\n",
      "           6       1.00      0.95      0.97        77\n",
      "           7       0.99      0.98      0.98       374\n",
      "\n",
      "    accuracy                           0.80    452992\n",
      "   macro avg       0.83      0.64      0.66    452992\n",
      "weighted avg       0.79      0.80      0.76    452992\n",
      "\n",
      "______________________________________________________________________\n",
      "                                VALIDATION                                 \n",
      "----------------------------------------------------------------------\n",
      "              precision    recall  f1-score   support\n",
      "\n",
      "           0       0.70      0.53      0.60      2495\n",
      "           1       0.85      0.96      0.90     58216\n",
      "           2       0.55      0.08      0.14     13781\n",
      "           3       0.71      0.88      0.78     29701\n",
      "           4       0.71      0.62      0.66      9656\n",
      "           5       0.38      0.02      0.03       842\n",
      "           6       0.00      0.00      0.00        20\n",
      "           7       0.55      0.24      0.34        94\n",
      "\n",
      "    accuracy                           0.79    114805\n",
      "   macro avg       0.55      0.42      0.43    114805\n",
      "weighted avg       0.76      0.79      0.75    114805\n",
      "\n"
     ]
    }
   ],
   "source": [
    "m.metrics(y_train, train_pred_xgb , y_val, val_pred_xgb)"
   ]
  },
  {
   "cell_type": "code",
   "execution_count": 46,
   "id": "77538788",
   "metadata": {
    "ExecuteTime": {
     "end_time": "2024-12-09T11:20:29.676617Z",
     "start_time": "2024-12-09T11:20:18.159948Z"
    }
   },
   "outputs": [
    {
     "name": "stderr",
     "output_type": "stream",
     "text": [
      "Input #0, wav, from '/var/folders/mm/fxsq_1490x9dd2w76tqvt3kr0000gn/T/tmpwbm5g75s.wav':\n",
      "  Duration: 00:00:10.00, bitrate: 1536 kb/s\n",
      "  Stream #0:0: Audio: pcm_s16le ([1][0][0][0] / 0x0001), 48000 Hz, 2 channels, s16, 1536 kb/s\n",
      "   9.93 M-A:  0.000 fd=   0 aq=    0KB vq=    0KB sq=    0B \r"
     ]
    },
    {
     "name": "stdout",
     "output_type": "stream",
     "text": [
      "\n"
     ]
    }
   ],
   "source": [
    "import play_song as s\n",
    "s.play_('audio.mp3')"
   ]
  },
  {
   "cell_type": "markdown",
   "id": "51349dd6",
   "metadata": {},
   "source": [
    "**Neural Networks**"
   ]
  },
  {
   "cell_type": "code",
   "execution_count": null,
   "id": "59e5ab47",
   "metadata": {
    "ExecuteTime": {
     "end_time": "2024-12-09T11:16:57.264825Z",
     "start_time": "2024-12-09T11:16:57.264814Z"
    }
   },
   "outputs": [],
   "source": [
    "model = MLPClassifier(hidden_layer_sizes=(15,17,18,19,20),learning_rate_init=0.1, activation='relu', solver='sgd', batch_size=500, learning_rate=\"adaptive\" )\n",
    "model.fit(X_train_filtered, y_train)"
   ]
  },
  {
   "cell_type": "code",
   "execution_count": null,
   "id": "aa06c0ec",
   "metadata": {
    "ExecuteTime": {
     "end_time": "2024-12-09T11:16:57.265988Z",
     "start_time": "2024-12-09T11:16:57.265976Z"
    }
   },
   "outputs": [],
   "source": [
    "train_pred_neural = model.predict(X_train_filtered)\n",
    "val_pred_neural = model.predict(X_val_filtered)"
   ]
  },
  {
   "cell_type": "code",
   "execution_count": null,
   "id": "424d44ac",
   "metadata": {
    "ExecuteTime": {
     "end_time": "2024-12-09T11:16:57.267243Z",
     "start_time": "2024-12-09T11:16:57.267231Z"
    }
   },
   "outputs": [],
   "source": [
    "m.metrics(y_train, train_pred_neural, y_val, val_pred_neural)"
   ]
  },
  {
   "cell_type": "markdown",
   "id": "1d68d277",
   "metadata": {},
   "source": [
    "## 4.2 Combining Models\n",
    "\n",
    "[Go to Modeling &#129034;](#modeling)\n",
    "\n",
    "<a href=\"#top\">Top &#129033;</a>\n",
    "\n",
    "\n",
    "Combining models, also known as ensemble learning, involves integrating multiple machine learning models to improve predictive performance. In this section, we will explore methods for combining models, evaluate their performance, and demonstrate how ensemble techniques can lead to more reliable and effective predictions compared to single models.\n"
   ]
  },
  {
   "cell_type": "markdown",
   "id": "c510b5ff",
   "metadata": {},
   "source": [
    "**Voting Classifier**"
   ]
  },
  {
   "cell_type": "code",
   "execution_count": null,
   "id": "2bf7d838",
   "metadata": {},
   "outputs": [],
   "source": []
  },
  {
   "cell_type": "markdown",
   "id": "23559958",
   "metadata": {},
   "source": [
    "**Stacking Classifier**"
   ]
  },
  {
   "cell_type": "code",
   "execution_count": null,
   "id": "cbabd156",
   "metadata": {},
   "outputs": [],
   "source": []
  },
  {
   "cell_type": "markdown",
   "id": "f4ed5593",
   "metadata": {},
   "source": [
    "<br>\n",
    "\n",
    "**<center>Best Performing Models<center>**\n",
    "    \n",
    "** **\n",
    "    \n",
    "| Model | Macro-f1 Score |\n",
    "| ----- | -------------- |\n",
    "| XGB | 0.42983 |\n",
    "| RF | -------------- |\n",
    "| ----- | -------------- |\n",
    "| ----- | -------------- |\n",
    "| ----- | -------------- |"
   ]
  },
  {
   "cell_type": "markdown",
   "id": "3b289e2e",
   "metadata": {},
   "source": [
    "## 4.3 Hyperparameter Tuning\n",
    "\n",
    "[Go to Modeling &#129034;](#modeling)\n",
    "\n",
    "<a href=\"#top\">Top &#129033;</a>"
   ]
  },
  {
   "cell_type": "code",
   "execution_count": null,
   "id": "97889473",
   "metadata": {},
   "outputs": [],
   "source": []
  },
  {
   "cell_type": "markdown",
   "id": "a147269b",
   "metadata": {},
   "source": [
    "## 4.4 Final Predictions\n",
    "\n",
    "[Go to Modeling &#129034;](#modeling)\n",
    "\n",
    "<a href=\"#top\">Top &#129033;</a>"
   ]
  },
  {
   "cell_type": "code",
   "execution_count": null,
   "id": "6104a667",
   "metadata": {
    "ExecuteTime": {
     "end_time": "2024-12-09T11:16:57.268605Z",
     "start_time": "2024-12-09T11:16:57.268591Z"
    }
   },
   "outputs": [],
   "source": [
    "test_filtered = test[X_train.columns]"
   ]
  },
  {
   "cell_type": "code",
   "execution_count": null,
   "id": "5db650c1",
   "metadata": {
    "ExecuteTime": {
     "end_time": "2024-12-09T11:16:57.269855Z",
     "start_time": "2024-12-09T11:16:57.269843Z"
    }
   },
   "outputs": [],
   "source": [
    "test_filtered['Claim Injury Type'] = xgb.predict(test_filtered)"
   ]
  },
  {
   "cell_type": "markdown",
   "id": "817c5313",
   "metadata": {},
   "source": [
    "Map Predictions to Original Values"
   ]
  },
  {
   "cell_type": "code",
   "execution_count": null,
   "id": "f1f0c979",
   "metadata": {
    "ExecuteTime": {
     "end_time": "2024-12-09T11:16:57.271045Z",
     "start_time": "2024-12-09T11:16:57.271034Z"
    }
   },
   "outputs": [],
   "source": [
    "label_mapping = {\n",
    "    0: \"1. CANCELLED\",\n",
    "    1: \"2. NON-COMP\",\n",
    "    2: \"3. MED ONLY\",\n",
    "    3: \"4. TEMPORARY\",\n",
    "    4: \"5. PPD SCH LOSS\",\n",
    "    5: \"6. PPD NSL\",\n",
    "    6: \"7. PTD\",\n",
    "    7: \"8. DEATH\"\n",
    "}\n",
    "\n",
    "\n",
    "test_filtered['Claim Injury Type'] = test_filtered['Claim Injury Type'].replace(label_mapping)"
   ]
  },
  {
   "cell_type": "code",
   "execution_count": null,
   "id": "5333d6b7",
   "metadata": {
    "ExecuteTime": {
     "end_time": "2024-12-09T11:16:57.272147Z",
     "start_time": "2024-12-09T11:16:57.272136Z"
    }
   },
   "outputs": [],
   "source": [
    "# Count unique values in column 'Claim Injury Type'\n",
    "test_filtered['Claim Injury Type'].value_counts() "
   ]
  },
  {
   "cell_type": "code",
   "execution_count": null,
   "id": "63d7f10e",
   "metadata": {
    "ExecuteTime": {
     "end_time": "2024-12-09T11:16:57.273307Z",
     "start_time": "2024-12-09T11:16:57.273295Z"
    }
   },
   "outputs": [],
   "source": [
    "# Extract the target variable 'Claim Injury Type' from the test dataset for prediction\n",
    "predictions = test_filtered['Claim Injury Type']"
   ]
  },
  {
   "cell_type": "markdown",
   "id": "ad236668",
   "metadata": {},
   "source": [
    "**Export Predictions**"
   ]
  },
  {
   "cell_type": "code",
   "execution_count": null,
   "id": "672ff463",
   "metadata": {
    "ExecuteTime": {
     "end_time": "2024-12-09T11:16:57.274602Z",
     "start_time": "2024-12-09T11:16:57.274590Z"
    }
   },
   "outputs": [],
   "source": [
    "# Assign a descriptive name for easy reference\n",
    "name = 'all_feat_xgb'\n",
    "\n",
    "# Save the predictions to a CSV file.\n",
    "predictions.to_csv(f'./pred/{name}.csv')"
   ]
  }
 ],
 "metadata": {
  "kernelspec": {
   "display_name": "Python 3 (ipykernel)",
   "language": "python",
   "name": "python3"
  },
  "language_info": {
   "codemirror_mode": {
    "name": "ipython",
    "version": 3
   },
   "file_extension": ".py",
   "mimetype": "text/x-python",
   "name": "python",
   "nbconvert_exporter": "python",
   "pygments_lexer": "ipython3",
   "version": "3.10.8"
  }
 },
 "nbformat": 4,
 "nbformat_minor": 5
}
