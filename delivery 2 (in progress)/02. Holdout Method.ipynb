{
 "cells": [
  {
   "cell_type": "markdown",
   "id": "c7d4dad5",
   "metadata": {},
   "source": [
    "# <center>Machine Learning Project Code</center>\n",
    "\n",
    "<a class=\"anchor\" id=\"top\"></a>\n",
    "\n",
    "## <center>*02 - Holdout Method*</center>\n",
    "\n",
    "** **\n",
    "\n",
    "\n",
    "\n",
    "# Table of Contents  <br>\n",
    "\n",
    "\n",
    "1. [Importing Libraries & Data](#1.-Importing-Libraries-&-Data) <br><br>\n",
    "    \n",
    "2. [Train-Test Split](#2.-Train-Test-Split)\n",
    "\n",
    "   2.1 [Feature Engineering](#2.1-Feature-Engineering) <br>\n",
    "    \n",
    "   2.2 [Missing Values](#2.2-Missing-Values) <br>\n",
    "    \n",
    "   2.3 [Outliers](#2.3-Outliers) <br>\n",
    "   \n",
    "   2.4 [Scaling](#2.4-Scaling) <br><br>\n",
    "   \n",
    "3. [Feature Selection](#3.-Feature-Selection) \n",
    "    \n",
    "    3.1 [Filter Based Methods](#3.1-Filter-Based-Methods) <br>\n",
    "\n",
    "    3.2 [Wrapper Methods](#3.2-Wrapper-Methods) <br>\n",
    "    \n",
    "    3.3 [Embedded Methods](#3.3-Embedded-Methods) <br><br>\n",
    "    \n",
    "4. [Modeling](#4.-Modeling) <br><br>\n",
    "\n",
    "5. [Export](#5.-Export)\n",
    "\n",
    "\n",
    "** **\n",
    "\n",
    "In this notebook we will start by spliting train and validation data using a simple Holdout Method. After doing so, more complex methods to fill missing values will be applied, and outliers will be addresses. Feature Selection will also be performed, followed by a Modeling section.\n",
    "\n",
    "Data Scientist Manager: António Oliveira, **20211595**\n",
    "\n",
    "Data Scientist Senior: Tomás Ribeiro, **20240526**\n",
    "\n",
    "Data Scientist Junior: Gonçalo Pacheco, **20240695**\n",
    "\n",
    "Data Analyst Senior: Gonçalo Custódio, **20211643**\n",
    "\n",
    "Data Analyst Junior: Ana Caleiro, **20240696**\n",
    "\n",
    "\n",
    "** ** \n",
    "\n",
    "# 1. Importing Libraries & Data\n",
    "In this section, we set up the foundation for our project by importing the necessary Python libraries and loading the dataset. These libraries provide the tools for data manipulation, visualization, and machine learning modeling throughout the notebook. Additionally, we import the historical claims dataset, which forms the core of our analysis. "
   ]
  },
  {
   "cell_type": "code",
   "execution_count": 42,
   "id": "0e617fa5",
   "metadata": {
    "ExecuteTime": {
     "end_time": "2024-12-12T09:32:10.242957Z",
     "start_time": "2024-12-12T09:32:06.866151Z"
    }
   },
   "outputs": [],
   "source": [
    "import pandas as pd\n",
    "import numpy as np\n",
    "\n",
    "import utils2 as p\n",
    "\n",
    "# Train-Test Split\n",
    "from sklearn.model_selection import train_test_split\n",
    "\n",
    "# Feature Selection\n",
    "import feature_selection as fs\n",
    "\n",
    "# Models\n",
    "from sklearn.linear_model import LogisticRegression, SGDClassifier\n",
    "from sklearn.tree import DecisionTreeClassifier\n",
    "from sklearn.ensemble import RandomForestClassifier, \\\n",
    "    GradientBoostingClassifier, AdaBoostClassifier, \\\n",
    "    StackingClassifier, VotingClassifier\n",
    "from sklearn.ensemble import RandomForestClassifier\n",
    "from xgboost import XGBClassifier  \n",
    "from sklearn.neural_network import MLPClassifier\n",
    "from sklearn.preprocessing import RobustScaler\n",
    "\n",
    "# Metrics\n",
    "import metrics as m\n",
    "\n",
    "pd.set_option('display.max_columns', None)\n",
    "# Suppress Warnings\n",
    "import warnings\n",
    "warnings.filterwarnings(\"ignore\")"
   ]
  },
  {
   "cell_type": "markdown",
   "id": "a33bfd6a",
   "metadata": {},
   "source": [
    "**Import Data**"
   ]
  },
  {
   "cell_type": "code",
   "execution_count": null,
   "id": "f4e1df1f",
   "metadata": {
    "ExecuteTime": {
     "end_time": "2024-12-12T09:32:14.852928Z",
     "start_time": "2024-12-12T09:32:10.245870Z"
    }
   },
   "outputs": [],
   "source": [
    "# Load training data\n",
    "df = pd.read_csv('./train_data_EDA.csv', index_col = 'Claim Identifier')\n",
    "\n",
    "# Load testing data\n",
    "test = pd.read_csv('./test_data_EDA.csv', index_col = 'Claim Identifier')\n",
    "\n",
    "# Display the first 3 rows of the training data\n",
    "df.head(3)"
   ]
  },
  {
   "cell_type": "markdown",
   "id": "1ebf14de",
   "metadata": {},
   "source": [
    "# 2. Train-Test Split\n",
    "The train-test split is a crucial technique used to assess model performance by dividing the dataset into training and testing subsets. This ensures that the model is evaluated on unseen data, helping to prevent overfitting and providing an unbiased performance estimate. \n",
    "\n",
    "<a href=\"#top\">Top &#129033;</a>"
   ]
  },
  {
   "cell_type": "markdown",
   "id": "9f494a4f",
   "metadata": {},
   "source": [
    "**Holdout Method**"
   ]
  },
  {
   "cell_type": "code",
   "execution_count": 21,
   "id": "940241ad",
   "metadata": {
    "ExecuteTime": {
     "end_time": "2024-12-11T22:20:27.927313Z",
     "start_time": "2024-12-11T22:20:27.765511Z"
    }
   },
   "outputs": [],
   "source": [
    "# Split the DataFrame into features (X) and target variable (y)\n",
    "X = df.drop('Claim Injury Type', axis=1) \n",
    "y = df['Claim Injury Type']  "
   ]
  },
  {
   "cell_type": "code",
   "execution_count": 22,
   "id": "6911c19d",
   "metadata": {
    "ExecuteTime": {
     "end_time": "2024-12-11T22:20:28.546954Z",
     "start_time": "2024-12-11T22:20:27.931495Z"
    }
   },
   "outputs": [],
   "source": [
    "# Split the dataset into training and validation sets\n",
    "X_train, X_val, y_train, y_val = train_test_split(X, y, \n",
    "                                                    test_size=0.2, \n",
    "                                                    random_state=42,\n",
    "                                                    stratify = y) "
   ]
  },
  {
   "cell_type": "markdown",
   "id": "49afdbfb",
   "metadata": {},
   "source": [
    "## 2.1 Feature Engineering\n",
    "\n",
    "<a href=\"#top\">Top &#129033;</a>"
   ]
  },
  {
   "cell_type": "markdown",
   "id": "7556940c",
   "metadata": {},
   "source": [
    "### 2.1.1 Encoding\n",
    "\n",
    "Encoding transforms categorical data into numerical format for use in machine learning models. For this section, several encoders were considered:\n",
    "- **One Hot Encoding** -  turns a variable that is stored in a column into dummy variables stored over multiple columns and represented as 0s and 1s\n",
    "- **Frequency Encoding** - replaces the categories by with their proportion in the dataset\n",
    "- **Count Encoding** - replaces the categories by the number of times they appear in the dataset \n",
    "- **Manual Mapping Encoding** - manually attribute values to each category"
   ]
  },
  {
   "cell_type": "markdown",
   "id": "2830ac54",
   "metadata": {},
   "source": [
    "**Alternative Dispute Resolution**\n",
    "\n",
    "Knowing that 'N' is by far the most common category, and that 'U' only appears 5 times in DF data and 1 time in the test data, we decided to join 'U' and 'Y' into 'Y/U', and encode the variable as:\n",
    "- 0 - N\n",
    "- 1 - Y/U"
   ]
  },
  {
   "cell_type": "code",
   "execution_count": null,
   "id": "a48a5a26",
   "metadata": {
    "ExecuteTime": {
     "end_time": "2024-12-11T22:20:28.610094Z",
     "start_time": "2024-12-11T22:20:28.549813Z"
    }
   },
   "outputs": [],
   "source": [
    "print(X_train['Alternative Dispute Resolution Bin'].value_counts())\n",
    "print(' ')\n",
    "print(test['Alternative Dispute Resolution Bin'].value_counts())"
   ]
  },
  {
   "cell_type": "code",
   "execution_count": null,
   "id": "a85a498f",
   "metadata": {
    "ExecuteTime": {
     "end_time": "2024-12-11T22:20:29.101494Z",
     "start_time": "2024-12-11T22:20:28.612529Z"
    }
   },
   "outputs": [],
   "source": [
    "X_train['Alternative Dispute Resolution'] = X_train['Alternative Dispute Resolution Bin'].replace({'N': 0, 'Y': 1, 'U': 1})\n",
    "X_val['Alternative Dispute Resolution'] = X_val['Alternative Dispute Resolution Bin'].replace({'N': 0, 'Y': 1, 'U': 1})\n",
    "test['Alternative Dispute Resolution'] = test['Alternative Dispute Resolution Bin'].replace({'N': 0, 'Y': 1, 'U': 1})"
   ]
  },
  {
   "cell_type": "markdown",
   "id": "295f9a46",
   "metadata": {},
   "source": [
    "**Attorney/Representative**\n",
    "\n",
    "As this variable only has 2 categories, they will be encoded as follows:\n",
    "- N - 0\n",
    "- Y - 1"
   ]
  },
  {
   "cell_type": "code",
   "execution_count": null,
   "id": "e7ca1869",
   "metadata": {
    "ExecuteTime": {
     "end_time": "2024-12-11T22:20:29.164065Z",
     "start_time": "2024-12-11T22:20:29.104268Z"
    }
   },
   "outputs": [],
   "source": [
    "print(X_train['Attorney/Representative Bin'].value_counts())\n",
    "print(' ')\n",
    "print(test['Attorney/Representative Bin'].value_counts())"
   ]
  },
  {
   "cell_type": "code",
   "execution_count": 30,
   "id": "5da3884c",
   "metadata": {
    "ExecuteTime": {
     "end_time": "2024-12-11T22:20:29.544354Z",
     "start_time": "2024-12-11T22:20:29.166593Z"
    }
   },
   "outputs": [],
   "source": [
    "X_train['Attorney/Representative'] = X_train['Attorney/Representative Bin'].replace({'N': 0, 'Y': 1})\n",
    "X_val['Attorney/Representative'] = X_val['Attorney/Representative Bin'].replace({'N': 0, 'Y': 1})\n",
    "test['Attorney/Representative'] = test['Attorney/Representative Bin'].replace({'N': 0, 'Y': 1})"
   ]
  },
  {
   "cell_type": "markdown",
   "id": "cb654b3a",
   "metadata": {},
   "source": [
    "**Carrier Name**\n",
    "\n",
    "As Carrier name has a considerable amount of unique values, it will be encoded using Count Encoder.\n",
    "\n",
    "We will start by analysing the common Carriers between train and test sets"
   ]
  },
  {
   "cell_type": "code",
   "execution_count": 31,
   "id": "a782f58b",
   "metadata": {
    "ExecuteTime": {
     "end_time": "2024-12-11T22:20:29.649065Z",
     "start_time": "2024-12-11T22:20:29.546941Z"
    }
   },
   "outputs": [],
   "source": [
    "train_carriers = set(X_train['Carrier Name Enc'].unique())\n",
    "test_carriers = set(test['Carrier Name Enc'].unique())\n",
    "\n",
    "common_categories = train_carriers.intersection(test_carriers)"
   ]
  },
  {
   "cell_type": "markdown",
   "id": "aae4d488",
   "metadata": {},
   "source": [
    "Then map the common categories to an index"
   ]
  },
  {
   "cell_type": "code",
   "execution_count": 32,
   "id": "ae700902",
   "metadata": {
    "ExecuteTime": {
     "end_time": "2024-12-11T22:20:29.659747Z",
     "start_time": "2024-12-11T22:20:29.655923Z"
    }
   },
   "outputs": [],
   "source": [
    "common_category_map = {category: idx + 1 for idx, \n",
    "                       category in enumerate(common_categories)}"
   ]
  },
  {
   "cell_type": "markdown",
   "id": "8928c5aa",
   "metadata": {},
   "source": [
    "Fill the non-common categories with 0"
   ]
  },
  {
   "cell_type": "code",
   "execution_count": 33,
   "id": "f78304ed",
   "metadata": {
    "ExecuteTime": {
     "end_time": "2024-12-11T22:20:29.816329Z",
     "start_time": "2024-12-11T22:20:29.663146Z"
    }
   },
   "outputs": [],
   "source": [
    "X_train['Carrier Name'] = X_train['Carrier Name Enc'].map(common_category_map).fillna(0).astype(int)\n",
    "X_val['Carrier Name'] = X_val['Carrier Name Enc'].map(common_category_map).fillna(0).astype(int)\n",
    "test['Carrier Name'] = test['Carrier Name Enc'].map(common_category_map).fillna(0).astype(int)"
   ]
  },
  {
   "cell_type": "markdown",
   "id": "89169af1",
   "metadata": {},
   "source": [
    "Encode de common categores using *Count Encoding*"
   ]
  },
  {
   "cell_type": "code",
   "execution_count": null,
   "id": "c81ea978",
   "metadata": {
    "ExecuteTime": {
     "end_time": "2024-12-11T22:20:29.839042Z",
     "start_time": "2024-12-11T22:20:29.818905Z"
    },
    "scrolled": true
   },
   "outputs": [],
   "source": [
    "X_train, X_val, test = p.encode(X_train, X_val, test, 'Carrier Name', 'count')"
   ]
  },
  {
   "cell_type": "markdown",
   "id": "3a29e89b",
   "metadata": {},
   "source": [
    "**Carrier Type**\n",
    "\n",
    "After grouping the *5.* categories we decided to encode them in 2 distinct ways, and choose the best option in feature selection.\n",
    "\n",
    "Starting with *Count Encoding*"
   ]
  },
  {
   "cell_type": "code",
   "execution_count": null,
   "id": "ec635686",
   "metadata": {
    "ExecuteTime": {
     "end_time": "2024-12-11T22:20:29.970271Z",
     "start_time": "2024-12-11T22:20:29.841355Z"
    }
   },
   "outputs": [],
   "source": [
    "X_train, X_val, test = p.encode(X_train, X_val, test, 'Carrier Type', 'count')"
   ]
  },
  {
   "cell_type": "markdown",
   "id": "47a0d27b",
   "metadata": {},
   "source": [
    "And *One-Hot-Encoding*"
   ]
  },
  {
   "cell_type": "code",
   "execution_count": null,
   "id": "ad799040",
   "metadata": {
    "ExecuteTime": {
     "end_time": "2024-12-11T22:20:30.856044Z",
     "start_time": "2024-12-11T22:20:29.973006Z"
    }
   },
   "outputs": [],
   "source": [
    "X_train, X_val, test = p.encode(X_train, X_val, test, 'Carrier Type', 'OHE')"
   ]
  },
  {
   "cell_type": "markdown",
   "id": "15e24ed4",
   "metadata": {},
   "source": [
    "**County of Injury**\n",
    "\n",
    "As County of Injury has a considerable amount of unique values, it will be encoded using Count Encoder."
   ]
  },
  {
   "cell_type": "code",
   "execution_count": null,
   "id": "98342091",
   "metadata": {
    "ExecuteTime": {
     "end_time": "2024-12-11T22:20:30.986725Z",
     "start_time": "2024-12-11T22:20:30.858350Z"
    }
   },
   "outputs": [],
   "source": [
    "X_train, X_val, test = p.encode(X_train, X_val, test, 'County of Injury', 'count')"
   ]
  },
  {
   "cell_type": "markdown",
   "id": "f62e7f0c",
   "metadata": {},
   "source": [
    "**COVID-19 Indicator**\n",
    "\n",
    "As this variable only has 2 categories, they will be encoded as follows:\n",
    "- N - 0\n",
    "- Y - 1"
   ]
  },
  {
   "cell_type": "code",
   "execution_count": null,
   "id": "d7ccd656",
   "metadata": {
    "ExecuteTime": {
     "end_time": "2024-12-11T22:20:31.048315Z",
     "start_time": "2024-12-11T22:20:30.989119Z"
    }
   },
   "outputs": [],
   "source": [
    "print(X_train['COVID-19 Indicator Enc'].value_counts())\n",
    "print(' ')\n",
    "print(test['COVID-19 Indicator Enc'].value_counts())"
   ]
  },
  {
   "cell_type": "code",
   "execution_count": 48,
   "id": "1b92603f",
   "metadata": {
    "ExecuteTime": {
     "end_time": "2024-12-11T22:20:31.419721Z",
     "start_time": "2024-12-11T22:20:31.050898Z"
    }
   },
   "outputs": [],
   "source": [
    "X_train['COVID-19 Indicator'] = X_train['COVID-19 Indicator Enc'].replace({'N': 0, 'Y': 1})\n",
    "X_val['COVID-19 Indicator'] = X_val['COVID-19 Indicator Enc'].replace({'N': 0, 'Y': 1})\n",
    "test['COVID-19 Indicator'] = test['COVID-19 Indicator Enc'].replace({'N': 0, 'Y': 1})"
   ]
  },
  {
   "cell_type": "markdown",
   "id": "3f108c6d",
   "metadata": {},
   "source": [
    "**District Name**\n",
    "\n",
    "As this variable has 8 unique values, Count Encoder will be used."
   ]
  },
  {
   "cell_type": "code",
   "execution_count": null,
   "id": "c9029172",
   "metadata": {
    "ExecuteTime": {
     "end_time": "2024-12-11T22:20:31.508108Z",
     "start_time": "2024-12-11T22:20:31.421960Z"
    }
   },
   "outputs": [],
   "source": [
    "print(X_train['District Name'].value_counts())\n",
    "print(' ')\n",
    "print(test['District Name'].value_counts())"
   ]
  },
  {
   "cell_type": "code",
   "execution_count": null,
   "id": "cce45ca5",
   "metadata": {
    "ExecuteTime": {
     "end_time": "2024-12-11T22:20:31.635720Z",
     "start_time": "2024-12-11T22:20:31.510678Z"
    }
   },
   "outputs": [],
   "source": [
    "X_train, X_val, test = p.encode(X_train, X_val, test, 'District Name', 'count')"
   ]
  },
  {
   "cell_type": "markdown",
   "id": "6df40a5d",
   "metadata": {},
   "source": [
    "**Gender**\n",
    "\n",
    "Since after grouping we only have 3 categories, we will also use *One-Hot-Encoding* and decide which is better in feature selection."
   ]
  },
  {
   "cell_type": "code",
   "execution_count": null,
   "id": "4be96a3d",
   "metadata": {
    "ExecuteTime": {
     "end_time": "2024-12-11T22:20:32.564344Z",
     "start_time": "2024-12-11T22:20:31.638304Z"
    }
   },
   "outputs": [],
   "source": [
    "X_train, X_val, test = p.encode(X_train, X_val, test, 'Gender', 'OHE')"
   ]
  },
  {
   "cell_type": "markdown",
   "id": "3b2f7186",
   "metadata": {},
   "source": [
    "**Medical Fee Region**\n",
    "\n",
    "Even though this variable only contains 5 unique values, it is not clear whether there is an order between them or not. Therefore we will use *Count Encoding*"
   ]
  },
  {
   "cell_type": "code",
   "execution_count": null,
   "id": "32d24b0b",
   "metadata": {
    "ExecuteTime": {
     "end_time": "2024-12-11T22:20:32.652917Z",
     "start_time": "2024-12-11T22:20:32.566846Z"
    }
   },
   "outputs": [],
   "source": [
    "print(df['Medical Fee Region'].value_counts())\n",
    "print(' ')\n",
    "print(test['Medical Fee Region'].value_counts())"
   ]
  },
  {
   "cell_type": "code",
   "execution_count": null,
   "id": "3846d104",
   "metadata": {
    "ExecuteTime": {
     "end_time": "2024-12-11T22:20:32.772895Z",
     "start_time": "2024-12-11T22:20:32.655601Z"
    }
   },
   "outputs": [],
   "source": [
    "X_train, X_val, test = p.encode(X_train, X_val, test, 'Medical Fee Region', 'count')"
   ]
  },
  {
   "cell_type": "markdown",
   "id": "9f0857dd",
   "metadata": {},
   "source": [
    "**Industry Sector**\n",
    "\n",
    "Since it contains too many categories to use OHE, we will use *Count Encoding*"
   ]
  },
  {
   "cell_type": "code",
   "execution_count": null,
   "id": "aaea1e74",
   "metadata": {
    "ExecuteTime": {
     "end_time": "2024-12-11T22:20:32.911005Z",
     "start_time": "2024-12-11T22:20:32.775912Z"
    }
   },
   "outputs": [],
   "source": [
    "X_train, X_val, test = p.encode(X_train, X_val, test, 'Industry Sector', 'count')"
   ]
  },
  {
   "cell_type": "markdown",
   "id": "bc226fb2",
   "metadata": {},
   "source": [
    "Remove Encoded Variables"
   ]
  },
  {
   "cell_type": "code",
   "execution_count": 55,
   "id": "d25c53bd",
   "metadata": {
    "ExecuteTime": {
     "end_time": "2024-12-11T22:20:32.918447Z",
     "start_time": "2024-12-11T22:20:32.914232Z"
    }
   },
   "outputs": [],
   "source": [
    "drop = ['Alternative Dispute Resolution', 'Attorney/Representative', 'Carrier Type', 'County of Injury',\n",
    "        'COVID-19 Indicator', 'District Name', 'Gender', 'Carrier Name',\n",
    "        'Medical Fee Region', 'Industry Sector']"
   ]
  },
  {
   "cell_type": "code",
   "execution_count": null,
   "id": "540b1cd4",
   "metadata": {
    "ExecuteTime": {
     "end_time": "2024-12-11T22:20:33.188279Z",
     "start_time": "2024-12-11T22:20:32.921589Z"
    }
   },
   "outputs": [],
   "source": [
    "X_train.drop(columns = drop, axis = 1, inplace = True)\n",
    "X_val.drop(columns = drop, axis = 1, inplace = True)\n",
    "test.drop(columns = drop, axis = 1, inplace = True)"
   ]
  },
  {
   "cell_type": "markdown",
   "id": "4381807d",
   "metadata": {},
   "source": [
    "# 2.2 Missing Values\n",
    "\n",
    "<a href=\"#top\">Top &#129033;</a>"
   ]
  },
  {
   "cell_type": "code",
   "execution_count": null,
   "id": "c2065b78",
   "metadata": {
    "ExecuteTime": {
     "end_time": "2024-12-12T10:47:39.844819Z",
     "start_time": "2024-12-12T10:47:39.792869Z"
    },
    "scrolled": true
   },
   "outputs": [],
   "source": [
    "X_train.isna().sum()"
   ]
  },
  {
   "cell_type": "markdown",
   "id": "8ae8e32d",
   "metadata": {},
   "source": [
    "### 2.2.1 Dealing with Missing Values\n",
    "\n",
    "In this subsection we will use the existence of missing values to create new features"
   ]
  },
  {
   "cell_type": "markdown",
   "id": "d10ab849",
   "metadata": {},
   "source": [
    "**C-3 Date**\n",
    "\n",
    "Create a Binary variable:\n",
    "- 0 if C-3 date is missing\n",
    "- 1 if C-3 date exists"
   ]
  },
  {
   "cell_type": "code",
   "execution_count": null,
   "id": "4351e5d6",
   "metadata": {
    "ExecuteTime": {
     "end_time": "2024-12-11T22:20:33.315316Z",
     "start_time": "2024-12-11T22:20:33.266702Z"
    }
   },
   "outputs": [],
   "source": [
    "X_train['C-3 Date Binary'] = X_train['C-3 Date'].notna().astype(int)\n",
    "X_val['C-3 Date Binary'] = X_val['C-3 Date'].notna().astype(int)\n",
    "test['C-3 Date Binary'] = test['C-3 Date'].notna().astype(int)"
   ]
  },
  {
   "cell_type": "markdown",
   "id": "c5123dc0",
   "metadata": {},
   "source": [
    "**First Hearing Date**\n",
    "\n",
    "Create a Binary variable:\n",
    "- 0 if First Hearing Date is missing\n",
    "- 1 if First Hearing Date exists"
   ]
  },
  {
   "cell_type": "code",
   "execution_count": null,
   "id": "c953f07b",
   "metadata": {
    "ExecuteTime": {
     "end_time": "2024-12-11T22:20:33.379334Z",
     "start_time": "2024-12-11T22:20:33.327136Z"
    }
   },
   "outputs": [],
   "source": [
    "X_train['First Hearing Date Binary'] = X_train['First Hearing Date'].notna().astype(int)\n",
    "X_val['First Hearing Date Binary'] = X_val['First Hearing Date'].notna().astype(int)\n",
    "test['First Hearing Date Binary'] = test['First Hearing Date'].notna().astype(int)"
   ]
  },
  {
   "cell_type": "markdown",
   "id": "985a9fa1",
   "metadata": {},
   "source": [
    "Remove transformed features."
   ]
  },
  {
   "cell_type": "code",
   "execution_count": 60,
   "id": "0d627fd6",
   "metadata": {
    "ExecuteTime": {
     "end_time": "2024-12-11T22:20:33.386374Z",
     "start_time": "2024-12-11T22:20:33.382435Z"
    }
   },
   "outputs": [],
   "source": [
    "drop = ['C-3 Date', 'First Hearing Date']"
   ]
  },
  {
   "cell_type": "code",
   "execution_count": null,
   "id": "cf0381d9",
   "metadata": {
    "ExecuteTime": {
     "end_time": "2024-12-11T22:20:33.621833Z",
     "start_time": "2024-12-11T22:20:33.393309Z"
    }
   },
   "outputs": [],
   "source": [
    "X_train.drop(columns = drop, axis = 1, inplace = True)\n",
    "X_val.drop(columns = drop, axis = 1, inplace = True)\n",
    "test.drop(columns = drop, axis = 1, inplace = True)"
   ]
  },
  {
   "cell_type": "markdown",
   "id": "ad280aba",
   "metadata": {},
   "source": [
    "### 2.2.2 Filling Missing Values\n",
    "\n",
    "In this subsection we will deal with missing values by filling them with constants, statistical methods and using predictive models."
   ]
  },
  {
   "cell_type": "markdown",
   "id": "6a1e0ced",
   "metadata": {},
   "source": [
    "**IME-4 Count**\n",
    "\n",
    "Since IME-4 Count represents the number of IME-4 forms received per claim, we considered that a missing value represented 0 received forms, hence we will fill them with 0."
   ]
  },
  {
   "cell_type": "code",
   "execution_count": 62,
   "id": "a801e287",
   "metadata": {
    "ExecuteTime": {
     "end_time": "2024-12-11T22:20:33.642498Z",
     "start_time": "2024-12-11T22:20:33.624189Z"
    }
   },
   "outputs": [],
   "source": [
    "X_train['IME-4 Count'] = X_train['IME-4 Count'].fillna(0)\n",
    "X_val['IME-4 Count'] = X_val['IME-4 Count'].fillna(0)\n",
    "test['IME-4 Count'] = test['IME-4 Count'].fillna(0)"
   ]
  },
  {
   "cell_type": "markdown",
   "id": "05e9590c",
   "metadata": {},
   "source": [
    "**Industry Code**\n",
    "\n",
    "Assuming that a missing value in Industry Code represents an unknown code, it will be filled with 0."
   ]
  },
  {
   "cell_type": "code",
   "execution_count": 63,
   "id": "cb9a5170",
   "metadata": {
    "ExecuteTime": {
     "end_time": "2024-12-11T22:20:33.664988Z",
     "start_time": "2024-12-11T22:20:33.645246Z"
    }
   },
   "outputs": [],
   "source": [
    "X_train['Industry Code'] = X_train['Industry Code'].fillna(0)\n",
    "X_val['Industry Code'] = X_val['Industry Code'].fillna(0)\n",
    "test['Industry Code'] = test['Industry Code'].fillna(0)"
   ]
  },
  {
   "cell_type": "markdown",
   "id": "8f982674",
   "metadata": {},
   "source": [
    "**Accident Date** & **C-2 Date**\n",
    "\n",
    "Fill Year, Month and Day with median. Then recompute full date and from there fill missing values in Day of Week"
   ]
  },
  {
   "cell_type": "code",
   "execution_count": 64,
   "id": "5a47e162",
   "metadata": {
    "ExecuteTime": {
     "end_time": "2024-12-11T22:20:34.732426Z",
     "start_time": "2024-12-11T22:20:33.667504Z"
    }
   },
   "outputs": [],
   "source": [
    "p.fill_dates(X_train, [X_val, test], 'Accident Date')\n",
    "p.fill_dates(X_train, [X_val, test], 'C-2 Date')"
   ]
  },
  {
   "cell_type": "markdown",
   "id": "527385aa",
   "metadata": {},
   "source": [
    "Identify missing values and recompute Accident Date and C-2 Date to fill Day of the week"
   ]
  },
  {
   "cell_type": "code",
   "execution_count": 65,
   "id": "3e1978bb",
   "metadata": {
    "ExecuteTime": {
     "end_time": "2024-12-11T22:20:36.098976Z",
     "start_time": "2024-12-11T22:20:34.735099Z"
    }
   },
   "outputs": [],
   "source": [
    "p.fill_dow([X_train, X_val, test], 'Accident Date')\n",
    "p.fill_dow([X_train, X_val, test], 'C-2 Date')"
   ]
  },
  {
   "cell_type": "markdown",
   "id": "96253a64",
   "metadata": {},
   "source": [
    "**Time Between**\n",
    "\n",
    "Fill missing values with the recomputed times using the medians computed above."
   ]
  },
  {
   "cell_type": "code",
   "execution_count": null,
   "id": "ace757c0",
   "metadata": {
    "ExecuteTime": {
     "end_time": "2024-12-11T22:20:43.257305Z",
     "start_time": "2024-12-11T22:20:36.101670Z"
    }
   },
   "outputs": [],
   "source": [
    "X_train = p.fill_missing_times(X_train, ['Accident to Assembly Time', \n",
    "                             'Assembly to C-2 Time',\n",
    "                             'Accident to C-2 Time'])\n",
    "\n",
    "X_val = p.fill_missing_times(X_val, ['Accident to Assembly Time', \n",
    "                             'Assembly to C-2 Time',\n",
    "                             'Accident to C-2 Time'])\n",
    "\n",
    "test = p.fill_missing_times(test, ['Accident to Assembly Time', \n",
    "                             'Assembly to C-2 Time',\n",
    "                             'Accident to C-2 Time'])"
   ]
  },
  {
   "cell_type": "markdown",
   "id": "9b19ee00",
   "metadata": {},
   "source": [
    "**Birth Year**\n",
    "\n",
    "To fill the missing values, we will start by creating a mask, which filters for observations where `Age at Injury` and `Accident Date Year` are not missing, and when `Birth Year` is either missing or zero. Since we are going to use `Age at Injury` and `Accident Date Year` to compute `Birth Year`, ensuring those two variables are no missing is crucial. Then, we also decided to recompute the `Birth Year` when it is 0, since it is impossible to have 0 as a `Birth Year`."
   ]
  },
  {
   "cell_type": "code",
   "execution_count": 36,
   "id": "e22b9918",
   "metadata": {
    "ExecuteTime": {
     "end_time": "2024-12-11T22:20:43.397102Z",
     "start_time": "2024-12-11T22:20:43.259849Z"
    }
   },
   "outputs": [],
   "source": [
    "p.fill_birth_year([X_train, X_val, test])"
   ]
  },
  {
   "cell_type": "markdown",
   "id": "79f3d400",
   "metadata": {},
   "source": [
    "**Average Weekly Wage**"
   ]
  },
  {
   "cell_type": "code",
   "execution_count": 37,
   "id": "559d2e0d",
   "metadata": {
    "ExecuteTime": {
     "end_time": "2024-12-11T22:22:14.425693Z",
     "start_time": "2024-12-11T22:20:43.399955Z"
    },
    "scrolled": true
   },
   "outputs": [],
   "source": [
    "p.ball_tree_impute([X_train, X_val, test], 'Average Weekly Wage')"
   ]
  },
  {
   "cell_type": "markdown",
   "id": "ce6a0f05",
   "metadata": {},
   "source": [
    "Having treated all missing values, we will create one last feature\n",
    "\n",
    "**Wage to Age Ratio**"
   ]
  },
  {
   "cell_type": "code",
   "execution_count": 38,
   "id": "8e784c25",
   "metadata": {
    "ExecuteTime": {
     "end_time": "2024-12-11T22:22:14.440937Z",
     "start_time": "2024-12-11T22:22:14.428153Z"
    }
   },
   "outputs": [],
   "source": [
    "X_train['Wage to Age Ratio'] = np.where(X_train['Age at Injury'] != 0,\n",
    "                                         X_train['Average Weekly Wage'] / X_train['Age at Injury'],\n",
    "                                         0)\n",
    "\n",
    "X_val['Wage to Age Ratio'] = np.where(X_val['Age at Injury'] != 0,\n",
    "                                         X_val['Average Weekly Wage'] / X_val['Age at Injury'],\n",
    "                                         0)\n",
    "\n",
    "test['Wage to Age Ratio'] = np.where(test['Age at Injury'] != 0,\n",
    "                                         test['Average Weekly Wage'] / test['Age at Injury'],\n",
    "                                         0)"
   ]
  },
  {
   "cell_type": "markdown",
   "id": "4b86d837",
   "metadata": {},
   "source": [
    "# 2.3 Outliers\n",
    "\n",
    "<a href=\"#top\">Top &#129033;</a>"
   ]
  },
  {
   "cell_type": "markdown",
   "id": "8ace9e45",
   "metadata": {},
   "source": [
    "### Outlier Detection\n",
    "\n",
    "To detect outliers we will use a function that plots boxplots and identifies outliers based on the Interquartile Range method. This function will also add to a list all columns with a higher percentage of outliers than a previously set threshold."
   ]
  },
  {
   "cell_type": "code",
   "execution_count": null,
   "id": "c2dcbf08",
   "metadata": {
    "ExecuteTime": {
     "end_time": "2024-12-11T22:23:02.386592Z",
     "start_time": "2024-12-11T22:22:14.443364Z"
    },
    "scrolled": true
   },
   "outputs": [],
   "source": [
    "p.detect_outliers_iqr(X_train, 0.0001)"
   ]
  },
  {
   "cell_type": "markdown",
   "id": "c3d0edc3",
   "metadata": {},
   "source": [
    "### Dealing With Outliers\n"
   ]
  },
  {
   "cell_type": "markdown",
   "id": "3792791d",
   "metadata": {},
   "source": [
    "**Average Weekly Wage**"
   ]
  },
  {
   "cell_type": "markdown",
   "id": "433a20c1",
   "metadata": {},
   "source": [
    "Apply a square root transformation"
   ]
  },
  {
   "cell_type": "code",
   "execution_count": 41,
   "id": "b60e53dc",
   "metadata": {
    "ExecuteTime": {
     "end_time": "2024-12-11T22:23:02.430584Z",
     "start_time": "2024-12-11T22:23:02.420648Z"
    }
   },
   "outputs": [],
   "source": [
    "X_train['Average Weekly Wage Sqrt'] = np.sqrt(X_train['Average Weekly Wage'])\n",
    "\n",
    "X_val['Average Weekly Wage Sqrt'] = np.sqrt(X_val['Average Weekly Wage'])\n",
    "\n",
    "test['Average Weekly Wage Sqrt'] = np.sqrt(test['Average Weekly Wage'])"
   ]
  },
  {
   "cell_type": "markdown",
   "id": "cbfaed1e",
   "metadata": {},
   "source": [
    "Winsorization for `Average Weekly Wage`"
   ]
  },
  {
   "cell_type": "code",
   "execution_count": 40,
   "id": "84dec6f8",
   "metadata": {
    "ExecuteTime": {
     "end_time": "2024-12-11T22:23:02.417735Z",
     "start_time": "2024-12-11T22:23:02.389255Z"
    }
   },
   "outputs": [],
   "source": [
    "upper_limit = X_train['Average Weekly Wage'].quantile(0.99)\n",
    "lower_limit = X_train['Average Weekly Wage'].quantile(0.01)\n",
    "\n",
    "\n",
    "X_train['Average Weekly Wage'] = X_train['Average Weekly Wage'].clip(lower = lower_limit\n",
    "                                                                  , upper=upper_limit)"
   ]
  },
  {
   "cell_type": "markdown",
   "id": "1f57f592",
   "metadata": {},
   "source": [
    "**Birth Year**"
   ]
  },
  {
   "cell_type": "code",
   "execution_count": 42,
   "id": "ec68ecf0",
   "metadata": {
    "ExecuteTime": {
     "end_time": "2024-12-11T22:23:02.448535Z",
     "start_time": "2024-12-11T22:23:02.433594Z"
    }
   },
   "outputs": [],
   "source": [
    "lower_limit = X_train['Birth Year'].quantile(0.01)\n",
    "\n",
    "X_train['Birth Year'] = X_train['Birth Year'].clip(lower = lower_limit)"
   ]
  },
  {
   "cell_type": "markdown",
   "id": "058c6746",
   "metadata": {},
   "source": [
    "**IME-4 Count**"
   ]
  },
  {
   "cell_type": "code",
   "execution_count": 43,
   "id": "6b81b7b1",
   "metadata": {
    "ExecuteTime": {
     "end_time": "2024-12-11T22:23:02.483722Z",
     "start_time": "2024-12-11T22:23:02.451093Z"
    }
   },
   "outputs": [],
   "source": [
    "X_train['IME-4 Count Log'] = np.log1p(X_train['IME-4 Count'])\n",
    "X_train['IME-4 Count Double Log'] = np.log1p(X_train['IME-4 Count Log'])\n",
    "\n",
    "X_val['IME-4 Count Log'] = np.log1p(X_val['IME-4 Count'])\n",
    "X_val['IME-4 Count Double Log'] = np.log1p(X_val['IME-4 Count Log'])\n",
    "\n",
    "test['IME-4 Count Log'] = np.log1p(test['IME-4 Count'])\n",
    "test['IME-4 Count Double Log'] = np.log1p(test['IME-4 Count Log'])"
   ]
  },
  {
   "cell_type": "markdown",
   "id": "738a7563",
   "metadata": {},
   "source": [
    "**Accident Date Year**"
   ]
  },
  {
   "cell_type": "code",
   "execution_count": 44,
   "id": "4ca1bb75",
   "metadata": {
    "ExecuteTime": {
     "end_time": "2024-12-11T22:23:02.502302Z",
     "start_time": "2024-12-11T22:23:02.486113Z"
    }
   },
   "outputs": [],
   "source": [
    "lower_limit = X_train['Accident Date Year'].quantile(0.01)\n",
    "\n",
    "X_train['Accident Date Year'] = X_train['Accident Date Year'].clip(lower = lower_limit)"
   ]
  },
  {
   "cell_type": "markdown",
   "id": "64192a60",
   "metadata": {},
   "source": [
    "**C-2 Date Year**"
   ]
  },
  {
   "cell_type": "code",
   "execution_count": 45,
   "id": "07717c7c",
   "metadata": {
    "ExecuteTime": {
     "end_time": "2024-12-11T22:23:02.517901Z",
     "start_time": "2024-12-11T22:23:02.504825Z"
    }
   },
   "outputs": [],
   "source": [
    "lower_limit = X_train['C-2 Date Year'].quantile(0.01)\n",
    "\n",
    "X_train['C-2 Date Year'] = X_train['C-2 Date Year'].clip(lower = lower_limit)"
   ]
  },
  {
   "cell_type": "markdown",
   "id": "f552c6b5",
   "metadata": {},
   "source": [
    "## 2.4 Scaling"
   ]
  },
  {
   "cell_type": "markdown",
   "id": "74e42ced",
   "metadata": {},
   "source": [
    "Ensure y_train has the same indices as X_train"
   ]
  },
  {
   "cell_type": "code",
   "execution_count": 46,
   "id": "e9d3cf4a",
   "metadata": {
    "ExecuteTime": {
     "end_time": "2024-12-11T21:43:20.849083Z",
     "start_time": "2024-12-11T21:43:20.813092Z"
    }
   },
   "outputs": [],
   "source": [
    "y_train = y_train[X_train.index]"
   ]
  },
  {
   "cell_type": "markdown",
   "id": "e9265893",
   "metadata": {},
   "source": [
    "**Variable type split**"
   ]
  },
  {
   "cell_type": "code",
   "execution_count": 31,
   "id": "8e1813bd",
   "metadata": {
    "ExecuteTime": {
     "end_time": "2024-12-12T10:47:49.410581Z",
     "start_time": "2024-12-12T10:47:49.404989Z"
    }
   },
   "outputs": [],
   "source": [
    "num = ['Age at Injury', 'Average Weekly Wage', 'Birth Year',\n",
    "       'IME-4 Count', 'Number of Dependents', 'Accident Date Year',\n",
    "       'Accident Date Month', 'Accident Date Day', \n",
    "       'Assembly Date Year', 'Assembly Date Month', \n",
    "       'Assembly Date Day', 'C-2 Date Year', 'C-2 Date Month',\n",
    "       'C-2 Date Day', 'Accident to Assembly Time',\n",
    "       'Assembly to C-2 Time', 'Accident to C-2 Time', \n",
    "       'Wage to Age Ratio', 'Average Weekly Wage Sqrt',\n",
    "       'IME-4 Count Log', 'IME-4 Count Double Log']\n",
    "\n",
    "categ = [var for var in X_train.columns if var not in num]\n",
    "\n",
    "categ_count_encoding = ['Carrier Name Enc', 'Carrier Type Enc',\n",
    "                        'County of Injury Enc', 'District Name Enc',\n",
    "                        'Medical Fee Region Enc', 'Industry Sector Enc']\n",
    "\n",
    "\n",
    "categ_label_bin = [var for var in X_train.columns if var\n",
    "                   in categ and var not in categ_count_encoding]\n"
   ]
  },
  {
   "cell_type": "markdown",
   "id": "a150429b",
   "metadata": {},
   "source": [
    "**Scaling**"
   ]
  },
  {
   "cell_type": "code",
   "execution_count": null,
   "id": "a565a9e7",
   "metadata": {
    "ExecuteTime": {
     "end_time": "2024-12-11T15:26:06.768341Z",
     "start_time": "2024-12-11T15:26:06.278896Z"
    },
    "collapsed": true
   },
   "outputs": [],
   "source": [
    "robust = RobustScaler()"
   ]
  },
  {
   "cell_type": "code",
   "execution_count": null,
   "id": "6a3a6754",
   "metadata": {
    "ExecuteTime": {
     "end_time": "2024-12-09T11:16:57.206369Z",
     "start_time": "2024-12-09T11:16:57.206358Z"
    }
   },
   "outputs": [],
   "source": [
    "# Scaling the numerical features in the training set using RobustScaler\n",
    "X_train_num_RS = robust.fit_transform(X_train[num])\n",
    "X_train_num_RS = pd.DataFrame(X_train_num_RS, columns=num, index=X_train.index)"
   ]
  },
  {
   "cell_type": "code",
   "execution_count": null,
   "id": "c47afdb2",
   "metadata": {
    "ExecuteTime": {
     "end_time": "2024-12-09T11:16:57.207655Z",
     "start_time": "2024-12-09T11:16:57.207641Z"
    }
   },
   "outputs": [],
   "source": [
    "# Scaling the numerical features in the validation set using the fitted RobustScaler\n",
    "X_val_num_RS = robust.transform(X_val[num])\n",
    "X_val_num_RS = pd.DataFrame(X_val_num_RS, columns=num, index=X_val.index)\n",
    "\n",
    "# Scaling the numerical features in the test set using the same fitted RobustScaler\n",
    "test_num_RS = robust.transform(test[num])\n",
    "test_num_RS = pd.DataFrame(test_num_RS, columns=num, index=test.index)"
   ]
  },
  {
   "cell_type": "markdown",
   "id": "7fe7fe93",
   "metadata": {},
   "source": [
    "** ** \n",
    "\n",
    "Having performed all data transformations, we will export the data to later use it in the Modelling section of this notebook. This will allow to save time by not always having to run computationally expensive methods such as RFE.\n",
    "\n",
    "To go to the Modelling section click in the button.\n",
    "\n",
    "[Go to Modeling &#129034;](#modeling)\n",
    "\n",
    "<a class=\"anchor\" id=\"feature-selection\"></a>\n",
    "\n"
   ]
  },
  {
   "cell_type": "code",
   "execution_count": 46,
   "id": "1cc213e0",
   "metadata": {
    "ExecuteTime": {
     "end_time": "2024-12-11T22:23:24.850269Z",
     "start_time": "2024-12-11T22:23:02.520384Z"
    }
   },
   "outputs": [],
   "source": [
    "# X_train.to_csv('./data/X_train_treated.csv')\n",
    "# X_val.to_csv('./data/X_val_treated.csv')\n",
    "# y_train.to_csv('./data/y_train_treated.csv')\n",
    "# y_val.to_csv('./data/y_val_treated.csv')\n",
    "# test.to_csv('./data/test_treated.csv')"
   ]
  },
  {
   "cell_type": "markdown",
   "id": "b2bacc46",
   "metadata": {},
   "source": [
    "** **"
   ]
  },
  {
   "cell_type": "markdown",
   "id": "64e1670f",
   "metadata": {},
   "source": [
    "# 3. Feature Selection\n",
    "\n",
    "<a href=\"#top\">Top &#129033;</a>\n",
    "\n",
    "In this section we will perform Feature Selection. Having already split our variables into *Numeric*, *Categorical*, *Categorical encoded using Count Encoding* and *Categorical (other)*, we will apply the following methods:\n",
    "\n",
    "<br>\n",
    "\n",
    "| Method                        | Feature Types |\n",
    "| ----------------------------- | ------------- |\n",
    "| Variance Threshold            | All           |\n",
    "| Correlation                   | Numerical     |\n",
    "| Chi-Square Test               | Categorical   |\n",
    "| Mutual Information            | Categorical   |\n",
    "| RFE                           | All           |\n",
    "| LASSO                         | Numerical     |\n",
    "| Tree-Based Feature Importance | All           |\n"
   ]
  },
  {
   "cell_type": "markdown",
   "id": "ff729aff",
   "metadata": {},
   "source": [
    "## 3.1 Filter-Based Methods\n",
    "\n",
    "<a href=\"#top\">Top &#129033;</a>\n",
    "\n",
    "Filter-based methods evaluate the relevance of features independently of the model using statistical measures like correlation, Chi-square tests, and mutual information. This section explores how these methods help reduce dimensionality, improve model performance, and prevent overfitting by selecting the most informative features.\n",
    "\n"
   ]
  },
  {
   "cell_type": "markdown",
   "id": "d099e231",
   "metadata": {},
   "source": [
    "**Variance Threshold**"
   ]
  },
  {
   "cell_type": "code",
   "execution_count": null,
   "id": "47c05ab2",
   "metadata": {
    "ExecuteTime": {
     "end_time": "2024-12-12T10:47:52.980898Z",
     "start_time": "2024-12-12T10:47:52.804706Z"
    }
   },
   "outputs": [],
   "source": [
    "X_train[num].var() "
   ]
  },
  {
   "cell_type": "markdown",
   "id": "cf2e4a36",
   "metadata": {},
   "source": [
    "**Spearman Correlation Matrix**"
   ]
  },
  {
   "cell_type": "code",
   "execution_count": null,
   "id": "ee19fd1c",
   "metadata": {
    "ExecuteTime": {
     "end_time": "2024-12-12T10:47:57.950919Z",
     "start_time": "2024-12-12T10:47:56.246759Z"
    },
    "scrolled": false
   },
   "outputs": [],
   "source": [
    "fs.correlation_matrix(X_train[num])"
   ]
  },
  {
   "cell_type": "markdown",
   "id": "a57aa6da",
   "metadata": {},
   "source": [
    "**Chi Squared Test**"
   ]
  },
  {
   "cell_type": "code",
   "execution_count": null,
   "id": "b87824c8",
   "metadata": {
    "ExecuteTime": {
     "end_time": "2024-12-12T10:47:59.765303Z",
     "start_time": "2024-12-12T10:47:59.077845Z"
    }
   },
   "outputs": [],
   "source": [
    "fs.chi_squared(X_train[categ_label_bin], y_train)"
   ]
  },
  {
   "cell_type": "markdown",
   "id": "8795ef5d",
   "metadata": {
    "ExecuteTime": {
     "end_time": "2024-12-01T16:38:05.837521Z",
     "start_time": "2024-12-01T16:38:05.832896Z"
    }
   },
   "source": [
    "**Mutual Information Test**"
   ]
  },
  {
   "cell_type": "code",
   "execution_count": null,
   "id": "9df463fc",
   "metadata": {
    "ExecuteTime": {
     "end_time": "2024-12-12T10:49:13.158055Z",
     "start_time": "2024-12-12T10:48:00.256190Z"
    }
   },
   "outputs": [],
   "source": [
    "fs.mutual_info(X_train[categ], y_train, threshold = 0.05)"
   ]
  },
  {
   "cell_type": "markdown",
   "id": "ae9b5c1a",
   "metadata": {},
   "source": [
    "## 3.2 Wrapper Methods\n",
    "\n",
    "<a href=\"#top\">Top &#129033;</a>\n",
    "\n",
    "Unlike filter methods, which assess features independently, wrapper methods evaluate the effectiveness of feature subsets by measuring the model’s performance, making them more computationally expensive but often more accurate in selecting relevant features."
   ]
  },
  {
   "cell_type": "markdown",
   "id": "ee917e8d",
   "metadata": {},
   "source": [
    "**Recursive Feature Elimination (RFE) - Logistic Regression**"
   ]
  },
  {
   "cell_type": "code",
   "execution_count": null,
   "id": "fb79eba0",
   "metadata": {
    "ExecuteTime": {
     "end_time": "2024-12-12T16:30:37.908753Z",
     "start_time": "2024-12-12T10:58:12.140158Z"
    },
    "scrolled": true
   },
   "outputs": [],
   "source": [
    "n_features = np.arange(10, len(X_train.columns) + 1)\n",
    "model = LogisticRegression()\n",
    "rfe(X_train, y_train, X_val, y_val, \n",
    "    n_features = n_features, \n",
    "    model = model)"
   ]
  },
  {
   "cell_type": "code",
   "execution_count": null,
   "id": "27885430",
   "metadata": {
    "ExecuteTime": {
     "end_time": "2024-12-12T16:30:37.912108Z",
     "start_time": "2024-12-12T16:30:37.912081Z"
    }
   },
   "outputs": [],
   "source": [
    "import play_song as p\n",
    "p.play_('audio.mp3')"
   ]
  },
  {
   "cell_type": "markdown",
   "id": "c029789a",
   "metadata": {},
   "source": [
    "**Recursive Feature Elimination (RFE) - Random Forest Classifier**"
   ]
  },
  {
   "cell_type": "code",
   "execution_count": null,
   "id": "c93d35cf",
   "metadata": {
    "ExecuteTime": {
     "end_time": "2024-12-09T11:16:57.217960Z",
     "start_time": "2024-12-09T11:16:57.217945Z"
    },
    "scrolled": true
   },
   "outputs": [],
   "source": [
    "# Perform Recursive Feature Elimination (RFE) to select the top features based on their importance for a logistic regression model\n",
    "n_features = np.arange(2, len(X_train[num].columns) + 1)\n",
    "model = RandomForestClassifier()\n",
    "fs.rfe(X_train[num], y_train, n_features = n_features, model = model)\n",
    "\n",
    "# "
   ]
  },
  {
   "cell_type": "markdown",
   "id": "465e9417",
   "metadata": {},
   "source": [
    "## 3.3 Embedded Methods\n",
    "\n",
    "<a href=\"#top\">Top &#129033;</a>\n",
    "\n",
    "These methods use algorithms that inherently select features as part of the model’s learning process. Embedded methods are computationally efficient and tend to be more accurate than filter methods, as they consider feature interactions and model performance simultaneously.\n"
   ]
  },
  {
   "cell_type": "markdown",
   "id": "03581eda",
   "metadata": {},
   "source": [
    "**Least Absolute Shrinkage and Selection Operator (LASSO)**"
   ]
  },
  {
   "cell_type": "code",
   "execution_count": null,
   "id": "c708b7a2",
   "metadata": {
    "ExecuteTime": {
     "end_time": "2024-12-12T10:57:35.194103Z",
     "start_time": "2024-12-12T10:57:32.311048Z"
    }
   },
   "outputs": [],
   "source": [
    "fs.lasso(X_train[num], y_train, alpha = 0.01)"
   ]
  },
  {
   "cell_type": "code",
   "execution_count": null,
   "id": "441148da",
   "metadata": {
    "ExecuteTime": {
     "end_time": "2024-12-12T10:57:38.133519Z",
     "start_time": "2024-12-12T10:57:36.513088Z"
    }
   },
   "outputs": [],
   "source": [
    "fs.lasso(X_train[categ], y_train, alpha = 0.01)"
   ]
  },
  {
   "cell_type": "markdown",
   "id": "168fb2ac",
   "metadata": {},
   "source": [
    "**Extra Trees Classifier**"
   ]
  },
  {
   "cell_type": "code",
   "execution_count": null,
   "id": "a28cbfa7",
   "metadata": {
    "ExecuteTime": {
     "end_time": "2024-12-12T10:56:47.185948Z",
     "start_time": "2024-12-12T10:51:56.330444Z"
    }
   },
   "outputs": [],
   "source": [
    "fs.plot_feature_importance(X_train[num], X_train[categ], y_train, \n",
    "                        n_estimators = 250)"
   ]
  },
  {
   "cell_type": "markdown",
   "id": "74c4ed64",
   "metadata": {},
   "source": [
    "[Go to Modeling &#129034;](#modeling)"
   ]
  },
  {
   "cell_type": "markdown",
   "id": "558307e6",
   "metadata": {},
   "source": [
    "## 3.4 Final Features\n",
    "\n",
    "<a href=\"#top\">Top &#129033;</a>"
   ]
  },
  {
   "cell_type": "markdown",
   "id": "f6cbf473",
   "metadata": {},
   "source": [
    "**Final Decision**\n",
    "\n",
    "<br>\n",
    "\n",
    "`Numeric Variables`\n",
    "<br><br>\n",
    "\n",
    "\n",
    "| Variable                   | Variance | Correlation | RFE LR | RFE RF | Lasso | ExtraTrees | `Decision` |\n",
    "| -------------------------- | -------- | ----------- | ------ | ------ | ----- | ---------- | ---------- |\n",
    "| Accident Date Day          |    K     |             |        |        |   D   |            |            |\n",
    "| Accident Date Month        |    K     |             |        |        |   D   |            |            |\n",
    "| Accident Date Year         |    K     |    HC_4     |        |        |   D   |            |            |\n",
    "| Accident to Assembly Time  |    K     |             |        |        |   K   |            |            |\n",
    "| Accident to C-2 Time       |    K     |             |        |        |   K   |            |            |\n",
    "| Age at Injury              |    K     |    HC_3     |        |        |   K   |            |            |\n",
    "| Assembly Date Day          |    K     |             |        |        |   D   |            |            |\n",
    "| Assembly Date Month        |    K     |             |        |        |   D   |            |            |\n",
    "| Assembly Date Year         |    K     |    HC_4     |        |        |   K   |            |            |\n",
    "| Assembly to C-2 Time       |    K     |             |        |        |   K   |            |            |\n",
    "| Average Weekly Wage        |    K     |    HC_2     |        |        |   K   |            |            |\n",
    "| Average Weekly Wage Sqrt   |    K     |    HC_2     |        |        |   K   |            |            |\n",
    "| Birth Year                 |    K     |    HC_3     |        |        |   K   |            |            |\n",
    "| C-2 Date Day               |    K     |             |        |        |   K   |            |            |\n",
    "| C-2 Date Month             |    K     |             |        |        |   K   |            |            |\n",
    "| C-2 Date Year              |    K     |    HC_4     |        |        |   D   |            |            |\n",
    "| IME-4 Count                |    K     |    HC_1     |        |        |   K   |            |            |\n",
    "| IME-4 Count Double Log     |    K     |    HC_1     |        |        |   D   |            |            |\n",
    "| IME-4 Count Log            |    K     |    HC_1     |        |        |   K   |            |            |\n",
    "| Number of Dependents       |    K     |             |        |        |   D   |            |            |\n",
    "| Wage to Age Ratio          |    K     |             |        |        |   K   |            |            |\n",
    "\n",
    "<br>\n",
    "\n",
    "`Categorical Variables`\n",
    "<br><br>\n",
    "\n",
    "\n",
    "| Variable                                | Chi-Squared | MI | RFE LR | RFE RF | Lasso | Extra trees | `Decision` |\n",
    "| --------------------------------------- | ----------- | -- | ------ | ------ | ----- | ----------- | ---------- |\n",
    "| Accident Date Day of Week               |      D      | D  |        |        |   K   |             |            |\n",
    "| Assembly Date Day of Week               |      D      | D  |        |        |   K   |             |            |\n",
    "| Age Group                               |      K      | K  |        |        |   K   |             |            |\n",
    "| Alternative Dispute Resolution Bin      |      K      | D  |        |        |   K   |             |            |\n",
    "| Attorney/Representative Bin             |      K      | K  |        |        |   K   |             |            |\n",
    "| Carrier Name Enc                        |      K      | K  |        |        |   K   |             |            |\n",
    "| Carrier Type Enc                        |      NA     | D  |        |        |   K   |             |            |\n",
    "| Carrier Type_2A. SIF                    |      K      | D  |        |        |   D   |             |            |\n",
    "| Carrier Type_3A. SELF PUBLIC            |      K      | D  |        |        |   D   |             |            |\n",
    "| Carrier Type_4A. SELF PRIVATE           |      K      | D  |        |        |   D   |             |            |\n",
    "| Carrier Type_5. SPECIAL FUND OR UNKNOWN |      K      | D  |        |        |   D   |             |            |\n",
    "| C-2 Date Day of Week                    |      K      | D  |        |        |   K   |             |            |\n",
    "| C-3 Date Binary                         |      K      | K  |        |        |   K   |             |            |\n",
    "| COVID-19 Indicator Enc                  |      K      | D  |        |        |   K   |             |            |\n",
    "| County of Injury Enc                    |      NA     | D  |        |        |   K   |             |            |\n",
    "| District Name Enc                       |      NA     | D  |        |        |   K   |             |            |\n",
    "| First Hearing Date Binary               |      K      | K  |        |        |   K   |             |            |\n",
    "| Gender Enc                              |      K      | D  |        |        |   K   |             |            |\n",
    "| Gender_M                                |      K      | D  |        |        |   D   |             |            |\n",
    "| Gender_U/X                              |      K      | D  |        |        |   D   |             |            |\n",
    "| Industry Code                           |      K      | K  |        |        |   K   |             |            |\n",
    "| Industry Sector Enc                     |      NA     | D  |        |        |   K   |             |            |\n",
    "| Insurance                               |      K      | D  |        |        |   D   |             |            |\n",
    "| Medical Fee Region Enc                  |      NA     | D  |        |        |   K   |             |            |\n",
    "| WCIO Cause of Injury Code               |      K      | K  |        |        |   K   |             |            |\n",
    "| WCIO Codes                              |      K      | K  |        |        |   K   |             |            |\n",
    "| WCIO Nature of Injury Code              |      K      | K  |        |        |   K   |             |            |\n",
    "| WCIO Part Of Body Code                  |      K      | K  |        |        |   K   |             |            |\n",
    "| Zip Code Valid                          |      D      | D  |        |        |   D   |             |            |\n",
    "\n",
    "\n",
    "\n",
    "| Symbol | Meaning |\n",
    "| ------ | ------- |\n",
    "| K      | Keep    |\n",
    "| D      | Discard |\n",
    "| HC_*N*   | High Correlation Identifier |\n",
    "| NA     | Not Applicable |\n"
   ]
  },
  {
   "cell_type": "code",
   "execution_count": null,
   "id": "6980f61f",
   "metadata": {},
   "outputs": [],
   "source": []
  },
  {
   "cell_type": "code",
   "execution_count": null,
   "id": "cb0df933",
   "metadata": {},
   "outputs": [],
   "source": []
  },
  {
   "cell_type": "markdown",
   "id": "6344b388",
   "metadata": {},
   "source": [
    "# 4. Modeling\n",
    "\n",
    "<a class=\"anchor\" id=\"modeling\"></a>\n",
    "\n",
    "[Go to Feature Selection &#129034;](#feature-selection)\n",
    "\n",
    "<a href=\"#top\">Top &#129033;</a>\n",
    "\n",
    "Start by importing the correct datasets.\n"
   ]
  },
  {
   "cell_type": "code",
   "execution_count": 3,
   "id": "1fb721b0",
   "metadata": {
    "ExecuteTime": {
     "end_time": "2024-12-12T09:32:19.727589Z",
     "start_time": "2024-12-12T09:32:14.856218Z"
    }
   },
   "outputs": [],
   "source": [
    "X_train = pd.read_csv('./data/X_train_treated.csv', index_col = 'Claim Identifier')\n",
    "X_val = pd.read_csv('./data/X_val_treated.csv', index_col = 'Claim Identifier')\n",
    "y_train = pd.read_csv('./data/y_train_treated.csv', index_col = 'Claim Identifier')\n",
    "y_val = pd.read_csv('./data/y_val_treated.csv', index_col = 'Claim Identifier')\n",
    "test = pd.read_csv('./data/test_treated.csv', index_col = 'Claim Identifier')"
   ]
  },
  {
   "cell_type": "markdown",
   "id": "886c6d0e",
   "metadata": {},
   "source": [
    "And select the columns to use for predictions purposes"
   ]
  },
  {
   "cell_type": "code",
   "execution_count": null,
   "id": "442b4360",
   "metadata": {},
   "outputs": [],
   "source": [
    "columns = []\n",
    "\n",
    "X_train_filtered = X_train[columns]\n",
    "X_val_filtered = X_val[columns]\n",
    "test_filtered = test[columns]"
   ]
  },
  {
   "cell_type": "code",
   "execution_count": 27,
   "id": "2558a150",
   "metadata": {
    "ExecuteTime": {
     "end_time": "2024-12-12T10:36:11.003122Z",
     "start_time": "2024-12-12T10:36:10.993131Z"
    }
   },
   "outputs": [],
   "source": [
    "from sklearn.metrics import f1_score, precision_score, recall_score\n",
    "\n",
    "\n",
    "def run_model(model_name, X, y):\n",
    "    \n",
    "    if model_name == 'LR':\n",
    "        model = LogisticRegression().fit(X, y)\n",
    "    elif model_name == 'SGD':\n",
    "        model = SGDClassifier().fit(X, y)\n",
    "    elif model_name == 'DT':\n",
    "        model = DecisionTreeClassifier().fit(X, y)\n",
    "    elif model_name == 'RF':\n",
    "        model = RandomForestClassifier().fit(X, y)\n",
    "    elif model_name == 'AdaBoost':\n",
    "        model = AdaBoostClassifier().fit(X, y)\n",
    "    elif model_name == 'GBoost':\n",
    "        model = GradientBoostingClassifier().fit(X, y)\n",
    "    elif model_name == 'XGB':\n",
    "        model = XGBClassifier().fit(X, y)\n",
    "    elif model_name == 'MLP':\n",
    "        model = MLPClassifier().fit(X, y)\n",
    "        \n",
    "    return model\n",
    "\n",
    "def modeling(model_names, X_train, y_train, X_val, y_val):\n",
    "    \n",
    "    results = {}\n",
    "    \n",
    "    for model_name in model_names:\n",
    "        print(f\"Training model: {model_name}\")\n",
    "        \n",
    "        # Train model\n",
    "        model = run_model(model_name, X_train, y_train)\n",
    "        \n",
    "        # Predict on train and validation data\n",
    "        y_train_pred = model.predict(X_train)\n",
    "        y_val_pred = model.predict(X_val)\n",
    "        \n",
    "        # Calculate metrics for the training set\n",
    "        train_precision = precision_score(y_train, y_train_pred, average='macro')\n",
    "        train_recall = recall_score(y_train, y_train_pred, average='macro')\n",
    "        train_f1 = f1_score(y_train, y_train_pred, average='macro')\n",
    "        \n",
    "        # Calculate metrics for the validation set\n",
    "        val_precision = precision_score(y_val, y_val_pred, average='macro')\n",
    "        val_recall = recall_score(y_val, y_val_pred, average='macro')\n",
    "        val_f1 = f1_score(y_val, y_val_pred, average='macro')\n",
    "        \n",
    "        # Save results\n",
    "        results[model_name] = {\n",
    "            'train_precision': train_precision,\n",
    "            'val_precision': val_precision,\n",
    "            'train_recall': train_recall,\n",
    "            'val_recall': val_recall,\n",
    "            'train_macro_f1': train_f1,\n",
    "            'val_macro_f1': val_f1\n",
    "        }\n",
    "        \n",
    "        print(f\"{model_name} - Train: Precision: {train_precision:.4f}, Recall: {train_recall:.4f}, Macro F1: {train_f1:.4f}\")\n",
    "        print(f\"{model_name} - Validation: Precision: {val_precision:.4f}, Recall: {val_recall:.4f}, Macro F1: {val_f1:.4f}\\n\")\n",
    "    \n",
    "    return results\n"
   ]
  },
  {
   "cell_type": "code",
   "execution_count": null,
   "id": "058215dd",
   "metadata": {
    "ExecuteTime": {
     "end_time": "2024-12-12T10:44:18.486717Z",
     "start_time": "2024-12-12T10:36:11.655297Z"
    },
    "scrolled": true
   },
   "outputs": [],
   "source": [
    "# Define the models to run\n",
    "model_names = ['LR', 'DT', 'RF', 'AdaBoost','XGB', 'MLP']\n",
    "\n",
    "results = modeling(model_names, X_train, y_train, X_val, y_val)"
   ]
  },
  {
   "cell_type": "code",
   "execution_count": null,
   "id": "d0e4e574",
   "metadata": {
    "ExecuteTime": {
     "end_time": "2024-12-12T10:35:54.360140Z",
     "start_time": "2024-12-12T10:35:54.360125Z"
    }
   },
   "outputs": [],
   "source": [
    "import play_song as s\n",
    "s.play_('audio.mp3')"
   ]
  },
  {
   "cell_type": "code",
   "execution_count": null,
   "id": "459beee2",
   "metadata": {
    "ExecuteTime": {
     "end_time": "2024-12-12T10:44:26.377530Z",
     "start_time": "2024-12-12T10:44:26.362703Z"
    }
   },
   "outputs": [],
   "source": [
    "results_df = pd.DataFrame(results).T\n",
    "results_df"
   ]
  },
  {
   "cell_type": "code",
   "execution_count": null,
   "id": "efab4f44",
   "metadata": {},
   "outputs": [],
   "source": []
  }
 ],
 "metadata": {
  "kernelspec": {
   "display_name": "DM2425",
   "language": "python",
   "name": "python3"
  },
  "language_info": {
   "codemirror_mode": {
    "name": "ipython",
    "version": 3
   },
   "file_extension": ".py",
   "mimetype": "text/x-python",
   "name": "python",
   "nbconvert_exporter": "python",
   "pygments_lexer": "ipython3",
   "version": "3.12.7"
  }
 },
 "nbformat": 4,
 "nbformat_minor": 5
}
