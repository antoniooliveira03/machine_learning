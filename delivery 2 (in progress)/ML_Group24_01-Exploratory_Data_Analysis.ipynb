{
 "cells": [
  {
   "cell_type": "markdown",
   "id": "c7d4dad5",
   "metadata": {},
   "source": [
    "# <center>Machine Learning Project Code</center>\n",
    "\n",
    "<a class=\"anchor\" id=\"top\"></a>\n",
    "\n",
    "## <center>*01 - Exploratory Data Analysis*</center>\n",
    "\n",
    "** **\n",
    "\n",
    "\n",
    "\n",
    "# Table of Contents  <br>\n",
    "\n",
    "\n",
    "1. [Importing Libraries & Data](#1.-Importing-Libraries-&-Data) <br><br>\n",
    "    \n",
    "2. [Exploratory Data Analysis](#2.-Exploratory-Data-Analysis)\n",
    "    \n",
    "   2.1 [Variable Exploration](#2.1-Variable-Exploration) <br>\n",
    "   \n",
    "   &emsp; 2.1.1 [Univariate Analysis](#2.1.1-Univariate-Analysis) <br>\n",
    "   \n",
    "   &emsp; 2.1.2 [Bivariate Analysis](#2.1.2-Bivariate-Analysis) <br><br>\n",
    "  \n",
    "3. [Data Cleaning & Preprocessing](#3.-Data-Cleaning-&-Preprocessing)\n",
    "\n",
    "   3.1 [Duplicates](#3.1-Duplicates) <br>\n",
    "   \n",
    "   3.2 [Feature Engineering](#3.2-Feature-Engineering) <br>\n",
    "   \n",
    "   &emsp; 3.2.1 [3.2.1 Class Grouping](#3.2.1-Class-Grouping) <br>\n",
    "   \n",
    "   &emsp; 3.2.2 [Feature Creation](#3.2.2-Feature-Creation) <br><br>\n",
    "\n",
    "4. [Export](#4.-Export)\n",
    "\n",
    "\n",
    "** **\n",
    "\n",
    "This notebook will consist of Exploratory Data Analysis and Data Cleaning and Preprocessing. To explore the data, several statistical methods and visualisations were used. In the Data Cleaning and Preprocessing, Duplicates will be addressed, Feature Engineering will be performed and missing values will be treated with simple methods (eg. fill with median). Then the treated data will be exported to be used in the following notebooks.\n",
    "\n",
    "Data Scientist Manager: António Oliveira, **20211595**\n",
    "\n",
    "Data Scientist Senior: Tomás Ribeiro, **20240526**\n",
    "\n",
    "Data Scientist Junior: Gonçalo Pacheco, **20240695**\n",
    "\n",
    "Data Analyst Senior: Gonçalo Custódio, **20211643**\n",
    "\n",
    "Data Analyst Junior: Ana Caleiro, **20240696**\n",
    "\n",
    "** **\n",
    "\n",
    "\n",
    "# 1. Importing Libraries & Data\n",
    "\n",
    "In this section, we set up the foundation for our project by importing the necessary Python libraries and loading the dataset. These libraries provide the tools for data manipulation, visualization, and machine learning modeling throughout the notebook. Additionally, we import the historical claims dataset, which forms the core of our analysis. "
   ]
  },
  {
   "cell_type": "code",
   "execution_count": 1,
   "id": "ad175104",
   "metadata": {
    "ExecuteTime": {
     "end_time": "2024-12-16T17:48:16.071710Z",
     "start_time": "2024-12-16T17:48:11.796801Z"
    }
   },
   "outputs": [],
   "source": [
    "import pandas as pd\n",
    "import numpy as np\n",
    "\n",
    "# Preprocessing\n",
    "import utils as u\n",
    "\n",
    "# Plots\n",
    "import matplotlib.pyplot as plt\n",
    "import seaborn as sns\n",
    "import viz as v\n",
    "import map_ as map_\n",
    "\n",
    "# from ydata_profiling import ProfileReport\n",
    "\n",
    "%matplotlib inline\n",
    "\n",
    "pd.set_option('display.max_columns', None)\n",
    "# Suppress Warnings\n",
    "import warnings\n",
    "warnings.filterwarnings(\"ignore\")"
   ]
  },
  {
   "cell_type": "markdown",
   "id": "a33bfd6a",
   "metadata": {},
   "source": [
    "**Import Data**"
   ]
  },
  {
   "cell_type": "code",
   "execution_count": 2,
   "id": "98f89462",
   "metadata": {
    "ExecuteTime": {
     "end_time": "2024-12-16T17:48:20.998465Z",
     "start_time": "2024-12-16T17:48:16.074951Z"
    }
   },
   "outputs": [
    {
     "data": {
      "text/html": [
       "<div>\n",
       "<style scoped>\n",
       "    .dataframe tbody tr th:only-of-type {\n",
       "        vertical-align: middle;\n",
       "    }\n",
       "\n",
       "    .dataframe tbody tr th {\n",
       "        vertical-align: top;\n",
       "    }\n",
       "\n",
       "    .dataframe thead th {\n",
       "        text-align: right;\n",
       "    }\n",
       "</style>\n",
       "<table border=\"1\" class=\"dataframe\">\n",
       "  <thead>\n",
       "    <tr style=\"text-align: right;\">\n",
       "      <th></th>\n",
       "      <th>Accident Date</th>\n",
       "      <th>Age at Injury</th>\n",
       "      <th>Alternative Dispute Resolution</th>\n",
       "      <th>Assembly Date</th>\n",
       "      <th>Attorney/Representative</th>\n",
       "      <th>Average Weekly Wage</th>\n",
       "      <th>Birth Year</th>\n",
       "      <th>C-2 Date</th>\n",
       "      <th>C-3 Date</th>\n",
       "      <th>Carrier Name</th>\n",
       "      <th>Carrier Type</th>\n",
       "      <th>Claim Injury Type</th>\n",
       "      <th>County of Injury</th>\n",
       "      <th>COVID-19 Indicator</th>\n",
       "      <th>District Name</th>\n",
       "      <th>First Hearing Date</th>\n",
       "      <th>Gender</th>\n",
       "      <th>IME-4 Count</th>\n",
       "      <th>Industry Code</th>\n",
       "      <th>Industry Code Description</th>\n",
       "      <th>Medical Fee Region</th>\n",
       "      <th>OIICS Nature of Injury Description</th>\n",
       "      <th>WCIO Cause of Injury Code</th>\n",
       "      <th>WCIO Cause of Injury Description</th>\n",
       "      <th>WCIO Nature of Injury Code</th>\n",
       "      <th>WCIO Nature of Injury Description</th>\n",
       "      <th>WCIO Part Of Body Code</th>\n",
       "      <th>WCIO Part Of Body Description</th>\n",
       "      <th>Zip Code</th>\n",
       "      <th>Agreement Reached</th>\n",
       "      <th>WCB Decision</th>\n",
       "      <th>Number of Dependents</th>\n",
       "    </tr>\n",
       "    <tr>\n",
       "      <th>Claim Identifier</th>\n",
       "      <th></th>\n",
       "      <th></th>\n",
       "      <th></th>\n",
       "      <th></th>\n",
       "      <th></th>\n",
       "      <th></th>\n",
       "      <th></th>\n",
       "      <th></th>\n",
       "      <th></th>\n",
       "      <th></th>\n",
       "      <th></th>\n",
       "      <th></th>\n",
       "      <th></th>\n",
       "      <th></th>\n",
       "      <th></th>\n",
       "      <th></th>\n",
       "      <th></th>\n",
       "      <th></th>\n",
       "      <th></th>\n",
       "      <th></th>\n",
       "      <th></th>\n",
       "      <th></th>\n",
       "      <th></th>\n",
       "      <th></th>\n",
       "      <th></th>\n",
       "      <th></th>\n",
       "      <th></th>\n",
       "      <th></th>\n",
       "      <th></th>\n",
       "      <th></th>\n",
       "      <th></th>\n",
       "      <th></th>\n",
       "    </tr>\n",
       "  </thead>\n",
       "  <tbody>\n",
       "    <tr>\n",
       "      <th>5393875</th>\n",
       "      <td>2019-12-30</td>\n",
       "      <td>31.0</td>\n",
       "      <td>N</td>\n",
       "      <td>2020-01-01</td>\n",
       "      <td>N</td>\n",
       "      <td>0.00</td>\n",
       "      <td>1988.0</td>\n",
       "      <td>2019-12-31</td>\n",
       "      <td>NaN</td>\n",
       "      <td>NEW HAMPSHIRE INSURANCE CO</td>\n",
       "      <td>1A. PRIVATE</td>\n",
       "      <td>2. NON-COMP</td>\n",
       "      <td>ST. LAWRENCE</td>\n",
       "      <td>N</td>\n",
       "      <td>SYRACUSE</td>\n",
       "      <td>NaN</td>\n",
       "      <td>M</td>\n",
       "      <td>NaN</td>\n",
       "      <td>44.0</td>\n",
       "      <td>RETAIL TRADE</td>\n",
       "      <td>I</td>\n",
       "      <td>NaN</td>\n",
       "      <td>27.0</td>\n",
       "      <td>FROM LIQUID OR GREASE SPILLS</td>\n",
       "      <td>10.0</td>\n",
       "      <td>CONTUSION</td>\n",
       "      <td>62.0</td>\n",
       "      <td>BUTTOCKS</td>\n",
       "      <td>13662</td>\n",
       "      <td>0.0</td>\n",
       "      <td>Not Work Related</td>\n",
       "      <td>1.0</td>\n",
       "    </tr>\n",
       "    <tr>\n",
       "      <th>5393091</th>\n",
       "      <td>2019-08-30</td>\n",
       "      <td>46.0</td>\n",
       "      <td>N</td>\n",
       "      <td>2020-01-01</td>\n",
       "      <td>Y</td>\n",
       "      <td>1745.93</td>\n",
       "      <td>1973.0</td>\n",
       "      <td>2020-01-01</td>\n",
       "      <td>2020-01-14</td>\n",
       "      <td>ZURICH AMERICAN INSURANCE CO</td>\n",
       "      <td>1A. PRIVATE</td>\n",
       "      <td>4. TEMPORARY</td>\n",
       "      <td>WYOMING</td>\n",
       "      <td>N</td>\n",
       "      <td>ROCHESTER</td>\n",
       "      <td>2020-02-21</td>\n",
       "      <td>F</td>\n",
       "      <td>4.0</td>\n",
       "      <td>23.0</td>\n",
       "      <td>CONSTRUCTION</td>\n",
       "      <td>I</td>\n",
       "      <td>NaN</td>\n",
       "      <td>97.0</td>\n",
       "      <td>REPETITIVE MOTION</td>\n",
       "      <td>49.0</td>\n",
       "      <td>SPRAIN OR TEAR</td>\n",
       "      <td>38.0</td>\n",
       "      <td>SHOULDER(S)</td>\n",
       "      <td>14569</td>\n",
       "      <td>1.0</td>\n",
       "      <td>Not Work Related</td>\n",
       "      <td>4.0</td>\n",
       "    </tr>\n",
       "    <tr>\n",
       "      <th>5393889</th>\n",
       "      <td>2019-12-06</td>\n",
       "      <td>40.0</td>\n",
       "      <td>N</td>\n",
       "      <td>2020-01-01</td>\n",
       "      <td>N</td>\n",
       "      <td>1434.80</td>\n",
       "      <td>1979.0</td>\n",
       "      <td>2020-01-01</td>\n",
       "      <td>NaN</td>\n",
       "      <td>INDEMNITY INSURANCE CO OF</td>\n",
       "      <td>1A. PRIVATE</td>\n",
       "      <td>4. TEMPORARY</td>\n",
       "      <td>ORANGE</td>\n",
       "      <td>N</td>\n",
       "      <td>ALBANY</td>\n",
       "      <td>NaN</td>\n",
       "      <td>M</td>\n",
       "      <td>NaN</td>\n",
       "      <td>56.0</td>\n",
       "      <td>ADMINISTRATIVE AND SUPPORT AND WASTE MANAGEMEN...</td>\n",
       "      <td>II</td>\n",
       "      <td>NaN</td>\n",
       "      <td>79.0</td>\n",
       "      <td>OBJECT BEING LIFTED OR HANDLED</td>\n",
       "      <td>7.0</td>\n",
       "      <td>CONCUSSION</td>\n",
       "      <td>10.0</td>\n",
       "      <td>MULTIPLE HEAD INJURY</td>\n",
       "      <td>12589</td>\n",
       "      <td>0.0</td>\n",
       "      <td>Not Work Related</td>\n",
       "      <td>6.0</td>\n",
       "    </tr>\n",
       "  </tbody>\n",
       "</table>\n",
       "</div>"
      ],
      "text/plain": [
       "                 Accident Date  Age at Injury Alternative Dispute Resolution  \\\n",
       "Claim Identifier                                                               \n",
       "5393875             2019-12-30           31.0                              N   \n",
       "5393091             2019-08-30           46.0                              N   \n",
       "5393889             2019-12-06           40.0                              N   \n",
       "\n",
       "                 Assembly Date Attorney/Representative  Average Weekly Wage  \\\n",
       "Claim Identifier                                                              \n",
       "5393875             2020-01-01                       N                 0.00   \n",
       "5393091             2020-01-01                       Y              1745.93   \n",
       "5393889             2020-01-01                       N              1434.80   \n",
       "\n",
       "                  Birth Year    C-2 Date    C-3 Date  \\\n",
       "Claim Identifier                                       \n",
       "5393875               1988.0  2019-12-31         NaN   \n",
       "5393091               1973.0  2020-01-01  2020-01-14   \n",
       "5393889               1979.0  2020-01-01         NaN   \n",
       "\n",
       "                                  Carrier Name Carrier Type Claim Injury Type  \\\n",
       "Claim Identifier                                                                \n",
       "5393875             NEW HAMPSHIRE INSURANCE CO  1A. PRIVATE       2. NON-COMP   \n",
       "5393091           ZURICH AMERICAN INSURANCE CO  1A. PRIVATE      4. TEMPORARY   \n",
       "5393889              INDEMNITY INSURANCE CO OF  1A. PRIVATE      4. TEMPORARY   \n",
       "\n",
       "                 County of Injury COVID-19 Indicator District Name  \\\n",
       "Claim Identifier                                                     \n",
       "5393875              ST. LAWRENCE                  N      SYRACUSE   \n",
       "5393091                   WYOMING                  N     ROCHESTER   \n",
       "5393889                    ORANGE                  N        ALBANY   \n",
       "\n",
       "                 First Hearing Date Gender  IME-4 Count  Industry Code  \\\n",
       "Claim Identifier                                                         \n",
       "5393875                         NaN      M          NaN           44.0   \n",
       "5393091                  2020-02-21      F          4.0           23.0   \n",
       "5393889                         NaN      M          NaN           56.0   \n",
       "\n",
       "                                          Industry Code Description  \\\n",
       "Claim Identifier                                                      \n",
       "5393875                                                RETAIL TRADE   \n",
       "5393091                                                CONSTRUCTION   \n",
       "5393889           ADMINISTRATIVE AND SUPPORT AND WASTE MANAGEMEN...   \n",
       "\n",
       "                 Medical Fee Region  OIICS Nature of Injury Description  \\\n",
       "Claim Identifier                                                          \n",
       "5393875                           I                                 NaN   \n",
       "5393091                           I                                 NaN   \n",
       "5393889                          II                                 NaN   \n",
       "\n",
       "                  WCIO Cause of Injury Code WCIO Cause of Injury Description  \\\n",
       "Claim Identifier                                                               \n",
       "5393875                                27.0     FROM LIQUID OR GREASE SPILLS   \n",
       "5393091                                97.0                REPETITIVE MOTION   \n",
       "5393889                                79.0   OBJECT BEING LIFTED OR HANDLED   \n",
       "\n",
       "                  WCIO Nature of Injury Code  \\\n",
       "Claim Identifier                               \n",
       "5393875                                 10.0   \n",
       "5393091                                 49.0   \n",
       "5393889                                  7.0   \n",
       "\n",
       "                 WCIO Nature of Injury Description  WCIO Part Of Body Code  \\\n",
       "Claim Identifier                                                             \n",
       "5393875                                  CONTUSION                    62.0   \n",
       "5393091                             SPRAIN OR TEAR                    38.0   \n",
       "5393889                                 CONCUSSION                    10.0   \n",
       "\n",
       "                 WCIO Part Of Body Description Zip Code  Agreement Reached  \\\n",
       "Claim Identifier                                                             \n",
       "5393875                               BUTTOCKS    13662                0.0   \n",
       "5393091                            SHOULDER(S)    14569                1.0   \n",
       "5393889                   MULTIPLE HEAD INJURY    12589                0.0   \n",
       "\n",
       "                      WCB Decision  Number of Dependents  \n",
       "Claim Identifier                                          \n",
       "5393875           Not Work Related                   1.0  \n",
       "5393091           Not Work Related                   4.0  \n",
       "5393889           Not Work Related                   6.0  "
      ]
     },
     "execution_count": 2,
     "metadata": {},
     "output_type": "execute_result"
    }
   ],
   "source": [
    "# Load training data\n",
    "df = pd.read_csv('./data/train_data.csv', index_col = 'Claim Identifier')\n",
    "\n",
    "# Load testing data\n",
    "test = pd.read_csv('./data/test_data.csv', index_col = 'Claim Identifier')\n",
    "\n",
    "# Display the first 3 rows of the training data\n",
    "df.head(3)"
   ]
  },
  {
   "cell_type": "markdown",
   "id": "50563254",
   "metadata": {},
   "source": [
    "# 2. Exploratory Data Analysis\n",
    "This section is dedicated to conducting an in-depth Exploratory Data Analysis (EDA) to comprehend the dataset’s structure, statistical properties, and inherent patterns. Through systematic analysis, we aim to identify key relationships among variables, detect potential anomalies, and evaluate the completeness and quality of the data. The findings from this stage serve as a critical foundation for subsequent data preprocessing and model development, ensuring that informed and data-driven decisions guide the overall analytical workflow.\n",
    "\n",
    "<a href=\"#top\">Top &#129033;</a>"
   ]
  },
  {
   "cell_type": "markdown",
   "id": "08a63470",
   "metadata": {},
   "source": [
    "**Profile Report**"
   ]
  },
  {
   "cell_type": "code",
   "execution_count": 3,
   "id": "f3f684bc",
   "metadata": {
    "ExecuteTime": {
     "end_time": "2024-12-16T17:48:27.812536Z",
     "start_time": "2024-12-16T17:48:27.809766Z"
    }
   },
   "outputs": [],
   "source": [
    "# profile = ProfileReport(\n",
    "#     df, \n",
    "#     title='Data',\n",
    "#     correlations={\n",
    "#         \"pearson\": {\"calculate\": True},\n",
    "#         \"spearman\": {\"calculate\": False},\n",
    "#         \"kendall\": {\"calculate\": False},\n",
    "#         \"phi_k\": {\"calculate\": False},\n",
    "#         \"cramers\": {\"calculate\": False},\n",
    "#     },\n",
    "# )\n",
    "\n",
    "# profile"
   ]
  },
  {
   "cell_type": "markdown",
   "id": "0092acda",
   "metadata": {},
   "source": [
    "From using a `Profile Report` we were able to identify some possible problems about variables:\n",
    "- WCB Decision has constant value \"Not Work Related\"\n",
    "- Alternative Dispute Resolution is highly imbalanced (97.3%)\n",
    "- C-3 Date has 406226 (68.4%) missing values\n",
    "- First Hearing Date has 442673 (74.6%) missing values\n",
    "- IME-4 Count has 460668 (77.6%) missing values\n",
    "- OIICS Nature of Injury Description has 593471 (100.0%) missing values\n",
    "- Zip Code is an unsupported type, check if it needs cleaning or further analysis\n",
    "- Average Weekly Wage has 335450 (56.5%) zeros\n",
    "- Birth Year has 25081 (4.2%) zeros\n",
    "- Claim Injury Type (Target) has 19445 (3.3%) missing values and is imbalanced\n",
    "\n",
    "And about the dataset itself:\n",
    "- Dataset has 1103 (0.2%) duplicate rows\n",
    "\n",
    "The same method was applied to test data"
   ]
  },
  {
   "cell_type": "code",
   "execution_count": 4,
   "id": "3197eb83",
   "metadata": {
    "ExecuteTime": {
     "end_time": "2024-12-16T17:48:27.987152Z",
     "start_time": "2024-12-16T17:48:27.984544Z"
    }
   },
   "outputs": [],
   "source": [
    "# profile_test = ProfileReport(\n",
    "#     test, \n",
    "#     title='Data',\n",
    "#     correlations={\n",
    "#         \"pearson\": {\"calculate\": True},\n",
    "#         \"spearman\": {\"calculate\": False},\n",
    "#         \"kendall\": {\"calculate\": False},\n",
    "#         \"phi_k\": {\"calculate\": False},\n",
    "#         \"cramers\": {\"calculate\": False},\n",
    "#     },\n",
    "# )\n",
    "\n",
    "# profile_test"
   ]
  },
  {
   "cell_type": "markdown",
   "id": "36f6d1ef",
   "metadata": {},
   "source": [
    "From using a `Profile Report` for the test data we were able to identify some possible problems about variables:\n",
    "- Alternative Dispute Resolution is highly imbalanced (97.5%)\n",
    "- COVID-19 Indicator is highly imbalanced (94.3%)\n",
    "- First Hearing Date has 344947 (88.9%) missing values\n",
    "- IME-4 Count has 352726 (90.9%) missing values\n",
    "- OIICS Nature of Injury Description has 387975 (100.0%) missing values\n",
    "\n",
    "And about the test dataset itself: \n",
    "- Dataset has 2 (< 0.1%) duplicate rows\n",
    "\n",
    "There are also columns that are present in the train data but not in the test data (apart from our Target variable):\n",
    "- Agreement Reached\n",
    "- WCB Decision\n",
    "\n",
    "After using `Profile Report`, we will also employ well known methods for basic statistics, such as `describe`, `info` and `shape`, as well as print the unique values for each column."
   ]
  },
  {
   "cell_type": "code",
   "execution_count": 5,
   "id": "23a68c71",
   "metadata": {
    "ExecuteTime": {
     "end_time": "2024-12-16T17:48:29.808175Z",
     "start_time": "2024-12-16T17:48:28.151766Z"
    }
   },
   "outputs": [
    {
     "data": {
      "text/html": [
       "<div>\n",
       "<style scoped>\n",
       "    .dataframe tbody tr th:only-of-type {\n",
       "        vertical-align: middle;\n",
       "    }\n",
       "\n",
       "    .dataframe tbody tr th {\n",
       "        vertical-align: top;\n",
       "    }\n",
       "\n",
       "    .dataframe thead th {\n",
       "        text-align: right;\n",
       "    }\n",
       "</style>\n",
       "<table border=\"1\" class=\"dataframe\">\n",
       "  <thead>\n",
       "    <tr style=\"text-align: right;\">\n",
       "      <th></th>\n",
       "      <th>count</th>\n",
       "      <th>unique</th>\n",
       "      <th>top</th>\n",
       "      <th>freq</th>\n",
       "    </tr>\n",
       "  </thead>\n",
       "  <tbody>\n",
       "    <tr>\n",
       "      <th>Accident Date</th>\n",
       "      <td>570337</td>\n",
       "      <td>5539</td>\n",
       "      <td>2020-03-01</td>\n",
       "      <td>1245</td>\n",
       "    </tr>\n",
       "    <tr>\n",
       "      <th>Alternative Dispute Resolution</th>\n",
       "      <td>574026</td>\n",
       "      <td>3</td>\n",
       "      <td>N</td>\n",
       "      <td>571412</td>\n",
       "    </tr>\n",
       "    <tr>\n",
       "      <th>Assembly Date</th>\n",
       "      <td>593471</td>\n",
       "      <td>1096</td>\n",
       "      <td>2020-03-06</td>\n",
       "      <td>1422</td>\n",
       "    </tr>\n",
       "    <tr>\n",
       "      <th>Attorney/Representative</th>\n",
       "      <td>574026</td>\n",
       "      <td>2</td>\n",
       "      <td>N</td>\n",
       "      <td>392291</td>\n",
       "    </tr>\n",
       "    <tr>\n",
       "      <th>C-2 Date</th>\n",
       "      <td>559466</td>\n",
       "      <td>2475</td>\n",
       "      <td>2021-05-11</td>\n",
       "      <td>1847</td>\n",
       "    </tr>\n",
       "    <tr>\n",
       "      <th>C-3 Date</th>\n",
       "      <td>187245</td>\n",
       "      <td>1648</td>\n",
       "      <td>2021-04-21</td>\n",
       "      <td>350</td>\n",
       "    </tr>\n",
       "    <tr>\n",
       "      <th>Carrier Name</th>\n",
       "      <td>574026</td>\n",
       "      <td>2046</td>\n",
       "      <td>STATE INSURANCE FUND</td>\n",
       "      <td>111144</td>\n",
       "    </tr>\n",
       "    <tr>\n",
       "      <th>Carrier Type</th>\n",
       "      <td>574026</td>\n",
       "      <td>8</td>\n",
       "      <td>1A. PRIVATE</td>\n",
       "      <td>285368</td>\n",
       "    </tr>\n",
       "    <tr>\n",
       "      <th>Claim Injury Type</th>\n",
       "      <td>574026</td>\n",
       "      <td>8</td>\n",
       "      <td>2. NON-COMP</td>\n",
       "      <td>291078</td>\n",
       "    </tr>\n",
       "    <tr>\n",
       "      <th>County of Injury</th>\n",
       "      <td>574026</td>\n",
       "      <td>63</td>\n",
       "      <td>SUFFOLK</td>\n",
       "      <td>60430</td>\n",
       "    </tr>\n",
       "    <tr>\n",
       "      <th>COVID-19 Indicator</th>\n",
       "      <td>574026</td>\n",
       "      <td>2</td>\n",
       "      <td>N</td>\n",
       "      <td>546505</td>\n",
       "    </tr>\n",
       "    <tr>\n",
       "      <th>District Name</th>\n",
       "      <td>574026</td>\n",
       "      <td>8</td>\n",
       "      <td>NYC</td>\n",
       "      <td>270779</td>\n",
       "    </tr>\n",
       "    <tr>\n",
       "      <th>First Hearing Date</th>\n",
       "      <td>150798</td>\n",
       "      <td>1094</td>\n",
       "      <td>2022-04-15</td>\n",
       "      <td>440</td>\n",
       "    </tr>\n",
       "    <tr>\n",
       "      <th>Gender</th>\n",
       "      <td>574026</td>\n",
       "      <td>4</td>\n",
       "      <td>M</td>\n",
       "      <td>335218</td>\n",
       "    </tr>\n",
       "    <tr>\n",
       "      <th>Industry Code Description</th>\n",
       "      <td>564068</td>\n",
       "      <td>20</td>\n",
       "      <td>HEALTH CARE AND SOCIAL ASSISTANCE</td>\n",
       "      <td>114339</td>\n",
       "    </tr>\n",
       "    <tr>\n",
       "      <th>Medical Fee Region</th>\n",
       "      <td>574026</td>\n",
       "      <td>5</td>\n",
       "      <td>IV</td>\n",
       "      <td>265981</td>\n",
       "    </tr>\n",
       "    <tr>\n",
       "      <th>WCIO Cause of Injury Description</th>\n",
       "      <td>558386</td>\n",
       "      <td>74</td>\n",
       "      <td>LIFTING</td>\n",
       "      <td>46610</td>\n",
       "    </tr>\n",
       "    <tr>\n",
       "      <th>WCIO Nature of Injury Description</th>\n",
       "      <td>558369</td>\n",
       "      <td>56</td>\n",
       "      <td>STRAIN OR TEAR</td>\n",
       "      <td>153373</td>\n",
       "    </tr>\n",
       "    <tr>\n",
       "      <th>WCIO Part Of Body Description</th>\n",
       "      <td>556944</td>\n",
       "      <td>54</td>\n",
       "      <td>LOWER BACK AREA</td>\n",
       "      <td>51862</td>\n",
       "    </tr>\n",
       "    <tr>\n",
       "      <th>Zip Code</th>\n",
       "      <td>545389</td>\n",
       "      <td>10060</td>\n",
       "      <td>11236</td>\n",
       "      <td>3302</td>\n",
       "    </tr>\n",
       "    <tr>\n",
       "      <th>WCB Decision</th>\n",
       "      <td>574026</td>\n",
       "      <td>1</td>\n",
       "      <td>Not Work Related</td>\n",
       "      <td>574026</td>\n",
       "    </tr>\n",
       "  </tbody>\n",
       "</table>\n",
       "</div>"
      ],
      "text/plain": [
       "                                    count unique  \\\n",
       "Accident Date                      570337   5539   \n",
       "Alternative Dispute Resolution     574026      3   \n",
       "Assembly Date                      593471   1096   \n",
       "Attorney/Representative            574026      2   \n",
       "C-2 Date                           559466   2475   \n",
       "C-3 Date                           187245   1648   \n",
       "Carrier Name                       574026   2046   \n",
       "Carrier Type                       574026      8   \n",
       "Claim Injury Type                  574026      8   \n",
       "County of Injury                   574026     63   \n",
       "COVID-19 Indicator                 574026      2   \n",
       "District Name                      574026      8   \n",
       "First Hearing Date                 150798   1094   \n",
       "Gender                             574026      4   \n",
       "Industry Code Description          564068     20   \n",
       "Medical Fee Region                 574026      5   \n",
       "WCIO Cause of Injury Description   558386     74   \n",
       "WCIO Nature of Injury Description  558369     56   \n",
       "WCIO Part Of Body Description      556944     54   \n",
       "Zip Code                           545389  10060   \n",
       "WCB Decision                       574026      1   \n",
       "\n",
       "                                                                 top    freq  \n",
       "Accident Date                                             2020-03-01    1245  \n",
       "Alternative Dispute Resolution                                     N  571412  \n",
       "Assembly Date                                             2020-03-06    1422  \n",
       "Attorney/Representative                                            N  392291  \n",
       "C-2 Date                                                  2021-05-11    1847  \n",
       "C-3 Date                                                  2021-04-21     350  \n",
       "Carrier Name                                    STATE INSURANCE FUND  111144  \n",
       "Carrier Type                                             1A. PRIVATE  285368  \n",
       "Claim Injury Type                                        2. NON-COMP  291078  \n",
       "County of Injury                                             SUFFOLK   60430  \n",
       "COVID-19 Indicator                                                 N  546505  \n",
       "District Name                                                    NYC  270779  \n",
       "First Hearing Date                                        2022-04-15     440  \n",
       "Gender                                                             M  335218  \n",
       "Industry Code Description          HEALTH CARE AND SOCIAL ASSISTANCE  114339  \n",
       "Medical Fee Region                                                IV  265981  \n",
       "WCIO Cause of Injury Description                             LIFTING   46610  \n",
       "WCIO Nature of Injury Description                     STRAIN OR TEAR  153373  \n",
       "WCIO Part Of Body Description                        LOWER BACK AREA   51862  \n",
       "Zip Code                                                       11236    3302  \n",
       "WCB Decision                                        Not Work Related  574026  "
      ]
     },
     "execution_count": 5,
     "metadata": {},
     "output_type": "execute_result"
    }
   ],
   "source": [
    "df.describe(include='object').T"
   ]
  },
  {
   "cell_type": "code",
   "execution_count": 6,
   "id": "3a0c49cf",
   "metadata": {
    "ExecuteTime": {
     "end_time": "2024-12-16T17:48:30.108820Z",
     "start_time": "2024-12-16T17:48:29.811251Z"
    }
   },
   "outputs": [
    {
     "data": {
      "text/html": [
       "<div>\n",
       "<style scoped>\n",
       "    .dataframe tbody tr th:only-of-type {\n",
       "        vertical-align: middle;\n",
       "    }\n",
       "\n",
       "    .dataframe tbody tr th {\n",
       "        vertical-align: top;\n",
       "    }\n",
       "\n",
       "    .dataframe thead th {\n",
       "        text-align: right;\n",
       "    }\n",
       "</style>\n",
       "<table border=\"1\" class=\"dataframe\">\n",
       "  <thead>\n",
       "    <tr style=\"text-align: right;\">\n",
       "      <th></th>\n",
       "      <th>count</th>\n",
       "      <th>mean</th>\n",
       "      <th>std</th>\n",
       "      <th>min</th>\n",
       "      <th>25%</th>\n",
       "      <th>50%</th>\n",
       "      <th>75%</th>\n",
       "      <th>max</th>\n",
       "    </tr>\n",
       "  </thead>\n",
       "  <tbody>\n",
       "    <tr>\n",
       "      <th>Age at Injury</th>\n",
       "      <td>574026.0</td>\n",
       "      <td>42.114270</td>\n",
       "      <td>14.256432</td>\n",
       "      <td>0.0</td>\n",
       "      <td>31.0</td>\n",
       "      <td>42.0</td>\n",
       "      <td>54.0</td>\n",
       "      <td>117.0</td>\n",
       "    </tr>\n",
       "    <tr>\n",
       "      <th>Average Weekly Wage</th>\n",
       "      <td>545375.0</td>\n",
       "      <td>491.088321</td>\n",
       "      <td>6092.918120</td>\n",
       "      <td>0.0</td>\n",
       "      <td>0.0</td>\n",
       "      <td>0.0</td>\n",
       "      <td>841.0</td>\n",
       "      <td>2828079.0</td>\n",
       "    </tr>\n",
       "    <tr>\n",
       "      <th>Birth Year</th>\n",
       "      <td>544948.0</td>\n",
       "      <td>1886.767604</td>\n",
       "      <td>414.644423</td>\n",
       "      <td>0.0</td>\n",
       "      <td>1965.0</td>\n",
       "      <td>1977.0</td>\n",
       "      <td>1989.0</td>\n",
       "      <td>2018.0</td>\n",
       "    </tr>\n",
       "    <tr>\n",
       "      <th>IME-4 Count</th>\n",
       "      <td>132803.0</td>\n",
       "      <td>3.207337</td>\n",
       "      <td>2.832303</td>\n",
       "      <td>1.0</td>\n",
       "      <td>1.0</td>\n",
       "      <td>2.0</td>\n",
       "      <td>4.0</td>\n",
       "      <td>73.0</td>\n",
       "    </tr>\n",
       "    <tr>\n",
       "      <th>Industry Code</th>\n",
       "      <td>564068.0</td>\n",
       "      <td>58.645305</td>\n",
       "      <td>19.644175</td>\n",
       "      <td>11.0</td>\n",
       "      <td>45.0</td>\n",
       "      <td>61.0</td>\n",
       "      <td>71.0</td>\n",
       "      <td>92.0</td>\n",
       "    </tr>\n",
       "    <tr>\n",
       "      <th>OIICS Nature of Injury Description</th>\n",
       "      <td>0.0</td>\n",
       "      <td>NaN</td>\n",
       "      <td>NaN</td>\n",
       "      <td>NaN</td>\n",
       "      <td>NaN</td>\n",
       "      <td>NaN</td>\n",
       "      <td>NaN</td>\n",
       "      <td>NaN</td>\n",
       "    </tr>\n",
       "    <tr>\n",
       "      <th>WCIO Cause of Injury Code</th>\n",
       "      <td>558386.0</td>\n",
       "      <td>54.381143</td>\n",
       "      <td>25.874281</td>\n",
       "      <td>1.0</td>\n",
       "      <td>31.0</td>\n",
       "      <td>56.0</td>\n",
       "      <td>75.0</td>\n",
       "      <td>99.0</td>\n",
       "    </tr>\n",
       "    <tr>\n",
       "      <th>WCIO Nature of Injury Code</th>\n",
       "      <td>558369.0</td>\n",
       "      <td>41.013839</td>\n",
       "      <td>22.207521</td>\n",
       "      <td>1.0</td>\n",
       "      <td>16.0</td>\n",
       "      <td>49.0</td>\n",
       "      <td>52.0</td>\n",
       "      <td>91.0</td>\n",
       "    </tr>\n",
       "    <tr>\n",
       "      <th>WCIO Part Of Body Code</th>\n",
       "      <td>556944.0</td>\n",
       "      <td>39.738146</td>\n",
       "      <td>22.365940</td>\n",
       "      <td>-9.0</td>\n",
       "      <td>33.0</td>\n",
       "      <td>38.0</td>\n",
       "      <td>53.0</td>\n",
       "      <td>99.0</td>\n",
       "    </tr>\n",
       "    <tr>\n",
       "      <th>Agreement Reached</th>\n",
       "      <td>574026.0</td>\n",
       "      <td>0.046665</td>\n",
       "      <td>0.210921</td>\n",
       "      <td>0.0</td>\n",
       "      <td>0.0</td>\n",
       "      <td>0.0</td>\n",
       "      <td>0.0</td>\n",
       "      <td>1.0</td>\n",
       "    </tr>\n",
       "    <tr>\n",
       "      <th>Number of Dependents</th>\n",
       "      <td>574026.0</td>\n",
       "      <td>3.006559</td>\n",
       "      <td>2.000801</td>\n",
       "      <td>0.0</td>\n",
       "      <td>1.0</td>\n",
       "      <td>3.0</td>\n",
       "      <td>5.0</td>\n",
       "      <td>6.0</td>\n",
       "    </tr>\n",
       "  </tbody>\n",
       "</table>\n",
       "</div>"
      ],
      "text/plain": [
       "                                       count         mean          std   min  \\\n",
       "Age at Injury                       574026.0    42.114270    14.256432   0.0   \n",
       "Average Weekly Wage                 545375.0   491.088321  6092.918120   0.0   \n",
       "Birth Year                          544948.0  1886.767604   414.644423   0.0   \n",
       "IME-4 Count                         132803.0     3.207337     2.832303   1.0   \n",
       "Industry Code                       564068.0    58.645305    19.644175  11.0   \n",
       "OIICS Nature of Injury Description       0.0          NaN          NaN   NaN   \n",
       "WCIO Cause of Injury Code           558386.0    54.381143    25.874281   1.0   \n",
       "WCIO Nature of Injury Code          558369.0    41.013839    22.207521   1.0   \n",
       "WCIO Part Of Body Code              556944.0    39.738146    22.365940  -9.0   \n",
       "Agreement Reached                   574026.0     0.046665     0.210921   0.0   \n",
       "Number of Dependents                574026.0     3.006559     2.000801   0.0   \n",
       "\n",
       "                                       25%     50%     75%        max  \n",
       "Age at Injury                         31.0    42.0    54.0      117.0  \n",
       "Average Weekly Wage                    0.0     0.0   841.0  2828079.0  \n",
       "Birth Year                          1965.0  1977.0  1989.0     2018.0  \n",
       "IME-4 Count                            1.0     2.0     4.0       73.0  \n",
       "Industry Code                         45.0    61.0    71.0       92.0  \n",
       "OIICS Nature of Injury Description     NaN     NaN     NaN        NaN  \n",
       "WCIO Cause of Injury Code             31.0    56.0    75.0       99.0  \n",
       "WCIO Nature of Injury Code            16.0    49.0    52.0       91.0  \n",
       "WCIO Part Of Body Code                33.0    38.0    53.0       99.0  \n",
       "Agreement Reached                      0.0     0.0     0.0        1.0  \n",
       "Number of Dependents                   1.0     3.0     5.0        6.0  "
      ]
     },
     "execution_count": 6,
     "metadata": {},
     "output_type": "execute_result"
    }
   ],
   "source": [
    "df.describe().T"
   ]
  },
  {
   "cell_type": "code",
   "execution_count": 7,
   "id": "31aa9a40",
   "metadata": {
    "ExecuteTime": {
     "end_time": "2024-12-16T17:48:30.689175Z",
     "start_time": "2024-12-16T17:48:30.111071Z"
    }
   },
   "outputs": [
    {
     "name": "stdout",
     "output_type": "stream",
     "text": [
      "<class 'pandas.core.frame.DataFrame'>\n",
      "Index: 593471 entries, 5393875 to 818961390\n",
      "Data columns (total 32 columns):\n",
      " #   Column                              Non-Null Count   Dtype  \n",
      "---  ------                              --------------   -----  \n",
      " 0   Accident Date                       570337 non-null  object \n",
      " 1   Age at Injury                       574026 non-null  float64\n",
      " 2   Alternative Dispute Resolution      574026 non-null  object \n",
      " 3   Assembly Date                       593471 non-null  object \n",
      " 4   Attorney/Representative             574026 non-null  object \n",
      " 5   Average Weekly Wage                 545375 non-null  float64\n",
      " 6   Birth Year                          544948 non-null  float64\n",
      " 7   C-2 Date                            559466 non-null  object \n",
      " 8   C-3 Date                            187245 non-null  object \n",
      " 9   Carrier Name                        574026 non-null  object \n",
      " 10  Carrier Type                        574026 non-null  object \n",
      " 11  Claim Injury Type                   574026 non-null  object \n",
      " 12  County of Injury                    574026 non-null  object \n",
      " 13  COVID-19 Indicator                  574026 non-null  object \n",
      " 14  District Name                       574026 non-null  object \n",
      " 15  First Hearing Date                  150798 non-null  object \n",
      " 16  Gender                              574026 non-null  object \n",
      " 17  IME-4 Count                         132803 non-null  float64\n",
      " 18  Industry Code                       564068 non-null  float64\n",
      " 19  Industry Code Description           564068 non-null  object \n",
      " 20  Medical Fee Region                  574026 non-null  object \n",
      " 21  OIICS Nature of Injury Description  0 non-null       float64\n",
      " 22  WCIO Cause of Injury Code           558386 non-null  float64\n",
      " 23  WCIO Cause of Injury Description    558386 non-null  object \n",
      " 24  WCIO Nature of Injury Code          558369 non-null  float64\n",
      " 25  WCIO Nature of Injury Description   558369 non-null  object \n",
      " 26  WCIO Part Of Body Code              556944 non-null  float64\n",
      " 27  WCIO Part Of Body Description       556944 non-null  object \n",
      " 28  Zip Code                            545389 non-null  object \n",
      " 29  Agreement Reached                   574026 non-null  float64\n",
      " 30  WCB Decision                        574026 non-null  object \n",
      " 31  Number of Dependents                574026 non-null  float64\n",
      "dtypes: float64(11), object(21)\n",
      "memory usage: 149.4+ MB\n"
     ]
    }
   ],
   "source": [
    "df.info()"
   ]
  },
  {
   "cell_type": "code",
   "execution_count": 8,
   "id": "4cea1ffb",
   "metadata": {
    "ExecuteTime": {
     "end_time": "2024-12-16T17:48:30.696719Z",
     "start_time": "2024-12-16T17:48:30.692700Z"
    }
   },
   "outputs": [
    {
     "data": {
      "text/plain": [
       "(593471, 32)"
      ]
     },
     "execution_count": 8,
     "metadata": {},
     "output_type": "execute_result"
    }
   ],
   "source": [
    "df.shape"
   ]
  },
  {
   "cell_type": "code",
   "execution_count": 9,
   "id": "a59e73c0",
   "metadata": {
    "ExecuteTime": {
     "end_time": "2024-12-16T17:48:31.878631Z",
     "start_time": "2024-12-16T17:48:30.698540Z"
    },
    "scrolled": true
   },
   "outputs": [
    {
     "name": "stdout",
     "output_type": "stream",
     "text": [
      "Unique values in 'Alternative Dispute Resolution': ['N' nan 'Y' 'U']\n",
      "Number of unique values: 3\n",
      "\n",
      "Unique values in 'Attorney/Representative': ['N' 'Y' nan]\n",
      "Number of unique values: 2\n",
      "\n",
      "Unique values in 'Carrier Type': ['1A. PRIVATE' nan '2A. SIF' '4A. SELF PRIVATE' '3A. SELF PUBLIC'\n",
      " 'UNKNOWN' '5D. SPECIAL FUND - UNKNOWN'\n",
      " '5A. SPECIAL FUND - CONS. COMM. (SECT. 25-A)'\n",
      " '5C. SPECIAL FUND - POI CARRIER WCB MENANDS']\n",
      "Number of unique values: 8\n",
      "\n",
      "Unique values in 'Claim Injury Type': ['2. NON-COMP' '4. TEMPORARY' nan '3. MED ONLY' '5. PPD SCH LOSS'\n",
      " '6. PPD NSL' '1. CANCELLED' '8. DEATH' '7. PTD']\n",
      "Number of unique values: 8\n",
      "\n",
      "Unique values in 'COVID-19 Indicator': ['N' nan 'Y']\n",
      "Number of unique values: 2\n",
      "\n",
      "Unique values in 'District Name': ['SYRACUSE' 'ROCHESTER' 'ALBANY' nan 'HAUPPAUGE' 'NYC' 'BUFFALO'\n",
      " 'BINGHAMTON' 'STATEWIDE']\n",
      "Number of unique values: 8\n",
      "\n",
      "Unique values in 'Gender': ['M' 'F' nan 'U' 'X']\n",
      "Number of unique values: 4\n",
      "\n",
      "Unique values in 'Medical Fee Region': ['I' 'II' nan 'IV' 'UK' 'III']\n",
      "Number of unique values: 5\n",
      "\n",
      "Unique values in 'OIICS Nature of Injury Description': [nan]\n",
      "Number of unique values: 0\n",
      "\n",
      "Unique values in 'Agreement Reached': [ 0.  1. nan]\n",
      "Number of unique values: 2\n",
      "\n",
      "Unique values in 'WCB Decision': ['Not Work Related' nan]\n",
      "Number of unique values: 1\n",
      "\n",
      "Unique values in 'Number of Dependents': [ 1.  4.  6. nan  5.  3.  2.  0.]\n",
      "Number of unique values: 7\n",
      "\n"
     ]
    }
   ],
   "source": [
    "# Loop through each column in the DataFrame\n",
    "for column in df.columns:\n",
    "    \n",
    "    # Check if the number of unique values in the column is less than 20\n",
    "    if df[column].nunique() < 20:\n",
    "        \n",
    "        print(f\"Unique values in '{column}': {df[column].unique()}\")\n",
    "        print(f\"Number of unique values: {df[column].nunique()}\\n\")"
   ]
  },
  {
   "cell_type": "markdown",
   "id": "310d5c57",
   "metadata": {},
   "source": [
    "From these, we were able to conclude that the dataset had 593471 rows and 32 columns. \n",
    "\n",
    "Additionally, we noticed that:\n",
    "- WCB Decision only had 1 unique value\n",
    "- We have 4 different values for Gender\n",
    "- Age ranges from 0 to 117\n",
    "- Birth Year ranges from 0 to 2018\n",
    "\n",
    "\n",
    "There is also a column which is always null, **OIICS Nature of Injury Description**."
   ]
  },
  {
   "cell_type": "markdown",
   "id": "bb332470",
   "metadata": {},
   "source": [
    "## 2.1 Variable Exploration\n",
    "\n",
    "Incoherencies, can compromise the integrity of the analysis and the performance of machine learning models. By systematically identifying and addressing these issues, we aim to enhance data quality and ensure the dataset is both accurate and reliable for subsequent preprocessing and modeling stages.\n",
    "\n",
    "<a href=\"#top\">Top &#129033;</a>\n",
    "\n",
    "In this section we will start by dropping the features that exist in the train data (df) but not in the test, as well `OIICS Nature of Injury Description`, which is always null.\n",
    "\n",
    "We will also correct the date datatypes in both df and test.\n",
    "\n",
    "Then, we will individually analyze each variable to better understand it."
   ]
  },
  {
   "cell_type": "code",
   "execution_count": 10,
   "id": "7dd3b626",
   "metadata": {
    "ExecuteTime": {
     "end_time": "2024-12-16T17:48:31.884317Z",
     "start_time": "2024-12-16T17:48:31.881803Z"
    }
   },
   "outputs": [],
   "source": [
    "columns = ['Agreement Reached', 'WCB Decision', 'OIICS Nature of Injury Description']"
   ]
  },
  {
   "cell_type": "code",
   "execution_count": 11,
   "id": "36a43e64",
   "metadata": {
    "ExecuteTime": {
     "end_time": "2024-12-16T17:48:32.110622Z",
     "start_time": "2024-12-16T17:48:31.886381Z"
    }
   },
   "outputs": [],
   "source": [
    "df = df.drop(columns = columns, axis = 1)\n",
    "test = test.drop(columns = columns[-1], axis = 1)"
   ]
  },
  {
   "cell_type": "code",
   "execution_count": 12,
   "id": "2dfedf2a",
   "metadata": {
    "ExecuteTime": {
     "end_time": "2024-12-16T17:48:32.680627Z",
     "start_time": "2024-12-16T17:48:32.112990Z"
    }
   },
   "outputs": [],
   "source": [
    "# List of columns to convert to datetime\n",
    "date_columns = ['Accident Date', 'Assembly Date', 'C-2 Date', 'C-3 Date', 'First Hearing Date']\n",
    "\n",
    "# Apply pd.to_datetime() to each column in the list for both df and test\n",
    "for col in date_columns:\n",
    "    df[col] = pd.to_datetime(df[col], errors='coerce')\n",
    "    test[col] = pd.to_datetime(test[col], errors='coerce')"
   ]
  },
  {
   "cell_type": "markdown",
   "id": "0f0ef0a6",
   "metadata": {},
   "source": [
    "Having made these initial transformations, we will start the exploration by comparing the minimum, average and maximum values of both df and test datasets, for all numeric variables"
   ]
  },
  {
   "cell_type": "code",
   "execution_count": 13,
   "id": "9c2ed2fb",
   "metadata": {
    "ExecuteTime": {
     "end_time": "2024-12-16T17:48:32.840813Z",
     "start_time": "2024-12-16T17:48:32.835531Z"
    }
   },
   "outputs": [],
   "source": [
    "num_columns = [col for col in df.columns if \n",
    "               pd.api.types.is_numeric_dtype(df[col])]\n",
    "\n",
    "obj_columns = [col for col in df.columns if \n",
    "               isinstance(df[col].dtype, pd.CategoricalDtype) or \n",
    "               df[col].dtype == 'object']"
   ]
  },
  {
   "cell_type": "code",
   "execution_count": 14,
   "id": "d57a17fd",
   "metadata": {
    "ExecuteTime": {
     "end_time": "2024-12-16T17:48:33.682959Z",
     "start_time": "2024-12-16T17:48:33.103863Z"
    }
   },
   "outputs": [
    {
     "data": {
      "text/html": [
       "<div>\n",
       "<style scoped>\n",
       "    .dataframe tbody tr th:only-of-type {\n",
       "        vertical-align: middle;\n",
       "    }\n",
       "\n",
       "    .dataframe tbody tr th {\n",
       "        vertical-align: top;\n",
       "    }\n",
       "\n",
       "    .dataframe thead th {\n",
       "        text-align: right;\n",
       "    }\n",
       "</style>\n",
       "<table border=\"1\" class=\"dataframe\">\n",
       "  <thead>\n",
       "    <tr style=\"text-align: right;\">\n",
       "      <th></th>\n",
       "      <th>DF Mean</th>\n",
       "      <th>Test Mean</th>\n",
       "      <th>DF Std</th>\n",
       "      <th>Test Std</th>\n",
       "      <th>DF Min</th>\n",
       "      <th>Test Min</th>\n",
       "      <th>DF 25%</th>\n",
       "      <th>Test 25%</th>\n",
       "      <th>DF 50%</th>\n",
       "      <th>Test 50%</th>\n",
       "      <th>DF 75%</th>\n",
       "      <th>Test 75%</th>\n",
       "      <th>DF Max</th>\n",
       "      <th>Test Max</th>\n",
       "    </tr>\n",
       "  </thead>\n",
       "  <tbody>\n",
       "    <tr>\n",
       "      <th>Age at Injury</th>\n",
       "      <td>42.114270</td>\n",
       "      <td>41.414944</td>\n",
       "      <td>14.256432</td>\n",
       "      <td>14.501056</td>\n",
       "      <td>0.0</td>\n",
       "      <td>0.0</td>\n",
       "      <td>31.0</td>\n",
       "      <td>30.0</td>\n",
       "      <td>42.0</td>\n",
       "      <td>40.0</td>\n",
       "      <td>54.0</td>\n",
       "      <td>53.0</td>\n",
       "      <td>117.0</td>\n",
       "      <td>114.0</td>\n",
       "    </tr>\n",
       "    <tr>\n",
       "      <th>Average Weekly Wage</th>\n",
       "      <td>491.088321</td>\n",
       "      <td>183.343831</td>\n",
       "      <td>6092.918120</td>\n",
       "      <td>3542.310214</td>\n",
       "      <td>0.0</td>\n",
       "      <td>0.0</td>\n",
       "      <td>0.0</td>\n",
       "      <td>0.0</td>\n",
       "      <td>0.0</td>\n",
       "      <td>0.0</td>\n",
       "      <td>841.0</td>\n",
       "      <td>0.0</td>\n",
       "      <td>2828079.0</td>\n",
       "      <td>1950317.0</td>\n",
       "    </tr>\n",
       "    <tr>\n",
       "      <th>Birth Year</th>\n",
       "      <td>1886.767604</td>\n",
       "      <td>1875.383466</td>\n",
       "      <td>414.644423</td>\n",
       "      <td>444.659075</td>\n",
       "      <td>0.0</td>\n",
       "      <td>0.0</td>\n",
       "      <td>1965.0</td>\n",
       "      <td>1967.0</td>\n",
       "      <td>1977.0</td>\n",
       "      <td>1980.0</td>\n",
       "      <td>1989.0</td>\n",
       "      <td>1992.0</td>\n",
       "      <td>2018.0</td>\n",
       "      <td>2019.0</td>\n",
       "    </tr>\n",
       "    <tr>\n",
       "      <th>IME-4 Count</th>\n",
       "      <td>3.207337</td>\n",
       "      <td>2.118131</td>\n",
       "      <td>2.832303</td>\n",
       "      <td>1.465406</td>\n",
       "      <td>1.0</td>\n",
       "      <td>1.0</td>\n",
       "      <td>1.0</td>\n",
       "      <td>1.0</td>\n",
       "      <td>2.0</td>\n",
       "      <td>2.0</td>\n",
       "      <td>4.0</td>\n",
       "      <td>2.0</td>\n",
       "      <td>73.0</td>\n",
       "      <td>18.0</td>\n",
       "    </tr>\n",
       "    <tr>\n",
       "      <th>Industry Code</th>\n",
       "      <td>58.645305</td>\n",
       "      <td>58.653581</td>\n",
       "      <td>19.644175</td>\n",
       "      <td>18.710501</td>\n",
       "      <td>11.0</td>\n",
       "      <td>11.0</td>\n",
       "      <td>45.0</td>\n",
       "      <td>45.0</td>\n",
       "      <td>61.0</td>\n",
       "      <td>61.0</td>\n",
       "      <td>71.0</td>\n",
       "      <td>71.0</td>\n",
       "      <td>92.0</td>\n",
       "      <td>92.0</td>\n",
       "    </tr>\n",
       "    <tr>\n",
       "      <th>WCIO Cause of Injury Code</th>\n",
       "      <td>54.381143</td>\n",
       "      <td>53.335678</td>\n",
       "      <td>25.874281</td>\n",
       "      <td>26.176833</td>\n",
       "      <td>1.0</td>\n",
       "      <td>1.0</td>\n",
       "      <td>31.0</td>\n",
       "      <td>29.0</td>\n",
       "      <td>56.0</td>\n",
       "      <td>56.0</td>\n",
       "      <td>75.0</td>\n",
       "      <td>74.0</td>\n",
       "      <td>99.0</td>\n",
       "      <td>99.0</td>\n",
       "    </tr>\n",
       "    <tr>\n",
       "      <th>WCIO Nature of Injury Code</th>\n",
       "      <td>41.013839</td>\n",
       "      <td>38.373674</td>\n",
       "      <td>22.207521</td>\n",
       "      <td>20.966100</td>\n",
       "      <td>1.0</td>\n",
       "      <td>1.0</td>\n",
       "      <td>16.0</td>\n",
       "      <td>10.0</td>\n",
       "      <td>49.0</td>\n",
       "      <td>43.0</td>\n",
       "      <td>52.0</td>\n",
       "      <td>52.0</td>\n",
       "      <td>91.0</td>\n",
       "      <td>91.0</td>\n",
       "    </tr>\n",
       "    <tr>\n",
       "      <th>WCIO Part Of Body Code</th>\n",
       "      <td>39.738146</td>\n",
       "      <td>31.516109</td>\n",
       "      <td>22.365940</td>\n",
       "      <td>23.359950</td>\n",
       "      <td>-9.0</td>\n",
       "      <td>-9.0</td>\n",
       "      <td>33.0</td>\n",
       "      <td>15.0</td>\n",
       "      <td>38.0</td>\n",
       "      <td>36.0</td>\n",
       "      <td>53.0</td>\n",
       "      <td>51.0</td>\n",
       "      <td>99.0</td>\n",
       "      <td>99.0</td>\n",
       "    </tr>\n",
       "    <tr>\n",
       "      <th>Number of Dependents</th>\n",
       "      <td>3.006559</td>\n",
       "      <td>3.000284</td>\n",
       "      <td>2.000801</td>\n",
       "      <td>1.997982</td>\n",
       "      <td>0.0</td>\n",
       "      <td>0.0</td>\n",
       "      <td>1.0</td>\n",
       "      <td>1.0</td>\n",
       "      <td>3.0</td>\n",
       "      <td>3.0</td>\n",
       "      <td>5.0</td>\n",
       "      <td>5.0</td>\n",
       "      <td>6.0</td>\n",
       "      <td>6.0</td>\n",
       "    </tr>\n",
       "  </tbody>\n",
       "</table>\n",
       "</div>"
      ],
      "text/plain": [
       "                                DF Mean    Test Mean       DF Std  \\\n",
       "Age at Injury                 42.114270    41.414944    14.256432   \n",
       "Average Weekly Wage          491.088321   183.343831  6092.918120   \n",
       "Birth Year                  1886.767604  1875.383466   414.644423   \n",
       "IME-4 Count                    3.207337     2.118131     2.832303   \n",
       "Industry Code                 58.645305    58.653581    19.644175   \n",
       "WCIO Cause of Injury Code     54.381143    53.335678    25.874281   \n",
       "WCIO Nature of Injury Code    41.013839    38.373674    22.207521   \n",
       "WCIO Part Of Body Code        39.738146    31.516109    22.365940   \n",
       "Number of Dependents           3.006559     3.000284     2.000801   \n",
       "\n",
       "                               Test Std  DF Min  Test Min  DF 25%  Test 25%  \\\n",
       "Age at Injury                 14.501056     0.0       0.0    31.0      30.0   \n",
       "Average Weekly Wage         3542.310214     0.0       0.0     0.0       0.0   \n",
       "Birth Year                   444.659075     0.0       0.0  1965.0    1967.0   \n",
       "IME-4 Count                    1.465406     1.0       1.0     1.0       1.0   \n",
       "Industry Code                 18.710501    11.0      11.0    45.0      45.0   \n",
       "WCIO Cause of Injury Code     26.176833     1.0       1.0    31.0      29.0   \n",
       "WCIO Nature of Injury Code    20.966100     1.0       1.0    16.0      10.0   \n",
       "WCIO Part Of Body Code        23.359950    -9.0      -9.0    33.0      15.0   \n",
       "Number of Dependents           1.997982     0.0       0.0     1.0       1.0   \n",
       "\n",
       "                            DF 50%  Test 50%  DF 75%  Test 75%     DF Max  \\\n",
       "Age at Injury                 42.0      40.0    54.0      53.0      117.0   \n",
       "Average Weekly Wage            0.0       0.0   841.0       0.0  2828079.0   \n",
       "Birth Year                  1977.0    1980.0  1989.0    1992.0     2018.0   \n",
       "IME-4 Count                    2.0       2.0     4.0       2.0       73.0   \n",
       "Industry Code                 61.0      61.0    71.0      71.0       92.0   \n",
       "WCIO Cause of Injury Code     56.0      56.0    75.0      74.0       99.0   \n",
       "WCIO Nature of Injury Code    49.0      43.0    52.0      52.0       91.0   \n",
       "WCIO Part Of Body Code        38.0      36.0    53.0      51.0       99.0   \n",
       "Number of Dependents           3.0       3.0     5.0       5.0        6.0   \n",
       "\n",
       "                             Test Max  \n",
       "Age at Injury                   114.0  \n",
       "Average Weekly Wage         1950317.0  \n",
       "Birth Year                     2019.0  \n",
       "IME-4 Count                      18.0  \n",
       "Industry Code                    92.0  \n",
       "WCIO Cause of Injury Code        99.0  \n",
       "WCIO Nature of Injury Code       91.0  \n",
       "WCIO Part Of Body Code           99.0  \n",
       "Number of Dependents              6.0  "
      ]
     },
     "execution_count": 14,
     "metadata": {},
     "output_type": "execute_result"
    }
   ],
   "source": [
    "num_stats_compare = u.num_stats(df, test, num_columns)\n",
    "num_comparison_df = pd.DataFrame(num_stats_compare).T\n",
    "num_comparison_df"
   ]
  },
  {
   "cell_type": "markdown",
   "id": "c721290c",
   "metadata": {},
   "source": [
    "From this table, the main conclusions are:\n",
    "- `Average Weekly Wage` mean values in DF (491) are much larger than in test (183)\n",
    "- `Average Weekly Wage` values in the 75% percentile are much larger in df (841) than in test (0), which indicates a distribution shift between DF and test sets\n",
    "\n",
    "Apart from these, there are no other significant differences in the numeric columns of both sets."
   ]
  },
  {
   "cell_type": "code",
   "execution_count": 15,
   "id": "7f07cda7",
   "metadata": {
    "ExecuteTime": {
     "end_time": "2024-12-16T17:48:36.884578Z",
     "start_time": "2024-12-16T17:48:33.980173Z"
    }
   },
   "outputs": [
    {
     "data": {
      "text/html": [
       "<div>\n",
       "<style scoped>\n",
       "    .dataframe tbody tr th:only-of-type {\n",
       "        vertical-align: middle;\n",
       "    }\n",
       "\n",
       "    .dataframe tbody tr th {\n",
       "        vertical-align: top;\n",
       "    }\n",
       "\n",
       "    .dataframe thead th {\n",
       "        text-align: right;\n",
       "    }\n",
       "</style>\n",
       "<table border=\"1\" class=\"dataframe\">\n",
       "  <thead>\n",
       "    <tr style=\"text-align: right;\">\n",
       "      <th></th>\n",
       "      <th>DF Unique</th>\n",
       "      <th>Test Unique</th>\n",
       "      <th>DF Mode</th>\n",
       "      <th>Test Mode</th>\n",
       "      <th>DF Top Value Count</th>\n",
       "      <th>Test Top Value Count</th>\n",
       "    </tr>\n",
       "  </thead>\n",
       "  <tbody>\n",
       "    <tr>\n",
       "      <th>Alternative Dispute Resolution</th>\n",
       "      <td>3</td>\n",
       "      <td>3</td>\n",
       "      <td>N</td>\n",
       "      <td>N</td>\n",
       "      <td>571412</td>\n",
       "      <td>386314</td>\n",
       "    </tr>\n",
       "    <tr>\n",
       "      <th>Attorney/Representative</th>\n",
       "      <td>2</td>\n",
       "      <td>2</td>\n",
       "      <td>N</td>\n",
       "      <td>N</td>\n",
       "      <td>392291</td>\n",
       "      <td>306476</td>\n",
       "    </tr>\n",
       "    <tr>\n",
       "      <th>Carrier Name</th>\n",
       "      <td>2046</td>\n",
       "      <td>1598</td>\n",
       "      <td>STATE INSURANCE FUND</td>\n",
       "      <td>STATE INSURANCE FUND</td>\n",
       "      <td>111144</td>\n",
       "      <td>66189</td>\n",
       "    </tr>\n",
       "    <tr>\n",
       "      <th>Carrier Type</th>\n",
       "      <td>8</td>\n",
       "      <td>7</td>\n",
       "      <td>1A. PRIVATE</td>\n",
       "      <td>1A. PRIVATE</td>\n",
       "      <td>285368</td>\n",
       "      <td>201827</td>\n",
       "    </tr>\n",
       "    <tr>\n",
       "      <th>County of Injury</th>\n",
       "      <td>63</td>\n",
       "      <td>63</td>\n",
       "      <td>SUFFOLK</td>\n",
       "      <td>QUEENS</td>\n",
       "      <td>60430</td>\n",
       "      <td>40358</td>\n",
       "    </tr>\n",
       "    <tr>\n",
       "      <th>COVID-19 Indicator</th>\n",
       "      <td>2</td>\n",
       "      <td>2</td>\n",
       "      <td>N</td>\n",
       "      <td>N</td>\n",
       "      <td>546505</td>\n",
       "      <td>385434</td>\n",
       "    </tr>\n",
       "    <tr>\n",
       "      <th>District Name</th>\n",
       "      <td>8</td>\n",
       "      <td>8</td>\n",
       "      <td>NYC</td>\n",
       "      <td>NYC</td>\n",
       "      <td>270779</td>\n",
       "      <td>187972</td>\n",
       "    </tr>\n",
       "    <tr>\n",
       "      <th>Gender</th>\n",
       "      <td>4</td>\n",
       "      <td>4</td>\n",
       "      <td>M</td>\n",
       "      <td>M</td>\n",
       "      <td>335218</td>\n",
       "      <td>215343</td>\n",
       "    </tr>\n",
       "    <tr>\n",
       "      <th>Industry Code Description</th>\n",
       "      <td>20</td>\n",
       "      <td>20</td>\n",
       "      <td>HEALTH CARE AND SOCIAL ASSISTANCE</td>\n",
       "      <td>HEALTH CARE AND SOCIAL ASSISTANCE</td>\n",
       "      <td>114339</td>\n",
       "      <td>72207</td>\n",
       "    </tr>\n",
       "    <tr>\n",
       "      <th>Medical Fee Region</th>\n",
       "      <td>5</td>\n",
       "      <td>5</td>\n",
       "      <td>IV</td>\n",
       "      <td>IV</td>\n",
       "      <td>265981</td>\n",
       "      <td>182276</td>\n",
       "    </tr>\n",
       "    <tr>\n",
       "      <th>WCIO Cause of Injury Description</th>\n",
       "      <td>74</td>\n",
       "      <td>74</td>\n",
       "      <td>LIFTING</td>\n",
       "      <td>FELLOW WORKER, PATIENT OR OTHER PERSON</td>\n",
       "      <td>46610</td>\n",
       "      <td>33293</td>\n",
       "    </tr>\n",
       "    <tr>\n",
       "      <th>WCIO Nature of Injury Description</th>\n",
       "      <td>56</td>\n",
       "      <td>56</td>\n",
       "      <td>STRAIN OR TEAR</td>\n",
       "      <td>STRAIN OR TEAR</td>\n",
       "      <td>153373</td>\n",
       "      <td>108326</td>\n",
       "    </tr>\n",
       "    <tr>\n",
       "      <th>WCIO Part Of Body Description</th>\n",
       "      <td>54</td>\n",
       "      <td>51</td>\n",
       "      <td>LOWER BACK AREA</td>\n",
       "      <td>MULTIPLE</td>\n",
       "      <td>51862</td>\n",
       "      <td>67465</td>\n",
       "    </tr>\n",
       "    <tr>\n",
       "      <th>Zip Code</th>\n",
       "      <td>10060</td>\n",
       "      <td>6276</td>\n",
       "      <td>11236</td>\n",
       "      <td>11368</td>\n",
       "      <td>3302</td>\n",
       "      <td>2068</td>\n",
       "    </tr>\n",
       "  </tbody>\n",
       "</table>\n",
       "</div>"
      ],
      "text/plain": [
       "                                  DF Unique Test Unique  \\\n",
       "Alternative Dispute Resolution            3           3   \n",
       "Attorney/Representative                   2           2   \n",
       "Carrier Name                           2046        1598   \n",
       "Carrier Type                              8           7   \n",
       "County of Injury                         63          63   \n",
       "COVID-19 Indicator                        2           2   \n",
       "District Name                             8           8   \n",
       "Gender                                    4           4   \n",
       "Industry Code Description                20          20   \n",
       "Medical Fee Region                        5           5   \n",
       "WCIO Cause of Injury Description         74          74   \n",
       "WCIO Nature of Injury Description        56          56   \n",
       "WCIO Part Of Body Description            54          51   \n",
       "Zip Code                              10060        6276   \n",
       "\n",
       "                                                             DF Mode  \\\n",
       "Alternative Dispute Resolution                                     N   \n",
       "Attorney/Representative                                            N   \n",
       "Carrier Name                                    STATE INSURANCE FUND   \n",
       "Carrier Type                                             1A. PRIVATE   \n",
       "County of Injury                                             SUFFOLK   \n",
       "COVID-19 Indicator                                                 N   \n",
       "District Name                                                    NYC   \n",
       "Gender                                                             M   \n",
       "Industry Code Description          HEALTH CARE AND SOCIAL ASSISTANCE   \n",
       "Medical Fee Region                                                IV   \n",
       "WCIO Cause of Injury Description                             LIFTING   \n",
       "WCIO Nature of Injury Description                     STRAIN OR TEAR   \n",
       "WCIO Part Of Body Description                        LOWER BACK AREA   \n",
       "Zip Code                                                       11236   \n",
       "\n",
       "                                                                Test Mode  \\\n",
       "Alternative Dispute Resolution                                          N   \n",
       "Attorney/Representative                                                 N   \n",
       "Carrier Name                                         STATE INSURANCE FUND   \n",
       "Carrier Type                                                  1A. PRIVATE   \n",
       "County of Injury                                                   QUEENS   \n",
       "COVID-19 Indicator                                                      N   \n",
       "District Name                                                         NYC   \n",
       "Gender                                                                  M   \n",
       "Industry Code Description               HEALTH CARE AND SOCIAL ASSISTANCE   \n",
       "Medical Fee Region                                                     IV   \n",
       "WCIO Cause of Injury Description   FELLOW WORKER, PATIENT OR OTHER PERSON   \n",
       "WCIO Nature of Injury Description                          STRAIN OR TEAR   \n",
       "WCIO Part Of Body Description                                    MULTIPLE   \n",
       "Zip Code                                                            11368   \n",
       "\n",
       "                                  DF Top Value Count Test Top Value Count  \n",
       "Alternative Dispute Resolution                571412               386314  \n",
       "Attorney/Representative                       392291               306476  \n",
       "Carrier Name                                  111144                66189  \n",
       "Carrier Type                                  285368               201827  \n",
       "County of Injury                               60430                40358  \n",
       "COVID-19 Indicator                            546505               385434  \n",
       "District Name                                 270779               187972  \n",
       "Gender                                        335218               215343  \n",
       "Industry Code Description                     114339                72207  \n",
       "Medical Fee Region                            265981               182276  \n",
       "WCIO Cause of Injury Description               46610                33293  \n",
       "WCIO Nature of Injury Description             153373               108326  \n",
       "WCIO Part Of Body Description                  51862                67465  \n",
       "Zip Code                                        3302                 2068  "
      ]
     },
     "execution_count": 15,
     "metadata": {},
     "output_type": "execute_result"
    }
   ],
   "source": [
    "obj_stats_compare = u.obj_stats(df, test, obj_columns)\n",
    "obj_comparison_df = pd.DataFrame(obj_stats_compare).T\n",
    "obj_comparison_df"
   ]
  },
  {
   "cell_type": "markdown",
   "id": "51549630",
   "metadata": {},
   "source": [
    "From this table, the main conclusions are:\n",
    "- `Carrier Type` has 8 unique values in DF, but only 7 in test\n",
    "- `WCIO Part Of Body Description` has 54 unique values in DF, but only 51 in test\n",
    "- `County of Injury` Mode is SUFFOLK in DF, but QUEENS in test\n",
    "- `WCIO Cause of Injury Description` and `WCIO Part Of Body Description` have different modes from DF to test"
   ]
  },
  {
   "cell_type": "markdown",
   "id": "ba8633b4",
   "metadata": {},
   "source": [
    "### 2.1.1 Univariate Analysis\n",
    "\n",
    "<a href=\"#top\">Top &#129033;</a>\n",
    "\n",
    "In this section we will individually analyse each variable."
   ]
  },
  {
   "cell_type": "markdown",
   "id": "8bb8d335",
   "metadata": {},
   "source": [
    "### Numerical Variables"
   ]
  },
  {
   "cell_type": "code",
   "execution_count": null,
   "id": "9f692970",
   "metadata": {
    "ExecuteTime": {
     "end_time": "2024-12-15T19:10:03.656364Z",
     "start_time": "2024-12-15T19:10:01.795288Z"
    }
   },
   "outputs": [],
   "source": [
    "v.plot_numeric_histograms(df)"
   ]
  },
  {
   "cell_type": "markdown",
   "id": "88076cbb",
   "metadata": {},
   "source": [
    "**Age at Injury**\n",
    "\n",
    "As one can see there are some unexpectedly high values in age in both datasets"
   ]
  },
  {
   "cell_type": "code",
   "execution_count": null,
   "id": "9115483a",
   "metadata": {
    "ExecuteTime": {
     "end_time": "2024-12-15T19:10:07.015871Z",
     "start_time": "2024-12-15T19:10:06.971626Z"
    }
   },
   "outputs": [],
   "source": [
    "print(df['Age at Injury'].describe())\n",
    "print()\n",
    "print(test['Age at Injury'].describe())"
   ]
  },
  {
   "cell_type": "markdown",
   "id": "e202b813",
   "metadata": {},
   "source": [
    "**Average Weekly Wage**"
   ]
  },
  {
   "cell_type": "code",
   "execution_count": null,
   "id": "ea1d57d4",
   "metadata": {
    "ExecuteTime": {
     "end_time": "2024-12-15T19:10:07.556350Z",
     "start_time": "2024-12-15T19:10:07.512361Z"
    }
   },
   "outputs": [],
   "source": [
    "print(df['Average Weekly Wage'].describe())\n",
    "print()\n",
    "print(test['Average Weekly Wage'].describe())"
   ]
  },
  {
   "cell_type": "markdown",
   "id": "d164252c",
   "metadata": {},
   "source": [
    "**Birth Year**\n",
    "\n",
    "There are also very unlikely minimum values for this variable, which will later be addressed"
   ]
  },
  {
   "cell_type": "code",
   "execution_count": null,
   "id": "c7e59aa2",
   "metadata": {
    "ExecuteTime": {
     "end_time": "2024-12-11T11:24:37.352017Z",
     "start_time": "2024-12-11T11:24:37.286695Z"
    }
   },
   "outputs": [],
   "source": [
    "print(df['Birth Year'].describe())\n",
    "print()\n",
    "print(test['Birth Year'].describe())"
   ]
  },
  {
   "cell_type": "markdown",
   "id": "b2a874bb",
   "metadata": {},
   "source": [
    "**IME-4 Count**\n",
    "\n",
    "It is interesting to compare the maximum values of both datasets"
   ]
  },
  {
   "cell_type": "code",
   "execution_count": null,
   "id": "5efc1a8e",
   "metadata": {
    "ExecuteTime": {
     "end_time": "2024-12-11T11:24:45.503065Z",
     "start_time": "2024-12-11T11:24:45.445187Z"
    },
    "scrolled": true
   },
   "outputs": [],
   "source": [
    "print(df['IME-4 Count'].describe())\n",
    "print()\n",
    "print(test['IME-4 Count'].describe())"
   ]
  },
  {
   "cell_type": "markdown",
   "id": "07ccbe11",
   "metadata": {},
   "source": [
    "**Number of Dependents**"
   ]
  },
  {
   "cell_type": "code",
   "execution_count": null,
   "id": "b510ca47",
   "metadata": {
    "ExecuteTime": {
     "end_time": "2024-12-11T11:24:46.702950Z",
     "start_time": "2024-12-11T11:24:46.666712Z"
    }
   },
   "outputs": [],
   "source": [
    "df['Number of Dependents'].describe()"
   ]
  },
  {
   "cell_type": "markdown",
   "id": "a682deb8",
   "metadata": {},
   "source": [
    "**Univariate Analysis for Numerical Variables Conclusions**\n",
    "\n",
    "*1. Histograms*\n",
    "- `Age at Injury`: Nearly normal distribution with a peak between 30 and 50 years. Some minor right-skewness due to outliers above 100 years.\n",
    "- `Average Weekly Wage`: Extremely right-skewed distribution with most values near 0 and a few outliers at very high values.\n",
    "- `Birth Year`: Concentrated around the late 20th century, with invalid entries (e.g., 0) skewing the distribution.\n",
    "- `IME-4 Count`: Heavily right-skewed with the majority of values concentrated at 1 or 2, and a few extreme outliers (e.g., > 60).\n",
    "- `Industry Code `: Multimodal distribution with peaks around specific values, indicating distinct groupings.\n",
    "- `WCIO Cause of Injury Code `: Uniformly distributed across multiple categories with no significant anomalies.\n",
    "- `WCIO Nature of Injury Code `: Multimodal distribution with a notable peak around 40, reflecting common injury types.\n",
    "- `WCIO Part of Body Code `: Balanced distribution with peaks around 20–40, representing frequently affected body parts.\n",
    "- `Number of Dependents `: Nearly uniform distribution across categories from 0 to 6, indicating no dominant category.\n",
    "\n",
    "---\n",
    "\n",
    "*2. Variables*\n",
    "\n",
    "`Age at Injury`\n",
    "- Nearly normal distribution with some extreme outliers (e.g., ages > 100 years).\n",
    "- Training and test sets are consistent in distribution.\n",
    "\n",
    "\n",
    "`Average Weekly Wage`\n",
    "- Highly skewed distribution with most values near 0.\n",
    "- Severe outliers present, especially in the test set.\n",
    "\n",
    "\n",
    "`Birth Year`\n",
    "- Presence of invalid values (0) that should be treated as missing.\n",
    "- Most data falls between the 1960s and 1990s.\n",
    "- Consistent distribution between training and test sets.\n",
    "\n",
    "\n",
    "`IME-4 Count`\n",
    "- Right-skewed distribution with potential outliers in the training set.\n",
    "- Test set has a smaller range of values compared to the training set.\n",
    "\n",
    "\n",
    "`Number of Dependents`\n",
    "- Uniform distribution with values ranging from 0 to 6.\n",
    "- No significant outliers observed."
   ]
  },
  {
   "cell_type": "markdown",
   "id": "c0a61353",
   "metadata": {},
   "source": [
    "### Categorical Variables\n",
    "\n",
    "<a href=\"#top\">Top &#129033;</a>"
   ]
  },
  {
   "cell_type": "markdown",
   "id": "eb157707",
   "metadata": {},
   "source": [
    "**Claim Injury Type**\n",
    "\n",
    "We can see how skewed the distribution of our target variable is"
   ]
  },
  {
   "cell_type": "code",
   "execution_count": 16,
   "id": "0bbf38bc",
   "metadata": {
    "ExecuteTime": {
     "end_time": "2024-12-16T17:48:42.908651Z",
     "start_time": "2024-12-16T17:48:41.751500Z"
    }
   },
   "outputs": [
    {
     "data": {
      "image/png": "[encoded data removed]",
      "text/plain": [
       "<Figure size 1000x600 with 1 Axes>"
      ]
     },
     "metadata": {},
     "output_type": "display_data"
    }
   ],
   "source": [
    "v.plot_histogram(df, 'Claim Injury Type')"
   ]
  },
  {
   "cell_type": "code",
   "execution_count": 17,
   "id": "4ee03b1a",
   "metadata": {
    "ExecuteTime": {
     "end_time": "2024-12-16T17:48:43.656606Z",
     "start_time": "2024-12-16T17:48:43.600880Z"
    }
   },
   "outputs": [
    {
     "name": "stdout",
     "output_type": "stream",
     "text": [
      "Claim Injury Type\n",
      "2. NON-COMP        291078\n",
      "4. TEMPORARY       148507\n",
      "3. MED ONLY         68906\n",
      "5. PPD SCH LOSS     48280\n",
      "1. CANCELLED        12477\n",
      "6. PPD NSL           4211\n",
      "8. DEATH              470\n",
      "7. PTD                 97\n",
      "Name: count, dtype: int64\n"
     ]
    }
   ],
   "source": [
    "print(df['Claim Injury Type'].value_counts())"
   ]
  },
  {
   "cell_type": "markdown",
   "id": "b3a2feeb",
   "metadata": {},
   "source": [
    "**Alternative Dispute Resolution**\n",
    "\n",
    "AS Y an N categories have very few values, we may consider dropping them. However, we must explore its relation with other features first"
   ]
  },
  {
   "cell_type": "code",
   "execution_count": null,
   "id": "92174260",
   "metadata": {
    "ExecuteTime": {
     "end_time": "2024-12-15T19:16:24.890617Z",
     "start_time": "2024-12-15T19:16:24.854307Z"
    }
   },
   "outputs": [],
   "source": [
    "df['Alternative Dispute Resolution'].value_counts()"
   ]
  },
  {
   "cell_type": "code",
   "execution_count": null,
   "id": "45d710d2",
   "metadata": {
    "ExecuteTime": {
     "end_time": "2024-12-15T19:16:26.828849Z",
     "start_time": "2024-12-15T19:16:25.180421Z"
    },
    "scrolled": true
   },
   "outputs": [],
   "source": [
    "v.plot_histogram(df, 'Alternative Dispute Resolution')\n",
    "\n",
    "v.plot_histogram(test, 'Alternative Dispute Resolution')"
   ]
  },
  {
   "cell_type": "markdown",
   "id": "91ed663f",
   "metadata": {},
   "source": [
    "**Attorney/Representative**"
   ]
  },
  {
   "cell_type": "code",
   "execution_count": null,
   "id": "cfa4238f",
   "metadata": {
    "ExecuteTime": {
     "end_time": "2024-12-15T19:16:27.723162Z",
     "start_time": "2024-12-15T19:16:27.687270Z"
    }
   },
   "outputs": [],
   "source": [
    "df['Attorney/Representative'].value_counts()"
   ]
  },
  {
   "cell_type": "code",
   "execution_count": null,
   "id": "2ea5fe13",
   "metadata": {
    "ExecuteTime": {
     "end_time": "2024-12-15T19:16:31.287789Z",
     "start_time": "2024-12-15T19:16:29.627552Z"
    },
    "scrolled": true
   },
   "outputs": [],
   "source": [
    "v.plot_histogram(df, 'Attorney/Representative')\n",
    "\n",
    "v.plot_histogram(test, 'Attorney/Representative')"
   ]
  },
  {
   "cell_type": "markdown",
   "id": "9b27b49b",
   "metadata": {},
   "source": [
    "**Carrier Name**\n",
    "\n",
    "Due to the amount of different Carriers, it is hard to find a plot that shows them all in an understandable way. Therefore we decided so see which were the most common words in this variable by plotting a WordCloud.\n",
    "\n",
    "This Wordcloud showed us that *Insurance* and *Ins* is quite common. "
   ]
  },
  {
   "cell_type": "code",
   "execution_count": null,
   "id": "992e717e",
   "metadata": {
    "ExecuteTime": {
     "end_time": "2024-12-15T19:16:31.357968Z",
     "start_time": "2024-12-15T19:16:31.290534Z"
    }
   },
   "outputs": [],
   "source": [
    "freq = df['Carrier Name'].value_counts()\n",
    "freq"
   ]
  },
  {
   "cell_type": "code",
   "execution_count": null,
   "id": "a328cf32",
   "metadata": {
    "ExecuteTime": {
     "end_time": "2024-12-15T19:16:35.670882Z",
     "start_time": "2024-12-15T19:16:33.011301Z"
    },
    "scrolled": false
   },
   "outputs": [],
   "source": [
    "v.generate_wordcloud(df, column_name='Carrier Name', \n",
    "                   title='Word Cloud of Carrier Names')"
   ]
  },
  {
   "cell_type": "markdown",
   "id": "c3d23d3b",
   "metadata": {},
   "source": [
    "**Carrier Type**\n",
    "\n",
    "As we previously identified, there are 2 categories present in DF (5A, 5C) that do not exist in test. This can be confirmed by the 2 visualisations bellow"
   ]
  },
  {
   "cell_type": "code",
   "execution_count": null,
   "id": "ec1f4948",
   "metadata": {
    "ExecuteTime": {
     "end_time": "2024-11-28T12:46:23.513520Z",
     "start_time": "2024-11-28T12:46:23.454913Z"
    }
   },
   "outputs": [],
   "source": [
    "df['Carrier Type'].value_counts()"
   ]
  },
  {
   "cell_type": "code",
   "execution_count": null,
   "id": "10e576f4",
   "metadata": {
    "ExecuteTime": {
     "end_time": "2024-11-28T12:21:38.776713Z",
     "start_time": "2024-11-28T12:21:36.963552Z"
    },
    "scrolled": false
   },
   "outputs": [],
   "source": [
    "v.plot_histogram(df, 'Carrier Type')\n",
    "\n",
    "v.plot_histogram(test, 'Carrier Type')"
   ]
  },
  {
   "cell_type": "markdown",
   "id": "830d7b4c",
   "metadata": {},
   "source": [
    "**County of Injury**\n",
    "\n",
    "Nothing better to visualise Counties than a map."
   ]
  },
  {
   "cell_type": "code",
   "execution_count": null,
   "id": "f491541a",
   "metadata": {
    "ExecuteTime": {
     "end_time": "2024-12-15T19:17:54.534359Z",
     "start_time": "2024-12-15T19:17:52.849554Z"
    }
   },
   "outputs": [],
   "source": [
    "map_.map_('./geojson-counties-fips.json', df)"
   ]
  },
  {
   "cell_type": "code",
   "execution_count": null,
   "id": "17fcd840",
   "metadata": {
    "ExecuteTime": {
     "end_time": "2024-12-15T19:18:34.333062Z",
     "start_time": "2024-12-15T19:18:31.209605Z"
    },
    "scrolled": true
   },
   "outputs": [],
   "source": [
    "v.plot_histogram(df, 'County of Injury',\n",
    "                 rotation = 90)\n",
    "\n",
    "v.plot_histogram(test, 'County of Injury',\n",
    "                 rotation = 90)"
   ]
  },
  {
   "cell_type": "markdown",
   "id": "86f1c18f",
   "metadata": {},
   "source": [
    "**COVID-19 Indicator**"
   ]
  },
  {
   "cell_type": "code",
   "execution_count": null,
   "id": "840b8dc8",
   "metadata": {
    "ExecuteTime": {
     "end_time": "2024-12-15T19:18:34.372079Z",
     "start_time": "2024-12-15T19:18:34.335817Z"
    }
   },
   "outputs": [],
   "source": [
    "df['COVID-19 Indicator'].value_counts()"
   ]
  },
  {
   "cell_type": "code",
   "execution_count": null,
   "id": "4f85b904",
   "metadata": {
    "ExecuteTime": {
     "end_time": "2024-12-15T19:18:36.029270Z",
     "start_time": "2024-12-15T19:18:34.374368Z"
    },
    "scrolled": true
   },
   "outputs": [],
   "source": [
    "v.plot_histogram(df, 'COVID-19 Indicator')\n",
    "\n",
    "v.plot_histogram(test, 'COVID-19 Indicator')"
   ]
  },
  {
   "cell_type": "markdown",
   "id": "16a80435",
   "metadata": {},
   "source": [
    "**District Name**"
   ]
  },
  {
   "cell_type": "code",
   "execution_count": null,
   "id": "0cc600e1",
   "metadata": {
    "ExecuteTime": {
     "end_time": "2024-12-15T19:18:36.087587Z",
     "start_time": "2024-12-15T19:18:36.033004Z"
    }
   },
   "outputs": [],
   "source": [
    "df['District Name'].value_counts()"
   ]
  },
  {
   "cell_type": "code",
   "execution_count": null,
   "id": "9efcab62",
   "metadata": {
    "ExecuteTime": {
     "end_time": "2024-12-15T19:18:37.881309Z",
     "start_time": "2024-12-15T19:18:36.089813Z"
    },
    "scrolled": true
   },
   "outputs": [],
   "source": [
    "v.plot_histogram(df, 'District Name')\n",
    "\n",
    "v.plot_histogram(test, 'District Name')"
   ]
  },
  {
   "cell_type": "markdown",
   "id": "cf8afcc1",
   "metadata": {},
   "source": [
    "**Gender**"
   ]
  },
  {
   "cell_type": "code",
   "execution_count": null,
   "id": "d504fcfe",
   "metadata": {
    "ExecuteTime": {
     "end_time": "2024-12-15T19:18:37.919675Z",
     "start_time": "2024-12-15T19:18:37.883717Z"
    }
   },
   "outputs": [],
   "source": [
    "df['Gender'].value_counts()"
   ]
  },
  {
   "cell_type": "code",
   "execution_count": null,
   "id": "a9ae9f03",
   "metadata": {
    "ExecuteTime": {
     "end_time": "2024-12-15T19:18:39.593493Z",
     "start_time": "2024-12-15T19:18:37.922160Z"
    },
    "scrolled": true
   },
   "outputs": [],
   "source": [
    "v.plot_histogram(df, 'Gender')\n",
    "\n",
    "v.plot_histogram(test, 'Gender')"
   ]
  },
  {
   "cell_type": "markdown",
   "id": "ae1fd40a",
   "metadata": {},
   "source": [
    "**Industry Code Description**"
   ]
  },
  {
   "cell_type": "code",
   "execution_count": null,
   "id": "22f889b0",
   "metadata": {
    "ExecuteTime": {
     "end_time": "2024-12-15T19:18:39.654372Z",
     "start_time": "2024-12-15T19:18:39.595698Z"
    },
    "scrolled": true
   },
   "outputs": [],
   "source": [
    "df['Industry Code Description'].value_counts()"
   ]
  },
  {
   "cell_type": "code",
   "execution_count": null,
   "id": "d445eb65",
   "metadata": {
    "ExecuteTime": {
     "end_time": "2024-12-15T19:18:41.867187Z",
     "start_time": "2024-12-15T19:18:39.656587Z"
    },
    "scrolled": true
   },
   "outputs": [],
   "source": [
    "v.plot_histogram(df, 'Industry Code Description',\n",
    "                rotation = 90)\n",
    "\n",
    "v.plot_histogram(test, 'Industry Code Description',\n",
    "                rotation = 90)"
   ]
  },
  {
   "cell_type": "markdown",
   "id": "60f0a1d8",
   "metadata": {},
   "source": [
    "**Medical Fee Region**"
   ]
  },
  {
   "cell_type": "code",
   "execution_count": null,
   "id": "63183683",
   "metadata": {
    "ExecuteTime": {
     "end_time": "2024-11-28T13:48:20.074393Z",
     "start_time": "2024-11-28T13:48:20.022197Z"
    }
   },
   "outputs": [],
   "source": [
    "df['Medical Fee Region'].value_counts()"
   ]
  },
  {
   "cell_type": "code",
   "execution_count": null,
   "id": "268586e7",
   "metadata": {
    "ExecuteTime": {
     "end_time": "2024-11-28T13:48:31.740925Z",
     "start_time": "2024-11-28T13:48:29.917438Z"
    },
    "scrolled": true
   },
   "outputs": [],
   "source": [
    "v.plot_histogram(df, 'Medical Fee Region')\n",
    "\n",
    "v.plot_histogram(test, 'Medical Fee Region')"
   ]
  },
  {
   "cell_type": "markdown",
   "id": "355fb629",
   "metadata": {},
   "source": [
    "**WCIO Cause of Injury Description**\n",
    "\n",
    "Here the Wordcloud is not as insightful, as the most common word appears to be a stopword"
   ]
  },
  {
   "cell_type": "code",
   "execution_count": null,
   "id": "7319e44c",
   "metadata": {
    "ExecuteTime": {
     "end_time": "2024-11-28T11:17:51.533687Z",
     "start_time": "2024-11-28T11:17:49.214930Z"
    },
    "scrolled": true
   },
   "outputs": [],
   "source": [
    "v.plot_histogram(df, 'WCIO Cause of Injury Description', \n",
    "                          rotation = 90)\n",
    "\n",
    "\n",
    "v.plot_histogram(test, 'WCIO Cause of Injury Description', \n",
    "                          rotation = 90)"
   ]
  },
  {
   "cell_type": "code",
   "execution_count": null,
   "id": "395892f9",
   "metadata": {
    "ExecuteTime": {
     "end_time": "2024-12-15T19:19:08.430121Z",
     "start_time": "2024-12-15T19:19:07.097263Z"
    }
   },
   "outputs": [],
   "source": [
    "v.generate_wordcloud(df, 'WCIO Cause of Injury Description')"
   ]
  },
  {
   "cell_type": "markdown",
   "id": "983dc301",
   "metadata": {},
   "source": [
    "**WCIO Nature of Injury Description**"
   ]
  },
  {
   "cell_type": "code",
   "execution_count": null,
   "id": "91c7a5fb",
   "metadata": {
    "ExecuteTime": {
     "end_time": "2024-11-28T11:17:53.863659Z",
     "start_time": "2024-11-28T11:17:51.536111Z"
    },
    "scrolled": true
   },
   "outputs": [],
   "source": [
    "v.plot_histogram(df, 'WCIO Nature of Injury Description', \n",
    "                          rotation = 90)\n",
    "\n",
    "\n",
    "v.plot_histogram(test, 'WCIO Nature of Injury Description', \n",
    "                          rotation = 90)"
   ]
  },
  {
   "cell_type": "code",
   "execution_count": null,
   "id": "5675d94e",
   "metadata": {
    "ExecuteTime": {
     "end_time": "2024-12-09T10:34:43.721194Z",
     "start_time": "2024-12-09T10:34:43.071119Z"
    }
   },
   "outputs": [],
   "source": [
    "v.generate_wordcloud(df, 'WCIO Nature of Injury Description')"
   ]
  },
  {
   "cell_type": "markdown",
   "id": "721efa21",
   "metadata": {},
   "source": [
    "**WCIO Part Of Body Description**\n",
    "\n",
    "In DF, even though teh category 'Multiple' is still common, there are 2 categories that are even more common ('Lower Back Area' and 'Knee'), when comparing to the test data."
   ]
  },
  {
   "cell_type": "code",
   "execution_count": null,
   "id": "2df05c0d",
   "metadata": {
    "ExecuteTime": {
     "end_time": "2024-11-27T19:17:32.846593Z",
     "start_time": "2024-11-27T19:17:30.770184Z"
    },
    "scrolled": true
   },
   "outputs": [],
   "source": [
    "v.plot_histogram(df, 'WCIO Part Of Body Description', \n",
    "                          rotation = 90)\n",
    "\n",
    "\n",
    "v.plot_histogram(test, 'WCIO Part Of Body Description', \n",
    "                          rotation = 90)"
   ]
  },
  {
   "cell_type": "code",
   "execution_count": null,
   "id": "515ce5d7",
   "metadata": {
    "ExecuteTime": {
     "end_time": "2024-12-09T10:34:48.391430Z",
     "start_time": "2024-12-09T10:34:47.808982Z"
    }
   },
   "outputs": [],
   "source": [
    "v.generate_wordcloud(df, 'WCIO Part Of Body Description')"
   ]
  },
  {
   "cell_type": "markdown",
   "id": "4e1eaadf",
   "metadata": {},
   "source": [
    "**Zip Code**"
   ]
  },
  {
   "cell_type": "code",
   "execution_count": null,
   "id": "95a4a691",
   "metadata": {
    "ExecuteTime": {
     "end_time": "2024-11-28T11:18:24.520876Z",
     "start_time": "2024-11-28T11:18:24.474657Z"
    }
   },
   "outputs": [],
   "source": [
    "df['Zip Code'].value_counts()"
   ]
  },
  {
   "cell_type": "markdown",
   "id": "fc78ee11",
   "metadata": {},
   "source": [
    "**Univariate Analysis for Categorical Variables Conclusions**\n",
    "\n",
    "`Alternative Dispute Resolutio``\n",
    "- Dominated by `N` category; `Y` and `U` are rare, indicating an imbalanced distribution.\n",
    "\n",
    "`Attorney/Representative `\n",
    "- Two categories (`N`, `Y`); majority are `N`, with about one-third in `Y`.\n",
    "\n",
    "`Carrier Name`\n",
    "- Highly imbalanced with over 2,000 unique values; \"STATE INSURANCE FUND\" dominates.\n",
    "- The words \"Insurance\" and \"Ins\" are quite common.\n",
    "\n",
    "`Carrier Type `\n",
    "- Dominated by `1A. PRIVATE`, followed by `3A. SELF PUBLIC` and `2A. SIF`; minor categories are sparse.\n",
    "\n",
    "` County of Injury`\n",
    "- Skewed distribution; counties like \"BRONX\" and \"WESTCHESTER\" are most frequent.\n",
    "\n",
    "`COVID-19 Indicator`\n",
    "- Heavily imbalanced with most cases in `N` and a small fraction in `Y`.\n",
    "\n",
    "`District Name `\n",
    "- \"NYC\" contributes the majority of cases, followed by \"ALBANY\" and \"HAUPPAUGE.\"\n",
    "\n",
    "`Gender`\n",
    "- Dominated by `M` and `F`; minor categories (`U`, `+`) are rare.\n",
    "\n",
    "`Industry Code Description Industry Code Description `\n",
    "- \"Health Care and Social Assistance\" and \"Public Administration\" are most frequent; minor industries like \"Mining\" are rare.\n",
    "\n",
    "`Medical Fee Region`\n",
    "- Region `IV` dominates, followed by `I` and `II`; `UK` (unknown) is minimal.\n",
    "\n",
    "`WCIO Cause of Injury Description`\n",
    "- Common causes include \"Falling or Slip/Trip\" and \"Struck by Object\"; many low-frequency categories exist.\n",
    "\n",
    "`WCIO Nature of Injury Description`\n",
    "- Distinct peaks for \"Contusion,\" \"Sprain,\" and \"Strain\"; many low-frequency categories that may require aggregation.\n",
    "\n",
    "`WCIO Part of Body Description`\n",
    "- Frequently affected areas include \"Lower Back,\" \"Wrists,\" and \"Multiple Body Parts\"; notable entries for \"Upper Extremities\" and \"Neck.\"\n",
    "\n",
    "`Zip Code`\n",
    "- Over 6,000 unique values; a few zip codes like 11236 and 10940 dominate, while many have minimal occurrences."
   ]
  },
  {
   "cell_type": "markdown",
   "id": "c94b2870",
   "metadata": {},
   "source": [
    "### 2.1.2 Bivariate Analysis\n",
    "\n",
    "<a href=\"#top\">Top &#129033;</a>"
   ]
  },
  {
   "cell_type": "markdown",
   "id": "67ad2366",
   "metadata": {},
   "source": [
    "### Numerical vs Numerical"
   ]
  },
  {
   "cell_type": "code",
   "execution_count": null,
   "id": "0d32c1ee",
   "metadata": {
    "ExecuteTime": {
     "end_time": "2024-12-15T19:23:47.165134Z",
     "start_time": "2024-12-15T19:23:46.324945Z"
    }
   },
   "outputs": [],
   "source": [
    "# Remove rows with missing values\n",
    "temp = df.dropna()\n",
    "\n",
    "# Select numerical columns for correlation analysis\n",
    "corr_data = temp.select_dtypes(include=['number'])\n",
    "\n",
    "# Compute the Spearman correlation matrix (Pearson is the default)\n",
    "correlation_matrix = corr_data.corr(method='spearman')\n",
    "\n",
    "# Plot the correlation heatmap\n",
    "plt.figure(figsize=(10, 8))\n",
    "sns.heatmap(correlation_matrix, annot=True, cmap='YlOrBr', linewidths=0.1)\n",
    "plt.show()"
   ]
  },
  {
   "cell_type": "markdown",
   "id": "914c6e79",
   "metadata": {},
   "source": [
    "From plotting a correlation matrix for numeric features, we can conclude that there are no highly positive correlations. Nonetheless, there is a highly negative correlation (-0.97) between `Birth Year`and `Age at Injury`. \n",
    "\n",
    "This negative correlation was to be expected, as the age can be computed from the birth year, and the higher the birth year, the lower the age.\n",
    "\n",
    "This problem will be addressed later in the project."
   ]
  },
  {
   "cell_type": "code",
   "execution_count": null,
   "id": "8f61f129",
   "metadata": {
    "ExecuteTime": {
     "end_time": "2024-12-15T19:28:09.365829Z",
     "start_time": "2024-12-15T19:24:29.421379Z"
    }
   },
   "outputs": [],
   "source": [
    "v.plot_pairwise_relationship(df)"
   ]
  },
  {
   "cell_type": "markdown",
   "id": "fbbd5f34",
   "metadata": {},
   "source": [
    "Above we are plotting scatterplots for all combinations of numeric variables, looking for linear relationships between them. Since this matrix is mirrored on the diagonal, we decided to only display half of it.\n",
    "\n",
    "This allowed us to conclude that there are no linear relationships when combining two numeric variables."
   ]
  },
  {
   "cell_type": "markdown",
   "id": "e7b882a2",
   "metadata": {},
   "source": [
    "**Bivariate Analysis: Numerical vs Numerical Conclusions**\n",
    "\n",
    "*1. Correlation Matrix*\n",
    "\n",
    "- **Strong Negative Correlation** :\n",
    "  - `Age at Injury` and `Birth Year` (-0.97) due to expected inverse relationship (younger individuals have more recent birth years).\n",
    "- **Moderate Positive Correlation**:\n",
    "  - `WCIO Cause of Injury Code` and `WCIO Nature of Injury Code` (0.15), indicating a potential relationship between these attributes.\n",
    "  - `Average Weekly Wage` and `WCIO Cause of Injury Code` (0.16), suggesting a slight trend between wages and injury cause.\n",
    "- **Low or No Correlation**:\n",
    "  - Most other pairings show weak correlations (near 0), indicating limited linear relationships.\n",
    "\n",
    "*2. Pair Plot Observations*\n",
    "\n",
    "- **Scattered Relationships**:\n",
    "  - Numerical variables show scattered plots, reflecting weak linear relationships across most pairings.\n",
    "  - Some distinct patterns are visible between `Age at Injury` and `Birth Year`, aligned with their high negative correlation.\n",
    "- **Clusters**:\n",
    "  - Clusters appear in categorical-like variables such as `WCIO Cause of Injury Code` and `WCIO Nature of Injury Code`, reflecting discrete groupings."
   ]
  },
  {
   "cell_type": "markdown",
   "id": "a70964d7",
   "metadata": {},
   "source": [
    "### Numerical vs Categorical\n",
    "\n",
    "<a href=\"#top\">Top &#129033;</a>"
   ]
  },
  {
   "cell_type": "code",
   "execution_count": 57,
   "id": "21aa47b4",
   "metadata": {
    "ExecuteTime": {
     "end_time": "2024-12-15T19:28:15.449432Z",
     "start_time": "2024-12-15T19:28:14.783655Z"
    }
   },
   "outputs": [],
   "source": [
    "discrete = ['Birth Year', 'IME-4 Count', 'Industry Code',\n",
    "            'WCIO Cause of Injury Code', 'WCIO Nature of Injury Code',\n",
    "            'WCIO Part Of Body Code', 'Number of Dependents']\n",
    "\n",
    "continuous = ['Age at Injury', 'Average Weekly Wage']\n",
    "\n",
    "categorical = [col for col in df.select_dtypes(include=['object']).columns\n",
    "               if df[col].nunique() < 9]"
   ]
  },
  {
   "cell_type": "markdown",
   "id": "bd972f45",
   "metadata": {},
   "source": [
    "**Bivariate Analysis: Numerical vs Categorical**\n",
    "\n",
    "- **Discrete Numerical Variables:** \n",
    "  - `Birth Year`, `IME-4 Count`, `Industry Code`, `WCIO Cause of Injury Code`, `WCIO Nature of Injury Code`, `WCIO Part Of Body Code`, `Number of Dependents` <br><br>\n",
    "  \n",
    "- **Continuous Numerical Variables:**\n",
    "  - `Age at Injury`, `Average Weekly Wage` <br><br>\n",
    "  \n",
    "- **Categorical Variables:**\n",
    "  - Selected columns with fewer than 9 unique categories for focused analysis."
   ]
  },
  {
   "cell_type": "markdown",
   "id": "1f7b5f37",
   "metadata": {},
   "source": [
    "#### Categorical vs Numerical Discrete"
   ]
  },
  {
   "cell_type": "code",
   "execution_count": null,
   "id": "58256c79",
   "metadata": {
    "ExecuteTime": {
     "end_time": "2024-12-15T19:30:53.287966Z",
     "start_time": "2024-12-15T19:30:49.571168Z"
    },
    "scrolled": true
   },
   "outputs": [],
   "source": [
    "for column in discrete:\n",
    "    plot_cat_vs_num(df, 'Claim Injury Type', column, plot_type = 'box')"
   ]
  },
  {
   "cell_type": "code",
   "execution_count": null,
   "id": "43c51f8f",
   "metadata": {
    "ExecuteTime": {
     "end_time": "2024-12-15T19:32:08.483000Z",
     "start_time": "2024-12-15T19:31:07.937048Z"
    },
    "scrolled": true
   },
   "outputs": [],
   "source": [
    "for column in discrete:\n",
    "    v.plot_cat_vs_num(df, 'Claim Injury Type', column, plot_type = 'bar')"
   ]
  },
  {
   "cell_type": "markdown",
   "id": "eb102594",
   "metadata": {},
   "source": [
    "**Bivariate Analysis: Categorical vs Numerical (Discrete) Conclusions**\n",
    "\n",
    "1. `Claim Injury Type vs Birth Year`\n",
    "   - Minimal variation across claim types, with similar median birth years for most categories.\n",
    "   - Minor outliers in earlier years observed. <br><br>\n",
    "\n",
    "2. `Claim Injury Type vs IME-4 Count` \n",
    "   - Noticeable increase in IME-4 count for severe claims like `PTD` and `Death`.\n",
    "   - Distribution is skewed towards lower counts for other types.  <br><br>\n",
    "\n",
    "3. `Claim Injury Type vs Industry Code` \n",
    "   - Variability observed across claim types, with `PPD SCH LOSS` and `PTD` showing higher medians.\n",
    "   - Outliers present in all categories.  <br><br>\n",
    "\n",
    "4. `Claim Injury Type vs WCIO Cause of Injury Code`\n",
    "   - Slight upward trend for `PTD` and `Death`.\n",
    "   - Distribution mostly consistent across other claim types.  <br><br>\n",
    "\n",
    "5. `Claim Injury Type vs WCIO Nature of Injury Code` \n",
    "   - Higher medians for `Death` and `PTD`.\n",
    "   - Other categories clustered around similar ranges.  <br><br>\n",
    "\n",
    "6. `Claim Injury Type vs WCIO Part Of Body Code` \n",
    "   - Similar trends as WCIO nature of injury; higher medians for severe cases (`PTD`, `Death`).\n",
    "   - Slightly larger range for complex injuries.  <br><br>\n",
    "\n",
    "7. `Claim Injury Type vs Number of Dependents` \n",
    "   - Stable medians across all claim types.\n",
    "   - Minor variation for `PTD` and `Death`, with slightly higher averages."
   ]
  },
  {
   "cell_type": "markdown",
   "id": "9d7f7499",
   "metadata": {},
   "source": [
    "**Categorical vs Numerical Continuous**"
   ]
  },
  {
   "cell_type": "code",
   "execution_count": null,
   "id": "d81362d3",
   "metadata": {
    "ExecuteTime": {
     "end_time": "2024-12-15T19:32:31.255805Z",
     "start_time": "2024-12-15T19:32:26.857267Z"
    }
   },
   "outputs": [],
   "source": [
    "v.plot_categ_cont(df, categorical, continuous)"
   ]
  },
  {
   "cell_type": "markdown",
   "id": "4efcf375",
   "metadata": {},
   "source": [
    "**Bivariate Analysis: Categorical vs Numerical (Continuous) Conclusions**\n",
    "\n",
    "1. `Alternative Dispute Resolution vs Age at Injury` \n",
    "   - Slightly higher median age for `Y` category compared to `N`.\n",
    "   - Significant outliers present in the `N` category. <br><br>\n",
    "\n",
    "2. `Alternative Dispute Resolution vs Average Weekly Wage` \n",
    "   - Median wages are higher for the `Y` category.\n",
    "   - Extreme outliers dominate the distribution, especially in `N`.<br><br>\n",
    "\n",
    "3. `Attorney/Representative vs Age at Injury` \n",
    "   - Cases with an attorney (`Y`) have slightly higher median age.\n",
    "   - Wider distribution and outliers are observed in both categories.<br><br>\n",
    "\n",
    "4. `Attorney/Representative vs Average Weekly Wage` \n",
    "   - Weekly wages are significantly higher for cases with an attorney (`Y`).\n",
    "   - Distribution is heavily right-skewed due to extreme outliers.<br><br>\n",
    "\n",
    "5. `Carrier Type vs Age at Injury` \n",
    "   - Minor variability across carrier types, with similar medians.\n",
    "   - Wider range of ages observed for certain types (e.g., `5D` and `2A`).<br><br>\n",
    "\n",
    "6. `Carrier Type vs Average Weekly Wage` \n",
    "   - Most carrier types have comparable median wages.\n",
    "   - Outliers are prominent across all categories, distorting the range.<br><br>\n",
    "\n",
    "7. `Claim Injury Type vs Age at Injury` \n",
    "   - Median age slightly increases for more severe claim types (`PTD`, `Death`).\n",
    "   - All categories exhibit a similar spread with noticeable outliers.<br><br>\n",
    "\n",
    "8. `Claim Injury Type vs Average Weekly Wage` \n",
    "   - Wages are significantly higher for severe claims like `PTD` and `Death`.\n",
    "   - Heavy right-skewness and extreme outliers across all claim types.<br><br>\n",
    "\n",
    "9. `COVID-19 Indicator vs Age at Injury` \n",
    "   - Cases with `Y` (COVID-related) show slightly higher median age than `N`.\n",
    "   - Distribution for both categories includes some outliers.<br><br>"
   ]
  },
  {
   "cell_type": "markdown",
   "id": "381b27f7",
   "metadata": {},
   "source": [
    "### Categorical vs Categorical\n",
    "\n",
    "In this section we are going to include relevant visualisations of the interaction between categorical data. We will start with interactions between non-target categorical variables, and after doing so, produce some plots to better understand how each variable related to the target `Claim Injury Type`.\n",
    "\n",
    "<a href=\"#top\">Top &#129033;</a>"
   ]
  },
  {
   "cell_type": "markdown",
   "id": "d9a12d35",
   "metadata": {},
   "source": [
    "**County of Injury vs Medical Fee Region**\n",
    "\n",
    "This visualisation is interesting, because we were not expecting for each county to be subdivided in as many as 5 different Medical Fee Regions."
   ]
  },
  {
   "cell_type": "code",
   "execution_count": null,
   "id": "b9d563f0",
   "metadata": {
    "ExecuteTime": {
     "end_time": "2024-12-15T19:34:31.000263Z",
     "start_time": "2024-12-15T19:34:30.087861Z"
    }
   },
   "outputs": [],
   "source": [
    "unique_region_counts = df.groupby('County of Injury')['Medical Fee Region'].nunique()\n",
    "\n",
    "# Plot\n",
    "plt.figure(figsize=(12, 6))\n",
    "sns.barplot(x=unique_region_counts.index, y=unique_region_counts.values, color='orange')\n",
    "plt.title('Number of Unique Medical Fee Regions per County of Injury', fontsize=14)\n",
    "plt.xlabel('County of Injury', fontsize=12)\n",
    "plt.ylabel('Number of Unique Medical Fee Regions', fontsize=12)\n",
    "plt.xticks(rotation=90)\n",
    "plt.show()\n"
   ]
  },
  {
   "cell_type": "markdown",
   "id": "2ac7c83d",
   "metadata": {},
   "source": [
    "**Alternative Dispute Resolution vs Claim Injury Type**"
   ]
  },
  {
   "cell_type": "code",
   "execution_count": null,
   "id": "3f0830f4",
   "metadata": {
    "ExecuteTime": {
     "end_time": "2024-12-15T19:34:33.786155Z",
     "start_time": "2024-12-15T19:34:33.376361Z"
    }
   },
   "outputs": [],
   "source": [
    "v.plot_crosstab(df, 'Alternative Dispute Resolution', \n",
    "              'Claim Injury Type', annot_kws={\"rotation\": 45})"
   ]
  },
  {
   "cell_type": "markdown",
   "id": "238fb21b",
   "metadata": {},
   "source": [
    "**Attorney/Representative vs Claim Injury Type**"
   ]
  },
  {
   "cell_type": "code",
   "execution_count": null,
   "id": "f271d74b",
   "metadata": {
    "ExecuteTime": {
     "end_time": "2024-12-15T19:35:00.034119Z",
     "start_time": "2024-12-15T19:34:59.648566Z"
    },
    "scrolled": false
   },
   "outputs": [],
   "source": [
    "v.plot_crosstab(df, 'Attorney/Representative', \n",
    "              'Claim Injury Type', annot_kws={\"rotation\": 45})"
   ]
  },
  {
   "cell_type": "markdown",
   "id": "d8b2ee9b",
   "metadata": {},
   "source": [
    "**Carrier Type vs Claim Injury Type**\n",
    "\n",
    "It is worth noting that `Carrier Type` categories 1, 2, 3, 4 include most observations of all injury types"
   ]
  },
  {
   "cell_type": "code",
   "execution_count": null,
   "id": "f55b6071",
   "metadata": {
    "ExecuteTime": {
     "end_time": "2024-12-15T19:35:02.313142Z",
     "start_time": "2024-12-15T19:35:01.820131Z"
    }
   },
   "outputs": [],
   "source": [
    "v.plot_crosstab(df, 'Carrier Type', \n",
    "              'Claim Injury Type', annot_kws={\"rotation\": 45})"
   ]
  },
  {
   "cell_type": "markdown",
   "id": "2304b0d2",
   "metadata": {},
   "source": [
    "**COVID-19 Indicator vs Claim Injury Type**"
   ]
  },
  {
   "cell_type": "code",
   "execution_count": null,
   "id": "84a00c65",
   "metadata": {
    "ExecuteTime": {
     "end_time": "2024-12-15T19:35:04.309091Z",
     "start_time": "2024-12-15T19:35:03.941895Z"
    }
   },
   "outputs": [],
   "source": [
    "v.plot_crosstab(df, 'COVID-19 Indicator', \n",
    "              'Claim Injury Type', annot_kws={\"rotation\": 45})"
   ]
  },
  {
   "cell_type": "markdown",
   "id": "b8dcd89c",
   "metadata": {},
   "source": [
    "**Gender vs Claim Injury Type**"
   ]
  },
  {
   "cell_type": "code",
   "execution_count": null,
   "id": "2fbd18e3",
   "metadata": {
    "ExecuteTime": {
     "end_time": "2024-12-15T19:35:06.750870Z",
     "start_time": "2024-12-15T19:35:06.361994Z"
    }
   },
   "outputs": [],
   "source": [
    "v.plot_crosstab(df, 'Gender', \n",
    "              'Claim Injury Type', annot_kws={\"rotation\": 45})"
   ]
  },
  {
   "cell_type": "markdown",
   "id": "17f17328",
   "metadata": {},
   "source": [
    "**Medical Fee Region vs Claim Injury Type**"
   ]
  },
  {
   "cell_type": "code",
   "execution_count": null,
   "id": "df1c30af",
   "metadata": {
    "ExecuteTime": {
     "end_time": "2024-12-15T19:35:08.234341Z",
     "start_time": "2024-12-15T19:35:07.821929Z"
    }
   },
   "outputs": [],
   "source": [
    "v.plot_crosstab(df, 'Medical Fee Region', \n",
    "              'Claim Injury Type', annot_kws={\"rotation\": 45})"
   ]
  },
  {
   "cell_type": "markdown",
   "id": "f83b36af",
   "metadata": {},
   "source": [
    "**Bivariate Analysis: Categorical vs Categorical**\n",
    "\n",
    "1. `County of Injury vs Medical Fee Region`\n",
    "- Most counties exhibit data across all five medical fee regions, suggesting broad geographic coverage in medical claims. <br><br>\n",
    "\n",
    "2. `Alternative Dispute Resolution vs Claim Injury Type`\n",
    "- `N` dominates in all injury types, especially in non-compensable and temporary claims. Rare cases of `Y` exist in other categories.<br><br>\n",
    "\n",
    "3. `Attorney/Representative vs Claim Injury Type`\n",
    "- Most claims without attorney involvement (`N`) are non-compensable or temporary. Claims with attorneys (`Y`) are notable in temporary and permanent total disability categories.<br><br>\n",
    "\n",
    "4. `Carrier Type vs Claim Injury Type`\n",
    "- Private carriers (`1A`) dominate all injury types, followed by self-insured public (`3A`) and state insurance fund (`2A`). Minor categories show minimal representation.<br><br>\n",
    "\n",
    "5. `COVID-19 Indicator vs Claim Injury Type`\n",
    "- Claims without COVID-19 (`N`) vastly outnumber those with COVID-19 (`Y`), although a noticeable proportion of claims with `Y` are temporary.<br><br>\n",
    "\n",
    "6.`Gender vs Claim Injury Type` \n",
    "- Male (`M`) claims dominate most injury types, especially in temporary and non-compensable claims. Female (`F`) claims show a similar trend but at slightly lower frequencies.<br><br>\n",
    "\n",
    "7. `Medical Fee Region vs Claim Injury Type`\n",
    "- Region `IV` shows the highest volume of claims across all injury types, followed by `I` and `II`. Unknown (`UK`) entries are minimal but present in all categories.<br><br>"
   ]
  },
  {
   "cell_type": "markdown",
   "id": "5ca2558a",
   "metadata": {},
   "source": [
    "# 3. Data Cleaning & Preprocessing\n",
    "The cleaning process involves handling missing values, correcting errors, and addressing inconsistencies identified earlier. Preprocessing includes tasks such as feature engineering, encoding categorical variables, normalizing numerical data, and splitting the data into training and testing sets. These steps are essential to ensure that the dataset is both structured and suitable for developing robust and reliable machine learning models.\n",
    "\n",
    "<a href=\"#top\">Top &#129033;</a>"
   ]
  },
  {
   "cell_type": "markdown",
   "id": "a1b4caeb",
   "metadata": {},
   "source": [
    "**Claim Injury Type**\n",
    "\n",
    "Having noted that in DF there are missing values in this variable, we must address them before continuing. Since this is our target, when missing the entire observation cannot be used for training purposes, therefore must be dropped."
   ]
  },
  {
   "cell_type": "code",
   "execution_count": null,
   "id": "eff25ceb",
   "metadata": {
    "ExecuteTime": {
     "end_time": "2024-12-15T19:36:35.207351Z",
     "start_time": "2024-12-15T19:36:35.123870Z"
    }
   },
   "outputs": [],
   "source": [
    "df[df['Claim Injury Type'].isna()]"
   ]
  },
  {
   "cell_type": "code",
   "execution_count": 61,
   "id": "5aa7f39e",
   "metadata": {
    "ExecuteTime": {
     "end_time": "2024-12-15T19:36:36.146176Z",
     "start_time": "2024-12-15T19:36:35.901871Z"
    }
   },
   "outputs": [],
   "source": [
    "# Remove rows with missing values in the 'Claim Injury Type' column\n",
    "df.dropna(subset=['Claim Injury Type'], inplace=True)"
   ]
  },
  {
   "cell_type": "markdown",
   "id": "a9892761",
   "metadata": {},
   "source": [
    "Having treated our target, it must also be encoded."
   ]
  },
  {
   "cell_type": "code",
   "execution_count": 62,
   "id": "8616f84a",
   "metadata": {
    "ExecuteTime": {
     "end_time": "2024-12-15T19:36:44.915350Z",
     "start_time": "2024-12-15T19:36:44.912043Z"
    }
   },
   "outputs": [],
   "source": [
    "# Map descriptive labels in 'Claim Injury Type' to numeric codes for consistency and modeling\n",
    "label_mapping = {\n",
    "    \"1. CANCELLED\": 0,\n",
    "    \"2. NON-COMP\": 1,\n",
    "    \"3. MED ONLY\": 2,\n",
    "    \"4. TEMPORARY\": 3,\n",
    "    \"5. PPD SCH LOSS\": 4,\n",
    "    \"6. PPD NSL\": 5,\n",
    "    \"7. PTD\": 6,\n",
    "    \"8. DEATH\": 7\n",
    "}"
   ]
  },
  {
   "cell_type": "code",
   "execution_count": 63,
   "id": "d2740c9b",
   "metadata": {
    "ExecuteTime": {
     "end_time": "2024-12-15T19:36:46.569581Z",
     "start_time": "2024-12-15T19:36:46.216942Z"
    }
   },
   "outputs": [],
   "source": [
    "df['Claim Injury Type'] = df['Claim Injury Type'].replace(label_mapping)"
   ]
  },
  {
   "cell_type": "markdown",
   "id": "9964da14",
   "metadata": {},
   "source": [
    "## 3.1 Duplicates\n",
    "In this section, we will focus on detecting and handling duplicates to ensure data integrity and improve model performance. Addressing duplicates is a crucial preprocessing step that contributes to better data quality and more reliable machine learning outcomes.\n",
    "\n",
    "<a href=\"#top\">Top &#129033;</a>"
   ]
  },
  {
   "cell_type": "code",
   "execution_count": null,
   "id": "f66aa181",
   "metadata": {
    "ExecuteTime": {
     "end_time": "2024-12-15T19:36:52.866473Z",
     "start_time": "2024-12-15T19:36:51.702576Z"
    }
   },
   "outputs": [],
   "source": [
    "# Identify and return rows that are duplicates in the DataFrame\n",
    "df[df.duplicated()]"
   ]
  },
  {
   "cell_type": "code",
   "execution_count": 65,
   "id": "64fe62ef",
   "metadata": {
    "ExecuteTime": {
     "end_time": "2024-12-15T19:36:54.118012Z",
     "start_time": "2024-12-15T19:36:52.869344Z"
    }
   },
   "outputs": [],
   "source": [
    "# Remove duplicate rows from the DataFrame\n",
    "df = df.drop_duplicates()"
   ]
  },
  {
   "cell_type": "markdown",
   "id": "5b9d5072",
   "metadata": {},
   "source": [
    "## 3.2 Feature Engineering\n",
    "Feature engineering is the process of transforming raw data into meaningful features to improve machine learning model performance. Effective feature engineering helps enhance predictive accuracy, reduce overfitting, and optimize model outcomes. In this section, we will explore various techniques and their impact on improving machine learning models.\n",
    "\n",
    "<a href=\"#top\">Top &#129033;</a>"
   ]
  },
  {
   "cell_type": "markdown",
   "id": "5008d492",
   "metadata": {},
   "source": [
    "### 3.2.1 Class Grouping\n",
    "\n",
    "In this section we will attempt to group classes of existing features. These will later be encoded"
   ]
  },
  {
   "cell_type": "markdown",
   "id": "3a29e89b",
   "metadata": {},
   "source": [
    "**Carrier Type**\n",
    "\n",
    "DF contains 8 unique values, whereas test only contains 7. The difference is in '*5C. SPECIAL FUND - POI CARRIER WCB MENANDS*'. Knowing this, we decided to group all '5' categories into a single one: \n",
    "- '5. SPECIAL FUND'"
   ]
  },
  {
   "cell_type": "code",
   "execution_count": null,
   "id": "efda42ac",
   "metadata": {
    "ExecuteTime": {
     "end_time": "2024-12-15T19:36:56.563719Z",
     "start_time": "2024-12-15T19:36:56.477982Z"
    }
   },
   "outputs": [],
   "source": [
    "print(df['Carrier Type'].value_counts())\n",
    "print(' ')\n",
    "print(test['Carrier Type'].value_counts())"
   ]
  },
  {
   "cell_type": "code",
   "execution_count": 67,
   "id": "b6e9bad5",
   "metadata": {
    "ExecuteTime": {
     "end_time": "2024-12-15T19:37:20.002775Z",
     "start_time": "2024-12-15T19:37:19.999554Z"
    }
   },
   "outputs": [],
   "source": [
    "mapping = {\n",
    "    '5D. SPECIAL FUND - UNKNOWN': '5. SPECIAL FUND OR UNKNOWN',\n",
    "    '5A. SPECIAL FUND - CONS. COMM. (SECT. 25-A)': '5. SPECIAL FUND OR UNKNOWN',\n",
    "    '5C. SPECIAL FUND - POI CARRIER WCB MENANDS': '5. SPECIAL FUND OR UNKNOWN',\n",
    "    'UNKNOWN': '5. SPECIAL FUND OR UNKNOWN'\n",
    "}"
   ]
  },
  {
   "cell_type": "code",
   "execution_count": 68,
   "id": "f5e6c056",
   "metadata": {
    "ExecuteTime": {
     "end_time": "2024-12-15T19:37:20.560422Z",
     "start_time": "2024-12-15T19:37:20.359430Z"
    }
   },
   "outputs": [],
   "source": [
    "# Apply the mapping to standardize 'Carrier Type' values\n",
    "df['Carrier Type'] = df['Carrier Type'].replace(mapping)\n",
    "\n",
    "test['Carrier Type'] = test['Carrier Type'].replace(mapping)"
   ]
  },
  {
   "cell_type": "markdown",
   "id": "6df40a5d",
   "metadata": {},
   "source": [
    "**Gender**\n",
    "\n",
    "As the number of 'X' and 'U' genders is very small compared with the others, they are going to be grouped and encoded as follows.\n",
    "- M - 0\n",
    "- F - 1\n",
    "- U & X - U/X - 2"
   ]
  },
  {
   "cell_type": "code",
   "execution_count": null,
   "id": "7203d27f",
   "metadata": {
    "ExecuteTime": {
     "end_time": "2024-12-15T19:37:21.972224Z",
     "start_time": "2024-12-15T19:37:21.916772Z"
    }
   },
   "outputs": [],
   "source": [
    "print(df['Gender'].value_counts())\n",
    "print(' ')\n",
    "print(test['Gender'].value_counts())"
   ]
  },
  {
   "cell_type": "code",
   "execution_count": 70,
   "id": "2e8f0b9e",
   "metadata": {
    "ExecuteTime": {
     "end_time": "2024-12-15T19:37:22.611245Z",
     "start_time": "2024-12-15T19:37:22.553497Z"
    }
   },
   "outputs": [],
   "source": [
    "mapping = {  \n",
    "    'M': 'M',\n",
    "    'F': 'F',\n",
    "    'U': 'U/X',  \n",
    "    'X': 'U/X'\n",
    "}\n",
    "\n",
    "df['Gender'] = df['Gender'].map(mapping)  \n",
    "test['Gender'] = test['Gender'].map(mapping) "
   ]
  },
  {
   "cell_type": "markdown",
   "id": "55961969",
   "metadata": {},
   "source": [
    "Apply Ordinal Encoding"
   ]
  },
  {
   "cell_type": "code",
   "execution_count": 71,
   "id": "81fcd883",
   "metadata": {
    "ExecuteTime": {
     "end_time": "2024-12-15T19:37:24.629688Z",
     "start_time": "2024-12-15T19:37:24.249261Z"
    }
   },
   "outputs": [],
   "source": [
    "df['Gender Enc'] = df['Gender'].replace({'M': 0, 'F': 1, 'U/X': 2})\n",
    "test['Gender Enc'] = test['Gender'].replace({'M': 0, 'F': 1, 'U/X': 2})"
   ]
  },
  {
   "cell_type": "markdown",
   "id": "33745348",
   "metadata": {},
   "source": [
    "### 3.2.2 Feature Creation\n",
    "\n",
    "<a href=\"#top\">Top &#129033;</a>"
   ]
  },
  {
   "cell_type": "markdown",
   "id": "37b53eea",
   "metadata": {},
   "source": [
    "**Date Columns**\n",
    "\n",
    "For each date column, the Year, Month, Day and Week Day (0=Monday, 6=Sunday) will be extracted."
   ]
  },
  {
   "cell_type": "code",
   "execution_count": 72,
   "id": "2f20acd5",
   "metadata": {
    "ExecuteTime": {
     "end_time": "2024-12-15T19:37:27.911912Z",
     "start_time": "2024-12-15T19:37:27.400856Z"
    }
   },
   "outputs": [],
   "source": [
    "for column in df.columns:\n",
    "    # Check if the column is a datetime type\n",
    "    if pd.api.types.is_datetime64_any_dtype(df[column]) and column not in ['C-3 Date', 'First Hearing Date']:\n",
    "        # Extract year, month, day and day of the week\n",
    "        df[f'{column} Year'] = df[column].dt.year\n",
    "        df[f'{column} Month'] = df[column].dt.month\n",
    "        df[f'{column} Day'] = df[column].dt.day\n",
    "        df[f'{column} Day of Week'] = df[column].dt.weekday \n",
    "        \n",
    "        test[f'{column} Year'] = test[column].dt.year\n",
    "        test[f'{column} Month'] = test[column].dt.month\n",
    "        test[f'{column} Day'] = test[column].dt.day\n",
    "        test[f'{column} Day of Week'] = test[column].dt.weekday"
   ]
  },
  {
   "cell_type": "markdown",
   "id": "9ba03297",
   "metadata": {},
   "source": [
    "**TIME BETWEEN**\n",
    "\n",
    "To compute these variables, we will assume the following timeline:\n",
    "1. Accident happens (Accident Date)\n",
    "2. C-2 form is filled and received (C-2 Date)\n",
    "3. The claim is Assembled (Assembly Date)"
   ]
  },
  {
   "cell_type": "markdown",
   "id": "660f42cc",
   "metadata": {},
   "source": [
    "**Time Between Accident and Assembly**"
   ]
  },
  {
   "cell_type": "code",
   "execution_count": 73,
   "id": "db229c06",
   "metadata": {
    "ExecuteTime": {
     "end_time": "2024-12-15T19:37:48.673060Z",
     "start_time": "2024-12-15T19:37:48.627843Z"
    }
   },
   "outputs": [],
   "source": [
    "df['Accident to Assembly Time'] = (df['Assembly Date'] - df['Accident Date']).dt.days\n",
    "test['Accident to Assembly Time'] = (test['Assembly Date'] - test['Accident Date']).dt.days"
   ]
  },
  {
   "cell_type": "markdown",
   "id": "60fd0497",
   "metadata": {},
   "source": [
    "**Time Between C-2 Receipt and Assembly**"
   ]
  },
  {
   "cell_type": "code",
   "execution_count": 74,
   "id": "d8d1af4d",
   "metadata": {
    "ExecuteTime": {
     "end_time": "2024-12-15T19:37:49.368614Z",
     "start_time": "2024-12-15T19:37:49.328580Z"
    }
   },
   "outputs": [],
   "source": [
    "df['Assembly to C-2 Time'] = (df['Assembly Date'] - df['C-2 Date']).dt.days\n",
    "test['Assembly to C-2 Time'] = (test['Assembly Date'] - test['C-2 Date']).dt.days"
   ]
  },
  {
   "cell_type": "markdown",
   "id": "eb07929b",
   "metadata": {},
   "source": [
    "**Time Between Accident and C-2 Receipt**"
   ]
  },
  {
   "cell_type": "code",
   "execution_count": 75,
   "id": "14bdd8a9",
   "metadata": {
    "ExecuteTime": {
     "end_time": "2024-12-15T19:37:49.911929Z",
     "start_time": "2024-12-15T19:37:49.868288Z"
    }
   },
   "outputs": [],
   "source": [
    "df['Accident to C-2 Time'] = (df['C-2 Date'] - df['Accident Date']).dt.days\n",
    "test['Accident to C-2 Time'] = (test['C-2 Date'] - test['Accident Date']).dt.days"
   ]
  },
  {
   "cell_type": "markdown",
   "id": "e6ef1f31",
   "metadata": {
    "ExecuteTime": {
     "end_time": "2024-11-22T16:21:26.884654Z",
     "start_time": "2024-11-22T16:21:26.747852Z"
    }
   },
   "source": [
    "**WCIO Codes**\n",
    "\n",
    "All WCIO codes will be joined in a column. Before joining them, they will be transformed into integers. For this to be possible, missing values will be filled with a specific code, 0, which until now does not exist in any of the mentioned columns. We also needed to transform **WCIO Part Of Body Code** into the absolute value, since there was a negative code (-9). Before doing so, we ensured there was not any code with the same absolute number."
   ]
  },
  {
   "cell_type": "code",
   "execution_count": 76,
   "id": "08c3a255",
   "metadata": {
    "ExecuteTime": {
     "end_time": "2024-12-15T19:37:50.942427Z",
     "start_time": "2024-12-15T19:37:50.932687Z"
    }
   },
   "outputs": [],
   "source": [
    "df['WCIO Part Of Body Code'] = df['WCIO Part Of Body Code'].abs()\n",
    "test['WCIO Part Of Body Code'] = test['WCIO Part Of Body Code'].abs()"
   ]
  },
  {
   "cell_type": "code",
   "execution_count": 77,
   "id": "bbc3f4e9",
   "metadata": {
    "ExecuteTime": {
     "end_time": "2024-12-15T19:37:57.456396Z",
     "start_time": "2024-12-15T19:37:51.255468Z"
    },
    "scrolled": true
   },
   "outputs": [],
   "source": [
    "columns_to_join = [\n",
    "    'WCIO Cause of Injury Code',\n",
    "    'WCIO Nature of Injury Code',\n",
    "    'WCIO Part Of Body Code'\n",
    "]\n",
    "\n",
    "df[columns_to_join] = df[columns_to_join].fillna(0).astype(int)\n",
    "test[columns_to_join] = test[columns_to_join].fillna(0).astype(int)\n",
    "\n",
    "df['WCIO Codes'] = df[columns_to_join].astype(str).agg(''.join, axis=1).astype(int)\n",
    "test['WCIO Codes'] = test[columns_to_join].astype(str).agg(''.join, axis=1).astype(int)"
   ]
  },
  {
   "cell_type": "markdown",
   "id": "5efbb996",
   "metadata": {},
   "source": [
    "**Carrier Name**\n",
    "\n",
    "Create a binary variable `Insurance` that identifies Carrier Names that include the initials \"ins\"."
   ]
  },
  {
   "cell_type": "code",
   "execution_count": 78,
   "id": "dc178bd9",
   "metadata": {
    "ExecuteTime": {
     "end_time": "2024-12-15T19:37:58.402405Z",
     "start_time": "2024-12-15T19:37:57.459382Z"
    }
   },
   "outputs": [],
   "source": [
    "df['Insurance'] = df['Carrier Name'].str.contains('ins', case=False, na=False).astype(int)\n",
    "test['Insurance'] = test['Carrier Name'].str.contains('ins', case=False, na=False).astype(int)"
   ]
  },
  {
   "cell_type": "markdown",
   "id": "decf52c2",
   "metadata": {},
   "source": [
    "**Zip Code**\n",
    "\n",
    "Will be transformed into a Zip Code Valid, which evaluates the validity of the Zip Code:\n",
    "- 2 for missing values\n",
    "- 0 for a valid numeric value\n",
    "- 1 for non-numeric zip codes"
   ]
  },
  {
   "cell_type": "code",
   "execution_count": 79,
   "id": "536aaac3",
   "metadata": {
    "ExecuteTime": {
     "end_time": "2024-12-15T19:38:16.260129Z",
     "start_time": "2024-12-15T19:38:15.293108Z"
    }
   },
   "outputs": [],
   "source": [
    "df['Zip Code Valid'] = df['Zip Code'].apply(\n",
    "    lambda x: 2 if pd.isna(x)          \n",
    "    else (1 if not str(x).isnumeric()   \n",
    "          else 0))\n",
    "\n",
    "\n",
    "test['Zip Code Valid'] = test['Zip Code'].apply(\n",
    "    lambda x: 2 if pd.isna(x)          \n",
    "    else (1 if not str(x).isnumeric()   \n",
    "          else 0))"
   ]
  },
  {
   "cell_type": "markdown",
   "id": "7cbf4fe5",
   "metadata": {},
   "source": [
    "**Industry Code Description**\n",
    "\n",
    "The descriptions of the Industries will be grouped by sectors, as follows:\n",
    "- Public Services / Government:\n",
    "    - Public Administration \n",
    "    - Health Care and Social Assistance \n",
    "    - Educational Services \n",
    "    - Arts, Entertainment, and Recreation \n",
    "- Business Services:\n",
    "    - Professional, Scientific, and Technical Services \n",
    "    - Administrative and Support and Waste Management and Remediation\n",
    "    - Information \n",
    "    - Management of Companies and Enterprises \n",
    "    - Finance and Insurance \n",
    "- Retail and Wholesale:\n",
    "    - Retail Trade\n",
    "    - Wholesale Trade \n",
    "    - Accommodation and Food Services \n",
    "- Manufacturing and Construction:\n",
    "    - Manufacturing \n",
    "    - Construction \n",
    "- Transportation:\n",
    "    - Transportation and Warehousing \n",
    "- Agriculture and Natural Resources:\n",
    "    - Agriculture, Forestry, Fishing, and Hunting \n",
    "    - Mining\n",
    "- Utilities \n",
    "    - Utilities\n",
    "- Other Services\n",
    "    - Other Services (Except Public Services)\n",
    "\n",
    "    \n",
    "Then, they will be encoded.\n"
   ]
  },
  {
   "cell_type": "code",
   "execution_count": 80,
   "id": "45147834",
   "metadata": {
    "ExecuteTime": {
     "end_time": "2024-12-15T19:38:20.209412Z",
     "start_time": "2024-12-15T19:38:19.929906Z"
    }
   },
   "outputs": [],
   "source": [
    "df['Industry Sector'] = df['Industry Code Description'].apply(u.group_industry)\n",
    "test['Industry Sector'] = test['Industry Code Description'].apply(u.group_industry)"
   ]
  },
  {
   "cell_type": "markdown",
   "id": "b3bd5f7b",
   "metadata": {},
   "source": [
    "**Age Groups**\n",
    "\n",
    "Creating groups for age as follows:\n",
    "- Minors (0): Ages 0-17\n",
    "- Adults (1): Ages 18-64\n",
    "- Seniors (2): Ages 65+"
   ]
  },
  {
   "cell_type": "code",
   "execution_count": 81,
   "id": "8442f947",
   "metadata": {
    "ExecuteTime": {
     "end_time": "2024-12-15T19:38:31.419113Z",
     "start_time": "2024-12-15T19:38:31.388349Z"
    }
   },
   "outputs": [],
   "source": [
    "bins = [-1, 17, 64, 117]\n",
    "labels = [0, 1, 2]\n",
    "\n",
    "df['Age Group'] = pd.cut(df['Age at Injury'], bins=bins, labels=labels, right=True)\n",
    "\n",
    "test['Age Group'] = pd.cut(test['Age at Injury'], bins=bins, labels=labels, right=True)"
   ]
  },
  {
   "cell_type": "markdown",
   "id": "dbe4dfd7",
   "metadata": {},
   "source": [
    "Drop treated and unnecessary columns before continuing."
   ]
  },
  {
   "cell_type": "code",
   "execution_count": 82,
   "id": "8d936e79",
   "metadata": {
    "ExecuteTime": {
     "end_time": "2024-12-15T19:38:32.558941Z",
     "start_time": "2024-12-15T19:38:32.555877Z"
    }
   },
   "outputs": [],
   "source": [
    "drop = ['Accident Date', 'Assembly Date', 'Industry Code Description',\n",
    "        'C-2 Date', 'Zip Code', 'WCIO Cause of Injury Description',\n",
    "        'WCIO Nature of Injury Description', 'WCIO Part Of Body Description']"
   ]
  },
  {
   "cell_type": "code",
   "execution_count": 83,
   "id": "e6c0a614",
   "metadata": {
    "ExecuteTime": {
     "end_time": "2024-12-15T19:38:43.503833Z",
     "start_time": "2024-12-15T19:38:43.098377Z"
    }
   },
   "outputs": [],
   "source": [
    "df.drop(columns = drop, axis = 1, inplace = True)\n",
    "test.drop(columns = drop, axis = 1, inplace = True)"
   ]
  },
  {
   "cell_type": "markdown",
   "id": "53f94671",
   "metadata": {},
   "source": [
    "# 4. Export\n",
    "\n",
    "<a href=\"#top\">Top &#129033;</a>"
   ]
  },
  {
   "cell_type": "code",
   "execution_count": 84,
   "id": "428574c3",
   "metadata": {
    "ExecuteTime": {
     "end_time": "2024-12-11T10:52:00.100055Z",
     "start_time": "2024-12-11T10:52:00.097425Z"
    }
   },
   "outputs": [],
   "source": [
    "# df.head(2)\n",
    "# test.head(2)"
   ]
  },
  {
   "cell_type": "code",
   "execution_count": 87,
   "id": "3a6e373f",
   "metadata": {
    "ExecuteTime": {
     "end_time": "2024-12-11T10:52:16.681995Z",
     "start_time": "2024-12-11T10:52:00.634139Z"
    }
   },
   "outputs": [],
   "source": [
    "df.to_csv('./train_data_EDA.csv')\n",
    "test.to_csv('./test_data_EDA.csv')"
   ]
  }
 ],
 "metadata": {
  "kernelspec": {
   "display_name": "Python 3 (ipykernel)",
   "language": "python",
   "name": "python3"
  },
  "language_info": {
   "codemirror_mode": {
    "name": "ipython",
    "version": 3
   },
   "file_extension": ".py",
   "mimetype": "text/x-python",
   "name": "python",
   "nbconvert_exporter": "python",
   "pygments_lexer": "ipython3",
   "version": "3.11.9"
  }
 },
 "nbformat": 4,
 "nbformat_minor": 5
}
