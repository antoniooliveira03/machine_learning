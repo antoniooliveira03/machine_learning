{
 "cells": [
  {
   "cell_type": "markdown",
   "id": "c7d4dad5",
   "metadata": {},
   "source": [
    "# <center>Machine Learning Project Code</center>\n",
    "\n",
    "<a class=\"anchor\" id=\"top\"></a>\n",
    "\n",
    "## <center>*02 - Holdout Method*</center>\n",
    "\n",
    "** **\n",
    "\n",
    "\n",
    "\n",
    "# Table of Contents  <br>\n",
    "\n",
    "\n",
    "1. [Importing Libraries & Data](#1.-Importing-Libraries-&-Data) <br><br>\n",
    "    \n",
    "2. [Train-Test Split](#2.-Train-Test-Split)\n",
    "\n",
    "   2.1 [Feature Engineering](#2.1-Feature-Engineering) <br>\n",
    "    \n",
    "   2.2 [Missing Values](#2.2-Missing-Values) <br>\n",
    "    \n",
    "   2.3 [Outliers](#2.3-Outliers) <br><br>\n",
    "   \n",
    "3. [Feature Selection](#3.-Feature-Selection) \n",
    "    \n",
    "    3.1 [Filter Based Methods](#3.1-Filter-Based-Methods) <br>\n",
    "\n",
    "    3.2 [Wrapper Methods](#3.2-Wrapper-Methods) <br>\n",
    "    \n",
    "    3.3 [Embedded Methods](#3.3-Embedded-Methods) <br><br>\n",
    "    \n",
    "4. [Modeling](#4.-Modeling) <br>\n",
    "\n",
    "    4.1 [Hyperparameter Tuning](#4.1-Hyperparameter-Tuning) <br><br>\n",
    "\n",
    "5. [Export](#5.-Export)\n",
    "\n",
    "\n",
    "** **\n",
    "\n",
    "In this notebook we will start by spliting train and validation data using a simple Holdout Method. After doing so, more complex methods to fill missing values will be applied, and outliers will be addresses. Feature Selection will also be performed, followed by a Modeling section.\n",
    "\n",
    "Data Scientist Manager: António Oliveira, **20211595**\n",
    "\n",
    "Data Scientist Senior: Tomás Ribeiro, **20240526**\n",
    "\n",
    "Data Scientist Junior: Gonçalo Pacheco, **20240695**\n",
    "\n",
    "Data Analyst Senior: Gonçalo Custódio, **20211643**\n",
    "\n",
    "Data Analyst Junior: Ana Caleiro, **20240696**\n",
    "\n",
    "\n",
    "** ** \n",
    "\n",
    "# 1. Importing Libraries & Data\n",
    "In this section, we set up the foundation for our project by importing the necessary Python libraries and loading the dataset. These libraries provide the tools for data manipulation, visualization, and machine learning modeling throughout the notebook. Additionally, we import the historical claims dataset, which forms the core of our analysis. "
   ]
  },
  {
   "cell_type": "code",
   "execution_count": 149,
   "id": "0e617fa5",
   "metadata": {
    "ExecuteTime": {
     "end_time": "2024-12-14T15:13:29.849352Z",
     "start_time": "2024-12-14T15:13:26.684249Z"
    }
   },
   "outputs": [],
   "source": [
    "import pandas as pd\n",
    "import numpy as np\n",
    "\n",
    "# Preprocessing\n",
    "import utils2 as p\n",
    "\n",
    "# Train-Test Split\n",
    "from sklearn.model_selection import train_test_split\n",
    "\n",
    "# Scaler\n",
    "from sklearn.preprocessing import (\n",
    "    StandardScaler,\n",
    "    MinMaxScaler,\n",
    "    RobustScaler\n",
    ")\n",
    "\n",
    "# Feature Selection\n",
    "import feature_selection as fs\n",
    "\n",
    "# Models\n",
    "import models as mod\n",
    "from sklearn.linear_model import LogisticRegression\n",
    "from sklearn.ensemble import RandomForestClassifier\n",
    "from xgboost import XGBClassifier \n",
    "from lightgbm import LGBMClassifier\n",
    "\n",
    "from sklearn.impute import SimpleImputer\n",
    "\n",
    "# Hyperparameter Tuning\n",
    "import tuning as t\n",
    "\n",
    "# Metrics\n",
    "import metrics as m\n",
    "\n",
    "pd.set_option('display.max_columns', None)\n",
    "# Suppress Warnings\n",
    "import warnings\n",
    "warnings.filterwarnings(\"ignore\")"
   ]
  },
  {
   "cell_type": "markdown",
   "id": "a33bfd6a",
   "metadata": {},
   "source": [
    "**Import Data**"
   ]
  },
  {
   "cell_type": "code",
   "execution_count": null,
   "id": "f4e1df1f",
   "metadata": {
    "ExecuteTime": {
     "end_time": "2024-12-14T15:13:34.262857Z",
     "start_time": "2024-12-14T15:13:29.853445Z"
    }
   },
   "outputs": [],
   "source": [
    "# Load training data\n",
    "df = pd.read_csv('./train_data_EDA.csv', index_col = 'Claim Identifier')\n",
    "\n",
    "# Load testing data\n",
    "test = pd.read_csv('./test_data_EDA.csv', index_col = 'Claim Identifier')\n",
    "\n",
    "# Display the first 3 rows of the training data\n",
    "df.head(3)"
   ]
  },
  {
   "cell_type": "markdown",
   "id": "1ebf14de",
   "metadata": {},
   "source": [
    "# 2. Train-Test Split\n",
    "The train-test split is a crucial technique used to assess model performance by dividing the dataset into training and testing subsets. This ensures that the model is evaluated on unseen data, helping to prevent overfitting and providing an unbiased performance estimate. \n",
    "\n",
    "<a href=\"#top\">Top &#129033;</a>"
   ]
  },
  {
   "cell_type": "markdown",
   "id": "9f494a4f",
   "metadata": {},
   "source": [
    "**Holdout Method**"
   ]
  },
  {
   "cell_type": "code",
   "execution_count": 83,
   "id": "940241ad",
   "metadata": {
    "ExecuteTime": {
     "end_time": "2024-12-14T15:13:34.427838Z",
     "start_time": "2024-12-14T15:13:34.265415Z"
    }
   },
   "outputs": [],
   "source": [
    "# Split the DataFrame into features (X) and target variable (y)\n",
    "X = df.drop('Claim Injury Type', axis=1) \n",
    "y = df['Claim Injury Type']  "
   ]
  },
  {
   "cell_type": "code",
   "execution_count": 84,
   "id": "6911c19d",
   "metadata": {
    "ExecuteTime": {
     "end_time": "2024-12-14T15:13:34.991939Z",
     "start_time": "2024-12-14T15:13:34.432415Z"
    }
   },
   "outputs": [],
   "source": [
    "# Split the dataset into training and validation sets\n",
    "X_train, X_val, y_train, y_val = train_test_split(X, y, \n",
    "                                                    test_size=0.2, \n",
    "                                                    random_state=42,\n",
    "                                                    stratify = y) "
   ]
  },
  {
   "cell_type": "markdown",
   "id": "49afdbfb",
   "metadata": {},
   "source": [
    "## 2.1 Feature Engineering\n",
    "\n",
    "<a href=\"#top\">Top &#129033;</a>"
   ]
  },
  {
   "cell_type": "markdown",
   "id": "7556940c",
   "metadata": {},
   "source": [
    "### 2.1.1 Encoding\n",
    "\n",
    "Encoding transforms categorical data into numerical format for use in machine learning models. For this section, several encoders were considered:\n",
    "- **One Hot Encoding** -  turns a variable that is stored in a column into dummy variables stored over multiple columns and represented as 0s and 1s\n",
    "- **Frequency Encoding** - replaces the categories by with their proportion in the dataset\n",
    "- **Count Encoding** - replaces the categories by the number of times they appear in the dataset \n",
    "- **Manual Mapping Encoding** - manually attribute values to each category"
   ]
  },
  {
   "cell_type": "markdown",
   "id": "2830ac54",
   "metadata": {},
   "source": [
    "**Alternative Dispute Resolution**\n",
    "\n",
    "Knowing that 'N' is by far the most common category, and that 'U' only appears 5 times in DF data and 1 time in the test data, we decided to join 'U' and 'Y' into 'Y/U', and encode the variable as:\n",
    "- 0 - N\n",
    "- 1 - Y/U"
   ]
  },
  {
   "cell_type": "code",
   "execution_count": null,
   "id": "a48a5a26",
   "metadata": {
    "ExecuteTime": {
     "end_time": "2024-12-14T15:13:35.066243Z",
     "start_time": "2024-12-14T15:13:34.994518Z"
    }
   },
   "outputs": [],
   "source": [
    "print(X_train['Alternative Dispute Resolution'].value_counts())\n",
    "print(' ')\n",
    "print(test['Alternative Dispute Resolution'].value_counts())"
   ]
  },
  {
   "cell_type": "code",
   "execution_count": 86,
   "id": "a85a498f",
   "metadata": {
    "ExecuteTime": {
     "end_time": "2024-12-14T15:13:35.534754Z",
     "start_time": "2024-12-14T15:13:35.068673Z"
    }
   },
   "outputs": [],
   "source": [
    "X_train['Alternative Dispute Resolution Enc'] = X_train['Alternative Dispute Resolution'].replace({'N': 0, 'Y': 1, 'U': 1})\n",
    "X_val['Alternative Dispute Resolution Enc'] = X_val['Alternative Dispute Resolution'].replace({'N': 0, 'Y': 1, 'U': 1})\n",
    "test['Alternative Dispute Resolution Enc'] = test['Alternative Dispute Resolution'].replace({'N': 0, 'Y': 1, 'U': 1})"
   ]
  },
  {
   "cell_type": "markdown",
   "id": "295f9a46",
   "metadata": {},
   "source": [
    "**Attorney/Representative**\n",
    "\n",
    "As this variable only has 2 categories, they will be encoded as follows:\n",
    "- N - 0\n",
    "- Y - 1"
   ]
  },
  {
   "cell_type": "code",
   "execution_count": null,
   "id": "e7ca1869",
   "metadata": {
    "ExecuteTime": {
     "end_time": "2024-12-14T15:13:35.606864Z",
     "start_time": "2024-12-14T15:13:35.537423Z"
    }
   },
   "outputs": [],
   "source": [
    "print(X_train['Attorney/Representative'].value_counts())\n",
    "print(' ')\n",
    "print(test['Attorney/Representative'].value_counts())"
   ]
  },
  {
   "cell_type": "code",
   "execution_count": 88,
   "id": "5da3884c",
   "metadata": {
    "ExecuteTime": {
     "end_time": "2024-12-14T15:13:35.969135Z",
     "start_time": "2024-12-14T15:13:35.609728Z"
    }
   },
   "outputs": [],
   "source": [
    "X_train['Attorney/Representative Enc'] = X_train['Attorney/Representative'].replace({'N': 0, 'Y': 1})\n",
    "X_val['Attorney/Representative Enc'] = X_val['Attorney/Representative'].replace({'N': 0, 'Y': 1})\n",
    "test['Attorney/Representative Enc'] = test['Attorney/Representative'].replace({'N': 0, 'Y': 1})"
   ]
  },
  {
   "cell_type": "markdown",
   "id": "cb654b3a",
   "metadata": {},
   "source": [
    "**Carrier Name**\n",
    "\n",
    "As Carrier name has a considerable amount of unique values, it will be encoded using Count Encoder.\n",
    "\n",
    "We will start by analysing the common Carriers between train and test sets"
   ]
  },
  {
   "cell_type": "code",
   "execution_count": 89,
   "id": "a782f58b",
   "metadata": {
    "ExecuteTime": {
     "end_time": "2024-12-14T15:13:36.061082Z",
     "start_time": "2024-12-14T15:13:35.971473Z"
    }
   },
   "outputs": [],
   "source": [
    "train_carriers = set(X_train['Carrier Name'].unique())\n",
    "test_carriers = set(test['Carrier Name'].unique())\n",
    "\n",
    "common_categories = train_carriers.intersection(test_carriers)"
   ]
  },
  {
   "cell_type": "markdown",
   "id": "aae4d488",
   "metadata": {},
   "source": [
    "Then map the common categories to an index"
   ]
  },
  {
   "cell_type": "code",
   "execution_count": 90,
   "id": "ae700902",
   "metadata": {
    "ExecuteTime": {
     "end_time": "2024-12-14T15:13:36.070661Z",
     "start_time": "2024-12-14T15:13:36.067424Z"
    }
   },
   "outputs": [],
   "source": [
    "common_category_map = {category: idx + 1 for idx, \n",
    "                       category in enumerate(common_categories)}"
   ]
  },
  {
   "cell_type": "markdown",
   "id": "8928c5aa",
   "metadata": {},
   "source": [
    "Fill the non-common categories with 0"
   ]
  },
  {
   "cell_type": "code",
   "execution_count": 91,
   "id": "f78304ed",
   "metadata": {
    "ExecuteTime": {
     "end_time": "2024-12-14T15:13:36.221010Z",
     "start_time": "2024-12-14T15:13:36.073327Z"
    }
   },
   "outputs": [],
   "source": [
    "X_train['Carrier Name'] = X_train['Carrier Name'].map(common_category_map).fillna(0).astype(int)\n",
    "X_val['Carrier Name'] = X_val['Carrier Name'].map(common_category_map).fillna(0).astype(int)\n",
    "test['Carrier Name'] = test['Carrier Name'].map(common_category_map).fillna(0).astype(int)"
   ]
  },
  {
   "cell_type": "markdown",
   "id": "89169af1",
   "metadata": {},
   "source": [
    "Encode de common categores using *Count Encoding*"
   ]
  },
  {
   "cell_type": "code",
   "execution_count": 92,
   "id": "c81ea978",
   "metadata": {
    "ExecuteTime": {
     "end_time": "2024-12-14T15:13:36.243041Z",
     "start_time": "2024-12-14T15:13:36.223564Z"
    },
    "scrolled": true
   },
   "outputs": [],
   "source": [
    "X_train, X_val, test = p.encode(X_train, X_val, test, 'Carrier Name', 'count')"
   ]
  },
  {
   "cell_type": "markdown",
   "id": "3a29e89b",
   "metadata": {},
   "source": [
    "**Carrier Type**\n",
    "\n",
    "After grouping the *5.* categories we decided to encode them in 2 distinct ways, and choose the best option in feature selection.\n",
    "\n",
    "Starting with *Count Encoding*"
   ]
  },
  {
   "cell_type": "code",
   "execution_count": 93,
   "id": "ec635686",
   "metadata": {
    "ExecuteTime": {
     "end_time": "2024-12-14T15:13:36.384777Z",
     "start_time": "2024-12-14T15:13:36.245787Z"
    }
   },
   "outputs": [],
   "source": [
    "X_train, X_val, test = p.encode(X_train, X_val, test, 'Carrier Type', 'count')"
   ]
  },
  {
   "cell_type": "markdown",
   "id": "47a0d27b",
   "metadata": {},
   "source": [
    "And *One-Hot-Encoding*"
   ]
  },
  {
   "cell_type": "code",
   "execution_count": 94,
   "id": "ad799040",
   "metadata": {
    "ExecuteTime": {
     "end_time": "2024-12-14T15:13:37.410086Z",
     "start_time": "2024-12-14T15:13:36.387090Z"
    }
   },
   "outputs": [],
   "source": [
    "X_train, X_val, test = p.encode(X_train, X_val, test, 'Carrier Type', 'OHE')"
   ]
  },
  {
   "cell_type": "markdown",
   "id": "15e24ed4",
   "metadata": {},
   "source": [
    "**County of Injury**\n",
    "\n",
    "As County of Injury has a considerable amount of unique values, it will be encoded using Count Encoder."
   ]
  },
  {
   "cell_type": "code",
   "execution_count": 95,
   "id": "98342091",
   "metadata": {
    "ExecuteTime": {
     "end_time": "2024-12-14T15:13:37.553296Z",
     "start_time": "2024-12-14T15:13:37.412786Z"
    }
   },
   "outputs": [],
   "source": [
    "X_train, X_val, test = p.encode(X_train, X_val, test, 'County of Injury', 'count')"
   ]
  },
  {
   "cell_type": "markdown",
   "id": "f62e7f0c",
   "metadata": {},
   "source": [
    "**COVID-19 Indicator**\n",
    "\n",
    "As this variable only has 2 categories, they will be encoded as follows:\n",
    "- N - 0\n",
    "- Y - 1"
   ]
  },
  {
   "cell_type": "code",
   "execution_count": null,
   "id": "d7ccd656",
   "metadata": {
    "ExecuteTime": {
     "end_time": "2024-12-14T15:13:37.628068Z",
     "start_time": "2024-12-14T15:13:37.555931Z"
    }
   },
   "outputs": [],
   "source": [
    "print(X_train['COVID-19 Indicator'].value_counts())\n",
    "print(' ')\n",
    "print(test['COVID-19 Indicator'].value_counts())"
   ]
  },
  {
   "cell_type": "code",
   "execution_count": 97,
   "id": "1b92603f",
   "metadata": {
    "ExecuteTime": {
     "end_time": "2024-12-14T15:13:37.986682Z",
     "start_time": "2024-12-14T15:13:37.631060Z"
    }
   },
   "outputs": [],
   "source": [
    "X_train['COVID-19 Indicator Enc'] = X_train['COVID-19 Indicator'].replace({'N': 0, 'Y': 1})\n",
    "X_val['COVID-19 Indicator Enc'] = X_val['COVID-19 Indicator'].replace({'N': 0, 'Y': 1})\n",
    "test['COVID-19 Indicator Enc'] = test['COVID-19 Indicator'].replace({'N': 0, 'Y': 1})"
   ]
  },
  {
   "cell_type": "markdown",
   "id": "3f108c6d",
   "metadata": {},
   "source": [
    "**District Name**\n",
    "\n",
    "As this variable has 8 unique values, Count Encoder will be used."
   ]
  },
  {
   "cell_type": "code",
   "execution_count": null,
   "id": "c9029172",
   "metadata": {
    "ExecuteTime": {
     "end_time": "2024-12-14T15:13:38.098728Z",
     "start_time": "2024-12-14T15:13:37.989216Z"
    }
   },
   "outputs": [],
   "source": [
    "print(X_train['District Name'].value_counts())\n",
    "print(' ')\n",
    "print(test['District Name'].value_counts())"
   ]
  },
  {
   "cell_type": "code",
   "execution_count": 99,
   "id": "cce45ca5",
   "metadata": {
    "ExecuteTime": {
     "end_time": "2024-12-14T15:13:38.235469Z",
     "start_time": "2024-12-14T15:13:38.101097Z"
    }
   },
   "outputs": [],
   "source": [
    "X_train, X_val, test = p.encode(X_train, X_val, test, 'District Name', 'count')"
   ]
  },
  {
   "cell_type": "markdown",
   "id": "6df40a5d",
   "metadata": {},
   "source": [
    "**Gender**\n",
    "\n",
    "Since after grouping we only have 3 categories, we will also use *One-Hot-Encoding* and decide which is better in feature selection."
   ]
  },
  {
   "cell_type": "code",
   "execution_count": 100,
   "id": "4be96a3d",
   "metadata": {
    "ExecuteTime": {
     "end_time": "2024-12-14T15:13:39.112975Z",
     "start_time": "2024-12-14T15:13:38.238128Z"
    }
   },
   "outputs": [],
   "source": [
    "X_train, X_val, test = p.encode(X_train, X_val, test, 'Gender', 'OHE')"
   ]
  },
  {
   "cell_type": "markdown",
   "id": "3b2f7186",
   "metadata": {},
   "source": [
    "**Medical Fee Region**\n",
    "\n",
    "Even though this variable only contains 5 unique values, it is not clear whether there is an order between them or not. Therefore we will use *Count Encoding*"
   ]
  },
  {
   "cell_type": "code",
   "execution_count": null,
   "id": "32d24b0b",
   "metadata": {
    "ExecuteTime": {
     "end_time": "2024-12-14T15:13:39.227240Z",
     "start_time": "2024-12-14T15:13:39.115483Z"
    }
   },
   "outputs": [],
   "source": [
    "print(df['Medical Fee Region'].value_counts())\n",
    "print(' ')\n",
    "print(test['Medical Fee Region'].value_counts())"
   ]
  },
  {
   "cell_type": "code",
   "execution_count": 102,
   "id": "3846d104",
   "metadata": {
    "ExecuteTime": {
     "end_time": "2024-12-14T15:13:39.363990Z",
     "start_time": "2024-12-14T15:13:39.229981Z"
    }
   },
   "outputs": [],
   "source": [
    "X_train, X_val, test = p.encode(X_train, X_val, test, 'Medical Fee Region', 'count')"
   ]
  },
  {
   "cell_type": "markdown",
   "id": "9f0857dd",
   "metadata": {},
   "source": [
    "**Industry Sector**\n",
    "\n",
    "Since it contains too many categories to use OHE, we will use *Count Encoding*"
   ]
  },
  {
   "cell_type": "code",
   "execution_count": 103,
   "id": "aaea1e74",
   "metadata": {
    "ExecuteTime": {
     "end_time": "2024-12-14T15:13:39.509772Z",
     "start_time": "2024-12-14T15:13:39.366545Z"
    }
   },
   "outputs": [],
   "source": [
    "X_train, X_val, test = p.encode(X_train, X_val, test, 'Industry Sector', 'count')"
   ]
  },
  {
   "cell_type": "markdown",
   "id": "bc226fb2",
   "metadata": {},
   "source": [
    "Remove Encoded Variables"
   ]
  },
  {
   "cell_type": "code",
   "execution_count": 104,
   "id": "d25c53bd",
   "metadata": {
    "ExecuteTime": {
     "end_time": "2024-12-14T15:13:39.515491Z",
     "start_time": "2024-12-14T15:13:39.512031Z"
    }
   },
   "outputs": [],
   "source": [
    "drop = ['Alternative Dispute Resolution', 'Attorney/Representative', 'Carrier Type', 'County of Injury',\n",
    "        'COVID-19 Indicator', 'District Name', 'Gender', 'Carrier Name',\n",
    "        'Medical Fee Region', 'Industry Sector']"
   ]
  },
  {
   "cell_type": "code",
   "execution_count": 105,
   "id": "540b1cd4",
   "metadata": {
    "ExecuteTime": {
     "end_time": "2024-12-14T15:13:39.760849Z",
     "start_time": "2024-12-14T15:13:39.517934Z"
    }
   },
   "outputs": [],
   "source": [
    "X_train.drop(columns = drop, axis = 1, inplace = True)\n",
    "X_val.drop(columns = drop, axis = 1, inplace = True)\n",
    "test.drop(columns = drop, axis = 1, inplace = True)"
   ]
  },
  {
   "cell_type": "markdown",
   "id": "4381807d",
   "metadata": {},
   "source": [
    "# 2.2 Missing Values\n",
    "\n",
    "<a href=\"#top\">Top &#129033;</a>"
   ]
  },
  {
   "cell_type": "code",
   "execution_count": null,
   "id": "c2065b78",
   "metadata": {
    "ExecuteTime": {
     "end_time": "2024-12-14T15:13:39.829377Z",
     "start_time": "2024-12-14T15:13:39.763158Z"
    },
    "scrolled": true
   },
   "outputs": [],
   "source": [
    "X_train.isna().sum()"
   ]
  },
  {
   "cell_type": "markdown",
   "id": "8ae8e32d",
   "metadata": {},
   "source": [
    "### 2.2.1 Dealing with Missing Values\n",
    "\n",
    "In this subsection we will use the existence of missing values to create new features"
   ]
  },
  {
   "cell_type": "markdown",
   "id": "d10ab849",
   "metadata": {},
   "source": [
    "**C-3 Date**\n",
    "\n",
    "Create a Binary variable:\n",
    "- 0 if C-3 date is missing\n",
    "- 1 if C-3 date exists"
   ]
  },
  {
   "cell_type": "code",
   "execution_count": 107,
   "id": "4351e5d6",
   "metadata": {
    "ExecuteTime": {
     "end_time": "2024-12-14T15:13:39.874662Z",
     "start_time": "2024-12-14T15:13:39.831634Z"
    }
   },
   "outputs": [],
   "source": [
    "X_train['C-3 Date Binary'] = X_train['C-3 Date'].notna().astype(int)\n",
    "X_val['C-3 Date Binary'] = X_val['C-3 Date'].notna().astype(int)\n",
    "test['C-3 Date Binary'] = test['C-3 Date'].notna().astype(int)"
   ]
  },
  {
   "cell_type": "markdown",
   "id": "c5123dc0",
   "metadata": {},
   "source": [
    "**First Hearing Date**\n",
    "\n",
    "Create a Binary variable:\n",
    "- 0 if First Hearing Date is missing\n",
    "- 1 if First Hearing Date exists"
   ]
  },
  {
   "cell_type": "code",
   "execution_count": 108,
   "id": "c953f07b",
   "metadata": {
    "ExecuteTime": {
     "end_time": "2024-12-14T15:13:39.930311Z",
     "start_time": "2024-12-14T15:13:39.884190Z"
    }
   },
   "outputs": [],
   "source": [
    "X_train['First Hearing Date Binary'] = X_train['First Hearing Date'].notna().astype(int)\n",
    "X_val['First Hearing Date Binary'] = X_val['First Hearing Date'].notna().astype(int)\n",
    "test['First Hearing Date Binary'] = test['First Hearing Date'].notna().astype(int)"
   ]
  },
  {
   "cell_type": "markdown",
   "id": "985a9fa1",
   "metadata": {},
   "source": [
    "Remove transformed features."
   ]
  },
  {
   "cell_type": "code",
   "execution_count": 109,
   "id": "0d627fd6",
   "metadata": {
    "ExecuteTime": {
     "end_time": "2024-12-14T15:13:39.936028Z",
     "start_time": "2024-12-14T15:13:39.933271Z"
    }
   },
   "outputs": [],
   "source": [
    "drop = ['C-3 Date', 'First Hearing Date']"
   ]
  },
  {
   "cell_type": "code",
   "execution_count": 110,
   "id": "cf0381d9",
   "metadata": {
    "ExecuteTime": {
     "end_time": "2024-12-14T15:13:40.142281Z",
     "start_time": "2024-12-14T15:13:39.938750Z"
    }
   },
   "outputs": [],
   "source": [
    "X_train.drop(columns = drop, axis = 1, inplace = True)\n",
    "X_val.drop(columns = drop, axis = 1, inplace = True)\n",
    "test.drop(columns = drop, axis = 1, inplace = True)"
   ]
  },
  {
   "cell_type": "markdown",
   "id": "ad280aba",
   "metadata": {},
   "source": [
    "### 2.2.2 Filling Missing Values\n",
    "\n",
    "In this subsection we will deal with missing values by filling them with constants, statistical methods and using predictive models."
   ]
  },
  {
   "cell_type": "markdown",
   "id": "6a1e0ced",
   "metadata": {},
   "source": [
    "**IME-4 Count**\n",
    "\n",
    "Since IME-4 Count represents the number of IME-4 forms received per claim, we considered that a missing value represented 0 received forms, hence we will fill them with 0."
   ]
  },
  {
   "cell_type": "code",
   "execution_count": 111,
   "id": "a801e287",
   "metadata": {
    "ExecuteTime": {
     "end_time": "2024-12-14T15:13:40.162670Z",
     "start_time": "2024-12-14T15:13:40.144852Z"
    }
   },
   "outputs": [],
   "source": [
    "X_train['IME-4 Count'] = X_train['IME-4 Count'].fillna(0)\n",
    "X_val['IME-4 Count'] = X_val['IME-4 Count'].fillna(0)\n",
    "test['IME-4 Count'] = test['IME-4 Count'].fillna(0)"
   ]
  },
  {
   "cell_type": "markdown",
   "id": "05e9590c",
   "metadata": {},
   "source": [
    "**Industry Code**\n",
    "\n",
    "Assuming that a missing value in Industry Code represents an unknown code, it will be filled with 0."
   ]
  },
  {
   "cell_type": "code",
   "execution_count": 112,
   "id": "cb9a5170",
   "metadata": {
    "ExecuteTime": {
     "end_time": "2024-12-14T15:13:40.181966Z",
     "start_time": "2024-12-14T15:13:40.164993Z"
    }
   },
   "outputs": [],
   "source": [
    "X_train['Industry Code'] = X_train['Industry Code'].fillna(0)\n",
    "X_val['Industry Code'] = X_val['Industry Code'].fillna(0)\n",
    "test['Industry Code'] = test['Industry Code'].fillna(0)"
   ]
  },
  {
   "cell_type": "markdown",
   "id": "8f982674",
   "metadata": {},
   "source": [
    "**Accident Date** & **C-2 Date**\n",
    "\n",
    "Fill Year, Month and Day with median. Then recompute full date and from there fill missing values in Day of Week"
   ]
  },
  {
   "cell_type": "code",
   "execution_count": 113,
   "id": "5a47e162",
   "metadata": {
    "ExecuteTime": {
     "end_time": "2024-12-14T15:13:41.299227Z",
     "start_time": "2024-12-14T15:13:40.184088Z"
    }
   },
   "outputs": [],
   "source": [
    "p.fill_dates(X_train, [X_val, test], 'Accident Date')\n",
    "p.fill_dates(X_train, [X_val, test], 'C-2 Date')"
   ]
  },
  {
   "cell_type": "markdown",
   "id": "527385aa",
   "metadata": {},
   "source": [
    "Identify missing values and recompute Accident Date and C-2 Date to fill Day of the week"
   ]
  },
  {
   "cell_type": "code",
   "execution_count": 114,
   "id": "3e1978bb",
   "metadata": {
    "ExecuteTime": {
     "end_time": "2024-12-14T15:13:42.662401Z",
     "start_time": "2024-12-14T15:13:41.302154Z"
    }
   },
   "outputs": [],
   "source": [
    "p.fill_dow([X_train, X_val, test], 'Accident Date')\n",
    "p.fill_dow([X_train, X_val, test], 'C-2 Date')"
   ]
  },
  {
   "cell_type": "markdown",
   "id": "96253a64",
   "metadata": {},
   "source": [
    "**Time Between**\n",
    "\n",
    "Fill missing values with the recomputed times using the medians computed above."
   ]
  },
  {
   "cell_type": "code",
   "execution_count": 115,
   "id": "ace757c0",
   "metadata": {
    "ExecuteTime": {
     "end_time": "2024-12-14T15:13:49.634920Z",
     "start_time": "2024-12-14T15:13:42.664772Z"
    }
   },
   "outputs": [],
   "source": [
    "X_train = p.fill_missing_times(X_train, ['Accident to Assembly Time', \n",
    "                             'Assembly to C-2 Time',\n",
    "                             'Accident to C-2 Time'])\n",
    "\n",
    "X_val = p.fill_missing_times(X_val, ['Accident to Assembly Time', \n",
    "                             'Assembly to C-2 Time',\n",
    "                             'Accident to C-2 Time'])\n",
    "\n",
    "test = p.fill_missing_times(test, ['Accident to Assembly Time', \n",
    "                             'Assembly to C-2 Time',\n",
    "                             'Accident to C-2 Time'])"
   ]
  },
  {
   "cell_type": "markdown",
   "id": "9b19ee00",
   "metadata": {},
   "source": [
    "**Birth Year**\n",
    "\n",
    "To fill the missing values, we will start by creating a mask, which filters for observations where `Age at Injury` and `Accident Date Year` are not missing, and when `Birth Year` is either missing or zero. Since we are going to use `Age at Injury` and `Accident Date Year` to compute `Birth Year`, ensuring those two variables are no missing is crucial. Then, we also decided to recompute the `Birth Year` when it is 0, since it is impossible to have 0 as a `Birth Year`."
   ]
  },
  {
   "cell_type": "code",
   "execution_count": 116,
   "id": "e22b9918",
   "metadata": {
    "ExecuteTime": {
     "end_time": "2024-12-14T15:13:49.774106Z",
     "start_time": "2024-12-14T15:13:49.637784Z"
    }
   },
   "outputs": [],
   "source": [
    "p.fill_birth_year([X_train, X_val, test])"
   ]
  },
  {
   "cell_type": "markdown",
   "id": "92310d41",
   "metadata": {},
   "source": [
    "Before filling the missing values in `Average Weekly Wage` we must scale all numeric and Count-Encoded Features, as doing so after filling these missing values may lead to inconsistencies.\n",
    "\n",
    "Having evaluated models with scaling before and after the imputation in this variables, the difference in performance was not signficant, therefore we will proceed with the scaling first."
   ]
  },
  {
   "cell_type": "markdown",
   "id": "f552c6b5",
   "metadata": {},
   "source": [
    "### 2.2.3 Scaling\n",
    "\n",
    "<a href=\"#top\">Top &#129033;</a>"
   ]
  },
  {
   "cell_type": "markdown",
   "id": "e9265893",
   "metadata": {},
   "source": [
    "**Variable type split**"
   ]
  },
  {
   "cell_type": "code",
   "execution_count": 117,
   "id": "8e1813bd",
   "metadata": {
    "ExecuteTime": {
     "end_time": "2024-12-14T15:13:49.781757Z",
     "start_time": "2024-12-14T15:13:49.776780Z"
    }
   },
   "outputs": [],
   "source": [
    "num = ['Age at Injury', 'Average Weekly Wage', 'Birth Year',\n",
    "       'IME-4 Count', 'Number of Dependents', 'Accident Date Year',\n",
    "       'Accident Date Month', 'Accident Date Day', \n",
    "       'Assembly Date Year', 'Assembly Date Month', \n",
    "       'Assembly Date Day', 'C-2 Date Year', 'C-2 Date Month',\n",
    "       'C-2 Date Day', 'Accident to Assembly Time',\n",
    "       'Assembly to C-2 Time', 'Accident to C-2 Time']\n",
    "      # 'Wage to Age Ratio', 'Average Weekly Wage Sqrt',\n",
    "      # 'IME-4 Count Log', 'IME-4 Count Double Log']\n",
    "\n",
    " \n",
    "categ = [var for var in X_train.columns if var not in num]\n",
    "\n",
    "categ_count_encoding = ['Carrier Name Enc', 'Carrier Type Enc',\n",
    "                        'County of Injury Enc', 'District Name Enc',\n",
    "                        'Medical Fee Region Enc', 'Industry Sector Enc']\n",
    "\n",
    "\n",
    "categ_label_bin = [var for var in X_train.columns if var\n",
    "                   in categ and var not in categ_count_encoding]\n"
   ]
  },
  {
   "cell_type": "markdown",
   "id": "a150429b",
   "metadata": {},
   "source": [
    "**Scaling**"
   ]
  },
  {
   "cell_type": "code",
   "execution_count": 118,
   "id": "53991ce8",
   "metadata": {
    "ExecuteTime": {
     "end_time": "2024-12-14T15:13:49.788397Z",
     "start_time": "2024-12-14T15:13:49.784145Z"
    }
   },
   "outputs": [],
   "source": [
    "num_count_enc = num + categ_count_encoding"
   ]
  },
  {
   "cell_type": "code",
   "execution_count": 119,
   "id": "a565a9e7",
   "metadata": {
    "ExecuteTime": {
     "end_time": "2024-12-14T15:13:49.796109Z",
     "start_time": "2024-12-14T15:13:49.791926Z"
    }
   },
   "outputs": [],
   "source": [
    "robust = RobustScaler()"
   ]
  },
  {
   "cell_type": "code",
   "execution_count": 120,
   "id": "6a3a6754",
   "metadata": {
    "ExecuteTime": {
     "end_time": "2024-12-14T15:13:51.852261Z",
     "start_time": "2024-12-14T15:13:49.799165Z"
    }
   },
   "outputs": [],
   "source": [
    "# Scaling the numerical features in the training set using RobustScaler\n",
    "X_train_num_count_enc_RS = robust.fit_transform(X_train[num_count_enc])\n",
    "X_train_num_count_enc_RS = pd.DataFrame(X_train_num_count_enc_RS, columns=num_count_enc, index=X_train.index)\n",
    "\n",
    "# Scaling the numerical features in the validation set using the fitted RobustScaler\n",
    "X_val_num_count_enc_RS = robust.transform(X_val[num_count_enc])\n",
    "X_val_num_count_enc_RS = pd.DataFrame(X_val_num_count_enc_RS, columns=num_count_enc, index=X_val.index)\n",
    "\n",
    "# Scaling the numerical features in the test set using the same fitted RobustScaler\n",
    "test_num_count_enc_RS = robust.transform(test[num_count_enc])\n",
    "test_num_count_enc_RS = pd.DataFrame(test_num_count_enc_RS, columns=num_count_enc, index=test.index)"
   ]
  },
  {
   "cell_type": "markdown",
   "id": "32538b0f",
   "metadata": {},
   "source": [
    "Joining the scaled features back with the Categorical features encoded with labels or binary encoding"
   ]
  },
  {
   "cell_type": "code",
   "execution_count": 121,
   "id": "55eeabc9",
   "metadata": {
    "ExecuteTime": {
     "end_time": "2024-12-14T15:13:52.510046Z",
     "start_time": "2024-12-14T15:13:51.854743Z"
    }
   },
   "outputs": [],
   "source": [
    "X_train_RS = pd.concat([X_train_num_count_enc_RS, \n",
    "                        X_train[categ_label_bin]], axis=1)\n",
    "X_val_RS = pd.concat([X_val_num_count_enc_RS, \n",
    "                      X_val[categ_label_bin]], axis=1)\n",
    "test_RS = pd.concat([test_num_count_enc_RS, \n",
    "                     test[categ_label_bin]], axis=1)"
   ]
  },
  {
   "cell_type": "markdown",
   "id": "79f3d400",
   "metadata": {},
   "source": [
    "Having scaled our features, we will proceed with the imputation of missing values.\n",
    "\n",
    "**Average Weekly Wage**"
   ]
  },
  {
   "cell_type": "code",
   "execution_count": 122,
   "id": "559d2e0d",
   "metadata": {
    "ExecuteTime": {
     "end_time": "2024-12-14T15:14:51.323661Z",
     "start_time": "2024-12-14T15:13:52.512985Z"
    },
    "scrolled": true
   },
   "outputs": [],
   "source": [
    "p.ball_tree_impute([X_train_RS, X_val_RS, test_RS], \n",
    "                   'Average Weekly Wage')"
   ]
  },
  {
   "cell_type": "markdown",
   "id": "ce6a0f05",
   "metadata": {},
   "source": [
    "Having treated all missing values, we will create one last feature\n",
    "\n",
    "**Wage to Age Ratio**"
   ]
  },
  {
   "cell_type": "code",
   "execution_count": 123,
   "id": "8e784c25",
   "metadata": {
    "ExecuteTime": {
     "end_time": "2024-12-14T15:14:51.329463Z",
     "start_time": "2024-12-14T15:14:51.326479Z"
    }
   },
   "outputs": [],
   "source": [
    "# X_train_RS['Wage to Age Ratio'] = np.where(\n",
    "#     (X_train_RS['Age at Injury'] != 0) & (X_train_RS['Average Weekly Wage'] != 0),\n",
    "#     X_train_RS['Average Weekly Wage'] / X_train_RS['Age at Injury'],\n",
    "#     0)\n",
    "\n",
    "# X_val_RS['Wage to Age Ratio'] = np.where(\n",
    "#     (X_val_RS['Age at Injury'] != 0) & (X_val_RS['Average Weekly Wage'] != 0),\n",
    "#     X_val_RS['Average Weekly Wage'] / X_val_RS['Age at Injury'],\n",
    "#     0)\n",
    "\n",
    "# test_RS['Wage to Age Ratio'] = np.where(\n",
    "#     (test_RS['Age at Injury'] != 0) & (test_RS['Average Weekly Wage'] != 0),\n",
    "#     test_RS['Average Weekly Wage'] / test_RS['Age at Injury'],\n",
    "#     0)\n"
   ]
  },
  {
   "cell_type": "markdown",
   "id": "4b86d837",
   "metadata": {},
   "source": [
    "# 2.3 Outliers\n",
    "\n",
    "<a href=\"#top\">Top &#129033;</a>"
   ]
  },
  {
   "cell_type": "markdown",
   "id": "8ace9e45",
   "metadata": {},
   "source": [
    "### Outlier Detection\n",
    "\n",
    "To detect outliers we will use a function that plots boxplots and identifies outliers based on the Interquartile Range method. This function will also add to a list all columns with a higher percentage of outliers than a previously set threshold."
   ]
  },
  {
   "cell_type": "code",
   "execution_count": null,
   "id": "c2dcbf08",
   "metadata": {
    "ExecuteTime": {
     "end_time": "2024-12-13T15:05:57.855189Z",
     "start_time": "2024-12-13T15:05:09.813180Z"
    },
    "scrolled": true
   },
   "outputs": [],
   "source": [
    "p.detect_outliers_iqr(X_train_RS, 0.001)"
   ]
  },
  {
   "cell_type": "markdown",
   "id": "c3d0edc3",
   "metadata": {},
   "source": [
    "### Dealing With Outliers\n"
   ]
  },
  {
   "cell_type": "markdown",
   "id": "3792791d",
   "metadata": {},
   "source": [
    "**Age at Injury**\n",
    "\n",
    "Knowing people of a certain age are already retired, we will use the identified upper bound as a limit."
   ]
  },
  {
   "cell_type": "code",
   "execution_count": 125,
   "id": "dd34b7f2",
   "metadata": {
    "ExecuteTime": {
     "end_time": "2024-12-13T10:24:31.251468Z",
     "start_time": "2024-12-13T10:24:31.047092Z"
    }
   },
   "outputs": [],
   "source": [
    "X_train = X_train[X_train['Age at Injury'] < 88.5]"
   ]
  },
  {
   "cell_type": "markdown",
   "id": "4899a5d3",
   "metadata": {},
   "source": [
    "**Average Weekly Wage**"
   ]
  },
  {
   "cell_type": "markdown",
   "id": "433a20c1",
   "metadata": {},
   "source": [
    "Apply a square root transformation"
   ]
  },
  {
   "cell_type": "code",
   "execution_count": 126,
   "id": "b60e53dc",
   "metadata": {
    "ExecuteTime": {
     "end_time": "2024-12-13T14:51:57.249059Z",
     "start_time": "2024-12-13T14:51:57.238647Z"
    }
   },
   "outputs": [],
   "source": [
    "X_train['Average Weekly Wage Sqrt'] = np.sqrt(X_train['Average Weekly Wage'])\n",
    "\n",
    "X_val['Average Weekly Wage Sqrt'] = np.sqrt(X_val['Average Weekly Wage'])\n",
    "\n",
    "test['Average Weekly Wage Sqrt'] = np.sqrt(test['Average Weekly Wage'])"
   ]
  },
  {
   "cell_type": "markdown",
   "id": "cbfaed1e",
   "metadata": {},
   "source": [
    "Winsorization for `Average Weekly Wage`"
   ]
  },
  {
   "cell_type": "code",
   "execution_count": 127,
   "id": "84dec6f8",
   "metadata": {
    "ExecuteTime": {
     "end_time": "2024-12-13T10:24:53.061151Z",
     "start_time": "2024-12-13T10:24:53.030561Z"
    }
   },
   "outputs": [],
   "source": [
    "upper_limit = X_train['Average Weekly Wage'].quantile(0.99)\n",
    "lower_limit = X_train['Average Weekly Wage'].quantile(0.01)\n",
    "\n",
    "X_train['Average Weekly Wage'] = X_train['Average Weekly Wage'].clip(lower = lower_limit\n",
    "                                                                  , upper=upper_limit)"
   ]
  },
  {
   "cell_type": "markdown",
   "id": "1f57f592",
   "metadata": {},
   "source": [
    "**Birth Year**"
   ]
  },
  {
   "cell_type": "code",
   "execution_count": 128,
   "id": "d783a65a",
   "metadata": {
    "ExecuteTime": {
     "end_time": "2024-12-13T10:26:02.194578Z",
     "start_time": "2024-12-13T10:26:01.733064Z"
    }
   },
   "outputs": [],
   "source": [
    "X_train = X_train[X_train['Birth Year'] > 1932.5]"
   ]
  },
  {
   "cell_type": "code",
   "execution_count": 129,
   "id": "ec68ecf0",
   "metadata": {
    "ExecuteTime": {
     "end_time": "2024-12-11T22:23:02.448535Z",
     "start_time": "2024-12-11T22:23:02.433594Z"
    }
   },
   "outputs": [],
   "source": [
    "# lower_limit = X_train['Birth Year'].quantile(0.01)\n",
    "\n",
    "# X_train['Birth Year'] = X_train['Birth Year'].clip(lower = lower_limit)"
   ]
  },
  {
   "cell_type": "markdown",
   "id": "058c6746",
   "metadata": {},
   "source": [
    "**IME-4 Count**"
   ]
  },
  {
   "cell_type": "code",
   "execution_count": 130,
   "id": "6b81b7b1",
   "metadata": {
    "ExecuteTime": {
     "end_time": "2024-12-13T14:44:41.642379Z",
     "start_time": "2024-12-13T14:44:41.612286Z"
    }
   },
   "outputs": [],
   "source": [
    "X_train['IME-4 Count Log'] = np.log1p(X_train['IME-4 Count'])\n",
    "X_train['IME-4 Count Double Log'] = np.log1p(X_train['IME-4 Count Log'])\n",
    "\n",
    "X_val['IME-4 Count Log'] = np.log1p(X_val['IME-4 Count'])\n",
    "X_val['IME-4 Count Double Log'] = np.log1p(X_val['IME-4 Count Log'])\n",
    "\n",
    "test['IME-4 Count Log'] = np.log1p(test['IME-4 Count'])\n",
    "test['IME-4 Count Double Log'] = np.log1p(test['IME-4 Count Log'])"
   ]
  },
  {
   "cell_type": "markdown",
   "id": "738a7563",
   "metadata": {},
   "source": [
    "**Accident Date Year**"
   ]
  },
  {
   "cell_type": "code",
   "execution_count": 131,
   "id": "7b09c32a",
   "metadata": {
    "ExecuteTime": {
     "end_time": "2024-12-13T10:29:16.381342Z",
     "start_time": "2024-12-13T10:29:16.172661Z"
    }
   },
   "outputs": [],
   "source": [
    "X_train = X_train[X_train['Accident Date Year'] > 2017.0]"
   ]
  },
  {
   "cell_type": "code",
   "execution_count": 132,
   "id": "4ca1bb75",
   "metadata": {
    "ExecuteTime": {
     "end_time": "2024-12-11T22:23:02.502302Z",
     "start_time": "2024-12-11T22:23:02.486113Z"
    }
   },
   "outputs": [],
   "source": [
    "# lower_limit = X_train['Accident Date Year'].quantile(0.01)\n",
    "\n",
    "# X_train['Accident Date Year'] = X_train['Accident Date Year'].clip(lower = lower_limit)"
   ]
  },
  {
   "cell_type": "markdown",
   "id": "64192a60",
   "metadata": {},
   "source": [
    "**C-2 Date Year**"
   ]
  },
  {
   "cell_type": "code",
   "execution_count": 133,
   "id": "5c4c9aa1",
   "metadata": {
    "ExecuteTime": {
     "end_time": "2024-12-13T10:30:51.137887Z",
     "start_time": "2024-12-13T10:30:50.986891Z"
    }
   },
   "outputs": [],
   "source": [
    "X_train = X_train[X_train['C-2 Date Year'] > 2017.0]"
   ]
  },
  {
   "cell_type": "code",
   "execution_count": 134,
   "id": "07717c7c",
   "metadata": {
    "ExecuteTime": {
     "end_time": "2024-12-13T10:32:26.939722Z",
     "start_time": "2024-12-13T10:32:26.936986Z"
    }
   },
   "outputs": [],
   "source": [
    "# lower_limit = X_train['C-2 Date Year'].quantile(0.01)\n",
    "\n",
    "# X_train['C-2 Date Year'] = X_train['C-2 Date Year'].clip(lower = lower_limit)"
   ]
  },
  {
   "cell_type": "markdown",
   "id": "c2e5d19d",
   "metadata": {},
   "source": [
    "**Alternative Dispute Resolution Enc**\n",
    "\n",
    "Since`Alternative Dispute Resolution Enc` has 0.45% of 1 values, being the rest 0, we may consider dropping this variable"
   ]
  },
  {
   "cell_type": "code",
   "execution_count": null,
   "id": "a312cc0e",
   "metadata": {
    "ExecuteTime": {
     "end_time": "2024-12-13T10:32:53.816781Z",
     "start_time": "2024-12-13T10:32:53.806106Z"
    },
    "scrolled": true
   },
   "outputs": [],
   "source": [
    "X_train['Alternative Dispute Resolution Enc'].value_counts()"
   ]
  },
  {
   "cell_type": "code",
   "execution_count": 136,
   "id": "898813d7",
   "metadata": {
    "ExecuteTime": {
     "end_time": "2024-12-13T10:43:56.897580Z",
     "start_time": "2024-12-13T10:43:56.348173Z"
    }
   },
   "outputs": [],
   "source": [
    "# X_train.drop('Alternative Dispute Resolution Enc', \n",
    "#              axis = 1, inplace = True)\n",
    "\n",
    "# X_val.drop('Alternative Dispute Resolution Enc', \n",
    "#              axis = 1, inplace = True)\n",
    "\n",
    "# test.drop('Alternative Dispute Resolution Enc', \n",
    "#              axis = 1, inplace = True)"
   ]
  },
  {
   "cell_type": "markdown",
   "id": "7a4258e4",
   "metadata": {},
   "source": [
    "Even though more columns were identified as having outliers, they were not addressed because at least one of the following is true:\n",
    "- the categories of said variable were encoded, and removind categories would not be wise (as they can exist in the test set and we will need to predict them)\n",
    "- the percentage of identified outliers was so high that we decided to leave them"
   ]
  },
  {
   "cell_type": "markdown",
   "id": "74e42ced",
   "metadata": {},
   "source": [
    "Before continuing we must ensure that *y_train* has the same indices as *X_train*"
   ]
  },
  {
   "cell_type": "code",
   "execution_count": 137,
   "id": "e9d3cf4a",
   "metadata": {
    "ExecuteTime": {
     "end_time": "2024-12-13T10:38:21.345829Z",
     "start_time": "2024-12-13T10:38:21.266369Z"
    }
   },
   "outputs": [],
   "source": [
    "y_train = y_train[X_train.index]"
   ]
  },
  {
   "cell_type": "markdown",
   "id": "7fe7fe93",
   "metadata": {},
   "source": [
    "** ** \n",
    "\n",
    "Having performed all data transformations, we will export the data to later use it in the Modelling section of this notebook. This will allow to save time by not always having to run computationally expensive methods such as RFE.\n",
    "\n",
    "To go to the Modelling section click in the button.\n",
    "\n",
    "[Go to Modeling &#129034;](#modeling)\n",
    "\n",
    "<a class=\"anchor\" id=\"feature-selection\"></a>\n",
    "\n"
   ]
  },
  {
   "cell_type": "code",
   "execution_count": 138,
   "id": "1cc213e0",
   "metadata": {
    "ExecuteTime": {
     "end_time": "2024-12-11T22:23:24.850269Z",
     "start_time": "2024-12-11T22:23:02.520384Z"
    }
   },
   "outputs": [],
   "source": [
    "# X_train.to_csv('./data/X_train_treated.csv')\n",
    "# X_val.to_csv('./data/X_val_treated.csv')\n",
    "# y_train.to_csv('./data/y_train_treated.csv')\n",
    "# y_val.to_csv('./data/y_val_treated.csv')\n",
    "# test.to_csv('./data/test_treated.csv')"
   ]
  },
  {
   "cell_type": "markdown",
   "id": "b2bacc46",
   "metadata": {},
   "source": [
    "** **"
   ]
  },
  {
   "cell_type": "markdown",
   "id": "64e1670f",
   "metadata": {},
   "source": [
    "# 3. Feature Selection\n",
    "\n",
    "<a href=\"#top\">Top &#129033;</a>\n",
    "\n",
    "In this section we will perform Feature Selection. Having already split our variables into *Numeric*, *Categorical*, *Categorical encoded using Count Encoding* and *Categorical (other)*, we will apply the following methods:\n",
    "\n",
    "<br>\n",
    "\n",
    "| Method                        | Feature Types |\n",
    "| ----------------------------- | ------------- |\n",
    "| Variance Threshold            | Numerical     |\n",
    "| Correlation                   | Numerical     |\n",
    "| Chi-Square Test               | Categorical   |\n",
    "| Mutual Information            | Categorical   |\n",
    "| RFE                           | All           |\n",
    "| LASSO                         | All           |\n",
    "| Tree-Based Feature Importance | All           |\n"
   ]
  },
  {
   "cell_type": "markdown",
   "id": "ff729aff",
   "metadata": {},
   "source": [
    "## 3.1 Filter-Based Methods\n",
    "\n",
    "<a href=\"#top\">Top &#129033;</a>\n",
    "\n",
    "Filter-based methods evaluate the relevance of features independently of the model using statistical measures like correlation, Chi-square tests, and mutual information. This section explores how these methods help reduce dimensionality, improve model performance, and prevent overfitting by selecting the most informative features.\n",
    "\n"
   ]
  },
  {
   "cell_type": "markdown",
   "id": "d099e231",
   "metadata": {},
   "source": [
    "**Variance Threshold**"
   ]
  },
  {
   "cell_type": "code",
   "execution_count": null,
   "id": "47c05ab2",
   "metadata": {
    "ExecuteTime": {
     "end_time": "2024-12-13T11:20:04.073710Z",
     "start_time": "2024-12-13T11:20:03.711084Z"
    }
   },
   "outputs": [],
   "source": [
    "X_train[num].var() "
   ]
  },
  {
   "cell_type": "markdown",
   "id": "cf2e4a36",
   "metadata": {},
   "source": [
    "**Spearman Correlation Matrix**"
   ]
  },
  {
   "cell_type": "code",
   "execution_count": null,
   "id": "ee19fd1c",
   "metadata": {
    "ExecuteTime": {
     "end_time": "2024-12-13T11:20:09.272117Z",
     "start_time": "2024-12-13T11:20:07.202251Z"
    },
    "scrolled": false
   },
   "outputs": [],
   "source": [
    "fs.correlation_matrix(X_train[num])"
   ]
  },
  {
   "cell_type": "markdown",
   "id": "a57aa6da",
   "metadata": {},
   "source": [
    "**Chi Squared Test**"
   ]
  },
  {
   "cell_type": "code",
   "execution_count": null,
   "id": "b87824c8",
   "metadata": {
    "ExecuteTime": {
     "end_time": "2024-12-13T14:32:04.637459Z",
     "start_time": "2024-12-13T14:32:02.605108Z"
    }
   },
   "outputs": [],
   "source": [
    "fs.chi_squared(X_train[categ_label_bin], y_train)"
   ]
  },
  {
   "cell_type": "markdown",
   "id": "8795ef5d",
   "metadata": {
    "ExecuteTime": {
     "end_time": "2024-12-01T16:38:05.837521Z",
     "start_time": "2024-12-01T16:38:05.832896Z"
    }
   },
   "source": [
    "**Mutual Information Test**"
   ]
  },
  {
   "cell_type": "code",
   "execution_count": null,
   "id": "9df463fc",
   "metadata": {
    "ExecuteTime": {
     "end_time": "2024-12-13T15:44:32.883847Z",
     "start_time": "2024-12-13T15:42:52.389174Z"
    }
   },
   "outputs": [],
   "source": [
    "fs.mutual_info(X_train_RS[categ], y_train, threshold = 0.05)"
   ]
  },
  {
   "cell_type": "markdown",
   "id": "ae9b5c1a",
   "metadata": {},
   "source": [
    "## 3.2 Wrapper Methods\n",
    "\n",
    "<a href=\"#top\">Top &#129033;</a>\n",
    "\n",
    "Unlike filter methods, which assess features independently, wrapper methods evaluate the effectiveness of feature subsets by measuring the model’s performance, making them more computationally expensive but often more accurate in selecting relevant features."
   ]
  },
  {
   "cell_type": "code",
   "execution_count": null,
   "id": "169e52a1",
   "metadata": {},
   "outputs": [],
   "source": [
    "imputer = SimpleImputer(strategy='mean')\n",
    "X_train[['Average Weekly Wage', 'Average Weekly Wage Sqrt']] = imputer.fit_transform(X_train[['Average Weekly Wage', 'Average Weekly Wage Sqrt']])\n",
    "X_val[['Average Weekly Wage', 'Average Weekly Wage Sqrt']] = imputer.transform(X_val[['Average Weekly Wage', 'Average Weekly Wage Sqrt']])"
   ]
  },
  {
   "cell_type": "markdown",
   "id": "ee917e8d",
   "metadata": {},
   "source": [
    "**Recursive Feature Elimination (RFE) - Logistic Regression**"
   ]
  },
  {
   "cell_type": "code",
   "execution_count": null,
   "id": "fb79eba0",
   "metadata": {
    "ExecuteTime": {
     "end_time": "2024-12-12T16:30:37.908753Z",
     "start_time": "2024-12-12T10:58:12.140158Z"
    },
    "scrolled": true
   },
   "outputs": [
    {
     "name": "stdout",
     "output_type": "stream",
     "text": [
      "-------------TRAIN-------------\n",
      "Classification Report for 3 features:\n",
      "\n",
      "              precision    recall  f1-score   support\n",
      "\n",
      "           0       0.00      0.00      0.00      9429\n",
      "           1       0.74      0.98      0.84    231107\n",
      "           2       0.00      0.00      0.00     54880\n",
      "           3       0.60      0.76      0.67    117006\n",
      "           4       0.00      0.00      0.00     38469\n",
      "           5       0.00      0.00      0.00      3358\n",
      "           6       0.00      0.00      0.00        77\n",
      "           7       0.00      0.00      0.00       374\n",
      "\n",
      "    accuracy                           0.69    454700\n",
      "   macro avg       0.17      0.22      0.19    454700\n",
      "weighted avg       0.53      0.69      0.60    454700\n",
      "\n",
      "Macro Avg F1 Score for 3 features: 0.1890\n",
      "\n",
      "----------VALIDATION----------\n",
      "Classification Report for 3 features:\n",
      "\n",
      "              precision    recall  f1-score   support\n",
      "\n",
      "           0       0.00      0.00      0.00      2495\n",
      "           1       0.73      0.98      0.84     58216\n",
      "           2       0.00      0.00      0.00     13781\n",
      "           3       0.60      0.75      0.66     29701\n",
      "           4       0.00      0.00      0.00      9656\n",
      "           5       0.00      0.00      0.00       842\n",
      "           6       0.00      0.00      0.00        20\n",
      "           7       0.00      0.00      0.00        94\n",
      "\n",
      "    accuracy                           0.69    114805\n",
      "   macro avg       0.17      0.22      0.19    114805\n",
      "weighted avg       0.53      0.69      0.60    114805\n",
      "\n",
      "Macro Avg F1 Score for 3 features: 0.1881\n",
      "\n"
     ]
    }
   ],
   "source": [
    "n_features = np.arange(3, len(X_train.columns) + 1)\n",
    "model = LogisticRegression()\n",
    "fs.rfe(X_train, y_train, X_val, y_val, \n",
    "    n_features = n_features, \n",
    "    model = model)"
   ]
  },
  {
   "cell_type": "code",
   "execution_count": null,
   "id": "27885430",
   "metadata": {
    "ExecuteTime": {
     "end_time": "2024-12-12T16:30:37.912108Z",
     "start_time": "2024-12-12T16:30:37.912081Z"
    }
   },
   "outputs": [],
   "source": [
    "import play_song as p\n",
    "p.play_('audio.mp3')"
   ]
  },
  {
   "cell_type": "markdown",
   "id": "c029789a",
   "metadata": {},
   "source": [
    "**Recursive Feature Elimination (RFE) - Random Forest Classifier**"
   ]
  },
  {
   "cell_type": "code",
   "execution_count": null,
   "id": "c93d35cf",
   "metadata": {
    "ExecuteTime": {
     "end_time": "2024-12-09T11:16:57.217960Z",
     "start_time": "2024-12-09T11:16:57.217945Z"
    },
    "scrolled": true
   },
   "outputs": [],
   "source": [
    "# Perform Recursive Feature Elimination (RFE) to select the top features based on their importance for a logistic regression model\n",
    "n_features = np.arange(5, len(X_train[num].columns) + 1)\n",
    "model = RandomForestClassifier()\n",
    "fs.rfe(X_train[num], y_train, n_features = n_features, model = model)\n",
    "\n",
    "# "
   ]
  },
  {
   "cell_type": "markdown",
   "id": "465e9417",
   "metadata": {},
   "source": [
    "## 3.3 Embedded Methods\n",
    "\n",
    "<a href=\"#top\">Top &#129033;</a>\n",
    "\n",
    "These methods use algorithms that inherently select features as part of the model’s learning process. Embedded methods are computationally efficient and tend to be more accurate than filter methods, as they consider feature interactions and model performance simultaneously.\n"
   ]
  },
  {
   "cell_type": "markdown",
   "id": "03581eda",
   "metadata": {},
   "source": [
    "**Least Absolute Shrinkage and Selection Operator (LASSO)**"
   ]
  },
  {
   "cell_type": "code",
   "execution_count": null,
   "id": "c708b7a2",
   "metadata": {
    "ExecuteTime": {
     "end_time": "2024-12-13T15:13:16.047192Z",
     "start_time": "2024-12-13T15:13:14.951209Z"
    }
   },
   "outputs": [],
   "source": [
    "fs.lasso(X_train_RS[num], y_train, alpha = 0.01)"
   ]
  },
  {
   "cell_type": "code",
   "execution_count": null,
   "id": "441148da",
   "metadata": {
    "ExecuteTime": {
     "end_time": "2024-12-13T15:18:45.597279Z",
     "start_time": "2024-12-13T15:18:43.465977Z"
    }
   },
   "outputs": [],
   "source": [
    "fs.lasso(X_train_RS[categ], y_train, alpha = 0.01)"
   ]
  },
  {
   "cell_type": "markdown",
   "id": "168fb2ac",
   "metadata": {},
   "source": [
    "**Extra Trees Classifier**"
   ]
  },
  {
   "cell_type": "code",
   "execution_count": null,
   "id": "a28cbfa7",
   "metadata": {
    "ExecuteTime": {
     "end_time": "2024-12-13T16:04:16.773120Z",
     "start_time": "2024-12-13T15:58:24.106435Z"
    },
    "scrolled": true
   },
   "outputs": [],
   "source": [
    "fs.plot_feature_importance(X_train_RS[num], X_train_RS[categ], y_train, \n",
    "                        n_estimators = 250)"
   ]
  },
  {
   "cell_type": "markdown",
   "id": "74c4ed64",
   "metadata": {},
   "source": [
    "[Go to Modeling &#129034;](#modeling)"
   ]
  },
  {
   "cell_type": "markdown",
   "id": "558307e6",
   "metadata": {},
   "source": [
    "## 3.4 Final Features\n",
    "\n",
    "<a href=\"#top\">Top &#129033;</a>"
   ]
  },
  {
   "cell_type": "markdown",
   "id": "f6cbf473",
   "metadata": {},
   "source": [
    "**Final Decision**\n",
    "\n",
    "<br>\n",
    "\n",
    "`Numeric Variables`\n",
    "<br><br>\n",
    "\n",
    "\n",
    "| Variable                   | Variance | Correlation | RFE LR | RFE RF | Lasso | ExtraTrees | `Decision` |\n",
    "| -------------------------- | -------- | ----------- | ------ | ------ | ----- | ---------- | ---------- |\n",
    "| Accident Date Day          |    K     |             |        |        |   D   |            |            |\n",
    "| Accident Date Month        |    K     |             |        |        |   D   |            |            |\n",
    "| Accident Date Year         |    K     |    HC_4     |        |        |   D   |            |            |\n",
    "| Accident to Assembly Time  |    K     |             |        |        |   K   |            |            |\n",
    "| Accident to C-2 Time       |    K     |             |        |        |   K   |            |            |\n",
    "| Age at Injury              |    K     |    HC_3     |        |        |   K   |            |            |\n",
    "| Assembly Date Day          |    K     |             |        |        |   D   |            |            |\n",
    "| Assembly Date Month        |    K     |             |        |        |   D   |            |            |\n",
    "| Assembly Date Year         |    K     |    HC_4     |        |        |   K   |            |            |\n",
    "| Assembly to C-2 Time       |    K     |             |        |        |   K   |            |            |\n",
    "| Average Weekly Wage        |    K     |    HC_2     |        |        |   K   |            |            |\n",
    "| Average Weekly Wage Sqrt   |    K     |    HC_2     |        |        |   K   |            |            |\n",
    "| Birth Year                 |    K     |    HC_3     |        |        |   K   |            |            |\n",
    "| C-2 Date Day               |    K     |             |        |        |   K   |            |            |\n",
    "| C-2 Date Month             |    K     |             |        |        |   K   |            |            |\n",
    "| C-2 Date Year              |    K     |    HC_4     |        |        |   D   |            |            |\n",
    "| IME-4 Count                |    K     |    HC_1     |        |        |   K   |            |            |\n",
    "| IME-4 Count Double Log     |    K     |    HC_1     |        |        |   D   |            |            |\n",
    "| IME-4 Count Log            |    K     |    HC_1     |        |        |   K   |            |            |\n",
    "| Number of Dependents       |    K     |             |        |        |   D   |            |            |\n",
    "| Wage to Age Ratio          |    K     |             |        |        |   K   |            |            |\n",
    "\n",
    "<br>\n",
    "\n",
    "`Categorical Variables`\n",
    "<br><br>\n",
    "\n",
    "\n",
    "| Variable                                | Chi-Squared | MI | RFE LR | RFE RF | Lasso | Extra trees | `Decision` |\n",
    "| --------------------------------------- | ----------- | -- | ------ | ------ | ----- | ----------- | ---------- |\n",
    "| Accident Date Day of Week               |      D      | D  |        |        |   K   |             |            |\n",
    "| Assembly Date Day of Week               |      D      | D  |        |        |   K   |             |            |\n",
    "| Age Group                               |      K      | K  |        |        |   K   |             |            |\n",
    "| Alternative Dispute Resolution Bin      |      K      | D  |        |        |   K   |             |            |\n",
    "| Attorney/Representative Bin             |      K      | K  |        |        |   K   |             |            |\n",
    "| Carrier Name Enc                        |      K      | K  |        |        |   K   |             |            |\n",
    "| Carrier Type Enc                        |      NA     | D  |        |        |   K   |             |            |\n",
    "| Carrier Type_2A. SIF                    |      K      | D  |        |        |   D   |             |            |\n",
    "| Carrier Type_3A. SELF PUBLIC            |      K      | D  |        |        |   D   |             |            |\n",
    "| Carrier Type_4A. SELF PRIVATE           |      K      | D  |        |        |   D   |             |            |\n",
    "| Carrier Type_5. SPECIAL FUND OR UNKNOWN |      K      | D  |        |        |   D   |             |            |\n",
    "| C-2 Date Day of Week                    |      K      | D  |        |        |   K   |             |            |\n",
    "| C-3 Date Binary                         |      K      | K  |        |        |   K   |             |            |\n",
    "| COVID-19 Indicator Enc                  |      K      | D  |        |        |   K   |             |            |\n",
    "| County of Injury Enc                    |      NA     | D  |        |        |   K   |             |            |\n",
    "| District Name Enc                       |      NA     | D  |        |        |   K   |             |            |\n",
    "| First Hearing Date Binary               |      K      | K  |        |        |   K   |             |            |\n",
    "| Gender Enc                              |      K      | D  |        |        |   K   |             |            |\n",
    "| Gender_M                                |      K      | D  |        |        |   D   |             |            |\n",
    "| Gender_U/X                              |      K      | D  |        |        |   D   |             |            |\n",
    "| Industry Code                           |      K      | K  |        |        |   K   |             |            |\n",
    "| Industry Sector Enc                     |      NA     | D  |        |        |   K   |             |            |\n",
    "| Insurance                               |      K      | D  |        |        |   D   |             |            |\n",
    "| Medical Fee Region Enc                  |      NA     | D  |        |        |   K   |             |            |\n",
    "| WCIO Cause of Injury Code               |      K      | K  |        |        |   K   |             |            |\n",
    "| WCIO Codes                              |      K      | K  |        |        |   K   |             |            |\n",
    "| WCIO Nature of Injury Code              |      K      | K  |        |        |   K   |             |            |\n",
    "| WCIO Part Of Body Code                  |      K      | K  |        |        |   K   |             |            |\n",
    "| Zip Code Valid                          |      D      | D  |        |        |   D   |             |            |\n",
    "\n",
    "<br><br><br>\n",
    "\n",
    "| Symbol | Meaning |\n",
    "| ------ | ------- |\n",
    "| K      | Keep    |\n",
    "| D      | Discard |\n",
    "| HC_*N*   | High Correlation Identifier |\n",
    "| NA     | Not Applicable |\n"
   ]
  },
  {
   "cell_type": "code",
   "execution_count": null,
   "id": "6980f61f",
   "metadata": {},
   "outputs": [],
   "source": []
  },
  {
   "cell_type": "code",
   "execution_count": null,
   "id": "cb0df933",
   "metadata": {},
   "outputs": [],
   "source": []
  },
  {
   "cell_type": "markdown",
   "id": "6344b388",
   "metadata": {},
   "source": [
    "# 4. Modeling\n",
    "\n",
    "<a class=\"anchor\" id=\"modeling\"></a>\n",
    "\n",
    "[Go to Feature Selection &#129034;](#feature-selection)\n",
    "\n",
    "<a href=\"#top\">Top &#129033;</a>\n",
    "\n",
    "Start by importing the correct datasets.\n"
   ]
  },
  {
   "cell_type": "code",
   "execution_count": 3,
   "id": "1fb721b0",
   "metadata": {
    "ExecuteTime": {
     "end_time": "2024-12-12T09:32:19.727589Z",
     "start_time": "2024-12-12T09:32:14.856218Z"
    }
   },
   "outputs": [],
   "source": [
    "# X_train = pd.read_csv('./data/X_train_treated.csv', index_col = 'Claim Identifier')\n",
    "# X_val = pd.read_csv('./data/X_val_treated.csv', index_col = 'Claim Identifier')\n",
    "# y_train = pd.read_csv('./data/y_train_treated.csv', index_col = 'Claim Identifier')\n",
    "# y_val = pd.read_csv('./data/y_val_treated.csv', index_col = 'Claim Identifier')\n",
    "# test = pd.read_csv('./data/test_treated.csv', index_col = 'Claim Identifier')"
   ]
  },
  {
   "cell_type": "markdown",
   "id": "886c6d0e",
   "metadata": {},
   "source": [
    "And select the columns to use for predictions purposes"
   ]
  },
  {
   "cell_type": "code",
   "execution_count": 50,
   "id": "442b4360",
   "metadata": {
    "ExecuteTime": {
     "end_time": "2024-12-13T16:05:32.608022Z",
     "start_time": "2024-12-13T16:05:31.676646Z"
    }
   },
   "outputs": [],
   "source": [
    "columns = []\n",
    "\n",
    "\n",
    "X_train_filtered = X_train_RS[columns]\n",
    "X_val_filtered = X_val_RS[columns]\n",
    "test_filtered = test_RS[columns]"
   ]
  },
  {
   "cell_type": "markdown",
   "id": "c2560f06",
   "metadata": {
    "ExecuteTime": {
     "end_time": "2024-12-13T10:15:39.778129Z",
     "start_time": "2024-12-13T10:15:39.744871Z"
    }
   },
   "source": [
    "**Model Training**"
   ]
  },
  {
   "cell_type": "code",
   "execution_count": null,
   "id": "058215dd",
   "metadata": {
    "ExecuteTime": {
     "end_time": "2024-12-13T16:14:56.184177Z",
     "start_time": "2024-12-13T16:05:41.852113Z"
    },
    "scrolled": true
   },
   "outputs": [],
   "source": [
    "# Define the models to run\n",
    "model_names = ['LGBM', 'KNN', 'DT', 'RF','XGB']\n",
    "\n",
    "results = mod.modeling(model_names, X_train_filtered, y_train, X_val_filtered, y_val)"
   ]
  },
  {
   "cell_type": "code",
   "execution_count": null,
   "id": "d0e4e574",
   "metadata": {
    "ExecuteTime": {
     "end_time": "2024-12-13T16:15:07.797207Z",
     "start_time": "2024-12-13T16:14:56.187564Z"
    }
   },
   "outputs": [],
   "source": [
    "import play_song as s\n",
    "s.play_('audio.mp3')"
   ]
  },
  {
   "cell_type": "markdown",
   "id": "1a90ac83",
   "metadata": {},
   "source": [
    "** ** \n",
    "\n",
    "Scaling before using ball_trees"
   ]
  },
  {
   "cell_type": "code",
   "execution_count": null,
   "id": "e8ab185c",
   "metadata": {
    "ExecuteTime": {
     "end_time": "2024-12-13T16:15:07.819931Z",
     "start_time": "2024-12-13T16:15:07.801038Z"
    }
   },
   "outputs": [],
   "source": [
    "#extra_t = pd.DataFrame(results).T\n",
    "extra_t"
   ]
  },
  {
   "cell_type": "code",
   "execution_count": null,
   "id": "782327ab",
   "metadata": {
    "ExecuteTime": {
     "end_time": "2024-12-13T15:57:56.209502Z",
     "start_time": "2024-12-13T15:57:56.193083Z"
    }
   },
   "outputs": [],
   "source": [
    "#lasso_num_MIC_categ = pd.DataFrame(results).T\n",
    "lasso_num_MIC_categ"
   ]
  },
  {
   "cell_type": "code",
   "execution_count": null,
   "id": "eda8e430",
   "metadata": {
    "ExecuteTime": {
     "end_time": "2024-12-13T15:32:26.411471Z",
     "start_time": "2024-12-13T15:32:26.376978Z"
    }
   },
   "outputs": [],
   "source": [
    "#lasso_feat = pd.DataFrame(results).T\n",
    "lasso_feat"
   ]
  },
  {
   "cell_type": "code",
   "execution_count": null,
   "id": "34c285a2",
   "metadata": {
    "ExecuteTime": {
     "end_time": "2024-12-13T14:51:13.858449Z",
     "start_time": "2024-12-13T14:51:13.841337Z"
    }
   },
   "outputs": [],
   "source": [
    "#no_out_noWageratio_noSQRT = pd.DataFrame(results).T\n",
    "no_out_noWageratio_noSQRT"
   ]
  },
  {
   "cell_type": "markdown",
   "id": "87dc26ed",
   "metadata": {},
   "source": [
    "** **\n",
    "\n",
    "Scaling after using ball_trees"
   ]
  },
  {
   "cell_type": "code",
   "execution_count": null,
   "id": "46db02cc",
   "metadata": {
    "ExecuteTime": {
     "end_time": "2024-12-13T14:40:20.953175Z",
     "start_time": "2024-12-13T14:40:20.935634Z"
    }
   },
   "outputs": [],
   "source": [
    "#out_treat_drop_ADR_with_IME_logs_RS = pd.DataFrame(results).T\n",
    "out_treat_drop_ADR_with_IME_logs_RS "
   ]
  },
  {
   "cell_type": "code",
   "execution_count": null,
   "id": "d88cc8ef",
   "metadata": {
    "ExecuteTime": {
     "end_time": "2024-12-13T11:00:30.143197Z",
     "start_time": "2024-12-13T11:00:30.120268Z"
    }
   },
   "outputs": [],
   "source": [
    "#outlier_treatment_drop_ADR_with_IME_logs = pd.DataFrame(results).T\n",
    "outlier_treatment_drop_ADR_with_IME_logs"
   ]
  },
  {
   "cell_type": "code",
   "execution_count": null,
   "id": "ecc50f37",
   "metadata": {
    "ExecuteTime": {
     "end_time": "2024-12-13T10:49:17.906153Z",
     "start_time": "2024-12-13T10:49:17.888470Z"
    }
   },
   "outputs": [],
   "source": [
    "#outlier_treatment_drop_ADR = pd.DataFrame(results).T\n",
    "outlier_treatment_drop_ADR"
   ]
  },
  {
   "cell_type": "code",
   "execution_count": null,
   "id": "eb1c486a",
   "metadata": {
    "ExecuteTime": {
     "end_time": "2024-12-13T10:43:18.606800Z",
     "start_time": "2024-12-13T10:43:18.583806Z"
    }
   },
   "outputs": [],
   "source": [
    "#outlier_treatment = pd.DataFrame(results).T\n",
    "outlier_treatment"
   ]
  },
  {
   "cell_type": "code",
   "execution_count": null,
   "id": "459beee2",
   "metadata": {
    "ExecuteTime": {
     "end_time": "2024-12-13T10:21:22.564653Z",
     "start_time": "2024-12-13T10:21:22.547383Z"
    }
   },
   "outputs": [],
   "source": [
    "#no_outlier_treatment = pd.DataFrame(results).T\n",
    "no_outlier_treatment"
   ]
  },
  {
   "cell_type": "markdown",
   "id": "a65f8c5b",
   "metadata": {},
   "source": [
    "## 4.1 Hyperparameter Tuning\n",
    "\n",
    "<a href=\"#top\">Top &#129033;</a>"
   ]
  },
  {
   "cell_type": "code",
   "execution_count": 52,
   "id": "61a11234",
   "metadata": {
    "ExecuteTime": {
     "end_time": "2024-12-14T18:52:17.375966Z",
     "start_time": "2024-12-14T18:52:17.358478Z"
    }
   },
   "outputs": [],
   "source": [
    "param_grid = {\n",
    "    \"n_estimators\": [375, 400, 425],\n",
    "    \"max_depth\": [23, 25, 27],   \n",
    "#   \"min_samples_split\": [4, 5],   \n",
    "#    \"min_samples_leaf\": [6, 8],     \n",
    "#   \"max_features\": ['auto', 'sqrt', 'log2'],  \n",
    "    \"bootstrap\": [True, False],       \n",
    "    \"criterion\": ['gini', 'entropy']  \n",
    "}\n",
    "\n",
    "model = RandomForestClassifier(random_state = 1)"
   ]
  },
  {
   "cell_type": "code",
   "execution_count": null,
   "id": "a70ada30",
   "metadata": {
    "ExecuteTime": {
     "end_time": "2024-12-14T19:22:18.713879Z",
     "start_time": "2024-12-14T18:52:19.546342Z"
    },
    "collapsed": true
   },
   "outputs": [],
   "source": [
    "t.hyperparameter_search(model, param_grid, 'random', X_train_RS, \n",
    "                      y_train, scoring='f1_macro', \n",
    "                      cv=3, n_iter=5, random_state=42)"
   ]
  },
  {
   "cell_type": "code",
   "execution_count": null,
   "id": "b7693f10",
   "metadata": {
    "ExecuteTime": {
     "end_time": "2024-12-14T19:22:18.724198Z",
     "start_time": "2024-12-14T19:22:18.724154Z"
    }
   },
   "outputs": [],
   "source": [
    "import play_song as s\n",
    "s.play_('audio.mp3')"
   ]
  },
  {
   "cell_type": "markdown",
   "id": "306d2afe",
   "metadata": {},
   "source": [
    "## 4.2 Final Predictions\n",
    "\n",
    "<a href=\"#top\">Top &#129033;</a>"
   ]
  },
  {
   "cell_type": "code",
   "execution_count": 16,
   "id": "5634ca33",
   "metadata": {
    "ExecuteTime": {
     "end_time": "2024-12-12T10:25:43.018301Z",
     "start_time": "2024-12-12T10:25:43.015148Z"
    }
   },
   "outputs": [],
   "source": [
    "test_filtered = test"
   ]
  },
  {
   "cell_type": "code",
   "execution_count": 17,
   "id": "60de9166",
   "metadata": {
    "ExecuteTime": {
     "end_time": "2024-12-12T10:25:45.356604Z",
     "start_time": "2024-12-12T10:25:44.446990Z"
    }
   },
   "outputs": [],
   "source": [
    "test_filtered['Claim Injury Type'] = model.predict(test_filtered)"
   ]
  },
  {
   "cell_type": "markdown",
   "id": "8ae380e2",
   "metadata": {},
   "source": [
    "Map Predictions to Original Values"
   ]
  },
  {
   "cell_type": "code",
   "execution_count": 18,
   "id": "d4c55e68",
   "metadata": {
    "ExecuteTime": {
     "end_time": "2024-12-12T10:25:46.756054Z",
     "start_time": "2024-12-12T10:25:46.701111Z"
    }
   },
   "outputs": [],
   "source": [
    "label_mapping = {\n",
    "    0: \"1. CANCELLED\",\n",
    "    1: \"2. NON-COMP\",\n",
    "    2: \"3. MED ONLY\",\n",
    "    3: \"4. TEMPORARY\",\n",
    "    4: \"5. PPD SCH LOSS\",\n",
    "    5: \"6. PPD NSL\",\n",
    "    6: \"7. PTD\",\n",
    "    7: \"8. DEATH\"\n",
    "}\n",
    "\n",
    "\n",
    "test_filtered['Claim Injury Type'] = test_filtered['Claim Injury Type'].replace(label_mapping)"
   ]
  },
  {
   "cell_type": "code",
   "execution_count": null,
   "id": "0176b51d",
   "metadata": {
    "ExecuteTime": {
     "end_time": "2024-12-12T10:25:48.505938Z",
     "start_time": "2024-12-12T10:25:48.482131Z"
    }
   },
   "outputs": [],
   "source": [
    "# Count unique values in column 'Claim Injury Type'\n",
    "test_filtered['Claim Injury Type'].value_counts() "
   ]
  },
  {
   "cell_type": "code",
   "execution_count": 20,
   "id": "2431563c",
   "metadata": {
    "ExecuteTime": {
     "end_time": "2024-12-12T10:25:49.044533Z",
     "start_time": "2024-12-12T10:25:49.042112Z"
    }
   },
   "outputs": [],
   "source": [
    "# Extract the target variable 'Claim Injury Type' from the test dataset for prediction\n",
    "predictions = test_filtered['Claim Injury Type']"
   ]
  },
  {
   "cell_type": "code",
   "execution_count": 21,
   "id": "92818307",
   "metadata": {
    "ExecuteTime": {
     "end_time": "2024-12-12T10:26:01.308020Z",
     "start_time": "2024-12-12T10:26:00.982058Z"
    }
   },
   "outputs": [],
   "source": [
    "# Assign a descriptive name for easy reference\n",
    "name = 'all_feat_all_correct'\n",
    "\n",
    "# Save the predictions to a CSV file.\n",
    "predictions.to_csv(f'./pred/{name}.csv')"
   ]
  },
  {
   "cell_type": "code",
   "execution_count": null,
   "id": "efab4f44",
   "metadata": {},
   "outputs": [],
   "source": []
  }
 ],
 "metadata": {
  "kernelspec": {
   "display_name": "base",
   "language": "python",
   "name": "python3"
  },
  "language_info": {
   "codemirror_mode": {
    "name": "ipython",
    "version": 3
   },
   "file_extension": ".py",
   "mimetype": "text/x-python",
   "name": "python",
   "nbconvert_exporter": "python",
   "pygments_lexer": "ipython3",
   "version": "3.12.4"
  }
 },
 "nbformat": 4,
 "nbformat_minor": 5
}
