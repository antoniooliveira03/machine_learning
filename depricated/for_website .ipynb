{
 "cells": [
  {
   "cell_type": "code",
   "execution_count": 14,
   "id": "7494e353",
   "metadata": {
    "ExecuteTime": {
     "end_time": "2024-12-12T15:38:21.648723Z",
     "start_time": "2024-12-12T15:38:21.646085Z"
    }
   },
   "outputs": [],
   "source": [
    "import pandas as pd"
   ]
  },
  {
   "cell_type": "code",
   "execution_count": 15,
   "id": "42e235fe",
   "metadata": {
    "ExecuteTime": {
     "end_time": "2024-12-12T15:38:34.348835Z",
     "start_time": "2024-12-12T15:38:28.933698Z"
    }
   },
   "outputs": [
    {
     "data": {
      "text/html": [
       "<div>\n",
       "<style scoped>\n",
       "    .dataframe tbody tr th:only-of-type {\n",
       "        vertical-align: middle;\n",
       "    }\n",
       "\n",
       "    .dataframe tbody tr th {\n",
       "        vertical-align: top;\n",
       "    }\n",
       "\n",
       "    .dataframe thead th {\n",
       "        text-align: right;\n",
       "    }\n",
       "</style>\n",
       "<table border=\"1\" class=\"dataframe\">\n",
       "  <thead>\n",
       "    <tr style=\"text-align: right;\">\n",
       "      <th></th>\n",
       "      <th>Accident Date</th>\n",
       "      <th>Age at Injury</th>\n",
       "      <th>Alternative Dispute Resolution</th>\n",
       "      <th>Assembly Date</th>\n",
       "      <th>Attorney/Representative</th>\n",
       "      <th>Average Weekly Wage</th>\n",
       "      <th>Birth Year</th>\n",
       "      <th>C-2 Date</th>\n",
       "      <th>C-3 Date</th>\n",
       "      <th>Carrier Name</th>\n",
       "      <th>Carrier Type</th>\n",
       "      <th>Claim Injury Type</th>\n",
       "      <th>County of Injury</th>\n",
       "      <th>COVID-19 Indicator</th>\n",
       "      <th>District Name</th>\n",
       "      <th>First Hearing Date</th>\n",
       "      <th>Gender</th>\n",
       "      <th>IME-4 Count</th>\n",
       "      <th>Industry Code</th>\n",
       "      <th>Industry Code Description</th>\n",
       "      <th>Medical Fee Region</th>\n",
       "      <th>OIICS Nature of Injury Description</th>\n",
       "      <th>WCIO Cause of Injury Code</th>\n",
       "      <th>WCIO Cause of Injury Description</th>\n",
       "      <th>WCIO Nature of Injury Code</th>\n",
       "      <th>WCIO Nature of Injury Description</th>\n",
       "      <th>WCIO Part Of Body Code</th>\n",
       "      <th>WCIO Part Of Body Description</th>\n",
       "      <th>Zip Code</th>\n",
       "      <th>Agreement Reached</th>\n",
       "      <th>WCB Decision</th>\n",
       "      <th>Number of Dependents</th>\n",
       "    </tr>\n",
       "    <tr>\n",
       "      <th>Claim Identifier</th>\n",
       "      <th></th>\n",
       "      <th></th>\n",
       "      <th></th>\n",
       "      <th></th>\n",
       "      <th></th>\n",
       "      <th></th>\n",
       "      <th></th>\n",
       "      <th></th>\n",
       "      <th></th>\n",
       "      <th></th>\n",
       "      <th></th>\n",
       "      <th></th>\n",
       "      <th></th>\n",
       "      <th></th>\n",
       "      <th></th>\n",
       "      <th></th>\n",
       "      <th></th>\n",
       "      <th></th>\n",
       "      <th></th>\n",
       "      <th></th>\n",
       "      <th></th>\n",
       "      <th></th>\n",
       "      <th></th>\n",
       "      <th></th>\n",
       "      <th></th>\n",
       "      <th></th>\n",
       "      <th></th>\n",
       "      <th></th>\n",
       "      <th></th>\n",
       "      <th></th>\n",
       "      <th></th>\n",
       "      <th></th>\n",
       "    </tr>\n",
       "  </thead>\n",
       "  <tbody>\n",
       "    <tr>\n",
       "      <th>5393875</th>\n",
       "      <td>2019-12-30</td>\n",
       "      <td>31.0</td>\n",
       "      <td>N</td>\n",
       "      <td>2020-01-01</td>\n",
       "      <td>N</td>\n",
       "      <td>0.00</td>\n",
       "      <td>1988.0</td>\n",
       "      <td>2019-12-31</td>\n",
       "      <td>NaN</td>\n",
       "      <td>NEW HAMPSHIRE INSURANCE CO</td>\n",
       "      <td>1A. PRIVATE</td>\n",
       "      <td>2. NON-COMP</td>\n",
       "      <td>ST. LAWRENCE</td>\n",
       "      <td>N</td>\n",
       "      <td>SYRACUSE</td>\n",
       "      <td>NaN</td>\n",
       "      <td>M</td>\n",
       "      <td>NaN</td>\n",
       "      <td>44.0</td>\n",
       "      <td>RETAIL TRADE</td>\n",
       "      <td>I</td>\n",
       "      <td>NaN</td>\n",
       "      <td>27.0</td>\n",
       "      <td>FROM LIQUID OR GREASE SPILLS</td>\n",
       "      <td>10.0</td>\n",
       "      <td>CONTUSION</td>\n",
       "      <td>62.0</td>\n",
       "      <td>BUTTOCKS</td>\n",
       "      <td>13662</td>\n",
       "      <td>0.0</td>\n",
       "      <td>Not Work Related</td>\n",
       "      <td>1.0</td>\n",
       "    </tr>\n",
       "    <tr>\n",
       "      <th>5393091</th>\n",
       "      <td>2019-08-30</td>\n",
       "      <td>46.0</td>\n",
       "      <td>N</td>\n",
       "      <td>2020-01-01</td>\n",
       "      <td>Y</td>\n",
       "      <td>1745.93</td>\n",
       "      <td>1973.0</td>\n",
       "      <td>2020-01-01</td>\n",
       "      <td>2020-01-14</td>\n",
       "      <td>ZURICH AMERICAN INSURANCE CO</td>\n",
       "      <td>1A. PRIVATE</td>\n",
       "      <td>4. TEMPORARY</td>\n",
       "      <td>WYOMING</td>\n",
       "      <td>N</td>\n",
       "      <td>ROCHESTER</td>\n",
       "      <td>2020-02-21</td>\n",
       "      <td>F</td>\n",
       "      <td>4.0</td>\n",
       "      <td>23.0</td>\n",
       "      <td>CONSTRUCTION</td>\n",
       "      <td>I</td>\n",
       "      <td>NaN</td>\n",
       "      <td>97.0</td>\n",
       "      <td>REPETITIVE MOTION</td>\n",
       "      <td>49.0</td>\n",
       "      <td>SPRAIN OR TEAR</td>\n",
       "      <td>38.0</td>\n",
       "      <td>SHOULDER(S)</td>\n",
       "      <td>14569</td>\n",
       "      <td>1.0</td>\n",
       "      <td>Not Work Related</td>\n",
       "      <td>4.0</td>\n",
       "    </tr>\n",
       "    <tr>\n",
       "      <th>5393889</th>\n",
       "      <td>2019-12-06</td>\n",
       "      <td>40.0</td>\n",
       "      <td>N</td>\n",
       "      <td>2020-01-01</td>\n",
       "      <td>N</td>\n",
       "      <td>1434.80</td>\n",
       "      <td>1979.0</td>\n",
       "      <td>2020-01-01</td>\n",
       "      <td>NaN</td>\n",
       "      <td>INDEMNITY INSURANCE CO OF</td>\n",
       "      <td>1A. PRIVATE</td>\n",
       "      <td>4. TEMPORARY</td>\n",
       "      <td>ORANGE</td>\n",
       "      <td>N</td>\n",
       "      <td>ALBANY</td>\n",
       "      <td>NaN</td>\n",
       "      <td>M</td>\n",
       "      <td>NaN</td>\n",
       "      <td>56.0</td>\n",
       "      <td>ADMINISTRATIVE AND SUPPORT AND WASTE MANAGEMEN...</td>\n",
       "      <td>II</td>\n",
       "      <td>NaN</td>\n",
       "      <td>79.0</td>\n",
       "      <td>OBJECT BEING LIFTED OR HANDLED</td>\n",
       "      <td>7.0</td>\n",
       "      <td>CONCUSSION</td>\n",
       "      <td>10.0</td>\n",
       "      <td>MULTIPLE HEAD INJURY</td>\n",
       "      <td>12589</td>\n",
       "      <td>0.0</td>\n",
       "      <td>Not Work Related</td>\n",
       "      <td>6.0</td>\n",
       "    </tr>\n",
       "  </tbody>\n",
       "</table>\n",
       "</div>"
      ],
      "text/plain": [
       "                 Accident Date  Age at Injury Alternative Dispute Resolution  \\\n",
       "Claim Identifier                                                               \n",
       "5393875             2019-12-30           31.0                              N   \n",
       "5393091             2019-08-30           46.0                              N   \n",
       "5393889             2019-12-06           40.0                              N   \n",
       "\n",
       "                 Assembly Date Attorney/Representative  Average Weekly Wage  \\\n",
       "Claim Identifier                                                              \n",
       "5393875             2020-01-01                       N                 0.00   \n",
       "5393091             2020-01-01                       Y              1745.93   \n",
       "5393889             2020-01-01                       N              1434.80   \n",
       "\n",
       "                  Birth Year    C-2 Date    C-3 Date  \\\n",
       "Claim Identifier                                       \n",
       "5393875               1988.0  2019-12-31         NaN   \n",
       "5393091               1973.0  2020-01-01  2020-01-14   \n",
       "5393889               1979.0  2020-01-01         NaN   \n",
       "\n",
       "                                  Carrier Name Carrier Type Claim Injury Type  \\\n",
       "Claim Identifier                                                                \n",
       "5393875             NEW HAMPSHIRE INSURANCE CO  1A. PRIVATE       2. NON-COMP   \n",
       "5393091           ZURICH AMERICAN INSURANCE CO  1A. PRIVATE      4. TEMPORARY   \n",
       "5393889              INDEMNITY INSURANCE CO OF  1A. PRIVATE      4. TEMPORARY   \n",
       "\n",
       "                 County of Injury COVID-19 Indicator District Name  \\\n",
       "Claim Identifier                                                     \n",
       "5393875              ST. LAWRENCE                  N      SYRACUSE   \n",
       "5393091                   WYOMING                  N     ROCHESTER   \n",
       "5393889                    ORANGE                  N        ALBANY   \n",
       "\n",
       "                 First Hearing Date Gender  IME-4 Count  Industry Code  \\\n",
       "Claim Identifier                                                         \n",
       "5393875                         NaN      M          NaN           44.0   \n",
       "5393091                  2020-02-21      F          4.0           23.0   \n",
       "5393889                         NaN      M          NaN           56.0   \n",
       "\n",
       "                                          Industry Code Description  \\\n",
       "Claim Identifier                                                      \n",
       "5393875                                                RETAIL TRADE   \n",
       "5393091                                                CONSTRUCTION   \n",
       "5393889           ADMINISTRATIVE AND SUPPORT AND WASTE MANAGEMEN...   \n",
       "\n",
       "                 Medical Fee Region  OIICS Nature of Injury Description  \\\n",
       "Claim Identifier                                                          \n",
       "5393875                           I                                 NaN   \n",
       "5393091                           I                                 NaN   \n",
       "5393889                          II                                 NaN   \n",
       "\n",
       "                  WCIO Cause of Injury Code WCIO Cause of Injury Description  \\\n",
       "Claim Identifier                                                               \n",
       "5393875                                27.0     FROM LIQUID OR GREASE SPILLS   \n",
       "5393091                                97.0                REPETITIVE MOTION   \n",
       "5393889                                79.0   OBJECT BEING LIFTED OR HANDLED   \n",
       "\n",
       "                  WCIO Nature of Injury Code  \\\n",
       "Claim Identifier                               \n",
       "5393875                                 10.0   \n",
       "5393091                                 49.0   \n",
       "5393889                                  7.0   \n",
       "\n",
       "                 WCIO Nature of Injury Description  WCIO Part Of Body Code  \\\n",
       "Claim Identifier                                                             \n",
       "5393875                                  CONTUSION                    62.0   \n",
       "5393091                             SPRAIN OR TEAR                    38.0   \n",
       "5393889                                 CONCUSSION                    10.0   \n",
       "\n",
       "                 WCIO Part Of Body Description Zip Code  Agreement Reached  \\\n",
       "Claim Identifier                                                             \n",
       "5393875                               BUTTOCKS    13662                0.0   \n",
       "5393091                            SHOULDER(S)    14569                1.0   \n",
       "5393889                   MULTIPLE HEAD INJURY    12589                0.0   \n",
       "\n",
       "                      WCB Decision  Number of Dependents  \n",
       "Claim Identifier                                          \n",
       "5393875           Not Work Related                   1.0  \n",
       "5393091           Not Work Related                   4.0  \n",
       "5393889           Not Work Related                   6.0  "
      ]
     },
     "execution_count": 15,
     "metadata": {},
     "output_type": "execute_result"
    }
   ],
   "source": [
    "user_input = pd.read_csv('./data/test_data.csv', index_col = 'Claim Identifier')\n",
    "\n",
    "# Display the first 3 rows of the training data\n",
    "user_input"
   ]
  },
  {
   "cell_type": "code",
   "execution_count": null,
   "id": "fefba973",
   "metadata": {},
   "outputs": [],
   "source": [
    "# List of columns to convert to datetime\n",
    "date_columns = ['Accident Date', 'Assembly Date', 'C-2 Date', 'C-3 Date', 'First Hearing Date']\n",
    "\n",
    "# Apply pd.to_datetime() to each column in the list for both df and test\n",
    "for col in date_columns:\n",
    "    user_input[col] = pd.to_datetime(user_input[col], errors='coerce')"
   ]
  },
  {
   "cell_type": "markdown",
   "id": "5b9d5072",
   "metadata": {},
   "source": [
    "## 3.2 Feature Engineering\n",
    "Feature engineering is the process of transforming raw data into meaningful features to improve machine learning model performance. Effective feature engineering helps enhance predictive accuracy, reduce overfitting, and optimize model outcomes. In this section, we will explore various techniques and their impact on improving machine learning models.\n",
    "\n",
    "<a href=\"#top\">Top &#129033;</a>"
   ]
  },
  {
   "cell_type": "markdown",
   "id": "5008d492",
   "metadata": {},
   "source": [
    "### 3.2.1 Class Grouping\n",
    "\n",
    "In this section we will attempt to group classes of existing features. These will later be encoded"
   ]
  },
  {
   "cell_type": "markdown",
   "id": "3a29e89b",
   "metadata": {},
   "source": [
    "**Carrier Type**\n",
    "\n",
    "DF contains 8 unique values, whereas test only contains 7. The difference is in '5C. SPECIAL FUND - POI CARRIER WCB MENANDS'. Knowing this, we decided to group all '5' categories into a single one: \n",
    "- '5. SPECIAL FUND'"
   ]
  },
  {
   "cell_type": "code",
   "execution_count": 208,
   "id": "b6e9bad5",
   "metadata": {
    "ExecuteTime": {
     "end_time": "2024-12-11T10:51:41.545478Z",
     "start_time": "2024-12-11T10:51:41.542429Z"
    }
   },
   "outputs": [],
   "source": [
    "mapping = {\n",
    "    '5D. SPECIAL FUND - UNKNOWN': '5. SPECIAL FUND OR UNKNOWN',\n",
    "    '5A. SPECIAL FUND - CONS. COMM. (SECT. 25-A)': '5. SPECIAL FUND OR UNKNOWN',\n",
    "    '5C. SPECIAL FUND - POI CARRIER WCB MENANDS': '5. SPECIAL FUND OR UNKNOWN',\n",
    "    'UNKNOWN': '5. SPECIAL FUND OR UNKNOWN'\n",
    "}"
   ]
  },
  {
   "cell_type": "code",
   "execution_count": 209,
   "id": "f5e6c056",
   "metadata": {
    "ExecuteTime": {
     "end_time": "2024-12-11T10:51:41.750701Z",
     "start_time": "2024-12-11T10:51:41.547807Z"
    }
   },
   "outputs": [],
   "source": [
    "user_input['Carrier Type'] = user_input['Carrier Type'].replace(mapping)"
   ]
  },
  {
   "cell_type": "markdown",
   "id": "6df40a5d",
   "metadata": {},
   "source": [
    "**Gender**\n",
    "\n",
    "As the number of 'X' and 'U' genders is very small compared with the others, they are going to be grouped and encoded as follows.\n",
    "- M - 0\n",
    "- F - 1\n",
    "- U & X - U/X - 2"
   ]
  },
  {
   "cell_type": "code",
   "execution_count": 211,
   "id": "2e8f0b9e",
   "metadata": {
    "ExecuteTime": {
     "end_time": "2024-12-11T10:51:41.862840Z",
     "start_time": "2024-12-11T10:51:41.817400Z"
    }
   },
   "outputs": [],
   "source": [
    "mapping = {  \n",
    "    'M': 'M',\n",
    "    'F': 'F',\n",
    "    'U': 'U/X',  \n",
    "    'X': 'U/X'\n",
    "}\n",
    "\n",
    "user_input['Gender'] = user_input['Gender'].map(mapping)  "
   ]
  },
  {
   "cell_type": "markdown",
   "id": "55961969",
   "metadata": {},
   "source": [
    "Apply Ordinal Encoding"
   ]
  },
  {
   "cell_type": "code",
   "execution_count": 212,
   "id": "81fcd883",
   "metadata": {
    "ExecuteTime": {
     "end_time": "2024-12-11T10:51:42.218921Z",
     "start_time": "2024-12-11T10:51:41.865216Z"
    }
   },
   "outputs": [],
   "source": [
    "user_input['Gender Enc'] = user_input['Gender'].replace({'M': 0, 'F': 1, 'U/X': 2})"
   ]
  },
  {
   "cell_type": "markdown",
   "id": "33745348",
   "metadata": {},
   "source": [
    "### 3.2.2 Feature Creation\n",
    "\n",
    "<a href=\"#top\">Top &#129033;</a>"
   ]
  },
  {
   "cell_type": "markdown",
   "id": "37b53eea",
   "metadata": {},
   "source": [
    "**Date Columns**\n",
    "\n",
    "For each date column, the Year, Month, Day and Week Day (0=Monday, 6=Sunday) will be extracted."
   ]
  },
  {
   "cell_type": "code",
   "execution_count": 213,
   "id": "2f20acd5",
   "metadata": {
    "ExecuteTime": {
     "end_time": "2024-12-11T10:51:42.664937Z",
     "start_time": "2024-12-11T10:51:42.222599Z"
    }
   },
   "outputs": [],
   "source": [
    "for column in df.columns:\n",
    "    # Check if the column is a datetime type\n",
    "    if pd.api.types.is_datetime64_any_dtype(user_input[column]) and column not in ['C-3 Date', 'First Hearing Date']:\n",
    "        # Extract year, month, and day user_input create new columns\n",
    "        user_input[f'{column} Year'] = df[column].dt.year\n",
    "        user_input[f'{column} Month'] = user_input[column].dt.month\n",
    "        user_input[f'{column} Day'] = user_input[column].dt.day\n",
    "        user_input[f'{column} Day of Week'] = user_input[column].dt.weekday "
   ]
  },
  {
   "cell_type": "markdown",
   "id": "9ba03297",
   "metadata": {},
   "source": [
    "**TIME BETWEEN**\n",
    "\n",
    "To compute these variables, we will assume the following timeline:\n",
    "1. Accident happens (Accident Date)\n",
    "2. C-2 form is filled and received (C-2 Date)\n",
    "3. The claim is Assembled (Assembly Date)"
   ]
  },
  {
   "cell_type": "markdown",
   "id": "660f42cc",
   "metadata": {},
   "source": [
    "**Time Between Accident and Assembly**"
   ]
  },
  {
   "cell_type": "code",
   "execution_count": 214,
   "id": "db229c06",
   "metadata": {
    "ExecuteTime": {
     "end_time": "2024-12-11T10:51:43.699782Z",
     "start_time": "2024-12-11T10:51:43.664689Z"
    }
   },
   "outputs": [],
   "source": [
    "user_input['Accident to Assembly Time'] = (user_input['Assembly Date'] - user_input['Accident Date']).dt.days"
   ]
  },
  {
   "cell_type": "markdown",
   "id": "60fd0497",
   "metadata": {},
   "source": [
    "**Time Between C-2 Receipt and Assembly**"
   ]
  },
  {
   "cell_type": "code",
   "execution_count": 215,
   "id": "d8d1af4d",
   "metadata": {
    "ExecuteTime": {
     "end_time": "2024-12-11T10:51:44.175674Z",
     "start_time": "2024-12-11T10:51:44.138358Z"
    }
   },
   "outputs": [],
   "source": [
    "user_input['Assembly to C-2 Time'] = (user_input['Assembly Date'] - user_input['C-2 Date']).dt.days\n"
   ]
  },
  {
   "cell_type": "markdown",
   "id": "eb07929b",
   "metadata": {},
   "source": [
    "**Time Between Accident and C-2 Receipt**"
   ]
  },
  {
   "cell_type": "code",
   "execution_count": 216,
   "id": "14bdd8a9",
   "metadata": {
    "ExecuteTime": {
     "end_time": "2024-12-11T10:51:44.599463Z",
     "start_time": "2024-12-11T10:51:44.567285Z"
    }
   },
   "outputs": [],
   "source": [
    "user_input['Accident to C-2 Time'] = (user_input['C-2 Date'] - user_input['Accident Date']).dt.days"
   ]
  },
  {
   "cell_type": "markdown",
   "id": "e6ef1f31",
   "metadata": {
    "ExecuteTime": {
     "end_time": "2024-11-22T16:21:26.884654Z",
     "start_time": "2024-11-22T16:21:26.747852Z"
    }
   },
   "source": [
    "**WCIO Codes**\n",
    "\n",
    "All WCIO codes will be joined in a column. Before joining them, they will be transformed into integers. For this to be possible, missing values will be filled with a specific code, 0, which until now does not exist in any of the mentioned columns. We also needed to transform **WCIO Part Of Body Code** into the absolute value, since there was a negative code (-9). Before doing so, we ensured there was not any code with the same absolute number."
   ]
  },
  {
   "cell_type": "code",
   "execution_count": 217,
   "id": "08c3a255",
   "metadata": {
    "ExecuteTime": {
     "end_time": "2024-12-11T10:51:44.983251Z",
     "start_time": "2024-12-11T10:51:44.972084Z"
    }
   },
   "outputs": [],
   "source": [
    "user_input['WCIO Part Of Body Code'] = user_input['WCIO Part Of Body Code'].abs()"
   ]
  },
  {
   "cell_type": "code",
   "execution_count": 218,
   "id": "bbc3f4e9",
   "metadata": {
    "ExecuteTime": {
     "end_time": "2024-12-11T10:51:49.962787Z",
     "start_time": "2024-12-11T10:51:45.169050Z"
    },
    "scrolled": true
   },
   "outputs": [],
   "source": [
    "columns_to_join = [\n",
    "    'WCIO Cause of Injury Code',\n",
    "    'WCIO Nature of Injury Code',\n",
    "    'WCIO Part Of Body Code'\n",
    "]\n",
    "\n",
    "user_input[columns_to_join] = user_input[columns_to_join].fillna(0).astype(int)\n",
    "\n",
    "user_input['WCIO Codes'] = user_input[columns_to_join].astype(str).agg(''.join, axis=1).astype(int)"
   ]
  },
  {
   "cell_type": "markdown",
   "id": "5efbb996",
   "metadata": {},
   "source": [
    "**Carrier Name**\n",
    "\n",
    "Create a binary variable `Insurance` that identifies Carrier Names that include the initials \"ins\"."
   ]
  },
  {
   "cell_type": "code",
   "execution_count": 219,
   "id": "dc178bd9",
   "metadata": {
    "ExecuteTime": {
     "end_time": "2024-12-11T10:51:53.377293Z",
     "start_time": "2024-12-11T10:51:52.765827Z"
    }
   },
   "outputs": [],
   "source": [
    "user_input['Insurance'] = user_input['Carrier Name'].str.contains('ins', case=False, na=False).astype(int)"
   ]
  },
  {
   "cell_type": "markdown",
   "id": "decf52c2",
   "metadata": {},
   "source": [
    "**Zip Code**\n",
    "\n",
    "Will be transformed into a Zip Code Valid, which evaluates the validity of the Zip Code:\n",
    "- 2 for missing values\n",
    "- 0 for a valid numeric value\n",
    "- 1 for non-numeric zip codes"
   ]
  },
  {
   "cell_type": "code",
   "execution_count": 220,
   "id": "536aaac3",
   "metadata": {
    "ExecuteTime": {
     "end_time": "2024-12-11T10:51:54.105376Z",
     "start_time": "2024-12-11T10:51:53.539150Z"
    }
   },
   "outputs": [],
   "source": [
    "# Create a new column 'Zip Code Valid' to flag the validity of the 'Zip Code' field\n",
    "user_input['Zip Code Valid'] = user_input['Zip Code'].apply(\n",
    "    lambda x: 2 if pd.isna(x)          \n",
    "    else (1 if not str(x).isnumeric()   \n",
    "          else 0)                       \n",
    ")"
   ]
  },
  {
   "cell_type": "markdown",
   "id": "7cbf4fe5",
   "metadata": {},
   "source": [
    "**Industry Code Description**\n",
    "\n",
    "The descriptions of the Industries will be grouped by sectors, as follows:\n",
    "- Public Services / Government:\n",
    "    - Public Administration \n",
    "    - Health Care and Social Assistance \n",
    "    - Educational Services \n",
    "    - Arts, Entertainment, and Recreation \n",
    "- Business Services:\n",
    "    - Professional, Scientific, and Technical Services \n",
    "    - Administrative and Support and Waste Management and Remediation\n",
    "    - Information \n",
    "    - Management of Companies and Enterprises \n",
    "    - Finance and Insurance \n",
    "- Retail and Wholesale:\n",
    "    - Retail Trade\n",
    "    - Wholesale Trade \n",
    "    - Accommodation and Food Services \n",
    "- Manufacturing and Construction:\n",
    "    - Manufacturing \n",
    "    - Construction \n",
    "- Transportation:\n",
    "    - Transportation and Warehousing \n",
    "- Agriculture and Natural Resources:\n",
    "    - Agriculture, Forestry, Fishing, and Hunting \n",
    "    - Mining\n",
    "- Utilities \n",
    "    - Utilities\n",
    "- Other Services\n",
    "    - Other Services (Except Public Services)\n",
    "\n",
    "    \n",
    "Then, they will be encoded.\n"
   ]
  },
  {
   "cell_type": "code",
   "execution_count": 221,
   "id": "45147834",
   "metadata": {
    "ExecuteTime": {
     "end_time": "2024-12-11T10:51:54.716424Z",
     "start_time": "2024-12-11T10:51:54.487054Z"
    }
   },
   "outputs": [],
   "source": [
    "user_input['Industry Sector'] = user_input['Industry Code Description'].apply(u.group_industry)"
   ]
  },
  {
   "cell_type": "markdown",
   "id": "b3bd5f7b",
   "metadata": {},
   "source": [
    "**Age Groups**\n",
    "\n",
    "Creating groups for age as follows:\n",
    "- Minors (0): Ages 0-17\n",
    "- Adults (1): Ages 18-64\n",
    "- Seniors (2): Ages 65+"
   ]
  },
  {
   "cell_type": "code",
   "execution_count": 222,
   "id": "8442f947",
   "metadata": {
    "ExecuteTime": {
     "end_time": "2024-12-11T10:51:55.603226Z",
     "start_time": "2024-12-11T10:51:55.577612Z"
    }
   },
   "outputs": [],
   "source": [
    "bins = [-1, 17, 64, 117]\n",
    "labels = [0, 1, 2]\n",
    "\n",
    "user_input['Age Group'] = pd.cut(user_input['Age at Injury'], \n",
    "                                 bins=bins, labels=labels, right=True)"
   ]
  },
  {
   "cell_type": "markdown",
   "id": "dbe4dfd7",
   "metadata": {},
   "source": [
    "Drop treated and unnecessary columns before continuing."
   ]
  },
  {
   "cell_type": "code",
   "execution_count": 223,
   "id": "8d936e79",
   "metadata": {
    "ExecuteTime": {
     "end_time": "2024-12-11T10:51:57.332422Z",
     "start_time": "2024-12-11T10:51:57.329698Z"
    }
   },
   "outputs": [],
   "source": [
    "drop = ['Accident Date', 'Assembly Date', 'Industry Code Description',\n",
    "        'C-2 Date', 'Zip Code', 'WCIO Cause of Injury Description',\n",
    "        'WCIO Nature of Injury Description', 'WCIO Part Of Body Description']"
   ]
  },
  {
   "cell_type": "code",
   "execution_count": 224,
   "id": "e6c0a614",
   "metadata": {
    "ExecuteTime": {
     "end_time": "2024-12-11T10:51:58.587047Z",
     "start_time": "2024-12-11T10:51:58.295793Z"
    }
   },
   "outputs": [],
   "source": [
    "user_input.drop(columns = drop, axis = 1, inplace = True)"
   ]
  },
  {
   "cell_type": "markdown",
   "id": "607ec572",
   "metadata": {},
   "source": [
    "** ** \n",
    "\n",
    "**<center>END NOTEBOOK 01<center>**"
   ]
  },
  {
   "cell_type": "code",
   "execution_count": null,
   "id": "174d3fa5",
   "metadata": {},
   "outputs": [],
   "source": [
    "df = pd.read_csv('./data/train_data_EDA.csv', index_col = 'Claim Identifier')"
   ]
  },
  {
   "cell_type": "markdown",
   "id": "1ebf14de",
   "metadata": {},
   "source": [
    "# 2. Train-Test Split\n",
    "The train-test split is a crucial technique used to assess model performance by dividing the dataset into training and testing subsets. This ensures that the model is evaluated on unseen data, helping to prevent overfitting and providing an unbiased performance estimate. \n",
    "\n",
    "<a href=\"#top\">Top &#129033;</a>"
   ]
  },
  {
   "cell_type": "markdown",
   "id": "9f494a4f",
   "metadata": {},
   "source": [
    "**Holdout Method**"
   ]
  },
  {
   "cell_type": "code",
   "execution_count": 3,
   "id": "940241ad",
   "metadata": {
    "ExecuteTime": {
     "end_time": "2024-12-11T22:20:27.927313Z",
     "start_time": "2024-12-11T22:20:27.765511Z"
    }
   },
   "outputs": [],
   "source": [
    "# Split the DataFrame into features (X) and target variable (y)\n",
    "X = df.drop('Claim Injury Type', axis=1) \n",
    "y = df['Claim Injury Type']  "
   ]
  },
  {
   "cell_type": "code",
   "execution_count": 4,
   "id": "6911c19d",
   "metadata": {
    "ExecuteTime": {
     "end_time": "2024-12-11T22:20:28.546954Z",
     "start_time": "2024-12-11T22:20:27.931495Z"
    }
   },
   "outputs": [],
   "source": [
    "# Split the dataset into training and validation sets\n",
    "X_train, X_val, y_train, y_val = train_test_split(X, y, \n",
    "                                                    test_size=0.2, \n",
    "                                                    random_state=42,\n",
    "                                                    stratify = y) \n"
   ]
  },
  {
   "cell_type": "markdown",
   "id": "49afdbfb",
   "metadata": {},
   "source": [
    "## 2.1 Feature Engineering\n",
    "\n",
    "<a href=\"#top\">Top &#129033;</a>"
   ]
  },
  {
   "cell_type": "markdown",
   "id": "7556940c",
   "metadata": {},
   "source": [
    "### 2.1.1 Encoding\n",
    "\n",
    "Encoding transforms categorical data into numerical format for use in machine learning models. For this section, several encoders were considered:\n",
    "- **One Hot Encoding** -  turns a variable that is stored in a column into dummy variables stored over multiple columns and represented as 0s and 1s\n",
    "- **Frequency Encoding** - replaces the categories by with their proportion in the dataset\n",
    "- **Count Encoding** - replaces the categories by the number of times they appear in the dataset \n",
    "- **Manual Mapping Encoding** - manually attribute values to each category"
   ]
  },
  {
   "cell_type": "markdown",
   "id": "2830ac54",
   "metadata": {},
   "source": [
    "**Alternative Dispute Resolution**\n",
    "\n",
    "Knowing that 'N' is by far the most common category, and that 'U' only appears 5 times in DF data and 1 time in the test data, we decided to join 'U' and 'Y' into 'Y/U', and encode the variable as:\n",
    "- 0 - N\n",
    "- 1 - Y/U"
   ]
  },
  {
   "cell_type": "code",
   "execution_count": 5,
   "id": "a48a5a26",
   "metadata": {
    "ExecuteTime": {
     "end_time": "2024-12-11T22:20:28.610094Z",
     "start_time": "2024-12-11T22:20:28.549813Z"
    }
   },
   "outputs": [
    {
     "name": "stdout",
     "output_type": "stream",
     "text": [
      "Alternative Dispute Resolution\n",
      "N    457147\n",
      "Y      2068\n",
      "U         5\n",
      "Name: count, dtype: int64\n",
      " \n",
      "Alternative Dispute Resolution\n",
      "N    386314\n",
      "Y      1660\n",
      "U         1\n",
      "Name: count, dtype: int64\n"
     ]
    }
   ],
   "source": [
    "print(X_train['Alternative Dispute Resolution'].value_counts())\n",
    "print(' ')\n",
    "print(test['Alternative Dispute Resolution'].value_counts())"
   ]
  },
  {
   "cell_type": "code",
   "execution_count": 6,
   "id": "a85a498f",
   "metadata": {
    "ExecuteTime": {
     "end_time": "2024-12-11T22:20:29.101494Z",
     "start_time": "2024-12-11T22:20:28.612529Z"
    }
   },
   "outputs": [],
   "source": [
    "X_train['Alternative Dispute Resolution Bin'] = X_train['Alternative Dispute Resolution'].replace({'N': 0, 'Y': 1, 'U': 1})\n",
    "X_val['Alternative Dispute Resolution Bin'] = X_val['Alternative Dispute Resolution'].replace({'N': 0, 'Y': 1, 'U': 1})\n",
    "test['Alternative Dispute Resolution Bin'] = test['Alternative Dispute Resolution'].replace({'N': 0, 'Y': 1, 'U': 1})"
   ]
  },
  {
   "cell_type": "markdown",
   "id": "295f9a46",
   "metadata": {},
   "source": [
    "**Attorney/Representative**\n",
    "\n",
    "As this variable only has 2 categories, they will be encoded as follows:\n",
    "- N - 0\n",
    "- Y - 1"
   ]
  },
  {
   "cell_type": "code",
   "execution_count": 7,
   "id": "e7ca1869",
   "metadata": {
    "ExecuteTime": {
     "end_time": "2024-12-11T22:20:29.164065Z",
     "start_time": "2024-12-11T22:20:29.104268Z"
    }
   },
   "outputs": [
    {
     "name": "stdout",
     "output_type": "stream",
     "text": [
      "Attorney/Representative\n",
      "N    313769\n",
      "Y    145451\n",
      "Name: count, dtype: int64\n",
      " \n",
      "Attorney/Representative\n",
      "N    306476\n",
      "Y     81499\n",
      "Name: count, dtype: int64\n"
     ]
    }
   ],
   "source": [
    "print(X_train['Attorney/Representative'].value_counts())\n",
    "print(' ')\n",
    "print(test['Attorney/Representative'].value_counts())"
   ]
  },
  {
   "cell_type": "code",
   "execution_count": 8,
   "id": "5da3884c",
   "metadata": {
    "ExecuteTime": {
     "end_time": "2024-12-11T22:20:29.544354Z",
     "start_time": "2024-12-11T22:20:29.166593Z"
    }
   },
   "outputs": [],
   "source": [
    "X_train['Attorney/Representative Bin'] = X_train['Attorney/Representative'].replace({'N': 0, 'Y': 1})\n",
    "X_val['Attorney/Representative Bin'] = X_val['Attorney/Representative'].replace({'N': 0, 'Y': 1})\n",
    "test['Attorney/Representative Bin'] = test['Attorney/Representative'].replace({'N': 0, 'Y': 1})"
   ]
  },
  {
   "cell_type": "markdown",
   "id": "cb654b3a",
   "metadata": {},
   "source": [
    "**Carrier Name**\n",
    "\n",
    "As Carrier name has a considerable amount of unique values, it will be encoded using Count Encoder.\n",
    "\n",
    "We will start by analysing the common Carriers between train and test sets"
   ]
  },
  {
   "cell_type": "code",
   "execution_count": 9,
   "id": "a782f58b",
   "metadata": {
    "ExecuteTime": {
     "end_time": "2024-12-11T22:20:29.649065Z",
     "start_time": "2024-12-11T22:20:29.546941Z"
    }
   },
   "outputs": [],
   "source": [
    "train_carriers = set(X_train['Carrier Name'].unique())\n",
    "test_carriers = set(test['Carrier Name'].unique())\n",
    "\n",
    "common_categories = train_carriers.intersection(test_carriers)"
   ]
  },
  {
   "cell_type": "markdown",
   "id": "aae4d488",
   "metadata": {},
   "source": [
    "Then map the common categories to an index"
   ]
  },
  {
   "cell_type": "code",
   "execution_count": 10,
   "id": "ae700902",
   "metadata": {
    "ExecuteTime": {
     "end_time": "2024-12-11T22:20:29.659747Z",
     "start_time": "2024-12-11T22:20:29.655923Z"
    }
   },
   "outputs": [],
   "source": [
    "common_category_map = {category: idx + 1 for idx, \n",
    "                       category in enumerate(common_categories)}"
   ]
  },
  {
   "cell_type": "markdown",
   "id": "8928c5aa",
   "metadata": {},
   "source": [
    "Fill the non-common categories with 0"
   ]
  },
  {
   "cell_type": "code",
   "execution_count": 11,
   "id": "f78304ed",
   "metadata": {
    "ExecuteTime": {
     "end_time": "2024-12-11T22:20:29.816329Z",
     "start_time": "2024-12-11T22:20:29.663146Z"
    }
   },
   "outputs": [],
   "source": [
    "X_train['Carrier Name Enc'] = X_train['Carrier Name'].map(common_category_map).fillna(0).astype(int)\n",
    "X_val['Carrier Name Enc'] = X_val['Carrier Name'].map(common_category_map).fillna(0).astype(int)\n",
    "test['Carrier Name Enc'] = test['Carrier Name'].map(common_category_map).fillna(0).astype(int)"
   ]
  },
  {
   "cell_type": "markdown",
   "id": "89169af1",
   "metadata": {},
   "source": [
    "Encode de common categores using *Count Encoding*"
   ]
  },
  {
   "cell_type": "code",
   "execution_count": 12,
   "id": "c81ea978",
   "metadata": {
    "ExecuteTime": {
     "end_time": "2024-12-11T22:20:29.839042Z",
     "start_time": "2024-12-11T22:20:29.818905Z"
    },
    "scrolled": true
   },
   "outputs": [],
   "source": [
    "X_train, X_val, test = p.encode(X_train, X_val, test, 'Carrier Name Enc', 'count')"
   ]
  },
  {
   "cell_type": "markdown",
   "id": "7f32e556",
   "metadata": {},
   "source": [
    "**Carrier Type**\n",
    "\n",
    "After grouping the *5.* categories we decided to encode them in 2 distinct ways, and choose the best option in feature selection.\n",
    "\n",
    "Starting with *Count Encoding*"
   ]
  },
  {
   "cell_type": "code",
   "execution_count": 13,
   "id": "ec635686",
   "metadata": {
    "ExecuteTime": {
     "end_time": "2024-12-11T22:20:29.970271Z",
     "start_time": "2024-12-11T22:20:29.841355Z"
    }
   },
   "outputs": [],
   "source": [
    "X_train, X_val, test = p.encode(X_train, X_val, test, 'Carrier Type', 'count')"
   ]
  },
  {
   "cell_type": "markdown",
   "id": "47a0d27b",
   "metadata": {},
   "source": [
    "And *One-Hot-Encoding*"
   ]
  },
  {
   "cell_type": "code",
   "execution_count": 14,
   "id": "ad799040",
   "metadata": {
    "ExecuteTime": {
     "end_time": "2024-12-11T22:20:30.856044Z",
     "start_time": "2024-12-11T22:20:29.973006Z"
    }
   },
   "outputs": [],
   "source": [
    "X_train, X_val, test = p.encode(X_train, X_val, test, 'Carrier Type', 'OHE')"
   ]
  },
  {
   "cell_type": "markdown",
   "id": "15e24ed4",
   "metadata": {},
   "source": [
    "**County of Injury**\n",
    "\n",
    "As County of Injury has a considerable amount of unique values, it will be encoded using Count Encoder."
   ]
  },
  {
   "cell_type": "code",
   "execution_count": 15,
   "id": "98342091",
   "metadata": {
    "ExecuteTime": {
     "end_time": "2024-12-11T22:20:30.986725Z",
     "start_time": "2024-12-11T22:20:30.858350Z"
    }
   },
   "outputs": [],
   "source": [
    "X_train, X_val, test = p.encode(X_train, X_val, test, 'County of Injury', 'count')"
   ]
  },
  {
   "cell_type": "markdown",
   "id": "f62e7f0c",
   "metadata": {},
   "source": [
    "**COVID-19 Indicator**\n",
    "\n",
    "As this variable only has 2 categories, they will be encoded as follows:\n",
    "- N - 0\n",
    "- Y - 1"
   ]
  },
  {
   "cell_type": "code",
   "execution_count": 16,
   "id": "d7ccd656",
   "metadata": {
    "ExecuteTime": {
     "end_time": "2024-12-11T22:20:31.048315Z",
     "start_time": "2024-12-11T22:20:30.989119Z"
    }
   },
   "outputs": [
    {
     "name": "stdout",
     "output_type": "stream",
     "text": [
      "COVID-19 Indicator\n",
      "N    437124\n",
      "Y     22096\n",
      "Name: count, dtype: int64\n",
      " \n",
      "COVID-19 Indicator\n",
      "N    385434\n",
      "Y      2541\n",
      "Name: count, dtype: int64\n"
     ]
    }
   ],
   "source": [
    "print(X_train['COVID-19 Indicator'].value_counts())\n",
    "print(' ')\n",
    "print(test['COVID-19 Indicator'].value_counts())"
   ]
  },
  {
   "cell_type": "code",
   "execution_count": 17,
   "id": "1b92603f",
   "metadata": {
    "ExecuteTime": {
     "end_time": "2024-12-11T22:20:31.419721Z",
     "start_time": "2024-12-11T22:20:31.050898Z"
    }
   },
   "outputs": [],
   "source": [
    "X_train['COVID-19 Indicator Enc'] = X_train['COVID-19 Indicator'].replace({'N': 0, 'Y': 1})\n",
    "X_val['COVID-19 Indicator Enc'] = X_val['COVID-19 Indicator'].replace({'N': 0, 'Y': 1})\n",
    "test['COVID-19 Indicator Enc'] = test['COVID-19 Indicator'].replace({'N': 0, 'Y': 1})"
   ]
  },
  {
   "cell_type": "markdown",
   "id": "3f108c6d",
   "metadata": {},
   "source": [
    "**District Name**\n",
    "\n",
    "As this variable has 8 unique values, Count Encoder will be used."
   ]
  },
  {
   "cell_type": "code",
   "execution_count": 18,
   "id": "c9029172",
   "metadata": {
    "ExecuteTime": {
     "end_time": "2024-12-11T22:20:31.508108Z",
     "start_time": "2024-12-11T22:20:31.421960Z"
    }
   },
   "outputs": [
    {
     "name": "stdout",
     "output_type": "stream",
     "text": [
      "District Name\n",
      "NYC           216769\n",
      "ALBANY         68742\n",
      "HAUPPAUGE      48555\n",
      "BUFFALO        36490\n",
      "SYRACUSE       35811\n",
      "ROCHESTER      32225\n",
      "BINGHAMTON     17439\n",
      "STATEWIDE       3189\n",
      "Name: count, dtype: int64\n",
      " \n",
      "District Name\n",
      "NYC           187972\n",
      "ALBANY         56500\n",
      "HAUPPAUGE      36656\n",
      "BUFFALO        31481\n",
      "SYRACUSE       29537\n",
      "ROCHESTER      28073\n",
      "BINGHAMTON     15382\n",
      "STATEWIDE       2374\n",
      "Name: count, dtype: int64\n"
     ]
    }
   ],
   "source": [
    "print(X_train['District Name'].value_counts())\n",
    "print(' ')\n",
    "print(test['District Name'].value_counts())"
   ]
  },
  {
   "cell_type": "code",
   "execution_count": 19,
   "id": "cce45ca5",
   "metadata": {
    "ExecuteTime": {
     "end_time": "2024-12-11T22:20:31.635720Z",
     "start_time": "2024-12-11T22:20:31.510678Z"
    }
   },
   "outputs": [],
   "source": [
    "X_train, X_val, test = p.encode(X_train, X_val, test, 'District Name', 'count')"
   ]
  },
  {
   "cell_type": "markdown",
   "id": "8f4511f5",
   "metadata": {},
   "source": [
    "**Gender**\n",
    "\n",
    "Since after grouping we only have 3 categories, we will also use *One-Hot-Encoding* and decide which is better in feature selection."
   ]
  },
  {
   "cell_type": "code",
   "execution_count": 20,
   "id": "4be96a3d",
   "metadata": {
    "ExecuteTime": {
     "end_time": "2024-12-11T22:20:32.564344Z",
     "start_time": "2024-12-11T22:20:31.638304Z"
    }
   },
   "outputs": [],
   "source": [
    "X_train, X_val, test = p.encode(X_train, X_val, test, 'Gender', 'OHE')"
   ]
  },
  {
   "cell_type": "markdown",
   "id": "3b2f7186",
   "metadata": {},
   "source": [
    "**Medical Fee Region**\n",
    "\n",
    "Even though this variable only contains 5 unique values, it is not clear whether there is an order between them or not. Therefore we will use *Count Encoding*"
   ]
  },
  {
   "cell_type": "code",
   "execution_count": 21,
   "id": "32d24b0b",
   "metadata": {
    "ExecuteTime": {
     "end_time": "2024-12-11T22:20:32.652917Z",
     "start_time": "2024-12-11T22:20:32.566846Z"
    }
   },
   "outputs": [
    {
     "name": "stdout",
     "output_type": "stream",
     "text": [
      "Medical Fee Region\n",
      "IV     265981\n",
      "I      135885\n",
      "II      85033\n",
      "III     53654\n",
      "UK      33472\n",
      "Name: count, dtype: int64\n",
      " \n",
      "Medical Fee Region\n",
      "IV     182276\n",
      "I       91300\n",
      "II      58743\n",
      "III     34679\n",
      "UK      20977\n",
      "Name: count, dtype: int64\n"
     ]
    }
   ],
   "source": [
    "print(df['Medical Fee Region'].value_counts())\n",
    "print(' ')\n",
    "print(test['Medical Fee Region'].value_counts())"
   ]
  },
  {
   "cell_type": "code",
   "execution_count": 22,
   "id": "3846d104",
   "metadata": {
    "ExecuteTime": {
     "end_time": "2024-12-11T22:20:32.772895Z",
     "start_time": "2024-12-11T22:20:32.655601Z"
    }
   },
   "outputs": [],
   "source": [
    "X_train, X_val, test = p.encode(X_train, X_val, test, 'Medical Fee Region', 'count')"
   ]
  },
  {
   "cell_type": "markdown",
   "id": "9f0857dd",
   "metadata": {},
   "source": [
    "**Industry Sector**\n",
    "\n",
    "Since it contains too many categories to use OHE, we will use *Count Encoding*"
   ]
  },
  {
   "cell_type": "code",
   "execution_count": 23,
   "id": "aaea1e74",
   "metadata": {
    "ExecuteTime": {
     "end_time": "2024-12-11T22:20:32.911005Z",
     "start_time": "2024-12-11T22:20:32.775912Z"
    }
   },
   "outputs": [],
   "source": [
    "X_train, X_val, test = p.encode(X_train, X_val, test, 'Industry Sector', 'count')"
   ]
  },
  {
   "cell_type": "markdown",
   "id": "bc226fb2",
   "metadata": {},
   "source": [
    "Remove Encoded Variables"
   ]
  },
  {
   "cell_type": "code",
   "execution_count": 24,
   "id": "d25c53bd",
   "metadata": {
    "ExecuteTime": {
     "end_time": "2024-12-11T22:20:32.918447Z",
     "start_time": "2024-12-11T22:20:32.914232Z"
    }
   },
   "outputs": [],
   "source": [
    "drop = ['Alternative Dispute Resolution', 'Attorney/Representative', 'Carrier Type', 'County of Injury',\n",
    "        'COVID-19 Indicator', 'District Name', 'Gender', 'Carrier Name',\n",
    "        'Medical Fee Region', 'Industry Sector']"
   ]
  },
  {
   "cell_type": "code",
   "execution_count": 25,
   "id": "540b1cd4",
   "metadata": {
    "ExecuteTime": {
     "end_time": "2024-12-11T22:20:33.188279Z",
     "start_time": "2024-12-11T22:20:32.921589Z"
    }
   },
   "outputs": [],
   "source": [
    "X_train.drop(columns = drop, axis = 1, inplace = True)\n",
    "X_val.drop(columns = drop, axis = 1, inplace = True)\n",
    "test.drop(columns = drop, axis = 1, inplace = True)"
   ]
  },
  {
   "cell_type": "markdown",
   "id": "4381807d",
   "metadata": {},
   "source": [
    "# 2.2 Missing Values\n",
    "\n",
    "<a href=\"#top\">Top &#129033;</a>"
   ]
  },
  {
   "cell_type": "code",
   "execution_count": 30,
   "id": "c2065b78",
   "metadata": {
    "ExecuteTime": {
     "end_time": "2024-12-12T10:47:39.844819Z",
     "start_time": "2024-12-12T10:47:39.792869Z"
    },
    "scrolled": true
   },
   "outputs": [
    {
     "data": {
      "text/plain": [
       "Age at Injury                              0\n",
       "Average Weekly Wage                        0\n",
       "Birth Year                                 0\n",
       "IME-4 Count                                0\n",
       "Industry Code                              0\n",
       "WCIO Cause of Injury Code                  0\n",
       "WCIO Nature of Injury Code                 0\n",
       "WCIO Part Of Body Code                     0\n",
       "Number of Dependents                       0\n",
       "Gender Enc                                 0\n",
       "Accident Date Year                         0\n",
       "Accident Date Month                        0\n",
       "Accident Date Day                          0\n",
       "Accident Date Day of Week                  0\n",
       "Assembly Date Year                         0\n",
       "Assembly Date Month                        0\n",
       "Assembly Date Day                          0\n",
       "Assembly Date Day of Week                  0\n",
       "C-2 Date Year                              0\n",
       "C-2 Date Month                             0\n",
       "C-2 Date Day                               0\n",
       "C-2 Date Day of Week                       0\n",
       "Accident to Assembly Time                  0\n",
       "Assembly to C-2 Time                       0\n",
       "Accident to C-2 Time                       0\n",
       "WCIO Codes                                 0\n",
       "Insurance                                  0\n",
       "Zip Code Valid                             0\n",
       "Age Group                                  0\n",
       "Alternative Dispute Resolution Bin         0\n",
       "Attorney/Representative Bin                0\n",
       "Carrier Name Enc                           0\n",
       "Carrier Name Enc Enc                       0\n",
       "Carrier Type Enc                           0\n",
       "Carrier Type_2A. SIF                       0\n",
       "Carrier Type_3A. SELF PUBLIC               0\n",
       "Carrier Type_4A. SELF PRIVATE              0\n",
       "Carrier Type_5. SPECIAL FUND OR UNKNOWN    0\n",
       "County of Injury Enc                       0\n",
       "COVID-19 Indicator Enc                     0\n",
       "District Name Enc                          0\n",
       "Gender_M                                   0\n",
       "Gender_U/X                                 0\n",
       "Medical Fee Region Enc                     0\n",
       "Industry Sector Enc                        0\n",
       "C-3 Date Binary                            0\n",
       "First Hearing Date Binary                  0\n",
       "Wage to Age Ratio                          0\n",
       "Average Weekly Wage Sqrt                   0\n",
       "IME-4 Count Log                            0\n",
       "IME-4 Count Double Log                     0\n",
       "dtype: int64"
      ]
     },
     "execution_count": 30,
     "metadata": {},
     "output_type": "execute_result"
    }
   ],
   "source": [
    "X_train.isna().sum()"
   ]
  },
  {
   "cell_type": "markdown",
   "id": "8ae8e32d",
   "metadata": {},
   "source": [
    "### 2.2.1 Dealing with Missing Values\n",
    "\n",
    "In this subsection we will use the existence of missing values to create new features"
   ]
  },
  {
   "cell_type": "markdown",
   "id": "d10ab849",
   "metadata": {},
   "source": [
    "**C-3 Date**\n",
    "\n",
    "Create a Binary variable:\n",
    "- 0 if C-3 date is missing\n",
    "- 1 if C-3 date exists"
   ]
  },
  {
   "cell_type": "code",
   "execution_count": 27,
   "id": "4351e5d6",
   "metadata": {
    "ExecuteTime": {
     "end_time": "2024-12-11T22:20:33.315316Z",
     "start_time": "2024-12-11T22:20:33.266702Z"
    }
   },
   "outputs": [],
   "source": [
    "X_train['C-3 Date Binary'] = X_train['C-3 Date'].notna().astype(int)\n",
    "X_val['C-3 Date Binary'] = X_val['C-3 Date'].notna().astype(int)\n",
    "test['C-3 Date Binary'] = test['C-3 Date'].notna().astype(int)"
   ]
  },
  {
   "cell_type": "markdown",
   "id": "c5123dc0",
   "metadata": {},
   "source": [
    "**First Hearing Date**\n",
    "\n",
    "Create a Binary variable:\n",
    "- 0 if First Hearing Date is missing\n",
    "- 1 if First Hearing Date exists"
   ]
  },
  {
   "cell_type": "code",
   "execution_count": 28,
   "id": "c953f07b",
   "metadata": {
    "ExecuteTime": {
     "end_time": "2024-12-11T22:20:33.379334Z",
     "start_time": "2024-12-11T22:20:33.327136Z"
    }
   },
   "outputs": [],
   "source": [
    "X_train['First Hearing Date Binary'] = X_train['First Hearing Date'].notna().astype(int)\n",
    "X_val['First Hearing Date Binary'] = X_val['First Hearing Date'].notna().astype(int)\n",
    "test['First Hearing Date Binary'] = test['First Hearing Date'].notna().astype(int)"
   ]
  },
  {
   "cell_type": "markdown",
   "id": "985a9fa1",
   "metadata": {},
   "source": [
    "Remove transformed features."
   ]
  },
  {
   "cell_type": "code",
   "execution_count": 29,
   "id": "0d627fd6",
   "metadata": {
    "ExecuteTime": {
     "end_time": "2024-12-11T22:20:33.386374Z",
     "start_time": "2024-12-11T22:20:33.382435Z"
    }
   },
   "outputs": [],
   "source": [
    "drop = ['C-3 Date', 'First Hearing Date']"
   ]
  },
  {
   "cell_type": "code",
   "execution_count": 30,
   "id": "cf0381d9",
   "metadata": {
    "ExecuteTime": {
     "end_time": "2024-12-11T22:20:33.621833Z",
     "start_time": "2024-12-11T22:20:33.393309Z"
    }
   },
   "outputs": [],
   "source": [
    "X_train.drop(columns = drop, axis = 1, inplace = True)\n",
    "X_val.drop(columns = drop, axis = 1, inplace = True)\n",
    "test.drop(columns = drop, axis = 1, inplace = True)"
   ]
  },
  {
   "cell_type": "markdown",
   "id": "ad280aba",
   "metadata": {},
   "source": [
    "### 2.2.2 Filling Missing Values\n",
    "\n",
    "In this subsection we will deal with missing values by filling them with constants, statistical methods and using predictive models."
   ]
  },
  {
   "cell_type": "markdown",
   "id": "6a1e0ced",
   "metadata": {},
   "source": [
    "**IME-4 Count**\n",
    "\n",
    "Since IME-4 Count represents the number of IME-4 forms received per claim, we considered that a missing value represented 0 received forms, hence we will fill them with 0."
   ]
  },
  {
   "cell_type": "code",
   "execution_count": 31,
   "id": "a801e287",
   "metadata": {
    "ExecuteTime": {
     "end_time": "2024-12-11T22:20:33.642498Z",
     "start_time": "2024-12-11T22:20:33.624189Z"
    }
   },
   "outputs": [],
   "source": [
    "X_train['IME-4 Count'] = X_train['IME-4 Count'].fillna(0)\n",
    "X_val['IME-4 Count'] = X_val['IME-4 Count'].fillna(0)\n",
    "test['IME-4 Count'] = test['IME-4 Count'].fillna(0)"
   ]
  },
  {
   "cell_type": "markdown",
   "id": "05e9590c",
   "metadata": {},
   "source": [
    "**Industry Code**\n",
    "\n",
    "Assuming that a missing value in Industry Code represents an unknown code, it will be filled with 0."
   ]
  },
  {
   "cell_type": "code",
   "execution_count": 32,
   "id": "cb9a5170",
   "metadata": {
    "ExecuteTime": {
     "end_time": "2024-12-11T22:20:33.664988Z",
     "start_time": "2024-12-11T22:20:33.645246Z"
    }
   },
   "outputs": [],
   "source": [
    "X_train['Industry Code'] = X_train['Industry Code'].fillna(0)\n",
    "X_val['Industry Code'] = X_val['Industry Code'].fillna(0)\n",
    "test['Industry Code'] = test['Industry Code'].fillna(0)"
   ]
  },
  {
   "cell_type": "markdown",
   "id": "8f982674",
   "metadata": {},
   "source": [
    "**Accident Date** & **C-2 Date**\n",
    "\n",
    "Fill Year, Month and Day with median. Then recompute full date and from there fill missing values in Day of Week"
   ]
  },
  {
   "cell_type": "code",
   "execution_count": 33,
   "id": "5a47e162",
   "metadata": {
    "ExecuteTime": {
     "end_time": "2024-12-11T22:20:34.732426Z",
     "start_time": "2024-12-11T22:20:33.667504Z"
    }
   },
   "outputs": [],
   "source": [
    "p.fill_dates(X_train, [X_val, test], 'Accident Date')\n",
    "p.fill_dates(X_train, [X_val, test], 'C-2 Date')"
   ]
  },
  {
   "cell_type": "markdown",
   "id": "527385aa",
   "metadata": {},
   "source": [
    "Identify missing values and recompute Accident Date and C-2 Date to fill Day of the week"
   ]
  },
  {
   "cell_type": "code",
   "execution_count": 34,
   "id": "3e1978bb",
   "metadata": {
    "ExecuteTime": {
     "end_time": "2024-12-11T22:20:36.098976Z",
     "start_time": "2024-12-11T22:20:34.735099Z"
    }
   },
   "outputs": [],
   "source": [
    "p.fill_dow([X_train, X_val, test], 'Accident Date')\n",
    "p.fill_dow([X_train, X_val, test], 'C-2 Date')"
   ]
  },
  {
   "cell_type": "markdown",
   "id": "96253a64",
   "metadata": {},
   "source": [
    "**Time Between**\n",
    "\n",
    "Fill missing values with the recomputed times using the medians computed above."
   ]
  },
  {
   "cell_type": "code",
   "execution_count": 35,
   "id": "ace757c0",
   "metadata": {
    "ExecuteTime": {
     "end_time": "2024-12-11T22:20:43.257305Z",
     "start_time": "2024-12-11T22:20:36.101670Z"
    }
   },
   "outputs": [],
   "source": [
    "X_train = p.fill_missing_times(X_train, ['Accident to Assembly Time', \n",
    "                             'Assembly to C-2 Time',\n",
    "                             'Accident to C-2 Time'])\n",
    "\n",
    "X_val = p.fill_missing_times(X_val, ['Accident to Assembly Time', \n",
    "                             'Assembly to C-2 Time',\n",
    "                             'Accident to C-2 Time'])\n",
    "\n",
    "test = p.fill_missing_times(test, ['Accident to Assembly Time', \n",
    "                             'Assembly to C-2 Time',\n",
    "                             'Accident to C-2 Time'])"
   ]
  },
  {
   "cell_type": "markdown",
   "id": "9b19ee00",
   "metadata": {},
   "source": [
    "**Birth Year**\n",
    "\n",
    "To fill the missing values, we will start by creating a mask, which filters for observations where `Age at Injury` and `Accident Date Year` are not missing, and when `Birth Year` is either missing or zero. Since we are going to use `Age at Injury` and `Accident Date Year` to compute `Birth Year`, ensuring those two variables are no missing is crucial. Then, we also decided to recompute the `Birth Year` when it is 0, since it is impossible to have 0 as a `Birth Year`."
   ]
  },
  {
   "cell_type": "code",
   "execution_count": 36,
   "id": "e22b9918",
   "metadata": {
    "ExecuteTime": {
     "end_time": "2024-12-11T22:20:43.397102Z",
     "start_time": "2024-12-11T22:20:43.259849Z"
    }
   },
   "outputs": [],
   "source": [
    "p.fill_birth_year([X_train, X_val, test])"
   ]
  },
  {
   "cell_type": "markdown",
   "id": "79f3d400",
   "metadata": {},
   "source": [
    "**Average Weekly Wage**"
   ]
  },
  {
   "cell_type": "code",
   "execution_count": 37,
   "id": "559d2e0d",
   "metadata": {
    "ExecuteTime": {
     "end_time": "2024-12-11T22:22:14.425693Z",
     "start_time": "2024-12-11T22:20:43.399955Z"
    },
    "scrolled": true
   },
   "outputs": [],
   "source": [
    "p.ball_tree_impute([X_train, X_val, test], 'Average Weekly Wage')"
   ]
  },
  {
   "cell_type": "markdown",
   "id": "ce6a0f05",
   "metadata": {},
   "source": [
    "Having treated all missing values, we will create one last feature\n",
    "\n",
    "**Wage to Age Ratio**"
   ]
  },
  {
   "cell_type": "code",
   "execution_count": 38,
   "id": "8e784c25",
   "metadata": {
    "ExecuteTime": {
     "end_time": "2024-12-11T22:22:14.440937Z",
     "start_time": "2024-12-11T22:22:14.428153Z"
    }
   },
   "outputs": [],
   "source": [
    "X_train['Wage to Age Ratio'] = np.where(X_train['Age at Injury'] != 0,\n",
    "                                         X_train['Average Weekly Wage'] / X_train['Age at Injury'],\n",
    "                                         0)\n",
    "\n",
    "X_val['Wage to Age Ratio'] = np.where(X_val['Age at Injury'] != 0,\n",
    "                                         X_val['Average Weekly Wage'] / X_val['Age at Injury'],\n",
    "                                         0)\n",
    "\n",
    "test['Wage to Age Ratio'] = np.where(test['Age at Injury'] != 0,\n",
    "                                         test['Average Weekly Wage'] / test['Age at Injury'],\n",
    "                                         0)"
   ]
  },
  {
   "cell_type": "markdown",
   "id": "4b86d837",
   "metadata": {},
   "source": [
    "# 2.3 Outliers\n",
    "\n",
    "<a href=\"#top\">Top &#129033;</a>"
   ]
  },
  {
   "cell_type": "code",
   "execution_count": null,
   "id": "17e14e96",
   "metadata": {},
   "outputs": [],
   "source": [
    "# 2. Train-Test Split\n",
    "The train-test split is a crucial technique used to assess model performance by dividing the dataset into training and testing subsets. This ensures that the model is evaluated on unseen data, helping to prevent overfitting and providing an unbiased performance estimate. \n",
    "\n",
    "<a href=\"#top\">Top &#129033;</a>\n",
    "\n",
    "**Holdout Method**\n",
    "\n",
    "# Split the DataFrame into features (X) and target variable (y)\n",
    "X = df.drop('Claim Injury Type', axis=1) \n",
    "y = df['Claim Injury Type']  \n",
    "\n",
    "# Split the dataset into training and validation sets\n",
    "X_train, X_val, y_train, y_val = train_test_split(X, y, \n",
    "                                                    test_size=0.2, \n",
    "                                                    random_state=42,\n",
    "                                                    stratify = y) \n",
    "\n",
    "\n",
    "## 2.1 Feature Engineering\n",
    "\n",
    "<a href=\"#top\">Top &#129033;</a>\n",
    "\n",
    "### 2.1.1 Encoding\n",
    "\n",
    "Encoding transforms categorical data into numerical format for use in machine learning models. For this section, several encoders were considered:\n",
    "- **One Hot Encoding** -  turns a variable that is stored in a column into dummy variables stored over multiple columns and represented as 0s and 1s\n",
    "- **Frequency Encoding** - replaces the categories by with their proportion in the dataset\n",
    "- **Count Encoding** - replaces the categories by the number of times they appear in the dataset \n",
    "- **Manual Mapping Encoding** - manually attribute values to each category\n",
    "\n",
    "**Alternative Dispute Resolution**\n",
    "\n",
    "Knowing that 'N' is by far the most common category, and that 'U' only appears 5 times in DF data and 1 time in the test data, we decided to join 'U' and 'Y' into 'Y/U', and encode the variable as:\n",
    "- 0 - N\n",
    "- 1 - Y/U\n",
    "\n",
    "print(X_train['Alternative Dispute Resolution'].value_counts())\n",
    "print(' ')\n",
    "print(test['Alternative Dispute Resolution'].value_counts())\n",
    "\n",
    "X_train['Alternative Dispute Resolution Bin'] = X_train['Alternative Dispute Resolution'].replace({'N': 0, 'Y': 1, 'U': 1})\n",
    "X_val['Alternative Dispute Resolution Bin'] = X_val['Alternative Dispute Resolution'].replace({'N': 0, 'Y': 1, 'U': 1})\n",
    "test['Alternative Dispute Resolution Bin'] = test['Alternative Dispute Resolution'].replace({'N': 0, 'Y': 1, 'U': 1})\n",
    "\n",
    "**Attorney/Representative**\n",
    "\n",
    "As this variable only has 2 categories, they will be encoded as follows:\n",
    "- N - 0\n",
    "- Y - 1\n",
    "\n",
    "print(X_train['Attorney/Representative'].value_counts())\n",
    "print(' ')\n",
    "print(test['Attorney/Representative'].value_counts())\n",
    "\n",
    "X_train['Attorney/Representative Bin'] = X_train['Attorney/Representative'].replace({'N': 0, 'Y': 1})\n",
    "X_val['Attorney/Representative Bin'] = X_val['Attorney/Representative'].replace({'N': 0, 'Y': 1})\n",
    "test['Attorney/Representative Bin'] = test['Attorney/Representative'].replace({'N': 0, 'Y': 1})\n",
    "\n",
    "**Carrier Name**\n",
    "\n",
    "As Carrier name has a considerable amount of unique values, it will be encoded using Count Encoder.\n",
    "\n",
    "We will start by analysing the common Carriers between train and test sets\n",
    "\n",
    "train_carriers = set(X_train['Carrier Name'].unique())\n",
    "test_carriers = set(test['Carrier Name'].unique())\n",
    "\n",
    "common_categories = train_carriers.intersection(test_carriers)\n",
    "\n",
    "Then map the common categories to an index\n",
    "\n",
    "common_category_map = {category: idx + 1 for idx, \n",
    "                       category in enumerate(common_categories)}\n",
    "\n",
    "Fill the non-common categories with 0\n",
    "\n",
    "X_train['Carrier Name Enc'] = X_train['Carrier Name'].map(common_category_map).fillna(0).astype(int)\n",
    "X_val['Carrier Name Enc'] = X_val['Carrier Name'].map(common_category_map).fillna(0).astype(int)\n",
    "test['Carrier Name Enc'] = test['Carrier Name'].map(common_category_map).fillna(0).astype(int)\n",
    "\n",
    "Encode de common categores using *Count Encoding*\n",
    "\n",
    "X_train, X_val, test = p.encode(X_train, X_val, test, 'Carrier Name Enc', 'count')\n",
    "\n",
    "**Carrier Type**\n",
    "\n",
    "After grouping the *5.* categories we decided to encode them in 2 distinct ways, and choose the best option in feature selection.\n",
    "\n",
    "Starting with *Count Encoding*\n",
    "\n",
    "X_train, X_val, test = p.encode(X_train, X_val, test, 'Carrier Type', 'count')\n",
    "\n",
    "And *One-Hot-Encoding*\n",
    "\n",
    "X_train, X_val, test = p.encode(X_train, X_val, test, 'Carrier Type', 'OHE')\n",
    "\n",
    "**County of Injury**\n",
    "\n",
    "As County of Injury has a considerable amount of unique values, it will be encoded using Count Encoder.\n",
    "\n",
    "X_train, X_val, test = p.encode(X_train, X_val, test, 'County of Injury', 'count')\n",
    "\n",
    "**COVID-19 Indicator**\n",
    "\n",
    "As this variable only has 2 categories, they will be encoded as follows:\n",
    "- N - 0\n",
    "- Y - 1\n",
    "\n",
    "print(X_train['COVID-19 Indicator'].value_counts())\n",
    "print(' ')\n",
    "print(test['COVID-19 Indicator'].value_counts())\n",
    "\n",
    "X_train['COVID-19 Indicator Enc'] = X_train['COVID-19 Indicator'].replace({'N': 0, 'Y': 1})\n",
    "X_val['COVID-19 Indicator Enc'] = X_val['COVID-19 Indicator'].replace({'N': 0, 'Y': 1})\n",
    "test['COVID-19 Indicator Enc'] = test['COVID-19 Indicator'].replace({'N': 0, 'Y': 1})\n",
    "\n",
    "**District Name**\n",
    "\n",
    "As this variable has 8 unique values, Count Encoder will be used.\n",
    "\n",
    "print(X_train['District Name'].value_counts())\n",
    "print(' ')\n",
    "print(test['District Name'].value_counts())\n",
    "\n",
    "X_train, X_val, test = p.encode(X_train, X_val, test, 'District Name', 'count')\n",
    "\n",
    "**Gender**\n",
    "\n",
    "Since after grouping we only have 3 categories, we will also use *One-Hot-Encoding* and decide which is better in feature selection.\n",
    "\n",
    "X_train, X_val, test = p.encode(X_train, X_val, test, 'Gender', 'OHE')\n",
    "\n",
    "**Medical Fee Region**\n",
    "\n",
    "Even though this variable only contains 5 unique values, it is not clear whether there is an order between them or not. Therefore we will use *Count Encoding*\n",
    "\n",
    "print(df['Medical Fee Region'].value_counts())\n",
    "print(' ')\n",
    "print(test['Medical Fee Region'].value_counts())\n",
    "\n",
    "X_train, X_val, test = p.encode(X_train, X_val, test, 'Medical Fee Region', 'count')\n",
    "\n",
    "**Industry Sector**\n",
    "\n",
    "Since it contains too many categories to use OHE, we will use *Count Encoding*\n",
    "\n",
    "X_train, X_val, test = p.encode(X_train, X_val, test, 'Industry Sector', 'count')\n",
    "\n",
    "Remove Encoded Variables\n",
    "\n",
    "drop = ['Alternative Dispute Resolution', 'Attorney/Representative', 'Carrier Type', 'County of Injury',\n",
    "        'COVID-19 Indicator', 'District Name', 'Gender', 'Carrier Name',\n",
    "        'Medical Fee Region', 'Industry Sector']\n",
    "\n",
    "X_train.drop(columns = drop, axis = 1, inplace = True)\n",
    "X_val.drop(columns = drop, axis = 1, inplace = True)\n",
    "test.drop(columns = drop, axis = 1, inplace = True)\n",
    "\n",
    "# 2.2 Missing Values\n",
    "\n",
    "<a href=\"#top\">Top &#129033;</a>\n",
    "\n",
    "X_train.isna().sum()\n",
    "\n",
    "### 2.2.1 Dealing with Missing Values\n",
    "\n",
    "In this subsection we will use the existence of missing values to create new features\n",
    "\n",
    "**C-3 Date**\n",
    "\n",
    "Create a Binary variable:\n",
    "- 0 if C-3 date is missing\n",
    "- 1 if C-3 date exists\n",
    "\n",
    "X_train['C-3 Date Binary'] = X_train['C-3 Date'].notna().astype(int)\n",
    "X_val['C-3 Date Binary'] = X_val['C-3 Date'].notna().astype(int)\n",
    "test['C-3 Date Binary'] = test['C-3 Date'].notna().astype(int)\n",
    "\n",
    "**First Hearing Date**\n",
    "\n",
    "Create a Binary variable:\n",
    "- 0 if First Hearing Date is missing\n",
    "- 1 if First Hearing Date exists\n",
    "\n",
    "X_train['First Hearing Date Binary'] = X_train['First Hearing Date'].notna().astype(int)\n",
    "X_val['First Hearing Date Binary'] = X_val['First Hearing Date'].notna().astype(int)\n",
    "test['First Hearing Date Binary'] = test['First Hearing Date'].notna().astype(int)\n",
    "\n",
    "Remove transformed features.\n",
    "\n",
    "drop = ['C-3 Date', 'First Hearing Date']\n",
    "\n",
    "X_train.drop(columns = drop, axis = 1, inplace = True)\n",
    "X_val.drop(columns = drop, axis = 1, inplace = True)\n",
    "test.drop(columns = drop, axis = 1, inplace = True)\n",
    "\n",
    "### 2.2.2 Filling Missing Values\n",
    "\n",
    "In this subsection we will deal with missing values by filling them with constants, statistical methods and using predictive models.\n",
    "\n",
    "**IME-4 Count**\n",
    "\n",
    "Since IME-4 Count represents the number of IME-4 forms received per claim, we considered that a missing value represented 0 received forms, hence we will fill them with 0.\n",
    "\n",
    "X_train['IME-4 Count'] = X_train['IME-4 Count'].fillna(0)\n",
    "X_val['IME-4 Count'] = X_val['IME-4 Count'].fillna(0)\n",
    "test['IME-4 Count'] = test['IME-4 Count'].fillna(0)\n",
    "\n",
    "**Industry Code**\n",
    "\n",
    "Assuming that a missing value in Industry Code represents an unknown code, it will be filled with 0.\n",
    "\n",
    "X_train['Industry Code'] = X_train['Industry Code'].fillna(0)\n",
    "X_val['Industry Code'] = X_val['Industry Code'].fillna(0)\n",
    "test['Industry Code'] = test['Industry Code'].fillna(0)\n",
    "\n",
    "**Accident Date** & **C-2 Date**\n",
    "\n",
    "Fill Year, Month and Day with median. Then recompute full date and from there fill missing values in Day of Week\n",
    "\n",
    "p.fill_dates(X_train, [X_val, test], 'Accident Date')\n",
    "p.fill_dates(X_train, [X_val, test], 'C-2 Date')\n",
    "\n",
    "Identify missing values and recompute Accident Date and C-2 Date to fill Day of the week\n",
    "\n",
    "p.fill_dow([X_train, X_val, test], 'Accident Date')\n",
    "p.fill_dow([X_train, X_val, test], 'C-2 Date')\n",
    "\n",
    "**Time Between**\n",
    "\n",
    "Fill missing values with the recomputed times using the medians computed above.\n",
    "\n",
    "X_train = p.fill_missing_times(X_train, ['Accident to Assembly Time', \n",
    "                             'Assembly to C-2 Time',\n",
    "                             'Accident to C-2 Time'])\n",
    "\n",
    "X_val = p.fill_missing_times(X_val, ['Accident to Assembly Time', \n",
    "                             'Assembly to C-2 Time',\n",
    "                             'Accident to C-2 Time'])\n",
    "\n",
    "test = p.fill_missing_times(test, ['Accident to Assembly Time', \n",
    "                             'Assembly to C-2 Time',\n",
    "                             'Accident to C-2 Time'])\n",
    "\n",
    "**Birth Year**\n",
    "\n",
    "To fill the missing values, we will start by creating a mask, which filters for observations where `Age at Injury` and `Accident Date Year` are not missing, and when `Birth Year` is either missing or zero. Since we are going to use `Age at Injury` and `Accident Date Year` to compute `Birth Year`, ensuring those two variables are no missing is crucial. Then, we also decided to recompute the `Birth Year` when it is 0, since it is impossible to have 0 as a `Birth Year`.\n",
    "\n",
    "p.fill_birth_year([X_train, X_val, test])\n",
    "\n",
    "**Average Weekly Wage**\n",
    "\n",
    "p.ball_tree_impute([X_train, X_val, test], 'Average Weekly Wage')\n",
    "\n",
    "Having treated all missing values, we will create one last feature\n",
    "\n",
    "**Wage to Age Ratio**\n",
    "\n",
    "X_train['Wage to Age Ratio'] = np.where(X_train['Age at Injury'] != 0,\n",
    "                                         X_train['Average Weekly Wage'] / X_train['Age at Injury'],\n",
    "                                         0)\n",
    "\n",
    "X_val['Wage to Age Ratio'] = np.where(X_val['Age at Injury'] != 0,\n",
    "                                         X_val['Average Weekly Wage'] / X_val['Age at Injury'],\n",
    "                                         0)\n",
    "\n",
    "test['Wage to Age Ratio'] = np.where(test['Age at Injury'] != 0,\n",
    "                                         test['Average Weekly Wage'] / test['Age at Injury'],\n",
    "                                         0)\n",
    "\n",
    "# 2.3 Outliers\n",
    "\n",
    "<a href=\"#top\">Top &#129033;</a>"
   ]
  }
 ],
 "metadata": {
  "kernelspec": {
   "display_name": "Python 3 (ipykernel)",
   "language": "python",
   "name": "python3"
  },
  "language_info": {
   "codemirror_mode": {
    "name": "ipython",
    "version": 3
   },
   "file_extension": ".py",
   "mimetype": "text/x-python",
   "name": "python",
   "nbconvert_exporter": "python",
   "pygments_lexer": "ipython3",
   "version": "3.10.8"
  }
 },
 "nbformat": 4,
 "nbformat_minor": 5
}
