{
 "cells": [
  {
   "cell_type": "markdown",
   "id": "ee3a6e3f",
   "metadata": {},
   "source": [
    "**RFE with Cross Validation**"
   ]
  },
  {
   "cell_type": "markdown",
   "id": "4ed9c881",
   "metadata": {},
   "source": [
    "| Model | Features                               | macro-F1 |\n",
    "| ----- | -------------------------------------- | -------- |\n",
    "| RF    | final_num + final_categ                | 0.38     |\n",
    "| RF    | final_num + final_categ + [try_num[0]] | 0.39     |\n",
    "| RF    | final_num + final_categ + [try_num[1]] | 0.39     |\n",
    "| RF    | final_num + final_categ + [try_num[2]] | 0.39     |\n",
    "| ----- | ----------------------- | -------- |\n",
    "| ----- | ----------------------- | -------- |"
   ]
  },
  {
   "cell_type": "code",
   "execution_count": null,
   "id": "aa18eb75",
   "metadata": {
    "ExecuteTime": {
     "end_time": "2024-11-08T11:42:15.533335Z",
     "start_time": "2024-11-08T11:42:15.533322Z"
    }
   },
   "outputs": [],
   "source": [
    "# experiment with RFECV\n",
    "\n",
    "from sklearn.feature_selection import RFECV\n",
    "from sklearn.linear_model import LogisticRegression\n",
    "from sklearn.metrics import classification_report, f1_score\n",
    "from sklearn.model_selection import StratifiedKFold\n",
    "\n",
    "def rfe_cv(X, y, model=None, cv = 5):\n",
    "    \n",
    "    best_score = 0\n",
    "    best_features = []\n",
    "\n",
    "    results = {}\n",
    "    \n",
    "    for feature in n_features:\n",
    "        \n",
    "        # Perform RFE to select features\n",
    "        rfe_cv = RFECV(estimator=model, step=1, cv=StratifiedKFold(cv), scoring='f1_macro')\n",
    "    \n",
    "        rfe_cv.fit(X, y)\n",
    "\n",
    "        # Get selected features\n",
    "        selected_features = X.columns[rfe_cv.support_]\n",
    "        \n",
    "        # Model predictions and classification report on the training set with selected features\n",
    "        y_pred = rfe_cv.predict(X)\n",
    "        print(f\"Classification Report for {feature} features:\\n\")\n",
    "        print(classification_report(y, y_pred))\n",
    "        \n",
    "        # Calculate the macro average F1 score\n",
    "        macro_f1 = f1_score(y, y_pred, average='macro')\n",
    "        print(f\"Macro Avg F1 Score for {feature} features: {macro_f1:.4f}\\n\")\n",
    "        \n",
    "        # Store the results\n",
    "        results[feature] = selected_features\n",
    "        \n",
    "        # Check if this is the best score\n",
    "        if macro_f1 > best_score:\n",
    "            best_score = macro_f1\n",
    "            best_features = selected_features.tolist()  \n",
    "    \n",
    "    return best_features\n"
   ]
  },
  {
   "cell_type": "code",
   "execution_count": null,
   "id": "7920393b",
   "metadata": {
    "ExecuteTime": {
     "end_time": "2024-11-08T11:42:15.534684Z",
     "start_time": "2024-11-08T11:42:15.534668Z"
    }
   },
   "outputs": [],
   "source": [
    "model = LogisticRegression()\n",
    "cv = 5\n",
    "rfe_cv(X_train_RS, y_train,\n",
    "       model = model, cv = cv)"
   ]
  },
  {
   "cell_type": "markdown",
   "id": "88a951ce",
   "metadata": {},
   "source": [
    "## 4.5 Hybrid Methods\n",
    "\n",
    "<a href=\"#top\">Top &#129033;</a>"
   ]
  },
  {
   "cell_type": "markdown",
   "id": "935861c8",
   "metadata": {},
   "source": [
    "**Boruta**"
   ]
  },
  {
   "cell_type": "code",
   "execution_count": null,
   "id": "3d217d9a",
   "metadata": {
    "ExecuteTime": {
     "end_time": "2024-11-08T11:42:15.538827Z",
     "start_time": "2024-11-08T11:42:15.538815Z"
    }
   },
   "outputs": [],
   "source": [
    "from boruta import BorutaPy"
   ]
  },
  {
   "cell_type": "code",
   "execution_count": null,
   "id": "6d6c575d",
   "metadata": {
    "ExecuteTime": {
     "end_time": "2024-11-08T11:42:15.540376Z",
     "start_time": "2024-11-08T11:42:15.540361Z"
    }
   },
   "outputs": [],
   "source": [
    "def boruta(X_num, X_categ, y, n_estimators=250, \n",
    "                                      random_state=42, threshold=5):\n",
    "    \n",
    "    # Concatenate scaled and categorical features\n",
    "    X_comb = pd.concat([X_num, X_categ], axis=1)\n",
    "\n",
    "    # Define and fit Boruta with RandomForest\n",
    "    rf_model = RandomForestClassifier(n_estimators=n_estimators, random_state=random_state)\n",
    "    boruta_selector = BorutaPy(rf_model, n_estimators='auto', random_state=random_state)\n",
    "    boruta_selector.fit(X_comb.values, y.values)\n",
    "\n",
    "    # Get selected features based on Boruta selection\n",
    "    selected_features = X_comb.columns[boruta_selector.support_].tolist()\n",
    "    print(\"Selected features:\", selected_features)\n",
    "\n",
    "    # Retrieve feature importances from the Boruta results\n",
    "    feature_importance = rf_model.feature_importances_[boruta_selector.support_]\n",
    "    feature_importance = 100.0 * (feature_importance / feature_importance.max())\n",
    "\n",
    "    # Sort indices of features based on importance\n",
    "    sorted_idx = np.argsort(feature_importance)\n",
    "    pos = np.arange(sorted_idx.shape[0]) + 0.5\n",
    "\n",
    "    # Plot feature importances\n",
    "    plt.figure(figsize=(12, 8))\n",
    "    plt.barh(pos, feature_importance[sorted_idx], align='center')\n",
    "    plt.yticks(pos, np.array(selected_features)[sorted_idx])\n",
    "    plt.xlabel('Relative Importance')\n",
    "    plt.title('Feature Importance of Selected Features Using Boruta')\n",
    "    \n",
    "    # Draw a line at the importance threshold\n",
    "    plt.axvline(x=threshold, color='red', linestyle='--', label=f'{threshold}% Importance Threshold')\n",
    "    plt.legend()\n",
    "    plt.show()"
   ]
  },
  {
   "cell_type": "code",
   "execution_count": null,
   "id": "5ee6108d",
   "metadata": {
    "ExecuteTime": {
     "end_time": "2024-11-08T11:42:15.541729Z",
     "start_time": "2024-11-08T11:42:15.541716Z"
    }
   },
   "outputs": [],
   "source": [
    "boruta(X_train_RS, X_train[categ], y_train, \n",
    "                        n_estimators = 10)"
   ]
  },
  {
   "cell_type": "code",
   "execution_count": null,
   "id": "76aff32e",
   "metadata": {},
   "outputs": [],
   "source": [
    "# rfe_LR = ['Age at Injury',\n",
    "#  'Average Weekly Wage',\n",
    "#  'Birth Year',\n",
    "#  'IME-4 Count',\n",
    "#  'IME-4 Count Log',\n",
    "#  'Accident Year',\n",
    "#  'Accident Month',\n",
    "#  'Assembly Year',\n",
    "#  'Assembly Month',\n",
    "#  'Assembly Day',\n",
    "#  'C-2 Year',\n",
    "#  'C-2 Month',\n",
    "#  'C-2 Day',\n",
    "#  'First Hearing Year']\n",
    "\n",
    "\n",
    "# rfe_RF = ['Age at Injury',\n",
    "#  'Average Weekly Wage',\n",
    "#  'Birth Year',\n",
    "#  'IME-4 Count',\n",
    "#  'IME-4 Count Log',\n",
    "#  'Number of Dependents',\n",
    "#  'Accident Year',\n",
    "#  'Accident Month',\n",
    "#  'Accident Day',\n",
    "#  'Assembly Year',\n",
    "#  'Assembly Month',\n",
    "#  'Assembly Day',\n",
    "#  'C-2 Year',\n",
    "#  'C-2 Month',\n",
    "#  'C-2 Day',\n",
    "#  'First Hearing Year']\n",
    "\n",
    "\n"
   ]
  },
  {
   "cell_type": "markdown",
   "id": "ec83ed75",
   "metadata": {},
   "source": [
    "try all combos code"
   ]
  },
  {
   "cell_type": "code",
   "execution_count": null,
   "id": "1c23ab1e",
   "metadata": {},
   "outputs": [],
   "source": [
    "import itertools\n",
    "from sklearn.metrics import f1_score\n",
    "\n",
    "results = {}\n",
    "\n",
    "# Loop over all combinations of try_num and try_categ\n",
    "for num_combination_size in range(len(try_num) + 1):\n",
    "    for categ_combination_size in range(len(try_categ) + 1):\n",
    "        # Get all combinations of specified size for try_num and try_categ\n",
    "        num_combinations = list(itertools.combinations(try_num, num_combination_size))\n",
    "        categ_combinations = list(itertools.combinations(try_categ, categ_combination_size))\n",
    "        \n",
    "        for num_subset in num_combinations:\n",
    "            for categ_subset in categ_combinations:\n",
    "                # Create the feature set by combining final and selected try features\n",
    "                selected_features = final_num + final_categ + list(num_subset) + list(categ_subset)\n",
    "                \n",
    "                # Subset the data\n",
    "                X_train_subset = X_train[selected_features]\n",
    "                X_val_subset = X_val[selected_features]\n",
    "                \n",
    "                # Train the Random Forest model and evaluate on the test set\n",
    "                rf = RandomForestClassifier(random_state = 1)\n",
    "                rf.fit(X_train_subset, y_train)\n",
    "                \n",
    "                train_pred_rf = rf.predict(X_train_subset)\n",
    "                val_pred_rf = rf.predict(X_val_subset)\n",
    "                \n",
    "                class_report = m.metrics(y_train, train_pred_rf, y_val, val_pred_rf)\n",
    "                # Calculate macro F1 score\n",
    "                f1_macro = f1_score(y_val, val_pred_rf, average=\"macro\")\n",
    "\n",
    "                \n",
    "                # Store the f1_macro with the feature set as the key\n",
    "                results[f\"{num_subset} + {categ_subset}\"] = f1_macro\n",
    "                \n",
    "                print(f\"Combination: {num_subset} + {categ_subset} | Macro F1 Score: {f1_macro}\")\n"
   ]
  },
  {
   "cell_type": "code",
   "execution_count": null,
   "id": "f4bf7092",
   "metadata": {},
   "outputs": [],
   "source": [
    "best_features = max(results, key=results.get)\n",
    "print(\"Best feature combination:\", best_features)\n",
    "print(\"Best macro F1 score:\", results[best_features])"
   ]
  }
 ],
 "metadata": {
  "kernelspec": {
   "display_name": "Python 3 (ipykernel)",
   "language": "python",
   "name": "python3"
  },
  "language_info": {
   "codemirror_mode": {
    "name": "ipython",
    "version": 3
   },
   "file_extension": ".py",
   "mimetype": "text/x-python",
   "name": "python",
   "nbconvert_exporter": "python",
   "pygments_lexer": "ipython3",
   "version": "3.10.13"
  }
 },
 "nbformat": 4,
 "nbformat_minor": 5
}
